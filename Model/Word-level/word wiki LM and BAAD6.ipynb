{
 "cells": [
  {
   "cell_type": "markdown",
   "metadata": {
    "colab_type": "text",
    "id": "5KFJ_JA5tFP7"
   },
   "source": [
    "## Preparing the data"
   ]
  },
  {
   "cell_type": "code",
   "execution_count": null,
   "metadata": {
    "colab": {
     "base_uri": "https://localhost:8080/",
     "height": 836
    },
    "colab_type": "code",
    "id": "OGa-bgsytFPI",
    "outputId": "48ca438a-776a-4f8b-84c0-d4286c3b75fd"
   },
   "outputs": [],
   "source": [
    "!pip install fastai==1.0.52\n",
    "from fastai import *\n",
    "from fastai.text import *"
   ]
  },
  {
   "cell_type": "code",
   "execution_count": 0,
   "metadata": {
    "colab": {
     "base_uri": "https://localhost:8080/",
     "height": 122
    },
    "colab_type": "code",
    "id": "9T6tFBp62HNa",
    "outputId": "50ec56d6-7d47-4a9e-ffbb-c8737583594b"
   },
   "outputs": [
    {
     "name": "stdout",
     "output_type": "stream",
     "text": [
      "Go to this URL in a browser: https://accounts.google.com/o/oauth2/auth?client_id=947318989803-6bn6qk8qdgf4n4g3pfee6491hc0brc4i.apps.googleusercontent.com&redirect_uri=urn%3Aietf%3Awg%3Aoauth%3A2.0%3Aoob&scope=email%20https%3A%2F%2Fwww.googleapis.com%2Fauth%2Fdocs.test%20https%3A%2F%2Fwww.googleapis.com%2Fauth%2Fdrive%20https%3A%2F%2Fwww.googleapis.com%2Fauth%2Fdrive.photos.readonly%20https%3A%2F%2Fwww.googleapis.com%2Fauth%2Fpeopleapi.readonly&response_type=code\n",
      "\n",
      "Enter your authorization code:\n",
      "··········\n",
      "Mounted at /content/gdrive\n"
     ]
    }
   ],
   "source": [
    "from google.colab import drive\n",
    "drive.mount('/content/gdrive')"
   ]
  },
  {
   "cell_type": "code",
   "execution_count": 0,
   "metadata": {
    "colab": {},
    "colab_type": "code",
    "id": "gcfgPh37tFQC"
   },
   "outputs": [],
   "source": [
    "import os\n",
    "path = Path(os.getcwd())\n",
    "path = path/'gdrive'/'My Drive'\n",
    "news=path/'Thesis Data'/'full doc csv'\n",
    "aa=path/'Thesis Data'/'Our dataset'\n",
    "aa2=path/'Thesis Data'/'AA dataset'\n",
    "wiki=path/'Thesis Data'/'wiki_data'/'Wiki'"
   ]
  },
  {
   "cell_type": "code",
   "execution_count": 0,
   "metadata": {
    "colab": {},
    "colab_type": "code",
    "id": "MNBGwpETtFh8"
   },
   "outputs": [],
   "source": [
    "bs=32"
   ]
  },
  {
   "cell_type": "markdown",
   "metadata": {
    "colab_type": "text",
    "id": "trXIN2R7tce7"
   },
   "source": [
    "## Wiki ULM"
   ]
  },
  {
   "cell_type": "markdown",
   "metadata": {
    "colab_type": "text",
    "id": "k7K_S2rftFh1"
   },
   "source": [
    "Note that language models can use a lot of GPU, so you may need to decrease batchsize here."
   ]
  },
  {
   "cell_type": "code",
   "execution_count": 0,
   "metadata": {
    "colab": {},
    "colab_type": "code",
    "id": "e433-Vbht4Ga"
   },
   "outputs": [],
   "source": [
    "# Language model data\n",
    "data_lm = TextLMDataBunch.from_csv(wiki , 'wiki_lm.csv', bs=bs)\n",
    "data_lm.save('wiki_word.pkl')"
   ]
  },
  {
   "cell_type": "code",
   "execution_count": 0,
   "metadata": {
    "colab": {},
    "colab_type": "code",
    "id": "6TxTxyr3tFjR"
   },
   "outputs": [],
   "source": [
    "data_lm = load_data(wiki, 'wiki_word.pkl' ,bs=bs)"
   ]
  },
  {
   "cell_type": "code",
   "execution_count": 0,
   "metadata": {
    "colab": {
     "base_uri": "https://localhost:8080/",
     "height": 306
    },
    "colab_type": "code",
    "id": "N1C5L_4OtFk8",
    "outputId": "26d993e6-25e2-46b8-de70-0ae6a0a0ba32"
   },
   "outputs": [
    {
     "data": {
      "text/html": [
       "<table border=\"1\" class=\"dataframe\">\n",
       "  <thead>\n",
       "    <tr style=\"text-align: right;\">\n",
       "      <th>idx</th>\n",
       "      <th>text</th>\n",
       "    </tr>\n",
       "  </thead>\n",
       "  <tbody>\n",
       "    <tr>\n",
       "      <td>0</td>\n",
       "      <td>ব্ল্যাক স্যাম বলা হয় কারণ তিনি তার লম্বা চুল পিছনে নেওয়ার জন্য এক ধরনের xxunk পাউডার ও চুলের ব্যান্ড ব্যবহার করতেন । xxunk সবসময় তার লুট করা জাহাজের বন্দিদের ক্ষমা করে দিতেন এবং জাহাজের লোকদের কোন প্রকার ক্ষতি করতেন না । এই চরিত্রের কারণে তিনি প্রিন্স অফ পাইরেট খেতাব অর্জন করেন । তিনি নিজেকে xxunk সাথে তুলনা করতেন এবং তার ক্রুরা নিজেদেরকে xxunk লোক বলে পরিচয় দিত । xxunk ১৬৮৯</td>\n",
       "    </tr>\n",
       "    <tr>\n",
       "      <td>1</td>\n",
       "      <td>বৃহত্তম অবদানকারী । 2008 সালের হিসাবে , মালদ্বীপের 89 টি রিসর্ট xxunk শয্যায় দেওয়া এবং বার্ষিক xxunk এরও বেশি পর্যটকদের হোস্ট করে । 1972 থেকে 2007 সাল পর্যন্ত xxunk সংখ্যা 2 থেকে xxunk এর মধ্যে বৃদ্ধি পেয়েছে । 2007 সাল নাগাদ , xxunk জন পর্যটক মালদ্বীপে গিয়েছিলেন । মালদ্বীপের xxunk ভিসার প্রি - আগমনের জন্য আবেদন করতে হবে না , তাদের দেশের উত্থান নির্বিশেষে , তাদের কাছে বৈধ পাসপোর্ট ,</td>\n",
       "    </tr>\n",
       "    <tr>\n",
       "      <td>2</td>\n",
       "      <td>গেরিলা আক্রমণ করার দুঃসাহসী এক সিদ্ধান্ত নিলেন । এরপর তাঁর নির্দেশে মো . সদর উদ্দিন xxunk মুক্তিযোদ্ধারা দ্রুত তৈরি হলেন । তাঁদের কাছে অস্ত্র বলতে হালকা অস্ত্র ; স্টেনগান ও রাইফেল । আর কয়েকটি হ্যান্ড গ্রেনেড । xxunk সামান্য । তাই সম্বল করে তাঁরা বেরিয়ে পড়লেন পাকিস্তানি সেনাদের খোঁজে । তাঁরা সেনাদের মুখোমুখি হলেন xxunk কাছে xxunk । xxunk সদর উপজেলার অন্তর্গত । দলনেতার নির্দেশে মো . সদর উদ্দিন আহমেদ</td>\n",
       "    </tr>\n",
       "    <tr>\n",
       "      <td>3</td>\n",
       "      <td>হিসেবে । তিনি একজন অবসরপ্রাপ্ত সেনাবাহিনীর কর্নেল যাঁর নেশা প্রকৃতির ছবি তোলা , পাখি দেখা এবং গাছ - xxunk সন্ধানে খুঁজে বেড়ানো । তিনি নিজেকে xxunk হিসেবে পরিচয় দিতে ভালবাসেন । পেশায় গোয়েন্দা নন কিন্তু ইচ্ছা এবং অনিচ্ছাকৃত ভাবে রহস্যে জড়িয়ে পড়লে তার সমাধান করেন । যেহেতু তিনি সেনাবাহিনী থেকে অবসরপ্রাপ্ত অফিসার , তাই দুর্গম এলাকায় যাওয়ার মতো সহিষ্ণু শরীর আর প্রশিক্ষণ দুই - ই তাঁর আছে । ফাদার xxunk</td>\n",
       "    </tr>\n",
       "    <tr>\n",
       "      <td>4</td>\n",
       "      <td>xxunk চরিত্রে অভিনয় করেন । ২০১৮ সালের আগস্টে ফারমিগা নিশ্চিত করেন তিনি আমেরিকান হরর xxunk ৮ম মৌসুমে অংশ নিবেন । \\n  xxbos xxunk বাংলাদেশের খাগড়াছড়ি জেলার অন্তর্গত দীঘিনালা উপজেলার একটি ইউনিয়ন । দীঘিনালা উপজেলার উত্তরাংশ জুড়ে xxunk ইউনিয়নের অবস্থান । এ ইউনিয়নের পূর্বে রাঙ্গামাটি জেলার বাঘাইছড়ি উপজেলার সাজেক ইউনিয়ন ; দক্ষিণে দীঘিনালা ইউনিয়ন ও বোয়ালখালী ইউনিয়ন ; পশ্চিমে পানছড়ি উপজেলার xxunk ইউনিয়ন , পানছড়ি ইউনিয়ন ও ভারতের ত্রিপুরা প্রদেশ</td>\n",
       "    </tr>\n",
       "  </tbody>\n",
       "</table>"
      ],
      "text/plain": [
       "<IPython.core.display.HTML object>"
      ]
     },
     "metadata": {
      "tags": []
     },
     "output_type": "display_data"
    }
   ],
   "source": [
    "data_lm.show_batch()"
   ]
  },
  {
   "cell_type": "code",
   "execution_count": 0,
   "metadata": {
    "colab": {},
    "colab_type": "code",
    "id": "hZEUYjJQtFmA"
   },
   "outputs": [],
   "source": [
    "learn = language_model_learner(data_lm, AWD_LSTM, pretrained=False, drop_mult=0.5)"
   ]
  },
  {
   "cell_type": "code",
   "execution_count": 0,
   "metadata": {
    "colab": {
     "base_uri": "https://localhost:8080/",
     "height": 34
    },
    "colab_type": "code",
    "id": "8lyKGQzEtFmS",
    "outputId": "49a8d436-bdb0-4d6c-a86d-529e0766a912"
   },
   "outputs": [
    {
     "data": {
      "text/html": [],
      "text/plain": [
       "<IPython.core.display.HTML object>"
      ]
     },
     "metadata": {
      "tags": []
     },
     "output_type": "display_data"
    },
    {
     "name": "stdout",
     "output_type": "stream",
     "text": [
      "LR Finder is complete, type {learner_name}.recorder.plot() to see the graph.\n"
     ]
    }
   ],
   "source": [
    "learn.lr_find()"
   ]
  },
  {
   "cell_type": "code",
   "execution_count": 0,
   "metadata": {
    "colab": {
     "base_uri": "https://localhost:8080/",
     "height": 283
    },
    "colab_type": "code",
    "id": "AsiF3jHBtFmm",
    "outputId": "e9848ac1-7560-487a-9740-f868f27c100b"
   },
   "outputs": [
    {
     "data": {
      "image/png": "[encoded data removed]",
      "text/plain": [
       "<Figure size 432x288 with 1 Axes>"
      ]
     },
     "metadata": {
      "tags": []
     },
     "output_type": "display_data"
    }
   ],
   "source": [
    "learn.recorder.plot()"
   ]
  },
  {
   "cell_type": "code",
   "execution_count": 0,
   "metadata": {
    "colab": {
     "base_uri": "https://localhost:8080/",
     "height": 283
    },
    "colab_type": "code",
    "id": "khZ8us-F4O_4",
    "outputId": "ee380fb8-47ef-42a6-b18b-126581fdc355"
   },
   "outputs": [
    {
     "data": {
      "image/png": "[encoded data removed]",
      "text/plain": [
       "<Figure size 432x288 with 1 Axes>"
      ]
     },
     "metadata": {
      "tags": []
     },
     "output_type": "display_data"
    }
   ],
   "source": [
    "learn.recorder.plot(skip_end=10)"
   ]
  },
  {
   "cell_type": "markdown",
   "metadata": {
    "colab_type": "text",
    "id": "Dmzxsp3wJ7Np"
   },
   "source": [
    "#### epochs"
   ]
  },
  {
   "cell_type": "code",
   "execution_count": 0,
   "metadata": {
    "colab": {
     "base_uri": "https://localhost:8080/",
     "height": 456
    },
    "colab_type": "code",
    "id": "rWTxJchN4W9F",
    "outputId": "14ad91ef-7a37-49c1-8fc3-6e0ee0d79b4c"
   },
   "outputs": [
    {
     "data": {
      "text/html": [
       "<table border=\"1\" class=\"dataframe\">\n",
       "  <thead>\n",
       "    <tr style=\"text-align: left;\">\n",
       "      <th>epoch</th>\n",
       "      <th>train_loss</th>\n",
       "      <th>valid_loss</th>\n",
       "      <th>accuracy</th>\n",
       "      <th>time</th>\n",
       "    </tr>\n",
       "  </thead>\n",
       "  <tbody>\n",
       "    <tr>\n",
       "      <td>0</td>\n",
       "      <td>5.200973</td>\n",
       "      <td>5.077995</td>\n",
       "      <td>0.264524</td>\n",
       "      <td>40:27</td>\n",
       "    </tr>\n",
       "    <tr>\n",
       "      <td>1</td>\n",
       "      <td>5.063317</td>\n",
       "      <td>4.904387</td>\n",
       "      <td>0.276917</td>\n",
       "      <td>40:43</td>\n",
       "    </tr>\n",
       "    <tr>\n",
       "      <td>2</td>\n",
       "      <td>4.808316</td>\n",
       "      <td>4.691440</td>\n",
       "      <td>0.292538</td>\n",
       "      <td>40:37</td>\n",
       "    </tr>\n",
       "    <tr>\n",
       "      <td>3</td>\n",
       "      <td>4.674263</td>\n",
       "      <td>4.480223</td>\n",
       "      <td>0.310078</td>\n",
       "      <td>40:38</td>\n",
       "    </tr>\n",
       "    <tr>\n",
       "      <td>4</td>\n",
       "      <td>4.459049</td>\n",
       "      <td>4.398908</td>\n",
       "      <td>0.318343</td>\n",
       "      <td>40:36</td>\n",
       "    </tr>\n",
       "  </tbody>\n",
       "</table>"
      ],
      "text/plain": [
       "<IPython.core.display.HTML object>"
      ]
     },
     "metadata": {
      "tags": []
     },
     "output_type": "display_data"
    },
    {
     "data": {
      "image/png": "[encoded data removed]",
      "text/plain": [
       "<Figure size 432x288 with 1 Axes>"
      ]
     },
     "metadata": {
      "tags": []
     },
     "output_type": "display_data"
    }
   ],
   "source": [
    "learn.fit_one_cycle(5, 1e-2)\n",
    "learn.save('wiki_word_lm_1');"
   ]
  },
  {
   "cell_type": "code",
   "execution_count": 0,
   "metadata": {
    "colab": {
     "base_uri": "https://localhost:8080/",
     "height": 426
    },
    "colab_type": "code",
    "id": "vSJ9Rx3N3f-I",
    "outputId": "66ef9f4a-6ffc-460a-c9df-329d49c1167c"
   },
   "outputs": [
    {
     "data": {
      "text/html": [
       "\n",
       "    <div>\n",
       "        <style>\n",
       "            /* Turns off some styling */\n",
       "            progress {\n",
       "                /* gets rid of default border in Firefox and Opera. */\n",
       "                border: none;\n",
       "                /* Needs to be in here for Safari polyfill so background images work as expected. */\n",
       "                background-size: auto;\n",
       "            }\n",
       "            .progress-bar-interrupted, .progress-bar-interrupted::-webkit-progress-bar {\n",
       "                background: #F44336;\n",
       "            }\n",
       "        </style>\n",
       "      <progress value='2' class='' max='3', style='width:300px; height:20px; vertical-align: middle;'></progress>\n",
       "      66.67% [2/3 1:20:50<40:25]\n",
       "    </div>\n",
       "    \n",
       "<table border=\"1\" class=\"dataframe\">\n",
       "  <thead>\n",
       "    <tr style=\"text-align: left;\">\n",
       "      <th>epoch</th>\n",
       "      <th>train_loss</th>\n",
       "      <th>valid_loss</th>\n",
       "      <th>accuracy</th>\n",
       "      <th>time</th>\n",
       "    </tr>\n",
       "  </thead>\n",
       "  <tbody>\n",
       "    <tr>\n",
       "      <td>0</td>\n",
       "      <td>4.470980</td>\n",
       "      <td>4.408347</td>\n",
       "      <td>0.317289</td>\n",
       "      <td>40:21</td>\n",
       "    </tr>\n",
       "    <tr>\n",
       "      <td>1</td>\n",
       "      <td>4.468989</td>\n",
       "      <td>4.375013</td>\n",
       "      <td>0.320310</td>\n",
       "      <td>40:27</td>\n",
       "    </tr>\n",
       "  </tbody>\n",
       "</table><p>\n",
       "\n",
       "    <div>\n",
       "        <style>\n",
       "            /* Turns off some styling */\n",
       "            progress {\n",
       "                /* gets rid of default border in Firefox and Opera. */\n",
       "                border: none;\n",
       "                /* Needs to be in here for Safari polyfill so background images work as expected. */\n",
       "                background-size: auto;\n",
       "            }\n",
       "            .progress-bar-interrupted, .progress-bar-interrupted::-webkit-progress-bar {\n",
       "                background: #F44336;\n",
       "            }\n",
       "        </style>\n",
       "      <progress value='94' class='' max='8058', style='width:300px; height:20px; vertical-align: middle;'></progress>\n",
       "      1.17% [94/8058 00:25<36:29 4.3653]\n",
       "    </div>\n",
       "    "
      ],
      "text/plain": [
       "<IPython.core.display.HTML object>"
      ]
     },
     "metadata": {
      "tags": []
     },
     "output_type": "display_data"
    },
    {
     "data": {
      "image/png": "[encoded data removed]",
      "text/plain": [
       "<Figure size 432x288 with 1 Axes>"
      ]
     },
     "metadata": {
      "tags": []
     },
     "output_type": "display_data"
    },
    {
     "name": "stdout",
     "output_type": "stream",
     "text": [
      "Buffered data was truncated after reaching the output size limit."
     ]
    }
   ],
   "source": [
    "learn.load('wiki_word_lm_1');\n",
    "learn.fit_one_cycle(3, 1e-3)\n",
    "learn.save('wiki_word_lm_2');"
   ]
  },
  {
   "cell_type": "code",
   "execution_count": 0,
   "metadata": {
    "colab": {
     "base_uri": "https://localhost:8080/",
     "height": 80
    },
    "colab_type": "code",
    "id": "6xhgDxOfMfZ8",
    "outputId": "7e56814c-c9bc-4066-9758-7e5516b7643e"
   },
   "outputs": [
    {
     "data": {
      "text/html": [
       "<table border=\"1\" class=\"dataframe\">\n",
       "  <thead>\n",
       "    <tr style=\"text-align: left;\">\n",
       "      <th>epoch</th>\n",
       "      <th>train_loss</th>\n",
       "      <th>valid_loss</th>\n",
       "      <th>accuracy</th>\n",
       "      <th>time</th>\n",
       "    </tr>\n",
       "  </thead>\n",
       "  <tbody>\n",
       "    <tr>\n",
       "      <td>0</td>\n",
       "      <td>4.510958</td>\n",
       "      <td>4.354421</td>\n",
       "      <td>0.322548</td>\n",
       "      <td>1:16:46</td>\n",
       "    </tr>\n",
       "  </tbody>\n",
       "</table>"
      ],
      "text/plain": [
       "<IPython.core.display.HTML object>"
      ]
     },
     "metadata": {
      "tags": []
     },
     "output_type": "display_data"
    }
   ],
   "source": [
    "learn.load('wiki_word_lm_2');\n",
    "learn.fit_one_cycle(1, 1e-3)\n",
    "learn.save('wiki_word_lm_9'); #9th epoch"
   ]
  },
  {
   "cell_type": "code",
   "execution_count": 0,
   "metadata": {
    "colab": {
     "base_uri": "https://localhost:8080/",
     "height": 114
    },
    "colab_type": "code",
    "id": "W6fKA0Q0Mwzv",
    "outputId": "d23663b9-fa2f-44e8-b86c-0f0b0c32d2dc"
   },
   "outputs": [
    {
     "name": "stderr",
     "output_type": "stream",
     "text": [
      "/usr/local/lib/python3.6/dist-packages/fastai/basic_train.py:327: UserWarning: Wasn't able to properly load the optimizer state again.\n",
      "  except: warn(\"Wasn't able to properly load the optimizer state again.\")\n"
     ]
    },
    {
     "data": {
      "text/html": [
       "<table border=\"1\" class=\"dataframe\">\n",
       "  <thead>\n",
       "    <tr style=\"text-align: left;\">\n",
       "      <th>epoch</th>\n",
       "      <th>train_loss</th>\n",
       "      <th>valid_loss</th>\n",
       "      <th>accuracy</th>\n",
       "      <th>time</th>\n",
       "    </tr>\n",
       "  </thead>\n",
       "  <tbody>\n",
       "    <tr>\n",
       "      <td>0</td>\n",
       "      <td>4.437127</td>\n",
       "      <td>4.346854</td>\n",
       "      <td>0.323429</td>\n",
       "      <td>1:17:22</td>\n",
       "    </tr>\n",
       "  </tbody>\n",
       "</table>"
      ],
      "text/plain": [
       "<IPython.core.display.HTML object>"
      ]
     },
     "metadata": {
      "tags": []
     },
     "output_type": "display_data"
    }
   ],
   "source": [
    "learn.load('wiki_word_lm_9');\n",
    "learn.fit_one_cycle(1, 1e-3)\n",
    "learn.save('wiki_word_lm_10'); #10th epoch"
   ]
  },
  {
   "cell_type": "code",
   "execution_count": 0,
   "metadata": {
    "colab": {
     "base_uri": "https://localhost:8080/",
     "height": 80
    },
    "colab_type": "code",
    "id": "4zzIxsOjZH37",
    "outputId": "be06809b-9b51-450a-fdb4-ed418cdd99a7"
   },
   "outputs": [
    {
     "data": {
      "text/html": [
       "<table border=\"1\" class=\"dataframe\">\n",
       "  <thead>\n",
       "    <tr style=\"text-align: left;\">\n",
       "      <th>epoch</th>\n",
       "      <th>train_loss</th>\n",
       "      <th>valid_loss</th>\n",
       "      <th>accuracy</th>\n",
       "      <th>time</th>\n",
       "    </tr>\n",
       "  </thead>\n",
       "  <tbody>\n",
       "    <tr>\n",
       "      <td>0</td>\n",
       "      <td>4.473254</td>\n",
       "      <td>4.336812</td>\n",
       "      <td>0.324833</td>\n",
       "      <td>1:17:49</td>\n",
       "    </tr>\n",
       "  </tbody>\n",
       "</table>"
      ],
      "text/plain": [
       "<IPython.core.display.HTML object>"
      ]
     },
     "metadata": {
      "tags": []
     },
     "output_type": "display_data"
    }
   ],
   "source": [
    "learn.fit_one_cycle(1, 1e-3)\n",
    "learn.save('wiki_word_lm_11'); #11th epoch"
   ]
  },
  {
   "cell_type": "code",
   "execution_count": 0,
   "metadata": {
    "colab": {
     "base_uri": "https://localhost:8080/",
     "height": 80
    },
    "colab_type": "code",
    "id": "N-diSCDlZHyK",
    "outputId": "0f069dcd-5aaa-4899-aac0-d2e4aeb23908"
   },
   "outputs": [
    {
     "data": {
      "text/html": [
       "<table border=\"1\" class=\"dataframe\">\n",
       "  <thead>\n",
       "    <tr style=\"text-align: left;\">\n",
       "      <th>epoch</th>\n",
       "      <th>train_loss</th>\n",
       "      <th>valid_loss</th>\n",
       "      <th>accuracy</th>\n",
       "      <th>time</th>\n",
       "    </tr>\n",
       "  </thead>\n",
       "  <tbody>\n",
       "    <tr>\n",
       "      <td>0</td>\n",
       "      <td>4.312455</td>\n",
       "      <td>4.326378</td>\n",
       "      <td>0.325653</td>\n",
       "      <td>1:17:26</td>\n",
       "    </tr>\n",
       "  </tbody>\n",
       "</table>"
      ],
      "text/plain": [
       "<IPython.core.display.HTML object>"
      ]
     },
     "metadata": {
      "tags": []
     },
     "output_type": "display_data"
    }
   ],
   "source": [
    "learn.fit_one_cycle(1, 1e-3)\n",
    "learn.save('wiki_word_lm_12'); #12th epoch"
   ]
  },
  {
   "cell_type": "code",
   "execution_count": 0,
   "metadata": {
    "colab": {
     "base_uri": "https://localhost:8080/",
     "height": 80
    },
    "colab_type": "code",
    "id": "iltIpnu8ERsc",
    "outputId": "e2a33d34-2229-4fb2-fd66-6d3bd70b18d6"
   },
   "outputs": [
    {
     "data": {
      "text/html": [
       "<table border=\"1\" class=\"dataframe\">\n",
       "  <thead>\n",
       "    <tr style=\"text-align: left;\">\n",
       "      <th>epoch</th>\n",
       "      <th>train_loss</th>\n",
       "      <th>valid_loss</th>\n",
       "      <th>accuracy</th>\n",
       "      <th>time</th>\n",
       "    </tr>\n",
       "  </thead>\n",
       "  <tbody>\n",
       "    <tr>\n",
       "      <td>0</td>\n",
       "      <td>4.354211</td>\n",
       "      <td>4.315218</td>\n",
       "      <td>0.326277</td>\n",
       "      <td>1:17:23</td>\n",
       "    </tr>\n",
       "  </tbody>\n",
       "</table>"
      ],
      "text/plain": [
       "<IPython.core.display.HTML object>"
      ]
     },
     "metadata": {
      "tags": []
     },
     "output_type": "display_data"
    }
   ],
   "source": [
    "learn.fit_one_cycle(1, 1e-3)\n",
    "learn.save('wiki_word_lm_13'); #13th epoch"
   ]
  },
  {
   "cell_type": "code",
   "execution_count": 0,
   "metadata": {
    "colab": {
     "base_uri": "https://localhost:8080/",
     "height": 80
    },
    "colab_type": "code",
    "id": "hZtpsnu9ERmf",
    "outputId": "fee8182c-83ce-4210-83f8-f324c28a839a"
   },
   "outputs": [
    {
     "data": {
      "text/html": [
       "<table border=\"1\" class=\"dataframe\">\n",
       "  <thead>\n",
       "    <tr style=\"text-align: left;\">\n",
       "      <th>epoch</th>\n",
       "      <th>train_loss</th>\n",
       "      <th>valid_loss</th>\n",
       "      <th>accuracy</th>\n",
       "      <th>time</th>\n",
       "    </tr>\n",
       "  </thead>\n",
       "  <tbody>\n",
       "    <tr>\n",
       "      <td>0</td>\n",
       "      <td>4.442514</td>\n",
       "      <td>4.308449</td>\n",
       "      <td>0.326951</td>\n",
       "      <td>1:17:10</td>\n",
       "    </tr>\n",
       "  </tbody>\n",
       "</table>"
      ],
      "text/plain": [
       "<IPython.core.display.HTML object>"
      ]
     },
     "metadata": {
      "tags": []
     },
     "output_type": "display_data"
    }
   ],
   "source": [
    "learn.fit_one_cycle(1, 1e-3)\n",
    "learn.save('wiki_word_lm_14'); #14th epoch"
   ]
  },
  {
   "cell_type": "code",
   "execution_count": 0,
   "metadata": {
    "colab": {
     "base_uri": "https://localhost:8080/",
     "height": 80
    },
    "colab_type": "code",
    "id": "ESmhjKBp_WZU",
    "outputId": "f0c14f86-68a1-470b-fdab-04df09061040"
   },
   "outputs": [
    {
     "data": {
      "text/html": [
       "<table border=\"1\" class=\"dataframe\">\n",
       "  <thead>\n",
       "    <tr style=\"text-align: left;\">\n",
       "      <th>epoch</th>\n",
       "      <th>train_loss</th>\n",
       "      <th>valid_loss</th>\n",
       "      <th>accuracy</th>\n",
       "      <th>time</th>\n",
       "    </tr>\n",
       "  </thead>\n",
       "  <tbody>\n",
       "    <tr>\n",
       "      <td>0</td>\n",
       "      <td>4.296780</td>\n",
       "      <td>4.303234</td>\n",
       "      <td>0.327555</td>\n",
       "      <td>1:17:10</td>\n",
       "    </tr>\n",
       "  </tbody>\n",
       "</table>"
      ],
      "text/plain": [
       "<IPython.core.display.HTML object>"
      ]
     },
     "metadata": {
      "tags": []
     },
     "output_type": "display_data"
    }
   ],
   "source": [
    "learn.fit_one_cycle(1, 1e-3)\n",
    "learn.save('wiki_word_lm_15'); #15th epoch"
   ]
  },
  {
   "cell_type": "code",
   "execution_count": 0,
   "metadata": {
    "colab": {
     "base_uri": "https://localhost:8080/",
     "height": 80
    },
    "colab_type": "code",
    "id": "9TSKeKts_dHW",
    "outputId": "ebf8e3b4-869e-45cc-cfc2-236988e6c295"
   },
   "outputs": [
    {
     "data": {
      "text/html": [
       "<table border=\"1\" class=\"dataframe\">\n",
       "  <thead>\n",
       "    <tr style=\"text-align: left;\">\n",
       "      <th>epoch</th>\n",
       "      <th>train_loss</th>\n",
       "      <th>valid_loss</th>\n",
       "      <th>accuracy</th>\n",
       "      <th>time</th>\n",
       "    </tr>\n",
       "  </thead>\n",
       "  <tbody>\n",
       "    <tr>\n",
       "      <td>0</td>\n",
       "      <td>4.360970</td>\n",
       "      <td>4.294533</td>\n",
       "      <td>0.327704</td>\n",
       "      <td>1:21:51</td>\n",
       "    </tr>\n",
       "  </tbody>\n",
       "</table>"
      ],
      "text/plain": [
       "<IPython.core.display.HTML object>"
      ]
     },
     "metadata": {
      "tags": []
     },
     "output_type": "display_data"
    }
   ],
   "source": [
    "learn.load('wiki_word_lm_15');\n",
    "learn.fit_one_cycle(1, 1e-3)\n",
    "learn.save('wiki_word_lm_16'); #16th epoch"
   ]
  },
  {
   "cell_type": "code",
   "execution_count": 0,
   "metadata": {
    "colab": {
     "base_uri": "https://localhost:8080/",
     "height": 80
    },
    "colab_type": "code",
    "id": "t1ASzSik_c_o",
    "outputId": "e181b7ce-db7f-4792-eba3-5775293becdb"
   },
   "outputs": [
    {
     "data": {
      "text/html": [
       "<table border=\"1\" class=\"dataframe\">\n",
       "  <thead>\n",
       "    <tr style=\"text-align: left;\">\n",
       "      <th>epoch</th>\n",
       "      <th>train_loss</th>\n",
       "      <th>valid_loss</th>\n",
       "      <th>accuracy</th>\n",
       "      <th>time</th>\n",
       "    </tr>\n",
       "  </thead>\n",
       "  <tbody>\n",
       "    <tr>\n",
       "      <td>0</td>\n",
       "      <td>4.348758</td>\n",
       "      <td>4.290963</td>\n",
       "      <td>0.328784</td>\n",
       "      <td>1:21:56</td>\n",
       "    </tr>\n",
       "  </tbody>\n",
       "</table>"
      ],
      "text/plain": [
       "<IPython.core.display.HTML object>"
      ]
     },
     "metadata": {
      "tags": []
     },
     "output_type": "display_data"
    }
   ],
   "source": [
    "learn.fit_one_cycle(1, 1e-3)\n",
    "learn.save('wiki_word_lm_17'); #17th epoch"
   ]
  },
  {
   "cell_type": "code",
   "execution_count": 0,
   "metadata": {
    "colab": {
     "base_uri": "https://localhost:8080/",
     "height": 80
    },
    "colab_type": "code",
    "id": "KjiLmepQ_c1l",
    "outputId": "ca9df5d3-b9c5-4c0e-de60-4860b91613bc"
   },
   "outputs": [
    {
     "data": {
      "text/html": [
       "<table border=\"1\" class=\"dataframe\">\n",
       "  <thead>\n",
       "    <tr style=\"text-align: left;\">\n",
       "      <th>epoch</th>\n",
       "      <th>train_loss</th>\n",
       "      <th>valid_loss</th>\n",
       "      <th>accuracy</th>\n",
       "      <th>time</th>\n",
       "    </tr>\n",
       "  </thead>\n",
       "  <tbody>\n",
       "    <tr>\n",
       "      <td>0</td>\n",
       "      <td>4.363933</td>\n",
       "      <td>4.282438</td>\n",
       "      <td>0.329013</td>\n",
       "      <td>1:22:05</td>\n",
       "    </tr>\n",
       "  </tbody>\n",
       "</table>"
      ],
      "text/plain": [
       "<IPython.core.display.HTML object>"
      ]
     },
     "metadata": {
      "tags": []
     },
     "output_type": "display_data"
    }
   ],
   "source": [
    "learn.fit_one_cycle(1, 1e-3)\n",
    "learn.save('wiki_word_lm_18'); #18th epoch"
   ]
  },
  {
   "cell_type": "code",
   "execution_count": 0,
   "metadata": {
    "colab": {
     "base_uri": "https://localhost:8080/",
     "height": 80
    },
    "colab_type": "code",
    "id": "QeafTl77WXSz",
    "outputId": "37eadb62-7778-47e4-fed0-310a5016128e"
   },
   "outputs": [
    {
     "data": {
      "text/html": [
       "<table border=\"1\" class=\"dataframe\">\n",
       "  <thead>\n",
       "    <tr style=\"text-align: left;\">\n",
       "      <th>epoch</th>\n",
       "      <th>train_loss</th>\n",
       "      <th>valid_loss</th>\n",
       "      <th>accuracy</th>\n",
       "      <th>time</th>\n",
       "    </tr>\n",
       "  </thead>\n",
       "  <tbody>\n",
       "    <tr>\n",
       "      <td>0</td>\n",
       "      <td>4.286972</td>\n",
       "      <td>4.277395</td>\n",
       "      <td>0.329322</td>\n",
       "      <td>1:21:59</td>\n",
       "    </tr>\n",
       "  </tbody>\n",
       "</table>"
      ],
      "text/plain": [
       "<IPython.core.display.HTML object>"
      ]
     },
     "metadata": {
      "tags": []
     },
     "output_type": "display_data"
    }
   ],
   "source": [
    "learn.fit_one_cycle(1, 1e-3)\n",
    "learn.save('wiki_word_lm_19'); #19th epoch"
   ]
  },
  {
   "cell_type": "code",
   "execution_count": 0,
   "metadata": {
    "colab": {
     "base_uri": "https://localhost:8080/",
     "height": 80
    },
    "colab_type": "code",
    "id": "t9nt3ZXoWXMd",
    "outputId": "7acf20ac-ce8a-48e3-bb2d-a83c54e8333f"
   },
   "outputs": [
    {
     "data": {
      "text/html": [
       "<table border=\"1\" class=\"dataframe\">\n",
       "  <thead>\n",
       "    <tr style=\"text-align: left;\">\n",
       "      <th>epoch</th>\n",
       "      <th>train_loss</th>\n",
       "      <th>valid_loss</th>\n",
       "      <th>accuracy</th>\n",
       "      <th>time</th>\n",
       "    </tr>\n",
       "  </thead>\n",
       "  <tbody>\n",
       "    <tr>\n",
       "      <td>0</td>\n",
       "      <td>4.289502</td>\n",
       "      <td>4.272470</td>\n",
       "      <td>0.330194</td>\n",
       "      <td>1:22:08</td>\n",
       "    </tr>\n",
       "  </tbody>\n",
       "</table>"
      ],
      "text/plain": [
       "<IPython.core.display.HTML object>"
      ]
     },
     "metadata": {
      "tags": []
     },
     "output_type": "display_data"
    }
   ],
   "source": [
    "learn.fit_one_cycle(1, 1e-3)\n",
    "learn.save('wiki_word_lm_20'); #20th epoch"
   ]
  },
  {
   "cell_type": "code",
   "execution_count": 0,
   "metadata": {
    "colab": {
     "base_uri": "https://localhost:8080/",
     "height": 80
    },
    "colab_type": "code",
    "id": "x_ykQ06x5F5r",
    "outputId": "13cd630b-693b-464a-a11b-256582bd5118"
   },
   "outputs": [
    {
     "data": {
      "text/html": [
       "<table border=\"1\" class=\"dataframe\">\n",
       "  <thead>\n",
       "    <tr style=\"text-align: left;\">\n",
       "      <th>epoch</th>\n",
       "      <th>train_loss</th>\n",
       "      <th>valid_loss</th>\n",
       "      <th>accuracy</th>\n",
       "      <th>time</th>\n",
       "    </tr>\n",
       "  </thead>\n",
       "  <tbody>\n",
       "    <tr>\n",
       "      <td>0</td>\n",
       "      <td>4.398139</td>\n",
       "      <td>4.264174</td>\n",
       "      <td>0.330265</td>\n",
       "      <td>1:21:59</td>\n",
       "    </tr>\n",
       "  </tbody>\n",
       "</table>"
      ],
      "text/plain": [
       "<IPython.core.display.HTML object>"
      ]
     },
     "metadata": {
      "tags": []
     },
     "output_type": "display_data"
    }
   ],
   "source": [
    "learn.fit_one_cycle(1, 1e-3)\n",
    "learn.save('wiki_word_lm_21'); #21th epoch"
   ]
  },
  {
   "cell_type": "code",
   "execution_count": 0,
   "metadata": {
    "colab": {
     "base_uri": "https://localhost:8080/",
     "height": 80
    },
    "colab_type": "code",
    "id": "LTNpai8b5Fy3",
    "outputId": "b6dff78f-7df1-4803-8a4d-57e8e641be14"
   },
   "outputs": [
    {
     "data": {
      "text/html": [
       "<table border=\"1\" class=\"dataframe\">\n",
       "  <thead>\n",
       "    <tr style=\"text-align: left;\">\n",
       "      <th>epoch</th>\n",
       "      <th>train_loss</th>\n",
       "      <th>valid_loss</th>\n",
       "      <th>accuracy</th>\n",
       "      <th>time</th>\n",
       "    </tr>\n",
       "  </thead>\n",
       "  <tbody>\n",
       "    <tr>\n",
       "      <td>0</td>\n",
       "      <td>4.289913</td>\n",
       "      <td>4.258613</td>\n",
       "      <td>0.330690</td>\n",
       "      <td>1:21:39</td>\n",
       "    </tr>\n",
       "  </tbody>\n",
       "</table>"
      ],
      "text/plain": [
       "<IPython.core.display.HTML object>"
      ]
     },
     "metadata": {
      "tags": []
     },
     "output_type": "display_data"
    }
   ],
   "source": [
    "learn.fit_one_cycle(1, 1e-3)\n",
    "learn.save('wiki_word_lm_22'); #22th epoch"
   ]
  },
  {
   "cell_type": "code",
   "execution_count": 0,
   "metadata": {
    "colab": {
     "base_uri": "https://localhost:8080/",
     "height": 80
    },
    "colab_type": "code",
    "id": "PO-3fFb0fGcv",
    "outputId": "32a1a35f-031d-4b0f-a201-6411a46ba236"
   },
   "outputs": [
    {
     "data": {
      "text/html": [
       "<table border=\"1\" class=\"dataframe\">\n",
       "  <thead>\n",
       "    <tr style=\"text-align: left;\">\n",
       "      <th>epoch</th>\n",
       "      <th>train_loss</th>\n",
       "      <th>valid_loss</th>\n",
       "      <th>accuracy</th>\n",
       "      <th>time</th>\n",
       "    </tr>\n",
       "  </thead>\n",
       "  <tbody>\n",
       "    <tr>\n",
       "      <td>0</td>\n",
       "      <td>4.253526</td>\n",
       "      <td>4.252819</td>\n",
       "      <td>0.331508</td>\n",
       "      <td>1:21:39</td>\n",
       "    </tr>\n",
       "  </tbody>\n",
       "</table>"
      ],
      "text/plain": [
       "<IPython.core.display.HTML object>"
      ]
     },
     "metadata": {
      "tags": []
     },
     "output_type": "display_data"
    }
   ],
   "source": [
    "learn.fit_one_cycle(1, 1e-3)\n",
    "learn.save('wiki_word_lm_23'); #23th epoch"
   ]
  },
  {
   "cell_type": "code",
   "execution_count": 0,
   "metadata": {
    "colab": {
     "base_uri": "https://localhost:8080/",
     "height": 80
    },
    "colab_type": "code",
    "id": "DPf3hDHxfGYc",
    "outputId": "3a0a0775-afe7-498d-ad1c-25a5f1ef4e21"
   },
   "outputs": [
    {
     "data": {
      "text/html": [
       "<table border=\"1\" class=\"dataframe\">\n",
       "  <thead>\n",
       "    <tr style=\"text-align: left;\">\n",
       "      <th>epoch</th>\n",
       "      <th>train_loss</th>\n",
       "      <th>valid_loss</th>\n",
       "      <th>accuracy</th>\n",
       "      <th>time</th>\n",
       "    </tr>\n",
       "  </thead>\n",
       "  <tbody>\n",
       "    <tr>\n",
       "      <td>0</td>\n",
       "      <td>4.298167</td>\n",
       "      <td>4.249014</td>\n",
       "      <td>0.331971</td>\n",
       "      <td>40:15</td>\n",
       "    </tr>\n",
       "  </tbody>\n",
       "</table>"
      ],
      "text/plain": [
       "<IPython.core.display.HTML object>"
      ]
     },
     "metadata": {
      "tags": []
     },
     "output_type": "display_data"
    }
   ],
   "source": [
    "learn.load('wiki_word_lm_23');\n",
    "learn.fit_one_cycle(1, 1e-3)\n",
    "learn.save('wiki_word_lm_24'); #24th epoch"
   ]
  },
  {
   "cell_type": "code",
   "execution_count": 0,
   "metadata": {
    "colab": {
     "base_uri": "https://localhost:8080/",
     "height": 80
    },
    "colab_type": "code",
    "id": "0jIw3ebAfGRj",
    "outputId": "e41f2472-17af-4a00-e6bb-e00809b8719f"
   },
   "outputs": [
    {
     "data": {
      "text/html": [
       "<table border=\"1\" class=\"dataframe\">\n",
       "  <thead>\n",
       "    <tr style=\"text-align: left;\">\n",
       "      <th>epoch</th>\n",
       "      <th>train_loss</th>\n",
       "      <th>valid_loss</th>\n",
       "      <th>accuracy</th>\n",
       "      <th>time</th>\n",
       "    </tr>\n",
       "  </thead>\n",
       "  <tbody>\n",
       "    <tr>\n",
       "      <td>0</td>\n",
       "      <td>4.309002</td>\n",
       "      <td>4.246167</td>\n",
       "      <td>0.332193</td>\n",
       "      <td>40:17</td>\n",
       "    </tr>\n",
       "  </tbody>\n",
       "</table>"
      ],
      "text/plain": [
       "<IPython.core.display.HTML object>"
      ]
     },
     "metadata": {
      "tags": []
     },
     "output_type": "display_data"
    }
   ],
   "source": [
    "learn.fit_one_cycle(1, 1e-3)\n",
    "learn.save('wiki_word_lm_25'); #25th epoch"
   ]
  },
  {
   "cell_type": "code",
   "execution_count": 0,
   "metadata": {
    "colab": {
     "base_uri": "https://localhost:8080/",
     "height": 80
    },
    "colab_type": "code",
    "id": "Xd5LPl2Dm8-L",
    "outputId": "00de37a5-14ef-4d9f-9ec0-d30e441fbec1"
   },
   "outputs": [
    {
     "data": {
      "text/html": [
       "<table border=\"1\" class=\"dataframe\">\n",
       "  <thead>\n",
       "    <tr style=\"text-align: left;\">\n",
       "      <th>epoch</th>\n",
       "      <th>train_loss</th>\n",
       "      <th>valid_loss</th>\n",
       "      <th>accuracy</th>\n",
       "      <th>time</th>\n",
       "    </tr>\n",
       "  </thead>\n",
       "  <tbody>\n",
       "    <tr>\n",
       "      <td>0</td>\n",
       "      <td>5.085125</td>\n",
       "      <td>4.967541</td>\n",
       "      <td>0.283053</td>\n",
       "      <td>1:18:13</td>\n",
       "    </tr>\n",
       "  </tbody>\n",
       "</table>"
      ],
      "text/plain": [
       "<IPython.core.display.HTML object>"
      ]
     },
     "metadata": {
      "tags": []
     },
     "output_type": "display_data"
    }
   ],
   "source": [
    "learn.fit_one_cycle(1, 1e-3)\n",
    "learn.save('wiki_word_lm_26'); #26th epoch"
   ]
  },
  {
   "cell_type": "code",
   "execution_count": 0,
   "metadata": {
    "colab": {
     "base_uri": "https://localhost:8080/",
     "height": 80
    },
    "colab_type": "code",
    "id": "F5T0RPHim870",
    "outputId": "20ef538d-f697-43f2-b3aa-a39b5a8575c5"
   },
   "outputs": [
    {
     "data": {
      "text/html": [
       "<table border=\"1\" class=\"dataframe\">\n",
       "  <thead>\n",
       "    <tr style=\"text-align: left;\">\n",
       "      <th>epoch</th>\n",
       "      <th>train_loss</th>\n",
       "      <th>valid_loss</th>\n",
       "      <th>accuracy</th>\n",
       "      <th>time</th>\n",
       "    </tr>\n",
       "  </thead>\n",
       "  <tbody>\n",
       "    <tr>\n",
       "      <td>0</td>\n",
       "      <td>4.841737</td>\n",
       "      <td>4.685205</td>\n",
       "      <td>0.301066</td>\n",
       "      <td>1:19:06</td>\n",
       "    </tr>\n",
       "  </tbody>\n",
       "</table>"
      ],
      "text/plain": [
       "<IPython.core.display.HTML object>"
      ]
     },
     "metadata": {
      "tags": []
     },
     "output_type": "display_data"
    }
   ],
   "source": [
    "learn.fit_one_cycle(1, 1e-3)\n",
    "learn.save('wiki_word_lm_27'); #27th epoch"
   ]
  },
  {
   "cell_type": "code",
   "execution_count": 0,
   "metadata": {
    "colab": {
     "base_uri": "https://localhost:8080/",
     "height": 80
    },
    "colab_type": "code",
    "id": "GWr0FMs7m857",
    "outputId": "7693765a-1319-40e8-9f43-2eb8c1b880b0"
   },
   "outputs": [
    {
     "data": {
      "text/html": [
       "<table border=\"1\" class=\"dataframe\">\n",
       "  <thead>\n",
       "    <tr style=\"text-align: left;\">\n",
       "      <th>epoch</th>\n",
       "      <th>train_loss</th>\n",
       "      <th>valid_loss</th>\n",
       "      <th>accuracy</th>\n",
       "      <th>time</th>\n",
       "    </tr>\n",
       "  </thead>\n",
       "  <tbody>\n",
       "    <tr>\n",
       "      <td>0</td>\n",
       "      <td>4.702053</td>\n",
       "      <td>4.555993</td>\n",
       "      <td>0.309813</td>\n",
       "      <td>1:19:26</td>\n",
       "    </tr>\n",
       "  </tbody>\n",
       "</table>"
      ],
      "text/plain": [
       "<IPython.core.display.HTML object>"
      ]
     },
     "metadata": {
      "tags": []
     },
     "output_type": "display_data"
    }
   ],
   "source": [
    "learn.fit_one_cycle(1, 1e-3)\n",
    "learn.save('wiki_word_lm_28'); #28th epoch"
   ]
  },
  {
   "cell_type": "code",
   "execution_count": 0,
   "metadata": {
    "colab": {
     "base_uri": "https://localhost:8080/",
     "height": 80
    },
    "colab_type": "code",
    "id": "covQtF_rm82n",
    "outputId": "610cabf0-c952-4baf-dd68-30dc969e6876"
   },
   "outputs": [
    {
     "data": {
      "text/html": [
       "<table border=\"1\" class=\"dataframe\">\n",
       "  <thead>\n",
       "    <tr style=\"text-align: left;\">\n",
       "      <th>epoch</th>\n",
       "      <th>train_loss</th>\n",
       "      <th>valid_loss</th>\n",
       "      <th>accuracy</th>\n",
       "      <th>time</th>\n",
       "    </tr>\n",
       "  </thead>\n",
       "  <tbody>\n",
       "    <tr>\n",
       "      <td>0</td>\n",
       "      <td>4.698676</td>\n",
       "      <td>4.477737</td>\n",
       "      <td>0.315683</td>\n",
       "      <td>1:19:32</td>\n",
       "    </tr>\n",
       "  </tbody>\n",
       "</table>"
      ],
      "text/plain": [
       "<IPython.core.display.HTML object>"
      ]
     },
     "metadata": {
      "tags": []
     },
     "output_type": "display_data"
    }
   ],
   "source": [
    "learn.fit_one_cycle(1, 1e-3)\n",
    "learn.save('wiki_word_lm_29'); #29th epoch"
   ]
  },
  {
   "cell_type": "code",
   "execution_count": 0,
   "metadata": {
    "colab": {
     "base_uri": "https://localhost:8080/",
     "height": 80
    },
    "colab_type": "code",
    "id": "8IwusfMfWXFe",
    "outputId": "b41a3ba8-0d2d-48c5-9698-f80457ad0f49"
   },
   "outputs": [
    {
     "data": {
      "text/html": [
       "<table border=\"1\" class=\"dataframe\">\n",
       "  <thead>\n",
       "    <tr style=\"text-align: left;\">\n",
       "      <th>epoch</th>\n",
       "      <th>train_loss</th>\n",
       "      <th>valid_loss</th>\n",
       "      <th>accuracy</th>\n",
       "      <th>time</th>\n",
       "    </tr>\n",
       "  </thead>\n",
       "  <tbody>\n",
       "    <tr>\n",
       "      <td>0</td>\n",
       "      <td>4.550671</td>\n",
       "      <td>4.426266</td>\n",
       "      <td>0.319562</td>\n",
       "      <td>1:19:39</td>\n",
       "    </tr>\n",
       "  </tbody>\n",
       "</table>"
      ],
      "text/plain": [
       "<IPython.core.display.HTML object>"
      ]
     },
     "metadata": {
      "tags": []
     },
     "output_type": "display_data"
    }
   ],
   "source": [
    "learn.fit_one_cycle(1, 1e-3)\n",
    "learn.save('wiki_word_lm_30'); #30th epoch"
   ]
  },
  {
   "cell_type": "markdown",
   "metadata": {
    "colab_type": "text",
    "id": "zsGIUtNT-5Z4"
   },
   "source": [
    "#### test"
   ]
  },
  {
   "cell_type": "code",
   "execution_count": 0,
   "metadata": {
    "colab": {},
    "colab_type": "code",
    "id": "HbZwxmXJvIOI"
   },
   "outputs": [],
   "source": [
    "learn.load('wiki_word_lm_2');"
   ]
  },
  {
   "cell_type": "code",
   "execution_count": 0,
   "metadata": {
    "colab": {},
    "colab_type": "code",
    "id": "jvUa3T6ntFs1"
   },
   "outputs": [],
   "source": [
    "TEXT = \"তিন\" #তিনি মারা গেছেন মাস তিনেক\n",
    "N_WORDS = 100\n",
    "N_SENTENCES = 3"
   ]
  },
  {
   "cell_type": "code",
   "execution_count": 0,
   "metadata": {
    "colab": {
     "base_uri": "https://localhost:8080/",
     "height": 122
    },
    "colab_type": "code",
    "id": "PO9l7mX72EPO",
    "outputId": "4a801954-31de-42eb-c5f6-74732bf53464"
   },
   "outputs": [
    {
     "name": "stdout",
     "output_type": "stream",
     "text": [
      "তিন - সাত প্রজাতির নাগপুর , মেরিলেবোন এবং নিউজিল্যান্ড দ্বারা এদের পূর্ণাঙ্গ প্রজাতি হিসেবে গণ্য করা হয় । পশ্চিম আফ্রিকার বিভিন্ন অঞ্চলে এদের দেখা মেলে । অন্যান্য আফ্রিকান প্রজাতির মতো এদের দেখতে অনেকটা ছোট ছোট আকারের বাদামী রঙের । এদের মধ্যে অন্যতম হল- লেজ , পা , লেজ , পাতা , লেজ ও পায়ের পাতা । এদের পিঠ , মাথা ও পা , পায়ের পাতা , নিচের পাতা দুটি হালকা হলুদ রঙের হয় এবং এদের লেজের রঙ হলুদ - হলুদ রঙের হয় । এদের লেজ ও পা কালচে - কালো । এর দেহে ছিল সাদা ও গাঢ় সাদা । তাদের মাথায়\n",
      "তিন বার বিখ্যাত ভারতীয় সনে দার্শনিক ও সাংবাদিক তথা সাহিত্যিক ও সাহিত্যিক মহলে জনপ্রিয় বাংলা রচনা । তিনি বাংলা , ফ্রেঞ্চ , হিন্দী এবং ইংরেজি ভাষায় প্রায় সব ভাষায় অনুবাদ করেছেন । তিনি বানানো ও অনুবাদ করেছেন এবং লি অথবা ভারতীয় বাংলা সাহিত্যে কাজ করেছেন । xxbos \n",
      "  xxbos ড্যানিয়েল মিশেল ( ) একজন মার্কিন তাত্ত্বিক রসায়নবিজ্ঞানী । তিনি ১৯৮৯ সালে পদার্থবিজ্ঞানে নোবেল পুরস্কার লাভ করেন । xxbos পল মার্কিন যুক্তরাষ্ট্রের লেখক ও বিষয়ক মিশন । \n",
      "  xxbos ইতিহাস সংযুক্ত আরব আমিরাতের বিহার ও পাকিস্তানের কিছু অংশে অবস্থিত একটি স্বাধীন রাষ্ট্র । বাংলাদেশের স্বাধীনতা যুদ্ধ শুরু হলে এই যুদ্ধ ও মুক্তিযুদ্ধ\n",
      "তিন ভাই , দুই বোনের মধ্যে দ্বন্দ্ব আরও বেশি দেখা যায় । তারা আলাদা আলাদা দল দ্বারা থাকে , যাকে \" নতুন নাম \" বলা হয় । তারা সাধারণ যেকোনো কাজের বৎসরের জন্য আলাদা আলাদা কর্তৃপক্ষ তৈরি করতে পারে । \" অনেকে \" শব্দটি \" to Al - South সমন্বয়ে \" এ প্রচলিত আছে । \" শিল্পে \" শব্দটি এসেছে \" The Muslims \" থেকে । আরবিতে \" The Diary of \" ( 08 ) কথাটি এসেছে \" 13 \" বা \" Because Live \" ( 06 )\n"
     ]
    }
   ],
   "source": [
    "print(\"\\n\".join(learn.predict(TEXT, N_WORDS, temperature=0.75) for _ in range(N_SENTENCES)))"
   ]
  },
  {
   "cell_type": "markdown",
   "metadata": {},
   "source": [
    "## Utils"
   ]
  },
  {
   "cell_type": "code",
   "execution_count": 0,
   "metadata": {
    "colab": {},
    "colab_type": "code",
    "id": "VwdbWAxp8z2G"
   },
   "outputs": [],
   "source": [
    "def testing(dts):\n",
    "  df = pd.read_csv(dts) \n",
    "  text_array = df[\"text\"].tolist()\n",
    "  print(len(text_array))\n",
    "\n",
    "  final_preds = []\n",
    "\n",
    "  for text in text_array:\n",
    "      preds = learn_cls.predict(text)\n",
    "      final_preds.append(str(preds[0]))\n",
    "\n",
    "  targets = df[\"label\"].tolist()\n",
    "\n",
    "  err=[]\n",
    "  count =0;\n",
    "  tst = len(text_array)\n",
    "\n",
    "  for i in range(tst):\n",
    "      if(targets[i]==final_preds[i]):\n",
    "          count = count+1\n",
    "      else:\n",
    "  #         print(targets[i] + \", \" + final_preds[i] + ';')\n",
    "          err.append((targets[i],final_preds[i]))\n",
    "  print(\"Accuracy: \")\n",
    "  print(count/tst)\n",
    "  print(err)\n",
    "  return final_preds,targets"
   ]
  },
  {
   "cell_type": "markdown",
   "metadata": {
    "colab_type": "text",
    "id": "DXCw_hUaTfA9"
   },
   "source": [
    "## BAAD6 dataset"
   ]
  },
  {
   "cell_type": "code",
   "execution_count": 0,
   "metadata": {
    "colab": {},
    "colab_type": "code",
    "id": "uFiSnIucI2dr"
   },
   "outputs": [],
   "source": [
    "aa = aa2"
   ]
  },
  {
   "cell_type": "code",
   "execution_count": 0,
   "metadata": {
    "colab": {},
    "colab_type": "code",
    "id": "9jBYhuvaUuZG"
   },
   "outputs": [],
   "source": [
    "# Language model data AA\n",
    "data_lm_AA = TextLMDataBunch.from_csv(aa, 'ulm_train.csv', vocab=data_lm.train_ds.vocab, bs=bs)\n",
    "data_lm_AA.save('bhai_AA_data_lm_wiki.pkl')"
   ]
  },
  {
   "cell_type": "code",
   "execution_count": 0,
   "metadata": {
    "colab": {},
    "colab_type": "code",
    "id": "PHR1dF8zTen8"
   },
   "outputs": [],
   "source": [
    "# Classifier model data AA\n",
    "data_clas = TextClasDataBunch.from_csv(aa, 'ulm_train.csv', vocab=data_lm.train_ds.vocab, bs=bs)\n",
    "data_clas.save('bhai_AA_data_clas_wiki.pkl')"
   ]
  },
  {
   "cell_type": "code",
   "execution_count": 0,
   "metadata": {
    "colab": {
     "base_uri": "https://localhost:8080/",
     "height": 289
    },
    "colab_type": "code",
    "id": "H9QeU6t0VSnB",
    "outputId": "3beb43f0-9082-49a5-f1d6-7a0da46f4d7f"
   },
   "outputs": [
    {
     "data": {
      "text/html": [
       "<table border=\"1\" class=\"dataframe\">\n",
       "  <thead>\n",
       "    <tr style=\"text-align: right;\">\n",
       "      <th>text</th>\n",
       "      <th>target</th>\n",
       "    </tr>\n",
       "  </thead>\n",
       "  <tbody>\n",
       "    <tr>\n",
       "      <td>xxbos দেখিতে xxunk পর্বতমালা একটু xxunk ... xxunk ২০০৪ সালের অক্টোবরে লেখা । xxunk আগে একাধিকবার অনলাইনে প্রকাশিত । এই xxunk একাধিক কারণে আমার xxunk । প্রথমত , xxunk xxunk এক আসনে লেখা , মাঝখানে শুধু xxunk একটু । xxunk , এখন পর্যন্ত এটাই আমার xxunk xxunk ( xxunk দিক থেকে ) । xxunk , এবং xxunk গুরুত্বপূর্ণ যে xxunk , এমন একটা xxunk এ xxunk ধরে রাখা আছে ,</td>\n",
       "      <td>hm</td>\n",
       "    </tr>\n",
       "    <tr>\n",
       "      <td>xxbos দেখিতে xxunk পর্বতমালা একটু xxunk ... xxunk ২০০৪ সালের অক্টোবরে লেখা । xxunk আগে একাধিকবার অনলাইনে প্রকাশিত । এই xxunk একাধিক কারণে আমার xxunk । প্রথমত , xxunk xxunk এক আসনে লেখা , মাঝখানে শুধু xxunk একটু । xxunk , এখন পর্যন্ত এটাই আমার xxunk xxunk ( xxunk দিক থেকে ) । xxunk , এবং xxunk গুরুত্বপূর্ণ যে xxunk , এমন একটা xxunk এ xxunk ধরে রাখা আছে ,</td>\n",
       "      <td>hm</td>\n",
       "    </tr>\n",
       "    <tr>\n",
       "      <td>xxbos আবাহন ১ . \" উনি একজন xxunk ছিলেন । \" xxunk xxunk xxunk কোনো কমতি রইলো না । সোমা একটু শাসন করার চেষ্টা করলো স্বামীকে , \" নিজের xxunk কেউ xxunk বলে এভাবে ? \" শামীম বারান্দার কাঠের xxunk পা তুলে দিয়ে xxunk করে চায়ের কাপে xxunk দিয়ে বললো , \" এই শর্মা বলে । আর xxunk , উনি আমার আপন দাদা নন । বাবার চাচা । xxunk ।</td>\n",
       "      <td>hm</td>\n",
       "    </tr>\n",
       "    <tr>\n",
       "      <td>xxbos গোয়েন্দা xxunk ও অজ্ঞান পার্টি রহস্য এক গোয়েন্দা xxunk চোখ গরম করে বললেন , \" এবারও কি xxunk মতো দুই xxunk কেস নিয়ে হাজির হলেন নাকি ? \" পুলিশের গোয়েন্দা বিভাগের xxunk দারোগা xxunk xxunk আধ হাত জিভ কেটে বললেন , \" আর লজ্জা দেবেন না স্যার ! এবার একদম পরীক্ষানিরীক্ষা করিয়ে তবে এসেছি । এই দেখুন আমাদের ফরেনসিক এক্সপার্ট কেমিক্যাল আলির রিপোর্ট । \" xxunk xxunk xxunk xxunk</td>\n",
       "      <td>hm</td>\n",
       "    </tr>\n",
       "    <tr>\n",
       "      <td>xxbos গোয়েন্দা xxunk ও অজ্ঞান পার্টি রহস্য এক গোয়েন্দা xxunk চোখ গরম করে বললেন , \" এবারও কি xxunk মতো দুই xxunk কেস নিয়ে হাজির হলেন নাকি ? \" পুলিশের গোয়েন্দা বিভাগের xxunk দারোগা xxunk xxunk আধ হাত জিভ কেটে বললেন , \" আর লজ্জা দেবেন না স্যার ! এবার একদম পরীক্ষানিরীক্ষা করিয়ে তবে এসেছি । এই দেখুন আমাদের ফরেনসিক এক্সপার্ট কেমিক্যাল আলির রিপোর্ট । \" xxunk xxunk xxunk xxunk</td>\n",
       "      <td>hm</td>\n",
       "    </tr>\n",
       "  </tbody>\n",
       "</table>"
      ],
      "text/plain": [
       "<IPython.core.display.HTML object>"
      ]
     },
     "metadata": {
      "tags": []
     },
     "output_type": "display_data"
    }
   ],
   "source": [
    "data_clas.show_batch()"
   ]
  },
  {
   "cell_type": "code",
   "execution_count": 0,
   "metadata": {
    "colab": {
     "base_uri": "https://localhost:8080/",
     "height": 306
    },
    "colab_type": "code",
    "id": "PJE0K7edVHfk",
    "outputId": "dd34ad0d-619a-45b9-8ac9-fa2cdf9f0ac7"
   },
   "outputs": [
    {
     "data": {
      "text/html": [
       "<table border=\"1\" class=\"dataframe\">\n",
       "  <thead>\n",
       "    <tr style=\"text-align: right;\">\n",
       "      <th>idx</th>\n",
       "      <th>text</th>\n",
       "    </tr>\n",
       "  </thead>\n",
       "  <tbody>\n",
       "    <tr>\n",
       "      <td>0</td>\n",
       "      <td>xxunk সরকার প্রতিষ্ঠার দাবিতে আন্দোলন করে আসছে । সংগত কারণেই ১৮ xxunk জোটের অভিন্ন দাবি হিসেবে সেখানে xxunk স্লোগান - বক্তব্য কিংবা ব্যানার - xxunk তাই উল্লেখ থাকার কথা । সমাবেশে xxunk নেতাদের xxunk সবাই একই বক্তব্যকে প্রাধান্য xxunk xxunk করেছেন । কিন্তু xxunk ইসলামী ও ইসলামী xxunk কিছু নেতা - কর্মী সমাবেশে প্রকাশ্যে একাত্তরে মানবতাবিরোধী অপরাধীদের মুক্তি দাবি করেছেন । তাঁরা দাবি করেছেন বাংলাদেশের সাধারণ মানুষের কাঙ্ক্ষিত আন্তর্জাতিক অপরাধ</td>\n",
       "    </tr>\n",
       "    <tr>\n",
       "      <td>1</td>\n",
       "      <td>, xxunk জীবন xxunk ফলে জগতে এমন প্রভাব রেখে গেছেন যা আর কারও পক্ষে কখনও xxunk xxunk এবং xxunk না । তার শিক্ষা , সেবা ও জীবন যাপনের ধরণ সবই ছিল ভিন্ন প্রকৃতির । খ্রিষ্টানদের xxunk xxunk যে স্বামীর কথা বলা xxunk , তা xxunk মিথ্যা । কেননা কুরআনে ও xxunk সর্বত্র xxunk ‘ xxunk ’ বলা xxunk । স্বামী থাকলে xxunk তাঁর পিতার দিকেই সম্বন্ধ করা xxunk । xxbos</td>\n",
       "    </tr>\n",
       "    <tr>\n",
       "      <td>2</td>\n",
       "      <td>বলবো । প্রশান্ত xxunk xxunk সাধারণত প্রবাল দ্বীপ , অথবা xxunk অগ্ন্যুৎপাতের ফলে সৃষ্ট । xxunk দ্বীপ xxunk xxunk , xxunk এই দ্বীপটির তিন xxunk xxunk সাগর থেকে উঠে আসা তিনটি মৃত xxunk । উত্তর কোণে xxunk , দুই লক্ষ বছর আগে যার xxunk xxunk ৯৫% ভূমি তৈরি xxunk , দক্ষিণ কোণে xxunk প্রাচীন xxunk xxunk , আর দক্ষিণ পশ্চিমে xxunk কাউ । xxunk অন্যান্য দ্বীপের xxunk xxunk অনেক সমতল</td>\n",
       "    </tr>\n",
       "    <tr>\n",
       "      <td>3</td>\n",
       "      <td>না কেন ? xxunk কাঁধ xxunk বলল , আমি কি জানি কেন আমার xxunk xxunk আসছে না । xxunk তখন বলল , তবু একটু ভাবতে চেষ্টা কর না ভাই । আমাদের মধ্যে একমাত্র তুই তো xxunk লিখতে xxunk । ইস , আমার কত ইচ্ছে ছিল কাল হলুদ xxunk xxunk দেব । এত করে যখন বলছে তখন তো xxunk একটা লিখে দিতেই xxunk । এই কথাটা ভেবে নাক xxunk xxunk ।</td>\n",
       "    </tr>\n",
       "    <tr>\n",
       "      <td>4</td>\n",
       "      <td>যদি হোঁচট xxunk xxunk xxunk , তারপর xxunk xxunk xxunk ওঠে , আমরা অনেকেই হেসে xxunk । কিন্তু সেই লোক যদি xxunk xxunk মাথা xxunk বা অজ্ঞান xxunk xxunk , আমরা xxunk না , বরং ছুটে যাবো সাহায্য করতে । হাসির রহস্যের একটা আবছা সমাধান আছে এখানেই । xxunk ফলস xxunk সিগনাল হিসেবে চিহ্নিত করেছেন xxunk । দলবদ্ধ বৃক্ষচারী পূর্বপুরুষের আমল থেকেই সম্ভবত হাসির সূত্রপাত । বিপদ দেখলে সংকেত xxunk</td>\n",
       "    </tr>\n",
       "  </tbody>\n",
       "</table>"
      ],
      "text/plain": [
       "<IPython.core.display.HTML object>"
      ]
     },
     "metadata": {
      "tags": []
     },
     "output_type": "display_data"
    }
   ],
   "source": [
    "data_lm_AA.show_batch()"
   ]
  },
  {
   "cell_type": "markdown",
   "metadata": {
    "colab_type": "text",
    "id": "11qIGADber9I"
   },
   "source": [
    "#### LM"
   ]
  },
  {
   "cell_type": "code",
   "execution_count": 0,
   "metadata": {
    "colab": {},
    "colab_type": "code",
    "id": "CxqgSo3lhpz1"
   },
   "outputs": [],
   "source": [
    "data_clas=load_data(aa,'bhai_AA_data_clas_wiki.pkl',bs=bs)\n",
    "data_lm_AA=load_data(aa,'bhai_AA_data_lm_wiki.pkl',bs=bs)"
   ]
  },
  {
   "cell_type": "code",
   "execution_count": 0,
   "metadata": {
    "colab": {},
    "colab_type": "code",
    "id": "put6fhKvXVZA"
   },
   "outputs": [],
   "source": [
    "learn = language_model_learner(data_lm_AA, AWD_LSTM, pretrained=False, drop_mult=0.5)"
   ]
  },
  {
   "cell_type": "code",
   "execution_count": 0,
   "metadata": {
    "colab": {},
    "colab_type": "code",
    "id": "XHiwXzq9wUD_"
   },
   "outputs": [],
   "source": [
    "learn.load(wiki/'models'/'wiki_word_lm_30');"
   ]
  },
  {
   "cell_type": "code",
   "execution_count": 0,
   "metadata": {
    "colab": {
     "base_uri": "https://localhost:8080/",
     "height": 300
    },
    "colab_type": "code",
    "id": "cYhG0WnIWRYi",
    "outputId": "952d6142-4696-486b-c545-cf70aeb1eda9"
   },
   "outputs": [
    {
     "data": {
      "text/html": [],
      "text/plain": [
       "<IPython.core.display.HTML object>"
      ]
     },
     "metadata": {
      "tags": []
     },
     "output_type": "display_data"
    },
    {
     "name": "stdout",
     "output_type": "stream",
     "text": [
      "LR Finder is complete, type {learner_name}.recorder.plot() to see the graph.\n"
     ]
    },
    {
     "data": {
      "image/png": "[encoded data removed]",
      "text/plain": [
       "<Figure size 432x288 with 1 Axes>"
      ]
     },
     "metadata": {
      "tags": []
     },
     "output_type": "display_data"
    }
   ],
   "source": [
    "learn.freeze()\n",
    "learn.lr_find()\n",
    "learn.recorder.plot()"
   ]
  },
  {
   "cell_type": "code",
   "execution_count": 0,
   "metadata": {
    "colab": {
     "base_uri": "https://localhost:8080/",
     "height": 283
    },
    "colab_type": "code",
    "id": "YoxSPTf0WkVi",
    "outputId": "9d192f78-67cd-45aa-fab1-2f81027d6c87"
   },
   "outputs": [
    {
     "data": {
      "image/png": "[encoded data removed]",
      "text/plain": [
       "<Figure size 432x288 with 1 Axes>"
      ]
     },
     "metadata": {
      "tags": []
     },
     "output_type": "display_data"
    }
   ],
   "source": [
    "learn.recorder.plot(skip_end=15)"
   ]
  },
  {
   "cell_type": "code",
   "execution_count": 0,
   "metadata": {
    "colab": {
     "base_uri": "https://localhost:8080/",
     "height": 455
    },
    "colab_type": "code",
    "id": "X2NQ1NTcYS06",
    "outputId": "330bea59-d6ef-4eb7-9ef0-b10accee91d4"
   },
   "outputs": [
    {
     "data": {
      "text/html": [
       "<table border=\"1\" class=\"dataframe\">\n",
       "  <thead>\n",
       "    <tr style=\"text-align: left;\">\n",
       "      <th>epoch</th>\n",
       "      <th>train_loss</th>\n",
       "      <th>valid_loss</th>\n",
       "      <th>accuracy</th>\n",
       "      <th>time</th>\n",
       "    </tr>\n",
       "  </thead>\n",
       "  <tbody>\n",
       "    <tr>\n",
       "      <td>0</td>\n",
       "      <td>5.270266</td>\n",
       "      <td>5.245830</td>\n",
       "      <td>0.254610</td>\n",
       "      <td>07:27</td>\n",
       "    </tr>\n",
       "    <tr>\n",
       "      <td>1</td>\n",
       "      <td>4.914285</td>\n",
       "      <td>5.087304</td>\n",
       "      <td>0.264056</td>\n",
       "      <td>07:26</td>\n",
       "    </tr>\n",
       "  </tbody>\n",
       "</table>"
      ],
      "text/plain": [
       "<IPython.core.display.HTML object>"
      ]
     },
     "metadata": {
      "tags": []
     },
     "output_type": "display_data"
    },
    {
     "data": {
      "text/html": [
       "<table border=\"1\" class=\"dataframe\">\n",
       "  <thead>\n",
       "    <tr style=\"text-align: left;\">\n",
       "      <th>epoch</th>\n",
       "      <th>train_loss</th>\n",
       "      <th>valid_loss</th>\n",
       "      <th>accuracy</th>\n",
       "      <th>time</th>\n",
       "    </tr>\n",
       "  </thead>\n",
       "  <tbody>\n",
       "    <tr>\n",
       "      <td>0</td>\n",
       "      <td>5.068240</td>\n",
       "      <td>5.226252</td>\n",
       "      <td>0.257317</td>\n",
       "      <td>07:34</td>\n",
       "    </tr>\n",
       "    <tr>\n",
       "      <td>1</td>\n",
       "      <td>4.713046</td>\n",
       "      <td>5.034100</td>\n",
       "      <td>0.269995</td>\n",
       "      <td>07:34</td>\n",
       "    </tr>\n",
       "  </tbody>\n",
       "</table>"
      ],
      "text/plain": [
       "<IPython.core.display.HTML object>"
      ]
     },
     "metadata": {
      "tags": []
     },
     "output_type": "display_data"
    },
    {
     "data": {
      "text/html": [
       "<table border=\"1\" class=\"dataframe\">\n",
       "  <thead>\n",
       "    <tr style=\"text-align: left;\">\n",
       "      <th>epoch</th>\n",
       "      <th>train_loss</th>\n",
       "      <th>valid_loss</th>\n",
       "      <th>accuracy</th>\n",
       "      <th>time</th>\n",
       "    </tr>\n",
       "  </thead>\n",
       "  <tbody>\n",
       "    <tr>\n",
       "      <td>0</td>\n",
       "      <td>5.037805</td>\n",
       "      <td>5.261441</td>\n",
       "      <td>0.257508</td>\n",
       "      <td>07:58</td>\n",
       "    </tr>\n",
       "    <tr>\n",
       "      <td>1</td>\n",
       "      <td>4.680634</td>\n",
       "      <td>5.035485</td>\n",
       "      <td>0.272907</td>\n",
       "      <td>08:00</td>\n",
       "    </tr>\n",
       "  </tbody>\n",
       "</table>"
      ],
      "text/plain": [
       "<IPython.core.display.HTML object>"
      ]
     },
     "metadata": {
      "tags": []
     },
     "output_type": "display_data"
    },
    {
     "data": {
      "text/html": [
       "<table border=\"1\" class=\"dataframe\">\n",
       "  <thead>\n",
       "    <tr style=\"text-align: left;\">\n",
       "      <th>epoch</th>\n",
       "      <th>train_loss</th>\n",
       "      <th>valid_loss</th>\n",
       "      <th>accuracy</th>\n",
       "      <th>time</th>\n",
       "    </tr>\n",
       "  </thead>\n",
       "  <tbody>\n",
       "    <tr>\n",
       "      <td>0</td>\n",
       "      <td>4.912871</td>\n",
       "      <td>5.234925</td>\n",
       "      <td>0.257203</td>\n",
       "      <td>08:17</td>\n",
       "    </tr>\n",
       "    <tr>\n",
       "      <td>1</td>\n",
       "      <td>4.953098</td>\n",
       "      <td>5.199186</td>\n",
       "      <td>0.260961</td>\n",
       "      <td>08:17</td>\n",
       "    </tr>\n",
       "    <tr>\n",
       "      <td>2</td>\n",
       "      <td>4.684152</td>\n",
       "      <td>5.040317</td>\n",
       "      <td>0.270999</td>\n",
       "      <td>08:17</td>\n",
       "    </tr>\n",
       "    <tr>\n",
       "      <td>3</td>\n",
       "      <td>4.191275</td>\n",
       "      <td>5.007826</td>\n",
       "      <td>0.274803</td>\n",
       "      <td>08:17</td>\n",
       "    </tr>\n",
       "  </tbody>\n",
       "</table>"
      ],
      "text/plain": [
       "<IPython.core.display.HTML object>"
      ]
     },
     "metadata": {
      "tags": []
     },
     "output_type": "display_data"
    }
   ],
   "source": [
    "learn.fit_one_cycle(2, 1e-2)\n",
    "learn.save('bhai_AA_lm_head_wiki');\n",
    "learn.freeze_to(-2)\n",
    "learn.fit_one_cycle(2, 1e-2)\n",
    "learn.freeze_to(-3)\n",
    "learn.fit_one_cycle(2, 1e-2)\n",
    "learn.unfreeze()\n",
    "learn.fit_one_cycle(4, 1e-2)\n",
    "learn.save('bhai_AA_lm_body_wiki')"
   ]
  },
  {
   "cell_type": "code",
   "execution_count": 0,
   "metadata": {
    "colab": {},
    "colab_type": "code",
    "id": "rAJi75fTYrA1"
   },
   "outputs": [],
   "source": [
    "learn.save_encoder('bhai_AA_lm_enc_wiki')"
   ]
  },
  {
   "cell_type": "markdown",
   "metadata": {
    "colab_type": "text",
    "id": "uMnnPw9RewB8"
   },
   "source": [
    "#### Classifier"
   ]
  },
  {
   "cell_type": "code",
   "execution_count": 0,
   "metadata": {
    "colab": {
     "base_uri": "https://localhost:8080/",
     "height": 300
    },
    "colab_type": "code",
    "id": "6oJ2rUmEYygx",
    "outputId": "99c0228d-fd38-468f-bdb5-efee3ed0f4c5"
   },
   "outputs": [
    {
     "data": {
      "text/html": [],
      "text/plain": [
       "<IPython.core.display.HTML object>"
      ]
     },
     "metadata": {
      "tags": []
     },
     "output_type": "display_data"
    },
    {
     "name": "stdout",
     "output_type": "stream",
     "text": [
      "LR Finder is complete, type {learner_name}.recorder.plot() to see the graph.\n"
     ]
    },
    {
     "data": {
      "image/png": "[encoded data removed]",
      "text/plain": [
       "<Figure size 432x288 with 1 Axes>"
      ]
     },
     "metadata": {
      "tags": []
     },
     "output_type": "display_data"
    }
   ],
   "source": [
    "learn_cls = text_classifier_learner(data_clas, AWD_LSTM, drop_mult=0.5, pretrained=False)\n",
    "learn_cls.load_encoder('bhai_AA_lm_enc_wiki')\n",
    "learn_cls.freeze()\n",
    "learn_cls.lr_find()\n",
    "learn_cls.recorder.plot()"
   ]
  },
  {
   "cell_type": "code",
   "execution_count": 0,
   "metadata": {
    "colab": {
     "base_uri": "https://localhost:8080/",
     "height": 283
    },
    "colab_type": "code",
    "id": "Inktw9aMHf0F",
    "outputId": "db80ef97-1eeb-4982-d3e0-f2556edb6998"
   },
   "outputs": [
    {
     "data": {
      "image/png": "[encoded data removed]",
      "text/plain": [
       "<Figure size 432x288 with 1 Axes>"
      ]
     },
     "metadata": {
      "tags": []
     },
     "output_type": "display_data"
    }
   ],
   "source": [
    "learn_cls.recorder.plot(skip_end=10)"
   ]
  },
  {
   "cell_type": "code",
   "execution_count": 0,
   "metadata": {
    "colab": {
     "base_uri": "https://localhost:8080/",
     "height": 299
    },
    "colab_type": "code",
    "id": "6X3OCIa3fyba",
    "outputId": "11fac85e-4b2b-4420-fb45-7dbd2beb9480"
   },
   "outputs": [
    {
     "data": {
      "text/html": [
       "<table border=\"1\" class=\"dataframe\">\n",
       "  <thead>\n",
       "    <tr style=\"text-align: left;\">\n",
       "      <th>epoch</th>\n",
       "      <th>train_loss</th>\n",
       "      <th>valid_loss</th>\n",
       "      <th>accuracy</th>\n",
       "      <th>time</th>\n",
       "    </tr>\n",
       "  </thead>\n",
       "  <tbody>\n",
       "    <tr>\n",
       "      <td>0</td>\n",
       "      <td>0.752094</td>\n",
       "      <td>0.304642</td>\n",
       "      <td>0.911357</td>\n",
       "      <td>02:56</td>\n",
       "    </tr>\n",
       "    <tr>\n",
       "      <td>1</td>\n",
       "      <td>0.434900</td>\n",
       "      <td>0.193179</td>\n",
       "      <td>0.936288</td>\n",
       "      <td>03:05</td>\n",
       "    </tr>\n",
       "  </tbody>\n",
       "</table>"
      ],
      "text/plain": [
       "<IPython.core.display.HTML object>"
      ]
     },
     "metadata": {
      "tags": []
     },
     "output_type": "display_data"
    },
    {
     "data": {
      "text/html": [
       "<table border=\"1\" class=\"dataframe\">\n",
       "  <thead>\n",
       "    <tr style=\"text-align: left;\">\n",
       "      <th>epoch</th>\n",
       "      <th>train_loss</th>\n",
       "      <th>valid_loss</th>\n",
       "      <th>accuracy</th>\n",
       "      <th>time</th>\n",
       "    </tr>\n",
       "  </thead>\n",
       "  <tbody>\n",
       "    <tr>\n",
       "      <td>0</td>\n",
       "      <td>0.280947</td>\n",
       "      <td>0.233843</td>\n",
       "      <td>0.927978</td>\n",
       "      <td>02:58</td>\n",
       "    </tr>\n",
       "    <tr>\n",
       "      <td>1</td>\n",
       "      <td>0.221623</td>\n",
       "      <td>0.161880</td>\n",
       "      <td>0.939058</td>\n",
       "      <td>02:57</td>\n",
       "    </tr>\n",
       "  </tbody>\n",
       "</table>"
      ],
      "text/plain": [
       "<IPython.core.display.HTML object>"
      ]
     },
     "metadata": {
      "tags": []
     },
     "output_type": "display_data"
    },
    {
     "data": {
      "text/html": [
       "<table border=\"1\" class=\"dataframe\">\n",
       "  <thead>\n",
       "    <tr style=\"text-align: left;\">\n",
       "      <th>epoch</th>\n",
       "      <th>train_loss</th>\n",
       "      <th>valid_loss</th>\n",
       "      <th>accuracy</th>\n",
       "      <th>time</th>\n",
       "    </tr>\n",
       "  </thead>\n",
       "  <tbody>\n",
       "    <tr>\n",
       "      <td>0</td>\n",
       "      <td>0.152464</td>\n",
       "      <td>0.169746</td>\n",
       "      <td>0.950139</td>\n",
       "      <td>03:52</td>\n",
       "    </tr>\n",
       "    <tr>\n",
       "      <td>1</td>\n",
       "      <td>0.119005</td>\n",
       "      <td>0.167733</td>\n",
       "      <td>0.950139</td>\n",
       "      <td>04:01</td>\n",
       "    </tr>\n",
       "  </tbody>\n",
       "</table>"
      ],
      "text/plain": [
       "<IPython.core.display.HTML object>"
      ]
     },
     "metadata": {
      "tags": []
     },
     "output_type": "display_data"
    }
   ],
   "source": [
    "learn_cls.fit_one_cycle(2, 1e-2, moms=(0.8,0.7))\n",
    "learn_cls.save('bhai_cls_wiki')\n",
    "learn_cls.freeze_to(-2)\n",
    "learn_cls.fit_one_cycle(2 , slice(1e-2/(2.6**4),1e-2), moms=(0.8,0.7))\n",
    "learn_cls.save('bhai_cls_wiki_2')\n",
    "learn_cls.freeze_to(-3)\n",
    "learn_cls.fit_one_cycle(2, slice(5e-3/(2.8**4),5e-3), moms=(0.8,0.7)) #rerun plez\n",
    "learn_cls.save('bhai_cls_wiki_3')"
   ]
  },
  {
   "cell_type": "code",
   "execution_count": 0,
   "metadata": {
    "colab": {
     "base_uri": "https://localhost:8080/",
     "height": 173
    },
    "colab_type": "code",
    "id": "bmxT5CPeiTfc",
    "outputId": "84c3c665-4615-49d1-90ef-c5ac3ff4ebc6"
   },
   "outputs": [
    {
     "data": {
      "text/html": [
       "<table border=\"1\" class=\"dataframe\">\n",
       "  <thead>\n",
       "    <tr style=\"text-align: left;\">\n",
       "      <th>epoch</th>\n",
       "      <th>train_loss</th>\n",
       "      <th>valid_loss</th>\n",
       "      <th>accuracy</th>\n",
       "      <th>time</th>\n",
       "    </tr>\n",
       "  </thead>\n",
       "  <tbody>\n",
       "    <tr>\n",
       "      <td>0</td>\n",
       "      <td>0.059621</td>\n",
       "      <td>0.164789</td>\n",
       "      <td>0.947368</td>\n",
       "      <td>05:06</td>\n",
       "    </tr>\n",
       "    <tr>\n",
       "      <td>1</td>\n",
       "      <td>0.061343</td>\n",
       "      <td>0.144360</td>\n",
       "      <td>0.952909</td>\n",
       "      <td>04:56</td>\n",
       "    </tr>\n",
       "    <tr>\n",
       "      <td>2</td>\n",
       "      <td>0.051176</td>\n",
       "      <td>0.141039</td>\n",
       "      <td>0.958449</td>\n",
       "      <td>04:51</td>\n",
       "    </tr>\n",
       "    <tr>\n",
       "      <td>3</td>\n",
       "      <td>0.048833</td>\n",
       "      <td>0.136720</td>\n",
       "      <td>0.955679</td>\n",
       "      <td>04:39</td>\n",
       "    </tr>\n",
       "  </tbody>\n",
       "</table>"
      ],
      "text/plain": [
       "<IPython.core.display.HTML object>"
      ]
     },
     "metadata": {
      "tags": []
     },
     "output_type": "display_data"
    }
   ],
   "source": [
    "learn_cls.unfreeze()\n",
    "learn_cls.fit_one_cycle(4, slice(1e-3/(2.6**4),1e-3), moms=(0.8,0.7))\n",
    "learn_cls.save('bhai_cls_wiki_4')"
   ]
  },
  {
   "cell_type": "markdown",
   "metadata": {
    "colab_type": "text",
    "id": "2CtrgS5vlJ6C"
   },
   "source": [
    "#### Test"
   ]
  },
  {
   "cell_type": "code",
   "execution_count": 0,
   "metadata": {
    "colab": {
     "base_uri": "https://localhost:8080/",
     "height": 105
    },
    "colab_type": "code",
    "id": "2LIr--yrISCR",
    "outputId": "a47565cc-8906-407d-8527-ed3b6b82feed"
   },
   "outputs": [
    {
     "name": "stdout",
     "output_type": "stream",
     "text": [
      "300\n",
      "Accuracy: \n",
      "0.9433333333333334\n",
      "[('rg', 'mk'), ('rn', 'ij'), ('rn', 'mk'), ('rn', 'mk'), ('mk', 'rg'), ('rg', 'rn'), ('mk', 'rn'), ('rg', 'mk'), ('rg', 'ij'), ('hm', 'mk'), ('rg', 'mk'), ('fe', 'mk'), ('rg', 'mk'), ('rn', 'mk'), ('mk', 'fe'), ('rn', 'mk'), ('rg', 'rn')]\n"
     ]
    }
   ],
   "source": [
    "pred,targ = testing(aa/\"ulm_test.csv\")"
   ]
  },
  {
   "cell_type": "code",
   "execution_count": 0,
   "metadata": {
    "colab": {
     "base_uri": "https://localhost:8080/",
     "height": 51
    },
    "colab_type": "code",
    "id": "1w5GsmgPG2TG",
    "outputId": "df4a56de-af68-4671-9b26-bbfd39c4e0a0"
   },
   "outputs": [
    {
     "data": {
      "text/plain": [
       "(array([0.98    , 0.989899, 0.980392, 0.878505, 0.914894, 0.918367]),\n",
       " 0.9436761306031639)"
      ]
     },
     "execution_count": 28,
     "metadata": {
      "tags": []
     },
     "output_type": "execute_result"
    }
   ],
   "source": [
    "from sklearn.metrics import f1_score\n",
    "out  = f1_score(targ, pred, average=None) #'macro' , also == weighted cuz dataset is balanced\n",
    "out , out.mean()"
   ]
  },
  {
   "cell_type": "markdown",
   "metadata": {
    "colab_type": "text",
    "id": "puslj5mP9IHV"
   },
   "source": [
    "## Testing Classification in News corpus (pretrained on Wiki corpus)"
   ]
  },
  {
   "cell_type": "markdown",
   "metadata": {
    "colab_type": "text",
    "id": "k7MxpJ3Q1Xoi"
   },
   "source": [
    "### LM tuning"
   ]
  },
  {
   "cell_type": "code",
   "execution_count": 0,
   "metadata": {
    "colab": {},
    "colab_type": "code",
    "id": "X3l5wQQb1Xok"
   },
   "outputs": [],
   "source": [
    "data_lm_AA = TextLMDataBunch.from_csv(news, 'full_doc_train.csv', vocab=data_lm.train_ds.vocab, bs=bs)\n",
    "data_lm_AA.save('news_data_lm_wiki.pkl')"
   ]
  },
  {
   "cell_type": "code",
   "execution_count": 0,
   "metadata": {
    "colab": {},
    "colab_type": "code",
    "id": "NiVPHAtF1Xos"
   },
   "outputs": [],
   "source": [
    "data_lm_AA=load_data(news,'news_data_lm_wiki.pkl',bs=bs)"
   ]
  },
  {
   "cell_type": "code",
   "execution_count": 0,
   "metadata": {
    "colab": {},
    "colab_type": "code",
    "id": "lj7jTrLo1Xoy"
   },
   "outputs": [],
   "source": [
    "learn = language_model_learner(data_lm_AA, AWD_LSTM, pretrained=False, drop_mult=0.5)"
   ]
  },
  {
   "cell_type": "code",
   "execution_count": 0,
   "metadata": {
    "colab": {},
    "colab_type": "code",
    "id": "HYbJshug1Xo2"
   },
   "outputs": [],
   "source": [
    "learn.load(wiki/'models'/'wiki_word_lm_30');"
   ]
  },
  {
   "cell_type": "code",
   "execution_count": 0,
   "metadata": {
    "colab": {},
    "colab_type": "code",
    "id": "xz7oR_Ai1Xo-"
   },
   "outputs": [],
   "source": [
    "learn.freeze()"
   ]
  },
  {
   "cell_type": "code",
   "execution_count": 0,
   "metadata": {
    "colab": {
     "base_uri": "https://localhost:8080/",
     "height": 300
    },
    "colab_type": "code",
    "id": "lY0Yrbq_1XpI",
    "outputId": "6b2b73f9-5c31-4891-eb53-ecc098c12e25"
   },
   "outputs": [
    {
     "data": {
      "text/html": [],
      "text/plain": [
       "<IPython.core.display.HTML object>"
      ]
     },
     "metadata": {
      "tags": []
     },
     "output_type": "display_data"
    },
    {
     "name": "stdout",
     "output_type": "stream",
     "text": [
      "LR Finder is complete, type {learner_name}.recorder.plot() to see the graph.\n"
     ]
    },
    {
     "data": {
      "image/png": "[encoded data removed]",
      "text/plain": [
       "<Figure size 432x288 with 1 Axes>"
      ]
     },
     "metadata": {
      "tags": []
     },
     "output_type": "display_data"
    }
   ],
   "source": [
    "learn.lr_find()\n",
    "learn.recorder.plot()"
   ]
  },
  {
   "cell_type": "code",
   "execution_count": 0,
   "metadata": {
    "colab": {
     "base_uri": "https://localhost:8080/",
     "height": 283
    },
    "colab_type": "code",
    "id": "5yjtZeVJ1Xpe",
    "outputId": "0e5257da-e733-4863-b368-25ad41a10832"
   },
   "outputs": [
    {
     "data": {
      "image/png": "[encoded data removed]",
      "text/plain": [
       "<Figure size 432x288 with 1 Axes>"
      ]
     },
     "metadata": {
      "tags": []
     },
     "output_type": "display_data"
    }
   ],
   "source": [
    "learn.recorder.plot(skip_end=15)"
   ]
  },
  {
   "cell_type": "code",
   "execution_count": 0,
   "metadata": {
    "colab": {
     "base_uri": "https://localhost:8080/",
     "height": 80
    },
    "colab_type": "code",
    "id": "sPmcXbr61Xpl",
    "outputId": "307e60aa-1c65-4b3e-ea70-454e028f3873"
   },
   "outputs": [
    {
     "data": {
      "text/html": [
       "<table border=\"1\" class=\"dataframe\">\n",
       "  <thead>\n",
       "    <tr style=\"text-align: left;\">\n",
       "      <th>epoch</th>\n",
       "      <th>train_loss</th>\n",
       "      <th>valid_loss</th>\n",
       "      <th>accuracy</th>\n",
       "      <th>time</th>\n",
       "    </tr>\n",
       "  </thead>\n",
       "  <tbody>\n",
       "    <tr>\n",
       "      <td>0</td>\n",
       "      <td>4.410889</td>\n",
       "      <td>4.299798</td>\n",
       "      <td>0.320664</td>\n",
       "      <td>45:04</td>\n",
       "    </tr>\n",
       "  </tbody>\n",
       "</table>"
      ],
      "text/plain": [
       "<IPython.core.display.HTML object>"
      ]
     },
     "metadata": {
      "tags": []
     },
     "output_type": "display_data"
    }
   ],
   "source": [
    "learn.freeze()\n",
    "learn.fit_one_cycle(1, 1e-2)\n",
    "learn.save('news_wiki_lm_head');"
   ]
  },
  {
   "cell_type": "code",
   "execution_count": 0,
   "metadata": {
    "colab": {
     "base_uri": "https://localhost:8080/",
     "height": 80
    },
    "colab_type": "code",
    "id": "DkDH0jOhupIb",
    "outputId": "3c3a50b0-a3c1-4f08-cf0f-34b04b295c90"
   },
   "outputs": [
    {
     "data": {
      "text/html": [
       "<table border=\"1\" class=\"dataframe\">\n",
       "  <thead>\n",
       "    <tr style=\"text-align: left;\">\n",
       "      <th>epoch</th>\n",
       "      <th>train_loss</th>\n",
       "      <th>valid_loss</th>\n",
       "      <th>accuracy</th>\n",
       "      <th>time</th>\n",
       "    </tr>\n",
       "  </thead>\n",
       "  <tbody>\n",
       "    <tr>\n",
       "      <td>0</td>\n",
       "      <td>4.413354</td>\n",
       "      <td>4.281544</td>\n",
       "      <td>0.322242</td>\n",
       "      <td>45:05</td>\n",
       "    </tr>\n",
       "  </tbody>\n",
       "</table>"
      ],
      "text/plain": [
       "<IPython.core.display.HTML object>"
      ]
     },
     "metadata": {
      "tags": []
     },
     "output_type": "display_data"
    }
   ],
   "source": [
    "learn.fit_one_cycle(1, 1e-2)\n",
    "learn.save('news_wiki_lm_head_2');"
   ]
  },
  {
   "cell_type": "code",
   "execution_count": 0,
   "metadata": {
    "colab": {
     "base_uri": "https://localhost:8080/",
     "height": 80
    },
    "colab_type": "code",
    "id": "GIKzQWug1Xpx",
    "outputId": "acad0365-55f2-4626-823b-f35d627575d9"
   },
   "outputs": [
    {
     "data": {
      "text/html": [
       "<table border=\"1\" class=\"dataframe\">\n",
       "  <thead>\n",
       "    <tr style=\"text-align: left;\">\n",
       "      <th>epoch</th>\n",
       "      <th>train_loss</th>\n",
       "      <th>valid_loss</th>\n",
       "      <th>accuracy</th>\n",
       "      <th>time</th>\n",
       "    </tr>\n",
       "  </thead>\n",
       "  <tbody>\n",
       "    <tr>\n",
       "      <td>0</td>\n",
       "      <td>4.262488</td>\n",
       "      <td>4.125757</td>\n",
       "      <td>0.344763</td>\n",
       "      <td>45:52</td>\n",
       "    </tr>\n",
       "  </tbody>\n",
       "</table>"
      ],
      "text/plain": [
       "<IPython.core.display.HTML object>"
      ]
     },
     "metadata": {
      "tags": []
     },
     "output_type": "display_data"
    }
   ],
   "source": [
    "# learn.load('news_wiki_lm_head_2');\n",
    "learn.freeze_to(-2) \n",
    "learn.fit_one_cycle(1, 1e-2)\n",
    "learn.save('news_wiki_lm_body_1');"
   ]
  },
  {
   "cell_type": "code",
   "execution_count": 0,
   "metadata": {
    "colab": {
     "base_uri": "https://localhost:8080/",
     "height": 80
    },
    "colab_type": "code",
    "id": "4qVyRK9uHW5p",
    "outputId": "26b27155-cdff-4ca4-e862-81ca1cbd9da0"
   },
   "outputs": [
    {
     "data": {
      "text/html": [
       "<table border=\"1\" class=\"dataframe\">\n",
       "  <thead>\n",
       "    <tr style=\"text-align: left;\">\n",
       "      <th>epoch</th>\n",
       "      <th>train_loss</th>\n",
       "      <th>valid_loss</th>\n",
       "      <th>accuracy</th>\n",
       "      <th>time</th>\n",
       "    </tr>\n",
       "  </thead>\n",
       "  <tbody>\n",
       "    <tr>\n",
       "      <td>0</td>\n",
       "      <td>4.131681</td>\n",
       "      <td>4.095623</td>\n",
       "      <td>0.347484</td>\n",
       "      <td>45:55</td>\n",
       "    </tr>\n",
       "  </tbody>\n",
       "</table>"
      ],
      "text/plain": [
       "<IPython.core.display.HTML object>"
      ]
     },
     "metadata": {
      "tags": []
     },
     "output_type": "display_data"
    }
   ],
   "source": [
    "learn.fit_one_cycle(1, 1e-2)\n",
    "learn.save('news_wiki_lm_body_2');"
   ]
  },
  {
   "cell_type": "code",
   "execution_count": 0,
   "metadata": {
    "colab": {
     "base_uri": "https://localhost:8080/",
     "height": 80
    },
    "colab_type": "code",
    "id": "K4Zg1nLk1Xp2",
    "outputId": "a9bd116a-530f-4cef-b5d1-1d29c886cedf"
   },
   "outputs": [
    {
     "data": {
      "text/html": [
       "<table border=\"1\" class=\"dataframe\">\n",
       "  <thead>\n",
       "    <tr style=\"text-align: left;\">\n",
       "      <th>epoch</th>\n",
       "      <th>train_loss</th>\n",
       "      <th>valid_loss</th>\n",
       "      <th>accuracy</th>\n",
       "      <th>time</th>\n",
       "    </tr>\n",
       "  </thead>\n",
       "  <tbody>\n",
       "    <tr>\n",
       "      <td>0</td>\n",
       "      <td>4.144144</td>\n",
       "      <td>4.048460</td>\n",
       "      <td>0.353788</td>\n",
       "      <td>48:03</td>\n",
       "    </tr>\n",
       "  </tbody>\n",
       "</table>"
      ],
      "text/plain": [
       "<IPython.core.display.HTML object>"
      ]
     },
     "metadata": {
      "tags": []
     },
     "output_type": "display_data"
    }
   ],
   "source": [
    "learn.freeze_to(-3) \n",
    "learn.fit_one_cycle(1, 1e-2)\n",
    "learn.save('news_wiki_lm_body_3');"
   ]
  },
  {
   "cell_type": "code",
   "execution_count": 0,
   "metadata": {
    "colab": {
     "base_uri": "https://localhost:8080/",
     "height": 80
    },
    "colab_type": "code",
    "id": "V-IjE93tHdDY",
    "outputId": "93c5a748-9e12-4c71-d2ab-92d39c60c95e"
   },
   "outputs": [
    {
     "data": {
      "text/html": [
       "<table border=\"1\" class=\"dataframe\">\n",
       "  <thead>\n",
       "    <tr style=\"text-align: left;\">\n",
       "      <th>epoch</th>\n",
       "      <th>train_loss</th>\n",
       "      <th>valid_loss</th>\n",
       "      <th>accuracy</th>\n",
       "      <th>time</th>\n",
       "    </tr>\n",
       "  </thead>\n",
       "  <tbody>\n",
       "    <tr>\n",
       "      <td>0</td>\n",
       "      <td>4.091102</td>\n",
       "      <td>3.996618</td>\n",
       "      <td>0.358590</td>\n",
       "      <td>48:02</td>\n",
       "    </tr>\n",
       "  </tbody>\n",
       "</table>"
      ],
      "text/plain": [
       "<IPython.core.display.HTML object>"
      ]
     },
     "metadata": {
      "tags": []
     },
     "output_type": "display_data"
    }
   ],
   "source": [
    "learn.fit_one_cycle(1, 1e-2)\n",
    "learn.save('news_wiki_lm_body_4');"
   ]
  },
  {
   "cell_type": "code",
   "execution_count": 0,
   "metadata": {
    "colab": {
     "base_uri": "https://localhost:8080/",
     "height": 80
    },
    "colab_type": "code",
    "id": "YowVzChw1XqA",
    "outputId": "2d9105ed-5d50-4ab7-c898-51c7d7005514"
   },
   "outputs": [
    {
     "data": {
      "text/html": [
       "<table border=\"1\" class=\"dataframe\">\n",
       "  <thead>\n",
       "    <tr style=\"text-align: left;\">\n",
       "      <th>epoch</th>\n",
       "      <th>train_loss</th>\n",
       "      <th>valid_loss</th>\n",
       "      <th>accuracy</th>\n",
       "      <th>time</th>\n",
       "    </tr>\n",
       "  </thead>\n",
       "  <tbody>\n",
       "    <tr>\n",
       "      <td>0</td>\n",
       "      <td>3.846791</td>\n",
       "      <td>3.913681</td>\n",
       "      <td>0.366025</td>\n",
       "      <td>49:59</td>\n",
       "    </tr>\n",
       "  </tbody>\n",
       "</table>"
      ],
      "text/plain": [
       "<IPython.core.display.HTML object>"
      ]
     },
     "metadata": {
      "tags": []
     },
     "output_type": "display_data"
    }
   ],
   "source": [
    "learn.load('news_wiki_lm_body_4');\n",
    "learn.unfreeze()\n",
    "learn.fit_one_cycle(1, 1e-3)\n",
    "learn.save('news_wiki_lm_body_5');"
   ]
  },
  {
   "cell_type": "code",
   "execution_count": 0,
   "metadata": {
    "colab": {
     "base_uri": "https://localhost:8080/",
     "height": 80
    },
    "colab_type": "code",
    "id": "w820_Swd2c4j",
    "outputId": "380b3f09-8171-4d06-909d-4cd90f696376"
   },
   "outputs": [
    {
     "data": {
      "text/html": [
       "<table border=\"1\" class=\"dataframe\">\n",
       "  <thead>\n",
       "    <tr style=\"text-align: left;\">\n",
       "      <th>epoch</th>\n",
       "      <th>train_loss</th>\n",
       "      <th>valid_loss</th>\n",
       "      <th>accuracy</th>\n",
       "      <th>time</th>\n",
       "    </tr>\n",
       "  </thead>\n",
       "  <tbody>\n",
       "    <tr>\n",
       "      <td>0</td>\n",
       "      <td>3.964772</td>\n",
       "      <td>3.873145</td>\n",
       "      <td>0.370056</td>\n",
       "      <td>50:12</td>\n",
       "    </tr>\n",
       "  </tbody>\n",
       "</table>"
      ],
      "text/plain": [
       "<IPython.core.display.HTML object>"
      ]
     },
     "metadata": {
      "tags": []
     },
     "output_type": "display_data"
    }
   ],
   "source": [
    "learn.fit_one_cycle(1, 1e-3)\n",
    "learn.save('news_wiki_lm_body_6');"
   ]
  },
  {
   "cell_type": "code",
   "execution_count": 0,
   "metadata": {
    "colab": {
     "base_uri": "https://localhost:8080/",
     "height": 80
    },
    "colab_type": "code",
    "id": "4nmDGPuxGK2J",
    "outputId": "ab81340b-368f-4f30-8a2b-ac87335375a9"
   },
   "outputs": [
    {
     "data": {
      "text/html": [
       "<table border=\"1\" class=\"dataframe\">\n",
       "  <thead>\n",
       "    <tr style=\"text-align: left;\">\n",
       "      <th>epoch</th>\n",
       "      <th>train_loss</th>\n",
       "      <th>valid_loss</th>\n",
       "      <th>accuracy</th>\n",
       "      <th>time</th>\n",
       "    </tr>\n",
       "  </thead>\n",
       "  <tbody>\n",
       "    <tr>\n",
       "      <td>0</td>\n",
       "      <td>3.701616</td>\n",
       "      <td>3.842607</td>\n",
       "      <td>0.373187</td>\n",
       "      <td>50:13</td>\n",
       "    </tr>\n",
       "  </tbody>\n",
       "</table>"
      ],
      "text/plain": [
       "<IPython.core.display.HTML object>"
      ]
     },
     "metadata": {
      "tags": []
     },
     "output_type": "display_data"
    }
   ],
   "source": [
    "learn.fit_one_cycle(1, 1e-3)\n",
    "learn.save('news_wiki_lm_body_7');"
   ]
  },
  {
   "cell_type": "code",
   "execution_count": 0,
   "metadata": {
    "colab": {
     "base_uri": "https://localhost:8080/",
     "height": 80
    },
    "colab_type": "code",
    "id": "XRJAXaSFGKyg",
    "outputId": "15c0b2a6-1a38-41ad-a638-33920ef09dec"
   },
   "outputs": [
    {
     "data": {
      "text/html": [
       "<table border=\"1\" class=\"dataframe\">\n",
       "  <thead>\n",
       "    <tr style=\"text-align: left;\">\n",
       "      <th>epoch</th>\n",
       "      <th>train_loss</th>\n",
       "      <th>valid_loss</th>\n",
       "      <th>accuracy</th>\n",
       "      <th>time</th>\n",
       "    </tr>\n",
       "  </thead>\n",
       "  <tbody>\n",
       "    <tr>\n",
       "      <td>0</td>\n",
       "      <td>3.914714</td>\n",
       "      <td>3.818125</td>\n",
       "      <td>0.375746</td>\n",
       "      <td>50:14</td>\n",
       "    </tr>\n",
       "  </tbody>\n",
       "</table>"
      ],
      "text/plain": [
       "<IPython.core.display.HTML object>"
      ]
     },
     "metadata": {
      "tags": []
     },
     "output_type": "display_data"
    }
   ],
   "source": [
    "learn.fit_one_cycle(1, 1e-3)\n",
    "learn.save('news_wiki_lm_body_8');"
   ]
  },
  {
   "cell_type": "code",
   "execution_count": 0,
   "metadata": {
    "colab": {
     "base_uri": "https://localhost:8080/",
     "height": 80
    },
    "colab_type": "code",
    "id": "CD3lg2bc9l2S",
    "outputId": "785c1b0e-268c-4ac6-c874-bfd095c0b340"
   },
   "outputs": [
    {
     "data": {
      "text/html": [
       "<table border=\"1\" class=\"dataframe\">\n",
       "  <thead>\n",
       "    <tr style=\"text-align: left;\">\n",
       "      <th>epoch</th>\n",
       "      <th>train_loss</th>\n",
       "      <th>valid_loss</th>\n",
       "      <th>accuracy</th>\n",
       "      <th>time</th>\n",
       "    </tr>\n",
       "  </thead>\n",
       "  <tbody>\n",
       "    <tr>\n",
       "      <td>0</td>\n",
       "      <td>3.807999</td>\n",
       "      <td>3.795679</td>\n",
       "      <td>0.377686</td>\n",
       "      <td>50:02</td>\n",
       "    </tr>\n",
       "  </tbody>\n",
       "</table>"
      ],
      "text/plain": [
       "<IPython.core.display.HTML object>"
      ]
     },
     "metadata": {
      "tags": []
     },
     "output_type": "display_data"
    }
   ],
   "source": [
    "learn.fit_one_cycle(1, 1e-3)\n",
    "learn.save('news_wiki_lm_body_9');"
   ]
  },
  {
   "cell_type": "code",
   "execution_count": 0,
   "metadata": {
    "colab": {
     "base_uri": "https://localhost:8080/",
     "height": 80
    },
    "colab_type": "code",
    "id": "XJokzDdX9lyS",
    "outputId": "47648537-a567-4d82-de6d-7c074fde8ab8"
   },
   "outputs": [
    {
     "data": {
      "text/html": [
       "<table border=\"1\" class=\"dataframe\">\n",
       "  <thead>\n",
       "    <tr style=\"text-align: left;\">\n",
       "      <th>epoch</th>\n",
       "      <th>train_loss</th>\n",
       "      <th>valid_loss</th>\n",
       "      <th>accuracy</th>\n",
       "      <th>time</th>\n",
       "    </tr>\n",
       "  </thead>\n",
       "  <tbody>\n",
       "    <tr>\n",
       "      <td>0</td>\n",
       "      <td>3.745599</td>\n",
       "      <td>3.777520</td>\n",
       "      <td>0.379648</td>\n",
       "      <td>50:13</td>\n",
       "    </tr>\n",
       "  </tbody>\n",
       "</table>"
      ],
      "text/plain": [
       "<IPython.core.display.HTML object>"
      ]
     },
     "metadata": {
      "tags": []
     },
     "output_type": "display_data"
    }
   ],
   "source": [
    "learn.fit_one_cycle(1, 1e-3)\n",
    "learn.save('news_wiki_lm_body_10');"
   ]
  },
  {
   "cell_type": "code",
   "execution_count": 0,
   "metadata": {
    "colab": {
     "base_uri": "https://localhost:8080/",
     "height": 80
    },
    "colab_type": "code",
    "id": "vvjsfUAg9luK",
    "outputId": "e6f46c32-1521-455b-9057-2bc92147511f"
   },
   "outputs": [
    {
     "data": {
      "text/html": [
       "<table border=\"1\" class=\"dataframe\">\n",
       "  <thead>\n",
       "    <tr style=\"text-align: left;\">\n",
       "      <th>epoch</th>\n",
       "      <th>train_loss</th>\n",
       "      <th>valid_loss</th>\n",
       "      <th>accuracy</th>\n",
       "      <th>time</th>\n",
       "    </tr>\n",
       "  </thead>\n",
       "  <tbody>\n",
       "    <tr>\n",
       "      <td>0</td>\n",
       "      <td>3.792172</td>\n",
       "      <td>3.760823</td>\n",
       "      <td>0.381324</td>\n",
       "      <td>50:08</td>\n",
       "    </tr>\n",
       "  </tbody>\n",
       "</table>"
      ],
      "text/plain": [
       "<IPython.core.display.HTML object>"
      ]
     },
     "metadata": {
      "tags": []
     },
     "output_type": "display_data"
    }
   ],
   "source": [
    "learn.fit_one_cycle(1, 1e-3)\n",
    "learn.save('news_wiki_lm_body_11');"
   ]
  },
  {
   "cell_type": "code",
   "execution_count": 0,
   "metadata": {
    "colab": {
     "base_uri": "https://localhost:8080/",
     "height": 80
    },
    "colab_type": "code",
    "id": "WXCUZ4uv9loa",
    "outputId": "7971f309-24d2-4dce-9b2b-50a077ad5992"
   },
   "outputs": [
    {
     "data": {
      "text/html": [
       "<table border=\"1\" class=\"dataframe\">\n",
       "  <thead>\n",
       "    <tr style=\"text-align: left;\">\n",
       "      <th>epoch</th>\n",
       "      <th>train_loss</th>\n",
       "      <th>valid_loss</th>\n",
       "      <th>accuracy</th>\n",
       "      <th>time</th>\n",
       "    </tr>\n",
       "  </thead>\n",
       "  <tbody>\n",
       "    <tr>\n",
       "      <td>0</td>\n",
       "      <td>3.808039</td>\n",
       "      <td>3.744550</td>\n",
       "      <td>0.382912</td>\n",
       "      <td>50:11</td>\n",
       "    </tr>\n",
       "  </tbody>\n",
       "</table>"
      ],
      "text/plain": [
       "<IPython.core.display.HTML object>"
      ]
     },
     "metadata": {
      "tags": []
     },
     "output_type": "display_data"
    }
   ],
   "source": [
    "learn.fit_one_cycle(1, 1e-3)\n",
    "learn.save('news_wiki_lm_body_12');"
   ]
  },
  {
   "cell_type": "code",
   "execution_count": 0,
   "metadata": {
    "colab": {},
    "colab_type": "code",
    "id": "jIP9QVR51XqM"
   },
   "outputs": [],
   "source": [
    "learn.save_encoder('news_wiki_lm_enc')"
   ]
  },
  {
   "cell_type": "markdown",
   "metadata": {
    "colab_type": "text",
    "id": "KSIkxBLZ1XqX"
   },
   "source": [
    "### Classifier"
   ]
  },
  {
   "cell_type": "code",
   "execution_count": 0,
   "metadata": {
    "colab": {},
    "colab_type": "code",
    "id": "VLXo6CFw1XqZ"
   },
   "outputs": [],
   "source": [
    "# data_clas = TextClasDataBunch.from_csv(news, 'full_doc_train.csv', vocab=data_lm.train_ds.vocab, bs=bs)\n",
    "# data_clas.save('news_data_clas_wiki.pkl')\n",
    "\n",
    "data_clas=load_data(news,'news_data_clas_wiki.pkl',bs=bs)"
   ]
  },
  {
   "cell_type": "code",
   "execution_count": 0,
   "metadata": {
    "colab": {
     "base_uri": "https://localhost:8080/",
     "height": 323
    },
    "colab_type": "code",
    "id": "lANLib-V1Xql",
    "outputId": "6eb2397f-0632-4bcb-bd21-1be0d244ab39"
   },
   "outputs": [
    {
     "data": {
      "text/html": [
       "<table border=\"1\" class=\"dataframe\">\n",
       "  <thead>\n",
       "    <tr style=\"text-align: right;\">\n",
       "      <th>text</th>\n",
       "      <th>target</th>\n",
       "    </tr>\n",
       "  </thead>\n",
       "  <tbody>\n",
       "    <tr>\n",
       "      <td>xxbos যেমন : গ্রেগর xxunk নামের এক xxunk এক সকালে ঘুম থেকে উঠে দেখে , সে একটা xxunk পরিণত xxunk xxunk ; কিন্তু xxunk তখনো xxunk অফিসে xxunk xxunk যেন আবার মিস না xxunk xxunk ( গল্প ‘ রূপান্তর ’ ) ; জোসেফ কে . নামের এক নিরপরাধ xxunk একদিন সকালে অজানা এক অপরাধের xxunk দুজন সরকারি এজেন্ট আকস্মিক গ্রেপ্তার করে বসে । কে . র প্রতিবেশী মহিলার ঘরে তার</td>\n",
       "      <td>art</td>\n",
       "    </tr>\n",
       "    <tr>\n",
       "      <td>xxbos ঢাকা থেকে জার্মানির রাজধানী বার্লিন xxunk যখন xxunk - উৎসব শুরু হতে তখনও তিন সপ্তাহ বাকি । বাংলাদেশের স্বল্পদৈর্ঘ্য চলচ্চিত্র উৎসব xxunk xxunk থাকার সুবাদে xxunk xxunk সম্প্রচার সংস্থা - xxunk xxunk আমন্ত্রণে এই সফর । xxunk xxunk xxunk এক দশক যাবত পৃথিবীর নানা প্রান্তের নানা দেশের চলচ্চিত্র উৎসব xxunk xxunk xxunk বছরের এই xxunk পাঁচ সপ্তাহব্যাপী এক কর্মশালার xxunk করে থাকে । এই xxunk মূল আকর্ষণ xxunk —</td>\n",
       "      <td>education</td>\n",
       "    </tr>\n",
       "    <tr>\n",
       "      <td>xxbos xxunk আওতার মধ্যেকার মানুষের জীবনকে কেন্দ্র করে লেখা পাঠক xxunk স্পর্শ করে xxunk যত বই xxunk xxunk সেগুলোর মধ্যে xxunk মহৎ xxunk দ্যা xxunk অফ এ xxunk গার্ল xxunk ডাচ তরুণী অ্যানা ফ্রাঙ্কের পর্যবেক্ষণ হচ্ছে- “ xxunk xxunk xxunk xxunk হতে রেহাই xxunk xxunk না ” । xxunk রুজভেল্টের xxunk ১৯৪৭ সালে প্রকাশিত অ্যানা ফ্রাঙ্কের xxunk , xxunk ক্যাম্প এবং গ্যাস চেম্বারের হাত থেকে রেহাই xxunk xxunk ইহুদীদের জীবনে</td>\n",
       "      <td>art</td>\n",
       "    </tr>\n",
       "    <tr>\n",
       "      <td>xxbos বিশেষ অনুষ্ঠানমালা এটিএন বাংলা সকাল ৯ : ৪৫ প্রামাণ্য অনুষ্ঠান : xxunk ৭১ বিকাল ৫ : ৪২ তথ্য চিত্র : হেজাজের কাফেলা সন্ধ্যা ৬ : ৪৫ xxunk সন্ধ্যা ৬ : ৫৬ ইসলামী সঙ্গীত    এনটিভি বিকেল ৪ : ১০ xxunk xxunk গান বিকেল ৫ : ৪০ আল কোরআনের আলো    দেশ টিভি বিকাল    ৪ : ৩০ রমজান স্পেশাল বিকাল    ৫ : ০০ রমজানের</td>\n",
       "      <td>entertainment</td>\n",
       "    </tr>\n",
       "    <tr>\n",
       "      <td>xxbos বিশেষ অনুষ্ঠান এটিএন বাংলা সকাল ৯ : ৪৫ প্রামাণ্য অনুষ্ঠান : xxunk ৭১ বিকাল ৪ : ৩০ আলোচনা অনুষ্ঠান : সৌভাগ্যের পরশ বিকাল ৫ : ১০ ইসলামী কুইজ প্রতিযোগিতা : জানতে চাই বিকাল ৫ : ৪৫ তথ্যচিত্র : হেজাজের কাফেলা সন্ধ্যা ৬ : ১৫ ইসলামী xxunk ও xxunk )    একুশে সন্ধ্যা ৬ : ২০ xxunk হাট রাত ১১ : ৪৫ ঈদ বাজার    দেশ টিভি বিকাল</td>\n",
       "      <td>entertainment</td>\n",
       "    </tr>\n",
       "  </tbody>\n",
       "</table>"
      ],
      "text/plain": [
       "<IPython.core.display.HTML object>"
      ]
     },
     "metadata": {
      "tags": []
     },
     "output_type": "display_data"
    }
   ],
   "source": [
    "data_clas.show_batch()"
   ]
  },
  {
   "cell_type": "code",
   "execution_count": 0,
   "metadata": {
    "colab": {},
    "colab_type": "code",
    "id": "E3wp_W581Xq_"
   },
   "outputs": [],
   "source": [
    "learn_cls = text_classifier_learner(data_clas, AWD_LSTM, drop_mult=0.5, pretrained=False)"
   ]
  },
  {
   "cell_type": "code",
   "execution_count": 0,
   "metadata": {
    "colab": {},
    "colab_type": "code",
    "id": "i2OFi5GK1XrE"
   },
   "outputs": [],
   "source": [
    "learn_cls.load_encoder('news_wiki_lm_enc')"
   ]
  },
  {
   "cell_type": "code",
   "execution_count": 0,
   "metadata": {
    "colab": {},
    "colab_type": "code",
    "id": "a97lgkU11XrK"
   },
   "outputs": [],
   "source": [
    "learn_cls.freeze()"
   ]
  },
  {
   "cell_type": "code",
   "execution_count": 0,
   "metadata": {
    "colab": {
     "base_uri": "https://localhost:8080/",
     "height": 34
    },
    "colab_type": "code",
    "id": "9cnU4LyJ1XrP",
    "outputId": "d5bd54b9-7301-4324-82ab-2e516010c36e"
   },
   "outputs": [
    {
     "data": {
      "text/html": [],
      "text/plain": [
       "<IPython.core.display.HTML object>"
      ]
     },
     "metadata": {
      "tags": []
     },
     "output_type": "display_data"
    },
    {
     "name": "stdout",
     "output_type": "stream",
     "text": [
      "LR Finder is complete, type {learner_name}.recorder.plot() to see the graph.\n"
     ]
    }
   ],
   "source": [
    "learn_cls.lr_find()"
   ]
  },
  {
   "cell_type": "code",
   "execution_count": 0,
   "metadata": {
    "colab": {
     "base_uri": "https://localhost:8080/",
     "height": 283
    },
    "colab_type": "code",
    "id": "MJ8tV-oN1XrU",
    "outputId": "9e30d44a-3cdf-41b2-8f82-c5467dcfc646"
   },
   "outputs": [
    {
     "data": {
      "image/png": "[encoded data removed]",
      "text/plain": [
       "<Figure size 432x288 with 1 Axes>"
      ]
     },
     "metadata": {
      "tags": []
     },
     "output_type": "display_data"
    }
   ],
   "source": [
    "learn_cls.recorder.plot(skip_end=7)"
   ]
  },
  {
   "cell_type": "code",
   "execution_count": 0,
   "metadata": {
    "colab": {
     "base_uri": "https://localhost:8080/",
     "height": 111
    },
    "colab_type": "code",
    "id": "K4XaXaAB1Xrd",
    "outputId": "fa441de6-3e83-4a54-cb3e-047e54ba8cd0"
   },
   "outputs": [
    {
     "data": {
      "text/html": [
       "<table border=\"1\" class=\"dataframe\">\n",
       "  <thead>\n",
       "    <tr style=\"text-align: left;\">\n",
       "      <th>epoch</th>\n",
       "      <th>train_loss</th>\n",
       "      <th>valid_loss</th>\n",
       "      <th>accuracy</th>\n",
       "      <th>time</th>\n",
       "    </tr>\n",
       "  </thead>\n",
       "  <tbody>\n",
       "    <tr>\n",
       "      <td>0</td>\n",
       "      <td>0.737572</td>\n",
       "      <td>0.625964</td>\n",
       "      <td>0.805396</td>\n",
       "      <td>35:53</td>\n",
       "    </tr>\n",
       "    <tr>\n",
       "      <td>1</td>\n",
       "      <td>0.695271</td>\n",
       "      <td>0.564263</td>\n",
       "      <td>0.826186</td>\n",
       "      <td>30:54</td>\n",
       "    </tr>\n",
       "  </tbody>\n",
       "</table>"
      ],
      "text/plain": [
       "<IPython.core.display.HTML object>"
      ]
     },
     "metadata": {
      "tags": []
     },
     "output_type": "display_data"
    }
   ],
   "source": [
    "learn_cls.fit_one_cycle(2, 1e-2, moms=(0.8,0.7))\n",
    "learn_cls.save('news_wiki_cls_1')"
   ]
  },
  {
   "cell_type": "code",
   "execution_count": 0,
   "metadata": {
    "colab": {
     "base_uri": "https://localhost:8080/",
     "height": 111
    },
    "colab_type": "code",
    "id": "tlZywnD-1Xrm",
    "outputId": "a411ba94-de2d-4646-ce15-40e17e44409e"
   },
   "outputs": [
    {
     "data": {
      "text/html": [
       "<table border=\"1\" class=\"dataframe\">\n",
       "  <thead>\n",
       "    <tr style=\"text-align: left;\">\n",
       "      <th>epoch</th>\n",
       "      <th>train_loss</th>\n",
       "      <th>valid_loss</th>\n",
       "      <th>accuracy</th>\n",
       "      <th>time</th>\n",
       "    </tr>\n",
       "  </thead>\n",
       "  <tbody>\n",
       "    <tr>\n",
       "      <td>0</td>\n",
       "      <td>0.433933</td>\n",
       "      <td>0.314526</td>\n",
       "      <td>0.890381</td>\n",
       "      <td>36:49</td>\n",
       "    </tr>\n",
       "    <tr>\n",
       "      <td>1</td>\n",
       "      <td>0.333097</td>\n",
       "      <td>0.273856</td>\n",
       "      <td>0.898657</td>\n",
       "      <td>41:16</td>\n",
       "    </tr>\n",
       "  </tbody>\n",
       "</table>"
      ],
      "text/plain": [
       "<IPython.core.display.HTML object>"
      ]
     },
     "metadata": {
      "tags": []
     },
     "output_type": "display_data"
    }
   ],
   "source": [
    "learn_cls.freeze_to(-2)\n",
    "learn_cls.fit_one_cycle(2 , slice(1e-2/(2.6**4),1e-2), moms=(0.8,0.7))\n",
    "learn_cls.save('news_wiki_cls_2')"
   ]
  },
  {
   "cell_type": "code",
   "execution_count": 0,
   "metadata": {
    "colab": {
     "base_uri": "https://localhost:8080/",
     "height": 111
    },
    "colab_type": "code",
    "id": "mO8ki9mD1Xr0",
    "outputId": "a01f3b87-e5ce-40e9-9430-96e27ba725b5"
   },
   "outputs": [
    {
     "data": {
      "text/html": [
       "<table border=\"1\" class=\"dataframe\">\n",
       "  <thead>\n",
       "    <tr style=\"text-align: left;\">\n",
       "      <th>epoch</th>\n",
       "      <th>train_loss</th>\n",
       "      <th>valid_loss</th>\n",
       "      <th>accuracy</th>\n",
       "      <th>time</th>\n",
       "    </tr>\n",
       "  </thead>\n",
       "  <tbody>\n",
       "    <tr>\n",
       "      <td>0</td>\n",
       "      <td>0.332301</td>\n",
       "      <td>0.272383</td>\n",
       "      <td>0.893704</td>\n",
       "      <td>52:18</td>\n",
       "    </tr>\n",
       "    <tr>\n",
       "      <td>1</td>\n",
       "      <td>0.264991</td>\n",
       "      <td>0.253984</td>\n",
       "      <td>0.900156</td>\n",
       "      <td>47:07</td>\n",
       "    </tr>\n",
       "  </tbody>\n",
       "</table>"
      ],
      "text/plain": [
       "<IPython.core.display.HTML object>"
      ]
     },
     "metadata": {
      "tags": []
     },
     "output_type": "display_data"
    }
   ],
   "source": [
    "learn_cls.freeze_to(-3)\n",
    "learn_cls.fit_one_cycle(2, slice(5e-3/(2.6**4),5e-3), moms=(0.8,0.7))\n",
    "learn_cls.save('news_wiki_cls_3')"
   ]
  },
  {
   "cell_type": "code",
   "execution_count": 0,
   "metadata": {
    "colab": {
     "base_uri": "https://localhost:8080/",
     "height": 173
    },
    "colab_type": "code",
    "id": "3InW8bbr1Xr6",
    "outputId": "faece33e-d2fc-4056-e340-1895c8e45fcc"
   },
   "outputs": [
    {
     "data": {
      "text/html": [
       "<table border=\"1\" class=\"dataframe\">\n",
       "  <thead>\n",
       "    <tr style=\"text-align: left;\">\n",
       "      <th>epoch</th>\n",
       "      <th>train_loss</th>\n",
       "      <th>valid_loss</th>\n",
       "      <th>accuracy</th>\n",
       "      <th>time</th>\n",
       "    </tr>\n",
       "  </thead>\n",
       "  <tbody>\n",
       "    <tr>\n",
       "      <td>0</td>\n",
       "      <td>0.280914</td>\n",
       "      <td>0.253121</td>\n",
       "      <td>0.900743</td>\n",
       "      <td>1:15:59</td>\n",
       "    </tr>\n",
       "    <tr>\n",
       "      <td>1</td>\n",
       "      <td>0.269560</td>\n",
       "      <td>0.250213</td>\n",
       "      <td>0.900938</td>\n",
       "      <td>1:11:37</td>\n",
       "    </tr>\n",
       "    <tr>\n",
       "      <td>2</td>\n",
       "      <td>0.247795</td>\n",
       "      <td>0.246740</td>\n",
       "      <td>0.899896</td>\n",
       "      <td>1:08:59</td>\n",
       "    </tr>\n",
       "    <tr>\n",
       "      <td>3</td>\n",
       "      <td>0.233471</td>\n",
       "      <td>0.258900</td>\n",
       "      <td>0.900417</td>\n",
       "      <td>1:08:27</td>\n",
       "    </tr>\n",
       "  </tbody>\n",
       "</table>"
      ],
      "text/plain": [
       "<IPython.core.display.HTML object>"
      ]
     },
     "metadata": {
      "tags": []
     },
     "output_type": "display_data"
    }
   ],
   "source": [
    "learn_cls.unfreeze()\n",
    "learn_cls.fit_one_cycle(4, slice(1e-3/(2.6**4),1e-3), moms=(0.8,0.7))\n",
    "learn_cls.save('news_wiki_cls_4')"
   ]
  },
  {
   "cell_type": "markdown",
   "metadata": {
    "colab_type": "text",
    "id": "Hyk3JD8s1XsJ"
   },
   "source": [
    "### Testing"
   ]
  },
  {
   "cell_type": "code",
   "execution_count": 0,
   "metadata": {
    "colab": {
     "base_uri": "https://localhost:8080/",
     "height": 105
    },
    "colab_type": "code",
    "id": "IouyTaWJ1XsL",
    "outputId": "fb770754-0b1c-4a8a-ba75-65f91f671ade"
   },
   "outputs": [
    {
     "name": "stdout",
     "output_type": "stream",
     "text": [
      "19137\n",
      "Accuracy: \n",
      "0.9008204002717249\n",
      "[('opinion', 'art'), ('opinion', 'politics'), ('opinion', 'accident'), ('opinion', 'sports'), ('opinion', 'education'), ('opinion', 'science_tech'), ('opinion', 'environment'), ('opinion', 'entertainment'), ('opinion', 'economics'), ('opinion', 'crime'), ('opinion', 'politics'), ('opinion', 'art'), ('opinion', 'entertainment'), ('opinion', 'sports'), ('opinion', 'politics'), ('opinion', 'economics'), ('opinion', 'sports'), ('opinion', 'art'), ('opinion', 'science_tech'), ('opinion', 'art'), ('opinion', 'entertainment'), ('opinion', 'science_tech'), ('opinion', 'science_tech'), ('opinion', 'sports'), ('opinion', 'international'), ('opinion', 'sports'), ('opinion', 'art'), ('opinion', 'politics'), ('opinion', 'entertainment'), ('opinion', 'environment'), ('opinion', 'art'), ('opinion', 'education'), ('opinion', 'education'), ('opinion', 'accident'), ('opinion', 'sports'), ('opinion', 'entertainment'), ('opinion', 'international'), ('opinion', 'art'), ('opinion', 'education'), ('opinion', 'sports'), ('opinion', 'entertainment'), ('opinion', 'politics'), ('opinion', 'entertainment'), ('opinion', 'sports'), ('opinion', 'politics'), ('opinion', 'politics'), ('international', 'crime'), ('international', 'politics'), ('international', 'politics'), ('international', 'science_tech'), ('international', 'sports'), ('international', 'politics'), ('international', 'environment'), ('international', 'environment'), ('international', 'accident'), ('international', 'sports'), ('international', 'accident'), ('international', 'opinion'), ('international', 'accident'), ('international', 'science_tech'), ('international', 'sports'), ('international', 'economics'), ('international', 'crime'), ('international', 'sports'), ('international', 'sports'), ('international', 'education'), ('international', 'opinion'), ('international', 'sports'), ('international', 'sports'), ('international', 'education'), ('international', 'sports'), ('international', 'sports'), ('international', 'politics'), ('international', 'sports'), ('international', 'sports'), ('international', 'science_tech'), ('international', 'politics'), ('international', 'science_tech'), ('international', 'opinion'), ('international', 'environment'), ('international', 'opinion'), ('international', 'science_tech'), ('international', 'economics'), ('international', 'politics'), ('international', 'entertainment'), ('international', 'art'), ('international', 'economics'), ('international', 'environment'), ('international', 'politics'), ('international', 'education'), ('international', 'art'), ('international', 'science_tech'), ('international', 'environment'), ('international', 'sports'), ('international', 'sports'), ('international', 'environment'), ('international', 'politics'), ('international', 'accident'), ('international', 'art'), ('international', 'politics'), ('international', 'education'), ('international', 'politics'), ('international', 'environment'), ('international', 'entertainment'), ('international', 'entertainment'), ('international', 'science_tech'), ('international', 'politics'), ('international', 'crime'), ('international', 'accident'), ('international', 'entertainment'), ('international', 'opinion'), ('international', 'sports'), ('international', 'science_tech'), ('international', 'opinion'), ('international', 'opinion'), ('international', 'sports'), ('international', 'opinion'), ('international', 'opinion'), ('international', 'science_tech'), ('international', 'science_tech'), ('international', 'sports'), ('international', 'sports'), ('international', 'entertainment'), ('international', 'entertainment'), ('international', 'entertainment'), ('international', 'entertainment'), ('international', 'accident'), ('international', 'education'), ('international', 'sports'), ('international', 'entertainment'), ('international', 'crime'), ('international', 'science_tech'), ('international', 'sports'), ('international', 'entertainment'), ('international', 'opinion'), ('international', 'crime'), ('international', 'politics'), ('international', 'crime'), ('international', 'crime'), ('international', 'accident'), ('international', 'economics'), ('international', 'politics'), ('international', 'entertainment'), ('international', 'crime'), ('international', 'crime'), ('economics', 'politics'), ('economics', 'politics'), ('economics', 'politics'), ('economics', 'international'), ('economics', 'politics'), ('economics', 'politics'), ('economics', 'entertainment'), ('economics', 'politics'), ('economics', 'science_tech'), ('economics', 'science_tech'), ('economics', 'international'), ('economics', 'crime'), ('economics', 'politics'), ('economics', 'international'), ('economics', 'international'), ('economics', 'politics'), ('economics', 'environment'), ('economics', 'politics'), ('economics', 'politics'), ('economics', 'education'), ('economics', 'politics'), ('economics', 'politics'), ('economics', 'politics'), ('economics', 'politics'), ('economics', 'opinion'), ('economics', 'politics'), ('economics', 'politics'), ('economics', 'politics'), ('economics', 'politics'), ('economics', 'politics'), ('economics', 'opinion'), ('economics', 'science_tech'), ('economics', 'politics'), ('economics', 'international'), ('economics', 'politics'), ('economics', 'science_tech'), ('economics', 'international'), ('economics', 'science_tech'), ('economics', 'politics'), ('economics', 'international'), ('economics', 'crime'), ('economics', 'politics'), ('economics', 'science_tech'), ('economics', 'science_tech'), ('economics', 'entertainment'), ('economics', 'politics'), ('economics', 'politics'), ('economics', 'politics'), ('economics', 'politics'), ('economics', 'entertainment'), ('economics', 'politics'), ('economics', 'politics'), ('economics', 'international'), ('economics', 'politics'), ('economics', 'science_tech'), ('economics', 'politics'), ('economics', 'politics'), ('economics', 'politics'), ('art', 'entertainment'), ('art', 'entertainment'), ('art', 'crime'), ('art', 'entertainment'), ('art', 'entertainment'), ('art', 'entertainment'), ('art', 'entertainment'), ('art', 'environment'), ('art', 'politics'), ('art', 'entertainment'), ('art', 'entertainment'), ('art', 'entertainment'), ('art', 'opinion'), ('art', 'entertainment'), ('art', 'sports'), ('art', 'sports'), ('art', 'entertainment'), ('art', 'entertainment'), ('art', 'entertainment'), ('art', 'science_tech'), ('art', 'sports'), ('art', 'entertainment'), ('art', 'environment'), ('art', 'entertainment'), ('art', 'science_tech'), ('art', 'crime'), ('art', 'entertainment'), ('art', 'accident'), ('art', 'opinion'), ('art', 'entertainment'), ('art', 'entertainment'), ('art', 'entertainment'), ('art', 'crime'), ('art', 'entertainment'), ('art', 'entertainment'), ('art', 'entertainment'), ('art', 'sports'), ('art', 'politics'), ('art', 'international'), ('art', 'entertainment'), ('art', 'entertainment'), ('art', 'environment'), ('art', 'entertainment'), ('art', 'crime'), ('art', 'entertainment'), ('art', 'crime'), ('art', 'sports'), ('art', 'sports'), ('art', 'politics'), ('art', 'sports'), ('art', 'entertainment'), ('art', 'entertainment'), ('art', 'entertainment'), ('art', 'entertainment'), ('art', 'international'), ('art', 'environment'), ('art', 'entertainment'), ('art', 'sports'), ('art', 'sports'), ('art', 'crime'), ('art', 'entertainment'), ('art', 'opinion'), ('art', 'sports'), ('art', 'entertainment'), ('art', 'entertainment'), ('art', 'opinion'), ('art', 'opinion'), ('art', 'opinion'), ('art', 'opinion'), ('art', 'entertainment'), ('art', 'sports'), ('art', 'entertainment'), ('art', 'entertainment'), ('art', 'environment'), ('art', 'entertainment'), ('art', 'entertainment'), ('art', 'education'), ('art', 'environment'), ('art', 'crime'), ('art', 'entertainment'), ('art', 'politics'), ('art', 'entertainment'), ('art', 'opinion'), ('art', 'entertainment'), ('art', 'entertainment'), ('art', 'entertainment'), ('art', 'entertainment'), ('art', 'sports'), ('art', 'entertainment'), ('art', 'environment'), ('art', 'entertainment'), ('art', 'entertainment'), ('art', 'opinion'), ('art', 'economics'), ('art', 'crime'), ('art', 'opinion'), ('art', 'entertainment'), ('art', 'education'), ('art', 'entertainment'), ('art', 'environment'), ('art', 'education'), ('art', 'entertainment'), ('science_tech', 'entertainment'), ('science_tech', 'entertainment'), ('science_tech', 'opinion'), ('science_tech', 'sports'), ('science_tech', 'crime'), ('science_tech', 'crime'), ('science_tech', 'politics'), ('science_tech', 'accident'), ('science_tech', 'entertainment'), ('science_tech', 'crime'), ('science_tech', 'international'), ('science_tech', 'education'), ('science_tech', 'entertainment'), ('science_tech', 'entertainment'), ('science_tech', 'entertainment'), ('science_tech', 'entertainment'), ('science_tech', 'environment'), ('science_tech', 'education'), ('science_tech', 'economics'), ('science_tech', 'education'), ('science_tech', 'education'), ('science_tech', 'crime'), ('science_tech', 'politics'), ('science_tech', 'politics'), ('science_tech', 'crime'), ('science_tech', 'economics'), ('science_tech', 'art'), ('science_tech', 'international'), ('science_tech', 'crime'), ('science_tech', 'crime'), ('science_tech', 'economics'), ('science_tech', 'art'), ('science_tech', 'economics'), ('science_tech', 'politics'), ('science_tech', 'economics'), ('science_tech', 'education'), ('science_tech', 'economics'), ('science_tech', 'crime'), ('science_tech', 'opinion'), ('science_tech', 'entertainment'), ('science_tech', 'entertainment'), ('science_tech', 'crime'), ('science_tech', 'economics'), ('science_tech', 'art'), ('science_tech', 'sports'), ('science_tech', 'crime'), ('science_tech', 'education'), ('science_tech', 'international'), ('science_tech', 'economics'), ('science_tech', 'economics'), ('science_tech', 'sports'), ('science_tech', 'politics'), ('science_tech', 'politics'), ('science_tech', 'opinion'), ('science_tech', 'art'), ('science_tech', 'environment'), ('science_tech', 'economics'), ('science_tech', 'international'), ('politics', 'international'), ('politics', 'sports'), ('politics', 'economics'), ('politics', 'crime'), ('politics', 'crime'), ('politics', 'environment'), ('politics', 'education'), ('politics', 'education'), ('politics', 'opinion'), ('politics', 'crime'), ('politics', 'accident'), ('politics', 'education'), ('politics', 'environment'), ('politics', 'education'), ('politics', 'opinion'), ('politics', 'environment'), ('politics', 'opinion'), ('politics', 'accident'), ('politics', 'sports'), ('politics', 'economics'), ('politics', 'entertainment'), ('politics', 'education'), ('politics', 'education'), ('politics', 'accident'), ('politics', 'accident'), ('politics', 'environment'), ('politics', 'crime'), ('politics', 'education'), ('politics', 'education'), ('politics', 'education'), ('politics', 'education'), ('politics', 'accident'), ('politics', 'opinion'), ('politics', 'education'), ('politics', 'crime'), ('politics', 'opinion'), ('politics', 'economics'), ('politics', 'education'), ('politics', 'education'), ('politics', 'international'), ('politics', 'art'), ('politics', 'opinion'), ('politics', 'crime'), ('politics', 'education'), ('politics', 'education'), ('politics', 'education'), ('politics', 'education'), ('politics', 'economics'), ('politics', 'education'), ('politics', 'education'), ('politics', 'art'), ('politics', 'accident'), ('politics', 'accident'), ('politics', 'education'), ('politics', 'art'), ('politics', 'sports'), ('politics', 'education'), ('politics', 'education'), ('politics', 'education'), ('politics', 'entertainment'), ('politics', 'opinion'), ('politics', 'education'), ('politics', 'education'), ('politics', 'international'), ('politics', 'education'), ('politics', 'environment'), ('politics', 'opinion'), ('politics', 'opinion'), ('politics', 'environment'), ('politics', 'education'), ('politics', 'crime'), ('politics', 'environment'), ('politics', 'education'), ('politics', 'education'), ('politics', 'sports'), ('politics', 'science_tech'), ('politics', 'economics'), ('politics', 'opinion'), ('politics', 'entertainment'), ('politics', 'entertainment'), ('politics', 'environment'), ('politics', 'education'), ('politics', 'education'), ('politics', 'crime'), ('politics', 'environment'), ('politics', 'environment'), ('politics', 'education'), ('politics', 'opinion'), ('politics', 'education'), ('politics', 'crime'), ('politics', 'education'), ('politics', 'opinion'), ('politics', 'entertainment'), ('politics', 'international'), ('politics', 'education'), ('politics', 'environment'), ('politics', 'environment'), ('politics', 'education'), ('politics', 'crime'), ('politics', 'entertainment'), ('politics', 'education'), ('politics', 'crime'), ('politics', 'education'), ('politics', 'accident'), ('politics', 'opinion'), ('politics', 'education'), ('politics', 'sports'), ('politics', 'crime'), ('politics', 'crime'), ('politics', 'opinion'), ('politics', 'education'), ('politics', 'crime'), ('politics', 'education'), ('politics', 'crime'), ('politics', 'education'), ('politics', 'crime'), ('politics', 'environment'), ('politics', 'education'), ('politics', 'environment'), ('politics', 'crime'), ('politics', 'crime'), ('politics', 'education'), ('politics', 'economics'), ('politics', 'education'), ('politics', 'accident'), ('politics', 'crime'), ('politics', 'economics'), ('politics', 'crime'), ('politics', 'opinion'), ('politics', 'education'), ('politics', 'education'), ('politics', 'opinion'), ('politics', 'education'), ('politics', 'opinion'), ('politics', 'crime'), ('politics', 'environment'), ('politics', 'sports'), ('politics', 'education'), ('politics', 'international'), ('politics', 'entertainment'), ('politics', 'international'), ('politics', 'education'), ('politics', 'entertainment'), ('politics', 'opinion'), ('politics', 'crime'), ('politics', 'sports'), ('politics', 'entertainment'), ('politics', 'economics'), ('politics', 'crime'), ('politics', 'crime'), ('politics', 'economics'), ('politics', 'sports'), ('politics', 'crime'), ('politics', 'education'), ('politics', 'crime'), ('politics', 'crime'), ('politics', 'entertainment'), ('politics', 'entertainment'), ('politics', 'education'), ('politics', 'sports'), ('politics', 'sports'), ('politics', 'opinion'), ('politics', 'economics'), ('politics', 'opinion'), ('politics', 'education'), ('politics', 'education'), ('politics', 'opinion'), ('politics', 'crime'), ('politics', 'crime'), ('politics', 'opinion'), ('politics', 'opinion'), ('politics', 'education'), ('politics', 'crime'), ('politics', 'opinion'), ('politics', 'education'), ('politics', 'education'), ('politics', 'economics'), ('politics', 'education'), ('politics', 'economics'), ('politics', 'education'), ('politics', 'economics'), ('politics', 'opinion'), ('politics', 'crime'), ('politics', 'crime'), ('politics', 'science_tech'), ('politics', 'entertainment'), ('politics', 'opinion'), ('politics', 'environment'), ('politics', 'accident'), ('politics', 'environment'), ('politics', 'education'), ('politics', 'education'), ('politics', 'education'), ('politics', 'art'), ('politics', 'entertainment'), ('politics', 'education'), ('politics', 'entertainment'), ('politics', 'environment'), ('politics', 'opinion'), ('politics', 'environment'), ('politics', 'education'), ('politics', 'crime'), ('politics', 'crime'), ('politics', 'crime'), ('politics', 'opinion'), ('politics', 'environment'), ('politics', 'education'), ('politics', 'opinion'), ('politics', 'education'), ('politics', 'economics'), ('politics', 'crime'), ('politics', 'environment'), ('politics', 'crime'), ('politics', 'sports'), ('politics', 'economics'), ('politics', 'sports'), ('politics', 'environment'), ('politics', 'education'), ('politics', 'economics'), ('politics', 'opinion'), ('politics', 'environment'), ('politics', 'crime'), ('politics', 'crime'), ('politics', 'education'), ('politics', 'sports'), ('politics', 'accident'), ('politics', 'entertainment'), ('politics', 'opinion'), ('politics', 'opinion'), ('politics', 'environment'), ('politics', 'accident'), ('politics', 'opinion'), ('politics', 'crime'), ('politics', 'education'), ('politics', 'art'), ('politics', 'crime'), ('politics', 'opinion'), ('politics', 'environment'), ('politics', 'opinion'), ('politics', 'opinion'), ('politics', 'environment'), ('politics', 'entertainment'), ('politics', 'crime'), ('politics', 'opinion'), ('politics', 'crime'), ('politics', 'entertainment'), ('politics', 'accident'), ('politics', 'environment'), ('politics', 'opinion'), ('politics', 'environment'), ('politics', 'environment'), ('politics', 'education'), ('politics', 'crime'), ('politics', 'environment'), ('politics', 'economics'), ('politics', 'education'), ('politics', 'education'), ('politics', 'education'), ('politics', 'environment'), ('politics', 'environment'), ('politics', 'crime'), ('politics', 'opinion'), ('politics', 'education'), ('politics', 'education'), ('politics', 'environment'), ('politics', 'education'), ('politics', 'environment'), ('politics', 'accident'), ('politics', 'art'), ('politics', 'international'), ('politics', 'crime'), ('politics', 'opinion'), ('politics', 'education'), ('politics', 'crime'), ('politics', 'crime'), ('politics', 'entertainment'), ('politics', 'crime'), ('politics', 'crime'), ('politics', 'sports'), ('politics', 'crime'), ('politics', 'education'), ('politics', 'education'), ('politics', 'sports'), ('politics', 'sports'), ('politics', 'entertainment'), ('politics', 'crime'), ('politics', 'environment'), ('politics', 'art'), ('politics', 'environment'), ('politics', 'environment'), ('politics', 'education'), ('politics', 'education'), ('politics', 'international'), ('politics', 'education'), ('politics', 'opinion'), ('politics', 'opinion'), ('politics', 'education'), ('politics', 'environment'), ('politics', 'international'), ('politics', 'crime'), ('politics', 'environment'), ('politics', 'opinion'), ('politics', 'opinion'), ('politics', 'education'), ('politics', 'economics'), ('politics', 'sports'), ('politics', 'crime'), ('politics', 'opinion'), ('politics', 'crime'), ('politics', 'art'), ('politics', 'entertainment'), ('politics', 'sports'), ('politics', 'crime'), ('politics', 'sports'), ('politics', 'opinion'), ('politics', 'opinion'), ('politics', 'sports'), ('politics', 'art'), ('politics', 'opinion'), ('politics', 'education'), ('politics', 'opinion'), ('politics', 'opinion'), ('politics', 'environment'), ('politics', 'environment'), ('politics', 'entertainment'), ('politics', 'accident'), ('politics', 'environment'), ('politics', 'opinion'), ('politics', 'sports'), ('politics', 'environment'), ('politics', 'education'), ('politics', 'economics'), ('politics', 'economics'), ('politics', 'education'), ('politics', 'education'), ('politics', 'opinion'), ('politics', 'education'), ('politics', 'education'), ('politics', 'opinion'), ('politics', 'education'), ('politics', 'environment'), ('politics', 'education'), ('politics', 'economics'), ('politics', 'education'), ('politics', 'crime'), ('politics', 'sports'), ('politics', 'crime'), ('politics', 'opinion'), ('politics', 'accident'), ('politics', 'crime'), ('politics', 'environment'), ('politics', 'accident'), ('politics', 'economics'), ('politics', 'environment'), ('politics', 'education'), ('politics', 'art'), ('politics', 'environment'), ('politics', 'education'), ('politics', 'accident'), ('politics', 'environment'), ('politics', 'education'), ('politics', 'opinion'), ('politics', 'crime'), ('politics', 'education'), ('politics', 'education'), ('politics', 'education'), ('politics', 'crime'), ('politics', 'opinion'), ('politics', 'education'), ('politics', 'opinion'), ('politics', 'opinion'), ('politics', 'environment'), ('politics', 'environment'), ('politics', 'crime'), ('politics', 'education'), ('politics', 'economics'), ('politics', 'crime'), ('politics', 'crime'), ('politics', 'opinion'), ('politics', 'art'), ('politics', 'crime'), ('politics', 'opinion'), ('politics', 'opinion'), ('politics', 'environment'), ('politics', 'opinion'), ('politics', 'education'), ('politics', 'education'), ('politics', 'education'), ('politics', 'entertainment'), ('politics', 'sports'), ('politics', 'sports'), ('politics', 'education'), ('politics', 'entertainment'), ('politics', 'education'), ('politics', 'entertainment'), ('politics', 'opinion'), ('politics', 'crime'), ('politics', 'opinion'), ('politics', 'environment'), ('politics', 'sports'), ('politics', 'international'), ('politics', 'sports'), ('politics', 'crime'), ('politics', 'education'), ('politics', 'opinion'), ('politics', 'education'), ('politics', 'education'), ('politics', 'crime'), ('politics', 'art'), ('politics', 'environment'), ('politics', 'crime'), ('politics', 'crime'), ('politics', 'education'), ('politics', 'environment'), ('politics', 'education'), ('politics', 'opinion'), ('politics', 'environment'), ('politics', 'education'), ('politics', 'sports'), ('politics', 'education'), ('politics', 'entertainment'), ('politics', 'entertainment'), ('politics', 'opinion'), ('politics', 'crime'), ('politics', 'sports'), ('politics', 'education'), ('politics', 'economics'), ('politics', 'education'), ('politics', 'environment'), ('politics', 'opinion'), ('politics', 'education'), ('politics', 'crime'), ('politics', 'education'), ('politics', 'economics'), ('politics', 'environment'), ('politics', 'education'), ('politics', 'sports'), ('politics', 'opinion'), ('politics', 'crime'), ('politics', 'education'), ('politics', 'crime'), ('politics', 'environment'), ('politics', 'education'), ('politics', 'education'), ('politics', 'economics'), ('politics', 'sports'), ('politics', 'environment'), ('politics', 'crime'), ('politics', 'sports'), ('politics', 'crime'), ('politics', 'crime'), ('politics', 'entertainment'), ('politics', 'accident'), ('politics', 'environment'), ('politics', 'environment'), ('politics', 'sports'), ('politics', 'education'), ('politics', 'education'), ('politics', 'accident'), ('politics', 'education'), ('politics', 'entertainment'), ('politics', 'science_tech'), ('politics', 'crime'), ('politics', 'economics'), ('politics', 'entertainment'), ('politics', 'entertainment'), ('politics', 'education'), ('politics', 'environment'), ('politics', 'international'), ('politics', 'opinion'), ('politics', 'education'), ('politics', 'economics'), ('politics', 'economics'), ('politics', 'opinion'), ('politics', 'economics'), ('politics', 'education'), ('politics', 'crime'), ('politics', 'environment'), ('politics', 'environment'), ('politics', 'economics'), ('politics', 'opinion'), ('politics', 'sports'), ('politics', 'opinion'), ('politics', 'sports'), ('politics', 'opinion'), ('politics', 'sports'), ('politics', 'education'), ('politics', 'education'), ('politics', 'crime'), ('politics', 'education'), ('politics', 'crime'), ('politics', 'education'), ('politics', 'entertainment'), ('politics', 'sports'), ('politics', 'economics'), ('politics', 'crime'), ('politics', 'education'), ('crime', 'education'), ('crime', 'education'), ('crime', 'politics'), ('crime', 'entertainment'), ('crime', 'politics'), ('crime', 'education'), ('crime', 'sports'), ('crime', 'international'), ('crime', 'politics'), ('crime', 'environment'), ('crime', 'politics'), ('crime', 'politics'), ('crime', 'opinion'), ('crime', 'education'), ('crime', 'accident'), ('crime', 'politics'), ('crime', 'entertainment'), ('crime', 'politics'), ('crime', 'politics'), ('crime', 'environment'), ('crime', 'politics'), ('crime', 'science_tech'), ('crime', 'education'), ('crime', 'environment'), ('crime', 'entertainment'), ('crime', 'environment'), ('crime', 'politics'), ('crime', 'politics'), ('crime', 'politics'), ('crime', 'sports'), ('crime', 'accident'), ('crime', 'politics'), ('crime', 'accident'), ('crime', 'politics'), ('crime', 'education'), ('crime', 'economics'), ('crime', 'art'), ('crime', 'sports'), ('crime', 'science_tech'), ('crime', 'opinion'), ('crime', 'economics'), ('crime', 'international'), ('crime', 'politics'), ('crime', 'accident'), ('crime', 'opinion'), ('crime', 'politics'), ('crime', 'environment'), ('crime', 'accident'), ('crime', 'politics'), ('crime', 'politics'), ('crime', 'art'), ('crime', 'politics'), ('crime', 'politics'), ('crime', 'environment'), ('crime', 'education'), ('crime', 'politics'), ('crime', 'science_tech'), ('crime', 'accident'), ('crime', 'politics'), ('crime', 'education'), ('crime', 'politics'), ('crime', 'politics'), ('crime', 'accident'), ('crime', 'international'), ('crime', 'politics'), ('crime', 'politics'), ('crime', 'education'), ('crime', 'environment'), ('crime', 'politics'), ('crime', 'sports'), ('crime', 'accident'), ('crime', 'politics'), ('crime', 'politics'), ('crime', 'politics'), ('crime', 'environment'), ('crime', 'education'), ('crime', 'education'), ('crime', 'politics'), ('crime', 'education'), ('crime', 'international'), ('crime', 'accident'), ('crime', 'politics'), ('crime', 'art'), ('crime', 'politics'), ('crime', 'politics'), ('crime', 'education'), ('crime', 'education'), ('crime', 'education'), ('crime', 'economics'), ('crime', 'politics'), ('crime', 'politics'), ('crime', 'environment'), ('crime', 'accident'), ('crime', 'education'), ('crime', 'accident'), ('crime', 'politics'), ('crime', 'accident'), ('crime', 'politics'), ('crime', 'entertainment'), ('crime', 'politics'), ('crime', 'politics'), ('crime', 'education'), ('crime', 'politics'), ('crime', 'politics'), ('crime', 'education'), ('crime', 'politics'), ('crime', 'politics'), ('crime', 'environment'), ('crime', 'politics'), ('crime', 'art'), ('crime', 'opinion'), ('crime', 'opinion'), ('crime', 'environment'), ('crime', 'education'), ('crime', 'politics'), ('crime', 'accident'), ('crime', 'politics'), ('crime', 'international'), ('crime', 'accident'), ('crime', 'politics'), ('crime', 'education'), ('crime', 'politics'), ('crime', 'politics'), ('crime', 'science_tech'), ('crime', 'accident'), ('crime', 'entertainment'), ('crime', 'environment'), ('crime', 'politics'), ('crime', 'politics'), ('crime', 'politics'), ('crime', 'environment'), ('crime', 'entertainment'), ('crime', 'science_tech'), ('crime', 'entertainment'), ('education', 'entertainment'), ('education', 'politics'), ('education', 'opinion'), ('education', 'environment'), ('education', 'environment'), ('education', 'politics'), ('education', 'sports'), ('education', 'crime'), ('education', 'politics'), ('education', 'politics'), ('education', 'politics'), ('education', 'crime'), ('education', 'politics'), ('education', 'opinion'), ('education', 'sports'), ('education', 'accident'), ('education', 'environment'), ('education', 'entertainment'), ('education', 'sports'), ('education', 'sports'), ('education', 'politics'), ('education', 'politics'), ('education', 'sports'), ('education', 'politics'), ('education', 'politics'), ('education', 'sports'), ('education', 'politics'), ('education', 'entertainment'), ('education', 'politics'), ('education', 'opinion'), ('education', 'international'), ('education', 'environment'), ('education', 'crime'), ('education', 'politics'), ('education', 'crime'), ('education', 'art'), ('education', 'entertainment'), ('education', 'environment'), ('education', 'opinion'), ('education', 'entertainment'), ('education', 'politics'), ('education', 'politics'), ('education', 'politics'), ('education', 'sports'), ('education', 'politics'), ('education', 'environment'), ('education', 'art'), ('education', 'environment'), ('education', 'politics'), ('education', 'politics'), ('education', 'politics'), ('education', 'accident'), ('education', 'politics'), ('education', 'art'), ('education', 'opinion'), ('education', 'accident'), ('education', 'politics'), ('education', 'politics'), ('education', 'politics'), ('education', 'politics'), ('education', 'entertainment'), ('education', 'crime'), ('education', 'art'), ('education', 'politics'), ('education', 'opinion'), ('education', 'politics'), ('education', 'sports'), ('education', 'opinion'), ('education', 'environment'), ('education', 'opinion'), ('education', 'crime'), ('education', 'crime'), ('education', 'crime'), ('education', 'environment'), ('education', 'crime'), ('education', 'opinion'), ('education', 'entertainment'), ('education', 'opinion'), ('education', 'entertainment'), ('education', 'politics'), ('education', 'sports'), ('education', 'crime'), ('education', 'environment'), ('education', 'environment'), ('education', 'entertainment'), ('education', 'crime'), ('education', 'politics'), ('education', 'politics'), ('education', 'art'), ('education', 'opinion'), ('education', 'environment'), ('education', 'environment'), ('education', 'environment'), ('education', 'accident'), ('education', 'entertainment'), ('education', 'environment'), ('education', 'art'), ('education', 'accident'), ('education', 'sports'), ('education', 'accident'), ('education', 'opinion'), ('education', 'environment'), ('education', 'entertainment'), ('education', 'opinion'), ('education', 'crime'), ('education', 'environment'), ('education', 'politics'), ('education', 'sports'), ('education', 'politics'), ('education', 'opinion'), ('education', 'art'), ('education', 'entertainment'), ('education', 'politics'), ('education', 'sports'), ('education', 'crime'), ('education', 'opinion'), ('education', 'entertainment'), ('education', 'environment'), ('education', 'sports'), ('education', 'environment'), ('education', 'entertainment'), ('education', 'politics'), ('education', 'entertainment'), ('education', 'crime'), ('education', 'crime'), ('education', 'sports'), ('education', 'politics'), ('education', 'opinion'), ('education', 'sports'), ('education', 'politics'), ('education', 'accident'), ('education', 'sports'), ('education', 'opinion'), ('education', 'international'), ('education', 'entertainment'), ('education', 'opinion'), ('education', 'politics'), ('education', 'environment'), ('education', 'environment'), ('education', 'politics'), ('education', 'art'), ('education', 'politics'), ('education', 'sports'), ('education', 'opinion'), ('education', 'crime'), ('education', 'environment'), ('education', 'politics'), ('education', 'politics'), ('education', 'sports'), ('education', 'environment'), ('education', 'environment'), ('education', 'politics'), ('education', 'environment'), ('education', 'opinion'), ('education', 'opinion'), ('education', 'environment'), ('education', 'politics'), ('education', 'entertainment'), ('education', 'art'), ('education', 'environment'), ('education', 'sports'), ('education', 'crime'), ('education', 'environment'), ('education', 'sports'), ('education', 'environment'), ('education', 'politics'), ('education', 'opinion'), ('education', 'international'), ('education', 'politics'), ('education', 'politics'), ('education', 'environment'), ('education', 'politics'), ('education', 'environment'), ('education', 'sports'), ('education', 'politics'), ('education', 'sports'), ('education', 'opinion'), ('education', 'art'), ('education', 'environment'), ('education', 'opinion'), ('education', 'entertainment'), ('education', 'environment'), ('education', 'opinion'), ('education', 'entertainment'), ('education', 'opinion'), ('education', 'politics'), ('education', 'sports'), ('education', 'sports'), ('education', 'politics'), ('education', 'politics'), ('education', 'sports'), ('education', 'sports'), ('education', 'entertainment'), ('education', 'opinion'), ('education', 'sports'), ('education', 'politics'), ('education', 'politics'), ('education', 'entertainment'), ('education', 'environment'), ('education', 'sports'), ('education', 'politics'), ('education', 'environment'), ('education', 'politics'), ('education', 'entertainment'), ('education', 'environment'), ('education', 'entertainment'), ('education', 'environment'), ('education', 'politics'), ('education', 'opinion'), ('education', 'entertainment'), ('education', 'art'), ('education', 'crime'), ('education', 'environment'), ('education', 'crime'), ('education', 'politics'), ('education', 'accident'), ('education', 'opinion'), ('education', 'accident'), ('education', 'politics'), ('education', 'opinion'), ('education', 'entertainment'), ('education', 'sports'), ('education', 'politics'), ('education', 'politics'), ('education', 'entertainment'), ('education', 'crime'), ('education', 'politics'), ('education', 'politics'), ('education', 'politics'), ('education', 'entertainment'), ('education', 'politics'), ('education', 'international'), ('education', 'accident'), ('education', 'opinion'), ('education', 'economics'), ('education', 'crime'), ('education', 'environment'), ('education', 'entertainment'), ('education', 'opinion'), ('education', 'politics'), ('education', 'entertainment'), ('education', 'art'), ('education', 'sports'), ('education', 'sports'), ('education', 'entertainment'), ('education', 'environment'), ('education', 'accident'), ('education', 'politics'), ('education', 'art'), ('education', 'environment'), ('education', 'politics'), ('education', 'crime'), ('education', 'art'), ('education', 'sports'), ('education', 'opinion'), ('education', 'politics'), ('education', 'entertainment'), ('education', 'politics'), ('education', 'opinion'), ('education', 'politics'), ('education', 'entertainment'), ('education', 'opinion'), ('education', 'entertainment'), ('education', 'art'), ('education', 'opinion'), ('education', 'sports'), ('education', 'politics'), ('education', 'politics'), ('education', 'environment'), ('education', 'accident'), ('education', 'sports'), ('education', 'environment'), ('education', 'accident'), ('education', 'environment'), ('education', 'environment'), ('education', 'politics'), ('education', 'politics'), ('education', 'sports'), ('education', 'sports'), ('education', 'sports'), ('education', 'sports'), ('education', 'opinion'), ('education', 'politics'), ('education', 'politics'), ('education', 'environment'), ('education', 'sports'), ('education', 'politics'), ('education', 'entertainment'), ('education', 'sports'), ('education', 'politics'), ('education', 'environment'), ('education', 'crime'), ('education', 'opinion'), ('education', 'politics'), ('education', 'politics'), ('sports', 'entertainment'), ('sports', 'opinion'), ('sports', 'science_tech'), ('sports', 'entertainment'), ('sports', 'politics'), ('sports', 'crime'), ('sports', 'accident'), ('sports', 'art'), ('sports', 'entertainment'), ('sports', 'entertainment'), ('sports', 'art'), ('sports', 'accident'), ('sports', 'entertainment'), ('sports', 'art'), ('sports', 'art'), ('sports', 'opinion'), ('sports', 'art'), ('sports', 'crime'), ('sports', 'crime'), ('sports', 'politics'), ('sports', 'accident'), ('sports', 'crime'), ('sports', 'entertainment'), ('sports', 'international'), ('sports', 'art'), ('sports', 'entertainment'), ('sports', 'entertainment'), ('sports', 'politics'), ('sports', 'politics'), ('sports', 'opinion'), ('sports', 'entertainment'), ('sports', 'politics'), ('sports', 'science_tech'), ('sports', 'accident'), ('sports', 'environment'), ('sports', 'entertainment'), ('sports', 'politics'), ('sports', 'science_tech'), ('sports', 'accident'), ('sports', 'entertainment'), ('sports', 'art'), ('sports', 'international'), ('sports', 'education'), ('sports', 'crime'), ('sports', 'politics'), ('sports', 'accident'), ('sports', 'entertainment'), ('sports', 'education'), ('sports', 'politics'), ('sports', 'entertainment'), ('sports', 'crime'), ('sports', 'accident'), ('sports', 'accident'), ('sports', 'art'), ('sports', 'art'), ('sports', 'entertainment'), ('sports', 'crime'), ('sports', 'environment'), ('sports', 'opinion'), ('sports', 'crime'), ('sports', 'politics'), ('sports', 'education'), ('sports', 'environment'), ('sports', 'art'), ('sports', 'entertainment'), ('sports', 'entertainment'), ('sports', 'art'), ('sports', 'environment'), ('sports', 'entertainment'), ('sports', 'entertainment'), ('sports', 'entertainment'), ('sports', 'crime'), ('sports', 'politics'), ('sports', 'entertainment'), ('sports', 'entertainment'), ('sports', 'education'), ('sports', 'opinion'), ('sports', 'environment'), ('sports', 'crime'), ('sports', 'entertainment'), ('sports', 'art'), ('sports', 'art'), ('sports', 'crime'), ('sports', 'opinion'), ('sports', 'education'), ('sports', 'art'), ('sports', 'opinion'), ('sports', 'opinion'), ('sports', 'education'), ('sports', 'entertainment'), ('sports', 'art'), ('sports', 'environment'), ('sports', 'accident'), ('sports', 'entertainment'), ('sports', 'entertainment'), ('sports', 'art'), ('sports', 'opinion'), ('sports', 'science_tech'), ('sports', 'entertainment'), ('sports', 'environment'), ('sports', 'politics'), ('sports', 'crime'), ('accident', 'entertainment'), ('accident', 'entertainment'), ('accident', 'sports'), ('accident', 'politics'), ('accident', 'education'), ('accident', 'sports'), ('accident', 'crime'), ('accident', 'science_tech'), ('accident', 'environment'), ('accident', 'opinion'), ('accident', 'environment'), ('accident', 'education'), ('accident', 'politics'), ('accident', 'crime'), ('accident', 'environment'), ('accident', 'politics'), ('accident', 'opinion'), ('accident', 'crime'), ('accident', 'sports'), ('accident', 'education'), ('accident', 'crime'), ('accident', 'art'), ('accident', 'crime'), ('accident', 'entertainment'), ('accident', 'sports'), ('accident', 'sports'), ('accident', 'sports'), ('accident', 'crime'), ('accident', 'crime'), ('accident', 'environment'), ('accident', 'education'), ('accident', 'crime'), ('accident', 'sports'), ('accident', 'crime'), ('accident', 'international'), ('accident', 'politics'), ('accident', 'politics'), ('accident', 'crime'), ('accident', 'entertainment'), ('accident', 'entertainment'), ('accident', 'sports'), ('accident', 'crime'), ('accident', 'politics'), ('accident', 'international'), ('accident', 'entertainment'), ('accident', 'environment'), ('accident', 'entertainment'), ('accident', 'politics'), ('accident', 'environment'), ('accident', 'entertainment'), ('accident', 'economics'), ('accident', 'crime'), ('accident', 'environment'), ('accident', 'politics'), ('accident', 'entertainment'), ('accident', 'crime'), ('accident', 'entertainment'), ('accident', 'entertainment'), ('accident', 'sports'), ('accident', 'crime'), ('accident', 'environment'), ('accident', 'entertainment'), ('accident', 'sports'), ('accident', 'environment'), ('accident', 'entertainment'), ('environment', 'education'), ('environment', 'art'), ('environment', 'science_tech'), ('environment', 'opinion'), ('environment', 'accident'), ('environment', 'education'), ('environment', 'politics'), ('environment', 'accident'), ('environment', 'accident'), ('environment', 'crime'), ('environment', 'opinion'), ('environment', 'crime'), ('environment', 'politics'), ('environment', 'politics'), ('environment', 'entertainment'), ('environment', 'politics'), ('environment', 'politics'), ('environment', 'education'), ('environment', 'opinion'), ('environment', 'education'), ('environment', 'opinion'), ('environment', 'politics'), ('environment', 'sports'), ('environment', 'politics'), ('environment', 'crime'), ('environment', 'education'), ('environment', 'politics'), ('environment', 'politics'), ('environment', 'politics'), ('environment', 'politics'), ('environment', 'politics'), ('environment', 'accident'), ('environment', 'politics'), ('environment', 'education'), ('environment', 'education'), ('environment', 'politics'), ('environment', 'opinion'), ('environment', 'education'), ('environment', 'politics'), ('environment', 'art'), ('environment', 'politics'), ('environment', 'opinion'), ('environment', 'politics'), ('environment', 'politics'), ('environment', 'politics'), ('environment', 'politics'), ('environment', 'politics'), ('environment', 'politics'), ('environment', 'politics'), ('environment', 'opinion'), ('environment', 'entertainment'), ('environment', 'crime'), ('environment', 'economics'), ('environment', 'politics'), ('environment', 'opinion'), ('environment', 'accident'), ('environment', 'opinion'), ('environment', 'opinion'), ('environment', 'politics'), ('environment', 'education'), ('environment', 'politics'), ('environment', 'entertainment'), ('environment', 'politics'), ('environment', 'opinion'), ('environment', 'politics'), ('environment', 'politics'), ('environment', 'accident'), ('environment', 'politics'), ('environment', 'opinion'), ('environment', 'politics'), ('environment', 'politics'), ('environment', 'opinion'), ('environment', 'politics'), ('environment', 'politics'), ('environment', 'politics'), ('environment', 'politics'), ('environment', 'education'), ('environment', 'politics'), ('environment', 'education'), ('environment', 'opinion'), ('environment', 'accident'), ('environment', 'politics'), ('environment', 'entertainment'), ('environment', 'education'), ('environment', 'accident'), ('environment', 'politics'), ('environment', 'politics'), ('environment', 'politics'), ('environment', 'opinion'), ('environment', 'opinion'), ('environment', 'opinion'), ('environment', 'education'), ('environment', 'politics'), ('environment', 'crime'), ('environment', 'politics'), ('environment', 'entertainment'), ('environment', 'accident'), ('environment', 'education'), ('environment', 'education'), ('environment', 'accident'), ('environment', 'politics'), ('environment', 'education'), ('environment', 'opinion'), ('environment', 'entertainment'), ('environment', 'accident'), ('environment', 'politics'), ('environment', 'politics'), ('environment', 'education'), ('environment', 'sports'), ('environment', 'education'), ('environment', 'politics'), ('environment', 'opinion'), ('environment', 'international'), ('environment', 'education'), ('environment', 'international'), ('environment', 'politics'), ('environment', 'education'), ('environment', 'sports'), ('environment', 'crime'), ('environment', 'sports'), ('environment', 'crime'), ('environment', 'sports'), ('environment', 'education'), ('environment', 'politics'), ('environment', 'accident'), ('environment', 'sports'), ('environment', 'opinion'), ('environment', 'politics'), ('environment', 'politics'), ('environment', 'opinion'), ('environment', 'education'), ('environment', 'accident'), ('environment', 'politics'), ('environment', 'politics'), ('environment', 'opinion'), ('environment', 'politics'), ('environment', 'science_tech'), ('environment', 'politics'), ('environment', 'education'), ('environment', 'education'), ('environment', 'opinion'), ('environment', 'politics'), ('environment', 'accident'), ('environment', 'international'), ('environment', 'economics'), ('environment', 'education'), ('environment', 'international'), ('environment', 'science_tech'), ('environment', 'politics'), ('environment', 'crime'), ('environment', 'education'), ('environment', 'education'), ('environment', 'education'), ('environment', 'art'), ('environment', 'politics'), ('environment', 'politics'), ('environment', 'politics'), ('environment', 'crime'), ('environment', 'education'), ('environment', 'politics'), ('environment', 'education'), ('environment', 'entertainment'), ('environment', 'sports'), ('environment', 'politics'), ('environment', 'politics'), ('environment', 'crime'), ('environment', 'education'), ('environment', 'politics'), ('environment', 'politics'), ('environment', 'education'), ('environment', 'education'), ('environment', 'crime'), ('environment', 'accident'), ('environment', 'education'), ('environment', 'politics'), ('environment', 'politics'), ('environment', 'politics'), ('entertainment', 'science_tech'), ('entertainment', 'art'), ('entertainment', 'accident'), ('entertainment', 'education'), ('entertainment', 'crime'), ('entertainment', 'art'), ('entertainment', 'education'), ('entertainment', 'sports'), ('entertainment', 'art'), ('entertainment', 'art'), ('entertainment', 'politics'), ('entertainment', 'art'), ('entertainment', 'education'), ('entertainment', 'art'), ('entertainment', 'science_tech'), ('entertainment', 'art'), ('entertainment', 'art'), ('entertainment', 'art'), ('entertainment', 'art'), ('entertainment', 'crime'), ('entertainment', 'environment'), ('entertainment', 'crime'), ('entertainment', 'art'), ('entertainment', 'environment'), ('entertainment', 'art'), ('entertainment', 'education'), ('entertainment', 'art'), ('entertainment', 'art'), ('entertainment', 'art'), ('entertainment', 'education'), ('entertainment', 'crime'), ('entertainment', 'art'), ('entertainment', 'art'), ('entertainment', 'politics'), ('entertainment', 'art'), ('entertainment', 'sports'), ('entertainment', 'art'), ('entertainment', 'art'), ('entertainment', 'art'), ('entertainment', 'art'), ('entertainment', 'sports'), ('entertainment', 'art'), ('entertainment', 'art'), ('entertainment', 'art'), ('entertainment', 'sports'), ('entertainment', 'crime'), ('entertainment', 'accident'), ('entertainment', 'sports'), ('entertainment', 'international'), ('entertainment', 'art'), ('entertainment', 'art'), ('entertainment', 'art'), ('entertainment', 'crime'), ('entertainment', 'crime'), ('entertainment', 'art'), ('entertainment', 'art'), ('entertainment', 'sports'), ('entertainment', 'education'), ('entertainment', 'art'), ('entertainment', 'art'), ('entertainment', 'art'), ('entertainment', 'art'), ('entertainment', 'crime'), ('entertainment', 'art'), ('entertainment', 'politics'), ('entertainment', 'politics'), ('entertainment', 'politics'), ('entertainment', 'art'), ('entertainment', 'environment'), ('entertainment', 'politics'), ('entertainment', 'politics'), ('entertainment', 'art'), ('entertainment', 'art'), ('entertainment', 'science_tech'), ('entertainment', 'politics'), ('entertainment', 'accident'), ('entertainment', 'crime'), ('entertainment', 'art'), ('entertainment', 'art'), ('entertainment', 'art'), ('entertainment', 'science_tech'), ('entertainment', 'opinion'), ('entertainment', 'art'), ('entertainment', 'art'), ('entertainment', 'art'), ('entertainment', 'accident'), ('entertainment', 'international'), ('entertainment', 'art'), ('entertainment', 'art'), ('entertainment', 'environment'), ('entertainment', 'crime'), ('entertainment', 'art'), ('entertainment', 'sports'), ('entertainment', 'art'), ('entertainment', 'environment'), ('entertainment', 'accident'), ('entertainment', 'science_tech'), ('entertainment', 'art'), ('entertainment', 'art'), ('entertainment', 'art'), ('entertainment', 'art'), ('entertainment', 'art'), ('entertainment', 'education'), ('entertainment', 'art'), ('entertainment', 'crime'), ('entertainment', 'art'), ('entertainment', 'art'), ('entertainment', 'art'), ('entertainment', 'opinion'), ('entertainment', 'opinion'), ('entertainment', 'art'), ('entertainment', 'art'), ('entertainment', 'art'), ('entertainment', 'art'), ('entertainment', 'art'), ('entertainment', 'art'), ('entertainment', 'art'), ('entertainment', 'art'), ('entertainment', 'art'), ('entertainment', 'art'), ('entertainment', 'accident'), ('entertainment', 'education'), ('entertainment', 'politics'), ('entertainment', 'politics'), ('entertainment', 'education'), ('entertainment', 'politics'), ('entertainment', 'art'), ('entertainment', 'crime'), ('entertainment', 'art'), ('entertainment', 'art'), ('entertainment', 'art'), ('entertainment', 'art'), ('entertainment', 'opinion'), ('entertainment', 'accident'), ('entertainment', 'accident'), ('entertainment', 'crime'), ('entertainment', 'art'), ('entertainment', 'art'), ('entertainment', 'art'), ('entertainment', 'art'), ('entertainment', 'politics'), ('entertainment', 'art'), ('entertainment', 'art'), ('entertainment', 'art'), ('entertainment', 'sports'), ('entertainment', 'art'), ('entertainment', 'art'), ('entertainment', 'art'), ('entertainment', 'art'), ('entertainment', 'art'), ('entertainment', 'science_tech'), ('entertainment', 'sports'), ('entertainment', 'sports'), ('entertainment', 'art'), ('entertainment', 'art'), ('entertainment', 'accident'), ('entertainment', 'art'), ('entertainment', 'sports'), ('entertainment', 'sports'), ('entertainment', 'art'), ('entertainment', 'education'), ('entertainment', 'science_tech'), ('entertainment', 'science_tech'), ('entertainment', 'crime'), ('entertainment', 'crime'), ('entertainment', 'art'), ('entertainment', 'environment'), ('entertainment', 'crime'), ('entertainment', 'politics'), ('entertainment', 'art'), ('entertainment', 'art'), ('entertainment', 'education'), ('entertainment', 'crime'), ('entertainment', 'science_tech'), ('entertainment', 'art'), ('entertainment', 'art'), ('entertainment', 'art'), ('entertainment', 'accident'), ('entertainment', 'art'), ('entertainment', 'art'), ('entertainment', 'art'), ('entertainment', 'art'), ('entertainment', 'sports'), ('entertainment', 'education'), ('entertainment', 'politics'), ('entertainment', 'sports'), ('entertainment', 'art'), ('entertainment', 'science_tech'), ('entertainment', 'economics'), ('entertainment', 'art'), ('entertainment', 'art'), ('entertainment', 'sports'), ('entertainment', 'politics'), ('entertainment', 'politics'), ('entertainment', 'accident'), ('entertainment', 'science_tech'), ('entertainment', 'art'), ('entertainment', 'crime'), ('entertainment', 'art'), ('entertainment', 'sports'), ('entertainment', 'politics'), ('entertainment', 'art'), ('entertainment', 'crime'), ('entertainment', 'politics'), ('entertainment', 'art'), ('entertainment', 'opinion'), ('entertainment', 'politics'), ('entertainment', 'art'), ('entertainment', 'art'), ('entertainment', 'education'), ('entertainment', 'art'), ('entertainment', 'art'), ('entertainment', 'sports'), ('entertainment', 'art'), ('entertainment', 'art'), ('entertainment', 'art'), ('entertainment', 'politics'), ('entertainment', 'art'), ('entertainment', 'art'), ('entertainment', 'art'), ('entertainment', 'art'), ('entertainment', 'art'), ('entertainment', 'art'), ('entertainment', 'science_tech'), ('entertainment', 'art'), ('entertainment', 'art'), ('entertainment', 'art'), ('entertainment', 'art'), ('entertainment', 'education'), ('entertainment', 'environment'), ('entertainment', 'opinion'), ('entertainment', 'art'), ('entertainment', 'art'), ('entertainment', 'art'), ('entertainment', 'politics'), ('entertainment', 'sports'), ('entertainment', 'sports'), ('entertainment', 'art'), ('entertainment', 'crime'), ('entertainment', 'crime'), ('entertainment', 'art'), ('entertainment', 'art'), ('entertainment', 'art'), ('entertainment', 'art'), ('entertainment', 'art'), ('entertainment', 'art'), ('entertainment', 'accident'), ('entertainment', 'art'), ('entertainment', 'environment'), ('entertainment', 'international'), ('entertainment', 'art'), ('entertainment', 'art'), ('entertainment', 'sports'), ('entertainment', 'opinion'), ('entertainment', 'sports'), ('entertainment', 'sports'), ('entertainment', 'sports'), ('entertainment', 'politics'), ('entertainment', 'sports'), ('entertainment', 'art'), ('entertainment', 'education'), ('entertainment', 'art'), ('entertainment', 'art'), ('entertainment', 'art'), ('entertainment', 'politics')]\n"
     ]
    }
   ],
   "source": [
    "pred,targ = testing(news/\"full_doc_test.csv\")"
   ]
  },
  {
   "cell_type": "code",
   "execution_count": 0,
   "metadata": {
    "colab": {
     "base_uri": "https://localhost:8080/",
     "height": 34
    },
    "colab_type": "code",
    "id": "zjvrJNG7JGiY",
    "outputId": "1b9c8410-3612-4b3f-eeed-b62db53ec67a"
   },
   "outputs": [
    {
     "data": {
      "text/plain": [
       "(0.9009797965067281, 0.9009797965067281)"
      ]
     },
     "execution_count": 18,
     "metadata": {
      "tags": []
     },
     "output_type": "execute_result"
    }
   ],
   "source": [
    "from sklearn.metrics import f1_score ##mistaken, please rerun\n",
    "out  = f1_score(targ, pred, average='weighted') #'macro' , also == weighted cuz dataset is balanced\n",
    "out , out.mean()"
   ]
  },
  {
   "cell_type": "code",
   "execution_count": 0,
   "metadata": {
    "colab": {},
    "colab_type": "code",
    "id": "HYjzzdA1gUKl"
   },
   "outputs": [],
   "source": []
  }
 ],
 "metadata": {
  "accelerator": "GPU",
  "colab": {
   "collapsed_sections": [
    "trXIN2R7tce7",
    "Dmzxsp3wJ7Np",
    "zsGIUtNT-5Z4",
    "CaxScXEb5xoO",
    "ADJchncNgATq",
    "ctFZHOCmtFu5",
    "K4rfkN6MLCy6",
    "DXCw_hUaTfA9",
    "11qIGADber9I",
    "uMnnPw9RewB8",
    "2CtrgS5vlJ6C"
   ],
   "name": "word-ULMFiT(wiki) .ipynb",
   "provenance": [],
   "version": "0.3.2"
  },
  "kernelspec": {
   "display_name": "Python 3",
   "language": "python",
   "name": "python3"
  },
  "language_info": {
   "codemirror_mode": {
    "name": "ipython",
    "version": 3
   },
   "file_extension": ".py",
   "mimetype": "text/x-python",
   "name": "python",
   "nbconvert_exporter": "python",
   "pygments_lexer": "ipython3",
   "version": "3.6.8"
  }
 },
 "nbformat": 4,
 "nbformat_minor": 1
}
