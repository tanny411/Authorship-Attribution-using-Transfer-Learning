{
 "cells": [
  {
   "cell_type": "markdown",
   "metadata": {
    "colab_type": "text",
    "id": "5KFJ_JA5tFP7"
   },
   "source": [
    "## Preparing the data"
   ]
  },
  {
   "cell_type": "code",
   "execution_count": null,
   "metadata": {
    "colab": {
     "base_uri": "https://localhost:8080/",
     "height": 853
    },
    "colab_type": "code",
    "id": "OGa-bgsytFPI",
    "outputId": "d99546eb-809a-49ad-8391-ac28c9b80742"
   },
   "outputs": [],
   "source": [
    "!pip install fastai==1.0.52\n",
    "from fastai.text import *"
   ]
  },
  {
   "cell_type": "code",
   "execution_count": 0,
   "metadata": {
    "colab": {
     "base_uri": "https://localhost:8080/",
     "height": 122
    },
    "colab_type": "code",
    "id": "9T6tFBp62HNa",
    "outputId": "e1b940b4-c5f0-49ce-a21e-ce4cc32d0443"
   },
   "outputs": [
    {
     "name": "stdout",
     "output_type": "stream",
     "text": [
      "Go to this URL in a browser: https://accounts.google.com/o/oauth2/auth?client_id=947318989803-6bn6qk8qdgf4n4g3pfee6491hc0brc4i.apps.googleusercontent.com&redirect_uri=urn%3Aietf%3Awg%3Aoauth%3A2.0%3Aoob&scope=email%20https%3A%2F%2Fwww.googleapis.com%2Fauth%2Fdocs.test%20https%3A%2F%2Fwww.googleapis.com%2Fauth%2Fdrive%20https%3A%2F%2Fwww.googleapis.com%2Fauth%2Fdrive.photos.readonly%20https%3A%2F%2Fwww.googleapis.com%2Fauth%2Fpeopleapi.readonly&response_type=code\n",
      "\n",
      "Enter your authorization code:\n",
      "··········\n",
      "Mounted at /content/gdrive\n"
     ]
    }
   ],
   "source": [
    "from google.colab import drive\n",
    "drive.mount('/content/gdrive')"
   ]
  },
  {
   "cell_type": "code",
   "execution_count": 0,
   "metadata": {
    "colab": {},
    "colab_type": "code",
    "id": "gcfgPh37tFQC"
   },
   "outputs": [],
   "source": [
    "import os\n",
    "path = Path(os.getcwd())\n",
    "path = path/'gdrive'/'My Drive'\n",
    "pt=path/'Thesis Data'/'full doc csv'\n",
    "dt=path/'Thesis Data'/'Our dataset'\n",
    "subsets=dt/'subsets'"
   ]
  },
  {
   "cell_type": "code",
   "execution_count": 0,
   "metadata": {
    "colab": {},
    "colab_type": "code",
    "id": "MNBGwpETtFh8"
   },
   "outputs": [],
   "source": [
    "bs=32"
   ]
  },
  {
   "cell_type": "code",
   "execution_count": 0,
   "metadata": {
    "colab": {
     "base_uri": "https://localhost:8080/",
     "height": 71
    },
    "colab_type": "code",
    "id": "NLstidgtvyo3",
    "outputId": "67b1b684-4607-42ec-de01-370493ae1510"
   },
   "outputs": [
    {
     "name": "stderr",
     "output_type": "stream",
     "text": [
      "/usr/local/lib/python3.6/dist-packages/torch/serialization.py:454: SourceChangeWarning: source code of class 'torch.nn.modules.loss.CrossEntropyLoss' has changed. you can retrieve the original source code by accessing the object's source attribute or set `torch.nn.Module.dump_patches = True` and use the patch tool to revert the changes.\n",
      "  warnings.warn(msg, SourceChangeWarning)\n"
     ]
    }
   ],
   "source": [
    "data_lm = load_data(pt, 'full_doc_data_lm.pkl',bs=bs)"
   ]
  },
  {
   "cell_type": "markdown",
   "metadata": {
    "colab_type": "text",
    "id": "a48MqTTcVxP-"
   },
   "source": [
    "##  6 Authors"
   ]
  },
  {
   "cell_type": "markdown",
   "metadata": {
    "colab_type": "text",
    "id": "ADJchncNgATq"
   },
   "source": [
    "### LM"
   ]
  },
  {
   "cell_type": "code",
   "execution_count": 0,
   "metadata": {
    "colab": {},
    "colab_type": "code",
    "id": "ns90Mz9zvNPs"
   },
   "outputs": [],
   "source": [
    "# Language model data AA\n",
    "data_lm_AA = TextLMDataBunch.from_csv(subsets, '6train.csv', vocab=data_lm.train_ds.vocab, bs=bs)\n",
    "data_lm_AA.save('6train_word_lm.pkl')"
   ]
  },
  {
   "cell_type": "code",
   "execution_count": 0,
   "metadata": {
    "colab": {},
    "colab_type": "code",
    "id": "nSMtByT7gB2f"
   },
   "outputs": [],
   "source": [
    "data_lm_AA = load_data(subsets, '6train_word_lm.pkl',bs=bs)\n",
    "learn = language_model_learner(data_lm_AA, AWD_LSTM, pretrained=False, drop_mult=0.5)"
   ]
  },
  {
   "cell_type": "code",
   "execution_count": 0,
   "metadata": {
    "colab": {},
    "colab_type": "code",
    "id": "SvBXJO-6g7Z6"
   },
   "outputs": [],
   "source": [
    "learn.load(pt/'models'/'word_news_lm_30');"
   ]
  },
  {
   "cell_type": "code",
   "execution_count": 0,
   "metadata": {
    "colab": {},
    "colab_type": "code",
    "id": "HfEyFDfnz3KE"
   },
   "outputs": [],
   "source": [
    "learn.freeze()"
   ]
  },
  {
   "cell_type": "code",
   "execution_count": 0,
   "metadata": {
    "colab": {
     "base_uri": "https://localhost:8080/",
     "height": 300
    },
    "colab_type": "code",
    "id": "tmp9LLKwg6rk",
    "outputId": "67d849ce-d86c-4008-fbb5-27aefc0fb64c"
   },
   "outputs": [
    {
     "data": {
      "text/html": [],
      "text/plain": [
       "<IPython.core.display.HTML object>"
      ]
     },
     "metadata": {
      "tags": []
     },
     "output_type": "display_data"
    },
    {
     "name": "stdout",
     "output_type": "stream",
     "text": [
      "LR Finder is complete, type {learner_name}.recorder.plot() to see the graph.\n"
     ]
    },
    {
     "data": {
      "image/png": "[encoded data removed]",
      "text/plain": [
       "<Figure size 432x288 with 1 Axes>"
      ]
     },
     "metadata": {
      "tags": []
     },
     "output_type": "display_data"
    }
   ],
   "source": [
    "learn.lr_find()\n",
    "learn.recorder.plot()"
   ]
  },
  {
   "cell_type": "code",
   "execution_count": 0,
   "metadata": {
    "colab": {
     "base_uri": "https://localhost:8080/",
     "height": 283
    },
    "colab_type": "code",
    "id": "3RW0IjC5kfkW",
    "outputId": "4d5439af-c373-4485-f83f-9d752a8e1ca5"
   },
   "outputs": [
    {
     "data": {
      "image/png": "[encoded data removed]",
      "text/plain": [
       "<Figure size 432x288 with 1 Axes>"
      ]
     },
     "metadata": {
      "tags": []
     },
     "output_type": "display_data"
    }
   ],
   "source": [
    "learn.recorder.plot(skip_end=15)"
   ]
  },
  {
   "cell_type": "code",
   "execution_count": 0,
   "metadata": {
    "colab": {
     "base_uri": "https://localhost:8080/",
     "height": 455
    },
    "colab_type": "code",
    "id": "u55lee2AlPoj",
    "outputId": "b8701b15-63a3-4f1e-e595-621254814ee0"
   },
   "outputs": [
    {
     "data": {
      "text/html": [
       "<table border=\"1\" class=\"dataframe\">\n",
       "  <thead>\n",
       "    <tr style=\"text-align: left;\">\n",
       "      <th>epoch</th>\n",
       "      <th>train_loss</th>\n",
       "      <th>valid_loss</th>\n",
       "      <th>accuracy</th>\n",
       "      <th>time</th>\n",
       "    </tr>\n",
       "  </thead>\n",
       "  <tbody>\n",
       "    <tr>\n",
       "      <td>0</td>\n",
       "      <td>4.958354</td>\n",
       "      <td>4.827487</td>\n",
       "      <td>0.248879</td>\n",
       "      <td>07:31</td>\n",
       "    </tr>\n",
       "    <tr>\n",
       "      <td>1</td>\n",
       "      <td>4.707387</td>\n",
       "      <td>4.688944</td>\n",
       "      <td>0.258335</td>\n",
       "      <td>07:45</td>\n",
       "    </tr>\n",
       "  </tbody>\n",
       "</table>"
      ],
      "text/plain": [
       "<IPython.core.display.HTML object>"
      ]
     },
     "metadata": {
      "tags": []
     },
     "output_type": "display_data"
    },
    {
     "data": {
      "text/html": [
       "<table border=\"1\" class=\"dataframe\">\n",
       "  <thead>\n",
       "    <tr style=\"text-align: left;\">\n",
       "      <th>epoch</th>\n",
       "      <th>train_loss</th>\n",
       "      <th>valid_loss</th>\n",
       "      <th>accuracy</th>\n",
       "      <th>time</th>\n",
       "    </tr>\n",
       "  </thead>\n",
       "  <tbody>\n",
       "    <tr>\n",
       "      <td>0</td>\n",
       "      <td>4.787868</td>\n",
       "      <td>4.745176</td>\n",
       "      <td>0.258471</td>\n",
       "      <td>07:52</td>\n",
       "    </tr>\n",
       "    <tr>\n",
       "      <td>1</td>\n",
       "      <td>4.508382</td>\n",
       "      <td>4.571882</td>\n",
       "      <td>0.271531</td>\n",
       "      <td>07:51</td>\n",
       "    </tr>\n",
       "  </tbody>\n",
       "</table>"
      ],
      "text/plain": [
       "<IPython.core.display.HTML object>"
      ]
     },
     "metadata": {
      "tags": []
     },
     "output_type": "display_data"
    },
    {
     "data": {
      "text/html": [
       "<table border=\"1\" class=\"dataframe\">\n",
       "  <thead>\n",
       "    <tr style=\"text-align: left;\">\n",
       "      <th>epoch</th>\n",
       "      <th>train_loss</th>\n",
       "      <th>valid_loss</th>\n",
       "      <th>accuracy</th>\n",
       "      <th>time</th>\n",
       "    </tr>\n",
       "  </thead>\n",
       "  <tbody>\n",
       "    <tr>\n",
       "      <td>0</td>\n",
       "      <td>4.756358</td>\n",
       "      <td>4.718398</td>\n",
       "      <td>0.261224</td>\n",
       "      <td>08:15</td>\n",
       "    </tr>\n",
       "    <tr>\n",
       "      <td>1</td>\n",
       "      <td>4.453580</td>\n",
       "      <td>4.520472</td>\n",
       "      <td>0.277579</td>\n",
       "      <td>08:15</td>\n",
       "    </tr>\n",
       "  </tbody>\n",
       "</table>"
      ],
      "text/plain": [
       "<IPython.core.display.HTML object>"
      ]
     },
     "metadata": {
      "tags": []
     },
     "output_type": "display_data"
    },
    {
     "data": {
      "text/html": [
       "<table border=\"1\" class=\"dataframe\">\n",
       "  <thead>\n",
       "    <tr style=\"text-align: left;\">\n",
       "      <th>epoch</th>\n",
       "      <th>train_loss</th>\n",
       "      <th>valid_loss</th>\n",
       "      <th>accuracy</th>\n",
       "      <th>time</th>\n",
       "    </tr>\n",
       "  </thead>\n",
       "  <tbody>\n",
       "    <tr>\n",
       "      <td>0</td>\n",
       "      <td>4.655127</td>\n",
       "      <td>4.717733</td>\n",
       "      <td>0.260231</td>\n",
       "      <td>08:33</td>\n",
       "    </tr>\n",
       "    <tr>\n",
       "      <td>1</td>\n",
       "      <td>4.652603</td>\n",
       "      <td>4.649709</td>\n",
       "      <td>0.265473</td>\n",
       "      <td>08:33</td>\n",
       "    </tr>\n",
       "    <tr>\n",
       "      <td>2</td>\n",
       "      <td>4.415435</td>\n",
       "      <td>4.492728</td>\n",
       "      <td>0.278784</td>\n",
       "      <td>08:33</td>\n",
       "    </tr>\n",
       "    <tr>\n",
       "      <td>3</td>\n",
       "      <td>4.166722</td>\n",
       "      <td>4.449658</td>\n",
       "      <td>0.282936</td>\n",
       "      <td>08:33</td>\n",
       "    </tr>\n",
       "  </tbody>\n",
       "</table>"
      ],
      "text/plain": [
       "<IPython.core.display.HTML object>"
      ]
     },
     "metadata": {
      "tags": []
     },
     "output_type": "display_data"
    }
   ],
   "source": [
    "learn.freeze()\n",
    "learn.fit_one_cycle(2, 1e-2)\n",
    "learn.save('6train_lm_head');\n",
    "learn.freeze_to(-2)\n",
    "learn.fit_one_cycle(2, 1e-2)\n",
    "learn.save('6train_lm_body_1');\n",
    "learn.freeze_to(-3)\n",
    "learn.fit_one_cycle(2, 1e-2)\n",
    "learn.save('6train_lm_body_2');\n",
    "learn.unfreeze()\n",
    "learn.fit_one_cycle(4, 1e-2)\n",
    "learn.save('6train_lm_body_3');"
   ]
  },
  {
   "cell_type": "code",
   "execution_count": 0,
   "metadata": {
    "colab": {
     "base_uri": "https://localhost:8080/",
     "height": 173
    },
    "colab_type": "code",
    "id": "jIMjoNNDq_yR",
    "outputId": "d837834e-5ebe-4cad-b7ea-28d5a430ab15"
   },
   "outputs": [
    {
     "data": {
      "text/html": [
       "<table border=\"1\" class=\"dataframe\">\n",
       "  <thead>\n",
       "    <tr style=\"text-align: left;\">\n",
       "      <th>epoch</th>\n",
       "      <th>train_loss</th>\n",
       "      <th>valid_loss</th>\n",
       "      <th>accuracy</th>\n",
       "      <th>time</th>\n",
       "    </tr>\n",
       "  </thead>\n",
       "  <tbody>\n",
       "    <tr>\n",
       "      <td>0</td>\n",
       "      <td>4.085526</td>\n",
       "      <td>4.452430</td>\n",
       "      <td>0.282702</td>\n",
       "      <td>08:29</td>\n",
       "    </tr>\n",
       "    <tr>\n",
       "      <td>1</td>\n",
       "      <td>4.087307</td>\n",
       "      <td>4.439222</td>\n",
       "      <td>0.283906</td>\n",
       "      <td>08:34</td>\n",
       "    </tr>\n",
       "    <tr>\n",
       "      <td>2</td>\n",
       "      <td>3.983384</td>\n",
       "      <td>4.439068</td>\n",
       "      <td>0.284367</td>\n",
       "      <td>08:34</td>\n",
       "    </tr>\n",
       "    <tr>\n",
       "      <td>3</td>\n",
       "      <td>3.974684</td>\n",
       "      <td>4.443350</td>\n",
       "      <td>0.284006</td>\n",
       "      <td>08:34</td>\n",
       "    </tr>\n",
       "  </tbody>\n",
       "</table>"
      ],
      "text/plain": [
       "<IPython.core.display.HTML object>"
      ]
     },
     "metadata": {
      "tags": []
     },
     "output_type": "display_data"
    }
   ],
   "source": [
    "learn.load('6train_lm_body_3');\n",
    "learn.unfreeze()\n",
    "learn.fit_one_cycle(4, 1e-3)\n",
    "learn.save('6train_lm_body_4');"
   ]
  },
  {
   "cell_type": "code",
   "execution_count": 0,
   "metadata": {
    "colab": {},
    "colab_type": "code",
    "id": "Np0V8EPczKln"
   },
   "outputs": [],
   "source": [
    "learn.load('6train_lm_body_4');\n",
    "learn.save_encoder('6train_lm_enc')"
   ]
  },
  {
   "cell_type": "markdown",
   "metadata": {
    "colab_type": "text",
    "id": "ctFZHOCmtFu5"
   },
   "source": [
    "### Classifier"
   ]
  },
  {
   "cell_type": "code",
   "execution_count": 0,
   "metadata": {
    "colab": {},
    "colab_type": "code",
    "id": "UVHwiD9ptFvY"
   },
   "outputs": [],
   "source": [
    "data_clas = TextClasDataBunch.from_csv(subsets , '6train.csv', vocab=data_lm.train_ds.vocab, bs=bs)\n",
    "data_clas.save('6train_word_clas.pkl')"
   ]
  },
  {
   "cell_type": "code",
   "execution_count": 0,
   "metadata": {
    "colab": {
     "base_uri": "https://localhost:8080/",
     "height": 289
    },
    "colab_type": "code",
    "id": "LG8FuxQptFv8",
    "outputId": "35cb2c52-2e1e-4302-fed8-f414db75f922"
   },
   "outputs": [
    {
     "data": {
      "text/html": [
       "<table border=\"1\" class=\"dataframe\">\n",
       "  <thead>\n",
       "    <tr style=\"text-align: right;\">\n",
       "      <th>text</th>\n",
       "      <th>target</th>\n",
       "    </tr>\n",
       "  </thead>\n",
       "  <tbody>\n",
       "    <tr>\n",
       "      <td>xxbos ছিল , দু’দিন পার হবার আগেই ওর xxunk হবে এবং সে বাড়িতে ফিরে আসবে । আমাকে জোর খাটিয়ে কিছু করতে হবে না । কিন্তু সে বাসায় ফিরছে না । আপনি এই চিঠি xxunk এমন ব্যবস্থা করবেন যেন সে বাড়িতে ফিরে আসে । আমি একটি ব্যাপার খুব পরিষ্কার করে আপনাকে জানাতে চাই , তা হল — ও বোকা হোক , যা হোক , ওকে আমি অসম্ভব ভালবাসি । ভালবাসা মাপার</td>\n",
       "      <td>humayun_ahmed</td>\n",
       "    </tr>\n",
       "    <tr>\n",
       "      <td>xxbos বিরক্ত করবেন না । ’ আমাকে xxunk টেলিফোন করতে হবে । রিকশা নিয়ে xxunk স্টোরে উপস্থিত হলাম । নতুন ছেলেটা কঠিন চোখে তাকাচ্ছে । আমি বললাম , বল পয়েন্ট কিনতে এসেছি । এই নিন দশ টাকা । ছেলেটার কঠিন চোখে ভয়ের ছায়া পড়ল । সে আমাকে বুঝতে পারছে না । বুঝতে পারছে না বলেই ভয় পাচ্ছে । ‘ কয়েকদিন আগে এক ম্যানেজার সাহেবকে কলম কিনতে xxunk । এসেছিল ?</td>\n",
       "      <td>humayun_ahmed</td>\n",
       "    </tr>\n",
       "    <tr>\n",
       "      <td>xxbos যা । ” “ কেউ নিবে না তো ? ” “ না কেউ নিবে না । এটা একটা নেওয়ার মত xxunk না । ” মিঠুন গম্ভীর মুখে বলল , “ xxunk পড়ে ভেঙে গেলে সর্বনাশ হয়ে যাবে । ” “ ঠিক আছে আমি ব্যবস্থা করে দিচ্ছি । ” বলে আমি আমার ছোট একটা বাক্স এনে xxunk কাপড়ে জড়িয়ে বাক্সের ভিতরে রেখে দিলাম , বললাম । এখন এটা পড়ে ভেঙ্গে</td>\n",
       "      <td>MZI</td>\n",
       "    </tr>\n",
       "    <tr>\n",
       "      <td>xxbos খুবই ভাল লাগে ? ’ ‘ এইসব ভাল লাগার ব্যাপার ? তুই একটা ঝামেলায় xxunk … . ‘ আমি কোন ঝামেলায় পড়েনি মামা । ’ ‘ তোর xxunk একজন পড়েছে । ব্যাপার একই । ভাই xxunk , বন্ধু এদের না দেখলে দেখব কাকে ? পাড়ার লোককে দেখব ? ‘ মামা কিছু xxunk ? হোটেল সারারাত খোলা থাকে । চলুন যাই । ’ ‘ না কিছু খাব না । ফজরের</td>\n",
       "      <td>humayun_ahmed</td>\n",
       "    </tr>\n",
       "    <tr>\n",
       "      <td>xxbos ভয়ে xxunk গিলে কথা xxunk না । আমি আজ এই স্পষ্ট বলে যাচ্ছি , xxunk xxunk জন্যে সংসারে আর কারো দরকার হবে না – তুমি একাই পারবে । আমরা থাকলে তবু যদি - বা কিছু ঠাণ্ডা রাখতে xxunk , কিন্তু সে তোমার xxunk না । ” মধুসূদন গর্জন করে উঠে বললে , “ xxunk করিস নে । xxunk যাবার কথা xxunk ওকে xxunk । ” “ এ কথা ভাবতেই</td>\n",
       "      <td>robindronath</td>\n",
       "    </tr>\n",
       "  </tbody>\n",
       "</table>"
      ],
      "text/plain": [
       "<IPython.core.display.HTML object>"
      ]
     },
     "metadata": {
      "tags": []
     },
     "output_type": "display_data"
    }
   ],
   "source": [
    "data_clas.show_batch()"
   ]
  },
  {
   "cell_type": "code",
   "execution_count": 0,
   "metadata": {
    "colab": {},
    "colab_type": "code",
    "id": "xjxFZmuy5U8N"
   },
   "outputs": [],
   "source": [
    "learn_cls = text_classifier_learner(data_clas, AWD_LSTM, drop_mult=0.5, pretrained=False)"
   ]
  },
  {
   "cell_type": "code",
   "execution_count": 0,
   "metadata": {
    "colab": {},
    "colab_type": "code",
    "id": "VnRM48iY5XK8"
   },
   "outputs": [],
   "source": [
    "learn_cls.load_encoder('6train_lm_enc')"
   ]
  },
  {
   "cell_type": "code",
   "execution_count": 0,
   "metadata": {
    "colab": {},
    "colab_type": "code",
    "id": "rl4SX_7eIVE6"
   },
   "outputs": [],
   "source": [
    "learn_cls.freeze()"
   ]
  },
  {
   "cell_type": "code",
   "execution_count": 0,
   "metadata": {
    "colab": {
     "base_uri": "https://localhost:8080/",
     "height": 300
    },
    "colab_type": "code",
    "id": "RAbMfjcftFyB",
    "outputId": "4872846f-ad28-4532-f971-3f1b5303a7e1"
   },
   "outputs": [
    {
     "data": {
      "text/html": [],
      "text/plain": [
       "<IPython.core.display.HTML object>"
      ]
     },
     "metadata": {
      "tags": []
     },
     "output_type": "display_data"
    },
    {
     "name": "stdout",
     "output_type": "stream",
     "text": [
      "LR Finder is complete, type {learner_name}.recorder.plot() to see the graph.\n"
     ]
    },
    {
     "data": {
      "image/png": "[encoded data removed]",
      "text/plain": [
       "<Figure size 432x288 with 1 Axes>"
      ]
     },
     "metadata": {
      "tags": []
     },
     "output_type": "display_data"
    }
   ],
   "source": [
    "learn_cls.lr_find()\n",
    "learn_cls.recorder.plot()"
   ]
  },
  {
   "cell_type": "code",
   "execution_count": 0,
   "metadata": {
    "colab": {
     "base_uri": "https://localhost:8080/",
     "height": 283
    },
    "colab_type": "code",
    "id": "sIFpjKpHtFzM",
    "outputId": "6bb80317-1e12-4427-cbe1-e6906b4ca5be"
   },
   "outputs": [
    {
     "data": {
      "image/png": "[encoded data removed]",
      "text/plain": [
       "<Figure size 432x288 with 1 Axes>"
      ]
     },
     "metadata": {
      "tags": []
     },
     "output_type": "display_data"
    }
   ],
   "source": [
    "learn_cls.recorder.plot(skip_end=7)"
   ]
  },
  {
   "cell_type": "code",
   "execution_count": 0,
   "metadata": {
    "colab": {
     "base_uri": "https://localhost:8080/",
     "height": 455
    },
    "colab_type": "code",
    "id": "PlunzFheztjk",
    "outputId": "c2241868-9f5a-4c1d-ab95-cf44cbcf3bd0"
   },
   "outputs": [
    {
     "data": {
      "text/html": [
       "<table border=\"1\" class=\"dataframe\">\n",
       "  <thead>\n",
       "    <tr style=\"text-align: left;\">\n",
       "      <th>epoch</th>\n",
       "      <th>train_loss</th>\n",
       "      <th>valid_loss</th>\n",
       "      <th>accuracy</th>\n",
       "      <th>time</th>\n",
       "    </tr>\n",
       "  </thead>\n",
       "  <tbody>\n",
       "    <tr>\n",
       "      <td>0</td>\n",
       "      <td>0.142642</td>\n",
       "      <td>0.011230</td>\n",
       "      <td>0.996216</td>\n",
       "      <td>03:57</td>\n",
       "    </tr>\n",
       "    <tr>\n",
       "      <td>1</td>\n",
       "      <td>0.024978</td>\n",
       "      <td>0.011423</td>\n",
       "      <td>0.996216</td>\n",
       "      <td>03:55</td>\n",
       "    </tr>\n",
       "  </tbody>\n",
       "</table>"
      ],
      "text/plain": [
       "<IPython.core.display.HTML object>"
      ]
     },
     "metadata": {
      "tags": []
     },
     "output_type": "display_data"
    },
    {
     "data": {
      "text/html": [
       "<table border=\"1\" class=\"dataframe\">\n",
       "  <thead>\n",
       "    <tr style=\"text-align: left;\">\n",
       "      <th>epoch</th>\n",
       "      <th>train_loss</th>\n",
       "      <th>valid_loss</th>\n",
       "      <th>accuracy</th>\n",
       "      <th>time</th>\n",
       "    </tr>\n",
       "  </thead>\n",
       "  <tbody>\n",
       "    <tr>\n",
       "      <td>0</td>\n",
       "      <td>0.045933</td>\n",
       "      <td>0.018766</td>\n",
       "      <td>0.995270</td>\n",
       "      <td>04:34</td>\n",
       "    </tr>\n",
       "    <tr>\n",
       "      <td>1</td>\n",
       "      <td>0.013235</td>\n",
       "      <td>0.023138</td>\n",
       "      <td>0.995270</td>\n",
       "      <td>04:33</td>\n",
       "    </tr>\n",
       "  </tbody>\n",
       "</table>"
      ],
      "text/plain": [
       "<IPython.core.display.HTML object>"
      ]
     },
     "metadata": {
      "tags": []
     },
     "output_type": "display_data"
    },
    {
     "data": {
      "text/html": [
       "<table border=\"1\" class=\"dataframe\">\n",
       "  <thead>\n",
       "    <tr style=\"text-align: left;\">\n",
       "      <th>epoch</th>\n",
       "      <th>train_loss</th>\n",
       "      <th>valid_loss</th>\n",
       "      <th>accuracy</th>\n",
       "      <th>time</th>\n",
       "    </tr>\n",
       "  </thead>\n",
       "  <tbody>\n",
       "    <tr>\n",
       "      <td>0</td>\n",
       "      <td>0.011653</td>\n",
       "      <td>0.031602</td>\n",
       "      <td>0.995270</td>\n",
       "      <td>06:44</td>\n",
       "    </tr>\n",
       "    <tr>\n",
       "      <td>1</td>\n",
       "      <td>0.013290</td>\n",
       "      <td>0.023691</td>\n",
       "      <td>0.994324</td>\n",
       "      <td>06:48</td>\n",
       "    </tr>\n",
       "  </tbody>\n",
       "</table>"
      ],
      "text/plain": [
       "<IPython.core.display.HTML object>"
      ]
     },
     "metadata": {
      "tags": []
     },
     "output_type": "display_data"
    },
    {
     "data": {
      "text/html": [
       "<table border=\"1\" class=\"dataframe\">\n",
       "  <thead>\n",
       "    <tr style=\"text-align: left;\">\n",
       "      <th>epoch</th>\n",
       "      <th>train_loss</th>\n",
       "      <th>valid_loss</th>\n",
       "      <th>accuracy</th>\n",
       "      <th>time</th>\n",
       "    </tr>\n",
       "  </thead>\n",
       "  <tbody>\n",
       "    <tr>\n",
       "      <td>0</td>\n",
       "      <td>0.002842</td>\n",
       "      <td>0.016238</td>\n",
       "      <td>0.996216</td>\n",
       "      <td>08:44</td>\n",
       "    </tr>\n",
       "    <tr>\n",
       "      <td>1</td>\n",
       "      <td>0.007329</td>\n",
       "      <td>0.015695</td>\n",
       "      <td>0.996216</td>\n",
       "      <td>08:46</td>\n",
       "    </tr>\n",
       "    <tr>\n",
       "      <td>2</td>\n",
       "      <td>0.005646</td>\n",
       "      <td>0.015032</td>\n",
       "      <td>0.997162</td>\n",
       "      <td>08:46</td>\n",
       "    </tr>\n",
       "    <tr>\n",
       "      <td>3</td>\n",
       "      <td>0.002743</td>\n",
       "      <td>0.015049</td>\n",
       "      <td>0.997162</td>\n",
       "      <td>08:45</td>\n",
       "    </tr>\n",
       "  </tbody>\n",
       "</table>"
      ],
      "text/plain": [
       "<IPython.core.display.HTML object>"
      ]
     },
     "metadata": {
      "tags": []
     },
     "output_type": "display_data"
    }
   ],
   "source": [
    "learn_cls.fit_one_cycle(2, 1e-2, moms=(0.8,0.7))\n",
    "learn_cls.save('6train_word_cls_1')\n",
    "learn_cls.freeze_to(-2)\n",
    "learn_cls.fit_one_cycle(2 , slice(1e-2/(2.6**4),1e-2), moms=(0.8,0.7))\n",
    "learn_cls.save('6train_word_cls_2')\n",
    "learn_cls.freeze_to(-3)\n",
    "learn_cls.fit_one_cycle(2, slice(5e-3/(2.6**4),5e-3), moms=(0.8,0.7))\n",
    "learn_cls.save('6train_word_cls_3')\n",
    "learn_cls.unfreeze()\n",
    "learn_cls.fit_one_cycle(4, slice(1e-3/(2.6**4),1e-3), moms=(0.8,0.7))\n",
    "learn_cls.save('6train_word_cls_4')"
   ]
  },
  {
   "cell_type": "markdown",
   "metadata": {
    "colab_type": "text",
    "id": "Mrfiha-6uvw2"
   },
   "source": [
    "### Test"
   ]
  },
  {
   "cell_type": "code",
   "execution_count": 0,
   "metadata": {
    "colab": {},
    "colab_type": "code",
    "id": "F2Yc3sfmuw4h"
   },
   "outputs": [],
   "source": [
    "def testing(dts):\n",
    "  df = pd.read_csv(dts) \n",
    "  text_array = df[\"text\"].tolist()\n",
    "  print(len(text_array))\n",
    "\n",
    "  final_preds = []\n",
    "\n",
    "  for text in text_array:\n",
    "      preds = learn_cls.predict(text)\n",
    "      final_preds.append(str(preds[0]))\n",
    "\n",
    "  targets = df[\"label\"].tolist()\n",
    "\n",
    "  err=[]\n",
    "  count =0;\n",
    "  tst = len(text_array)\n",
    "\n",
    "  for i in range(tst):\n",
    "      if(targets[i]==final_preds[i]):\n",
    "          count = count+1\n",
    "      else:\n",
    "  #         print(targets[i] + \", \" + final_preds[i] + ';')\n",
    "          err.append((targets[i],final_preds[i]))\n",
    "  print(\"Accuracy: \")\n",
    "  print(count/tst)\n",
    "  print(err)\n",
    "  \n",
    "  return final_preds,targets"
   ]
  },
  {
   "cell_type": "code",
   "execution_count": 0,
   "metadata": {
    "colab": {
     "base_uri": "https://localhost:8080/",
     "height": 85
    },
    "colab_type": "code",
    "id": "bdC2WvScu57I",
    "outputId": "7b8db2ce-326e-49b8-bf64-9eb65adbc00c"
   },
   "outputs": [
    {
     "name": "stdout",
     "output_type": "stream",
     "text": [
      "1320\n",
      "Accuracy: \n",
      "0.996969696969697\n",
      "[('humayun_ahmed', 'shomresh'), ('humayun_ahmed', 'shorotchandra'), ('humayun_ahmed', 'MZI'), ('shomresh', 'robindronath')]\n"
     ]
    }
   ],
   "source": [
    "pred,targ = testing(subsets/'6test.csv')"
   ]
  },
  {
   "cell_type": "code",
   "execution_count": 0,
   "metadata": {
    "colab": {
     "base_uri": "https://localhost:8080/",
     "height": 51
    },
    "colab_type": "code",
    "id": "ElVcJzHou8w8",
    "outputId": "166435ee-e822-43a8-dbcf-c249420911ad"
   },
   "outputs": [
    {
     "data": {
      "text/plain": [
       "(array([0.997732, 0.993135, 0.997732, 0.995455, 0.997732, 1.      ]),\n",
       " 0.9969644726346263)"
      ]
     },
     "execution_count": 23,
     "metadata": {
      "tags": []
     },
     "output_type": "execute_result"
    }
   ],
   "source": [
    "from sklearn.metrics import f1_score\n",
    "out  = f1_score(targ, pred, average=None) #'macro' , also == weighted cuz dataset is balanced\n",
    "out , out.mean()"
   ]
  },
  {
   "cell_type": "code",
   "execution_count": 0,
   "metadata": {
    "colab": {},
    "colab_type": "code",
    "id": "bglY9QWqmgr0"
   },
   "outputs": [],
   "source": []
  },
  {
   "cell_type": "markdown",
   "metadata": {
    "colab_type": "text",
    "id": "YRtifQMp4KFF"
   },
   "source": [
    "##  8 Authors"
   ]
  },
  {
   "cell_type": "markdown",
   "metadata": {
    "colab_type": "text",
    "id": "h6ZhzWjX4KFW"
   },
   "source": [
    "### LM"
   ]
  },
  {
   "cell_type": "code",
   "execution_count": 0,
   "metadata": {
    "colab": {},
    "colab_type": "code",
    "id": "6ZsHYOmI4KFX"
   },
   "outputs": [],
   "source": [
    "# Language model data AA\n",
    "data_lm_AA = TextLMDataBunch.from_csv(subsets, '8train.csv', vocab=data_lm.train_ds.vocab, bs=bs)\n",
    "data_lm_AA.save('8train_word_lm.pkl')"
   ]
  },
  {
   "cell_type": "code",
   "execution_count": 0,
   "metadata": {
    "colab": {},
    "colab_type": "code",
    "id": "l4tevGME4KFk"
   },
   "outputs": [],
   "source": [
    "data_lm_AA = load_data(subsets, '8train_word_lm.pkl',bs=bs)\n",
    "learn = language_model_learner(data_lm_AA, AWD_LSTM, pretrained=False, drop_mult=0.5)"
   ]
  },
  {
   "cell_type": "code",
   "execution_count": 0,
   "metadata": {
    "colab": {},
    "colab_type": "code",
    "id": "V6ekY6Mf4KFo"
   },
   "outputs": [],
   "source": [
    "learn.load(pt/'models'/'word_news_lm_30');"
   ]
  },
  {
   "cell_type": "code",
   "execution_count": 0,
   "metadata": {
    "colab": {},
    "colab_type": "code",
    "id": "brPwsLXz4KFt"
   },
   "outputs": [],
   "source": [
    "learn.freeze()"
   ]
  },
  {
   "cell_type": "code",
   "execution_count": 0,
   "metadata": {
    "colab": {
     "base_uri": "https://localhost:8080/",
     "height": 300
    },
    "colab_type": "code",
    "id": "JHlfRtjp4KFy",
    "outputId": "1b37c9a1-44e4-4f23-c115-025b5f1f484a"
   },
   "outputs": [
    {
     "data": {
      "text/html": [],
      "text/plain": [
       "<IPython.core.display.HTML object>"
      ]
     },
     "metadata": {
      "tags": []
     },
     "output_type": "display_data"
    },
    {
     "name": "stdout",
     "output_type": "stream",
     "text": [
      "LR Finder is complete, type {learner_name}.recorder.plot() to see the graph.\n"
     ]
    },
    {
     "data": {
      "image/png": "[encoded data removed]",
      "text/plain": [
       "<Figure size 432x288 with 1 Axes>"
      ]
     },
     "metadata": {
      "tags": []
     },
     "output_type": "display_data"
    }
   ],
   "source": [
    "learn.lr_find()\n",
    "learn.recorder.plot()"
   ]
  },
  {
   "cell_type": "code",
   "execution_count": 0,
   "metadata": {
    "colab": {
     "base_uri": "https://localhost:8080/",
     "height": 283
    },
    "colab_type": "code",
    "id": "mmAk5M924KF8",
    "outputId": "45bd3925-64af-487f-9a7e-ad1cd954535a"
   },
   "outputs": [
    {
     "data": {
      "image/png": "[encoded data removed]",
      "text/plain": [
       "<Figure size 432x288 with 1 Axes>"
      ]
     },
     "metadata": {
      "tags": []
     },
     "output_type": "display_data"
    }
   ],
   "source": [
    "learn.recorder.plot(skip_end=15)"
   ]
  },
  {
   "cell_type": "code",
   "execution_count": 0,
   "metadata": {
    "colab": {
     "base_uri": "https://localhost:8080/",
     "height": 455
    },
    "colab_type": "code",
    "id": "pFyOHraR4KGL",
    "outputId": "94d4f3ca-9524-4c50-d39e-9cd16d7cf11a"
   },
   "outputs": [
    {
     "data": {
      "text/html": [
       "<table border=\"1\" class=\"dataframe\">\n",
       "  <thead>\n",
       "    <tr style=\"text-align: left;\">\n",
       "      <th>epoch</th>\n",
       "      <th>train_loss</th>\n",
       "      <th>valid_loss</th>\n",
       "      <th>accuracy</th>\n",
       "      <th>time</th>\n",
       "    </tr>\n",
       "  </thead>\n",
       "  <tbody>\n",
       "    <tr>\n",
       "      <td>0</td>\n",
       "      <td>5.063671</td>\n",
       "      <td>4.962101</td>\n",
       "      <td>0.237463</td>\n",
       "      <td>16:51</td>\n",
       "    </tr>\n",
       "    <tr>\n",
       "      <td>1</td>\n",
       "      <td>4.846894</td>\n",
       "      <td>4.812362</td>\n",
       "      <td>0.248533</td>\n",
       "      <td>16:49</td>\n",
       "    </tr>\n",
       "  </tbody>\n",
       "</table>"
      ],
      "text/plain": [
       "<IPython.core.display.HTML object>"
      ]
     },
     "metadata": {
      "tags": []
     },
     "output_type": "display_data"
    },
    {
     "data": {
      "text/html": [
       "<table border=\"1\" class=\"dataframe\">\n",
       "  <thead>\n",
       "    <tr style=\"text-align: left;\">\n",
       "      <th>epoch</th>\n",
       "      <th>train_loss</th>\n",
       "      <th>valid_loss</th>\n",
       "      <th>accuracy</th>\n",
       "      <th>time</th>\n",
       "    </tr>\n",
       "  </thead>\n",
       "  <tbody>\n",
       "    <tr>\n",
       "      <td>0</td>\n",
       "      <td>4.867321</td>\n",
       "      <td>4.884098</td>\n",
       "      <td>0.247567</td>\n",
       "      <td>17:05</td>\n",
       "    </tr>\n",
       "    <tr>\n",
       "      <td>1</td>\n",
       "      <td>4.697634</td>\n",
       "      <td>4.706554</td>\n",
       "      <td>0.259675</td>\n",
       "      <td>17:05</td>\n",
       "    </tr>\n",
       "  </tbody>\n",
       "</table>"
      ],
      "text/plain": [
       "<IPython.core.display.HTML object>"
      ]
     },
     "metadata": {
      "tags": []
     },
     "output_type": "display_data"
    },
    {
     "data": {
      "text/html": [
       "<table border=\"1\" class=\"dataframe\">\n",
       "  <thead>\n",
       "    <tr style=\"text-align: left;\">\n",
       "      <th>epoch</th>\n",
       "      <th>train_loss</th>\n",
       "      <th>valid_loss</th>\n",
       "      <th>accuracy</th>\n",
       "      <th>time</th>\n",
       "    </tr>\n",
       "  </thead>\n",
       "  <tbody>\n",
       "    <tr>\n",
       "      <td>0</td>\n",
       "      <td>4.868570</td>\n",
       "      <td>4.864226</td>\n",
       "      <td>0.249884</td>\n",
       "      <td>17:55</td>\n",
       "    </tr>\n",
       "    <tr>\n",
       "      <td>1</td>\n",
       "      <td>4.555605</td>\n",
       "      <td>4.656592</td>\n",
       "      <td>0.265597</td>\n",
       "      <td>17:53</td>\n",
       "    </tr>\n",
       "  </tbody>\n",
       "</table>"
      ],
      "text/plain": [
       "<IPython.core.display.HTML object>"
      ]
     },
     "metadata": {
      "tags": []
     },
     "output_type": "display_data"
    },
    {
     "data": {
      "text/html": [
       "<table border=\"1\" class=\"dataframe\">\n",
       "  <thead>\n",
       "    <tr style=\"text-align: left;\">\n",
       "      <th>epoch</th>\n",
       "      <th>train_loss</th>\n",
       "      <th>valid_loss</th>\n",
       "      <th>accuracy</th>\n",
       "      <th>time</th>\n",
       "    </tr>\n",
       "  </thead>\n",
       "  <tbody>\n",
       "    <tr>\n",
       "      <td>0</td>\n",
       "      <td>4.414937</td>\n",
       "      <td>4.638802</td>\n",
       "      <td>0.266607</td>\n",
       "      <td>18:37</td>\n",
       "    </tr>\n",
       "    <tr>\n",
       "      <td>1</td>\n",
       "      <td>4.392800</td>\n",
       "      <td>4.604104</td>\n",
       "      <td>0.269306</td>\n",
       "      <td>18:38</td>\n",
       "    </tr>\n",
       "    <tr>\n",
       "      <td>2</td>\n",
       "      <td>4.271932</td>\n",
       "      <td>4.584065</td>\n",
       "      <td>0.271029</td>\n",
       "      <td>18:44</td>\n",
       "    </tr>\n",
       "    <tr>\n",
       "      <td>3</td>\n",
       "      <td>4.185538</td>\n",
       "      <td>4.588463</td>\n",
       "      <td>0.270852</td>\n",
       "      <td>18:44</td>\n",
       "    </tr>\n",
       "  </tbody>\n",
       "</table>"
      ],
      "text/plain": [
       "<IPython.core.display.HTML object>"
      ]
     },
     "metadata": {
      "tags": []
     },
     "output_type": "display_data"
    }
   ],
   "source": [
    "learn.freeze()\n",
    "learn.fit_one_cycle(2, 1e-2)\n",
    "learn.save('8train_lm_head');\n",
    "learn.freeze_to(-2)\n",
    "learn.fit_one_cycle(2, 1e-2)\n",
    "learn.save('8train_lm_body_1');\n",
    "learn.freeze_to(-3)\n",
    "learn.fit_one_cycle(2, 1e-2)\n",
    "learn.save('8train_lm_body_2');\n",
    "learn.unfreeze()\n",
    "learn.fit_one_cycle(4, 1e-3)\n",
    "learn.save('8train_lm_body_3');"
   ]
  },
  {
   "cell_type": "code",
   "execution_count": 0,
   "metadata": {
    "colab": {
     "base_uri": "https://localhost:8080/",
     "height": 173
    },
    "colab_type": "code",
    "id": "muLga02O4KGT",
    "outputId": "9edc7484-9ee4-4884-fcf9-ced6abb28088"
   },
   "outputs": [
    {
     "data": {
      "text/html": [
       "<table border=\"1\" class=\"dataframe\">\n",
       "  <thead>\n",
       "    <tr style=\"text-align: left;\">\n",
       "      <th>epoch</th>\n",
       "      <th>train_loss</th>\n",
       "      <th>valid_loss</th>\n",
       "      <th>accuracy</th>\n",
       "      <th>time</th>\n",
       "    </tr>\n",
       "  </thead>\n",
       "  <tbody>\n",
       "    <tr>\n",
       "      <td>0</td>\n",
       "      <td>4.243512</td>\n",
       "      <td>4.596003</td>\n",
       "      <td>0.270180</td>\n",
       "      <td>18:42</td>\n",
       "    </tr>\n",
       "    <tr>\n",
       "      <td>1</td>\n",
       "      <td>4.272329</td>\n",
       "      <td>4.578660</td>\n",
       "      <td>0.271209</td>\n",
       "      <td>18:43</td>\n",
       "    </tr>\n",
       "    <tr>\n",
       "      <td>2</td>\n",
       "      <td>4.156961</td>\n",
       "      <td>4.570635</td>\n",
       "      <td>0.272372</td>\n",
       "      <td>18:42</td>\n",
       "    </tr>\n",
       "    <tr>\n",
       "      <td>3</td>\n",
       "      <td>4.064596</td>\n",
       "      <td>4.577924</td>\n",
       "      <td>0.272088</td>\n",
       "      <td>18:43</td>\n",
       "    </tr>\n",
       "  </tbody>\n",
       "</table>"
      ],
      "text/plain": [
       "<IPython.core.display.HTML object>"
      ]
     },
     "metadata": {
      "tags": []
     },
     "output_type": "display_data"
    }
   ],
   "source": [
    "learn.load('8train_lm_body_3');\n",
    "learn.unfreeze()\n",
    "learn.fit_one_cycle(4, 1e-3)\n",
    "learn.save('8train_lm_body_4');"
   ]
  },
  {
   "cell_type": "code",
   "execution_count": 0,
   "metadata": {
    "colab": {},
    "colab_type": "code",
    "id": "cWMVbtBc4KGh"
   },
   "outputs": [],
   "source": [
    "learn.save_encoder('8train_lm_enc')"
   ]
  },
  {
   "cell_type": "markdown",
   "metadata": {
    "colab_type": "text",
    "id": "G_zKo-8C4KGr"
   },
   "source": [
    "### Classifier"
   ]
  },
  {
   "cell_type": "code",
   "execution_count": 0,
   "metadata": {
    "colab": {},
    "colab_type": "code",
    "id": "aDinAcLC4KGt"
   },
   "outputs": [],
   "source": [
    "data_clas = TextClasDataBunch.from_csv(subsets , '8train.csv', vocab=data_lm.train_ds.vocab, bs=bs)\n",
    "data_clas.save('8train_word_clas.pkl')"
   ]
  },
  {
   "cell_type": "code",
   "execution_count": 0,
   "metadata": {
    "colab": {
     "base_uri": "https://localhost:8080/",
     "height": 289
    },
    "colab_type": "code",
    "id": "o0qYiBrJ4KGz",
    "outputId": "3292e123-35e1-4256-deda-83985021d34c"
   },
   "outputs": [
    {
     "data": {
      "text/html": [
       "<table border=\"1\" class=\"dataframe\">\n",
       "  <thead>\n",
       "    <tr style=\"text-align: right;\">\n",
       "      <th>text</th>\n",
       "      <th>target</th>\n",
       "    </tr>\n",
       "  </thead>\n",
       "  <tbody>\n",
       "    <tr>\n",
       "      <td>xxbos xxunk । xxunk , xxunk , পরস্পরকে অবিশ্বাস , xxunk চক্রান্ত , গুপ্তচরবৃত্তি একদিন তাদের টেনে নিয়ে যাবে xxunk তলায় । এ আমি স্পষ্ট দেখতে পাচ্ছি । এই xxunk xxunk xxunk xxunk মধ্যে দিনরাত xxunk বিষাক্ত হাওয়ায় কখনোই নিজের স্বভাবে সেই xxunk রক্ষা করতে পারব না যাতে পৃথিবীতে কোনো বড়ো কাজ করতে পারা যায় । ” “ আচ্ছা অন্তু , তুমি যাকে xxunk বল সে কি আমাদেরই দেশে ?</td>\n",
       "      <td>robindronath</td>\n",
       "    </tr>\n",
       "    <tr>\n",
       "      <td>xxbos বসব ? ’ ‘ বসুন । ’ ‘ শুরু করব ? ’ ‘ কী শুরু করতে চাচ্ছেন ? ’ ‘ জীবন - কাহিনী । আমার বাবা কি করে আমাকে xxunk বানানো চেষ্টা করতে লাগলেন , তিনি কতটুকু পারলেন , কতটুকু পারলেন না । অর্থাৎ ঐ রাতে যেখানে শেষ করেছিলাম , সেখান থেকে শুরু … ’ ‘ হিমু সাহেব । ’ ‘ জ্বি ? ’ ‘ আমার একটি মেয়ে অসুস্থ</td>\n",
       "      <td>humayun_ahmed</td>\n",
       "    </tr>\n",
       "    <tr>\n",
       "      <td>xxbos ভাই অংক শিখতে পারেননি । টাকাটা দিতে পারলাম না । কিছু মনে করবেন না । আবদুর রশীদ দাঁড়িয়ে আছে — আমি হাঁটা ধরেছি । মেসে ফিরে যাব । সারাদিন কিছু না খাওয়াতে xxunk xxunk পাক দিচ্ছে । মেসে রান্না হয়েছে কি - না খোঁজ নিতে হবে । মেসের ভাত সকাল সকাল নেমে যায় । ভাত নেমে গেলে একটা ডিম ভেজে দিতে বলব । আগুন - গরম ভাত xxunk দিয়ে</td>\n",
       "      <td>humayun_ahmed</td>\n",
       "    </tr>\n",
       "    <tr>\n",
       "      <td>xxbos ‘ গুড – হয়েছে । আর কী ? ’ ‘ xxunk xxunk গাড়ির ধোয়া , কার্বন xxunk কিছু নেই । ’ ‘ ভেরি গুড । ’ ‘ লোকজন বেশি হাঁটাহাঁটি করছে , তাদের স্বাস্থ্য ভালো হচ্ছে । ডায়াবেটিস রোগীর সংখ্যা কমছে । ’ ‘ xxunk আর কী ? ’ ‘ আরবদের কাছ থেকে আমাদের পেট্রোল কিনতে হচ্ছে না । কিছু ফরেন কারেন্সি বেঁচে যাচ্ছে । ’ ‘ হুঁ ।</td>\n",
       "      <td>humayun_ahmed</td>\n",
       "    </tr>\n",
       "    <tr>\n",
       "      <td>xxbos সময় মনে হল রুপার চিঠি আমার সঙ্গে নেই । xxunk বাসায় পুরানো কাপড়ের সঙ্গে ফেলে এসেছি । xxunk xxunk নিশ্চয়ই xxunk বাড়িতে চলে গেছে । মাথার xxunk বাড়ছে । এই অসহ্য তীব্র xxunk উৎস কি ? তীব্র আনন্দ যিনি দেন , তীব্র xxunk কি তাঁরই দেয়া ? কিন্তু তা তো হবার কথা না । যিনি পরম xxunk , ব্যথা তাঁর সৃষ্টি হতে পারে না । পাশের ঘরে হৈচৈ হচ্ছে</td>\n",
       "      <td>humayun_ahmed</td>\n",
       "    </tr>\n",
       "  </tbody>\n",
       "</table>"
      ],
      "text/plain": [
       "<IPython.core.display.HTML object>"
      ]
     },
     "metadata": {
      "tags": []
     },
     "output_type": "display_data"
    }
   ],
   "source": [
    "data_clas.show_batch()"
   ]
  },
  {
   "cell_type": "code",
   "execution_count": 0,
   "metadata": {
    "colab": {},
    "colab_type": "code",
    "id": "YCdx8BYx4KG9"
   },
   "outputs": [],
   "source": [
    "learn_cls = text_classifier_learner(data_clas, AWD_LSTM, drop_mult=0.5, pretrained=False)"
   ]
  },
  {
   "cell_type": "code",
   "execution_count": 0,
   "metadata": {
    "colab": {},
    "colab_type": "code",
    "id": "8mQNhRNq4KHC"
   },
   "outputs": [],
   "source": [
    "learn_cls.load_encoder('8train_lm_enc')"
   ]
  },
  {
   "cell_type": "code",
   "execution_count": 0,
   "metadata": {
    "colab": {},
    "colab_type": "code",
    "id": "HOY3ajak4KHG"
   },
   "outputs": [],
   "source": [
    "learn_cls.freeze()"
   ]
  },
  {
   "cell_type": "code",
   "execution_count": 0,
   "metadata": {
    "colab": {
     "base_uri": "https://localhost:8080/",
     "height": 300
    },
    "colab_type": "code",
    "id": "WxrhjdYn4KHM",
    "outputId": "a263f235-098d-4358-8e23-3d9a0463b211"
   },
   "outputs": [
    {
     "data": {
      "text/html": [],
      "text/plain": [
       "<IPython.core.display.HTML object>"
      ]
     },
     "metadata": {
      "tags": []
     },
     "output_type": "display_data"
    },
    {
     "name": "stdout",
     "output_type": "stream",
     "text": [
      "LR Finder is complete, type {learner_name}.recorder.plot() to see the graph.\n"
     ]
    },
    {
     "data": {
      "image/png": "[encoded data removed]",
      "text/plain": [
       "<Figure size 432x288 with 1 Axes>"
      ]
     },
     "metadata": {
      "tags": []
     },
     "output_type": "display_data"
    }
   ],
   "source": [
    "learn_cls.lr_find()\n",
    "learn_cls.recorder.plot()"
   ]
  },
  {
   "cell_type": "code",
   "execution_count": 0,
   "metadata": {
    "colab": {
     "base_uri": "https://localhost:8080/",
     "height": 283
    },
    "colab_type": "code",
    "id": "AT5se_xR4KHT",
    "outputId": "49371a48-1bb5-445e-d725-2fe155c1d7f3"
   },
   "outputs": [
    {
     "data": {
      "image/png": "[encoded data removed]",
      "text/plain": [
       "<Figure size 432x288 with 1 Axes>"
      ]
     },
     "metadata": {
      "tags": []
     },
     "output_type": "display_data"
    }
   ],
   "source": [
    "learn_cls.recorder.plot(skip_end=7)"
   ]
  },
  {
   "cell_type": "code",
   "execution_count": 0,
   "metadata": {
    "colab": {
     "base_uri": "https://localhost:8080/",
     "height": 455
    },
    "colab_type": "code",
    "id": "WD_Cb7Oj4KHa",
    "outputId": "fd90f66c-530a-4ce8-feaa-9a299b11ff75"
   },
   "outputs": [
    {
     "data": {
      "text/html": [
       "<table border=\"1\" class=\"dataframe\">\n",
       "  <thead>\n",
       "    <tr style=\"text-align: left;\">\n",
       "      <th>epoch</th>\n",
       "      <th>train_loss</th>\n",
       "      <th>valid_loss</th>\n",
       "      <th>accuracy</th>\n",
       "      <th>time</th>\n",
       "    </tr>\n",
       "  </thead>\n",
       "  <tbody>\n",
       "    <tr>\n",
       "      <td>0</td>\n",
       "      <td>0.129889</td>\n",
       "      <td>0.018999</td>\n",
       "      <td>0.996641</td>\n",
       "      <td>04:23</td>\n",
       "    </tr>\n",
       "    <tr>\n",
       "      <td>1</td>\n",
       "      <td>0.030894</td>\n",
       "      <td>0.018553</td>\n",
       "      <td>0.994962</td>\n",
       "      <td>04:23</td>\n",
       "    </tr>\n",
       "  </tbody>\n",
       "</table>"
      ],
      "text/plain": [
       "<IPython.core.display.HTML object>"
      ]
     },
     "metadata": {
      "tags": []
     },
     "output_type": "display_data"
    },
    {
     "data": {
      "text/html": [
       "<table border=\"1\" class=\"dataframe\">\n",
       "  <thead>\n",
       "    <tr style=\"text-align: left;\">\n",
       "      <th>epoch</th>\n",
       "      <th>train_loss</th>\n",
       "      <th>valid_loss</th>\n",
       "      <th>accuracy</th>\n",
       "      <th>time</th>\n",
       "    </tr>\n",
       "  </thead>\n",
       "  <tbody>\n",
       "    <tr>\n",
       "      <td>0</td>\n",
       "      <td>0.030476</td>\n",
       "      <td>0.023247</td>\n",
       "      <td>0.994962</td>\n",
       "      <td>05:09</td>\n",
       "    </tr>\n",
       "    <tr>\n",
       "      <td>1</td>\n",
       "      <td>0.014966</td>\n",
       "      <td>0.017678</td>\n",
       "      <td>0.996641</td>\n",
       "      <td>05:10</td>\n",
       "    </tr>\n",
       "  </tbody>\n",
       "</table>"
      ],
      "text/plain": [
       "<IPython.core.display.HTML object>"
      ]
     },
     "metadata": {
      "tags": []
     },
     "output_type": "display_data"
    },
    {
     "data": {
      "text/html": [
       "<table border=\"1\" class=\"dataframe\">\n",
       "  <thead>\n",
       "    <tr style=\"text-align: left;\">\n",
       "      <th>epoch</th>\n",
       "      <th>train_loss</th>\n",
       "      <th>valid_loss</th>\n",
       "      <th>accuracy</th>\n",
       "      <th>time</th>\n",
       "    </tr>\n",
       "  </thead>\n",
       "  <tbody>\n",
       "    <tr>\n",
       "      <td>0</td>\n",
       "      <td>0.014010</td>\n",
       "      <td>0.016272</td>\n",
       "      <td>0.993283</td>\n",
       "      <td>07:35</td>\n",
       "    </tr>\n",
       "    <tr>\n",
       "      <td>1</td>\n",
       "      <td>0.005529</td>\n",
       "      <td>0.009376</td>\n",
       "      <td>0.997481</td>\n",
       "      <td>07:39</td>\n",
       "    </tr>\n",
       "  </tbody>\n",
       "</table>"
      ],
      "text/plain": [
       "<IPython.core.display.HTML object>"
      ]
     },
     "metadata": {
      "tags": []
     },
     "output_type": "display_data"
    },
    {
     "data": {
      "text/html": [
       "<table border=\"1\" class=\"dataframe\">\n",
       "  <thead>\n",
       "    <tr style=\"text-align: left;\">\n",
       "      <th>epoch</th>\n",
       "      <th>train_loss</th>\n",
       "      <th>valid_loss</th>\n",
       "      <th>accuracy</th>\n",
       "      <th>time</th>\n",
       "    </tr>\n",
       "  </thead>\n",
       "  <tbody>\n",
       "    <tr>\n",
       "      <td>0</td>\n",
       "      <td>0.004624</td>\n",
       "      <td>0.010430</td>\n",
       "      <td>0.997481</td>\n",
       "      <td>09:56</td>\n",
       "    </tr>\n",
       "    <tr>\n",
       "      <td>1</td>\n",
       "      <td>0.004289</td>\n",
       "      <td>0.009482</td>\n",
       "      <td>0.997481</td>\n",
       "      <td>09:55</td>\n",
       "    </tr>\n",
       "    <tr>\n",
       "      <td>2</td>\n",
       "      <td>0.001717</td>\n",
       "      <td>0.008487</td>\n",
       "      <td>0.997481</td>\n",
       "      <td>09:54</td>\n",
       "    </tr>\n",
       "    <tr>\n",
       "      <td>3</td>\n",
       "      <td>0.007103</td>\n",
       "      <td>0.008676</td>\n",
       "      <td>0.996641</td>\n",
       "      <td>09:53</td>\n",
       "    </tr>\n",
       "  </tbody>\n",
       "</table>"
      ],
      "text/plain": [
       "<IPython.core.display.HTML object>"
      ]
     },
     "metadata": {
      "tags": []
     },
     "output_type": "display_data"
    }
   ],
   "source": [
    "learn_cls.fit_one_cycle(2, 1e-2, moms=(0.8,0.7))\n",
    "learn_cls.save('8train_word_cls_1')\n",
    "learn_cls.freeze_to(-2)\n",
    "learn_cls.fit_one_cycle(2 , slice(1e-2/(2.8**4),1e-2), moms=(0.8,0.7))\n",
    "learn_cls.save('8train_word_cls_2')\n",
    "learn_cls.freeze_to(-3)\n",
    "learn_cls.fit_one_cycle(2, slice(5e-3/(2.8**4),5e-3), moms=(0.8,0.7))\n",
    "learn_cls.save('8train_word_cls_3')\n",
    "learn_cls.unfreeze()\n",
    "learn_cls.fit_one_cycle(4, slice(1e-3/(2.8**4),1e-3), moms=(0.8,0.7))\n",
    "learn_cls.save('8train_word_cls_4')"
   ]
  },
  {
   "cell_type": "markdown",
   "metadata": {
    "colab_type": "text",
    "id": "JszflWtU4KHi"
   },
   "source": [
    "### Test"
   ]
  },
  {
   "cell_type": "code",
   "execution_count": 0,
   "metadata": {
    "colab": {
     "base_uri": "https://localhost:8080/",
     "height": 105
    },
    "colab_type": "code",
    "id": "hszbNzBh4KHl",
    "outputId": "b272f3fb-0adb-4d59-912d-b678cf36b121"
   },
   "outputs": [
    {
     "name": "stdout",
     "output_type": "stream",
     "text": [
      "1496\n",
      "Accuracy: \n",
      "0.9953208556149733\n",
      "[('MZI', 'humayun_ahmed'), ('shorotchandra', 'robindronath'), ('robindronath', 'shunil_gongopaddhay'), ('humayun_ahmed', 'MZI'), ('humayun_ahmed', 'shorotchandra'), ('humayun_ahmed', 'MZI'), ('shomresh', 'shirshendu')]\n"
     ]
    }
   ],
   "source": [
    "pred,targ = testing(subsets/'8test.csv')"
   ]
  },
  {
   "cell_type": "code",
   "execution_count": 0,
   "metadata": {
    "colab": {
     "base_uri": "https://localhost:8080/",
     "height": 51
    },
    "colab_type": "code",
    "id": "sQ3AjqRd4KHq",
    "outputId": "2d606201-adb5-4086-e4cf-96878c6e200b"
   },
   "outputs": [
    {
     "data": {
      "text/plain": [
       "(array([0.992   , 0.989247, 0.994652, 0.997333, 0.997319, 0.994652, 0.997333, 1.      ]),\n",
       " 0.9953172282726743)"
      ]
     },
     "execution_count": 43,
     "metadata": {
      "tags": []
     },
     "output_type": "execute_result"
    }
   ],
   "source": [
    "from sklearn.metrics import f1_score\n",
    "out  = f1_score(targ, pred, average=None) #'macro' , also == weighted cuz dataset is balanced\n",
    "out , out.mean()"
   ]
  },
  {
   "cell_type": "code",
   "execution_count": 0,
   "metadata": {
    "colab": {},
    "colab_type": "code",
    "id": "JO0_uREp4KHx"
   },
   "outputs": [],
   "source": []
  },
  {
   "cell_type": "code",
   "execution_count": 0,
   "metadata": {
    "colab": {},
    "colab_type": "code",
    "id": "cOp5Yq747Wps"
   },
   "outputs": [],
   "source": []
  },
  {
   "cell_type": "markdown",
   "metadata": {
    "colab_type": "text",
    "id": "bgzx5rxz7Wp4"
   },
   "source": [
    "##  10 Authors"
   ]
  },
  {
   "cell_type": "markdown",
   "metadata": {
    "colab_type": "text",
    "id": "949-EMc77Wp5"
   },
   "source": [
    "### LM"
   ]
  },
  {
   "cell_type": "code",
   "execution_count": 0,
   "metadata": {
    "colab": {},
    "colab_type": "code",
    "id": "gvxyrfEx7Wp8"
   },
   "outputs": [],
   "source": [
    "# Language model data AA\n",
    "data_lm_AA = TextLMDataBunch.from_csv(subsets, '10train.csv', vocab=data_lm.train_ds.vocab, bs=bs)\n",
    "data_lm_AA.save('10train_word_lm.pkl')"
   ]
  },
  {
   "cell_type": "code",
   "execution_count": 0,
   "metadata": {
    "colab": {},
    "colab_type": "code",
    "id": "NrEPKM0k7WqB"
   },
   "outputs": [],
   "source": [
    "data_lm_AA = load_data(subsets, '10train_word_lm.pkl',bs=bs)\n",
    "learn = language_model_learner(data_lm_AA, AWD_LSTM, pretrained=False, drop_mult=0.5)"
   ]
  },
  {
   "cell_type": "code",
   "execution_count": 0,
   "metadata": {
    "colab": {},
    "colab_type": "code",
    "id": "4VJGrwsB7WqF"
   },
   "outputs": [],
   "source": [
    "learn.load(pt/'models'/'word_news_lm_30');"
   ]
  },
  {
   "cell_type": "code",
   "execution_count": 0,
   "metadata": {
    "colab": {},
    "colab_type": "code",
    "id": "NzKNzDHa7WqL"
   },
   "outputs": [],
   "source": [
    "learn.freeze()"
   ]
  },
  {
   "cell_type": "code",
   "execution_count": 0,
   "metadata": {
    "colab": {
     "base_uri": "https://localhost:8080/",
     "height": 300
    },
    "colab_type": "code",
    "id": "a5-Xap-k7WqT",
    "outputId": "c7039eff-2071-4cba-90c9-2c2f88051abe"
   },
   "outputs": [
    {
     "data": {
      "text/html": [],
      "text/plain": [
       "<IPython.core.display.HTML object>"
      ]
     },
     "metadata": {
      "tags": []
     },
     "output_type": "display_data"
    },
    {
     "name": "stdout",
     "output_type": "stream",
     "text": [
      "LR Finder is complete, type {learner_name}.recorder.plot() to see the graph.\n"
     ]
    },
    {
     "data": {
      "image/png": "[encoded data removed]",
      "text/plain": [
       "<Figure size 432x288 with 1 Axes>"
      ]
     },
     "metadata": {
      "tags": []
     },
     "output_type": "display_data"
    }
   ],
   "source": [
    "learn.lr_find()\n",
    "learn.recorder.plot()"
   ]
  },
  {
   "cell_type": "code",
   "execution_count": 0,
   "metadata": {
    "colab": {
     "base_uri": "https://localhost:8080/",
     "height": 283
    },
    "colab_type": "code",
    "id": "8hxQVPuA7Wqb",
    "outputId": "c5b30850-9e75-4587-b70f-7603da8f5c76"
   },
   "outputs": [
    {
     "data": {
      "image/png": "[encoded data removed]",
      "text/plain": [
       "<Figure size 432x288 with 1 Axes>"
      ]
     },
     "metadata": {
      "tags": []
     },
     "output_type": "display_data"
    }
   ],
   "source": [
    "learn.recorder.plot(skip_end=15)"
   ]
  },
  {
   "cell_type": "code",
   "execution_count": 0,
   "metadata": {
    "colab": {
     "base_uri": "https://localhost:8080/",
     "height": 455
    },
    "colab_type": "code",
    "id": "_qqxNK1N7Wqh",
    "outputId": "54b381d4-1bb4-4de3-b4a6-ac769edfccfb"
   },
   "outputs": [
    {
     "data": {
      "text/html": [
       "<table border=\"1\" class=\"dataframe\">\n",
       "  <thead>\n",
       "    <tr style=\"text-align: left;\">\n",
       "      <th>epoch</th>\n",
       "      <th>train_loss</th>\n",
       "      <th>valid_loss</th>\n",
       "      <th>accuracy</th>\n",
       "      <th>time</th>\n",
       "    </tr>\n",
       "  </thead>\n",
       "  <tbody>\n",
       "    <tr>\n",
       "      <td>0</td>\n",
       "      <td>5.037817</td>\n",
       "      <td>4.910308</td>\n",
       "      <td>0.243274</td>\n",
       "      <td>10:19</td>\n",
       "    </tr>\n",
       "    <tr>\n",
       "      <td>1</td>\n",
       "      <td>4.827927</td>\n",
       "      <td>4.766128</td>\n",
       "      <td>0.253291</td>\n",
       "      <td>10:21</td>\n",
       "    </tr>\n",
       "  </tbody>\n",
       "</table>"
      ],
      "text/plain": [
       "<IPython.core.display.HTML object>"
      ]
     },
     "metadata": {
      "tags": []
     },
     "output_type": "display_data"
    },
    {
     "data": {
      "text/html": [
       "<table border=\"1\" class=\"dataframe\">\n",
       "  <thead>\n",
       "    <tr style=\"text-align: left;\">\n",
       "      <th>epoch</th>\n",
       "      <th>train_loss</th>\n",
       "      <th>valid_loss</th>\n",
       "      <th>accuracy</th>\n",
       "      <th>time</th>\n",
       "    </tr>\n",
       "  </thead>\n",
       "  <tbody>\n",
       "    <tr>\n",
       "      <td>0</td>\n",
       "      <td>4.911331</td>\n",
       "      <td>4.832219</td>\n",
       "      <td>0.253689</td>\n",
       "      <td>10:31</td>\n",
       "    </tr>\n",
       "    <tr>\n",
       "      <td>1</td>\n",
       "      <td>4.635109</td>\n",
       "      <td>4.654671</td>\n",
       "      <td>0.266452</td>\n",
       "      <td>10:31</td>\n",
       "    </tr>\n",
       "  </tbody>\n",
       "</table>"
      ],
      "text/plain": [
       "<IPython.core.display.HTML object>"
      ]
     },
     "metadata": {
      "tags": []
     },
     "output_type": "display_data"
    },
    {
     "data": {
      "text/html": [
       "<table border=\"1\" class=\"dataframe\">\n",
       "  <thead>\n",
       "    <tr style=\"text-align: left;\">\n",
       "      <th>epoch</th>\n",
       "      <th>train_loss</th>\n",
       "      <th>valid_loss</th>\n",
       "      <th>accuracy</th>\n",
       "      <th>time</th>\n",
       "    </tr>\n",
       "  </thead>\n",
       "  <tbody>\n",
       "    <tr>\n",
       "      <td>0</td>\n",
       "      <td>4.891569</td>\n",
       "      <td>4.810841</td>\n",
       "      <td>0.256701</td>\n",
       "      <td>11:04</td>\n",
       "    </tr>\n",
       "    <tr>\n",
       "      <td>1</td>\n",
       "      <td>4.616623</td>\n",
       "      <td>4.595618</td>\n",
       "      <td>0.273156</td>\n",
       "      <td>11:03</td>\n",
       "    </tr>\n",
       "  </tbody>\n",
       "</table>"
      ],
      "text/plain": [
       "<IPython.core.display.HTML object>"
      ]
     },
     "metadata": {
      "tags": []
     },
     "output_type": "display_data"
    },
    {
     "data": {
      "text/html": [
       "<table border=\"1\" class=\"dataframe\">\n",
       "  <thead>\n",
       "    <tr style=\"text-align: left;\">\n",
       "      <th>epoch</th>\n",
       "      <th>train_loss</th>\n",
       "      <th>valid_loss</th>\n",
       "      <th>accuracy</th>\n",
       "      <th>time</th>\n",
       "    </tr>\n",
       "  </thead>\n",
       "  <tbody>\n",
       "    <tr>\n",
       "      <td>0</td>\n",
       "      <td>4.468725</td>\n",
       "      <td>4.576111</td>\n",
       "      <td>0.274099</td>\n",
       "      <td>11:32</td>\n",
       "    </tr>\n",
       "    <tr>\n",
       "      <td>1</td>\n",
       "      <td>4.380704</td>\n",
       "      <td>4.538946</td>\n",
       "      <td>0.277153</td>\n",
       "      <td>11:32</td>\n",
       "    </tr>\n",
       "    <tr>\n",
       "      <td>2</td>\n",
       "      <td>4.245788</td>\n",
       "      <td>4.517110</td>\n",
       "      <td>0.278982</td>\n",
       "      <td>11:32</td>\n",
       "    </tr>\n",
       "    <tr>\n",
       "      <td>3</td>\n",
       "      <td>4.200659</td>\n",
       "      <td>4.518384</td>\n",
       "      <td>0.278887</td>\n",
       "      <td>11:32</td>\n",
       "    </tr>\n",
       "  </tbody>\n",
       "</table>"
      ],
      "text/plain": [
       "<IPython.core.display.HTML object>"
      ]
     },
     "metadata": {
      "tags": []
     },
     "output_type": "display_data"
    }
   ],
   "source": [
    "learn.freeze()\n",
    "learn.fit_one_cycle(2, 1e-2)\n",
    "learn.save('10train_lm_head');\n",
    "learn.freeze_to(-2)\n",
    "learn.fit_one_cycle(2, 1e-2)\n",
    "learn.save('10train_lm_body_1');\n",
    "learn.freeze_to(-3)\n",
    "learn.fit_one_cycle(2, 1e-2)\n",
    "learn.save('10train_lm_body_2');\n",
    "learn.unfreeze()\n",
    "learn.fit_one_cycle(4, 1e-3)\n",
    "learn.save('10train_lm_body_3');"
   ]
  },
  {
   "cell_type": "code",
   "execution_count": 0,
   "metadata": {
    "colab": {
     "base_uri": "https://localhost:8080/",
     "height": 173
    },
    "colab_type": "code",
    "id": "7pDECrFv7Wqp",
    "outputId": "af7ad2aa-d587-4e1a-e242-350a2dd7a7ec"
   },
   "outputs": [
    {
     "data": {
      "text/html": [
       "<table border=\"1\" class=\"dataframe\">\n",
       "  <thead>\n",
       "    <tr style=\"text-align: left;\">\n",
       "      <th>epoch</th>\n",
       "      <th>train_loss</th>\n",
       "      <th>valid_loss</th>\n",
       "      <th>accuracy</th>\n",
       "      <th>time</th>\n",
       "    </tr>\n",
       "  </thead>\n",
       "  <tbody>\n",
       "    <tr>\n",
       "      <td>0</td>\n",
       "      <td>4.268596</td>\n",
       "      <td>4.524675</td>\n",
       "      <td>0.278289</td>\n",
       "      <td>11:31</td>\n",
       "    </tr>\n",
       "    <tr>\n",
       "      <td>1</td>\n",
       "      <td>4.245841</td>\n",
       "      <td>4.507379</td>\n",
       "      <td>0.279961</td>\n",
       "      <td>11:32</td>\n",
       "    </tr>\n",
       "    <tr>\n",
       "      <td>2</td>\n",
       "      <td>4.126464</td>\n",
       "      <td>4.496939</td>\n",
       "      <td>0.281044</td>\n",
       "      <td>11:32</td>\n",
       "    </tr>\n",
       "    <tr>\n",
       "      <td>3</td>\n",
       "      <td>4.092718</td>\n",
       "      <td>4.501268</td>\n",
       "      <td>0.280828</td>\n",
       "      <td>11:31</td>\n",
       "    </tr>\n",
       "  </tbody>\n",
       "</table>"
      ],
      "text/plain": [
       "<IPython.core.display.HTML object>"
      ]
     },
     "metadata": {
      "tags": []
     },
     "output_type": "display_data"
    }
   ],
   "source": [
    "learn.load('10train_lm_body_3');\n",
    "learn.unfreeze()\n",
    "learn.fit_one_cycle(4, 1e-3)\n",
    "learn.save('10train_lm_body_4');"
   ]
  },
  {
   "cell_type": "code",
   "execution_count": 0,
   "metadata": {
    "colab": {},
    "colab_type": "code",
    "id": "GZM6RSlb7Wqx"
   },
   "outputs": [],
   "source": [
    "learn.save_encoder('10train_lm_enc')"
   ]
  },
  {
   "cell_type": "markdown",
   "metadata": {
    "colab_type": "text",
    "id": "CnkPd45s7Wq2"
   },
   "source": [
    "### Classifier"
   ]
  },
  {
   "cell_type": "code",
   "execution_count": 0,
   "metadata": {
    "colab": {},
    "colab_type": "code",
    "id": "FDzbOw7Y7Wq3"
   },
   "outputs": [],
   "source": [
    "data_clas = TextClasDataBunch.from_csv(subsets , '10train.csv', vocab=data_lm.train_ds.vocab, bs=bs)\n",
    "data_clas.save('10train_word_clas.pkl')"
   ]
  },
  {
   "cell_type": "code",
   "execution_count": 0,
   "metadata": {
    "colab": {
     "base_uri": "https://localhost:8080/",
     "height": 289
    },
    "colab_type": "code",
    "id": "BB8swSNq7Wq8",
    "outputId": "326b6d90-82a9-4b34-8133-9e6d16630ea8"
   },
   "outputs": [
    {
     "data": {
      "text/html": [
       "<table border=\"1\" class=\"dataframe\">\n",
       "  <thead>\n",
       "    <tr style=\"text-align: right;\">\n",
       "      <th>text</th>\n",
       "      <th>target</th>\n",
       "    </tr>\n",
       "  </thead>\n",
       "  <tbody>\n",
       "    <tr>\n",
       "      <td>xxbos সিক্রেট রাখব , তাহলেই তো হলো । ’ ‘ না xxunk , আমি চিঠি পড়ব না । ’ ‘ পড়ব না বললে হবে না । পড়তেই হবে । দাঁড়াও আমি নিয়ে আসছি । যে আলো আছে তাতে দিব্যি পড়তে পারবে । ’ xxunk ঘর থেকে চিঠি নিয়ে এল । রানু চিঠিটি হাতে নিয়ে স্তম্ভিত হয়ে দাঁড়িয়ে রইল । xxunk অবাক হয়ে বলল , ‘ কী হয়েছে ? ’ ‘</td>\n",
       "      <td>humayun_ahmed</td>\n",
       "    </tr>\n",
       "    <tr>\n",
       "      <td>xxbos ব্যোমকেশ বিরক্ত হইয়া xxunk , ‘ তুমি যেতে xxunk । xxunk , এবার আপনার xxunk ডেকে পাঠান । ’ xxunk xxunk xxunk , ‘ xxunk ডেকে দে । ’ xxunk xxunk গেল । কিছুক্ষণ পরে চুমকি প্রবেশ xxunk , xxunk দৃঢ়তার সহিত টেবিলের পাশে xxunk xxunk । xxunk তাহার মুখে আশঙ্কার ছায়া আরও গাঢ় xxunk , আমাদের দিকে চোখ xxunk আবার নত xxunk । ব্যোমকেশ সহজ সুরে xxunk ,</td>\n",
       "      <td>shordindu</td>\n",
       "    </tr>\n",
       "    <tr>\n",
       "      <td>xxbos স্যালুট করল । xxunk xxunk , জাঁদরেল xxunk , ইয়া xxunk । xxunk তার আপাদমস্তক নিরীক্ষণ করে xxunk , ‘ হ্যাঁ , জেনারেল বটে । তুমি হোটেলের সদরে পাহারা দাও ? ’ xxunk xxunk , ‘ জি । সকালে xxunk থেকে xxunk , বিকেলে পাঁচটা থেকে দশটা আমার ডিউটি । ‘ ‘ হোটেলে যারা অতিথিদের সঙ্গে দেখা করতে আসে তাদের নাম - ধাম তুমি লিখে রাখ ? ’ ‘</td>\n",
       "      <td>shordindu</td>\n",
       "    </tr>\n",
       "    <tr>\n",
       "      <td>xxbos ‘ কি হল এতক্ষণ ধরে ? ’ ব্যোমকেশ স্বর্গীয় xxunk করিয়া xxunk , ‘ xxunk , xxunk যা xxunk ? ’ ধমক দিয়া xxunk , ‘ কথা চাপা দিও না । পাঁচ ঘণ্টা ধরে কি কথা হল ? ’ ব্যোমকেশ xxunk xxunk , ‘ xxunk xxunk কি বলতে আছে ? তবে এমন কোনও কথা হয়নি যা তুমি জান না । ’ ‘ হত্যাকারী কে ? ’ ‘ xxunk দে</td>\n",
       "      <td>shordindu</td>\n",
       "    </tr>\n",
       "    <tr>\n",
       "      <td>xxbos ওঁর দেখাশোনার ত্রুটি হয় না । ’ xxunk ঘরে দেখলাম প্রকাণ্ড উঁচু খাট , আর তার মাথার দিকে ঘরের কোনায় আলমারি । সেটা খুলে তার xxunk থেকে একটা নীল xxunk বাক্স বার করে বললেন , ‘ xxunk দোকান থেকে এই xxunk দিনে xxunk এই xxunk রাখার জন্য । ’ xxunk খুলে নীল আর সবুজ রং মেশানো লিচুর সাইজের একটা ঝলমলে পাথর বার করে xxunk ফেলুদার হাতে দিয়ে বললেন —</td>\n",
       "      <td>shottojit_roy</td>\n",
       "    </tr>\n",
       "  </tbody>\n",
       "</table>"
      ],
      "text/plain": [
       "<IPython.core.display.HTML object>"
      ]
     },
     "metadata": {
      "tags": []
     },
     "output_type": "display_data"
    }
   ],
   "source": [
    "data_clas.show_batch()"
   ]
  },
  {
   "cell_type": "code",
   "execution_count": 0,
   "metadata": {
    "colab": {},
    "colab_type": "code",
    "id": "s1K1v9Xp7WrF"
   },
   "outputs": [],
   "source": [
    "learn_cls = text_classifier_learner(data_clas, AWD_LSTM, drop_mult=0.5, pretrained=False)"
   ]
  },
  {
   "cell_type": "code",
   "execution_count": 0,
   "metadata": {
    "colab": {},
    "colab_type": "code",
    "id": "xpT5O-O_7WrK"
   },
   "outputs": [],
   "source": [
    "learn_cls.load_encoder('10train_lm_enc')"
   ]
  },
  {
   "cell_type": "code",
   "execution_count": 0,
   "metadata": {
    "colab": {},
    "colab_type": "code",
    "id": "vZqYUghw7WrN"
   },
   "outputs": [],
   "source": [
    "learn_cls.freeze()"
   ]
  },
  {
   "cell_type": "code",
   "execution_count": 0,
   "metadata": {
    "colab": {
     "base_uri": "https://localhost:8080/",
     "height": 300
    },
    "colab_type": "code",
    "id": "Ozd8wScG7WrQ",
    "outputId": "0d641328-6b45-4950-d732-30a03ae41c60"
   },
   "outputs": [
    {
     "data": {
      "text/html": [],
      "text/plain": [
       "<IPython.core.display.HTML object>"
      ]
     },
     "metadata": {
      "tags": []
     },
     "output_type": "display_data"
    },
    {
     "name": "stdout",
     "output_type": "stream",
     "text": [
      "LR Finder is complete, type {learner_name}.recorder.plot() to see the graph.\n"
     ]
    },
    {
     "data": {
      "image/png": "[encoded data removed]",
      "text/plain": [
       "<Figure size 432x288 with 1 Axes>"
      ]
     },
     "metadata": {
      "tags": []
     },
     "output_type": "display_data"
    }
   ],
   "source": [
    "learn_cls.lr_find()\n",
    "learn_cls.recorder.plot()"
   ]
  },
  {
   "cell_type": "code",
   "execution_count": 0,
   "metadata": {
    "colab": {
     "base_uri": "https://localhost:8080/",
     "height": 283
    },
    "colab_type": "code",
    "id": "g65cAo7m7WrX",
    "outputId": "1a84cc33-8eb4-4632-ed5b-a7aa5a2d7ea6"
   },
   "outputs": [
    {
     "data": {
      "image/png": "[encoded data removed]",
      "text/plain": [
       "<Figure size 432x288 with 1 Axes>"
      ]
     },
     "metadata": {
      "tags": []
     },
     "output_type": "display_data"
    }
   ],
   "source": [
    "learn_cls.recorder.plot(skip_end=7)"
   ]
  },
  {
   "cell_type": "code",
   "execution_count": 0,
   "metadata": {
    "colab": {
     "base_uri": "https://localhost:8080/",
     "height": 455
    },
    "colab_type": "code",
    "id": "PA9SBq2V7Wrg",
    "outputId": "52da4bd2-de2a-4a6f-97d9-c660f7e20ec5"
   },
   "outputs": [
    {
     "data": {
      "text/html": [
       "<table border=\"1\" class=\"dataframe\">\n",
       "  <thead>\n",
       "    <tr style=\"text-align: left;\">\n",
       "      <th>epoch</th>\n",
       "      <th>train_loss</th>\n",
       "      <th>valid_loss</th>\n",
       "      <th>accuracy</th>\n",
       "      <th>time</th>\n",
       "    </tr>\n",
       "  </thead>\n",
       "  <tbody>\n",
       "    <tr>\n",
       "      <td>0</td>\n",
       "      <td>0.159342</td>\n",
       "      <td>0.022469</td>\n",
       "      <td>0.991170</td>\n",
       "      <td>02:50</td>\n",
       "    </tr>\n",
       "    <tr>\n",
       "      <td>1</td>\n",
       "      <td>0.046522</td>\n",
       "      <td>0.016529</td>\n",
       "      <td>0.994113</td>\n",
       "      <td>02:53</td>\n",
       "    </tr>\n",
       "  </tbody>\n",
       "</table>"
      ],
      "text/plain": [
       "<IPython.core.display.HTML object>"
      ]
     },
     "metadata": {
      "tags": []
     },
     "output_type": "display_data"
    },
    {
     "data": {
      "text/html": [
       "<table border=\"1\" class=\"dataframe\">\n",
       "  <thead>\n",
       "    <tr style=\"text-align: left;\">\n",
       "      <th>epoch</th>\n",
       "      <th>train_loss</th>\n",
       "      <th>valid_loss</th>\n",
       "      <th>accuracy</th>\n",
       "      <th>time</th>\n",
       "    </tr>\n",
       "  </thead>\n",
       "  <tbody>\n",
       "    <tr>\n",
       "      <td>0</td>\n",
       "      <td>0.049133</td>\n",
       "      <td>0.024208</td>\n",
       "      <td>0.993378</td>\n",
       "      <td>03:15</td>\n",
       "    </tr>\n",
       "    <tr>\n",
       "      <td>1</td>\n",
       "      <td>0.017619</td>\n",
       "      <td>0.014105</td>\n",
       "      <td>0.994849</td>\n",
       "      <td>03:15</td>\n",
       "    </tr>\n",
       "  </tbody>\n",
       "</table>"
      ],
      "text/plain": [
       "<IPython.core.display.HTML object>"
      ]
     },
     "metadata": {
      "tags": []
     },
     "output_type": "display_data"
    },
    {
     "data": {
      "text/html": [
       "<table border=\"1\" class=\"dataframe\">\n",
       "  <thead>\n",
       "    <tr style=\"text-align: left;\">\n",
       "      <th>epoch</th>\n",
       "      <th>train_loss</th>\n",
       "      <th>valid_loss</th>\n",
       "      <th>accuracy</th>\n",
       "      <th>time</th>\n",
       "    </tr>\n",
       "  </thead>\n",
       "  <tbody>\n",
       "    <tr>\n",
       "      <td>0</td>\n",
       "      <td>0.018496</td>\n",
       "      <td>0.021498</td>\n",
       "      <td>0.993378</td>\n",
       "      <td>04:39</td>\n",
       "    </tr>\n",
       "    <tr>\n",
       "      <td>1</td>\n",
       "      <td>0.020109</td>\n",
       "      <td>0.016500</td>\n",
       "      <td>0.994113</td>\n",
       "      <td>04:37</td>\n",
       "    </tr>\n",
       "  </tbody>\n",
       "</table>"
      ],
      "text/plain": [
       "<IPython.core.display.HTML object>"
      ]
     },
     "metadata": {
      "tags": []
     },
     "output_type": "display_data"
    },
    {
     "data": {
      "text/html": [
       "<table border=\"1\" class=\"dataframe\">\n",
       "  <thead>\n",
       "    <tr style=\"text-align: left;\">\n",
       "      <th>epoch</th>\n",
       "      <th>train_loss</th>\n",
       "      <th>valid_loss</th>\n",
       "      <th>accuracy</th>\n",
       "      <th>time</th>\n",
       "    </tr>\n",
       "  </thead>\n",
       "  <tbody>\n",
       "    <tr>\n",
       "      <td>0</td>\n",
       "      <td>0.008979</td>\n",
       "      <td>0.011518</td>\n",
       "      <td>0.995585</td>\n",
       "      <td>05:51</td>\n",
       "    </tr>\n",
       "    <tr>\n",
       "      <td>1</td>\n",
       "      <td>0.008221</td>\n",
       "      <td>0.008662</td>\n",
       "      <td>0.997057</td>\n",
       "      <td>05:49</td>\n",
       "    </tr>\n",
       "    <tr>\n",
       "      <td>2</td>\n",
       "      <td>0.007031</td>\n",
       "      <td>0.009576</td>\n",
       "      <td>0.995585</td>\n",
       "      <td>05:45</td>\n",
       "    </tr>\n",
       "    <tr>\n",
       "      <td>3</td>\n",
       "      <td>0.004354</td>\n",
       "      <td>0.010877</td>\n",
       "      <td>0.995585</td>\n",
       "      <td>05:45</td>\n",
       "    </tr>\n",
       "  </tbody>\n",
       "</table>"
      ],
      "text/plain": [
       "<IPython.core.display.HTML object>"
      ]
     },
     "metadata": {
      "tags": []
     },
     "output_type": "display_data"
    }
   ],
   "source": [
    "learn_cls.fit_one_cycle(2, 1e-2, moms=(0.8,0.7))\n",
    "learn_cls.save('10train_word_cls_1')\n",
    "learn_cls.freeze_to(-2)\n",
    "learn_cls.fit_one_cycle(2 , slice(1e-2/(2.8**4),1e-2), moms=(0.8,0.7))\n",
    "learn_cls.save('10train_word_cls_2')\n",
    "learn_cls.freeze_to(-3)\n",
    "learn_cls.fit_one_cycle(2, slice(5e-3/(2.8**4),5e-3), moms=(0.8,0.7))\n",
    "learn_cls.save('10train_word_cls_3')\n",
    "learn_cls.unfreeze()\n",
    "learn_cls.fit_one_cycle(4, slice(1e-3/(2.8**4),1e-3), moms=(0.8,0.7))\n",
    "learn_cls.save('10train_word_cls_4')"
   ]
  },
  {
   "cell_type": "markdown",
   "metadata": {
    "colab_type": "text",
    "id": "qVNgOFuc7Wrq"
   },
   "source": [
    "### Test"
   ]
  },
  {
   "cell_type": "code",
   "execution_count": 0,
   "metadata": {
    "colab": {
     "base_uri": "https://localhost:8080/",
     "height": 105
    },
    "colab_type": "code",
    "id": "RVEIzOIh7Wrt",
    "outputId": "a4dc2b9c-68db-4b66-acae-5ebaab827aa3"
   },
   "outputs": [
    {
     "name": "stdout",
     "output_type": "stream",
     "text": [
      "1700\n",
      "Accuracy: \n",
      "0.9958823529411764\n",
      "[('shordindu', 'robindronath'), ('shordindu', 'robindronath'), ('shottojit_roy', 'MZI'), ('MZI', 'humayun_ahmed'), ('robindronath', 'shorotchandra'), ('humayun_ahmed', 'shordindu'), ('shunil_gongopaddhay', 'shordindu')]\n"
     ]
    }
   ],
   "source": [
    "pred,targ = testing(subsets/'10test.csv')"
   ]
  },
  {
   "cell_type": "code",
   "execution_count": 0,
   "metadata": {
    "colab": {
     "base_uri": "https://localhost:8080/",
     "height": 51
    },
    "colab_type": "code",
    "id": "hGV6Dq4j7Wr0",
    "outputId": "dcad3e7e-6345-4b32-bace-73d572712894"
   },
   "outputs": [
    {
     "data": {
      "text/plain": [
       "(array([0.994118, 0.994118, 0.991202, 1.      , 1.      , 0.988235, 0.997067, 0.99705 , 0.99705 , 1.      ]),\n",
       " 0.9958840677941954)"
      ]
     },
     "execution_count": 22,
     "metadata": {
      "tags": []
     },
     "output_type": "execute_result"
    }
   ],
   "source": [
    "from sklearn.metrics import f1_score\n",
    "out  = f1_score(targ, pred, average=None) #'macro' , also == weighted cuz dataset is balanced\n",
    "out , out.mean()"
   ]
  },
  {
   "cell_type": "code",
   "execution_count": 0,
   "metadata": {
    "colab": {},
    "colab_type": "code",
    "id": "eaOSWiTI7Wr5"
   },
   "outputs": [],
   "source": []
  },
  {
   "cell_type": "markdown",
   "metadata": {
    "colab_type": "text",
    "id": "ZCqTxXfEGbZd"
   },
   "source": [
    "##  12 Authors"
   ]
  },
  {
   "cell_type": "markdown",
   "metadata": {
    "colab_type": "text",
    "id": "nTZV2ObuGbZi"
   },
   "source": [
    "### LM"
   ]
  },
  {
   "cell_type": "code",
   "execution_count": 0,
   "metadata": {
    "colab": {},
    "colab_type": "code",
    "id": "QxU23ROHGbZk"
   },
   "outputs": [],
   "source": [
    "# Language model data AA\n",
    "data_lm_AA = TextLMDataBunch.from_csv(subsets, '12train.csv', vocab=data_lm.train_ds.vocab, bs=bs)\n",
    "data_lm_AA.save('12train_word_lm.pkl')"
   ]
  },
  {
   "cell_type": "code",
   "execution_count": 0,
   "metadata": {
    "colab": {},
    "colab_type": "code",
    "id": "IHEUgTs6GbZr"
   },
   "outputs": [],
   "source": [
    "data_lm_AA = load_data(subsets, '12train_word_lm.pkl',bs=bs)\n",
    "learn = language_model_learner(data_lm_AA, AWD_LSTM, pretrained=False, drop_mult=0.5)"
   ]
  },
  {
   "cell_type": "code",
   "execution_count": 0,
   "metadata": {
    "colab": {},
    "colab_type": "code",
    "id": "m3ZQCVa9GbZu"
   },
   "outputs": [],
   "source": [
    "learn.load(pt/'models'/'word_news_lm_30');"
   ]
  },
  {
   "cell_type": "code",
   "execution_count": 0,
   "metadata": {
    "colab": {},
    "colab_type": "code",
    "id": "E-sy3Y5GGbZx"
   },
   "outputs": [],
   "source": [
    "learn.freeze()"
   ]
  },
  {
   "cell_type": "code",
   "execution_count": 0,
   "metadata": {
    "colab": {
     "base_uri": "https://localhost:8080/",
     "height": 300
    },
    "colab_type": "code",
    "id": "GouUc9zTGbZz",
    "outputId": "bc08c552-e456-4fab-cffb-812c8733dab9"
   },
   "outputs": [
    {
     "data": {
      "text/html": [],
      "text/plain": [
       "<IPython.core.display.HTML object>"
      ]
     },
     "metadata": {
      "tags": []
     },
     "output_type": "display_data"
    },
    {
     "name": "stdout",
     "output_type": "stream",
     "text": [
      "LR Finder is complete, type {learner_name}.recorder.plot() to see the graph.\n"
     ]
    },
    {
     "data": {
      "image/png": "[encoded data removed]",
      "text/plain": [
       "<Figure size 432x288 with 1 Axes>"
      ]
     },
     "metadata": {
      "tags": []
     },
     "output_type": "display_data"
    }
   ],
   "source": [
    "learn.lr_find()\n",
    "learn.recorder.plot()"
   ]
  },
  {
   "cell_type": "code",
   "execution_count": 0,
   "metadata": {
    "colab": {
     "base_uri": "https://localhost:8080/",
     "height": 283
    },
    "colab_type": "code",
    "id": "inczJNVpGbZ9",
    "outputId": "985b49c2-f91d-4941-93a7-d921dfdbf44c"
   },
   "outputs": [
    {
     "data": {
      "image/png": "[encoded data removed]",
      "text/plain": [
       "<Figure size 432x288 with 1 Axes>"
      ]
     },
     "metadata": {
      "tags": []
     },
     "output_type": "display_data"
    }
   ],
   "source": [
    "learn.recorder.plot(skip_end=15)"
   ]
  },
  {
   "cell_type": "code",
   "execution_count": 0,
   "metadata": {
    "colab": {
     "base_uri": "https://localhost:8080/",
     "height": 455
    },
    "colab_type": "code",
    "id": "-O_5ohyvGbaC",
    "outputId": "ab8cbe73-a2d6-428b-cd0b-b9ae7d6f7da8"
   },
   "outputs": [
    {
     "data": {
      "text/html": [
       "<table border=\"1\" class=\"dataframe\">\n",
       "  <thead>\n",
       "    <tr style=\"text-align: left;\">\n",
       "      <th>epoch</th>\n",
       "      <th>train_loss</th>\n",
       "      <th>valid_loss</th>\n",
       "      <th>accuracy</th>\n",
       "      <th>time</th>\n",
       "    </tr>\n",
       "  </thead>\n",
       "  <tbody>\n",
       "    <tr>\n",
       "      <td>0</td>\n",
       "      <td>5.046302</td>\n",
       "      <td>4.914785</td>\n",
       "      <td>0.249430</td>\n",
       "      <td>08:06</td>\n",
       "    </tr>\n",
       "    <tr>\n",
       "      <td>1</td>\n",
       "      <td>4.798127</td>\n",
       "      <td>4.774272</td>\n",
       "      <td>0.258745</td>\n",
       "      <td>08:18</td>\n",
       "    </tr>\n",
       "  </tbody>\n",
       "</table>"
      ],
      "text/plain": [
       "<IPython.core.display.HTML object>"
      ]
     },
     "metadata": {
      "tags": []
     },
     "output_type": "display_data"
    },
    {
     "data": {
      "text/html": [
       "<table border=\"1\" class=\"dataframe\">\n",
       "  <thead>\n",
       "    <tr style=\"text-align: left;\">\n",
       "      <th>epoch</th>\n",
       "      <th>train_loss</th>\n",
       "      <th>valid_loss</th>\n",
       "      <th>accuracy</th>\n",
       "      <th>time</th>\n",
       "    </tr>\n",
       "  </thead>\n",
       "  <tbody>\n",
       "    <tr>\n",
       "      <td>0</td>\n",
       "      <td>4.898663</td>\n",
       "      <td>4.841301</td>\n",
       "      <td>0.257930</td>\n",
       "      <td>08:26</td>\n",
       "    </tr>\n",
       "    <tr>\n",
       "      <td>1</td>\n",
       "      <td>4.608178</td>\n",
       "      <td>4.672647</td>\n",
       "      <td>0.269854</td>\n",
       "      <td>08:26</td>\n",
       "    </tr>\n",
       "  </tbody>\n",
       "</table>"
      ],
      "text/plain": [
       "<IPython.core.display.HTML object>"
      ]
     },
     "metadata": {
      "tags": []
     },
     "output_type": "display_data"
    },
    {
     "data": {
      "text/html": [
       "<table border=\"1\" class=\"dataframe\">\n",
       "  <thead>\n",
       "    <tr style=\"text-align: left;\">\n",
       "      <th>epoch</th>\n",
       "      <th>train_loss</th>\n",
       "      <th>valid_loss</th>\n",
       "      <th>accuracy</th>\n",
       "      <th>time</th>\n",
       "    </tr>\n",
       "  </thead>\n",
       "  <tbody>\n",
       "    <tr>\n",
       "      <td>0</td>\n",
       "      <td>4.863044</td>\n",
       "      <td>4.817828</td>\n",
       "      <td>0.261942</td>\n",
       "      <td>08:51</td>\n",
       "    </tr>\n",
       "    <tr>\n",
       "      <td>1</td>\n",
       "      <td>4.566602</td>\n",
       "      <td>4.622063</td>\n",
       "      <td>0.275560</td>\n",
       "      <td>08:52</td>\n",
       "    </tr>\n",
       "  </tbody>\n",
       "</table>"
      ],
      "text/plain": [
       "<IPython.core.display.HTML object>"
      ]
     },
     "metadata": {
      "tags": []
     },
     "output_type": "display_data"
    },
    {
     "data": {
      "text/html": [
       "<table border=\"1\" class=\"dataframe\">\n",
       "  <thead>\n",
       "    <tr style=\"text-align: left;\">\n",
       "      <th>epoch</th>\n",
       "      <th>train_loss</th>\n",
       "      <th>valid_loss</th>\n",
       "      <th>accuracy</th>\n",
       "      <th>time</th>\n",
       "    </tr>\n",
       "  </thead>\n",
       "  <tbody>\n",
       "    <tr>\n",
       "      <td>0</td>\n",
       "      <td>4.340620</td>\n",
       "      <td>4.607429</td>\n",
       "      <td>0.276299</td>\n",
       "      <td>09:14</td>\n",
       "    </tr>\n",
       "    <tr>\n",
       "      <td>1</td>\n",
       "      <td>4.293019</td>\n",
       "      <td>4.573222</td>\n",
       "      <td>0.278768</td>\n",
       "      <td>09:14</td>\n",
       "    </tr>\n",
       "    <tr>\n",
       "      <td>2</td>\n",
       "      <td>4.222854</td>\n",
       "      <td>4.557788</td>\n",
       "      <td>0.280324</td>\n",
       "      <td>09:14</td>\n",
       "    </tr>\n",
       "    <tr>\n",
       "      <td>3</td>\n",
       "      <td>4.152556</td>\n",
       "      <td>4.561572</td>\n",
       "      <td>0.280100</td>\n",
       "      <td>09:14</td>\n",
       "    </tr>\n",
       "  </tbody>\n",
       "</table>"
      ],
      "text/plain": [
       "<IPython.core.display.HTML object>"
      ]
     },
     "metadata": {
      "tags": []
     },
     "output_type": "display_data"
    }
   ],
   "source": [
    "learn.freeze()\n",
    "learn.fit_one_cycle(2, 1e-2)\n",
    "learn.save('12train_lm_head');\n",
    "learn.freeze_to(-2)\n",
    "learn.fit_one_cycle(2, 1e-2)\n",
    "learn.save('12train_lm_body_1');\n",
    "learn.freeze_to(-3)\n",
    "learn.fit_one_cycle(2, 1e-2)\n",
    "learn.save('12train_lm_body_2');\n",
    "learn.unfreeze()\n",
    "learn.fit_one_cycle(4, 1e-3)\n",
    "learn.save('12train_lm_body_3');"
   ]
  },
  {
   "cell_type": "code",
   "execution_count": 0,
   "metadata": {
    "colab": {
     "base_uri": "https://localhost:8080/",
     "height": 173
    },
    "colab_type": "code",
    "id": "CsoEGO1MGbaH",
    "outputId": "79de2fab-5080-48e2-ceec-1d262fe1e664"
   },
   "outputs": [
    {
     "data": {
      "text/html": [
       "<table border=\"1\" class=\"dataframe\">\n",
       "  <thead>\n",
       "    <tr style=\"text-align: left;\">\n",
       "      <th>epoch</th>\n",
       "      <th>train_loss</th>\n",
       "      <th>valid_loss</th>\n",
       "      <th>accuracy</th>\n",
       "      <th>time</th>\n",
       "    </tr>\n",
       "  </thead>\n",
       "  <tbody>\n",
       "    <tr>\n",
       "      <td>0</td>\n",
       "      <td>4.176403</td>\n",
       "      <td>4.565760</td>\n",
       "      <td>0.279674</td>\n",
       "      <td>09:13</td>\n",
       "    </tr>\n",
       "    <tr>\n",
       "      <td>1</td>\n",
       "      <td>4.215693</td>\n",
       "      <td>4.552057</td>\n",
       "      <td>0.280762</td>\n",
       "      <td>09:13</td>\n",
       "    </tr>\n",
       "    <tr>\n",
       "      <td>2</td>\n",
       "      <td>4.142425</td>\n",
       "      <td>4.549404</td>\n",
       "      <td>0.281117</td>\n",
       "      <td>09:14</td>\n",
       "    </tr>\n",
       "    <tr>\n",
       "      <td>3</td>\n",
       "      <td>4.019224</td>\n",
       "      <td>4.556902</td>\n",
       "      <td>0.280796</td>\n",
       "      <td>09:14</td>\n",
       "    </tr>\n",
       "  </tbody>\n",
       "</table>"
      ],
      "text/plain": [
       "<IPython.core.display.HTML object>"
      ]
     },
     "metadata": {
      "tags": []
     },
     "output_type": "display_data"
    }
   ],
   "source": [
    "learn.load('12train_lm_body_3');\n",
    "learn.unfreeze()\n",
    "learn.fit_one_cycle(4, 1e-3)\n",
    "learn.save('12train_lm_body_4');"
   ]
  },
  {
   "cell_type": "code",
   "execution_count": 0,
   "metadata": {
    "colab": {},
    "colab_type": "code",
    "id": "E6m4I6hDGbaP"
   },
   "outputs": [],
   "source": [
    "learn.save_encoder('12train_lm_enc')"
   ]
  },
  {
   "cell_type": "markdown",
   "metadata": {
    "colab_type": "text",
    "id": "lu_ojzx5GbaT"
   },
   "source": [
    "### Classifier"
   ]
  },
  {
   "cell_type": "code",
   "execution_count": 0,
   "metadata": {
    "colab": {},
    "colab_type": "code",
    "id": "Vs4otMIZGbaU"
   },
   "outputs": [],
   "source": [
    "data_clas = TextClasDataBunch.from_csv(subsets , '12train.csv', vocab=data_lm.train_ds.vocab, bs=bs)\n",
    "data_clas.save('12train_word_clas.pkl')"
   ]
  },
  {
   "cell_type": "code",
   "execution_count": 0,
   "metadata": {
    "colab": {
     "base_uri": "https://localhost:8080/",
     "height": 289
    },
    "colab_type": "code",
    "id": "y1cthOTtGbaW",
    "outputId": "c1f348eb-e052-4411-edf5-51b3e4caa037"
   },
   "outputs": [
    {
     "data": {
      "text/html": [
       "<table border=\"1\" class=\"dataframe\">\n",
       "  <thead>\n",
       "    <tr style=\"text-align: right;\">\n",
       "      <th>text</th>\n",
       "      <th>target</th>\n",
       "    </tr>\n",
       "  </thead>\n",
       "  <tbody>\n",
       "    <tr>\n",
       "      <td>xxbos বুঝি কোনো xxunk নেই ? ’ ‘ xxunk আমি খুব সুখী । ’ রানু হাসতে লাগল । নীলু হঠাৎ গম্ভীর হয়ে বলল , ‘ তুমি xxunk , একটা খুব xxunk কথা আমাকে বলবে । ’ ‘ বলেছিলাম নাকি ? ’ ‘ হ্যাঁ । আজ সেটা বলতে হবে । তারপর আমি আমার একটা xxunk কথা বলব । ’ রানু হাসতে লাগল । ‘ xxunk কেন রানু ? ’ ‘ তোমার</td>\n",
       "      <td>humayun_ahmed</td>\n",
       "    </tr>\n",
       "    <tr>\n",
       "      <td>xxbos ছিল , দু’দিন পার হবার আগেই ওর xxunk হবে এবং সে বাড়িতে ফিরে আসবে । আমাকে জোর খাটিয়ে কিছু করতে হবে না । কিন্তু সে বাসায় ফিরছে না । আপনি এই চিঠি xxunk এমন ব্যবস্থা করবেন যেন সে বাড়িতে ফিরে আসে । আমি একটি ব্যাপার খুব পরিষ্কার করে আপনাকে জানাতে চাই , তা হল — ও বোকা হোক , যা হোক , ওকে আমি অসম্ভব ভালবাসি । ভালবাসা মাপার</td>\n",
       "      <td>humayun_ahmed</td>\n",
       "    </tr>\n",
       "    <tr>\n",
       "      <td>xxbos হাঁ হাঁ বিদ্যা কি একটা , – রসুন , xxunk xxunk কি বলে বলুন দেখি ? ” “ xxunk । ” “ আর ? ” “ xxunk , xxunk , বারণ , নাগ , গজ _ _ _ ” “ হাঁ হাঁ , স্মরণ হইয়াছে ; xxunk নাম ‘ xxunk xxunk ’ । ” “ xxunk ! চমৎকার উপাধি ! যেমন নাম , তেমনই উপাধি । xxunk সহিত আলাপ</td>\n",
       "      <td>bongkim</td>\n",
       "    </tr>\n",
       "    <tr>\n",
       "      <td>xxbos xxunk । xxunk , xxunk , পরস্পরকে অবিশ্বাস , xxunk চক্রান্ত , গুপ্তচরবৃত্তি একদিন তাদের টেনে নিয়ে যাবে xxunk তলায় । এ আমি স্পষ্ট দেখতে পাচ্ছি । এই xxunk xxunk xxunk xxunk মধ্যে দিনরাত xxunk বিষাক্ত হাওয়ায় কখনোই নিজের স্বভাবে সেই xxunk রক্ষা করতে পারব না যাতে পৃথিবীতে কোনো বড়ো কাজ করতে পারা যায় । ” “ আচ্ছা অন্তু , তুমি যাকে xxunk বল সে কি আমাদেরই দেশে ?</td>\n",
       "      <td>robindronath</td>\n",
       "    </tr>\n",
       "    <tr>\n",
       "      <td>xxbos পর্যন্ত কার কার সঙ্গে আলাপ হল ? ’ xxunk জন্য মোটেই তৈরি ছিলাম না , তাই xxunk কী রকম xxunk গেলাম । xxunk গিলে বললাম , ‘ একেবারে xxunk থেকে শুরু করতে হবে নাকি ? ’ ‘ দূর xxunk । এখন যারা xxunk রয়েছে , তার মধ্যে xxunk ’ ‘ এক — xxunk । ’ ‘ পদবি ? ’ ‘ দত্ত । ‘ ‘ তোর xxunk । ’ ‘</td>\n",
       "      <td>shottojit_roy</td>\n",
       "    </tr>\n",
       "  </tbody>\n",
       "</table>"
      ],
      "text/plain": [
       "<IPython.core.display.HTML object>"
      ]
     },
     "metadata": {
      "tags": []
     },
     "output_type": "display_data"
    }
   ],
   "source": [
    "data_clas.show_batch()"
   ]
  },
  {
   "cell_type": "code",
   "execution_count": 0,
   "metadata": {
    "colab": {},
    "colab_type": "code",
    "id": "ePAdSyA4Gbal"
   },
   "outputs": [],
   "source": [
    "learn_cls = text_classifier_learner(data_clas, AWD_LSTM, drop_mult=0.5, pretrained=False)"
   ]
  },
  {
   "cell_type": "code",
   "execution_count": 0,
   "metadata": {
    "colab": {},
    "colab_type": "code",
    "id": "Ea7yb4lfGbar"
   },
   "outputs": [],
   "source": [
    "learn_cls.load_encoder('12train_lm_enc')"
   ]
  },
  {
   "cell_type": "code",
   "execution_count": 0,
   "metadata": {
    "colab": {},
    "colab_type": "code",
    "id": "MqflPIYZGbat"
   },
   "outputs": [],
   "source": [
    "learn_cls.freeze()"
   ]
  },
  {
   "cell_type": "code",
   "execution_count": 0,
   "metadata": {
    "colab": {
     "base_uri": "https://localhost:8080/",
     "height": 300
    },
    "colab_type": "code",
    "id": "CERXm74-Gbav",
    "outputId": "d57bcb01-6629-41bb-a6bd-9a6668fcbc9e"
   },
   "outputs": [
    {
     "data": {
      "text/html": [],
      "text/plain": [
       "<IPython.core.display.HTML object>"
      ]
     },
     "metadata": {
      "tags": []
     },
     "output_type": "display_data"
    },
    {
     "name": "stdout",
     "output_type": "stream",
     "text": [
      "LR Finder is complete, type {learner_name}.recorder.plot() to see the graph.\n"
     ]
    },
    {
     "data": {
      "image/png": "[encoded data removed]",
      "text/plain": [
       "<Figure size 432x288 with 1 Axes>"
      ]
     },
     "metadata": {
      "tags": []
     },
     "output_type": "display_data"
    }
   ],
   "source": [
    "learn_cls.lr_find()\n",
    "learn_cls.recorder.plot()"
   ]
  },
  {
   "cell_type": "code",
   "execution_count": 0,
   "metadata": {
    "colab": {
     "base_uri": "https://localhost:8080/",
     "height": 283
    },
    "colab_type": "code",
    "id": "n2MPixepGbay",
    "outputId": "a5b46c96-cf7d-405b-b693-4adf591ecb9b"
   },
   "outputs": [
    {
     "data": {
      "image/png": "[encoded data removed]",
      "text/plain": [
       "<Figure size 432x288 with 1 Axes>"
      ]
     },
     "metadata": {
      "tags": []
     },
     "output_type": "display_data"
    }
   ],
   "source": [
    "learn_cls.recorder.plot(skip_end=7)"
   ]
  },
  {
   "cell_type": "code",
   "execution_count": 0,
   "metadata": {
    "colab": {
     "base_uri": "https://localhost:8080/",
     "height": 455
    },
    "colab_type": "code",
    "id": "UB8e2e3XGba1",
    "outputId": "169d93bc-2d1a-4f44-e9e3-14ac35b3673b"
   },
   "outputs": [
    {
     "data": {
      "text/html": [
       "<table border=\"1\" class=\"dataframe\">\n",
       "  <thead>\n",
       "    <tr style=\"text-align: left;\">\n",
       "      <th>epoch</th>\n",
       "      <th>train_loss</th>\n",
       "      <th>valid_loss</th>\n",
       "      <th>accuracy</th>\n",
       "      <th>time</th>\n",
       "    </tr>\n",
       "  </thead>\n",
       "  <tbody>\n",
       "    <tr>\n",
       "      <td>0</td>\n",
       "      <td>0.272263</td>\n",
       "      <td>0.035070</td>\n",
       "      <td>0.988868</td>\n",
       "      <td>02:15</td>\n",
       "    </tr>\n",
       "    <tr>\n",
       "      <td>1</td>\n",
       "      <td>0.062596</td>\n",
       "      <td>0.028063</td>\n",
       "      <td>0.991651</td>\n",
       "      <td>02:18</td>\n",
       "    </tr>\n",
       "  </tbody>\n",
       "</table>"
      ],
      "text/plain": [
       "<IPython.core.display.HTML object>"
      ]
     },
     "metadata": {
      "tags": []
     },
     "output_type": "display_data"
    },
    {
     "data": {
      "text/html": [
       "<table border=\"1\" class=\"dataframe\">\n",
       "  <thead>\n",
       "    <tr style=\"text-align: left;\">\n",
       "      <th>epoch</th>\n",
       "      <th>train_loss</th>\n",
       "      <th>valid_loss</th>\n",
       "      <th>accuracy</th>\n",
       "      <th>time</th>\n",
       "    </tr>\n",
       "  </thead>\n",
       "  <tbody>\n",
       "    <tr>\n",
       "      <td>0</td>\n",
       "      <td>0.095111</td>\n",
       "      <td>0.035957</td>\n",
       "      <td>0.987941</td>\n",
       "      <td>02:36</td>\n",
       "    </tr>\n",
       "    <tr>\n",
       "      <td>1</td>\n",
       "      <td>0.033744</td>\n",
       "      <td>0.026040</td>\n",
       "      <td>0.991651</td>\n",
       "      <td>02:35</td>\n",
       "    </tr>\n",
       "  </tbody>\n",
       "</table>"
      ],
      "text/plain": [
       "<IPython.core.display.HTML object>"
      ]
     },
     "metadata": {
      "tags": []
     },
     "output_type": "display_data"
    },
    {
     "data": {
      "text/html": [
       "<table border=\"1\" class=\"dataframe\">\n",
       "  <thead>\n",
       "    <tr style=\"text-align: left;\">\n",
       "      <th>epoch</th>\n",
       "      <th>train_loss</th>\n",
       "      <th>valid_loss</th>\n",
       "      <th>accuracy</th>\n",
       "      <th>time</th>\n",
       "    </tr>\n",
       "  </thead>\n",
       "  <tbody>\n",
       "    <tr>\n",
       "      <td>0</td>\n",
       "      <td>0.028033</td>\n",
       "      <td>0.029904</td>\n",
       "      <td>0.990724</td>\n",
       "      <td>03:41</td>\n",
       "    </tr>\n",
       "    <tr>\n",
       "      <td>1</td>\n",
       "      <td>0.016169</td>\n",
       "      <td>0.018175</td>\n",
       "      <td>0.993506</td>\n",
       "      <td>03:42</td>\n",
       "    </tr>\n",
       "  </tbody>\n",
       "</table>"
      ],
      "text/plain": [
       "<IPython.core.display.HTML object>"
      ]
     },
     "metadata": {
      "tags": []
     },
     "output_type": "display_data"
    },
    {
     "data": {
      "text/html": [
       "<table border=\"1\" class=\"dataframe\">\n",
       "  <thead>\n",
       "    <tr style=\"text-align: left;\">\n",
       "      <th>epoch</th>\n",
       "      <th>train_loss</th>\n",
       "      <th>valid_loss</th>\n",
       "      <th>accuracy</th>\n",
       "      <th>time</th>\n",
       "    </tr>\n",
       "  </thead>\n",
       "  <tbody>\n",
       "    <tr>\n",
       "      <td>0</td>\n",
       "      <td>0.016793</td>\n",
       "      <td>0.019068</td>\n",
       "      <td>0.992579</td>\n",
       "      <td>04:36</td>\n",
       "    </tr>\n",
       "    <tr>\n",
       "      <td>1</td>\n",
       "      <td>0.007894</td>\n",
       "      <td>0.015790</td>\n",
       "      <td>0.993506</td>\n",
       "      <td>04:39</td>\n",
       "    </tr>\n",
       "    <tr>\n",
       "      <td>2</td>\n",
       "      <td>0.008313</td>\n",
       "      <td>0.016995</td>\n",
       "      <td>0.993506</td>\n",
       "      <td>04:39</td>\n",
       "    </tr>\n",
       "    <tr>\n",
       "      <td>3</td>\n",
       "      <td>0.009096</td>\n",
       "      <td>0.015241</td>\n",
       "      <td>0.993506</td>\n",
       "      <td>04:36</td>\n",
       "    </tr>\n",
       "  </tbody>\n",
       "</table>"
      ],
      "text/plain": [
       "<IPython.core.display.HTML object>"
      ]
     },
     "metadata": {
      "tags": []
     },
     "output_type": "display_data"
    }
   ],
   "source": [
    "learn_cls.fit_one_cycle(2, 1e-2, moms=(0.8,0.7))\n",
    "learn_cls.save('12train_word_cls_1')\n",
    "learn_cls.freeze_to(-2)\n",
    "learn_cls.fit_one_cycle(2 , slice(1e-2/(2.8**4),1e-2), moms=(0.8,0.7))\n",
    "learn_cls.save('12train_word_cls_2')\n",
    "learn_cls.freeze_to(-3)\n",
    "learn_cls.fit_one_cycle(2, slice(5e-3/(2.8**4),5e-3), moms=(0.8,0.7))\n",
    "learn_cls.save('12train_word_cls_3')\n",
    "learn_cls.unfreeze()\n",
    "learn_cls.fit_one_cycle(4, slice(1e-3/(2.8**4),1e-3), moms=(0.8,0.7))\n",
    "learn_cls.save('12train_word_cls_4')"
   ]
  },
  {
   "cell_type": "markdown",
   "metadata": {
    "colab_type": "text",
    "id": "oIHMdkGKGba7"
   },
   "source": [
    "### Test"
   ]
  },
  {
   "cell_type": "code",
   "execution_count": 0,
   "metadata": {
    "colab": {
     "base_uri": "https://localhost:8080/",
     "height": 105
    },
    "colab_type": "code",
    "id": "8F76geH4Gba8",
    "outputId": "96c05da5-b76c-4d58-ab53-c18ff082d95d"
   },
   "outputs": [
    {
     "name": "stdout",
     "output_type": "stream",
     "text": [
      "1356\n",
      "Accuracy: \n",
      "0.9941002949852508\n",
      "[('shordindu', 'shottojit_roy'), ('shottojit_roy', 'shordindu'), ('shirshendu', 'shomresh'), ('MZI', 'humayun_ahmed'), ('MZI', 'shottojit_roy'), ('MZI', 'humayun_ahmed'), ('robindronath', 'tarashonkor'), ('robindronath', 'shunil_gongopaddhay')]\n"
     ]
    }
   ],
   "source": [
    "pred,targ = testing(subsets/'12test.csv')"
   ]
  },
  {
   "cell_type": "code",
   "execution_count": 0,
   "metadata": {
    "colab": {
     "base_uri": "https://localhost:8080/",
     "height": 51
    },
    "colab_type": "code",
    "id": "BM_Tf4e5GbbC",
    "outputId": "a15c51bb-eda8-445d-9247-ba58296c8779"
   },
   "outputs": [
    {
     "data": {
      "text/plain": [
       "(array([0.986547, 1.      , 0.991228, 0.991071, 0.995556, 0.995595, 0.99115 , 1.      , 0.986784, 0.995595, 0.995595,\n",
       "        1.      ]), 0.9940934053267015)"
      ]
     },
     "execution_count": 43,
     "metadata": {
      "tags": []
     },
     "output_type": "execute_result"
    }
   ],
   "source": [
    "from sklearn.metrics import f1_score\n",
    "out  = f1_score(targ, pred, average=None) #'macro' , also == weighted cuz dataset is balanced\n",
    "out , out.mean()"
   ]
  },
  {
   "cell_type": "code",
   "execution_count": 0,
   "metadata": {
    "colab": {},
    "colab_type": "code",
    "id": "n9JCzcalGbbI"
   },
   "outputs": [],
   "source": []
  },
  {
   "cell_type": "markdown",
   "metadata": {
    "colab_type": "text",
    "id": "eT42CScKtwE6"
   },
   "source": [
    "##  14 Authors"
   ]
  },
  {
   "cell_type": "markdown",
   "metadata": {
    "colab_type": "text",
    "id": "6ZpydO_etwFG"
   },
   "source": [
    "### LM"
   ]
  },
  {
   "cell_type": "code",
   "execution_count": 0,
   "metadata": {
    "colab": {},
    "colab_type": "code",
    "id": "KrI7qdu1twFI"
   },
   "outputs": [],
   "source": [
    "# Language model data AA\n",
    "data_lm_AA = TextLMDataBunch.from_csv(subsets, '14train.csv', vocab=data_lm.train_ds.vocab, bs=bs)\n",
    "data_lm_AA.save('14train_word_lm.pkl')"
   ]
  },
  {
   "cell_type": "code",
   "execution_count": 0,
   "metadata": {
    "colab": {},
    "colab_type": "code",
    "id": "mp0MLvAktwFN"
   },
   "outputs": [],
   "source": [
    "data_lm_AA = load_data(subsets, '14train_word_lm.pkl',bs=bs)\n",
    "learn = language_model_learner(data_lm_AA, AWD_LSTM, pretrained=False, drop_mult=0.5)"
   ]
  },
  {
   "cell_type": "code",
   "execution_count": 0,
   "metadata": {
    "colab": {},
    "colab_type": "code",
    "id": "Obj9V9DntwFQ"
   },
   "outputs": [],
   "source": [
    "learn.load(pt/'models'/'word_news_lm_30');"
   ]
  },
  {
   "cell_type": "code",
   "execution_count": 0,
   "metadata": {
    "colab": {},
    "colab_type": "code",
    "id": "za-nkMYBtwFW"
   },
   "outputs": [],
   "source": [
    "learn.freeze()"
   ]
  },
  {
   "cell_type": "code",
   "execution_count": 0,
   "metadata": {
    "colab": {
     "base_uri": "https://localhost:8080/",
     "height": 300
    },
    "colab_type": "code",
    "id": "SUg_V5O5twFZ",
    "outputId": "3f9d925d-aa6d-4c40-b67e-dac9c383958c"
   },
   "outputs": [
    {
     "data": {
      "text/html": [],
      "text/plain": [
       "<IPython.core.display.HTML object>"
      ]
     },
     "metadata": {
      "tags": []
     },
     "output_type": "display_data"
    },
    {
     "name": "stdout",
     "output_type": "stream",
     "text": [
      "LR Finder is complete, type {learner_name}.recorder.plot() to see the graph.\n"
     ]
    },
    {
     "data": {
      "image/png": "[encoded data removed]",
      "text/plain": [
       "<Figure size 432x288 with 1 Axes>"
      ]
     },
     "metadata": {
      "tags": []
     },
     "output_type": "display_data"
    }
   ],
   "source": [
    "learn.lr_find()\n",
    "learn.recorder.plot()"
   ]
  },
  {
   "cell_type": "code",
   "execution_count": 0,
   "metadata": {
    "colab": {
     "base_uri": "https://localhost:8080/",
     "height": 283
    },
    "colab_type": "code",
    "id": "wjtsEBDztwFg",
    "outputId": "77c34925-ae3f-4657-e6d4-cd7e89094e6b"
   },
   "outputs": [
    {
     "data": {
      "image/png": "[encoded data removed]",
      "text/plain": [
       "<Figure size 432x288 with 1 Axes>"
      ]
     },
     "metadata": {
      "tags": []
     },
     "output_type": "display_data"
    }
   ],
   "source": [
    "learn.recorder.plot(skip_end=15)"
   ]
  },
  {
   "cell_type": "markdown",
   "metadata": {
    "colab_type": "text",
    "id": "xt6uecPX-aeG"
   },
   "source": [
    "okay this is running"
   ]
  },
  {
   "cell_type": "code",
   "execution_count": 0,
   "metadata": {
    "colab": {
     "base_uri": "https://localhost:8080/",
     "height": 487
    },
    "colab_type": "code",
    "id": "FdLMqSUxtwFm",
    "outputId": "e0eaff84-2dfb-406e-8c56-6ee52483a746"
   },
   "outputs": [
    {
     "data": {
      "text/html": [
       "<table border=\"1\" class=\"dataframe\">\n",
       "  <thead>\n",
       "    <tr style=\"text-align: left;\">\n",
       "      <th>epoch</th>\n",
       "      <th>train_loss</th>\n",
       "      <th>valid_loss</th>\n",
       "      <th>accuracy</th>\n",
       "      <th>time</th>\n",
       "    </tr>\n",
       "  </thead>\n",
       "  <tbody>\n",
       "    <tr>\n",
       "      <td>0</td>\n",
       "      <td>5.054683</td>\n",
       "      <td>4.947225</td>\n",
       "      <td>0.245920</td>\n",
       "      <td>07:59</td>\n",
       "    </tr>\n",
       "    <tr>\n",
       "      <td>1</td>\n",
       "      <td>4.784858</td>\n",
       "      <td>4.809151</td>\n",
       "      <td>0.254826</td>\n",
       "      <td>08:04</td>\n",
       "    </tr>\n",
       "  </tbody>\n",
       "</table>"
      ],
      "text/plain": [
       "<IPython.core.display.HTML object>"
      ]
     },
     "metadata": {
      "tags": []
     },
     "output_type": "display_data"
    },
    {
     "data": {
      "text/html": [
       "<table border=\"1\" class=\"dataframe\">\n",
       "  <thead>\n",
       "    <tr style=\"text-align: left;\">\n",
       "      <th>epoch</th>\n",
       "      <th>train_loss</th>\n",
       "      <th>valid_loss</th>\n",
       "      <th>accuracy</th>\n",
       "      <th>time</th>\n",
       "    </tr>\n",
       "  </thead>\n",
       "  <tbody>\n",
       "    <tr>\n",
       "      <td>0</td>\n",
       "      <td>4.934630</td>\n",
       "      <td>4.875162</td>\n",
       "      <td>0.255339</td>\n",
       "      <td>08:11</td>\n",
       "    </tr>\n",
       "    <tr>\n",
       "      <td>1</td>\n",
       "      <td>4.633934</td>\n",
       "      <td>4.711006</td>\n",
       "      <td>0.265820</td>\n",
       "      <td>08:11</td>\n",
       "    </tr>\n",
       "  </tbody>\n",
       "</table>"
      ],
      "text/plain": [
       "<IPython.core.display.HTML object>"
      ]
     },
     "metadata": {
      "tags": []
     },
     "output_type": "display_data"
    },
    {
     "data": {
      "text/html": [
       "<table border=\"1\" class=\"dataframe\">\n",
       "  <thead>\n",
       "    <tr style=\"text-align: left;\">\n",
       "      <th>epoch</th>\n",
       "      <th>train_loss</th>\n",
       "      <th>valid_loss</th>\n",
       "      <th>accuracy</th>\n",
       "      <th>time</th>\n",
       "    </tr>\n",
       "  </thead>\n",
       "  <tbody>\n",
       "    <tr>\n",
       "      <td>0</td>\n",
       "      <td>4.876906</td>\n",
       "      <td>4.851674</td>\n",
       "      <td>0.258199</td>\n",
       "      <td>08:36</td>\n",
       "    </tr>\n",
       "    <tr>\n",
       "      <td>1</td>\n",
       "      <td>4.550451</td>\n",
       "      <td>4.657775</td>\n",
       "      <td>0.272065</td>\n",
       "      <td>08:37</td>\n",
       "    </tr>\n",
       "  </tbody>\n",
       "</table>"
      ],
      "text/plain": [
       "<IPython.core.display.HTML object>"
      ]
     },
     "metadata": {
      "tags": []
     },
     "output_type": "display_data"
    },
    {
     "data": {
      "text/html": [
       "\n",
       "    <div>\n",
       "        <style>\n",
       "            /* Turns off some styling */\n",
       "            progress {\n",
       "                /* gets rid of default border in Firefox and Opera. */\n",
       "                border: none;\n",
       "                /* Needs to be in here for Safari polyfill so background images work as expected. */\n",
       "                background-size: auto;\n",
       "            }\n",
       "            .progress-bar-interrupted, .progress-bar-interrupted::-webkit-progress-bar {\n",
       "                background: #F44336;\n",
       "            }\n",
       "        </style>\n",
       "      <progress value='3' class='' max='4', style='width:300px; height:20px; vertical-align: middle;'></progress>\n",
       "      75.00% [3/4 26:56<08:58]\n",
       "    </div>\n",
       "    \n",
       "<table border=\"1\" class=\"dataframe\">\n",
       "  <thead>\n",
       "    <tr style=\"text-align: left;\">\n",
       "      <th>epoch</th>\n",
       "      <th>train_loss</th>\n",
       "      <th>valid_loss</th>\n",
       "      <th>accuracy</th>\n",
       "      <th>time</th>\n",
       "    </tr>\n",
       "  </thead>\n",
       "  <tbody>\n",
       "    <tr>\n",
       "      <td>0</td>\n",
       "      <td>4.379862</td>\n",
       "      <td>4.642622</td>\n",
       "      <td>0.272481</td>\n",
       "      <td>08:58</td>\n",
       "    </tr>\n",
       "    <tr>\n",
       "      <td>1</td>\n",
       "      <td>4.339423</td>\n",
       "      <td>4.609529</td>\n",
       "      <td>0.274564</td>\n",
       "      <td>08:58</td>\n",
       "    </tr>\n",
       "    <tr>\n",
       "      <td>2</td>\n",
       "      <td>4.246244</td>\n",
       "      <td>4.594714</td>\n",
       "      <td>0.276288</td>\n",
       "      <td>08:58</td>\n",
       "    </tr>\n",
       "  </tbody>\n",
       "</table><p>\n",
       "\n",
       "    <div>\n",
       "        <style>\n",
       "            /* Turns off some styling */\n",
       "            progress {\n",
       "                /* gets rid of default border in Firefox and Opera. */\n",
       "                border: none;\n",
       "                /* Needs to be in here for Safari polyfill so background images work as expected. */\n",
       "                background-size: auto;\n",
       "            }\n",
       "            .progress-bar-interrupted, .progress-bar-interrupted::-webkit-progress-bar {\n",
       "                background: #F44336;\n",
       "            }\n",
       "        </style>\n",
       "      <progress value='606' class='' max='1717', style='width:300px; height:20px; vertical-align: middle;'></progress>\n",
       "      35.29% [606/1717 02:53<05:17 4.1645]\n",
       "    </div>\n",
       "    "
      ],
      "text/plain": [
       "<IPython.core.display.HTML object>"
      ]
     },
     "metadata": {
      "tags": []
     },
     "output_type": "display_data"
    },
    {
     "name": "stdout",
     "output_type": "stream",
     "text": [
      "Buffered data was truncated after reaching the output size limit."
     ]
    }
   ],
   "source": [
    "learn.freeze()\n",
    "learn.fit_one_cycle(2, 1e-2)\n",
    "learn.save('14train_lm_head');\n",
    "learn.freeze_to(-2)\n",
    "learn.fit_one_cycle(2, 1e-2)\n",
    "learn.save('14train_lm_body_1');\n",
    "learn.freeze_to(-3)\n",
    "learn.fit_one_cycle(2, 1e-2)\n",
    "learn.save('14train_lm_body_2');\n",
    "learn.unfreeze()\n",
    "learn.fit_one_cycle(4, 1e-3)\n",
    "learn.save('14train_lm_body_3');"
   ]
  },
  {
   "cell_type": "code",
   "execution_count": 0,
   "metadata": {
    "colab": {
     "base_uri": "https://localhost:8080/",
     "height": 173
    },
    "colab_type": "code",
    "id": "WKzGeRrKtwFu",
    "outputId": "7d97abd0-8e83-4ca0-e14a-f77f1dcbb54f"
   },
   "outputs": [
    {
     "data": {
      "text/html": [
       "<table border=\"1\" class=\"dataframe\">\n",
       "  <thead>\n",
       "    <tr style=\"text-align: left;\">\n",
       "      <th>epoch</th>\n",
       "      <th>train_loss</th>\n",
       "      <th>valid_loss</th>\n",
       "      <th>accuracy</th>\n",
       "      <th>time</th>\n",
       "    </tr>\n",
       "  </thead>\n",
       "  <tbody>\n",
       "    <tr>\n",
       "      <td>0</td>\n",
       "      <td>4.205941</td>\n",
       "      <td>4.602735</td>\n",
       "      <td>0.275397</td>\n",
       "      <td>08:58</td>\n",
       "    </tr>\n",
       "    <tr>\n",
       "      <td>1</td>\n",
       "      <td>4.139445</td>\n",
       "      <td>4.594129</td>\n",
       "      <td>0.276131</td>\n",
       "      <td>08:58</td>\n",
       "    </tr>\n",
       "    <tr>\n",
       "      <td>2</td>\n",
       "      <td>4.120026</td>\n",
       "      <td>4.585245</td>\n",
       "      <td>0.276845</td>\n",
       "      <td>08:58</td>\n",
       "    </tr>\n",
       "    <tr>\n",
       "      <td>3</td>\n",
       "      <td>4.022110</td>\n",
       "      <td>4.594474</td>\n",
       "      <td>0.276384</td>\n",
       "      <td>08:58</td>\n",
       "    </tr>\n",
       "  </tbody>\n",
       "</table>"
      ],
      "text/plain": [
       "<IPython.core.display.HTML object>"
      ]
     },
     "metadata": {
      "tags": []
     },
     "output_type": "display_data"
    }
   ],
   "source": [
    "learn.load('14train_lm_body_3');\n",
    "learn.unfreeze()\n",
    "learn.fit_one_cycle(4, 1e-3)\n",
    "learn.save('14train_lm_body_4');"
   ]
  },
  {
   "cell_type": "code",
   "execution_count": 0,
   "metadata": {
    "colab": {},
    "colab_type": "code",
    "id": "swZ6j3dntwFy"
   },
   "outputs": [],
   "source": [
    "learn.save_encoder('14train_lm_enc')"
   ]
  },
  {
   "cell_type": "markdown",
   "metadata": {
    "colab_type": "text",
    "id": "z9d1YJLWtwF2"
   },
   "source": [
    "### Classifier"
   ]
  },
  {
   "cell_type": "code",
   "execution_count": 0,
   "metadata": {
    "colab": {},
    "colab_type": "code",
    "id": "V2w0C1pUtwGO"
   },
   "outputs": [],
   "source": [
    "data_clas = TextClasDataBunch.from_csv(subsets , '14train.csv', vocab=data_lm.train_ds.vocab, bs=bs)\n",
    "data_clas.save('14train_word_clas.pkl')"
   ]
  },
  {
   "cell_type": "code",
   "execution_count": 0,
   "metadata": {
    "colab": {
     "base_uri": "https://localhost:8080/",
     "height": 289
    },
    "colab_type": "code",
    "id": "wmaBWNbPtwGT",
    "outputId": "3260fd8d-8ce3-4871-dd85-7d7ebf49f597"
   },
   "outputs": [
    {
     "data": {
      "text/html": [
       "<table border=\"1\" class=\"dataframe\">\n",
       "  <thead>\n",
       "    <tr style=\"text-align: right;\">\n",
       "      <th>text</th>\n",
       "      <th>target</th>\n",
       "    </tr>\n",
       "  </thead>\n",
       "  <tbody>\n",
       "    <tr>\n",
       "      <td>xxbos তাদের মধ্যে কেউ তাকে খুন করেছে ? ’ ‘ কলকাতার xxunk যাদের নাম আছে তাদের সওয়াল করলে xxunk আন্দাজ করা xxunk , এবার তিন নম্বর মক্কেলের সঙ্গে দেখা করা যাক । ’ ‘ চলুন । ’ তিন নম্বর ঘরে xxunk সান্যাল বিছানায় xxunk হয়ে শুয়ে xxunk , xxunk শুনে ঘাড় তুললেন । xxunk , ‘ কে ? ’ xxunk সংক্ষেপে xxunk , ‘ xxunk । ’ xxunk উঠে xxunk</td>\n",
       "      <td>shordindu</td>\n",
       "    </tr>\n",
       "    <tr>\n",
       "      <td>xxbos xxunk – — xxunk - xxunk – xxunk - xxunk – xxunk - xxunk — পাগল হাসতে হাসতে সুর করে এবার বলে – xxunk xxunk - xxunk – xxunk - xxunk ! – xxunk পিছনে – – xxunk - xxunk — xxunk - xxunk – — আগে চলে লক্ষ্মী — – xxunk - xxunk — xxunk - xxunk – xxunk এস xxunk । বরের xxunk সামনে আছে রতন ,</td>\n",
       "      <td>tarashonkor</td>\n",
       "    </tr>\n",
       "    <tr>\n",
       "      <td>xxbos খোল । ’ আবার খেলোয়াড়দের মধ্যে মুখ xxunk । তারপর xxunk , বোধ হয় দোকানের মালিক xxunk xxunk , xxunk গেল । xxunk জানালা হইতে xxunk xxunk সম্মুখে xxunk । দ্বার xxunk । xxunk xxunk লোকটা দুইজন ইউনিফর্ম পরা xxunk কর্মচারীকে xxunk এক পা xxunk xxunk , ‘ কে ! কি চাই ? ’ xxunk xxunk , ‘ তুমি xxunk দাস ? ’ ‘ হ্যাঁ । কি চাই ?</td>\n",
       "      <td>shordindu</td>\n",
       "    </tr>\n",
       "    <tr>\n",
       "      <td>xxbos xxunk টাকা আদায়ের জন্যে অল্প যা xxunk করেন । তারপর আবার নিজের ঘরেই বন্দি । আর xxunk তো আছে তার অসংখ্য বন্ধুবান্ধব নিয়ে । শুধু মেয়ে বন্ধু নয় , তার আবার অনেক xxunk আছে । xxunk আছে xxunk । তবে সে একটু বাড়াবাড়ি করছে । কাল তার কাছে একটি ছেলে এসেছিল , সে রাত আটটা পর্যন্ত ছিল । এ সব ভালো xxunk । নীলু উঁকি দিয়ে দেখেছে , ছেলেটি</td>\n",
       "      <td>humayun_ahmed</td>\n",
       "    </tr>\n",
       "    <tr>\n",
       "      <td>xxbos হোক তারপর বলবেন । ’ ‘ রশীদকে দেখে এত মনটা খারাপ হয়েছে । ’ ‘ আপনি তাহলে দুপুরে কিছু খাবেন না ? ’ ‘ জ্বি না । ’ ‘ তাহলে আমি উঠি । আগামী কাল চাকরির খবরটা নিয়ে আমার এক কাজ করব । সরাসরি আপনার দেশের বাড়িতে চলে যাব । ’ ‘ সত্যি যাবেন হিমু ভাই ? ’ ‘ যাব । ’ ‘ আপনার ভাবীর শরীরটা খারাপ , আপনাকে</td>\n",
       "      <td>humayun_ahmed</td>\n",
       "    </tr>\n",
       "  </tbody>\n",
       "</table>"
      ],
      "text/plain": [
       "<IPython.core.display.HTML object>"
      ]
     },
     "metadata": {
      "tags": []
     },
     "output_type": "display_data"
    }
   ],
   "source": [
    "data_clas.show_batch()"
   ]
  },
  {
   "cell_type": "code",
   "execution_count": 0,
   "metadata": {
    "colab": {},
    "colab_type": "code",
    "id": "OqhtRdrztwGb"
   },
   "outputs": [],
   "source": [
    "learn_cls = text_classifier_learner(data_clas, AWD_LSTM, drop_mult=0.5, pretrained=False)"
   ]
  },
  {
   "cell_type": "code",
   "execution_count": 0,
   "metadata": {
    "colab": {},
    "colab_type": "code",
    "id": "Ib9Hh5XltwGe"
   },
   "outputs": [],
   "source": [
    "learn_cls.load_encoder('14train_lm_enc')"
   ]
  },
  {
   "cell_type": "code",
   "execution_count": 0,
   "metadata": {
    "colab": {},
    "colab_type": "code",
    "id": "ydTloLnQtwGg"
   },
   "outputs": [],
   "source": [
    "learn_cls.freeze()"
   ]
  },
  {
   "cell_type": "code",
   "execution_count": 0,
   "metadata": {
    "colab": {
     "base_uri": "https://localhost:8080/",
     "height": 300
    },
    "colab_type": "code",
    "id": "66-H8SWrtwGq",
    "outputId": "c10120f6-1c34-490f-b665-c95fbe3c55d3"
   },
   "outputs": [
    {
     "data": {
      "text/html": [],
      "text/plain": [
       "<IPython.core.display.HTML object>"
      ]
     },
     "metadata": {
      "tags": []
     },
     "output_type": "display_data"
    },
    {
     "name": "stdout",
     "output_type": "stream",
     "text": [
      "LR Finder is complete, type {learner_name}.recorder.plot() to see the graph.\n"
     ]
    },
    {
     "data": {
      "image/png": "[encoded data removed]",
      "text/plain": [
       "<Figure size 432x288 with 1 Axes>"
      ]
     },
     "metadata": {
      "tags": []
     },
     "output_type": "display_data"
    }
   ],
   "source": [
    "learn_cls.lr_find()\n",
    "learn_cls.recorder.plot()"
   ]
  },
  {
   "cell_type": "code",
   "execution_count": 0,
   "metadata": {
    "colab": {
     "base_uri": "https://localhost:8080/",
     "height": 283
    },
    "colab_type": "code",
    "id": "VKhrpQJKtwGu",
    "outputId": "66e6e1e3-2d91-4187-88ac-1ff6d2862ad3"
   },
   "outputs": [
    {
     "data": {
      "image/png": "[encoded data removed]",
      "text/plain": [
       "<Figure size 432x288 with 1 Axes>"
      ]
     },
     "metadata": {
      "tags": []
     },
     "output_type": "display_data"
    }
   ],
   "source": [
    "learn_cls.recorder.plot(skip_end=7)"
   ]
  },
  {
   "cell_type": "code",
   "execution_count": 0,
   "metadata": {
    "colab": {
     "base_uri": "https://localhost:8080/",
     "height": 455
    },
    "colab_type": "code",
    "id": "GPu2b1GftwG1",
    "outputId": "42eaf662-15d9-4efc-d47c-d2b66b6c3c12"
   },
   "outputs": [
    {
     "data": {
      "text/html": [
       "<table border=\"1\" class=\"dataframe\">\n",
       "  <thead>\n",
       "    <tr style=\"text-align: left;\">\n",
       "      <th>epoch</th>\n",
       "      <th>train_loss</th>\n",
       "      <th>valid_loss</th>\n",
       "      <th>accuracy</th>\n",
       "      <th>time</th>\n",
       "    </tr>\n",
       "  </thead>\n",
       "  <tbody>\n",
       "    <tr>\n",
       "      <td>0</td>\n",
       "      <td>0.349487</td>\n",
       "      <td>0.072313</td>\n",
       "      <td>0.979068</td>\n",
       "      <td>02:13</td>\n",
       "    </tr>\n",
       "    <tr>\n",
       "      <td>1</td>\n",
       "      <td>0.090491</td>\n",
       "      <td>0.051185</td>\n",
       "      <td>0.982873</td>\n",
       "      <td>02:16</td>\n",
       "    </tr>\n",
       "  </tbody>\n",
       "</table>"
      ],
      "text/plain": [
       "<IPython.core.display.HTML object>"
      ]
     },
     "metadata": {
      "tags": []
     },
     "output_type": "display_data"
    },
    {
     "data": {
      "text/html": [
       "<table border=\"1\" class=\"dataframe\">\n",
       "  <thead>\n",
       "    <tr style=\"text-align: left;\">\n",
       "      <th>epoch</th>\n",
       "      <th>train_loss</th>\n",
       "      <th>valid_loss</th>\n",
       "      <th>accuracy</th>\n",
       "      <th>time</th>\n",
       "    </tr>\n",
       "  </thead>\n",
       "  <tbody>\n",
       "    <tr>\n",
       "      <td>0</td>\n",
       "      <td>0.122782</td>\n",
       "      <td>0.060298</td>\n",
       "      <td>0.985728</td>\n",
       "      <td>02:32</td>\n",
       "    </tr>\n",
       "    <tr>\n",
       "      <td>1</td>\n",
       "      <td>0.044465</td>\n",
       "      <td>0.027303</td>\n",
       "      <td>0.991437</td>\n",
       "      <td>02:32</td>\n",
       "    </tr>\n",
       "  </tbody>\n",
       "</table>"
      ],
      "text/plain": [
       "<IPython.core.display.HTML object>"
      ]
     },
     "metadata": {
      "tags": []
     },
     "output_type": "display_data"
    },
    {
     "data": {
      "text/html": [
       "<table border=\"1\" class=\"dataframe\">\n",
       "  <thead>\n",
       "    <tr style=\"text-align: left;\">\n",
       "      <th>epoch</th>\n",
       "      <th>train_loss</th>\n",
       "      <th>valid_loss</th>\n",
       "      <th>accuracy</th>\n",
       "      <th>time</th>\n",
       "    </tr>\n",
       "  </thead>\n",
       "  <tbody>\n",
       "    <tr>\n",
       "      <td>0</td>\n",
       "      <td>0.038449</td>\n",
       "      <td>0.036710</td>\n",
       "      <td>0.991437</td>\n",
       "      <td>03:37</td>\n",
       "    </tr>\n",
       "    <tr>\n",
       "      <td>1</td>\n",
       "      <td>0.021468</td>\n",
       "      <td>0.021835</td>\n",
       "      <td>0.995243</td>\n",
       "      <td>03:34</td>\n",
       "    </tr>\n",
       "  </tbody>\n",
       "</table>"
      ],
      "text/plain": [
       "<IPython.core.display.HTML object>"
      ]
     },
     "metadata": {
      "tags": []
     },
     "output_type": "display_data"
    },
    {
     "data": {
      "text/html": [
       "<table border=\"1\" class=\"dataframe\">\n",
       "  <thead>\n",
       "    <tr style=\"text-align: left;\">\n",
       "      <th>epoch</th>\n",
       "      <th>train_loss</th>\n",
       "      <th>valid_loss</th>\n",
       "      <th>accuracy</th>\n",
       "      <th>time</th>\n",
       "    </tr>\n",
       "  </thead>\n",
       "  <tbody>\n",
       "    <tr>\n",
       "      <td>0</td>\n",
       "      <td>0.014943</td>\n",
       "      <td>0.023682</td>\n",
       "      <td>0.993340</td>\n",
       "      <td>04:29</td>\n",
       "    </tr>\n",
       "    <tr>\n",
       "      <td>1</td>\n",
       "      <td>0.013850</td>\n",
       "      <td>0.021734</td>\n",
       "      <td>0.993340</td>\n",
       "      <td>04:31</td>\n",
       "    </tr>\n",
       "    <tr>\n",
       "      <td>2</td>\n",
       "      <td>0.011146</td>\n",
       "      <td>0.021436</td>\n",
       "      <td>0.993340</td>\n",
       "      <td>04:31</td>\n",
       "    </tr>\n",
       "    <tr>\n",
       "      <td>3</td>\n",
       "      <td>0.011095</td>\n",
       "      <td>0.019308</td>\n",
       "      <td>0.993340</td>\n",
       "      <td>04:32</td>\n",
       "    </tr>\n",
       "  </tbody>\n",
       "</table>"
      ],
      "text/plain": [
       "<IPython.core.display.HTML object>"
      ]
     },
     "metadata": {
      "tags": []
     },
     "output_type": "display_data"
    }
   ],
   "source": [
    "learn_cls.fit_one_cycle(2, 1e-2, moms=(0.8,0.7))\n",
    "learn_cls.save('14train_word_cls_1')\n",
    "learn_cls.freeze_to(-2)\n",
    "learn_cls.fit_one_cycle(2 , slice(1e-2/(2.8**4),1e-2), moms=(0.8,0.7))\n",
    "learn_cls.save('14train_word_cls_2')\n",
    "learn_cls.freeze_to(-3)\n",
    "learn_cls.fit_one_cycle(2, slice(5e-3/(2.8**4),5e-3), moms=(0.8,0.7))\n",
    "learn_cls.save('14train_word_cls_3')\n",
    "learn_cls.unfreeze()\n",
    "learn_cls.fit_one_cycle(4, slice(1e-3/(2.8**4),1e-3), moms=(0.8,0.7))\n",
    "learn_cls.save('14train_word_cls_4')"
   ]
  },
  {
   "cell_type": "markdown",
   "metadata": {
    "colab_type": "text",
    "id": "AeTo_1kwtwHP"
   },
   "source": [
    "### Test"
   ]
  },
  {
   "cell_type": "code",
   "execution_count": 0,
   "metadata": {
    "colab": {
     "base_uri": "https://localhost:8080/",
     "height": 105
    },
    "colab_type": "code",
    "id": "lNTW4eCttwHQ",
    "outputId": "474c1b39-579c-452d-cc3c-e100c466a1e5"
   },
   "outputs": [
    {
     "name": "stdout",
     "output_type": "stream",
     "text": [
      "1316\n",
      "Accuracy: \n",
      "0.986322188449848\n",
      "[('manik_bandhopaddhay', 'robindronath'), ('tarashonkor', 'manik_bandhopaddhay'), ('shordindu', 'bongkim'), ('shordindu', 'robindronath'), ('shordindu', 'bongkim'), ('shordindu', 'robindronath'), ('shirshendu', 'robindronath'), ('shirshendu', 'MZI'), ('shirshendu', 'robindronath'), ('shirshendu', 'manik_bandhopaddhay'), ('MZI', 'toslima_nasrin'), ('shorotchandra', 'tarashonkor'), ('shorotchandra', 'bongkim'), ('robindronath', 'bongkim'), ('robindronath', 'tarashonkor'), ('shunil_gongopaddhay', 'shottojit_roy'), ('shunil_gongopaddhay', 'shomresh'), ('shunil_gongopaddhay', 'shottojit_roy')]\n"
     ]
    }
   ],
   "source": [
    "pred,targ = testing(subsets/'14test.csv')"
   ]
  },
  {
   "cell_type": "code",
   "execution_count": 0,
   "metadata": {
    "colab": {
     "base_uri": "https://localhost:8080/",
     "height": 51
    },
    "colab_type": "code",
    "id": "3FrKyBL9twHV",
    "outputId": "55181cd6-d637-430c-de7e-21f7eabf7bf3"
   },
   "outputs": [
    {
     "data": {
      "text/plain": [
       "(array([0.989362, 0.979167, 1.      , 0.984127, 1.      , 0.963351, 0.978261, 0.994709, 0.978261, 0.989247, 0.989474,\n",
       "        0.983784, 0.984127, 0.994709]), 0.9863269736256642)"
      ]
     },
     "execution_count": 62,
     "metadata": {
      "tags": []
     },
     "output_type": "execute_result"
    }
   ],
   "source": [
    "from sklearn.metrics import f1_score\n",
    "out  = f1_score(targ, pred, average=None) #'macro' , also == weighted cuz dataset is balanced\n",
    "out , out.mean()"
   ]
  },
  {
   "cell_type": "code",
   "execution_count": 0,
   "metadata": {
    "colab": {},
    "colab_type": "code",
    "id": "KDSiyikEtwHY"
   },
   "outputs": [],
   "source": []
  }
 ],
 "metadata": {
  "accelerator": "GPU",
  "colab": {
   "collapsed_sections": [
    "a48MqTTcVxP-",
    "ADJchncNgATq",
    "ctFZHOCmtFu5",
    "Mrfiha-6uvw2",
    "YRtifQMp4KFF",
    "h6ZhzWjX4KFW",
    "G_zKo-8C4KGr",
    "JszflWtU4KHi",
    "949-EMc77Wp5",
    "CnkPd45s7Wq2",
    "qVNgOFuc7Wrq"
   ],
   "name": "All_Auth_ULMFiT_news_word.ipynb",
   "provenance": [],
   "version": "0.3.2"
  },
  "kernelspec": {
   "display_name": "Python 3",
   "language": "python",
   "name": "python3"
  },
  "language_info": {
   "codemirror_mode": {
    "name": "ipython",
    "version": 3
   },
   "file_extension": ".py",
   "mimetype": "text/x-python",
   "name": "python",
   "nbconvert_exporter": "python",
   "pygments_lexer": "ipython3",
   "version": "3.6.8"
  }
 },
 "nbformat": 4,
 "nbformat_minor": 1
}
