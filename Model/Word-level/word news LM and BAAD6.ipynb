{
 "cells": [
  {
   "cell_type": "code",
   "execution_count": null,
   "metadata": {
    "colab": {
     "base_uri": "https://localhost:8080/",
     "height": 853
    },
    "colab_type": "code",
    "id": "OGa-bgsytFPI",
    "outputId": "e9e244bd-c0a4-4b43-819f-2515bba791e7"
   },
   "outputs": [],
   "source": [
    "!pip install fastai==1.0.52\n",
    "from fastai.text import *"
   ]
  },
  {
   "cell_type": "markdown",
   "metadata": {
    "colab_type": "text",
    "id": "5KFJ_JA5tFP7"
   },
   "source": [
    "## Preparing the data"
   ]
  },
  {
   "cell_type": "code",
   "execution_count": 2,
   "metadata": {
    "colab": {
     "base_uri": "https://localhost:8080/",
     "height": 122
    },
    "colab_type": "code",
    "id": "9T6tFBp62HNa",
    "outputId": "158ab29e-b39b-4d11-ee0b-1a68e3c09ae4"
   },
   "outputs": [
    {
     "name": "stdout",
     "output_type": "stream",
     "text": [
      "Go to this URL in a browser: https://accounts.google.com/o/oauth2/auth?client_id=947318989803-6bn6qk8qdgf4n4g3pfee6491hc0brc4i.apps.googleusercontent.com&redirect_uri=urn%3Aietf%3Awg%3Aoauth%3A2.0%3Aoob&scope=email%20https%3A%2F%2Fwww.googleapis.com%2Fauth%2Fdocs.test%20https%3A%2F%2Fwww.googleapis.com%2Fauth%2Fdrive%20https%3A%2F%2Fwww.googleapis.com%2Fauth%2Fdrive.photos.readonly%20https%3A%2F%2Fwww.googleapis.com%2Fauth%2Fpeopleapi.readonly&response_type=code\n",
      "\n",
      "Enter your authorization code:\n",
      "··········\n",
      "Mounted at /content/gdrive\n"
     ]
    }
   ],
   "source": [
    "from google.colab import drive\n",
    "drive.mount('/content/gdrive')"
   ]
  },
  {
   "cell_type": "code",
   "execution_count": 0,
   "metadata": {
    "colab": {},
    "colab_type": "code",
    "id": "gcfgPh37tFQC"
   },
   "outputs": [],
   "source": [
    "import os\n",
    "path = Path(os.getcwd())\n",
    "path = path/'gdrive'/'My Drive'\n",
    "pt=path/'Thesis Data'/'full doc csv'\n",
    "dt=path/'Thesis Data'/'Our dataset'"
   ]
  },
  {
   "cell_type": "markdown",
   "metadata": {
    "colab_type": "text",
    "id": "FyiYxhpgucuj"
   },
   "source": [
    "### See and clean dataset (no rerun)"
   ]
  },
  {
   "cell_type": "code",
   "execution_count": 0,
   "metadata": {
    "colab": {},
    "colab_type": "code",
    "id": "n6wgiAhPL9hd"
   },
   "outputs": [],
   "source": [
    "pt=path/'Thesis Data'/'full doc csv'\n",
    "train=pd.read_csv(pt/'full_doc_train.csv').dropna()\n",
    "test=pd.read_csv(pt/'full_doc_test.csv').dropna()"
   ]
  },
  {
   "cell_type": "code",
   "execution_count": 0,
   "metadata": {
    "colab": {},
    "colab_type": "code",
    "id": "kcSnWogQqZia"
   },
   "outputs": [],
   "source": [
    "def falao(s):\n",
    "    if s==None:\n",
    "        return None\n",
    "    if len(s)<5:\n",
    "        return None\n",
    "    else:\n",
    "        return s"
   ]
  },
  {
   "cell_type": "code",
   "execution_count": 0,
   "metadata": {
    "colab": {
     "base_uri": "https://localhost:8080/",
     "height": 86
    },
    "colab_type": "code",
    "id": "shizWxGKqau7",
    "outputId": "22204e4d-7451-4fe1-8d48-a21dac58e36d"
   },
   "outputs": [
    {
     "name": "stdout",
     "output_type": "stream",
     "text": [
      "81670\n",
      "76718\n",
      "20422\n",
      "19137\n"
     ]
    }
   ],
   "source": [
    "print(len(train))\n",
    "train.text = train.text.apply(falao)\n",
    "train = train.dropna()\n",
    "print(len(train))\n",
    "\n",
    "print(len(test))\n",
    "test.text = test.text.apply(falao)\n",
    "test = test.dropna()\n",
    "print(len(test))"
   ]
  },
  {
   "cell_type": "code",
   "execution_count": 0,
   "metadata": {
    "colab": {
     "base_uri": "https://localhost:8080/",
     "height": 658
    },
    "colab_type": "code",
    "id": "XfYRJ-8lP5Vu",
    "outputId": "ed1f7ae5-9cc6-44b8-fe78-dd57c5552ee3"
   },
   "outputs": [
    {
     "data": {
      "image/png": "[encoded data removed]",
      "text/plain": [
       "<Figure size 720x720 with 2 Axes>"
      ]
     },
     "metadata": {
      "tags": []
     },
     "output_type": "display_data"
    }
   ],
   "source": [
    "fig, ax = plt.subplots(1,2,figsize=(10,10))\n",
    "train.label.value_counts().plot(\"bar\", ax=ax[0]).set_title('train')\n",
    "test.label.value_counts().plot(\"bar\", ax=ax[1]).set_title('test')\n",
    "fig.show()"
   ]
  },
  {
   "cell_type": "code",
   "execution_count": 0,
   "metadata": {
    "colab": {},
    "colab_type": "code",
    "id": "25o1bEYGTNGy"
   },
   "outputs": [],
   "source": [
    "train['is_valid']=False\n",
    "train=train[['label','text','is_valid']]\n",
    "\n",
    "test['is_valid']=True\n",
    "test=test[['label','text','is_valid']]\n",
    "\n",
    "train.to_csv(pt/'full_doc_train.csv',index=False)\n",
    "test.to_csv(pt/'full_doc_test.csv',index=False)"
   ]
  },
  {
   "cell_type": "code",
   "execution_count": 0,
   "metadata": {
    "colab": {},
    "colab_type": "code",
    "id": "Q8scGzeCU61Z"
   },
   "outputs": [],
   "source": [
    "## full dataset (for LM)\n",
    "df = train.append(test,ignore_index=True)\n",
    "df.to_csv(pt/'full_doc.csv',index=False)"
   ]
  },
  {
   "cell_type": "code",
   "execution_count": 0,
   "metadata": {
    "colab": {},
    "colab_type": "code",
    "id": "vb9hKi2gVi04"
   },
   "outputs": [],
   "source": [
    "df = pd.read_csv(pt/'full_doc.csv')\n",
    "df.head()"
   ]
  },
  {
   "cell_type": "code",
   "execution_count": 0,
   "metadata": {
    "colab": {
     "base_uri": "https://localhost:8080/",
     "height": 206
    },
    "colab_type": "code",
    "id": "DdmTeXpgXJPR",
    "outputId": "190fee87-297f-490b-a5a2-caab5f46a9a0"
   },
   "outputs": [
    {
     "data": {
      "text/html": [
       "<div>\n",
       "<style scoped>\n",
       "    .dataframe tbody tr th:only-of-type {\n",
       "        vertical-align: middle;\n",
       "    }\n",
       "\n",
       "    .dataframe tbody tr th {\n",
       "        vertical-align: top;\n",
       "    }\n",
       "\n",
       "    .dataframe thead th {\n",
       "        text-align: right;\n",
       "    }\n",
       "</style>\n",
       "<table border=\"1\" class=\"dataframe\">\n",
       "  <thead>\n",
       "    <tr style=\"text-align: right;\">\n",
       "      <th></th>\n",
       "      <th>label</th>\n",
       "      <th>text</th>\n",
       "      <th>is_valid</th>\n",
       "    </tr>\n",
       "  </thead>\n",
       "  <tbody>\n",
       "    <tr>\n",
       "      <th>0</th>\n",
       "      <td>manik_bandhopaddhay</td>\n",
       "      <td>চাহিয়া থাকে। একজন স্ত্রীলোককে পাওয়ার লোভে তার ...</td>\n",
       "      <td>False</td>\n",
       "    </tr>\n",
       "    <tr>\n",
       "      <th>1</th>\n",
       "      <td>manik_bandhopaddhay</td>\n",
       "      <td>বীভৎস অস্বাভাবিকতার সিন্ধু খুঁজিয়া মেলে, রোমাঞ...</td>\n",
       "      <td>False</td>\n",
       "    </tr>\n",
       "    <tr>\n",
       "      <th>2</th>\n",
       "      <td>manik_bandhopaddhay</td>\n",
       "      <td>আছে। ধাক্কা দেওয়ার, গা মাড়াইয়া দেওয়ার বচসা আর ...</td>\n",
       "      <td>False</td>\n",
       "    </tr>\n",
       "    <tr>\n",
       "      <th>3</th>\n",
       "      <td>manik_bandhopaddhay</td>\n",
       "      <td>উপর সদানন্দের অনুপ্রেরণা। একটা গৰ্জনের মতো আওয়...</td>\n",
       "      <td>False</td>\n",
       "    </tr>\n",
       "    <tr>\n",
       "      <th>4</th>\n",
       "      <td>manik_bandhopaddhay</td>\n",
       "      <td>প্রমাণ নয়? ভাবিতে ভাবিতে বিভূতি বুঝিতে পারি, ম...</td>\n",
       "      <td>False</td>\n",
       "    </tr>\n",
       "  </tbody>\n",
       "</table>\n",
       "</div>"
      ],
      "text/plain": [
       "                 label                                               text  \\\n",
       "0  manik_bandhopaddhay  চাহিয়া থাকে। একজন স্ত্রীলোককে পাওয়ার লোভে তার ...   \n",
       "1  manik_bandhopaddhay  বীভৎস অস্বাভাবিকতার সিন্ধু খুঁজিয়া মেলে, রোমাঞ...   \n",
       "2  manik_bandhopaddhay  আছে। ধাক্কা দেওয়ার, গা মাড়াইয়া দেওয়ার বচসা আর ...   \n",
       "3  manik_bandhopaddhay  উপর সদানন্দের অনুপ্রেরণা। একটা গৰ্জনের মতো আওয়...   \n",
       "4  manik_bandhopaddhay  প্রমাণ নয়? ভাবিতে ভাবিতে বিভূতি বুঝিতে পারি, ম...   \n",
       "\n",
       "   is_valid  \n",
       "0     False  \n",
       "1     False  \n",
       "2     False  \n",
       "3     False  \n",
       "4     False  "
      ]
     },
     "execution_count": 53,
     "metadata": {
      "tags": []
     },
     "output_type": "execute_result"
    }
   ],
   "source": [
    "dt=path/'Thesis Data'/'Our dataset'\n",
    "train=pd.read_csv(dt/'OurDataset_train.csv').dropna()\n",
    "test=pd.read_csv(dt/'OurDataset_test.csv').dropna()\n",
    "df=train.append(test,ignore_index=True)\n",
    "df=df[['label','text','is_valid']]\n",
    "df.to_csv(dt/'full.csv',index=False)\n",
    "df.head()"
   ]
  },
  {
   "cell_type": "markdown",
   "metadata": {
    "colab_type": "text",
    "id": "vAqQXxrKtFhy"
   },
   "source": [
    "## Language model"
   ]
  },
  {
   "cell_type": "markdown",
   "metadata": {
    "colab_type": "text",
    "id": "k7K_S2rftFh1"
   },
   "source": [
    "Note that language models can use a lot of GPU, so you may need to decrease batchsize here."
   ]
  },
  {
   "cell_type": "code",
   "execution_count": 0,
   "metadata": {
    "colab": {},
    "colab_type": "code",
    "id": "MNBGwpETtFh8"
   },
   "outputs": [],
   "source": [
    "bs=32"
   ]
  },
  {
   "cell_type": "code",
   "execution_count": 0,
   "metadata": {
    "colab": {},
    "colab_type": "code",
    "id": "rQ-hhAphtFi8"
   },
   "outputs": [],
   "source": [
    "# data_lm = (TextList.from_csv(path,'texts.csv', cols='text')\n",
    "#            #Inputs: all the text files in path\n",
    "#             .split_by_rand_pct(0.1)\n",
    "#            #We randomly split and keep 10% for validation\n",
    "#             .label_for_lm()           \n",
    "#            #We want to do a language model so we label accordingly\n",
    "#             .databunch(bs=bs))\n",
    "# data_lm.save(path/'data_lm.pkl')"
   ]
  },
  {
   "cell_type": "code",
   "execution_count": 0,
   "metadata": {
    "colab": {},
    "colab_type": "code",
    "id": "e433-Vbht4Ga"
   },
   "outputs": [],
   "source": [
    "# Language model data\n",
    "data_lm = TextLMDataBunch.from_csv(pt, 'full_doc.csv', bs=bs)\n",
    "data_lm.save('full_doc_data_lm.pkl')"
   ]
  },
  {
   "cell_type": "code",
   "execution_count": 0,
   "metadata": {
    "colab": {},
    "colab_type": "code",
    "id": "pX7yAI1qWGq_"
   },
   "outputs": [],
   "source": [
    "# Language model data AA\n",
    "data_lm_AA = TextLMDataBunch.from_csv(dt, 'full.csv', vocab=data_lm.train_ds.vocab, bs=bs)\n",
    "data_lm_AA.save('full_AA_data_lm.pkl')"
   ]
  },
  {
   "cell_type": "code",
   "execution_count": 0,
   "metadata": {
    "colab": {},
    "colab_type": "code",
    "id": "TOwkawB1A9Lx"
   },
   "outputs": [],
   "source": [
    "# f = pd.read_csv(dt/'OurDataset_train.csv')\n",
    "# print(len(f))\n",
    "# f=f[['label','text','is_valid']]\n",
    "# f = f.dropna()\n",
    "# print(len(f))\n",
    "# f.to_csv(dt/'OurDataset_train.csv',index = None)\n",
    "# f = pd.read_csv(dt/'OurDataset_train.csv')\n",
    "# f.head()"
   ]
  },
  {
   "cell_type": "code",
   "execution_count": 0,
   "metadata": {
    "colab": {},
    "colab_type": "code",
    "id": "Sh594JCKCEFR"
   },
   "outputs": [],
   "source": [
    "# f = pd.read_csv(dt/'OurDataset_test.csv')\n",
    "# f = f.sample(frac=1).reset_index(drop=True)\n",
    "# f.to_csv(dt/'OurDataset_test.csv',index = None)\n",
    "\n",
    "# f = pd.read_csv(dt/'OurDataset_train.csv')\n",
    "# f = f.sample(frac=1).reset_index(drop=True)\n",
    "# f.to_csv(dt/'OurDataset_train.csv',index = None)"
   ]
  },
  {
   "cell_type": "code",
   "execution_count": 0,
   "metadata": {
    "colab": {},
    "colab_type": "code",
    "id": "xZtQAOmQferJ"
   },
   "outputs": [],
   "source": [
    "# Classifier model data AA\n",
    "data_clas = TextClasDataBunch.from_csv(dt, 'OurDataset_train.csv', vocab=data_lm.train_ds.vocab, bs=bs)\n",
    "data_clas.save('AA_data_clas.pkl')"
   ]
  },
  {
   "cell_type": "code",
   "execution_count": 5,
   "metadata": {
    "colab": {
     "base_uri": "https://localhost:8080/",
     "height": 71
    },
    "colab_type": "code",
    "id": "6TxTxyr3tFjR",
    "outputId": "bf900101-a3dd-42f8-dc9a-125ba8e46f2f"
   },
   "outputs": [
    {
     "name": "stderr",
     "output_type": "stream",
     "text": [
      "/usr/local/lib/python3.6/dist-packages/torch/serialization.py:454: SourceChangeWarning: source code of class 'torch.nn.modules.loss.CrossEntropyLoss' has changed. you can retrieve the original source code by accessing the object's source attribute or set `torch.nn.Module.dump_patches = True` and use the patch tool to revert the changes.\n",
      "  warnings.warn(msg, SourceChangeWarning)\n"
     ]
    }
   ],
   "source": [
    "data_lm = load_data(pt, 'full_doc_data_lm.pkl',bs=bs)"
   ]
  },
  {
   "cell_type": "code",
   "execution_count": 0,
   "metadata": {
    "colab": {},
    "colab_type": "code",
    "id": "bI6Bezu5ZBnJ"
   },
   "outputs": [],
   "source": [
    "data_lm_AA = load_data(dt, 'full_AA_data_lm.pkl',bs=bs)"
   ]
  },
  {
   "cell_type": "code",
   "execution_count": 0,
   "metadata": {
    "colab": {},
    "colab_type": "code",
    "id": "p9XeiB-LfuKw"
   },
   "outputs": [],
   "source": [
    "data_clas = load_data(dt, 'AA_data_clas.pkl', bs=bs)"
   ]
  },
  {
   "cell_type": "markdown",
   "metadata": {
    "colab_type": "text",
    "id": "V2TTgczdsWdJ"
   },
   "source": [
    "### Explore Data"
   ]
  },
  {
   "cell_type": "code",
   "execution_count": 0,
   "metadata": {
    "colab": {
     "base_uri": "https://localhost:8080/",
     "height": 328
    },
    "colab_type": "code",
    "id": "N1C5L_4OtFk8",
    "outputId": "928c7e14-cd33-487c-aab8-f437bf2a3fd5"
   },
   "outputs": [
    {
     "data": {
      "text/html": [
       "<table border=\"1\" class=\"dataframe\">\n",
       "  <thead>\n",
       "    <tr style=\"text-align: right;\">\n",
       "      <th>idx</th>\n",
       "      <th>text</th>\n",
       "    </tr>\n",
       "  </thead>\n",
       "  <tbody>\n",
       "    <tr>\n",
       "      <td>0</td>\n",
       "      <td>থানার xxunk xxunk এলাকা োথেক বৃহઍপিতবার সকােল এক পুিলশ xxunk লাশ উਤার করা হেয়েছ৷ পুিলেশর ধারণা৴ তােক হতઘা করা হেয়েছ৷ xxunk নাম োমাহাઃমদ ইিਨস xxunk িতিন xxunk োজলার পুিলশ xxunk xxunk ( নਹর - xxunk ) িহসােব কমગরত িছেলন৷ xxunk থানার এসআই xxunk আহেমদ জানান৴ বািড়েত যাওয়ার পেথ োকউ তােক খুন কের xxunk xxunk এলাকায় xxunk োফেল োগেছ৷ িনহেতর xxunk xxunk োজলা পুিলশ xxunk িচিঠ পাওয়া োগেছ৷ এস আই</td>\n",
       "    </tr>\n",
       "    <tr>\n",
       "      <td>1</td>\n",
       "      <td>নভেম্বর ০২ ( বিডিনিউজ টোয়েন্টিফোর ডটকম)- নারী ও শিশু নির্যাতন দমন আইন সংশোধন করে নারী উত্ত্যক্তকারীদের কঠোর সাজার ব্যবস্থা করার দাবি জানিয়েছে আট নারী সংগঠন । মঙ্গলবার রিপোর্টার্স ইউনিটিতে এক সংবাদ সম্মেলনে এ দাবি জানায় আইন ও সালিস কেন্দ্র , ব্রাক , ব্লাস্ট , কর্মজীবী নারী , মহিলা পরিষদ , নিজেরা করি , নাগরিক উদ্যোগ এবং স্টেপস xxunk ডেভেলপমেন্ট । সংবাদ সম্মেলনে লিখিত xxunk আইন ও সালিশ কেন্দ্রের (</td>\n",
       "    </tr>\n",
       "    <tr>\n",
       "      <td>2</td>\n",
       "      <td>অনার্স কোর্স ছিল তিন বছর মেয়াদি , সেখানে বর্তমানে তিন ও চার বছর মেয়াদি ডিগ্রি ও অনার্স কোর্স চালু হয়েছে । আর তার সঙ্গে রাজনৈতিক অস্থিরতা ছাড়াও বিভিন্ন কারণে সেশনজট তো আছে । এসব কারণে জাতীয় বিশ্ববিদ্যালয় থেকে লেখাপড়া শেষ করে বের হতেই বয়স ৩০ বছরের বেশি বা কাছাকাছি হয়ে যায় , তার পরে যেকোনো xxunk সারা শিক্ষাজীবনে দুই - এক বছর গ্যাপ পড়লে তার প্রকৃত পক্ষে আর সরকারি</td>\n",
       "    </tr>\n",
       "    <tr>\n",
       "      <td>3</td>\n",
       "      <td>৭৪ পয়েন্ট বেশি । ওই সময় পর্যন্ত ৩৬৪ কোটি ৯৫ লাখ টাকার শেয়ার হাতবদল হয়েছে , যা গত কয়েকদিনের চেয়ে বেশি । গত দিন মোট লেনদেনের পরিমাণ ছিলো ৩১৩ কোটি টাকা । লেনদেন হওয়া xxunk কোম্পানির শেয়ারের দামই বেড়েছে , কমেছে ১১টির । বাজারে এ চাঙাভাব বিনিয়োগকারীদের আস্থার ফেরার লক্ষণ বলে মনে করছেন সংশ্লিষ্টরা । বিডিনিউজ টোয়েন্টিফোর ডটকম এর প্রধান অর্থনৈতিক প্রতিবেদক আবদুর রহিম হারমাছি তাৎক্ষণিক xxunk বলেন ,</td>\n",
       "    </tr>\n",
       "    <tr>\n",
       "      <td>4</td>\n",
       "      <td>বাস্তবতা হলো , আমাদের প্রথমে দ্বিতীয় পর্বে ( কোয়ার্টার ফাইনাল ) যাওয়ার চিন্তাই করা উচিত । সেদিকে xxunk আমরা সবকিছু করছি।’ \\r \\n  xxbos রংপুর , মে ২৬ ( বিডিনিউজ টোয়েন্টিফোর ডটকম)- সিটি কর্পোরেশন ঘোষণা করে আগামী বাজেটে এজন্য প্রয়োজনীয় অর্থ বরাদ্দের দাবিতে হরতালের আগের দিন সড়ক ও রেলপথ অবরোধ কর্মসূচি পালিত হয়েছে রংপুরে । শনিবার দুপুরে রংপুর শহরতলীর বিনোদপুর রেলক্রসিংয়ে ঢাকা-রংপুর মহাসড়কে ও রেলপথ অবরোধ কর্মসূচি পালন করে</td>\n",
       "    </tr>\n",
       "  </tbody>\n",
       "</table>"
      ],
      "text/plain": [
       "<IPython.core.display.HTML object>"
      ]
     },
     "metadata": {
      "tags": []
     },
     "output_type": "display_data"
    }
   ],
   "source": [
    "data_lm.show_batch()"
   ]
  },
  {
   "cell_type": "markdown",
   "metadata": {
    "colab_type": "text",
    "id": "BSat9PK0tFl7"
   },
   "source": [
    "We can then put this in a learner object very easily with a model loaded with the pretrained weights. They'll be downloaded the first time you'll execute the following line and stored in `~/.fastai/models/` (or elsewhere if you specified different paths in your config file)."
   ]
  },
  {
   "cell_type": "markdown",
   "metadata": {
    "colab_type": "text",
    "id": "trXIN2R7tce7"
   },
   "source": [
    "## LM Start"
   ]
  },
  {
   "cell_type": "markdown",
   "metadata": {
    "colab_type": "text",
    "id": "pwA0dx6gfxlg"
   },
   "source": [
    "### step 1"
   ]
  },
  {
   "cell_type": "code",
   "execution_count": 0,
   "metadata": {
    "colab": {},
    "colab_type": "code",
    "id": "hZEUYjJQtFmA"
   },
   "outputs": [],
   "source": [
    "learn = language_model_learner(data_lm, AWD_LSTM, pretrained=False, drop_mult=0.5)"
   ]
  },
  {
   "cell_type": "code",
   "execution_count": 0,
   "metadata": {
    "colab": {},
    "colab_type": "code",
    "id": "ABO3w_wszhUs"
   },
   "outputs": [],
   "source": [
    "# learn.model"
   ]
  },
  {
   "cell_type": "code",
   "execution_count": 0,
   "metadata": {
    "colab": {
     "base_uri": "https://localhost:8080/",
     "height": 34
    },
    "colab_type": "code",
    "id": "8lyKGQzEtFmS",
    "outputId": "a2930a21-fc41-4c7e-8a58-b5e8334079a4"
   },
   "outputs": [
    {
     "data": {
      "text/html": [],
      "text/plain": [
       "<IPython.core.display.HTML object>"
      ]
     },
     "metadata": {
      "tags": []
     },
     "output_type": "display_data"
    },
    {
     "name": "stdout",
     "output_type": "stream",
     "text": [
      "LR Finder is complete, type {learner_name}.recorder.plot() to see the graph.\n"
     ]
    }
   ],
   "source": [
    "learn.lr_find()"
   ]
  },
  {
   "cell_type": "code",
   "execution_count": 0,
   "metadata": {
    "colab": {
     "base_uri": "https://localhost:8080/",
     "height": 361
    },
    "colab_type": "code",
    "id": "AsiF3jHBtFmm",
    "outputId": "58ceed96-42a1-4b51-bac1-4308a546b95b"
   },
   "outputs": [
    {
     "data": {
      "image/png": "[encoded data removed]",
      "text/plain": [
       "<Figure size 576x396 with 1 Axes>"
      ]
     },
     "metadata": {
      "tags": []
     },
     "output_type": "display_data"
    }
   ],
   "source": [
    "learn.recorder.plot()"
   ]
  },
  {
   "cell_type": "markdown",
   "metadata": {
    "colab_type": "text",
    "id": "Dmzxsp3wJ7Np"
   },
   "source": [
    "#### epochs"
   ]
  },
  {
   "cell_type": "code",
   "execution_count": 0,
   "metadata": {
    "colab": {
     "base_uri": "https://localhost:8080/",
     "height": 352
    },
    "colab_type": "code",
    "id": "rWTxJchN4W9F",
    "outputId": "f0a1da22-652b-4b6a-ad93-2ce7fff972e0"
   },
   "outputs": [
    {
     "data": {
      "text/html": [
       "Total time: 2:05:30 <p><table border=\"1\" class=\"dataframe\">\n",
       "  <thead>\n",
       "    <tr style=\"text-align: left;\">\n",
       "      <th>epoch</th>\n",
       "      <th>train_loss</th>\n",
       "      <th>valid_loss</th>\n",
       "      <th>accuracy</th>\n",
       "      <th>time</th>\n",
       "    </tr>\n",
       "  </thead>\n",
       "  <tbody>\n",
       "    <tr>\n",
       "      <td>0</td>\n",
       "      <td>4.843805</td>\n",
       "      <td>4.740394</td>\n",
       "      <td>0.292346</td>\n",
       "      <td>2:05:29</td>\n",
       "    </tr>\n",
       "  </tbody>\n",
       "</table>"
      ],
      "text/plain": [
       "<IPython.core.display.HTML object>"
      ]
     },
     "metadata": {
      "tags": []
     },
     "output_type": "display_data"
    },
    {
     "data": {
      "image/png": "[encoded data removed]",
      "text/plain": [
       "<Figure size 432x288 with 1 Axes>"
      ]
     },
     "metadata": {
      "tags": []
     },
     "output_type": "display_data"
    }
   ],
   "source": [
    "learn.fit_one_cycle(1, 1e-3)\n",
    "learn.save('full_doc_lm'); #1st"
   ]
  },
  {
   "cell_type": "code",
   "execution_count": 0,
   "metadata": {
    "colab": {
     "base_uri": "https://localhost:8080/",
     "height": 352
    },
    "colab_type": "code",
    "id": "10WAffuW3IUL",
    "outputId": "6d77badc-7efb-4d0d-b88c-b9beb71525ab"
   },
   "outputs": [
    {
     "data": {
      "text/html": [
       "Total time: 1:49:06 <p><table border=\"1\" class=\"dataframe\">\n",
       "  <thead>\n",
       "    <tr style=\"text-align: left;\">\n",
       "      <th>epoch</th>\n",
       "      <th>train_loss</th>\n",
       "      <th>valid_loss</th>\n",
       "      <th>accuracy</th>\n",
       "      <th>time</th>\n",
       "    </tr>\n",
       "  </thead>\n",
       "  <tbody>\n",
       "    <tr>\n",
       "      <td>0</td>\n",
       "      <td>4.451422</td>\n",
       "      <td>4.428603</td>\n",
       "      <td>0.317231</td>\n",
       "      <td>1:49:05</td>\n",
       "    </tr>\n",
       "  </tbody>\n",
       "</table>"
      ],
      "text/plain": [
       "<IPython.core.display.HTML object>"
      ]
     },
     "metadata": {
      "tags": []
     },
     "output_type": "display_data"
    },
    {
     "data": {
      "image/png": "[encoded data removed]",
      "text/plain": [
       "<Figure size 432x288 with 1 Axes>"
      ]
     },
     "metadata": {
      "tags": []
     },
     "output_type": "display_data"
    }
   ],
   "source": [
    "learn.fit_one_cycle(1, 1e-3)\n",
    "learn.save('full_doc_lm'); #2nd"
   ]
  },
  {
   "cell_type": "code",
   "execution_count": 0,
   "metadata": {
    "colab": {
     "base_uri": "https://localhost:8080/",
     "height": 352
    },
    "colab_type": "code",
    "id": "LyOxO67eammn",
    "outputId": "333e21b4-a088-4080-9734-9b548f33a359"
   },
   "outputs": [
    {
     "data": {
      "text/html": [
       "Total time: 1:49:07 <p><table border=\"1\" class=\"dataframe\">\n",
       "  <thead>\n",
       "    <tr style=\"text-align: left;\">\n",
       "      <th>epoch</th>\n",
       "      <th>train_loss</th>\n",
       "      <th>valid_loss</th>\n",
       "      <th>accuracy</th>\n",
       "      <th>time</th>\n",
       "    </tr>\n",
       "  </thead>\n",
       "  <tbody>\n",
       "    <tr>\n",
       "      <td>0</td>\n",
       "      <td>4.271491</td>\n",
       "      <td>4.290177</td>\n",
       "      <td>0.329496</td>\n",
       "      <td>1:49:06</td>\n",
       "    </tr>\n",
       "  </tbody>\n",
       "</table>"
      ],
      "text/plain": [
       "<IPython.core.display.HTML object>"
      ]
     },
     "metadata": {
      "tags": []
     },
     "output_type": "display_data"
    },
    {
     "data": {
      "image/png": "[encoded data removed]",
      "text/plain": [
       "<Figure size 432x288 with 1 Axes>"
      ]
     },
     "metadata": {
      "tags": []
     },
     "output_type": "display_data"
    }
   ],
   "source": [
    "learn.fit_one_cycle(1, 1e-3)\n",
    "learn.save('full_doc_lm'); #3rd"
   ]
  },
  {
   "cell_type": "code",
   "execution_count": 0,
   "metadata": {
    "colab": {
     "base_uri": "https://localhost:8080/",
     "height": 352
    },
    "colab_type": "code",
    "id": "IzSVBur47tfG",
    "outputId": "30d6a243-0ebd-4271-a8ff-667c2d1fb0af"
   },
   "outputs": [
    {
     "data": {
      "text/html": [
       "Total time: 1:49:26 <p><table border=\"1\" class=\"dataframe\">\n",
       "  <thead>\n",
       "    <tr style=\"text-align: left;\">\n",
       "      <th>epoch</th>\n",
       "      <th>train_loss</th>\n",
       "      <th>valid_loss</th>\n",
       "      <th>accuracy</th>\n",
       "      <th>time</th>\n",
       "    </tr>\n",
       "  </thead>\n",
       "  <tbody>\n",
       "    <tr>\n",
       "      <td>0</td>\n",
       "      <td>4.429158</td>\n",
       "      <td>4.212704</td>\n",
       "      <td>0.337159</td>\n",
       "      <td>1:49:25</td>\n",
       "    </tr>\n",
       "  </tbody>\n",
       "</table>"
      ],
      "text/plain": [
       "<IPython.core.display.HTML object>"
      ]
     },
     "metadata": {
      "tags": []
     },
     "output_type": "display_data"
    },
    {
     "data": {
      "image/png": "[encoded data removed]",
      "text/plain": [
       "<Figure size 432x288 with 1 Axes>"
      ]
     },
     "metadata": {
      "tags": []
     },
     "output_type": "display_data"
    }
   ],
   "source": [
    "learn.fit_one_cycle(1, 1e-3)\n",
    "learn.save('full_doc_lm'); #4th"
   ]
  },
  {
   "cell_type": "code",
   "execution_count": 0,
   "metadata": {
    "colab": {
     "base_uri": "https://localhost:8080/",
     "height": 352
    },
    "colab_type": "code",
    "id": "8DjUkLEl7tbB",
    "outputId": "e2f3f9d3-ec67-4bc5-b817-97f41cd1a4ad"
   },
   "outputs": [
    {
     "data": {
      "text/html": [
       "Total time: 1:49:31 <p><table border=\"1\" class=\"dataframe\">\n",
       "  <thead>\n",
       "    <tr style=\"text-align: left;\">\n",
       "      <th>epoch</th>\n",
       "      <th>train_loss</th>\n",
       "      <th>valid_loss</th>\n",
       "      <th>accuracy</th>\n",
       "      <th>time</th>\n",
       "    </tr>\n",
       "  </thead>\n",
       "  <tbody>\n",
       "    <tr>\n",
       "      <td>0</td>\n",
       "      <td>4.242722</td>\n",
       "      <td>4.164794</td>\n",
       "      <td>0.342244</td>\n",
       "      <td>1:49:30</td>\n",
       "    </tr>\n",
       "  </tbody>\n",
       "</table>"
      ],
      "text/plain": [
       "<IPython.core.display.HTML object>"
      ]
     },
     "metadata": {
      "tags": []
     },
     "output_type": "display_data"
    },
    {
     "data": {
      "image/png": "[encoded data removed]",
      "text/plain": [
       "<Figure size 432x288 with 1 Axes>"
      ]
     },
     "metadata": {
      "tags": []
     },
     "output_type": "display_data"
    }
   ],
   "source": [
    "learn.fit_one_cycle(1, 1e-3)\n",
    "learn.save('full_doc_lm'); #5th"
   ]
  },
  {
   "cell_type": "code",
   "execution_count": 0,
   "metadata": {
    "colab": {
     "base_uri": "https://localhost:8080/",
     "height": 352
    },
    "colab_type": "code",
    "id": "5JnHT1e8JWCh",
    "outputId": "81d4ec75-a5df-42e3-8483-7f7a5f86bbff"
   },
   "outputs": [
    {
     "data": {
      "text/html": [
       "Total time: 1:58:48 <p><table border=\"1\" class=\"dataframe\">\n",
       "  <thead>\n",
       "    <tr style=\"text-align: left;\">\n",
       "      <th>epoch</th>\n",
       "      <th>train_loss</th>\n",
       "      <th>valid_loss</th>\n",
       "      <th>accuracy</th>\n",
       "      <th>time</th>\n",
       "    </tr>\n",
       "  </thead>\n",
       "  <tbody>\n",
       "    <tr>\n",
       "      <td>0</td>\n",
       "      <td>4.538415</td>\n",
       "      <td>4.438245</td>\n",
       "      <td>0.309874</td>\n",
       "      <td>1:58:47</td>\n",
       "    </tr>\n",
       "  </tbody>\n",
       "</table>"
      ],
      "text/plain": [
       "<IPython.core.display.HTML object>"
      ]
     },
     "metadata": {
      "tags": []
     },
     "output_type": "display_data"
    },
    {
     "data": {
      "image/png": "[encoded data removed]",
      "text/plain": [
       "<Figure size 432x288 with 1 Axes>"
      ]
     },
     "metadata": {
      "tags": []
     },
     "output_type": "display_data"
    }
   ],
   "source": [
    "# learn.fit_one_cycle(1, 1e-2)\n",
    "# learn.save('full_doc_lm_lr2'); #oops, restore to prev version"
   ]
  },
  {
   "cell_type": "code",
   "execution_count": 0,
   "metadata": {
    "colab": {
     "base_uri": "https://localhost:8080/",
     "height": 352
    },
    "colab_type": "code",
    "id": "fiqymwANtFni",
    "outputId": "3bc68bbe-8a2c-49b7-cdcc-a2fb4b68d4c7"
   },
   "outputs": [
    {
     "data": {
      "text/html": [
       "Total time: 1:58:42 <p><table border=\"1\" class=\"dataframe\">\n",
       "  <thead>\n",
       "    <tr style=\"text-align: left;\">\n",
       "      <th>epoch</th>\n",
       "      <th>train_loss</th>\n",
       "      <th>valid_loss</th>\n",
       "      <th>accuracy</th>\n",
       "      <th>time</th>\n",
       "    </tr>\n",
       "  </thead>\n",
       "  <tbody>\n",
       "    <tr>\n",
       "      <td>0</td>\n",
       "      <td>4.174669</td>\n",
       "      <td>4.115904</td>\n",
       "      <td>0.346226</td>\n",
       "      <td>1:58:41</td>\n",
       "    </tr>\n",
       "  </tbody>\n",
       "</table>"
      ],
      "text/plain": [
       "<IPython.core.display.HTML object>"
      ]
     },
     "metadata": {
      "tags": []
     },
     "output_type": "display_data"
    },
    {
     "data": {
      "image/png": "[encoded data removed]",
      "text/plain": [
       "<Figure size 432x288 with 1 Axes>"
      ]
     },
     "metadata": {
      "tags": []
     },
     "output_type": "display_data"
    }
   ],
   "source": [
    "learn.load('full_doc_lm');\n",
    "learn.fit_one_cycle(1, 1e-3)  #6th epoch\n",
    "learn.save('full_doc_lm');"
   ]
  },
  {
   "cell_type": "code",
   "execution_count": 0,
   "metadata": {
    "colab": {
     "base_uri": "https://localhost:8080/",
     "height": 352
    },
    "colab_type": "code",
    "id": "s_-_4cLiBXC5",
    "outputId": "912c5301-408d-4803-82eb-b6e865c336c5"
   },
   "outputs": [
    {
     "data": {
      "text/html": [
       "Total time: 1:58:47 <p><table border=\"1\" class=\"dataframe\">\n",
       "  <thead>\n",
       "    <tr style=\"text-align: left;\">\n",
       "      <th>epoch</th>\n",
       "      <th>train_loss</th>\n",
       "      <th>valid_loss</th>\n",
       "      <th>accuracy</th>\n",
       "      <th>time</th>\n",
       "    </tr>\n",
       "  </thead>\n",
       "  <tbody>\n",
       "    <tr>\n",
       "      <td>0</td>\n",
       "      <td>4.100557</td>\n",
       "      <td>4.072452</td>\n",
       "      <td>0.349533</td>\n",
       "      <td>1:58:46</td>\n",
       "    </tr>\n",
       "  </tbody>\n",
       "</table>"
      ],
      "text/plain": [
       "<IPython.core.display.HTML object>"
      ]
     },
     "metadata": {
      "tags": []
     },
     "output_type": "display_data"
    },
    {
     "data": {
      "image/png": "[encoded data removed]",
      "text/plain": [
       "<Figure size 432x288 with 1 Axes>"
      ]
     },
     "metadata": {
      "tags": []
     },
     "output_type": "display_data"
    }
   ],
   "source": [
    "learn.fit_one_cycle(1, 1e-3)  #7th epoch\n",
    "learn.save('full_doc_lm');"
   ]
  },
  {
   "cell_type": "code",
   "execution_count": 0,
   "metadata": {
    "colab": {
     "base_uri": "https://localhost:8080/",
     "height": 352
    },
    "colab_type": "code",
    "id": "vmetmKCRgDyT",
    "outputId": "9461e682-fc08-40ee-9dab-6b24b4697ae1"
   },
   "outputs": [
    {
     "data": {
      "text/html": [
       "Total time: 1:59:02 <p><table border=\"1\" class=\"dataframe\">\n",
       "  <thead>\n",
       "    <tr style=\"text-align: left;\">\n",
       "      <th>epoch</th>\n",
       "      <th>train_loss</th>\n",
       "      <th>valid_loss</th>\n",
       "      <th>accuracy</th>\n",
       "      <th>time</th>\n",
       "    </tr>\n",
       "  </thead>\n",
       "  <tbody>\n",
       "    <tr>\n",
       "      <td>0</td>\n",
       "      <td>4.091215</td>\n",
       "      <td>4.042947</td>\n",
       "      <td>0.351863</td>\n",
       "      <td>1:59:01</td>\n",
       "    </tr>\n",
       "  </tbody>\n",
       "</table>"
      ],
      "text/plain": [
       "<IPython.core.display.HTML object>"
      ]
     },
     "metadata": {
      "tags": []
     },
     "output_type": "display_data"
    },
    {
     "data": {
      "image/png": "[encoded data removed]",
      "text/plain": [
       "<Figure size 432x288 with 1 Axes>"
      ]
     },
     "metadata": {
      "tags": []
     },
     "output_type": "display_data"
    }
   ],
   "source": [
    "learn.fit_one_cycle(1, 1e-3)  #8th epoch\n",
    "learn.save('full_doc_lm');"
   ]
  },
  {
   "cell_type": "code",
   "execution_count": 0,
   "metadata": {
    "colab": {
     "base_uri": "https://localhost:8080/",
     "height": 352
    },
    "colab_type": "code",
    "id": "FIbFZOQlIqxx",
    "outputId": "52a51d4a-c91c-4509-83d8-d2deb5aa693a"
   },
   "outputs": [
    {
     "data": {
      "text/html": [
       "Total time: 1:55:08 <p><table border=\"1\" class=\"dataframe\">\n",
       "  <thead>\n",
       "    <tr style=\"text-align: left;\">\n",
       "      <th>epoch</th>\n",
       "      <th>train_loss</th>\n",
       "      <th>valid_loss</th>\n",
       "      <th>accuracy</th>\n",
       "      <th>time</th>\n",
       "    </tr>\n",
       "  </thead>\n",
       "  <tbody>\n",
       "    <tr>\n",
       "      <td>0</td>\n",
       "      <td>4.016239</td>\n",
       "      <td>4.018003</td>\n",
       "      <td>0.353910</td>\n",
       "      <td>1:55:07</td>\n",
       "    </tr>\n",
       "  </tbody>\n",
       "</table>"
      ],
      "text/plain": [
       "<IPython.core.display.HTML object>"
      ]
     },
     "metadata": {
      "tags": []
     },
     "output_type": "display_data"
    },
    {
     "data": {
      "image/png": "[encoded data removed]",
      "text/plain": [
       "<Figure size 432x288 with 1 Axes>"
      ]
     },
     "metadata": {
      "tags": []
     },
     "output_type": "display_data"
    }
   ],
   "source": [
    "learn.fit_one_cycle(1, 1e-3)  #9th epoch\n",
    "learn.save('full_doc_lm');"
   ]
  },
  {
   "cell_type": "code",
   "execution_count": 0,
   "metadata": {
    "colab": {},
    "colab_type": "code",
    "id": "Ce3nUI0GM_jT"
   },
   "outputs": [],
   "source": [
    "# learn.fit_one_cycle(1, slice(1e-3,1e-2))  #oops again\n",
    "# learn.save('full_doc_lm_lrs');"
   ]
  },
  {
   "cell_type": "code",
   "execution_count": 0,
   "metadata": {
    "colab": {
     "base_uri": "https://localhost:8080/",
     "height": 352
    },
    "colab_type": "code",
    "id": "bBx7_dE9JzL7",
    "outputId": "95c2cd4c-7d3c-4828-97d7-6b84eebc2c79"
   },
   "outputs": [
    {
     "data": {
      "text/html": [
       "Total time: 1:55:11 <p><table border=\"1\" class=\"dataframe\">\n",
       "  <thead>\n",
       "    <tr style=\"text-align: left;\">\n",
       "      <th>epoch</th>\n",
       "      <th>train_loss</th>\n",
       "      <th>valid_loss</th>\n",
       "      <th>accuracy</th>\n",
       "      <th>time</th>\n",
       "    </tr>\n",
       "  </thead>\n",
       "  <tbody>\n",
       "    <tr>\n",
       "      <td>0</td>\n",
       "      <td>4.158436</td>\n",
       "      <td>3.998608</td>\n",
       "      <td>0.355596</td>\n",
       "      <td>1:55:10</td>\n",
       "    </tr>\n",
       "  </tbody>\n",
       "</table>"
      ],
      "text/plain": [
       "<IPython.core.display.HTML object>"
      ]
     },
     "metadata": {
      "tags": []
     },
     "output_type": "display_data"
    },
    {
     "data": {
      "image/png": "[encoded data removed]",
      "text/plain": [
       "<Figure size 432x288 with 1 Axes>"
      ]
     },
     "metadata": {
      "tags": []
     },
     "output_type": "display_data"
    }
   ],
   "source": [
    "learn.fit_one_cycle(1, 1e-3) #10th epoch\n",
    "learn.save('full_doc_lm');"
   ]
  },
  {
   "cell_type": "code",
   "execution_count": 0,
   "metadata": {
    "colab": {
     "base_uri": "https://localhost:8080/",
     "height": 352
    },
    "colab_type": "code",
    "id": "y90smAvxlDqY",
    "outputId": "f7d46a56-0120-4152-a5b3-ebbdae910433"
   },
   "outputs": [
    {
     "data": {
      "text/html": [
       "Total time: 1:56:16 <p><table border=\"1\" class=\"dataframe\">\n",
       "  <thead>\n",
       "    <tr style=\"text-align: left;\">\n",
       "      <th>epoch</th>\n",
       "      <th>train_loss</th>\n",
       "      <th>valid_loss</th>\n",
       "      <th>accuracy</th>\n",
       "      <th>time</th>\n",
       "    </tr>\n",
       "  </thead>\n",
       "  <tbody>\n",
       "    <tr>\n",
       "      <td>0</td>\n",
       "      <td>4.110145</td>\n",
       "      <td>3.982155</td>\n",
       "      <td>0.356886</td>\n",
       "      <td>1:56:16</td>\n",
       "    </tr>\n",
       "  </tbody>\n",
       "</table>"
      ],
      "text/plain": [
       "<IPython.core.display.HTML object>"
      ]
     },
     "metadata": {
      "tags": []
     },
     "output_type": "display_data"
    },
    {
     "data": {
      "image/png": "[encoded data removed]",
      "text/plain": [
       "<Figure size 432x288 with 1 Axes>"
      ]
     },
     "metadata": {
      "tags": []
     },
     "output_type": "display_data"
    }
   ],
   "source": [
    "learn.fit_one_cycle(1, 1e-3) #11th epoch\n",
    "learn.save('full_doc_lm');"
   ]
  },
  {
   "cell_type": "code",
   "execution_count": 0,
   "metadata": {
    "colab": {
     "base_uri": "https://localhost:8080/",
     "height": 352
    },
    "colab_type": "code",
    "id": "_ch0C2nQAPPK",
    "outputId": "289dd603-e7a2-467d-e867-bc5f7016f9d3"
   },
   "outputs": [
    {
     "data": {
      "text/html": [
       "Total time: 1:56:15 <p><table border=\"1\" class=\"dataframe\">\n",
       "  <thead>\n",
       "    <tr style=\"text-align: left;\">\n",
       "      <th>epoch</th>\n",
       "      <th>train_loss</th>\n",
       "      <th>valid_loss</th>\n",
       "      <th>accuracy</th>\n",
       "      <th>time</th>\n",
       "    </tr>\n",
       "  </thead>\n",
       "  <tbody>\n",
       "    <tr>\n",
       "      <td>0</td>\n",
       "      <td>4.079539</td>\n",
       "      <td>3.967628</td>\n",
       "      <td>0.358229</td>\n",
       "      <td>1:56:14</td>\n",
       "    </tr>\n",
       "  </tbody>\n",
       "</table>"
      ],
      "text/plain": [
       "<IPython.core.display.HTML object>"
      ]
     },
     "metadata": {
      "tags": []
     },
     "output_type": "display_data"
    },
    {
     "data": {
      "image/png": "[encoded data removed]",
      "text/plain": [
       "<Figure size 432x288 with 1 Axes>"
      ]
     },
     "metadata": {
      "tags": []
     },
     "output_type": "display_data"
    }
   ],
   "source": [
    "learn.fit_one_cycle(1, 1e-3) #12th epoch\n",
    "learn.save('full_doc_lm');"
   ]
  },
  {
   "cell_type": "code",
   "execution_count": 0,
   "metadata": {
    "colab": {
     "base_uri": "https://localhost:8080/",
     "height": 34
    },
    "colab_type": "code",
    "id": "k_tEDQjbbC7Z",
    "outputId": "79ca76c1-5e86-40a0-a7eb-f7a0a30bb683"
   },
   "outputs": [
    {
     "data": {
      "text/plain": [
       "52.85900047039924"
      ]
     },
     "execution_count": 28,
     "metadata": {
      "tags": []
     },
     "output_type": "execute_result"
    }
   ],
   "source": [
    "exp(3.967628)"
   ]
  },
  {
   "cell_type": "code",
   "execution_count": 0,
   "metadata": {
    "colab": {
     "base_uri": "https://localhost:8080/",
     "height": 351
    },
    "colab_type": "code",
    "id": "ddMVBAvql8rr",
    "outputId": "51881933-b9b0-4b30-f479-ace491e17616"
   },
   "outputs": [
    {
     "data": {
      "text/html": [
       "Total time: 1:53:58 <p><table border=\"1\" class=\"dataframe\">\n",
       "  <thead>\n",
       "    <tr style=\"text-align: left;\">\n",
       "      <th>epoch</th>\n",
       "      <th>train_loss</th>\n",
       "      <th>valid_loss</th>\n",
       "      <th>accuracy</th>\n",
       "      <th>time</th>\n",
       "    </tr>\n",
       "  </thead>\n",
       "  <tbody>\n",
       "    <tr>\n",
       "      <td>0</td>\n",
       "      <td>4.017712</td>\n",
       "      <td>3.955716</td>\n",
       "      <td>0.359309</td>\n",
       "      <td>1:53:57</td>\n",
       "    </tr>\n",
       "  </tbody>\n",
       "</table>"
      ],
      "text/plain": [
       "<IPython.core.display.HTML object>"
      ]
     },
     "metadata": {
      "tags": []
     },
     "output_type": "display_data"
    },
    {
     "data": {
      "image/png": "[encoded data removed]",
      "text/plain": [
       "<Figure size 432x288 with 1 Axes>"
      ]
     },
     "metadata": {
      "tags": []
     },
     "output_type": "display_data"
    }
   ],
   "source": [
    "learn.fit_one_cycle(1, 1e-3) #13th epoch\n",
    "learn.save('full_doc_lm');"
   ]
  },
  {
   "cell_type": "code",
   "execution_count": 0,
   "metadata": {
    "colab": {
     "base_uri": "https://localhost:8080/",
     "height": 351
    },
    "colab_type": "code",
    "id": "h2PaiF1pTgKu",
    "outputId": "50b904b2-1d50-4a5b-e6c8-5e5a3f052b16"
   },
   "outputs": [
    {
     "data": {
      "text/html": [
       "Total time: 1:53:51 <p><table border=\"1\" class=\"dataframe\">\n",
       "  <thead>\n",
       "    <tr style=\"text-align: left;\">\n",
       "      <th>epoch</th>\n",
       "      <th>train_loss</th>\n",
       "      <th>valid_loss</th>\n",
       "      <th>accuracy</th>\n",
       "      <th>time</th>\n",
       "    </tr>\n",
       "  </thead>\n",
       "  <tbody>\n",
       "    <tr>\n",
       "      <td>0</td>\n",
       "      <td>3.892953</td>\n",
       "      <td>3.945857</td>\n",
       "      <td>0.360266</td>\n",
       "      <td>1:53:50</td>\n",
       "    </tr>\n",
       "  </tbody>\n",
       "</table>"
      ],
      "text/plain": [
       "<IPython.core.display.HTML object>"
      ]
     },
     "metadata": {
      "tags": []
     },
     "output_type": "display_data"
    },
    {
     "data": {
      "image/png": "[encoded data removed]",
      "text/plain": [
       "<Figure size 432x288 with 1 Axes>"
      ]
     },
     "metadata": {
      "tags": []
     },
     "output_type": "display_data"
    }
   ],
   "source": [
    "learn.fit_one_cycle(1, 1e-3) #14th epoch\n",
    "learn.save('full_doc_lm');"
   ]
  },
  {
   "cell_type": "code",
   "execution_count": 0,
   "metadata": {
    "colab": {
     "base_uri": "https://localhost:8080/",
     "height": 351
    },
    "colab_type": "code",
    "id": "NZUl0eV_uR5Z",
    "outputId": "96a17ab1-3135-41ea-a8ec-0e38b15eecc6"
   },
   "outputs": [
    {
     "data": {
      "text/html": [
       "Total time: 1:53:56 <p><table border=\"1\" class=\"dataframe\">\n",
       "  <thead>\n",
       "    <tr style=\"text-align: left;\">\n",
       "      <th>epoch</th>\n",
       "      <th>train_loss</th>\n",
       "      <th>valid_loss</th>\n",
       "      <th>accuracy</th>\n",
       "      <th>time</th>\n",
       "    </tr>\n",
       "  </thead>\n",
       "  <tbody>\n",
       "    <tr>\n",
       "      <td>0</td>\n",
       "      <td>4.017687</td>\n",
       "      <td>3.935934</td>\n",
       "      <td>0.361111</td>\n",
       "      <td>1:53:55</td>\n",
       "    </tr>\n",
       "  </tbody>\n",
       "</table>"
      ],
      "text/plain": [
       "<IPython.core.display.HTML object>"
      ]
     },
     "metadata": {
      "tags": []
     },
     "output_type": "display_data"
    },
    {
     "data": {
      "image/png": "[encoded data removed]",
      "text/plain": [
       "<Figure size 432x288 with 1 Axes>"
      ]
     },
     "metadata": {
      "tags": []
     },
     "output_type": "display_data"
    }
   ],
   "source": [
    "learn.fit_one_cycle(1, 1e-3) #15th epoch\n",
    "learn.save('full_doc_lm');"
   ]
  },
  {
   "cell_type": "code",
   "execution_count": 0,
   "metadata": {
    "colab": {
     "base_uri": "https://localhost:8080/",
     "height": 34
    },
    "colab_type": "code",
    "id": "dSXNOBEQKbMg",
    "outputId": "4a4939ec-da39-48ff-fa5e-a3bc1ba9a564"
   },
   "outputs": [
    {
     "data": {
      "text/plain": [
       "51.20995772747041"
      ]
     },
     "execution_count": 13,
     "metadata": {
      "tags": []
     },
     "output_type": "execute_result"
    }
   ],
   "source": [
    "exp(3.935934)"
   ]
  },
  {
   "cell_type": "code",
   "execution_count": 0,
   "metadata": {
    "colab": {},
    "colab_type": "code",
    "id": "yCw6KSvYlVly"
   },
   "outputs": [],
   "source": [
    "learn.load('full_doc_lm');"
   ]
  },
  {
   "cell_type": "code",
   "execution_count": 0,
   "metadata": {
    "colab": {
     "base_uri": "https://localhost:8080/",
     "height": 80
    },
    "colab_type": "code",
    "id": "fdMZc7xwDaoq",
    "outputId": "4bc5ff55-75d9-4a60-fb61-e472290ae0d9"
   },
   "outputs": [
    {
     "data": {
      "text/html": [
       "<table border=\"1\" class=\"dataframe\">\n",
       "  <thead>\n",
       "    <tr style=\"text-align: left;\">\n",
       "      <th>epoch</th>\n",
       "      <th>train_loss</th>\n",
       "      <th>valid_loss</th>\n",
       "      <th>accuracy</th>\n",
       "      <th>time</th>\n",
       "    </tr>\n",
       "  </thead>\n",
       "  <tbody>\n",
       "    <tr>\n",
       "      <td>0</td>\n",
       "      <td>3.923908</td>\n",
       "      <td>3.926655</td>\n",
       "      <td>0.362075</td>\n",
       "      <td>59:55</td>\n",
       "    </tr>\n",
       "  </tbody>\n",
       "</table>"
      ],
      "text/plain": [
       "<IPython.core.display.HTML object>"
      ]
     },
     "metadata": {
      "tags": []
     },
     "output_type": "display_data"
    }
   ],
   "source": [
    "learn.fit_one_cycle(1, 1e-3) #16th epoch\n",
    "learn.save('word_news_lm_16');"
   ]
  },
  {
   "cell_type": "code",
   "execution_count": 0,
   "metadata": {
    "colab": {
     "base_uri": "https://localhost:8080/",
     "height": 80
    },
    "colab_type": "code",
    "id": "QNRlArHcDalg",
    "outputId": "6a12fead-dd02-4001-b41c-3b709bbb9db6"
   },
   "outputs": [
    {
     "data": {
      "text/html": [
       "<table border=\"1\" class=\"dataframe\">\n",
       "  <thead>\n",
       "    <tr style=\"text-align: left;\">\n",
       "      <th>epoch</th>\n",
       "      <th>train_loss</th>\n",
       "      <th>valid_loss</th>\n",
       "      <th>accuracy</th>\n",
       "      <th>time</th>\n",
       "    </tr>\n",
       "  </thead>\n",
       "  <tbody>\n",
       "    <tr>\n",
       "      <td>0</td>\n",
       "      <td>3.963646</td>\n",
       "      <td>3.919847</td>\n",
       "      <td>0.362716</td>\n",
       "      <td>1:00:18</td>\n",
       "    </tr>\n",
       "  </tbody>\n",
       "</table>"
      ],
      "text/plain": [
       "<IPython.core.display.HTML object>"
      ]
     },
     "metadata": {
      "tags": []
     },
     "output_type": "display_data"
    }
   ],
   "source": [
    "learn.fit_one_cycle(1, 1e-3) #17th epoch\n",
    "learn.save('word_news_lm_17');"
   ]
  },
  {
   "cell_type": "code",
   "execution_count": 0,
   "metadata": {
    "colab": {
     "base_uri": "https://localhost:8080/",
     "height": 80
    },
    "colab_type": "code",
    "id": "IGxT5N-EDah-",
    "outputId": "ab9d98fd-fe08-4aed-9a8a-0fe2dba8b365"
   },
   "outputs": [
    {
     "data": {
      "text/html": [
       "<table border=\"1\" class=\"dataframe\">\n",
       "  <thead>\n",
       "    <tr style=\"text-align: left;\">\n",
       "      <th>epoch</th>\n",
       "      <th>train_loss</th>\n",
       "      <th>valid_loss</th>\n",
       "      <th>accuracy</th>\n",
       "      <th>time</th>\n",
       "    </tr>\n",
       "  </thead>\n",
       "  <tbody>\n",
       "    <tr>\n",
       "      <td>0</td>\n",
       "      <td>3.959783</td>\n",
       "      <td>3.912029</td>\n",
       "      <td>0.363435</td>\n",
       "      <td>1:00:18</td>\n",
       "    </tr>\n",
       "  </tbody>\n",
       "</table>"
      ],
      "text/plain": [
       "<IPython.core.display.HTML object>"
      ]
     },
     "metadata": {
      "tags": []
     },
     "output_type": "display_data"
    }
   ],
   "source": [
    "learn.fit_one_cycle(1, 1e-3) #18th epoch\n",
    "learn.save('word_news_lm_18');"
   ]
  },
  {
   "cell_type": "code",
   "execution_count": 0,
   "metadata": {
    "colab": {
     "base_uri": "https://localhost:8080/",
     "height": 80
    },
    "colab_type": "code",
    "id": "fzttKfTTcK-i",
    "outputId": "08f8e59f-90df-45f9-ad18-72fff6f57abb"
   },
   "outputs": [
    {
     "data": {
      "text/html": [
       "<table border=\"1\" class=\"dataframe\">\n",
       "  <thead>\n",
       "    <tr style=\"text-align: left;\">\n",
       "      <th>epoch</th>\n",
       "      <th>train_loss</th>\n",
       "      <th>valid_loss</th>\n",
       "      <th>accuracy</th>\n",
       "      <th>time</th>\n",
       "    </tr>\n",
       "  </thead>\n",
       "  <tbody>\n",
       "    <tr>\n",
       "      <td>0</td>\n",
       "      <td>3.898952</td>\n",
       "      <td>3.907198</td>\n",
       "      <td>0.364066</td>\n",
       "      <td>1:00:16</td>\n",
       "    </tr>\n",
       "  </tbody>\n",
       "</table>"
      ],
      "text/plain": [
       "<IPython.core.display.HTML object>"
      ]
     },
     "metadata": {
      "tags": []
     },
     "output_type": "display_data"
    }
   ],
   "source": [
    "learn.fit_one_cycle(1, 1e-3) #19th epoch\n",
    "learn.save('word_news_lm_19');"
   ]
  },
  {
   "cell_type": "code",
   "execution_count": 0,
   "metadata": {
    "colab": {
     "base_uri": "https://localhost:8080/",
     "height": 80
    },
    "colab_type": "code",
    "id": "857vE3QocK55",
    "outputId": "fad83fb3-bcde-43ca-affa-9f47b43812ff"
   },
   "outputs": [
    {
     "data": {
      "text/html": [
       "<table border=\"1\" class=\"dataframe\">\n",
       "  <thead>\n",
       "    <tr style=\"text-align: left;\">\n",
       "      <th>epoch</th>\n",
       "      <th>train_loss</th>\n",
       "      <th>valid_loss</th>\n",
       "      <th>accuracy</th>\n",
       "      <th>time</th>\n",
       "    </tr>\n",
       "  </thead>\n",
       "  <tbody>\n",
       "    <tr>\n",
       "      <td>0</td>\n",
       "      <td>3.954219</td>\n",
       "      <td>3.900178</td>\n",
       "      <td>0.364665</td>\n",
       "      <td>1:00:11</td>\n",
       "    </tr>\n",
       "  </tbody>\n",
       "</table>"
      ],
      "text/plain": [
       "<IPython.core.display.HTML object>"
      ]
     },
     "metadata": {
      "tags": []
     },
     "output_type": "display_data"
    }
   ],
   "source": [
    "learn.fit_one_cycle(1, 1e-3) #20th epoch\n",
    "learn.save('word_news_lm_20');"
   ]
  },
  {
   "cell_type": "code",
   "execution_count": 0,
   "metadata": {
    "colab": {
     "base_uri": "https://localhost:8080/",
     "height": 80
    },
    "colab_type": "code",
    "id": "CYclLAR2cKye",
    "outputId": "3939748a-0758-4e93-bd83-07b6fb282d3b"
   },
   "outputs": [
    {
     "data": {
      "text/html": [
       "<table border=\"1\" class=\"dataframe\">\n",
       "  <thead>\n",
       "    <tr style=\"text-align: left;\">\n",
       "      <th>epoch</th>\n",
       "      <th>train_loss</th>\n",
       "      <th>valid_loss</th>\n",
       "      <th>accuracy</th>\n",
       "      <th>time</th>\n",
       "    </tr>\n",
       "  </thead>\n",
       "  <tbody>\n",
       "    <tr>\n",
       "      <td>0</td>\n",
       "      <td>3.958878</td>\n",
       "      <td>3.894429</td>\n",
       "      <td>0.365300</td>\n",
       "      <td>1:00:07</td>\n",
       "    </tr>\n",
       "  </tbody>\n",
       "</table>"
      ],
      "text/plain": [
       "<IPython.core.display.HTML object>"
      ]
     },
     "metadata": {
      "tags": []
     },
     "output_type": "display_data"
    }
   ],
   "source": [
    "learn.fit_one_cycle(1, 1e-3) #21th epoch\n",
    "learn.save('word_news_lm_21');"
   ]
  },
  {
   "cell_type": "code",
   "execution_count": 0,
   "metadata": {
    "colab": {
     "base_uri": "https://localhost:8080/",
     "height": 80
    },
    "colab_type": "code",
    "id": "7z1L3rNY9eGT",
    "outputId": "89c8ca86-4256-4ed2-9886-aae1f84de745"
   },
   "outputs": [
    {
     "data": {
      "text/html": [
       "<table border=\"1\" class=\"dataframe\">\n",
       "  <thead>\n",
       "    <tr style=\"text-align: left;\">\n",
       "      <th>epoch</th>\n",
       "      <th>train_loss</th>\n",
       "      <th>valid_loss</th>\n",
       "      <th>accuracy</th>\n",
       "      <th>time</th>\n",
       "    </tr>\n",
       "  </thead>\n",
       "  <tbody>\n",
       "    <tr>\n",
       "      <td>0</td>\n",
       "      <td>3.875553</td>\n",
       "      <td>3.891065</td>\n",
       "      <td>0.365618</td>\n",
       "      <td>1:00:11</td>\n",
       "    </tr>\n",
       "  </tbody>\n",
       "</table>"
      ],
      "text/plain": [
       "<IPython.core.display.HTML object>"
      ]
     },
     "metadata": {
      "tags": []
     },
     "output_type": "display_data"
    }
   ],
   "source": [
    "learn.fit_one_cycle(1, 1e-3) #22th epoch\n",
    "learn.save('word_news_lm_22');"
   ]
  },
  {
   "cell_type": "code",
   "execution_count": 0,
   "metadata": {
    "colab": {
     "base_uri": "https://localhost:8080/",
     "height": 80
    },
    "colab_type": "code",
    "id": "dRRdkO9i9d_N",
    "outputId": "0ef6ab18-c5aa-4aef-b053-67f888a2548e"
   },
   "outputs": [
    {
     "data": {
      "text/html": [
       "<table border=\"1\" class=\"dataframe\">\n",
       "  <thead>\n",
       "    <tr style=\"text-align: left;\">\n",
       "      <th>epoch</th>\n",
       "      <th>train_loss</th>\n",
       "      <th>valid_loss</th>\n",
       "      <th>accuracy</th>\n",
       "      <th>time</th>\n",
       "    </tr>\n",
       "  </thead>\n",
       "  <tbody>\n",
       "    <tr>\n",
       "      <td>0</td>\n",
       "      <td>3.928270</td>\n",
       "      <td>3.886885</td>\n",
       "      <td>0.365921</td>\n",
       "      <td>1:00:17</td>\n",
       "    </tr>\n",
       "  </tbody>\n",
       "</table>"
      ],
      "text/plain": [
       "<IPython.core.display.HTML object>"
      ]
     },
     "metadata": {
      "tags": []
     },
     "output_type": "display_data"
    }
   ],
   "source": [
    "learn.fit_one_cycle(1, 1e-3) #23th epoch\n",
    "learn.save('word_news_lm_23');"
   ]
  },
  {
   "cell_type": "code",
   "execution_count": 0,
   "metadata": {
    "colab": {
     "base_uri": "https://localhost:8080/",
     "height": 80
    },
    "colab_type": "code",
    "id": "Afv_SGoi9d1o",
    "outputId": "8d0b79bc-ac1c-4cad-e55e-a4040406d8df"
   },
   "outputs": [
    {
     "data": {
      "text/html": [
       "<table border=\"1\" class=\"dataframe\">\n",
       "  <thead>\n",
       "    <tr style=\"text-align: left;\">\n",
       "      <th>epoch</th>\n",
       "      <th>train_loss</th>\n",
       "      <th>valid_loss</th>\n",
       "      <th>accuracy</th>\n",
       "      <th>time</th>\n",
       "    </tr>\n",
       "  </thead>\n",
       "  <tbody>\n",
       "    <tr>\n",
       "      <td>0</td>\n",
       "      <td>3.925411</td>\n",
       "      <td>3.882998</td>\n",
       "      <td>0.366440</td>\n",
       "      <td>1:00:12</td>\n",
       "    </tr>\n",
       "  </tbody>\n",
       "</table>"
      ],
      "text/plain": [
       "<IPython.core.display.HTML object>"
      ]
     },
     "metadata": {
      "tags": []
     },
     "output_type": "display_data"
    }
   ],
   "source": [
    "learn.fit_one_cycle(1, 1e-3) #24th epoch\n",
    "learn.save('word_news_lm_24');"
   ]
  },
  {
   "cell_type": "code",
   "execution_count": 0,
   "metadata": {
    "colab": {
     "base_uri": "https://localhost:8080/",
     "height": 80
    },
    "colab_type": "code",
    "id": "qwrHLKf8pfrO",
    "outputId": "eb331a90-aa9f-4246-beb2-bb9de475b50e"
   },
   "outputs": [
    {
     "data": {
      "text/html": [
       "<table border=\"1\" class=\"dataframe\">\n",
       "  <thead>\n",
       "    <tr style=\"text-align: left;\">\n",
       "      <th>epoch</th>\n",
       "      <th>train_loss</th>\n",
       "      <th>valid_loss</th>\n",
       "      <th>accuracy</th>\n",
       "      <th>time</th>\n",
       "    </tr>\n",
       "  </thead>\n",
       "  <tbody>\n",
       "    <tr>\n",
       "      <td>0</td>\n",
       "      <td>3.928081</td>\n",
       "      <td>3.877895</td>\n",
       "      <td>0.366900</td>\n",
       "      <td>1:00:13</td>\n",
       "    </tr>\n",
       "  </tbody>\n",
       "</table>"
      ],
      "text/plain": [
       "<IPython.core.display.HTML object>"
      ]
     },
     "metadata": {
      "tags": []
     },
     "output_type": "display_data"
    }
   ],
   "source": [
    "learn.fit_one_cycle(1, 1e-3) #25th epoch\n",
    "learn.save('word_news_lm_25');"
   ]
  },
  {
   "cell_type": "code",
   "execution_count": 0,
   "metadata": {
    "colab": {
     "base_uri": "https://localhost:8080/",
     "height": 80
    },
    "colab_type": "code",
    "id": "efVScV_Dpfgx",
    "outputId": "76278572-ee6f-4124-a6ee-f80ec225d6bc"
   },
   "outputs": [
    {
     "data": {
      "text/html": [
       "<table border=\"1\" class=\"dataframe\">\n",
       "  <thead>\n",
       "    <tr style=\"text-align: left;\">\n",
       "      <th>epoch</th>\n",
       "      <th>train_loss</th>\n",
       "      <th>valid_loss</th>\n",
       "      <th>accuracy</th>\n",
       "      <th>time</th>\n",
       "    </tr>\n",
       "  </thead>\n",
       "  <tbody>\n",
       "    <tr>\n",
       "      <td>0</td>\n",
       "      <td>3.840228</td>\n",
       "      <td>3.874800</td>\n",
       "      <td>0.367195</td>\n",
       "      <td>1:00:20</td>\n",
       "    </tr>\n",
       "  </tbody>\n",
       "</table>"
      ],
      "text/plain": [
       "<IPython.core.display.HTML object>"
      ]
     },
     "metadata": {
      "tags": []
     },
     "output_type": "display_data"
    }
   ],
   "source": [
    "learn.fit_one_cycle(1, 1e-3) #26th epoch\n",
    "learn.save('word_news_lm_26');"
   ]
  },
  {
   "cell_type": "code",
   "execution_count": 7,
   "metadata": {
    "colab": {
     "base_uri": "https://localhost:8080/",
     "height": 80
    },
    "colab_type": "code",
    "id": "Bwt2Iz0HpfTo",
    "outputId": "06950594-b6eb-44b9-be9a-fffecc5d04e9"
   },
   "outputs": [
    {
     "data": {
      "text/html": [
       "<table border=\"1\" class=\"dataframe\">\n",
       "  <thead>\n",
       "    <tr style=\"text-align: left;\">\n",
       "      <th>epoch</th>\n",
       "      <th>train_loss</th>\n",
       "      <th>valid_loss</th>\n",
       "      <th>accuracy</th>\n",
       "      <th>time</th>\n",
       "    </tr>\n",
       "  </thead>\n",
       "  <tbody>\n",
       "    <tr>\n",
       "      <td>0</td>\n",
       "      <td>3.850721</td>\n",
       "      <td>3.870495</td>\n",
       "      <td>0.367742</td>\n",
       "      <td>1:01:23</td>\n",
       "    </tr>\n",
       "  </tbody>\n",
       "</table>"
      ],
      "text/plain": [
       "<IPython.core.display.HTML object>"
      ]
     },
     "metadata": {
      "tags": []
     },
     "output_type": "display_data"
    }
   ],
   "source": [
    "learn.load('word_news_lm_26');\n",
    "learn.fit_one_cycle(1, 1e-3) #27th epoch\n",
    "learn.save('word_news_lm_27');"
   ]
  },
  {
   "cell_type": "code",
   "execution_count": 8,
   "metadata": {
    "colab": {
     "base_uri": "https://localhost:8080/",
     "height": 80
    },
    "colab_type": "code",
    "id": "myAnXNpCUFjS",
    "outputId": "bc26189f-ce41-4513-c974-a9349282976c"
   },
   "outputs": [
    {
     "data": {
      "text/html": [
       "<table border=\"1\" class=\"dataframe\">\n",
       "  <thead>\n",
       "    <tr style=\"text-align: left;\">\n",
       "      <th>epoch</th>\n",
       "      <th>train_loss</th>\n",
       "      <th>valid_loss</th>\n",
       "      <th>accuracy</th>\n",
       "      <th>time</th>\n",
       "    </tr>\n",
       "  </thead>\n",
       "  <tbody>\n",
       "    <tr>\n",
       "      <td>0</td>\n",
       "      <td>3.905784</td>\n",
       "      <td>3.866856</td>\n",
       "      <td>0.368077</td>\n",
       "      <td>1:01:33</td>\n",
       "    </tr>\n",
       "  </tbody>\n",
       "</table>"
      ],
      "text/plain": [
       "<IPython.core.display.HTML object>"
      ]
     },
     "metadata": {
      "tags": []
     },
     "output_type": "display_data"
    }
   ],
   "source": [
    "learn.fit_one_cycle(1, 1e-3) #28th epoch\n",
    "learn.save('word_news_lm_28');"
   ]
  },
  {
   "cell_type": "code",
   "execution_count": 9,
   "metadata": {
    "colab": {
     "base_uri": "https://localhost:8080/",
     "height": 80
    },
    "colab_type": "code",
    "id": "ytD1OOf1UFX-",
    "outputId": "9a00c341-0897-4fff-980e-b1067cb3ef2c"
   },
   "outputs": [
    {
     "data": {
      "text/html": [
       "<table border=\"1\" class=\"dataframe\">\n",
       "  <thead>\n",
       "    <tr style=\"text-align: left;\">\n",
       "      <th>epoch</th>\n",
       "      <th>train_loss</th>\n",
       "      <th>valid_loss</th>\n",
       "      <th>accuracy</th>\n",
       "      <th>time</th>\n",
       "    </tr>\n",
       "  </thead>\n",
       "  <tbody>\n",
       "    <tr>\n",
       "      <td>0</td>\n",
       "      <td>3.924835</td>\n",
       "      <td>3.864040</td>\n",
       "      <td>0.368324</td>\n",
       "      <td>1:01:38</td>\n",
       "    </tr>\n",
       "  </tbody>\n",
       "</table>"
      ],
      "text/plain": [
       "<IPython.core.display.HTML object>"
      ]
     },
     "metadata": {
      "tags": []
     },
     "output_type": "display_data"
    }
   ],
   "source": [
    "learn.fit_one_cycle(1, 1e-3) #29th epoch\n",
    "learn.save('word_news_lm_29');"
   ]
  },
  {
   "cell_type": "code",
   "execution_count": 10,
   "metadata": {
    "colab": {
     "base_uri": "https://localhost:8080/",
     "height": 80
    },
    "colab_type": "code",
    "id": "3pY_TyfBUWYP",
    "outputId": "e13bda2a-aed6-46f2-a256-910b0118cc45"
   },
   "outputs": [
    {
     "data": {
      "text/html": [
       "<table border=\"1\" class=\"dataframe\">\n",
       "  <thead>\n",
       "    <tr style=\"text-align: left;\">\n",
       "      <th>epoch</th>\n",
       "      <th>train_loss</th>\n",
       "      <th>valid_loss</th>\n",
       "      <th>accuracy</th>\n",
       "      <th>time</th>\n",
       "    </tr>\n",
       "  </thead>\n",
       "  <tbody>\n",
       "    <tr>\n",
       "      <td>0</td>\n",
       "      <td>3.789527</td>\n",
       "      <td>3.861170</td>\n",
       "      <td>0.368736</td>\n",
       "      <td>1:01:47</td>\n",
       "    </tr>\n",
       "  </tbody>\n",
       "</table>"
      ],
      "text/plain": [
       "<IPython.core.display.HTML object>"
      ]
     },
     "metadata": {
      "tags": []
     },
     "output_type": "display_data"
    }
   ],
   "source": [
    "learn.fit_one_cycle(1, 1e-3) #30th epoch\n",
    "learn.save('word_news_lm_30');"
   ]
  },
  {
   "cell_type": "markdown",
   "metadata": {
    "colab_type": "text",
    "id": "js7WpfyqtFnr"
   },
   "source": [
    "To complete the fine-tuning, we can then unfeeze and launch a new training."
   ]
  },
  {
   "cell_type": "markdown",
   "metadata": {
    "colab_type": "text",
    "id": "vDI4TENhtFoW"
   },
   "source": [
    "How good is our model? Well let's try to see what it predicts after a few given words."
   ]
  },
  {
   "cell_type": "code",
   "execution_count": 0,
   "metadata": {
    "colab": {},
    "colab_type": "code",
    "id": "jvUa3T6ntFs1"
   },
   "outputs": [],
   "source": [
    "TEXT = \"তিন\" #তিনি মারা গেছেন মাস তিনেক\n",
    "N_WORDS = 40\n",
    "N_SENTENCES = 3"
   ]
  },
  {
   "cell_type": "code",
   "execution_count": 0,
   "metadata": {
    "colab": {
     "base_uri": "https://localhost:8080/",
     "height": 89
    },
    "colab_type": "code",
    "id": "PO9l7mX72EPO",
    "outputId": "4c0497cf-5e7a-4c20-8b5d-980b5e38068e"
   },
   "outputs": [
    {
     "name": "stdout",
     "output_type": "stream",
     "text": [
      "তিন দিনের সফরে আজ মঙ্গলবার ঢাকা পৌঁছান প্রধানমন্ত্রী শেখ হাসিনা । আজ তিনি সকাল নয়টা থেকে দুপুর ১২টা পর্যন্ত এই সফরে যাবেন । গতকাল শুক্রবার সকালে প্রধানমন্ত্রীর সরকারি বাসভবন গণভবনে সাংবাদিকদের সামনে তিনি এ তথ্য জানান । খবর বাসসের । প্রধানমন্ত্রী\n",
      "তিন দিনের সফরে ঢাকা এসেছিলেন বাংলাদেশের স্পিকার শিরীন শারমিন চৌধুরী । রোববার সকালে প্রধানমন্ত্রীর সঙ্গে দেখা করে তিনি প্রথম আলো হাতে তুলে দেন । প্রধানমন্ত্রীর প্রেস সচিব এ কে এম শামীম চৌধুরী সাংবাদিকদের বলেন , “ মাননীয় প্রধানমন্ত্রী এই সেতু সম্পর্কে\n",
      "তিন দিনের সফরে সারা দেশে যাচ্ছেন প্রধানমন্ত্রী নরেন্দ্র মোদি । আজ সোমবার রাতে দিল্লির উদ্দেশে রওনা দেন তিনি । গতকাল বুধবার ( বৃহস্পতিবার ) রাতে ঢাকা ছাড়বে প্রধানমন্ত্রী । তাঁর সঙ্গে আছেন ভারতের সাবেক প্রধানমন্ত্রী নরেন্দ্র মোদি । এ উপলক্ষে গতকাল\n"
     ]
    }
   ],
   "source": [
    "print(\"\\n\".join(learn.predict(TEXT, N_WORDS, temperature=0.75) for _ in range(N_SENTENCES)))"
   ]
  },
  {
   "cell_type": "markdown",
   "metadata": {
    "colab_type": "text",
    "id": "IpkjD7HytFt4"
   },
   "source": [
    "We not only have to save the model, but also it's encoder, the part that's responsible for creating and updating the hidden state. For the next part, we don't care about the part that tries to guess the next word."
   ]
  },
  {
   "cell_type": "code",
   "execution_count": 0,
   "metadata": {
    "colab": {},
    "colab_type": "code",
    "id": "lt_v3E_14_R_"
   },
   "outputs": [],
   "source": [
    "learn.save_encoder('full_doc_lm_enc')"
   ]
  },
  {
   "cell_type": "markdown",
   "metadata": {
    "colab_type": "text",
    "id": "DXCw_hUaTfA9"
   },
   "source": [
    "## BAAD6 Dataset"
   ]
  },
  {
   "cell_type": "code",
   "execution_count": 0,
   "metadata": {
    "colab": {},
    "colab_type": "code",
    "id": "ABBk7cy4iJ3E"
   },
   "outputs": [],
   "source": [
    "aa = path/'Thesis Data'/'AA dataset'"
   ]
  },
  {
   "cell_type": "code",
   "execution_count": 0,
   "metadata": {
    "colab": {},
    "colab_type": "code",
    "id": "9jBYhuvaUuZG"
   },
   "outputs": [],
   "source": [
    "# Language model data AA\n",
    "data_lm_AA = TextLMDataBunch.from_csv(aa, 'ulm_train.csv', vocab=data_lm.train_ds.vocab, bs=bs)\n",
    "data_lm_AA.save('bhai_AA_data_lm.pkl')"
   ]
  },
  {
   "cell_type": "code",
   "execution_count": 0,
   "metadata": {
    "colab": {},
    "colab_type": "code",
    "id": "PHR1dF8zTen8"
   },
   "outputs": [],
   "source": [
    "# Classifier model data AA\n",
    "data_clas = TextClasDataBunch.from_csv(aa, 'ulm_train.csv', vocab=data_lm.train_ds.vocab, bs=bs)\n",
    "data_clas.save('bhai_AA_data_clas.pkl')"
   ]
  },
  {
   "cell_type": "code",
   "execution_count": 15,
   "metadata": {
    "colab": {
     "base_uri": "https://localhost:8080/",
     "height": 289
    },
    "colab_type": "code",
    "id": "H9QeU6t0VSnB",
    "outputId": "69b98fc9-7e46-4fdb-d32d-06e36e7623d1"
   },
   "outputs": [
    {
     "data": {
      "text/html": [
       "<table border=\"1\" class=\"dataframe\">\n",
       "  <thead>\n",
       "    <tr style=\"text-align: right;\">\n",
       "      <th>text</th>\n",
       "      <th>target</th>\n",
       "    </tr>\n",
       "  </thead>\n",
       "  <tbody>\n",
       "    <tr>\n",
       "      <td>xxbos দেখিতে xxunk xxunk একটু বড় ... লেখাটা ২০০৪ সালের অক্টোবরে লেখা । xxunk আগে একাধিকবার অনলাইনে প্রকাশিত । এই লেখাটা একাধিক কারণে আমার প্রিয় । প্রথমত , লেখাটা প্রায় এক আসনে লেখা , মাঝখানে শুধু xxunk একটু । দ্বিতীয়ত , এখন পর্যন্ত এটাই আমার xxunk xxunk ( আয়তনের দিক থেকে ) । তৃতীয়ত , এবং সবচেয়ে গুরুত্বপূর্ণ যে কারণটা , এমন একটা সময় এ লেখায় ধরে রাখা আছে ,</td>\n",
       "      <td>hm</td>\n",
       "    </tr>\n",
       "    <tr>\n",
       "      <td>xxbos দেখিতে xxunk xxunk একটু বড় ... লেখাটা ২০০৪ সালের অক্টোবরে লেখা । xxunk আগে একাধিকবার অনলাইনে প্রকাশিত । এই লেখাটা একাধিক কারণে আমার প্রিয় । প্রথমত , লেখাটা প্রায় এক আসনে লেখা , মাঝখানে শুধু xxunk একটু । দ্বিতীয়ত , এখন পর্যন্ত এটাই আমার xxunk xxunk ( আয়তনের দিক থেকে ) । তৃতীয়ত , এবং সবচেয়ে গুরুত্বপূর্ণ যে কারণটা , এমন একটা সময় এ লেখায় ধরে রাখা আছে ,</td>\n",
       "      <td>hm</td>\n",
       "    </tr>\n",
       "    <tr>\n",
       "      <td>xxbos চাহিদাপত্র ১ . মকবুল স্ক্রিন থেকে চোখ সরিয়ে পর্যবেক্ষণ ডেস্ক থেকে উঠে xxunk । তার মাথা টিপটিপ করে xxunk করছে , শরীরের কোষগুলো একটু পর পর যেন বিড়বিড় করে বলছে , এক কাপ কফি খাওয়া দরকার । xxunk \" xxunk \" একটা ছোটো xxunk , সর্বোচ্চ চারজন xxunk জন্যে তৈরি করা । কিন্তু মকবুলের মিশন xxunk । শুধু xxunk নয় , ফেলে আসা পৃথিবীর সাথে xxunk । আরও তিন</td>\n",
       "      <td>hm</td>\n",
       "    </tr>\n",
       "    <tr>\n",
       "      <td>xxbos আবাহন ১ . \" উনি একজন xxunk ছিলেন । \" শামীমের কণ্ঠস্বরে xxunk কোনো কমতি রইলো না । সোমা একটু শাসন করার চেষ্টা করলো স্বামীকে , \" নিজের দাদাকে কেউ xxunk বলে এভাবে ? \" শামীম বারান্দার কাঠের xxunk পা তুলে দিয়ে xxunk করে চায়ের কাপে চুমুক দিয়ে বললো , \" এই শর্মা বলে । আর xxunk , উনি আমার আপন দাদা নন । বাবার চাচা । xxunk ।</td>\n",
       "      <td>hm</td>\n",
       "    </tr>\n",
       "    <tr>\n",
       "      <td>xxbos গোয়েন্দা xxunk ও অজ্ঞান পার্টি রহস্য এক গোয়েন্দা xxunk চোখ গরম করে বললেন , \" এবারও কি সেবারের মতো দুই xxunk কেস নিয়ে হাজির হলেন নাকি ? \" পুলিশের গোয়েন্দা বিভাগের ডাকসাইটে দারোগা xxunk xxunk আধ হাত xxunk কেটে বললেন , \" আর লজ্জা দেবেন না স্যার ! এবার একদম xxunk করিয়ে তবে এসেছি । এই দেখুন আমাদের ফরেনসিক এক্সপার্ট কেমিক্যাল আলির রিপোর্ট । \" xxunk xxunk xxunk xxunk</td>\n",
       "      <td>hm</td>\n",
       "    </tr>\n",
       "  </tbody>\n",
       "</table>"
      ],
      "text/plain": [
       "<IPython.core.display.HTML object>"
      ]
     },
     "metadata": {
      "tags": []
     },
     "output_type": "display_data"
    }
   ],
   "source": [
    "data_clas.show_batch()"
   ]
  },
  {
   "cell_type": "code",
   "execution_count": 16,
   "metadata": {
    "colab": {
     "base_uri": "https://localhost:8080/",
     "height": 306
    },
    "colab_type": "code",
    "id": "PJE0K7edVHfk",
    "outputId": "6fc892e9-7ae1-4342-e120-cc29e61787d5"
   },
   "outputs": [
    {
     "data": {
      "text/html": [
       "<table border=\"1\" class=\"dataframe\">\n",
       "  <thead>\n",
       "    <tr style=\"text-align: right;\">\n",
       "      <th>idx</th>\n",
       "      <th>text</th>\n",
       "    </tr>\n",
       "  </thead>\n",
       "  <tbody>\n",
       "    <tr>\n",
       "      <td>0</td>\n",
       "      <td>' আলী আহসান মুজাহিদ ... তুই রাজাকার ! চারিদিকে এখন যুদ্ধাপরাধী দের বিচারের xxunk মিলে আওয়াজ তুলে , বদলে দিতে xxunk আয় শাহবাগে xxunk যখন তার কাঙ্খিত কোন কিছু না পায় বা হারিয়ে ফেলে তখন উচিৎ - xxunk , মুলক - xxunk , ন্যায় - অন্যায় অনেক কিছুই চিন্তা করে । এই মূহুর্তে গোটা জাতি তথা বাঙালী একটি জিনিস হারিয়ে ফেলেছে , তা হলো সরকারের উপর আস্থা । আমার আড়াই</td>\n",
       "    </tr>\n",
       "    <tr>\n",
       "      <td>1</td>\n",
       "      <td>নেতৃত্বাধীন ২০ দলীয় জোট দায়ী । বর্তমানে দেশে যতটুকু গণতন্ত্র আছে তা কি জিয়া এরশাদের আমলে ছিল , যারা নানা xxunk বর্তমান গণতন্ত্রের ব্যাখ্যা দেন তারা একটু ভেবে দেখবেন । ১৯৭৫ - ১৯৯০ এই সময়টায় খুব লালন করে রাজনীতিতে ধর্মের ব্যবহার করা হয় । আর এই ব্যবহারের মাধ্যমে সূত্রপাত ঘটে মৌলবাদী উগ্রতা যার ফল আজকের সন্ত্রাসী কর্মকা- । জাতীয় xxunk ক্ষেত্রে নৈতিকতার বিষয়টিও দেখতে হবে , যেসব রাজনৈতিক দলে নৈতিক</td>\n",
       "    </tr>\n",
       "    <tr>\n",
       "      <td>2</td>\n",
       "      <td>করতে আমাদের উন্নয়ন অগ্রযাত্রায় আমরা এ অঞ্চলের বাকিদের এবং বিশ্বের সঙ্গে হাত মেলাতে চাই । ’ অনুরূপ বক্তব্যও উঠে এসেছে জাপান সোসাইটি বাংলাদেশ আয়োজিত শেখ হাসিনার সংবর্ধনা অনুষ্ঠানে প্রবাসী বাংলাদেশীদের কণ্ঠেও । তারাও বলেছেন , আমরা চাই বাংলাদেশ জি - ৭ এ যোগ দিয়ে সংস্থাটিকে জি - ৮ এ পরিণত করুক । জাপানের প্রধানমন্ত্রীও বাংলাদেশের অর্থনীতির অগ্রযাত্রাকে প্রশংসিত করে এক্ষেত্রে তার দেশের সহযোগিতার কথা গুরুত্ব দিয়ে বলেছেন । জি -</td>\n",
       "    </tr>\n",
       "    <tr>\n",
       "      <td>3</td>\n",
       "      <td>. তোমার নাচ xxunk xxunk , হ , xxunk । xxunk বলে xxunk প্রথমে রাজী হয় না । পরে রাজী হয় । ততক্ষণে ওরা এক মাঠের মতন নির্জন স্থানে চলে এসেছে । আকাশে ও চর xxunk মাটিতে গাছপালার ওপর গভীর ছায়া পড়েছে । শিউলি খুব রেডিও শোনে । সে অনেক গান জানে । xxunk xxunk । ‘ পলাশ ডাকা কোকিল ডাকা আমার এদেশ xxunk ক্ষেতে ঢেউ খেলানো এমন কোথাও xxunk</td>\n",
       "    </tr>\n",
       "    <tr>\n",
       "      <td>4</td>\n",
       "      <td>পক্ষে হলে এ কাজ xxunk কেন ? তোমার পৃথিবীতে কি মানুষকে আমার মতোই অত্যাচার করা হয় ? ' ' এখন আর করা হয় না । আপনার সব যুক্তি আমি মেনে নিচ্ছি । কিন্তু এই চান্দিনার তিরিশ হাজার মানুষের কথাও তো চিন্তা করে দেখা উচিত । ' ' চান্দিনার মানুষ আমার দাবি মেনে xxunk । ' নানা জসিম চৌধুরী খুব শান্ত গলায় বললো । ' তুমি এসে আমার একমাত্র সুযোগটা নষ্ট</td>\n",
       "    </tr>\n",
       "  </tbody>\n",
       "</table>"
      ],
      "text/plain": [
       "<IPython.core.display.HTML object>"
      ]
     },
     "metadata": {
      "tags": []
     },
     "output_type": "display_data"
    }
   ],
   "source": [
    "data_lm_AA.show_batch()"
   ]
  },
  {
   "cell_type": "markdown",
   "metadata": {
    "colab_type": "text",
    "id": "11qIGADber9I"
   },
   "source": [
    "#### LM"
   ]
  },
  {
   "cell_type": "code",
   "execution_count": 0,
   "metadata": {
    "colab": {},
    "colab_type": "code",
    "id": "CxqgSo3lhpz1"
   },
   "outputs": [],
   "source": [
    "data_clas=load_data(aa,'bhai_AA_data_clas.pkl',bs=bs)\n",
    "data_lm_AA=load_data(aa,'bhai_AA_data_lm.pkl',bs=bs)"
   ]
  },
  {
   "cell_type": "code",
   "execution_count": 0,
   "metadata": {
    "colab": {},
    "colab_type": "code",
    "id": "put6fhKvXVZA"
   },
   "outputs": [],
   "source": [
    "learn = language_model_learner(data_lm_AA, AWD_LSTM, pretrained=False, drop_mult=0.5)"
   ]
  },
  {
   "cell_type": "code",
   "execution_count": 0,
   "metadata": {
    "colab": {},
    "colab_type": "code",
    "id": "XHiwXzq9wUD_"
   },
   "outputs": [],
   "source": [
    "learn.load(pt/'models'/'word_news_lm_30');"
   ]
  },
  {
   "cell_type": "code",
   "execution_count": 20,
   "metadata": {
    "colab": {
     "base_uri": "https://localhost:8080/",
     "height": 300
    },
    "colab_type": "code",
    "id": "cYhG0WnIWRYi",
    "outputId": "ef34de54-7b47-4396-b30d-83da182fbf0a"
   },
   "outputs": [
    {
     "data": {
      "text/html": [],
      "text/plain": [
       "<IPython.core.display.HTML object>"
      ]
     },
     "metadata": {
      "tags": []
     },
     "output_type": "display_data"
    },
    {
     "name": "stdout",
     "output_type": "stream",
     "text": [
      "LR Finder is complete, type {learner_name}.recorder.plot() to see the graph.\n"
     ]
    },
    {
     "data": {
      "image/png": "[encoded data removed]",
      "text/plain": [
       "<Figure size 432x288 with 1 Axes>"
      ]
     },
     "metadata": {
      "tags": []
     },
     "output_type": "display_data"
    }
   ],
   "source": [
    "learn.freeze()\n",
    "learn.lr_find()\n",
    "learn.recorder.plot()"
   ]
  },
  {
   "cell_type": "code",
   "execution_count": 21,
   "metadata": {
    "colab": {
     "base_uri": "https://localhost:8080/",
     "height": 283
    },
    "colab_type": "code",
    "id": "YoxSPTf0WkVi",
    "outputId": "ee4b90fe-cdba-4c48-ec8a-0be4a7fa6d87"
   },
   "outputs": [
    {
     "data": {
      "image/png": "[encoded data removed]",
      "text/plain": [
       "<Figure size 432x288 with 1 Axes>"
      ]
     },
     "metadata": {
      "tags": []
     },
     "output_type": "display_data"
    }
   ],
   "source": [
    "learn.recorder.plot(skip_end=20)"
   ]
  },
  {
   "cell_type": "code",
   "execution_count": 22,
   "metadata": {
    "colab": {
     "base_uri": "https://localhost:8080/",
     "height": 111
    },
    "colab_type": "code",
    "id": "pqwFw1x0X9c6",
    "outputId": "f0663e0d-8759-421b-d8ec-01ffd427a886"
   },
   "outputs": [
    {
     "data": {
      "text/html": [
       "<table border=\"1\" class=\"dataframe\">\n",
       "  <thead>\n",
       "    <tr style=\"text-align: left;\">\n",
       "      <th>epoch</th>\n",
       "      <th>train_loss</th>\n",
       "      <th>valid_loss</th>\n",
       "      <th>accuracy</th>\n",
       "      <th>time</th>\n",
       "    </tr>\n",
       "  </thead>\n",
       "  <tbody>\n",
       "    <tr>\n",
       "      <td>0</td>\n",
       "      <td>5.361306</td>\n",
       "      <td>5.348073</td>\n",
       "      <td>0.221475</td>\n",
       "      <td>03:44</td>\n",
       "    </tr>\n",
       "    <tr>\n",
       "      <td>1</td>\n",
       "      <td>4.899442</td>\n",
       "      <td>5.189274</td>\n",
       "      <td>0.233513</td>\n",
       "      <td>03:52</td>\n",
       "    </tr>\n",
       "  </tbody>\n",
       "</table>"
      ],
      "text/plain": [
       "<IPython.core.display.HTML object>"
      ]
     },
     "metadata": {
      "tags": []
     },
     "output_type": "display_data"
    }
   ],
   "source": [
    "learn.fit_one_cycle(2, 1e-2)\n",
    "learn.save('bha_AA_lm_head');"
   ]
  },
  {
   "cell_type": "code",
   "execution_count": 23,
   "metadata": {
    "colab": {
     "base_uri": "https://localhost:8080/",
     "height": 205
    },
    "colab_type": "code",
    "id": "X2NQ1NTcYS06",
    "outputId": "f27391a4-ab8b-4d3d-bd77-e5787a9bfec6"
   },
   "outputs": [
    {
     "data": {
      "text/html": [
       "<table border=\"1\" class=\"dataframe\">\n",
       "  <thead>\n",
       "    <tr style=\"text-align: left;\">\n",
       "      <th>epoch</th>\n",
       "      <th>train_loss</th>\n",
       "      <th>valid_loss</th>\n",
       "      <th>accuracy</th>\n",
       "      <th>time</th>\n",
       "    </tr>\n",
       "  </thead>\n",
       "  <tbody>\n",
       "    <tr>\n",
       "      <td>0</td>\n",
       "      <td>5.234888</td>\n",
       "      <td>5.428479</td>\n",
       "      <td>0.220317</td>\n",
       "      <td>03:57</td>\n",
       "    </tr>\n",
       "    <tr>\n",
       "      <td>1</td>\n",
       "      <td>4.762582</td>\n",
       "      <td>5.245049</td>\n",
       "      <td>0.232745</td>\n",
       "      <td>03:57</td>\n",
       "    </tr>\n",
       "  </tbody>\n",
       "</table>"
      ],
      "text/plain": [
       "<IPython.core.display.HTML object>"
      ]
     },
     "metadata": {
      "tags": []
     },
     "output_type": "display_data"
    },
    {
     "data": {
      "text/html": [
       "<table border=\"1\" class=\"dataframe\">\n",
       "  <thead>\n",
       "    <tr style=\"text-align: left;\">\n",
       "      <th>epoch</th>\n",
       "      <th>train_loss</th>\n",
       "      <th>valid_loss</th>\n",
       "      <th>accuracy</th>\n",
       "      <th>time</th>\n",
       "    </tr>\n",
       "  </thead>\n",
       "  <tbody>\n",
       "    <tr>\n",
       "      <td>0</td>\n",
       "      <td>5.440943</td>\n",
       "      <td>5.634827</td>\n",
       "      <td>0.204411</td>\n",
       "      <td>04:20</td>\n",
       "    </tr>\n",
       "    <tr>\n",
       "      <td>1</td>\n",
       "      <td>4.836977</td>\n",
       "      <td>5.347992</td>\n",
       "      <td>0.225980</td>\n",
       "      <td>04:20</td>\n",
       "    </tr>\n",
       "  </tbody>\n",
       "</table>"
      ],
      "text/plain": [
       "<IPython.core.display.HTML object>"
      ]
     },
     "metadata": {
      "tags": []
     },
     "output_type": "display_data"
    }
   ],
   "source": [
    "learn.freeze_to(-2)\n",
    "learn.fit_one_cycle(2, 1e-2)\n",
    "learn.unfreeze()\n",
    "learn.fit_one_cycle(2, 1e-2)\n",
    "learn.save('bhai_AA_lm_body')"
   ]
  },
  {
   "cell_type": "code",
   "execution_count": 24,
   "metadata": {
    "colab": {
     "base_uri": "https://localhost:8080/",
     "height": 173
    },
    "colab_type": "code",
    "id": "X7UgmNcVimtr",
    "outputId": "45f6bcf8-5cdb-48ac-da17-690e3fafc0a1"
   },
   "outputs": [
    {
     "data": {
      "text/html": [
       "<table border=\"1\" class=\"dataframe\">\n",
       "  <thead>\n",
       "    <tr style=\"text-align: left;\">\n",
       "      <th>epoch</th>\n",
       "      <th>train_loss</th>\n",
       "      <th>valid_loss</th>\n",
       "      <th>accuracy</th>\n",
       "      <th>time</th>\n",
       "    </tr>\n",
       "  </thead>\n",
       "  <tbody>\n",
       "    <tr>\n",
       "      <td>0</td>\n",
       "      <td>4.405888</td>\n",
       "      <td>5.346663</td>\n",
       "      <td>0.226201</td>\n",
       "      <td>04:19</td>\n",
       "    </tr>\n",
       "    <tr>\n",
       "      <td>1</td>\n",
       "      <td>4.362830</td>\n",
       "      <td>5.306024</td>\n",
       "      <td>0.229188</td>\n",
       "      <td>04:20</td>\n",
       "    </tr>\n",
       "    <tr>\n",
       "      <td>2</td>\n",
       "      <td>4.179346</td>\n",
       "      <td>5.298857</td>\n",
       "      <td>0.230915</td>\n",
       "      <td>04:20</td>\n",
       "    </tr>\n",
       "    <tr>\n",
       "      <td>3</td>\n",
       "      <td>4.014832</td>\n",
       "      <td>5.313752</td>\n",
       "      <td>0.230489</td>\n",
       "      <td>04:21</td>\n",
       "    </tr>\n",
       "  </tbody>\n",
       "</table>"
      ],
      "text/plain": [
       "<IPython.core.display.HTML object>"
      ]
     },
     "metadata": {
      "tags": []
     },
     "output_type": "display_data"
    }
   ],
   "source": [
    "learn.fit_one_cycle(4, 1e-3)\n",
    "learn.save('bhai_AA_lm_body_2')"
   ]
  },
  {
   "cell_type": "code",
   "execution_count": 0,
   "metadata": {
    "colab": {},
    "colab_type": "code",
    "id": "11m6Vy-4imoC"
   },
   "outputs": [],
   "source": [
    "learn.save_encoder('bhai_AA_lm_enc')"
   ]
  },
  {
   "cell_type": "markdown",
   "metadata": {
    "colab_type": "text",
    "id": "uMnnPw9RewB8"
   },
   "source": [
    "#### Classifier"
   ]
  },
  {
   "cell_type": "code",
   "execution_count": 26,
   "metadata": {
    "colab": {
     "base_uri": "https://localhost:8080/",
     "height": 300
    },
    "colab_type": "code",
    "id": "6oJ2rUmEYygx",
    "outputId": "6a128245-a56b-4c19-d5d7-0570eff956cb"
   },
   "outputs": [
    {
     "data": {
      "text/html": [],
      "text/plain": [
       "<IPython.core.display.HTML object>"
      ]
     },
     "metadata": {
      "tags": []
     },
     "output_type": "display_data"
    },
    {
     "name": "stdout",
     "output_type": "stream",
     "text": [
      "LR Finder is complete, type {learner_name}.recorder.plot() to see the graph.\n"
     ]
    },
    {
     "data": {
      "image/png": "[encoded data removed]",
      "text/plain": [
       "<Figure size 432x288 with 1 Axes>"
      ]
     },
     "metadata": {
      "tags": []
     },
     "output_type": "display_data"
    }
   ],
   "source": [
    "learn_cls = text_classifier_learner(data_clas, AWD_LSTM, drop_mult=0.5, pretrained=False)\n",
    "learn_cls.load_encoder('bhai_AA_lm_enc')\n",
    "learn_cls.freeze()\n",
    "learn_cls.lr_find()\n",
    "learn_cls.recorder.plot()"
   ]
  },
  {
   "cell_type": "code",
   "execution_count": 27,
   "metadata": {
    "colab": {
     "base_uri": "https://localhost:8080/",
     "height": 111
    },
    "colab_type": "code",
    "id": "6X3OCIa3fyba",
    "outputId": "664359ed-419b-4259-c946-59a6c6ddb3ed"
   },
   "outputs": [
    {
     "data": {
      "text/html": [
       "<table border=\"1\" class=\"dataframe\">\n",
       "  <thead>\n",
       "    <tr style=\"text-align: left;\">\n",
       "      <th>epoch</th>\n",
       "      <th>train_loss</th>\n",
       "      <th>valid_loss</th>\n",
       "      <th>accuracy</th>\n",
       "      <th>time</th>\n",
       "    </tr>\n",
       "  </thead>\n",
       "  <tbody>\n",
       "    <tr>\n",
       "      <td>0</td>\n",
       "      <td>0.817132</td>\n",
       "      <td>0.278507</td>\n",
       "      <td>0.933518</td>\n",
       "      <td>01:23</td>\n",
       "    </tr>\n",
       "    <tr>\n",
       "      <td>1</td>\n",
       "      <td>0.482012</td>\n",
       "      <td>0.172570</td>\n",
       "      <td>0.958449</td>\n",
       "      <td>01:37</td>\n",
       "    </tr>\n",
       "  </tbody>\n",
       "</table>"
      ],
      "text/plain": [
       "<IPython.core.display.HTML object>"
      ]
     },
     "metadata": {
      "tags": []
     },
     "output_type": "display_data"
    }
   ],
   "source": [
    "learn_cls.fit_one_cycle(2, 1e-2, moms=(0.8,0.7))"
   ]
  },
  {
   "cell_type": "code",
   "execution_count": 0,
   "metadata": {
    "colab": {},
    "colab_type": "code",
    "id": "fWTAEiziiwtr"
   },
   "outputs": [],
   "source": [
    "learn_cls.save('bhai_cls')"
   ]
  },
  {
   "cell_type": "code",
   "execution_count": 29,
   "metadata": {
    "colab": {
     "base_uri": "https://localhost:8080/",
     "height": 111
    },
    "colab_type": "code",
    "id": "MNUCUWlYit1F",
    "outputId": "21720ee5-6e37-4c12-ac54-2424c74196a0"
   },
   "outputs": [
    {
     "data": {
      "text/html": [
       "<table border=\"1\" class=\"dataframe\">\n",
       "  <thead>\n",
       "    <tr style=\"text-align: left;\">\n",
       "      <th>epoch</th>\n",
       "      <th>train_loss</th>\n",
       "      <th>valid_loss</th>\n",
       "      <th>accuracy</th>\n",
       "      <th>time</th>\n",
       "    </tr>\n",
       "  </thead>\n",
       "  <tbody>\n",
       "    <tr>\n",
       "      <td>0</td>\n",
       "      <td>0.356634</td>\n",
       "      <td>0.216527</td>\n",
       "      <td>0.922438</td>\n",
       "      <td>01:36</td>\n",
       "    </tr>\n",
       "    <tr>\n",
       "      <td>1</td>\n",
       "      <td>0.259313</td>\n",
       "      <td>0.171009</td>\n",
       "      <td>0.950139</td>\n",
       "      <td>01:41</td>\n",
       "    </tr>\n",
       "  </tbody>\n",
       "</table>"
      ],
      "text/plain": [
       "<IPython.core.display.HTML object>"
      ]
     },
     "metadata": {
      "tags": []
     },
     "output_type": "display_data"
    }
   ],
   "source": [
    "learn_cls.freeze_to(-2)\n",
    "learn_cls.fit_one_cycle(2 , slice(1e-2/(2.6**4),1e-2), moms=(0.8,0.7))\n",
    "learn_cls.save('bhai_cls_2')"
   ]
  },
  {
   "cell_type": "code",
   "execution_count": 30,
   "metadata": {
    "colab": {
     "base_uri": "https://localhost:8080/",
     "height": 111
    },
    "colab_type": "code",
    "id": "l72-NKWCcWKU",
    "outputId": "3b161cdd-a3a2-4510-c646-2081faf034a3"
   },
   "outputs": [
    {
     "data": {
      "text/html": [
       "<table border=\"1\" class=\"dataframe\">\n",
       "  <thead>\n",
       "    <tr style=\"text-align: left;\">\n",
       "      <th>epoch</th>\n",
       "      <th>train_loss</th>\n",
       "      <th>valid_loss</th>\n",
       "      <th>accuracy</th>\n",
       "      <th>time</th>\n",
       "    </tr>\n",
       "  </thead>\n",
       "  <tbody>\n",
       "    <tr>\n",
       "      <td>0</td>\n",
       "      <td>0.202571</td>\n",
       "      <td>0.191210</td>\n",
       "      <td>0.939058</td>\n",
       "      <td>02:03</td>\n",
       "    </tr>\n",
       "    <tr>\n",
       "      <td>1</td>\n",
       "      <td>0.158585</td>\n",
       "      <td>0.133222</td>\n",
       "      <td>0.955679</td>\n",
       "      <td>01:55</td>\n",
       "    </tr>\n",
       "  </tbody>\n",
       "</table>"
      ],
      "text/plain": [
       "<IPython.core.display.HTML object>"
      ]
     },
     "metadata": {
      "tags": []
     },
     "output_type": "display_data"
    }
   ],
   "source": [
    "learn_cls.freeze_to(-3)\n",
    "learn_cls.fit_one_cycle(2 , slice(1e-2/(2.6**4),1e-2), moms=(0.8,0.7))\n",
    "learn_cls.save('bhai_cls_3')"
   ]
  },
  {
   "cell_type": "code",
   "execution_count": 31,
   "metadata": {
    "colab": {
     "base_uri": "https://localhost:8080/",
     "height": 173
    },
    "colab_type": "code",
    "id": "bmxT5CPeiTfc",
    "outputId": "352aaa70-8faa-4639-a82f-4227637b3155"
   },
   "outputs": [
    {
     "data": {
      "text/html": [
       "<table border=\"1\" class=\"dataframe\">\n",
       "  <thead>\n",
       "    <tr style=\"text-align: left;\">\n",
       "      <th>epoch</th>\n",
       "      <th>train_loss</th>\n",
       "      <th>valid_loss</th>\n",
       "      <th>accuracy</th>\n",
       "      <th>time</th>\n",
       "    </tr>\n",
       "  </thead>\n",
       "  <tbody>\n",
       "    <tr>\n",
       "      <td>0</td>\n",
       "      <td>0.095013</td>\n",
       "      <td>0.122180</td>\n",
       "      <td>0.958449</td>\n",
       "      <td>02:34</td>\n",
       "    </tr>\n",
       "    <tr>\n",
       "      <td>1</td>\n",
       "      <td>0.078008</td>\n",
       "      <td>0.119438</td>\n",
       "      <td>0.958449</td>\n",
       "      <td>02:26</td>\n",
       "    </tr>\n",
       "    <tr>\n",
       "      <td>2</td>\n",
       "      <td>0.063303</td>\n",
       "      <td>0.115731</td>\n",
       "      <td>0.961219</td>\n",
       "      <td>02:21</td>\n",
       "    </tr>\n",
       "    <tr>\n",
       "      <td>3</td>\n",
       "      <td>0.055163</td>\n",
       "      <td>0.117248</td>\n",
       "      <td>0.961219</td>\n",
       "      <td>02:24</td>\n",
       "    </tr>\n",
       "  </tbody>\n",
       "</table>"
      ],
      "text/plain": [
       "<IPython.core.display.HTML object>"
      ]
     },
     "metadata": {
      "tags": []
     },
     "output_type": "display_data"
    }
   ],
   "source": [
    "learn_cls.unfreeze()\n",
    "learn_cls.fit_one_cycle(4, slice(1e-3/(2.6**4),1e-3), moms=(0.8,0.7))\n",
    "learn_cls.save('bhai_cls_4')"
   ]
  },
  {
   "cell_type": "markdown",
   "metadata": {
    "colab_type": "text",
    "id": "2CtrgS5vlJ6C"
   },
   "source": [
    "#### Test"
   ]
  },
  {
   "cell_type": "code",
   "execution_count": 0,
   "metadata": {
    "colab": {},
    "colab_type": "code",
    "id": "otThocgbcmoO"
   },
   "outputs": [],
   "source": [
    "def testing(dts):\n",
    "  df = pd.read_csv(dts) \n",
    "  text_array = df[\"text\"].tolist()\n",
    "  print(len(text_array))\n",
    "\n",
    "  final_preds = []\n",
    "\n",
    "  for text in text_array:\n",
    "      preds = learn_cls.predict(text)\n",
    "      final_preds.append(str(preds[0]))\n",
    "\n",
    "  targets = df[\"label\"].tolist()\n",
    "\n",
    "  err=[]\n",
    "  count =0;\n",
    "  tst = len(text_array)\n",
    "\n",
    "  for i in range(tst):\n",
    "      if(targets[i]==final_preds[i]):\n",
    "          count = count+1\n",
    "      else:\n",
    "  #         print(targets[i] + \", \" + final_preds[i] + ';')\n",
    "          err.append((targets[i],final_preds[i]))\n",
    "  print(\"Accuracy: \")\n",
    "  print(count/tst)\n",
    "  print(err)\n",
    "  \n",
    "  return final_preds,targets"
   ]
  },
  {
   "cell_type": "code",
   "execution_count": 33,
   "metadata": {
    "colab": {
     "base_uri": "https://localhost:8080/",
     "height": 105
    },
    "colab_type": "code",
    "id": "tRrfk0I_leKA",
    "outputId": "d8544aa8-b908-4994-a89c-321a107a4cc2"
   },
   "outputs": [
    {
     "name": "stdout",
     "output_type": "stream",
     "text": [
      "300\n",
      "Accuracy: \n",
      "0.9466666666666667\n",
      "[('rg', 'mk'), ('rn', 'ij'), ('rn', 'mk'), ('rn', 'mk'), ('rg', 'rn'), ('ij', 'rn'), ('rg', 'mk'), ('rn', 'ij'), ('rg', 'ij'), ('hm', 'mk'), ('rg', 'mk'), ('fe', 'mk'), ('rn', 'mk'), ('mk', 'fe'), ('rn', 'mk'), ('rg', 'rn')]\n"
     ]
    }
   ],
   "source": [
    "pred,targ = testing(aa/'ulm_test.csv')"
   ]
  },
  {
   "cell_type": "code",
   "execution_count": 34,
   "metadata": {
    "colab": {
     "base_uri": "https://localhost:8080/",
     "height": 51
    },
    "colab_type": "code",
    "id": "Crm_6pWRckpz",
    "outputId": "76aaab52-bbb0-4ce6-96f5-cc896f1d2b55"
   },
   "outputs": [
    {
     "data": {
      "text/plain": [
       "(array([0.98    , 0.989899, 0.960784, 0.907407, 0.93617 , 0.907216]),\n",
       " 0.9469129031072011)"
      ]
     },
     "execution_count": 34,
     "metadata": {
      "tags": []
     },
     "output_type": "execute_result"
    }
   ],
   "source": [
    "from sklearn.metrics import f1_score\n",
    "out  = f1_score(targ, pred, average=None) #'macro' , also == weighted cuz dataset is balanced\n",
    "out , out.mean()"
   ]
  },
  {
   "cell_type": "code",
   "execution_count": 0,
   "metadata": {
    "colab": {},
    "colab_type": "code",
    "id": "f8wwimmCc8R6"
   },
   "outputs": [],
   "source": []
  }
 ],
 "metadata": {
  "accelerator": "GPU",
  "colab": {
   "collapsed_sections": [
    "FyiYxhpgucuj",
    "vAqQXxrKtFhy",
    "V2TTgczdsWdJ",
    "a48MqTTcVxP-",
    "ADJchncNgATq",
    "ctFZHOCmtFu5",
    "K4rfkN6MLCy6",
    "4GGiMsXiNOUJ",
    "oRdYlca9XFB-"
   ],
   "name": "ULMFiT Bangla (Full) .ipynb",
   "provenance": [],
   "version": "0.3.2"
  },
  "kernelspec": {
   "display_name": "Python 3",
   "language": "python",
   "name": "python3"
  },
  "language_info": {
   "codemirror_mode": {
    "name": "ipython",
    "version": 3
   },
   "file_extension": ".py",
   "mimetype": "text/x-python",
   "name": "python",
   "nbconvert_exporter": "python",
   "pygments_lexer": "ipython3",
   "version": "3.6.8"
  }
 },
 "nbformat": 4,
 "nbformat_minor": 1
}
