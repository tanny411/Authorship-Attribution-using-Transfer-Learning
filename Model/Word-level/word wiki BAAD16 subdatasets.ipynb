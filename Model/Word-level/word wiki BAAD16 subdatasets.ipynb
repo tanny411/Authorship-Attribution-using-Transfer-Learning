{
 "cells": [
  {
   "cell_type": "code",
   "execution_count": null,
   "metadata": {
    "colab": {
     "base_uri": "https://localhost:8080/",
     "height": 919
    },
    "colab_type": "code",
    "id": "OGa-bgsytFPI",
    "outputId": "0a80b064-fccc-4e6c-ae7c-f35a057eae31"
   },
   "outputs": [],
   "source": [
    "!pip install fastai==1.0.52\n",
    "from fastai import *\n",
    "from fastai.text import *"
   ]
  },
  {
   "cell_type": "markdown",
   "metadata": {
    "colab_type": "text",
    "id": "5KFJ_JA5tFP7"
   },
   "source": [
    "## Preparing the data"
   ]
  },
  {
   "cell_type": "code",
   "execution_count": 0,
   "metadata": {
    "colab": {
     "base_uri": "https://localhost:8080/",
     "height": 129
    },
    "colab_type": "code",
    "id": "9T6tFBp62HNa",
    "outputId": "691666e6-8262-4ec2-cd8a-7a95c4a8f9c0"
   },
   "outputs": [
    {
     "name": "stdout",
     "output_type": "stream",
     "text": [
      "Go to this URL in a browser: https://accounts.google.com/o/oauth2/auth?client_id=947318989803-6bn6qk8qdgf4n4g3pfee6491hc0brc4i.apps.googleusercontent.com&redirect_uri=urn%3Aietf%3Awg%3Aoauth%3A2.0%3Aoob&scope=email%20https%3A%2F%2Fwww.googleapis.com%2Fauth%2Fdocs.test%20https%3A%2F%2Fwww.googleapis.com%2Fauth%2Fdrive%20https%3A%2F%2Fwww.googleapis.com%2Fauth%2Fdrive.photos.readonly%20https%3A%2F%2Fwww.googleapis.com%2Fauth%2Fpeopleapi.readonly&response_type=code\n",
      "\n",
      "Enter your authorization code:\n",
      "··········\n",
      "Mounted at /content/gdrive\n"
     ]
    }
   ],
   "source": [
    "from google.colab import drive\n",
    "drive.mount('/content/gdrive')"
   ]
  },
  {
   "cell_type": "code",
   "execution_count": 0,
   "metadata": {
    "colab": {},
    "colab_type": "code",
    "id": "gcfgPh37tFQC"
   },
   "outputs": [],
   "source": [
    "import os\n",
    "path = Path(os.getcwd())\n",
    "path = path/'gdrive'/'My Drive'\n",
    "news=path/'Thesis Data'/'full doc csv'\n",
    "aa=path/'Thesis Data'/'Our dataset'\n",
    "aa2=path/'Thesis Data'/'AA dataset'\n",
    "wiki=path/'Thesis Data'/'wiki_data'/'Wiki'\n",
    "subsets = aa/'subsets'"
   ]
  },
  {
   "cell_type": "code",
   "execution_count": 0,
   "metadata": {
    "colab": {},
    "colab_type": "code",
    "id": "MNBGwpETtFh8"
   },
   "outputs": [],
   "source": [
    "bs=32"
   ]
  },
  {
   "cell_type": "code",
   "execution_count": 0,
   "metadata": {
    "colab": {},
    "colab_type": "code",
    "id": "6TxTxyr3tFjR"
   },
   "outputs": [],
   "source": [
    "data_lm = load_data(wiki, 'wiki_word.pkl' ,bs=bs)"
   ]
  },
  {
   "cell_type": "code",
   "execution_count": 0,
   "metadata": {
    "colab": {},
    "colab_type": "code",
    "id": "VwdbWAxp8z2G"
   },
   "outputs": [],
   "source": [
    "def testing(dts):\n",
    "  df = pd.read_csv(dts) \n",
    "  text_array = df[\"text\"].tolist()\n",
    "  print(len(text_array))\n",
    "\n",
    "  final_preds = []\n",
    "\n",
    "  for text in text_array:\n",
    "      preds = learn_cls.predict(text)\n",
    "      final_preds.append(str(preds[0]))\n",
    "\n",
    "  targets = df[\"label\"].tolist()\n",
    "\n",
    "  err=[]\n",
    "  count =0;\n",
    "  tst = len(text_array)\n",
    "\n",
    "  for i in range(tst):\n",
    "      if(targets[i]==final_preds[i]):\n",
    "          count = count+1\n",
    "      else:\n",
    "  #         print(targets[i] + \", \" + final_preds[i] + ';')\n",
    "          err.append((targets[i],final_preds[i]))\n",
    "  print(\"Accuracy: \")\n",
    "  print(count/tst)\n",
    "  print(err)\n",
    "  return final_preds,targets"
   ]
  },
  {
   "cell_type": "markdown",
   "metadata": {
    "colab_type": "text",
    "id": "CaxScXEb5xoO"
   },
   "source": [
    "## 6 Authors"
   ]
  },
  {
   "cell_type": "markdown",
   "metadata": {
    "colab_type": "text",
    "id": "ADJchncNgATq"
   },
   "source": [
    "### LM tuning"
   ]
  },
  {
   "cell_type": "code",
   "execution_count": 0,
   "metadata": {
    "colab": {},
    "colab_type": "code",
    "id": "pX7yAI1qWGq_"
   },
   "outputs": [],
   "source": [
    "# Language model data AA\n",
    "data_lm_AA = TextLMDataBunch.from_csv(subsets, '6train.csv', vocab=data_lm.train_ds.vocab, bs=bs)\n",
    "data_lm_AA.save('6train_data_lm_wiki.pkl')"
   ]
  },
  {
   "cell_type": "code",
   "execution_count": 0,
   "metadata": {
    "colab": {},
    "colab_type": "code",
    "id": "-STlBorCXcUP"
   },
   "outputs": [],
   "source": [
    "data_lm_AA=load_data(subsets,'6train_data_lm_wiki.pkl',bs=bs)"
   ]
  },
  {
   "cell_type": "code",
   "execution_count": 0,
   "metadata": {
    "colab": {},
    "colab_type": "code",
    "id": "nSMtByT7gB2f"
   },
   "outputs": [],
   "source": [
    "learn = language_model_learner(data_lm_AA, AWD_LSTM, pretrained=False, drop_mult=0.5)"
   ]
  },
  {
   "cell_type": "code",
   "execution_count": 0,
   "metadata": {
    "colab": {},
    "colab_type": "code",
    "id": "SvBXJO-6g7Z6"
   },
   "outputs": [],
   "source": [
    "learn.load(wiki/'models'/'wiki_word_lm_30');"
   ]
  },
  {
   "cell_type": "code",
   "execution_count": 0,
   "metadata": {
    "colab": {},
    "colab_type": "code",
    "id": "HfEyFDfnz3KE"
   },
   "outputs": [],
   "source": [
    "learn.freeze()"
   ]
  },
  {
   "cell_type": "code",
   "execution_count": 0,
   "metadata": {
    "colab": {
     "base_uri": "https://localhost:8080/",
     "height": 300
    },
    "colab_type": "code",
    "id": "tmp9LLKwg6rk",
    "outputId": "a218a335-990b-43d1-c621-dc8460083554"
   },
   "outputs": [
    {
     "data": {
      "text/html": [],
      "text/plain": [
       "<IPython.core.display.HTML object>"
      ]
     },
     "metadata": {
      "tags": []
     },
     "output_type": "display_data"
    },
    {
     "name": "stdout",
     "output_type": "stream",
     "text": [
      "LR Finder is complete, type {learner_name}.recorder.plot() to see the graph.\n"
     ]
    },
    {
     "data": {
      "image/png": "[encoded data removed]",
      "text/plain": [
       "<Figure size 432x288 with 1 Axes>"
      ]
     },
     "metadata": {
      "tags": []
     },
     "output_type": "display_data"
    }
   ],
   "source": [
    "learn.lr_find()\n",
    "learn.recorder.plot()"
   ]
  },
  {
   "cell_type": "code",
   "execution_count": 0,
   "metadata": {
    "colab": {
     "base_uri": "https://localhost:8080/",
     "height": 283
    },
    "colab_type": "code",
    "id": "3RW0IjC5kfkW",
    "outputId": "4f7ca2e6-278a-4edd-93c9-6f27185710c8"
   },
   "outputs": [
    {
     "data": {
      "image/png": "[encoded data removed]",
      "text/plain": [
       "<Figure size 432x288 with 1 Axes>"
      ]
     },
     "metadata": {
      "tags": []
     },
     "output_type": "display_data"
    }
   ],
   "source": [
    "learn.recorder.plot(skip_end=15)"
   ]
  },
  {
   "cell_type": "code",
   "execution_count": 0,
   "metadata": {
    "colab": {
     "base_uri": "https://localhost:8080/",
     "height": 299
    },
    "colab_type": "code",
    "id": "dYJLmDPiDx8I",
    "outputId": "97e99f26-1fef-4e04-f4bd-1040bad472fa"
   },
   "outputs": [
    {
     "data": {
      "text/html": [
       "<table border=\"1\" class=\"dataframe\">\n",
       "  <thead>\n",
       "    <tr style=\"text-align: left;\">\n",
       "      <th>epoch</th>\n",
       "      <th>train_loss</th>\n",
       "      <th>valid_loss</th>\n",
       "      <th>accuracy</th>\n",
       "      <th>time</th>\n",
       "    </tr>\n",
       "  </thead>\n",
       "  <tbody>\n",
       "    <tr>\n",
       "      <td>0</td>\n",
       "      <td>4.693342</td>\n",
       "      <td>4.618749</td>\n",
       "      <td>0.287102</td>\n",
       "      <td>07:47</td>\n",
       "    </tr>\n",
       "    <tr>\n",
       "      <td>1</td>\n",
       "      <td>4.521294</td>\n",
       "      <td>4.491106</td>\n",
       "      <td>0.294660</td>\n",
       "      <td>07:55</td>\n",
       "    </tr>\n",
       "  </tbody>\n",
       "</table>"
      ],
      "text/plain": [
       "<IPython.core.display.HTML object>"
      ]
     },
     "metadata": {
      "tags": []
     },
     "output_type": "display_data"
    },
    {
     "data": {
      "text/html": [
       "<table border=\"1\" class=\"dataframe\">\n",
       "  <thead>\n",
       "    <tr style=\"text-align: left;\">\n",
       "      <th>epoch</th>\n",
       "      <th>train_loss</th>\n",
       "      <th>valid_loss</th>\n",
       "      <th>accuracy</th>\n",
       "      <th>time</th>\n",
       "    </tr>\n",
       "  </thead>\n",
       "  <tbody>\n",
       "    <tr>\n",
       "      <td>0</td>\n",
       "      <td>4.513679</td>\n",
       "      <td>4.489434</td>\n",
       "      <td>0.299679</td>\n",
       "      <td>08:01</td>\n",
       "    </tr>\n",
       "    <tr>\n",
       "      <td>1</td>\n",
       "      <td>4.284081</td>\n",
       "      <td>4.321071</td>\n",
       "      <td>0.311134</td>\n",
       "      <td>08:01</td>\n",
       "    </tr>\n",
       "  </tbody>\n",
       "</table>"
      ],
      "text/plain": [
       "<IPython.core.display.HTML object>"
      ]
     },
     "metadata": {
      "tags": []
     },
     "output_type": "display_data"
    },
    {
     "data": {
      "text/html": [
       "<table border=\"1\" class=\"dataframe\">\n",
       "  <thead>\n",
       "    <tr style=\"text-align: left;\">\n",
       "      <th>epoch</th>\n",
       "      <th>train_loss</th>\n",
       "      <th>valid_loss</th>\n",
       "      <th>accuracy</th>\n",
       "      <th>time</th>\n",
       "    </tr>\n",
       "  </thead>\n",
       "  <tbody>\n",
       "    <tr>\n",
       "      <td>0</td>\n",
       "      <td>4.423747</td>\n",
       "      <td>4.432250</td>\n",
       "      <td>0.303792</td>\n",
       "      <td>08:22</td>\n",
       "    </tr>\n",
       "    <tr>\n",
       "      <td>1</td>\n",
       "      <td>4.154693</td>\n",
       "      <td>4.253169</td>\n",
       "      <td>0.316986</td>\n",
       "      <td>08:23</td>\n",
       "    </tr>\n",
       "  </tbody>\n",
       "</table>"
      ],
      "text/plain": [
       "<IPython.core.display.HTML object>"
      ]
     },
     "metadata": {
      "tags": []
     },
     "output_type": "display_data"
    }
   ],
   "source": [
    "learn.freeze()\n",
    "learn.fit_one_cycle(2, 1e-2)\n",
    "learn.save('6train_wiki_lm_head');\n",
    "learn.freeze_to(-2)\n",
    "learn.fit_one_cycle(2, 1e-2)\n",
    "learn.save('6train_wiki_lm_body_1');\n",
    "learn.freeze_to(-3)\n",
    "learn.fit_one_cycle(2, 1e-2)\n",
    "learn.save('6train_wiki_lm_body_2');"
   ]
  },
  {
   "cell_type": "code",
   "execution_count": 0,
   "metadata": {
    "colab": {
     "base_uri": "https://localhost:8080/",
     "height": 173
    },
    "colab_type": "code",
    "id": "7D1mh9SeEFRx",
    "outputId": "e5954507-a38e-4fe8-e1b2-96f64725b771"
   },
   "outputs": [
    {
     "data": {
      "text/html": [
       "<table border=\"1\" class=\"dataframe\">\n",
       "  <thead>\n",
       "    <tr style=\"text-align: left;\">\n",
       "      <th>epoch</th>\n",
       "      <th>train_loss</th>\n",
       "      <th>valid_loss</th>\n",
       "      <th>accuracy</th>\n",
       "      <th>time</th>\n",
       "    </tr>\n",
       "  </thead>\n",
       "  <tbody>\n",
       "    <tr>\n",
       "      <td>0</td>\n",
       "      <td>4.028521</td>\n",
       "      <td>4.241046</td>\n",
       "      <td>0.317460</td>\n",
       "      <td>08:45</td>\n",
       "    </tr>\n",
       "    <tr>\n",
       "      <td>1</td>\n",
       "      <td>4.011321</td>\n",
       "      <td>4.214762</td>\n",
       "      <td>0.319345</td>\n",
       "      <td>08:45</td>\n",
       "    </tr>\n",
       "    <tr>\n",
       "      <td>2</td>\n",
       "      <td>3.938411</td>\n",
       "      <td>4.202052</td>\n",
       "      <td>0.320705</td>\n",
       "      <td>08:45</td>\n",
       "    </tr>\n",
       "    <tr>\n",
       "      <td>3</td>\n",
       "      <td>3.849516</td>\n",
       "      <td>4.205823</td>\n",
       "      <td>0.320362</td>\n",
       "      <td>08:45</td>\n",
       "    </tr>\n",
       "  </tbody>\n",
       "</table>"
      ],
      "text/plain": [
       "<IPython.core.display.HTML object>"
      ]
     },
     "metadata": {
      "tags": []
     },
     "output_type": "display_data"
    }
   ],
   "source": [
    "learn.unfreeze()\n",
    "learn.fit_one_cycle(4, 1e-3)\n",
    "learn.save('6train_wiki_lm_body_4'); #mistakely 4 ran before 3"
   ]
  },
  {
   "cell_type": "code",
   "execution_count": 0,
   "metadata": {
    "colab": {
     "base_uri": "https://localhost:8080/",
     "height": 173
    },
    "colab_type": "code",
    "id": "ZrbCO2JJD8vw",
    "outputId": "dba5fdb4-5f8b-47bd-eb56-232166aeeb2a"
   },
   "outputs": [
    {
     "data": {
      "text/html": [
       "<table border=\"1\" class=\"dataframe\">\n",
       "  <thead>\n",
       "    <tr style=\"text-align: left;\">\n",
       "      <th>epoch</th>\n",
       "      <th>train_loss</th>\n",
       "      <th>valid_loss</th>\n",
       "      <th>accuracy</th>\n",
       "      <th>time</th>\n",
       "    </tr>\n",
       "  </thead>\n",
       "  <tbody>\n",
       "    <tr>\n",
       "      <td>0</td>\n",
       "      <td>3.886607</td>\n",
       "      <td>4.210766</td>\n",
       "      <td>0.320044</td>\n",
       "      <td>08:45</td>\n",
       "    </tr>\n",
       "    <tr>\n",
       "      <td>1</td>\n",
       "      <td>3.928466</td>\n",
       "      <td>4.197102</td>\n",
       "      <td>0.320839</td>\n",
       "      <td>08:45</td>\n",
       "    </tr>\n",
       "    <tr>\n",
       "      <td>2</td>\n",
       "      <td>3.808330</td>\n",
       "      <td>4.197872</td>\n",
       "      <td>0.321079</td>\n",
       "      <td>08:45</td>\n",
       "    </tr>\n",
       "    <tr>\n",
       "      <td>3</td>\n",
       "      <td>3.735327</td>\n",
       "      <td>4.203638</td>\n",
       "      <td>0.320700</td>\n",
       "      <td>08:45</td>\n",
       "    </tr>\n",
       "  </tbody>\n",
       "</table>"
      ],
      "text/plain": [
       "<IPython.core.display.HTML object>"
      ]
     },
     "metadata": {
      "tags": []
     },
     "output_type": "display_data"
    }
   ],
   "source": [
    "learn.unfreeze()\n",
    "learn.fit_one_cycle(4, 1e-3)\n",
    "learn.save('6train_wiki_lm_body_3');"
   ]
  },
  {
   "cell_type": "code",
   "execution_count": 0,
   "metadata": {
    "colab": {},
    "colab_type": "code",
    "id": "jIMjoNNDq_yR"
   },
   "outputs": [],
   "source": [
    "learn.save_encoder('6train_wiki_lm_enc')"
   ]
  },
  {
   "cell_type": "markdown",
   "metadata": {
    "colab_type": "text",
    "id": "ctFZHOCmtFu5"
   },
   "source": [
    "### Classifier"
   ]
  },
  {
   "cell_type": "markdown",
   "metadata": {
    "colab_type": "text",
    "id": "zWR8Us9otFvJ"
   },
   "source": [
    "Now, we'll create a new data object that only grabs the labelled data and keeps those labels. Again, this line takes a bit of time."
   ]
  },
  {
   "cell_type": "code",
   "execution_count": 0,
   "metadata": {
    "colab": {},
    "colab_type": "code",
    "id": "xZtQAOmQferJ"
   },
   "outputs": [],
   "source": [
    "data_clas = TextClasDataBunch.from_csv(subsets, '6train.csv', vocab=data_lm.train_ds.vocab, bs=bs)\n",
    "data_clas.save('6train_data_clas_wiki.pkl')"
   ]
  },
  {
   "cell_type": "code",
   "execution_count": 0,
   "metadata": {
    "colab": {
     "base_uri": "https://localhost:8080/",
     "height": 289
    },
    "colab_type": "code",
    "id": "LG8FuxQptFv8",
    "outputId": "c8b36d30-94e2-481e-acf3-d8baf9f0105f"
   },
   "outputs": [
    {
     "data": {
      "text/html": [
       "<table border=\"1\" class=\"dataframe\">\n",
       "  <thead>\n",
       "    <tr style=\"text-align: right;\">\n",
       "      <th>text</th>\n",
       "      <th>target</th>\n",
       "    </tr>\n",
       "  </thead>\n",
       "  <tbody>\n",
       "    <tr>\n",
       "      <td>xxbos ছিল , xxunk পার হবার আগেই ওর xxunk হবে এবং সে xxunk ফিরে আসবে । আমাকে জোর xxunk কিছু করতে হবে না । কিন্তু সে xxunk xxunk না । আপনি এই চিঠি xxunk এমন ব্যবস্থা করবেন যেন সে xxunk ফিরে আসে । আমি একটি ব্যাপার খুব পরিষ্কার করে আপনাকে জানাতে চাই , তা হল — ও বোকা হোক , যা হোক , ওকে আমি অসম্ভব ভালবাসি । ভালবাসা মাপার</td>\n",
       "      <td>humayun_ahmed</td>\n",
       "    </tr>\n",
       "    <tr>\n",
       "      <td>xxbos মাত্র xxunk , এর xxunk দোকান বন্ধ । আমি xxunk দিকে xxunk বললাম , ভাল আছেন ? সে সরু চোখে xxunk । কিছু বলল না । ‘ xxunk xxunk ? ’ ‘ উনার চাকরি চলে গেছে । উনি xxunk আমি জানি না । ’ ‘ চাকরি গেল কেন ? ’ ‘ জানি না । মালিক জানে । আপনে উনার কে হন ? ’ ‘ কেউ হই না । টেলিফোন</td>\n",
       "      <td>humayun_ahmed</td>\n",
       "    </tr>\n",
       "    <tr>\n",
       "      <td>xxbos কও । ” “ xxunk xxunk আজ রাত্রে ডেকো না । ” “ কেন , মন খুলে আমি তো সবই xxunk xxunk । ও কি তাও xxunk না । ” “ xxunk xxunk । xxunk যে , মন তোমার খোলে নি । সুর xxunk না । ” “ কিছুতে বিশুদ্ধ হল না আমার মন ! এত মার xxunk ! কে বিশুদ্ধ করে দেবে । ওগো সন্ন্যাসী , আমাকে বাঁচাও</td>\n",
       "      <td>robindronath</td>\n",
       "    </tr>\n",
       "    <tr>\n",
       "      <td>xxbos ভাই xxunk শিখতে পারেননি । xxunk দিতে xxunk না । কিছু মনে করবেন না । আবদুর রশীদ xxunk আছে — আমি হাঁটা xxunk । মেসে ফিরে যাব । সারাদিন কিছু না xxunk xxunk xxunk পাক দিচ্ছে । মেসে রান্না xxunk কি - না খোঁজ নিতে হবে । xxunk ভাত সকাল সকাল নেমে xxunk । ভাত নেমে গেলে একটা ডিম ভেজে দিতে বলব । আগুন - গরম ভাত xxunk xxunk</td>\n",
       "      <td>humayun_ahmed</td>\n",
       "    </tr>\n",
       "    <tr>\n",
       "      <td>xxbos খুবই ভাল লাগে ? ’ ‘ এইসব ভাল লাগার ব্যাপার ? তুই একটা xxunk xxunk … . ‘ আমি কোন xxunk xxunk মামা । ’ ‘ তোর xxunk একজন xxunk । ব্যাপার একই । ভাই xxunk , বন্ধু এদের না দেখলে দেখব কাকে ? xxunk xxunk দেখব ? ‘ মামা কিছু xxunk ? হোটেল সারারাত খোলা থাকে । xxunk যাই । ’ ‘ না কিছু xxunk না । ফজরের</td>\n",
       "      <td>humayun_ahmed</td>\n",
       "    </tr>\n",
       "  </tbody>\n",
       "</table>"
      ],
      "text/plain": [
       "<IPython.core.display.HTML object>"
      ]
     },
     "metadata": {
      "tags": []
     },
     "output_type": "display_data"
    }
   ],
   "source": [
    "data_clas.show_batch()"
   ]
  },
  {
   "cell_type": "code",
   "execution_count": 0,
   "metadata": {
    "colab": {},
    "colab_type": "code",
    "id": "xjxFZmuy5U8N"
   },
   "outputs": [],
   "source": [
    "learn_cls = text_classifier_learner(data_clas, AWD_LSTM, drop_mult=0.5, pretrained=False)"
   ]
  },
  {
   "cell_type": "code",
   "execution_count": 0,
   "metadata": {
    "colab": {},
    "colab_type": "code",
    "id": "VnRM48iY5XK8"
   },
   "outputs": [],
   "source": [
    "learn_cls.load_encoder('6train_wiki_lm_enc')"
   ]
  },
  {
   "cell_type": "code",
   "execution_count": 0,
   "metadata": {
    "colab": {},
    "colab_type": "code",
    "id": "rl4SX_7eIVE6"
   },
   "outputs": [],
   "source": [
    "learn_cls.freeze()"
   ]
  },
  {
   "cell_type": "code",
   "execution_count": 0,
   "metadata": {
    "colab": {
     "base_uri": "https://localhost:8080/",
     "height": 34
    },
    "colab_type": "code",
    "id": "RAbMfjcftFyB",
    "outputId": "76175f91-4751-4320-c119-864a882bdc44"
   },
   "outputs": [
    {
     "data": {
      "text/html": [],
      "text/plain": [
       "<IPython.core.display.HTML object>"
      ]
     },
     "metadata": {
      "tags": []
     },
     "output_type": "display_data"
    },
    {
     "name": "stdout",
     "output_type": "stream",
     "text": [
      "LR Finder is complete, type {learner_name}.recorder.plot() to see the graph.\n"
     ]
    }
   ],
   "source": [
    "learn_cls.lr_find()"
   ]
  },
  {
   "cell_type": "code",
   "execution_count": 0,
   "metadata": {
    "colab": {
     "base_uri": "https://localhost:8080/",
     "height": 283
    },
    "colab_type": "code",
    "id": "sIFpjKpHtFzM",
    "outputId": "799f713a-a9ff-471f-b32d-16140c866472"
   },
   "outputs": [
    {
     "data": {
      "image/png": "[encoded data removed]",
      "text/plain": [
       "<Figure size 432x288 with 1 Axes>"
      ]
     },
     "metadata": {
      "tags": []
     },
     "output_type": "display_data"
    }
   ],
   "source": [
    "learn_cls.recorder.plot(skip_end=7)"
   ]
  },
  {
   "cell_type": "code",
   "execution_count": 0,
   "metadata": {
    "colab": {
     "base_uri": "https://localhost:8080/",
     "height": 455
    },
    "colab_type": "code",
    "id": "MizjfT26KyV5",
    "outputId": "9ff2ad5b-1c72-424c-e257-6a9c9d1feb8e"
   },
   "outputs": [
    {
     "data": {
      "text/html": [
       "<table border=\"1\" class=\"dataframe\">\n",
       "  <thead>\n",
       "    <tr style=\"text-align: left;\">\n",
       "      <th>epoch</th>\n",
       "      <th>train_loss</th>\n",
       "      <th>valid_loss</th>\n",
       "      <th>accuracy</th>\n",
       "      <th>time</th>\n",
       "    </tr>\n",
       "  </thead>\n",
       "  <tbody>\n",
       "    <tr>\n",
       "      <td>0</td>\n",
       "      <td>0.138884</td>\n",
       "      <td>0.015325</td>\n",
       "      <td>0.997162</td>\n",
       "      <td>02:12</td>\n",
       "    </tr>\n",
       "    <tr>\n",
       "      <td>1</td>\n",
       "      <td>0.030022</td>\n",
       "      <td>0.009553</td>\n",
       "      <td>0.997162</td>\n",
       "      <td>02:13</td>\n",
       "    </tr>\n",
       "  </tbody>\n",
       "</table>"
      ],
      "text/plain": [
       "<IPython.core.display.HTML object>"
      ]
     },
     "metadata": {
      "tags": []
     },
     "output_type": "display_data"
    },
    {
     "data": {
      "text/html": [
       "<table border=\"1\" class=\"dataframe\">\n",
       "  <thead>\n",
       "    <tr style=\"text-align: left;\">\n",
       "      <th>epoch</th>\n",
       "      <th>train_loss</th>\n",
       "      <th>valid_loss</th>\n",
       "      <th>accuracy</th>\n",
       "      <th>time</th>\n",
       "    </tr>\n",
       "  </thead>\n",
       "  <tbody>\n",
       "    <tr>\n",
       "      <td>0</td>\n",
       "      <td>0.038774</td>\n",
       "      <td>0.011146</td>\n",
       "      <td>0.997162</td>\n",
       "      <td>02:31</td>\n",
       "    </tr>\n",
       "    <tr>\n",
       "      <td>1</td>\n",
       "      <td>0.015651</td>\n",
       "      <td>0.004987</td>\n",
       "      <td>0.999054</td>\n",
       "      <td>02:29</td>\n",
       "    </tr>\n",
       "  </tbody>\n",
       "</table>"
      ],
      "text/plain": [
       "<IPython.core.display.HTML object>"
      ]
     },
     "metadata": {
      "tags": []
     },
     "output_type": "display_data"
    },
    {
     "data": {
      "text/html": [
       "<table border=\"1\" class=\"dataframe\">\n",
       "  <thead>\n",
       "    <tr style=\"text-align: left;\">\n",
       "      <th>epoch</th>\n",
       "      <th>train_loss</th>\n",
       "      <th>valid_loss</th>\n",
       "      <th>accuracy</th>\n",
       "      <th>time</th>\n",
       "    </tr>\n",
       "  </thead>\n",
       "  <tbody>\n",
       "    <tr>\n",
       "      <td>0</td>\n",
       "      <td>0.018948</td>\n",
       "      <td>0.008216</td>\n",
       "      <td>0.998108</td>\n",
       "      <td>03:34</td>\n",
       "    </tr>\n",
       "    <tr>\n",
       "      <td>1</td>\n",
       "      <td>0.011122</td>\n",
       "      <td>0.007673</td>\n",
       "      <td>0.999054</td>\n",
       "      <td>03:31</td>\n",
       "    </tr>\n",
       "  </tbody>\n",
       "</table>"
      ],
      "text/plain": [
       "<IPython.core.display.HTML object>"
      ]
     },
     "metadata": {
      "tags": []
     },
     "output_type": "display_data"
    },
    {
     "data": {
      "text/html": [
       "<table border=\"1\" class=\"dataframe\">\n",
       "  <thead>\n",
       "    <tr style=\"text-align: left;\">\n",
       "      <th>epoch</th>\n",
       "      <th>train_loss</th>\n",
       "      <th>valid_loss</th>\n",
       "      <th>accuracy</th>\n",
       "      <th>time</th>\n",
       "    </tr>\n",
       "  </thead>\n",
       "  <tbody>\n",
       "    <tr>\n",
       "      <td>0</td>\n",
       "      <td>0.007286</td>\n",
       "      <td>0.005990</td>\n",
       "      <td>0.998108</td>\n",
       "      <td>04:27</td>\n",
       "    </tr>\n",
       "    <tr>\n",
       "      <td>1</td>\n",
       "      <td>0.004108</td>\n",
       "      <td>0.002385</td>\n",
       "      <td>0.999054</td>\n",
       "      <td>04:29</td>\n",
       "    </tr>\n",
       "    <tr>\n",
       "      <td>2</td>\n",
       "      <td>0.002108</td>\n",
       "      <td>0.003092</td>\n",
       "      <td>0.999054</td>\n",
       "      <td>04:27</td>\n",
       "    </tr>\n",
       "    <tr>\n",
       "      <td>3</td>\n",
       "      <td>0.002024</td>\n",
       "      <td>0.002639</td>\n",
       "      <td>0.999054</td>\n",
       "      <td>04:28</td>\n",
       "    </tr>\n",
       "  </tbody>\n",
       "</table>"
      ],
      "text/plain": [
       "<IPython.core.display.HTML object>"
      ]
     },
     "metadata": {
      "tags": []
     },
     "output_type": "display_data"
    }
   ],
   "source": [
    "learn_cls.fit_one_cycle(2, 1e-2, moms=(0.8,0.7))\n",
    "learn_cls.save('6train_wiki_cls_1')\n",
    "learn_cls.freeze_to(-2)\n",
    "learn_cls.fit_one_cycle(2 , slice(1e-2/(2.8**4),1e-2), moms=(0.8,0.7))\n",
    "learn_cls.save('6train_wiki_cls_2')\n",
    "learn_cls.freeze_to(-3)\n",
    "learn_cls.fit_one_cycle(2, slice(5e-3/(2.8**4),5e-3), moms=(0.8,0.7))\n",
    "learn_cls.save('6train_wiki_cls_3')\n",
    "learn_cls.unfreeze()\n",
    "learn_cls.fit_one_cycle(4, slice(1e-3/(2.8**4),1e-3), moms=(0.8,0.7))\n",
    "learn_cls.save('6train_wiki_cls_4')"
   ]
  },
  {
   "cell_type": "markdown",
   "metadata": {
    "colab_type": "text",
    "id": "K4rfkN6MLCy6"
   },
   "source": [
    "### Testing"
   ]
  },
  {
   "cell_type": "code",
   "execution_count": 0,
   "metadata": {
    "colab": {
     "base_uri": "https://localhost:8080/",
     "height": 85
    },
    "colab_type": "code",
    "id": "-6RNV2a29AmA",
    "outputId": "7587ff31-7dbf-460e-b5cf-3006c7b1211b"
   },
   "outputs": [
    {
     "name": "stdout",
     "output_type": "stream",
     "text": [
      "1320\n",
      "Accuracy: \n",
      "0.9962121212121212\n",
      "[('MZI', 'humayun_ahmed'), ('humayun_ahmed', 'MZI'), ('humayun_ahmed', 'shorotchandra'), ('humayun_ahmed', 'MZI'), ('shomresh', 'robindronath')]\n"
     ]
    }
   ],
   "source": [
    "pred,targ = testing(subsets/\"6test.csv\")"
   ]
  },
  {
   "cell_type": "code",
   "execution_count": 0,
   "metadata": {
    "colab": {
     "base_uri": "https://localhost:8080/",
     "height": 51
    },
    "colab_type": "code",
    "id": "TcBBSCDUFdap",
    "outputId": "7455927c-0a3c-4409-929b-f0821b0b0060"
   },
   "outputs": [
    {
     "data": {
      "text/plain": [
       "(array([0.993197, 0.990868, 0.997732, 0.997722, 0.997732, 1.      ]),\n",
       " 0.9962086345166553)"
      ]
     },
     "execution_count": 32,
     "metadata": {
      "tags": []
     },
     "output_type": "execute_result"
    }
   ],
   "source": [
    "from sklearn.metrics import f1_score\n",
    "out  = f1_score(targ, pred, average=None) #'macro' , also == weighted cuz dataset is balanced\n",
    "out , out.mean()"
   ]
  },
  {
   "cell_type": "code",
   "execution_count": 0,
   "metadata": {
    "colab": {},
    "colab_type": "code",
    "id": "xUAQkGN6jxCA"
   },
   "outputs": [],
   "source": []
  },
  {
   "cell_type": "markdown",
   "metadata": {
    "colab_type": "text",
    "id": "iJr2qeRhtSZg"
   },
   "source": [
    "## 8 Authors"
   ]
  },
  {
   "cell_type": "markdown",
   "metadata": {
    "colab_type": "text",
    "id": "qJxKVZCttSZi"
   },
   "source": [
    "### LM tuning"
   ]
  },
  {
   "cell_type": "code",
   "execution_count": 0,
   "metadata": {
    "colab": {},
    "colab_type": "code",
    "id": "QKh1pOFBtSZj"
   },
   "outputs": [],
   "source": [
    "# Language model data AA\n",
    "data_lm_AA = TextLMDataBunch.from_csv(subsets, '8train.csv', vocab=data_lm.train_ds.vocab, bs=bs)\n",
    "data_lm_AA.save('8train_data_lm_wiki.pkl')"
   ]
  },
  {
   "cell_type": "code",
   "execution_count": 0,
   "metadata": {
    "colab": {},
    "colab_type": "code",
    "id": "5zbEDUWctSZl"
   },
   "outputs": [],
   "source": [
    "data_lm_AA=load_data(subsets,'8train_data_lm_wiki.pkl',bs=bs)"
   ]
  },
  {
   "cell_type": "code",
   "execution_count": 0,
   "metadata": {
    "colab": {},
    "colab_type": "code",
    "id": "LJaZZu2gtSZo"
   },
   "outputs": [],
   "source": [
    "learn = language_model_learner(data_lm_AA, AWD_LSTM, pretrained=False, drop_mult=0.5)"
   ]
  },
  {
   "cell_type": "code",
   "execution_count": 0,
   "metadata": {
    "colab": {},
    "colab_type": "code",
    "id": "1x2stUwRtSZr"
   },
   "outputs": [],
   "source": [
    "learn.load(wiki/'models'/'wiki_word_lm_30');"
   ]
  },
  {
   "cell_type": "code",
   "execution_count": 0,
   "metadata": {
    "colab": {},
    "colab_type": "code",
    "id": "DR0wqmSVtSZu"
   },
   "outputs": [],
   "source": [
    "learn.freeze()"
   ]
  },
  {
   "cell_type": "code",
   "execution_count": 0,
   "metadata": {
    "colab": {
     "base_uri": "https://localhost:8080/",
     "height": 300
    },
    "colab_type": "code",
    "id": "4n7WHWY9tSZx",
    "outputId": "1f7652c9-c72c-4310-ffd9-1794e84a9a40"
   },
   "outputs": [
    {
     "data": {
      "text/html": [],
      "text/plain": [
       "<IPython.core.display.HTML object>"
      ]
     },
     "metadata": {
      "tags": []
     },
     "output_type": "display_data"
    },
    {
     "name": "stdout",
     "output_type": "stream",
     "text": [
      "LR Finder is complete, type {learner_name}.recorder.plot() to see the graph.\n"
     ]
    },
    {
     "data": {
      "image/png": "[encoded data removed]",
      "text/plain": [
       "<Figure size 432x288 with 1 Axes>"
      ]
     },
     "metadata": {
      "tags": []
     },
     "output_type": "display_data"
    }
   ],
   "source": [
    "learn.lr_find()\n",
    "learn.recorder.plot()"
   ]
  },
  {
   "cell_type": "code",
   "execution_count": 0,
   "metadata": {
    "colab": {
     "base_uri": "https://localhost:8080/",
     "height": 283
    },
    "colab_type": "code",
    "id": "deTDj31JtSZ3",
    "outputId": "63e22896-1fa0-4a44-90d1-7fbdb81c4593"
   },
   "outputs": [
    {
     "data": {
      "image/png": "[encoded data removed]",
      "text/plain": [
       "<Figure size 432x288 with 1 Axes>"
      ]
     },
     "metadata": {
      "tags": []
     },
     "output_type": "display_data"
    }
   ],
   "source": [
    "learn.recorder.plot(skip_end=15)"
   ]
  },
  {
   "cell_type": "code",
   "execution_count": 0,
   "metadata": {
    "colab": {
     "base_uri": "https://localhost:8080/",
     "height": 299
    },
    "colab_type": "code",
    "id": "CK34XM4FtSZ8",
    "outputId": "3497e8a9-fe56-4a22-f009-66f4a0c6688b"
   },
   "outputs": [
    {
     "data": {
      "text/html": [
       "<table border=\"1\" class=\"dataframe\">\n",
       "  <thead>\n",
       "    <tr style=\"text-align: left;\">\n",
       "      <th>epoch</th>\n",
       "      <th>train_loss</th>\n",
       "      <th>valid_loss</th>\n",
       "      <th>accuracy</th>\n",
       "      <th>time</th>\n",
       "    </tr>\n",
       "  </thead>\n",
       "  <tbody>\n",
       "    <tr>\n",
       "      <td>0</td>\n",
       "      <td>4.767251</td>\n",
       "      <td>4.702615</td>\n",
       "      <td>0.282086</td>\n",
       "      <td>08:52</td>\n",
       "    </tr>\n",
       "    <tr>\n",
       "      <td>1</td>\n",
       "      <td>4.595047</td>\n",
       "      <td>4.573579</td>\n",
       "      <td>0.289469</td>\n",
       "      <td>08:56</td>\n",
       "    </tr>\n",
       "  </tbody>\n",
       "</table>"
      ],
      "text/plain": [
       "<IPython.core.display.HTML object>"
      ]
     },
     "metadata": {
      "tags": []
     },
     "output_type": "display_data"
    },
    {
     "data": {
      "text/html": [
       "<table border=\"1\" class=\"dataframe\">\n",
       "  <thead>\n",
       "    <tr style=\"text-align: left;\">\n",
       "      <th>epoch</th>\n",
       "      <th>train_loss</th>\n",
       "      <th>valid_loss</th>\n",
       "      <th>accuracy</th>\n",
       "      <th>time</th>\n",
       "    </tr>\n",
       "  </thead>\n",
       "  <tbody>\n",
       "    <tr>\n",
       "      <td>0</td>\n",
       "      <td>4.603080</td>\n",
       "      <td>4.570371</td>\n",
       "      <td>0.293562</td>\n",
       "      <td>09:03</td>\n",
       "    </tr>\n",
       "    <tr>\n",
       "      <td>1</td>\n",
       "      <td>4.391335</td>\n",
       "      <td>4.408120</td>\n",
       "      <td>0.304815</td>\n",
       "      <td>09:03</td>\n",
       "    </tr>\n",
       "  </tbody>\n",
       "</table>"
      ],
      "text/plain": [
       "<IPython.core.display.HTML object>"
      ]
     },
     "metadata": {
      "tags": []
     },
     "output_type": "display_data"
    },
    {
     "data": {
      "text/html": [
       "<table border=\"1\" class=\"dataframe\">\n",
       "  <thead>\n",
       "    <tr style=\"text-align: left;\">\n",
       "      <th>epoch</th>\n",
       "      <th>train_loss</th>\n",
       "      <th>valid_loss</th>\n",
       "      <th>accuracy</th>\n",
       "      <th>time</th>\n",
       "    </tr>\n",
       "  </thead>\n",
       "  <tbody>\n",
       "    <tr>\n",
       "      <td>0</td>\n",
       "      <td>4.548553</td>\n",
       "      <td>4.518783</td>\n",
       "      <td>0.297217</td>\n",
       "      <td>09:29</td>\n",
       "    </tr>\n",
       "    <tr>\n",
       "      <td>1</td>\n",
       "      <td>4.284061</td>\n",
       "      <td>4.337086</td>\n",
       "      <td>0.310423</td>\n",
       "      <td>09:27</td>\n",
       "    </tr>\n",
       "  </tbody>\n",
       "</table>"
      ],
      "text/plain": [
       "<IPython.core.display.HTML object>"
      ]
     },
     "metadata": {
      "tags": []
     },
     "output_type": "display_data"
    }
   ],
   "source": [
    "learn.freeze()\n",
    "learn.fit_one_cycle(2, 1e-2)\n",
    "learn.save('8train_wiki_lm_head');\n",
    "learn.freeze_to(-2)\n",
    "learn.fit_one_cycle(2, 1e-2)\n",
    "learn.save('8train_wiki_lm_body_1');\n",
    "learn.freeze_to(-3)\n",
    "learn.fit_one_cycle(2, 1e-2)\n",
    "learn.save('8train_wiki_lm_body_2');"
   ]
  },
  {
   "cell_type": "markdown",
   "metadata": {
    "colab_type": "text",
    "id": "izYqr6Ys-T2J"
   },
   "source": [
    "okay this is running"
   ]
  },
  {
   "cell_type": "code",
   "execution_count": 0,
   "metadata": {
    "colab": {
     "base_uri": "https://localhost:8080/",
     "height": 173
    },
    "colab_type": "code",
    "id": "nDQpeJeGtSaE",
    "outputId": "bf46ea35-6363-432a-899d-36b4f5e568a0"
   },
   "outputs": [
    {
     "data": {
      "text/html": [
       "<table border=\"1\" class=\"dataframe\">\n",
       "  <thead>\n",
       "    <tr style=\"text-align: left;\">\n",
       "      <th>epoch</th>\n",
       "      <th>train_loss</th>\n",
       "      <th>valid_loss</th>\n",
       "      <th>accuracy</th>\n",
       "      <th>time</th>\n",
       "    </tr>\n",
       "  </thead>\n",
       "  <tbody>\n",
       "    <tr>\n",
       "      <td>0</td>\n",
       "      <td>4.167002</td>\n",
       "      <td>4.323343</td>\n",
       "      <td>0.310823</td>\n",
       "      <td>09:53</td>\n",
       "    </tr>\n",
       "    <tr>\n",
       "      <td>1</td>\n",
       "      <td>4.081696</td>\n",
       "      <td>4.295747</td>\n",
       "      <td>0.312980</td>\n",
       "      <td>09:53</td>\n",
       "    </tr>\n",
       "    <tr>\n",
       "      <td>2</td>\n",
       "      <td>4.046117</td>\n",
       "      <td>4.282713</td>\n",
       "      <td>0.314328</td>\n",
       "      <td>09:54</td>\n",
       "    </tr>\n",
       "    <tr>\n",
       "      <td>3</td>\n",
       "      <td>3.996463</td>\n",
       "      <td>4.285848</td>\n",
       "      <td>0.313770</td>\n",
       "      <td>09:52</td>\n",
       "    </tr>\n",
       "  </tbody>\n",
       "</table>"
      ],
      "text/plain": [
       "<IPython.core.display.HTML object>"
      ]
     },
     "metadata": {
      "tags": []
     },
     "output_type": "display_data"
    }
   ],
   "source": [
    "learn.unfreeze()\n",
    "learn.fit_one_cycle(4, 1e-3)\n",
    "learn.save('8train_wiki_lm_body_4'); #mistakely 4 ran before 3 #mistakely copied the same mistake -_-"
   ]
  },
  {
   "cell_type": "code",
   "execution_count": 0,
   "metadata": {
    "colab": {
     "base_uri": "https://localhost:8080/",
     "height": 173
    },
    "colab_type": "code",
    "id": "NimuxY7MtSaL",
    "outputId": "cd03da3a-b4bf-4ebe-96b4-299cede2dfb8"
   },
   "outputs": [
    {
     "data": {
      "text/html": [
       "<table border=\"1\" class=\"dataframe\">\n",
       "  <thead>\n",
       "    <tr style=\"text-align: left;\">\n",
       "      <th>epoch</th>\n",
       "      <th>train_loss</th>\n",
       "      <th>valid_loss</th>\n",
       "      <th>accuracy</th>\n",
       "      <th>time</th>\n",
       "    </tr>\n",
       "  </thead>\n",
       "  <tbody>\n",
       "    <tr>\n",
       "      <td>0</td>\n",
       "      <td>4.017407</td>\n",
       "      <td>4.289841</td>\n",
       "      <td>0.313534</td>\n",
       "      <td>09:51</td>\n",
       "    </tr>\n",
       "    <tr>\n",
       "      <td>1</td>\n",
       "      <td>3.973795</td>\n",
       "      <td>4.279354</td>\n",
       "      <td>0.314457</td>\n",
       "      <td>09:52</td>\n",
       "    </tr>\n",
       "    <tr>\n",
       "      <td>2</td>\n",
       "      <td>3.940337</td>\n",
       "      <td>4.274124</td>\n",
       "      <td>0.314732</td>\n",
       "      <td>09:52</td>\n",
       "    </tr>\n",
       "    <tr>\n",
       "      <td>3</td>\n",
       "      <td>3.848219</td>\n",
       "      <td>4.280333</td>\n",
       "      <td>0.314377</td>\n",
       "      <td>09:52</td>\n",
       "    </tr>\n",
       "  </tbody>\n",
       "</table>"
      ],
      "text/plain": [
       "<IPython.core.display.HTML object>"
      ]
     },
     "metadata": {
      "tags": []
     },
     "output_type": "display_data"
    }
   ],
   "source": [
    "learn.unfreeze()\n",
    "learn.fit_one_cycle(4, 1e-3)\n",
    "learn.save('8train_wiki_lm_body_3');"
   ]
  },
  {
   "cell_type": "code",
   "execution_count": 0,
   "metadata": {
    "colab": {},
    "colab_type": "code",
    "id": "_JIP40-ptSaQ"
   },
   "outputs": [],
   "source": [
    "learn.save_encoder('8train_wiki_lm_enc')"
   ]
  },
  {
   "cell_type": "markdown",
   "metadata": {
    "colab_type": "text",
    "id": "3i4_Zb3ztSaS"
   },
   "source": [
    "### Classifier"
   ]
  },
  {
   "cell_type": "markdown",
   "metadata": {
    "colab_type": "text",
    "id": "-uYa6F7otSaS"
   },
   "source": [
    "Now, we'll create a new data object that only grabs the labelled data and keeps those labels. Again, this line takes a bit of time."
   ]
  },
  {
   "cell_type": "code",
   "execution_count": 0,
   "metadata": {
    "colab": {},
    "colab_type": "code",
    "id": "JDZR2077tSaT"
   },
   "outputs": [],
   "source": [
    "data_clas = TextClasDataBunch.from_csv(subsets, '8train.csv', vocab=data_lm.train_ds.vocab, bs=bs)\n",
    "data_clas.save('8train_data_clas_wiki.pkl')"
   ]
  },
  {
   "cell_type": "code",
   "execution_count": 0,
   "metadata": {
    "colab": {
     "base_uri": "https://localhost:8080/",
     "height": 289
    },
    "colab_type": "code",
    "id": "jwOY26k5tSaV",
    "outputId": "7e736780-9933-4354-b7c6-2032323b37f2"
   },
   "outputs": [
    {
     "data": {
      "text/html": [
       "<table border=\"1\" class=\"dataframe\">\n",
       "  <thead>\n",
       "    <tr style=\"text-align: right;\">\n",
       "      <th>text</th>\n",
       "      <th>target</th>\n",
       "    </tr>\n",
       "  </thead>\n",
       "  <tbody>\n",
       "    <tr>\n",
       "      <td>xxbos xxunk । তার ভারি নিঃশ্বাস xxunk । xxunk xxunk বোধ xxunk । xxunk নারকেল গাছের xxunk xxunk । মানুষের মতোই লাগছে xxunk । বাতাসে গাছের পাতা xxunk । মনে হচ্ছে মানুষটি হাত xxunk । ঘরের ভেতর মিষ্টি একটা গন্ধ । মিষ্টি , কিন্তু অচেনা । আনিস xxunk কাছে টেনে xxunk । xxunk মুখে আলো এসে xxunk । কী যে xxunk লাগছে ! আনিস ছোট্ট করে নিঃশ্বাস ফেলল । ওদের</td>\n",
       "      <td>humayun_ahmed</td>\n",
       "    </tr>\n",
       "    <tr>\n",
       "      <td>xxbos উঠল , হাতে কিল xxunk বলল , “ ফ্যান্টাস্টিক ! ” এবারে আমরা xxunk গেলাম । আমি xxunk xxunk বললাম , “ ফ্যান্টাস্টিক ? ” “ হ্যাঁ । আমি সব xxunk এরকম একটা স্কুলে xxunk xxunk যেখানে স্যার xxunk উৎপাত করবে না । আমরা নিজেরা নিজেরা xxunk xxunk করব । ” বগা বলল , “ xxunk xxunk ? কোনোদিন কোনো xxunk xxunk xxunk করে ? বেত xxunk না xxunk</td>\n",
       "      <td>MZI</td>\n",
       "    </tr>\n",
       "    <tr>\n",
       "      <td>xxbos তোমার কাছেই xxunk , নালিশ আছে । ” “ কিসের নালিশ ? ” “ একটু xxunk , দুঃখের কথা বলি । ” xxunk উপর xxunk xxunk । নবীন বললে , “ xxunk অত্যাচার ! এই xxunk আমার বই রেখেছেন xxunk । ” “ এমন শাসন কেন ? ” “ ঈর্ষা – যেহেতু নিজে ইংরেজি xxunk পারেন না । আমি xxunk পক্ষে , কিন্তু উনি স্বামী - জাতির xxunk বিরোধী</td>\n",
       "      <td>robindronath</td>\n",
       "    </tr>\n",
       "    <tr>\n",
       "      <td>xxbos xxunk বরাবর xxunk । চিরকাল মা - xxunk আদর xxunk ও যদি কোনো কাজ নিজের হাতে করিতে পারে । ” এই xxunk মাতা xxunk কর্মে xxunk xxunk প্রতি xxunk করিলেন । কেমন xxunk এই xxunk একান্ত xxunk xxunk xxunk সর্বপ্রকার xxunk xxunk xxunk , xxunk সহিত xxunk সেই একমাত্র পরামর্শ । এই xxunk xxunk প্রতি নির্ভর xxunk তিনি নিতান্ত নিশ্চিন্ত , পরম সুখী । সম্প্রতি xxunk মর্যাদা যে মহেন্দ্র</td>\n",
       "      <td>robindronath</td>\n",
       "    </tr>\n",
       "    <tr>\n",
       "      <td>xxbos না , রাগ প্রকাশ xxunk xxunk । যতটুকু xxunk মর্যাদা রক্ষা xxunk xxunk কখনো xxunk না এবং xxunk করে না । চুল xxunk - পরিমাণে xxunk , যত্ন না করলেও এলোমেলো হবার আশঙ্কা নেই । মুখের রঙ বাদামি , লালের আভাস xxunk । xxunk উপর দুইপাশে প্রশস্ত টানা কপাল , দৃষ্টিতে কঠিন বুদ্ধির xxunk , ঠোঁটে xxunk সংকল্প এবং xxunk গৌরব । অত্যন্ত দুঃসাধ্য রকমের দাবি সে xxunk করতে</td>\n",
       "      <td>robindronath</td>\n",
       "    </tr>\n",
       "  </tbody>\n",
       "</table>"
      ],
      "text/plain": [
       "<IPython.core.display.HTML object>"
      ]
     },
     "metadata": {
      "tags": []
     },
     "output_type": "display_data"
    }
   ],
   "source": [
    "data_clas.show_batch()"
   ]
  },
  {
   "cell_type": "code",
   "execution_count": 0,
   "metadata": {
    "colab": {},
    "colab_type": "code",
    "id": "bA4ErXjVtSaY"
   },
   "outputs": [],
   "source": [
    "learn_cls = text_classifier_learner(data_clas, AWD_LSTM, drop_mult=0.5, pretrained=False)"
   ]
  },
  {
   "cell_type": "code",
   "execution_count": 0,
   "metadata": {
    "colab": {},
    "colab_type": "code",
    "id": "964G2F74tSad"
   },
   "outputs": [],
   "source": [
    "learn_cls.load_encoder('8train_wiki_lm_enc')"
   ]
  },
  {
   "cell_type": "code",
   "execution_count": 0,
   "metadata": {
    "colab": {},
    "colab_type": "code",
    "id": "KX4TXAf8tSah"
   },
   "outputs": [],
   "source": [
    "learn_cls.freeze()"
   ]
  },
  {
   "cell_type": "code",
   "execution_count": 0,
   "metadata": {
    "colab": {
     "base_uri": "https://localhost:8080/",
     "height": 34
    },
    "colab_type": "code",
    "id": "vMCiqsNWtSaj",
    "outputId": "df4670a7-ae55-421a-dd0e-874bd9180536"
   },
   "outputs": [
    {
     "data": {
      "text/html": [],
      "text/plain": [
       "<IPython.core.display.HTML object>"
      ]
     },
     "metadata": {
      "tags": []
     },
     "output_type": "display_data"
    },
    {
     "name": "stdout",
     "output_type": "stream",
     "text": [
      "LR Finder is complete, type {learner_name}.recorder.plot() to see the graph.\n"
     ]
    }
   ],
   "source": [
    "learn_cls.lr_find()"
   ]
  },
  {
   "cell_type": "code",
   "execution_count": 0,
   "metadata": {
    "colab": {
     "base_uri": "https://localhost:8080/",
     "height": 283
    },
    "colab_type": "code",
    "id": "GnYB4yhgtSam",
    "outputId": "8736ded8-7387-47a0-d5e2-b08182ac2d78"
   },
   "outputs": [
    {
     "data": {
      "image/png": "[encoded data removed]",
      "text/plain": [
       "<Figure size 432x288 with 1 Axes>"
      ]
     },
     "metadata": {
      "tags": []
     },
     "output_type": "display_data"
    }
   ],
   "source": [
    "learn_cls.recorder.plot(skip_end=7)"
   ]
  },
  {
   "cell_type": "code",
   "execution_count": 0,
   "metadata": {
    "colab": {
     "base_uri": "https://localhost:8080/",
     "height": 455
    },
    "colab_type": "code",
    "id": "8bRTbOFrtSas",
    "outputId": "5545c6df-6fee-4810-9aa6-7c0ef1ad939c"
   },
   "outputs": [
    {
     "data": {
      "text/html": [
       "<table border=\"1\" class=\"dataframe\">\n",
       "  <thead>\n",
       "    <tr style=\"text-align: left;\">\n",
       "      <th>epoch</th>\n",
       "      <th>train_loss</th>\n",
       "      <th>valid_loss</th>\n",
       "      <th>accuracy</th>\n",
       "      <th>time</th>\n",
       "    </tr>\n",
       "  </thead>\n",
       "  <tbody>\n",
       "    <tr>\n",
       "      <td>0</td>\n",
       "      <td>0.123857</td>\n",
       "      <td>0.004658</td>\n",
       "      <td>0.998321</td>\n",
       "      <td>02:30</td>\n",
       "    </tr>\n",
       "    <tr>\n",
       "      <td>1</td>\n",
       "      <td>0.025019</td>\n",
       "      <td>0.004549</td>\n",
       "      <td>0.998321</td>\n",
       "      <td>02:31</td>\n",
       "    </tr>\n",
       "  </tbody>\n",
       "</table>"
      ],
      "text/plain": [
       "<IPython.core.display.HTML object>"
      ]
     },
     "metadata": {
      "tags": []
     },
     "output_type": "display_data"
    },
    {
     "data": {
      "text/html": [
       "<table border=\"1\" class=\"dataframe\">\n",
       "  <thead>\n",
       "    <tr style=\"text-align: left;\">\n",
       "      <th>epoch</th>\n",
       "      <th>train_loss</th>\n",
       "      <th>valid_loss</th>\n",
       "      <th>accuracy</th>\n",
       "      <th>time</th>\n",
       "    </tr>\n",
       "  </thead>\n",
       "  <tbody>\n",
       "    <tr>\n",
       "      <td>0</td>\n",
       "      <td>0.045589</td>\n",
       "      <td>0.011920</td>\n",
       "      <td>0.998321</td>\n",
       "      <td>02:50</td>\n",
       "    </tr>\n",
       "    <tr>\n",
       "      <td>1</td>\n",
       "      <td>0.013670</td>\n",
       "      <td>0.004363</td>\n",
       "      <td>0.998321</td>\n",
       "      <td>02:50</td>\n",
       "    </tr>\n",
       "  </tbody>\n",
       "</table>"
      ],
      "text/plain": [
       "<IPython.core.display.HTML object>"
      ]
     },
     "metadata": {
      "tags": []
     },
     "output_type": "display_data"
    },
    {
     "data": {
      "text/html": [
       "<table border=\"1\" class=\"dataframe\">\n",
       "  <thead>\n",
       "    <tr style=\"text-align: left;\">\n",
       "      <th>epoch</th>\n",
       "      <th>train_loss</th>\n",
       "      <th>valid_loss</th>\n",
       "      <th>accuracy</th>\n",
       "      <th>time</th>\n",
       "    </tr>\n",
       "  </thead>\n",
       "  <tbody>\n",
       "    <tr>\n",
       "      <td>0</td>\n",
       "      <td>0.014550</td>\n",
       "      <td>0.012630</td>\n",
       "      <td>0.996641</td>\n",
       "      <td>04:02</td>\n",
       "    </tr>\n",
       "    <tr>\n",
       "      <td>1</td>\n",
       "      <td>0.009465</td>\n",
       "      <td>0.001409</td>\n",
       "      <td>1.000000</td>\n",
       "      <td>04:00</td>\n",
       "    </tr>\n",
       "  </tbody>\n",
       "</table>"
      ],
      "text/plain": [
       "<IPython.core.display.HTML object>"
      ]
     },
     "metadata": {
      "tags": []
     },
     "output_type": "display_data"
    },
    {
     "data": {
      "text/html": [
       "<table border=\"1\" class=\"dataframe\">\n",
       "  <thead>\n",
       "    <tr style=\"text-align: left;\">\n",
       "      <th>epoch</th>\n",
       "      <th>train_loss</th>\n",
       "      <th>valid_loss</th>\n",
       "      <th>accuracy</th>\n",
       "      <th>time</th>\n",
       "    </tr>\n",
       "  </thead>\n",
       "  <tbody>\n",
       "    <tr>\n",
       "      <td>0</td>\n",
       "      <td>0.005024</td>\n",
       "      <td>0.003697</td>\n",
       "      <td>0.997481</td>\n",
       "      <td>05:01</td>\n",
       "    </tr>\n",
       "    <tr>\n",
       "      <td>1</td>\n",
       "      <td>0.003654</td>\n",
       "      <td>0.003613</td>\n",
       "      <td>0.997481</td>\n",
       "      <td>05:04</td>\n",
       "    </tr>\n",
       "    <tr>\n",
       "      <td>2</td>\n",
       "      <td>0.003963</td>\n",
       "      <td>0.003548</td>\n",
       "      <td>0.998321</td>\n",
       "      <td>05:01</td>\n",
       "    </tr>\n",
       "    <tr>\n",
       "      <td>3</td>\n",
       "      <td>0.002824</td>\n",
       "      <td>0.004508</td>\n",
       "      <td>0.998321</td>\n",
       "      <td>05:04</td>\n",
       "    </tr>\n",
       "  </tbody>\n",
       "</table>"
      ],
      "text/plain": [
       "<IPython.core.display.HTML object>"
      ]
     },
     "metadata": {
      "tags": []
     },
     "output_type": "display_data"
    }
   ],
   "source": [
    "learn_cls.fit_one_cycle(2, 1e-2, moms=(0.8,0.7))\n",
    "learn_cls.save('8train_wiki_cls_1')\n",
    "learn_cls.freeze_to(-2)\n",
    "learn_cls.fit_one_cycle(2 , slice(1e-2/(2.8**4),1e-2), moms=(0.8,0.7))\n",
    "learn_cls.save('8train_wiki_cls_2')\n",
    "learn_cls.freeze_to(-3)\n",
    "learn_cls.fit_one_cycle(2, slice(5e-3/(2.8**4),5e-3), moms=(0.8,0.7))\n",
    "learn_cls.save('8train_wiki_cls_3')\n",
    "learn_cls.unfreeze()\n",
    "learn_cls.fit_one_cycle(4, slice(1e-3/(2.8**4),1e-3), moms=(0.8,0.7))\n",
    "learn_cls.save('8train_wiki_cls_4')"
   ]
  },
  {
   "cell_type": "markdown",
   "metadata": {
    "colab_type": "text",
    "id": "AmweSgdctSaw"
   },
   "source": [
    "### Testing"
   ]
  },
  {
   "cell_type": "code",
   "execution_count": 0,
   "metadata": {
    "colab": {
     "base_uri": "https://localhost:8080/",
     "height": 105
    },
    "colab_type": "code",
    "id": "ccdI0ewxtSax",
    "outputId": "4521c5da-52be-486e-b33f-0f5d829ea566"
   },
   "outputs": [
    {
     "name": "stdout",
     "output_type": "stream",
     "text": [
      "1496\n",
      "Accuracy: \n",
      "0.9959893048128342\n",
      "[('toslima_nasrin', 'shunil_gongopaddhay'), ('MZI', 'humayun_ahmed'), ('MZI', 'humayun_ahmed'), ('robindronath', 'shunil_gongopaddhay'), ('humayun_ahmed', 'shorotchandra'), ('humayun_ahmed', 'MZI')]\n"
     ]
    }
   ],
   "source": [
    "pred,targ = testing(subsets/\"8test.csv\")"
   ]
  },
  {
   "cell_type": "code",
   "execution_count": 0,
   "metadata": {
    "colab": {
     "base_uri": "https://localhost:8080/",
     "height": 51
    },
    "colab_type": "code",
    "id": "amjaM53BtSa1",
    "outputId": "9b6b2105-c622-43d9-d417-bb466789c122"
   },
   "outputs": [
    {
     "data": {
      "text/plain": [
       "(array([0.991957, 0.989305, 0.997319, 1.      , 1.      , 0.997333, 0.994681, 0.997319]),\n",
       " 0.9959892714367653)"
      ]
     },
     "execution_count": 53,
     "metadata": {
      "tags": []
     },
     "output_type": "execute_result"
    }
   ],
   "source": [
    "from sklearn.metrics import f1_score\n",
    "out  = f1_score(targ, pred, average=None) #'macro' , also == weighted cuz dataset is balanced\n",
    "out , out.mean()"
   ]
  },
  {
   "cell_type": "code",
   "execution_count": 0,
   "metadata": {
    "colab": {},
    "colab_type": "code",
    "id": "DBsngBUAtSa3"
   },
   "outputs": [],
   "source": []
  },
  {
   "cell_type": "markdown",
   "metadata": {
    "colab_type": "text",
    "id": "-AhojErM_zgp"
   },
   "source": [
    "## 10 Authors"
   ]
  },
  {
   "cell_type": "markdown",
   "metadata": {
    "colab_type": "text",
    "id": "zxn1yti__zhI"
   },
   "source": [
    "### LM tuning"
   ]
  },
  {
   "cell_type": "code",
   "execution_count": 0,
   "metadata": {
    "colab": {},
    "colab_type": "code",
    "id": "9d1zi4Si_zhQ"
   },
   "outputs": [],
   "source": [
    "# Language model data AA\n",
    "data_lm_AA = TextLMDataBunch.from_csv(subsets, '10train.csv', vocab=data_lm.train_ds.vocab, bs=bs)\n",
    "data_lm_AA.save('10train_data_lm_wiki.pkl')"
   ]
  },
  {
   "cell_type": "code",
   "execution_count": 0,
   "metadata": {
    "colab": {},
    "colab_type": "code",
    "id": "qtwFQI-__zha"
   },
   "outputs": [],
   "source": [
    "data_lm_AA=load_data(subsets,'10train_data_lm_wiki.pkl',bs=bs)"
   ]
  },
  {
   "cell_type": "code",
   "execution_count": 0,
   "metadata": {
    "colab": {},
    "colab_type": "code",
    "id": "dUXmFWgz_zhg"
   },
   "outputs": [],
   "source": [
    "learn = language_model_learner(data_lm_AA, AWD_LSTM, pretrained=False, drop_mult=0.5)"
   ]
  },
  {
   "cell_type": "code",
   "execution_count": 0,
   "metadata": {
    "colab": {},
    "colab_type": "code",
    "id": "x1W1tLZ9_zhm"
   },
   "outputs": [],
   "source": [
    "learn.load(wiki/'models'/'wiki_word_lm_30');"
   ]
  },
  {
   "cell_type": "code",
   "execution_count": 0,
   "metadata": {
    "colab": {},
    "colab_type": "code",
    "id": "OxxSX9fH_zhq"
   },
   "outputs": [],
   "source": [
    "learn.freeze()"
   ]
  },
  {
   "cell_type": "code",
   "execution_count": 0,
   "metadata": {
    "colab": {
     "base_uri": "https://localhost:8080/",
     "height": 301
    },
    "colab_type": "code",
    "id": "FZATlu3C_zhu",
    "outputId": "ea82ad76-a8d9-43f5-d50e-6c5f10d1c114"
   },
   "outputs": [
    {
     "data": {
      "text/html": [],
      "text/plain": [
       "<IPython.core.display.HTML object>"
      ]
     },
     "metadata": {
      "tags": []
     },
     "output_type": "display_data"
    },
    {
     "name": "stdout",
     "output_type": "stream",
     "text": [
      "LR Finder is complete, type {learner_name}.recorder.plot() to see the graph.\n"
     ]
    },
    {
     "data": {
      "image/png": "[encoded data removed]",
      "text/plain": [
       "<Figure size 432x288 with 1 Axes>"
      ]
     },
     "metadata": {
      "tags": []
     },
     "output_type": "display_data"
    }
   ],
   "source": [
    "learn.lr_find()\n",
    "learn.recorder.plot()"
   ]
  },
  {
   "cell_type": "code",
   "execution_count": 0,
   "metadata": {
    "colab": {
     "base_uri": "https://localhost:8080/",
     "height": 283
    },
    "colab_type": "code",
    "id": "Yzr0UFmS_zh3",
    "outputId": "17176e62-b1ee-426d-d2f3-a3c9408193c7"
   },
   "outputs": [
    {
     "data": {
      "image/png": "[encoded data removed]",
      "text/plain": [
       "<Figure size 432x288 with 1 Axes>"
      ]
     },
     "metadata": {
      "tags": []
     },
     "output_type": "display_data"
    }
   ],
   "source": [
    "learn.recorder.plot(skip_end=15)"
   ]
  },
  {
   "cell_type": "code",
   "execution_count": 0,
   "metadata": {
    "colab": {
     "base_uri": "https://localhost:8080/",
     "height": 302
    },
    "colab_type": "code",
    "id": "SlVUvjmx_zh9",
    "outputId": "4beed604-14d3-4b47-839a-199c7a693f64"
   },
   "outputs": [
    {
     "data": {
      "text/html": [
       "<table border=\"1\" class=\"dataframe\">\n",
       "  <thead>\n",
       "    <tr style=\"text-align: left;\">\n",
       "      <th>epoch</th>\n",
       "      <th>train_loss</th>\n",
       "      <th>valid_loss</th>\n",
       "      <th>accuracy</th>\n",
       "      <th>time</th>\n",
       "    </tr>\n",
       "  </thead>\n",
       "  <tbody>\n",
       "    <tr>\n",
       "      <td>0</td>\n",
       "      <td>4.793038</td>\n",
       "      <td>4.718000</td>\n",
       "      <td>0.283351</td>\n",
       "      <td>19:04</td>\n",
       "    </tr>\n",
       "    <tr>\n",
       "      <td>1</td>\n",
       "      <td>4.609278</td>\n",
       "      <td>4.586215</td>\n",
       "      <td>0.290177</td>\n",
       "      <td>19:04</td>\n",
       "    </tr>\n",
       "  </tbody>\n",
       "</table>"
      ],
      "text/plain": [
       "<IPython.core.display.HTML object>"
      ]
     },
     "metadata": {
      "tags": []
     },
     "output_type": "display_data"
    },
    {
     "data": {
      "text/html": [
       "<table border=\"1\" class=\"dataframe\">\n",
       "  <thead>\n",
       "    <tr style=\"text-align: left;\">\n",
       "      <th>epoch</th>\n",
       "      <th>train_loss</th>\n",
       "      <th>valid_loss</th>\n",
       "      <th>accuracy</th>\n",
       "      <th>time</th>\n",
       "    </tr>\n",
       "  </thead>\n",
       "  <tbody>\n",
       "    <tr>\n",
       "      <td>0</td>\n",
       "      <td>4.601068</td>\n",
       "      <td>4.583961</td>\n",
       "      <td>0.295012</td>\n",
       "      <td>19:23</td>\n",
       "    </tr>\n",
       "    <tr>\n",
       "      <td>1</td>\n",
       "      <td>4.392578</td>\n",
       "      <td>4.414185</td>\n",
       "      <td>0.306398</td>\n",
       "      <td>19:21</td>\n",
       "    </tr>\n",
       "  </tbody>\n",
       "</table>"
      ],
      "text/plain": [
       "<IPython.core.display.HTML object>"
      ]
     },
     "metadata": {
      "tags": []
     },
     "output_type": "display_data"
    },
    {
     "data": {
      "text/html": [
       "<table border=\"1\" class=\"dataframe\">\n",
       "  <thead>\n",
       "    <tr style=\"text-align: left;\">\n",
       "      <th>epoch</th>\n",
       "      <th>train_loss</th>\n",
       "      <th>valid_loss</th>\n",
       "      <th>accuracy</th>\n",
       "      <th>time</th>\n",
       "    </tr>\n",
       "  </thead>\n",
       "  <tbody>\n",
       "    <tr>\n",
       "      <td>0</td>\n",
       "      <td>4.556533</td>\n",
       "      <td>4.532558</td>\n",
       "      <td>0.299726</td>\n",
       "      <td>20:14</td>\n",
       "    </tr>\n",
       "    <tr>\n",
       "      <td>1</td>\n",
       "      <td>4.331052</td>\n",
       "      <td>4.342235</td>\n",
       "      <td>0.312570</td>\n",
       "      <td>20:14</td>\n",
       "    </tr>\n",
       "  </tbody>\n",
       "</table>"
      ],
      "text/plain": [
       "<IPython.core.display.HTML object>"
      ]
     },
     "metadata": {
      "tags": []
     },
     "output_type": "display_data"
    }
   ],
   "source": [
    "learn.freeze()\n",
    "learn.fit_one_cycle(2, 1e-2)\n",
    "learn.save('10train_wiki_lm_head');\n",
    "learn.freeze_to(-2)\n",
    "learn.fit_one_cycle(2, 1e-2)\n",
    "learn.save('10train_wiki_lm_body_1');\n",
    "learn.freeze_to(-3)\n",
    "learn.fit_one_cycle(2, 1e-2)\n",
    "learn.save('10train_wiki_lm_body_2');"
   ]
  },
  {
   "cell_type": "code",
   "execution_count": 0,
   "metadata": {
    "colab": {
     "base_uri": "https://localhost:8080/",
     "height": 175
    },
    "colab_type": "code",
    "id": "7NmQ_2t9_ziH",
    "outputId": "73a0cdc1-1bce-4f00-9690-92ea9d3884bc"
   },
   "outputs": [
    {
     "data": {
      "text/html": [
       "<table border=\"1\" class=\"dataframe\">\n",
       "  <thead>\n",
       "    <tr style=\"text-align: left;\">\n",
       "      <th>epoch</th>\n",
       "      <th>train_loss</th>\n",
       "      <th>valid_loss</th>\n",
       "      <th>accuracy</th>\n",
       "      <th>time</th>\n",
       "    </tr>\n",
       "  </thead>\n",
       "  <tbody>\n",
       "    <tr>\n",
       "      <td>0</td>\n",
       "      <td>4.154052</td>\n",
       "      <td>4.325961</td>\n",
       "      <td>0.313524</td>\n",
       "      <td>21:07</td>\n",
       "    </tr>\n",
       "    <tr>\n",
       "      <td>1</td>\n",
       "      <td>4.144258</td>\n",
       "      <td>4.297837</td>\n",
       "      <td>0.315467</td>\n",
       "      <td>21:07</td>\n",
       "    </tr>\n",
       "    <tr>\n",
       "      <td>2</td>\n",
       "      <td>4.031370</td>\n",
       "      <td>4.281765</td>\n",
       "      <td>0.316788</td>\n",
       "      <td>21:09</td>\n",
       "    </tr>\n",
       "    <tr>\n",
       "      <td>3</td>\n",
       "      <td>3.992074</td>\n",
       "      <td>4.282953</td>\n",
       "      <td>0.316502</td>\n",
       "      <td>21:08</td>\n",
       "    </tr>\n",
       "  </tbody>\n",
       "</table>"
      ],
      "text/plain": [
       "<IPython.core.display.HTML object>"
      ]
     },
     "metadata": {
      "tags": []
     },
     "output_type": "display_data"
    }
   ],
   "source": [
    "learn.unfreeze()\n",
    "learn.fit_one_cycle(4, 1e-3)\n",
    "learn.save('10train_wiki_lm_body_3');"
   ]
  },
  {
   "cell_type": "code",
   "execution_count": 0,
   "metadata": {
    "colab": {
     "base_uri": "https://localhost:8080/",
     "height": 175
    },
    "colab_type": "code",
    "id": "h8QzfSyH_ziN",
    "outputId": "5b8dd292-b45b-4d54-f68e-a8ad9d8ac2af"
   },
   "outputs": [
    {
     "data": {
      "text/html": [
       "<table border=\"1\" class=\"dataframe\">\n",
       "  <thead>\n",
       "    <tr style=\"text-align: left;\">\n",
       "      <th>epoch</th>\n",
       "      <th>train_loss</th>\n",
       "      <th>valid_loss</th>\n",
       "      <th>accuracy</th>\n",
       "      <th>time</th>\n",
       "    </tr>\n",
       "  </thead>\n",
       "  <tbody>\n",
       "    <tr>\n",
       "      <td>0</td>\n",
       "      <td>3.980323</td>\n",
       "      <td>4.287921</td>\n",
       "      <td>0.316352</td>\n",
       "      <td>21:09</td>\n",
       "    </tr>\n",
       "    <tr>\n",
       "      <td>1</td>\n",
       "      <td>4.066355</td>\n",
       "      <td>4.277338</td>\n",
       "      <td>0.316746</td>\n",
       "      <td>21:09</td>\n",
       "    </tr>\n",
       "    <tr>\n",
       "      <td>2</td>\n",
       "      <td>3.954869</td>\n",
       "      <td>4.268483</td>\n",
       "      <td>0.317390</td>\n",
       "      <td>21:09</td>\n",
       "    </tr>\n",
       "    <tr>\n",
       "      <td>3</td>\n",
       "      <td>3.852179</td>\n",
       "      <td>4.272539</td>\n",
       "      <td>0.317336</td>\n",
       "      <td>21:08</td>\n",
       "    </tr>\n",
       "  </tbody>\n",
       "</table>"
      ],
      "text/plain": [
       "<IPython.core.display.HTML object>"
      ]
     },
     "metadata": {
      "tags": []
     },
     "output_type": "display_data"
    }
   ],
   "source": [
    "learn.unfreeze()\n",
    "learn.fit_one_cycle(4, 1e-3)\n",
    "learn.save('10train_wiki_lm_body_4');"
   ]
  },
  {
   "cell_type": "code",
   "execution_count": 0,
   "metadata": {
    "colab": {},
    "colab_type": "code",
    "id": "CzklAN1K_ziT"
   },
   "outputs": [],
   "source": [
    "learn.save_encoder('10train_wiki_lm_enc')"
   ]
  },
  {
   "cell_type": "markdown",
   "metadata": {
    "colab_type": "text",
    "id": "qnwZxvaN_ziY"
   },
   "source": [
    "### Classifier"
   ]
  },
  {
   "cell_type": "markdown",
   "metadata": {
    "colab_type": "text",
    "id": "ZXNTQBl6_ziY"
   },
   "source": [
    "Now, we'll create a new data object that only grabs the labelled data and keeps those labels. Again, this line takes a bit of time."
   ]
  },
  {
   "cell_type": "code",
   "execution_count": 0,
   "metadata": {
    "colab": {},
    "colab_type": "code",
    "id": "lqXM8-fV_zia"
   },
   "outputs": [],
   "source": [
    "data_clas = TextClasDataBunch.from_csv(subsets, '10train.csv', vocab=data_lm.train_ds.vocab, bs=bs)\n",
    "data_clas.save('10train_data_clas_wiki.pkl')"
   ]
  },
  {
   "cell_type": "code",
   "execution_count": 0,
   "metadata": {
    "colab": {},
    "colab_type": "code",
    "id": "Nx8hYSVIaVLd"
   },
   "outputs": [],
   "source": [
    "data_clas=load_data(subsets,'10train_data_clas_wiki.pkl',bs=bs)"
   ]
  },
  {
   "cell_type": "code",
   "execution_count": 0,
   "metadata": {
    "colab": {
     "base_uri": "https://localhost:8080/",
     "height": 363
    },
    "colab_type": "code",
    "id": "ZNpX0m6w_zid",
    "outputId": "30d2c401-bd50-4a7a-dce1-2fa5268aee43"
   },
   "outputs": [
    {
     "data": {
      "text/html": [
       "<table border=\"1\" class=\"dataframe\">\n",
       "  <thead>\n",
       "    <tr style=\"text-align: right;\">\n",
       "      <th>text</th>\n",
       "      <th>target</th>\n",
       "    </tr>\n",
       "  </thead>\n",
       "  <tbody>\n",
       "    <tr>\n",
       "      <td>xxbos তাদের মধ্যে কেউ তাকে খুন করেছে ? ’ ‘ কলকাতার xxunk যাদের নাম আছে তাদের xxunk করলে xxunk আন্দাজ করা xxunk , এবার তিন নম্বর xxunk সঙ্গে দেখা করা যাক । ’ ‘ xxunk । ’ তিন নম্বর ঘরে xxunk সান্যাল xxunk xxunk হয়ে শুয়ে xxunk , xxunk শুনে xxunk তুললেন । xxunk , ‘ কে ? ’ xxunk সংক্ষেপে xxunk , ‘ পুলিস । ’ xxunk উঠে xxunk</td>\n",
       "      <td>shordindu</td>\n",
       "    </tr>\n",
       "    <tr>\n",
       "      <td>xxbos হচ্ছে । আগে তো এরকম কখনো xxunk নি ! মিসির আলি - টালি xxunk , xxunk কোনো xxunk দেখানো দরকার । xxunk করে শব্দ হচ্ছে রান্না ঘরে । ইঁদুরের উপদ্রব । তবু কেন জানি শব্দটা অন্য রকম মনে হচ্ছে । যেন কেউ xxunk রান্নাঘরে । xxunk শব্দও হলো xxunk বার । আনিস বলল , ‘ কে ? ’ রান্নাঘরের শব্দটা হঠাৎ থেমে গেল । আনিস বলল , ‘ কে</td>\n",
       "      <td>humayun_ahmed</td>\n",
       "    </tr>\n",
       "    <tr>\n",
       "      <td>xxbos নেই । তবে – ’ xxunk xxunk xxunk গেল । ব্যোমকেশ প্রশ্ন xxunk , ‘ তবে কি ? ’ xxunk সিগারেট xxunk xxunk , বাকি অর্ধেক xxunk সে সযত্নে পকেটে xxunk , xxunk , ‘ xxunk xxunk এক টিন পেট্রোল রাখা xxunk , দেখা গেল টিন খালি । ’ ‘ তার মানে — ’ ব্যোমকেশ কথা অসমাপ্ত xxunk চিন্তার মধ্যে xxunk গেল । xxunk xxunk xxunk , xxunk ,</td>\n",
       "      <td>shordindu</td>\n",
       "    </tr>\n",
       "    <tr>\n",
       "      <td>xxbos xxunk রাখার xxunk প্রথম পাঠ । আমাদের মেসে সকালবেলা চা xxunk না । চা খেতে রাস্তার xxunk xxunk যেতে xxunk । সেই xxunk পৃথিবীর সবচে ’ মিষ্টি এবং একই সঙ্গে পৃথিবীর সবচে ’ গরম চা xxunk xxunk । এই চা প্রথম দু ’ দিন খেতে খারাপ লাগে । কিন্তু xxunk দিন থেকে নেশা ধরে xxunk । ঘুম থেকে xxunk xxunk কাপ চা খেতে ইচ্ছা করে । xxunk পা xxunk</td>\n",
       "      <td>humayun_ahmed</td>\n",
       "    </tr>\n",
       "    <tr>\n",
       "      <td>xxbos ‘ কি হল xxunk ধরে ? ’ ব্যোমকেশ xxunk হাস্য xxunk xxunk , ‘ xxunk , xxunk যা xxunk ? ’ xxunk xxunk xxunk , ‘ কথা চাপা দিও না । পাঁচ ঘণ্টা ধরে কি কথা হল ? ’ ব্যোমকেশ জিভ xxunk , ‘ পুলিসের xxunk কি বলতে আছে ? তবে এমন কোনও কথা xxunk যা তুমি জান না । ’ ‘ হত্যাকারী কে ? ’ ‘ xxunk দে</td>\n",
       "      <td>shordindu</td>\n",
       "    </tr>\n",
       "  </tbody>\n",
       "</table>"
      ],
      "text/plain": [
       "<IPython.core.display.HTML object>"
      ]
     },
     "metadata": {
      "tags": []
     },
     "output_type": "display_data"
    }
   ],
   "source": [
    "data_clas.show_batch()"
   ]
  },
  {
   "cell_type": "code",
   "execution_count": 0,
   "metadata": {
    "colab": {},
    "colab_type": "code",
    "id": "GJ77bCeI_zij"
   },
   "outputs": [],
   "source": [
    "learn_cls = text_classifier_learner(data_clas, AWD_LSTM, drop_mult=0.5, pretrained=False)"
   ]
  },
  {
   "cell_type": "code",
   "execution_count": 0,
   "metadata": {
    "colab": {},
    "colab_type": "code",
    "id": "iwMHR4u4_zin"
   },
   "outputs": [],
   "source": [
    "learn_cls.load_encoder('10train_wiki_lm_enc')"
   ]
  },
  {
   "cell_type": "code",
   "execution_count": 0,
   "metadata": {
    "colab": {},
    "colab_type": "code",
    "id": "6shBvwJf_ziq"
   },
   "outputs": [],
   "source": [
    "learn_cls.freeze()"
   ]
  },
  {
   "cell_type": "code",
   "execution_count": 0,
   "metadata": {
    "colab": {
     "base_uri": "https://localhost:8080/",
     "height": 35
    },
    "colab_type": "code",
    "id": "3lxGCqfd_ziv",
    "outputId": "6be859e1-0aa7-473b-8f27-03e03eb71603"
   },
   "outputs": [
    {
     "data": {
      "text/html": [],
      "text/plain": [
       "<IPython.core.display.HTML object>"
      ]
     },
     "metadata": {
      "tags": []
     },
     "output_type": "display_data"
    },
    {
     "name": "stdout",
     "output_type": "stream",
     "text": [
      "LR Finder is complete, type {learner_name}.recorder.plot() to see the graph.\n"
     ]
    }
   ],
   "source": [
    "learn_cls.lr_find()"
   ]
  },
  {
   "cell_type": "code",
   "execution_count": 0,
   "metadata": {
    "colab": {
     "base_uri": "https://localhost:8080/",
     "height": 283
    },
    "colab_type": "code",
    "id": "p-ZGlfJK_ziz",
    "outputId": "c96e6cc9-9bfe-4b24-de88-78a17919266a"
   },
   "outputs": [
    {
     "data": {
      "image/png": "[encoded data removed]",
      "text/plain": [
       "<Figure size 432x288 with 1 Axes>"
      ]
     },
     "metadata": {
      "tags": []
     },
     "output_type": "display_data"
    }
   ],
   "source": [
    "learn_cls.recorder.plot(skip_end=7)"
   ]
  },
  {
   "cell_type": "code",
   "execution_count": 0,
   "metadata": {
    "colab": {
     "base_uri": "https://localhost:8080/",
     "height": 381
    },
    "colab_type": "code",
    "id": "3EkCtC92_zi4",
    "outputId": "b8f82e15-e3e8-43a8-95a6-4faec3c0f278"
   },
   "outputs": [
    {
     "data": {
      "text/html": [
       "<table border=\"1\" class=\"dataframe\">\n",
       "  <thead>\n",
       "    <tr style=\"text-align: left;\">\n",
       "      <th>epoch</th>\n",
       "      <th>train_loss</th>\n",
       "      <th>valid_loss</th>\n",
       "      <th>accuracy</th>\n",
       "      <th>time</th>\n",
       "    </tr>\n",
       "  </thead>\n",
       "  <tbody>\n",
       "    <tr>\n",
       "      <td>0</td>\n",
       "      <td>0.146309</td>\n",
       "      <td>0.013042</td>\n",
       "      <td>0.996321</td>\n",
       "      <td>05:00</td>\n",
       "    </tr>\n",
       "    <tr>\n",
       "      <td>1</td>\n",
       "      <td>0.034273</td>\n",
       "      <td>0.015044</td>\n",
       "      <td>0.997057</td>\n",
       "      <td>04:58</td>\n",
       "    </tr>\n",
       "  </tbody>\n",
       "</table>"
      ],
      "text/plain": [
       "<IPython.core.display.HTML object>"
      ]
     },
     "metadata": {
      "tags": []
     },
     "output_type": "display_data"
    },
    {
     "data": {
      "text/html": [
       "<table border=\"1\" class=\"dataframe\">\n",
       "  <thead>\n",
       "    <tr style=\"text-align: left;\">\n",
       "      <th>epoch</th>\n",
       "      <th>train_loss</th>\n",
       "      <th>valid_loss</th>\n",
       "      <th>accuracy</th>\n",
       "      <th>time</th>\n",
       "    </tr>\n",
       "  </thead>\n",
       "  <tbody>\n",
       "    <tr>\n",
       "      <td>0</td>\n",
       "      <td>0.063191</td>\n",
       "      <td>0.010963</td>\n",
       "      <td>0.994849</td>\n",
       "      <td>05:47</td>\n",
       "    </tr>\n",
       "    <tr>\n",
       "      <td>1</td>\n",
       "      <td>0.014264</td>\n",
       "      <td>0.010075</td>\n",
       "      <td>0.996321</td>\n",
       "      <td>05:52</td>\n",
       "    </tr>\n",
       "  </tbody>\n",
       "</table>"
      ],
      "text/plain": [
       "<IPython.core.display.HTML object>"
      ]
     },
     "metadata": {
      "tags": []
     },
     "output_type": "display_data"
    },
    {
     "data": {
      "text/html": [
       "<table border=\"1\" class=\"dataframe\">\n",
       "  <thead>\n",
       "    <tr style=\"text-align: left;\">\n",
       "      <th>epoch</th>\n",
       "      <th>train_loss</th>\n",
       "      <th>valid_loss</th>\n",
       "      <th>accuracy</th>\n",
       "      <th>time</th>\n",
       "    </tr>\n",
       "  </thead>\n",
       "  <tbody>\n",
       "    <tr>\n",
       "      <td>0</td>\n",
       "      <td>0.015582</td>\n",
       "      <td>0.015265</td>\n",
       "      <td>0.996321</td>\n",
       "      <td>08:42</td>\n",
       "    </tr>\n",
       "    <tr>\n",
       "      <td>1</td>\n",
       "      <td>0.008603</td>\n",
       "      <td>0.006090</td>\n",
       "      <td>0.997792</td>\n",
       "      <td>08:37</td>\n",
       "    </tr>\n",
       "  </tbody>\n",
       "</table>"
      ],
      "text/plain": [
       "<IPython.core.display.HTML object>"
      ]
     },
     "metadata": {
      "tags": []
     },
     "output_type": "display_data"
    },
    {
     "data": {
      "text/html": [
       "\n",
       "    <div>\n",
       "        <style>\n",
       "            /* Turns off some styling */\n",
       "            progress {\n",
       "                /* gets rid of default border in Firefox and Opera. */\n",
       "                border: none;\n",
       "                /* Needs to be in here for Safari polyfill so background images work as expected. */\n",
       "                background-size: auto;\n",
       "            }\n",
       "            .progress-bar-interrupted, .progress-bar-interrupted::-webkit-progress-bar {\n",
       "                background: #F44336;\n",
       "            }\n",
       "        </style>\n",
       "      <progress value='0' class='' max='4', style='width:300px; height:20px; vertical-align: middle;'></progress>\n",
       "      0.00% [0/4 00:00<00:00]\n",
       "    </div>\n",
       "    \n",
       "<table border=\"1\" class=\"dataframe\">\n",
       "  <thead>\n",
       "    <tr style=\"text-align: left;\">\n",
       "      <th>epoch</th>\n",
       "      <th>train_loss</th>\n",
       "      <th>valid_loss</th>\n",
       "      <th>accuracy</th>\n",
       "      <th>time</th>\n",
       "    </tr>\n",
       "  </thead>\n",
       "  <tbody>\n",
       "  </tbody>\n",
       "</table><p>\n",
       "\n",
       "    <div>\n",
       "        <style>\n",
       "            /* Turns off some styling */\n",
       "            progress {\n",
       "                /* gets rid of default border in Firefox and Opera. */\n",
       "                border: none;\n",
       "                /* Needs to be in here for Safari polyfill so background images work as expected. */\n",
       "                background-size: auto;\n",
       "            }\n",
       "            .progress-bar-interrupted, .progress-bar-interrupted::-webkit-progress-bar {\n",
       "                background: #F44336;\n",
       "            }\n",
       "        </style>\n",
       "      <progress value='0' class='' max='169', style='width:300px; height:20px; vertical-align: middle;'></progress>\n",
       "      0.00% [0/169 00:00<00:00]\n",
       "    </div>\n",
       "    "
      ],
      "text/plain": [
       "<IPython.core.display.HTML object>"
      ]
     },
     "metadata": {
      "tags": []
     },
     "output_type": "display_data"
    }
   ],
   "source": [
    "learn_cls.fit_one_cycle(2, 1e-2, moms=(0.8,0.7))\n",
    "learn_cls.save('10train_wiki_cls_1')\n",
    "learn_cls.freeze_to(-2)\n",
    "learn_cls.fit_one_cycle(2 , slice(1e-2/(2.8**4),1e-2), moms=(0.8,0.7))\n",
    "learn_cls.save('10train_wiki_cls_2')\n",
    "learn_cls.freeze_to(-3)\n",
    "learn_cls.fit_one_cycle(2, slice(5e-3/(2.8**4),5e-3), moms=(0.8,0.7))\n",
    "learn_cls.save('10train_wiki_cls_3')\n",
    "learn_cls.unfreeze()\n",
    "learn_cls.fit_one_cycle(4, slice(1e-3/(2.8**4),1e-3), moms=(0.8,0.7))\n",
    "learn_cls.save('10train_wiki_cls_4')"
   ]
  },
  {
   "cell_type": "code",
   "execution_count": 0,
   "metadata": {
    "colab": {
     "base_uri": "https://localhost:8080/",
     "height": 173
    },
    "colab_type": "code",
    "id": "ttvtlVMVacv5",
    "outputId": "96c65414-932f-405e-c537-706a44f84fbf"
   },
   "outputs": [
    {
     "data": {
      "text/html": [
       "<table border=\"1\" class=\"dataframe\">\n",
       "  <thead>\n",
       "    <tr style=\"text-align: left;\">\n",
       "      <th>epoch</th>\n",
       "      <th>train_loss</th>\n",
       "      <th>valid_loss</th>\n",
       "      <th>accuracy</th>\n",
       "      <th>time</th>\n",
       "    </tr>\n",
       "  </thead>\n",
       "  <tbody>\n",
       "    <tr>\n",
       "      <td>0</td>\n",
       "      <td>0.009126</td>\n",
       "      <td>0.006598</td>\n",
       "      <td>0.997792</td>\n",
       "      <td>10:46</td>\n",
       "    </tr>\n",
       "    <tr>\n",
       "      <td>1</td>\n",
       "      <td>0.007444</td>\n",
       "      <td>0.008006</td>\n",
       "      <td>0.997792</td>\n",
       "      <td>10:50</td>\n",
       "    </tr>\n",
       "    <tr>\n",
       "      <td>2</td>\n",
       "      <td>0.004202</td>\n",
       "      <td>0.006529</td>\n",
       "      <td>0.999264</td>\n",
       "      <td>10:54</td>\n",
       "    </tr>\n",
       "    <tr>\n",
       "      <td>3</td>\n",
       "      <td>0.004363</td>\n",
       "      <td>0.006427</td>\n",
       "      <td>0.999264</td>\n",
       "      <td>10:50</td>\n",
       "    </tr>\n",
       "  </tbody>\n",
       "</table>"
      ],
      "text/plain": [
       "<IPython.core.display.HTML object>"
      ]
     },
     "metadata": {
      "tags": []
     },
     "output_type": "display_data"
    }
   ],
   "source": [
    "learn_cls.load('10train_wiki_cls_3')\n",
    "learn_cls.unfreeze()\n",
    "learn_cls.fit_one_cycle(4, slice(1e-3/(2.8**4),1e-3), moms=(0.8,0.7))\n",
    "learn_cls.save('10train_wiki_cls_4')"
   ]
  },
  {
   "cell_type": "markdown",
   "metadata": {
    "colab_type": "text",
    "id": "ww4YeieB_zi8"
   },
   "source": [
    "#### Testing"
   ]
  },
  {
   "cell_type": "code",
   "execution_count": 0,
   "metadata": {
    "colab": {
     "base_uri": "https://localhost:8080/",
     "height": 105
    },
    "colab_type": "code",
    "id": "644b6Cpy_zi9",
    "outputId": "2f803b76-0463-4a41-eab8-8c0bdc2f3e85"
   },
   "outputs": [
    {
     "name": "stdout",
     "output_type": "stream",
     "text": [
      "1700\n",
      "Accuracy: \n",
      "0.9970588235294118\n",
      "[('shordindu', 'shunil_gongopaddhay'), ('shordindu', 'robindronath'), ('MZI', 'humayun_ahmed'), ('humayun_ahmed', 'MZI'), ('humayun_ahmed', 'MZI')]\n"
     ]
    }
   ],
   "source": [
    "pred,targ = testing(subsets/\"10test.csv\")"
   ]
  },
  {
   "cell_type": "code",
   "execution_count": 0,
   "metadata": {
    "colab": {
     "base_uri": "https://localhost:8080/",
     "height": 51
    },
    "colab_type": "code",
    "id": "XQcq2Rzy_zjC",
    "outputId": "8970c6cb-ba09-4f62-bba9-00ba9ed100d9"
   },
   "outputs": [
    {
     "data": {
      "text/plain": [
       "(array([0.991202, 0.99115 , 0.997067, 1.      , 1.      , 0.994083, 1.      , 1.      , 0.997067, 1.      ]),\n",
       " 0.9970570526116322)"
      ]
     },
     "execution_count": 18,
     "metadata": {
      "tags": []
     },
     "output_type": "execute_result"
    }
   ],
   "source": [
    "from sklearn.metrics import f1_score\n",
    "out  = f1_score(targ, pred, average=None) #'macro' , also == weighted cuz dataset is balanced\n",
    "out , out.mean()"
   ]
  },
  {
   "cell_type": "code",
   "execution_count": 0,
   "metadata": {
    "colab": {},
    "colab_type": "code",
    "id": "Gu4_SegN_zjH"
   },
   "outputs": [],
   "source": []
  },
  {
   "cell_type": "markdown",
   "metadata": {
    "colab_type": "text",
    "id": "NIN4y-89piFQ"
   },
   "source": [
    "## 12 Authors"
   ]
  },
  {
   "cell_type": "markdown",
   "metadata": {
    "colab_type": "text",
    "id": "O2h7DD8WpiFW"
   },
   "source": [
    "### LM tuning"
   ]
  },
  {
   "cell_type": "code",
   "execution_count": 0,
   "metadata": {
    "colab": {},
    "colab_type": "code",
    "id": "FjoCjg-xpiFX"
   },
   "outputs": [],
   "source": [
    "# Language model data AA\n",
    "data_lm_AA = TextLMDataBunch.from_csv(subsets, '12train.csv', vocab=data_lm.train_ds.vocab, bs=bs)\n",
    "data_lm_AA.save('12train_data_lm_wiki.pkl')"
   ]
  },
  {
   "cell_type": "code",
   "execution_count": 0,
   "metadata": {
    "colab": {},
    "colab_type": "code",
    "id": "XV8O3GqApiFf"
   },
   "outputs": [],
   "source": [
    "data_lm_AA=load_data(subsets,'12train_data_lm_wiki.pkl',bs=bs)"
   ]
  },
  {
   "cell_type": "code",
   "execution_count": 0,
   "metadata": {
    "colab": {},
    "colab_type": "code",
    "id": "en35IApSpiFj"
   },
   "outputs": [],
   "source": [
    "learn = language_model_learner(data_lm_AA, AWD_LSTM, pretrained=False, drop_mult=0.5)"
   ]
  },
  {
   "cell_type": "code",
   "execution_count": 0,
   "metadata": {
    "colab": {},
    "colab_type": "code",
    "id": "4-wb04xMpiFn"
   },
   "outputs": [],
   "source": [
    "learn.load(wiki/'models'/'wiki_word_lm_30');"
   ]
  },
  {
   "cell_type": "code",
   "execution_count": 0,
   "metadata": {
    "colab": {},
    "colab_type": "code",
    "id": "ZGQ-Y-7qpiFr"
   },
   "outputs": [],
   "source": [
    "learn.freeze()"
   ]
  },
  {
   "cell_type": "code",
   "execution_count": 0,
   "metadata": {
    "colab": {
     "base_uri": "https://localhost:8080/",
     "height": 300
    },
    "colab_type": "code",
    "id": "ZcIZoLf7piFw",
    "outputId": "da3eced4-bc90-4996-f312-975d365e18e2"
   },
   "outputs": [
    {
     "data": {
      "text/html": [],
      "text/plain": [
       "<IPython.core.display.HTML object>"
      ]
     },
     "metadata": {
      "tags": []
     },
     "output_type": "display_data"
    },
    {
     "name": "stdout",
     "output_type": "stream",
     "text": [
      "LR Finder is complete, type {learner_name}.recorder.plot() to see the graph.\n"
     ]
    },
    {
     "data": {
      "image/png": "[encoded data removed]",
      "text/plain": [
       "<Figure size 432x288 with 1 Axes>"
      ]
     },
     "metadata": {
      "tags": []
     },
     "output_type": "display_data"
    }
   ],
   "source": [
    "learn.lr_find()\n",
    "learn.recorder.plot()"
   ]
  },
  {
   "cell_type": "code",
   "execution_count": 0,
   "metadata": {
    "colab": {
     "base_uri": "https://localhost:8080/",
     "height": 283
    },
    "colab_type": "code",
    "id": "FOjw-N80piF6",
    "outputId": "981e69f0-dda5-44aa-bec0-be30889ebbdc"
   },
   "outputs": [
    {
     "data": {
      "image/png": "[encoded data removed]",
      "text/plain": [
       "<Figure size 432x288 with 1 Axes>"
      ]
     },
     "metadata": {
      "tags": []
     },
     "output_type": "display_data"
    }
   ],
   "source": [
    "learn.recorder.plot(skip_end=15)"
   ]
  },
  {
   "cell_type": "code",
   "execution_count": 0,
   "metadata": {
    "colab": {
     "base_uri": "https://localhost:8080/",
     "height": 299
    },
    "colab_type": "code",
    "id": "yppgPQ0QpiGG",
    "outputId": "766321bc-7b48-4487-8b47-c21782484d97"
   },
   "outputs": [
    {
     "data": {
      "text/html": [
       "<table border=\"1\" class=\"dataframe\">\n",
       "  <thead>\n",
       "    <tr style=\"text-align: left;\">\n",
       "      <th>epoch</th>\n",
       "      <th>train_loss</th>\n",
       "      <th>valid_loss</th>\n",
       "      <th>accuracy</th>\n",
       "      <th>time</th>\n",
       "    </tr>\n",
       "  </thead>\n",
       "  <tbody>\n",
       "    <tr>\n",
       "      <td>0</td>\n",
       "      <td>4.793042</td>\n",
       "      <td>4.711890</td>\n",
       "      <td>0.290782</td>\n",
       "      <td>14:42</td>\n",
       "    </tr>\n",
       "    <tr>\n",
       "      <td>1</td>\n",
       "      <td>4.552779</td>\n",
       "      <td>4.588085</td>\n",
       "      <td>0.297231</td>\n",
       "      <td>14:41</td>\n",
       "    </tr>\n",
       "  </tbody>\n",
       "</table>"
      ],
      "text/plain": [
       "<IPython.core.display.HTML object>"
      ]
     },
     "metadata": {
      "tags": []
     },
     "output_type": "display_data"
    },
    {
     "data": {
      "text/html": [
       "<table border=\"1\" class=\"dataframe\">\n",
       "  <thead>\n",
       "    <tr style=\"text-align: left;\">\n",
       "      <th>epoch</th>\n",
       "      <th>train_loss</th>\n",
       "      <th>valid_loss</th>\n",
       "      <th>accuracy</th>\n",
       "      <th>time</th>\n",
       "    </tr>\n",
       "  </thead>\n",
       "  <tbody>\n",
       "    <tr>\n",
       "      <td>0</td>\n",
       "      <td>4.548854</td>\n",
       "      <td>4.594985</td>\n",
       "      <td>0.300416</td>\n",
       "      <td>14:57</td>\n",
       "    </tr>\n",
       "    <tr>\n",
       "      <td>1</td>\n",
       "      <td>4.381627</td>\n",
       "      <td>4.436309</td>\n",
       "      <td>0.311224</td>\n",
       "      <td>14:55</td>\n",
       "    </tr>\n",
       "  </tbody>\n",
       "</table>"
      ],
      "text/plain": [
       "<IPython.core.display.HTML object>"
      ]
     },
     "metadata": {
      "tags": []
     },
     "output_type": "display_data"
    },
    {
     "data": {
      "text/html": [
       "<table border=\"1\" class=\"dataframe\">\n",
       "  <thead>\n",
       "    <tr style=\"text-align: left;\">\n",
       "      <th>epoch</th>\n",
       "      <th>train_loss</th>\n",
       "      <th>valid_loss</th>\n",
       "      <th>accuracy</th>\n",
       "      <th>time</th>\n",
       "    </tr>\n",
       "  </thead>\n",
       "  <tbody>\n",
       "    <tr>\n",
       "      <td>0</td>\n",
       "      <td>4.550563</td>\n",
       "      <td>4.554372</td>\n",
       "      <td>0.304061</td>\n",
       "      <td>15:50</td>\n",
       "    </tr>\n",
       "    <tr>\n",
       "      <td>1</td>\n",
       "      <td>4.318315</td>\n",
       "      <td>4.371192</td>\n",
       "      <td>0.316445</td>\n",
       "      <td>15:47</td>\n",
       "    </tr>\n",
       "  </tbody>\n",
       "</table>"
      ],
      "text/plain": [
       "<IPython.core.display.HTML object>"
      ]
     },
     "metadata": {
      "tags": []
     },
     "output_type": "display_data"
    }
   ],
   "source": [
    "learn.freeze()\n",
    "learn.fit_one_cycle(2, 1e-2)\n",
    "learn.save('12train_wiki_lm_head');\n",
    "learn.freeze_to(-2)\n",
    "learn.fit_one_cycle(2, 1e-2)\n",
    "learn.save('12train_wiki_lm_body_1');\n",
    "learn.freeze_to(-3)\n",
    "learn.fit_one_cycle(2, 1e-2)\n",
    "learn.save('12train_wiki_lm_body_2');"
   ]
  },
  {
   "cell_type": "code",
   "execution_count": 0,
   "metadata": {
    "colab": {
     "base_uri": "https://localhost:8080/",
     "height": 173
    },
    "colab_type": "code",
    "id": "d7M474oSpiGO",
    "outputId": "175012d2-ca48-42fa-ac52-01a15692c257"
   },
   "outputs": [
    {
     "data": {
      "text/html": [
       "<table border=\"1\" class=\"dataframe\">\n",
       "  <thead>\n",
       "    <tr style=\"text-align: left;\">\n",
       "      <th>epoch</th>\n",
       "      <th>train_loss</th>\n",
       "      <th>valid_loss</th>\n",
       "      <th>accuracy</th>\n",
       "      <th>time</th>\n",
       "    </tr>\n",
       "  </thead>\n",
       "  <tbody>\n",
       "    <tr>\n",
       "      <td>0</td>\n",
       "      <td>4.114634</td>\n",
       "      <td>4.362712</td>\n",
       "      <td>0.316821</td>\n",
       "      <td>16:19</td>\n",
       "    </tr>\n",
       "    <tr>\n",
       "      <td>1</td>\n",
       "      <td>4.138265</td>\n",
       "      <td>4.331767</td>\n",
       "      <td>0.318709</td>\n",
       "      <td>16:19</td>\n",
       "    </tr>\n",
       "    <tr>\n",
       "      <td>2</td>\n",
       "      <td>4.043723</td>\n",
       "      <td>4.321959</td>\n",
       "      <td>0.319587</td>\n",
       "      <td>16:21</td>\n",
       "    </tr>\n",
       "    <tr>\n",
       "      <td>3</td>\n",
       "      <td>3.952391</td>\n",
       "      <td>4.325200</td>\n",
       "      <td>0.319370</td>\n",
       "      <td>16:19</td>\n",
       "    </tr>\n",
       "  </tbody>\n",
       "</table>"
      ],
      "text/plain": [
       "<IPython.core.display.HTML object>"
      ]
     },
     "metadata": {
      "tags": []
     },
     "output_type": "display_data"
    }
   ],
   "source": [
    "learn.unfreeze()\n",
    "learn.fit_one_cycle(4, 1e-3)\n",
    "learn.save('12train_wiki_lm_body_3');"
   ]
  },
  {
   "cell_type": "code",
   "execution_count": 0,
   "metadata": {
    "colab": {
     "base_uri": "https://localhost:8080/",
     "height": 173
    },
    "colab_type": "code",
    "id": "v14XI33qpiGX",
    "outputId": "abe59456-6a73-46b4-bf1e-fd74f2b9150f"
   },
   "outputs": [
    {
     "data": {
      "text/html": [
       "<table border=\"1\" class=\"dataframe\">\n",
       "  <thead>\n",
       "    <tr style=\"text-align: left;\">\n",
       "      <th>epoch</th>\n",
       "      <th>train_loss</th>\n",
       "      <th>valid_loss</th>\n",
       "      <th>accuracy</th>\n",
       "      <th>time</th>\n",
       "    </tr>\n",
       "  </thead>\n",
       "  <tbody>\n",
       "    <tr>\n",
       "      <td>0</td>\n",
       "      <td>4.005393</td>\n",
       "      <td>4.326457</td>\n",
       "      <td>0.319328</td>\n",
       "      <td>16:20</td>\n",
       "    </tr>\n",
       "    <tr>\n",
       "      <td>1</td>\n",
       "      <td>4.029383</td>\n",
       "      <td>4.317846</td>\n",
       "      <td>0.319606</td>\n",
       "      <td>16:18</td>\n",
       "    </tr>\n",
       "    <tr>\n",
       "      <td>2</td>\n",
       "      <td>3.933014</td>\n",
       "      <td>4.315534</td>\n",
       "      <td>0.319959</td>\n",
       "      <td>16:10</td>\n",
       "    </tr>\n",
       "    <tr>\n",
       "      <td>3</td>\n",
       "      <td>3.830733</td>\n",
       "      <td>4.323819</td>\n",
       "      <td>0.319178</td>\n",
       "      <td>16:07</td>\n",
       "    </tr>\n",
       "  </tbody>\n",
       "</table>"
      ],
      "text/plain": [
       "<IPython.core.display.HTML object>"
      ]
     },
     "metadata": {
      "tags": []
     },
     "output_type": "display_data"
    }
   ],
   "source": [
    "learn.unfreeze()\n",
    "learn.fit_one_cycle(4, 1e-3)\n",
    "learn.save('12train_wiki_lm_body_4');"
   ]
  },
  {
   "cell_type": "code",
   "execution_count": 0,
   "metadata": {
    "colab": {},
    "colab_type": "code",
    "id": "TeNWmZmupiGi"
   },
   "outputs": [],
   "source": [
    "learn.save_encoder('12train_wiki_lm_enc')"
   ]
  },
  {
   "cell_type": "markdown",
   "metadata": {
    "colab_type": "text",
    "id": "JHF-yfkOpiGo"
   },
   "source": [
    "### Classifier"
   ]
  },
  {
   "cell_type": "code",
   "execution_count": 0,
   "metadata": {
    "colab": {},
    "colab_type": "code",
    "id": "MQaaI1bJpiGq"
   },
   "outputs": [],
   "source": [
    "data_clas = TextClasDataBunch.from_csv(subsets, '12train.csv', vocab=data_lm.train_ds.vocab, bs=bs)\n",
    "data_clas.save('12train_data_clas_wiki.pkl')"
   ]
  },
  {
   "cell_type": "code",
   "execution_count": 0,
   "metadata": {
    "colab": {},
    "colab_type": "code",
    "id": "Jzpd0iGTpiGv"
   },
   "outputs": [],
   "source": [
    "data_clas=load_data(subsets,'12train_data_clas_wiki.pkl',bs=bs)"
   ]
  },
  {
   "cell_type": "code",
   "execution_count": 0,
   "metadata": {
    "colab": {
     "base_uri": "https://localhost:8080/",
     "height": 306
    },
    "colab_type": "code",
    "id": "wcQu5pkbpiGz",
    "outputId": "b5457476-d8b8-49b2-8e08-cb2f03564f56"
   },
   "outputs": [
    {
     "data": {
      "text/html": [
       "<table border=\"1\" class=\"dataframe\">\n",
       "  <thead>\n",
       "    <tr style=\"text-align: right;\">\n",
       "      <th>text</th>\n",
       "      <th>target</th>\n",
       "    </tr>\n",
       "  </thead>\n",
       "  <tbody>\n",
       "    <tr>\n",
       "      <td>xxbos বুঝি কোনো xxunk নেই ? ’ ‘ xxunk আমি খুব সুখী । ’ রানু হাসতে লাগল । নীলু হঠাৎ গম্ভীর xxunk বলল , ‘ তুমি xxunk , একটা খুব xxunk কথা আমাকে বলবে । ’ ‘ xxunk নাকি ? ’ ‘ হ্যাঁ । আজ সেটা বলতে হবে । তারপর আমি আমার একটা xxunk কথা বলব । ’ রানু হাসতে লাগল । ‘ xxunk কেন রানু ? ’ ‘ তোমার</td>\n",
       "      <td>humayun_ahmed</td>\n",
       "    </tr>\n",
       "    <tr>\n",
       "      <td>xxbos xxunk । xxunk , xxunk , পরস্পরকে অবিশ্বাস , ক্ষমতালাভের চক্রান্ত , গুপ্তচরবৃত্তি একদিন তাদের টেনে xxunk যাবে xxunk xxunk । এ আমি স্পষ্ট দেখতে পাচ্ছি । এই xxunk ভিতরকার xxunk xxunk মধ্যে দিনরাত xxunk বিষাক্ত xxunk কখনোই নিজের স্বভাবে সেই xxunk রক্ষা করতে পারব না যাতে পৃথিবীতে কোনো xxunk কাজ করতে পারা xxunk । ” “ xxunk xxunk , তুমি যাকে xxunk বল সে কি xxunk দেশে ?</td>\n",
       "      <td>robindronath</td>\n",
       "    </tr>\n",
       "    <tr>\n",
       "      <td>xxbos বাজার xxunk সাধ xxunk না - তবে xxunk উপর রাগ ছিল xxunk একবার xxunk দেখিতে xxunk - xxunk প্রথমেই xxunk যে , সেখানে খোদ কমলাকান্ত xxunk নামে xxunk - xxunk পচা xxunk xxunk xxunk xxunk আছে - আপনি ঘোল xxunk , এবং xxunk xxunk । তখন চমক হইল - চক্ষু xxunk - xxunk , xxunk বাবুর xxunk আছি । xxunk xxunk কাছে আছে বটে । প্রসন্ন এক xxunk ঘোল</td>\n",
       "      <td>bongkim</td>\n",
       "    </tr>\n",
       "    <tr>\n",
       "      <td>xxbos নগেন্দ্র ? আমি কে ? xxunk নগেন্দ্র । কতই নাম xxunk – xxunk কি ? xxunk xxunk সঙ্গে xxunk না xxunk যদি আমার – সঙ্গে হতো – দূর হউক – xxunk xxunk । xxunk , যেন এখন xxunk – কাল ভেসে xxunk – তবে সবাই xxunk , শুনে নগেন্দ্র – নগেন্দ্র ! – নগেন্দ্র ! – নগেন্দ্র ! আবার বলি – নগেন্দ্র নগেন্দ্র নগেন্দ্র ! xxunk শুনে কি xxunk</td>\n",
       "      <td>bongkim</td>\n",
       "    </tr>\n",
       "    <tr>\n",
       "      <td>xxbos কও । ” “ xxunk xxunk আজ রাত্রে ডেকো না । ” “ কেন , মন খুলে আমি তো সবই xxunk xxunk । ও কি তাও xxunk না । ” “ xxunk xxunk । xxunk যে , মন তোমার খোলে নি । সুর xxunk না । ” “ কিছুতে বিশুদ্ধ হল না আমার মন ! এত মার xxunk ! কে বিশুদ্ধ করে দেবে । ওগো সন্ন্যাসী , আমাকে বাঁচাও</td>\n",
       "      <td>robindronath</td>\n",
       "    </tr>\n",
       "  </tbody>\n",
       "</table>"
      ],
      "text/plain": [
       "<IPython.core.display.HTML object>"
      ]
     },
     "metadata": {
      "tags": []
     },
     "output_type": "display_data"
    }
   ],
   "source": [
    "data_clas.show_batch()"
   ]
  },
  {
   "cell_type": "code",
   "execution_count": 0,
   "metadata": {
    "colab": {},
    "colab_type": "code",
    "id": "IW6Cu1AWpiG-"
   },
   "outputs": [],
   "source": [
    "learn_cls = text_classifier_learner(data_clas, AWD_LSTM, drop_mult=0.5, pretrained=False)"
   ]
  },
  {
   "cell_type": "code",
   "execution_count": 0,
   "metadata": {
    "colab": {},
    "colab_type": "code",
    "id": "jSsJ7HuWpiHC"
   },
   "outputs": [],
   "source": [
    "learn_cls.load_encoder('12train_wiki_lm_enc')"
   ]
  },
  {
   "cell_type": "code",
   "execution_count": 0,
   "metadata": {
    "colab": {},
    "colab_type": "code",
    "id": "ozwoWCF2piHH"
   },
   "outputs": [],
   "source": [
    "learn_cls.freeze()"
   ]
  },
  {
   "cell_type": "code",
   "execution_count": 0,
   "metadata": {
    "colab": {
     "base_uri": "https://localhost:8080/",
     "height": 34
    },
    "colab_type": "code",
    "id": "14XLOlehpiHM",
    "outputId": "96021fdf-4f6f-4e28-a22f-8900095f8ba5"
   },
   "outputs": [
    {
     "data": {
      "text/html": [],
      "text/plain": [
       "<IPython.core.display.HTML object>"
      ]
     },
     "metadata": {
      "tags": []
     },
     "output_type": "display_data"
    },
    {
     "name": "stdout",
     "output_type": "stream",
     "text": [
      "LR Finder is complete, type {learner_name}.recorder.plot() to see the graph.\n"
     ]
    }
   ],
   "source": [
    "learn_cls.lr_find()"
   ]
  },
  {
   "cell_type": "code",
   "execution_count": 0,
   "metadata": {
    "colab": {
     "base_uri": "https://localhost:8080/",
     "height": 283
    },
    "colab_type": "code",
    "id": "ZP21aFo8piHQ",
    "outputId": "1dc04e4c-2c35-4fba-edd2-36aee6f6c074"
   },
   "outputs": [
    {
     "data": {
      "image/png": "[encoded data removed]",
      "text/plain": [
       "<Figure size 432x288 with 1 Axes>"
      ]
     },
     "metadata": {
      "tags": []
     },
     "output_type": "display_data"
    }
   ],
   "source": [
    "learn_cls.recorder.plot(skip_end=7)"
   ]
  },
  {
   "cell_type": "code",
   "execution_count": 0,
   "metadata": {
    "colab": {
     "base_uri": "https://localhost:8080/",
     "height": 460
    },
    "colab_type": "code",
    "id": "4-DFYKripiHV",
    "outputId": "fb9de3f2-f433-4f30-b082-da9995e0e1f8"
   },
   "outputs": [
    {
     "data": {
      "text/html": [
       "<table border=\"1\" class=\"dataframe\">\n",
       "  <thead>\n",
       "    <tr style=\"text-align: left;\">\n",
       "      <th>epoch</th>\n",
       "      <th>train_loss</th>\n",
       "      <th>valid_loss</th>\n",
       "      <th>accuracy</th>\n",
       "      <th>time</th>\n",
       "    </tr>\n",
       "  </thead>\n",
       "  <tbody>\n",
       "    <tr>\n",
       "      <td>0</td>\n",
       "      <td>0.260895</td>\n",
       "      <td>0.060835</td>\n",
       "      <td>0.985158</td>\n",
       "      <td>03:46</td>\n",
       "    </tr>\n",
       "    <tr>\n",
       "      <td>1</td>\n",
       "      <td>0.055956</td>\n",
       "      <td>0.042108</td>\n",
       "      <td>0.988868</td>\n",
       "      <td>03:49</td>\n",
       "    </tr>\n",
       "  </tbody>\n",
       "</table>"
      ],
      "text/plain": [
       "<IPython.core.display.HTML object>"
      ]
     },
     "metadata": {
      "tags": []
     },
     "output_type": "display_data"
    },
    {
     "data": {
      "text/html": [
       "<table border=\"1\" class=\"dataframe\">\n",
       "  <thead>\n",
       "    <tr style=\"text-align: left;\">\n",
       "      <th>epoch</th>\n",
       "      <th>train_loss</th>\n",
       "      <th>valid_loss</th>\n",
       "      <th>accuracy</th>\n",
       "      <th>time</th>\n",
       "    </tr>\n",
       "  </thead>\n",
       "  <tbody>\n",
       "    <tr>\n",
       "      <td>0</td>\n",
       "      <td>0.069324</td>\n",
       "      <td>0.046246</td>\n",
       "      <td>0.990724</td>\n",
       "      <td>04:27</td>\n",
       "    </tr>\n",
       "    <tr>\n",
       "      <td>1</td>\n",
       "      <td>0.025476</td>\n",
       "      <td>0.037415</td>\n",
       "      <td>0.993506</td>\n",
       "      <td>04:27</td>\n",
       "    </tr>\n",
       "  </tbody>\n",
       "</table>"
      ],
      "text/plain": [
       "<IPython.core.display.HTML object>"
      ]
     },
     "metadata": {
      "tags": []
     },
     "output_type": "display_data"
    },
    {
     "data": {
      "text/html": [
       "<table border=\"1\" class=\"dataframe\">\n",
       "  <thead>\n",
       "    <tr style=\"text-align: left;\">\n",
       "      <th>epoch</th>\n",
       "      <th>train_loss</th>\n",
       "      <th>valid_loss</th>\n",
       "      <th>accuracy</th>\n",
       "      <th>time</th>\n",
       "    </tr>\n",
       "  </thead>\n",
       "  <tbody>\n",
       "    <tr>\n",
       "      <td>0</td>\n",
       "      <td>0.020374</td>\n",
       "      <td>0.034645</td>\n",
       "      <td>0.992579</td>\n",
       "      <td>06:37</td>\n",
       "    </tr>\n",
       "    <tr>\n",
       "      <td>1</td>\n",
       "      <td>0.007074</td>\n",
       "      <td>0.025515</td>\n",
       "      <td>0.995362</td>\n",
       "      <td>06:37</td>\n",
       "    </tr>\n",
       "  </tbody>\n",
       "</table>"
      ],
      "text/plain": [
       "<IPython.core.display.HTML object>"
      ]
     },
     "metadata": {
      "tags": []
     },
     "output_type": "display_data"
    },
    {
     "data": {
      "text/html": [
       "<table border=\"1\" class=\"dataframe\">\n",
       "  <thead>\n",
       "    <tr style=\"text-align: left;\">\n",
       "      <th>epoch</th>\n",
       "      <th>train_loss</th>\n",
       "      <th>valid_loss</th>\n",
       "      <th>accuracy</th>\n",
       "      <th>time</th>\n",
       "    </tr>\n",
       "  </thead>\n",
       "  <tbody>\n",
       "    <tr>\n",
       "      <td>0</td>\n",
       "      <td>0.004406</td>\n",
       "      <td>0.023915</td>\n",
       "      <td>0.997217</td>\n",
       "      <td>08:34</td>\n",
       "    </tr>\n",
       "    <tr>\n",
       "      <td>1</td>\n",
       "      <td>0.007372</td>\n",
       "      <td>0.023710</td>\n",
       "      <td>0.995362</td>\n",
       "      <td>08:29</td>\n",
       "    </tr>\n",
       "    <tr>\n",
       "      <td>2</td>\n",
       "      <td>0.007245</td>\n",
       "      <td>0.022241</td>\n",
       "      <td>0.996289</td>\n",
       "      <td>08:30</td>\n",
       "    </tr>\n",
       "    <tr>\n",
       "      <td>3</td>\n",
       "      <td>0.005730</td>\n",
       "      <td>0.021555</td>\n",
       "      <td>0.997217</td>\n",
       "      <td>08:35</td>\n",
       "    </tr>\n",
       "  </tbody>\n",
       "</table>"
      ],
      "text/plain": [
       "<IPython.core.display.HTML object>"
      ]
     },
     "metadata": {
      "tags": []
     },
     "output_type": "display_data"
    }
   ],
   "source": [
    "learn_cls.fit_one_cycle(2, 1e-2, moms=(0.8,0.7))\n",
    "learn_cls.save('12train_wiki_cls_1')\n",
    "learn_cls.freeze_to(-2)\n",
    "learn_cls.fit_one_cycle(2 , slice(1e-2/(2.8**4),1e-2), moms=(0.8,0.7))\n",
    "learn_cls.save('12train_wiki_cls_2')\n",
    "learn_cls.freeze_to(-3)\n",
    "learn_cls.fit_one_cycle(2, slice(5e-3/(2.8**4),5e-3), moms=(0.8,0.7))\n",
    "learn_cls.save('12train_wiki_cls_3')\n",
    "learn_cls.unfreeze()\n",
    "learn_cls.fit_one_cycle(4, slice(1e-3/(2.8**4),1e-3), moms=(0.8,0.7))\n",
    "learn_cls.save('12train_wiki_cls_4')"
   ]
  },
  {
   "cell_type": "code",
   "execution_count": 0,
   "metadata": {
    "colab": {
     "base_uri": "https://localhost:8080/",
     "height": 175
    },
    "colab_type": "code",
    "id": "CsTRHlOdpiHc",
    "outputId": "bd7550aa-2f55-4b14-ed31-1c6a6ef7b0c3"
   },
   "outputs": [
    {
     "data": {
      "text/html": [
       "<table border=\"1\" class=\"dataframe\">\n",
       "  <thead>\n",
       "    <tr style=\"text-align: left;\">\n",
       "      <th>epoch</th>\n",
       "      <th>train_loss</th>\n",
       "      <th>valid_loss</th>\n",
       "      <th>accuracy</th>\n",
       "      <th>time</th>\n",
       "    </tr>\n",
       "  </thead>\n",
       "  <tbody>\n",
       "    <tr>\n",
       "      <td>0</td>\n",
       "      <td>0.009813</td>\n",
       "      <td>0.025899</td>\n",
       "      <td>0.996289</td>\n",
       "      <td>08:32</td>\n",
       "    </tr>\n",
       "    <tr>\n",
       "      <td>1</td>\n",
       "      <td>0.006866</td>\n",
       "      <td>0.026060</td>\n",
       "      <td>0.995362</td>\n",
       "      <td>08:34</td>\n",
       "    </tr>\n",
       "    <tr>\n",
       "      <td>2</td>\n",
       "      <td>0.007191</td>\n",
       "      <td>0.025578</td>\n",
       "      <td>0.995362</td>\n",
       "      <td>08:27</td>\n",
       "    </tr>\n",
       "    <tr>\n",
       "      <td>3</td>\n",
       "      <td>0.004006</td>\n",
       "      <td>0.026893</td>\n",
       "      <td>0.996289</td>\n",
       "      <td>08:32</td>\n",
       "    </tr>\n",
       "  </tbody>\n",
       "</table>"
      ],
      "text/plain": [
       "<IPython.core.display.HTML object>"
      ]
     },
     "metadata": {
      "tags": []
     },
     "output_type": "display_data"
    }
   ],
   "source": [
    "learn_cls.load('12train_wiki_cls_3')\n",
    "learn_cls.unfreeze()\n",
    "learn_cls.fit_one_cycle(4, slice(1e-3/(2.8**4),1e-3), moms=(0.8,0.7))\n",
    "learn_cls.save('12train_wiki_cls_4')"
   ]
  },
  {
   "cell_type": "markdown",
   "metadata": {
    "colab_type": "text",
    "id": "1OJStTEBpiHh"
   },
   "source": [
    "#### Testing"
   ]
  },
  {
   "cell_type": "code",
   "execution_count": 0,
   "metadata": {
    "colab": {
     "base_uri": "https://localhost:8080/",
     "height": 110
    },
    "colab_type": "code",
    "id": "HuYN9pXwpiHi",
    "outputId": "ada7c9ef-c9ca-459f-945c-0c3fc277bca4"
   },
   "outputs": [
    {
     "name": "stdout",
     "output_type": "stream",
     "text": [
      "1356\n",
      "Accuracy: \n",
      "0.9948377581120944\n",
      "[('tarashonkor', 'shunil_gongopaddhay'), ('shordindu', 'shottojit_roy'), ('MZI', 'humayun_ahmed'), ('MZI', 'humayun_ahmed'), ('MZI', 'humayun_ahmed'), ('robindronath', 'shordindu'), ('robindronath', 'tarashonkor')]\n"
     ]
    }
   ],
   "source": [
    "pred,targ = testing(subsets/\"12test.csv\")"
   ]
  },
  {
   "cell_type": "code",
   "execution_count": 0,
   "metadata": {
    "colab": {
     "base_uri": "https://localhost:8080/",
     "height": 54
    },
    "colab_type": "code",
    "id": "TJNc1MQBpiHn",
    "outputId": "4fac5f99-a7ca-4823-a5e8-8d2596e46431"
   },
   "outputs": [
    {
     "data": {
      "text/plain": [
       "(array([0.986547, 1.      , 0.9869  , 0.991071, 1.      , 1.      , 0.99115 , 1.      , 0.995595, 0.995595, 0.99115 ,\n",
       "        1.      ]), 0.9948340324467105)"
      ]
     },
     "execution_count": 54,
     "metadata": {
      "tags": []
     },
     "output_type": "execute_result"
    }
   ],
   "source": [
    "from sklearn.metrics import f1_score\n",
    "out  = f1_score(targ, pred, average=None) #'macro' , also == weighted cuz dataset is balanced\n",
    "out , out.mean()"
   ]
  },
  {
   "cell_type": "code",
   "execution_count": 0,
   "metadata": {
    "colab": {},
    "colab_type": "code",
    "id": "e2W19KySpiHs"
   },
   "outputs": [],
   "source": []
  },
  {
   "cell_type": "markdown",
   "metadata": {
    "colab_type": "text",
    "id": "HKtAIs177yFs"
   },
   "source": [
    "## 14 Authors"
   ]
  },
  {
   "cell_type": "markdown",
   "metadata": {
    "colab_type": "text",
    "id": "HGWlAFzy7yGC"
   },
   "source": [
    "### LM tuning"
   ]
  },
  {
   "cell_type": "code",
   "execution_count": 0,
   "metadata": {
    "colab": {},
    "colab_type": "code",
    "id": "DFvh2LSZ7yGM"
   },
   "outputs": [],
   "source": [
    "# Language model data AA\n",
    "data_lm_AA = TextLMDataBunch.from_csv(subsets, '14train.csv', vocab=data_lm.train_ds.vocab, bs=bs)\n",
    "data_lm_AA.save('14train_data_lm_wiki.pkl')"
   ]
  },
  {
   "cell_type": "code",
   "execution_count": 0,
   "metadata": {
    "colab": {},
    "colab_type": "code",
    "id": "B-CFftNx7yGX"
   },
   "outputs": [],
   "source": [
    "data_lm_AA=load_data(subsets,'14train_data_lm_wiki.pkl',bs=bs)"
   ]
  },
  {
   "cell_type": "code",
   "execution_count": 0,
   "metadata": {
    "colab": {},
    "colab_type": "code",
    "id": "NQ0LMKyM7yGf"
   },
   "outputs": [],
   "source": [
    "learn = language_model_learner(data_lm_AA, AWD_LSTM, pretrained=False, drop_mult=0.5)"
   ]
  },
  {
   "cell_type": "code",
   "execution_count": 0,
   "metadata": {
    "colab": {},
    "colab_type": "code",
    "id": "TwaR36qq7yGk"
   },
   "outputs": [],
   "source": [
    "learn.load(wiki/'models'/'wiki_word_lm_30');"
   ]
  },
  {
   "cell_type": "code",
   "execution_count": 0,
   "metadata": {
    "colab": {},
    "colab_type": "code",
    "id": "Gon2qyUA7yGo"
   },
   "outputs": [],
   "source": [
    "learn.freeze()"
   ]
  },
  {
   "cell_type": "code",
   "execution_count": 0,
   "metadata": {
    "colab": {
     "base_uri": "https://localhost:8080/",
     "height": 301
    },
    "colab_type": "code",
    "id": "9vKuoi-37yGs",
    "outputId": "b94b8590-ce6e-4f75-a59c-394ba942ebea"
   },
   "outputs": [
    {
     "data": {
      "text/html": [],
      "text/plain": [
       "<IPython.core.display.HTML object>"
      ]
     },
     "metadata": {
      "tags": []
     },
     "output_type": "display_data"
    },
    {
     "name": "stdout",
     "output_type": "stream",
     "text": [
      "LR Finder is complete, type {learner_name}.recorder.plot() to see the graph.\n"
     ]
    },
    {
     "data": {
      "image/png": "[encoded data removed]",
      "text/plain": [
       "<Figure size 432x288 with 1 Axes>"
      ]
     },
     "metadata": {
      "tags": []
     },
     "output_type": "display_data"
    }
   ],
   "source": [
    "learn.lr_find()\n",
    "learn.recorder.plot()"
   ]
  },
  {
   "cell_type": "code",
   "execution_count": 0,
   "metadata": {
    "colab": {
     "base_uri": "https://localhost:8080/",
     "height": 283
    },
    "colab_type": "code",
    "id": "po9h4Chy7yGz",
    "outputId": "0c7cfd6e-29a1-4419-f86f-d7ba6bea37c5"
   },
   "outputs": [
    {
     "data": {
      "image/png": "[encoded data removed]",
      "text/plain": [
       "<Figure size 432x288 with 1 Axes>"
      ]
     },
     "metadata": {
      "tags": []
     },
     "output_type": "display_data"
    }
   ],
   "source": [
    "learn.recorder.plot(skip_end=15)"
   ]
  },
  {
   "cell_type": "code",
   "execution_count": 0,
   "metadata": {
    "colab": {
     "base_uri": "https://localhost:8080/",
     "height": 302
    },
    "colab_type": "code",
    "id": "fO8Klxaj7yG7",
    "outputId": "6749e4ac-44a6-4a9a-e972-b743a9e845c2"
   },
   "outputs": [
    {
     "data": {
      "text/html": [
       "<table border=\"1\" class=\"dataframe\">\n",
       "  <thead>\n",
       "    <tr style=\"text-align: left;\">\n",
       "      <th>epoch</th>\n",
       "      <th>train_loss</th>\n",
       "      <th>valid_loss</th>\n",
       "      <th>accuracy</th>\n",
       "      <th>time</th>\n",
       "    </tr>\n",
       "  </thead>\n",
       "  <tbody>\n",
       "    <tr>\n",
       "      <td>0</td>\n",
       "      <td>4.812951</td>\n",
       "      <td>4.737825</td>\n",
       "      <td>0.286118</td>\n",
       "      <td>07:57</td>\n",
       "    </tr>\n",
       "    <tr>\n",
       "      <td>1</td>\n",
       "      <td>4.581126</td>\n",
       "      <td>4.610870</td>\n",
       "      <td>0.292208</td>\n",
       "      <td>08:01</td>\n",
       "    </tr>\n",
       "  </tbody>\n",
       "</table>"
      ],
      "text/plain": [
       "<IPython.core.display.HTML object>"
      ]
     },
     "metadata": {
      "tags": []
     },
     "output_type": "display_data"
    },
    {
     "data": {
      "text/html": [
       "<table border=\"1\" class=\"dataframe\">\n",
       "  <thead>\n",
       "    <tr style=\"text-align: left;\">\n",
       "      <th>epoch</th>\n",
       "      <th>train_loss</th>\n",
       "      <th>valid_loss</th>\n",
       "      <th>accuracy</th>\n",
       "      <th>time</th>\n",
       "    </tr>\n",
       "  </thead>\n",
       "  <tbody>\n",
       "    <tr>\n",
       "      <td>0</td>\n",
       "      <td>4.617568</td>\n",
       "      <td>4.619370</td>\n",
       "      <td>0.295831</td>\n",
       "      <td>08:07</td>\n",
       "    </tr>\n",
       "    <tr>\n",
       "      <td>1</td>\n",
       "      <td>4.394826</td>\n",
       "      <td>4.457231</td>\n",
       "      <td>0.305996</td>\n",
       "      <td>08:07</td>\n",
       "    </tr>\n",
       "  </tbody>\n",
       "</table>"
      ],
      "text/plain": [
       "<IPython.core.display.HTML object>"
      ]
     },
     "metadata": {
      "tags": []
     },
     "output_type": "display_data"
    },
    {
     "data": {
      "text/html": [
       "<table border=\"1\" class=\"dataframe\">\n",
       "  <thead>\n",
       "    <tr style=\"text-align: left;\">\n",
       "      <th>epoch</th>\n",
       "      <th>train_loss</th>\n",
       "      <th>valid_loss</th>\n",
       "      <th>accuracy</th>\n",
       "      <th>time</th>\n",
       "    </tr>\n",
       "  </thead>\n",
       "  <tbody>\n",
       "    <tr>\n",
       "      <td>0</td>\n",
       "      <td>4.525517</td>\n",
       "      <td>4.576008</td>\n",
       "      <td>0.299064</td>\n",
       "      <td>08:33</td>\n",
       "    </tr>\n",
       "    <tr>\n",
       "      <td>1</td>\n",
       "      <td>4.336329</td>\n",
       "      <td>4.389884</td>\n",
       "      <td>0.311796</td>\n",
       "      <td>08:33</td>\n",
       "    </tr>\n",
       "  </tbody>\n",
       "</table>"
      ],
      "text/plain": [
       "<IPython.core.display.HTML object>"
      ]
     },
     "metadata": {
      "tags": []
     },
     "output_type": "display_data"
    }
   ],
   "source": [
    "learn.freeze()\n",
    "learn.fit_one_cycle(2, 1e-2)\n",
    "learn.save('14train_wiki_lm_head');\n",
    "learn.freeze_to(-2)\n",
    "learn.fit_one_cycle(2, 1e-2)\n",
    "learn.save('14train_wiki_lm_body_1');\n",
    "learn.freeze_to(-3)\n",
    "learn.fit_one_cycle(2, 1e-2)\n",
    "learn.save('14train_wiki_lm_body_2');"
   ]
  },
  {
   "cell_type": "code",
   "execution_count": 0,
   "metadata": {
    "colab": {
     "base_uri": "https://localhost:8080/",
     "height": 175
    },
    "colab_type": "code",
    "id": "5-ovXb2-7yHB",
    "outputId": "cb40ebc7-e58b-443e-a17a-85faa46bf24c"
   },
   "outputs": [
    {
     "data": {
      "text/html": [
       "<table border=\"1\" class=\"dataframe\">\n",
       "  <thead>\n",
       "    <tr style=\"text-align: left;\">\n",
       "      <th>epoch</th>\n",
       "      <th>train_loss</th>\n",
       "      <th>valid_loss</th>\n",
       "      <th>accuracy</th>\n",
       "      <th>time</th>\n",
       "    </tr>\n",
       "  </thead>\n",
       "  <tbody>\n",
       "    <tr>\n",
       "      <td>0</td>\n",
       "      <td>4.210037</td>\n",
       "      <td>4.378464</td>\n",
       "      <td>0.312067</td>\n",
       "      <td>08:55</td>\n",
       "    </tr>\n",
       "    <tr>\n",
       "      <td>1</td>\n",
       "      <td>4.158617</td>\n",
       "      <td>4.353533</td>\n",
       "      <td>0.313475</td>\n",
       "      <td>08:56</td>\n",
       "    </tr>\n",
       "    <tr>\n",
       "      <td>2</td>\n",
       "      <td>4.089429</td>\n",
       "      <td>4.338175</td>\n",
       "      <td>0.314778</td>\n",
       "      <td>08:56</td>\n",
       "    </tr>\n",
       "    <tr>\n",
       "      <td>3</td>\n",
       "      <td>3.953777</td>\n",
       "      <td>4.342241</td>\n",
       "      <td>0.314236</td>\n",
       "      <td>08:56</td>\n",
       "    </tr>\n",
       "  </tbody>\n",
       "</table>"
      ],
      "text/plain": [
       "<IPython.core.display.HTML object>"
      ]
     },
     "metadata": {
      "tags": []
     },
     "output_type": "display_data"
    }
   ],
   "source": [
    "learn.unfreeze()\n",
    "learn.fit_one_cycle(4, 1e-3)\n",
    "learn.save('14train_wiki_lm_body_3');"
   ]
  },
  {
   "cell_type": "code",
   "execution_count": 0,
   "metadata": {
    "colab": {
     "base_uri": "https://localhost:8080/",
     "height": 175
    },
    "colab_type": "code",
    "id": "0p1olTfY7yHJ",
    "outputId": "ad3dd5a5-8a61-492a-fbec-c003f9e434de"
   },
   "outputs": [
    {
     "data": {
      "text/html": [
       "<table border=\"1\" class=\"dataframe\">\n",
       "  <thead>\n",
       "    <tr style=\"text-align: left;\">\n",
       "      <th>epoch</th>\n",
       "      <th>train_loss</th>\n",
       "      <th>valid_loss</th>\n",
       "      <th>accuracy</th>\n",
       "      <th>time</th>\n",
       "    </tr>\n",
       "  </thead>\n",
       "  <tbody>\n",
       "    <tr>\n",
       "      <td>0</td>\n",
       "      <td>3.989060</td>\n",
       "      <td>4.344840</td>\n",
       "      <td>0.314230</td>\n",
       "      <td>08:55</td>\n",
       "    </tr>\n",
       "    <tr>\n",
       "      <td>1</td>\n",
       "      <td>4.044951</td>\n",
       "      <td>4.334935</td>\n",
       "      <td>0.314901</td>\n",
       "      <td>08:55</td>\n",
       "    </tr>\n",
       "    <tr>\n",
       "      <td>2</td>\n",
       "      <td>3.926228</td>\n",
       "      <td>4.334010</td>\n",
       "      <td>0.314781</td>\n",
       "      <td>08:55</td>\n",
       "    </tr>\n",
       "    <tr>\n",
       "      <td>3</td>\n",
       "      <td>3.845732</td>\n",
       "      <td>4.340808</td>\n",
       "      <td>0.314472</td>\n",
       "      <td>08:54</td>\n",
       "    </tr>\n",
       "  </tbody>\n",
       "</table>"
      ],
      "text/plain": [
       "<IPython.core.display.HTML object>"
      ]
     },
     "metadata": {
      "tags": []
     },
     "output_type": "display_data"
    }
   ],
   "source": [
    "learn.unfreeze()\n",
    "learn.fit_one_cycle(4, 1e-3)\n",
    "learn.save('14train_wiki_lm_body_4');"
   ]
  },
  {
   "cell_type": "code",
   "execution_count": 0,
   "metadata": {
    "colab": {},
    "colab_type": "code",
    "id": "ryRt-UP27yHP"
   },
   "outputs": [],
   "source": [
    "learn.save_encoder('14train_wiki_lm_enc')"
   ]
  },
  {
   "cell_type": "markdown",
   "metadata": {
    "colab_type": "text",
    "id": "yz0wNTvp7yHU"
   },
   "source": [
    "### Classifier"
   ]
  },
  {
   "cell_type": "code",
   "execution_count": 0,
   "metadata": {
    "colab": {},
    "colab_type": "code",
    "id": "OAC9XbcS7yHU"
   },
   "outputs": [],
   "source": [
    "data_clas = TextClasDataBunch.from_csv(subsets, '14train.csv', vocab=data_lm.train_ds.vocab, bs=bs)\n",
    "data_clas.save('14train_data_clas_wiki.pkl')"
   ]
  },
  {
   "cell_type": "code",
   "execution_count": 0,
   "metadata": {
    "colab": {},
    "colab_type": "code",
    "id": "37aRxUIa7yHX"
   },
   "outputs": [],
   "source": [
    "data_clas=load_data(subsets,'14train_data_clas_wiki.pkl',bs=bs)"
   ]
  },
  {
   "cell_type": "code",
   "execution_count": 0,
   "metadata": {
    "colab": {
     "base_uri": "https://localhost:8080/",
     "height": 363
    },
    "colab_type": "code",
    "id": "nY2MbBzY7yHb",
    "outputId": "70560186-70d2-4e61-a83f-931e44ae6be5"
   },
   "outputs": [
    {
     "data": {
      "text/html": [
       "<table border=\"1\" class=\"dataframe\">\n",
       "  <thead>\n",
       "    <tr style=\"text-align: right;\">\n",
       "      <th>text</th>\n",
       "      <th>target</th>\n",
       "    </tr>\n",
       "  </thead>\n",
       "  <tbody>\n",
       "    <tr>\n",
       "      <td>xxbos তাদের মধ্যে কেউ তাকে খুন করেছে ? ’ ‘ কলকাতার xxunk যাদের নাম আছে তাদের xxunk করলে xxunk আন্দাজ করা xxunk , এবার তিন নম্বর xxunk সঙ্গে দেখা করা যাক । ’ ‘ xxunk । ’ তিন নম্বর ঘরে xxunk সান্যাল xxunk xxunk হয়ে শুয়ে xxunk , xxunk শুনে xxunk তুললেন । xxunk , ‘ কে ? ’ xxunk সংক্ষেপে xxunk , ‘ পুলিস । ’ xxunk উঠে xxunk</td>\n",
       "      <td>shordindu</td>\n",
       "    </tr>\n",
       "    <tr>\n",
       "      <td>xxbos রোহিণী xxunk xxunk । “ এ xxunk xxunk আমার xxunk হইবে না – না xxunk xxunk xxunk । আমি xxunk গেলে , xxunk দেখিতে xxunk না ? আমি xxunk না । এই xxunk আমার স্বর্গ , এখানে xxunk মন্দির । এই xxunk আমার শ্মশান , এখানে আমি xxunk xxunk । শ্মশানে xxunk xxunk না , এমন xxunk আছে । আমি যদি এ xxunk xxunk না যাই , ত আমার</td>\n",
       "      <td>bongkim</td>\n",
       "    </tr>\n",
       "    <tr>\n",
       "      <td>xxbos সহকারে সুন্দরী xxunk , xxunk স্বামীর xxunk , চন্দ্রশেখর ঔষধ xxunk xxunk । ঔষধ xxunk শুভ লগ্ন অবধারিত হইল । ষষ্ঠ পরিচ্ছেদ : xxunk না ? ঔষধ কি , তাহা xxunk পারি না , কিন্তু ইহা সেবন xxunk জন্য , চন্দ্রশেখর xxunk আত্মশুদ্ধি xxunk xxunk । তিনি সহজে xxunk , xxunk শারীরিক xxunk xxunk তিনি বশীভূত xxunk ; কিন্তু xxunk তাহার উপরে কঠোর অনশন - ব্রত আচরণ xxunk xxunk</td>\n",
       "      <td>bongkim</td>\n",
       "    </tr>\n",
       "    <tr>\n",
       "      <td>xxbos দিয়া xxunk — অ্যা - ই xxunk । সঙ্গে সঙ্গে সে তাল xxunk হাতে তালি দিয়া বাজনার বোল xxunk আরম্ভ করিল — xxunk তা - তা - xxunk — তা - তা - xxunk — xxunk - xxunk তা - তা - xxunk — xxunk – ! xxunk সে তাহার নূতন স্বরচিত xxunk xxunk xxunk — ক - য়ে কালী xxunk — খ - য়ে xxunk , গ -</td>\n",
       "      <td>tarashonkor</td>\n",
       "    </tr>\n",
       "    <tr>\n",
       "      <td>xxbos বাজার xxunk সাধ xxunk না - তবে xxunk উপর রাগ ছিল xxunk একবার xxunk দেখিতে xxunk - xxunk প্রথমেই xxunk যে , সেখানে খোদ কমলাকান্ত xxunk নামে xxunk - xxunk পচা xxunk xxunk xxunk xxunk আছে - আপনি ঘোল xxunk , এবং xxunk xxunk । তখন চমক হইল - চক্ষু xxunk - xxunk , xxunk বাবুর xxunk আছি । xxunk xxunk কাছে আছে বটে । প্রসন্ন এক xxunk ঘোল</td>\n",
       "      <td>bongkim</td>\n",
       "    </tr>\n",
       "  </tbody>\n",
       "</table>"
      ],
      "text/plain": [
       "<IPython.core.display.HTML object>"
      ]
     },
     "metadata": {
      "tags": []
     },
     "output_type": "display_data"
    }
   ],
   "source": [
    "data_clas.show_batch()"
   ]
  },
  {
   "cell_type": "code",
   "execution_count": 0,
   "metadata": {
    "colab": {},
    "colab_type": "code",
    "id": "jid2bdOb7yHg"
   },
   "outputs": [],
   "source": [
    "learn_cls = text_classifier_learner(data_clas, AWD_LSTM, drop_mult=0.5, pretrained=False)"
   ]
  },
  {
   "cell_type": "code",
   "execution_count": 0,
   "metadata": {
    "colab": {},
    "colab_type": "code",
    "id": "xLWbxcEV7yHk"
   },
   "outputs": [],
   "source": [
    "learn_cls.load_encoder('14train_wiki_lm_enc')"
   ]
  },
  {
   "cell_type": "code",
   "execution_count": 0,
   "metadata": {
    "colab": {},
    "colab_type": "code",
    "id": "uyRtAu3Y7yHm"
   },
   "outputs": [],
   "source": [
    "learn_cls.freeze()"
   ]
  },
  {
   "cell_type": "code",
   "execution_count": 0,
   "metadata": {
    "colab": {
     "base_uri": "https://localhost:8080/",
     "height": 35
    },
    "colab_type": "code",
    "id": "Uz7Lz1RM7yHp",
    "outputId": "f40f0979-abd1-429c-f102-b1a9c26f2e80"
   },
   "outputs": [
    {
     "data": {
      "text/html": [],
      "text/plain": [
       "<IPython.core.display.HTML object>"
      ]
     },
     "metadata": {
      "tags": []
     },
     "output_type": "display_data"
    },
    {
     "name": "stdout",
     "output_type": "stream",
     "text": [
      "LR Finder is complete, type {learner_name}.recorder.plot() to see the graph.\n"
     ]
    }
   ],
   "source": [
    "learn_cls.lr_find()"
   ]
  },
  {
   "cell_type": "code",
   "execution_count": 0,
   "metadata": {
    "colab": {
     "base_uri": "https://localhost:8080/",
     "height": 283
    },
    "colab_type": "code",
    "id": "qUT4_MWx7yHt",
    "outputId": "cd346bd2-59c1-4a26-d225-8210912a7ec7"
   },
   "outputs": [
    {
     "data": {
      "image/png": "[encoded data removed]",
      "text/plain": [
       "<Figure size 432x288 with 1 Axes>"
      ]
     },
     "metadata": {
      "tags": []
     },
     "output_type": "display_data"
    }
   ],
   "source": [
    "learn_cls.recorder.plot(skip_end=7)"
   ]
  },
  {
   "cell_type": "code",
   "execution_count": 0,
   "metadata": {
    "colab": {
     "base_uri": "https://localhost:8080/",
     "height": 460
    },
    "colab_type": "code",
    "id": "PjWqX78l7yHy",
    "outputId": "816f46cd-3d1f-4213-bb14-847deef022de"
   },
   "outputs": [
    {
     "data": {
      "text/html": [
       "<table border=\"1\" class=\"dataframe\">\n",
       "  <thead>\n",
       "    <tr style=\"text-align: left;\">\n",
       "      <th>epoch</th>\n",
       "      <th>train_loss</th>\n",
       "      <th>valid_loss</th>\n",
       "      <th>accuracy</th>\n",
       "      <th>time</th>\n",
       "    </tr>\n",
       "  </thead>\n",
       "  <tbody>\n",
       "    <tr>\n",
       "      <td>0</td>\n",
       "      <td>0.316203</td>\n",
       "      <td>0.086669</td>\n",
       "      <td>0.976213</td>\n",
       "      <td>02:16</td>\n",
       "    </tr>\n",
       "    <tr>\n",
       "      <td>1</td>\n",
       "      <td>0.084254</td>\n",
       "      <td>0.049544</td>\n",
       "      <td>0.988582</td>\n",
       "      <td>02:17</td>\n",
       "    </tr>\n",
       "  </tbody>\n",
       "</table>"
      ],
      "text/plain": [
       "<IPython.core.display.HTML object>"
      ]
     },
     "metadata": {
      "tags": []
     },
     "output_type": "display_data"
    },
    {
     "data": {
      "text/html": [
       "<table border=\"1\" class=\"dataframe\">\n",
       "  <thead>\n",
       "    <tr style=\"text-align: left;\">\n",
       "      <th>epoch</th>\n",
       "      <th>train_loss</th>\n",
       "      <th>valid_loss</th>\n",
       "      <th>accuracy</th>\n",
       "      <th>time</th>\n",
       "    </tr>\n",
       "  </thead>\n",
       "  <tbody>\n",
       "    <tr>\n",
       "      <td>0</td>\n",
       "      <td>0.099730</td>\n",
       "      <td>0.053664</td>\n",
       "      <td>0.991437</td>\n",
       "      <td>02:32</td>\n",
       "    </tr>\n",
       "    <tr>\n",
       "      <td>1</td>\n",
       "      <td>0.043026</td>\n",
       "      <td>0.037837</td>\n",
       "      <td>0.995243</td>\n",
       "      <td>02:32</td>\n",
       "    </tr>\n",
       "  </tbody>\n",
       "</table>"
      ],
      "text/plain": [
       "<IPython.core.display.HTML object>"
      ]
     },
     "metadata": {
      "tags": []
     },
     "output_type": "display_data"
    },
    {
     "data": {
      "text/html": [
       "<table border=\"1\" class=\"dataframe\">\n",
       "  <thead>\n",
       "    <tr style=\"text-align: left;\">\n",
       "      <th>epoch</th>\n",
       "      <th>train_loss</th>\n",
       "      <th>valid_loss</th>\n",
       "      <th>accuracy</th>\n",
       "      <th>time</th>\n",
       "    </tr>\n",
       "  </thead>\n",
       "  <tbody>\n",
       "    <tr>\n",
       "      <td>0</td>\n",
       "      <td>0.030226</td>\n",
       "      <td>0.039008</td>\n",
       "      <td>0.993340</td>\n",
       "      <td>03:38</td>\n",
       "    </tr>\n",
       "    <tr>\n",
       "      <td>1</td>\n",
       "      <td>0.013868</td>\n",
       "      <td>0.034779</td>\n",
       "      <td>0.995243</td>\n",
       "      <td>03:37</td>\n",
       "    </tr>\n",
       "  </tbody>\n",
       "</table>"
      ],
      "text/plain": [
       "<IPython.core.display.HTML object>"
      ]
     },
     "metadata": {
      "tags": []
     },
     "output_type": "display_data"
    },
    {
     "data": {
      "text/html": [
       "<table border=\"1\" class=\"dataframe\">\n",
       "  <thead>\n",
       "    <tr style=\"text-align: left;\">\n",
       "      <th>epoch</th>\n",
       "      <th>train_loss</th>\n",
       "      <th>valid_loss</th>\n",
       "      <th>accuracy</th>\n",
       "      <th>time</th>\n",
       "    </tr>\n",
       "  </thead>\n",
       "  <tbody>\n",
       "    <tr>\n",
       "      <td>0</td>\n",
       "      <td>0.009823</td>\n",
       "      <td>0.035895</td>\n",
       "      <td>0.994291</td>\n",
       "      <td>04:35</td>\n",
       "    </tr>\n",
       "    <tr>\n",
       "      <td>1</td>\n",
       "      <td>0.009248</td>\n",
       "      <td>0.037773</td>\n",
       "      <td>0.994291</td>\n",
       "      <td>04:33</td>\n",
       "    </tr>\n",
       "    <tr>\n",
       "      <td>2</td>\n",
       "      <td>0.005555</td>\n",
       "      <td>0.036256</td>\n",
       "      <td>0.994291</td>\n",
       "      <td>04:32</td>\n",
       "    </tr>\n",
       "    <tr>\n",
       "      <td>3</td>\n",
       "      <td>0.006023</td>\n",
       "      <td>0.035485</td>\n",
       "      <td>0.993340</td>\n",
       "      <td>04:33</td>\n",
       "    </tr>\n",
       "  </tbody>\n",
       "</table>"
      ],
      "text/plain": [
       "<IPython.core.display.HTML object>"
      ]
     },
     "metadata": {
      "tags": []
     },
     "output_type": "display_data"
    }
   ],
   "source": [
    "learn_cls.fit_one_cycle(2, 1e-2, moms=(0.8,0.7))\n",
    "learn_cls.save('14train_wiki_cls_1')\n",
    "learn_cls.freeze_to(-2)\n",
    "learn_cls.fit_one_cycle(2 , slice(1e-2/(2.8**4),1e-2), moms=(0.8,0.7))\n",
    "learn_cls.save('14train_wiki_cls_2')\n",
    "learn_cls.freeze_to(-3)\n",
    "learn_cls.fit_one_cycle(2, slice(5e-3/(2.8**4),5e-3), moms=(0.8,0.7))\n",
    "learn_cls.save('14train_wiki_cls_3')\n",
    "learn_cls.unfreeze()\n",
    "learn_cls.fit_one_cycle(4, slice(1e-3/(2.8**4),1e-3), moms=(0.8,0.7))\n",
    "learn_cls.save('14train_wiki_cls_4')"
   ]
  },
  {
   "cell_type": "markdown",
   "metadata": {
    "colab_type": "text",
    "id": "i2N9EHtViaH_"
   },
   "source": [
    "#### Testing"
   ]
  },
  {
   "cell_type": "code",
   "execution_count": 0,
   "metadata": {
    "colab": {
     "base_uri": "https://localhost:8080/",
     "height": 110
    },
    "colab_type": "code",
    "id": "gpOT0Gx_7yH8",
    "outputId": "aba90176-ace4-4dd2-c894-7a4b4b27a83e"
   },
   "outputs": [
    {
     "name": "stdout",
     "output_type": "stream",
     "text": [
      "1316\n",
      "Accuracy: \n",
      "0.9946808510638298\n",
      "[('manik_bandhopaddhay', 'shirshendu'), ('tarashonkor', 'manik_bandhopaddhay'), ('shordindu', 'robindronath'), ('shottojit_roy', 'shunil_gongopaddhay'), ('shorotchandra', 'bongkim'), ('robindronath', 'tarashonkor'), ('shomresh', 'toslima_nasrin')]\n"
     ]
    }
   ],
   "source": [
    "pred,targ = testing(subsets/\"14test.csv\")"
   ]
  },
  {
   "cell_type": "code",
   "execution_count": 0,
   "metadata": {
    "colab": {
     "base_uri": "https://localhost:8080/",
     "height": 54
    },
    "colab_type": "code",
    "id": "cYzqNzdR7yIB",
    "outputId": "85a80482-9c47-420b-9e06-f5d65b235404"
   },
   "outputs": [
    {
     "data": {
      "text/plain": [
       "(array([1.      , 0.994709, 1.      , 0.989362, 1.      , 0.989362, 0.994709, 0.994652, 0.994652, 0.994652, 0.994652,\n",
       "        0.994709, 0.989362, 0.994709]), 0.9946807650633863)"
      ]
     },
     "execution_count": 30,
     "metadata": {
      "tags": []
     },
     "output_type": "execute_result"
    }
   ],
   "source": [
    "from sklearn.metrics import f1_score\n",
    "out  = f1_score(targ, pred, average=None) #'macro' , also == weighted cuz dataset is balanced\n",
    "out , out.mean()"
   ]
  },
  {
   "cell_type": "code",
   "execution_count": 0,
   "metadata": {
    "colab": {},
    "colab_type": "code",
    "id": "nu6Qv7vq7yID"
   },
   "outputs": [],
   "source": []
  }
 ],
 "metadata": {
  "accelerator": "GPU",
  "colab": {
   "collapsed_sections": [
    "CaxScXEb5xoO",
    "ADJchncNgATq",
    "ctFZHOCmtFu5",
    "K4rfkN6MLCy6",
    "iJr2qeRhtSZg",
    "qJxKVZCttSZi",
    "3i4_Zb3ztSaS",
    "-AhojErM_zgp",
    "NIN4y-89piFQ"
   ],
   "name": "All_Auth_word-ULMFiT(wiki) .ipynb",
   "provenance": [],
   "version": "0.3.2"
  },
  "kernelspec": {
   "display_name": "Python 3",
   "language": "python",
   "name": "python3"
  },
  "language_info": {
   "codemirror_mode": {
    "name": "ipython",
    "version": 3
   },
   "file_extension": ".py",
   "mimetype": "text/x-python",
   "name": "python",
   "nbconvert_exporter": "python",
   "pygments_lexer": "ipython3",
   "version": "3.6.8"
  }
 },
 "nbformat": 4,
 "nbformat_minor": 1
}
