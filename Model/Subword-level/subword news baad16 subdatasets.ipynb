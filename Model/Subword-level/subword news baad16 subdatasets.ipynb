{
 "cells": [
  {
   "cell_type": "code",
   "execution_count": 1,
   "metadata": {
    "colab": {
     "base_uri": "https://localhost:8080/",
     "height": 207
    },
    "colab_type": "code",
    "id": "ht3mOv6BWiqJ",
    "outputId": "85f4aa9b-8e68-45a9-f4c6-4bb41de7e86b"
   },
   "outputs": [
    {
     "name": "stdout",
     "output_type": "stream",
     "text": [
      "Collecting sentencepiece\n",
      "\u001b[?25l  Downloading https://files.pythonhosted.org/packages/00/95/7f357995d5eb1131aa2092096dca14a6fc1b1d2860bd99c22a612e1d1019/sentencepiece-0.1.82-cp36-cp36m-manylinux1_x86_64.whl (1.0MB)\n",
      "\u001b[K     |████████████████████████████████| 1.0MB 2.9MB/s \n",
      "\u001b[?25hInstalling collected packages: sentencepiece\n",
      "Successfully installed sentencepiece-0.1.82\n",
      "Collecting tf_sentencepiece\n",
      "\u001b[?25l  Downloading https://files.pythonhosted.org/packages/72/fe/363d78d29c556d0da642ffe285c2c7573b6a83239a9b0d08d83376c9fbac/tf_sentencepiece-0.1.82.1-py2.py3-none-manylinux1_x86_64.whl (2.8MB)\n",
      "\u001b[K     |████████████████████████████████| 2.8MB 2.9MB/s \n",
      "\u001b[?25hInstalling collected packages: tf-sentencepiece\n",
      "Successfully installed tf-sentencepiece-0.1.82.1\n"
     ]
    }
   ],
   "source": [
    "!pip install sentencepiece\n",
    "!pip install tf_sentencepiece"
   ]
  },
  {
   "cell_type": "code",
   "execution_count": 2,
   "metadata": {
    "colab": {
     "base_uri": "https://localhost:8080/",
     "height": 853
    },
    "colab_type": "code",
    "id": "wyqpI6mTGteh",
    "outputId": "7e9d3baa-3cc1-487c-bf28-f8273d08899f",
    "scrolled": true
   },
   "outputs": [
    {
     "name": "stdout",
     "output_type": "stream",
     "text": [
      "Collecting fastai==1.0.52\n",
      "\u001b[?25l  Downloading https://files.pythonhosted.org/packages/de/07/7203179ba2f211bfbda364f883f645aea4d09ccfd48ce5dbb00a894722bf/fastai-1.0.52-py3-none-any.whl (219kB)\n",
      "\u001b[K     |████████████████████████████████| 225kB 2.8MB/s \n",
      "\u001b[?25hRequirement already satisfied: dataclasses; python_version < \"3.7\" in /usr/local/lib/python3.6/dist-packages (from fastai==1.0.52) (0.6)\n",
      "Requirement already satisfied: Pillow in /usr/local/lib/python3.6/dist-packages (from fastai==1.0.52) (4.3.0)\n",
      "Requirement already satisfied: matplotlib in /usr/local/lib/python3.6/dist-packages (from fastai==1.0.52) (3.0.3)\n",
      "Requirement already satisfied: nvidia-ml-py3 in /usr/local/lib/python3.6/dist-packages (from fastai==1.0.52) (7.352.0)\n",
      "Requirement already satisfied: torch>=1.0.0 in /usr/local/lib/python3.6/dist-packages (from fastai==1.0.52) (1.1.0)\n",
      "Requirement already satisfied: requests in /usr/local/lib/python3.6/dist-packages (from fastai==1.0.52) (2.21.0)\n",
      "Requirement already satisfied: pyyaml in /usr/local/lib/python3.6/dist-packages (from fastai==1.0.52) (3.13)\n",
      "Requirement already satisfied: spacy>=2.0.18 in /usr/local/lib/python3.6/dist-packages (from fastai==1.0.52) (2.1.4)\n",
      "Requirement already satisfied: fastprogress>=0.1.19 in /usr/local/lib/python3.6/dist-packages (from fastai==1.0.52) (0.1.21)\n",
      "Requirement already satisfied: pandas in /usr/local/lib/python3.6/dist-packages (from fastai==1.0.52) (0.24.2)\n",
      "Requirement already satisfied: typing in /usr/local/lib/python3.6/dist-packages (from fastai==1.0.52) (3.7.4)\n",
      "Requirement already satisfied: numexpr in /usr/local/lib/python3.6/dist-packages (from fastai==1.0.52) (2.6.9)\n",
      "Requirement already satisfied: numpy>=1.15 in /usr/local/lib/python3.6/dist-packages (from fastai==1.0.52) (1.16.4)\n",
      "Requirement already satisfied: torchvision in /usr/local/lib/python3.6/dist-packages (from fastai==1.0.52) (0.3.0)\n",
      "Requirement already satisfied: scipy in /usr/local/lib/python3.6/dist-packages (from fastai==1.0.52) (1.3.0)\n",
      "Requirement already satisfied: packaging in /usr/local/lib/python3.6/dist-packages (from fastai==1.0.52) (19.0)\n",
      "Requirement already satisfied: beautifulsoup4 in /usr/local/lib/python3.6/dist-packages (from fastai==1.0.52) (4.6.3)\n",
      "Requirement already satisfied: bottleneck in /usr/local/lib/python3.6/dist-packages (from fastai==1.0.52) (1.2.1)\n",
      "Requirement already satisfied: olefile in /usr/local/lib/python3.6/dist-packages (from Pillow->fastai==1.0.52) (0.46)\n",
      "Requirement already satisfied: kiwisolver>=1.0.1 in /usr/local/lib/python3.6/dist-packages (from matplotlib->fastai==1.0.52) (1.1.0)\n",
      "Requirement already satisfied: python-dateutil>=2.1 in /usr/local/lib/python3.6/dist-packages (from matplotlib->fastai==1.0.52) (2.5.3)\n",
      "Requirement already satisfied: pyparsing!=2.0.4,!=2.1.2,!=2.1.6,>=2.0.1 in /usr/local/lib/python3.6/dist-packages (from matplotlib->fastai==1.0.52) (2.4.0)\n",
      "Requirement already satisfied: cycler>=0.10 in /usr/local/lib/python3.6/dist-packages (from matplotlib->fastai==1.0.52) (0.10.0)\n",
      "Requirement already satisfied: urllib3<1.25,>=1.21.1 in /usr/local/lib/python3.6/dist-packages (from requests->fastai==1.0.52) (1.24.3)\n",
      "Requirement already satisfied: idna<2.9,>=2.5 in /usr/local/lib/python3.6/dist-packages (from requests->fastai==1.0.52) (2.8)\n",
      "Requirement already satisfied: certifi>=2017.4.17 in /usr/local/lib/python3.6/dist-packages (from requests->fastai==1.0.52) (2019.6.16)\n",
      "Requirement already satisfied: chardet<3.1.0,>=3.0.2 in /usr/local/lib/python3.6/dist-packages (from requests->fastai==1.0.52) (3.0.4)\n",
      "Requirement already satisfied: blis<0.3.0,>=0.2.2 in /usr/local/lib/python3.6/dist-packages (from spacy>=2.0.18->fastai==1.0.52) (0.2.4)\n",
      "Requirement already satisfied: jsonschema<3.1.0,>=2.6.0 in /usr/local/lib/python3.6/dist-packages (from spacy>=2.0.18->fastai==1.0.52) (2.6.0)\n",
      "Requirement already satisfied: thinc<7.1.0,>=7.0.2 in /usr/local/lib/python3.6/dist-packages (from spacy>=2.0.18->fastai==1.0.52) (7.0.4)\n",
      "Requirement already satisfied: preshed<2.1.0,>=2.0.1 in /usr/local/lib/python3.6/dist-packages (from spacy>=2.0.18->fastai==1.0.52) (2.0.1)\n",
      "Requirement already satisfied: srsly<1.1.0,>=0.0.5 in /usr/local/lib/python3.6/dist-packages (from spacy>=2.0.18->fastai==1.0.52) (0.0.7)\n",
      "Requirement already satisfied: plac<1.0.0,>=0.9.6 in /usr/local/lib/python3.6/dist-packages (from spacy>=2.0.18->fastai==1.0.52) (0.9.6)\n",
      "Requirement already satisfied: cymem<2.1.0,>=2.0.2 in /usr/local/lib/python3.6/dist-packages (from spacy>=2.0.18->fastai==1.0.52) (2.0.2)\n",
      "Requirement already satisfied: murmurhash<1.1.0,>=0.28.0 in /usr/local/lib/python3.6/dist-packages (from spacy>=2.0.18->fastai==1.0.52) (1.0.2)\n",
      "Requirement already satisfied: wasabi<1.1.0,>=0.2.0 in /usr/local/lib/python3.6/dist-packages (from spacy>=2.0.18->fastai==1.0.52) (0.2.2)\n",
      "Requirement already satisfied: pytz>=2011k in /usr/local/lib/python3.6/dist-packages (from pandas->fastai==1.0.52) (2018.9)\n",
      "Requirement already satisfied: six in /usr/local/lib/python3.6/dist-packages (from torchvision->fastai==1.0.52) (1.12.0)\n",
      "Requirement already satisfied: setuptools in /usr/local/lib/python3.6/dist-packages (from kiwisolver>=1.0.1->matplotlib->fastai==1.0.52) (41.0.1)\n",
      "Requirement already satisfied: tqdm<5.0.0,>=4.10.0 in /usr/local/lib/python3.6/dist-packages (from thinc<7.1.0,>=7.0.2->spacy>=2.0.18->fastai==1.0.52) (4.28.1)\n",
      "Installing collected packages: fastai\n",
      "  Found existing installation: fastai 1.0.54\n",
      "    Uninstalling fastai-1.0.54:\n",
      "      Successfully uninstalled fastai-1.0.54\n",
      "Successfully installed fastai-1.0.52\n"
     ]
    }
   ],
   "source": [
    "!pip install fastai==1.0.52"
   ]
  },
  {
   "cell_type": "code",
   "execution_count": 0,
   "metadata": {
    "colab": {},
    "colab_type": "code",
    "id": "j-inF_79Wxe9"
   },
   "outputs": [],
   "source": [
    "from fastai import *\n",
    "from fastai.text import *\n",
    "\n",
    "import re\n",
    "import sentencepiece as spm"
   ]
  },
  {
   "cell_type": "code",
   "execution_count": 4,
   "metadata": {
    "colab": {
     "base_uri": "https://localhost:8080/",
     "height": 122
    },
    "colab_type": "code",
    "id": "wXPpaCSPWQtN",
    "outputId": "10055a54-331d-463a-bdba-f0f6f4dabc15"
   },
   "outputs": [
    {
     "name": "stdout",
     "output_type": "stream",
     "text": [
      "Go to this URL in a browser: https://accounts.google.com/o/oauth2/auth?client_id=947318989803-6bn6qk8qdgf4n4g3pfee6491hc0brc4i.apps.googleusercontent.com&redirect_uri=urn%3Aietf%3Awg%3Aoauth%3A2.0%3Aoob&scope=email%20https%3A%2F%2Fwww.googleapis.com%2Fauth%2Fdocs.test%20https%3A%2F%2Fwww.googleapis.com%2Fauth%2Fdrive%20https%3A%2F%2Fwww.googleapis.com%2Fauth%2Fdrive.photos.readonly%20https%3A%2F%2Fwww.googleapis.com%2Fauth%2Fpeopleapi.readonly&response_type=code\n",
      "\n",
      "Enter your authorization code:\n",
      "··········\n",
      "Mounted at /content/gdrive\n"
     ]
    }
   ],
   "source": [
    "from google.colab import drive\n",
    "drive.mount('/content/gdrive')"
   ]
  },
  {
   "cell_type": "code",
   "execution_count": 0,
   "metadata": {
    "colab": {},
    "colab_type": "code",
    "id": "x8ANn5M3Xc9C"
   },
   "outputs": [],
   "source": [
    "import os\n",
    "path = Path(os.getcwd())\n",
    "path = path/'gdrive'/'My Drive'\n",
    "news=path/'Thesis Data'/'full doc csv'\n",
    "aa=path/'Thesis Data'/'Our dataset'\n",
    "aa2=path/'Thesis Data'/'AA dataset'\n",
    "subsets=aa/'subsets'"
   ]
  },
  {
   "cell_type": "markdown",
   "metadata": {
    "colab_type": "text",
    "id": "TV1DGq8h-fq_"
   },
   "source": [
    "# Load SP"
   ]
  },
  {
   "cell_type": "code",
   "execution_count": 0,
   "metadata": {
    "colab": {},
    "colab_type": "code",
    "id": "1hvRe6oT-fBH"
   },
   "outputs": [],
   "source": [
    "vocab_size = 30000\n",
    "model_prefix = 'sp'"
   ]
  },
  {
   "cell_type": "code",
   "execution_count": 7,
   "metadata": {
    "colab": {
     "base_uri": "https://localhost:8080/",
     "height": 187
    },
    "colab_type": "code",
    "id": "J-MFdg_j_iXz",
    "outputId": "dfdd2370-b692-4b5b-8f44-28a720116387"
   },
   "outputs": [
    {
     "name": "stdout",
     "output_type": "stream",
     "text": [
      "     1\t<unk>\t0\n",
      "     2\t<s>\t0\n",
      "     3\t</s>\t0\n",
      "     4\t▁\t-1.92809\n",
      "     5\t।\t-3.08075\n",
      "     6\t,\t-3.75831\n",
      "     7\t\"\t-3.82833\n",
      "     8\t▁\"\t-4.22803\n",
      "     9\t▁ও\t-4.91756\n",
      "    10\tর\t-4.94756\n"
     ]
    }
   ],
   "source": [
    "#Head of the Vocab file: Line nums indicate index of vocab\n",
    "!head -n10 {model_prefix}.vocab | nl"
   ]
  },
  {
   "cell_type": "code",
   "execution_count": 8,
   "metadata": {
    "colab": {
     "base_uri": "https://localhost:8080/",
     "height": 34
    },
    "colab_type": "code",
    "id": "t-VTowpvBDya",
    "outputId": "70ddce44-8b07-4551-8efb-579a85fb3dd0"
   },
   "outputs": [
    {
     "data": {
      "text/plain": [
       "True"
      ]
     },
     "execution_count": 8,
     "metadata": {
      "tags": []
     },
     "output_type": "execute_result"
    }
   ],
   "source": [
    "## load up the Processor\n",
    "sp = spm.SentencePieceProcessor()\n",
    "sp.load(f'{model_prefix}.model')"
   ]
  },
  {
   "cell_type": "code",
   "execution_count": 0,
   "metadata": {
    "colab": {},
    "colab_type": "code",
    "id": "7f25k7nxP1oS"
   },
   "outputs": [],
   "source": [
    "itos = [] #{}\n",
    "with open(f'{model_prefix}.vocab','r') as f:\n",
    "    for line_num,line in enumerate(f):\n",
    "        itos.append(line.split(\"\\t\")[0])"
   ]
  },
  {
   "cell_type": "code",
   "execution_count": 10,
   "metadata": {
    "colab": {
     "base_uri": "https://localhost:8080/",
     "height": 34
    },
    "colab_type": "code",
    "id": "cJg3UrwIJxLQ",
    "outputId": "14a651a5-dfc1-46d7-cf53-47c951f93964"
   },
   "outputs": [
    {
     "data": {
      "text/plain": [
       "30000"
      ]
     },
     "execution_count": 10,
     "metadata": {
      "tags": []
     },
     "output_type": "execute_result"
    }
   ],
   "source": [
    "len(itos)"
   ]
  },
  {
   "cell_type": "code",
   "execution_count": 11,
   "metadata": {
    "colab": {
     "base_uri": "https://localhost:8080/",
     "height": 51
    },
    "colab_type": "code",
    "id": "MPoVAW2EJzyG",
    "outputId": "e1d24403-f4a9-43ae-b494-d05b604fc102"
   },
   "outputs": [
    {
     "data": {
      "text/plain": [
       "(['<unk>', '<s>', '</s>', '▁', '।'],\n",
       " ['ইমরুল', '▁কামরাঙ্গীর', '▁whe', '▁অভ্যন্তরী', '/'])"
      ]
     },
     "execution_count": 11,
     "metadata": {
      "tags": []
     },
     "output_type": "execute_result"
    }
   ],
   "source": [
    "itos[:5], itos[-5:]"
   ]
  },
  {
   "cell_type": "code",
   "execution_count": 0,
   "metadata": {
    "colab": {},
    "colab_type": "code",
    "id": "9pw4ZtL4blcM"
   },
   "outputs": [],
   "source": [
    "class SPTokenizer(BaseTokenizer):\n",
    "    \"Wrapper around a SentncePiece tokenizer to make it a `BaseTokenizer`.\"\n",
    "    def __init__(self, model_prefix:str):\n",
    "        self.tok = spm.SentencePieceProcessor()\n",
    "        self.tok.load(f'{model_prefix}.model')\n",
    "\n",
    "    def tokenizer(self, t:str) -> List[str]:\n",
    "        return self.tok.EncodeAsPieces(t)\n",
    "    \n",
    "class CustomTokenizer():\n",
    "    '''Wrapper for SentencePiece toeknizer to fit into Fast.ai V1'''\n",
    "    def __init__(self,tok_func:Callable,model_prefix:str, pre_rules:ListRules=None):\n",
    "        self.tok_func,self.model_prefix = tok_func,model_prefix\n",
    "        self.pre_rules  = ifnone(pre_rules,  defaults.text_pre_rules )\n",
    "        \n",
    "    def __repr__(self) -> str:\n",
    "        res = f'Tokenizer {self.tok_func.__name__} using `{self.model_prefix}` model with the following rules:\\n'\n",
    "        for rule in self.pre_rules: res += f' - {rule.__name__}\\n'\n",
    "        return res        \n",
    "\n",
    "    def process_text(self, t:str,tok:BaseTokenizer) -> List[str]:\n",
    "        \"Processe one text `t` with tokenizer `tok`.\"\n",
    "        for rule in self.pre_rules: t = rule(t)  \n",
    "        toks = tok.tokenizer(t)\n",
    "        #post rules?\n",
    "        return toks \n",
    "    \n",
    "    def _process_all_1(self,texts:Collection[str]) -> List[List[str]]:\n",
    "        'Process a list of `texts` in one process'\n",
    "        tok = self.tok_func(self.model_prefix)\n",
    "        return [self.process_text(t,tok) for t in texts]\n",
    "                                                                     \n",
    "    def process_all(self, texts:Collection[str]) -> List[List[str]]: \n",
    "        \"Process a list of `texts`.\"                                 \n",
    "        return self._process_all_1(texts)"
   ]
  },
  {
   "cell_type": "code",
   "execution_count": 0,
   "metadata": {
    "colab": {},
    "colab_type": "code",
    "id": "dmAYJI8mBZwa"
   },
   "outputs": [],
   "source": [
    "#setup Vocab object for use in LM\n",
    "sp_vocab = Vocab(itos)"
   ]
  },
  {
   "cell_type": "code",
   "execution_count": 0,
   "metadata": {
    "colab": {},
    "colab_type": "code",
    "id": "VPhGAOe8AMCV"
   },
   "outputs": [],
   "source": [
    "mycust_tok = CustomTokenizer(SPTokenizer,model_prefix)"
   ]
  },
  {
   "cell_type": "markdown",
   "metadata": {
    "colab_type": "text",
    "id": "Fpm1OeIdfwn9"
   },
   "source": [
    "# BAAD16 subdatasets"
   ]
  },
  {
   "cell_type": "markdown",
   "metadata": {
    "colab_type": "text",
    "id": "DSqWhllfD1kv"
   },
   "source": [
    "## 6 Authors"
   ]
  },
  {
   "cell_type": "markdown",
   "metadata": {
    "colab_type": "text",
    "id": "cuEfScZJ_2Ha"
   },
   "source": [
    "#### 6 authors LM"
   ]
  },
  {
   "cell_type": "code",
   "execution_count": 0,
   "metadata": {
    "colab": {},
    "colab_type": "code",
    "id": "7JyKqxF_-Rb9"
   },
   "outputs": [],
   "source": [
    "data_lm_AA = TextLMDataBunch.from_csv(subsets , '6train.csv', bs=bs , bptt=bptt,tokenizer=mycust_tok, vocab=sp_vocab)\n",
    "data_lm_AA.save('6train_AA_subword_lm.pkl')"
   ]
  },
  {
   "cell_type": "code",
   "execution_count": 0,
   "metadata": {
    "colab": {},
    "colab_type": "code",
    "id": "seGC6RBp-RZJ"
   },
   "outputs": [],
   "source": [
    "data_lm_AA = load_data(subsets, '6train_AA_subword_lm.pkl',bs=bs)"
   ]
  },
  {
   "cell_type": "code",
   "execution_count": 0,
   "metadata": {
    "colab": {
     "base_uri": "https://localhost:8080/",
     "height": 289
    },
    "colab_type": "code",
    "id": "YVe8krnK-RWU",
    "outputId": "0419bc5e-a29e-4aa7-ffc0-9295b03da9eb"
   },
   "outputs": [
    {
     "data": {
      "text/html": [
       "<table border=\"1\" class=\"dataframe\">\n",
       "  <thead>\n",
       "    <tr style=\"text-align: right;\">\n",
       "      <th>idx</th>\n",
       "      <th>text</th>\n",
       "    </tr>\n",
       "  </thead>\n",
       "  <tbody>\n",
       "    <tr>\n",
       "      <td>0</td>\n",
       "      <td>তি কাল ▁পরে ▁দারোগা র ▁পায়ে ▁ধর িয়া ছি ▁ , ▁তা ঁ হার ▁মহ দা শ য় তার ▁উল্লেখ ▁করিয়া ▁অনেক ▁ স্তু তি ▁এবং ▁নিজের ▁বুদ্ধি ভ ্র ংশ ▁ ল ইয়া ▁অনেক ▁আত্ম ধিক ্ ▁কার ▁প্রয়োগ ▁করিয়া ছি ▁ , ▁কিন্তু ▁শেষ টা ▁ ভিটা ▁ছাড় িতে ▁হই ল ▁ । ▁শুনি য়া ছি , ▁আজকাল ▁অনেক ▁বাঙালির ▁মেয়েকে ▁নিজের ▁চেষ্টায় ▁স্বামী ▁সংগ্রহ ▁করি তে ▁হয়</td>\n",
       "    </tr>\n",
       "    <tr>\n",
       "      <td>1</td>\n",
       "      <td>▁জন ্তু র ▁মতো ▁গ োঁ ▁গ োঁ ▁শব্দ ▁হচ্ছে । ▁সে ▁চেষ্টা ▁করেও ▁শব্দ ▁আটকাতে ▁পারছে ▁না । ▁নাদিয়া ▁চমকে ▁তা কাল । ▁ভাদু কে ▁দেখে ▁অবাক ▁হয়ে ▁বলল , ▁এই ▁তোমার ▁কী ▁হয়েছে ? ▁এরকম ▁কর ছ ▁কেন ? ▁ভাদু ▁নাদিয়া র ▁ওপর ▁ঝাঁপিয়ে ▁পড়ল । ▁ দিঘি র ▁পানিতে ▁নাদিয়া ▁পড়ে ▁আছে । ▁তার ▁চোখ ▁খোলা । ▁যেন ▁সে ▁অবাক ▁হয়ে ▁পৃথিবী ▁দেখছে । ▁নাদিয়া ▁ দিঘি</td>\n",
       "    </tr>\n",
       "    <tr>\n",
       "      <td>2</td>\n",
       "      <td>, ▁তুই ▁জানি স ▁না , ▁আমি ▁কান্না ▁সহ্য ▁করতে ▁পারি ▁না ! ▁থামা ▁ওদের ! ▁যা , ▁ বস্তির ▁সব ▁ক টা ▁লোককে ▁একটা ▁করে ▁টাকা ▁দিয়ে ▁আয় । ▁মুন্সী ▁আমীর ▁আলী ▁আজ ▁একটা ▁বিরাট ▁সুসংবাদ ▁শুনিয়েছেন । ▁শেখ ▁ইমদাদ , ▁কত ুল ু ▁আর ▁হে দায় ে ৎ কে ▁ডাক , ▁তো রাও ▁এসে ▁শো ন । ▁তার ▁আগে ▁ বস্তির ▁সবাইকে ▁টাকা ▁দিয়ে ▁বল বি ▁মে ঠা</td>\n",
       "    </tr>\n",
       "    <tr>\n",
       "      <td>3</td>\n",
       "      <td>▁দেখল ো , ▁একটি ▁গ বা ক্ষ ের ▁কাছে ▁দাঁড়িয়ে ▁বাইরে ▁অন্ধকার ের ▁দিকে ▁চেয়ে ▁স রোজ িনী ▁গুনগুন িয়ে ▁গাইছে , ▁আমি ▁যে ▁লা জে ▁ মরি , ▁মনের ▁ কতা ▁কই তে ▁পারি ▁ নে , ▁কত ▁লোকে ▁কত ▁ কতা ▁বলে , ▁আমি ▁যে ▁সইতে ▁পারি । ▁ নে । ▁নবীন কুমার ের ▁সর্ব াঙ্গ ▁ অক স্ মা ৎ ▁শি হর িত ▁হলো । ▁সাদা ▁রেশম</td>\n",
       "    </tr>\n",
       "    <tr>\n",
       "      <td>4</td>\n",
       "      <td>▁ডাক ▁দেয় , ▁বলে ▁চলো , ▁বিশ্বাস ▁আছে ▁কিছু ! ▁গুটি ▁সাজাতে ▁সাজাতে ▁বল রেন ▁ সরি ৎ শেখ র । ▁আর ▁হঠাৎ ▁সমস্ত ▁শরীরে ▁কাঁটা ▁দিয়ে ▁উঠেছিল ▁অনি র । ▁ঝা ড়ি কাকু ▁বলেছিল , ▁মানুষ ▁মরে ▁গেলে ▁ভূত ▁হয় । ▁এখন ▁ সরি ৎ শেখ র ▁একা ▁এক মনে ▁দাবা ▁খেলছেন । ▁সম্প্রতি ▁ দাত ▁বা ধ িয়েছেন ▁তিনি । ▁বাঁ দিক ের ▁টেবিলে ▁একটা ▁পে য়াল ার</td>\n",
       "    </tr>\n",
       "  </tbody>\n",
       "</table>"
      ],
      "text/plain": [
       "<IPython.core.display.HTML object>"
      ]
     },
     "metadata": {
      "tags": []
     },
     "output_type": "display_data"
    }
   ],
   "source": [
    "data_lm_AA.show_batch()"
   ]
  },
  {
   "cell_type": "code",
   "execution_count": 0,
   "metadata": {
    "colab": {},
    "colab_type": "code",
    "id": "exZAyzLo-XIw"
   },
   "outputs": [],
   "source": [
    "learn = language_model_learner(data_lm_AA, AWD_LSTM, pretrained=False, drop_mult=0.5)"
   ]
  },
  {
   "cell_type": "code",
   "execution_count": 0,
   "metadata": {
    "colab": {},
    "colab_type": "code",
    "id": "j3xNi4sJ-XFu"
   },
   "outputs": [],
   "source": [
    "learn.load(news/'models'/'news_subword_lm_31');"
   ]
  },
  {
   "cell_type": "code",
   "execution_count": 0,
   "metadata": {
    "colab": {
     "base_uri": "https://localhost:8080/",
     "height": 300
    },
    "colab_type": "code",
    "id": "MCXsflQy-XCi",
    "outputId": "944aa224-b2fd-460d-d157-f29eb43d8c6d"
   },
   "outputs": [
    {
     "data": {
      "text/html": [],
      "text/plain": [
       "<IPython.core.display.HTML object>"
      ]
     },
     "metadata": {
      "tags": []
     },
     "output_type": "display_data"
    },
    {
     "name": "stdout",
     "output_type": "stream",
     "text": [
      "LR Finder is complete, type {learner_name}.recorder.plot() to see the graph.\n"
     ]
    },
    {
     "data": {
      "image/png": "[encoded data removed]",
      "text/plain": [
       "<Figure size 432x288 with 1 Axes>"
      ]
     },
     "metadata": {
      "tags": []
     },
     "output_type": "display_data"
    }
   ],
   "source": [
    "learn.lr_find();\n",
    "learn.recorder.plot();"
   ]
  },
  {
   "cell_type": "code",
   "execution_count": 0,
   "metadata": {
    "colab": {
     "base_uri": "https://localhost:8080/",
     "height": 283
    },
    "colab_type": "code",
    "id": "CozLP6WGA36j",
    "outputId": "10f78dfc-f5e9-4669-faef-55365ee6ce1e"
   },
   "outputs": [
    {
     "data": {
      "image/png": "[encoded data removed]",
      "text/plain": [
       "<Figure size 432x288 with 1 Axes>"
      ]
     },
     "metadata": {
      "tags": []
     },
     "output_type": "display_data"
    }
   ],
   "source": [
    "learn.recorder.plot(skip_end=20);"
   ]
  },
  {
   "cell_type": "code",
   "execution_count": 0,
   "metadata": {
    "colab": {
     "base_uri": "https://localhost:8080/",
     "height": 111
    },
    "colab_type": "code",
    "id": "HoN302dI-iY8",
    "outputId": "ce02e97e-69a6-47b0-9c75-40bc4b75abb7"
   },
   "outputs": [
    {
     "data": {
      "text/html": [
       "<table border=\"1\" class=\"dataframe\">\n",
       "  <thead>\n",
       "    <tr style=\"text-align: left;\">\n",
       "      <th>epoch</th>\n",
       "      <th>train_loss</th>\n",
       "      <th>valid_loss</th>\n",
       "      <th>accuracy</th>\n",
       "      <th>time</th>\n",
       "    </tr>\n",
       "  </thead>\n",
       "  <tbody>\n",
       "    <tr>\n",
       "      <td>0</td>\n",
       "      <td>5.087208</td>\n",
       "      <td>4.907931</td>\n",
       "      <td>0.220560</td>\n",
       "      <td>06:59</td>\n",
       "    </tr>\n",
       "    <tr>\n",
       "      <td>1</td>\n",
       "      <td>5.012203</td>\n",
       "      <td>4.830989</td>\n",
       "      <td>0.227429</td>\n",
       "      <td>07:07</td>\n",
       "    </tr>\n",
       "  </tbody>\n",
       "</table>"
      ],
      "text/plain": [
       "<IPython.core.display.HTML object>"
      ]
     },
     "metadata": {
      "tags": []
     },
     "output_type": "display_data"
    }
   ],
   "source": [
    "learn.freeze()\n",
    "learn.fit_one_cycle(2, 1e-3)\n",
    "learn.save('6train_subword_lm_head');"
   ]
  },
  {
   "cell_type": "code",
   "execution_count": 0,
   "metadata": {
    "colab": {
     "base_uri": "https://localhost:8080/",
     "height": 111
    },
    "colab_type": "code",
    "id": "lOfr4hf0-ohr",
    "outputId": "68397501-cf06-47a0-d412-7c6cfa5b09a8"
   },
   "outputs": [
    {
     "data": {
      "text/html": [
       "<table border=\"1\" class=\"dataframe\">\n",
       "  <thead>\n",
       "    <tr style=\"text-align: left;\">\n",
       "      <th>epoch</th>\n",
       "      <th>train_loss</th>\n",
       "      <th>valid_loss</th>\n",
       "      <th>accuracy</th>\n",
       "      <th>time</th>\n",
       "    </tr>\n",
       "  </thead>\n",
       "  <tbody>\n",
       "    <tr>\n",
       "      <td>0</td>\n",
       "      <td>4.746109</td>\n",
       "      <td>4.621097</td>\n",
       "      <td>0.248333</td>\n",
       "      <td>07:19</td>\n",
       "    </tr>\n",
       "    <tr>\n",
       "      <td>1</td>\n",
       "      <td>4.616107</td>\n",
       "      <td>4.547030</td>\n",
       "      <td>0.255648</td>\n",
       "      <td>07:18</td>\n",
       "    </tr>\n",
       "  </tbody>\n",
       "</table>"
      ],
      "text/plain": [
       "<IPython.core.display.HTML object>"
      ]
     },
     "metadata": {
      "tags": []
     },
     "output_type": "display_data"
    }
   ],
   "source": [
    "learn.freeze_to(-2)\n",
    "learn.fit_one_cycle(2, 1e-3)\n",
    "learn.save('6train_subword_lm_body_1');"
   ]
  },
  {
   "cell_type": "code",
   "execution_count": 0,
   "metadata": {
    "colab": {
     "base_uri": "https://localhost:8080/",
     "height": 111
    },
    "colab_type": "code",
    "id": "6NEjv7Bq-iWW",
    "outputId": "b947656b-f927-4afc-b932-e83c6a2f059d"
   },
   "outputs": [
    {
     "data": {
      "text/html": [
       "<table border=\"1\" class=\"dataframe\">\n",
       "  <thead>\n",
       "    <tr style=\"text-align: left;\">\n",
       "      <th>epoch</th>\n",
       "      <th>train_loss</th>\n",
       "      <th>valid_loss</th>\n",
       "      <th>accuracy</th>\n",
       "      <th>time</th>\n",
       "    </tr>\n",
       "  </thead>\n",
       "  <tbody>\n",
       "    <tr>\n",
       "      <td>0</td>\n",
       "      <td>4.538266</td>\n",
       "      <td>4.444046</td>\n",
       "      <td>0.267226</td>\n",
       "      <td>07:51</td>\n",
       "    </tr>\n",
       "    <tr>\n",
       "      <td>1</td>\n",
       "      <td>4.358920</td>\n",
       "      <td>4.372641</td>\n",
       "      <td>0.275446</td>\n",
       "      <td>07:51</td>\n",
       "    </tr>\n",
       "  </tbody>\n",
       "</table>"
      ],
      "text/plain": [
       "<IPython.core.display.HTML object>"
      ]
     },
     "metadata": {
      "tags": []
     },
     "output_type": "display_data"
    }
   ],
   "source": [
    "learn.freeze_to(-3)\n",
    "learn.fit_one_cycle(2, 1e-3)\n",
    "learn.save('6train_subword_lm_body_2');"
   ]
  },
  {
   "cell_type": "code",
   "execution_count": 0,
   "metadata": {
    "colab": {
     "base_uri": "https://localhost:8080/",
     "height": 111
    },
    "colab_type": "code",
    "id": "cA1U2__k-iTW",
    "outputId": "d6d0bed6-244d-4c5f-b43d-004d043651a4"
   },
   "outputs": [
    {
     "data": {
      "text/html": [
       "<table border=\"1\" class=\"dataframe\">\n",
       "  <thead>\n",
       "    <tr style=\"text-align: left;\">\n",
       "      <th>epoch</th>\n",
       "      <th>train_loss</th>\n",
       "      <th>valid_loss</th>\n",
       "      <th>accuracy</th>\n",
       "      <th>time</th>\n",
       "    </tr>\n",
       "  </thead>\n",
       "  <tbody>\n",
       "    <tr>\n",
       "      <td>0</td>\n",
       "      <td>4.349091</td>\n",
       "      <td>4.345245</td>\n",
       "      <td>0.278285</td>\n",
       "      <td>08:10</td>\n",
       "    </tr>\n",
       "    <tr>\n",
       "      <td>1</td>\n",
       "      <td>4.157496</td>\n",
       "      <td>4.289122</td>\n",
       "      <td>0.285175</td>\n",
       "      <td>08:09</td>\n",
       "    </tr>\n",
       "  </tbody>\n",
       "</table>"
      ],
      "text/plain": [
       "<IPython.core.display.HTML object>"
      ]
     },
     "metadata": {
      "tags": []
     },
     "output_type": "display_data"
    }
   ],
   "source": [
    "learn.unfreeze()\n",
    "learn.fit_one_cycle(2, 1e-3)\n",
    "learn.save('6train_subword_lm_body_3');"
   ]
  },
  {
   "cell_type": "code",
   "execution_count": 0,
   "metadata": {
    "colab": {
     "base_uri": "https://localhost:8080/",
     "height": 111
    },
    "colab_type": "code",
    "id": "l2Of9IWb-zjS",
    "outputId": "086d4d96-7993-4e8a-e362-605e46fac77e"
   },
   "outputs": [
    {
     "data": {
      "text/html": [
       "<table border=\"1\" class=\"dataframe\">\n",
       "  <thead>\n",
       "    <tr style=\"text-align: left;\">\n",
       "      <th>epoch</th>\n",
       "      <th>train_loss</th>\n",
       "      <th>valid_loss</th>\n",
       "      <th>accuracy</th>\n",
       "      <th>time</th>\n",
       "    </tr>\n",
       "  </thead>\n",
       "  <tbody>\n",
       "    <tr>\n",
       "      <td>0</td>\n",
       "      <td>4.206298</td>\n",
       "      <td>4.284727</td>\n",
       "      <td>0.285345</td>\n",
       "      <td>08:13</td>\n",
       "    </tr>\n",
       "    <tr>\n",
       "      <td>1</td>\n",
       "      <td>4.144996</td>\n",
       "      <td>4.239679</td>\n",
       "      <td>0.291049</td>\n",
       "      <td>08:13</td>\n",
       "    </tr>\n",
       "  </tbody>\n",
       "</table>"
      ],
      "text/plain": [
       "<IPython.core.display.HTML object>"
      ]
     },
     "metadata": {
      "tags": []
     },
     "output_type": "display_data"
    }
   ],
   "source": [
    "learn.fit_one_cycle(2, 1e-3)\n",
    "learn.save('6train_subword_lm_body_4')\n",
    "learn.save_encoder('6train_subword_lm_enc')"
   ]
  },
  {
   "cell_type": "code",
   "execution_count": 0,
   "metadata": {
    "colab": {
     "base_uri": "https://localhost:8080/",
     "height": 111
    },
    "colab_type": "code",
    "id": "O9Iccr4ePbPf",
    "outputId": "c6762ebc-8329-482e-d5fe-4594f9a3849e"
   },
   "outputs": [
    {
     "data": {
      "text/html": [
       "<table border=\"1\" class=\"dataframe\">\n",
       "  <thead>\n",
       "    <tr style=\"text-align: left;\">\n",
       "      <th>epoch</th>\n",
       "      <th>train_loss</th>\n",
       "      <th>valid_loss</th>\n",
       "      <th>accuracy</th>\n",
       "      <th>time</th>\n",
       "    </tr>\n",
       "  </thead>\n",
       "  <tbody>\n",
       "    <tr>\n",
       "      <td>0</td>\n",
       "      <td>4.200545</td>\n",
       "      <td>4.244983</td>\n",
       "      <td>0.289546</td>\n",
       "      <td>08:10</td>\n",
       "    </tr>\n",
       "    <tr>\n",
       "      <td>1</td>\n",
       "      <td>4.005004</td>\n",
       "      <td>4.208224</td>\n",
       "      <td>0.294353</td>\n",
       "      <td>08:09</td>\n",
       "    </tr>\n",
       "  </tbody>\n",
       "</table>"
      ],
      "text/plain": [
       "<IPython.core.display.HTML object>"
      ]
     },
     "metadata": {
      "tags": []
     },
     "output_type": "display_data"
    }
   ],
   "source": [
    "learn.fit_one_cycle(2, 1e-3)\n",
    "learn.save('6train_subword_lm_body_5')\n",
    "# learn.save_encoder('6train_subword_lm_enc')"
   ]
  },
  {
   "cell_type": "code",
   "execution_count": 0,
   "metadata": {
    "colab": {
     "base_uri": "https://localhost:8080/",
     "height": 173
    },
    "colab_type": "code",
    "id": "zZH_WGckPbK8",
    "outputId": "6f74e872-3112-4a08-f3c7-918c249edc2d"
   },
   "outputs": [
    {
     "data": {
      "text/html": [
       "<table border=\"1\" class=\"dataframe\">\n",
       "  <thead>\n",
       "    <tr style=\"text-align: left;\">\n",
       "      <th>epoch</th>\n",
       "      <th>train_loss</th>\n",
       "      <th>valid_loss</th>\n",
       "      <th>accuracy</th>\n",
       "      <th>time</th>\n",
       "    </tr>\n",
       "  </thead>\n",
       "  <tbody>\n",
       "    <tr>\n",
       "      <td>0</td>\n",
       "      <td>4.053096</td>\n",
       "      <td>4.227893</td>\n",
       "      <td>0.292057</td>\n",
       "      <td>08:09</td>\n",
       "    </tr>\n",
       "    <tr>\n",
       "      <td>1</td>\n",
       "      <td>4.051779</td>\n",
       "      <td>4.205906</td>\n",
       "      <td>0.294669</td>\n",
       "      <td>08:10</td>\n",
       "    </tr>\n",
       "    <tr>\n",
       "      <td>2</td>\n",
       "      <td>3.950754</td>\n",
       "      <td>4.174600</td>\n",
       "      <td>0.298680</td>\n",
       "      <td>08:09</td>\n",
       "    </tr>\n",
       "    <tr>\n",
       "      <td>3</td>\n",
       "      <td>3.823169</td>\n",
       "      <td>4.172399</td>\n",
       "      <td>0.299650</td>\n",
       "      <td>08:10</td>\n",
       "    </tr>\n",
       "  </tbody>\n",
       "</table>"
      ],
      "text/plain": [
       "<IPython.core.display.HTML object>"
      ]
     },
     "metadata": {
      "tags": []
     },
     "output_type": "display_data"
    }
   ],
   "source": [
    "learn.fit_one_cycle(4, 1e-3)\n",
    "learn.save('6train_subword_lm_body_6')\n",
    "# learn.save_encoder('6train_subword_lm_enc') #total 16epochs (10 unfrozen)"
   ]
  },
  {
   "cell_type": "code",
   "execution_count": 0,
   "metadata": {
    "colab": {
     "base_uri": "https://localhost:8080/",
     "height": 80
    },
    "colab_type": "code",
    "id": "vebnRkOKPbGl",
    "outputId": "2b6fa174-6629-4a25-c4fa-74ee3925b099"
   },
   "outputs": [
    {
     "data": {
      "text/html": [
       "<table border=\"1\" class=\"dataframe\">\n",
       "  <thead>\n",
       "    <tr style=\"text-align: left;\">\n",
       "      <th>epoch</th>\n",
       "      <th>train_loss</th>\n",
       "      <th>valid_loss</th>\n",
       "      <th>accuracy</th>\n",
       "      <th>time</th>\n",
       "    </tr>\n",
       "  </thead>\n",
       "  <tbody>\n",
       "    <tr>\n",
       "      <td>0</td>\n",
       "      <td>3.908700</td>\n",
       "      <td>4.171709</td>\n",
       "      <td>0.299598</td>\n",
       "      <td>08:10</td>\n",
       "    </tr>\n",
       "  </tbody>\n",
       "</table>"
      ],
      "text/plain": [
       "<IPython.core.display.HTML object>"
      ]
     },
     "metadata": {
      "tags": []
     },
     "output_type": "display_data"
    }
   ],
   "source": [
    "learn.fit_one_cycle(1, 1e-3)\n",
    "learn.save('6train_subword_lm_body_7')\n",
    "learn.save_encoder('6train_subword_lm_enc') #total 17epochs (11 unfrozen)"
   ]
  },
  {
   "cell_type": "markdown",
   "metadata": {
    "colab_type": "text",
    "id": "yaYSU4o6kpEm"
   },
   "source": [
    "#### 6 Authors Clas"
   ]
  },
  {
   "cell_type": "code",
   "execution_count": 0,
   "metadata": {
    "colab": {},
    "colab_type": "code",
    "id": "xiqZ_SQ0iZwU"
   },
   "outputs": [],
   "source": [
    "data_clas = TextClasDataBunch.from_csv(subsets , '6train.csv', tokenizer=mycust_tok, vocab=sp_vocab, bs=bs)\n",
    "data_clas.save('6train_subword_clas.pkl')"
   ]
  },
  {
   "cell_type": "code",
   "execution_count": 0,
   "metadata": {
    "colab": {
     "base_uri": "https://localhost:8080/",
     "height": 300
    },
    "colab_type": "code",
    "id": "didgbJs_izb_",
    "outputId": "91cd6d0a-545b-45d3-8b7a-4779b0b5cca0"
   },
   "outputs": [
    {
     "data": {
      "text/html": [],
      "text/plain": [
       "<IPython.core.display.HTML object>"
      ]
     },
     "metadata": {
      "tags": []
     },
     "output_type": "display_data"
    },
    {
     "name": "stdout",
     "output_type": "stream",
     "text": [
      "LR Finder is complete, type {learner_name}.recorder.plot() to see the graph.\n"
     ]
    },
    {
     "data": {
      "image/png": "[encoded data removed]",
      "text/plain": [
       "<Figure size 432x288 with 1 Axes>"
      ]
     },
     "metadata": {
      "tags": []
     },
     "output_type": "display_data"
    }
   ],
   "source": [
    "data_clas = load_data(subsets, '6train_subword_clas.pkl',bs=bs)\n",
    "learn_cls = text_classifier_learner(data_clas, AWD_LSTM, drop_mult=0.5, pretrained=False)\n",
    "learn_cls.load_encoder('6train_subword_lm_enc')\n",
    "learn_cls.freeze()\n",
    "learn_cls.lr_find()\n",
    "learn_cls.recorder.plot()"
   ]
  },
  {
   "cell_type": "code",
   "execution_count": 0,
   "metadata": {
    "colab": {
     "base_uri": "https://localhost:8080/",
     "height": 455
    },
    "colab_type": "code",
    "id": "DRT_026ggz6Y",
    "outputId": "fd4dd548-205d-45ca-c38c-6a00db2024ff"
   },
   "outputs": [
    {
     "data": {
      "text/html": [
       "<table border=\"1\" class=\"dataframe\">\n",
       "  <thead>\n",
       "    <tr style=\"text-align: left;\">\n",
       "      <th>epoch</th>\n",
       "      <th>train_loss</th>\n",
       "      <th>valid_loss</th>\n",
       "      <th>accuracy</th>\n",
       "      <th>time</th>\n",
       "    </tr>\n",
       "  </thead>\n",
       "  <tbody>\n",
       "    <tr>\n",
       "      <td>0</td>\n",
       "      <td>0.271309</td>\n",
       "      <td>0.012543</td>\n",
       "      <td>0.997162</td>\n",
       "      <td>02:48</td>\n",
       "    </tr>\n",
       "    <tr>\n",
       "      <td>1</td>\n",
       "      <td>0.125881</td>\n",
       "      <td>0.009407</td>\n",
       "      <td>0.997162</td>\n",
       "      <td>02:49</td>\n",
       "    </tr>\n",
       "  </tbody>\n",
       "</table>"
      ],
      "text/plain": [
       "<IPython.core.display.HTML object>"
      ]
     },
     "metadata": {
      "tags": []
     },
     "output_type": "display_data"
    },
    {
     "data": {
      "text/html": [
       "<table border=\"1\" class=\"dataframe\">\n",
       "  <thead>\n",
       "    <tr style=\"text-align: left;\">\n",
       "      <th>epoch</th>\n",
       "      <th>train_loss</th>\n",
       "      <th>valid_loss</th>\n",
       "      <th>accuracy</th>\n",
       "      <th>time</th>\n",
       "    </tr>\n",
       "  </thead>\n",
       "  <tbody>\n",
       "    <tr>\n",
       "      <td>0</td>\n",
       "      <td>0.203336</td>\n",
       "      <td>0.030321</td>\n",
       "      <td>0.989593</td>\n",
       "      <td>03:06</td>\n",
       "    </tr>\n",
       "    <tr>\n",
       "      <td>1</td>\n",
       "      <td>0.074691</td>\n",
       "      <td>0.009576</td>\n",
       "      <td>0.996216</td>\n",
       "      <td>03:11</td>\n",
       "    </tr>\n",
       "  </tbody>\n",
       "</table>"
      ],
      "text/plain": [
       "<IPython.core.display.HTML object>"
      ]
     },
     "metadata": {
      "tags": []
     },
     "output_type": "display_data"
    },
    {
     "data": {
      "text/html": [
       "<table border=\"1\" class=\"dataframe\">\n",
       "  <thead>\n",
       "    <tr style=\"text-align: left;\">\n",
       "      <th>epoch</th>\n",
       "      <th>train_loss</th>\n",
       "      <th>valid_loss</th>\n",
       "      <th>accuracy</th>\n",
       "      <th>time</th>\n",
       "    </tr>\n",
       "  </thead>\n",
       "  <tbody>\n",
       "    <tr>\n",
       "      <td>0</td>\n",
       "      <td>0.060481</td>\n",
       "      <td>0.035118</td>\n",
       "      <td>0.994324</td>\n",
       "      <td>04:31</td>\n",
       "    </tr>\n",
       "    <tr>\n",
       "      <td>1</td>\n",
       "      <td>0.029494</td>\n",
       "      <td>0.022599</td>\n",
       "      <td>0.993378</td>\n",
       "      <td>04:28</td>\n",
       "    </tr>\n",
       "  </tbody>\n",
       "</table>"
      ],
      "text/plain": [
       "<IPython.core.display.HTML object>"
      ]
     },
     "metadata": {
      "tags": []
     },
     "output_type": "display_data"
    },
    {
     "data": {
      "text/html": [
       "<table border=\"1\" class=\"dataframe\">\n",
       "  <thead>\n",
       "    <tr style=\"text-align: left;\">\n",
       "      <th>epoch</th>\n",
       "      <th>train_loss</th>\n",
       "      <th>valid_loss</th>\n",
       "      <th>accuracy</th>\n",
       "      <th>time</th>\n",
       "    </tr>\n",
       "  </thead>\n",
       "  <tbody>\n",
       "    <tr>\n",
       "      <td>0</td>\n",
       "      <td>0.025032</td>\n",
       "      <td>0.022774</td>\n",
       "      <td>0.993378</td>\n",
       "      <td>05:29</td>\n",
       "    </tr>\n",
       "    <tr>\n",
       "      <td>1</td>\n",
       "      <td>0.024567</td>\n",
       "      <td>0.022565</td>\n",
       "      <td>0.993378</td>\n",
       "      <td>05:39</td>\n",
       "    </tr>\n",
       "    <tr>\n",
       "      <td>2</td>\n",
       "      <td>0.026857</td>\n",
       "      <td>0.020215</td>\n",
       "      <td>0.992431</td>\n",
       "      <td>05:40</td>\n",
       "    </tr>\n",
       "    <tr>\n",
       "      <td>3</td>\n",
       "      <td>0.028328</td>\n",
       "      <td>0.016997</td>\n",
       "      <td>0.994324</td>\n",
       "      <td>05:37</td>\n",
       "    </tr>\n",
       "  </tbody>\n",
       "</table>"
      ],
      "text/plain": [
       "<IPython.core.display.HTML object>"
      ]
     },
     "metadata": {
      "tags": []
     },
     "output_type": "display_data"
    }
   ],
   "source": [
    "learn_cls.fit_one_cycle(2, 1e-2, moms=(0.8,0.7))\n",
    "learn_cls.save('6train_subword_cls_1')\n",
    "# learn_cls.load('6train_subword_cls_1')\n",
    "learn_cls.freeze_to(-2)\n",
    "learn_cls.fit_one_cycle(2 , slice(1e-2/(2.6**4),1e-2), moms=(0.8,0.7))\n",
    "learn_cls.save('6train_subword_cls_2')\n",
    "# learn_cls.load('6train_subword_cls_2')\n",
    "learn_cls.freeze_to(-3)\n",
    "learn_cls.fit_one_cycle(2, slice(5e-3/(2.6**4),5e-3), moms=(0.8,0.7))\n",
    "learn_cls.save('6train_subword_cls_3')\n",
    "# learn_cls.load('6train_subword_cls_3')\n",
    "learn_cls.unfreeze()\n",
    "learn_cls.fit_one_cycle(4, slice(1e-3/(2.6**4),1e-3), moms=(0.8,0.7))\n",
    "learn_cls.save('6train_subword_cls_4')"
   ]
  },
  {
   "cell_type": "code",
   "execution_count": 0,
   "metadata": {
    "colab": {
     "base_uri": "https://localhost:8080/",
     "height": 34
    },
    "colab_type": "code",
    "id": "yg9UAnLMxe69",
    "outputId": "aaf73ed6-4d23-41b4-910c-b2afc68bc13e"
   },
   "outputs": [
    {
     "data": {
      "text/plain": [
       "True"
      ]
     },
     "execution_count": 45,
     "metadata": {
      "tags": []
     },
     "output_type": "execute_result"
    }
   ],
   "source": [
    "learn_cls.data.test_dl == None"
   ]
  },
  {
   "cell_type": "markdown",
   "metadata": {
    "colab_type": "text",
    "id": "niwNvAnj38ks"
   },
   "source": [
    "------------->  **Testing**  <-----------------"
   ]
  },
  {
   "cell_type": "code",
   "execution_count": 0,
   "metadata": {
    "colab": {},
    "colab_type": "code",
    "id": "oHUSu8Q0PbAi"
   },
   "outputs": [],
   "source": [
    "data_clas = load_data(subsets, '6train_subword_clas.pkl',bs=bs)\n",
    "learn_cls = text_classifier_learner(data_clas, AWD_LSTM, drop_mult=0.5, pretrained=False)\n",
    "learn_cls.load('6train_subword_cls_4');"
   ]
  },
  {
   "cell_type": "code",
   "execution_count": 0,
   "metadata": {
    "colab": {
     "base_uri": "https://localhost:8080/",
     "height": 105
    },
    "colab_type": "code",
    "id": "FhP8h4me4Fma",
    "outputId": "5cff2de5-f898-4865-b27e-a502c71f121b"
   },
   "outputs": [
    {
     "name": "stdout",
     "output_type": "stream",
     "text": [
      "1320\n",
      "Accuracy: \n",
      "0.9946969696969697\n",
      "[('robindronath', 'shunil_gongopaddhay'), ('robindronath', 'shomresh'), ('robindronath', 'shorotchandra'), ('humayun_ahmed', 'shorotchandra'), ('humayun_ahmed', 'shunil_gongopaddhay'), ('humayun_ahmed', 'MZI'), ('shomresh', 'robindronath')]\n"
     ]
    }
   ],
   "source": [
    "pred,targ = testing(subsets/'6test.csv')"
   ]
  },
  {
   "cell_type": "code",
   "execution_count": 0,
   "metadata": {
    "colab": {
     "base_uri": "https://localhost:8080/",
     "height": 34
    },
    "colab_type": "code",
    "id": "XzajeRhO91yI",
    "outputId": "2d96c28a-162a-4246-c05f-bdd0a6b96cb2"
   },
   "outputs": [
    {
     "data": {
      "text/plain": [
       "array([0.997732, 0.993135, 0.990868, 0.995455, 0.995475, 0.995475])"
      ]
     },
     "execution_count": 48,
     "metadata": {
      "tags": []
     },
     "output_type": "execute_result"
    }
   ],
   "source": [
    "from sklearn.metrics import f1_score\n",
    "# y_true = [0, 1, 2, 0, 1, 2]\n",
    "# y_pred = [0, 2, 1, 0, 0, 1]\n",
    "# output : array([ 0.8,  0. ,  0. ])\n",
    "# Which is the scores for each class.\n",
    "out  = f1_score(targ, pred, average=None) #'macro' , also == weighted cuz dataset is balanced\n",
    "out"
   ]
  },
  {
   "cell_type": "code",
   "execution_count": 0,
   "metadata": {
    "colab": {
     "base_uri": "https://localhost:8080/",
     "height": 34
    },
    "colab_type": "code",
    "id": "w254LeUdELa3",
    "outputId": "917e98ce-9693-41dd-df2b-70b5e6c54cf6"
   },
   "outputs": [
    {
     "data": {
      "text/plain": [
       "0.9946899648921779"
      ]
     },
     "execution_count": 56,
     "metadata": {
      "tags": []
     },
     "output_type": "execute_result"
    }
   ],
   "source": [
    "out.mean()"
   ]
  },
  {
   "cell_type": "markdown",
   "metadata": {
    "colab_type": "text",
    "id": "GOC4z9rCErsv"
   },
   "source": [
    "## 8 Authors"
   ]
  },
  {
   "cell_type": "markdown",
   "metadata": {
    "colab_type": "text",
    "id": "lbyaOA5DEnZn"
   },
   "source": [
    "#### 8 authors LM"
   ]
  },
  {
   "cell_type": "code",
   "execution_count": 0,
   "metadata": {
    "colab": {},
    "colab_type": "code",
    "id": "IJUnKXyXFXSO"
   },
   "outputs": [],
   "source": [
    "bs=32"
   ]
  },
  {
   "cell_type": "code",
   "execution_count": 0,
   "metadata": {
    "colab": {},
    "colab_type": "code",
    "id": "cYlvfLL5EnZs"
   },
   "outputs": [],
   "source": [
    "data_lm_AA = TextLMDataBunch.from_csv(subsets , '8train.csv', bs=bs,tokenizer=mycust_tok, vocab=sp_vocab)\n",
    "data_lm_AA.save('8train_AA_subword_lm.pkl')"
   ]
  },
  {
   "cell_type": "code",
   "execution_count": 0,
   "metadata": {
    "colab": {},
    "colab_type": "code",
    "id": "oNUJiITJEnZx"
   },
   "outputs": [],
   "source": [
    "data_lm_AA = load_data(subsets, '8train_AA_subword_lm.pkl',bs=bs)"
   ]
  },
  {
   "cell_type": "code",
   "execution_count": 0,
   "metadata": {
    "colab": {
     "base_uri": "https://localhost:8080/",
     "height": 306
    },
    "colab_type": "code",
    "id": "umLSLFjtEnZ2",
    "outputId": "acdbf56a-1d00-43fe-f86e-f74046c917b0"
   },
   "outputs": [
    {
     "data": {
      "text/html": [
       "<table border=\"1\" class=\"dataframe\">\n",
       "  <thead>\n",
       "    <tr style=\"text-align: right;\">\n",
       "      <th>idx</th>\n",
       "      <th>text</th>\n",
       "    </tr>\n",
       "  </thead>\n",
       "  <tbody>\n",
       "    <tr>\n",
       "      <td>0</td>\n",
       "      <td>▁মত ▁আমরা ▁ ই ণ্ড িয়ান দের ▁ছোট ▁মনে ▁করি নে , ▁নিজেদের ▁সম কক্ষ ই ▁ভাবি , — কেবল ▁ফার্ম ের ▁নয় , ▁আপনাদের ▁নিজেদের ▁উন্নতি ও ▁আপনাদের ▁নিজেদের ▁কর্তব্য জ্ঞান ের ▁উপরে — আচ্ছা , ▁গুড ▁ডে — আ ফিস ▁দুটো র ▁সময় ▁বন্ধ ▁হওয়া ▁চাই — ইত্যাদি ▁বলি তে ▁বলি তে ▁তিনি ▁যেমন ▁ ক্ষ ি প্র পদে ▁প্রবেশ ▁করিয়া ছিলেন , ▁তেমনি ▁ ক্ষ ি প্র</td>\n",
       "    </tr>\n",
       "    <tr>\n",
       "      <td>1</td>\n",
       "      <td>। ▁চাঁদাবাজ া দের ▁অত্যাচার ▁দিন ▁দিন ▁বাড়ছে । ▁তারপর ▁ধর ▁সিদ্দিক ▁বাজারের ▁মানিক ▁লাল ▁ থু পী র ▁নিজস্ব ▁সম্পত্তির ▁অর্ধেক ▁অংশ ▁এলাকার ▁সাহাবুদ্দিন , ▁সিরাজ , ▁পারভেজ , ▁সালাউদ্দিন ▁এরা ▁জোর ▁করে ▁দখল ▁করে ▁নিয়েছে । ▁এখন ▁তারা ▁মানিক ▁লাল ের ▁পুরো ▁সম্পত্তি ▁নিয়ে ▁নেব ার ▁চেষ্টা ▁চালাচ্ছে । ▁সু রঞ্জন ▁কিছুক্ষণ ▁থেমে ▁দীর্ঘশ্বাস ▁ছেড়ে ▁বলে — ধান ▁কেটে ▁নেওয়া , ▁মেয়ে ▁ধরে ▁নিয়ে ▁যাওয়া , ▁ র</td>\n",
       "    </tr>\n",
       "    <tr>\n",
       "      <td>2</td>\n",
       "      <td>▁ঢেউয়ে র ▁উপর ▁দিয়ে ▁জাহাজ ▁যখন ▁ টল ্ ▁মল ্ ▁করতে ▁করতে ▁চলেছে , ▁একটি ▁ছোট ো ▁ ডাঙা র ▁পাখি ▁উড়ে ▁এসে ▁যেন ▁মা স্তু লে ▁বসল ; ▁ক্ষুব্ধ ▁সমুদ্র ের ▁ভিতর ▁ ক্ষণ কালের ▁জন্যে ▁মনে ▁এনে ▁দিলে ▁শ্যামল ▁ দ্বীপের ▁ নিভৃত ▁বন চ্ছা য়ার ▁ছবি । ▁কিন্তু ▁সে ▁কথায় ▁মন ▁দেবার ▁সময় ▁নয় , ▁জাহাজ ▁চালাতে ▁হবে । ▁মধুসূদন ▁আপন ▁মনের ▁এই টুকু ▁চাঞ্চল্য ে</td>\n",
       "    </tr>\n",
       "    <tr>\n",
       "      <td>3</td>\n",
       "      <td>য়া দা ▁যখন ▁দরজা ▁ছাড়ে ▁না ▁তখন ▁দায়ে ▁পড়ে ▁ভাবতে ▁হল ▁কী ▁লিখি । ▁সময়ের ▁দাবি ▁বদলে ▁গেছে । ▁এ কালে ▁গল্পের ▁কৌতূহল টা ▁হয়ে ▁উঠেছে ▁মনো বিক লন মূলক । ▁ঘটনা - গ্রন্থ ন ▁হয়ে ▁পড়েছে ▁গৌণ । ▁তাই ▁অস্বাভাবিক ▁অবস্থায় ▁মনের ▁রহস্য ▁সন্ধান ▁করে ▁নায়ক - নায়িকা র ▁জীবনে ▁প্র কাণ্ড ▁একটা ▁ভুলের ▁দম ▁লাগিয়ে ▁দেওয়া ▁হয়েছিল ▁ – অত্যন্ত ▁নিষ্ঠুর ▁কিন্তু ▁ &lt;unk&gt; ৎস ুক ্য জনক</td>\n",
       "    </tr>\n",
       "    <tr>\n",
       "      <td>4</td>\n",
       "      <td>▁ রত্ন েশ্বরী ▁জবাব ▁দেয়ার ▁আগেই ▁তার ▁বাবা ▁বললেন , ▁আপনি ▁এখন ▁যান । ▁আমরা ▁হাঁস - ফা স ▁কিছু ▁রাখব ▁না । ▁ ই র তাজ উদ্দিন ▁ক্লান্ত ▁গলায় ▁বললেন , ▁ আচ্ছা ▁না ▁রাখলেন , ▁গো ট টা ▁খ ুল ুন । ▁আমার ▁বাথরুমে ▁যাওয়া ▁বিশেষ ▁প্রয়োজন । ▁ রত্ন েশ্বরী র ▁বাবা ▁বললেন , ▁গেট ▁খোলা ▁যাবে ▁না । ▁আমার ▁কাছে ▁গেটের ▁চাবি ▁নাই । ▁কথা ▁সত্যি</td>\n",
       "    </tr>\n",
       "  </tbody>\n",
       "</table>"
      ],
      "text/plain": [
       "<IPython.core.display.HTML object>"
      ]
     },
     "metadata": {
      "tags": []
     },
     "output_type": "display_data"
    }
   ],
   "source": [
    "data_lm_AA.show_batch()"
   ]
  },
  {
   "cell_type": "code",
   "execution_count": 0,
   "metadata": {
    "colab": {},
    "colab_type": "code",
    "id": "JixXYsu4EnZ-"
   },
   "outputs": [],
   "source": [
    "learn = language_model_learner(data_lm_AA, AWD_LSTM, pretrained=False, drop_mult=0.5)"
   ]
  },
  {
   "cell_type": "code",
   "execution_count": 0,
   "metadata": {
    "colab": {},
    "colab_type": "code",
    "id": "fnbTMfwWEnaF"
   },
   "outputs": [],
   "source": [
    "learn.load(news/'models'/'news_subword_lm_31');"
   ]
  },
  {
   "cell_type": "code",
   "execution_count": 0,
   "metadata": {
    "colab": {
     "base_uri": "https://localhost:8080/",
     "height": 300
    },
    "colab_type": "code",
    "id": "0vfFZz2oEnaK",
    "outputId": "8dcabf57-966b-4ee8-e4fe-d94c6b91a14a"
   },
   "outputs": [
    {
     "data": {
      "text/html": [],
      "text/plain": [
       "<IPython.core.display.HTML object>"
      ]
     },
     "metadata": {
      "tags": []
     },
     "output_type": "display_data"
    },
    {
     "name": "stdout",
     "output_type": "stream",
     "text": [
      "LR Finder is complete, type {learner_name}.recorder.plot() to see the graph.\n"
     ]
    },
    {
     "data": {
      "image/png": "[encoded data removed]",
      "text/plain": [
       "<Figure size 432x288 with 1 Axes>"
      ]
     },
     "metadata": {
      "tags": []
     },
     "output_type": "display_data"
    }
   ],
   "source": [
    "learn.lr_find();\n",
    "learn.recorder.plot();"
   ]
  },
  {
   "cell_type": "code",
   "execution_count": 0,
   "metadata": {
    "colab": {
     "base_uri": "https://localhost:8080/",
     "height": 283
    },
    "colab_type": "code",
    "id": "zOePza4NEnaQ",
    "outputId": "017537ea-d3c4-4ea0-d4a7-e751751f3107"
   },
   "outputs": [
    {
     "data": {
      "image/png": "[encoded data removed]",
      "text/plain": [
       "<Figure size 432x288 with 1 Axes>"
      ]
     },
     "metadata": {
      "tags": []
     },
     "output_type": "display_data"
    }
   ],
   "source": [
    "learn.recorder.plot(skip_end=20);"
   ]
  },
  {
   "cell_type": "code",
   "execution_count": 0,
   "metadata": {
    "colab": {
     "base_uri": "https://localhost:8080/",
     "height": 111
    },
    "colab_type": "code",
    "id": "DLrG3hEIEnaV",
    "outputId": "703d7cfd-0df2-4e87-f45a-08000a95c50b"
   },
   "outputs": [
    {
     "data": {
      "text/html": [
       "<table border=\"1\" class=\"dataframe\">\n",
       "  <thead>\n",
       "    <tr style=\"text-align: left;\">\n",
       "      <th>epoch</th>\n",
       "      <th>train_loss</th>\n",
       "      <th>valid_loss</th>\n",
       "      <th>accuracy</th>\n",
       "      <th>time</th>\n",
       "    </tr>\n",
       "  </thead>\n",
       "  <tbody>\n",
       "    <tr>\n",
       "      <td>0</td>\n",
       "      <td>5.200167</td>\n",
       "      <td>5.010797</td>\n",
       "      <td>0.211414</td>\n",
       "      <td>07:49</td>\n",
       "    </tr>\n",
       "    <tr>\n",
       "      <td>1</td>\n",
       "      <td>5.062052</td>\n",
       "      <td>4.943041</td>\n",
       "      <td>0.217093</td>\n",
       "      <td>08:00</td>\n",
       "    </tr>\n",
       "  </tbody>\n",
       "</table>"
      ],
      "text/plain": [
       "<IPython.core.display.HTML object>"
      ]
     },
     "metadata": {
      "tags": []
     },
     "output_type": "display_data"
    }
   ],
   "source": [
    "learn.freeze()\n",
    "learn.fit_one_cycle(2, 1e-3)\n",
    "learn.save('8train_subword_lm_head');"
   ]
  },
  {
   "cell_type": "code",
   "execution_count": 0,
   "metadata": {
    "colab": {
     "base_uri": "https://localhost:8080/",
     "height": 111
    },
    "colab_type": "code",
    "id": "dYkpwGkQEnag",
    "outputId": "6c292ae2-5077-484a-bb53-29a4a5836af3"
   },
   "outputs": [
    {
     "data": {
      "text/html": [
       "<table border=\"1\" class=\"dataframe\">\n",
       "  <thead>\n",
       "    <tr style=\"text-align: left;\">\n",
       "      <th>epoch</th>\n",
       "      <th>train_loss</th>\n",
       "      <th>valid_loss</th>\n",
       "      <th>accuracy</th>\n",
       "      <th>time</th>\n",
       "    </tr>\n",
       "  </thead>\n",
       "  <tbody>\n",
       "    <tr>\n",
       "      <td>0</td>\n",
       "      <td>4.873001</td>\n",
       "      <td>4.756652</td>\n",
       "      <td>0.234854</td>\n",
       "      <td>08:15</td>\n",
       "    </tr>\n",
       "    <tr>\n",
       "      <td>1</td>\n",
       "      <td>4.782453</td>\n",
       "      <td>4.684672</td>\n",
       "      <td>0.242304</td>\n",
       "      <td>08:11</td>\n",
       "    </tr>\n",
       "  </tbody>\n",
       "</table>"
      ],
      "text/plain": [
       "<IPython.core.display.HTML object>"
      ]
     },
     "metadata": {
      "tags": []
     },
     "output_type": "display_data"
    }
   ],
   "source": [
    "learn.freeze_to(-2)\n",
    "learn.fit_one_cycle(2, 1e-3)\n",
    "learn.save('8train_subword_lm_body_1');"
   ]
  },
  {
   "cell_type": "code",
   "execution_count": 0,
   "metadata": {
    "colab": {
     "base_uri": "https://localhost:8080/",
     "height": 111
    },
    "colab_type": "code",
    "id": "8alhGdIkEnap",
    "outputId": "ac02274f-3ad9-489c-b87a-a17197ff5d5e"
   },
   "outputs": [
    {
     "data": {
      "text/html": [
       "<table border=\"1\" class=\"dataframe\">\n",
       "  <thead>\n",
       "    <tr style=\"text-align: left;\">\n",
       "      <th>epoch</th>\n",
       "      <th>train_loss</th>\n",
       "      <th>valid_loss</th>\n",
       "      <th>accuracy</th>\n",
       "      <th>time</th>\n",
       "    </tr>\n",
       "  </thead>\n",
       "  <tbody>\n",
       "    <tr>\n",
       "      <td>0</td>\n",
       "      <td>4.706996</td>\n",
       "      <td>4.587357</td>\n",
       "      <td>0.252385</td>\n",
       "      <td>08:48</td>\n",
       "    </tr>\n",
       "    <tr>\n",
       "      <td>1</td>\n",
       "      <td>4.516606</td>\n",
       "      <td>4.514170</td>\n",
       "      <td>0.261331</td>\n",
       "      <td>08:50</td>\n",
       "    </tr>\n",
       "  </tbody>\n",
       "</table>"
      ],
      "text/plain": [
       "<IPython.core.display.HTML object>"
      ]
     },
     "metadata": {
      "tags": []
     },
     "output_type": "display_data"
    }
   ],
   "source": [
    "learn.freeze_to(-3)\n",
    "learn.fit_one_cycle(2, 1e-3)\n",
    "learn.save('8train_subword_lm_body_2');"
   ]
  },
  {
   "cell_type": "code",
   "execution_count": 0,
   "metadata": {
    "colab": {
     "base_uri": "https://localhost:8080/",
     "height": 173
    },
    "colab_type": "code",
    "id": "TOElaBMNEnat",
    "outputId": "73865ae1-3edf-4c4f-c9c2-719250f73905"
   },
   "outputs": [
    {
     "data": {
      "text/html": [
       "<table border=\"1\" class=\"dataframe\">\n",
       "  <thead>\n",
       "    <tr style=\"text-align: left;\">\n",
       "      <th>epoch</th>\n",
       "      <th>train_loss</th>\n",
       "      <th>valid_loss</th>\n",
       "      <th>accuracy</th>\n",
       "      <th>time</th>\n",
       "    </tr>\n",
       "  </thead>\n",
       "  <tbody>\n",
       "    <tr>\n",
       "      <td>0</td>\n",
       "      <td>4.420300</td>\n",
       "      <td>4.506402</td>\n",
       "      <td>0.261631</td>\n",
       "      <td>09:00</td>\n",
       "    </tr>\n",
       "    <tr>\n",
       "      <td>1</td>\n",
       "      <td>4.466517</td>\n",
       "      <td>4.441250</td>\n",
       "      <td>0.268502</td>\n",
       "      <td>09:10</td>\n",
       "    </tr>\n",
       "    <tr>\n",
       "      <td>2</td>\n",
       "      <td>4.385371</td>\n",
       "      <td>4.388586</td>\n",
       "      <td>0.275027</td>\n",
       "      <td>09:10</td>\n",
       "    </tr>\n",
       "    <tr>\n",
       "      <td>3</td>\n",
       "      <td>4.231692</td>\n",
       "      <td>4.376570</td>\n",
       "      <td>0.276654</td>\n",
       "      <td>09:11</td>\n",
       "    </tr>\n",
       "  </tbody>\n",
       "</table>"
      ],
      "text/plain": [
       "<IPython.core.display.HTML object>"
      ]
     },
     "metadata": {
      "tags": []
     },
     "output_type": "display_data"
    }
   ],
   "source": [
    "learn.unfreeze()\n",
    "learn.load('8train_subword_lm_body_2');\n",
    "learn.fit_one_cycle(4, 1e-3)\n",
    "learn.save('8train_subword_lm_body_3');\n",
    "learn.save_encoder('8train_subword_lm_enc')"
   ]
  },
  {
   "cell_type": "code",
   "execution_count": 0,
   "metadata": {
    "colab": {
     "base_uri": "https://localhost:8080/",
     "height": 111
    },
    "colab_type": "code",
    "id": "6CRS6zkyEnbJ",
    "outputId": "edaad742-c262-4676-a03d-dc1c725751a9"
   },
   "outputs": [
    {
     "data": {
      "text/html": [
       "<table border=\"1\" class=\"dataframe\">\n",
       "  <thead>\n",
       "    <tr style=\"text-align: left;\">\n",
       "      <th>epoch</th>\n",
       "      <th>train_loss</th>\n",
       "      <th>valid_loss</th>\n",
       "      <th>accuracy</th>\n",
       "      <th>time</th>\n",
       "    </tr>\n",
       "  </thead>\n",
       "  <tbody>\n",
       "    <tr>\n",
       "      <td>0</td>\n",
       "      <td>4.306743</td>\n",
       "      <td>4.388829</td>\n",
       "      <td>0.274594</td>\n",
       "      <td>09:11</td>\n",
       "    </tr>\n",
       "    <tr>\n",
       "      <td>1</td>\n",
       "      <td>4.140616</td>\n",
       "      <td>4.353124</td>\n",
       "      <td>0.279541</td>\n",
       "      <td>09:12</td>\n",
       "    </tr>\n",
       "  </tbody>\n",
       "</table>"
      ],
      "text/plain": [
       "<IPython.core.display.HTML object>"
      ]
     },
     "metadata": {
      "tags": []
     },
     "output_type": "display_data"
    }
   ],
   "source": [
    "learn.fit_one_cycle(2, 1e-3)\n",
    "learn.save('8train_subword_lm_body_4')"
   ]
  },
  {
   "cell_type": "code",
   "execution_count": 0,
   "metadata": {
    "colab": {
     "base_uri": "https://localhost:8080/",
     "height": 111
    },
    "colab_type": "code",
    "id": "T82KGVwsnWQJ",
    "outputId": "61d53fd5-7b54-4d4e-e7ec-51c3e5aa7db9"
   },
   "outputs": [
    {
     "data": {
      "text/html": [
       "<table border=\"1\" class=\"dataframe\">\n",
       "  <thead>\n",
       "    <tr style=\"text-align: left;\">\n",
       "      <th>epoch</th>\n",
       "      <th>train_loss</th>\n",
       "      <th>valid_loss</th>\n",
       "      <th>accuracy</th>\n",
       "      <th>time</th>\n",
       "    </tr>\n",
       "  </thead>\n",
       "  <tbody>\n",
       "    <tr>\n",
       "      <td>0</td>\n",
       "      <td>4.178640</td>\n",
       "      <td>4.366120</td>\n",
       "      <td>0.277537</td>\n",
       "      <td>09:12</td>\n",
       "    </tr>\n",
       "    <tr>\n",
       "      <td>1</td>\n",
       "      <td>4.105770</td>\n",
       "      <td>4.334311</td>\n",
       "      <td>0.281622</td>\n",
       "      <td>09:11</td>\n",
       "    </tr>\n",
       "  </tbody>\n",
       "</table>"
      ],
      "text/plain": [
       "<IPython.core.display.HTML object>"
      ]
     },
     "metadata": {
      "tags": []
     },
     "output_type": "display_data"
    }
   ],
   "source": [
    "learn.fit_one_cycle(2, 1e-3)\n",
    "learn.save('8train_subword_lm_body_5')"
   ]
  },
  {
   "cell_type": "code",
   "execution_count": 0,
   "metadata": {
    "colab": {
     "base_uri": "https://localhost:8080/",
     "height": 111
    },
    "colab_type": "code",
    "id": "syLlDX8fnWMU",
    "outputId": "1e96aeee-b9f3-4fe3-f599-c5f136386a0f"
   },
   "outputs": [
    {
     "data": {
      "text/html": [
       "<table border=\"1\" class=\"dataframe\">\n",
       "  <thead>\n",
       "    <tr style=\"text-align: left;\">\n",
       "      <th>epoch</th>\n",
       "      <th>train_loss</th>\n",
       "      <th>valid_loss</th>\n",
       "      <th>accuracy</th>\n",
       "      <th>time</th>\n",
       "    </tr>\n",
       "  </thead>\n",
       "  <tbody>\n",
       "    <tr>\n",
       "      <td>0</td>\n",
       "      <td>4.190300</td>\n",
       "      <td>4.352106</td>\n",
       "      <td>0.279121</td>\n",
       "      <td>09:11</td>\n",
       "    </tr>\n",
       "    <tr>\n",
       "      <td>1</td>\n",
       "      <td>4.033255</td>\n",
       "      <td>4.322569</td>\n",
       "      <td>0.283336</td>\n",
       "      <td>09:12</td>\n",
       "    </tr>\n",
       "  </tbody>\n",
       "</table>"
      ],
      "text/plain": [
       "<IPython.core.display.HTML object>"
      ]
     },
     "metadata": {
      "tags": []
     },
     "output_type": "display_data"
    }
   ],
   "source": [
    "learn.fit_one_cycle(2, 1e-3)\n",
    "learn.save('8train_subword_lm_body_6')"
   ]
  },
  {
   "cell_type": "code",
   "execution_count": 0,
   "metadata": {
    "colab": {},
    "colab_type": "code",
    "id": "UHcydByZulqW"
   },
   "outputs": [],
   "source": [
    "learn.save_encoder('8train_subword_lm_enc')"
   ]
  },
  {
   "cell_type": "markdown",
   "metadata": {
    "colab_type": "text",
    "id": "VOofL712EnbT"
   },
   "source": [
    "#### 8 Authors Clas"
   ]
  },
  {
   "cell_type": "code",
   "execution_count": 0,
   "metadata": {
    "colab": {},
    "colab_type": "code",
    "id": "m94IvKWVEnbU"
   },
   "outputs": [],
   "source": [
    "data_clas = TextClasDataBunch.from_csv(subsets , '8train.csv', tokenizer=mycust_tok, vocab=sp_vocab, bs=bs)\n",
    "data_clas.save('8train_subword_clas.pkl')"
   ]
  },
  {
   "cell_type": "code",
   "execution_count": 0,
   "metadata": {
    "colab": {
     "base_uri": "https://localhost:8080/",
     "height": 300
    },
    "colab_type": "code",
    "id": "flg9AANxEnbX",
    "outputId": "d8a5f2c8-5329-496e-8953-daba9d7925a8"
   },
   "outputs": [
    {
     "data": {
      "text/html": [],
      "text/plain": [
       "<IPython.core.display.HTML object>"
      ]
     },
     "metadata": {
      "tags": []
     },
     "output_type": "display_data"
    },
    {
     "name": "stdout",
     "output_type": "stream",
     "text": [
      "LR Finder is complete, type {learner_name}.recorder.plot() to see the graph.\n"
     ]
    },
    {
     "data": {
      "image/png": "[encoded data removed]",
      "text/plain": [
       "<Figure size 432x288 with 1 Axes>"
      ]
     },
     "metadata": {
      "tags": []
     },
     "output_type": "display_data"
    }
   ],
   "source": [
    "data_clas = load_data(subsets, '8train_subword_clas.pkl',bs=bs)\n",
    "learn_cls = text_classifier_learner(data_clas, AWD_LSTM, drop_mult=0.5, pretrained=False)\n",
    "learn_cls.load_encoder('8train_subword_lm_enc')\n",
    "learn_cls.freeze()\n",
    "learn_cls.lr_find()\n",
    "learn_cls.recorder.plot()"
   ]
  },
  {
   "cell_type": "code",
   "execution_count": 0,
   "metadata": {
    "colab": {
     "base_uri": "https://localhost:8080/",
     "height": 455
    },
    "colab_type": "code",
    "id": "DA2BpAnvEnbb",
    "outputId": "727a47a5-ce3f-4fd9-8ee7-f771e500f1cb"
   },
   "outputs": [
    {
     "data": {
      "text/html": [
       "<table border=\"1\" class=\"dataframe\">\n",
       "  <thead>\n",
       "    <tr style=\"text-align: left;\">\n",
       "      <th>epoch</th>\n",
       "      <th>train_loss</th>\n",
       "      <th>valid_loss</th>\n",
       "      <th>accuracy</th>\n",
       "      <th>time</th>\n",
       "    </tr>\n",
       "  </thead>\n",
       "  <tbody>\n",
       "    <tr>\n",
       "      <td>0</td>\n",
       "      <td>0.207758</td>\n",
       "      <td>0.017768</td>\n",
       "      <td>0.994962</td>\n",
       "      <td>03:08</td>\n",
       "    </tr>\n",
       "    <tr>\n",
       "      <td>1</td>\n",
       "      <td>0.066687</td>\n",
       "      <td>0.014304</td>\n",
       "      <td>0.995802</td>\n",
       "      <td>03:07</td>\n",
       "    </tr>\n",
       "  </tbody>\n",
       "</table>"
      ],
      "text/plain": [
       "<IPython.core.display.HTML object>"
      ]
     },
     "metadata": {
      "tags": []
     },
     "output_type": "display_data"
    },
    {
     "data": {
      "text/html": [
       "<table border=\"1\" class=\"dataframe\">\n",
       "  <thead>\n",
       "    <tr style=\"text-align: left;\">\n",
       "      <th>epoch</th>\n",
       "      <th>train_loss</th>\n",
       "      <th>valid_loss</th>\n",
       "      <th>accuracy</th>\n",
       "      <th>time</th>\n",
       "    </tr>\n",
       "  </thead>\n",
       "  <tbody>\n",
       "    <tr>\n",
       "      <td>0</td>\n",
       "      <td>0.141669</td>\n",
       "      <td>0.019680</td>\n",
       "      <td>0.992443</td>\n",
       "      <td>03:30</td>\n",
       "    </tr>\n",
       "    <tr>\n",
       "      <td>1</td>\n",
       "      <td>0.058855</td>\n",
       "      <td>0.018762</td>\n",
       "      <td>0.995802</td>\n",
       "      <td>03:28</td>\n",
       "    </tr>\n",
       "  </tbody>\n",
       "</table>"
      ],
      "text/plain": [
       "<IPython.core.display.HTML object>"
      ]
     },
     "metadata": {
      "tags": []
     },
     "output_type": "display_data"
    },
    {
     "data": {
      "text/html": [
       "<table border=\"1\" class=\"dataframe\">\n",
       "  <thead>\n",
       "    <tr style=\"text-align: left;\">\n",
       "      <th>epoch</th>\n",
       "      <th>train_loss</th>\n",
       "      <th>valid_loss</th>\n",
       "      <th>accuracy</th>\n",
       "      <th>time</th>\n",
       "    </tr>\n",
       "  </thead>\n",
       "  <tbody>\n",
       "    <tr>\n",
       "      <td>0</td>\n",
       "      <td>0.056105</td>\n",
       "      <td>0.027293</td>\n",
       "      <td>0.994123</td>\n",
       "      <td>05:03</td>\n",
       "    </tr>\n",
       "    <tr>\n",
       "      <td>1</td>\n",
       "      <td>0.022821</td>\n",
       "      <td>0.017731</td>\n",
       "      <td>0.996641</td>\n",
       "      <td>05:01</td>\n",
       "    </tr>\n",
       "  </tbody>\n",
       "</table>"
      ],
      "text/plain": [
       "<IPython.core.display.HTML object>"
      ]
     },
     "metadata": {
      "tags": []
     },
     "output_type": "display_data"
    },
    {
     "data": {
      "text/html": [
       "<table border=\"1\" class=\"dataframe\">\n",
       "  <thead>\n",
       "    <tr style=\"text-align: left;\">\n",
       "      <th>epoch</th>\n",
       "      <th>train_loss</th>\n",
       "      <th>valid_loss</th>\n",
       "      <th>accuracy</th>\n",
       "      <th>time</th>\n",
       "    </tr>\n",
       "  </thead>\n",
       "  <tbody>\n",
       "    <tr>\n",
       "      <td>0</td>\n",
       "      <td>0.015067</td>\n",
       "      <td>0.011548</td>\n",
       "      <td>0.998321</td>\n",
       "      <td>06:18</td>\n",
       "    </tr>\n",
       "    <tr>\n",
       "      <td>1</td>\n",
       "      <td>0.017571</td>\n",
       "      <td>0.013096</td>\n",
       "      <td>0.998321</td>\n",
       "      <td>06:07</td>\n",
       "    </tr>\n",
       "    <tr>\n",
       "      <td>2</td>\n",
       "      <td>0.016812</td>\n",
       "      <td>0.011537</td>\n",
       "      <td>0.998321</td>\n",
       "      <td>06:21</td>\n",
       "    </tr>\n",
       "    <tr>\n",
       "      <td>3</td>\n",
       "      <td>0.008808</td>\n",
       "      <td>0.012647</td>\n",
       "      <td>0.997481</td>\n",
       "      <td>06:19</td>\n",
       "    </tr>\n",
       "  </tbody>\n",
       "</table>"
      ],
      "text/plain": [
       "<IPython.core.display.HTML object>"
      ]
     },
     "metadata": {
      "tags": []
     },
     "output_type": "display_data"
    }
   ],
   "source": [
    "learn_cls.fit_one_cycle(2, 1e-2, moms=(0.8,0.7))\n",
    "learn_cls.save('8train_subword_cls_1')\n",
    "# learn_cls.load('8train_subword_cls_1')\n",
    "learn_cls.freeze_to(-2)\n",
    "learn_cls.fit_one_cycle(2 , slice(1e-2/(2.6**4),1e-2), moms=(0.8,0.7))\n",
    "learn_cls.save('8train_subword_cls_2')\n",
    "# learn_cls.load('8train_subword_cls_2')\n",
    "learn_cls.freeze_to(-3)\n",
    "learn_cls.fit_one_cycle(2, slice(5e-3/(2.6**4),5e-3), moms=(0.8,0.7))\n",
    "learn_cls.save('8train_subword_cls_3')\n",
    "# learn_cls.load('8train_subword_cls_3')\n",
    "learn_cls.unfreeze()\n",
    "learn_cls.fit_one_cycle(4, slice(1e-3/(2.6**4),1e-3), moms=(0.8,0.7))\n",
    "learn_cls.save('8train_subword_cls_4')"
   ]
  },
  {
   "cell_type": "markdown",
   "metadata": {
    "colab_type": "text",
    "id": "0-mIBSzLEnbn"
   },
   "source": [
    "------------->  **Testing**  <-----------------"
   ]
  },
  {
   "cell_type": "code",
   "execution_count": 0,
   "metadata": {
    "colab": {},
    "colab_type": "code",
    "id": "QEl1w3yWvNCN"
   },
   "outputs": [],
   "source": [
    "def testing(dts):\n",
    "  df = pd.read_csv(dts) \n",
    "  text_array = df[\"text\"].tolist()\n",
    "  print(len(text_array))\n",
    "\n",
    "  final_preds = []\n",
    "\n",
    "  for text in text_array:\n",
    "      preds = learn_cls.predict(text)\n",
    "      final_preds.append(str(preds[0]))\n",
    "\n",
    "  targets = df[\"label\"].tolist()\n",
    "\n",
    "  err=[]\n",
    "  count =0;\n",
    "  tst = len(text_array)\n",
    "\n",
    "  for i in range(tst):\n",
    "      if(targets[i]==final_preds[i]):\n",
    "          count = count+1\n",
    "      else:\n",
    "  #         print(targets[i] + \", \" + final_preds[i] + ';')\n",
    "          err.append((targets[i],final_preds[i]))\n",
    "  print(\"Accuracy: \")\n",
    "  print(count/tst)\n",
    "  print(err)\n",
    "  \n",
    "  return final_preds,targets"
   ]
  },
  {
   "cell_type": "code",
   "execution_count": 0,
   "metadata": {
    "colab": {
     "base_uri": "https://localhost:8080/",
     "height": 105
    },
    "colab_type": "code",
    "id": "8MIKhIjNEnbr",
    "outputId": "d266b335-f118-42dc-bc58-90e93ab453a2"
   },
   "outputs": [
    {
     "name": "stdout",
     "output_type": "stream",
     "text": [
      "1496\n",
      "Accuracy: \n",
      "0.9939839572192514\n",
      "[('shirshendu', 'shorotchandra'), ('shirshendu', 'shorotchandra'), ('toslima_nasrin', 'shirshendu'), ('shorotchandra', 'robindronath'), ('humayun_ahmed', 'shorotchandra'), ('humayun_ahmed', 'MZI'), ('humayun_ahmed', 'MZI'), ('shomresh', 'MZI'), ('shunil_gongopaddhay', 'MZI')]\n"
     ]
    }
   ],
   "source": [
    "pred,targ = testing(subsets/'8test.csv')"
   ]
  },
  {
   "cell_type": "code",
   "execution_count": 0,
   "metadata": {
    "colab": {
     "base_uri": "https://localhost:8080/",
     "height": 34
    },
    "colab_type": "code",
    "id": "l-8FLb7GEnbx",
    "outputId": "60571929-3d13-4244-a681-ef71e01f0974"
   },
   "outputs": [
    {
     "data": {
      "text/plain": [
       "array([0.989418, 0.991914, 0.997333, 0.991957, 0.997319, 0.989362, 0.997319, 0.997319])"
      ]
     },
     "execution_count": 29,
     "metadata": {
      "tags": []
     },
     "output_type": "execute_result"
    }
   ],
   "source": [
    "from sklearn.metrics import f1_score\n",
    "out  = f1_score(targ, pred, average=None) #'macro' , also == weighted cuz dataset is balanced\n",
    "out"
   ]
  },
  {
   "cell_type": "code",
   "execution_count": 0,
   "metadata": {
    "colab": {
     "base_uri": "https://localhost:8080/",
     "height": 34
    },
    "colab_type": "code",
    "id": "ch4YGFQFEnb7",
    "outputId": "5541b4d3-91fb-4974-c3ee-f923d5182fc5"
   },
   "outputs": [
    {
     "data": {
      "text/plain": [
       "0.9939926225781239"
      ]
     },
     "execution_count": 30,
     "metadata": {
      "tags": []
     },
     "output_type": "execute_result"
    }
   ],
   "source": [
    "out.mean()"
   ]
  },
  {
   "cell_type": "markdown",
   "metadata": {
    "colab_type": "text",
    "id": "Ik2jPV2oKoIt"
   },
   "source": [
    "## 10 Authors"
   ]
  },
  {
   "cell_type": "markdown",
   "metadata": {
    "colab_type": "text",
    "id": "LsvXdxhQKdSq"
   },
   "source": [
    "#### 10 authors LM"
   ]
  },
  {
   "cell_type": "code",
   "execution_count": 0,
   "metadata": {
    "colab": {},
    "colab_type": "code",
    "id": "baN_JkGdKdSu"
   },
   "outputs": [],
   "source": [
    "bs=32"
   ]
  },
  {
   "cell_type": "code",
   "execution_count": 0,
   "metadata": {
    "colab": {},
    "colab_type": "code",
    "id": "nTCC6nduKdS1"
   },
   "outputs": [],
   "source": [
    "data_lm_AA = TextLMDataBunch.from_csv(subsets , '10train.csv', bs=bs,tokenizer=mycust_tok, vocab=sp_vocab)\n",
    "data_lm_AA.save('10train_AA_subword_lm.pkl')"
   ]
  },
  {
   "cell_type": "code",
   "execution_count": 0,
   "metadata": {
    "colab": {},
    "colab_type": "code",
    "id": "9CgeYbdDKdS5"
   },
   "outputs": [],
   "source": [
    "data_lm_AA = load_data(subsets, '10train_AA_subword_lm.pkl',bs=bs)"
   ]
  },
  {
   "cell_type": "code",
   "execution_count": 0,
   "metadata": {
    "colab": {
     "base_uri": "https://localhost:8080/",
     "height": 306
    },
    "colab_type": "code",
    "id": "zjaN46kJKdS9",
    "outputId": "7cb362aa-176e-4a08-81fb-c8c6a6b08617"
   },
   "outputs": [
    {
     "data": {
      "text/html": [
       "<table border=\"1\" class=\"dataframe\">\n",
       "  <thead>\n",
       "    <tr style=\"text-align: right;\">\n",
       "      <th>idx</th>\n",
       "      <th>text</th>\n",
       "    </tr>\n",
       "  </thead>\n",
       "  <tbody>\n",
       "    <tr>\n",
       "      <td>0</td>\n",
       "      <td>▁জড়িয়ে ▁ধরে ▁চুমু ▁খাওয়া কেই ▁নারী ▁স্বাধীনতা ▁বলেই ▁ভাবেন ▁হয়ত — ও ঁ দের ▁গা ▁থেকে ▁ভু র ▁ভু র ▁করে ▁টাকার ▁গন্ধ ▁বেরিয়ে ▁ঘর কে ▁এত ▁ ঠে সে ▁ধরে ছিল ▁যে ▁আমার ▁শ্বাস ▁নিতে ▁কষ্ট ▁হচ্ছিল । ▁এই ▁নির্ বোধ ▁মেয়েরা ▁কঠিন ▁পানীয় ের ▁গ্লাস ▁হাতে ▁নিয়ে ▁শরীর ▁দু লিয়ে ▁ বিত্ত ▁এবং ▁বৈ ভ বের ▁গল্প ▁বলেন । ▁লোকে ▁ও ঁ দের ▁শিক্ষিত ▁এবং ▁স ন্ত্র ান্ত</td>\n",
       "    </tr>\n",
       "    <tr>\n",
       "      <td>1</td>\n",
       "      <td>▁মানুষকে ▁সাথে ▁নিয়ে ▁হেঁটে ▁আসছিলেন , ▁তখন ▁রাস্তায় ▁দুইটা ▁মিলি টার ী ▁তাকে ▁থামিয়ে ছে । ▁খান ▁সাহেবের ▁সাথে ▁কি ▁সব ▁কথাবার্তা ▁বলেছে । ▁তারপর ▁যেই ▁সামনে ▁হেঁটে ▁যেতে ▁চেষ্টা ▁করেছেন ▁মিলি টার ী ▁দুইটা ▁বন্দুক ▁তুলে ▁গুল ী ▁করতে ▁শুরু ▁করেছে । ▁সাথে র ▁দুইজন ▁উল্টো ▁দিকে ▁দৌড় ▁দেয়ার ▁চেষ্টা ▁করেছে , ▁তখন ▁তাদেরকে ও ▁গুল ী ▁করে ▁মেরে ▁ফেলেছে । ▁সাথে ▁সাথে ▁মরে ▁গেছে ▁সবাই ? ▁সেটা ▁জানি</td>\n",
       "    </tr>\n",
       "    <tr>\n",
       "      <td>2</td>\n",
       "      <td>। ▁— ▁কী ▁খায় ▁না ▁খায় ▁তা ▁ জাই না ▁আমার ▁কী ! ▁না ▁খ াইয়া ▁ম ই রা ▁যাক । ▁ভু গু ক । ▁আমার ▁কী ! ▁তুমি ▁হই লা ▁নষ্ট ের ▁গোড়া । ▁তুমি ▁কথা ▁কই ও ▁না । ▁তু মার ▁আস কারা ▁পাই য়া ▁ছেলেমেয়ে গুলা ▁নষ্ট ▁হইছে । ▁মা ▁ শির দা ঁড়া ▁টান ▁টান ▁করে ▁হেঁটে ▁এসে ▁চি বুক ▁উঁচিয়ে ▁বলেন ▁— ▁কথা ▁কই তাম</td>\n",
       "    </tr>\n",
       "    <tr>\n",
       "      <td>3</td>\n",
       "      <td>▁তখন ▁ট্রেনের ▁শব্দ ▁ছাড়া ▁আর ▁একটা ▁শব্দ ▁কানে ▁এল । ▁ঘোড়ার ▁খু র ের ▁শব্দ । ▁এর ▁মধ্যে ▁কখন ▁যে ▁বাঁ দিকে ▁পাহাড় ▁এসে ▁গেছে , ▁তা ▁খেয়াল ই ▁করিনি । ▁ফেল ু দার ▁পকেটে ▁যখন ▁হাত ▁ঢোকা চ্ছি । ▁তখন ▁দেখলাম ▁পাহাড়ের ▁গা ▁দিয়ে ▁ধুলো ▁উড়িয়ে ▁ডাকাত ের ▁দল ▁নামছে । ▁রিভ ল ভার ের ▁পাশে ▁হাত ড়া তেই ▁চাবি ▁ঠেকা ল ▁হাতে । ▁দিয়ে ▁দে । ▁আমি ▁চাবি</td>\n",
       "    </tr>\n",
       "    <tr>\n",
       "      <td>4</td>\n",
       "      <td>ই ▁বালিশ ের ▁তলা ▁হইতে ▁একটা ▁টাকা ▁ ঠ ং ▁করিয়া ▁ফেল িয়া ▁দিল । ▁ সাবিত্রী ▁টাকা টা ▁তুলি য়া ▁ ল ইয়া ▁বলি ল , ▁সকালবেলা য় ▁আবার ▁কি ▁আনতে ▁হবে ? ▁সতীশ ▁বলি ল , ▁সন্ দেশ ! ▁কিন্তু ▁আমার ▁জন্যে ▁নয় । ▁এখন ▁রেখে ▁দাও , ▁রাত ্রে ▁তোমার ▁বাবুর ▁জন্যে ▁কিনে ▁নিয়ে ▁যে ও । ▁ সাবিত্রী ▁রাগ ▁করিয়া ▁টাকা টা ▁বিছানা র ▁উপর ▁ফেল</td>\n",
       "    </tr>\n",
       "  </tbody>\n",
       "</table>"
      ],
      "text/plain": [
       "<IPython.core.display.HTML object>"
      ]
     },
     "metadata": {
      "tags": []
     },
     "output_type": "display_data"
    }
   ],
   "source": [
    "data_lm_AA.show_batch()"
   ]
  },
  {
   "cell_type": "code",
   "execution_count": 0,
   "metadata": {
    "colab": {},
    "colab_type": "code",
    "id": "-5j5ewmhKdTE"
   },
   "outputs": [],
   "source": [
    "learn = language_model_learner(data_lm_AA, AWD_LSTM, pretrained=False, drop_mult=0.5)"
   ]
  },
  {
   "cell_type": "code",
   "execution_count": 0,
   "metadata": {
    "colab": {},
    "colab_type": "code",
    "id": "Rew3laY_KdTI"
   },
   "outputs": [],
   "source": [
    "learn.load(news/'models'/'news_subword_lm_31');"
   ]
  },
  {
   "cell_type": "code",
   "execution_count": 0,
   "metadata": {
    "colab": {
     "base_uri": "https://localhost:8080/",
     "height": 300
    },
    "colab_type": "code",
    "id": "yiPOO7KUKdTL",
    "outputId": "8ad70c5a-6e44-47c2-d713-437d4ac67750"
   },
   "outputs": [
    {
     "data": {
      "text/html": [],
      "text/plain": [
       "<IPython.core.display.HTML object>"
      ]
     },
     "metadata": {
      "tags": []
     },
     "output_type": "display_data"
    },
    {
     "name": "stdout",
     "output_type": "stream",
     "text": [
      "LR Finder is complete, type {learner_name}.recorder.plot() to see the graph.\n"
     ]
    },
    {
     "data": {
      "image/png": "[encoded data removed]",
      "text/plain": [
       "<Figure size 432x288 with 1 Axes>"
      ]
     },
     "metadata": {
      "tags": []
     },
     "output_type": "display_data"
    }
   ],
   "source": [
    "learn.lr_find();\n",
    "learn.recorder.plot();"
   ]
  },
  {
   "cell_type": "code",
   "execution_count": 0,
   "metadata": {
    "colab": {
     "base_uri": "https://localhost:8080/",
     "height": 283
    },
    "colab_type": "code",
    "id": "QDcHJAioKdTQ",
    "outputId": "b9d6b355-db51-4828-a06f-2e8cef41ecac"
   },
   "outputs": [
    {
     "data": {
      "image/png": "[encoded data removed]",
      "text/plain": [
       "<Figure size 432x288 with 1 Axes>"
      ]
     },
     "metadata": {
      "tags": []
     },
     "output_type": "display_data"
    }
   ],
   "source": [
    "learn.recorder.plot(skip_end=20);"
   ]
  },
  {
   "cell_type": "code",
   "execution_count": 0,
   "metadata": {
    "colab": {
     "base_uri": "https://localhost:8080/",
     "height": 111
    },
    "colab_type": "code",
    "id": "8-rLA0P4KdTa",
    "outputId": "24489be1-6693-430f-8624-e65fe7bf7d3a"
   },
   "outputs": [
    {
     "data": {
      "text/html": [
       "<table border=\"1\" class=\"dataframe\">\n",
       "  <thead>\n",
       "    <tr style=\"text-align: left;\">\n",
       "      <th>epoch</th>\n",
       "      <th>train_loss</th>\n",
       "      <th>valid_loss</th>\n",
       "      <th>accuracy</th>\n",
       "      <th>time</th>\n",
       "    </tr>\n",
       "  </thead>\n",
       "  <tbody>\n",
       "    <tr>\n",
       "      <td>0</td>\n",
       "      <td>5.143362</td>\n",
       "      <td>5.000328</td>\n",
       "      <td>0.213516</td>\n",
       "      <td>09:17</td>\n",
       "    </tr>\n",
       "    <tr>\n",
       "      <td>1</td>\n",
       "      <td>4.865668</td>\n",
       "      <td>4.802146</td>\n",
       "      <td>0.230835</td>\n",
       "      <td>09:20</td>\n",
       "    </tr>\n",
       "  </tbody>\n",
       "</table>"
      ],
      "text/plain": [
       "<IPython.core.display.HTML object>"
      ]
     },
     "metadata": {
      "tags": []
     },
     "output_type": "display_data"
    }
   ],
   "source": [
    "learn.freeze()\n",
    "learn.fit_one_cycle(2, 1e-2)\n",
    "learn.save('10train_subword_lm_head');"
   ]
  },
  {
   "cell_type": "code",
   "execution_count": 0,
   "metadata": {
    "colab": {
     "base_uri": "https://localhost:8080/",
     "height": 111
    },
    "colab_type": "code",
    "id": "MdzQFLyrKdTg",
    "outputId": "ac81e8f2-8bc1-4705-a99f-82defde478f4"
   },
   "outputs": [
    {
     "data": {
      "text/html": [
       "<table border=\"1\" class=\"dataframe\">\n",
       "  <thead>\n",
       "    <tr style=\"text-align: left;\">\n",
       "      <th>epoch</th>\n",
       "      <th>train_loss</th>\n",
       "      <th>valid_loss</th>\n",
       "      <th>accuracy</th>\n",
       "      <th>time</th>\n",
       "    </tr>\n",
       "  </thead>\n",
       "  <tbody>\n",
       "    <tr>\n",
       "      <td>0</td>\n",
       "      <td>4.802526</td>\n",
       "      <td>4.822278</td>\n",
       "      <td>0.233453</td>\n",
       "      <td>09:37</td>\n",
       "    </tr>\n",
       "    <tr>\n",
       "      <td>1</td>\n",
       "      <td>4.614734</td>\n",
       "      <td>4.580323</td>\n",
       "      <td>0.257463</td>\n",
       "      <td>09:36</td>\n",
       "    </tr>\n",
       "  </tbody>\n",
       "</table>"
      ],
      "text/plain": [
       "<IPython.core.display.HTML object>"
      ]
     },
     "metadata": {
      "tags": []
     },
     "output_type": "display_data"
    }
   ],
   "source": [
    "learn.freeze_to(-2)\n",
    "learn.fit_one_cycle(2, 1e-2)\n",
    "learn.save('10train_subword_lm_body_1');"
   ]
  },
  {
   "cell_type": "code",
   "execution_count": 0,
   "metadata": {
    "colab": {
     "base_uri": "https://localhost:8080/",
     "height": 111
    },
    "colab_type": "code",
    "id": "hROZdE7LKdTm",
    "outputId": "556f9bbe-d69e-4296-f20a-be87067eab1d"
   },
   "outputs": [
    {
     "data": {
      "text/html": [
       "<table border=\"1\" class=\"dataframe\">\n",
       "  <thead>\n",
       "    <tr style=\"text-align: left;\">\n",
       "      <th>epoch</th>\n",
       "      <th>train_loss</th>\n",
       "      <th>valid_loss</th>\n",
       "      <th>accuracy</th>\n",
       "      <th>time</th>\n",
       "    </tr>\n",
       "  </thead>\n",
       "  <tbody>\n",
       "    <tr>\n",
       "      <td>0</td>\n",
       "      <td>4.779698</td>\n",
       "      <td>4.737345</td>\n",
       "      <td>0.242182</td>\n",
       "      <td>10:14</td>\n",
       "    </tr>\n",
       "    <tr>\n",
       "      <td>1</td>\n",
       "      <td>4.477612</td>\n",
       "      <td>4.467874</td>\n",
       "      <td>0.270867</td>\n",
       "      <td>10:14</td>\n",
       "    </tr>\n",
       "  </tbody>\n",
       "</table>"
      ],
      "text/plain": [
       "<IPython.core.display.HTML object>"
      ]
     },
     "metadata": {
      "tags": []
     },
     "output_type": "display_data"
    }
   ],
   "source": [
    "learn.freeze_to(-3)\n",
    "learn.fit_one_cycle(2, 1e-2)\n",
    "learn.save('10train_subword_lm_body_2');"
   ]
  },
  {
   "cell_type": "code",
   "execution_count": 0,
   "metadata": {
    "colab": {
     "base_uri": "https://localhost:8080/",
     "height": 173
    },
    "colab_type": "code",
    "id": "-0FhlicpKdTt",
    "outputId": "136b2e02-8bfe-4aa3-8ec5-67ce68fdbe23"
   },
   "outputs": [
    {
     "data": {
      "text/html": [
       "<table border=\"1\" class=\"dataframe\">\n",
       "  <thead>\n",
       "    <tr style=\"text-align: left;\">\n",
       "      <th>epoch</th>\n",
       "      <th>train_loss</th>\n",
       "      <th>valid_loss</th>\n",
       "      <th>accuracy</th>\n",
       "      <th>time</th>\n",
       "    </tr>\n",
       "  </thead>\n",
       "  <tbody>\n",
       "    <tr>\n",
       "      <td>0</td>\n",
       "      <td>4.713316</td>\n",
       "      <td>4.692276</td>\n",
       "      <td>0.246457</td>\n",
       "      <td>10:41</td>\n",
       "    </tr>\n",
       "    <tr>\n",
       "      <td>1</td>\n",
       "      <td>4.623757</td>\n",
       "      <td>4.644120</td>\n",
       "      <td>0.251632</td>\n",
       "      <td>10:39</td>\n",
       "    </tr>\n",
       "    <tr>\n",
       "      <td>2</td>\n",
       "      <td>4.431570</td>\n",
       "      <td>4.436760</td>\n",
       "      <td>0.273235</td>\n",
       "      <td>10:39</td>\n",
       "    </tr>\n",
       "    <tr>\n",
       "      <td>3</td>\n",
       "      <td>4.151529</td>\n",
       "      <td>4.367658</td>\n",
       "      <td>0.281893</td>\n",
       "      <td>10:41</td>\n",
       "    </tr>\n",
       "  </tbody>\n",
       "</table>"
      ],
      "text/plain": [
       "<IPython.core.display.HTML object>"
      ]
     },
     "metadata": {
      "tags": []
     },
     "output_type": "display_data"
    }
   ],
   "source": [
    "learn.unfreeze()\n",
    "learn.load('10train_subword_lm_body_2');\n",
    "learn.fit_one_cycle(4, 1e-2)\n",
    "learn.save('10train_subword_lm_body_3');\n",
    "learn.save_encoder('10train_subword_lm_enc')"
   ]
  },
  {
   "cell_type": "code",
   "execution_count": 0,
   "metadata": {
    "colab": {
     "base_uri": "https://localhost:8080/",
     "height": 111
    },
    "colab_type": "code",
    "id": "AyQ_BA2sKdT0",
    "outputId": "11575df2-554e-4b4f-b7ae-f75a1f1bfd3f"
   },
   "outputs": [
    {
     "data": {
      "text/html": [
       "<table border=\"1\" class=\"dataframe\">\n",
       "  <thead>\n",
       "    <tr style=\"text-align: left;\">\n",
       "      <th>epoch</th>\n",
       "      <th>train_loss</th>\n",
       "      <th>valid_loss</th>\n",
       "      <th>accuracy</th>\n",
       "      <th>time</th>\n",
       "    </tr>\n",
       "  </thead>\n",
       "  <tbody>\n",
       "    <tr>\n",
       "      <td>0</td>\n",
       "      <td>4.092285</td>\n",
       "      <td>4.358439</td>\n",
       "      <td>0.282594</td>\n",
       "      <td>10:41</td>\n",
       "    </tr>\n",
       "    <tr>\n",
       "      <td>1</td>\n",
       "      <td>4.042577</td>\n",
       "      <td>4.346851</td>\n",
       "      <td>0.284444</td>\n",
       "      <td>10:42</td>\n",
       "    </tr>\n",
       "  </tbody>\n",
       "</table>"
      ],
      "text/plain": [
       "<IPython.core.display.HTML object>"
      ]
     },
     "metadata": {
      "tags": []
     },
     "output_type": "display_data"
    }
   ],
   "source": [
    "learn.fit_one_cycle(2, 1e-3)\n",
    "learn.save('10train_subword_lm_body_4')"
   ]
  },
  {
   "cell_type": "code",
   "execution_count": 0,
   "metadata": {
    "colab": {
     "base_uri": "https://localhost:8080/",
     "height": 111
    },
    "colab_type": "code",
    "id": "8Uj27oGLKdT4",
    "outputId": "971336fa-cd58-4833-d805-b0b16aa84afc"
   },
   "outputs": [
    {
     "data": {
      "text/html": [
       "<table border=\"1\" class=\"dataframe\">\n",
       "  <thead>\n",
       "    <tr style=\"text-align: left;\">\n",
       "      <th>epoch</th>\n",
       "      <th>train_loss</th>\n",
       "      <th>valid_loss</th>\n",
       "      <th>accuracy</th>\n",
       "      <th>time</th>\n",
       "    </tr>\n",
       "  </thead>\n",
       "  <tbody>\n",
       "    <tr>\n",
       "      <td>0</td>\n",
       "      <td>4.093029</td>\n",
       "      <td>4.345499</td>\n",
       "      <td>0.284234</td>\n",
       "      <td>10:40</td>\n",
       "    </tr>\n",
       "    <tr>\n",
       "      <td>1</td>\n",
       "      <td>4.018605</td>\n",
       "      <td>4.335114</td>\n",
       "      <td>0.285803</td>\n",
       "      <td>10:42</td>\n",
       "    </tr>\n",
       "  </tbody>\n",
       "</table>"
      ],
      "text/plain": [
       "<IPython.core.display.HTML object>"
      ]
     },
     "metadata": {
      "tags": []
     },
     "output_type": "display_data"
    }
   ],
   "source": [
    "learn.fit_one_cycle(2, 1e-3)\n",
    "learn.save('10train_subword_lm_body_5')"
   ]
  },
  {
   "cell_type": "code",
   "execution_count": 0,
   "metadata": {
    "colab": {
     "base_uri": "https://localhost:8080/",
     "height": 111
    },
    "colab_type": "code",
    "id": "ZVL1S7MdKdT8",
    "outputId": "7e5e0575-cc3d-40c2-d960-bf71f3483581"
   },
   "outputs": [
    {
     "data": {
      "text/html": [
       "<table border=\"1\" class=\"dataframe\">\n",
       "  <thead>\n",
       "    <tr style=\"text-align: left;\">\n",
       "      <th>epoch</th>\n",
       "      <th>train_loss</th>\n",
       "      <th>valid_loss</th>\n",
       "      <th>accuracy</th>\n",
       "      <th>time</th>\n",
       "    </tr>\n",
       "  </thead>\n",
       "  <tbody>\n",
       "    <tr>\n",
       "      <td>0</td>\n",
       "      <td>4.014836</td>\n",
       "      <td>4.336262</td>\n",
       "      <td>0.285745</td>\n",
       "      <td>10:41</td>\n",
       "    </tr>\n",
       "    <tr>\n",
       "      <td>1</td>\n",
       "      <td>4.012425</td>\n",
       "      <td>4.327955</td>\n",
       "      <td>0.286807</td>\n",
       "      <td>10:41</td>\n",
       "    </tr>\n",
       "  </tbody>\n",
       "</table>"
      ],
      "text/plain": [
       "<IPython.core.display.HTML object>"
      ]
     },
     "metadata": {
      "tags": []
     },
     "output_type": "display_data"
    }
   ],
   "source": [
    "learn.fit_one_cycle(2, 1e-3)\n",
    "learn.save('10train_subword_lm_body_6')"
   ]
  },
  {
   "cell_type": "code",
   "execution_count": 0,
   "metadata": {
    "colab": {},
    "colab_type": "code",
    "id": "jwfVGMA_KdUB"
   },
   "outputs": [],
   "source": [
    "learn.save_encoder('10train_subword_lm_enc')"
   ]
  },
  {
   "cell_type": "markdown",
   "metadata": {
    "colab_type": "text",
    "id": "kIhhI-OkKdUE"
   },
   "source": [
    "#### 10 Authors Clas"
   ]
  },
  {
   "cell_type": "code",
   "execution_count": 0,
   "metadata": {
    "colab": {},
    "colab_type": "code",
    "id": "0PtTPs3ZKdUF"
   },
   "outputs": [],
   "source": [
    "data_clas = TextClasDataBunch.from_csv(subsets , '10train.csv', tokenizer=mycust_tok, vocab=sp_vocab, bs=bs)\n",
    "data_clas.save('10train_subword_clas.pkl')"
   ]
  },
  {
   "cell_type": "code",
   "execution_count": 0,
   "metadata": {
    "colab": {
     "base_uri": "https://localhost:8080/",
     "height": 300
    },
    "colab_type": "code",
    "id": "4PBpYwDiKdUH",
    "outputId": "bb875e95-6809-4e38-d470-9dcf67f71a9b"
   },
   "outputs": [
    {
     "data": {
      "text/html": [],
      "text/plain": [
       "<IPython.core.display.HTML object>"
      ]
     },
     "metadata": {
      "tags": []
     },
     "output_type": "display_data"
    },
    {
     "name": "stdout",
     "output_type": "stream",
     "text": [
      "LR Finder is complete, type {learner_name}.recorder.plot() to see the graph.\n"
     ]
    },
    {
     "data": {
      "image/png": "[encoded data removed]",
      "text/plain": [
       "<Figure size 432x288 with 1 Axes>"
      ]
     },
     "metadata": {
      "tags": []
     },
     "output_type": "display_data"
    }
   ],
   "source": [
    "data_clas = load_data(subsets, '10train_subword_clas.pkl',bs=bs)\n",
    "learn_cls = text_classifier_learner(data_clas, AWD_LSTM, drop_mult=0.5, pretrained=False)\n",
    "learn_cls.load_encoder('10train_subword_lm_enc')\n",
    "learn_cls.freeze()\n",
    "learn_cls.lr_find()\n",
    "learn_cls.recorder.plot()"
   ]
  },
  {
   "cell_type": "code",
   "execution_count": 0,
   "metadata": {
    "colab": {
     "base_uri": "https://localhost:8080/",
     "height": 455
    },
    "colab_type": "code",
    "id": "tEslSXbYKdUL",
    "outputId": "3b6907f3-df23-4755-e8e2-c8be3544b9e5"
   },
   "outputs": [
    {
     "data": {
      "text/html": [
       "<table border=\"1\" class=\"dataframe\">\n",
       "  <thead>\n",
       "    <tr style=\"text-align: left;\">\n",
       "      <th>epoch</th>\n",
       "      <th>train_loss</th>\n",
       "      <th>valid_loss</th>\n",
       "      <th>accuracy</th>\n",
       "      <th>time</th>\n",
       "    </tr>\n",
       "  </thead>\n",
       "  <tbody>\n",
       "    <tr>\n",
       "      <td>0</td>\n",
       "      <td>0.211635</td>\n",
       "      <td>0.019091</td>\n",
       "      <td>0.996321</td>\n",
       "      <td>03:43</td>\n",
       "    </tr>\n",
       "    <tr>\n",
       "      <td>1</td>\n",
       "      <td>0.110166</td>\n",
       "      <td>0.014108</td>\n",
       "      <td>0.996321</td>\n",
       "      <td>03:38</td>\n",
       "    </tr>\n",
       "  </tbody>\n",
       "</table>"
      ],
      "text/plain": [
       "<IPython.core.display.HTML object>"
      ]
     },
     "metadata": {
      "tags": []
     },
     "output_type": "display_data"
    },
    {
     "data": {
      "text/html": [
       "<table border=\"1\" class=\"dataframe\">\n",
       "  <thead>\n",
       "    <tr style=\"text-align: left;\">\n",
       "      <th>epoch</th>\n",
       "      <th>train_loss</th>\n",
       "      <th>valid_loss</th>\n",
       "      <th>accuracy</th>\n",
       "      <th>time</th>\n",
       "    </tr>\n",
       "  </thead>\n",
       "  <tbody>\n",
       "    <tr>\n",
       "      <td>0</td>\n",
       "      <td>0.105510</td>\n",
       "      <td>0.018480</td>\n",
       "      <td>0.996321</td>\n",
       "      <td>04:03</td>\n",
       "    </tr>\n",
       "    <tr>\n",
       "      <td>1</td>\n",
       "      <td>0.038198</td>\n",
       "      <td>0.013876</td>\n",
       "      <td>0.994113</td>\n",
       "      <td>04:05</td>\n",
       "    </tr>\n",
       "  </tbody>\n",
       "</table>"
      ],
      "text/plain": [
       "<IPython.core.display.HTML object>"
      ]
     },
     "metadata": {
      "tags": []
     },
     "output_type": "display_data"
    },
    {
     "data": {
      "text/html": [
       "<table border=\"1\" class=\"dataframe\">\n",
       "  <thead>\n",
       "    <tr style=\"text-align: left;\">\n",
       "      <th>epoch</th>\n",
       "      <th>train_loss</th>\n",
       "      <th>valid_loss</th>\n",
       "      <th>accuracy</th>\n",
       "      <th>time</th>\n",
       "    </tr>\n",
       "  </thead>\n",
       "  <tbody>\n",
       "    <tr>\n",
       "      <td>0</td>\n",
       "      <td>0.032894</td>\n",
       "      <td>0.018970</td>\n",
       "      <td>0.994849</td>\n",
       "      <td>05:56</td>\n",
       "    </tr>\n",
       "    <tr>\n",
       "      <td>1</td>\n",
       "      <td>0.028797</td>\n",
       "      <td>0.008189</td>\n",
       "      <td>0.997057</td>\n",
       "      <td>05:45</td>\n",
       "    </tr>\n",
       "  </tbody>\n",
       "</table>"
      ],
      "text/plain": [
       "<IPython.core.display.HTML object>"
      ]
     },
     "metadata": {
      "tags": []
     },
     "output_type": "display_data"
    },
    {
     "data": {
      "text/html": [
       "<table border=\"1\" class=\"dataframe\">\n",
       "  <thead>\n",
       "    <tr style=\"text-align: left;\">\n",
       "      <th>epoch</th>\n",
       "      <th>train_loss</th>\n",
       "      <th>valid_loss</th>\n",
       "      <th>accuracy</th>\n",
       "      <th>time</th>\n",
       "    </tr>\n",
       "  </thead>\n",
       "  <tbody>\n",
       "    <tr>\n",
       "      <td>0</td>\n",
       "      <td>0.013769</td>\n",
       "      <td>0.005042</td>\n",
       "      <td>0.998528</td>\n",
       "      <td>07:22</td>\n",
       "    </tr>\n",
       "    <tr>\n",
       "      <td>1</td>\n",
       "      <td>0.016858</td>\n",
       "      <td>0.003186</td>\n",
       "      <td>0.998528</td>\n",
       "      <td>07:20</td>\n",
       "    </tr>\n",
       "    <tr>\n",
       "      <td>2</td>\n",
       "      <td>0.015124</td>\n",
       "      <td>0.003872</td>\n",
       "      <td>0.999264</td>\n",
       "      <td>07:14</td>\n",
       "    </tr>\n",
       "    <tr>\n",
       "      <td>3</td>\n",
       "      <td>0.011513</td>\n",
       "      <td>0.003026</td>\n",
       "      <td>0.999264</td>\n",
       "      <td>07:13</td>\n",
       "    </tr>\n",
       "  </tbody>\n",
       "</table>"
      ],
      "text/plain": [
       "<IPython.core.display.HTML object>"
      ]
     },
     "metadata": {
      "tags": []
     },
     "output_type": "display_data"
    }
   ],
   "source": [
    "learn_cls.fit_one_cycle(2, 1e-2, moms=(0.8,0.7))\n",
    "learn_cls.save('10train_subword_cls_1')\n",
    "# learn_cls.load('10train_subword_cls_1')\n",
    "learn_cls.freeze_to(-2)\n",
    "learn_cls.fit_one_cycle(2 , slice(1e-2/(2.6**4),1e-2), moms=(0.8,0.7))\n",
    "learn_cls.save('10train_subword_cls_2')\n",
    "# learn_cls.load('10train_subword_cls_2')\n",
    "learn_cls.freeze_to(-3)\n",
    "learn_cls.fit_one_cycle(2, slice(5e-3/(2.6**4),5e-3), moms=(0.8,0.7))\n",
    "learn_cls.save('10train_subword_cls_3')\n",
    "# learn_cls.load('10train_subword_cls_3')\n",
    "learn_cls.unfreeze()\n",
    "learn_cls.fit_one_cycle(4, slice(1e-3/(2.6**4),1e-3), moms=(0.8,0.7))\n",
    "learn_cls.save('10train_subword_cls_4')"
   ]
  },
  {
   "cell_type": "markdown",
   "metadata": {
    "colab_type": "text",
    "id": "B8QiWkgMKdUP"
   },
   "source": [
    "------------->  **Testing**  <-----------------"
   ]
  },
  {
   "cell_type": "code",
   "execution_count": 0,
   "metadata": {
    "colab": {
     "base_uri": "https://localhost:8080/",
     "height": 105
    },
    "colab_type": "code",
    "id": "7pdPi2XRKdUU",
    "outputId": "5887b935-4f38-4741-efb4-5d7c16fe51cf"
   },
   "outputs": [
    {
     "name": "stdout",
     "output_type": "stream",
     "text": [
      "1700\n",
      "Accuracy: \n",
      "0.9870588235294118\n",
      "[('shordindu', 'shunil_gongopaddhay'), ('shordindu', 'shunil_gongopaddhay'), ('shordindu', 'shorotchandra'), ('shordindu', 'robindronath'), ('shottojit_roy', 'humayun_ahmed'), ('shottojit_roy', 'shordindu'), ('shirshendu', 'robindronath'), ('shirshendu', 'shorotchandra'), ('shirshendu', 'robindronath'), ('shirshendu', 'robindronath'), ('MZI', 'humayun_ahmed'), ('MZI', 'humayun_ahmed'), ('robindronath', 'shunil_gongopaddhay'), ('robindronath', 'shorotchandra'), ('robindronath', 'shorotchandra'), ('robindronath', 'shordindu'), ('robindronath', 'shorotchandra'), ('humayun_ahmed', 'MZI'), ('humayun_ahmed', 'toslima_nasrin'), ('humayun_ahmed', 'shomresh'), ('shomresh', 'shunil_gongopaddhay'), ('shunil_gongopaddhay', 'shordindu')]\n"
     ]
    }
   ],
   "source": [
    "pred,targ = testing(subsets/'10test.csv')"
   ]
  },
  {
   "cell_type": "code",
   "execution_count": 0,
   "metadata": {
    "colab": {
     "base_uri": "https://localhost:8080/",
     "height": 34
    },
    "colab_type": "code",
    "id": "AStXZ7VXKdUa",
    "outputId": "5cb6191c-d546-46fb-db4f-a59449c646a8"
   },
   "outputs": [
    {
     "data": {
      "text/plain": [
       "array([0.99115 , 0.982353, 0.973451, 0.988095, 0.994118, 0.979351, 0.985507, 0.994083, 0.985423, 0.997067])"
      ]
     },
     "execution_count": 51,
     "metadata": {
      "tags": []
     },
     "output_type": "execute_result"
    }
   ],
   "source": [
    "from sklearn.metrics import f1_score\n",
    "out  = f1_score(targ, pred, average=None) #'macro' , also == weighted cuz dataset is balanced\n",
    "out"
   ]
  },
  {
   "cell_type": "code",
   "execution_count": 0,
   "metadata": {
    "colab": {
     "base_uri": "https://localhost:8080/",
     "height": 34
    },
    "colab_type": "code",
    "id": "GWAShLk_KdUl",
    "outputId": "58af1298-1a65-41b0-e540-a462f34444cb"
   },
   "outputs": [
    {
     "data": {
      "text/plain": [
       "0.9870598904509045"
      ]
     },
     "execution_count": 52,
     "metadata": {
      "tags": []
     },
     "output_type": "execute_result"
    }
   ],
   "source": [
    "out.mean()"
   ]
  },
  {
   "cell_type": "code",
   "execution_count": 0,
   "metadata": {
    "colab": {},
    "colab_type": "code",
    "id": "KuI2TxNIKdUt"
   },
   "outputs": [],
   "source": []
  },
  {
   "cell_type": "markdown",
   "metadata": {
    "colab_type": "text",
    "id": "HzkRsAW8EO3q"
   },
   "source": [
    "## 12 Authors"
   ]
  },
  {
   "cell_type": "markdown",
   "metadata": {
    "colab_type": "text",
    "id": "XFbz1aDhEO3x"
   },
   "source": [
    "#### 12 authors LM"
   ]
  },
  {
   "cell_type": "code",
   "execution_count": 0,
   "metadata": {
    "colab": {},
    "colab_type": "code",
    "id": "5tYdC6mmEO3y"
   },
   "outputs": [],
   "source": [
    "bs=32"
   ]
  },
  {
   "cell_type": "code",
   "execution_count": 0,
   "metadata": {
    "colab": {},
    "colab_type": "code",
    "id": "7pBQ9kOHEO34"
   },
   "outputs": [],
   "source": [
    "data_lm_AA = TextLMDataBunch.from_csv(subsets , '12train.csv', bs=bs,tokenizer=mycust_tok, vocab=sp_vocab)\n",
    "data_lm_AA.save('12train_AA_subword_lm.pkl')"
   ]
  },
  {
   "cell_type": "code",
   "execution_count": 0,
   "metadata": {
    "colab": {},
    "colab_type": "code",
    "id": "uA-cIFiuEO38"
   },
   "outputs": [],
   "source": [
    "data_lm_AA = load_data(subsets, '12train_AA_subword_lm.pkl',bs=bs)"
   ]
  },
  {
   "cell_type": "code",
   "execution_count": 0,
   "metadata": {
    "colab": {
     "base_uri": "https://localhost:8080/",
     "height": 340
    },
    "colab_type": "code",
    "id": "LH36_SWFEO3-",
    "outputId": "6b48df2c-b56c-4270-c6e1-03ce0d027c98"
   },
   "outputs": [
    {
     "data": {
      "text/html": [
       "<table border=\"1\" class=\"dataframe\">\n",
       "  <thead>\n",
       "    <tr style=\"text-align: right;\">\n",
       "      <th>idx</th>\n",
       "      <th>text</th>\n",
       "    </tr>\n",
       "  </thead>\n",
       "  <tbody>\n",
       "    <tr>\n",
       "      <td>0</td>\n",
       "      <td>▁চোখ ▁নামিয়ে ▁ফেলি , ▁যেন ▁পড়ি নি ▁কোনও ▁প্রশ্ন । ▁চোখের ▁তীক্ষ ্ম তা ▁দেখিনি । ▁মেডিকেল ের ▁ছাত্রছাত্রীরা ▁চেনা ▁রোগ ি ▁নিয়ে ▁এমন ▁কি ▁রাস্তায় ▁পড়ে ▁থেকে ▁কাত রাতে ▁থাকা ▁রোগীদের ▁দয়া ▁করে ▁তো ▁চিকিৎসার ▁ব্যবস্থা ▁করে । ▁এরকম ই ▁হয়ত ▁কিছু । ▁হাসপাতালের ▁করিডোর ে ▁এক ▁লোক ▁হাঁটছি ল , ▁আমার ▁সাহায্য ▁চাই ল ▁তার ▁রোগের ▁চিকিৎসার ▁জন্য । ▁আমার ▁অবসর ▁ছিল ▁বলে , ▁ঠিক ▁এ ক্ষ ু</td>\n",
       "    </tr>\n",
       "    <tr>\n",
       "      <td>1</td>\n",
       "      <td>▁পাবেন ▁না । ▁আপনি ▁কি ▁বলছেন ? ▁দীপ াবলী র ▁গলা ▁চড়া য় ▁উঠল । ▁সেটা ▁কানে ▁যাওয়া ▁মাত্র ▁ নে তিয়ে ▁পড়ল ▁প বন । ▁তার ▁মুখ ▁দেখে ▁বোঝার ▁উপায় ▁নেই ▁সে ▁একটু ▁আগে ▁কথাগুলো ▁বলেছে । ▁সুপারভাইজার ▁হেসে ▁ফেললেন , ▁কিছু ▁মনে ▁করবেন ▁না ▁ম্যাডাম ▁ও ▁ইচ্ছে ▁করে ▁বলছে ▁না । ▁এতদিন ▁যা ▁শুনেছে ▁তাই ▁উ গর ে ▁দিল । ▁শুনেছে ▁মানে ? ▁ও ▁আমার ▁কাছে ▁টাকা ▁চাইছে</td>\n",
       "    </tr>\n",
       "    <tr>\n",
       "      <td>2</td>\n",
       "      <td>▁না । ▁তাহলে ▁ভালো ▁একটা ▁জিনিস ▁মিস ▁করল ি । ▁আমার ▁কাছে ▁পাঁচটা ▁ছবি ▁আছে । ▁একেকটা ▁ছবি ▁দেখতে ▁দশ ▁টাকা ▁করে ▁লাগবে । ▁কী ▁ছবি ? ▁কী ▁ছবি ▁বুঝতে ▁পারছি স ▁না ? ▁ওই সব ▁ছবি — হু ঁ ▁হু ঁ । ▁ওই সব ▁ছবি ▁দেখার ▁আমার ▁কোনো ▁শখ ▁নেই । ▁না ▁দেখেই ▁বলে ▁ফেলল ি ? ▁ছবিগুলো ▁সব ▁টিভি ▁স্টার দের । ▁এদের ▁কাণ্ড কারখানা ▁দেখলে ▁মাথায় ▁হাত</td>\n",
       "    </tr>\n",
       "    <tr>\n",
       "      <td>3</td>\n",
       "      <td>নম ্র ▁হইয়া ▁নিজেকে ▁যত ই ▁আড়ালে ▁রাখি বার ▁চেষ্টা ▁করি তে ছেন ▁ততই ▁এই ▁পরিবারের ▁পক্ষে ▁উপদ্রব স্বরূপ ▁হইয়া ▁উঠি তে ছেন । ▁এজন্য ▁তাহার ▁মাস ির ▁অত্যন্ত ▁লজ্জা ▁xx b os ▁পেরেছে ? ▁অন ঙ্গ ▁বলি ল — সম্ভব ▁নয় । ▁নূতন ▁লোক ▁দেখলেই ▁বোধহয় ▁পিছনে ▁গুপ্তচর ▁লাগে । ▁কিছুক্ষণ ▁চিন্তা ▁করিয়া ▁বলি ল — গুপ্ত চর টা ▁আমার ▁পিছু ▁নিয়েছে , ▁তোর ▁নয় । ▁কারণ ▁লক্ষ্মী কর্ণ</td>\n",
       "    </tr>\n",
       "    <tr>\n",
       "      <td>4</td>\n",
       "      <td>▁না ▁পেরে ▁একটু ▁পরে ▁পরে ▁লম্বা ▁দীর্ঘশ্বাস ▁ফেলতে ▁ফেলতে ▁কাজ ▁করে ▁যেতে ▁লাগল াম । ▁ রেজ িষ্ট ্র েশন ▁কাজ ▁শেষ ▁হবার ▁পর ▁আমি ▁বিজ্ঞানী ▁অনিক ▁লু ম্বা কে ▁খুঁজে ▁বের ▁করার ▁চেষ্টা ▁করলাম । ▁হল ঘরে ▁ছোট ▁ছোট ▁অনেক ▁টেবিল ▁বসানো ▁হয়েছে , ▁সেই ▁টেবিল গুলোর ▁ওপর ▁পদ চারী ▁বিজ্ঞানীদের ▁নানারকম ▁গবেষণা ▁সাজানো । ▁গোবর ▁নিয়ে ▁নিশ্চয়ই ▁অনেকগুলো ▁আবিষ্কার ▁রয়েছে ▁কারণ ▁হল ঘরের ▁ভেতরে ▁কেমন ▁জানি ▁গোবর ▁গোবর</td>\n",
       "    </tr>\n",
       "  </tbody>\n",
       "</table>"
      ],
      "text/plain": [
       "<IPython.core.display.HTML object>"
      ]
     },
     "metadata": {
      "tags": []
     },
     "output_type": "display_data"
    }
   ],
   "source": [
    "data_lm_AA.show_batch()"
   ]
  },
  {
   "cell_type": "code",
   "execution_count": 0,
   "metadata": {
    "colab": {},
    "colab_type": "code",
    "id": "ARsYVY1lEO4D"
   },
   "outputs": [],
   "source": [
    "learn = language_model_learner(data_lm_AA, AWD_LSTM, pretrained=False, drop_mult=0.5)"
   ]
  },
  {
   "cell_type": "code",
   "execution_count": 0,
   "metadata": {
    "colab": {},
    "colab_type": "code",
    "id": "gffNZvXGEO4H"
   },
   "outputs": [],
   "source": [
    "learn.load(news/'models'/'news_subword_lm_31');"
   ]
  },
  {
   "cell_type": "code",
   "execution_count": 0,
   "metadata": {
    "colab": {
     "base_uri": "https://localhost:8080/",
     "height": 300
    },
    "colab_type": "code",
    "id": "2y1BYHV8EO4K",
    "outputId": "0b34901d-bfce-46aa-cbc4-46c3c44c4004"
   },
   "outputs": [
    {
     "data": {
      "text/html": [],
      "text/plain": [
       "<IPython.core.display.HTML object>"
      ]
     },
     "metadata": {
      "tags": []
     },
     "output_type": "display_data"
    },
    {
     "name": "stdout",
     "output_type": "stream",
     "text": [
      "LR Finder is complete, type {learner_name}.recorder.plot() to see the graph.\n"
     ]
    },
    {
     "data": {
      "image/png": "[encoded data removed]",
      "text/plain": [
       "<Figure size 432x288 with 1 Axes>"
      ]
     },
     "metadata": {
      "tags": []
     },
     "output_type": "display_data"
    }
   ],
   "source": [
    "learn.lr_find();\n",
    "learn.recorder.plot();"
   ]
  },
  {
   "cell_type": "code",
   "execution_count": 0,
   "metadata": {
    "colab": {
     "base_uri": "https://localhost:8080/",
     "height": 283
    },
    "colab_type": "code",
    "id": "nB_mU4AMEO4O",
    "outputId": "acafe1fd-fcbd-49a4-8060-90b4a392d314"
   },
   "outputs": [
    {
     "data": {
      "image/png": "[encoded data removed]",
      "text/plain": [
       "<Figure size 432x288 with 1 Axes>"
      ]
     },
     "metadata": {
      "tags": []
     },
     "output_type": "display_data"
    }
   ],
   "source": [
    "learn.recorder.plot(skip_end=20);"
   ]
  },
  {
   "cell_type": "code",
   "execution_count": 0,
   "metadata": {
    "colab": {
     "base_uri": "https://localhost:8080/",
     "height": 111
    },
    "colab_type": "code",
    "id": "Zm3uhT-PEO4T",
    "outputId": "8ff9686d-4e66-4cc1-a8d6-95610bcbd46d"
   },
   "outputs": [
    {
     "data": {
      "text/html": [
       "<table border=\"1\" class=\"dataframe\">\n",
       "  <thead>\n",
       "    <tr style=\"text-align: left;\">\n",
       "      <th>epoch</th>\n",
       "      <th>train_loss</th>\n",
       "      <th>valid_loss</th>\n",
       "      <th>accuracy</th>\n",
       "      <th>time</th>\n",
       "    </tr>\n",
       "  </thead>\n",
       "  <tbody>\n",
       "    <tr>\n",
       "      <td>0</td>\n",
       "      <td>5.138184</td>\n",
       "      <td>5.035399</td>\n",
       "      <td>0.209476</td>\n",
       "      <td>07:41</td>\n",
       "    </tr>\n",
       "    <tr>\n",
       "      <td>1</td>\n",
       "      <td>4.869359</td>\n",
       "      <td>4.840404</td>\n",
       "      <td>0.226911</td>\n",
       "      <td>07:40</td>\n",
       "    </tr>\n",
       "  </tbody>\n",
       "</table>"
      ],
      "text/plain": [
       "<IPython.core.display.HTML object>"
      ]
     },
     "metadata": {
      "tags": []
     },
     "output_type": "display_data"
    }
   ],
   "source": [
    "learn.freeze()\n",
    "learn.fit_one_cycle(2, 1e-2)\n",
    "learn.save('12train_subword_lm_head');"
   ]
  },
  {
   "cell_type": "code",
   "execution_count": 0,
   "metadata": {
    "colab": {
     "base_uri": "https://localhost:8080/",
     "height": 111
    },
    "colab_type": "code",
    "id": "n61tznFxEO4Z",
    "outputId": "b2ea757a-00db-4763-edee-1e75772cebcd"
   },
   "outputs": [
    {
     "data": {
      "text/html": [
       "<table border=\"1\" class=\"dataframe\">\n",
       "  <thead>\n",
       "    <tr style=\"text-align: left;\">\n",
       "      <th>epoch</th>\n",
       "      <th>train_loss</th>\n",
       "      <th>valid_loss</th>\n",
       "      <th>accuracy</th>\n",
       "      <th>time</th>\n",
       "    </tr>\n",
       "  </thead>\n",
       "  <tbody>\n",
       "    <tr>\n",
       "      <td>0</td>\n",
       "      <td>4.873079</td>\n",
       "      <td>4.856602</td>\n",
       "      <td>0.228935</td>\n",
       "      <td>07:54</td>\n",
       "    </tr>\n",
       "    <tr>\n",
       "      <td>1</td>\n",
       "      <td>4.681571</td>\n",
       "      <td>4.624383</td>\n",
       "      <td>0.253004</td>\n",
       "      <td>07:54</td>\n",
       "    </tr>\n",
       "  </tbody>\n",
       "</table>"
      ],
      "text/plain": [
       "<IPython.core.display.HTML object>"
      ]
     },
     "metadata": {
      "tags": []
     },
     "output_type": "display_data"
    }
   ],
   "source": [
    "learn.freeze_to(-2)\n",
    "learn.fit_one_cycle(2, 1e-2)\n",
    "learn.save('12train_subword_lm_body_1');"
   ]
  },
  {
   "cell_type": "code",
   "execution_count": 0,
   "metadata": {
    "colab": {
     "base_uri": "https://localhost:8080/",
     "height": 111
    },
    "colab_type": "code",
    "id": "Qm1wTb9IEO4d",
    "outputId": "74389a8d-e0d5-4ac5-f971-9e10b158666e"
   },
   "outputs": [
    {
     "data": {
      "text/html": [
       "<table border=\"1\" class=\"dataframe\">\n",
       "  <thead>\n",
       "    <tr style=\"text-align: left;\">\n",
       "      <th>epoch</th>\n",
       "      <th>train_loss</th>\n",
       "      <th>valid_loss</th>\n",
       "      <th>accuracy</th>\n",
       "      <th>time</th>\n",
       "    </tr>\n",
       "  </thead>\n",
       "  <tbody>\n",
       "    <tr>\n",
       "      <td>0</td>\n",
       "      <td>4.750702</td>\n",
       "      <td>4.777611</td>\n",
       "      <td>0.239023</td>\n",
       "      <td>08:25</td>\n",
       "    </tr>\n",
       "    <tr>\n",
       "      <td>1</td>\n",
       "      <td>4.423241</td>\n",
       "      <td>4.515964</td>\n",
       "      <td>0.265806</td>\n",
       "      <td>08:25</td>\n",
       "    </tr>\n",
       "  </tbody>\n",
       "</table>"
      ],
      "text/plain": [
       "<IPython.core.display.HTML object>"
      ]
     },
     "metadata": {
      "tags": []
     },
     "output_type": "display_data"
    }
   ],
   "source": [
    "learn.freeze_to(-3)\n",
    "learn.fit_one_cycle(2, 1e-2)\n",
    "learn.save('12train_subword_lm_body_2');"
   ]
  },
  {
   "cell_type": "code",
   "execution_count": 0,
   "metadata": {
    "colab": {
     "base_uri": "https://localhost:8080/",
     "height": 173
    },
    "colab_type": "code",
    "id": "_b_Ln-K_EO4n",
    "outputId": "8518f797-29c2-4afc-cad3-4e0883437f46"
   },
   "outputs": [
    {
     "data": {
      "text/html": [
       "<table border=\"1\" class=\"dataframe\">\n",
       "  <thead>\n",
       "    <tr style=\"text-align: left;\">\n",
       "      <th>epoch</th>\n",
       "      <th>train_loss</th>\n",
       "      <th>valid_loss</th>\n",
       "      <th>accuracy</th>\n",
       "      <th>time</th>\n",
       "    </tr>\n",
       "  </thead>\n",
       "  <tbody>\n",
       "    <tr>\n",
       "      <td>0</td>\n",
       "      <td>4.600021</td>\n",
       "      <td>4.735528</td>\n",
       "      <td>0.242530</td>\n",
       "      <td>08:48</td>\n",
       "    </tr>\n",
       "    <tr>\n",
       "      <td>1</td>\n",
       "      <td>4.683197</td>\n",
       "      <td>4.677899</td>\n",
       "      <td>0.248369</td>\n",
       "      <td>08:47</td>\n",
       "    </tr>\n",
       "    <tr>\n",
       "      <td>2</td>\n",
       "      <td>4.397318</td>\n",
       "      <td>4.482227</td>\n",
       "      <td>0.269210</td>\n",
       "      <td>08:45</td>\n",
       "    </tr>\n",
       "    <tr>\n",
       "      <td>3</td>\n",
       "      <td>4.115621</td>\n",
       "      <td>4.420777</td>\n",
       "      <td>0.276749</td>\n",
       "      <td>08:46</td>\n",
       "    </tr>\n",
       "  </tbody>\n",
       "</table>"
      ],
      "text/plain": [
       "<IPython.core.display.HTML object>"
      ]
     },
     "metadata": {
      "tags": []
     },
     "output_type": "display_data"
    }
   ],
   "source": [
    "learn.unfreeze()\n",
    "learn.load('12train_subword_lm_body_2');\n",
    "learn.fit_one_cycle(4, 1e-2)\n",
    "learn.save('12train_subword_lm_body_3');\n",
    "learn.save_encoder('12train_subword_lm_enc')"
   ]
  },
  {
   "cell_type": "code",
   "execution_count": 0,
   "metadata": {
    "colab": {
     "base_uri": "https://localhost:8080/",
     "height": 111
    },
    "colab_type": "code",
    "id": "K1jLQvcxEO40",
    "outputId": "10773401-24d1-4eb9-937b-3b0218c521d9"
   },
   "outputs": [
    {
     "data": {
      "text/html": [
       "<table border=\"1\" class=\"dataframe\">\n",
       "  <thead>\n",
       "    <tr style=\"text-align: left;\">\n",
       "      <th>epoch</th>\n",
       "      <th>train_loss</th>\n",
       "      <th>valid_loss</th>\n",
       "      <th>accuracy</th>\n",
       "      <th>time</th>\n",
       "    </tr>\n",
       "  </thead>\n",
       "  <tbody>\n",
       "    <tr>\n",
       "      <td>0</td>\n",
       "      <td>4.091744</td>\n",
       "      <td>4.411273</td>\n",
       "      <td>0.277801</td>\n",
       "      <td>08:46</td>\n",
       "    </tr>\n",
       "    <tr>\n",
       "      <td>1</td>\n",
       "      <td>4.018851</td>\n",
       "      <td>4.402796</td>\n",
       "      <td>0.279101</td>\n",
       "      <td>08:48</td>\n",
       "    </tr>\n",
       "  </tbody>\n",
       "</table>"
      ],
      "text/plain": [
       "<IPython.core.display.HTML object>"
      ]
     },
     "metadata": {
      "tags": []
     },
     "output_type": "display_data"
    }
   ],
   "source": [
    "learn.fit_one_cycle(2, 1e-3)\n",
    "learn.save('12train_subword_lm_body_4')"
   ]
  },
  {
   "cell_type": "code",
   "execution_count": 0,
   "metadata": {
    "colab": {
     "base_uri": "https://localhost:8080/",
     "height": 111
    },
    "colab_type": "code",
    "id": "U0EjvJmJEO45",
    "outputId": "4424264f-0812-4244-c244-334c41fc341f"
   },
   "outputs": [
    {
     "data": {
      "text/html": [
       "<table border=\"1\" class=\"dataframe\">\n",
       "  <thead>\n",
       "    <tr style=\"text-align: left;\">\n",
       "      <th>epoch</th>\n",
       "      <th>train_loss</th>\n",
       "      <th>valid_loss</th>\n",
       "      <th>accuracy</th>\n",
       "      <th>time</th>\n",
       "    </tr>\n",
       "  </thead>\n",
       "  <tbody>\n",
       "    <tr>\n",
       "      <td>0</td>\n",
       "      <td>4.053686</td>\n",
       "      <td>4.398780</td>\n",
       "      <td>0.279440</td>\n",
       "      <td>08:48</td>\n",
       "    </tr>\n",
       "    <tr>\n",
       "      <td>1</td>\n",
       "      <td>3.960006</td>\n",
       "      <td>4.392306</td>\n",
       "      <td>0.280355</td>\n",
       "      <td>08:51</td>\n",
       "    </tr>\n",
       "  </tbody>\n",
       "</table>"
      ],
      "text/plain": [
       "<IPython.core.display.HTML object>"
      ]
     },
     "metadata": {
      "tags": []
     },
     "output_type": "display_data"
    }
   ],
   "source": [
    "learn.fit_one_cycle(2, 1e-3)\n",
    "learn.save('12train_subword_lm_body_5')"
   ]
  },
  {
   "cell_type": "code",
   "execution_count": 0,
   "metadata": {
    "colab": {
     "base_uri": "https://localhost:8080/",
     "height": 111
    },
    "colab_type": "code",
    "id": "mVJCnqc9EO5A",
    "outputId": "2ce8b1e9-cc8a-4b98-db17-a8960774390c"
   },
   "outputs": [
    {
     "data": {
      "text/html": [
       "<table border=\"1\" class=\"dataframe\">\n",
       "  <thead>\n",
       "    <tr style=\"text-align: left;\">\n",
       "      <th>epoch</th>\n",
       "      <th>train_loss</th>\n",
       "      <th>valid_loss</th>\n",
       "      <th>accuracy</th>\n",
       "      <th>time</th>\n",
       "    </tr>\n",
       "  </thead>\n",
       "  <tbody>\n",
       "    <tr>\n",
       "      <td>0</td>\n",
       "      <td>3.982544</td>\n",
       "      <td>4.391653</td>\n",
       "      <td>0.280154</td>\n",
       "      <td>08:50</td>\n",
       "    </tr>\n",
       "    <tr>\n",
       "      <td>1</td>\n",
       "      <td>3.935635</td>\n",
       "      <td>4.386615</td>\n",
       "      <td>0.281373</td>\n",
       "      <td>08:49</td>\n",
       "    </tr>\n",
       "  </tbody>\n",
       "</table>"
      ],
      "text/plain": [
       "<IPython.core.display.HTML object>"
      ]
     },
     "metadata": {
      "tags": []
     },
     "output_type": "display_data"
    }
   ],
   "source": [
    "learn.fit_one_cycle(2, 1e-3)\n",
    "learn.save('12train_subword_lm_body_6')"
   ]
  },
  {
   "cell_type": "code",
   "execution_count": 0,
   "metadata": {
    "colab": {},
    "colab_type": "code",
    "id": "2p7GCBmsEO5F"
   },
   "outputs": [],
   "source": [
    "learn.save_encoder('12train_subword_lm_enc')"
   ]
  },
  {
   "cell_type": "markdown",
   "metadata": {
    "colab_type": "text",
    "id": "pS63g4GLEO5H"
   },
   "source": [
    "#### 12 Authors Clas"
   ]
  },
  {
   "cell_type": "code",
   "execution_count": 0,
   "metadata": {
    "colab": {},
    "colab_type": "code",
    "id": "3-XLUkIREO5I"
   },
   "outputs": [],
   "source": [
    "data_clas = TextClasDataBunch.from_csv(subsets , '12train.csv', tokenizer=mycust_tok, vocab=sp_vocab, bs=bs)\n",
    "data_clas.save('12train_subword_clas.pkl')"
   ]
  },
  {
   "cell_type": "code",
   "execution_count": 0,
   "metadata": {
    "colab": {
     "base_uri": "https://localhost:8080/",
     "height": 300
    },
    "colab_type": "code",
    "id": "fhh2zRcjEO5K",
    "outputId": "d88bf0d3-0dba-4125-96f5-2dfe8efc8b67"
   },
   "outputs": [
    {
     "data": {
      "text/html": [],
      "text/plain": [
       "<IPython.core.display.HTML object>"
      ]
     },
     "metadata": {
      "tags": []
     },
     "output_type": "display_data"
    },
    {
     "name": "stdout",
     "output_type": "stream",
     "text": [
      "LR Finder is complete, type {learner_name}.recorder.plot() to see the graph.\n"
     ]
    },
    {
     "data": {
      "image/png": "[encoded data removed]",
      "text/plain": [
       "<Figure size 432x288 with 1 Axes>"
      ]
     },
     "metadata": {
      "tags": []
     },
     "output_type": "display_data"
    }
   ],
   "source": [
    "data_clas = load_data(subsets, '12train_subword_clas.pkl',bs=bs)\n",
    "learn_cls = text_classifier_learner(data_clas, AWD_LSTM, drop_mult=0.5, pretrained=False)\n",
    "learn_cls.load_encoder('12train_subword_lm_enc')\n",
    "learn_cls.freeze()\n",
    "learn_cls.lr_find()\n",
    "learn_cls.recorder.plot()"
   ]
  },
  {
   "cell_type": "code",
   "execution_count": 0,
   "metadata": {
    "colab": {
     "base_uri": "https://localhost:8080/",
     "height": 455
    },
    "colab_type": "code",
    "id": "9PoU7GJiEO5O",
    "outputId": "5789ee5f-3d76-4296-b744-2655030a1aaf"
   },
   "outputs": [
    {
     "data": {
      "text/html": [
       "<table border=\"1\" class=\"dataframe\">\n",
       "  <thead>\n",
       "    <tr style=\"text-align: left;\">\n",
       "      <th>epoch</th>\n",
       "      <th>train_loss</th>\n",
       "      <th>valid_loss</th>\n",
       "      <th>accuracy</th>\n",
       "      <th>time</th>\n",
       "    </tr>\n",
       "  </thead>\n",
       "  <tbody>\n",
       "    <tr>\n",
       "      <td>0</td>\n",
       "      <td>0.333907</td>\n",
       "      <td>0.037936</td>\n",
       "      <td>0.987941</td>\n",
       "      <td>03:03</td>\n",
       "    </tr>\n",
       "    <tr>\n",
       "      <td>1</td>\n",
       "      <td>0.106213</td>\n",
       "      <td>0.020397</td>\n",
       "      <td>0.995362</td>\n",
       "      <td>03:00</td>\n",
       "    </tr>\n",
       "  </tbody>\n",
       "</table>"
      ],
      "text/plain": [
       "<IPython.core.display.HTML object>"
      ]
     },
     "metadata": {
      "tags": []
     },
     "output_type": "display_data"
    },
    {
     "data": {
      "text/html": [
       "<table border=\"1\" class=\"dataframe\">\n",
       "  <thead>\n",
       "    <tr style=\"text-align: left;\">\n",
       "      <th>epoch</th>\n",
       "      <th>train_loss</th>\n",
       "      <th>valid_loss</th>\n",
       "      <th>accuracy</th>\n",
       "      <th>time</th>\n",
       "    </tr>\n",
       "  </thead>\n",
       "  <tbody>\n",
       "    <tr>\n",
       "      <td>0</td>\n",
       "      <td>0.108847</td>\n",
       "      <td>0.028935</td>\n",
       "      <td>0.990724</td>\n",
       "      <td>03:25</td>\n",
       "    </tr>\n",
       "    <tr>\n",
       "      <td>1</td>\n",
       "      <td>0.062164</td>\n",
       "      <td>0.022104</td>\n",
       "      <td>0.994434</td>\n",
       "      <td>03:21</td>\n",
       "    </tr>\n",
       "  </tbody>\n",
       "</table>"
      ],
      "text/plain": [
       "<IPython.core.display.HTML object>"
      ]
     },
     "metadata": {
      "tags": []
     },
     "output_type": "display_data"
    },
    {
     "data": {
      "text/html": [
       "<table border=\"1\" class=\"dataframe\">\n",
       "  <thead>\n",
       "    <tr style=\"text-align: left;\">\n",
       "      <th>epoch</th>\n",
       "      <th>train_loss</th>\n",
       "      <th>valid_loss</th>\n",
       "      <th>accuracy</th>\n",
       "      <th>time</th>\n",
       "    </tr>\n",
       "  </thead>\n",
       "  <tbody>\n",
       "    <tr>\n",
       "      <td>0</td>\n",
       "      <td>0.067252</td>\n",
       "      <td>0.023621</td>\n",
       "      <td>0.992579</td>\n",
       "      <td>04:43</td>\n",
       "    </tr>\n",
       "    <tr>\n",
       "      <td>1</td>\n",
       "      <td>0.032698</td>\n",
       "      <td>0.016062</td>\n",
       "      <td>0.992579</td>\n",
       "      <td>04:44</td>\n",
       "    </tr>\n",
       "  </tbody>\n",
       "</table>"
      ],
      "text/plain": [
       "<IPython.core.display.HTML object>"
      ]
     },
     "metadata": {
      "tags": []
     },
     "output_type": "display_data"
    },
    {
     "data": {
      "text/html": [
       "<table border=\"1\" class=\"dataframe\">\n",
       "  <thead>\n",
       "    <tr style=\"text-align: left;\">\n",
       "      <th>epoch</th>\n",
       "      <th>train_loss</th>\n",
       "      <th>valid_loss</th>\n",
       "      <th>accuracy</th>\n",
       "      <th>time</th>\n",
       "    </tr>\n",
       "  </thead>\n",
       "  <tbody>\n",
       "    <tr>\n",
       "      <td>0</td>\n",
       "      <td>0.016443</td>\n",
       "      <td>0.018635</td>\n",
       "      <td>0.991651</td>\n",
       "      <td>06:00</td>\n",
       "    </tr>\n",
       "    <tr>\n",
       "      <td>1</td>\n",
       "      <td>0.017689</td>\n",
       "      <td>0.021239</td>\n",
       "      <td>0.992579</td>\n",
       "      <td>06:02</td>\n",
       "    </tr>\n",
       "    <tr>\n",
       "      <td>2</td>\n",
       "      <td>0.013530</td>\n",
       "      <td>0.024645</td>\n",
       "      <td>0.991651</td>\n",
       "      <td>05:52</td>\n",
       "    </tr>\n",
       "    <tr>\n",
       "      <td>3</td>\n",
       "      <td>0.008614</td>\n",
       "      <td>0.019893</td>\n",
       "      <td>0.992579</td>\n",
       "      <td>06:02</td>\n",
       "    </tr>\n",
       "  </tbody>\n",
       "</table>"
      ],
      "text/plain": [
       "<IPython.core.display.HTML object>"
      ]
     },
     "metadata": {
      "tags": []
     },
     "output_type": "display_data"
    }
   ],
   "source": [
    "learn_cls.fit_one_cycle(2, 1e-2, moms=(0.8,0.7))\n",
    "learn_cls.save('12train_subword_cls_1')\n",
    "# learn_cls.load('12train_subword_cls_1')\n",
    "learn_cls.freeze_to(-2)\n",
    "learn_cls.fit_one_cycle(2 , slice(1e-2/(2.6**4),1e-2), moms=(0.8,0.7))\n",
    "learn_cls.save('12train_subword_cls_2')\n",
    "# learn_cls.load('12train_subword_cls_2')\n",
    "learn_cls.freeze_to(-3)\n",
    "learn_cls.fit_one_cycle(2, slice(5e-3/(2.6**4),5e-3), moms=(0.8,0.7))\n",
    "learn_cls.save('12train_subword_cls_3')\n",
    "# learn_cls.load('12train_subword_cls_3')\n",
    "learn_cls.unfreeze()\n",
    "learn_cls.fit_one_cycle(4, slice(1e-3/(2.6**4),1e-3), moms=(0.8,0.7))\n",
    "learn_cls.save('12train_subword_cls_4')"
   ]
  },
  {
   "cell_type": "markdown",
   "metadata": {
    "colab_type": "text",
    "id": "SzTiDRkzEO5S"
   },
   "source": [
    "------------->  **Testing**  <-----------------"
   ]
  },
  {
   "cell_type": "code",
   "execution_count": 0,
   "metadata": {
    "colab": {
     "base_uri": "https://localhost:8080/",
     "height": 105
    },
    "colab_type": "code",
    "id": "qCUr4cgSEO5T",
    "outputId": "1021bb58-12bd-4275-de24-5e9d70da7a4c"
   },
   "outputs": [
    {
     "name": "stdout",
     "output_type": "stream",
     "text": [
      "1356\n",
      "Accuracy: \n",
      "0.995575221238938\n",
      "[('shordindu', 'robindronath'), ('shirshendu', 'shomresh'), ('robindronath', 'tarashonkor'), ('robindronath', 'shottojit_roy'), ('humayun_ahmed', 'MZI'), ('shomresh', 'robindronath')]\n"
     ]
    }
   ],
   "source": [
    "pred,targ = testing(subsets/'12test.csv')"
   ]
  },
  {
   "cell_type": "code",
   "execution_count": 0,
   "metadata": {
    "colab": {
     "base_uri": "https://localhost:8080/",
     "height": 51
    },
    "colab_type": "code",
    "id": "LiNUACpdEO5Y",
    "outputId": "0d4bb734-3cf7-4489-8574-337b2a027207"
   },
   "outputs": [
    {
     "data": {
      "text/plain": [
       "array([0.995595, 1.      , 0.995556, 0.982301, 0.995556, 0.99115 , 0.995556, 1.      , 0.995595, 1.      , 0.995595,\n",
       "       1.      ])"
      ]
     },
     "execution_count": 82,
     "metadata": {
      "tags": []
     },
     "output_type": "execute_result"
    }
   ],
   "source": [
    "from sklearn.metrics import f1_score\n",
    "out  = f1_score(targ, pred, average=None) #'macro' , also == weighted cuz dataset is balanced\n",
    "out"
   ]
  },
  {
   "cell_type": "code",
   "execution_count": 0,
   "metadata": {
    "colab": {
     "base_uri": "https://localhost:8080/",
     "height": 34
    },
    "colab_type": "code",
    "id": "swK6p4SPEO5c",
    "outputId": "5e2d56dd-bfa5-45b3-c0e9-e2040e495b39"
   },
   "outputs": [
    {
     "data": {
      "text/plain": [
       "0.9955751779224548"
      ]
     },
     "execution_count": 83,
     "metadata": {
      "tags": []
     },
     "output_type": "execute_result"
    }
   ],
   "source": [
    "out.mean()"
   ]
  },
  {
   "cell_type": "code",
   "execution_count": 0,
   "metadata": {
    "colab": {},
    "colab_type": "code",
    "id": "mhkXtSpuEO5n"
   },
   "outputs": [],
   "source": []
  },
  {
   "cell_type": "markdown",
   "metadata": {
    "colab_type": "text",
    "id": "pNEl5Pe10b-I"
   },
   "source": [
    "-------------xxxx---------------"
   ]
  },
  {
   "cell_type": "markdown",
   "metadata": {
    "colab_type": "text",
    "id": "xl08WpnD0aUe"
   },
   "source": [
    "## 14 Authors"
   ]
  },
  {
   "cell_type": "markdown",
   "metadata": {
    "colab_type": "text",
    "id": "M_a_m0Vf0aUi"
   },
   "source": [
    "#### 14 authors LM"
   ]
  },
  {
   "cell_type": "code",
   "execution_count": 0,
   "metadata": {
    "colab": {},
    "colab_type": "code",
    "id": "51gBd1zd0aUj"
   },
   "outputs": [],
   "source": [
    "bs=32"
   ]
  },
  {
   "cell_type": "code",
   "execution_count": 0,
   "metadata": {
    "colab": {},
    "colab_type": "code",
    "id": "epvfW7JS0aUn"
   },
   "outputs": [],
   "source": [
    "data_lm_AA = TextLMDataBunch.from_csv(subsets , '14train.csv', bs=bs,tokenizer=mycust_tok, vocab=sp_vocab)\n",
    "data_lm_AA.save('14train_AA_subword_lm.pkl')"
   ]
  },
  {
   "cell_type": "code",
   "execution_count": 0,
   "metadata": {
    "colab": {},
    "colab_type": "code",
    "id": "pKPFsGRU0aUq"
   },
   "outputs": [],
   "source": [
    "data_lm_AA = load_data(subsets, '14train_AA_subword_lm.pkl',bs=bs)"
   ]
  },
  {
   "cell_type": "code",
   "execution_count": 0,
   "metadata": {
    "colab": {
     "base_uri": "https://localhost:8080/",
     "height": 289
    },
    "colab_type": "code",
    "id": "mbJGqT520aUu",
    "outputId": "3d2cb09f-40e5-4019-bdd7-203e790289bc"
   },
   "outputs": [
    {
     "data": {
      "text/html": [
       "<table border=\"1\" class=\"dataframe\">\n",
       "  <thead>\n",
       "    <tr style=\"text-align: right;\">\n",
       "      <th>idx</th>\n",
       "      <th>text</th>\n",
       "    </tr>\n",
       "  </thead>\n",
       "  <tbody>\n",
       "    <tr>\n",
       "      <td>0</td>\n",
       "      <td>▁উপরে ▁যে ▁অভিশাপ ▁লেগেছে ! ▁সে ▁কী ▁হে , ▁তুমি ▁আবার ▁অভিশাপ - ট ভি শা পে ▁বিশ্বাস ▁কর ▁কবে ▁থেকে ? — অ খিল বাবু ▁আমাদের ▁দিকে ▁এগিয়ে ▁এলেন । ▁ মহেশ বাবু ▁দীর্ঘশ্বাস ▁ফেলে ▁বললেন , ▁তুমি ▁আমার ▁কো ষ্ঠ ী ই ▁বিচার ▁করেছি । ▁অ খিল , ▁মানুষ টাকে ▁বিচার ▁কর নি । ▁ওই খানে ই ▁তো ▁ভুল , ▁বললেন ▁অ খিল বাবু , ▁মানুষের ▁কু ষ্ঠ</td>\n",
       "    </tr>\n",
       "    <tr>\n",
       "      <td>1</td>\n",
       "      <td>▁ বেহায়া র ▁দল ▁ওই ▁আট প ৌ র েরা ! ▁অনেক ▁কষ্টে ▁ক াহার েরা ▁নিষ্ কৃত ি ▁পেয়েছে । ▁সু চাঁদ ▁বলে — ▁এক ▁পুরুষ ▁গেল , ▁দু ▁পুরুষ ে ▁সবাই ▁দাগ ী ▁হল । ▁ক াহার েরা ▁তখন ▁চাষ ে বাসে ▁মন ▁দিলে ; ▁চুরি চা মারি ও ▁করত , ▁কিন্তু ক ▁আগের ▁মতন ▁ লয় । ▁তবু ▁দাগ ীর ▁বিপদ ▁যাবে ▁কোথায় ? ▁চুরি ▁হলে ▁ক</td>\n",
       "    </tr>\n",
       "    <tr>\n",
       "      <td>2</td>\n",
       "      <td>▁না ▁হয় ▁এবং ▁বিনয় ের ▁সঙ্গে ▁তাহার ▁বিচ্ছেদের ▁যেন ▁কোনো ▁কারণ ▁না ▁ঘটে । ▁২২ ▁গোলাপ ▁ফুলের ▁একটু ▁ইতিহাস ▁আছে । ▁কাল ▁রাত ্রে ▁গো রা ▁তো ▁পরে শ বাবু র ▁বাড়ি ▁হইতে ▁চল িয়া ▁আসি ল , ▁কিন্তু ▁ম্যাজিস্ট্রেটের ▁বাড়িতে ▁সেই ▁অভিনয়ে ▁যোগ ▁দেওয়ার ▁প্রস্তাব ▁ ল ইয়া ▁বিনয় কে ▁বিস্তর ▁কষ্ট ▁পাই তে ▁হইয়া ছিল । ▁এই ▁অভিনয়ে ▁ ললিত ার ▁যে ▁কোনো ▁উৎসাহ ▁ছিল ▁ তাহা ▁</td>\n",
       "    </tr>\n",
       "    <tr>\n",
       "      <td>3</td>\n",
       "      <td>▁সে ▁একসঙ্গে ▁সকলের ▁দিকে ▁গুলি ▁চালাতে ▁পারবে । ▁অ বোধ রাম ▁বলে ▁উঠল , ▁আমি ▁ঠিক ▁পাঁচ ▁ গুন ব , ▁তার ▁মধ্যে ▁অস্ত্র টা ▁ফেরত ▁না ▁দিলে ▁আমি ▁এই ▁ছেলেটা কে ▁নিয়ে ▁নৌ কো য় ▁উঠে ▁চলে ▁যাব । ▁এক – দুই – তিন – চার । ▁কাকা বাবু ▁হাত ▁তুলে ▁বললেন , ▁দাঁড়াও ! ▁জো জো ▁পরের ▁বাড়ির ▁ছেলে । ▁আমরা ▁ও র ▁জীবনের ▁ঝুঁকি ▁নিতে ▁পারি ▁না</td>\n",
       "    </tr>\n",
       "    <tr>\n",
       "      <td>4</td>\n",
       "      <td>, – ’ এর ▁মানে ▁কি ▁ , ▁ ব্যোমকেশ বাবু ? ▁অপরাধীকে ▁ধর বার ▁ক্ষমতা ▁নেই ▁ , ▁মাঝ ▁থেকে ▁ক লো নীর ▁ওপর ▁চৌকি ▁বসিয়ে ▁দিয়েছেন । ▁পরশু ▁থেকে ▁আমরা ▁ক লো নীর ▁সীমানার ▁মধ্যে ▁বন্দী ▁হয়ে ▁আছি । ’ ▁ ব্যোমকেশ ▁তাহার ▁ রু ক্ষ তা ▁গায়ে ▁মা খিল ▁না ▁ , ▁হাসিমুখে ▁বলি ল , – ’ বা ঘ ে ▁ ছু লে ▁ আঠারো ▁</td>\n",
       "    </tr>\n",
       "  </tbody>\n",
       "</table>"
      ],
      "text/plain": [
       "<IPython.core.display.HTML object>"
      ]
     },
     "metadata": {
      "tags": []
     },
     "output_type": "display_data"
    }
   ],
   "source": [
    "data_lm_AA.show_batch()"
   ]
  },
  {
   "cell_type": "code",
   "execution_count": 0,
   "metadata": {
    "colab": {},
    "colab_type": "code",
    "id": "r2EPQehX0aU0"
   },
   "outputs": [],
   "source": [
    "learn = language_model_learner(data_lm_AA, AWD_LSTM, pretrained=False, drop_mult=0.5)"
   ]
  },
  {
   "cell_type": "code",
   "execution_count": 0,
   "metadata": {
    "colab": {},
    "colab_type": "code",
    "id": "gRJN4BU00aU2"
   },
   "outputs": [],
   "source": [
    "learn.load(news/'models'/'news_subword_lm_31');"
   ]
  },
  {
   "cell_type": "code",
   "execution_count": 0,
   "metadata": {
    "colab": {
     "base_uri": "https://localhost:8080/",
     "height": 300
    },
    "colab_type": "code",
    "id": "o4-QEdKJ0aU5",
    "outputId": "f33c26ab-d4fe-4916-9e49-afb786942cfa"
   },
   "outputs": [
    {
     "data": {
      "text/html": [],
      "text/plain": [
       "<IPython.core.display.HTML object>"
      ]
     },
     "metadata": {
      "tags": []
     },
     "output_type": "display_data"
    },
    {
     "name": "stdout",
     "output_type": "stream",
     "text": [
      "LR Finder is complete, type {learner_name}.recorder.plot() to see the graph.\n"
     ]
    },
    {
     "data": {
      "image/png": "[encoded data removed]",
      "text/plain": [
       "<Figure size 432x288 with 1 Axes>"
      ]
     },
     "metadata": {
      "tags": []
     },
     "output_type": "display_data"
    }
   ],
   "source": [
    "learn.lr_find();\n",
    "learn.recorder.plot();"
   ]
  },
  {
   "cell_type": "code",
   "execution_count": 0,
   "metadata": {
    "colab": {
     "base_uri": "https://localhost:8080/",
     "height": 283
    },
    "colab_type": "code",
    "id": "Xb01Drep0aU_",
    "outputId": "136cc45b-4289-4e42-942a-d8e9c9537e00"
   },
   "outputs": [
    {
     "data": {
      "image/png": "[encoded data removed]",
      "text/plain": [
       "<Figure size 432x288 with 1 Axes>"
      ]
     },
     "metadata": {
      "tags": []
     },
     "output_type": "display_data"
    }
   ],
   "source": [
    "learn.recorder.plot(skip_end=20);"
   ]
  },
  {
   "cell_type": "code",
   "execution_count": 0,
   "metadata": {
    "colab": {
     "base_uri": "https://localhost:8080/",
     "height": 408
    },
    "colab_type": "code",
    "id": "6URPjeph0aVE",
    "outputId": "7d303fec-f315-4604-8924-02d771b74146"
   },
   "outputs": [
    {
     "data": {
      "text/html": [
       "<table border=\"1\" class=\"dataframe\">\n",
       "  <thead>\n",
       "    <tr style=\"text-align: left;\">\n",
       "      <th>epoch</th>\n",
       "      <th>train_loss</th>\n",
       "      <th>valid_loss</th>\n",
       "      <th>accuracy</th>\n",
       "      <th>time</th>\n",
       "    </tr>\n",
       "  </thead>\n",
       "  <tbody>\n",
       "    <tr>\n",
       "      <td>0</td>\n",
       "      <td>5.219893</td>\n",
       "      <td>5.046435</td>\n",
       "      <td>0.209676</td>\n",
       "      <td>07:26</td>\n",
       "    </tr>\n",
       "    <tr>\n",
       "      <td>1</td>\n",
       "      <td>4.920216</td>\n",
       "      <td>4.850117</td>\n",
       "      <td>0.227113</td>\n",
       "      <td>07:27</td>\n",
       "    </tr>\n",
       "  </tbody>\n",
       "</table>"
      ],
      "text/plain": [
       "<IPython.core.display.HTML object>"
      ]
     },
     "metadata": {
      "tags": []
     },
     "output_type": "display_data"
    },
    {
     "data": {
      "text/html": [
       "<table border=\"1\" class=\"dataframe\">\n",
       "  <thead>\n",
       "    <tr style=\"text-align: left;\">\n",
       "      <th>epoch</th>\n",
       "      <th>train_loss</th>\n",
       "      <th>valid_loss</th>\n",
       "      <th>accuracy</th>\n",
       "      <th>time</th>\n",
       "    </tr>\n",
       "  </thead>\n",
       "  <tbody>\n",
       "    <tr>\n",
       "      <td>0</td>\n",
       "      <td>4.904849</td>\n",
       "      <td>4.863462</td>\n",
       "      <td>0.229831</td>\n",
       "      <td>07:39</td>\n",
       "    </tr>\n",
       "    <tr>\n",
       "      <td>1</td>\n",
       "      <td>4.681979</td>\n",
       "      <td>4.631474</td>\n",
       "      <td>0.252843</td>\n",
       "      <td>07:40</td>\n",
       "    </tr>\n",
       "  </tbody>\n",
       "</table>"
      ],
      "text/plain": [
       "<IPython.core.display.HTML object>"
      ]
     },
     "metadata": {
      "tags": []
     },
     "output_type": "display_data"
    },
    {
     "data": {
      "text/html": [
       "<table border=\"1\" class=\"dataframe\">\n",
       "  <thead>\n",
       "    <tr style=\"text-align: left;\">\n",
       "      <th>epoch</th>\n",
       "      <th>train_loss</th>\n",
       "      <th>valid_loss</th>\n",
       "      <th>accuracy</th>\n",
       "      <th>time</th>\n",
       "    </tr>\n",
       "  </thead>\n",
       "  <tbody>\n",
       "    <tr>\n",
       "      <td>0</td>\n",
       "      <td>4.857399</td>\n",
       "      <td>4.783350</td>\n",
       "      <td>0.238041</td>\n",
       "      <td>08:12</td>\n",
       "    </tr>\n",
       "    <tr>\n",
       "      <td>1</td>\n",
       "      <td>4.545446</td>\n",
       "      <td>4.521903</td>\n",
       "      <td>0.265937</td>\n",
       "      <td>08:11</td>\n",
       "    </tr>\n",
       "  </tbody>\n",
       "</table>"
      ],
      "text/plain": [
       "<IPython.core.display.HTML object>"
      ]
     },
     "metadata": {
      "tags": []
     },
     "output_type": "display_data"
    },
    {
     "data": {
      "text/html": [
       "\n",
       "    <div>\n",
       "        <style>\n",
       "            /* Turns off some styling */\n",
       "            progress {\n",
       "                /* gets rid of default border in Firefox and Opera. */\n",
       "                border: none;\n",
       "                /* Needs to be in here for Safari polyfill so background images work as expected. */\n",
       "                background-size: auto;\n",
       "            }\n",
       "            .progress-bar-interrupted, .progress-bar-interrupted::-webkit-progress-bar {\n",
       "                background: #F44336;\n",
       "            }\n",
       "        </style>\n",
       "      <progress value='1' class='' max='10', style='width:300px; height:20px; vertical-align: middle;'></progress>\n",
       "      10.00% [1/10 08:34<1:17:09]\n",
       "    </div>\n",
       "    \n",
       "<table border=\"1\" class=\"dataframe\">\n",
       "  <thead>\n",
       "    <tr style=\"text-align: left;\">\n",
       "      <th>epoch</th>\n",
       "      <th>train_loss</th>\n",
       "      <th>valid_loss</th>\n",
       "      <th>accuracy</th>\n",
       "      <th>time</th>\n",
       "    </tr>\n",
       "  </thead>\n",
       "  <tbody>\n",
       "    <tr>\n",
       "      <td>0</td>\n",
       "      <td>4.383151</td>\n",
       "      <td>4.521655</td>\n",
       "      <td>0.265186</td>\n",
       "      <td>08:34</td>\n",
       "    </tr>\n",
       "  </tbody>\n",
       "</table><p>\n",
       "\n",
       "    <div>\n",
       "        <style>\n",
       "            /* Turns off some styling */\n",
       "            progress {\n",
       "                /* gets rid of default border in Firefox and Opera. */\n",
       "                border: none;\n",
       "                /* Needs to be in here for Safari polyfill so background images work as expected. */\n",
       "                background-size: auto;\n",
       "            }\n",
       "            .progress-bar-interrupted, .progress-bar-interrupted::-webkit-progress-bar {\n",
       "                background: #F44336;\n",
       "            }\n",
       "        </style>\n",
       "      <progress value='143' class='' max='566', style='width:300px; height:20px; vertical-align: middle;'></progress>\n",
       "      25.27% [143/566 00:11<00:34]\n",
       "    </div>\n",
       "    "
      ],
      "text/plain": [
       "<IPython.core.display.HTML object>"
      ]
     },
     "metadata": {
      "tags": []
     },
     "output_type": "display_data"
    }
   ],
   "source": [
    "learn.freeze()\n",
    "learn.fit_one_cycle(2, 1e-2)\n",
    "learn.save('14train_subword_lm_head');\n",
    "learn.freeze_to(-2)\n",
    "learn.fit_one_cycle(2, 1e-2)\n",
    "learn.save('14train_subword_lm_body_1');\n",
    "learn.freeze_to(-3)\n",
    "learn.fit_one_cycle(2, 1e-2)\n",
    "learn.save('14train_subword_lm_body_2');\n",
    "## ignore the incomplete epochs"
   ]
  },
  {
   "cell_type": "code",
   "execution_count": 18,
   "metadata": {
    "colab": {
     "base_uri": "https://localhost:8080/",
     "height": 298
    },
    "colab_type": "code",
    "id": "8fmYyQRAIjE-",
    "outputId": "da11df82-24cf-4d87-8910-e8c4a53f2794"
   },
   "outputs": [
    {
     "data": {
      "text/html": [
       "\n",
       "    <div>\n",
       "        <style>\n",
       "            /* Turns off some styling */\n",
       "            progress {\n",
       "                /* gets rid of default border in Firefox and Opera. */\n",
       "                border: none;\n",
       "                /* Needs to be in here for Safari polyfill so background images work as expected. */\n",
       "                background-size: auto;\n",
       "            }\n",
       "            .progress-bar-interrupted, .progress-bar-interrupted::-webkit-progress-bar {\n",
       "                background: #F44336;\n",
       "            }\n",
       "        </style>\n",
       "      <progress value='6' class='' max='10', style='width:300px; height:20px; vertical-align: middle;'></progress>\n",
       "      60.00% [6/10 1:35:20<1:03:33]\n",
       "    </div>\n",
       "    \n",
       "<table border=\"1\" class=\"dataframe\">\n",
       "  <thead>\n",
       "    <tr style=\"text-align: left;\">\n",
       "      <th>epoch</th>\n",
       "      <th>train_loss</th>\n",
       "      <th>valid_loss</th>\n",
       "      <th>accuracy</th>\n",
       "      <th>time</th>\n",
       "    </tr>\n",
       "  </thead>\n",
       "  <tbody>\n",
       "    <tr>\n",
       "      <td>0</td>\n",
       "      <td>4.305816</td>\n",
       "      <td>4.514386</td>\n",
       "      <td>0.266883</td>\n",
       "      <td>15:53</td>\n",
       "    </tr>\n",
       "    <tr>\n",
       "      <td>1</td>\n",
       "      <td>4.254622</td>\n",
       "      <td>4.488628</td>\n",
       "      <td>0.269113</td>\n",
       "      <td>15:48</td>\n",
       "    </tr>\n",
       "    <tr>\n",
       "      <td>2</td>\n",
       "      <td>4.234484</td>\n",
       "      <td>4.463194</td>\n",
       "      <td>0.271799</td>\n",
       "      <td>15:54</td>\n",
       "    </tr>\n",
       "    <tr>\n",
       "      <td>3</td>\n",
       "      <td>4.174714</td>\n",
       "      <td>4.443360</td>\n",
       "      <td>0.274023</td>\n",
       "      <td>15:55</td>\n",
       "    </tr>\n",
       "    <tr>\n",
       "      <td>4</td>\n",
       "      <td>4.179772</td>\n",
       "      <td>4.426936</td>\n",
       "      <td>0.276127</td>\n",
       "      <td>15:54</td>\n",
       "    </tr>\n",
       "    <tr>\n",
       "      <td>5</td>\n",
       "      <td>4.081219</td>\n",
       "      <td>4.413892</td>\n",
       "      <td>0.278025</td>\n",
       "      <td>15:53</td>\n",
       "    </tr>\n",
       "  </tbody>\n",
       "</table><p>\n",
       "\n",
       "    <div>\n",
       "        <style>\n",
       "            /* Turns off some styling */\n",
       "            progress {\n",
       "                /* gets rid of default border in Firefox and Opera. */\n",
       "                border: none;\n",
       "                /* Needs to be in here for Safari polyfill so background images work as expected. */\n",
       "                background-size: auto;\n",
       "            }\n",
       "            .progress-bar-interrupted, .progress-bar-interrupted::-webkit-progress-bar {\n",
       "                background: #F44336;\n",
       "            }\n",
       "        </style>\n",
       "      <progress value='1027' class='' max='2262', style='width:300px; height:20px; vertical-align: middle;'></progress>\n",
       "      45.40% [1027/2262 06:37<07:57 4.0239]\n",
       "    </div>\n",
       "    "
      ],
      "text/plain": [
       "<IPython.core.display.HTML object>"
      ]
     },
     "metadata": {
      "tags": []
     },
     "output_type": "display_data"
    },
    {
     "name": "stdout",
     "output_type": "stream",
     "text": [
      "Buffered data was truncated after reaching the output size limit."
     ]
    }
   ],
   "source": [
    "learn.load('14train_subword_lm_body_2');\n",
    "learn.unfreeze()\n",
    "learn.fit_one_cycle(10, 1e-3)\n",
    "learn.save('14train_subword_lm_body_3');"
   ]
  },
  {
   "cell_type": "code",
   "execution_count": 21,
   "metadata": {
    "colab": {
     "base_uri": "https://localhost:8080/",
     "height": 80
    },
    "colab_type": "code",
    "id": "9A3dz0g48eM1",
    "outputId": "9ddb1232-c79e-4d2f-fbef-322ad2badee2"
   },
   "outputs": [
    {
     "data": {
      "text/html": [
       "<table border=\"1\" class=\"dataframe\">\n",
       "  <thead>\n",
       "    <tr style=\"text-align: left;\">\n",
       "      <th>epoch</th>\n",
       "      <th>train_loss</th>\n",
       "      <th>valid_loss</th>\n",
       "      <th>accuracy</th>\n",
       "      <th>time</th>\n",
       "    </tr>\n",
       "  </thead>\n",
       "  <tbody>\n",
       "    <tr>\n",
       "      <td>0</td>\n",
       "      <td>4.004398</td>\n",
       "      <td>4.404449</td>\n",
       "      <td>0.279966</td>\n",
       "      <td>15:55</td>\n",
       "    </tr>\n",
       "  </tbody>\n",
       "</table>"
      ],
      "text/plain": [
       "<IPython.core.display.HTML object>"
      ]
     },
     "metadata": {
      "tags": []
     },
     "output_type": "display_data"
    }
   ],
   "source": [
    "learn.fit_one_cycle(1, 1e-3)\n",
    "learn.save('14train_subword_lm_body_4');"
   ]
  },
  {
   "cell_type": "code",
   "execution_count": 0,
   "metadata": {
    "colab": {},
    "colab_type": "code",
    "id": "39ILotYz8hjh"
   },
   "outputs": [],
   "source": [
    "learn.save_encoder('14train_subword_lm_enc')"
   ]
  },
  {
   "cell_type": "markdown",
   "metadata": {
    "colab_type": "text",
    "id": "SX9BphTq0aV2"
   },
   "source": [
    "#### 14 Authors Clas"
   ]
  },
  {
   "cell_type": "code",
   "execution_count": 0,
   "metadata": {
    "colab": {},
    "colab_type": "code",
    "id": "bsapqq0J0aV3"
   },
   "outputs": [],
   "source": [
    "data_clas = TextClasDataBunch.from_csv(subsets , '14train.csv', tokenizer=mycust_tok, vocab=sp_vocab, bs=bs)\n",
    "data_clas.save('14train_subword_clas.pkl')"
   ]
  },
  {
   "cell_type": "code",
   "execution_count": 24,
   "metadata": {
    "colab": {
     "base_uri": "https://localhost:8080/",
     "height": 300
    },
    "colab_type": "code",
    "id": "_SZgkg8f0aV-",
    "outputId": "084099d2-72c3-405f-9396-45e8a7528127"
   },
   "outputs": [
    {
     "data": {
      "text/html": [],
      "text/plain": [
       "<IPython.core.display.HTML object>"
      ]
     },
     "metadata": {
      "tags": []
     },
     "output_type": "display_data"
    },
    {
     "name": "stdout",
     "output_type": "stream",
     "text": [
      "LR Finder is complete, type {learner_name}.recorder.plot() to see the graph.\n"
     ]
    },
    {
     "data": {
      "image/png": "[encoded data removed]",
      "text/plain": [
       "<Figure size 432x288 with 1 Axes>"
      ]
     },
     "metadata": {
      "tags": []
     },
     "output_type": "display_data"
    }
   ],
   "source": [
    "data_clas = load_data(subsets, '14train_subword_clas.pkl',bs=bs)\n",
    "learn_cls = text_classifier_learner(data_clas, AWD_LSTM, drop_mult=0.5, pretrained=False)\n",
    "learn_cls.load_encoder('14train_subword_lm_enc')\n",
    "learn_cls.freeze()\n",
    "learn_cls.lr_find()\n",
    "learn_cls.recorder.plot()"
   ]
  },
  {
   "cell_type": "code",
   "execution_count": 25,
   "metadata": {
    "colab": {
     "base_uri": "https://localhost:8080/",
     "height": 455
    },
    "colab_type": "code",
    "id": "w9ZNKO6L0aWD",
    "outputId": "ae647d6d-a850-49e1-a18c-9964c982c5ea"
   },
   "outputs": [
    {
     "data": {
      "text/html": [
       "<table border=\"1\" class=\"dataframe\">\n",
       "  <thead>\n",
       "    <tr style=\"text-align: left;\">\n",
       "      <th>epoch</th>\n",
       "      <th>train_loss</th>\n",
       "      <th>valid_loss</th>\n",
       "      <th>accuracy</th>\n",
       "      <th>time</th>\n",
       "    </tr>\n",
       "  </thead>\n",
       "  <tbody>\n",
       "    <tr>\n",
       "      <td>0</td>\n",
       "      <td>0.452894</td>\n",
       "      <td>0.057153</td>\n",
       "      <td>0.987631</td>\n",
       "      <td>05:00</td>\n",
       "    </tr>\n",
       "    <tr>\n",
       "      <td>1</td>\n",
       "      <td>0.128311</td>\n",
       "      <td>0.039862</td>\n",
       "      <td>0.989534</td>\n",
       "      <td>05:05</td>\n",
       "    </tr>\n",
       "  </tbody>\n",
       "</table>"
      ],
      "text/plain": [
       "<IPython.core.display.HTML object>"
      ]
     },
     "metadata": {
      "tags": []
     },
     "output_type": "display_data"
    },
    {
     "data": {
      "text/html": [
       "<table border=\"1\" class=\"dataframe\">\n",
       "  <thead>\n",
       "    <tr style=\"text-align: left;\">\n",
       "      <th>epoch</th>\n",
       "      <th>train_loss</th>\n",
       "      <th>valid_loss</th>\n",
       "      <th>accuracy</th>\n",
       "      <th>time</th>\n",
       "    </tr>\n",
       "  </thead>\n",
       "  <tbody>\n",
       "    <tr>\n",
       "      <td>0</td>\n",
       "      <td>0.167933</td>\n",
       "      <td>0.042766</td>\n",
       "      <td>0.990485</td>\n",
       "      <td>05:49</td>\n",
       "    </tr>\n",
       "    <tr>\n",
       "      <td>1</td>\n",
       "      <td>0.065023</td>\n",
       "      <td>0.035047</td>\n",
       "      <td>0.994291</td>\n",
       "      <td>05:54</td>\n",
       "    </tr>\n",
       "  </tbody>\n",
       "</table>"
      ],
      "text/plain": [
       "<IPython.core.display.HTML object>"
      ]
     },
     "metadata": {
      "tags": []
     },
     "output_type": "display_data"
    },
    {
     "data": {
      "text/html": [
       "<table border=\"1\" class=\"dataframe\">\n",
       "  <thead>\n",
       "    <tr style=\"text-align: left;\">\n",
       "      <th>epoch</th>\n",
       "      <th>train_loss</th>\n",
       "      <th>valid_loss</th>\n",
       "      <th>accuracy</th>\n",
       "      <th>time</th>\n",
       "    </tr>\n",
       "  </thead>\n",
       "  <tbody>\n",
       "    <tr>\n",
       "      <td>0</td>\n",
       "      <td>0.038542</td>\n",
       "      <td>0.041153</td>\n",
       "      <td>0.993340</td>\n",
       "      <td>08:46</td>\n",
       "    </tr>\n",
       "    <tr>\n",
       "      <td>1</td>\n",
       "      <td>0.039725</td>\n",
       "      <td>0.032481</td>\n",
       "      <td>0.991437</td>\n",
       "      <td>08:35</td>\n",
       "    </tr>\n",
       "  </tbody>\n",
       "</table>"
      ],
      "text/plain": [
       "<IPython.core.display.HTML object>"
      ]
     },
     "metadata": {
      "tags": []
     },
     "output_type": "display_data"
    },
    {
     "data": {
      "text/html": [
       "<table border=\"1\" class=\"dataframe\">\n",
       "  <thead>\n",
       "    <tr style=\"text-align: left;\">\n",
       "      <th>epoch</th>\n",
       "      <th>train_loss</th>\n",
       "      <th>valid_loss</th>\n",
       "      <th>accuracy</th>\n",
       "      <th>time</th>\n",
       "    </tr>\n",
       "  </thead>\n",
       "  <tbody>\n",
       "    <tr>\n",
       "      <td>0</td>\n",
       "      <td>0.018281</td>\n",
       "      <td>0.029909</td>\n",
       "      <td>0.993340</td>\n",
       "      <td>11:15</td>\n",
       "    </tr>\n",
       "    <tr>\n",
       "      <td>1</td>\n",
       "      <td>0.026699</td>\n",
       "      <td>0.029267</td>\n",
       "      <td>0.993340</td>\n",
       "      <td>11:08</td>\n",
       "    </tr>\n",
       "    <tr>\n",
       "      <td>2</td>\n",
       "      <td>0.015861</td>\n",
       "      <td>0.027887</td>\n",
       "      <td>0.994291</td>\n",
       "      <td>10:57</td>\n",
       "    </tr>\n",
       "    <tr>\n",
       "      <td>3</td>\n",
       "      <td>0.017530</td>\n",
       "      <td>0.028703</td>\n",
       "      <td>0.995243</td>\n",
       "      <td>11:06</td>\n",
       "    </tr>\n",
       "  </tbody>\n",
       "</table>"
      ],
      "text/plain": [
       "<IPython.core.display.HTML object>"
      ]
     },
     "metadata": {
      "tags": []
     },
     "output_type": "display_data"
    }
   ],
   "source": [
    "learn_cls.fit_one_cycle(2, 1e-2, moms=(0.8,0.7))\n",
    "learn_cls.save('14train_subword_cls_1')\n",
    "# learn_cls.load('14train_subword_cls_1')\n",
    "learn_cls.freeze_to(-2)\n",
    "learn_cls.fit_one_cycle(2 , slice(1e-2/(2.6**4),1e-2), moms=(0.8,0.7))\n",
    "learn_cls.save('14train_subword_cls_2')\n",
    "# learn_cls.load('14train_subword_cls_2')\n",
    "learn_cls.freeze_to(-3)\n",
    "learn_cls.fit_one_cycle(2, slice(5e-3/(2.6**4),5e-3), moms=(0.8,0.7))\n",
    "learn_cls.save('14train_subword_cls_3')\n",
    "# learn_cls.load('14train_subword_cls_3')\n",
    "learn_cls.unfreeze()\n",
    "learn_cls.fit_one_cycle(4, slice(1e-3/(2.6**4),1e-3), moms=(0.8,0.7))\n",
    "learn_cls.save('14train_subword_cls_4')"
   ]
  },
  {
   "cell_type": "markdown",
   "metadata": {
    "colab_type": "text",
    "id": "6cGwNvgy0aWK"
   },
   "source": [
    "------------->  **Testing**  <-----------------"
   ]
  },
  {
   "cell_type": "code",
   "execution_count": 28,
   "metadata": {
    "colab": {
     "base_uri": "https://localhost:8080/",
     "height": 105
    },
    "colab_type": "code",
    "id": "k6jlOqol0aWL",
    "outputId": "a28ee8ea-5d4d-42da-dff3-923103f15f2d"
   },
   "outputs": [
    {
     "name": "stdout",
     "output_type": "stream",
     "text": [
      "1316\n",
      "Accuracy: \n",
      "0.993920972644377\n",
      "[('manik_bandhopaddhay', 'shirshendu'), ('tarashonkor', 'shorotchandra'), ('shottojit_roy', 'MZI'), ('shirshendu', 'robindronath'), ('shorotchandra', 'shordindu'), ('robindronath', 'tarashonkor'), ('shomresh', 'toslima_nasrin'), ('shunil_gongopaddhay', 'manik_bandhopaddhay')]\n"
     ]
    }
   ],
   "source": [
    "pred,targ = testing(subsets/'14test.csv')"
   ]
  },
  {
   "cell_type": "code",
   "execution_count": 29,
   "metadata": {
    "colab": {
     "base_uri": "https://localhost:8080/",
     "height": 51
    },
    "colab_type": "code",
    "id": "VEBAx9Ka0aWR",
    "outputId": "a1db34e5-e226-4a50-fc3e-eeb831135538"
   },
   "outputs": [
    {
     "data": {
      "text/plain": [
       "array([0.994709, 1.      , 1.      , 0.989362, 1.      , 0.989362, 0.989362, 0.994652, 0.994709, 0.989362, 0.994652,\n",
       "       0.994652, 0.989362, 0.994709])"
      ]
     },
     "execution_count": 29,
     "metadata": {
      "tags": []
     },
     "output_type": "execute_result"
    }
   ],
   "source": [
    "from sklearn.metrics import f1_score\n",
    "out  = f1_score(targ, pred, average=None) #'macro' , also == weighted cuz dataset is balanced\n",
    "out"
   ]
  },
  {
   "cell_type": "code",
   "execution_count": 30,
   "metadata": {
    "colab": {
     "base_uri": "https://localhost:8080/",
     "height": 34
    },
    "colab_type": "code",
    "id": "t_6MNuxH0aWV",
    "outputId": "277a75b2-d98f-49dc-bba9-e75813890941"
   },
   "outputs": [
    {
     "data": {
      "text/plain": [
       "0.9939209081440443"
      ]
     },
     "execution_count": 30,
     "metadata": {
      "tags": []
     },
     "output_type": "execute_result"
    }
   ],
   "source": [
    "out.mean()"
   ]
  },
  {
   "cell_type": "code",
   "execution_count": 0,
   "metadata": {
    "colab": {},
    "colab_type": "code",
    "id": "7Kc35BfF0aWY"
   },
   "outputs": [],
   "source": []
  }
 ],
 "metadata": {
  "accelerator": "GPU",
  "colab": {
   "collapsed_sections": [
    "cuEfScZJ_2Ha",
    "lbyaOA5DEnZn",
    "Ik2jPV2oKoIt",
    "LsvXdxhQKdSq",
    "kIhhI-OkKdUE",
    "HzkRsAW8EO3q",
    "XFbz1aDhEO3x",
    "pS63g4GLEO5H"
   ],
   "name": "All_Auth_SP-ULMFiT(News).ipynb",
   "provenance": [],
   "version": "0.3.2"
  },
  "kernelspec": {
   "display_name": "Python 3",
   "language": "python",
   "name": "python3"
  },
  "language_info": {
   "codemirror_mode": {
    "name": "ipython",
    "version": 3
   },
   "file_extension": ".py",
   "mimetype": "text/x-python",
   "name": "python",
   "nbconvert_exporter": "python",
   "pygments_lexer": "ipython3",
   "version": "3.6.8"
  }
 },
 "nbformat": 4,
 "nbformat_minor": 1
}
