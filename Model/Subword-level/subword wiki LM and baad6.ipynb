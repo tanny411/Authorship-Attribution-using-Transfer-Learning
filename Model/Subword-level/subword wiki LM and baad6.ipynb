{
 "cells": [
  {
   "cell_type": "markdown",
   "metadata": {
    "colab_type": "text",
    "id": "drMEaYOtIOe4"
   },
   "source": [
    "Wiki crawled at night of 10/june/2019"
   ]
  },
  {
   "cell_type": "code",
   "execution_count": null,
   "metadata": {
    "colab": {
     "base_uri": "https://localhost:8080/",
     "height": 207
    },
    "colab_type": "code",
    "id": "ht3mOv6BWiqJ",
    "outputId": "c95c7dc2-cd60-470a-bbc0-a2cc7e226888"
   },
   "outputs": [],
   "source": [
    "!pip install sentencepiece\n",
    "!pip install tf_sentencepiece"
   ]
  },
  {
   "cell_type": "code",
   "execution_count": null,
   "metadata": {
    "colab": {
     "base_uri": "https://localhost:8080/",
     "height": 734
    },
    "colab_type": "code",
    "id": "GYHRGS6iGKm_",
    "outputId": "07332213-5155-47c4-b28c-b6e1459f2e84"
   },
   "outputs": [],
   "source": [
    "!pip install fastai==1.0.52\n",
    "from fastai import *\n",
    "from fastai.text import *\n",
    "\n",
    "import re\n",
    "import sentencepiece as spm"
   ]
  },
  {
   "cell_type": "code",
   "execution_count": 4,
   "metadata": {
    "colab": {
     "base_uri": "https://localhost:8080/",
     "height": 122
    },
    "colab_type": "code",
    "id": "wXPpaCSPWQtN",
    "outputId": "e9c46345-3695-4dea-d602-e73dc0685629"
   },
   "outputs": [
    {
     "name": "stdout",
     "output_type": "stream",
     "text": [
      "Go to this URL in a browser: https://accounts.google.com/o/oauth2/auth?client_id=947318989803-6bn6qk8qdgf4n4g3pfee6491hc0brc4i.apps.googleusercontent.com&redirect_uri=urn%3Aietf%3Awg%3Aoauth%3A2.0%3Aoob&scope=email%20https%3A%2F%2Fwww.googleapis.com%2Fauth%2Fdocs.test%20https%3A%2F%2Fwww.googleapis.com%2Fauth%2Fdrive%20https%3A%2F%2Fwww.googleapis.com%2Fauth%2Fdrive.photos.readonly%20https%3A%2F%2Fwww.googleapis.com%2Fauth%2Fpeopleapi.readonly&response_type=code\n",
      "\n",
      "Enter your authorization code:\n",
      "··········\n",
      "Mounted at /content/gdrive\n"
     ]
    }
   ],
   "source": [
    "from google.colab import drive\n",
    "drive.mount('/content/gdrive')"
   ]
  },
  {
   "cell_type": "code",
   "execution_count": 0,
   "metadata": {
    "colab": {},
    "colab_type": "code",
    "id": "x8ANn5M3Xc9C"
   },
   "outputs": [],
   "source": [
    "import os\n",
    "path = Path(os.getcwd())\n",
    "path = path/'gdrive'/'My Drive'\n",
    "news=path/'Thesis Data'/'full doc csv'\n",
    "aa=path/'Thesis Data'/'Our dataset'\n",
    "aa2=path/'Thesis Data'/'AA dataset'\n",
    "wiki=path/'Thesis Data'/'wiki_data'/'Wiki'"
   ]
  },
  {
   "cell_type": "markdown",
   "metadata": {
    "colab_type": "text",
    "id": "Q8m3k1lITZCM"
   },
   "source": [
    "### Set Data(no rerun)"
   ]
  },
  {
   "cell_type": "code",
   "execution_count": 0,
   "metadata": {
    "colab": {},
    "colab_type": "code",
    "id": "aqe9I9tz4ndJ"
   },
   "outputs": [],
   "source": [
    "df = pd.read_csv(wiki/'wiki.csv')"
   ]
  },
  {
   "cell_type": "code",
   "execution_count": 0,
   "metadata": {
    "colab": {
     "base_uri": "https://localhost:8080/",
     "height": 34
    },
    "colab_type": "code",
    "id": "YEz1Wjtf4ucW",
    "outputId": "9f2a039f-d4c7-4e83-9060-9334f814bea8"
   },
   "outputs": [
    {
     "data": {
      "text/plain": [
       "70623"
      ]
     },
     "execution_count": 6,
     "metadata": {
      "tags": []
     },
     "output_type": "execute_result"
    }
   ],
   "source": [
    "len(df)"
   ]
  },
  {
   "cell_type": "code",
   "execution_count": 0,
   "metadata": {
    "colab": {
     "base_uri": "https://localhost:8080/",
     "height": 206
    },
    "colab_type": "code",
    "id": "ONjPx-Tt41BT",
    "outputId": "18c2367e-064b-4e0d-be89-eb595724f565"
   },
   "outputs": [
    {
     "data": {
      "text/html": [
       "<div>\n",
       "<style scoped>\n",
       "    .dataframe tbody tr th:only-of-type {\n",
       "        vertical-align: middle;\n",
       "    }\n",
       "\n",
       "    .dataframe tbody tr th {\n",
       "        vertical-align: top;\n",
       "    }\n",
       "\n",
       "    .dataframe thead th {\n",
       "        text-align: right;\n",
       "    }\n",
       "</style>\n",
       "<table border=\"1\" class=\"dataframe\">\n",
       "  <thead>\n",
       "    <tr style=\"text-align: right;\">\n",
       "      <th></th>\n",
       "      <th>id</th>\n",
       "      <th>text</th>\n",
       "      <th>title</th>\n",
       "      <th>url</th>\n",
       "    </tr>\n",
       "  </thead>\n",
       "  <tbody>\n",
       "    <tr>\n",
       "      <th>0</th>\n",
       "      <td>2341</td>\n",
       "      <td>বংশী বাংলাদেশের একটি ক্ষুদ্রতম উপজাতি। এরা টাঙ...</td>\n",
       "      <td>বংশী</td>\n",
       "      <td>https://bn.wikipedia.org/wiki?curid=2341</td>\n",
       "    </tr>\n",
       "    <tr>\n",
       "      <th>1</th>\n",
       "      <td>107282</td>\n",
       "      <td>আবহাওয়াবিদ্যা (বা আবহবিদ্যা) মানে এককথায় আবহ...</td>\n",
       "      <td>আবহাওয়াবিদ্যা</td>\n",
       "      <td>https://bn.wikipedia.org/wiki?curid=107282</td>\n",
       "    </tr>\n",
       "    <tr>\n",
       "      <th>2</th>\n",
       "      <td>107838</td>\n",
       "      <td>কোরিয়ার ওয়ার্কার্স পার্টি হল গণতান্ত্রিক গণপ...</td>\n",
       "      <td>কোরিয়ার ওয়ার্কার্স পার্টি</td>\n",
       "      <td>https://bn.wikipedia.org/wiki?curid=107838</td>\n",
       "    </tr>\n",
       "    <tr>\n",
       "      <th>3</th>\n",
       "      <td>4542</td>\n",
       "      <td>মোহাম্মদ মোস্তফা কামাল (১৬ ডিসেম্বর ১৯৪৭ - এপ্...</td>\n",
       "      <td>মোস্তফা কামাল (বীরশ্রেষ্ঠ)</td>\n",
       "      <td>https://bn.wikipedia.org/wiki?curid=4542</td>\n",
       "    </tr>\n",
       "    <tr>\n",
       "      <th>4</th>\n",
       "      <td>4626</td>\n",
       "      <td>মণিপুরী সংস্কৃতির উজ্জ্বলতম দিক হলো মণিপুরী নৃ...</td>\n",
       "      <td>মণিপুরী (নৃত্য)</td>\n",
       "      <td>https://bn.wikipedia.org/wiki?curid=4626</td>\n",
       "    </tr>\n",
       "  </tbody>\n",
       "</table>\n",
       "</div>"
      ],
      "text/plain": [
       "       id  ...                                         url\n",
       "0    2341  ...    https://bn.wikipedia.org/wiki?curid=2341\n",
       "1  107282  ...  https://bn.wikipedia.org/wiki?curid=107282\n",
       "2  107838  ...  https://bn.wikipedia.org/wiki?curid=107838\n",
       "3    4542  ...    https://bn.wikipedia.org/wiki?curid=4542\n",
       "4    4626  ...    https://bn.wikipedia.org/wiki?curid=4626\n",
       "\n",
       "[5 rows x 4 columns]"
      ]
     },
     "execution_count": 7,
     "metadata": {
      "tags": []
     },
     "output_type": "execute_result"
    }
   ],
   "source": [
    "df.head()"
   ]
  },
  {
   "cell_type": "code",
   "execution_count": 0,
   "metadata": {
    "colab": {},
    "colab_type": "code",
    "id": "0LibDKefMZ3N"
   },
   "outputs": [],
   "source": [
    "df['label']=0\n",
    "df = df[['label','text']]"
   ]
  },
  {
   "cell_type": "code",
   "execution_count": 0,
   "metadata": {
    "colab": {
     "base_uri": "https://localhost:8080/",
     "height": 206
    },
    "colab_type": "code",
    "id": "N7n2ZsptMZyj",
    "outputId": "16b8b531-3908-4379-b8ce-81c085679252"
   },
   "outputs": [
    {
     "data": {
      "text/html": [
       "<div>\n",
       "<style scoped>\n",
       "    .dataframe tbody tr th:only-of-type {\n",
       "        vertical-align: middle;\n",
       "    }\n",
       "\n",
       "    .dataframe tbody tr th {\n",
       "        vertical-align: top;\n",
       "    }\n",
       "\n",
       "    .dataframe thead th {\n",
       "        text-align: right;\n",
       "    }\n",
       "</style>\n",
       "<table border=\"1\" class=\"dataframe\">\n",
       "  <thead>\n",
       "    <tr style=\"text-align: right;\">\n",
       "      <th></th>\n",
       "      <th>label</th>\n",
       "      <th>text</th>\n",
       "    </tr>\n",
       "  </thead>\n",
       "  <tbody>\n",
       "    <tr>\n",
       "      <th>0</th>\n",
       "      <td>0</td>\n",
       "      <td>বংশী বাংলাদেশের একটি ক্ষুদ্রতম উপজাতি। এরা টাঙ...</td>\n",
       "    </tr>\n",
       "    <tr>\n",
       "      <th>1</th>\n",
       "      <td>0</td>\n",
       "      <td>আবহাওয়াবিদ্যা (বা আবহবিদ্যা) মানে এককথায় আবহ...</td>\n",
       "    </tr>\n",
       "    <tr>\n",
       "      <th>2</th>\n",
       "      <td>0</td>\n",
       "      <td>কোরিয়ার ওয়ার্কার্স পার্টি হল গণতান্ত্রিক গণপ...</td>\n",
       "    </tr>\n",
       "    <tr>\n",
       "      <th>3</th>\n",
       "      <td>0</td>\n",
       "      <td>মোহাম্মদ মোস্তফা কামাল (১৬ ডিসেম্বর ১৯৪৭ - এপ্...</td>\n",
       "    </tr>\n",
       "    <tr>\n",
       "      <th>4</th>\n",
       "      <td>0</td>\n",
       "      <td>মণিপুরী সংস্কৃতির উজ্জ্বলতম দিক হলো মণিপুরী নৃ...</td>\n",
       "    </tr>\n",
       "  </tbody>\n",
       "</table>\n",
       "</div>"
      ],
      "text/plain": [
       "   label                                               text\n",
       "0      0  বংশী বাংলাদেশের একটি ক্ষুদ্রতম উপজাতি। এরা টাঙ...\n",
       "1      0  আবহাওয়াবিদ্যা (বা আবহবিদ্যা) মানে এককথায় আবহ...\n",
       "2      0  কোরিয়ার ওয়ার্কার্স পার্টি হল গণতান্ত্রিক গণপ...\n",
       "3      0  মোহাম্মদ মোস্তফা কামাল (১৬ ডিসেম্বর ১৯৪৭ - এপ্...\n",
       "4      0  মণিপুরী সংস্কৃতির উজ্জ্বলতম দিক হলো মণিপুরী নৃ..."
      ]
     },
     "execution_count": 9,
     "metadata": {
      "tags": []
     },
     "output_type": "execute_result"
    }
   ],
   "source": [
    "df.head()"
   ]
  },
  {
   "cell_type": "code",
   "execution_count": 0,
   "metadata": {
    "colab": {
     "base_uri": "https://localhost:8080/",
     "height": 52
    },
    "colab_type": "code",
    "id": "DFh-NAsBM9ur",
    "outputId": "6b2d2940-8364-44ac-f37b-1e1ba8f7d51e"
   },
   "outputs": [
    {
     "name": "stdout",
     "output_type": "stream",
     "text": [
      "বংশী বাংলাদেশের একটি ক্ষুদ্রতম উপজাতি। এরা টাঙ্গাইল জেলার \"মহানান্দপুর\" এবং \"দন্দোনিয়া\" নামে পাশাপাশি দুইটি গ্রামের বসবাস করে। তারা নিজেদেরকে \"সূর্য-বংশী\" বলে থাকে।\n",
      "\n"
     ]
    }
   ],
   "source": [
    "print(df.iloc[:1]['text'][0])"
   ]
  },
  {
   "cell_type": "code",
   "execution_count": 0,
   "metadata": {
    "colab": {},
    "colab_type": "code",
    "id": "6VByS5cLOEAJ"
   },
   "outputs": [],
   "source": [
    "df.to_csv(wiki/'wiki_lm.csv',index=False)"
   ]
  },
  {
   "cell_type": "code",
   "execution_count": 0,
   "metadata": {
    "colab": {
     "base_uri": "https://localhost:8080/",
     "height": 206
    },
    "colab_type": "code",
    "id": "3etW29hUOeNk",
    "outputId": "29bbb141-bc25-41eb-ffff-9bbf1b9e7ae6"
   },
   "outputs": [
    {
     "data": {
      "text/html": [
       "<div>\n",
       "<style scoped>\n",
       "    .dataframe tbody tr th:only-of-type {\n",
       "        vertical-align: middle;\n",
       "    }\n",
       "\n",
       "    .dataframe tbody tr th {\n",
       "        vertical-align: top;\n",
       "    }\n",
       "\n",
       "    .dataframe thead th {\n",
       "        text-align: right;\n",
       "    }\n",
       "</style>\n",
       "<table border=\"1\" class=\"dataframe\">\n",
       "  <thead>\n",
       "    <tr style=\"text-align: right;\">\n",
       "      <th></th>\n",
       "      <th>label</th>\n",
       "      <th>text</th>\n",
       "    </tr>\n",
       "  </thead>\n",
       "  <tbody>\n",
       "    <tr>\n",
       "      <th>0</th>\n",
       "      <td>0</td>\n",
       "      <td>বংশী বাংলাদেশের একটি ক্ষুদ্রতম উপজাতি। এরা টাঙ...</td>\n",
       "    </tr>\n",
       "    <tr>\n",
       "      <th>1</th>\n",
       "      <td>0</td>\n",
       "      <td>আবহাওয়াবিদ্যা (বা আবহবিদ্যা) মানে এককথায় আবহ...</td>\n",
       "    </tr>\n",
       "    <tr>\n",
       "      <th>2</th>\n",
       "      <td>0</td>\n",
       "      <td>কোরিয়ার ওয়ার্কার্স পার্টি হল গণতান্ত্রিক গণপ...</td>\n",
       "    </tr>\n",
       "    <tr>\n",
       "      <th>3</th>\n",
       "      <td>0</td>\n",
       "      <td>মোহাম্মদ মোস্তফা কামাল (১৬ ডিসেম্বর ১৯৪৭ - এপ্...</td>\n",
       "    </tr>\n",
       "    <tr>\n",
       "      <th>4</th>\n",
       "      <td>0</td>\n",
       "      <td>মণিপুরী সংস্কৃতির উজ্জ্বলতম দিক হলো মণিপুরী নৃ...</td>\n",
       "    </tr>\n",
       "  </tbody>\n",
       "</table>\n",
       "</div>"
      ],
      "text/plain": [
       "   label                                               text\n",
       "0      0  বংশী বাংলাদেশের একটি ক্ষুদ্রতম উপজাতি। এরা টাঙ...\n",
       "1      0  আবহাওয়াবিদ্যা (বা আবহবিদ্যা) মানে এককথায় আবহ...\n",
       "2      0  কোরিয়ার ওয়ার্কার্স পার্টি হল গণতান্ত্রিক গণপ...\n",
       "3      0  মোহাম্মদ মোস্তফা কামাল (১৬ ডিসেম্বর ১৯৪৭ - এপ্...\n",
       "4      0  মণিপুরী সংস্কৃতির উজ্জ্বলতম দিক হলো মণিপুরী নৃ..."
      ]
     },
     "execution_count": 15,
     "metadata": {
      "tags": []
     },
     "output_type": "execute_result"
    }
   ],
   "source": [
    "df = pd.read_csv(wiki/'wiki_lm.csv')\n",
    "df.head()"
   ]
  },
  {
   "cell_type": "code",
   "execution_count": 0,
   "metadata": {
    "colab": {
     "base_uri": "https://localhost:8080/",
     "height": 34
    },
    "colab_type": "code",
    "id": "zuOzhvLeOC22",
    "outputId": "6775a412-9bfe-4edf-c6de-3872a1d0dcfd"
   },
   "outputs": [
    {
     "data": {
      "text/plain": [
       "18229727"
      ]
     },
     "execution_count": 16,
     "metadata": {
      "tags": []
     },
     "output_type": "execute_result"
    }
   ],
   "source": [
    "df['text'].apply(lambda x: len(str(x).split())).sum() #total words"
   ]
  },
  {
   "cell_type": "code",
   "execution_count": 0,
   "metadata": {
    "colab": {
     "base_uri": "https://localhost:8080/",
     "height": 34
    },
    "colab_type": "code",
    "id": "sGCEmwavPsIN",
    "outputId": "49464008-e946-437f-daf4-601443976942"
   },
   "outputs": [
    {
     "data": {
      "text/plain": [
       "1289249"
      ]
     },
     "execution_count": 17,
     "metadata": {
      "tags": []
     },
     "output_type": "execute_result"
    }
   ],
   "source": [
    "len(set(' '.join(str(y) for y in df['text'].values).split())) #unique words"
   ]
  },
  {
   "cell_type": "markdown",
   "metadata": {
    "colab_type": "text",
    "id": "_zbOxiFTSH7G"
   },
   "source": [
    "#### Sentence separation (for sentence piece)"
   ]
  },
  {
   "cell_type": "code",
   "execution_count": 0,
   "metadata": {
    "colab": {},
    "colab_type": "code",
    "id": "g2bW1Bu75e-4"
   },
   "outputs": [],
   "source": [
    "def sent(s):\n",
    "  global ls\n",
    "  s = str(s).split('।')\n",
    "  s = [ss+'।' for ss in s]\n",
    "  ls = ls + s"
   ]
  },
  {
   "cell_type": "code",
   "execution_count": 0,
   "metadata": {
    "colab": {},
    "colab_type": "code",
    "id": "jWZx10JY5Kfc"
   },
   "outputs": [],
   "source": [
    "ls =[]\n",
    "df['text'].apply(sent); # Quite long time!"
   ]
  },
  {
   "cell_type": "code",
   "execution_count": 0,
   "metadata": {
    "colab": {
     "base_uri": "https://localhost:8080/",
     "height": 34
    },
    "colab_type": "code",
    "id": "0XFcjgZBEInl",
    "outputId": "e7f958b4-d3e7-466b-8f47-0dfe3b008b4a"
   },
   "outputs": [
    {
     "data": {
      "text/plain": [
       "1308076"
      ]
     },
     "execution_count": 20,
     "metadata": {
      "tags": []
     },
     "output_type": "execute_result"
    }
   ],
   "source": [
    "len(ls)"
   ]
  },
  {
   "cell_type": "code",
   "execution_count": 0,
   "metadata": {
    "colab": {
     "base_uri": "https://localhost:8080/",
     "height": 104
    },
    "colab_type": "code",
    "id": "PB5fqm1F8UVd",
    "outputId": "94109f42-4c29-40cf-b643-e64287cb5ef9"
   },
   "outputs": [
    {
     "data": {
      "text/plain": [
       "['বংশী বাংলাদেশের একটি ক্ষুদ্রতম উপজাতি।',\n",
       " ' এরা টাঙ্গাইল জেলার \"মহানান্দপুর\" এবং \"দন্দোনিয়া\" নামে পাশাপাশি দুইটি গ্রামের বসবাস করে।',\n",
       " ' তারা নিজেদেরকে \"সূর্য-বংশী\" বলে থাকে।',\n",
       " '\\n।',\n",
       " 'আবহাওয়াবিদ্যা (বা আবহবিদ্যা) মানে এককথায় আবহাওয়া সম্পর্কিত বিজ্ঞানকে আবহাওয়াবিদ্যা বলে।']"
      ]
     },
     "execution_count": 21,
     "metadata": {
      "tags": []
     },
     "output_type": "execute_result"
    }
   ],
   "source": [
    "ls[:5]"
   ]
  },
  {
   "cell_type": "code",
   "execution_count": 0,
   "metadata": {
    "colab": {},
    "colab_type": "code",
    "id": "gwuk48wYClge"
   },
   "outputs": [],
   "source": [
    "sv = pd.DataFrame({'text':ls})\n",
    "sv.to_csv(wiki/'wiki_sents.csv',index=False)"
   ]
  },
  {
   "cell_type": "code",
   "execution_count": 0,
   "metadata": {
    "colab": {
     "base_uri": "https://localhost:8080/",
     "height": 206
    },
    "colab_type": "code",
    "id": "iLorxmLYCa36",
    "outputId": "38693403-2a66-4eb6-a5bf-5402e3f4c590"
   },
   "outputs": [
    {
     "data": {
      "text/html": [
       "<div>\n",
       "<style scoped>\n",
       "    .dataframe tbody tr th:only-of-type {\n",
       "        vertical-align: middle;\n",
       "    }\n",
       "\n",
       "    .dataframe tbody tr th {\n",
       "        vertical-align: top;\n",
       "    }\n",
       "\n",
       "    .dataframe thead th {\n",
       "        text-align: right;\n",
       "    }\n",
       "</style>\n",
       "<table border=\"1\" class=\"dataframe\">\n",
       "  <thead>\n",
       "    <tr style=\"text-align: right;\">\n",
       "      <th></th>\n",
       "      <th>text</th>\n",
       "    </tr>\n",
       "  </thead>\n",
       "  <tbody>\n",
       "    <tr>\n",
       "      <th>0</th>\n",
       "      <td>বংশী বাংলাদেশের একটি ক্ষুদ্রতম উপজাতি।</td>\n",
       "    </tr>\n",
       "    <tr>\n",
       "      <th>1</th>\n",
       "      <td>এরা টাঙ্গাইল জেলার \"মহানান্দপুর\" এবং \"দন্দোনি...</td>\n",
       "    </tr>\n",
       "    <tr>\n",
       "      <th>2</th>\n",
       "      <td>তারা নিজেদেরকে \"সূর্য-বংশী\" বলে থাকে।</td>\n",
       "    </tr>\n",
       "    <tr>\n",
       "      <th>3</th>\n",
       "      <td>\\n।</td>\n",
       "    </tr>\n",
       "    <tr>\n",
       "      <th>4</th>\n",
       "      <td>আবহাওয়াবিদ্যা (বা আবহবিদ্যা) মানে এককথায় আবহ...</td>\n",
       "    </tr>\n",
       "  </tbody>\n",
       "</table>\n",
       "</div>"
      ],
      "text/plain": [
       "                                                text\n",
       "0             বংশী বাংলাদেশের একটি ক্ষুদ্রতম উপজাতি।\n",
       "1   এরা টাঙ্গাইল জেলার \"মহানান্দপুর\" এবং \"দন্দোনি...\n",
       "2              তারা নিজেদেরকে \"সূর্য-বংশী\" বলে থাকে।\n",
       "3                                                \\n।\n",
       "4  আবহাওয়াবিদ্যা (বা আবহবিদ্যা) মানে এককথায় আবহ..."
      ]
     },
     "execution_count": 36,
     "metadata": {
      "tags": []
     },
     "output_type": "execute_result"
    }
   ],
   "source": [
    "sv = pd.read_csv(wiki/'wiki_sents.csv')\n",
    "sv.head()"
   ]
  },
  {
   "cell_type": "code",
   "execution_count": 0,
   "metadata": {
    "colab": {
     "base_uri": "https://localhost:8080/",
     "height": 34
    },
    "colab_type": "code",
    "id": "0MURWXKLCmHg",
    "outputId": "fd0bf53e-f968-4bf6-aa2c-375f21895262"
   },
   "outputs": [
    {
     "data": {
      "text/plain": [
       "1308076"
      ]
     },
     "execution_count": 24,
     "metadata": {
      "tags": []
     },
     "output_type": "execute_result"
    }
   ],
   "source": [
    "len(sv)"
   ]
  },
  {
   "cell_type": "code",
   "execution_count": 0,
   "metadata": {
    "colab": {
     "base_uri": "https://localhost:8080/",
     "height": 104
    },
    "colab_type": "code",
    "id": "490QLxku8gE6",
    "outputId": "966eefb5-2372-404d-cd1e-c529af9368b2"
   },
   "outputs": [
    {
     "data": {
      "text/plain": [
       "[<function fastai.text.transform.fix_html>,\n",
       " <function fastai.text.transform.replace_rep>,\n",
       " <function fastai.text.transform.replace_wrep>,\n",
       " <function fastai.text.transform.spec_add_spaces>,\n",
       " <function fastai.text.transform.rm_useless_spaces>]"
      ]
     },
     "execution_count": 25,
     "metadata": {
      "tags": []
     },
     "output_type": "execute_result"
    }
   ],
   "source": [
    "defaults.text_pre_rules"
   ]
  },
  {
   "cell_type": "code",
   "execution_count": 0,
   "metadata": {
    "colab": {},
    "colab_type": "code",
    "id": "wHDKwsI69Oeo"
   },
   "outputs": [],
   "source": [
    "for rule in defaults.text_pre_rules:\n",
    "    sv['text']=sv['text'].apply(lambda x: rule(str(x)))"
   ]
  },
  {
   "cell_type": "code",
   "execution_count": 0,
   "metadata": {
    "colab": {},
    "colab_type": "code",
    "id": "WyplD-9ZJ9eG"
   },
   "outputs": [],
   "source": [
    "sv['text'] = sv['text'].apply(lambda x: '<s>'+x+'</s>');"
   ]
  },
  {
   "cell_type": "code",
   "execution_count": 0,
   "metadata": {
    "colab": {
     "base_uri": "https://localhost:8080/",
     "height": 34
    },
    "colab_type": "code",
    "id": "Y2kj2D8B9rxw",
    "outputId": "1a76b9d4-fef6-45af-a5c4-5034d8c9e1f2"
   },
   "outputs": [
    {
     "data": {
      "text/plain": [
       "'<s>বংশী বাংলাদেশের একটি ক্ষুদ্রতম উপজাতি।</s>'"
      ]
     },
     "execution_count": 28,
     "metadata": {
      "tags": []
     },
     "output_type": "execute_result"
    }
   ],
   "source": [
    "sv.head(1)['text'][0]"
   ]
  },
  {
   "cell_type": "code",
   "execution_count": 0,
   "metadata": {
    "colab": {},
    "colab_type": "code",
    "id": "V2Jr0Cgo_Zgd"
   },
   "outputs": [],
   "source": [
    "file = 'formatted_wiki_sents.csv'"
   ]
  },
  {
   "cell_type": "code",
   "execution_count": 0,
   "metadata": {
    "colab": {},
    "colab_type": "code",
    "id": "CBIWoI_O9ssn"
   },
   "outputs": [],
   "source": [
    "## Saving the file\n",
    "sv.to_csv(wiki/file,index=False)"
   ]
  },
  {
   "cell_type": "code",
   "execution_count": 0,
   "metadata": {
    "colab": {
     "base_uri": "https://localhost:8080/",
     "height": 206
    },
    "colab_type": "code",
    "id": "r8fUxF0WR7Hz",
    "outputId": "4216ac9a-f9e5-4223-8cc3-70ee4c847d19"
   },
   "outputs": [
    {
     "data": {
      "text/html": [
       "<div>\n",
       "<style scoped>\n",
       "    .dataframe tbody tr th:only-of-type {\n",
       "        vertical-align: middle;\n",
       "    }\n",
       "\n",
       "    .dataframe tbody tr th {\n",
       "        vertical-align: top;\n",
       "    }\n",
       "\n",
       "    .dataframe thead th {\n",
       "        text-align: right;\n",
       "    }\n",
       "</style>\n",
       "<table border=\"1\" class=\"dataframe\">\n",
       "  <thead>\n",
       "    <tr style=\"text-align: right;\">\n",
       "      <th></th>\n",
       "      <th>text</th>\n",
       "    </tr>\n",
       "  </thead>\n",
       "  <tbody>\n",
       "    <tr>\n",
       "      <th>0</th>\n",
       "      <td>&lt;s&gt;বংশী বাংলাদেশের একটি ক্ষুদ্রতম উপজাতি।&lt;/s&gt;</td>\n",
       "    </tr>\n",
       "    <tr>\n",
       "      <th>1</th>\n",
       "      <td>&lt;s&gt; এরা টাঙ্গাইল জেলার \"মহানান্দপুর\" এবং \"দন্দ...</td>\n",
       "    </tr>\n",
       "    <tr>\n",
       "      <th>2</th>\n",
       "      <td>&lt;s&gt; তারা নিজেদেরকে \"সূর্য-বংশী\" বলে থাকে।&lt;/s&gt;</td>\n",
       "    </tr>\n",
       "    <tr>\n",
       "      <th>3</th>\n",
       "      <td>&lt;s&gt; \\n ।&lt;/s&gt;</td>\n",
       "    </tr>\n",
       "    <tr>\n",
       "      <th>4</th>\n",
       "      <td>&lt;s&gt;আবহাওয়াবিদ্যা (বা আবহবিদ্যা) মানে এককথায় ...</td>\n",
       "    </tr>\n",
       "  </tbody>\n",
       "</table>\n",
       "</div>"
      ],
      "text/plain": [
       "                                                text\n",
       "0      <s>বংশী বাংলাদেশের একটি ক্ষুদ্রতম উপজাতি।</s>\n",
       "1  <s> এরা টাঙ্গাইল জেলার \"মহানান্দপুর\" এবং \"দন্দ...\n",
       "2      <s> তারা নিজেদেরকে \"সূর্য-বংশী\" বলে থাকে।</s>\n",
       "3                                       <s> \\n ।</s>\n",
       "4  <s>আবহাওয়াবিদ্যা (বা আবহবিদ্যা) মানে এককথায় ..."
      ]
     },
     "execution_count": 31,
     "metadata": {
      "tags": []
     },
     "output_type": "execute_result"
    }
   ],
   "source": [
    "sv = pd.read_csv(wiki/file)\n",
    "sv.head()"
   ]
  },
  {
   "cell_type": "code",
   "execution_count": 0,
   "metadata": {
    "colab": {
     "base_uri": "https://localhost:8080/",
     "height": 52
    },
    "colab_type": "code",
    "id": "PjzMZIgxYyv6",
    "outputId": "3aa77481-44ae-4dc1-91b0-76e3d2111094"
   },
   "outputs": [
    {
     "name": "stdout",
     "output_type": "stream",
     "text": [
      "70623\n",
      "70377\n"
     ]
    }
   ],
   "source": [
    "df=pd.read_csv(wiki/'wiki_lm.csv')\n",
    "print(len(df))\n",
    "df=df.dropna()\n",
    "print(len(df))"
   ]
  },
  {
   "cell_type": "code",
   "execution_count": 0,
   "metadata": {
    "colab": {},
    "colab_type": "code",
    "id": "AZyCGUX7ZN4B"
   },
   "outputs": [],
   "source": [
    "df.to_csv(wiki/'wiki_lm.csv',index=False)"
   ]
  },
  {
   "cell_type": "markdown",
   "metadata": {
    "colab_type": "text",
    "id": "UnZ6KC-VTeo-"
   },
   "source": [
    "### load and save to current dir(no rerun-for sp)"
   ]
  },
  {
   "cell_type": "code",
   "execution_count": 0,
   "metadata": {
    "colab": {},
    "colab_type": "code",
    "id": "Fqs7DF47GwKT"
   },
   "outputs": [],
   "source": [
    "file = 'formatted_wiki_sents.csv'\n",
    "sv = pd.read_csv(wiki/file);\n",
    "sv.to_csv(file,index=False) # to save in current directory"
   ]
  },
  {
   "cell_type": "markdown",
   "metadata": {
    "colab_type": "text",
    "id": "TV1DGq8h-fq_"
   },
   "source": [
    "## Training"
   ]
  },
  {
   "cell_type": "code",
   "execution_count": 0,
   "metadata": {
    "colab": {},
    "colab_type": "code",
    "id": "1hvRe6oT-fBH"
   },
   "outputs": [],
   "source": [
    "vocab_size = 30000\n",
    "model_prefix = 'sp_wiki'"
   ]
  },
  {
   "cell_type": "code",
   "execution_count": 0,
   "metadata": {
    "colab": {
     "base_uri": "https://localhost:8080/",
     "height": 34
    },
    "colab_type": "code",
    "id": "burEPtGP-jyR",
    "outputId": "e594b237-5611-4919-b33e-fcf4345e9c1d"
   },
   "outputs": [
    {
     "data": {
      "text/plain": [
       "True"
      ]
     },
     "execution_count": 38,
     "metadata": {
      "tags": []
     },
     "output_type": "execute_result"
    }
   ],
   "source": [
    "spm.SentencePieceTrainer.Train(f'--input={file}'\\\n",
    "                               f' --model_prefix={model_prefix}'\\\n",
    "                               f' --vocab_size={vocab_size}')\n",
    "#                               f'--unk_piece={UNK} --bos_piece={BOS} --eos_id=-1 --pad_piece={PAD}')"
   ]
  },
  {
   "cell_type": "code",
   "execution_count": 0,
   "metadata": {
    "colab": {
     "base_uri": "https://localhost:8080/",
     "height": 187
    },
    "colab_type": "code",
    "id": "J-MFdg_j_iXz",
    "outputId": "34eb7f10-5ad9-4cb6-cac8-5b8bea1bb8f3"
   },
   "outputs": [
    {
     "name": "stdout",
     "output_type": "stream",
     "text": [
      "     1\t<unk>\t0\n",
      "     2\t<s>\t0\n",
      "     3\t</s>\t0\n",
      "     4\t▁\t-1.90557\n",
      "     5\t।\t-3.15283\n",
      "     6\t\"\t-3.81331\n",
      "     7\t,\t-3.96524\n",
      "     8\t▁\"\t-4.22165\n",
      "     9\tের\t-4.61577\n",
      "    10\tর\t-4.77473\n"
     ]
    }
   ],
   "source": [
    "#Head of the Vocab file: Line nums indicate index of vocab\n",
    "!head -n10 {model_prefix}.vocab | nl"
   ]
  },
  {
   "cell_type": "code",
   "execution_count": 9,
   "metadata": {
    "colab": {
     "base_uri": "https://localhost:8080/",
     "height": 34
    },
    "colab_type": "code",
    "id": "t-VTowpvBDya",
    "outputId": "59ac59a4-2dec-4cc5-a406-0dba17f5163d"
   },
   "outputs": [
    {
     "data": {
      "text/plain": [
       "True"
      ]
     },
     "execution_count": 9,
     "metadata": {
      "tags": []
     },
     "output_type": "execute_result"
    }
   ],
   "source": [
    "## load up the Processor\n",
    "sp = spm.SentencePieceProcessor()\n",
    "sp.load(f'{model_prefix}.model')"
   ]
  },
  {
   "cell_type": "code",
   "execution_count": 0,
   "metadata": {
    "colab": {},
    "colab_type": "code",
    "id": "7f25k7nxP1oS"
   },
   "outputs": [],
   "source": [
    "itos = [] #{}\n",
    "with open(f'{model_prefix}.vocab','r') as f:\n",
    "    for line_num,line in enumerate(f):\n",
    "        itos.append(line.split(\"\\t\")[0])"
   ]
  },
  {
   "cell_type": "code",
   "execution_count": 11,
   "metadata": {
    "colab": {
     "base_uri": "https://localhost:8080/",
     "height": 34
    },
    "colab_type": "code",
    "id": "cJg3UrwIJxLQ",
    "outputId": "ba675f26-45ae-43c8-b782-25987a945b2a"
   },
   "outputs": [
    {
     "data": {
      "text/plain": [
       "30000"
      ]
     },
     "execution_count": 11,
     "metadata": {
      "tags": []
     },
     "output_type": "execute_result"
    }
   ],
   "source": [
    "len(itos)"
   ]
  },
  {
   "cell_type": "code",
   "execution_count": 12,
   "metadata": {
    "colab": {
     "base_uri": "https://localhost:8080/",
     "height": 51
    },
    "colab_type": "code",
    "id": "MPoVAW2EJzyG",
    "outputId": "1564e009-0895-4f42-c594-0869fc297182"
   },
   "outputs": [
    {
     "data": {
      "text/plain": [
       "(['<unk>', '<s>', '</s>', '▁', '।'],\n",
       " ['এইচএসপিএ', '▁ইকরিমা', '▁উস্কানি', '▁বাদানুবাদ', '/'])"
      ]
     },
     "execution_count": 12,
     "metadata": {
      "tags": []
     },
     "output_type": "execute_result"
    }
   ],
   "source": [
    "itos[:5], itos[-5:]"
   ]
  },
  {
   "cell_type": "code",
   "execution_count": 0,
   "metadata": {
    "colab": {},
    "colab_type": "code",
    "id": "9pw4ZtL4blcM"
   },
   "outputs": [],
   "source": [
    "class SPTokenizer(BaseTokenizer):\n",
    "    \"Wrapper around a SentncePiece tokenizer to make it a `BaseTokenizer`.\"\n",
    "    def __init__(self, model_prefix:str):\n",
    "        self.tok = spm.SentencePieceProcessor()\n",
    "        self.tok.load(f'{model_prefix}.model')\n",
    "\n",
    "    def tokenizer(self, t:str) -> List[str]:\n",
    "        return self.tok.EncodeAsPieces(t)\n",
    "    \n",
    "class CustomTokenizer():\n",
    "    '''Wrapper for SentencePiece toeknizer to fit into Fast.ai V1'''\n",
    "    def __init__(self,tok_func:Callable,model_prefix:str, pre_rules:ListRules=None):\n",
    "        self.tok_func,self.model_prefix = tok_func,model_prefix\n",
    "        self.pre_rules  = ifnone(pre_rules,  defaults.text_pre_rules )\n",
    "        \n",
    "    def __repr__(self) -> str:\n",
    "        res = f'Tokenizer {self.tok_func.__name__} using `{self.model_prefix}` model with the following rules:\\n'\n",
    "        for rule in self.pre_rules: res += f' - {rule.__name__}\\n'\n",
    "        return res        \n",
    "\n",
    "    def process_text(self, t:str,tok:BaseTokenizer) -> List[str]:\n",
    "        \"Processe one text `t` with tokenizer `tok`.\"\n",
    "        for rule in self.pre_rules: t = rule(t)  \n",
    "        toks = tok.tokenizer(t)\n",
    "        #post rules?\n",
    "        return toks \n",
    "    \n",
    "    def _process_all_1(self,texts:Collection[str]) -> List[List[str]]:\n",
    "        'Process a list of `texts` in one process'\n",
    "        tok = self.tok_func(self.model_prefix)\n",
    "        return [self.process_text(t,tok) for t in texts]\n",
    "                                                                     \n",
    "    def process_all(self, texts:Collection[str]) -> List[List[str]]: \n",
    "        \"Process a list of `texts`.\"                                 \n",
    "        return self._process_all_1(texts)"
   ]
  },
  {
   "cell_type": "code",
   "execution_count": 0,
   "metadata": {
    "colab": {},
    "colab_type": "code",
    "id": "dmAYJI8mBZwa"
   },
   "outputs": [],
   "source": [
    "#setup Vocab object for use in LM\n",
    "sp_vocab = Vocab(itos)"
   ]
  },
  {
   "cell_type": "code",
   "execution_count": 0,
   "metadata": {
    "colab": {},
    "colab_type": "code",
    "id": "VPhGAOe8AMCV"
   },
   "outputs": [],
   "source": [
    "mycust_tok = CustomTokenizer(SPTokenizer,model_prefix)"
   ]
  },
  {
   "cell_type": "code",
   "execution_count": 0,
   "metadata": {
    "colab": {},
    "colab_type": "code",
    "id": "Bdf_f-e1P9fk"
   },
   "outputs": [],
   "source": [
    "bs = 32\n",
    "bptt = 70"
   ]
  },
  {
   "cell_type": "markdown",
   "metadata": {
    "colab_type": "text",
    "id": "56qSVYLETsLJ"
   },
   "source": [
    "### Wiki LM (ULM)"
   ]
  },
  {
   "cell_type": "code",
   "execution_count": 0,
   "metadata": {
    "colab": {},
    "colab_type": "code",
    "id": "1DtNJ75fQCBf"
   },
   "outputs": [],
   "source": [
    "data_lm = TextLMDataBunch.from_csv(wiki , 'wiki_lm.csv', bs=bs , bptt=bptt,tokenizer=mycust_tok, vocab=sp_vocab)\n",
    "data_lm.save('wiki_subword.pkl')"
   ]
  },
  {
   "cell_type": "code",
   "execution_count": 0,
   "metadata": {
    "colab": {},
    "colab_type": "code",
    "id": "f6ImvEsQ7B9M"
   },
   "outputs": [],
   "source": [
    "data_lm = load_data(wiki, 'wiki_subword.pkl',bs=bs)"
   ]
  },
  {
   "cell_type": "code",
   "execution_count": 0,
   "metadata": {
    "colab": {
     "base_uri": "https://localhost:8080/",
     "height": 34
    },
    "colab_type": "code",
    "id": "m_EZ6jdsE_bW",
    "outputId": "d4ef3da7-0e5a-4330-d354-657bf702e04c"
   },
   "outputs": [
    {
     "data": {
      "text/plain": [
       "30000"
      ]
     },
     "execution_count": 30,
     "metadata": {
      "tags": []
     },
     "output_type": "execute_result"
    }
   ],
   "source": [
    "len(data_lm.train_dl.vocab.itos)"
   ]
  },
  {
   "cell_type": "code",
   "execution_count": 0,
   "metadata": {
    "colab": {
     "base_uri": "https://localhost:8080/",
     "height": 328
    },
    "colab_type": "code",
    "id": "7I6JBz7VBfUa",
    "outputId": "7545f570-7117-4f91-ddcc-5f3aa0c54f72"
   },
   "outputs": [
    {
     "data": {
      "text/html": [
       "<table border=\"1\" class=\"dataframe\">\n",
       "  <thead>\n",
       "    <tr style=\"text-align: right;\">\n",
       "      <th>idx</th>\n",
       "      <th>text</th>\n",
       "    </tr>\n",
       "  </thead>\n",
       "  <tbody>\n",
       "    <tr>\n",
       "      <td>0</td>\n",
       "      <td>▁অভয়ারণ্য ের ▁দুরত্ব ▁এক ▁কিলোমিটার । ▁১৯৭৮ ▁সালে ▁এই ▁অভয়ারণ্য ে ▁চিত্রা ▁হরিণ ▁এবং ▁মায়া ▁হরিণ ▁ছাড়া ▁হয় । ▁১৯৮৮ ▁সালের ▁হিসাবে ▁সেখানে ▁২৭ টি ▁চিত্রা ▁হরিণ , ▁৮টি ▁মায়া ▁হরিণ ▁এবং ▁১টি ▁কৃষ্ণ সার ▁ছিলো । ▁xx bo s ▁আবদুর ▁রো উ ফ ▁সরকার ▁( জন্ম : ▁১৩ ▁ফেব্রুয়ারি ▁১৯৪৬ , ▁মৃত্যু : ▁২৪ ▁এপ্রিল ▁২০১১ ) ▁একজন ▁বাংলাদেশের ▁অন্যতম ▁শ্রেষ্ঠ ▁প্রচ্ছদ শিল্পী ▁ছিলেন । ▁পেশায় ▁তিনি ▁জাতীয় ▁গ্রন্থ</td>\n",
       "    </tr>\n",
       "    <tr>\n",
       "      <td>1</td>\n",
       "      <td>▁জয় ▁করতে ▁সক্ষম ▁হন । ▁দামেস্ক ের ▁পতনের ▁সংবাদ ▁পাওয়ার ▁পর ▁হেরাক্লিয়াস ▁এম ে সা ▁থেকে ▁এন্টিওক ের ▁উদ্দেশ্যে ▁যাত্রা ▁করেন । ▁বার্ষিক ▁করে র ▁বিনিময়ে ▁নাগরিকদের ▁শান্তি তে ▁বসবাসের ▁সুযোগ ▁দেওয়া ▁হয় । ▁দূরে ▁চলে ▁যাওয়ার ▁জন্য ▁বাইজেন্টাইন ▁সেনাবাহিনীকে ▁দেওয়া ▁হয় ▁তিন ▁দিনের ▁সুযোগ । ▁এই ▁সময়সীমা ▁শেষ ▁হওয়ার ▁পর ▁খালিদ ের ▁নেতৃত্বে ▁দামেস্ক ের ▁১৯ ০ ▁মাইল ▁উত্তরে ▁বাইজেন্টাইনদের ▁সাথে ▁মার জ ▁আল ▁দিবা জের ▁যুদ্ধ ▁সংঘটিত ▁হয়</td>\n",
       "    </tr>\n",
       "    <tr>\n",
       "      <td>2</td>\n",
       "      <td>▁সম্যক ▁বা ▁ চেতন গুরু ▁হিসেবে ▁অভিহিত ▁করেন , ▁হযরত ▁বাবা জান সহ ▁তাজ উদ্দিন ▁বাবা , ▁নারায়ণ ▁মহারাজ , ▁শির ডি র ▁সাঁ ই ▁বাবা ▁এবং ▁উপ া স্ নি ▁মহারাজ ▁উল্লেখযোগ্য । P ur dom ▁(19 64 ) ▁p . ▁27 0 ▁উপ া স্ নি ▁মহারাজ , ▁তার ▁ভাষ্য ▁মতে , ▁আ ধ্যা ত্ব িক ▁অনুভব কে ▁স্বাভাবিক ▁জীবনের ▁সাথে ▁একত্রিত ▁করার ▁ক্ষেত্রে ▁তাকে ▁সাহায্য ▁করেন ▁যা</td>\n",
       "    </tr>\n",
       "    <tr>\n",
       "      <td>3</td>\n",
       "      <td>▁ফরাসী ▁উদ্ভিদ বিদ ▁এবং ▁ভূ তত্ত্ববিদ ▁পি য়ের ▁বই ট ার্ড ের ▁' প্যারিস ▁অ্যা ভো ঁ ▁লে সো ম্ব ' ▁রচনা টিতে ▁কাহিনীর ▁মূল ▁চরিত্রের ▁প্রাগৈতিহাসিক ▁প্যারিস ▁নগর ▁ভ্রমণের ▁এক ▁সুন্দর ▁বর্ণনা ▁ফুটে ▁উঠেছে । ▁এ ▁ছাড়াও ▁চার্লস ▁ ডিকেন্স ের ▁' আ ▁ক্রিসমাস ▁ক্যারল ' , ' নিউ ▁ মান্ থলি ▁ম্যাগাজিন ' ▁এ ▁প্রকাশিত ▁স্বনামধন্য ▁মার্কিন ▁লেখক ▁এডওয়ার্ড ▁হেল ের ▁' হ্যান্ড স ▁অফ ' ▁এবং ▁আরও</td>\n",
       "    </tr>\n",
       "    <tr>\n",
       "      <td>4</td>\n",
       "      <td>বদ্ধ ▁হয়ে ▁আগ্রা য় ▁প্রেরিত ▁হন । ▁পথে ▁বারাণসী তে ▁মত ্যু । ▁বয়স ▁৫০ ▁বছর । ▁* ▁করিম পুর : ▁যশোর ের ▁রাজা ▁প্রতাপাদিত্য ের ▁দেওয়ান ▁বাড়ির ▁দুর্গা পু জো কে ▁ঘিরে ▁আজও ▁মে তে ▁ওঠেন ▁এলাকার ▁মানুষ । ▁১৫ ৭৬ ▁সাল , ▁ দিল্লির ▁ ম সন দে ▁মোঘল ▁সম্রাট ▁আকবর । ▁রাজ্য ▁বিস্তারের ▁জন্য ▁তাঁর ▁মোঘল ▁সেনারা ▁দিকে ▁দিকে ▁ছুটে ▁বেড়া চ্ছে । ▁ছোট ▁ছোট ▁রাজারা ▁বশ্যতা</td>\n",
       "    </tr>\n",
       "  </tbody>\n",
       "</table>"
      ],
      "text/plain": [
       "<IPython.core.display.HTML object>"
      ]
     },
     "metadata": {
      "tags": []
     },
     "output_type": "display_data"
    }
   ],
   "source": [
    "data_lm.show_batch()"
   ]
  },
  {
   "cell_type": "code",
   "execution_count": 0,
   "metadata": {
    "colab": {},
    "colab_type": "code",
    "id": "LKtOIOHz69hn"
   },
   "outputs": [],
   "source": [
    "learn = language_model_learner(data_lm, AWD_LSTM, pretrained=False, drop_mult=0.5)"
   ]
  },
  {
   "cell_type": "code",
   "execution_count": 0,
   "metadata": {
    "colab": {
     "base_uri": "https://localhost:8080/",
     "height": 300
    },
    "colab_type": "code",
    "id": "XTxoBCAiEX57",
    "outputId": "82fff5d0-2f2b-41c7-aac9-a53c8074b18f"
   },
   "outputs": [
    {
     "data": {
      "text/html": [],
      "text/plain": [
       "<IPython.core.display.HTML object>"
      ]
     },
     "metadata": {
      "tags": []
     },
     "output_type": "display_data"
    },
    {
     "name": "stdout",
     "output_type": "stream",
     "text": [
      "LR Finder is complete, type {learner_name}.recorder.plot() to see the graph.\n"
     ]
    },
    {
     "data": {
      "image/png": "[encoded data removed]",
      "text/plain": [
       "<Figure size 432x288 with 1 Axes>"
      ]
     },
     "metadata": {
      "tags": []
     },
     "output_type": "display_data"
    }
   ],
   "source": [
    "learn.lr_find();\n",
    "learn.recorder.plot();"
   ]
  },
  {
   "cell_type": "code",
   "execution_count": 0,
   "metadata": {
    "colab": {
     "base_uri": "https://localhost:8080/",
     "height": 283
    },
    "colab_type": "code",
    "id": "SOm8FlbtZJ_A",
    "outputId": "fc6a937c-4832-4f88-f2bf-915b4f4ae14f"
   },
   "outputs": [
    {
     "data": {
      "image/png": "[encoded data removed]",
      "text/plain": [
       "<Figure size 432x288 with 1 Axes>"
      ]
     },
     "metadata": {
      "tags": []
     },
     "output_type": "display_data"
    }
   ],
   "source": [
    "learn.recorder.plot(skip_end=10)"
   ]
  },
  {
   "cell_type": "markdown",
   "metadata": {
    "colab_type": "text",
    "id": "LPaU82IuMJRa"
   },
   "source": [
    "#### epochs"
   ]
  },
  {
   "cell_type": "code",
   "execution_count": 0,
   "metadata": {
    "colab": {},
    "colab_type": "code",
    "id": "umsoRNxtTMpO"
   },
   "outputs": [],
   "source": [
    "learn.unfreeze()\n",
    "learn.load('wiki_subword_lm');"
   ]
  },
  {
   "cell_type": "code",
   "execution_count": 0,
   "metadata": {
    "colab": {
     "base_uri": "https://localhost:8080/",
     "height": 332
    },
    "colab_type": "code",
    "id": "1vQy8XpsGtBR",
    "outputId": "0e0bd1fd-adb1-4196-9d9b-8723c157ed34"
   },
   "outputs": [
    {
     "data": {
      "text/html": [
       "<table border=\"1\" class=\"dataframe\">\n",
       "  <thead>\n",
       "    <tr style=\"text-align: left;\">\n",
       "      <th>epoch</th>\n",
       "      <th>train_loss</th>\n",
       "      <th>valid_loss</th>\n",
       "      <th>accuracy</th>\n",
       "      <th>time</th>\n",
       "    </tr>\n",
       "  </thead>\n",
       "  <tbody>\n",
       "    <tr>\n",
       "      <td>0</td>\n",
       "      <td>5.422485</td>\n",
       "      <td>5.266928</td>\n",
       "      <td>0.226813</td>\n",
       "      <td>36:55</td>\n",
       "    </tr>\n",
       "  </tbody>\n",
       "</table>"
      ],
      "text/plain": [
       "<IPython.core.display.HTML object>"
      ]
     },
     "metadata": {
      "tags": []
     },
     "output_type": "display_data"
    },
    {
     "data": {
      "image/png": "[encoded data removed]",
      "text/plain": [
       "<Figure size 432x288 with 1 Axes>"
      ]
     },
     "metadata": {
      "tags": []
     },
     "output_type": "display_data"
    }
   ],
   "source": [
    "learn.unfreeze()\n",
    "learn.fit_one_cycle(1, 1e-3)\n",
    "learn.save('wiki_subword_lm') #1"
   ]
  },
  {
   "cell_type": "code",
   "execution_count": 0,
   "metadata": {
    "colab": {
     "base_uri": "https://localhost:8080/",
     "height": 332
    },
    "colab_type": "code",
    "id": "w4tkvx32p8bc",
    "outputId": "1b8694d8-00c0-42d7-8700-7a41941ee7a4"
   },
   "outputs": [
    {
     "data": {
      "text/html": [
       "<table border=\"1\" class=\"dataframe\">\n",
       "  <thead>\n",
       "    <tr style=\"text-align: left;\">\n",
       "      <th>epoch</th>\n",
       "      <th>train_loss</th>\n",
       "      <th>valid_loss</th>\n",
       "      <th>accuracy</th>\n",
       "      <th>time</th>\n",
       "    </tr>\n",
       "  </thead>\n",
       "  <tbody>\n",
       "    <tr>\n",
       "      <td>0</td>\n",
       "      <td>5.009469</td>\n",
       "      <td>4.958648</td>\n",
       "      <td>0.247136</td>\n",
       "      <td>36:55</td>\n",
       "    </tr>\n",
       "  </tbody>\n",
       "</table>"
      ],
      "text/plain": [
       "<IPython.core.display.HTML object>"
      ]
     },
     "metadata": {
      "tags": []
     },
     "output_type": "display_data"
    },
    {
     "data": {
      "image/png": "[encoded data removed]",
      "text/plain": [
       "<Figure size 432x288 with 1 Axes>"
      ]
     },
     "metadata": {
      "tags": []
     },
     "output_type": "display_data"
    }
   ],
   "source": [
    "learn.fit_one_cycle(1, 1e-3)\n",
    "learn.save('wiki_subword_lm') #2"
   ]
  },
  {
   "cell_type": "code",
   "execution_count": 0,
   "metadata": {
    "colab": {
     "base_uri": "https://localhost:8080/",
     "height": 332
    },
    "colab_type": "code",
    "id": "BSe8nHk1p8Yb",
    "outputId": "1d03ef7c-df72-40a8-d1e4-2f92cc17d31f"
   },
   "outputs": [
    {
     "data": {
      "text/html": [
       "<table border=\"1\" class=\"dataframe\">\n",
       "  <thead>\n",
       "    <tr style=\"text-align: left;\">\n",
       "      <th>epoch</th>\n",
       "      <th>train_loss</th>\n",
       "      <th>valid_loss</th>\n",
       "      <th>accuracy</th>\n",
       "      <th>time</th>\n",
       "    </tr>\n",
       "  </thead>\n",
       "  <tbody>\n",
       "    <tr>\n",
       "      <td>0</td>\n",
       "      <td>4.797198</td>\n",
       "      <td>4.808185</td>\n",
       "      <td>0.258401</td>\n",
       "      <td>36:54</td>\n",
       "    </tr>\n",
       "  </tbody>\n",
       "</table>"
      ],
      "text/plain": [
       "<IPython.core.display.HTML object>"
      ]
     },
     "metadata": {
      "tags": []
     },
     "output_type": "display_data"
    },
    {
     "data": {
      "image/png": "[encoded data removed]",
      "text/plain": [
       "<Figure size 432x288 with 1 Axes>"
      ]
     },
     "metadata": {
      "tags": []
     },
     "output_type": "display_data"
    }
   ],
   "source": [
    "learn.fit_one_cycle(1, 1e-3)\n",
    "learn.save('wiki_subword_lm') #3"
   ]
  },
  {
   "cell_type": "code",
   "execution_count": 0,
   "metadata": {
    "colab": {
     "base_uri": "https://localhost:8080/",
     "height": 332
    },
    "colab_type": "code",
    "id": "nyTk_NOXp8Vz",
    "outputId": "a1d13e4b-468f-4309-cb66-073198cd0459"
   },
   "outputs": [
    {
     "data": {
      "text/html": [
       "<table border=\"1\" class=\"dataframe\">\n",
       "  <thead>\n",
       "    <tr style=\"text-align: left;\">\n",
       "      <th>epoch</th>\n",
       "      <th>train_loss</th>\n",
       "      <th>valid_loss</th>\n",
       "      <th>accuracy</th>\n",
       "      <th>time</th>\n",
       "    </tr>\n",
       "  </thead>\n",
       "  <tbody>\n",
       "    <tr>\n",
       "      <td>0</td>\n",
       "      <td>4.718044</td>\n",
       "      <td>4.713139</td>\n",
       "      <td>0.266196</td>\n",
       "      <td>36:54</td>\n",
       "    </tr>\n",
       "  </tbody>\n",
       "</table>"
      ],
      "text/plain": [
       "<IPython.core.display.HTML object>"
      ]
     },
     "metadata": {
      "tags": []
     },
     "output_type": "display_data"
    },
    {
     "data": {
      "image/png": "[encoded data removed]",
      "text/plain": [
       "<Figure size 432x288 with 1 Axes>"
      ]
     },
     "metadata": {
      "tags": []
     },
     "output_type": "display_data"
    }
   ],
   "source": [
    "learn.fit_one_cycle(1, 1e-3)\n",
    "learn.save('wiki_subword_lm') #4"
   ]
  },
  {
   "cell_type": "code",
   "execution_count": 0,
   "metadata": {
    "colab": {
     "base_uri": "https://localhost:8080/",
     "height": 332
    },
    "colab_type": "code",
    "id": "S6wuGNfup8TV",
    "outputId": "4293f2a6-dbae-431b-8732-0abcc547ca55"
   },
   "outputs": [
    {
     "data": {
      "text/html": [
       "<table border=\"1\" class=\"dataframe\">\n",
       "  <thead>\n",
       "    <tr style=\"text-align: left;\">\n",
       "      <th>epoch</th>\n",
       "      <th>train_loss</th>\n",
       "      <th>valid_loss</th>\n",
       "      <th>accuracy</th>\n",
       "      <th>time</th>\n",
       "    </tr>\n",
       "  </thead>\n",
       "  <tbody>\n",
       "    <tr>\n",
       "      <td>0</td>\n",
       "      <td>4.755295</td>\n",
       "      <td>4.646197</td>\n",
       "      <td>0.272124</td>\n",
       "      <td>36:57</td>\n",
       "    </tr>\n",
       "  </tbody>\n",
       "</table>"
      ],
      "text/plain": [
       "<IPython.core.display.HTML object>"
      ]
     },
     "metadata": {
      "tags": []
     },
     "output_type": "display_data"
    },
    {
     "data": {
      "image/png": "[encoded data removed]",
      "text/plain": [
       "<Figure size 432x288 with 1 Axes>"
      ]
     },
     "metadata": {
      "tags": []
     },
     "output_type": "display_data"
    }
   ],
   "source": [
    "learn.fit_one_cycle(1, 1e-3)\n",
    "learn.save('wiki_subword_lm') #5"
   ]
  },
  {
   "cell_type": "code",
   "execution_count": 0,
   "metadata": {
    "colab": {
     "base_uri": "https://localhost:8080/",
     "height": 332
    },
    "colab_type": "code",
    "id": "oyMGwlvEp8Qv",
    "outputId": "696a24ce-0c63-49a5-f237-afb172075a91"
   },
   "outputs": [
    {
     "data": {
      "text/html": [
       "<table border=\"1\" class=\"dataframe\">\n",
       "  <thead>\n",
       "    <tr style=\"text-align: left;\">\n",
       "      <th>epoch</th>\n",
       "      <th>train_loss</th>\n",
       "      <th>valid_loss</th>\n",
       "      <th>accuracy</th>\n",
       "      <th>time</th>\n",
       "    </tr>\n",
       "  </thead>\n",
       "  <tbody>\n",
       "    <tr>\n",
       "      <td>0</td>\n",
       "      <td>4.573012</td>\n",
       "      <td>4.594108</td>\n",
       "      <td>0.276887</td>\n",
       "      <td>36:56</td>\n",
       "    </tr>\n",
       "  </tbody>\n",
       "</table>"
      ],
      "text/plain": [
       "<IPython.core.display.HTML object>"
      ]
     },
     "metadata": {
      "tags": []
     },
     "output_type": "display_data"
    },
    {
     "data": {
      "image/png": "[encoded data removed]",
      "text/plain": [
       "<Figure size 432x288 with 1 Axes>"
      ]
     },
     "metadata": {
      "tags": []
     },
     "output_type": "display_data"
    }
   ],
   "source": [
    "learn.fit_one_cycle(1, 1e-3)\n",
    "learn.save('wiki_subword_lm') #6"
   ]
  },
  {
   "cell_type": "code",
   "execution_count": 0,
   "metadata": {
    "colab": {
     "base_uri": "https://localhost:8080/",
     "height": 333
    },
    "colab_type": "code",
    "id": "yfHifuwIp8OS",
    "outputId": "a4a4b598-aacd-4e36-a809-e51d81d8ce53"
   },
   "outputs": [
    {
     "data": {
      "text/html": [
       "<table border=\"1\" class=\"dataframe\">\n",
       "  <thead>\n",
       "    <tr style=\"text-align: left;\">\n",
       "      <th>epoch</th>\n",
       "      <th>train_loss</th>\n",
       "      <th>valid_loss</th>\n",
       "      <th>accuracy</th>\n",
       "      <th>time</th>\n",
       "    </tr>\n",
       "  </thead>\n",
       "  <tbody>\n",
       "    <tr>\n",
       "      <td>0</td>\n",
       "      <td>4.372497</td>\n",
       "      <td>4.491876</td>\n",
       "      <td>0.286046</td>\n",
       "      <td>1:12:29</td>\n",
       "    </tr>\n",
       "  </tbody>\n",
       "</table>"
      ],
      "text/plain": [
       "<IPython.core.display.HTML object>"
      ]
     },
     "metadata": {
      "tags": []
     },
     "output_type": "display_data"
    },
    {
     "data": {
      "image/png": "[encoded data removed]",
      "text/plain": [
       "<Figure size 432x288 with 1 Axes>"
      ]
     },
     "metadata": {
      "tags": []
     },
     "output_type": "display_data"
    }
   ],
   "source": [
    "learn.load('wiki_subword_lm')\n",
    "learn.fit_one_cycle(1, 1e-3)\n",
    "learn.save('wiki_subword_lm') #7"
   ]
  },
  {
   "cell_type": "code",
   "execution_count": 0,
   "metadata": {
    "colab": {
     "base_uri": "https://localhost:8080/",
     "height": 333
    },
    "colab_type": "code",
    "id": "P4ISwcEEp8LQ",
    "outputId": "0c50d965-59c6-4d74-8c98-777e184b7c03"
   },
   "outputs": [
    {
     "data": {
      "text/html": [
       "<table border=\"1\" class=\"dataframe\">\n",
       "  <thead>\n",
       "    <tr style=\"text-align: left;\">\n",
       "      <th>epoch</th>\n",
       "      <th>train_loss</th>\n",
       "      <th>valid_loss</th>\n",
       "      <th>accuracy</th>\n",
       "      <th>time</th>\n",
       "    </tr>\n",
       "  </thead>\n",
       "  <tbody>\n",
       "    <tr>\n",
       "      <td>0</td>\n",
       "      <td>4.412295</td>\n",
       "      <td>4.469542</td>\n",
       "      <td>0.288070</td>\n",
       "      <td>1:12:30</td>\n",
       "    </tr>\n",
       "  </tbody>\n",
       "</table>"
      ],
      "text/plain": [
       "<IPython.core.display.HTML object>"
      ]
     },
     "metadata": {
      "tags": []
     },
     "output_type": "display_data"
    },
    {
     "data": {
      "image/png": "[encoded data removed]",
      "text/plain": [
       "<Figure size 432x288 with 1 Axes>"
      ]
     },
     "metadata": {
      "tags": []
     },
     "output_type": "display_data"
    }
   ],
   "source": [
    "learn.fit_one_cycle(1, 1e-3)\n",
    "learn.save('wiki_subword_lm') #8"
   ]
  },
  {
   "cell_type": "code",
   "execution_count": 0,
   "metadata": {
    "colab": {
     "base_uri": "https://localhost:8080/",
     "height": 332
    },
    "colab_type": "code",
    "id": "lkdJUEmVp_8e",
    "outputId": "e13e66ae-8f2c-4ddf-c20f-e7ceb61cd8a1"
   },
   "outputs": [
    {
     "data": {
      "text/html": [
       "<table border=\"1\" class=\"dataframe\">\n",
       "  <thead>\n",
       "    <tr style=\"text-align: left;\">\n",
       "      <th>epoch</th>\n",
       "      <th>train_loss</th>\n",
       "      <th>valid_loss</th>\n",
       "      <th>accuracy</th>\n",
       "      <th>time</th>\n",
       "    </tr>\n",
       "  </thead>\n",
       "  <tbody>\n",
       "    <tr>\n",
       "      <td>0</td>\n",
       "      <td>4.345984</td>\n",
       "      <td>4.453971</td>\n",
       "      <td>0.289828</td>\n",
       "      <td>1:13:13</td>\n",
       "    </tr>\n",
       "  </tbody>\n",
       "</table>"
      ],
      "text/plain": [
       "<IPython.core.display.HTML object>"
      ]
     },
     "metadata": {
      "tags": []
     },
     "output_type": "display_data"
    },
    {
     "data": {
      "image/png": "[encoded data removed]",
      "text/plain": [
       "<Figure size 432x288 with 1 Axes>"
      ]
     },
     "metadata": {
      "tags": []
     },
     "output_type": "display_data"
    }
   ],
   "source": [
    "learn.fit_one_cycle(1, 1e-3)\n",
    "learn.save('wiki_subword_lm') #9"
   ]
  },
  {
   "cell_type": "code",
   "execution_count": 0,
   "metadata": {
    "colab": {
     "base_uri": "https://localhost:8080/",
     "height": 332
    },
    "colab_type": "code",
    "id": "wRhf4-ghp_5M",
    "outputId": "7bd36116-6a99-480b-abc5-e37cae9364f4"
   },
   "outputs": [
    {
     "data": {
      "text/html": [
       "<table border=\"1\" class=\"dataframe\">\n",
       "  <thead>\n",
       "    <tr style=\"text-align: left;\">\n",
       "      <th>epoch</th>\n",
       "      <th>train_loss</th>\n",
       "      <th>valid_loss</th>\n",
       "      <th>accuracy</th>\n",
       "      <th>time</th>\n",
       "    </tr>\n",
       "  </thead>\n",
       "  <tbody>\n",
       "    <tr>\n",
       "      <td>0</td>\n",
       "      <td>4.344831</td>\n",
       "      <td>4.437490</td>\n",
       "      <td>0.291395</td>\n",
       "      <td>1:13:14</td>\n",
       "    </tr>\n",
       "  </tbody>\n",
       "</table>"
      ],
      "text/plain": [
       "<IPython.core.display.HTML object>"
      ]
     },
     "metadata": {
      "tags": []
     },
     "output_type": "display_data"
    },
    {
     "data": {
      "image/png": "[encoded data removed]",
      "text/plain": [
       "<Figure size 432x288 with 1 Axes>"
      ]
     },
     "metadata": {
      "tags": []
     },
     "output_type": "display_data"
    }
   ],
   "source": [
    "learn.fit_one_cycle(1, 1e-3)\n",
    "learn.save('wiki_subword_lm') #10"
   ]
  },
  {
   "cell_type": "code",
   "execution_count": 0,
   "metadata": {
    "colab": {
     "base_uri": "https://localhost:8080/",
     "height": 80
    },
    "colab_type": "code",
    "id": "zJvD9m89IcJQ",
    "outputId": "a8fbe46d-9c97-450e-e76b-cd8e52f08a7b"
   },
   "outputs": [
    {
     "data": {
      "text/html": [
       "<table border=\"1\" class=\"dataframe\">\n",
       "  <thead>\n",
       "    <tr style=\"text-align: left;\">\n",
       "      <th>epoch</th>\n",
       "      <th>train_loss</th>\n",
       "      <th>valid_loss</th>\n",
       "      <th>accuracy</th>\n",
       "      <th>time</th>\n",
       "    </tr>\n",
       "  </thead>\n",
       "  <tbody>\n",
       "    <tr>\n",
       "      <td>0</td>\n",
       "      <td>4.360184</td>\n",
       "      <td>4.421721</td>\n",
       "      <td>0.292712</td>\n",
       "      <td>37:31</td>\n",
       "    </tr>\n",
       "  </tbody>\n",
       "</table>"
      ],
      "text/plain": [
       "<IPython.core.display.HTML object>"
      ]
     },
     "metadata": {
      "tags": []
     },
     "output_type": "display_data"
    }
   ],
   "source": [
    "learn.fit_one_cycle(1, 1e-3)\n",
    "learn.save('wiki_subword_lm_11') #11"
   ]
  },
  {
   "cell_type": "code",
   "execution_count": 0,
   "metadata": {
    "colab": {
     "base_uri": "https://localhost:8080/",
     "height": 80
    },
    "colab_type": "code",
    "id": "eFUhCJJgIcEe",
    "outputId": "7299c0b5-ce24-4fcb-d054-c379856d5edf"
   },
   "outputs": [
    {
     "data": {
      "text/html": [
       "<table border=\"1\" class=\"dataframe\">\n",
       "  <thead>\n",
       "    <tr style=\"text-align: left;\">\n",
       "      <th>epoch</th>\n",
       "      <th>train_loss</th>\n",
       "      <th>valid_loss</th>\n",
       "      <th>accuracy</th>\n",
       "      <th>time</th>\n",
       "    </tr>\n",
       "  </thead>\n",
       "  <tbody>\n",
       "    <tr>\n",
       "      <td>0</td>\n",
       "      <td>4.351522</td>\n",
       "      <td>4.409990</td>\n",
       "      <td>0.293829</td>\n",
       "      <td>37:39</td>\n",
       "    </tr>\n",
       "  </tbody>\n",
       "</table>"
      ],
      "text/plain": [
       "<IPython.core.display.HTML object>"
      ]
     },
     "metadata": {
      "tags": []
     },
     "output_type": "display_data"
    }
   ],
   "source": [
    "learn.fit_one_cycle(1, 1e-3)\n",
    "learn.save('wiki_subword_lm_12') #12"
   ]
  },
  {
   "cell_type": "code",
   "execution_count": 0,
   "metadata": {
    "colab": {
     "base_uri": "https://localhost:8080/",
     "height": 80
    },
    "colab_type": "code",
    "id": "vuxuBqj2Ib79",
    "outputId": "0535ed8b-9df9-4e33-876e-6e54895994fe"
   },
   "outputs": [
    {
     "data": {
      "text/html": [
       "<table border=\"1\" class=\"dataframe\">\n",
       "  <thead>\n",
       "    <tr style=\"text-align: left;\">\n",
       "      <th>epoch</th>\n",
       "      <th>train_loss</th>\n",
       "      <th>valid_loss</th>\n",
       "      <th>accuracy</th>\n",
       "      <th>time</th>\n",
       "    </tr>\n",
       "  </thead>\n",
       "  <tbody>\n",
       "    <tr>\n",
       "      <td>0</td>\n",
       "      <td>4.285140</td>\n",
       "      <td>4.399959</td>\n",
       "      <td>0.294825</td>\n",
       "      <td>37:34</td>\n",
       "    </tr>\n",
       "  </tbody>\n",
       "</table>"
      ],
      "text/plain": [
       "<IPython.core.display.HTML object>"
      ]
     },
     "metadata": {
      "tags": []
     },
     "output_type": "display_data"
    }
   ],
   "source": [
    "learn.fit_one_cycle(1, 1e-3)\n",
    "learn.save('wiki_subword_lm_13') #13"
   ]
  },
  {
   "cell_type": "code",
   "execution_count": 0,
   "metadata": {
    "colab": {
     "base_uri": "https://localhost:8080/",
     "height": 80
    },
    "colab_type": "code",
    "id": "gRVaiJGmIb1n",
    "outputId": "5215aeae-61a3-43a5-d741-b7fb9df600b5"
   },
   "outputs": [
    {
     "data": {
      "text/html": [
       "<table border=\"1\" class=\"dataframe\">\n",
       "  <thead>\n",
       "    <tr style=\"text-align: left;\">\n",
       "      <th>epoch</th>\n",
       "      <th>train_loss</th>\n",
       "      <th>valid_loss</th>\n",
       "      <th>accuracy</th>\n",
       "      <th>time</th>\n",
       "    </tr>\n",
       "  </thead>\n",
       "  <tbody>\n",
       "    <tr>\n",
       "      <td>0</td>\n",
       "      <td>4.371293</td>\n",
       "      <td>4.390086</td>\n",
       "      <td>0.295618</td>\n",
       "      <td>37:41</td>\n",
       "    </tr>\n",
       "  </tbody>\n",
       "</table>"
      ],
      "text/plain": [
       "<IPython.core.display.HTML object>"
      ]
     },
     "metadata": {
      "tags": []
     },
     "output_type": "display_data"
    }
   ],
   "source": [
    "learn.fit_one_cycle(1, 1e-3)\n",
    "learn.save('wiki_subword_lm_14') #14"
   ]
  },
  {
   "cell_type": "code",
   "execution_count": 0,
   "metadata": {
    "colab": {
     "base_uri": "https://localhost:8080/",
     "height": 80
    },
    "colab_type": "code",
    "id": "mbS39-6wIbx1",
    "outputId": "11f4d6bb-e3d2-49c9-acab-25b82106dccd"
   },
   "outputs": [
    {
     "data": {
      "text/html": [
       "<table border=\"1\" class=\"dataframe\">\n",
       "  <thead>\n",
       "    <tr style=\"text-align: left;\">\n",
       "      <th>epoch</th>\n",
       "      <th>train_loss</th>\n",
       "      <th>valid_loss</th>\n",
       "      <th>accuracy</th>\n",
       "      <th>time</th>\n",
       "    </tr>\n",
       "  </thead>\n",
       "  <tbody>\n",
       "    <tr>\n",
       "      <td>0</td>\n",
       "      <td>4.279755</td>\n",
       "      <td>4.381203</td>\n",
       "      <td>0.296514</td>\n",
       "      <td>37:35</td>\n",
       "    </tr>\n",
       "  </tbody>\n",
       "</table>"
      ],
      "text/plain": [
       "<IPython.core.display.HTML object>"
      ]
     },
     "metadata": {
      "tags": []
     },
     "output_type": "display_data"
    }
   ],
   "source": [
    "learn.fit_one_cycle(1, 1e-3)\n",
    "learn.save('wiki_subword_lm_15') #15"
   ]
  },
  {
   "cell_type": "code",
   "execution_count": 0,
   "metadata": {
    "colab": {
     "base_uri": "https://localhost:8080/",
     "height": 80
    },
    "colab_type": "code",
    "id": "mTjsdBPJIbs-",
    "outputId": "133cadce-3538-448c-e6ea-95dd8edc96ed"
   },
   "outputs": [
    {
     "data": {
      "text/html": [
       "<table border=\"1\" class=\"dataframe\">\n",
       "  <thead>\n",
       "    <tr style=\"text-align: left;\">\n",
       "      <th>epoch</th>\n",
       "      <th>train_loss</th>\n",
       "      <th>valid_loss</th>\n",
       "      <th>accuracy</th>\n",
       "      <th>time</th>\n",
       "    </tr>\n",
       "  </thead>\n",
       "  <tbody>\n",
       "    <tr>\n",
       "      <td>0</td>\n",
       "      <td>4.349733</td>\n",
       "      <td>4.373093</td>\n",
       "      <td>0.297426</td>\n",
       "      <td>37:40</td>\n",
       "    </tr>\n",
       "  </tbody>\n",
       "</table>"
      ],
      "text/plain": [
       "<IPython.core.display.HTML object>"
      ]
     },
     "metadata": {
      "tags": []
     },
     "output_type": "display_data"
    }
   ],
   "source": [
    "learn.fit_one_cycle(1, 1e-3)\n",
    "learn.save('wiki_subword_lm_16') #16"
   ]
  },
  {
   "cell_type": "code",
   "execution_count": 0,
   "metadata": {
    "colab": {
     "base_uri": "https://localhost:8080/",
     "height": 80
    },
    "colab_type": "code",
    "id": "JMiKzWA2Ibp2",
    "outputId": "e227795f-0d52-45c8-e90d-2148186247a8"
   },
   "outputs": [
    {
     "data": {
      "text/html": [
       "<table border=\"1\" class=\"dataframe\">\n",
       "  <thead>\n",
       "    <tr style=\"text-align: left;\">\n",
       "      <th>epoch</th>\n",
       "      <th>train_loss</th>\n",
       "      <th>valid_loss</th>\n",
       "      <th>accuracy</th>\n",
       "      <th>time</th>\n",
       "    </tr>\n",
       "  </thead>\n",
       "  <tbody>\n",
       "    <tr>\n",
       "      <td>0</td>\n",
       "      <td>4.255338</td>\n",
       "      <td>4.364986</td>\n",
       "      <td>0.298260</td>\n",
       "      <td>37:34</td>\n",
       "    </tr>\n",
       "  </tbody>\n",
       "</table>"
      ],
      "text/plain": [
       "<IPython.core.display.HTML object>"
      ]
     },
     "metadata": {
      "tags": []
     },
     "output_type": "display_data"
    }
   ],
   "source": [
    "learn.fit_one_cycle(1, 1e-3)\n",
    "learn.save('wiki_subword_lm_17') #17"
   ]
  },
  {
   "cell_type": "code",
   "execution_count": 0,
   "metadata": {
    "colab": {
     "base_uri": "https://localhost:8080/",
     "height": 80
    },
    "colab_type": "code",
    "id": "d5ucVwqnIbl2",
    "outputId": "9019cbe3-1e5a-4caf-b8f2-f290427f2a22"
   },
   "outputs": [
    {
     "data": {
      "text/html": [
       "<table border=\"1\" class=\"dataframe\">\n",
       "  <thead>\n",
       "    <tr style=\"text-align: left;\">\n",
       "      <th>epoch</th>\n",
       "      <th>train_loss</th>\n",
       "      <th>valid_loss</th>\n",
       "      <th>accuracy</th>\n",
       "      <th>time</th>\n",
       "    </tr>\n",
       "  </thead>\n",
       "  <tbody>\n",
       "    <tr>\n",
       "      <td>0</td>\n",
       "      <td>4.304943</td>\n",
       "      <td>4.359513</td>\n",
       "      <td>0.298878</td>\n",
       "      <td>37:31</td>\n",
       "    </tr>\n",
       "  </tbody>\n",
       "</table>"
      ],
      "text/plain": [
       "<IPython.core.display.HTML object>"
      ]
     },
     "metadata": {
      "tags": []
     },
     "output_type": "display_data"
    }
   ],
   "source": [
    "learn.fit_one_cycle(1, 1e-3)\n",
    "learn.save('wiki_subword_lm_18') #18"
   ]
  },
  {
   "cell_type": "code",
   "execution_count": 0,
   "metadata": {
    "colab": {
     "base_uri": "https://localhost:8080/",
     "height": 80
    },
    "colab_type": "code",
    "id": "0RcX6aksEE4i",
    "outputId": "f7f70bc7-2623-4ec1-be88-4a9dea353f0e"
   },
   "outputs": [
    {
     "data": {
      "text/html": [
       "<table border=\"1\" class=\"dataframe\">\n",
       "  <thead>\n",
       "    <tr style=\"text-align: left;\">\n",
       "      <th>epoch</th>\n",
       "      <th>train_loss</th>\n",
       "      <th>valid_loss</th>\n",
       "      <th>accuracy</th>\n",
       "      <th>time</th>\n",
       "    </tr>\n",
       "  </thead>\n",
       "  <tbody>\n",
       "    <tr>\n",
       "      <td>0</td>\n",
       "      <td>4.240803</td>\n",
       "      <td>4.353324</td>\n",
       "      <td>0.299451</td>\n",
       "      <td>37:31</td>\n",
       "    </tr>\n",
       "  </tbody>\n",
       "</table>"
      ],
      "text/plain": [
       "<IPython.core.display.HTML object>"
      ]
     },
     "metadata": {
      "tags": []
     },
     "output_type": "display_data"
    }
   ],
   "source": [
    "learn.fit_one_cycle(1, 1e-3)\n",
    "learn.save('wiki_subword_lm_19') #19"
   ]
  },
  {
   "cell_type": "code",
   "execution_count": 0,
   "metadata": {
    "colab": {
     "base_uri": "https://localhost:8080/",
     "height": 80
    },
    "colab_type": "code",
    "id": "8VvEqJ0HEEwc",
    "outputId": "89bfb93f-ae79-41d4-95ea-e23ab1a4f233"
   },
   "outputs": [
    {
     "data": {
      "text/html": [
       "<table border=\"1\" class=\"dataframe\">\n",
       "  <thead>\n",
       "    <tr style=\"text-align: left;\">\n",
       "      <th>epoch</th>\n",
       "      <th>train_loss</th>\n",
       "      <th>valid_loss</th>\n",
       "      <th>accuracy</th>\n",
       "      <th>time</th>\n",
       "    </tr>\n",
       "  </thead>\n",
       "  <tbody>\n",
       "    <tr>\n",
       "      <td>0</td>\n",
       "      <td>4.150599</td>\n",
       "      <td>4.348448</td>\n",
       "      <td>0.299891</td>\n",
       "      <td>37:31</td>\n",
       "    </tr>\n",
       "  </tbody>\n",
       "</table>"
      ],
      "text/plain": [
       "<IPython.core.display.HTML object>"
      ]
     },
     "metadata": {
      "tags": []
     },
     "output_type": "display_data"
    }
   ],
   "source": [
    "learn.fit_one_cycle(1, 1e-3)\n",
    "learn.save('wiki_subword_lm_20') #20"
   ]
  },
  {
   "cell_type": "code",
   "execution_count": 0,
   "metadata": {
    "colab": {
     "base_uri": "https://localhost:8080/",
     "height": 80
    },
    "colab_type": "code",
    "id": "WRjfhHJzEEl1",
    "outputId": "f2c44e54-49e4-4b73-db28-15e5072fb884"
   },
   "outputs": [
    {
     "data": {
      "text/html": [
       "<table border=\"1\" class=\"dataframe\">\n",
       "  <thead>\n",
       "    <tr style=\"text-align: left;\">\n",
       "      <th>epoch</th>\n",
       "      <th>train_loss</th>\n",
       "      <th>valid_loss</th>\n",
       "      <th>accuracy</th>\n",
       "      <th>time</th>\n",
       "    </tr>\n",
       "  </thead>\n",
       "  <tbody>\n",
       "    <tr>\n",
       "      <td>0</td>\n",
       "      <td>4.250115</td>\n",
       "      <td>4.343157</td>\n",
       "      <td>0.300354</td>\n",
       "      <td>37:30</td>\n",
       "    </tr>\n",
       "  </tbody>\n",
       "</table>"
      ],
      "text/plain": [
       "<IPython.core.display.HTML object>"
      ]
     },
     "metadata": {
      "tags": []
     },
     "output_type": "display_data"
    }
   ],
   "source": [
    "learn.fit_one_cycle(1, 1e-3)\n",
    "learn.save('wiki_subword_lm_21') #21"
   ]
  },
  {
   "cell_type": "code",
   "execution_count": 0,
   "metadata": {
    "colab": {
     "base_uri": "https://localhost:8080/",
     "height": 80
    },
    "colab_type": "code",
    "id": "Pf693g1zg4iO",
    "outputId": "8d1179d1-3e6b-4966-f512-28a311fcea73"
   },
   "outputs": [
    {
     "data": {
      "text/html": [
       "<table border=\"1\" class=\"dataframe\">\n",
       "  <thead>\n",
       "    <tr style=\"text-align: left;\">\n",
       "      <th>epoch</th>\n",
       "      <th>train_loss</th>\n",
       "      <th>valid_loss</th>\n",
       "      <th>accuracy</th>\n",
       "      <th>time</th>\n",
       "    </tr>\n",
       "  </thead>\n",
       "  <tbody>\n",
       "    <tr>\n",
       "      <td>0</td>\n",
       "      <td>4.190729</td>\n",
       "      <td>4.338458</td>\n",
       "      <td>0.300808</td>\n",
       "      <td>37:40</td>\n",
       "    </tr>\n",
       "  </tbody>\n",
       "</table>"
      ],
      "text/plain": [
       "<IPython.core.display.HTML object>"
      ]
     },
     "metadata": {
      "tags": []
     },
     "output_type": "display_data"
    }
   ],
   "source": [
    "learn.fit_one_cycle(1, 1e-3)\n",
    "learn.save('wiki_subword_lm_22') #22"
   ]
  },
  {
   "cell_type": "code",
   "execution_count": 0,
   "metadata": {
    "colab": {
     "base_uri": "https://localhost:8080/",
     "height": 80
    },
    "colab_type": "code",
    "id": "5uhOSWOlg4Zl",
    "outputId": "3adf1145-34f6-4421-a5b2-3a0edbf40209"
   },
   "outputs": [
    {
     "data": {
      "text/html": [
       "<table border=\"1\" class=\"dataframe\">\n",
       "  <thead>\n",
       "    <tr style=\"text-align: left;\">\n",
       "      <th>epoch</th>\n",
       "      <th>train_loss</th>\n",
       "      <th>valid_loss</th>\n",
       "      <th>accuracy</th>\n",
       "      <th>time</th>\n",
       "    </tr>\n",
       "  </thead>\n",
       "  <tbody>\n",
       "    <tr>\n",
       "      <td>0</td>\n",
       "      <td>4.157098</td>\n",
       "      <td>4.333094</td>\n",
       "      <td>0.301408</td>\n",
       "      <td>37:31</td>\n",
       "    </tr>\n",
       "  </tbody>\n",
       "</table>"
      ],
      "text/plain": [
       "<IPython.core.display.HTML object>"
      ]
     },
     "metadata": {
      "tags": []
     },
     "output_type": "display_data"
    }
   ],
   "source": [
    "learn.fit_one_cycle(1, 1e-3)\n",
    "learn.save('wiki_subword_lm_23') #23"
   ]
  },
  {
   "cell_type": "code",
   "execution_count": 0,
   "metadata": {
    "colab": {
     "base_uri": "https://localhost:8080/",
     "height": 80
    },
    "colab_type": "code",
    "id": "dJriO03Ug4Od",
    "outputId": "0b31f614-7a42-4266-8fa0-c1f142bb6d23"
   },
   "outputs": [
    {
     "data": {
      "text/html": [
       "<table border=\"1\" class=\"dataframe\">\n",
       "  <thead>\n",
       "    <tr style=\"text-align: left;\">\n",
       "      <th>epoch</th>\n",
       "      <th>train_loss</th>\n",
       "      <th>valid_loss</th>\n",
       "      <th>accuracy</th>\n",
       "      <th>time</th>\n",
       "    </tr>\n",
       "  </thead>\n",
       "  <tbody>\n",
       "    <tr>\n",
       "      <td>0</td>\n",
       "      <td>4.199016</td>\n",
       "      <td>4.328155</td>\n",
       "      <td>0.301671</td>\n",
       "      <td>37:31</td>\n",
       "    </tr>\n",
       "  </tbody>\n",
       "</table>"
      ],
      "text/plain": [
       "<IPython.core.display.HTML object>"
      ]
     },
     "metadata": {
      "tags": []
     },
     "output_type": "display_data"
    }
   ],
   "source": [
    "learn.fit_one_cycle(1, 1e-3)\n",
    "learn.save('wiki_subword_lm_24') #24"
   ]
  },
  {
   "cell_type": "code",
   "execution_count": 0,
   "metadata": {
    "colab": {
     "base_uri": "https://localhost:8080/",
     "height": 80
    },
    "colab_type": "code",
    "id": "EHstg8up_F4h",
    "outputId": "f7cc78db-c034-4153-c76d-56b0bb8541d5"
   },
   "outputs": [
    {
     "data": {
      "text/html": [
       "<table border=\"1\" class=\"dataframe\">\n",
       "  <thead>\n",
       "    <tr style=\"text-align: left;\">\n",
       "      <th>epoch</th>\n",
       "      <th>train_loss</th>\n",
       "      <th>valid_loss</th>\n",
       "      <th>accuracy</th>\n",
       "      <th>time</th>\n",
       "    </tr>\n",
       "  </thead>\n",
       "  <tbody>\n",
       "    <tr>\n",
       "      <td>0</td>\n",
       "      <td>4.290332</td>\n",
       "      <td>4.323856</td>\n",
       "      <td>0.302022</td>\n",
       "      <td>37:31</td>\n",
       "    </tr>\n",
       "  </tbody>\n",
       "</table>"
      ],
      "text/plain": [
       "<IPython.core.display.HTML object>"
      ]
     },
     "metadata": {
      "tags": []
     },
     "output_type": "display_data"
    }
   ],
   "source": [
    "learn.fit_one_cycle(1, 1e-3)\n",
    "learn.save('wiki_subword_lm_25') #25"
   ]
  },
  {
   "cell_type": "code",
   "execution_count": 0,
   "metadata": {
    "colab": {
     "base_uri": "https://localhost:8080/",
     "height": 80
    },
    "colab_type": "code",
    "id": "aqQOJIBD_Fui",
    "outputId": "442f384f-b4a7-4fb1-9dd3-b18020c5b04d"
   },
   "outputs": [
    {
     "data": {
      "text/html": [
       "<table border=\"1\" class=\"dataframe\">\n",
       "  <thead>\n",
       "    <tr style=\"text-align: left;\">\n",
       "      <th>epoch</th>\n",
       "      <th>train_loss</th>\n",
       "      <th>valid_loss</th>\n",
       "      <th>accuracy</th>\n",
       "      <th>time</th>\n",
       "    </tr>\n",
       "  </thead>\n",
       "  <tbody>\n",
       "    <tr>\n",
       "      <td>0</td>\n",
       "      <td>4.213830</td>\n",
       "      <td>4.321335</td>\n",
       "      <td>0.302423</td>\n",
       "      <td>37:36</td>\n",
       "    </tr>\n",
       "  </tbody>\n",
       "</table>"
      ],
      "text/plain": [
       "<IPython.core.display.HTML object>"
      ]
     },
     "metadata": {
      "tags": []
     },
     "output_type": "display_data"
    }
   ],
   "source": [
    "learn.fit_one_cycle(1, 1e-3)\n",
    "learn.save('wiki_subword_lm_26') #26"
   ]
  },
  {
   "cell_type": "code",
   "execution_count": 0,
   "metadata": {
    "colab": {
     "base_uri": "https://localhost:8080/",
     "height": 80
    },
    "colab_type": "code",
    "id": "5Bz5CDFy_Fhm",
    "outputId": "4c44e692-327a-457a-af41-239f69d258e9"
   },
   "outputs": [
    {
     "data": {
      "text/html": [
       "<table border=\"1\" class=\"dataframe\">\n",
       "  <thead>\n",
       "    <tr style=\"text-align: left;\">\n",
       "      <th>epoch</th>\n",
       "      <th>train_loss</th>\n",
       "      <th>valid_loss</th>\n",
       "      <th>accuracy</th>\n",
       "      <th>time</th>\n",
       "    </tr>\n",
       "  </thead>\n",
       "  <tbody>\n",
       "    <tr>\n",
       "      <td>0</td>\n",
       "      <td>4.237769</td>\n",
       "      <td>4.317090</td>\n",
       "      <td>0.302791</td>\n",
       "      <td>37:29</td>\n",
       "    </tr>\n",
       "  </tbody>\n",
       "</table>"
      ],
      "text/plain": [
       "<IPython.core.display.HTML object>"
      ]
     },
     "metadata": {
      "tags": []
     },
     "output_type": "display_data"
    }
   ],
   "source": [
    "learn.fit_one_cycle(1, 1e-3)\n",
    "learn.save('wiki_subword_lm_27') #27"
   ]
  },
  {
   "cell_type": "code",
   "execution_count": 19,
   "metadata": {
    "colab": {
     "base_uri": "https://localhost:8080/",
     "height": 80
    },
    "colab_type": "code",
    "id": "etIn3P3RLrb3",
    "outputId": "cf807e39-0851-4851-f32e-359879204fdb"
   },
   "outputs": [
    {
     "data": {
      "text/html": [
       "<table border=\"1\" class=\"dataframe\">\n",
       "  <thead>\n",
       "    <tr style=\"text-align: left;\">\n",
       "      <th>epoch</th>\n",
       "      <th>train_loss</th>\n",
       "      <th>valid_loss</th>\n",
       "      <th>accuracy</th>\n",
       "      <th>time</th>\n",
       "    </tr>\n",
       "  </thead>\n",
       "  <tbody>\n",
       "    <tr>\n",
       "      <td>0</td>\n",
       "      <td>4.175380</td>\n",
       "      <td>4.314404</td>\n",
       "      <td>0.302945</td>\n",
       "      <td>37:55</td>\n",
       "    </tr>\n",
       "  </tbody>\n",
       "</table>"
      ],
      "text/plain": [
       "<IPython.core.display.HTML object>"
      ]
     },
     "metadata": {
      "tags": []
     },
     "output_type": "display_data"
    }
   ],
   "source": [
    "learn.load('wiki_subword_lm_27') #27\n",
    "learn.fit_one_cycle(1, 1e-3)\n",
    "learn.save('wiki_subword_lm_28') #28"
   ]
  },
  {
   "cell_type": "code",
   "execution_count": 20,
   "metadata": {
    "colab": {
     "base_uri": "https://localhost:8080/",
     "height": 80
    },
    "colab_type": "code",
    "id": "OMENppT7LrQn",
    "outputId": "df205b0c-4983-4532-db81-f2bc5616775a"
   },
   "outputs": [
    {
     "data": {
      "text/html": [
       "<table border=\"1\" class=\"dataframe\">\n",
       "  <thead>\n",
       "    <tr style=\"text-align: left;\">\n",
       "      <th>epoch</th>\n",
       "      <th>train_loss</th>\n",
       "      <th>valid_loss</th>\n",
       "      <th>accuracy</th>\n",
       "      <th>time</th>\n",
       "    </tr>\n",
       "  </thead>\n",
       "  <tbody>\n",
       "    <tr>\n",
       "      <td>0</td>\n",
       "      <td>4.183342</td>\n",
       "      <td>4.312265</td>\n",
       "      <td>0.303178</td>\n",
       "      <td>37:59</td>\n",
       "    </tr>\n",
       "  </tbody>\n",
       "</table>"
      ],
      "text/plain": [
       "<IPython.core.display.HTML object>"
      ]
     },
     "metadata": {
      "tags": []
     },
     "output_type": "display_data"
    }
   ],
   "source": [
    "learn.fit_one_cycle(1, 1e-3)\n",
    "learn.save('wiki_subword_lm_29') #29"
   ]
  },
  {
   "cell_type": "code",
   "execution_count": 21,
   "metadata": {
    "colab": {
     "base_uri": "https://localhost:8080/",
     "height": 80
    },
    "colab_type": "code",
    "id": "ZmYuVbCtUgsU",
    "outputId": "09a89f21-b61d-4760-de0b-dcd1c59a9982"
   },
   "outputs": [
    {
     "data": {
      "text/html": [
       "<table border=\"1\" class=\"dataframe\">\n",
       "  <thead>\n",
       "    <tr style=\"text-align: left;\">\n",
       "      <th>epoch</th>\n",
       "      <th>train_loss</th>\n",
       "      <th>valid_loss</th>\n",
       "      <th>accuracy</th>\n",
       "      <th>time</th>\n",
       "    </tr>\n",
       "  </thead>\n",
       "  <tbody>\n",
       "    <tr>\n",
       "      <td>0</td>\n",
       "      <td>4.075247</td>\n",
       "      <td>4.306763</td>\n",
       "      <td>0.303554</td>\n",
       "      <td>37:58</td>\n",
       "    </tr>\n",
       "  </tbody>\n",
       "</table>"
      ],
      "text/plain": [
       "<IPython.core.display.HTML object>"
      ]
     },
     "metadata": {
      "tags": []
     },
     "output_type": "display_data"
    }
   ],
   "source": [
    "learn.fit_one_cycle(1, 1e-3)\n",
    "learn.save('wiki_subword_lm_30') #30"
   ]
  },
  {
   "cell_type": "markdown",
   "metadata": {
    "colab_type": "text",
    "id": "VbYzWr0LMRzd"
   },
   "source": [
    "#### test"
   ]
  },
  {
   "cell_type": "code",
   "execution_count": 0,
   "metadata": {
    "colab": {
     "base_uri": "https://localhost:8080/",
     "height": 102
    },
    "colab_type": "code",
    "id": "92p2cCZOZQKb",
    "outputId": "0a8ca10f-0561-45e8-f23e-550caf03b1e3"
   },
   "outputs": [
    {
     "name": "stdout",
     "output_type": "stream",
     "text": [
      "তিনি▁নরীা▁▁।▁▁▁▁▁।▁▁▁▁মডপ\"▁\"T▁Ge\")▁▁▁।▁▁▁রক-এ\"▁▁আজ\"-এ▁▁▁▁▁▁▁,▁▁▁ে▁▁▁▁▁।▁▁▁▁জ▁▁▁ধ▁।▁▁আশ\"▁\"Ad\")-এ▁▁▁।▁▁বSa\n",
      "তিনি,▁▁▁▁▁▁▁▁▁▁▁,▁,▁,▁,▁,▁▁▁▁▁▁▁।▁▁,▁,▁,▁,▁▁▁▁▁▁▁।▁▁▁▁▁▁▁।▁bs▁ভবস▁▁▁▁▁র▁▁▁▁▁▁▁।▁▁.▁▁▁▁▁▁▁।▁▁▁▁▁▁▁▁৪▁▁৮৩▁\n",
      "তিনি▁▁▁▁।▁▁▁▁,▁,▁,▁▁,▁,▁,▁,▁,▁▁daju▁ক▁4▁ত\",▁Yim\",▁সল\",▁kt\"▁▁b\"▁▁▁▁ে▁▁▁।▁▁▁▁▁▁▁লগ▁▁▁,▁▁▁,এ▁u(ক)▁▁▁▁▁।▁▁mক\n",
      "তিনি▁▁▁▁▁।▁bs▁র▁্ক▁▁▁▁-পি▁টপনর▁▁▁ী▁।▁▁nm▁▁,▁,▁,▁▁মলড▁▁।▁র▁্ল▁▁▁দ▁▁রক▁শ▁▁মস▁▁।▁থরদ▁গ▁▁স,▁টগ,▁লিবল▁▁▁টন।▁ল\n",
      "তিনি▁▁▁▁▁▁ত।▁▁▁▁▁▁▁▁▁▁▁র▁▁▁▁।▁▁▁দ▁ট\"▁▁▁▁▁▁।▁▁▁দ▁কট▁ক\"▁▁দ▁\"▁▁▁।▁-এ▁▁▁দ▁ভভ\",▁দ▁ল▁▁▁\"▁▁দ▁ন▁▁▁\"▁▁▁।▁▁▁▁▁▁।▁া\n"
     ]
    }
   ],
   "source": [
    "TEXT ='তিনি' #তিনি মারা গেছেন মাস তিনেক\n",
    "N_WORDS = 100\n",
    "N_SENTENCES = 5\n",
    "for _ in range(N_SENTENCES):\n",
    "  s = learn.predict(TEXT, N_WORDS, temperature=0.75)\n",
    "  ret = TEXT\n",
    "  for i in range(len(TEXT)+1,len(s)):\n",
    "    if(s[i-1]==' '):\n",
    "      ret += s[i]\n",
    "  print(ret)"
   ]
  },
  {
   "cell_type": "markdown",
   "metadata": {},
   "source": [
    "## Utils"
   ]
  },
  {
   "cell_type": "code",
   "execution_count": 0,
   "metadata": {
    "colab": {},
    "colab_type": "code",
    "id": "IO0vnAMuX4aF"
   },
   "outputs": [],
   "source": [
    "def testing(dts):\n",
    "  df = pd.read_csv(dts) \n",
    "  text_array = df[\"text\"].tolist()\n",
    "  print(len(text_array))\n",
    "\n",
    "  final_preds = []\n",
    "\n",
    "  for text in text_array:\n",
    "      preds = learn_cls.predict(text)\n",
    "      final_preds.append(str(preds[0]))\n",
    "\n",
    "  targets = df[\"label\"].tolist()\n",
    "\n",
    "  err=[]\n",
    "  count =0;\n",
    "  tst = len(text_array)\n",
    "\n",
    "  for i in range(tst):\n",
    "      if(targets[i]==final_preds[i]):\n",
    "          count = count+1\n",
    "      else:\n",
    "  #         print(targets[i] + \", \" + final_preds[i] + ';')\n",
    "          err.append((targets[i],final_preds[i]))\n",
    "  print(\"Accuracy: \")\n",
    "  print(count/tst)\n",
    "  print(err)\n",
    "  \n",
    "  return final_preds,targets"
   ]
  },
  {
   "cell_type": "markdown",
   "metadata": {
    "colab_type": "text",
    "id": "6_tkU_qffTo4"
   },
   "source": [
    "## BAAD6 Dataset"
   ]
  },
  {
   "cell_type": "markdown",
   "metadata": {
    "colab_type": "text",
    "id": "tj4EgeYUfWAO"
   },
   "source": [
    "### LM Tuning"
   ]
  },
  {
   "cell_type": "code",
   "execution_count": 0,
   "metadata": {
    "colab": {},
    "colab_type": "code",
    "id": "C89PTtp5gFP9"
   },
   "outputs": [],
   "source": [
    "data_lm_AA = TextLMDataBunch.from_csv(aa2, 'ulm_train.csv', bs=bs , bptt=bptt,tokenizer=mycust_tok, vocab=sp_vocab)\n",
    "data_lm_AA.save('bhai_AA_subword_wiki_lm.pkl')"
   ]
  },
  {
   "cell_type": "code",
   "execution_count": 23,
   "metadata": {
    "colab": {
     "base_uri": "https://localhost:8080/",
     "height": 340
    },
    "colab_type": "code",
    "id": "rq_VTjMGgFNm",
    "outputId": "a2b5eb9b-4321-4163-bdbe-74828f0d2b87"
   },
   "outputs": [
    {
     "data": {
      "text/html": [
       "<table border=\"1\" class=\"dataframe\">\n",
       "  <thead>\n",
       "    <tr style=\"text-align: right;\">\n",
       "      <th>idx</th>\n",
       "      <th>text</th>\n",
       "    </tr>\n",
       "  </thead>\n",
       "  <tbody>\n",
       "    <tr>\n",
       "      <td>0</td>\n",
       "      <td>▁ গত ▁একবছর ▁ধরে ▁কোনো ▁এক ▁দিন ▁পালন ▁করতে ▁পারতো । ▁নির্বাচন ের ▁পরপরই ▁এটা ▁হওয়া ▁উচিত ▁ছিল । ▁কিন্তু ▁তারা তো ▁তখন ▁আন্দোলন ▁করেনি । ▁দেশে ▁বিদেশে ▁যখন ▁সরকারের ▁সাফল্য ▁চরম ে , ▁কূটনৈতিক ভাবে ▁সরকার ▁সফল , ▁ঠিক ▁তখনই ▁বিএনপি ▁জামাত ▁অস্থিরতা ▁তৈরির ▁ফাঁদ ▁পাত ল । ▁সাধারণ ▁মানুষকে ▁জিম্মি ▁করে ▁সরকারের ▁চাপ ▁দেওয়ার ▁মতো ▁একটি ▁ভুল ▁কৌশলে ▁পা ▁দিল । ▁ গত ▁এক ▁বছর ▁ধরেই ▁বিভিন্ন ▁পত্র</td>\n",
       "    </tr>\n",
       "    <tr>\n",
       "      <td>1</td>\n",
       "      <td>▁কিছু ▁গুপ্ত ঘ ন্টি ▁বাজানোর ▁ব্যবস্থা ▁রয়েছে । ▁অদৃশ্য ▁রশ্মি তে ▁পা ▁বাঁধ লেই ▁সেই ▁পাগলা ▁ঘন ্টি ▁বেজ ে ▁উঠবে , ▁আর ▁দান ো টা ▁টেলি ভী ষণ ▁দেখা ▁ফেলে ▁উঠে ▁এসে ▁আলু র ▁বদলে ▁তাকেই ▁পুড়িয়ে ▁জল যোগ ▁করবে । ▁তিনি ▁পকেট ▁থেকে ▁একটা ▁প্যাকেট ▁বের ▁করে ▁মাসুদ ্রা নার ▁মশলা ▁বার ▁করে ▁বাতাসে ▁ছড়িয়ে ▁দিলেন । ▁এই ▁মশলা য় ▁কোনো ▁গন্ধ ▁নেই , ▁শুধু ▁বাতাসে ▁ছড়িয়ে ▁দিলে</td>\n",
       "    </tr>\n",
       "    <tr>\n",
       "      <td>2</td>\n",
       "      <td>▁হয়েছেন ▁বহু ▁লোক । ▁আজ ▁বাংলাদেশ ▁সময় ▁দুপুর ▁১২ টা ▁১১ ▁মিনিট ▁২৭ ▁সেকেন্ডে ▁এ ▁ভূমিকম্প ▁অনুভূত ▁হয় । ▁ভূমিকম্পের ▁উৎপত্তিস্থল ▁ঢাকা ▁থেকে ▁৭৪ ৫ ▁কিলোমিটার ▁দূরে , ▁নেপালের ▁রাজধানী ▁কাঠমান্ডু ▁ও ▁ পো খার ার ▁মাঝখানে ▁ লাম জু ং ▁এলাকায় ▁ছিল ▁ ভুমি কম্প টির ▁উৎপত্তিস্থল , ▁এবং ▁রিখটার ▁স্কেলে ▁এর ▁মাত্রা ▁ছিল ▁৭ . ৯ । ▁নেপাল ▁ছাড়াও ▁সমগ্র ▁উত্তর ▁ভারত , ▁পাকিস্তান ▁ও ▁বাংলাদেশ ▁জুড়ে ▁এই</td>\n",
       "    </tr>\n",
       "    <tr>\n",
       "      <td>3</td>\n",
       "      <td>' জন ▁লোক ▁আগে ▁ভাগে ▁টের ▁পায় । ▁তারা ▁কারা ? ▁আত িফ ▁ব্যাচেলর । ▁থাকেন ▁এক ▁ছাদ ের ▁চিল ে কোঠা য় । ▁সঙ্গে ▁থাকে ▁একমাত্র ▁প্রায় াত ▁বোনের ▁নয় ▁দশ ▁বছরের ▁শিশু ▁কন্যা ▁রূপকথা । ▁যার ▁বাবা ও ▁খুন ▁হয় ▁এক ▁রহস্যময় ▁নৌকা ▁ ডুবি তে । ▁রূপকথা ▁যাকে ▁কিনা ▁তার ▁মামা ▁আত িফ ▁ আরমান ▁ওরফে ▁ভাড়াটে ▁খুনি ▁কথা ▁নামে ▁ডাকে , ▁সে ▁ওই টুকু ▁পি চ্চি</td>\n",
       "    </tr>\n",
       "    <tr>\n",
       "      <td>4</td>\n",
       "      <td>▁দুধ ▁ কুড়া তে ▁গিয়ে ▁সে ▁ভগবান ▁শিবের ▁সেই ▁ছদ্ম বেশী ▁ মৃগ ের ▁সিং ▁খুঁজে ▁পায় । ▁তখন ▁থেকেই ▁এখানে ▁গ্রামবাসী ▁মিলে ▁ভগবান ▁পশু পতি নাথের ▁নামে ▁এখানে ▁একটি ▁মন্দির ▁প্রতিষ্ঠা ▁করেন । আরেকটি ▁জনপ্রিয় ▁জনশ্রুতি ▁হল , ▁ভগবান ▁শিব ▁আর ▁দেবী ▁প্রভাতী ▁কাঠ মুন্ড ু ▁ ভ্যাল ীতে ▁বেড়াতে ▁এসেছিলেন । ▁তারা ▁বাগ মতী ▁নদীতে ▁স্নান ▁করার ▁সময় ▁ওপারে র ▁জঙ্গল ের ▁সৌন্দর্য ▁দেখে ▁ভগবান ▁শিব ▁আ প্লুত</td>\n",
       "    </tr>\n",
       "  </tbody>\n",
       "</table>"
      ],
      "text/plain": [
       "<IPython.core.display.HTML object>"
      ]
     },
     "metadata": {
      "tags": []
     },
     "output_type": "display_data"
    }
   ],
   "source": [
    "data_lm_AA.show_batch()"
   ]
  },
  {
   "cell_type": "code",
   "execution_count": 0,
   "metadata": {
    "colab": {},
    "colab_type": "code",
    "id": "sojwbilRgFEI"
   },
   "outputs": [],
   "source": [
    "data_lm_AA=load_data(aa2,'bhai_AA_subword_wiki_lm.pkl',bs=bs)"
   ]
  },
  {
   "cell_type": "code",
   "execution_count": 0,
   "metadata": {
    "colab": {},
    "colab_type": "code",
    "id": "-g-0QtWZgFAT"
   },
   "outputs": [],
   "source": [
    "learn = language_model_learner(data_lm_AA, AWD_LSTM, pretrained=False, drop_mult=0.5)"
   ]
  },
  {
   "cell_type": "code",
   "execution_count": 0,
   "metadata": {
    "colab": {},
    "colab_type": "code",
    "id": "qoY4GjFBgE8B"
   },
   "outputs": [],
   "source": [
    "learn.load(wiki/'models'/'wiki_subword_lm_30');"
   ]
  },
  {
   "cell_type": "code",
   "execution_count": 28,
   "metadata": {
    "colab": {
     "base_uri": "https://localhost:8080/",
     "height": 300
    },
    "colab_type": "code",
    "id": "kwMw-4r6X4Ri",
    "outputId": "64d26817-0a7e-41f7-ad69-ac755a6ad2ae"
   },
   "outputs": [
    {
     "data": {
      "text/html": [],
      "text/plain": [
       "<IPython.core.display.HTML object>"
      ]
     },
     "metadata": {
      "tags": []
     },
     "output_type": "display_data"
    },
    {
     "name": "stdout",
     "output_type": "stream",
     "text": [
      "LR Finder is complete, type {learner_name}.recorder.plot() to see the graph.\n"
     ]
    },
    {
     "data": {
      "image/png": "[encoded data removed]",
      "text/plain": [
       "<Figure size 432x288 with 1 Axes>"
      ]
     },
     "metadata": {
      "tags": []
     },
     "output_type": "display_data"
    }
   ],
   "source": [
    "learn.freeze()\n",
    "learn.lr_find()\n",
    "learn.recorder.plot()"
   ]
  },
  {
   "cell_type": "code",
   "execution_count": 29,
   "metadata": {
    "colab": {
     "base_uri": "https://localhost:8080/",
     "height": 283
    },
    "colab_type": "code",
    "id": "8kK2DdKn6aTw",
    "outputId": "290ec7f9-fcac-4caa-964e-624c9532669d"
   },
   "outputs": [
    {
     "data": {
      "image/png": "[encoded data removed]",
      "text/plain": [
       "<Figure size 432x288 with 1 Axes>"
      ]
     },
     "metadata": {
      "tags": []
     },
     "output_type": "display_data"
    }
   ],
   "source": [
    "learn.recorder.plot(skip_end=15)"
   ]
  },
  {
   "cell_type": "code",
   "execution_count": 30,
   "metadata": {
    "colab": {
     "base_uri": "https://localhost:8080/",
     "height": 111
    },
    "colab_type": "code",
    "id": "zjN_2U6RgUWB",
    "outputId": "357cecbd-070a-4930-c742-631a2d48546f"
   },
   "outputs": [
    {
     "data": {
      "text/html": [
       "<table border=\"1\" class=\"dataframe\">\n",
       "  <thead>\n",
       "    <tr style=\"text-align: left;\">\n",
       "      <th>epoch</th>\n",
       "      <th>train_loss</th>\n",
       "      <th>valid_loss</th>\n",
       "      <th>accuracy</th>\n",
       "      <th>time</th>\n",
       "    </tr>\n",
       "  </thead>\n",
       "  <tbody>\n",
       "    <tr>\n",
       "      <td>0</td>\n",
       "      <td>6.377289</td>\n",
       "      <td>6.438696</td>\n",
       "      <td>0.130913</td>\n",
       "      <td>03:35</td>\n",
       "    </tr>\n",
       "    <tr>\n",
       "      <td>1</td>\n",
       "      <td>5.735713</td>\n",
       "      <td>5.930586</td>\n",
       "      <td>0.163125</td>\n",
       "      <td>03:35</td>\n",
       "    </tr>\n",
       "  </tbody>\n",
       "</table>"
      ],
      "text/plain": [
       "<IPython.core.display.HTML object>"
      ]
     },
     "metadata": {
      "tags": []
     },
     "output_type": "display_data"
    }
   ],
   "source": [
    "learn.fit_one_cycle(2, 2e-2)\n",
    "learn.save('bhai_AA_lm_wiki_subword_head');"
   ]
  },
  {
   "cell_type": "code",
   "execution_count": 32,
   "metadata": {
    "colab": {
     "base_uri": "https://localhost:8080/",
     "height": 361
    },
    "colab_type": "code",
    "id": "l3ujWTwSgUSY",
    "outputId": "ff988da3-b3ff-4fbf-8764-8672583950c3"
   },
   "outputs": [
    {
     "data": {
      "text/html": [
       "<table border=\"1\" class=\"dataframe\">\n",
       "  <thead>\n",
       "    <tr style=\"text-align: left;\">\n",
       "      <th>epoch</th>\n",
       "      <th>train_loss</th>\n",
       "      <th>valid_loss</th>\n",
       "      <th>accuracy</th>\n",
       "      <th>time</th>\n",
       "    </tr>\n",
       "  </thead>\n",
       "  <tbody>\n",
       "    <tr>\n",
       "      <td>0</td>\n",
       "      <td>5.905792</td>\n",
       "      <td>6.079459</td>\n",
       "      <td>0.150694</td>\n",
       "      <td>03:40</td>\n",
       "    </tr>\n",
       "    <tr>\n",
       "      <td>1</td>\n",
       "      <td>5.516206</td>\n",
       "      <td>5.727907</td>\n",
       "      <td>0.177403</td>\n",
       "      <td>03:39</td>\n",
       "    </tr>\n",
       "  </tbody>\n",
       "</table>"
      ],
      "text/plain": [
       "<IPython.core.display.HTML object>"
      ]
     },
     "metadata": {
      "tags": []
     },
     "output_type": "display_data"
    },
    {
     "data": {
      "text/html": [
       "<table border=\"1\" class=\"dataframe\">\n",
       "  <thead>\n",
       "    <tr style=\"text-align: left;\">\n",
       "      <th>epoch</th>\n",
       "      <th>train_loss</th>\n",
       "      <th>valid_loss</th>\n",
       "      <th>accuracy</th>\n",
       "      <th>time</th>\n",
       "    </tr>\n",
       "  </thead>\n",
       "  <tbody>\n",
       "    <tr>\n",
       "      <td>0</td>\n",
       "      <td>5.901317</td>\n",
       "      <td>6.067568</td>\n",
       "      <td>0.150988</td>\n",
       "      <td>03:57</td>\n",
       "    </tr>\n",
       "    <tr>\n",
       "      <td>1</td>\n",
       "      <td>5.510177</td>\n",
       "      <td>5.706888</td>\n",
       "      <td>0.179256</td>\n",
       "      <td>03:57</td>\n",
       "    </tr>\n",
       "  </tbody>\n",
       "</table>"
      ],
      "text/plain": [
       "<IPython.core.display.HTML object>"
      ]
     },
     "metadata": {
      "tags": []
     },
     "output_type": "display_data"
    },
    {
     "data": {
      "text/html": [
       "<table border=\"1\" class=\"dataframe\">\n",
       "  <thead>\n",
       "    <tr style=\"text-align: left;\">\n",
       "      <th>epoch</th>\n",
       "      <th>train_loss</th>\n",
       "      <th>valid_loss</th>\n",
       "      <th>accuracy</th>\n",
       "      <th>time</th>\n",
       "    </tr>\n",
       "  </thead>\n",
       "  <tbody>\n",
       "    <tr>\n",
       "      <td>0</td>\n",
       "      <td>5.661733</td>\n",
       "      <td>6.057470</td>\n",
       "      <td>0.149062</td>\n",
       "      <td>04:06</td>\n",
       "    </tr>\n",
       "    <tr>\n",
       "      <td>1</td>\n",
       "      <td>5.738271</td>\n",
       "      <td>5.946236</td>\n",
       "      <td>0.156972</td>\n",
       "      <td>04:06</td>\n",
       "    </tr>\n",
       "    <tr>\n",
       "      <td>2</td>\n",
       "      <td>5.408672</td>\n",
       "      <td>5.665642</td>\n",
       "      <td>0.177932</td>\n",
       "      <td>04:06</td>\n",
       "    </tr>\n",
       "    <tr>\n",
       "      <td>3</td>\n",
       "      <td>4.937543</td>\n",
       "      <td>5.564147</td>\n",
       "      <td>0.189668</td>\n",
       "      <td>04:06</td>\n",
       "    </tr>\n",
       "  </tbody>\n",
       "</table>"
      ],
      "text/plain": [
       "<IPython.core.display.HTML object>"
      ]
     },
     "metadata": {
      "tags": []
     },
     "output_type": "display_data"
    }
   ],
   "source": [
    "learn.freeze_to(-2)\n",
    "learn.fit_one_cycle(2, 2e-2)\n",
    "learn.freeze_to(-3)\n",
    "learn.fit_one_cycle(2, 2e-2)\n",
    "learn.unfreeze()\n",
    "learn.fit_one_cycle(4, 2e-2)\n",
    "learn.save('bhai_AA_lm_wiki_subword_body')"
   ]
  },
  {
   "cell_type": "code",
   "execution_count": 0,
   "metadata": {
    "colab": {},
    "colab_type": "code",
    "id": "ya6CdV_sgUOj"
   },
   "outputs": [],
   "source": [
    "learn.save_encoder('bhai_AA_lm_wiki_subword_enc')"
   ]
  },
  {
   "cell_type": "markdown",
   "metadata": {
    "colab_type": "text",
    "id": "A3crYFs8gisO"
   },
   "source": [
    "### Classifier"
   ]
  },
  {
   "cell_type": "code",
   "execution_count": 0,
   "metadata": {
    "colab": {},
    "colab_type": "code",
    "id": "cUen5_EDgFK-"
   },
   "outputs": [],
   "source": [
    "data_clas = TextClasDataBunch.from_csv(aa2, 'ulm_train.csv',tokenizer=mycust_tok, vocab=sp_vocab, bs=bs)\n",
    "data_clas.save('bhai_AA_subword_wiki_clas.pkl')"
   ]
  },
  {
   "cell_type": "code",
   "execution_count": 35,
   "metadata": {
    "colab": {
     "base_uri": "https://localhost:8080/",
     "height": 323
    },
    "colab_type": "code",
    "id": "LwVhNvXkgFH3",
    "outputId": "a4315df8-0f0e-4970-d75b-13fe02f84d9f"
   },
   "outputs": [
    {
     "data": {
      "text/html": [
       "<table border=\"1\" class=\"dataframe\">\n",
       "  <thead>\n",
       "    <tr style=\"text-align: right;\">\n",
       "      <th>text</th>\n",
       "      <th>target</th>\n",
       "    </tr>\n",
       "  </thead>\n",
       "  <tbody>\n",
       "    <tr>\n",
       "      <td>▁xx bo s ▁দেখি তে ▁ গিয়া ছি ▁পর্বতমালা ▁একটু ▁বড় ▁... ▁লেখা টা ▁২০০৪ ▁সালের ▁অক্টোবরে ▁লেখা । ▁বছর দু য়ে ক ▁আগে ▁একাধিকবার ▁অনলাইনে ▁প্রকাশিত । ▁এই ▁লেখা টা ▁একাধিক ▁কারণে ▁আমার ▁প্রিয় । ▁প্রথমত , ▁লেখা টা ▁প্রায় ▁এক ▁আসনে ▁লেখা , ▁মাঝখানে ▁শুধু ▁ঘুমিয়ে ছিলাম ▁একটু । ▁দ্বিতীয়ত , ▁এখন ▁পর্যন্ত ▁এটাই ▁আমার ▁ম্যাগ নাম ▁ও পাস ▁( আয়তন ের ▁দিক ▁থেকে ) । ▁তৃতীয় ত</td>\n",
       "      <td>hm</td>\n",
       "    </tr>\n",
       "    <tr>\n",
       "      <td>▁xx bo s ▁দেখি তে ▁ গিয়া ছি ▁পর্বতমালা ▁একটু ▁বড় ▁... ▁লেখা টা ▁২০০৪ ▁সালের ▁অক্টোবরে ▁লেখা । ▁বছর দু য়ে ক ▁আগে ▁একাধিকবার ▁অনলাইনে ▁প্রকাশিত । ▁এই ▁লেখা টা ▁একাধিক ▁কারণে ▁আমার ▁প্রিয় । ▁প্রথমত , ▁লেখা টা ▁প্রায় ▁এক ▁আসনে ▁লেখা , ▁মাঝখানে ▁শুধু ▁ঘুমিয়ে ছিলাম ▁একটু । ▁দ্বিতীয়ত , ▁এখন ▁পর্যন্ত ▁এটাই ▁আমার ▁ম্যাগ নাম ▁ও পাস ▁( আয়তন ের ▁দিক ▁থেকে ) । ▁তৃতীয় ত</td>\n",
       "      <td>hm</td>\n",
       "    </tr>\n",
       "    <tr>\n",
       "      <td>▁xx bo s ▁চাহিদা পত্র ▁১ . ▁ মক বুল ▁স্ক্রিন ▁থেকে ▁চোখ ▁সরিয়ে ▁পর্যবেক্ষণ ▁ডেস্ক ▁থেকে ▁উঠে ▁পড়ল ো । ▁তার ▁মাথা ▁ টিপ টিপ ▁করে ▁ ব ▁ ্য থা ▁করছে , ▁শরীরের ▁কোষগুলো ▁একটু ▁পর ▁পর ▁যেন ▁ বিড় বিড় ▁করে ▁বলছে , ▁এক ▁কাপ ▁কফি ▁খাওয়া ▁দরকার । ▁নভো তরী ▁\" টি ম্বা ক টু \" ▁একটা ▁ছোটো ▁স্কাউট শিপ , ▁সর্বোচ্চ ▁চারজন ▁নভো না বিক</td>\n",
       "      <td>hm</td>\n",
       "    </tr>\n",
       "    <tr>\n",
       "      <td>▁xx bo s ▁আ বাহন ▁১ . ▁\" উনি ▁একজন ▁বু জ রুক ▁ছিলেন । \" ▁শামীম ের ▁কণ্ঠস্বর ে ▁তা চ্ছিল ্যের ▁কোনো ▁কম তি ▁ র ই লো ▁না । ▁সোমা ▁একটু ▁শাসন ▁করার ▁চেষ্টা ▁করলো ▁স্বামী কে , ▁\" নিজ ের ▁দাদা কে ▁কেউ ▁বু জ রুক ▁বলে ▁এভাবে ? \" ▁শামীম ▁বারান্দা র ▁কাঠের ▁রেল ি ঙে ▁পা ▁তুলে ▁দিয়ে ▁আয় েশ ▁করে ▁ চায়ের ▁কাপে</td>\n",
       "      <td>hm</td>\n",
       "    </tr>\n",
       "    <tr>\n",
       "      <td>▁xx bo s ▁গোয়েন্দা ▁ ঝা কানা কা ▁ও ▁অজ্ঞান ▁পার্টি ▁রহস্য ▁এক ▁গোয়েন্দা ▁ ঝা কানা কা ▁চোখ ▁গরম ▁করে ▁বললেন , ▁\" এ বার ও ▁কি ▁সেবার ের ▁মতো ▁দুই ▁ লম্ব রি ▁কেস ▁নিয়ে ▁হাজির ▁হলেন ▁নাকি ? \" ▁পুলিশের ▁গোয়েন্দা ▁বিভাগের ▁ডাক সাইট ে ▁দারোগা ▁কিং ক র্ত ব্য বি মূ ঢ় ▁চৌ ধার ি ▁আধ ▁হাত ▁জি ভ ▁কেটে ▁বললেন , ▁\" আর ▁লজ্জা ▁দেবেন</td>\n",
       "      <td>hm</td>\n",
       "    </tr>\n",
       "  </tbody>\n",
       "</table>"
      ],
      "text/plain": [
       "<IPython.core.display.HTML object>"
      ]
     },
     "metadata": {
      "tags": []
     },
     "output_type": "display_data"
    }
   ],
   "source": [
    "data_clas.show_batch()"
   ]
  },
  {
   "cell_type": "code",
   "execution_count": 0,
   "metadata": {
    "colab": {},
    "colab_type": "code",
    "id": "_EJUfcu4gkq4"
   },
   "outputs": [],
   "source": [
    "data_clas=load_data(aa2,'bhai_AA_subword_wiki_clas.pkl',bs=bs)"
   ]
  },
  {
   "cell_type": "code",
   "execution_count": 0,
   "metadata": {
    "colab": {},
    "colab_type": "code",
    "id": "eFD8O6D5gknN"
   },
   "outputs": [],
   "source": [
    "learn_cls = text_classifier_learner(data_clas, AWD_LSTM, drop_mult=0.5, pretrained=False)\n",
    "learn_cls.load_encoder('bhai_AA_lm_wiki_subword_enc')"
   ]
  },
  {
   "cell_type": "code",
   "execution_count": 38,
   "metadata": {
    "colab": {
     "base_uri": "https://localhost:8080/",
     "height": 300
    },
    "colab_type": "code",
    "id": "ojzOog-zjNR4",
    "outputId": "44a6ead4-92d1-465d-99f2-e8ab92848bb4"
   },
   "outputs": [
    {
     "data": {
      "text/html": [],
      "text/plain": [
       "<IPython.core.display.HTML object>"
      ]
     },
     "metadata": {
      "tags": []
     },
     "output_type": "display_data"
    },
    {
     "name": "stdout",
     "output_type": "stream",
     "text": [
      "LR Finder is complete, type {learner_name}.recorder.plot() to see the graph.\n"
     ]
    },
    {
     "data": {
      "image/png": "[encoded data removed]",
      "text/plain": [
       "<Figure size 432x288 with 1 Axes>"
      ]
     },
     "metadata": {
      "tags": []
     },
     "output_type": "display_data"
    }
   ],
   "source": [
    "learn_cls.freeze()\n",
    "learn_cls.lr_find()\n",
    "learn_cls.recorder.plot()"
   ]
  },
  {
   "cell_type": "code",
   "execution_count": 39,
   "metadata": {
    "colab": {
     "base_uri": "https://localhost:8080/",
     "height": 283
    },
    "colab_type": "code",
    "id": "N9ZIUr2yKrDB",
    "outputId": "5309701d-51ba-4cd3-8d1d-aba274a9adb0"
   },
   "outputs": [
    {
     "data": {
      "image/png": "[encoded data removed]",
      "text/plain": [
       "<Figure size 432x288 with 1 Axes>"
      ]
     },
     "metadata": {
      "tags": []
     },
     "output_type": "display_data"
    }
   ],
   "source": [
    "learn_cls.recorder.plot(skip_end=10)"
   ]
  },
  {
   "cell_type": "code",
   "execution_count": 40,
   "metadata": {
    "colab": {
     "base_uri": "https://localhost:8080/",
     "height": 455
    },
    "colab_type": "code",
    "id": "jTJ1YHGCgkjp",
    "outputId": "72b5a663-b236-4cb8-91b5-290dfde28121"
   },
   "outputs": [
    {
     "data": {
      "text/html": [
       "<table border=\"1\" class=\"dataframe\">\n",
       "  <thead>\n",
       "    <tr style=\"text-align: left;\">\n",
       "      <th>epoch</th>\n",
       "      <th>train_loss</th>\n",
       "      <th>valid_loss</th>\n",
       "      <th>accuracy</th>\n",
       "      <th>time</th>\n",
       "    </tr>\n",
       "  </thead>\n",
       "  <tbody>\n",
       "    <tr>\n",
       "      <td>0</td>\n",
       "      <td>0.770532</td>\n",
       "      <td>0.345203</td>\n",
       "      <td>0.927978</td>\n",
       "      <td>01:52</td>\n",
       "    </tr>\n",
       "    <tr>\n",
       "      <td>1</td>\n",
       "      <td>0.446829</td>\n",
       "      <td>0.167504</td>\n",
       "      <td>0.952909</td>\n",
       "      <td>01:52</td>\n",
       "    </tr>\n",
       "  </tbody>\n",
       "</table>"
      ],
      "text/plain": [
       "<IPython.core.display.HTML object>"
      ]
     },
     "metadata": {
      "tags": []
     },
     "output_type": "display_data"
    },
    {
     "data": {
      "text/html": [
       "<table border=\"1\" class=\"dataframe\">\n",
       "  <thead>\n",
       "    <tr style=\"text-align: left;\">\n",
       "      <th>epoch</th>\n",
       "      <th>train_loss</th>\n",
       "      <th>valid_loss</th>\n",
       "      <th>accuracy</th>\n",
       "      <th>time</th>\n",
       "    </tr>\n",
       "  </thead>\n",
       "  <tbody>\n",
       "    <tr>\n",
       "      <td>0</td>\n",
       "      <td>0.319471</td>\n",
       "      <td>0.228133</td>\n",
       "      <td>0.936288</td>\n",
       "      <td>01:57</td>\n",
       "    </tr>\n",
       "    <tr>\n",
       "      <td>1</td>\n",
       "      <td>0.226566</td>\n",
       "      <td>0.156615</td>\n",
       "      <td>0.950139</td>\n",
       "      <td>02:08</td>\n",
       "    </tr>\n",
       "  </tbody>\n",
       "</table>"
      ],
      "text/plain": [
       "<IPython.core.display.HTML object>"
      ]
     },
     "metadata": {
      "tags": []
     },
     "output_type": "display_data"
    },
    {
     "data": {
      "text/html": [
       "<table border=\"1\" class=\"dataframe\">\n",
       "  <thead>\n",
       "    <tr style=\"text-align: left;\">\n",
       "      <th>epoch</th>\n",
       "      <th>train_loss</th>\n",
       "      <th>valid_loss</th>\n",
       "      <th>accuracy</th>\n",
       "      <th>time</th>\n",
       "    </tr>\n",
       "  </thead>\n",
       "  <tbody>\n",
       "    <tr>\n",
       "      <td>0</td>\n",
       "      <td>0.171769</td>\n",
       "      <td>0.170715</td>\n",
       "      <td>0.955679</td>\n",
       "      <td>02:32</td>\n",
       "    </tr>\n",
       "    <tr>\n",
       "      <td>1</td>\n",
       "      <td>0.142452</td>\n",
       "      <td>0.171551</td>\n",
       "      <td>0.958449</td>\n",
       "      <td>02:30</td>\n",
       "    </tr>\n",
       "  </tbody>\n",
       "</table>"
      ],
      "text/plain": [
       "<IPython.core.display.HTML object>"
      ]
     },
     "metadata": {
      "tags": []
     },
     "output_type": "display_data"
    },
    {
     "data": {
      "text/html": [
       "<table border=\"1\" class=\"dataframe\">\n",
       "  <thead>\n",
       "    <tr style=\"text-align: left;\">\n",
       "      <th>epoch</th>\n",
       "      <th>train_loss</th>\n",
       "      <th>valid_loss</th>\n",
       "      <th>accuracy</th>\n",
       "      <th>time</th>\n",
       "    </tr>\n",
       "  </thead>\n",
       "  <tbody>\n",
       "    <tr>\n",
       "      <td>0</td>\n",
       "      <td>0.092083</td>\n",
       "      <td>0.170938</td>\n",
       "      <td>0.958449</td>\n",
       "      <td>02:55</td>\n",
       "    </tr>\n",
       "    <tr>\n",
       "      <td>1</td>\n",
       "      <td>0.082727</td>\n",
       "      <td>0.159665</td>\n",
       "      <td>0.955679</td>\n",
       "      <td>03:04</td>\n",
       "    </tr>\n",
       "    <tr>\n",
       "      <td>2</td>\n",
       "      <td>0.073273</td>\n",
       "      <td>0.160354</td>\n",
       "      <td>0.950139</td>\n",
       "      <td>03:03</td>\n",
       "    </tr>\n",
       "    <tr>\n",
       "      <td>3</td>\n",
       "      <td>0.064865</td>\n",
       "      <td>0.159213</td>\n",
       "      <td>0.952909</td>\n",
       "      <td>02:51</td>\n",
       "    </tr>\n",
       "  </tbody>\n",
       "</table>"
      ],
      "text/plain": [
       "<IPython.core.display.HTML object>"
      ]
     },
     "metadata": {
      "tags": []
     },
     "output_type": "display_data"
    }
   ],
   "source": [
    "learn_cls.fit_one_cycle(2, 1e-2, moms=(0.8,0.7))\n",
    "learn_cls.save('bhai_wiki_subword_cls')\n",
    "learn_cls.freeze_to(-2)\n",
    "learn_cls.fit_one_cycle(2 , slice(1e-2/(2.6**4),1e-2), moms=(0.8,0.7))\n",
    "learn_cls.save('bhai_wiki_subword_cls_2')\n",
    "learn_cls.freeze_to(-3)\n",
    "learn_cls.fit_one_cycle(2 , slice(1e-2/(2.6**4),1e-2), moms=(0.8,0.7))\n",
    "learn_cls.save('bhai_wiki_subword_cls_3')\n",
    "learn_cls.unfreeze()\n",
    "learn_cls.fit_one_cycle(4, slice(1e-3/(2.6**4),1e-3), moms=(0.8,0.7))\n",
    "learn_cls.save('bhai_wiki_subword_cls_4') "
   ]
  },
  {
   "cell_type": "code",
   "execution_count": 43,
   "metadata": {
    "colab": {
     "base_uri": "https://localhost:8080/",
     "height": 105
    },
    "colab_type": "code",
    "id": "GnDf1GG_gUJ2",
    "outputId": "3b608ba0-077a-49bf-b09a-5bbb7f6f6749"
   },
   "outputs": [
    {
     "name": "stdout",
     "output_type": "stream",
     "text": [
      "300\n",
      "Accuracy: \n",
      "0.9466666666666667\n",
      "[('rg', 'mk'), ('mk', 'rg'), ('ij', 'rn'), ('rn', 'mk'), ('rn', 'mk'), ('rn', 'mk'), ('mk', 'rn'), ('rg', 'mk'), ('rg', 'ij'), ('hm', 'mk'), ('fe', 'mk'), ('fe', 'mk'), ('fe', 'rn'), ('rn', 'mk'), ('rn', 'mk'), ('rg', 'rn')]\n"
     ]
    }
   ],
   "source": [
    "preds,targ = testing(aa2/'ulm_test.csv')"
   ]
  },
  {
   "cell_type": "code",
   "execution_count": 44,
   "metadata": {
    "colab": {
     "base_uri": "https://localhost:8080/",
     "height": 34
    },
    "colab_type": "code",
    "id": "3rdm4LeQB2xv",
    "outputId": "2f0a2ef1-d5da-49d2-c13a-8d0ca42954f8"
   },
   "outputs": [
    {
     "data": {
      "text/plain": [
       "0.9475674268457773"
      ]
     },
     "execution_count": 44,
     "metadata": {
      "tags": []
     },
     "output_type": "execute_result"
    }
   ],
   "source": [
    "from sklearn.metrics import f1_score\n",
    "out  = f1_score(targ, preds, average='macro') #'macro' , also == weighted cuz dataset is balanced\n",
    "out"
   ]
  }
 ],
 "metadata": {
  "accelerator": "GPU",
  "colab": {
   "collapsed_sections": [
    "Q8m3k1lITZCM",
    "UnZ6KC-VTeo-",
    "bnT8JAN_TsO0",
    "l7yWrTAEb3cW"
   ],
   "name": "SP-ULMFiT(Wiki).ipynb",
   "provenance": [],
   "version": "0.3.2"
  },
  "kernelspec": {
   "display_name": "Python 3",
   "language": "python",
   "name": "python3"
  },
  "language_info": {
   "codemirror_mode": {
    "name": "ipython",
    "version": 3
   },
   "file_extension": ".py",
   "mimetype": "text/x-python",
   "name": "python",
   "nbconvert_exporter": "python",
   "pygments_lexer": "ipython3",
   "version": "3.6.8"
  }
 },
 "nbformat": 4,
 "nbformat_minor": 1
}
