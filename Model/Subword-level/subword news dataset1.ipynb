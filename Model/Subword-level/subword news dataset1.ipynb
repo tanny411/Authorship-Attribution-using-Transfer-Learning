{
  "nbformat": 4,
  "nbformat_minor": 0,
  "metadata": {
    "colab": {
      "name": "News_subword_fullAA.ipynb",
      "version": "0.3.2",
      "provenance": [],
      "collapsed_sections": []
    },
    "kernelspec": {
      "name": "python3",
      "display_name": "Python 3"
    },
    "accelerator": "GPU"
  },
  "cells": [
    {
      "cell_type": "code",
      "metadata": {
        "id": "ht3mOv6BWiqJ",
        "colab_type": "code",
        "outputId": "40753747-fb05-4df1-b123-c240f9c95eca",
        "colab": {
          "base_uri": "https://localhost:8080/",
          "height": 214
        }
      },
      "source": [
        "!pip install sentencepiece\n",
        "!pip install tf_sentencepiece"
      ],
      "execution_count": 1,
      "outputs": [
        {
          "output_type": "stream",
          "text": [
            "Collecting sentencepiece\n",
            "\u001b[?25l  Downloading https://files.pythonhosted.org/packages/14/3d/efb655a670b98f62ec32d66954e1109f403db4d937c50d779a75b9763a29/sentencepiece-0.1.83-cp36-cp36m-manylinux1_x86_64.whl (1.0MB)\n",
            "\r\u001b[K     |▎                               | 10kB 19.9MB/s eta 0:00:01\r\u001b[K     |▋                               | 20kB 6.0MB/s eta 0:00:01\r\u001b[K     |█                               | 30kB 8.5MB/s eta 0:00:01\r\u001b[K     |█▎                              | 40kB 5.5MB/s eta 0:00:01\r\u001b[K     |█▋                              | 51kB 6.7MB/s eta 0:00:01\r\u001b[K     |██                              | 61kB 7.8MB/s eta 0:00:01\r\u001b[K     |██▏                             | 71kB 8.9MB/s eta 0:00:01\r\u001b[K     |██▌                             | 81kB 10.0MB/s eta 0:00:01\r\u001b[K     |██▉                             | 92kB 11.0MB/s eta 0:00:01\r\u001b[K     |███▏                            | 102kB 8.7MB/s eta 0:00:01\r\u001b[K     |███▌                            | 112kB 8.7MB/s eta 0:00:01\r\u001b[K     |███▉                            | 122kB 8.7MB/s eta 0:00:01\r\u001b[K     |████                            | 133kB 8.7MB/s eta 0:00:01\r\u001b[K     |████▍                           | 143kB 8.7MB/s eta 0:00:01\r\u001b[K     |████▊                           | 153kB 8.7MB/s eta 0:00:01\r\u001b[K     |█████                           | 163kB 8.7MB/s eta 0:00:01\r\u001b[K     |█████▍                          | 174kB 8.7MB/s eta 0:00:01\r\u001b[K     |█████▊                          | 184kB 8.7MB/s eta 0:00:01\r\u001b[K     |██████                          | 194kB 8.7MB/s eta 0:00:01\r\u001b[K     |██████▎                         | 204kB 8.7MB/s eta 0:00:01\r\u001b[K     |██████▋                         | 215kB 8.7MB/s eta 0:00:01\r\u001b[K     |███████                         | 225kB 8.7MB/s eta 0:00:01\r\u001b[K     |███████▎                        | 235kB 8.7MB/s eta 0:00:01\r\u001b[K     |███████▋                        | 245kB 8.7MB/s eta 0:00:01\r\u001b[K     |███████▉                        | 256kB 8.7MB/s eta 0:00:01\r\u001b[K     |████████▏                       | 266kB 8.7MB/s eta 0:00:01\r\u001b[K     |████████▌                       | 276kB 8.7MB/s eta 0:00:01\r\u001b[K     |████████▉                       | 286kB 8.7MB/s eta 0:00:01\r\u001b[K     |█████████▏                      | 296kB 8.7MB/s eta 0:00:01\r\u001b[K     |█████████▌                      | 307kB 8.7MB/s eta 0:00:01\r\u001b[K     |█████████▊                      | 317kB 8.7MB/s eta 0:00:01\r\u001b[K     |██████████                      | 327kB 8.7MB/s eta 0:00:01\r\u001b[K     |██████████▍                     | 337kB 8.7MB/s eta 0:00:01\r\u001b[K     |██████████▊                     | 348kB 8.7MB/s eta 0:00:01\r\u001b[K     |███████████                     | 358kB 8.7MB/s eta 0:00:01\r\u001b[K     |███████████▍                    | 368kB 8.7MB/s eta 0:00:01\r\u001b[K     |███████████▋                    | 378kB 8.7MB/s eta 0:00:01\r\u001b[K     |████████████                    | 389kB 8.7MB/s eta 0:00:01\r\u001b[K     |████████████▎                   | 399kB 8.7MB/s eta 0:00:01\r\u001b[K     |████████████▋                   | 409kB 8.7MB/s eta 0:00:01\r\u001b[K     |█████████████                   | 419kB 8.7MB/s eta 0:00:01\r\u001b[K     |█████████████▎                  | 430kB 8.7MB/s eta 0:00:01\r\u001b[K     |█████████████▌                  | 440kB 8.7MB/s eta 0:00:01\r\u001b[K     |█████████████▉                  | 450kB 8.7MB/s eta 0:00:01\r\u001b[K     |██████████████▏                 | 460kB 8.7MB/s eta 0:00:01\r\u001b[K     |██████████████▌                 | 471kB 8.7MB/s eta 0:00:01\r\u001b[K     |██████████████▉                 | 481kB 8.7MB/s eta 0:00:01\r\u001b[K     |███████████████▏                | 491kB 8.7MB/s eta 0:00:01\r\u001b[K     |███████████████▍                | 501kB 8.7MB/s eta 0:00:01\r\u001b[K     |███████████████▊                | 512kB 8.7MB/s eta 0:00:01\r\u001b[K     |████████████████                | 522kB 8.7MB/s eta 0:00:01\r\u001b[K     |████████████████▍               | 532kB 8.7MB/s eta 0:00:01\r\u001b[K     |████████████████▊               | 542kB 8.7MB/s eta 0:00:01\r\u001b[K     |█████████████████               | 552kB 8.7MB/s eta 0:00:01\r\u001b[K     |█████████████████▎              | 563kB 8.7MB/s eta 0:00:01\r\u001b[K     |█████████████████▋              | 573kB 8.7MB/s eta 0:00:01\r\u001b[K     |██████████████████              | 583kB 8.7MB/s eta 0:00:01\r\u001b[K     |██████████████████▎             | 593kB 8.7MB/s eta 0:00:01\r\u001b[K     |██████████████████▋             | 604kB 8.7MB/s eta 0:00:01\r\u001b[K     |███████████████████             | 614kB 8.7MB/s eta 0:00:01\r\u001b[K     |███████████████████▏            | 624kB 8.7MB/s eta 0:00:01\r\u001b[K     |███████████████████▌            | 634kB 8.7MB/s eta 0:00:01\r\u001b[K     |███████████████████▉            | 645kB 8.7MB/s eta 0:00:01\r\u001b[K     |████████████████████▏           | 655kB 8.7MB/s eta 0:00:01\r\u001b[K     |████████████████████▌           | 665kB 8.7MB/s eta 0:00:01\r\u001b[K     |████████████████████▉           | 675kB 8.7MB/s eta 0:00:01\r\u001b[K     |█████████████████████▏          | 686kB 8.7MB/s eta 0:00:01\r\u001b[K     |█████████████████████▍          | 696kB 8.7MB/s eta 0:00:01\r\u001b[K     |█████████████████████▊          | 706kB 8.7MB/s eta 0:00:01\r\u001b[K     |██████████████████████          | 716kB 8.7MB/s eta 0:00:01\r\u001b[K     |██████████████████████▍         | 727kB 8.7MB/s eta 0:00:01\r\u001b[K     |██████████████████████▊         | 737kB 8.7MB/s eta 0:00:01\r\u001b[K     |███████████████████████         | 747kB 8.7MB/s eta 0:00:01\r\u001b[K     |███████████████████████▎        | 757kB 8.7MB/s eta 0:00:01\r\u001b[K     |███████████████████████▋        | 768kB 8.7MB/s eta 0:00:01\r\u001b[K     |████████████████████████        | 778kB 8.7MB/s eta 0:00:01\r\u001b[K     |████████████████████████▎       | 788kB 8.7MB/s eta 0:00:01\r\u001b[K     |████████████████████████▋       | 798kB 8.7MB/s eta 0:00:01\r\u001b[K     |█████████████████████████       | 808kB 8.7MB/s eta 0:00:01\r\u001b[K     |█████████████████████████▏      | 819kB 8.7MB/s eta 0:00:01\r\u001b[K     |█████████████████████████▌      | 829kB 8.7MB/s eta 0:00:01\r\u001b[K     |█████████████████████████▉      | 839kB 8.7MB/s eta 0:00:01\r\u001b[K     |██████████████████████████▏     | 849kB 8.7MB/s eta 0:00:01\r\u001b[K     |██████████████████████████▌     | 860kB 8.7MB/s eta 0:00:01\r\u001b[K     |██████████████████████████▉     | 870kB 8.7MB/s eta 0:00:01\r\u001b[K     |███████████████████████████     | 880kB 8.7MB/s eta 0:00:01\r\u001b[K     |███████████████████████████▍    | 890kB 8.7MB/s eta 0:00:01\r\u001b[K     |███████████████████████████▊    | 901kB 8.7MB/s eta 0:00:01\r\u001b[K     |████████████████████████████    | 911kB 8.7MB/s eta 0:00:01\r\u001b[K     |████████████████████████████▍   | 921kB 8.7MB/s eta 0:00:01\r\u001b[K     |████████████████████████████▊   | 931kB 8.7MB/s eta 0:00:01\r\u001b[K     |█████████████████████████████   | 942kB 8.7MB/s eta 0:00:01\r\u001b[K     |█████████████████████████████▎  | 952kB 8.7MB/s eta 0:00:01\r\u001b[K     |█████████████████████████████▋  | 962kB 8.7MB/s eta 0:00:01\r\u001b[K     |██████████████████████████████  | 972kB 8.7MB/s eta 0:00:01\r\u001b[K     |██████████████████████████████▎ | 983kB 8.7MB/s eta 0:00:01\r\u001b[K     |██████████████████████████████▋ | 993kB 8.7MB/s eta 0:00:01\r\u001b[K     |██████████████████████████████▉ | 1.0MB 8.7MB/s eta 0:00:01\r\u001b[K     |███████████████████████████████▏| 1.0MB 8.7MB/s eta 0:00:01\r\u001b[K     |███████████████████████████████▌| 1.0MB 8.7MB/s eta 0:00:01\r\u001b[K     |███████████████████████████████▉| 1.0MB 8.7MB/s eta 0:00:01\r\u001b[K     |████████████████████████████████| 1.0MB 8.7MB/s \n",
            "\u001b[?25hInstalling collected packages: sentencepiece\n",
            "Successfully installed sentencepiece-0.1.83\n",
            "Collecting tf_sentencepiece\n",
            "\u001b[?25l  Downloading https://files.pythonhosted.org/packages/dc/2c/20800032089a9271757921f3adc1f2c7ec2d294ec9fa07b3115fab9d27c2/tf_sentencepiece-0.1.83-py2.py3-none-manylinux1_x86_64.whl (2.7MB)\n",
            "\u001b[K     |████████████████████████████████| 2.7MB 9.1MB/s \n",
            "\u001b[?25hInstalling collected packages: tf-sentencepiece\n",
            "Successfully installed tf-sentencepiece-0.1.83\n"
          ],
          "name": "stdout"
        }
      ]
    },
    {
      "cell_type": "code",
      "metadata": {
        "id": "wyqpI6mTGteh",
        "colab_type": "code",
        "outputId": "ec037520-0fe8-47b0-e5bf-e8925325d686",
        "colab": {
          "base_uri": "https://localhost:8080/",
          "height": 870
        }
      },
      "source": [
        "!pip install fastai==1.0.52"
      ],
      "execution_count": 2,
      "outputs": [
        {
          "output_type": "stream",
          "text": [
            "Collecting fastai==1.0.52\n",
            "\u001b[?25l  Downloading https://files.pythonhosted.org/packages/de/07/7203179ba2f211bfbda364f883f645aea4d09ccfd48ce5dbb00a894722bf/fastai-1.0.52-py3-none-any.whl (219kB)\n",
            "\r\u001b[K     |█▌                              | 10kB 25.0MB/s eta 0:00:01\r\u001b[K     |███                             | 20kB 6.4MB/s eta 0:00:01\r\u001b[K     |████▌                           | 30kB 9.1MB/s eta 0:00:01\r\u001b[K     |██████                          | 40kB 5.9MB/s eta 0:00:01\r\u001b[K     |███████▌                        | 51kB 7.2MB/s eta 0:00:01\r\u001b[K     |█████████                       | 61kB 8.5MB/s eta 0:00:01\r\u001b[K     |██████████▍                     | 71kB 9.7MB/s eta 0:00:01\r\u001b[K     |████████████                    | 81kB 10.8MB/s eta 0:00:01\r\u001b[K     |█████████████▍                  | 92kB 12.0MB/s eta 0:00:01\r\u001b[K     |███████████████                 | 102kB 9.6MB/s eta 0:00:01\r\u001b[K     |████████████████▍               | 112kB 9.6MB/s eta 0:00:01\r\u001b[K     |█████████████████▉              | 122kB 9.6MB/s eta 0:00:01\r\u001b[K     |███████████████████▍            | 133kB 9.6MB/s eta 0:00:01\r\u001b[K     |████████████████████▉           | 143kB 9.6MB/s eta 0:00:01\r\u001b[K     |██████████████████████▍         | 153kB 9.6MB/s eta 0:00:01\r\u001b[K     |███████████████████████▉        | 163kB 9.6MB/s eta 0:00:01\r\u001b[K     |█████████████████████████▎      | 174kB 9.6MB/s eta 0:00:01\r\u001b[K     |██████████████████████████▉     | 184kB 9.6MB/s eta 0:00:01\r\u001b[K     |████████████████████████████▎   | 194kB 9.6MB/s eta 0:00:01\r\u001b[K     |█████████████████████████████▉  | 204kB 9.6MB/s eta 0:00:01\r\u001b[K     |███████████████████████████████▎| 215kB 9.6MB/s eta 0:00:01\r\u001b[K     |████████████████████████████████| 225kB 9.6MB/s \n",
            "\u001b[?25hRequirement already satisfied: typing in /usr/local/lib/python3.6/dist-packages (from fastai==1.0.52) (3.7.4.1)\n",
            "Requirement already satisfied: fastprogress>=0.1.19 in /usr/local/lib/python3.6/dist-packages (from fastai==1.0.52) (0.1.21)\n",
            "Requirement already satisfied: beautifulsoup4 in /usr/local/lib/python3.6/dist-packages (from fastai==1.0.52) (4.6.3)\n",
            "Requirement already satisfied: scipy in /usr/local/lib/python3.6/dist-packages (from fastai==1.0.52) (1.3.1)\n",
            "Requirement already satisfied: torch>=1.0.0 in /usr/local/lib/python3.6/dist-packages (from fastai==1.0.52) (1.1.0)\n",
            "Requirement already satisfied: nvidia-ml-py3 in /usr/local/lib/python3.6/dist-packages (from fastai==1.0.52) (7.352.0)\n",
            "Requirement already satisfied: torchvision in /usr/local/lib/python3.6/dist-packages (from fastai==1.0.52) (0.3.0)\n",
            "Requirement already satisfied: spacy>=2.0.18 in /usr/local/lib/python3.6/dist-packages (from fastai==1.0.52) (2.1.8)\n",
            "Requirement already satisfied: bottleneck in /usr/local/lib/python3.6/dist-packages (from fastai==1.0.52) (1.2.1)\n",
            "Requirement already satisfied: matplotlib in /usr/local/lib/python3.6/dist-packages (from fastai==1.0.52) (3.0.3)\n",
            "Requirement already satisfied: dataclasses; python_version < \"3.7\" in /usr/local/lib/python3.6/dist-packages (from fastai==1.0.52) (0.6)\n",
            "Requirement already satisfied: packaging in /usr/local/lib/python3.6/dist-packages (from fastai==1.0.52) (19.1)\n",
            "Requirement already satisfied: numexpr in /usr/local/lib/python3.6/dist-packages (from fastai==1.0.52) (2.7.0)\n",
            "Requirement already satisfied: pandas in /usr/local/lib/python3.6/dist-packages (from fastai==1.0.52) (0.24.2)\n",
            "Requirement already satisfied: Pillow in /usr/local/lib/python3.6/dist-packages (from fastai==1.0.52) (4.3.0)\n",
            "Requirement already satisfied: numpy>=1.15 in /usr/local/lib/python3.6/dist-packages (from fastai==1.0.52) (1.16.4)\n",
            "Requirement already satisfied: requests in /usr/local/lib/python3.6/dist-packages (from fastai==1.0.52) (2.21.0)\n",
            "Requirement already satisfied: pyyaml in /usr/local/lib/python3.6/dist-packages (from fastai==1.0.52) (3.13)\n",
            "Requirement already satisfied: six in /usr/local/lib/python3.6/dist-packages (from torchvision->fastai==1.0.52) (1.12.0)\n",
            "Requirement already satisfied: murmurhash<1.1.0,>=0.28.0 in /usr/local/lib/python3.6/dist-packages (from spacy>=2.0.18->fastai==1.0.52) (1.0.2)\n",
            "Requirement already satisfied: wasabi<1.1.0,>=0.2.0 in /usr/local/lib/python3.6/dist-packages (from spacy>=2.0.18->fastai==1.0.52) (0.2.2)\n",
            "Requirement already satisfied: blis<0.3.0,>=0.2.2 in /usr/local/lib/python3.6/dist-packages (from spacy>=2.0.18->fastai==1.0.52) (0.2.4)\n",
            "Requirement already satisfied: plac<1.0.0,>=0.9.6 in /usr/local/lib/python3.6/dist-packages (from spacy>=2.0.18->fastai==1.0.52) (0.9.6)\n",
            "Requirement already satisfied: preshed<2.1.0,>=2.0.1 in /usr/local/lib/python3.6/dist-packages (from spacy>=2.0.18->fastai==1.0.52) (2.0.1)\n",
            "Requirement already satisfied: srsly<1.1.0,>=0.0.6 in /usr/local/lib/python3.6/dist-packages (from spacy>=2.0.18->fastai==1.0.52) (0.1.0)\n",
            "Requirement already satisfied: thinc<7.1.0,>=7.0.8 in /usr/local/lib/python3.6/dist-packages (from spacy>=2.0.18->fastai==1.0.52) (7.0.8)\n",
            "Requirement already satisfied: cymem<2.1.0,>=2.0.2 in /usr/local/lib/python3.6/dist-packages (from spacy>=2.0.18->fastai==1.0.52) (2.0.2)\n",
            "Requirement already satisfied: kiwisolver>=1.0.1 in /usr/local/lib/python3.6/dist-packages (from matplotlib->fastai==1.0.52) (1.1.0)\n",
            "Requirement already satisfied: python-dateutil>=2.1 in /usr/local/lib/python3.6/dist-packages (from matplotlib->fastai==1.0.52) (2.5.3)\n",
            "Requirement already satisfied: pyparsing!=2.0.4,!=2.1.2,!=2.1.6,>=2.0.1 in /usr/local/lib/python3.6/dist-packages (from matplotlib->fastai==1.0.52) (2.4.2)\n",
            "Requirement already satisfied: cycler>=0.10 in /usr/local/lib/python3.6/dist-packages (from matplotlib->fastai==1.0.52) (0.10.0)\n",
            "Requirement already satisfied: attrs in /usr/local/lib/python3.6/dist-packages (from packaging->fastai==1.0.52) (19.1.0)\n",
            "Requirement already satisfied: pytz>=2011k in /usr/local/lib/python3.6/dist-packages (from pandas->fastai==1.0.52) (2018.9)\n",
            "Requirement already satisfied: olefile in /usr/local/lib/python3.6/dist-packages (from Pillow->fastai==1.0.52) (0.46)\n",
            "Requirement already satisfied: urllib3<1.25,>=1.21.1 in /usr/local/lib/python3.6/dist-packages (from requests->fastai==1.0.52) (1.24.3)\n",
            "Requirement already satisfied: certifi>=2017.4.17 in /usr/local/lib/python3.6/dist-packages (from requests->fastai==1.0.52) (2019.6.16)\n",
            "Requirement already satisfied: idna<2.9,>=2.5 in /usr/local/lib/python3.6/dist-packages (from requests->fastai==1.0.52) (2.8)\n",
            "Requirement already satisfied: chardet<3.1.0,>=3.0.2 in /usr/local/lib/python3.6/dist-packages (from requests->fastai==1.0.52) (3.0.4)\n",
            "Requirement already satisfied: tqdm<5.0.0,>=4.10.0 in /usr/local/lib/python3.6/dist-packages (from thinc<7.1.0,>=7.0.8->spacy>=2.0.18->fastai==1.0.52) (4.28.1)\n",
            "Requirement already satisfied: setuptools in /usr/local/lib/python3.6/dist-packages (from kiwisolver>=1.0.1->matplotlib->fastai==1.0.52) (41.2.0)\n",
            "Installing collected packages: fastai\n",
            "  Found existing installation: fastai 1.0.57\n",
            "    Uninstalling fastai-1.0.57:\n",
            "      Successfully uninstalled fastai-1.0.57\n",
            "Successfully installed fastai-1.0.52\n"
          ],
          "name": "stdout"
        }
      ]
    },
    {
      "cell_type": "code",
      "metadata": {
        "id": "j-inF_79Wxe9",
        "colab_type": "code",
        "colab": {}
      },
      "source": [
        "from fastai import *\n",
        "from fastai.text import *\n",
        "\n",
        "import re\n",
        "import sentencepiece as spm"
      ],
      "execution_count": 0,
      "outputs": []
    },
    {
      "cell_type": "code",
      "metadata": {
        "id": "wXPpaCSPWQtN",
        "colab_type": "code",
        "outputId": "27c59804-b03f-47e7-f2b3-e503d62b806b",
        "colab": {
          "base_uri": "https://localhost:8080/",
          "height": 125
        }
      },
      "source": [
        "from google.colab import drive\n",
        "drive.mount('/content/gdrive')"
      ],
      "execution_count": 4,
      "outputs": [
        {
          "output_type": "stream",
          "text": [
            "Go to this URL in a browser: https://accounts.google.com/o/oauth2/auth?client_id=947318989803-6bn6qk8qdgf4n4g3pfee6491hc0brc4i.apps.googleusercontent.com&redirect_uri=urn%3Aietf%3Awg%3Aoauth%3A2.0%3Aoob&scope=email%20https%3A%2F%2Fwww.googleapis.com%2Fauth%2Fdocs.test%20https%3A%2F%2Fwww.googleapis.com%2Fauth%2Fdrive%20https%3A%2F%2Fwww.googleapis.com%2Fauth%2Fdrive.photos.readonly%20https%3A%2F%2Fwww.googleapis.com%2Fauth%2Fpeopleapi.readonly&response_type=code\n",
            "\n",
            "Enter your authorization code:\n",
            "··········\n",
            "Mounted at /content/gdrive\n"
          ],
          "name": "stdout"
        }
      ]
    },
    {
      "cell_type": "code",
      "metadata": {
        "id": "x8ANn5M3Xc9C",
        "colab_type": "code",
        "colab": {}
      },
      "source": [
        "import os\n",
        "path = Path(os.getcwd())\n",
        "path = path/'gdrive'/'My Drive'\n",
        "news=path/'Thesis Data'/'full doc csv'\n",
        "aa=path/'Thesis Data'/'Our dataset'\n",
        "aa2=path/'Thesis Data'/'AA dataset'\n",
        "subsets=aa/'subsets'"
      ],
      "execution_count": 0,
      "outputs": []
    },
    {
      "cell_type": "code",
      "metadata": {
        "id": "1hvRe6oT-fBH",
        "colab_type": "code",
        "colab": {}
      },
      "source": [
        "vocab_size = 30000\n",
        "model_prefix = 'sp'"
      ],
      "execution_count": 0,
      "outputs": []
    },
    {
      "cell_type": "code",
      "metadata": {
        "id": "J-MFdg_j_iXz",
        "colab_type": "code",
        "outputId": "df7a648f-008e-42ef-e32b-84b090a3d05e",
        "colab": {
          "base_uri": "https://localhost:8080/",
          "height": 194
        }
      },
      "source": [
        "#Head of the Vocab file: Line nums indicate index of vocab\n",
        "!head -n10 {model_prefix}.vocab | nl"
      ],
      "execution_count": 7,
      "outputs": [
        {
          "output_type": "stream",
          "text": [
            "     1\t<unk>\t0\n",
            "     2\t<s>\t0\n",
            "     3\t</s>\t0\n",
            "     4\t▁\t-1.92809\n",
            "     5\t।\t-3.08075\n",
            "     6\t,\t-3.75831\n",
            "     7\t\"\t-3.82833\n",
            "     8\t▁\"\t-4.22803\n",
            "     9\t▁ও\t-4.91756\n",
            "    10\tর\t-4.94756\n"
          ],
          "name": "stdout"
        }
      ]
    },
    {
      "cell_type": "code",
      "metadata": {
        "id": "t-VTowpvBDya",
        "colab_type": "code",
        "outputId": "f225faf4-be1d-490e-c8ae-1da6e6cf1c7b",
        "colab": {
          "base_uri": "https://localhost:8080/",
          "height": 34
        }
      },
      "source": [
        "## load up the Processor\n",
        "sp = spm.SentencePieceProcessor()\n",
        "sp.load(f'{model_prefix}.model')"
      ],
      "execution_count": 8,
      "outputs": [
        {
          "output_type": "execute_result",
          "data": {
            "text/plain": [
              "True"
            ]
          },
          "metadata": {
            "tags": []
          },
          "execution_count": 8
        }
      ]
    },
    {
      "cell_type": "code",
      "metadata": {
        "id": "7f25k7nxP1oS",
        "colab_type": "code",
        "colab": {}
      },
      "source": [
        "itos = [] #{}\n",
        "with open(f'{model_prefix}.vocab','r') as f:\n",
        "    for line_num,line in enumerate(f):\n",
        "        itos.append(line.split(\"\\t\")[0])"
      ],
      "execution_count": 0,
      "outputs": []
    },
    {
      "cell_type": "code",
      "metadata": {
        "id": "cJg3UrwIJxLQ",
        "colab_type": "code",
        "outputId": "d0efaf56-2f51-4232-9aaa-4256a4b77450",
        "colab": {
          "base_uri": "https://localhost:8080/",
          "height": 34
        }
      },
      "source": [
        "len(itos)"
      ],
      "execution_count": 10,
      "outputs": [
        {
          "output_type": "execute_result",
          "data": {
            "text/plain": [
              "30000"
            ]
          },
          "metadata": {
            "tags": []
          },
          "execution_count": 10
        }
      ]
    },
    {
      "cell_type": "code",
      "metadata": {
        "id": "MPoVAW2EJzyG",
        "colab_type": "code",
        "outputId": "ebeeb313-9839-41a7-bdd6-cbf32d8bc283",
        "colab": {
          "base_uri": "https://localhost:8080/",
          "height": 52
        }
      },
      "source": [
        "itos[:5], itos[-5:]"
      ],
      "execution_count": 11,
      "outputs": [
        {
          "output_type": "execute_result",
          "data": {
            "text/plain": [
              "(['<unk>', '<s>', '</s>', '▁', '।'],\n",
              " ['ইমরুল', '▁কামরাঙ্গীর', '▁whe', '▁অভ্যন্তরী', '/'])"
            ]
          },
          "metadata": {
            "tags": []
          },
          "execution_count": 11
        }
      ]
    },
    {
      "cell_type": "code",
      "metadata": {
        "id": "9pw4ZtL4blcM",
        "colab_type": "code",
        "colab": {}
      },
      "source": [
        "class SPTokenizer(BaseTokenizer):\n",
        "    \"Wrapper around a SentncePiece tokenizer to make it a `BaseTokenizer`.\"\n",
        "    def __init__(self, model_prefix:str):\n",
        "        self.tok = spm.SentencePieceProcessor()\n",
        "        self.tok.load(f'{model_prefix}.model')\n",
        "\n",
        "    def tokenizer(self, t:str) -> List[str]:\n",
        "        return self.tok.EncodeAsPieces(t)\n",
        "    \n",
        "class CustomTokenizer():\n",
        "    '''Wrapper for SentencePiece toeknizer to fit into Fast.ai V1'''\n",
        "    def __init__(self,tok_func:Callable,model_prefix:str, pre_rules:ListRules=None):\n",
        "        self.tok_func,self.model_prefix = tok_func,model_prefix\n",
        "        self.pre_rules  = ifnone(pre_rules,  defaults.text_pre_rules )\n",
        "        \n",
        "    def __repr__(self) -> str:\n",
        "        res = f'Tokenizer {self.tok_func.__name__} using `{self.model_prefix}` model with the following rules:\\n'\n",
        "        for rule in self.pre_rules: res += f' - {rule.__name__}\\n'\n",
        "        return res        \n",
        "\n",
        "    def process_text(self, t:str,tok:BaseTokenizer) -> List[str]:\n",
        "        \"Processe one text `t` with tokenizer `tok`.\"\n",
        "        for rule in self.pre_rules: t = rule(t)  \n",
        "        toks = tok.tokenizer(t)\n",
        "        #post rules?\n",
        "        return toks \n",
        "    \n",
        "    def _process_all_1(self,texts:Collection[str]) -> List[List[str]]:\n",
        "        'Process a list of `texts` in one process'\n",
        "        tok = self.tok_func(self.model_prefix)\n",
        "        return [self.process_text(t,tok) for t in texts]\n",
        "                                                                     \n",
        "    def process_all(self, texts:Collection[str]) -> List[List[str]]: \n",
        "        \"Process a list of `texts`.\"                                 \n",
        "        return self._process_all_1(texts)"
      ],
      "execution_count": 0,
      "outputs": []
    },
    {
      "cell_type": "code",
      "metadata": {
        "id": "dmAYJI8mBZwa",
        "colab_type": "code",
        "colab": {}
      },
      "source": [
        "#setup Vocab object for use in LM\n",
        "sp_vocab = Vocab(itos)"
      ],
      "execution_count": 0,
      "outputs": []
    },
    {
      "cell_type": "code",
      "metadata": {
        "id": "VPhGAOe8AMCV",
        "colab_type": "code",
        "colab": {}
      },
      "source": [
        "mycust_tok = CustomTokenizer(SPTokenizer,model_prefix)"
      ],
      "execution_count": 0,
      "outputs": []
    },
    {
      "cell_type": "code",
      "metadata": {
        "id": "Bdf_f-e1P9fk",
        "colab_type": "code",
        "colab": {}
      },
      "source": [
        "bs = 32\n",
        "bptt = 70"
      ],
      "execution_count": 0,
      "outputs": []
    },
    {
      "cell_type": "code",
      "metadata": {
        "id": "f6ImvEsQ7B9M",
        "colab_type": "code",
        "colab": {}
      },
      "source": [
        "data_lm = load_data(news, 'news_subword.pkl',bs=bs)"
      ],
      "execution_count": 0,
      "outputs": []
    },
    {
      "cell_type": "code",
      "metadata": {
        "id": "Z2rLRkjrADlH",
        "colab_type": "code",
        "colab": {}
      },
      "source": [
        "import matplotlib.pyplot as plt"
      ],
      "execution_count": 0,
      "outputs": []
    },
    {
      "cell_type": "code",
      "metadata": {
        "id": "LKtOIOHz69hn",
        "colab_type": "code",
        "colab": {}
      },
      "source": [
        "learn = language_model_learner(data_lm, AWD_LSTM, pretrained=False, drop_mult=0.5)"
      ],
      "execution_count": 0,
      "outputs": []
    },
    {
      "cell_type": "code",
      "metadata": {
        "id": "XTxoBCAiEX57",
        "colab_type": "code",
        "outputId": "7ec53892-3554-4bcf-85a4-07e15b0cd512",
        "colab": {
          "base_uri": "https://localhost:8080/",
          "height": 300
        }
      },
      "source": [
        "learn.lr_find();\n",
        "learn.recorder.plot();\n",
        "plt.savefig('clr_sub.eps')"
      ],
      "execution_count": 0,
      "outputs": [
        {
          "output_type": "display_data",
          "data": {
            "text/html": [
              ""
            ],
            "text/plain": [
              "<IPython.core.display.HTML object>"
            ]
          },
          "metadata": {
            "tags": []
          }
        },
        {
          "output_type": "stream",
          "text": [
            "LR Finder is complete, type {learner_name}.recorder.plot() to see the graph.\n"
          ],
          "name": "stdout"
        },
        {
          "output_type": "display_data",
          "data": {
            "image/png": "[encoded data removed]",
            "text/plain": [
              "<Figure size 432x288 with 1 Axes>"
            ]
          },
          "metadata": {
            "tags": []
          }
        }
      ]
    },
    {
      "cell_type": "code",
      "metadata": {
        "id": "SOm8FlbtZJ_A",
        "colab_type": "code",
        "outputId": "e1a3ce68-ad61-4fdc-c629-c7dcaf8abd87",
        "colab": {
          "base_uri": "https://localhost:8080/",
          "height": 282
        }
      },
      "source": [
        "learn.recorder.plot(skip_end=10)\n",
        "plt.savefig('clr_sub_skipend.eps')"
      ],
      "execution_count": 0,
      "outputs": [
        {
          "output_type": "display_data",
          "data": {
            "image/png": "[encoded data removed]",
            "text/plain": [
              "<Figure size 432x288 with 1 Axes>"
            ]
          },
          "metadata": {
            "tags": []
          }
        }
      ]
    },
    {
      "cell_type": "markdown",
      "metadata": {
        "id": "Fpm1OeIdfwn9",
        "colab_type": "text"
      },
      "source": [
        "## Our AA"
      ]
    },
    {
      "cell_type": "markdown",
      "metadata": {
        "id": "bnT8JAN_TsO0",
        "colab_type": "text"
      },
      "source": [
        "#### Our AA (LM)"
      ]
    },
    {
      "cell_type": "code",
      "metadata": {
        "id": "7fkRp0PGZ509",
        "colab_type": "code",
        "colab": {}
      },
      "source": [
        "data_lm_AA = TextLMDataBunch.from_csv(aa , 'OurDataset_train.csv', bs=bs , bptt=bptt,tokenizer=mycust_tok, vocab=sp_vocab)\n",
        "data_lm_AA.save('train_AA_subword_lm.pkl')"
      ],
      "execution_count": 0,
      "outputs": []
    },
    {
      "cell_type": "code",
      "metadata": {
        "id": "hrm024Q-aXNK",
        "colab_type": "code",
        "colab": {}
      },
      "source": [
        "data_lm_AA = load_data(aa, 'train_AA_subword_lm.pkl',bs=bs)"
      ],
      "execution_count": 0,
      "outputs": []
    },
    {
      "cell_type": "code",
      "metadata": {
        "id": "sNELRZ4cUt9A",
        "colab_type": "code",
        "outputId": "6b370430-eea4-43c4-e124-634ecc87f39f",
        "colab": {
          "base_uri": "https://localhost:8080/",
          "height": 281
        }
      },
      "source": [
        "data_lm_AA.show_batch()"
      ],
      "execution_count": 0,
      "outputs": [
        {
          "output_type": "display_data",
          "data": {
            "text/html": [
              "<table border=\"1\" class=\"dataframe\">\n",
              "  <thead>\n",
              "    <tr style=\"text-align: right;\">\n",
              "      <th>idx</th>\n",
              "      <th>text</th>\n",
              "    </tr>\n",
              "  </thead>\n",
              "  <tbody>\n",
              "    <tr>\n",
              "      <td>0</td>\n",
              "      <td>▁ র টা ইয়া ▁তাহার ▁জনপ্রিয়তা কে ▁আঘাত ▁করি বার ▁চেষ্টা ▁করি লে ▁কেমন ▁হয় ? ▁তিনি ▁তাহার ▁নায়েব কেও ▁তৎক্ষণাৎ ▁পাল্টা ▁একটা ▁ডায়রি ▁করি তে ▁থানায় ▁পাঠাই লেন ▁এবং ▁মিথ্যা ▁কথাটা ▁ ই র সাদ - র হম ের ▁কানে ▁তুলি তে ▁বল িয়া ▁দিলেন । ▁উত্তেজনা য় ▁অধীর ▁জনতা ▁সঙ্গে ▁সঙ্গে ▁কথাটা ▁বিশ্বাস ▁করিয়া ▁ ল ইল । ▁ র হম - ই র সা দের ▁প্রথম টা</td>\n",
              "    </tr>\n",
              "    <tr>\n",
              "      <td>1</td>\n",
              "      <td>▁তারপর ? ▁বাসায় ▁ফিরে ▁শোবার ▁ঘরে ▁ঢুকে ▁দেখি ▁বিছানা র ▁উপর ▁সেই ▁সু ট কে স টা ▁পড়ে ▁আছে — ▁কয়েকটা ▁চাবি ▁দিয়ে ▁সু ট কে স টা ▁খোল বার ▁চেষ্টা ▁করলাম । ▁কিন্তু ▁কোন ▁চাবি র ▁সাহায্যে ই ▁সু ট কে স টা ▁খুলতে ▁পারলাম ▁না । ▁আপনি ▁সু ট কে স টা ▁খুলতে ▁চেষ্টা ▁করেছিলেন ▁তাহলে ? ▁হ্যাঁ । ▁তারপর ? ▁কেমন ▁যেন ▁একটা ▁ভয় ▁ভূতের ▁মত ▁আমাকে</td>\n",
              "    </tr>\n",
              "    <tr>\n",
              "      <td>2</td>\n",
              "      <td>▁করে ▁বই ▁বন্ধ ▁করে ▁রাগে ▁ ফো ঁস ফো ঁস ▁করতে ▁করতে ▁বলল – বল ▁ কাহ নের ▁অর্থ ▁কী ▁আমাকে ▁বল । ▁অর্থ ▁জেনে ▁তারপর ▁পড়ব । ▁আমি ▁তোমার ▁শাশুড়ি র ▁ভাব ভঙ্গি ▁দেখে ▁একটু ▁ টেনশন ে ▁পড়ে ▁গেলাম । ▁তার ▁নেচার তো ▁জানি । ▁লোকজন ▁তিল কে ▁তাল ▁করে । ▁তোমার ▁শাশুড়ি ▁তিল কে ▁বড় ▁সাই জের ▁ক ঁ ঠা ল ▁করে । ▁ভালো ▁কথা ▁মা ,</td>\n",
              "    </tr>\n",
              "    <tr>\n",
              "      <td>3</td>\n",
              "      <td>▁না ? ▁সামান্য ▁সেন্ট ি মেন্ট ? ▁ফোন টা ▁আবার ▁তুলে ▁নিল ▁হেমা ঙ্গ । ▁চারু দি , ▁কেমন ▁আছি স ? ▁কেমন ▁আছি ? ▁তা ▁দিয়ে ▁তোর ▁কি ▁দরকার ? ▁আমাদের ▁থাকা ▁বা ▁না - থাকা য় ▁তোর ▁কী ▁আসে ▁যায় ? ▁আমার ▁খোঁজ ▁করেছিল ি ▁কেন ? ▁চারু শীল া ▁একটু ▁চুপ ▁করে ▁থেকে ▁বলল , ▁এখন ▁আটটা ▁বাজে । ▁আসতে ▁পারব ি ? ▁ টা য়ার্ড ▁লাগছে</td>\n",
              "    </tr>\n",
              "    <tr>\n",
              "      <td>4</td>\n",
              "      <td>, ▁মা ▁বললেন – খা ড় ইয়া ▁পানি ▁খাস ▁ক্যান ? ▁ খা ড় ইয়া ▁পানি ▁খাই লে ▁ শয়তান ের ▁মু ত ▁খাওয়া ▁হয় । ▁পেশা ব খানা ▁থেকে ▁এলে ▁হাত ▁পরীক্ষা ▁করেন ▁ভেজা ▁কি ▁না , ▁না ▁ভেজা ▁থাকলে – মু ই তা ▁পানি ▁ ল ই ছ স ? ▁হিন্দু রা ▁মু ই তা ▁পানি ▁ লয় ▁না । ▁ কাফ ের ের ▁একমাত্র ▁স্থান ▁দো য</td>\n",
              "    </tr>\n",
              "  </tbody>\n",
              "</table>"
            ],
            "text/plain": [
              "<IPython.core.display.HTML object>"
            ]
          },
          "metadata": {
            "tags": []
          }
        }
      ]
    },
    {
      "cell_type": "code",
      "metadata": {
        "id": "IwWpgtFVUxGE",
        "colab_type": "code",
        "colab": {}
      },
      "source": [
        "learn = language_model_learner(data_lm_AA, AWD_LSTM, pretrained=False, drop_mult=0.5)"
      ],
      "execution_count": 0,
      "outputs": []
    },
    {
      "cell_type": "code",
      "metadata": {
        "id": "R38kMPyjU1yS",
        "colab_type": "code",
        "colab": {}
      },
      "source": [
        "learn.load(news/'models'/'news_subword_lm_31');"
      ],
      "execution_count": 0,
      "outputs": []
    },
    {
      "cell_type": "code",
      "metadata": {
        "id": "8DdhLzfLVLQ4",
        "colab_type": "code",
        "outputId": "b746c049-98a2-4ce9-e1f0-9db844d8ba0e",
        "colab": {
          "base_uri": "https://localhost:8080/",
          "height": 300
        }
      },
      "source": [
        "learn.lr_find();\n",
        "learn.recorder.plot();\n",
        "plt.savefig('clr_sub_lmAA.eps')"
      ],
      "execution_count": 0,
      "outputs": [
        {
          "output_type": "display_data",
          "data": {
            "text/html": [
              ""
            ],
            "text/plain": [
              "<IPython.core.display.HTML object>"
            ]
          },
          "metadata": {
            "tags": []
          }
        },
        {
          "output_type": "stream",
          "text": [
            "LR Finder is complete, type {learner_name}.recorder.plot() to see the graph.\n"
          ],
          "name": "stdout"
        },
        {
          "output_type": "display_data",
          "data": {
            "image/png": "[encoded data removed]",
            "text/plain": [
              "<Figure size 432x288 with 1 Axes>"
            ]
          },
          "metadata": {
            "tags": []
          }
        }
      ]
    },
    {
      "cell_type": "code",
      "metadata": {
        "id": "Qpn7gRt3VQhk",
        "colab_type": "code",
        "outputId": "83378759-47be-4196-8ea0-bdac3a1c9031",
        "colab": {
          "base_uri": "https://localhost:8080/",
          "height": 282
        }
      },
      "source": [
        "learn.recorder.plot(skip_end=20);\n",
        "plt.savefig('clr_sub_lmAA_skipend.eps')"
      ],
      "execution_count": 0,
      "outputs": [
        {
          "output_type": "display_data",
          "data": {
            "image/png": "[encoded data removed]",
            "text/plain": [
              "<Figure size 432x288 with 1 Axes>"
            ]
          },
          "metadata": {
            "tags": []
          }
        }
      ]
    },
    {
      "cell_type": "code",
      "metadata": {
        "id": "Uy_1Ne4sldOH",
        "colab_type": "code",
        "outputId": "61b78c7f-99b7-4ee6-a119-55970e66e441",
        "colab": {
          "base_uri": "https://localhost:8080/",
          "height": 107
        }
      },
      "source": [
        "learn.freeze()\n",
        "learn.fit_one_cycle(2, 1e-3)\n",
        "learn.save('AA_subword_lm_head');"
      ],
      "execution_count": 0,
      "outputs": [
        {
          "output_type": "display_data",
          "data": {
            "text/html": [
              "<table border=\"1\" class=\"dataframe\">\n",
              "  <thead>\n",
              "    <tr style=\"text-align: left;\">\n",
              "      <th>epoch</th>\n",
              "      <th>train_loss</th>\n",
              "      <th>valid_loss</th>\n",
              "      <th>accuracy</th>\n",
              "      <th>time</th>\n",
              "    </tr>\n",
              "  </thead>\n",
              "  <tbody>\n",
              "    <tr>\n",
              "      <td>0</td>\n",
              "      <td>5.033468</td>\n",
              "      <td>4.924835</td>\n",
              "      <td>0.220223</td>\n",
              "      <td>37:06</td>\n",
              "    </tr>\n",
              "    <tr>\n",
              "      <td>1</td>\n",
              "      <td>4.988395</td>\n",
              "      <td>4.863129</td>\n",
              "      <td>0.225376</td>\n",
              "      <td>37:07</td>\n",
              "    </tr>\n",
              "  </tbody>\n",
              "</table>"
            ],
            "text/plain": [
              "<IPython.core.display.HTML object>"
            ]
          },
          "metadata": {
            "tags": []
          }
        }
      ]
    },
    {
      "cell_type": "code",
      "metadata": {
        "id": "BDKi2SkQlpYo",
        "colab_type": "code",
        "outputId": "0db424b1-eacd-41fa-aae7-cb1294b78a34",
        "colab": {
          "base_uri": "https://localhost:8080/",
          "height": 107
        }
      },
      "source": [
        "learn.freeze_to(-2)\n",
        "learn.fit_one_cycle(2, 1e-3)\n",
        "learn.save('AA_subword_lm_body_1');"
      ],
      "execution_count": 0,
      "outputs": [
        {
          "output_type": "display_data",
          "data": {
            "text/html": [
              "<table border=\"1\" class=\"dataframe\">\n",
              "  <thead>\n",
              "    <tr style=\"text-align: left;\">\n",
              "      <th>epoch</th>\n",
              "      <th>train_loss</th>\n",
              "      <th>valid_loss</th>\n",
              "      <th>accuracy</th>\n",
              "      <th>time</th>\n",
              "    </tr>\n",
              "  </thead>\n",
              "  <tbody>\n",
              "    <tr>\n",
              "      <td>0</td>\n",
              "      <td>4.775554</td>\n",
              "      <td>4.658215</td>\n",
              "      <td>0.246022</td>\n",
              "      <td>37:49</td>\n",
              "    </tr>\n",
              "    <tr>\n",
              "      <td>1</td>\n",
              "      <td>4.723702</td>\n",
              "      <td>4.584692</td>\n",
              "      <td>0.254028</td>\n",
              "      <td>37:51</td>\n",
              "    </tr>\n",
              "  </tbody>\n",
              "</table>"
            ],
            "text/plain": [
              "<IPython.core.display.HTML object>"
            ]
          },
          "metadata": {
            "tags": []
          }
        }
      ]
    },
    {
      "cell_type": "code",
      "metadata": {
        "id": "JjbM3yxDlpSc",
        "colab_type": "code",
        "outputId": "510d93c1-4033-4c02-b691-628dac5d3f7f",
        "colab": {
          "base_uri": "https://localhost:8080/",
          "height": 107
        }
      },
      "source": [
        "learn.freeze_to(-3)\n",
        "learn.fit_one_cycle(2, 1e-3)\n",
        "learn.save('AA_subword_lm_body_2');"
      ],
      "execution_count": 0,
      "outputs": [
        {
          "output_type": "display_data",
          "data": {
            "text/html": [
              "<table border=\"1\" class=\"dataframe\">\n",
              "  <thead>\n",
              "    <tr style=\"text-align: left;\">\n",
              "      <th>epoch</th>\n",
              "      <th>train_loss</th>\n",
              "      <th>valid_loss</th>\n",
              "      <th>accuracy</th>\n",
              "      <th>time</th>\n",
              "    </tr>\n",
              "  </thead>\n",
              "  <tbody>\n",
              "    <tr>\n",
              "      <td>0</td>\n",
              "      <td>4.596820</td>\n",
              "      <td>4.472740</td>\n",
              "      <td>0.266224</td>\n",
              "      <td>40:35</td>\n",
              "    </tr>\n",
              "    <tr>\n",
              "      <td>1</td>\n",
              "      <td>4.426194</td>\n",
              "      <td>4.385971</td>\n",
              "      <td>0.276817</td>\n",
              "      <td>40:33</td>\n",
              "    </tr>\n",
              "  </tbody>\n",
              "</table>"
            ],
            "text/plain": [
              "<IPython.core.display.HTML object>"
            ]
          },
          "metadata": {
            "tags": []
          }
        }
      ]
    },
    {
      "cell_type": "code",
      "metadata": {
        "id": "S_XyXVzOlpDI",
        "colab_type": "code",
        "outputId": "52b4ca9a-7b06-43b6-faaa-83181bb1a6d7",
        "colab": {
          "base_uri": "https://localhost:8080/",
          "height": 107
        }
      },
      "source": [
        "learn.unfreeze()\n",
        "learn.fit_one_cycle(2, 1e-3)\n",
        "learn.save('AA_subword_lm_body_3');"
      ],
      "execution_count": 0,
      "outputs": [
        {
          "output_type": "display_data",
          "data": {
            "text/html": [
              "<table border=\"1\" class=\"dataframe\">\n",
              "  <thead>\n",
              "    <tr style=\"text-align: left;\">\n",
              "      <th>epoch</th>\n",
              "      <th>train_loss</th>\n",
              "      <th>valid_loss</th>\n",
              "      <th>accuracy</th>\n",
              "      <th>time</th>\n",
              "    </tr>\n",
              "  </thead>\n",
              "  <tbody>\n",
              "    <tr>\n",
              "      <td>0</td>\n",
              "      <td>4.450388</td>\n",
              "      <td>4.365835</td>\n",
              "      <td>0.278578</td>\n",
              "      <td>42:11</td>\n",
              "    </tr>\n",
              "    <tr>\n",
              "      <td>1</td>\n",
              "      <td>4.298214</td>\n",
              "      <td>4.292197</td>\n",
              "      <td>0.287136</td>\n",
              "      <td>42:08</td>\n",
              "    </tr>\n",
              "  </tbody>\n",
              "</table>"
            ],
            "text/plain": [
              "<IPython.core.display.HTML object>"
            ]
          },
          "metadata": {
            "tags": []
          }
        }
      ]
    },
    {
      "cell_type": "code",
      "metadata": {
        "id": "RO69NJ7Xlwdr",
        "colab_type": "code",
        "outputId": "e3f96c96-943d-40fd-f467-2fcdf8663f41",
        "colab": {
          "base_uri": "https://localhost:8080/",
          "height": 107
        }
      },
      "source": [
        "learn.fit_one_cycle(2, 1e-3)\n",
        "learn.save('AA_subword_lm_body_4')"
      ],
      "execution_count": 0,
      "outputs": [
        {
          "output_type": "display_data",
          "data": {
            "text/html": [
              "<table border=\"1\" class=\"dataframe\">\n",
              "  <thead>\n",
              "    <tr style=\"text-align: left;\">\n",
              "      <th>epoch</th>\n",
              "      <th>train_loss</th>\n",
              "      <th>valid_loss</th>\n",
              "      <th>accuracy</th>\n",
              "      <th>time</th>\n",
              "    </tr>\n",
              "  </thead>\n",
              "  <tbody>\n",
              "    <tr>\n",
              "      <td>0</td>\n",
              "      <td>4.368409</td>\n",
              "      <td>4.299394</td>\n",
              "      <td>0.285895</td>\n",
              "      <td>42:33</td>\n",
              "    </tr>\n",
              "    <tr>\n",
              "      <td>1</td>\n",
              "      <td>4.213906</td>\n",
              "      <td>4.236476</td>\n",
              "      <td>0.293529</td>\n",
              "      <td>42:46</td>\n",
              "    </tr>\n",
              "  </tbody>\n",
              "</table>"
            ],
            "text/plain": [
              "<IPython.core.display.HTML object>"
            ]
          },
          "metadata": {
            "tags": []
          }
        }
      ]
    },
    {
      "cell_type": "code",
      "metadata": {
        "id": "A0CWqE4MugUe",
        "colab_type": "code",
        "outputId": "553d45e3-7853-4beb-f33c-d22f0ef1acf3",
        "colab": {
          "base_uri": "https://localhost:8080/",
          "height": 107
        }
      },
      "source": [
        "learn.fit_one_cycle(2, 1e-3)\n",
        "learn.save('AA_subword_lm_body_5')"
      ],
      "execution_count": 0,
      "outputs": [
        {
          "output_type": "display_data",
          "data": {
            "text/html": [
              "<table border=\"1\" class=\"dataframe\">\n",
              "  <thead>\n",
              "    <tr style=\"text-align: left;\">\n",
              "      <th>epoch</th>\n",
              "      <th>train_loss</th>\n",
              "      <th>valid_loss</th>\n",
              "      <th>accuracy</th>\n",
              "      <th>time</th>\n",
              "    </tr>\n",
              "  </thead>\n",
              "  <tbody>\n",
              "    <tr>\n",
              "      <td>0</td>\n",
              "      <td>4.241201</td>\n",
              "      <td>4.256907</td>\n",
              "      <td>0.290587</td>\n",
              "      <td>42:38</td>\n",
              "    </tr>\n",
              "    <tr>\n",
              "      <td>1</td>\n",
              "      <td>4.162889</td>\n",
              "      <td>4.199232</td>\n",
              "      <td>0.297537</td>\n",
              "      <td>42:44</td>\n",
              "    </tr>\n",
              "  </tbody>\n",
              "</table>"
            ],
            "text/plain": [
              "<IPython.core.display.HTML object>"
            ]
          },
          "metadata": {
            "tags": []
          }
        }
      ]
    },
    {
      "cell_type": "code",
      "metadata": {
        "id": "ZY1hRV2qugSA",
        "colab_type": "code",
        "outputId": "edb990e1-1b56-49a4-f94d-02c65569e642",
        "colab": {
          "base_uri": "https://localhost:8080/",
          "height": 107
        }
      },
      "source": [
        "learn.fit_one_cycle(2, 1e-3)\n",
        "learn.save('AA_subword_lm_body_6')"
      ],
      "execution_count": 0,
      "outputs": [
        {
          "output_type": "display_data",
          "data": {
            "text/html": [
              "<table border=\"1\" class=\"dataframe\">\n",
              "  <thead>\n",
              "    <tr style=\"text-align: left;\">\n",
              "      <th>epoch</th>\n",
              "      <th>train_loss</th>\n",
              "      <th>valid_loss</th>\n",
              "      <th>accuracy</th>\n",
              "      <th>time</th>\n",
              "    </tr>\n",
              "  </thead>\n",
              "  <tbody>\n",
              "    <tr>\n",
              "      <td>0</td>\n",
              "      <td>4.167974</td>\n",
              "      <td>4.226469</td>\n",
              "      <td>0.293712</td>\n",
              "      <td>42:37</td>\n",
              "    </tr>\n",
              "    <tr>\n",
              "      <td>1</td>\n",
              "      <td>4.079694</td>\n",
              "      <td>4.172688</td>\n",
              "      <td>0.300717</td>\n",
              "      <td>42:24</td>\n",
              "    </tr>\n",
              "  </tbody>\n",
              "</table>"
            ],
            "text/plain": [
              "<IPython.core.display.HTML object>"
            ]
          },
          "metadata": {
            "tags": []
          }
        }
      ]
    },
    {
      "cell_type": "code",
      "metadata": {
        "id": "0gYhDYIREM9w",
        "colab_type": "code",
        "outputId": "3273e88c-97e0-4af1-9047-7981dacfea8b",
        "colab": {
          "base_uri": "https://localhost:8080/",
          "height": 107
        }
      },
      "source": [
        "learn.fit_one_cycle(2, 1e-3)\n",
        "learn.save('AA_subword_lm_body_7')"
      ],
      "execution_count": 0,
      "outputs": [
        {
          "output_type": "display_data",
          "data": {
            "text/html": [
              "<table border=\"1\" class=\"dataframe\">\n",
              "  <thead>\n",
              "    <tr style=\"text-align: left;\">\n",
              "      <th>epoch</th>\n",
              "      <th>train_loss</th>\n",
              "      <th>valid_loss</th>\n",
              "      <th>accuracy</th>\n",
              "      <th>time</th>\n",
              "    </tr>\n",
              "  </thead>\n",
              "  <tbody>\n",
              "    <tr>\n",
              "      <td>0</td>\n",
              "      <td>4.221254</td>\n",
              "      <td>4.203250</td>\n",
              "      <td>0.296642</td>\n",
              "      <td>42:09</td>\n",
              "    </tr>\n",
              "    <tr>\n",
              "      <td>1</td>\n",
              "      <td>4.136843</td>\n",
              "      <td>4.151529</td>\n",
              "      <td>0.303101</td>\n",
              "      <td>42:13</td>\n",
              "    </tr>\n",
              "  </tbody>\n",
              "</table>"
            ],
            "text/plain": [
              "<IPython.core.display.HTML object>"
            ]
          },
          "metadata": {
            "tags": []
          }
        }
      ]
    },
    {
      "cell_type": "code",
      "metadata": {
        "id": "Vuu84Ux0EM53",
        "colab_type": "code",
        "outputId": "866f01d1-ff47-4a66-b039-09ed268c8fdd",
        "colab": {
          "base_uri": "https://localhost:8080/",
          "height": 107
        }
      },
      "source": [
        "learn.load('AA_subword_lm_body_7')\n",
        "learn.fit_one_cycle(2, 1e-4) ### becuase oscillations started\n",
        "learn.save('AA_subword_lm_body_8')"
      ],
      "execution_count": 0,
      "outputs": [
        {
          "output_type": "display_data",
          "data": {
            "text/html": [
              "<table border=\"1\" class=\"dataframe\">\n",
              "  <thead>\n",
              "    <tr style=\"text-align: left;\">\n",
              "      <th>epoch</th>\n",
              "      <th>train_loss</th>\n",
              "      <th>valid_loss</th>\n",
              "      <th>accuracy</th>\n",
              "      <th>time</th>\n",
              "    </tr>\n",
              "  </thead>\n",
              "  <tbody>\n",
              "    <tr>\n",
              "      <td>0</td>\n",
              "      <td>4.059014</td>\n",
              "      <td>4.146458</td>\n",
              "      <td>0.303633</td>\n",
              "      <td>45:25</td>\n",
              "    </tr>\n",
              "    <tr>\n",
              "      <td>1</td>\n",
              "      <td>4.047419</td>\n",
              "      <td>4.143106</td>\n",
              "      <td>0.303997</td>\n",
              "      <td>45:27</td>\n",
              "    </tr>\n",
              "  </tbody>\n",
              "</table>"
            ],
            "text/plain": [
              "<IPython.core.display.HTML object>"
            ]
          },
          "metadata": {
            "tags": []
          }
        }
      ]
    },
    {
      "cell_type": "code",
      "metadata": {
        "id": "Ee8E1OgEZshG",
        "colab_type": "code",
        "colab": {
          "base_uri": "https://localhost:8080/",
          "height": 107
        },
        "outputId": "659155c9-e818-4823-cedf-a28899328fb3"
      },
      "source": [
        "learn.load('AA_subword_lm_body_8')\n",
        "learn.fit_one_cycle(2, 1e-4) ### see if loss reduces, else thats all!\n",
        "learn.save('AA_subword_lm_body_9')"
      ],
      "execution_count": 18,
      "outputs": [
        {
          "output_type": "display_data",
          "data": {
            "text/html": [
              "<table border=\"1\" class=\"dataframe\">\n",
              "  <thead>\n",
              "    <tr style=\"text-align: left;\">\n",
              "      <th>epoch</th>\n",
              "      <th>train_loss</th>\n",
              "      <th>valid_loss</th>\n",
              "      <th>accuracy</th>\n",
              "      <th>time</th>\n",
              "    </tr>\n",
              "  </thead>\n",
              "  <tbody>\n",
              "    <tr>\n",
              "      <td>0</td>\n",
              "      <td>4.012450</td>\n",
              "      <td>4.140856</td>\n",
              "      <td>0.304243</td>\n",
              "      <td>22:18</td>\n",
              "    </tr>\n",
              "    <tr>\n",
              "      <td>1</td>\n",
              "      <td>3.977485</td>\n",
              "      <td>4.138100</td>\n",
              "      <td>0.304580</td>\n",
              "      <td>22:19</td>\n",
              "    </tr>\n",
              "  </tbody>\n",
              "</table>"
            ],
            "text/plain": [
              "<IPython.core.display.HTML object>"
            ]
          },
          "metadata": {
            "tags": []
          }
        }
      ]
    },
    {
      "cell_type": "code",
      "metadata": {
        "id": "ZWy_W_DRZsex",
        "colab_type": "code",
        "colab": {
          "base_uri": "https://localhost:8080/",
          "height": 107
        },
        "outputId": "ecbd03eb-d803-4cc8-a1e7-f27d5542fce0"
      },
      "source": [
        "learn.fit_one_cycle(2, 1e-4)\n",
        "learn.save('AA_subword_lm_body_10')"
      ],
      "execution_count": 19,
      "outputs": [
        {
          "output_type": "display_data",
          "data": {
            "text/html": [
              "<table border=\"1\" class=\"dataframe\">\n",
              "  <thead>\n",
              "    <tr style=\"text-align: left;\">\n",
              "      <th>epoch</th>\n",
              "      <th>train_loss</th>\n",
              "      <th>valid_loss</th>\n",
              "      <th>accuracy</th>\n",
              "      <th>time</th>\n",
              "    </tr>\n",
              "  </thead>\n",
              "  <tbody>\n",
              "    <tr>\n",
              "      <td>0</td>\n",
              "      <td>3.984483</td>\n",
              "      <td>4.136797</td>\n",
              "      <td>0.304558</td>\n",
              "      <td>22:19</td>\n",
              "    </tr>\n",
              "    <tr>\n",
              "      <td>1</td>\n",
              "      <td>3.984481</td>\n",
              "      <td>4.134292</td>\n",
              "      <td>0.304957</td>\n",
              "      <td>22:19</td>\n",
              "    </tr>\n",
              "  </tbody>\n",
              "</table>"
            ],
            "text/plain": [
              "<IPython.core.display.HTML object>"
            ]
          },
          "metadata": {
            "tags": []
          }
        }
      ]
    },
    {
      "cell_type": "code",
      "metadata": {
        "id": "UBMjf6QGZsbO",
        "colab_type": "code",
        "colab": {}
      },
      "source": [
        "learn.load('AA_subword_lm_body_10');"
      ],
      "execution_count": 0,
      "outputs": []
    },
    {
      "cell_type": "code",
      "metadata": {
        "id": "aovOlJ0DugOz",
        "colab_type": "code",
        "colab": {}
      },
      "source": [
        "learn.save_encoder('AA_subword_lm_enc')"
      ],
      "execution_count": 0,
      "outputs": []
    },
    {
      "cell_type": "markdown",
      "metadata": {
        "id": "34spzswbXJxZ",
        "colab_type": "text"
      },
      "source": [
        "#### Classifier (our AA)"
      ]
    },
    {
      "cell_type": "code",
      "metadata": {
        "id": "gHKTorbiJ6C1",
        "colab_type": "code",
        "colab": {}
      },
      "source": [
        "data_clas = TextClasDataBunch.from_csv(aa , 'OurDataset_train.csv', tokenizer=mycust_tok, vocab=sp_vocab, bs=bs)\n",
        "data_clas.save('AA_subword_clas.pkl')"
      ],
      "execution_count": 0,
      "outputs": []
    },
    {
      "cell_type": "code",
      "metadata": {
        "id": "Q24kDVQeXkR2",
        "colab_type": "code",
        "colab": {}
      },
      "source": [
        "data_clas = load_data(aa, 'AA_subword_clas.pkl',bs=bs)\n",
        "learn_cls = text_classifier_learner(data_clas, AWD_LSTM, drop_mult=0.5, pretrained=False)\n",
        "learn_cls.load_encoder('AA_subword_lm_enc')"
      ],
      "execution_count": 0,
      "outputs": []
    },
    {
      "cell_type": "code",
      "metadata": {
        "id": "GuB4eElWXhdP",
        "colab_type": "code",
        "colab": {
          "base_uri": "https://localhost:8080/",
          "height": 281
        },
        "outputId": "cbecfd9c-1239-4650-dfd1-96bae66fdd32"
      },
      "source": [
        "data_clas.show_batch()"
      ],
      "execution_count": 23,
      "outputs": [
        {
          "output_type": "display_data",
          "data": {
            "text/html": [
              "<table border=\"1\" class=\"dataframe\">\n",
              "  <thead>\n",
              "    <tr style=\"text-align: right;\">\n",
              "      <th>text</th>\n",
              "      <th>target</th>\n",
              "    </tr>\n",
              "  </thead>\n",
              "  <tbody>\n",
              "    <tr>\n",
              "      <td>▁xx b os ▁সপ্তম ▁রাত ্রে ▁মনে ▁করি ল , ▁হৃদয় মধ্যে ▁পদ্ম ফুল ▁ফুট িয়া ছে — তাহা তে ▁চন্দ্র শেখ র ▁যোগ াসন ে ▁ব সিয়া ▁আছেন ; ▁শ ৈ বল িনী ▁ ভ্রম র ▁হইয়া ▁ পাদ পদ্ম ে ▁গুণ গুণ ▁করি তে ছে । ▁তৃতীয় ▁পরি চ্ছেদ ▁ : ▁বাতাস ▁উঠি ল ▁শ ৈ বল িনী ▁তা হাই ▁করি ল — স প্ত দিবস ▁গুহা ▁হইতে</td>\n",
              "      <td>bongkim</td>\n",
              "    </tr>\n",
              "    <tr>\n",
              "      <td>▁xx b os ▁চা হিয়া ▁ র হি লেন – মুখে ▁মনুষ্য ের ▁ সাধ্য াতীত ▁রোগের ▁ছায়া । ▁ মাধব ী নাথ ▁তা ঁ হার ▁সঙ্গে ▁কথা ▁ক হি লেন ▁না – মাধব ী নাথ ▁মনে ▁মনে ▁প্রতিজ্ঞা ▁করিয়া ছিলেন ▁যে , ▁ইহ জন্ম ে ▁আর ▁গোবিন্দ লাল ের ▁সঙ্গে ▁কথা ▁ক হি বেন ▁না । ▁বিনা বাক্য ে ▁ মাধব ী নাথ ▁চল িয়া ▁গেলেন । ▁গোবিন্দ লাল</td>\n",
              "      <td>bongkim</td>\n",
              "    </tr>\n",
              "    <tr>\n",
              "      <td>▁xx b os ▁স্থাপিত ▁হই ল । ▁শ ৈ বল িনী ▁ তাহা ▁পরি ধান ▁করিয়া , ▁পূর্ব বস্ত্র ▁পরিত্যাগ ▁করিয়া ▁জিজ্ঞাসা ▁করি ল , ▁“ আর ▁কি ▁করি ব ?” ▁উত্তর — তোমার ▁শ্বশুর ালয় ▁কোথায় ? ▁শ ৈ । ▁ বেদ গ্রাম । ▁সেখানে ▁কি ▁যাই তে ▁হইবে ? ▁উত্তর — হাঁ — গ িয়া ▁গ্রাম প্রান্ত ে ▁প র্ণ কুট ীর ▁নির্মাণ ▁করি বে । ▁শ ৈ</td>\n",
              "      <td>bongkim</td>\n",
              "    </tr>\n",
              "    <tr>\n",
              "      <td>▁xx b os ▁গভীর া । ▁এখনও ▁যে ▁তা ঁ হা কে ▁ব্যা ঘ ্রে ▁হত্যা ▁করে ▁নাই , ▁ ই হা ▁তা ঁ হার ▁আশ্চর্য ্য ▁বোধ ▁হই ল । ▁ইতস্তত ঃ ▁নিরীক্ষ ণ ▁করিয়া ▁দেখি তে ▁লা গি লেন , ▁ব্যা ঘ ্র ▁আসি তে ছে ▁কি ▁না । ▁ অক স্ মা ৎ ▁সম্মুখ ে ▁বহু ▁দূরে , ▁একটা ▁আলোক ▁দেখি তে ▁পাই লেন । ▁ পাছে</td>\n",
              "      <td>bongkim</td>\n",
              "    </tr>\n",
              "    <tr>\n",
              "      <td>▁xx b os ▁রাজপুত ▁কোথাও ▁লুকা ইয়া ▁আছে ▁কি ▁না । ▁অতএব ▁বিক্রম ▁সোল াঙ্ক ির ▁অ শ্ বার ো হি গণ ের ▁সন্ধান , ▁তা ঁ হা কে ▁সহজে ▁মিল িল । ▁তিনি ▁তখন ▁কত ক গুলি ▁সৈন্য ▁অ শ্ বার ো হি দিগ কে ▁তাড়া ইয়া ▁দিবা র ▁জন্য ▁পাঠ াইয়া ▁দিলেন । ▁বিক্রম ▁সোল াঙ্ক ি ▁অন্যান্য ▁বিষয়ে ▁বড় ▁স্থূল বুদ্ধি , ▁কিন্তু ▁যুদ্ধ কালে ▁অতিশয় ▁</td>\n",
              "      <td>bongkim</td>\n",
              "    </tr>\n",
              "  </tbody>\n",
              "</table>"
            ],
            "text/plain": [
              "<IPython.core.display.HTML object>"
            ]
          },
          "metadata": {
            "tags": []
          }
        }
      ]
    },
    {
      "cell_type": "code",
      "metadata": {
        "id": "u-cnT0EbXkOj",
        "colab_type": "code",
        "colab": {
          "base_uri": "https://localhost:8080/",
          "height": 300
        },
        "outputId": "2f7185ac-afd5-4584-f9e0-d6ed24d7b158"
      },
      "source": [
        "learn_cls.freeze()\n",
        "learn_cls.lr_find()\n",
        "learn_cls.recorder.plot()"
      ],
      "execution_count": 25,
      "outputs": [
        {
          "output_type": "display_data",
          "data": {
            "text/html": [
              ""
            ],
            "text/plain": [
              "<IPython.core.display.HTML object>"
            ]
          },
          "metadata": {
            "tags": []
          }
        },
        {
          "output_type": "stream",
          "text": [
            "LR Finder is complete, type {learner_name}.recorder.plot() to see the graph.\n"
          ],
          "name": "stdout"
        },
        {
          "output_type": "display_data",
          "data": {
            "image/png": "[encoded data removed]",
            "text/plain": [
              "<Figure size 432x288 with 1 Axes>"
            ]
          },
          "metadata": {
            "tags": []
          }
        }
      ]
    },
    {
      "cell_type": "code",
      "metadata": {
        "id": "uQkxLqY7XkK2",
        "colab_type": "code",
        "colab": {
          "base_uri": "https://localhost:8080/",
          "height": 107
        },
        "outputId": "76d167cc-5be5-4813-b6fd-d4d05d4c71cc"
      },
      "source": [
        "learn_cls.fit_one_cycle(2, 1e-2, moms=(0.8,0.7))\n",
        "learn_cls.save('subword_cls_1')"
      ],
      "execution_count": 26,
      "outputs": [
        {
          "output_type": "display_data",
          "data": {
            "text/html": [
              "<table border=\"1\" class=\"dataframe\">\n",
              "  <thead>\n",
              "    <tr style=\"text-align: left;\">\n",
              "      <th>epoch</th>\n",
              "      <th>train_loss</th>\n",
              "      <th>valid_loss</th>\n",
              "      <th>accuracy</th>\n",
              "      <th>time</th>\n",
              "    </tr>\n",
              "  </thead>\n",
              "  <tbody>\n",
              "    <tr>\n",
              "      <td>0</td>\n",
              "      <td>0.096239</td>\n",
              "      <td>0.026681</td>\n",
              "      <td>0.994087</td>\n",
              "      <td>07:33</td>\n",
              "    </tr>\n",
              "    <tr>\n",
              "      <td>1</td>\n",
              "      <td>0.047045</td>\n",
              "      <td>0.017862</td>\n",
              "      <td>0.994435</td>\n",
              "      <td>07:37</td>\n",
              "    </tr>\n",
              "  </tbody>\n",
              "</table>"
            ],
            "text/plain": [
              "<IPython.core.display.HTML object>"
            ]
          },
          "metadata": {
            "tags": []
          }
        }
      ]
    },
    {
      "cell_type": "code",
      "metadata": {
        "id": "Xgb6IbvTXkH1",
        "colab_type": "code",
        "colab": {
          "base_uri": "https://localhost:8080/",
          "height": 107
        },
        "outputId": "fe5d6028-e83f-4954-9028-960ee733c52d"
      },
      "source": [
        "learn_cls.load('subword_cls_1')\n",
        "learn_cls.freeze_to(-2)\n",
        "learn_cls.fit_one_cycle(2 , slice(1e-2/(2.6**4),1e-2), moms=(0.8,0.7))\n",
        "learn_cls.save('subword_cls_2')"
      ],
      "execution_count": 27,
      "outputs": [
        {
          "output_type": "display_data",
          "data": {
            "text/html": [
              "<table border=\"1\" class=\"dataframe\">\n",
              "  <thead>\n",
              "    <tr style=\"text-align: left;\">\n",
              "      <th>epoch</th>\n",
              "      <th>train_loss</th>\n",
              "      <th>valid_loss</th>\n",
              "      <th>accuracy</th>\n",
              "      <th>time</th>\n",
              "    </tr>\n",
              "  </thead>\n",
              "  <tbody>\n",
              "    <tr>\n",
              "      <td>0</td>\n",
              "      <td>0.089726</td>\n",
              "      <td>0.020861</td>\n",
              "      <td>0.993391</td>\n",
              "      <td>08:30</td>\n",
              "    </tr>\n",
              "    <tr>\n",
              "      <td>1</td>\n",
              "      <td>0.029179</td>\n",
              "      <td>0.011343</td>\n",
              "      <td>0.995826</td>\n",
              "      <td>08:26</td>\n",
              "    </tr>\n",
              "  </tbody>\n",
              "</table>"
            ],
            "text/plain": [
              "<IPython.core.display.HTML object>"
            ]
          },
          "metadata": {
            "tags": []
          }
        }
      ]
    },
    {
      "cell_type": "code",
      "metadata": {
        "id": "4Kvf-xJuXkDV",
        "colab_type": "code",
        "colab": {
          "base_uri": "https://localhost:8080/",
          "height": 107
        },
        "outputId": "9f57c2c5-9a5d-4abd-ab13-f0d442e8b00c"
      },
      "source": [
        "learn_cls.load('subword_cls_2')\n",
        "learn_cls.freeze_to(-3)\n",
        "learn_cls.fit_one_cycle(2, slice(5e-3/(2.6**4),5e-3), moms=(0.8,0.7))\n",
        "learn_cls.save('subword_cls_3')"
      ],
      "execution_count": 28,
      "outputs": [
        {
          "output_type": "display_data",
          "data": {
            "text/html": [
              "<table border=\"1\" class=\"dataframe\">\n",
              "  <thead>\n",
              "    <tr style=\"text-align: left;\">\n",
              "      <th>epoch</th>\n",
              "      <th>train_loss</th>\n",
              "      <th>valid_loss</th>\n",
              "      <th>accuracy</th>\n",
              "      <th>time</th>\n",
              "    </tr>\n",
              "  </thead>\n",
              "  <tbody>\n",
              "    <tr>\n",
              "      <td>0</td>\n",
              "      <td>0.051422</td>\n",
              "      <td>0.017930</td>\n",
              "      <td>0.994087</td>\n",
              "      <td>12:02</td>\n",
              "    </tr>\n",
              "    <tr>\n",
              "      <td>1</td>\n",
              "      <td>0.014178</td>\n",
              "      <td>0.008877</td>\n",
              "      <td>0.997217</td>\n",
              "      <td>12:09</td>\n",
              "    </tr>\n",
              "  </tbody>\n",
              "</table>"
            ],
            "text/plain": [
              "<IPython.core.display.HTML object>"
            ]
          },
          "metadata": {
            "tags": []
          }
        }
      ]
    },
    {
      "cell_type": "code",
      "metadata": {
        "id": "qXdoSwL2XkAN",
        "colab_type": "code",
        "colab": {
          "base_uri": "https://localhost:8080/",
          "height": 107
        },
        "outputId": "29a08564-5341-4d76-f547-1d0855185040"
      },
      "source": [
        "learn_cls.load('subword_cls_3')\n",
        "learn_cls.unfreeze()\n",
        "learn_cls.fit_one_cycle(2, slice(1e-3/(2.6**4),1e-3), moms=(0.8,0.7))\n",
        "learn_cls.save('subword_cls_4')"
      ],
      "execution_count": 29,
      "outputs": [
        {
          "output_type": "display_data",
          "data": {
            "text/html": [
              "<table border=\"1\" class=\"dataframe\">\n",
              "  <thead>\n",
              "    <tr style=\"text-align: left;\">\n",
              "      <th>epoch</th>\n",
              "      <th>train_loss</th>\n",
              "      <th>valid_loss</th>\n",
              "      <th>accuracy</th>\n",
              "      <th>time</th>\n",
              "    </tr>\n",
              "  </thead>\n",
              "  <tbody>\n",
              "    <tr>\n",
              "      <td>0</td>\n",
              "      <td>0.011757</td>\n",
              "      <td>0.008527</td>\n",
              "      <td>0.997565</td>\n",
              "      <td>14:47</td>\n",
              "    </tr>\n",
              "    <tr>\n",
              "      <td>1</td>\n",
              "      <td>0.010883</td>\n",
              "      <td>0.006695</td>\n",
              "      <td>0.997913</td>\n",
              "      <td>14:56</td>\n",
              "    </tr>\n",
              "  </tbody>\n",
              "</table>"
            ],
            "text/plain": [
              "<IPython.core.display.HTML object>"
            ]
          },
          "metadata": {
            "tags": []
          }
        }
      ]
    },
    {
      "cell_type": "code",
      "metadata": {
        "id": "Y-xbJ5gtX_8Z",
        "colab_type": "code",
        "colab": {
          "base_uri": "https://localhost:8080/",
          "height": 107
        },
        "outputId": "02b3fa77-9131-498e-ba6e-d810c5e83382"
      },
      "source": [
        "learn_cls.load('subword_cls_4')\n",
        "learn_cls.unfreeze()\n",
        "learn_cls.fit_one_cycle(2, slice(1e-3/(2.6**4),1e-3), moms=(0.8,0.7))\n",
        "learn_cls.save('subword_cls_5')"
      ],
      "execution_count": 30,
      "outputs": [
        {
          "output_type": "display_data",
          "data": {
            "text/html": [
              "<table border=\"1\" class=\"dataframe\">\n",
              "  <thead>\n",
              "    <tr style=\"text-align: left;\">\n",
              "      <th>epoch</th>\n",
              "      <th>train_loss</th>\n",
              "      <th>valid_loss</th>\n",
              "      <th>accuracy</th>\n",
              "      <th>time</th>\n",
              "    </tr>\n",
              "  </thead>\n",
              "  <tbody>\n",
              "    <tr>\n",
              "      <td>0</td>\n",
              "      <td>0.009015</td>\n",
              "      <td>0.008236</td>\n",
              "      <td>0.996870</td>\n",
              "      <td>15:06</td>\n",
              "    </tr>\n",
              "    <tr>\n",
              "      <td>1</td>\n",
              "      <td>0.006162</td>\n",
              "      <td>0.005400</td>\n",
              "      <td>0.998261</td>\n",
              "      <td>14:46</td>\n",
              "    </tr>\n",
              "  </tbody>\n",
              "</table>"
            ],
            "text/plain": [
              "<IPython.core.display.HTML object>"
            ]
          },
          "metadata": {
            "tags": []
          }
        }
      ]
    },
    {
      "cell_type": "code",
      "metadata": {
        "id": "Z_j257ghlzJO",
        "colab_type": "code",
        "colab": {
          "base_uri": "https://localhost:8080/",
          "height": 107
        },
        "outputId": "b1413fdd-e96a-40fc-f2be-48501f2ec29d"
      },
      "source": [
        "learn_cls.fit_one_cycle(2, slice(1e-3/(2.6**4),1e-3), moms=(0.8,0.7))\n",
        "learn_cls.save('subword_cls_6')"
      ],
      "execution_count": 31,
      "outputs": [
        {
          "output_type": "display_data",
          "data": {
            "text/html": [
              "<table border=\"1\" class=\"dataframe\">\n",
              "  <thead>\n",
              "    <tr style=\"text-align: left;\">\n",
              "      <th>epoch</th>\n",
              "      <th>train_loss</th>\n",
              "      <th>valid_loss</th>\n",
              "      <th>accuracy</th>\n",
              "      <th>time</th>\n",
              "    </tr>\n",
              "  </thead>\n",
              "  <tbody>\n",
              "    <tr>\n",
              "      <td>0</td>\n",
              "      <td>0.005907</td>\n",
              "      <td>0.008098</td>\n",
              "      <td>0.998261</td>\n",
              "      <td>15:03</td>\n",
              "    </tr>\n",
              "    <tr>\n",
              "      <td>1</td>\n",
              "      <td>0.006098</td>\n",
              "      <td>0.006475</td>\n",
              "      <td>0.998261</td>\n",
              "      <td>15:01</td>\n",
              "    </tr>\n",
              "  </tbody>\n",
              "</table>"
            ],
            "text/plain": [
              "<IPython.core.display.HTML object>"
            ]
          },
          "metadata": {
            "tags": []
          }
        }
      ]
    },
    {
      "cell_type": "markdown",
      "metadata": {
        "id": "IYcnSsC6suEQ",
        "colab_type": "text"
      },
      "source": [
        "**loss increased in 6, so we use 5**"
      ]
    },
    {
      "cell_type": "code",
      "metadata": {
        "id": "f7egS003sxtv",
        "colab_type": "code",
        "colab": {}
      },
      "source": [
        "learn_cls.load('subword_cls_5');"
      ],
      "execution_count": 0,
      "outputs": []
    },
    {
      "cell_type": "code",
      "metadata": {
        "id": "IO0vnAMuX4aF",
        "colab_type": "code",
        "colab": {}
      },
      "source": [
        "def testing(dts):\n",
        "  df = pd.read_csv(dts) \n",
        "  text_array = df[\"text\"].tolist()\n",
        "  print(len(text_array))\n",
        "\n",
        "  final_preds = []\n",
        "\n",
        "  for text in text_array:\n",
        "      preds = learn_cls.predict(text)\n",
        "      final_preds.append(str(preds[0]))\n",
        "\n",
        "  targets = df[\"label\"].tolist()\n",
        "\n",
        "  err=[]\n",
        "  count =0;\n",
        "  tst = len(text_array)\n",
        "\n",
        "  for i in range(tst):\n",
        "      if(targets[i]==final_preds[i]):\n",
        "          count = count+1\n",
        "      else:\n",
        "  #         print(targets[i] + \", \" + final_preds[i] + ';')\n",
        "          err.append((targets[i],final_preds[i]))\n",
        "  print(\"Accuracy: \")\n",
        "  print(count/tst)\n",
        "  print(err)\n",
        "  return final_preds, targets"
      ],
      "execution_count": 0,
      "outputs": []
    },
    {
      "cell_type": "code",
      "metadata": {
        "colab_type": "code",
        "id": "2-_wPq4dDYL3",
        "colab": {
          "base_uri": "https://localhost:8080/",
          "height": 107
        },
        "outputId": "3a249c6a-3deb-4b2a-8608-f5918c24ee92"
      },
      "source": [
        "pred,targ = testing(aa/'OurDataset_test.csv')"
      ],
      "execution_count": 35,
      "outputs": [
        {
          "output_type": "stream",
          "text": [
            "3592\n",
            "Accuracy: \n",
            "0.9980512249443207\n",
            "[('humayun_ahmed', 'MZI'), ('manik_bandhopaddhay', 'shirshendu'), ('nihar_ronjon_gupta', 'shottojit_roy'), ('shorotchandra', 'robindronath'), ('zahir_rayhan', 'shomresh'), ('shordindu', 'bongkim'), ('shordindu', 'bongkim')]\n"
          ],
          "name": "stdout"
        }
      ]
    },
    {
      "cell_type": "code",
      "metadata": {
        "colab_type": "code",
        "id": "46WXP8CIDYL_",
        "colab": {
          "base_uri": "https://localhost:8080/",
          "height": 34
        },
        "outputId": "12a1ef52-4bdc-4482-b300-f24a4a42ddad"
      },
      "source": [
        "from sklearn.metrics import f1_score\n",
        "out  = f1_score(targ, pred, average='weighted')\n",
        "out"
      ],
      "execution_count": 36,
      "outputs": [
        {
          "output_type": "execute_result",
          "data": {
            "text/plain": [
              "0.9980499459498295"
            ]
          },
          "metadata": {
            "tags": []
          },
          "execution_count": 36
        }
      ]
    },
    {
      "cell_type": "code",
      "metadata": {
        "id": "4k2PVU_x-QER",
        "colab_type": "code",
        "colab": {
          "base_uri": "https://localhost:8080/",
          "height": 176
        },
        "outputId": "eed036ea-11a4-42e2-9cc2-9978c08eeb8b"
      },
      "source": [
        "from sklearn.metrics import confusion_matrix\n",
        "cm=confusion_matrix(targ, pred)\n",
        "print(cm)"
      ],
      "execution_count": 37,
      "outputs": [
        {
          "output_type": "stream",
          "text": [
            "[[220   0   0   0 ...   0   0   0   0]\n",
            " [  0 112   0   0 ...   0   0   0   0]\n",
            " [  1   0 905   0 ...   0   0   0   0]\n",
            " [  0   0   0  92 ...   0   0   0   0]\n",
            " ...\n",
            " [  0   0   0   0 ... 393   0   0   0]\n",
            " [  0   0   0   0 ...   0 155   0   0]\n",
            " [  0   0   0   0 ...   0   0 186   0]\n",
            " [  0   0   0   0 ...   0   0   0  36]]\n"
          ],
          "name": "stdout"
        }
      ]
    },
    {
      "cell_type": "code",
      "metadata": {
        "id": "GHu7TInI-Fkq",
        "colab_type": "code",
        "colab": {
          "base_uri": "https://localhost:8080/",
          "height": 442
        },
        "outputId": "362dfa1f-717b-4bac-fb92-aad128f79dc8"
      },
      "source": [
        "import seaborn as sn\n",
        "\n",
        "df_cm = pd.DataFrame(cm, range(16),range(16))\n",
        "plt.figure(figsize = (10,7))\n",
        "sn.set(font_scale=1.4)#for label size\n",
        "sn.heatmap(df_cm, annot=True,annot_kws={\"size\": 16},fmt='g',cmap=\"YlGnBu\")# font size\n",
        "\n",
        "import matplotlib.pyplot as plt\n",
        "plt.savefig('news_subword_AA.eps')"
      ],
      "execution_count": 38,
      "outputs": [
        {
          "output_type": "display_data",
          "data": {
            "image/png": "[encoded data removed]",
            "text/plain": [
              "<Figure size 720x504 with 2 Axes>"
            ]
          },
          "metadata": {
            "tags": []
          }
        }
      ]
    },
    {
      "cell_type": "code",
      "metadata": {
        "id": "OntwzdtC3BMH",
        "colab_type": "code",
        "colab": {}
      },
      "source": [
        "from google.colab import files\n",
        "files.download('news_subword_AA.eps')"
      ],
      "execution_count": 0,
      "outputs": []
    },
    {
      "cell_type": "code",
      "metadata": {
        "id": "QkuasUvn3aUF",
        "colab_type": "code",
        "colab": {}
      },
      "source": [
        ""
      ],
      "execution_count": 0,
      "outputs": []
    }
  ]
}