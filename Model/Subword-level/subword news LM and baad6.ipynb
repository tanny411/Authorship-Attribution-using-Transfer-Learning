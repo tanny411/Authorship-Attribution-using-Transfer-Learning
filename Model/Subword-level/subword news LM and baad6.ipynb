{
 "cells": [
  {
   "cell_type": "code",
   "execution_count": 1,
   "metadata": {
    "colab": {
     "base_uri": "https://localhost:8080/",
     "height": 207
    },
    "colab_type": "code",
    "id": "ht3mOv6BWiqJ",
    "outputId": "b2906e46-858e-48cb-c3ca-42fcc631e4d8",
    "scrolled": false
   },
   "outputs": [
    {
     "name": "stdout",
     "output_type": "stream",
     "text": [
      "Collecting sentencepiece\n",
      "\u001b[?25l  Downloading https://files.pythonhosted.org/packages/00/95/7f357995d5eb1131aa2092096dca14a6fc1b1d2860bd99c22a612e1d1019/sentencepiece-0.1.82-cp36-cp36m-manylinux1_x86_64.whl (1.0MB)\n",
      "\u001b[K     |████████████████████████████████| 1.0MB 3.4MB/s \n",
      "\u001b[?25hInstalling collected packages: sentencepiece\n",
      "Successfully installed sentencepiece-0.1.82\n",
      "Collecting tf_sentencepiece\n",
      "\u001b[?25l  Downloading https://files.pythonhosted.org/packages/72/fe/363d78d29c556d0da642ffe285c2c7573b6a83239a9b0d08d83376c9fbac/tf_sentencepiece-0.1.82.1-py2.py3-none-manylinux1_x86_64.whl (2.8MB)\n",
      "\u001b[K     |████████████████████████████████| 2.8MB 3.5MB/s \n",
      "\u001b[?25hInstalling collected packages: tf-sentencepiece\n",
      "Successfully installed tf-sentencepiece-0.1.82.1\n"
     ]
    }
   ],
   "source": [
    "!pip install sentencepiece\n",
    "!pip install tf_sentencepiece"
   ]
  },
  {
   "cell_type": "code",
   "execution_count": 2,
   "metadata": {
    "colab": {
     "base_uri": "https://localhost:8080/",
     "height": 853
    },
    "colab_type": "code",
    "id": "wyqpI6mTGteh",
    "outputId": "b6c4a1fa-eeb1-403c-b97d-f63b0c33bc18",
    "scrolled": true
   },
   "outputs": [
    {
     "name": "stdout",
     "output_type": "stream",
     "text": [
      "Collecting fastai==1.0.52\n",
      "\u001b[?25l  Downloading https://files.pythonhosted.org/packages/de/07/7203179ba2f211bfbda364f883f645aea4d09ccfd48ce5dbb00a894722bf/fastai-1.0.52-py3-none-any.whl (219kB)\n",
      "\u001b[K     |████████████████████████████████| 225kB 3.5MB/s \n",
      "\u001b[?25hRequirement already satisfied: Pillow in /usr/local/lib/python3.6/dist-packages (from fastai==1.0.52) (4.3.0)\n",
      "Requirement already satisfied: spacy>=2.0.18 in /usr/local/lib/python3.6/dist-packages (from fastai==1.0.52) (2.1.4)\n",
      "Requirement already satisfied: torch>=1.0.0 in /usr/local/lib/python3.6/dist-packages (from fastai==1.0.52) (1.1.0)\n",
      "Requirement already satisfied: bottleneck in /usr/local/lib/python3.6/dist-packages (from fastai==1.0.52) (1.2.1)\n",
      "Requirement already satisfied: dataclasses; python_version < \"3.7\" in /usr/local/lib/python3.6/dist-packages (from fastai==1.0.52) (0.6)\n",
      "Requirement already satisfied: typing in /usr/local/lib/python3.6/dist-packages (from fastai==1.0.52) (3.7.4)\n",
      "Requirement already satisfied: matplotlib in /usr/local/lib/python3.6/dist-packages (from fastai==1.0.52) (3.0.3)\n",
      "Requirement already satisfied: fastprogress>=0.1.19 in /usr/local/lib/python3.6/dist-packages (from fastai==1.0.52) (0.1.21)\n",
      "Requirement already satisfied: numpy>=1.15 in /usr/local/lib/python3.6/dist-packages (from fastai==1.0.52) (1.16.4)\n",
      "Requirement already satisfied: nvidia-ml-py3 in /usr/local/lib/python3.6/dist-packages (from fastai==1.0.52) (7.352.0)\n",
      "Requirement already satisfied: pandas in /usr/local/lib/python3.6/dist-packages (from fastai==1.0.52) (0.24.2)\n",
      "Requirement already satisfied: packaging in /usr/local/lib/python3.6/dist-packages (from fastai==1.0.52) (19.0)\n",
      "Requirement already satisfied: requests in /usr/local/lib/python3.6/dist-packages (from fastai==1.0.52) (2.21.0)\n",
      "Requirement already satisfied: torchvision in /usr/local/lib/python3.6/dist-packages (from fastai==1.0.52) (0.3.0)\n",
      "Requirement already satisfied: scipy in /usr/local/lib/python3.6/dist-packages (from fastai==1.0.52) (1.3.0)\n",
      "Requirement already satisfied: beautifulsoup4 in /usr/local/lib/python3.6/dist-packages (from fastai==1.0.52) (4.6.3)\n",
      "Requirement already satisfied: pyyaml in /usr/local/lib/python3.6/dist-packages (from fastai==1.0.52) (3.13)\n",
      "Requirement already satisfied: numexpr in /usr/local/lib/python3.6/dist-packages (from fastai==1.0.52) (2.6.9)\n",
      "Requirement already satisfied: olefile in /usr/local/lib/python3.6/dist-packages (from Pillow->fastai==1.0.52) (0.46)\n",
      "Requirement already satisfied: wasabi<1.1.0,>=0.2.0 in /usr/local/lib/python3.6/dist-packages (from spacy>=2.0.18->fastai==1.0.52) (0.2.2)\n",
      "Requirement already satisfied: plac<1.0.0,>=0.9.6 in /usr/local/lib/python3.6/dist-packages (from spacy>=2.0.18->fastai==1.0.52) (0.9.6)\n",
      "Requirement already satisfied: thinc<7.1.0,>=7.0.2 in /usr/local/lib/python3.6/dist-packages (from spacy>=2.0.18->fastai==1.0.52) (7.0.4)\n",
      "Requirement already satisfied: cymem<2.1.0,>=2.0.2 in /usr/local/lib/python3.6/dist-packages (from spacy>=2.0.18->fastai==1.0.52) (2.0.2)\n",
      "Requirement already satisfied: preshed<2.1.0,>=2.0.1 in /usr/local/lib/python3.6/dist-packages (from spacy>=2.0.18->fastai==1.0.52) (2.0.1)\n",
      "Requirement already satisfied: jsonschema<3.1.0,>=2.6.0 in /usr/local/lib/python3.6/dist-packages (from spacy>=2.0.18->fastai==1.0.52) (2.6.0)\n",
      "Requirement already satisfied: blis<0.3.0,>=0.2.2 in /usr/local/lib/python3.6/dist-packages (from spacy>=2.0.18->fastai==1.0.52) (0.2.4)\n",
      "Requirement already satisfied: murmurhash<1.1.0,>=0.28.0 in /usr/local/lib/python3.6/dist-packages (from spacy>=2.0.18->fastai==1.0.52) (1.0.2)\n",
      "Requirement already satisfied: srsly<1.1.0,>=0.0.5 in /usr/local/lib/python3.6/dist-packages (from spacy>=2.0.18->fastai==1.0.52) (0.0.7)\n",
      "Requirement already satisfied: kiwisolver>=1.0.1 in /usr/local/lib/python3.6/dist-packages (from matplotlib->fastai==1.0.52) (1.1.0)\n",
      "Requirement already satisfied: cycler>=0.10 in /usr/local/lib/python3.6/dist-packages (from matplotlib->fastai==1.0.52) (0.10.0)\n",
      "Requirement already satisfied: python-dateutil>=2.1 in /usr/local/lib/python3.6/dist-packages (from matplotlib->fastai==1.0.52) (2.5.3)\n",
      "Requirement already satisfied: pyparsing!=2.0.4,!=2.1.2,!=2.1.6,>=2.0.1 in /usr/local/lib/python3.6/dist-packages (from matplotlib->fastai==1.0.52) (2.4.0)\n",
      "Requirement already satisfied: pytz>=2011k in /usr/local/lib/python3.6/dist-packages (from pandas->fastai==1.0.52) (2018.9)\n",
      "Requirement already satisfied: six in /usr/local/lib/python3.6/dist-packages (from packaging->fastai==1.0.52) (1.12.0)\n",
      "Requirement already satisfied: urllib3<1.25,>=1.21.1 in /usr/local/lib/python3.6/dist-packages (from requests->fastai==1.0.52) (1.24.3)\n",
      "Requirement already satisfied: chardet<3.1.0,>=3.0.2 in /usr/local/lib/python3.6/dist-packages (from requests->fastai==1.0.52) (3.0.4)\n",
      "Requirement already satisfied: certifi>=2017.4.17 in /usr/local/lib/python3.6/dist-packages (from requests->fastai==1.0.52) (2019.6.16)\n",
      "Requirement already satisfied: idna<2.9,>=2.5 in /usr/local/lib/python3.6/dist-packages (from requests->fastai==1.0.52) (2.8)\n",
      "Requirement already satisfied: tqdm<5.0.0,>=4.10.0 in /usr/local/lib/python3.6/dist-packages (from thinc<7.1.0,>=7.0.2->spacy>=2.0.18->fastai==1.0.52) (4.28.1)\n",
      "Requirement already satisfied: setuptools in /usr/local/lib/python3.6/dist-packages (from kiwisolver>=1.0.1->matplotlib->fastai==1.0.52) (41.0.1)\n",
      "Installing collected packages: fastai\n",
      "  Found existing installation: fastai 1.0.54\n",
      "    Uninstalling fastai-1.0.54:\n",
      "      Successfully uninstalled fastai-1.0.54\n",
      "Successfully installed fastai-1.0.52\n"
     ]
    }
   ],
   "source": [
    "!pip install fastai==1.0.52"
   ]
  },
  {
   "cell_type": "code",
   "execution_count": 0,
   "metadata": {
    "colab": {},
    "colab_type": "code",
    "id": "j-inF_79Wxe9"
   },
   "outputs": [],
   "source": [
    "from fastai import *\n",
    "from fastai.text import *\n",
    "\n",
    "import re\n",
    "import sentencepiece as spm"
   ]
  },
  {
   "cell_type": "code",
   "execution_count": 4,
   "metadata": {
    "colab": {
     "base_uri": "https://localhost:8080/",
     "height": 122
    },
    "colab_type": "code",
    "id": "wXPpaCSPWQtN",
    "outputId": "a7408e08-3b8c-4af1-b930-f0241fe62571"
   },
   "outputs": [
    {
     "name": "stdout",
     "output_type": "stream",
     "text": [
      "Go to this URL in a browser: https://accounts.google.com/o/oauth2/auth?client_id=947318989803-6bn6qk8qdgf4n4g3pfee6491hc0brc4i.apps.googleusercontent.com&redirect_uri=urn%3Aietf%3Awg%3Aoauth%3A2.0%3Aoob&scope=email%20https%3A%2F%2Fwww.googleapis.com%2Fauth%2Fdocs.test%20https%3A%2F%2Fwww.googleapis.com%2Fauth%2Fdrive%20https%3A%2F%2Fwww.googleapis.com%2Fauth%2Fdrive.photos.readonly%20https%3A%2F%2Fwww.googleapis.com%2Fauth%2Fpeopleapi.readonly&response_type=code\n",
      "\n",
      "Enter your authorization code:\n",
      "··········\n",
      "Mounted at /content/gdrive\n"
     ]
    }
   ],
   "source": [
    "from google.colab import drive\n",
    "drive.mount('/content/gdrive')"
   ]
  },
  {
   "cell_type": "code",
   "execution_count": 0,
   "metadata": {
    "colab": {},
    "colab_type": "code",
    "id": "x8ANn5M3Xc9C"
   },
   "outputs": [],
   "source": [
    "import os\n",
    "path = Path(os.getcwd())\n",
    "path = path/'gdrive'/'My Drive'\n",
    "news=path/'Thesis Data'/'full doc csv'\n",
    "aa=path/'Thesis Data'/'Our dataset'\n",
    "aa2=path/'Thesis Data'/'AA dataset'\n",
    "subsets=aa/'subsets'"
   ]
  },
  {
   "cell_type": "markdown",
   "metadata": {
    "colab_type": "text",
    "id": "Q8m3k1lITZCM"
   },
   "source": [
    "### Set Data(no rerun)"
   ]
  },
  {
   "cell_type": "code",
   "execution_count": 0,
   "metadata": {
    "colab": {},
    "colab_type": "code",
    "id": "aqe9I9tz4ndJ"
   },
   "outputs": [],
   "source": [
    "df = pd.read_csv(news/'full_doc.csv') ## THE FULL NEWS DATASET"
   ]
  },
  {
   "cell_type": "code",
   "execution_count": 0,
   "metadata": {
    "colab": {
     "base_uri": "https://localhost:8080/",
     "height": 34
    },
    "colab_type": "code",
    "id": "YEz1Wjtf4ucW",
    "outputId": "fd59196a-904c-484f-cc2a-3ab5974c88db"
   },
   "outputs": [
    {
     "data": {
      "text/plain": [
       "95855"
      ]
     },
     "execution_count": 6,
     "metadata": {
      "tags": []
     },
     "output_type": "execute_result"
    }
   ],
   "source": [
    "len(df)"
   ]
  },
  {
   "cell_type": "code",
   "execution_count": 0,
   "metadata": {
    "colab": {
     "base_uri": "https://localhost:8080/",
     "height": 34
    },
    "colab_type": "code",
    "id": "3CfiLkO-bIpn",
    "outputId": "279702f5-97f2-450f-dc0b-93da4d00c331"
   },
   "outputs": [
    {
     "data": {
      "text/plain": [
       "28533646"
      ]
     },
     "execution_count": 6,
     "metadata": {
      "tags": []
     },
     "output_type": "execute_result"
    }
   ],
   "source": [
    "df['text'].apply(lambda x: len(str(x).split())).sum() #total words"
   ]
  },
  {
   "cell_type": "code",
   "execution_count": 0,
   "metadata": {
    "colab": {
     "base_uri": "https://localhost:8080/",
     "height": 34
    },
    "colab_type": "code",
    "id": "o6zL5YZCbQKq",
    "outputId": "e07d30a3-ebc2-4a7f-c379-ade879cec9df"
   },
   "outputs": [
    {
     "data": {
      "text/plain": [
       "836509"
      ]
     },
     "execution_count": 7,
     "metadata": {
      "tags": []
     },
     "output_type": "execute_result"
    }
   ],
   "source": [
    "len(set(' '.join(str(y) for y in df['text'].values).split())) #unique words"
   ]
  },
  {
   "cell_type": "code",
   "execution_count": 0,
   "metadata": {
    "colab": {
     "base_uri": "https://localhost:8080/",
     "height": 206
    },
    "colab_type": "code",
    "id": "ONjPx-Tt41BT",
    "outputId": "d82fc0ef-a6f2-4a98-ea49-830cef0d85b8"
   },
   "outputs": [
    {
     "data": {
      "text/html": [
       "<div>\n",
       "<style scoped>\n",
       "    .dataframe tbody tr th:only-of-type {\n",
       "        vertical-align: middle;\n",
       "    }\n",
       "\n",
       "    .dataframe tbody tr th {\n",
       "        vertical-align: top;\n",
       "    }\n",
       "\n",
       "    .dataframe thead th {\n",
       "        text-align: right;\n",
       "    }\n",
       "</style>\n",
       "<table border=\"1\" class=\"dataframe\">\n",
       "  <thead>\n",
       "    <tr style=\"text-align: right;\">\n",
       "      <th></th>\n",
       "      <th>label</th>\n",
       "      <th>text</th>\n",
       "      <th>is_valid</th>\n",
       "    </tr>\n",
       "  </thead>\n",
       "  <tbody>\n",
       "    <tr>\n",
       "      <th>0</th>\n",
       "      <td>opinion</td>\n",
       "      <td>উচ্চ মাধ্যমিক পরীক্ষার আগের দিন মঙ্গলবার এক বি...</td>\n",
       "      <td>False</td>\n",
       "    </tr>\n",
       "    <tr>\n",
       "      <th>1</th>\n",
       "      <td>opinion</td>\n",
       "      <td>জাতিসংঘের সহকারী মহাসচিব অস্কার ফার্নান্দেজ তা...</td>\n",
       "      <td>False</td>\n",
       "    </tr>\n",
       "    <tr>\n",
       "      <th>2</th>\n",
       "      <td>opinion</td>\n",
       "      <td>একটা মেয়ে চিঠি লিখেছে তার বাবাকে। ইংরেজিতে লেখ...</td>\n",
       "      <td>False</td>\n",
       "    </tr>\n",
       "    <tr>\n",
       "      <th>3</th>\n",
       "      <td>opinion</td>\n",
       "      <td>গত বছরের নভেম্বরের শেষ। হেমন্তের সকাল।শীত আসি ...</td>\n",
       "      <td>False</td>\n",
       "    </tr>\n",
       "    <tr>\n",
       "      <th>4</th>\n",
       "      <td>opinion</td>\n",
       "      <td>ঢাকা৴ আগઍট ১৫ (িবিডিনউজ)- সমান পদমযગাদার অনઘান...</td>\n",
       "      <td>False</td>\n",
       "    </tr>\n",
       "  </tbody>\n",
       "</table>\n",
       "</div>"
      ],
      "text/plain": [
       "     label                                               text  is_valid\n",
       "0  opinion  উচ্চ মাধ্যমিক পরীক্ষার আগের দিন মঙ্গলবার এক বি...     False\n",
       "1  opinion  জাতিসংঘের সহকারী মহাসচিব অস্কার ফার্নান্দেজ তা...     False\n",
       "2  opinion  একটা মেয়ে চিঠি লিখেছে তার বাবাকে। ইংরেজিতে লেখ...     False\n",
       "3  opinion  গত বছরের নভেম্বরের শেষ। হেমন্তের সকাল।শীত আসি ...     False\n",
       "4  opinion  ঢাকা৴ আগઍট ১৫ (িবিডিনউজ)- সমান পদমযગাদার অনઘান...     False"
      ]
     },
     "execution_count": 7,
     "metadata": {
      "tags": []
     },
     "output_type": "execute_result"
    }
   ],
   "source": [
    "df.head()"
   ]
  },
  {
   "cell_type": "code",
   "execution_count": 0,
   "metadata": {
    "colab": {},
    "colab_type": "code",
    "id": "g2bW1Bu75e-4"
   },
   "outputs": [],
   "source": [
    "def sent(s):\n",
    "  global ls\n",
    "  s = s.split('।')\n",
    "  s = [ss+'।' for ss in s]\n",
    "  ls = ls + s"
   ]
  },
  {
   "cell_type": "code",
   "execution_count": 0,
   "metadata": {
    "colab": {},
    "colab_type": "code",
    "id": "jWZx10JY5Kfc"
   },
   "outputs": [],
   "source": [
    "ls =[]\n",
    "df['text'].apply(sent);"
   ]
  },
  {
   "cell_type": "code",
   "execution_count": 0,
   "metadata": {
    "colab": {
     "base_uri": "https://localhost:8080/",
     "height": 34
    },
    "colab_type": "code",
    "id": "KMit3G8P8RRT",
    "outputId": "0fb1a3f1-ffc2-4e59-ecea-bc1da21987d6"
   },
   "outputs": [
    {
     "data": {
      "text/plain": [
       "2025412"
      ]
     },
     "execution_count": 11,
     "metadata": {
      "tags": []
     },
     "output_type": "execute_result"
    }
   ],
   "source": [
    "len(ls)"
   ]
  },
  {
   "cell_type": "code",
   "execution_count": 0,
   "metadata": {
    "colab": {
     "base_uri": "https://localhost:8080/",
     "height": 191
    },
    "colab_type": "code",
    "id": "PB5fqm1F8UVd",
    "outputId": "f6a7a104-c986-4ae8-f7bd-ebc50c14eca4"
   },
   "outputs": [
    {
     "data": {
      "text/plain": [
       "['উচ্চ মাধ্যমিক পরীক্ষার আগের দিন মঙ্গলবার এক বিবৃতিতে মন্ত্রী বলেন, “আমি হরতাল-অবরোধ ও সন্ত্রাসী কার্যক্রম পরিচালনাকারী জোটের প্রতি আহ্বান জানাচ্ছি পরীক্ষার্থীদের শান্তিপূর্ণভাবে পরীক্ষা দিতে দিন।',\n",
       " ' দয়া করে কোনো হটকারী ঘটনা ঘটাবেন না।',\n",
       " ' “আমি স্পষ্ট ভাষায় জানিয়ে দিতে চাই- দেশের যে কোনো স্থানে আমাদের একজন পরীক্ষার্থীরও যদি কোনো ক্ষতি হয়, তার দায়দায়িত্ব আপনাদেরকেই বহন করতে হবে।',\n",
       " ' মানুষ আপনাদের ক্ষমা করবে না।',\n",
       " '” গত ৫ জানুয়ারি থেকে সারা দেশে টানা অবরোধ চালিয়ে আসা বিএনপি জোট ফেব্রুয়ারি ও মার্চের বেশিরভাগ সময় ছুটি ছাড়া প্রতিদিনই হরতাল করে এসেছে।',\n",
       " ' বিএনপি জোটের অবরোধ-হরতালে চলতি এসএসসি ও সমমানের সবগুলো অর্থাৎ, ১৬ দিনের ৩৬৮টি পরীক্ষা পেছাতে বাধ্য হয় শিক্ষা মন্ত্রণালয়।',\n",
       " ' পরীক্ষাগুলো নেওয়া হয় ছুটির দিনে, শুক্র ও শনিবার।',\n",
       " ' তবে এ ধরনের রাজনৈতিক কর্মসূচির কারণে যে এইচএসসি পরীক্ষা পেছানো হবে না তা আগেই জানিয়ে রেখেছেন শিক্ষামন্ত্রী।',\n",
       " ' ফাইল ছবি বিবৃতিতে নাহিদ বলেন, “সংকটের মধ্যে এসএসসি পরীক্ষা শেষ হতে না হতেই এইচএসসি পরীক্ষা শুরু হচ্ছে।',\n",
       " ' জাতির দুর্ভাগ্য যে, একটি রাজনৈতিক জোটের বিবেকবর্জিত অব্যাহত হরতাল-অবরোধের কারণে এসএসসির রুটিন অনুযায়ী একটি পরীক্ষাও নেওয়া সম্ভব হয়নি।']"
      ]
     },
     "execution_count": 16,
     "metadata": {
      "tags": []
     },
     "output_type": "execute_result"
    }
   ],
   "source": [
    "ls[:10]"
   ]
  },
  {
   "cell_type": "code",
   "execution_count": 0,
   "metadata": {
    "colab": {},
    "colab_type": "code",
    "id": "gwuk48wYClge"
   },
   "outputs": [],
   "source": [
    "sv = pd.DataFrame({'text':ls})\n",
    "sv.to_csv(news/'sp_sents.csv',index=False)"
   ]
  },
  {
   "cell_type": "code",
   "execution_count": 0,
   "metadata": {
    "colab": {
     "base_uri": "https://localhost:8080/",
     "height": 206
    },
    "colab_type": "code",
    "id": "iLorxmLYCa36",
    "outputId": "c1ea2cb6-ed28-44da-e869-0177a3c11507"
   },
   "outputs": [
    {
     "data": {
      "text/html": [
       "<div>\n",
       "<style scoped>\n",
       "    .dataframe tbody tr th:only-of-type {\n",
       "        vertical-align: middle;\n",
       "    }\n",
       "\n",
       "    .dataframe tbody tr th {\n",
       "        vertical-align: top;\n",
       "    }\n",
       "\n",
       "    .dataframe thead th {\n",
       "        text-align: right;\n",
       "    }\n",
       "</style>\n",
       "<table border=\"1\" class=\"dataframe\">\n",
       "  <thead>\n",
       "    <tr style=\"text-align: right;\">\n",
       "      <th></th>\n",
       "      <th>text</th>\n",
       "    </tr>\n",
       "  </thead>\n",
       "  <tbody>\n",
       "    <tr>\n",
       "      <th>0</th>\n",
       "      <td>উচ্চ মাধ্যমিক পরীক্ষার আগের দিন মঙ্গলবার এক বি...</td>\n",
       "    </tr>\n",
       "    <tr>\n",
       "      <th>1</th>\n",
       "      <td>দয়া করে কোনো হটকারী ঘটনা ঘটাবেন না।</td>\n",
       "    </tr>\n",
       "    <tr>\n",
       "      <th>2</th>\n",
       "      <td>“আমি স্পষ্ট ভাষায় জানিয়ে দিতে চাই- দেশের যে ক...</td>\n",
       "    </tr>\n",
       "    <tr>\n",
       "      <th>3</th>\n",
       "      <td>মানুষ আপনাদের ক্ষমা করবে না।</td>\n",
       "    </tr>\n",
       "    <tr>\n",
       "      <th>4</th>\n",
       "      <td>” গত ৫ জানুয়ারি থেকে সারা দেশে টানা অবরোধ চালি...</td>\n",
       "    </tr>\n",
       "  </tbody>\n",
       "</table>\n",
       "</div>"
      ],
      "text/plain": [
       "                                                text\n",
       "0  উচ্চ মাধ্যমিক পরীক্ষার আগের দিন মঙ্গলবার এক বি...\n",
       "1                দয়া করে কোনো হটকারী ঘটনা ঘটাবেন না।\n",
       "2   “আমি স্পষ্ট ভাষায় জানিয়ে দিতে চাই- দেশের যে ক...\n",
       "3                       মানুষ আপনাদের ক্ষমা করবে না।\n",
       "4  ” গত ৫ জানুয়ারি থেকে সারা দেশে টানা অবরোধ চালি..."
      ]
     },
     "execution_count": 51,
     "metadata": {
      "tags": []
     },
     "output_type": "execute_result"
    }
   ],
   "source": [
    "sv = pd.read_csv(news/'sp_sents.csv')\n",
    "sv.head()"
   ]
  },
  {
   "cell_type": "code",
   "execution_count": 0,
   "metadata": {
    "colab": {
     "base_uri": "https://localhost:8080/",
     "height": 34
    },
    "colab_type": "code",
    "id": "0MURWXKLCmHg",
    "outputId": "9abf7f25-276b-42d9-ce57-9549073a321e"
   },
   "outputs": [
    {
     "data": {
      "text/plain": [
       "2025412"
      ]
     },
     "execution_count": 7,
     "metadata": {
      "tags": []
     },
     "output_type": "execute_result"
    }
   ],
   "source": [
    "len(sv)"
   ]
  },
  {
   "cell_type": "code",
   "execution_count": 0,
   "metadata": {
    "colab": {
     "base_uri": "https://localhost:8080/",
     "height": 104
    },
    "colab_type": "code",
    "id": "490QLxku8gE6",
    "outputId": "2719ad89-698f-4dd4-ac1e-84794163d119"
   },
   "outputs": [
    {
     "data": {
      "text/plain": [
       "[<function fastai.text.transform.fix_html>,\n",
       " <function fastai.text.transform.replace_rep>,\n",
       " <function fastai.text.transform.replace_wrep>,\n",
       " <function fastai.text.transform.spec_add_spaces>,\n",
       " <function fastai.text.transform.rm_useless_spaces>]"
      ]
     },
     "execution_count": 20,
     "metadata": {
      "tags": []
     },
     "output_type": "execute_result"
    }
   ],
   "source": [
    "defaults.text_pre_rules"
   ]
  },
  {
   "cell_type": "code",
   "execution_count": 0,
   "metadata": {
    "colab": {},
    "colab_type": "code",
    "id": "wHDKwsI69Oeo"
   },
   "outputs": [],
   "source": [
    "for rule in defaults.text_pre_rules:\n",
    "    sv['text']=sv['text'].apply(lambda x: rule(str(x)))"
   ]
  },
  {
   "cell_type": "code",
   "execution_count": 0,
   "metadata": {
    "colab": {},
    "colab_type": "code",
    "id": "WyplD-9ZJ9eG"
   },
   "outputs": [],
   "source": [
    "sv['text'] = sv['text'].apply(lambda x: '<s>'+x+'</s>');"
   ]
  },
  {
   "cell_type": "code",
   "execution_count": 0,
   "metadata": {
    "colab": {
     "base_uri": "https://localhost:8080/",
     "height": 34
    },
    "colab_type": "code",
    "id": "Y2kj2D8B9rxw",
    "outputId": "aca19cb1-5658-460f-9a81-310b34a4e0f3"
   },
   "outputs": [
    {
     "data": {
      "text/plain": [
       "'<s>উচ্চ মাধ্যমিক পরীক্ষার আগের দিন মঙ্গলবার এক বিবৃতিতে মন্ত্রী বলেন, “আমি হরতাল-অবরোধ ও সন্ত্রাসী কার্যক্রম পরিচালনাকারী জোটের প্রতি আহ্বান জানাচ্ছি পরীক্ষার্থীদের শান্তিপূর্ণভাবে পরীক্ষা দিতে দিন।</s>'"
      ]
     },
     "execution_count": 54,
     "metadata": {
      "tags": []
     },
     "output_type": "execute_result"
    }
   ],
   "source": [
    "sv.head(1)['text'][0]"
   ]
  },
  {
   "cell_type": "code",
   "execution_count": 0,
   "metadata": {
    "colab": {},
    "colab_type": "code",
    "id": "V2Jr0Cgo_Zgd"
   },
   "outputs": [],
   "source": [
    "file = 'formatted_sp_sents.csv'"
   ]
  },
  {
   "cell_type": "code",
   "execution_count": 0,
   "metadata": {
    "colab": {},
    "colab_type": "code",
    "id": "CBIWoI_O9ssn"
   },
   "outputs": [],
   "source": [
    "## Saving the file\n",
    "sv.to_csv(news/file,index=False)"
   ]
  },
  {
   "cell_type": "markdown",
   "metadata": {
    "colab_type": "text",
    "id": "UnZ6KC-VTeo-"
   },
   "source": [
    "### load and save to current dir(no rerun-for sp)"
   ]
  },
  {
   "cell_type": "code",
   "execution_count": 0,
   "metadata": {
    "colab": {},
    "colab_type": "code",
    "id": "Fqs7DF47GwKT"
   },
   "outputs": [],
   "source": [
    "file = 'formatted_sp_sents.csv'\n",
    "sv = pd.read_csv(news/file);\n",
    "sv.to_csv(file,index=False) # to save in current directory"
   ]
  },
  {
   "cell_type": "markdown",
   "metadata": {
    "colab_type": "text",
    "id": "TV1DGq8h-fq_"
   },
   "source": [
    "## Training"
   ]
  },
  {
   "cell_type": "code",
   "execution_count": 0,
   "metadata": {
    "colab": {},
    "colab_type": "code",
    "id": "1hvRe6oT-fBH"
   },
   "outputs": [],
   "source": [
    "vocab_size = 30000\n",
    "model_prefix = 'sp'"
   ]
  },
  {
   "cell_type": "code",
   "execution_count": 0,
   "metadata": {
    "colab": {},
    "colab_type": "code",
    "id": "burEPtGP-jyR"
   },
   "outputs": [],
   "source": [
    "spm.SentencePieceTrainer.Train(f'--input={file}'\\\n",
    "                               f' --model_prefix={model_prefix}'\\\n",
    "                               f' --vocab_size={vocab_size}')\n",
    "#                               f'--unk_piece={UNK} --bos_piece={BOS} --eos_id=-1 --pad_piece={PAD}')"
   ]
  },
  {
   "cell_type": "code",
   "execution_count": 13,
   "metadata": {
    "colab": {
     "base_uri": "https://localhost:8080/",
     "height": 187
    },
    "colab_type": "code",
    "id": "J-MFdg_j_iXz",
    "outputId": "ee7494e0-3330-4ff1-9764-d50bc7c620c6"
   },
   "outputs": [
    {
     "name": "stdout",
     "output_type": "stream",
     "text": [
      "     1\t<unk>\t0\n",
      "     2\t<s>\t0\n",
      "     3\t</s>\t0\n",
      "     4\t▁\t-1.92809\n",
      "     5\t।\t-3.08075\n",
      "     6\t,\t-3.75831\n",
      "     7\t\"\t-3.82833\n",
      "     8\t▁\"\t-4.22803\n",
      "     9\t▁ও\t-4.91756\n",
      "    10\tর\t-4.94756\n"
     ]
    }
   ],
   "source": [
    "#Head of the Vocab file: Line nums indicate index of vocab\n",
    "!head -n10 {model_prefix}.vocab | nl"
   ]
  },
  {
   "cell_type": "code",
   "execution_count": 11,
   "metadata": {
    "colab": {
     "base_uri": "https://localhost:8080/",
     "height": 34
    },
    "colab_type": "code",
    "id": "t-VTowpvBDya",
    "outputId": "04b1d6f7-1305-49a8-911c-73893129cbdd"
   },
   "outputs": [
    {
     "data": {
      "text/plain": [
       "True"
      ]
     },
     "execution_count": 11,
     "metadata": {
      "tags": []
     },
     "output_type": "execute_result"
    }
   ],
   "source": [
    "## load up the Processor\n",
    "sp = spm.SentencePieceProcessor()\n",
    "sp.load(f'{model_prefix}.model')"
   ]
  },
  {
   "cell_type": "code",
   "execution_count": 0,
   "metadata": {
    "colab": {},
    "colab_type": "code",
    "id": "7f25k7nxP1oS"
   },
   "outputs": [],
   "source": [
    "itos = [] #{}\n",
    "with open(f'{model_prefix}.vocab','r') as f:\n",
    "    for line_num,line in enumerate(f):\n",
    "        itos.append(line.split(\"\\t\")[0])"
   ]
  },
  {
   "cell_type": "code",
   "execution_count": 13,
   "metadata": {
    "colab": {
     "base_uri": "https://localhost:8080/",
     "height": 34
    },
    "colab_type": "code",
    "id": "cJg3UrwIJxLQ",
    "outputId": "77bce3e1-fa99-4920-c5cd-bb0a8090c68a"
   },
   "outputs": [
    {
     "data": {
      "text/plain": [
       "30000"
      ]
     },
     "execution_count": 13,
     "metadata": {
      "tags": []
     },
     "output_type": "execute_result"
    }
   ],
   "source": [
    "len(itos)"
   ]
  },
  {
   "cell_type": "code",
   "execution_count": 14,
   "metadata": {
    "colab": {
     "base_uri": "https://localhost:8080/",
     "height": 51
    },
    "colab_type": "code",
    "id": "MPoVAW2EJzyG",
    "outputId": "7bac5f44-114e-48af-f3a6-55e9fccd293e"
   },
   "outputs": [
    {
     "data": {
      "text/plain": [
       "(['<unk>', '<s>', '</s>', '▁', '।'],\n",
       " ['ইমরুল', '▁কামরাঙ্গীর', '▁whe', '▁অভ্যন্তরী', '/'])"
      ]
     },
     "execution_count": 14,
     "metadata": {
      "tags": []
     },
     "output_type": "execute_result"
    }
   ],
   "source": [
    "itos[:5], itos[-5:]"
   ]
  },
  {
   "cell_type": "code",
   "execution_count": 0,
   "metadata": {
    "colab": {},
    "colab_type": "code",
    "id": "9pw4ZtL4blcM"
   },
   "outputs": [],
   "source": [
    "class SPTokenizer(BaseTokenizer):\n",
    "    \"Wrapper around a SentncePiece tokenizer to make it a `BaseTokenizer`.\"\n",
    "    def __init__(self, model_prefix:str):\n",
    "        self.tok = spm.SentencePieceProcessor()\n",
    "        self.tok.load(f'{model_prefix}.model')\n",
    "\n",
    "    def tokenizer(self, t:str) -> List[str]:\n",
    "        return self.tok.EncodeAsPieces(t)\n",
    "    \n",
    "class CustomTokenizer():\n",
    "    '''Wrapper for SentencePiece toeknizer to fit into Fast.ai V1'''\n",
    "    def __init__(self,tok_func:Callable,model_prefix:str, pre_rules:ListRules=None):\n",
    "        self.tok_func,self.model_prefix = tok_func,model_prefix\n",
    "        self.pre_rules  = ifnone(pre_rules,  defaults.text_pre_rules )\n",
    "        \n",
    "    def __repr__(self) -> str:\n",
    "        res = f'Tokenizer {self.tok_func.__name__} using `{self.model_prefix}` model with the following rules:\\n'\n",
    "        for rule in self.pre_rules: res += f' - {rule.__name__}\\n'\n",
    "        return res        \n",
    "\n",
    "    def process_text(self, t:str,tok:BaseTokenizer) -> List[str]:\n",
    "        \"Processe one text `t` with tokenizer `tok`.\"\n",
    "        for rule in self.pre_rules: t = rule(t)  \n",
    "        toks = tok.tokenizer(t)\n",
    "        #post rules?\n",
    "        return toks \n",
    "    \n",
    "    def _process_all_1(self,texts:Collection[str]) -> List[List[str]]:\n",
    "        'Process a list of `texts` in one process'\n",
    "        tok = self.tok_func(self.model_prefix)\n",
    "        return [self.process_text(t,tok) for t in texts]\n",
    "                                                                     \n",
    "    def process_all(self, texts:Collection[str]) -> List[List[str]]: \n",
    "        \"Process a list of `texts`.\"                                 \n",
    "        return self._process_all_1(texts)"
   ]
  },
  {
   "cell_type": "code",
   "execution_count": 0,
   "metadata": {
    "colab": {},
    "colab_type": "code",
    "id": "dmAYJI8mBZwa"
   },
   "outputs": [],
   "source": [
    "#setup Vocab object for use in LM\n",
    "sp_vocab = Vocab(itos)"
   ]
  },
  {
   "cell_type": "code",
   "execution_count": 0,
   "metadata": {
    "colab": {},
    "colab_type": "code",
    "id": "VPhGAOe8AMCV"
   },
   "outputs": [],
   "source": [
    "mycust_tok = CustomTokenizer(SPTokenizer,model_prefix)"
   ]
  },
  {
   "cell_type": "markdown",
   "metadata": {
    "colab_type": "text",
    "id": "56qSVYLETsLJ"
   },
   "source": [
    "### News LM (ULM)"
   ]
  },
  {
   "cell_type": "code",
   "execution_count": 0,
   "metadata": {
    "colab": {},
    "colab_type": "code",
    "id": "Bdf_f-e1P9fk"
   },
   "outputs": [],
   "source": [
    "bs = 32\n",
    "bptt = 70"
   ]
  },
  {
   "cell_type": "code",
   "execution_count": 0,
   "metadata": {
    "colab": {},
    "colab_type": "code",
    "id": "1DtNJ75fQCBf"
   },
   "outputs": [],
   "source": [
    "data_lm = TextLMDataBunch.from_csv(news , 'full_doc.csv', bs=bs , bptt=bptt,tokenizer=mycust_tok, vocab=sp_vocab)\n",
    "data_lm.save('news_subword.pkl')"
   ]
  },
  {
   "cell_type": "code",
   "execution_count": 0,
   "metadata": {
    "colab": {},
    "colab_type": "code",
    "id": "f6ImvEsQ7B9M"
   },
   "outputs": [],
   "source": [
    "data_lm = load_data(news, 'news_subword.pkl',bs=bs)"
   ]
  },
  {
   "cell_type": "code",
   "execution_count": 0,
   "metadata": {
    "colab": {
     "base_uri": "https://localhost:8080/",
     "height": 34
    },
    "colab_type": "code",
    "id": "m_EZ6jdsE_bW",
    "outputId": "d1a086c3-0fe3-4e05-feca-c6025d64b56e"
   },
   "outputs": [
    {
     "data": {
      "text/plain": [
       "30000"
      ]
     },
     "execution_count": 11,
     "metadata": {
      "tags": []
     },
     "output_type": "execute_result"
    }
   ],
   "source": [
    "len(data_lm.train_dl.vocab.itos)"
   ]
  },
  {
   "cell_type": "code",
   "execution_count": 0,
   "metadata": {
    "colab": {
     "base_uri": "https://localhost:8080/",
     "height": 345
    },
    "colab_type": "code",
    "id": "7I6JBz7VBfUa",
    "outputId": "73b95788-d96e-43ec-8add-147800a7622f"
   },
   "outputs": [
    {
     "data": {
      "text/html": [
       "<table border=\"1\" class=\"dataframe\">\n",
       "  <thead>\n",
       "    <tr style=\"text-align: right;\">\n",
       "      <th>idx</th>\n",
       "      <th>text</th>\n",
       "    </tr>\n",
       "  </thead>\n",
       "  <tbody>\n",
       "    <tr>\n",
       "      <td>0</td>\n",
       "      <td>▁ জাগ ানোর ▁মতো ▁পরিবর্তন ▁নেই । ▁ইতালি ▁কোচ ▁রবার্তো ▁ড োনা ডো নি ▁শুধু ▁তার ▁চূড়ান্ত ▁দলে ▁রাখেননি ▁ফিওরেন্টিনা র ▁মিডফিল্ডার ▁রি কার্ড ো ▁ মন্ট োলি ভো কে । ▁জার্মান ▁কোচ ▁জোয়া কিম ▁ লো উয়ে র ▁চূড়ান্ত ▁বিবেচনা ▁থেকে ▁বাদ ▁পড়েছেন ▁আন্তর্জাতিক ▁ফুটবলে ▁অনভিজ্ঞ ▁তিন ▁খেলোয়াড় ▁মার্কো ▁মা রিন , ▁জা র্ম ে ইন ▁জোন্স ▁ও ▁ প্যাট্রিক ▁ হেম স । ▁ওদিকে ▁ডাচ ▁কোচ ▁মার্কো ▁ফন</td>\n",
       "    </tr>\n",
       "    <tr>\n",
       "      <td>1</td>\n",
       "      <td>▁থেকেই ▁বাংলা ▁ভাষা ▁ও ▁সংস্কৃতির ▁পাশাপাশি ▁বাঙালিদের ▁প্রতি ▁গভীর ▁আগ্রহের ▁শুরু । ▁অধ্যাপক ▁তো মি ও ▁মি জো কা মি ▁বলেন , ▁“ একাত্তরের ▁সময় ▁আমি ▁ও সাকা ▁বিশ্ববিদ্যালয়ে ▁অধ্যাপনা ▁করছিলাম । ওই ▁সময় ▁পত্র - পত্রিকা ▁আর ▁বিশ্বভারতী র ▁কিছু ▁বন্ধুদের ▁কাছ ▁থেকে ▁বাঙালিদের ▁উপর ▁পাকিস্তানের ▁শোষণ ▁আর ▁নির্যাতনের ▁কথা ▁শুনে ▁নিজেকে ▁সামলাতে ▁পারিনি । ” ▁“ বাংলাদেশের ▁স্বাধীনতার ▁সমর্থনে ▁আমি ▁জাপানের ▁বিভিন্ন ▁পত্র - পত্রিকায় ▁লেখা লি খি</td>\n",
       "    </tr>\n",
       "    <tr>\n",
       "      <td>2</td>\n",
       "      <td>▁ com ments ▁on ▁the ▁ pro f ile ▁of ▁a ▁us er . ▁W hich ▁of ▁the ▁above ▁state ments ▁is ▁/ ▁are ▁correct ? ▁i . ▁A ▁and ▁B ▁ii . ▁B ▁and ▁C ▁iii . ▁A ▁and ▁C ▁iv . ▁B ▁ f . ▁\" The y ▁can ▁also ▁express ▁their ▁ op in ion ▁or ▁vi ew s ▁on ▁their ▁ pro fi les ▁through ▁</td>\n",
       "    </tr>\n",
       "    <tr>\n",
       "      <td>3</td>\n",
       "      <td>▁ভোট ▁চুরির ▁সঙ্গে ▁সেনাবাহিনী ▁জড়িত ▁থাকে ▁না । ▁নির্বাচন ▁কমিশনের ▁চাহিদা ▁অনুযায়ী ▁সেনা ▁মোতায়েন ে ▁সহযোগিতা ▁না ▁করার ▁অপরাধ বোধ ▁থেকেই ▁হয়তো ▁প্রধামন্ত্রী ▁এখন ▁আব োল - তাব োল ▁বলছেন , \" ▁যোগ ▁করেন ▁এই ▁বিএনপি ▁নেতা । ▁সাবেক ▁সাংসদ ▁মোশাররফ ▁বলেন , ▁\" সংবিধানের ▁১২৬ ▁অনুচ্ছেদ ▁অনুযায়ী ▁সরকার ▁নির্বাচন ▁কমিশনকে ▁সেনা ▁বাহিনী ▁দিতে ▁বাধ্য । ▁নির্বাচন ▁কমিশনের ▁অনুরোধ ▁অনুযায়ী ▁নারায়ণগঞ্জে ▁সেনা ▁মোতায়েন ▁না ▁করে ▁প্রধানমন্ত্রী ▁সংবিধান ▁লঙ্ঘন ▁করেছেন ।</td>\n",
       "    </tr>\n",
       "    <tr>\n",
       "      <td>4</td>\n",
       "      <td>▁ অবসরের ▁কারণ ▁নয় । ▁আমি ▁একজন ▁ধারাভাষ্যকার , ▁কোচ ▁বা ▁আম্পায়ার ▁হতে ▁পারবো ▁না । ▁কিন্তু ▁আমি ▁ভালো ▁বল ▁করতে ▁ও ▁উইকেট ▁তুলে ▁নিতে ▁পারবো । ▁তাই ▁অর্থ কেই ▁আমার ▁সিদ্ধান্তের ▁মূল ▁কারণ ▁বলা টা ▁অবিচার ▁হবে । ▁শ্রীলঙ্কার ▁হয়ে ▁মাত্র ▁৩০ ▁টেস্ট ▁খেলা ▁মালিঙ্গা ▁১০০ ▁( ১০ ১ ) ▁ টি ▁উইকেট ▁নিয়েছেন । ▁তার ▁আগে ▁ম ুত্তিয়া ▁মুরালিধরন ▁ও ▁চা মি ন্দা ▁ ভাস ই ▁শুধু ▁এই</td>\n",
       "    </tr>\n",
       "  </tbody>\n",
       "</table>"
      ],
      "text/plain": [
       "<IPython.core.display.HTML object>"
      ]
     },
     "metadata": {
      "tags": []
     },
     "output_type": "display_data"
    }
   ],
   "source": [
    "data_lm.show_batch()"
   ]
  },
  {
   "cell_type": "code",
   "execution_count": 0,
   "metadata": {
    "colab": {},
    "colab_type": "code",
    "id": "LKtOIOHz69hn"
   },
   "outputs": [],
   "source": [
    "learn = language_model_learner(data_lm, AWD_LSTM, pretrained=False, drop_mult=0.5)"
   ]
  },
  {
   "cell_type": "code",
   "execution_count": 0,
   "metadata": {
    "colab": {
     "base_uri": "https://localhost:8080/",
     "height": 300
    },
    "colab_type": "code",
    "id": "XTxoBCAiEX57",
    "outputId": "e6b9b9bf-afd1-499a-958b-92de91cb41b7"
   },
   "outputs": [
    {
     "data": {
      "text/html": [],
      "text/plain": [
       "<IPython.core.display.HTML object>"
      ]
     },
     "metadata": {
      "tags": []
     },
     "output_type": "display_data"
    },
    {
     "name": "stdout",
     "output_type": "stream",
     "text": [
      "LR Finder is complete, type {learner_name}.recorder.plot() to see the graph.\n"
     ]
    },
    {
     "data": {
      "image/png": "[encoded data removed]",
      "text/plain": [
       "<Figure size 432x288 with 1 Axes>"
      ]
     },
     "metadata": {
      "tags": []
     },
     "output_type": "display_data"
    }
   ],
   "source": [
    "learn.lr_find();\n",
    "learn.recorder.plot();"
   ]
  },
  {
   "cell_type": "code",
   "execution_count": 0,
   "metadata": {
    "colab": {
     "base_uri": "https://localhost:8080/",
     "height": 283
    },
    "colab_type": "code",
    "id": "SOm8FlbtZJ_A",
    "outputId": "5780182e-5a3a-4111-d0ce-dda2ce230b23"
   },
   "outputs": [
    {
     "data": {
      "image/png": "[encoded data removed]",
      "text/plain": [
       "<Figure size 432x288 with 1 Axes>"
      ]
     },
     "metadata": {
      "tags": []
     },
     "output_type": "display_data"
    }
   ],
   "source": [
    "learn.recorder.plot(skip_end=10)"
   ]
  },
  {
   "cell_type": "markdown",
   "metadata": {
    "colab_type": "text",
    "id": "LPaU82IuMJRa"
   },
   "source": [
    "##### epochs"
   ]
  },
  {
   "cell_type": "code",
   "execution_count": 0,
   "metadata": {
    "colab": {
     "base_uri": "https://localhost:8080/",
     "height": 333
    },
    "colab_type": "code",
    "id": "1vQy8XpsGtBR",
    "outputId": "25cc8d97-e90a-46a8-8b37-afb895e00f01"
   },
   "outputs": [
    {
     "data": {
      "text/html": [
       "<table border=\"1\" class=\"dataframe\">\n",
       "  <thead>\n",
       "    <tr style=\"text-align: left;\">\n",
       "      <th>epoch</th>\n",
       "      <th>train_loss</th>\n",
       "      <th>valid_loss</th>\n",
       "      <th>accuracy</th>\n",
       "      <th>time</th>\n",
       "    </tr>\n",
       "  </thead>\n",
       "  <tbody>\n",
       "    <tr>\n",
       "      <td>0</td>\n",
       "      <td>4.638430</td>\n",
       "      <td>4.452888</td>\n",
       "      <td>0.292754</td>\n",
       "      <td>52:56</td>\n",
       "    </tr>\n",
       "  </tbody>\n",
       "</table>"
      ],
      "text/plain": [
       "<IPython.core.display.HTML object>"
      ]
     },
     "metadata": {
      "tags": []
     },
     "output_type": "display_data"
    },
    {
     "data": {
      "image/png": "[encoded data removed]",
      "text/plain": [
       "<Figure size 432x288 with 1 Axes>"
      ]
     },
     "metadata": {
      "tags": []
     },
     "output_type": "display_data"
    }
   ],
   "source": [
    "learn.fit_one_cycle(1, 1e-2)\n",
    "learn.save('news_subword_lm')"
   ]
  },
  {
   "cell_type": "code",
   "execution_count": 0,
   "metadata": {
    "colab": {
     "base_uri": "https://localhost:8080/",
     "height": 333
    },
    "colab_type": "code",
    "id": "7dP5cXs6JotP",
    "outputId": "074c5408-a789-482d-bbb7-ec503f6482b6"
   },
   "outputs": [
    {
     "data": {
      "text/html": [
       "<table border=\"1\" class=\"dataframe\">\n",
       "  <thead>\n",
       "    <tr style=\"text-align: left;\">\n",
       "      <th>epoch</th>\n",
       "      <th>train_loss</th>\n",
       "      <th>valid_loss</th>\n",
       "      <th>accuracy</th>\n",
       "      <th>time</th>\n",
       "    </tr>\n",
       "  </thead>\n",
       "  <tbody>\n",
       "    <tr>\n",
       "      <td>0</td>\n",
       "      <td>4.523597</td>\n",
       "      <td>4.313521</td>\n",
       "      <td>0.305719</td>\n",
       "      <td>52:56</td>\n",
       "    </tr>\n",
       "  </tbody>\n",
       "</table>"
      ],
      "text/plain": [
       "<IPython.core.display.HTML object>"
      ]
     },
     "metadata": {
      "tags": []
     },
     "output_type": "display_data"
    },
    {
     "data": {
      "image/png": "[encoded data removed]",
      "text/plain": [
       "<Figure size 432x288 with 1 Axes>"
      ]
     },
     "metadata": {
      "tags": []
     },
     "output_type": "display_data"
    }
   ],
   "source": [
    "learn.fit_one_cycle(1, 1e-2)\n",
    "learn.save('news_subword_lm_2')"
   ]
  },
  {
   "cell_type": "code",
   "execution_count": 0,
   "metadata": {
    "colab": {
     "base_uri": "https://localhost:8080/",
     "height": 333
    },
    "colab_type": "code",
    "id": "DEKzu4F-JwY8",
    "outputId": "ed0e0d58-4381-4dfd-85ea-0a6b0961a836"
   },
   "outputs": [
    {
     "data": {
      "text/html": [
       "<table border=\"1\" class=\"dataframe\">\n",
       "  <thead>\n",
       "    <tr style=\"text-align: left;\">\n",
       "      <th>epoch</th>\n",
       "      <th>train_loss</th>\n",
       "      <th>valid_loss</th>\n",
       "      <th>accuracy</th>\n",
       "      <th>time</th>\n",
       "    </tr>\n",
       "  </thead>\n",
       "  <tbody>\n",
       "    <tr>\n",
       "      <td>0</td>\n",
       "      <td>4.327793</td>\n",
       "      <td>4.245755</td>\n",
       "      <td>0.311596</td>\n",
       "      <td>52:55</td>\n",
       "    </tr>\n",
       "  </tbody>\n",
       "</table>"
      ],
      "text/plain": [
       "<IPython.core.display.HTML object>"
      ]
     },
     "metadata": {
      "tags": []
     },
     "output_type": "display_data"
    },
    {
     "data": {
      "image/png": "[encoded data removed]",
      "text/plain": [
       "<Figure size 432x288 with 1 Axes>"
      ]
     },
     "metadata": {
      "tags": []
     },
     "output_type": "display_data"
    }
   ],
   "source": [
    "learn.fit_one_cycle(1, 1e-2)\n",
    "learn.save('news_subword_lm_3')"
   ]
  },
  {
   "cell_type": "code",
   "execution_count": 0,
   "metadata": {
    "colab": {
     "base_uri": "https://localhost:8080/",
     "height": 333
    },
    "colab_type": "code",
    "id": "pkN3J1ynJwVR",
    "outputId": "e88d7f24-f256-4f6b-a20e-9c88ff289e8b"
   },
   "outputs": [
    {
     "data": {
      "text/html": [
       "<table border=\"1\" class=\"dataframe\">\n",
       "  <thead>\n",
       "    <tr style=\"text-align: left;\">\n",
       "      <th>epoch</th>\n",
       "      <th>train_loss</th>\n",
       "      <th>valid_loss</th>\n",
       "      <th>accuracy</th>\n",
       "      <th>time</th>\n",
       "    </tr>\n",
       "  </thead>\n",
       "  <tbody>\n",
       "    <tr>\n",
       "      <td>0</td>\n",
       "      <td>4.267126</td>\n",
       "      <td>4.204876</td>\n",
       "      <td>0.315610</td>\n",
       "      <td>52:53</td>\n",
       "    </tr>\n",
       "  </tbody>\n",
       "</table>"
      ],
      "text/plain": [
       "<IPython.core.display.HTML object>"
      ]
     },
     "metadata": {
      "tags": []
     },
     "output_type": "display_data"
    },
    {
     "data": {
      "image/png": "[encoded data removed]",
      "text/plain": [
       "<Figure size 432x288 with 1 Axes>"
      ]
     },
     "metadata": {
      "tags": []
     },
     "output_type": "display_data"
    }
   ],
   "source": [
    "learn.fit_one_cycle(1, 1e-2)\n",
    "learn.save('news_subword_lm_4')"
   ]
  },
  {
   "cell_type": "code",
   "execution_count": 0,
   "metadata": {
    "colab": {
     "base_uri": "https://localhost:8080/",
     "height": 333
    },
    "colab_type": "code",
    "id": "xEye9HvGJwQ8",
    "outputId": "4ea6a1c8-a29b-4479-b08b-fa830af5dded"
   },
   "outputs": [
    {
     "data": {
      "text/html": [
       "<table border=\"1\" class=\"dataframe\">\n",
       "  <thead>\n",
       "    <tr style=\"text-align: left;\">\n",
       "      <th>epoch</th>\n",
       "      <th>train_loss</th>\n",
       "      <th>valid_loss</th>\n",
       "      <th>accuracy</th>\n",
       "      <th>time</th>\n",
       "    </tr>\n",
       "  </thead>\n",
       "  <tbody>\n",
       "    <tr>\n",
       "      <td>0</td>\n",
       "      <td>4.326856</td>\n",
       "      <td>4.175828</td>\n",
       "      <td>0.318517</td>\n",
       "      <td>52:53</td>\n",
       "    </tr>\n",
       "  </tbody>\n",
       "</table>"
      ],
      "text/plain": [
       "<IPython.core.display.HTML object>"
      ]
     },
     "metadata": {
      "tags": []
     },
     "output_type": "display_data"
    },
    {
     "data": {
      "image/png": "[encoded data removed]",
      "text/plain": [
       "<Figure size 432x288 with 1 Axes>"
      ]
     },
     "metadata": {
      "tags": []
     },
     "output_type": "display_data"
    }
   ],
   "source": [
    "learn.fit_one_cycle(1, 1e-2)\n",
    "learn.save('news_subword_lm_5')"
   ]
  },
  {
   "cell_type": "code",
   "execution_count": 0,
   "metadata": {
    "colab": {
     "base_uri": "https://localhost:8080/",
     "height": 333
    },
    "colab_type": "code",
    "id": "EDZOSOWbr1uV",
    "outputId": "cbd48a4c-57ae-4c37-ae18-dc4fd8ab7dfb"
   },
   "outputs": [
    {
     "data": {
      "text/html": [
       "<table border=\"1\" class=\"dataframe\">\n",
       "  <thead>\n",
       "    <tr style=\"text-align: left;\">\n",
       "      <th>epoch</th>\n",
       "      <th>train_loss</th>\n",
       "      <th>valid_loss</th>\n",
       "      <th>accuracy</th>\n",
       "      <th>time</th>\n",
       "    </tr>\n",
       "  </thead>\n",
       "  <tbody>\n",
       "    <tr>\n",
       "      <td>0</td>\n",
       "      <td>4.323741</td>\n",
       "      <td>4.154680</td>\n",
       "      <td>0.320393</td>\n",
       "      <td>52:50</td>\n",
       "    </tr>\n",
       "  </tbody>\n",
       "</table>"
      ],
      "text/plain": [
       "<IPython.core.display.HTML object>"
      ]
     },
     "metadata": {
      "tags": []
     },
     "output_type": "display_data"
    },
    {
     "data": {
      "image/png": "[encoded data removed]",
      "text/plain": [
       "<Figure size 432x288 with 1 Axes>"
      ]
     },
     "metadata": {
      "tags": []
     },
     "output_type": "display_data"
    }
   ],
   "source": [
    "learn.fit_one_cycle(1, 1e-2)\n",
    "learn.save('news_subword_lm_6')"
   ]
  },
  {
   "cell_type": "code",
   "execution_count": 0,
   "metadata": {
    "colab": {
     "base_uri": "https://localhost:8080/",
     "height": 333
    },
    "colab_type": "code",
    "id": "6zal82ryr3sp",
    "outputId": "b2527f04-4c11-4ba2-cd88-f1ba84c4706e"
   },
   "outputs": [
    {
     "data": {
      "text/html": [
       "<table border=\"1\" class=\"dataframe\">\n",
       "  <thead>\n",
       "    <tr style=\"text-align: left;\">\n",
       "      <th>epoch</th>\n",
       "      <th>train_loss</th>\n",
       "      <th>valid_loss</th>\n",
       "      <th>accuracy</th>\n",
       "      <th>time</th>\n",
       "    </tr>\n",
       "  </thead>\n",
       "  <tbody>\n",
       "    <tr>\n",
       "      <td>0</td>\n",
       "      <td>4.336947</td>\n",
       "      <td>4.139998</td>\n",
       "      <td>0.321645</td>\n",
       "      <td>52:38</td>\n",
       "    </tr>\n",
       "  </tbody>\n",
       "</table>"
      ],
      "text/plain": [
       "<IPython.core.display.HTML object>"
      ]
     },
     "metadata": {
      "tags": []
     },
     "output_type": "display_data"
    },
    {
     "data": {
      "image/png": "[encoded data removed]",
      "text/plain": [
       "<Figure size 432x288 with 1 Axes>"
      ]
     },
     "metadata": {
      "tags": []
     },
     "output_type": "display_data"
    }
   ],
   "source": [
    "learn.fit_one_cycle(1, 1e-2)\n",
    "learn.save('news_subword_lm_7')"
   ]
  },
  {
   "cell_type": "code",
   "execution_count": 0,
   "metadata": {
    "colab": {
     "base_uri": "https://localhost:8080/",
     "height": 333
    },
    "colab_type": "code",
    "id": "BG8LXzGLr5Vk",
    "outputId": "14447212-f153-467e-d4bd-448a93016506"
   },
   "outputs": [
    {
     "data": {
      "text/html": [
       "<table border=\"1\" class=\"dataframe\">\n",
       "  <thead>\n",
       "    <tr style=\"text-align: left;\">\n",
       "      <th>epoch</th>\n",
       "      <th>train_loss</th>\n",
       "      <th>valid_loss</th>\n",
       "      <th>accuracy</th>\n",
       "      <th>time</th>\n",
       "    </tr>\n",
       "  </thead>\n",
       "  <tbody>\n",
       "    <tr>\n",
       "      <td>0</td>\n",
       "      <td>4.246393</td>\n",
       "      <td>4.128552</td>\n",
       "      <td>0.322756</td>\n",
       "      <td>52:42</td>\n",
       "    </tr>\n",
       "  </tbody>\n",
       "</table>"
      ],
      "text/plain": [
       "<IPython.core.display.HTML object>"
      ]
     },
     "metadata": {
      "tags": []
     },
     "output_type": "display_data"
    },
    {
     "data": {
      "image/png": "[encoded data removed]",
      "text/plain": [
       "<Figure size 432x288 with 1 Axes>"
      ]
     },
     "metadata": {
      "tags": []
     },
     "output_type": "display_data"
    }
   ],
   "source": [
    "learn.fit_one_cycle(1, 1e-2)\n",
    "learn.save('news_subword_lm_8')"
   ]
  },
  {
   "cell_type": "markdown",
   "metadata": {
    "colab_type": "text",
    "id": "VbYzWr0LMRzd"
   },
   "source": [
    "##### test"
   ]
  },
  {
   "cell_type": "code",
   "execution_count": 0,
   "metadata": {
    "colab": {
     "base_uri": "https://localhost:8080/",
     "height": 104
    },
    "colab_type": "code",
    "id": "92p2cCZOZQKb",
    "outputId": "8c380ae6-0005-43d5-fdfc-06a44347363d"
   },
   "outputs": [
    {
     "name": "stdout",
     "output_type": "stream",
     "text": [
      "তিনি▁,▁বি▁ক▁▁▁ছ।▁▁▁▁▁▁।”▁জই▁▁▁▁▁▁,▁▁▁▁,▁▁▁▁▁▁,▁▁।▁▁▁▁▁▁▁▁▁▁▁।▁▁,▁এ▁▁▁বর▁▁।▁▁▁▁▁,▁▁র▁▁▁▁▁▁▁▁।”▁▁▁▁▁▁▁▁▁▁▁\n",
      "তিনি▁▁▁▁▁▁▁▁।▁▁▁▁▁▁▁▁▁▁▁▁▁▁▁▁,▁▁▁▁▁।▁▁▁▁▁▁▁ক▁▁▁▁▁,▁প▁▁▁▁▁▁।▁▁▁▁▁▁।▁’৯▁▁▁▁▁▁▁▁▁▁▁▁▁▁▁।”▁▁▁▁▁▁▁▁▁▁▁▁,▁▁▁▁,\n",
      "তিনি▁,▁ম,▁চক▁▁▁▁▁▁।▁▁▁।▁▁▁হ▁▁▁▁অ।▁,▁,▁▁▁▁▁▁।”▁▁▁▁▁▁▁▁▁।▁▁▁▁▁▁ম▁▁জ▁’র▁▁▁▁▁▁।▁ত▁▁▁ই▁-ত▁,▁▁▁▁▁জ-ন▁▁▁▁▁।”▁স▁\n",
      "তিনি▁,▁আ▁▁।▁,▁▁▁▁▁▁▁।▁▁▁।”▁আ▁▁,▁▁▁র▁▁।▁▁হব▁।▁▁▁▁▁▁▁▁,▁▁।▁▁▁▁▁স▁▁▁▁▁▁▁▁▁▁▁▁▁▁।▁▁▁▁▁▁▁▁▁▁▁▁,▁আ▁▁▁▁▁▁।▁দ▁▁▁\n",
      "তিনি▁,▁▁-▁▁▁।”▁▁▁▁▁▁▁ে▁▁▁▁▁▁।▁▁,▁▁▁▁▁▁▁▁▁▁।▁▁▁▁▁▁▁▁।▁-জ▁▁▁▁▁▁▁।▁ত▁▁▁▁▁▁▁▁▁▁▁।▁▁▁▁।”▁ত▁খ)▁▁▁▁?▁▁▁▁▁▁▁।▁▁▁\n"
     ]
    }
   ],
   "source": [
    "TEXT ='তিনি' #তিনি মারা গেছেন মাস তিনেক\n",
    "N_WORDS = 100\n",
    "N_SENTENCES = 5\n",
    "for _ in range(N_SENTENCES):\n",
    "  s = learn.predict(TEXT, N_WORDS, temperature=0.75)\n",
    "  ret = TEXT\n",
    "  for i in range(len(TEXT)+1,len(s)):\n",
    "    if(s[i-1]==' '):\n",
    "      ret += s[i]\n",
    "  print(ret)"
   ]
  },
  {
   "cell_type": "markdown",
   "metadata": {
    "colab_type": "text",
    "id": "4gUQtsY8VCub"
   },
   "source": [
    "**https://forums.fast.ai/t/adding-sentencepiecetokenizer-to-fastai-text-data/29864/12?u=tanny411**"
   ]
  },
  {
   "cell_type": "code",
   "execution_count": 0,
   "metadata": {
    "colab": {
     "base_uri": "https://localhost:8080/",
     "height": 363
    },
    "colab_type": "code",
    "id": "fZbUv4DxIJA1",
    "outputId": "23ff1781-eb25-4972-abb1-328d0d0a5b65"
   },
   "outputs": [
    {
     "data": {
      "text/html": [
       "<table border=\"1\" class=\"dataframe\">\n",
       "  <thead>\n",
       "    <tr style=\"text-align: left;\">\n",
       "      <th>epoch</th>\n",
       "      <th>train_loss</th>\n",
       "      <th>valid_loss</th>\n",
       "      <th>accuracy</th>\n",
       "      <th>time</th>\n",
       "    </tr>\n",
       "  </thead>\n",
       "  <tbody>\n",
       "    <tr>\n",
       "      <td>0</td>\n",
       "      <td>4.573126</td>\n",
       "      <td>4.461622</td>\n",
       "      <td>0.289000</td>\n",
       "      <td>52:11</td>\n",
       "    </tr>\n",
       "    <tr>\n",
       "      <td>1</td>\n",
       "      <td>4.183505</td>\n",
       "      <td>4.050094</td>\n",
       "      <td>0.330946</td>\n",
       "      <td>52:16</td>\n",
       "    </tr>\n",
       "  </tbody>\n",
       "</table>"
      ],
      "text/plain": [
       "<IPython.core.display.HTML object>"
      ]
     },
     "metadata": {
      "tags": []
     },
     "output_type": "display_data"
    },
    {
     "data": {
      "image/png": "[encoded data removed]",
      "text/plain": [
       "<Figure size 432x288 with 1 Axes>"
      ]
     },
     "metadata": {
      "tags": []
     },
     "output_type": "display_data"
    }
   ],
   "source": [
    "learn.load('news_subword_lm_8')\n",
    "learn.fit_one_cycle(2, 1e-2)\n",
    "learn.save('news_subword_lm_10')"
   ]
  },
  {
   "cell_type": "code",
   "execution_count": 0,
   "metadata": {
    "colab": {
     "base_uri": "https://localhost:8080/",
     "height": 332
    },
    "colab_type": "code",
    "id": "T5CxLZNz84Lb",
    "outputId": "a7ac1e86-ff0d-4350-be07-8a1c8710191a"
   },
   "outputs": [
    {
     "data": {
      "text/html": [
       "<table border=\"1\" class=\"dataframe\">\n",
       "  <thead>\n",
       "    <tr style=\"text-align: left;\">\n",
       "      <th>epoch</th>\n",
       "      <th>train_loss</th>\n",
       "      <th>valid_loss</th>\n",
       "      <th>accuracy</th>\n",
       "      <th>time</th>\n",
       "    </tr>\n",
       "  </thead>\n",
       "  <tbody>\n",
       "    <tr>\n",
       "      <td>0</td>\n",
       "      <td>4.361882</td>\n",
       "      <td>4.099645</td>\n",
       "      <td>0.325607</td>\n",
       "      <td>52:26</td>\n",
       "    </tr>\n",
       "  </tbody>\n",
       "</table>"
      ],
      "text/plain": [
       "<IPython.core.display.HTML object>"
      ]
     },
     "metadata": {
      "tags": []
     },
     "output_type": "display_data"
    },
    {
     "data": {
      "image/png": "[encoded data removed]",
      "text/plain": [
       "<Figure size 432x288 with 1 Axes>"
      ]
     },
     "metadata": {
      "tags": []
     },
     "output_type": "display_data"
    }
   ],
   "source": [
    "learn.fit_one_cycle(1, 1e-2)\n",
    "learn.save('news_subword_lm_11')"
   ]
  },
  {
   "cell_type": "code",
   "execution_count": 0,
   "metadata": {
    "colab": {
     "base_uri": "https://localhost:8080/",
     "height": 395
    },
    "colab_type": "code",
    "id": "GYqimlSaRTGK",
    "outputId": "6111ca21-340b-4252-e441-2c3e59f37fba"
   },
   "outputs": [
    {
     "data": {
      "text/html": [
       "\n",
       "    <div>\n",
       "        <style>\n",
       "            /* Turns off some styling */\n",
       "            progress {\n",
       "                /* gets rid of default border in Firefox and Opera. */\n",
       "                border: none;\n",
       "                /* Needs to be in here for Safari polyfill so background images work as expected. */\n",
       "                background-size: auto;\n",
       "            }\n",
       "            .progress-bar-interrupted, .progress-bar-interrupted::-webkit-progress-bar {\n",
       "                background: #F44336;\n",
       "            }\n",
       "        </style>\n",
       "      <progress value='1' class='' max='2', style='width:300px; height:20px; vertical-align: middle;'></progress>\n",
       "      50.00% [1/2 1:39:24<1:39:24]\n",
       "    </div>\n",
       "    \n",
       "<table border=\"1\" class=\"dataframe\">\n",
       "  <thead>\n",
       "    <tr style=\"text-align: left;\">\n",
       "      <th>epoch</th>\n",
       "      <th>train_loss</th>\n",
       "      <th>valid_loss</th>\n",
       "      <th>accuracy</th>\n",
       "      <th>time</th>\n",
       "    </tr>\n",
       "  </thead>\n",
       "  <tbody>\n",
       "    <tr>\n",
       "      <td>0</td>\n",
       "      <td>4.087220</td>\n",
       "      <td>4.026862</td>\n",
       "      <td>0.333267</td>\n",
       "      <td>1:39:23</td>\n",
       "    </tr>\n",
       "  </tbody>\n",
       "</table><p>\n",
       "\n",
       "    <div>\n",
       "        <style>\n",
       "            /* Turns off some styling */\n",
       "            progress {\n",
       "                /* gets rid of default border in Firefox and Opera. */\n",
       "                border: none;\n",
       "                /* Needs to be in here for Safari polyfill so background images work as expected. */\n",
       "                background-size: auto;\n",
       "            }\n",
       "            .progress-bar-interrupted, .progress-bar-interrupted::-webkit-progress-bar {\n",
       "                background: #F44336;\n",
       "            }\n",
       "        </style>\n",
       "      <progress value='3247' class='' max='13872', style='width:300px; height:20px; vertical-align: middle;'></progress>\n",
       "      23.41% [3247/13872 21:23<1:09:58 4.0851]\n",
       "    </div>\n",
       "    "
      ],
      "text/plain": [
       "<IPython.core.display.HTML object>"
      ]
     },
     "metadata": {
      "tags": []
     },
     "output_type": "display_data"
    },
    {
     "data": {
      "image/png": "[encoded data removed]",
      "text/plain": [
       "<Figure size 432x288 with 1 Axes>"
      ]
     },
     "metadata": {
      "tags": []
     },
     "output_type": "display_data"
    },
    {
     "name": "stdout",
     "output_type": "stream",
     "text": [
      "Buffered data was truncated after reaching the output size limit."
     ]
    }
   ],
   "source": [
    "learn.load('news_subword_lm_11')\n",
    "learn.fit_one_cycle(2, 1e-3)\n",
    "learn.save('news_subword_lm_13')"
   ]
  },
  {
   "cell_type": "code",
   "execution_count": 0,
   "metadata": {
    "colab": {
     "base_uri": "https://localhost:8080/",
     "height": 332
    },
    "colab_type": "code",
    "id": "jJjbSRkrQ13g",
    "outputId": "dba1b465-f151-419d-f463-0ff0cddd2bb5"
   },
   "outputs": [
    {
     "data": {
      "text/html": [
       "<table border=\"1\" class=\"dataframe\">\n",
       "  <thead>\n",
       "    <tr style=\"text-align: left;\">\n",
       "      <th>epoch</th>\n",
       "      <th>train_loss</th>\n",
       "      <th>valid_loss</th>\n",
       "      <th>accuracy</th>\n",
       "      <th>time</th>\n",
       "    </tr>\n",
       "  </thead>\n",
       "  <tbody>\n",
       "    <tr>\n",
       "      <td>0</td>\n",
       "      <td>4.102897</td>\n",
       "      <td>3.957351</td>\n",
       "      <td>0.341504</td>\n",
       "      <td>51:58</td>\n",
       "    </tr>\n",
       "  </tbody>\n",
       "</table>"
      ],
      "text/plain": [
       "<IPython.core.display.HTML object>"
      ]
     },
     "metadata": {
      "tags": []
     },
     "output_type": "display_data"
    },
    {
     "data": {
      "image/png": "[encoded data removed]",
      "text/plain": [
       "<Figure size 432x288 with 1 Axes>"
      ]
     },
     "metadata": {
      "tags": []
     },
     "output_type": "display_data"
    }
   ],
   "source": [
    "learn.load('news_subword_lm_13')\n",
    "learn.fit_one_cycle(1, 1e-3)\n",
    "learn.save('news_subword_lm_14')"
   ]
  },
  {
   "cell_type": "code",
   "execution_count": 0,
   "metadata": {
    "colab": {
     "base_uri": "https://localhost:8080/",
     "height": 395
    },
    "colab_type": "code",
    "id": "Jiqyt8pSvNvd",
    "outputId": "3d96f30b-dc9a-4d45-d52a-c8ce78eba48c"
   },
   "outputs": [
    {
     "data": {
      "text/html": [
       "\n",
       "    <div>\n",
       "        <style>\n",
       "            /* Turns off some styling */\n",
       "            progress {\n",
       "                /* gets rid of default border in Firefox and Opera. */\n",
       "                border: none;\n",
       "                /* Needs to be in here for Safari polyfill so background images work as expected. */\n",
       "                background-size: auto;\n",
       "            }\n",
       "            .progress-bar-interrupted, .progress-bar-interrupted::-webkit-progress-bar {\n",
       "                background: #F44336;\n",
       "            }\n",
       "        </style>\n",
       "      <progress value='1' class='' max='2', style='width:300px; height:20px; vertical-align: middle;'></progress>\n",
       "      50.00% [1/2 1:41:12<1:41:12]\n",
       "    </div>\n",
       "    \n",
       "<table border=\"1\" class=\"dataframe\">\n",
       "  <thead>\n",
       "    <tr style=\"text-align: left;\">\n",
       "      <th>epoch</th>\n",
       "      <th>train_loss</th>\n",
       "      <th>valid_loss</th>\n",
       "      <th>accuracy</th>\n",
       "      <th>time</th>\n",
       "    </tr>\n",
       "  </thead>\n",
       "  <tbody>\n",
       "    <tr>\n",
       "      <td>0</td>\n",
       "      <td>3.989565</td>\n",
       "      <td>3.963389</td>\n",
       "      <td>0.340245</td>\n",
       "      <td>1:41:11</td>\n",
       "    </tr>\n",
       "  </tbody>\n",
       "</table><p>\n",
       "\n",
       "    <div>\n",
       "        <style>\n",
       "            /* Turns off some styling */\n",
       "            progress {\n",
       "                /* gets rid of default border in Firefox and Opera. */\n",
       "                border: none;\n",
       "                /* Needs to be in here for Safari polyfill so background images work as expected. */\n",
       "                background-size: auto;\n",
       "            }\n",
       "            .progress-bar-interrupted, .progress-bar-interrupted::-webkit-progress-bar {\n",
       "                background: #F44336;\n",
       "            }\n",
       "        </style>\n",
       "      <progress value='3248' class='' max='13872', style='width:300px; height:20px; vertical-align: middle;'></progress>\n",
       "      23.41% [3248/13872 21:43<1:11:03 4.0453]\n",
       "    </div>\n",
       "    "
      ],
      "text/plain": [
       "<IPython.core.display.HTML object>"
      ]
     },
     "metadata": {
      "tags": []
     },
     "output_type": "display_data"
    },
    {
     "data": {
      "image/png": "[encoded data removed]",
      "text/plain": [
       "<Figure size 432x288 with 1 Axes>"
      ]
     },
     "metadata": {
      "tags": []
     },
     "output_type": "display_data"
    },
    {
     "name": "stdout",
     "output_type": "stream",
     "text": [
      "Buffered data was truncated after reaching the output size limit."
     ]
    }
   ],
   "source": [
    "learn.load('news_subword_lm_14')\n",
    "learn.fit_one_cycle(2, 1e-3)\n",
    "learn.save('news_subword_lm_15') #16 epochs"
   ]
  },
  {
   "cell_type": "code",
   "execution_count": 0,
   "metadata": {
    "colab": {
     "base_uri": "https://localhost:8080/",
     "height": 332
    },
    "colab_type": "code",
    "id": "v-R1-t8l6OhL",
    "outputId": "461f5b73-08ad-407f-91f6-96edd277cdef"
   },
   "outputs": [
    {
     "data": {
      "text/html": [
       "<table border=\"1\" class=\"dataframe\">\n",
       "  <thead>\n",
       "    <tr style=\"text-align: left;\">\n",
       "      <th>epoch</th>\n",
       "      <th>train_loss</th>\n",
       "      <th>valid_loss</th>\n",
       "      <th>accuracy</th>\n",
       "      <th>time</th>\n",
       "    </tr>\n",
       "  </thead>\n",
       "  <tbody>\n",
       "    <tr>\n",
       "      <td>0</td>\n",
       "      <td>3.929806</td>\n",
       "      <td>3.906352</td>\n",
       "      <td>0.347395</td>\n",
       "      <td>54:30</td>\n",
       "    </tr>\n",
       "  </tbody>\n",
       "</table>"
      ],
      "text/plain": [
       "<IPython.core.display.HTML object>"
      ]
     },
     "metadata": {
      "tags": []
     },
     "output_type": "display_data"
    },
    {
     "data": {
      "image/png": "[encoded data removed]",
      "text/plain": [
       "<Figure size 432x288 with 1 Axes>"
      ]
     },
     "metadata": {
      "tags": []
     },
     "output_type": "display_data"
    }
   ],
   "source": [
    "learn.load('news_subword_lm_15')\n",
    "learn.fit_one_cycle(1, 1e-3)\n",
    "learn.save('news_subword_lm_17') #17 epochs"
   ]
  },
  {
   "cell_type": "code",
   "execution_count": 0,
   "metadata": {
    "colab": {
     "base_uri": "https://localhost:8080/",
     "height": 332
    },
    "colab_type": "code",
    "id": "F4oYR_sq6Lc6",
    "outputId": "34d2e6d9-9ca4-47cd-a4b6-ececb5fc1270"
   },
   "outputs": [
    {
     "data": {
      "text/html": [
       "<table border=\"1\" class=\"dataframe\">\n",
       "  <thead>\n",
       "    <tr style=\"text-align: left;\">\n",
       "      <th>epoch</th>\n",
       "      <th>train_loss</th>\n",
       "      <th>valid_loss</th>\n",
       "      <th>accuracy</th>\n",
       "      <th>time</th>\n",
       "    </tr>\n",
       "  </thead>\n",
       "  <tbody>\n",
       "    <tr>\n",
       "      <td>0</td>\n",
       "      <td>3.880428</td>\n",
       "      <td>3.892335</td>\n",
       "      <td>0.348920</td>\n",
       "      <td>1:41:31</td>\n",
       "    </tr>\n",
       "  </tbody>\n",
       "</table>"
      ],
      "text/plain": [
       "<IPython.core.display.HTML object>"
      ]
     },
     "metadata": {
      "tags": []
     },
     "output_type": "display_data"
    },
    {
     "data": {
      "image/png": "[encoded data removed]",
      "text/plain": [
       "<Figure size 432x288 with 1 Axes>"
      ]
     },
     "metadata": {
      "tags": []
     },
     "output_type": "display_data"
    }
   ],
   "source": [
    "learn.load('news_subword_lm_17')\n",
    "learn.fit_one_cycle(1, 1e-3)\n",
    "learn.save('news_subword_lm_18') #18 epochs"
   ]
  },
  {
   "cell_type": "code",
   "execution_count": 0,
   "metadata": {
    "colab": {
     "base_uri": "https://localhost:8080/",
     "height": 80
    },
    "colab_type": "code",
    "id": "pCqsHRIwTpBl",
    "outputId": "5fb4d6c1-47e6-4530-e334-4858f31eca6f"
   },
   "outputs": [
    {
     "data": {
      "text/html": [
       "<table border=\"1\" class=\"dataframe\">\n",
       "  <thead>\n",
       "    <tr style=\"text-align: left;\">\n",
       "      <th>epoch</th>\n",
       "      <th>train_loss</th>\n",
       "      <th>valid_loss</th>\n",
       "      <th>accuracy</th>\n",
       "      <th>time</th>\n",
       "    </tr>\n",
       "  </thead>\n",
       "  <tbody>\n",
       "    <tr>\n",
       "      <td>0</td>\n",
       "      <td>3.948228</td>\n",
       "      <td>3.880847</td>\n",
       "      <td>0.350500</td>\n",
       "      <td>1:41:55</td>\n",
       "    </tr>\n",
       "  </tbody>\n",
       "</table>"
      ],
      "text/plain": [
       "<IPython.core.display.HTML object>"
      ]
     },
     "metadata": {
      "tags": []
     },
     "output_type": "display_data"
    }
   ],
   "source": [
    "learn.load('news_subword_lm_18')\n",
    "learn.fit_one_cycle(1, 1e-3)\n",
    "learn.save('news_subword_lm_19') #19 epochs"
   ]
  },
  {
   "cell_type": "code",
   "execution_count": 0,
   "metadata": {
    "colab": {
     "base_uri": "https://localhost:8080/",
     "height": 80
    },
    "colab_type": "code",
    "id": "lZwDIMtkPVi_",
    "outputId": "e5c235a5-0209-4cc9-dc8a-98c885dc63d5"
   },
   "outputs": [
    {
     "data": {
      "text/html": [
       "<table border=\"1\" class=\"dataframe\">\n",
       "  <thead>\n",
       "    <tr style=\"text-align: left;\">\n",
       "      <th>epoch</th>\n",
       "      <th>train_loss</th>\n",
       "      <th>valid_loss</th>\n",
       "      <th>accuracy</th>\n",
       "      <th>time</th>\n",
       "    </tr>\n",
       "  </thead>\n",
       "  <tbody>\n",
       "    <tr>\n",
       "      <td>0</td>\n",
       "      <td>4.061941</td>\n",
       "      <td>3.870568</td>\n",
       "      <td>0.351630</td>\n",
       "      <td>53:17</td>\n",
       "    </tr>\n",
       "  </tbody>\n",
       "</table>"
      ],
      "text/plain": [
       "<IPython.core.display.HTML object>"
      ]
     },
     "metadata": {
      "tags": []
     },
     "output_type": "display_data"
    }
   ],
   "source": [
    "learn.load('news_subword_lm_19')\n",
    "learn.fit_one_cycle(1, 1e-3)\n",
    "learn.save('news_subword_lm_20') #20 epochs"
   ]
  },
  {
   "cell_type": "code",
   "execution_count": 0,
   "metadata": {
    "colab": {},
    "colab_type": "code",
    "id": "Uy7X0NwAd0fS"
   },
   "outputs": [],
   "source": [
    "learn.load('news_subword_lm_20')\n",
    "learn.fit_one_cycle(1, 1e-3)\n",
    "learn.save('news_subword_lm_21') #21 epochs"
   ]
  },
  {
   "cell_type": "code",
   "execution_count": 0,
   "metadata": {
    "colab": {
     "base_uri": "https://localhost:8080/",
     "height": 80
    },
    "colab_type": "code",
    "id": "gtASq1_V7pZs",
    "outputId": "4d970508-e7fd-4d42-ab96-dafd41b95475"
   },
   "outputs": [
    {
     "data": {
      "text/html": [
       "<table border=\"1\" class=\"dataframe\">\n",
       "  <thead>\n",
       "    <tr style=\"text-align: left;\">\n",
       "      <th>epoch</th>\n",
       "      <th>train_loss</th>\n",
       "      <th>valid_loss</th>\n",
       "      <th>accuracy</th>\n",
       "      <th>time</th>\n",
       "    </tr>\n",
       "  </thead>\n",
       "  <tbody>\n",
       "    <tr>\n",
       "      <td>0</td>\n",
       "      <td>3.927883</td>\n",
       "      <td>3.847154</td>\n",
       "      <td>0.354204</td>\n",
       "      <td>1:41:25</td>\n",
       "    </tr>\n",
       "  </tbody>\n",
       "</table>"
      ],
      "text/plain": [
       "<IPython.core.display.HTML object>"
      ]
     },
     "metadata": {
      "tags": []
     },
     "output_type": "display_data"
    }
   ],
   "source": [
    "learn.load('news_subword_lm_21')\n",
    "learn.fit_one_cycle(1, 1e-3)\n",
    "learn.save('news_subword_lm_22') #22 epochs"
   ]
  },
  {
   "cell_type": "code",
   "execution_count": 0,
   "metadata": {
    "colab": {
     "base_uri": "https://localhost:8080/",
     "height": 114
    },
    "colab_type": "code",
    "id": "fL3vjsUQWTpD",
    "outputId": "36bc67fc-a5e0-4026-ce28-4851e0ea3596"
   },
   "outputs": [
    {
     "name": "stderr",
     "output_type": "stream",
     "text": [
      "/usr/local/lib/python3.6/dist-packages/fastai/basic_train.py:327: UserWarning: Wasn't able to properly load the optimizer state again.\n",
      "  except: warn(\"Wasn't able to properly load the optimizer state again.\")\n"
     ]
    },
    {
     "data": {
      "text/html": [
       "<table border=\"1\" class=\"dataframe\">\n",
       "  <thead>\n",
       "    <tr style=\"text-align: left;\">\n",
       "      <th>epoch</th>\n",
       "      <th>train_loss</th>\n",
       "      <th>valid_loss</th>\n",
       "      <th>accuracy</th>\n",
       "      <th>time</th>\n",
       "    </tr>\n",
       "  </thead>\n",
       "  <tbody>\n",
       "    <tr>\n",
       "      <td>0</td>\n",
       "      <td>3.895573</td>\n",
       "      <td>3.837039</td>\n",
       "      <td>0.355132</td>\n",
       "      <td>1:41:37</td>\n",
       "    </tr>\n",
       "  </tbody>\n",
       "</table>"
      ],
      "text/plain": [
       "<IPython.core.display.HTML object>"
      ]
     },
     "metadata": {
      "tags": []
     },
     "output_type": "display_data"
    }
   ],
   "source": [
    "learn.load('news_subword_lm_22')\n",
    "learn.fit_one_cycle(1, 1e-3)\n",
    "learn.save('news_subword_lm_23') #23 epochs"
   ]
  },
  {
   "cell_type": "code",
   "execution_count": 0,
   "metadata": {
    "colab": {
     "base_uri": "https://localhost:8080/",
     "height": 81
    },
    "colab_type": "code",
    "id": "HMsdkylKpncQ",
    "outputId": "83d45d3d-4d8a-4a7c-c22f-a0f77056904b"
   },
   "outputs": [
    {
     "data": {
      "text/html": [
       "<table border=\"1\" class=\"dataframe\">\n",
       "  <thead>\n",
       "    <tr style=\"text-align: left;\">\n",
       "      <th>epoch</th>\n",
       "      <th>train_loss</th>\n",
       "      <th>valid_loss</th>\n",
       "      <th>accuracy</th>\n",
       "      <th>time</th>\n",
       "    </tr>\n",
       "  </thead>\n",
       "  <tbody>\n",
       "    <tr>\n",
       "      <td>0</td>\n",
       "      <td>3.823587</td>\n",
       "      <td>3.828969</td>\n",
       "      <td>0.356190</td>\n",
       "      <td>51:56</td>\n",
       "    </tr>\n",
       "  </tbody>\n",
       "</table>"
      ],
      "text/plain": [
       "<IPython.core.display.HTML object>"
      ]
     },
     "metadata": {
      "tags": []
     },
     "output_type": "display_data"
    }
   ],
   "source": [
    "learn.load('news_subword_lm_23')\n",
    "learn.fit_one_cycle(1, 1e-3)\n",
    "learn.save('news_subword_lm_24') #24 epochs"
   ]
  },
  {
   "cell_type": "code",
   "execution_count": 0,
   "metadata": {
    "colab": {
     "base_uri": "https://localhost:8080/",
     "height": 117
    },
    "colab_type": "code",
    "id": "wrUWgQOb0Y-p",
    "outputId": "5fae5a2c-e6ed-47f6-9295-ea0421f2e8a3"
   },
   "outputs": [
    {
     "name": "stderr",
     "output_type": "stream",
     "text": [
      "/usr/local/lib/python3.6/dist-packages/fastai/basic_train.py:327: UserWarning: Wasn't able to properly load the optimizer state again.\n",
      "  except: warn(\"Wasn't able to properly load the optimizer state again.\")\n"
     ]
    },
    {
     "data": {
      "text/html": [
       "<table border=\"1\" class=\"dataframe\">\n",
       "  <thead>\n",
       "    <tr style=\"text-align: left;\">\n",
       "      <th>epoch</th>\n",
       "      <th>train_loss</th>\n",
       "      <th>valid_loss</th>\n",
       "      <th>accuracy</th>\n",
       "      <th>time</th>\n",
       "    </tr>\n",
       "  </thead>\n",
       "  <tbody>\n",
       "    <tr>\n",
       "      <td>0</td>\n",
       "      <td>3.905692</td>\n",
       "      <td>3.818139</td>\n",
       "      <td>0.357404</td>\n",
       "      <td>51:56</td>\n",
       "    </tr>\n",
       "  </tbody>\n",
       "</table>"
      ],
      "text/plain": [
       "<IPython.core.display.HTML object>"
      ]
     },
     "metadata": {
      "tags": []
     },
     "output_type": "display_data"
    }
   ],
   "source": [
    "learn.load('news_subword_lm_24')\n",
    "learn.fit_one_cycle(1, 1e-3)\n",
    "learn.save('news_subword_lm_25') #25 epochs"
   ]
  },
  {
   "cell_type": "code",
   "execution_count": 0,
   "metadata": {
    "colab": {
     "base_uri": "https://localhost:8080/",
     "height": 81
    },
    "colab_type": "code",
    "id": "XM0qNloeDim2",
    "outputId": "72053cf6-857b-446c-f85b-9b635518fea9"
   },
   "outputs": [
    {
     "data": {
      "text/html": [
       "<table border=\"1\" class=\"dataframe\">\n",
       "  <thead>\n",
       "    <tr style=\"text-align: left;\">\n",
       "      <th>epoch</th>\n",
       "      <th>train_loss</th>\n",
       "      <th>valid_loss</th>\n",
       "      <th>accuracy</th>\n",
       "      <th>time</th>\n",
       "    </tr>\n",
       "  </thead>\n",
       "  <tbody>\n",
       "    <tr>\n",
       "      <td>0</td>\n",
       "      <td>3.898668</td>\n",
       "      <td>3.811394</td>\n",
       "      <td>0.358232</td>\n",
       "      <td>51:56</td>\n",
       "    </tr>\n",
       "  </tbody>\n",
       "</table>"
      ],
      "text/plain": [
       "<IPython.core.display.HTML object>"
      ]
     },
     "metadata": {
      "tags": []
     },
     "output_type": "display_data"
    }
   ],
   "source": [
    "learn.load('news_subword_lm_25')\n",
    "learn.fit_one_cycle(1, 1e-3)\n",
    "learn.save('news_subword_lm_26') #26 epochs"
   ]
  },
  {
   "cell_type": "code",
   "execution_count": 0,
   "metadata": {
    "colab": {
     "base_uri": "https://localhost:8080/",
     "height": 81
    },
    "colab_type": "code",
    "id": "2NZVEGc_M7IJ",
    "outputId": "3b5abd66-355b-493b-d922-66e99726da7f"
   },
   "outputs": [
    {
     "data": {
      "text/html": [
       "<table border=\"1\" class=\"dataframe\">\n",
       "  <thead>\n",
       "    <tr style=\"text-align: left;\">\n",
       "      <th>epoch</th>\n",
       "      <th>train_loss</th>\n",
       "      <th>valid_loss</th>\n",
       "      <th>accuracy</th>\n",
       "      <th>time</th>\n",
       "    </tr>\n",
       "  </thead>\n",
       "  <tbody>\n",
       "    <tr>\n",
       "      <td>0</td>\n",
       "      <td>3.902276</td>\n",
       "      <td>3.801767</td>\n",
       "      <td>0.359174</td>\n",
       "      <td>51:56</td>\n",
       "    </tr>\n",
       "  </tbody>\n",
       "</table>"
      ],
      "text/plain": [
       "<IPython.core.display.HTML object>"
      ]
     },
     "metadata": {
      "tags": []
     },
     "output_type": "display_data"
    }
   ],
   "source": [
    "learn.load('news_subword_lm_26')\n",
    "learn.fit_one_cycle(1, 1e-3)\n",
    "learn.save('news_subword_lm_27') #27 epochs"
   ]
  },
  {
   "cell_type": "code",
   "execution_count": 0,
   "metadata": {
    "colab": {
     "base_uri": "https://localhost:8080/",
     "height": 81
    },
    "colab_type": "code",
    "id": "pQCwUrE1rgLD",
    "outputId": "8df45ab0-1189-4d59-f899-eab785b5df04"
   },
   "outputs": [
    {
     "data": {
      "text/html": [
       "<table border=\"1\" class=\"dataframe\">\n",
       "  <thead>\n",
       "    <tr style=\"text-align: left;\">\n",
       "      <th>epoch</th>\n",
       "      <th>train_loss</th>\n",
       "      <th>valid_loss</th>\n",
       "      <th>accuracy</th>\n",
       "      <th>time</th>\n",
       "    </tr>\n",
       "  </thead>\n",
       "  <tbody>\n",
       "    <tr>\n",
       "      <td>0</td>\n",
       "      <td>3.850008</td>\n",
       "      <td>3.794896</td>\n",
       "      <td>0.359933</td>\n",
       "      <td>51:57</td>\n",
       "    </tr>\n",
       "  </tbody>\n",
       "</table>"
      ],
      "text/plain": [
       "<IPython.core.display.HTML object>"
      ]
     },
     "metadata": {
      "tags": []
     },
     "output_type": "display_data"
    }
   ],
   "source": [
    "learn.load('news_subword_lm_27')\n",
    "learn.fit_one_cycle(1, 1e-3)\n",
    "learn.save('news_subword_lm_28') #28 epochs"
   ]
  },
  {
   "cell_type": "code",
   "execution_count": 0,
   "metadata": {
    "colab": {
     "base_uri": "https://localhost:8080/",
     "height": 81
    },
    "colab_type": "code",
    "id": "THpz-nN8rgF5",
    "outputId": "7dce6573-5c82-499c-97f6-f5d6e1e89f13"
   },
   "outputs": [
    {
     "data": {
      "text/html": [
       "<table border=\"1\" class=\"dataframe\">\n",
       "  <thead>\n",
       "    <tr style=\"text-align: left;\">\n",
       "      <th>epoch</th>\n",
       "      <th>train_loss</th>\n",
       "      <th>valid_loss</th>\n",
       "      <th>accuracy</th>\n",
       "      <th>time</th>\n",
       "    </tr>\n",
       "  </thead>\n",
       "  <tbody>\n",
       "    <tr>\n",
       "      <td>0</td>\n",
       "      <td>3.883672</td>\n",
       "      <td>3.788591</td>\n",
       "      <td>0.360675</td>\n",
       "      <td>51:57</td>\n",
       "    </tr>\n",
       "  </tbody>\n",
       "</table>"
      ],
      "text/plain": [
       "<IPython.core.display.HTML object>"
      ]
     },
     "metadata": {
      "tags": []
     },
     "output_type": "display_data"
    }
   ],
   "source": [
    "learn.load('news_subword_lm_28')\n",
    "learn.fit_one_cycle(1, 1e-3)\n",
    "learn.save('news_subword_lm_29') #29 epochs"
   ]
  },
  {
   "cell_type": "code",
   "execution_count": 0,
   "metadata": {
    "colab": {
     "base_uri": "https://localhost:8080/",
     "height": 81
    },
    "colab_type": "code",
    "id": "Pt_xTfTsBn-j",
    "outputId": "5f784c97-78f7-412d-d918-f838b9f720a4"
   },
   "outputs": [
    {
     "data": {
      "text/html": [
       "<table border=\"1\" class=\"dataframe\">\n",
       "  <thead>\n",
       "    <tr style=\"text-align: left;\">\n",
       "      <th>epoch</th>\n",
       "      <th>train_loss</th>\n",
       "      <th>valid_loss</th>\n",
       "      <th>accuracy</th>\n",
       "      <th>time</th>\n",
       "    </tr>\n",
       "  </thead>\n",
       "  <tbody>\n",
       "    <tr>\n",
       "      <td>0</td>\n",
       "      <td>3.925341</td>\n",
       "      <td>3.781647</td>\n",
       "      <td>0.361456</td>\n",
       "      <td>51:56</td>\n",
       "    </tr>\n",
       "  </tbody>\n",
       "</table>"
      ],
      "text/plain": [
       "<IPython.core.display.HTML object>"
      ]
     },
     "metadata": {
      "tags": []
     },
     "output_type": "display_data"
    }
   ],
   "source": [
    "learn.load('news_subword_lm_29')\n",
    "learn.fit_one_cycle(1, 1e-3)\n",
    "learn.save('news_subword_lm_30') #30 epochs"
   ]
  },
  {
   "cell_type": "code",
   "execution_count": 0,
   "metadata": {
    "colab": {
     "base_uri": "https://localhost:8080/",
     "height": 81
    },
    "colab_type": "code",
    "id": "8Fp3MlI3KBG3",
    "outputId": "19a2660d-4a6d-4644-c083-48222877f527"
   },
   "outputs": [
    {
     "data": {
      "text/html": [
       "<table border=\"1\" class=\"dataframe\">\n",
       "  <thead>\n",
       "    <tr style=\"text-align: left;\">\n",
       "      <th>epoch</th>\n",
       "      <th>train_loss</th>\n",
       "      <th>valid_loss</th>\n",
       "      <th>accuracy</th>\n",
       "      <th>time</th>\n",
       "    </tr>\n",
       "  </thead>\n",
       "  <tbody>\n",
       "    <tr>\n",
       "      <td>0</td>\n",
       "      <td>3.830563</td>\n",
       "      <td>3.775298</td>\n",
       "      <td>0.362159</td>\n",
       "      <td>51:57</td>\n",
       "    </tr>\n",
       "  </tbody>\n",
       "</table>"
      ],
      "text/plain": [
       "<IPython.core.display.HTML object>"
      ]
     },
     "metadata": {
      "tags": []
     },
     "output_type": "display_data"
    }
   ],
   "source": [
    "learn.load('news_subword_lm_30')\n",
    "learn.fit_one_cycle(1, 1e-3)\n",
    "learn.save('news_subword_lm_31') #31 epochs"
   ]
  },
  {
   "cell_type": "markdown",
   "metadata": {},
   "source": [
    "## Utils"
   ]
  },
  {
   "cell_type": "code",
   "execution_count": 0,
   "metadata": {
    "colab": {},
    "colab_type": "code",
    "id": "IO0vnAMuX4aF"
   },
   "outputs": [],
   "source": [
    "def testing(dts):\n",
    "  df = pd.read_csv(dts) \n",
    "  text_array = df[\"text\"].tolist()\n",
    "  print(len(text_array))\n",
    "\n",
    "  final_preds = []\n",
    "\n",
    "  for text in text_array:\n",
    "      preds = learn_cls.predict(text)\n",
    "      final_preds.append(str(preds[0]))\n",
    "\n",
    "  targets = df[\"label\"].tolist()\n",
    "\n",
    "  err=[]\n",
    "  count =0;\n",
    "  tst = len(text_array)\n",
    "\n",
    "  for i in range(tst):\n",
    "      if(targets[i]==final_preds[i]):\n",
    "          count = count+1\n",
    "      else:\n",
    "  #         print(targets[i] + \", \" + final_preds[i] + ';')\n",
    "          err.append((targets[i],final_preds[i]))\n",
    "  print(\"Accuracy: \")\n",
    "  print(count/tst)\n",
    "  print(err)\n",
    "  return final_preds, targets"
   ]
  },
  {
   "cell_type": "markdown",
   "metadata": {
    "colab_type": "text",
    "id": "6_tkU_qffTo4"
   },
   "source": [
    "## BAAD6 Dataset fine-tuning and classification"
   ]
  },
  {
   "cell_type": "markdown",
   "metadata": {
    "colab_type": "text",
    "id": "tj4EgeYUfWAO"
   },
   "source": [
    "### LM Tuning"
   ]
  },
  {
   "cell_type": "code",
   "execution_count": 0,
   "metadata": {
    "colab": {},
    "colab_type": "code",
    "id": "C89PTtp5gFP9"
   },
   "outputs": [],
   "source": [
    "data_lm_AA = TextLMDataBunch.from_csv(aa2, 'ulm_train.csv', bs=bs , bptt=bptt,tokenizer=mycust_tok, vocab=sp_vocab)\n",
    "data_lm_AA.save('bhai_AA_subword_lm.pkl')"
   ]
  },
  {
   "cell_type": "code",
   "execution_count": 0,
   "metadata": {
    "colab": {
     "base_uri": "https://localhost:8080/",
     "height": 328
    },
    "colab_type": "code",
    "id": "rq_VTjMGgFNm",
    "outputId": "eff6e214-d09f-4776-a3d2-44ab244ca95c"
   },
   "outputs": [
    {
     "data": {
      "text/html": [
       "<table border=\"1\" class=\"dataframe\">\n",
       "  <thead>\n",
       "    <tr style=\"text-align: right;\">\n",
       "      <th>idx</th>\n",
       "      <th>text</th>\n",
       "    </tr>\n",
       "  </thead>\n",
       "  <tbody>\n",
       "    <tr>\n",
       "      <td>0</td>\n",
       "      <td>গুলো ▁প্রথমে ▁জানতে ▁চায় ▁ আচ্ছা , ' হি মি ▁বলে ▁কি ▁কেউ ▁সত্যি ▁আছে ? আর ▁অনেকে ▁জানতে ▁চায় ▁কতদিন ▁হয়ে ▁গেল ▁কেন ▁' হি মি ' কে ▁নিয়ে ▁কিছু ▁লেখা ▁হচ্ছে ▁না ? আমি ▁কারো ▁প্রশ্নের ▁ ঊ ও র ▁দেই ▁না , ছোট ▁করে ▁একটু ▁হেসে ▁দেই ▁শুধু । ) এক ▁আশ্চর্য ▁সুন্দর ▁মেয়ের ▁নাম ▁' হি মি ' । মনের ▁ভেতর ▁একসঙ্গে ▁খেলা ▁করে ▁তার ▁প্র</td>\n",
       "    </tr>\n",
       "    <tr>\n",
       "      <td>1</td>\n",
       "      <td>▁হরতালের ▁মাঝে ▁গত ▁প্রায় ▁দুই ▁মাস ▁ধরে ▁সারা ▁দেশে ▁যে ▁হারে ▁পেট্রলবোমা ▁হামলা ▁হয়েছে ▁তার ▁তুলনায় ▁রাজধানী ▁অনেকটাই ▁নিরাপদ ▁ছিল । ▁তবে ▁গত ▁তিন ▁দিনে ▁ঢাকায় ▁যাত্রীবাহী ▁বাসে ▁পেট্রলবোমা ▁হামলা ▁ও ▁নাশকতার ▁ঘটনা ▁বেড়েছে । ▁এতে ▁দগ্ধ ▁হয়েছে ▁নিরীহ ▁মানুষ । ▁ঢাকায় ▁এর ▁আগেও ▁পেট্রলবোমা ▁হামলার ▁ঘটনা ▁ঘটলেও ▁ইদানীং ▁এর ▁মাত্রা ▁বেড়ে ▁গেছে ▁বলেই ▁ঘটনাপ্রবাহ ▁সাক্ষ্য ▁দেয় । ▁পেট্রলবোমা র ▁পাশাপাশি ▁বোমা , ▁ককটেল ▁ও ▁আগুন ▁দেওয়ার ▁ঘটনাও ▁বেড়ে ▁গেছে</td>\n",
       "    </tr>\n",
       "    <tr>\n",
       "      <td>2</td>\n",
       "      <td>▁দেখবো ▁না , ▁তা ▁কি ▁হয় ? ▁কিন্তু ▁এই ▁প্রবল ▁প্রকৃতি প্রেম ের ▁মাশুল ও ▁আমাকে ই ▁দিতে ▁হয় , ▁একেবারে ▁ঘন্টা খানেক ের ▁পথ ▁পিছিয়ে ▁পড়তে ▁হয় ▁অন্যদের ▁চেয়ে । ▁কারণ , ▁আমাদের ▁দলের ▁অন্যদের ▁প্রকৃতি প্রেম ▁আমার ▁চেয়ে ▁খুব ▁একটা ▁কম ▁নয় , ▁বরং ▁খানিকটা ▁বেশি ই । ▁তাই ▁চলার ▁ফাঁকে ই ▁তারা ▁ নিস র্গ ের ▁প্রতি ▁দৃষ্টি নৈ বে দ্য ▁দিয়ে ▁অনেকখানি ▁এগিয়ে ▁যান । ▁তাই</td>\n",
       "    </tr>\n",
       "    <tr>\n",
       "      <td>3</td>\n",
       "      <td>▁হে ! \" ▁আজ ▁পরীক্ষা ▁দিয়েছি ▁সব শ ুদ্ধ ু ▁আটজন । ▁ক্লাসের ▁অর্ধেকের ও ▁বেশি ▁ছেলে পি লে ▁শেষ ▁পর্যন্ত ▁আর ▁পরীক্ষা ▁দেয়নি । ▁এক্স ট্রা ▁ক্রেডিট ের ▁এটাই ▁মজা , ▁ক্লাস ▁করতে ▁চাইলে ▁করো , ▁পরীক্ষা ▁দিতে ▁হবে ▁এমন ▁কোন ▁কথা ▁নেই । ▁তবে ▁পরীক্ষার ▁জন্যে ▁একবার ▁নিবন্ধন ▁করে ▁পরীক্ষা ▁দিতে ▁বসলে ▁তা ▁পাশ ▁করতেই ▁হবে , ▁নইলে ▁ ভ্যা জাল । ▁২ . ০ ▁পেয়ে ▁মনটা ▁একটু</td>\n",
       "    </tr>\n",
       "    <tr>\n",
       "      <td>4</td>\n",
       "      <td>▁সংসদে ▁গত ▁বৃহস্পতিবার ▁এ ▁বিষয়ে ▁একটি ▁সিদ্ধান্ত ▁প্রস্তাব ▁সর্বসম্মতিক্রমে ▁পাস ▁হয়েছে । ▁স্বরাষ্ট্র মন্ত্রী ▁সাংবাদিকদের ▁বলেন , ▁\" তারা ▁( যুদ্ধাপরাধী রা ) ▁যাতে ▁বাংলাদেশ ▁ছাড়তে ▁না ▁পারে ▁সে ▁ব্যাপারে ▁সংশ্লিষ্ট ▁কর্তৃপক্ষকে ▁আমরা ▁নির্দেশ ▁দিয়েছি । \" ▁তবে ▁ওই ▁ধরনের ▁সন্দেহভাজন দের ▁কোনো ▁তালিকা ▁প্রস্তুত ▁হয়েছে ▁কি - না ▁সে ▁সম্পর্কে ▁মন্ত্রী ▁কিছু ▁জানাননি । ▁ঢাকা ▁ বিশ্ববিদ্যালয়ের ▁উপাচার্য ▁আ ▁আ ▁ম ▁স ▁আরেফিন ▁সিদ্দিকী ▁বাংলাদেশ ▁আইন ▁সমিতির ▁এ ▁সম্মেলনের</td>\n",
       "    </tr>\n",
       "  </tbody>\n",
       "</table>"
      ],
      "text/plain": [
       "<IPython.core.display.HTML object>"
      ]
     },
     "metadata": {
      "tags": []
     },
     "output_type": "display_data"
    }
   ],
   "source": [
    "data_lm_AA.show_batch()"
   ]
  },
  {
   "cell_type": "code",
   "execution_count": 0,
   "metadata": {
    "colab": {},
    "colab_type": "code",
    "id": "sojwbilRgFEI"
   },
   "outputs": [],
   "source": [
    "data_lm_AA=load_data(aa2,'bhai_AA_subword_lm.pkl',bs=bs)"
   ]
  },
  {
   "cell_type": "code",
   "execution_count": 0,
   "metadata": {
    "colab": {},
    "colab_type": "code",
    "id": "-g-0QtWZgFAT"
   },
   "outputs": [],
   "source": [
    "learn = language_model_learner(data_lm_AA, AWD_LSTM, pretrained=False, drop_mult=0.5)"
   ]
  },
  {
   "cell_type": "code",
   "execution_count": 0,
   "metadata": {
    "colab": {},
    "colab_type": "code",
    "id": "qoY4GjFBgE8B"
   },
   "outputs": [],
   "source": [
    "learn.load(news/'models'/'news_subword_lm_31');"
   ]
  },
  {
   "cell_type": "code",
   "execution_count": 52,
   "metadata": {
    "colab": {
     "base_uri": "https://localhost:8080/",
     "height": 300
    },
    "colab_type": "code",
    "id": "kwMw-4r6X4Ri",
    "outputId": "0e772901-6cda-4520-f95e-e21ca564a33c"
   },
   "outputs": [
    {
     "data": {
      "text/html": [],
      "text/plain": [
       "<IPython.core.display.HTML object>"
      ]
     },
     "metadata": {
      "tags": []
     },
     "output_type": "display_data"
    },
    {
     "name": "stdout",
     "output_type": "stream",
     "text": [
      "LR Finder is complete, type {learner_name}.recorder.plot() to see the graph.\n"
     ]
    },
    {
     "data": {
      "image/png": "[encoded data removed]",
      "text/plain": [
       "<Figure size 432x288 with 1 Axes>"
      ]
     },
     "metadata": {
      "tags": []
     },
     "output_type": "display_data"
    }
   ],
   "source": [
    "learn.freeze()\n",
    "learn.lr_find()\n",
    "learn.recorder.plot()"
   ]
  },
  {
   "cell_type": "code",
   "execution_count": 53,
   "metadata": {
    "colab": {
     "base_uri": "https://localhost:8080/",
     "height": 283
    },
    "colab_type": "code",
    "id": "8kK2DdKn6aTw",
    "outputId": "6f14c225-40e6-4cf0-abc7-e3174b35ee64"
   },
   "outputs": [
    {
     "data": {
      "image/png": "[encoded data removed]",
      "text/plain": [
       "<Figure size 432x288 with 1 Axes>"
      ]
     },
     "metadata": {
      "tags": []
     },
     "output_type": "display_data"
    }
   ],
   "source": [
    "learn.recorder.plot(skip_end=15)"
   ]
  },
  {
   "cell_type": "code",
   "execution_count": 54,
   "metadata": {
    "colab": {
     "base_uri": "https://localhost:8080/",
     "height": 111
    },
    "colab_type": "code",
    "id": "zjN_2U6RgUWB",
    "outputId": "d8372601-9718-4491-f130-e3a690fef94a"
   },
   "outputs": [
    {
     "data": {
      "text/html": [
       "<table border=\"1\" class=\"dataframe\">\n",
       "  <thead>\n",
       "    <tr style=\"text-align: left;\">\n",
       "      <th>epoch</th>\n",
       "      <th>train_loss</th>\n",
       "      <th>valid_loss</th>\n",
       "      <th>accuracy</th>\n",
       "      <th>time</th>\n",
       "    </tr>\n",
       "  </thead>\n",
       "  <tbody>\n",
       "    <tr>\n",
       "      <td>0</td>\n",
       "      <td>5.752337</td>\n",
       "      <td>5.765594</td>\n",
       "      <td>0.169632</td>\n",
       "      <td>03:14</td>\n",
       "    </tr>\n",
       "    <tr>\n",
       "      <td>1</td>\n",
       "      <td>5.193652</td>\n",
       "      <td>5.380138</td>\n",
       "      <td>0.199315</td>\n",
       "      <td>03:20</td>\n",
       "    </tr>\n",
       "  </tbody>\n",
       "</table>"
      ],
      "text/plain": [
       "<IPython.core.display.HTML object>"
      ]
     },
     "metadata": {
      "tags": []
     },
     "output_type": "display_data"
    }
   ],
   "source": [
    "learn.fit_one_cycle(2, 2e-2)\n",
    "learn.save('bhai_AA_lm_subword_head');"
   ]
  },
  {
   "cell_type": "code",
   "execution_count": 76,
   "metadata": {
    "colab": {
     "base_uri": "https://localhost:8080/",
     "height": 361
    },
    "colab_type": "code",
    "id": "l3ujWTwSgUSY",
    "outputId": "ff253ac8-a19a-4279-d993-b6ec2767b226"
   },
   "outputs": [
    {
     "data": {
      "text/html": [
       "<table border=\"1\" class=\"dataframe\">\n",
       "  <thead>\n",
       "    <tr style=\"text-align: left;\">\n",
       "      <th>epoch</th>\n",
       "      <th>train_loss</th>\n",
       "      <th>valid_loss</th>\n",
       "      <th>accuracy</th>\n",
       "      <th>time</th>\n",
       "    </tr>\n",
       "  </thead>\n",
       "  <tbody>\n",
       "    <tr>\n",
       "      <td>0</td>\n",
       "      <td>5.600430</td>\n",
       "      <td>5.753211</td>\n",
       "      <td>0.171887</td>\n",
       "      <td>03:19</td>\n",
       "    </tr>\n",
       "    <tr>\n",
       "      <td>1</td>\n",
       "      <td>5.214345</td>\n",
       "      <td>5.414128</td>\n",
       "      <td>0.198147</td>\n",
       "      <td>03:24</td>\n",
       "    </tr>\n",
       "  </tbody>\n",
       "</table>"
      ],
      "text/plain": [
       "<IPython.core.display.HTML object>"
      ]
     },
     "metadata": {
      "tags": []
     },
     "output_type": "display_data"
    },
    {
     "data": {
      "text/html": [
       "<table border=\"1\" class=\"dataframe\">\n",
       "  <thead>\n",
       "    <tr style=\"text-align: left;\">\n",
       "      <th>epoch</th>\n",
       "      <th>train_loss</th>\n",
       "      <th>valid_loss</th>\n",
       "      <th>accuracy</th>\n",
       "      <th>time</th>\n",
       "    </tr>\n",
       "  </thead>\n",
       "  <tbody>\n",
       "    <tr>\n",
       "      <td>0</td>\n",
       "      <td>5.614400</td>\n",
       "      <td>5.854876</td>\n",
       "      <td>0.162329</td>\n",
       "      <td>03:41</td>\n",
       "    </tr>\n",
       "    <tr>\n",
       "      <td>1</td>\n",
       "      <td>5.138377</td>\n",
       "      <td>5.485198</td>\n",
       "      <td>0.194387</td>\n",
       "      <td>03:41</td>\n",
       "    </tr>\n",
       "  </tbody>\n",
       "</table>"
      ],
      "text/plain": [
       "<IPython.core.display.HTML object>"
      ]
     },
     "metadata": {
      "tags": []
     },
     "output_type": "display_data"
    },
    {
     "data": {
      "text/html": [
       "<table border=\"1\" class=\"dataframe\">\n",
       "  <thead>\n",
       "    <tr style=\"text-align: left;\">\n",
       "      <th>epoch</th>\n",
       "      <th>train_loss</th>\n",
       "      <th>valid_loss</th>\n",
       "      <th>accuracy</th>\n",
       "      <th>time</th>\n",
       "    </tr>\n",
       "  </thead>\n",
       "  <tbody>\n",
       "    <tr>\n",
       "      <td>0</td>\n",
       "      <td>5.393861</td>\n",
       "      <td>5.818023</td>\n",
       "      <td>0.164286</td>\n",
       "      <td>03:54</td>\n",
       "    </tr>\n",
       "    <tr>\n",
       "      <td>1</td>\n",
       "      <td>5.542984</td>\n",
       "      <td>5.780285</td>\n",
       "      <td>0.168132</td>\n",
       "      <td>03:53</td>\n",
       "    </tr>\n",
       "    <tr>\n",
       "      <td>2</td>\n",
       "      <td>5.227235</td>\n",
       "      <td>5.526528</td>\n",
       "      <td>0.188980</td>\n",
       "      <td>03:55</td>\n",
       "    </tr>\n",
       "    <tr>\n",
       "      <td>3</td>\n",
       "      <td>4.665875</td>\n",
       "      <td>5.451222</td>\n",
       "      <td>0.198894</td>\n",
       "      <td>03:55</td>\n",
       "    </tr>\n",
       "  </tbody>\n",
       "</table>"
      ],
      "text/plain": [
       "<IPython.core.display.HTML object>"
      ]
     },
     "metadata": {
      "tags": []
     },
     "output_type": "display_data"
    }
   ],
   "source": [
    "learn.load('bhai_AA_lm_subword_head');\n",
    "learn.freeze_to(-2)\n",
    "learn.fit_one_cycle(2, 2e-2)\n",
    "learn.freeze_to(-3)\n",
    "learn.fit_one_cycle(2, 2e-2)\n",
    "learn.unfreeze()\n",
    "learn.fit_one_cycle(4, 2e-2)\n",
    "learn.save('bhai_AA_lm_subword_body')"
   ]
  },
  {
   "cell_type": "code",
   "execution_count": 0,
   "metadata": {
    "colab": {},
    "colab_type": "code",
    "id": "ya6CdV_sgUOj"
   },
   "outputs": [],
   "source": [
    "learn.save_encoder('bhai_AA_lm_subword_enc')"
   ]
  },
  {
   "cell_type": "markdown",
   "metadata": {
    "colab_type": "text",
    "id": "A3crYFs8gisO"
   },
   "source": [
    "### Classifier"
   ]
  },
  {
   "cell_type": "code",
   "execution_count": 0,
   "metadata": {
    "colab": {},
    "colab_type": "code",
    "id": "cUen5_EDgFK-"
   },
   "outputs": [],
   "source": [
    "data_clas = TextClasDataBunch.from_csv(aa2, 'ulm_train.csv',tokenizer=mycust_tok, vocab=sp_vocab, bs=bs)\n",
    "data_clas.save('bhai_AA_subword_clas.pkl')"
   ]
  },
  {
   "cell_type": "code",
   "execution_count": 0,
   "metadata": {
    "colab": {
     "base_uri": "https://localhost:8080/",
     "height": 293
    },
    "colab_type": "code",
    "id": "LwVhNvXkgFH3",
    "outputId": "b870667a-295a-4c63-c478-19dd10350015"
   },
   "outputs": [
    {
     "data": {
      "text/html": [
       "<table border=\"1\" class=\"dataframe\">\n",
       "  <thead>\n",
       "    <tr style=\"text-align: right;\">\n",
       "      <th>text</th>\n",
       "      <th>target</th>\n",
       "    </tr>\n",
       "  </thead>\n",
       "  <tbody>\n",
       "    <tr>\n",
       "      <td>▁xx b os ▁দেখি তে ▁গ িয়া ছি ▁পর্বত মালা ▁একটু ▁বড় ▁ ... ▁লেখা টা ▁২০০৪ ▁সালের ▁অক্টোবরে ▁লেখা । ▁বছর দু য় েক ▁আগে ▁একাধিকবার ▁অনলাইনে ▁প্রকাশিত । ▁এই ▁লেখা টা ▁একাধিক ▁কারণে ▁আমার ▁প্রিয় । ▁প্রথমত , ▁লেখা টা ▁প্রায় ▁এক ▁আসনে ▁লেখা , ▁মাঝখানে ▁শুধু ▁ঘুমিয়ে ছিলাম ▁একটু । ▁দ্বিতীয়ত , ▁এখন ▁পর্যন্ত ▁এটাই ▁আমার ▁ম্যাগ নাম ▁ও পাস ▁( আয় তন ের ▁দিক ▁থেকে )</td>\n",
       "      <td>hm</td>\n",
       "    </tr>\n",
       "    <tr>\n",
       "      <td>▁xx b os ▁দেখি তে ▁গ িয়া ছি ▁পর্বত মালা ▁একটু ▁বড় ▁ ... ▁লেখা টা ▁২০০৪ ▁সালের ▁অক্টোবরে ▁লেখা । ▁বছর দু য় েক ▁আগে ▁একাধিকবার ▁অনলাইনে ▁প্রকাশিত । ▁এই ▁লেখা টা ▁একাধিক ▁কারণে ▁আমার ▁প্রিয় । ▁প্রথমত , ▁লেখা টা ▁প্রায় ▁এক ▁আসনে ▁লেখা , ▁মাঝখানে ▁শুধু ▁ঘুমিয়ে ছিলাম ▁একটু । ▁দ্বিতীয়ত , ▁এখন ▁পর্যন্ত ▁এটাই ▁আমার ▁ম্যাগ নাম ▁ও পাস ▁( আয় তন ের ▁দিক ▁থেকে )</td>\n",
       "      <td>hm</td>\n",
       "    </tr>\n",
       "    <tr>\n",
       "      <td>▁xx b os ▁আ বাহ ন ▁১ . ▁\" উনি ▁একজন ▁বু জ র ুক ▁ছিলেন । \" ▁শামীম ের ▁কণ্ঠস্বর ে ▁ তাচ্ছিল্য ের ▁কোনো ▁কমতি ▁রইল ো ▁না । ▁সোমা ▁একটু ▁শাসন ▁করার ▁চেষ্টা ▁করলো ▁স্বামীকে , ▁\" নিজের ▁দাদা কে ▁কেউ ▁বু জ র ুক ▁বলে ▁এভাবে ? \" ▁শামীম ▁বারান্দা র ▁কাঠের ▁রেল ি ঙ ে ▁পা ▁তুলে ▁দিয়ে ▁ আয়েশ ▁করে ▁চায় ের ▁কাপে ▁চুমু</td>\n",
       "      <td>hm</td>\n",
       "    </tr>\n",
       "    <tr>\n",
       "      <td>▁xx b os ▁গোয়েন্দা ▁ঝা কানা কা ▁ও ▁অজ্ঞান ▁পার্টি ▁রহস্য ▁এক ▁গোয়েন্দা ▁ঝা কানা কা ▁চোখ ▁গরম ▁করে ▁বললেন , ▁\" এবার ও ▁কি ▁সেবার ের ▁মতো ▁দুই ▁ ল ম্বর ি ▁ কে স ▁নিয়ে ▁হাজির ▁হলেন ▁নাকি ? \" ▁পুলিশের ▁গোয়েন্দা ▁বিভাগের ▁ডাক সাইট ে ▁দারোগা ▁কিং কর্তব্য বি মূ ঢ় ▁চৌ ধার ি ▁আধ ▁হাত ▁জি ভ ▁কেটে ▁বললেন , ▁\" আর ▁লজ্জা ▁দেবেন ▁না ▁স্যার</td>\n",
       "      <td>hm</td>\n",
       "    </tr>\n",
       "    <tr>\n",
       "      <td>▁xx b os ▁গোয়েন্দা ▁ঝা কানা কা ▁ও ▁অজ্ঞান ▁পার্টি ▁রহস্য ▁এক ▁গোয়েন্দা ▁ঝা কানা কা ▁চোখ ▁গরম ▁করে ▁বললেন , ▁\" এবার ও ▁কি ▁সেবার ের ▁মতো ▁দুই ▁ ল ম্বর ি ▁ কে স ▁নিয়ে ▁হাজির ▁হলেন ▁নাকি ? \" ▁পুলিশের ▁গোয়েন্দা ▁বিভাগের ▁ডাক সাইট ে ▁দারোগা ▁কিং কর্তব্য বি মূ ঢ় ▁চৌ ধার ি ▁আধ ▁হাত ▁জি ভ ▁কেটে ▁বললেন , ▁\" আর ▁লজ্জা ▁দেবেন ▁না ▁স্যার</td>\n",
       "      <td>hm</td>\n",
       "    </tr>\n",
       "  </tbody>\n",
       "</table>"
      ],
      "text/plain": [
       "<IPython.core.display.HTML object>"
      ]
     },
     "metadata": {
      "tags": []
     },
     "output_type": "display_data"
    }
   ],
   "source": [
    "data_clas.show_batch()"
   ]
  },
  {
   "cell_type": "code",
   "execution_count": 0,
   "metadata": {
    "colab": {},
    "colab_type": "code",
    "id": "_EJUfcu4gkq4"
   },
   "outputs": [],
   "source": [
    "data_clas=load_data(aa2,'bhai_AA_subword_clas.pkl',bs=bs)"
   ]
  },
  {
   "cell_type": "code",
   "execution_count": 0,
   "metadata": {
    "colab": {},
    "colab_type": "code",
    "id": "eFD8O6D5gknN"
   },
   "outputs": [],
   "source": [
    "learn_cls = text_classifier_learner(data_clas, AWD_LSTM, drop_mult=0.5, pretrained=False)\n",
    "learn_cls.load_encoder('bhai_AA_lm_subword_enc')"
   ]
  },
  {
   "cell_type": "code",
   "execution_count": 62,
   "metadata": {
    "colab": {
     "base_uri": "https://localhost:8080/",
     "height": 300
    },
    "colab_type": "code",
    "id": "ojzOog-zjNR4",
    "outputId": "b212b71b-fdff-4b4c-8895-d71a851d0020"
   },
   "outputs": [
    {
     "data": {
      "text/html": [],
      "text/plain": [
       "<IPython.core.display.HTML object>"
      ]
     },
     "metadata": {
      "tags": []
     },
     "output_type": "display_data"
    },
    {
     "name": "stdout",
     "output_type": "stream",
     "text": [
      "LR Finder is complete, type {learner_name}.recorder.plot() to see the graph.\n"
     ]
    },
    {
     "data": {
      "image/png": "[encoded data removed]",
      "text/plain": [
       "<Figure size 432x288 with 1 Axes>"
      ]
     },
     "metadata": {
      "tags": []
     },
     "output_type": "display_data"
    }
   ],
   "source": [
    "learn_cls.freeze()\n",
    "learn_cls.lr_find()\n",
    "learn_cls.recorder.plot()"
   ]
  },
  {
   "cell_type": "code",
   "execution_count": 63,
   "metadata": {
    "colab": {
     "base_uri": "https://localhost:8080/",
     "height": 283
    },
    "colab_type": "code",
    "id": "N9ZIUr2yKrDB",
    "outputId": "0ece1af3-9fe9-4d51-b8f5-b7e4fe016531"
   },
   "outputs": [
    {
     "data": {
      "image/png": "[encoded data removed]",
      "text/plain": [
       "<Figure size 432x288 with 1 Axes>"
      ]
     },
     "metadata": {
      "tags": []
     },
     "output_type": "display_data"
    }
   ],
   "source": [
    "learn_cls.recorder.plot(skip_end=10)"
   ]
  },
  {
   "cell_type": "code",
   "execution_count": 80,
   "metadata": {
    "colab": {
     "base_uri": "https://localhost:8080/",
     "height": 111
    },
    "colab_type": "code",
    "id": "jTJ1YHGCgkjp",
    "outputId": "26806abb-1600-40f2-9ed0-a44616faa576"
   },
   "outputs": [
    {
     "data": {
      "text/html": [
       "<table border=\"1\" class=\"dataframe\">\n",
       "  <thead>\n",
       "    <tr style=\"text-align: left;\">\n",
       "      <th>epoch</th>\n",
       "      <th>train_loss</th>\n",
       "      <th>valid_loss</th>\n",
       "      <th>accuracy</th>\n",
       "      <th>time</th>\n",
       "    </tr>\n",
       "  </thead>\n",
       "  <tbody>\n",
       "    <tr>\n",
       "      <td>0</td>\n",
       "      <td>0.794400</td>\n",
       "      <td>0.394550</td>\n",
       "      <td>0.891967</td>\n",
       "      <td>01:54</td>\n",
       "    </tr>\n",
       "    <tr>\n",
       "      <td>1</td>\n",
       "      <td>0.452886</td>\n",
       "      <td>0.163123</td>\n",
       "      <td>0.958449</td>\n",
       "      <td>02:05</td>\n",
       "    </tr>\n",
       "  </tbody>\n",
       "</table>"
      ],
      "text/plain": [
       "<IPython.core.display.HTML object>"
      ]
     },
     "metadata": {
      "tags": []
     },
     "output_type": "display_data"
    }
   ],
   "source": [
    "learn_cls.fit_one_cycle(2, 1e-2, moms=(0.8,0.7))\n",
    "learn_cls.save('bhai_subword_cls')"
   ]
  },
  {
   "cell_type": "code",
   "execution_count": 81,
   "metadata": {
    "colab": {
     "base_uri": "https://localhost:8080/",
     "height": 111
    },
    "colab_type": "code",
    "id": "DFZrvERzgkfC",
    "outputId": "4254b1bf-71c0-4cc2-d20f-e3cacebfc365"
   },
   "outputs": [
    {
     "data": {
      "text/html": [
       "<table border=\"1\" class=\"dataframe\">\n",
       "  <thead>\n",
       "    <tr style=\"text-align: left;\">\n",
       "      <th>epoch</th>\n",
       "      <th>train_loss</th>\n",
       "      <th>valid_loss</th>\n",
       "      <th>accuracy</th>\n",
       "      <th>time</th>\n",
       "    </tr>\n",
       "  </thead>\n",
       "  <tbody>\n",
       "    <tr>\n",
       "      <td>0</td>\n",
       "      <td>0.318727</td>\n",
       "      <td>0.206995</td>\n",
       "      <td>0.947368</td>\n",
       "      <td>02:05</td>\n",
       "    </tr>\n",
       "    <tr>\n",
       "      <td>1</td>\n",
       "      <td>0.236387</td>\n",
       "      <td>0.151577</td>\n",
       "      <td>0.955679</td>\n",
       "      <td>02:13</td>\n",
       "    </tr>\n",
       "  </tbody>\n",
       "</table>"
      ],
      "text/plain": [
       "<IPython.core.display.HTML object>"
      ]
     },
     "metadata": {
      "tags": []
     },
     "output_type": "display_data"
    }
   ],
   "source": [
    "learn_cls.freeze_to(-2)\n",
    "learn_cls.fit_one_cycle(2 , slice(1e-2/(2.6**4),1e-2), moms=(0.8,0.7))\n",
    "learn_cls.save('bhai_subword_cls_2')"
   ]
  },
  {
   "cell_type": "code",
   "execution_count": 22,
   "metadata": {
    "colab": {
     "base_uri": "https://localhost:8080/",
     "height": 111
    },
    "colab_type": "code",
    "id": "6p8ewyaiKzDm",
    "outputId": "059de237-11fb-4553-ba7c-462cb94f51fd"
   },
   "outputs": [
    {
     "data": {
      "text/html": [
       "<table border=\"1\" class=\"dataframe\">\n",
       "  <thead>\n",
       "    <tr style=\"text-align: left;\">\n",
       "      <th>epoch</th>\n",
       "      <th>train_loss</th>\n",
       "      <th>valid_loss</th>\n",
       "      <th>accuracy</th>\n",
       "      <th>time</th>\n",
       "    </tr>\n",
       "  </thead>\n",
       "  <tbody>\n",
       "    <tr>\n",
       "      <td>0</td>\n",
       "      <td>0.159545</td>\n",
       "      <td>0.110050</td>\n",
       "      <td>0.966759</td>\n",
       "      <td>02:38</td>\n",
       "    </tr>\n",
       "    <tr>\n",
       "      <td>1</td>\n",
       "      <td>0.135944</td>\n",
       "      <td>0.120207</td>\n",
       "      <td>0.966759</td>\n",
       "      <td>02:26</td>\n",
       "    </tr>\n",
       "  </tbody>\n",
       "</table>"
      ],
      "text/plain": [
       "<IPython.core.display.HTML object>"
      ]
     },
     "metadata": {
      "tags": []
     },
     "output_type": "display_data"
    }
   ],
   "source": [
    "learn_cls.load('bhai_subword_cls_2')\n",
    "learn_cls.freeze_to(-3)\n",
    "learn_cls.fit_one_cycle(2 , slice(1e-2/(2.6**4),1e-2), moms=(0.8,0.7))\n",
    "learn_cls.save('bhai_subword_cls_3')"
   ]
  },
  {
   "cell_type": "code",
   "execution_count": 23,
   "metadata": {
    "colab": {
     "base_uri": "https://localhost:8080/",
     "height": 173
    },
    "colab_type": "code",
    "id": "ACVbkogBgiMb",
    "outputId": "c2c8a4a3-abda-4436-9c1b-db7c28ad8794"
   },
   "outputs": [
    {
     "data": {
      "text/html": [
       "<table border=\"1\" class=\"dataframe\">\n",
       "  <thead>\n",
       "    <tr style=\"text-align: left;\">\n",
       "      <th>epoch</th>\n",
       "      <th>train_loss</th>\n",
       "      <th>valid_loss</th>\n",
       "      <th>accuracy</th>\n",
       "      <th>time</th>\n",
       "    </tr>\n",
       "  </thead>\n",
       "  <tbody>\n",
       "    <tr>\n",
       "      <td>0</td>\n",
       "      <td>0.065800</td>\n",
       "      <td>0.141450</td>\n",
       "      <td>0.961219</td>\n",
       "      <td>02:49</td>\n",
       "    </tr>\n",
       "    <tr>\n",
       "      <td>1</td>\n",
       "      <td>0.077396</td>\n",
       "      <td>0.114537</td>\n",
       "      <td>0.969529</td>\n",
       "      <td>02:50</td>\n",
       "    </tr>\n",
       "    <tr>\n",
       "      <td>2</td>\n",
       "      <td>0.074074</td>\n",
       "      <td>0.112849</td>\n",
       "      <td>0.969529</td>\n",
       "      <td>03:02</td>\n",
       "    </tr>\n",
       "    <tr>\n",
       "      <td>3</td>\n",
       "      <td>0.070591</td>\n",
       "      <td>0.102635</td>\n",
       "      <td>0.969529</td>\n",
       "      <td>02:50</td>\n",
       "    </tr>\n",
       "  </tbody>\n",
       "</table>"
      ],
      "text/plain": [
       "<IPython.core.display.HTML object>"
      ]
     },
     "metadata": {
      "tags": []
     },
     "output_type": "display_data"
    }
   ],
   "source": [
    "learn_cls.unfreeze()\n",
    "learn_cls.fit_one_cycle(4, slice(1e-3/(2.6**4),1e-3), moms=(0.8,0.7))\n",
    "learn_cls.save('bhai_subword_cls_4')"
   ]
  },
  {
   "cell_type": "code",
   "execution_count": 27,
   "metadata": {
    "colab": {
     "base_uri": "https://localhost:8080/",
     "height": 105
    },
    "colab_type": "code",
    "id": "GnDf1GG_gUJ2",
    "outputId": "e87ee1dc-355b-4599-d763-943599c23f5c"
   },
   "outputs": [
    {
     "name": "stdout",
     "output_type": "stream",
     "text": [
      "300\n",
      "Accuracy: \n",
      "0.9533333333333334\n",
      "[('rg', 'mk'), ('rn', 'ij'), ('ij', 'rn'), ('rg', 'rn'), ('rn', 'mk'), ('rg', 'mk'), ('rn', 'ij'), ('rg', 'ij'), ('hm', 'mk'), ('fe', 'rn'), ('fe', 'mk'), ('fe', 'mk'), ('rn', 'mk'), ('rg', 'rn')]\n"
     ]
    }
   ],
   "source": [
    "pred,targ = testing(aa2/'ulm_test.csv')"
   ]
  },
  {
   "cell_type": "code",
   "execution_count": 28,
   "metadata": {
    "colab": {
     "base_uri": "https://localhost:8080/",
     "height": 85
    },
    "colab_type": "code",
    "id": "nNaKSrgBK9dm",
    "outputId": "36e747a1-d1f7-42af-d375-a6405b5dc7cf"
   },
   "outputs": [
    {
     "data": {
      "text/plain": [
       "(array([0.969072, 0.989899, 0.960784, 0.934579, 0.947368, 0.92    ]),\n",
       " 0.9536172214796502,\n",
       " 0.9536172214796502,\n",
       " 0.9536172214796503)"
      ]
     },
     "execution_count": 28,
     "metadata": {
      "tags": []
     },
     "output_type": "execute_result"
    }
   ],
   "source": [
    "from sklearn.metrics import f1_score\n",
    "# y_true = [0, 1, 2, 0, 1, 2]\n",
    "# y_pred = [0, 2, 1, 0, 0, 1]\n",
    "# output : array([ 0.8,  0. ,  0. ])\n",
    "# Which is the scores for each class.\n",
    "out  = f1_score(targ, pred, average=None)\n",
    "out2 = f1_score(targ, pred, average='macro')\n",
    "out3 = f1_score(targ, pred, average='weighted')\n",
    "out, out.mean() ,out2, out3"
   ]
  },
  {
   "cell_type": "code",
   "execution_count": 0,
   "metadata": {
    "colab": {},
    "colab_type": "code",
    "id": "IirrsbDVbXJm"
   },
   "outputs": [],
   "source": []
  }
 ],
 "metadata": {
  "accelerator": "GPU",
  "colab": {
   "collapsed_sections": [
    "Q8m3k1lITZCM",
    "UnZ6KC-VTeo-",
    "56qSVYLETsLJ",
    "LPaU82IuMJRa",
    "VbYzWr0LMRzd",
    "bnT8JAN_TsO0",
    "cuEfScZJ_2Ha",
    "tj4EgeYUfWAO"
   ],
   "name": "SP-ULMFiT(News).ipynb",
   "provenance": [],
   "version": "0.3.2"
  },
  "kernelspec": {
   "display_name": "Python 3",
   "language": "python",
   "name": "python3"
  },
  "language_info": {
   "codemirror_mode": {
    "name": "ipython",
    "version": 3
   },
   "file_extension": ".py",
   "mimetype": "text/x-python",
   "name": "python",
   "nbconvert_exporter": "python",
   "pygments_lexer": "ipython3",
   "version": "3.6.8"
  }
 },
 "nbformat": 4,
 "nbformat_minor": 1
}
