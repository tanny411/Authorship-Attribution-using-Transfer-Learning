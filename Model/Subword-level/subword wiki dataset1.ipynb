{
  "nbformat": 4,
  "nbformat_minor": 0,
  "metadata": {
    "colab": {
      "name": "Wiki_subword_fullAA.ipynb",
      "version": "0.3.2",
      "provenance": [],
      "collapsed_sections": []
    },
    "kernelspec": {
      "name": "python3",
      "display_name": "Python 3"
    },
    "accelerator": "GPU"
  },
  "cells": [
    {
      "cell_type": "code",
      "metadata": {
        "id": "ht3mOv6BWiqJ",
        "colab_type": "code",
        "outputId": "3ce9e1d4-8cb7-4def-ed06-dbb648a96acd",
        "colab": {
          "base_uri": "https://localhost:8080/",
          "height": 214
        }
      },
      "source": [
        "!pip install sentencepiece\n",
        "!pip install tf_sentencepiece"
      ],
      "execution_count": 1,
      "outputs": [
        {
          "output_type": "stream",
          "text": [
            "Collecting sentencepiece\n",
            "\u001b[?25l  Downloading https://files.pythonhosted.org/packages/14/3d/efb655a670b98f62ec32d66954e1109f403db4d937c50d779a75b9763a29/sentencepiece-0.1.83-cp36-cp36m-manylinux1_x86_64.whl (1.0MB)\n",
            "\u001b[K     |████████████████████████████████| 1.0MB 3.5MB/s \n",
            "\u001b[?25hInstalling collected packages: sentencepiece\n",
            "Successfully installed sentencepiece-0.1.83\n",
            "Collecting tf_sentencepiece\n",
            "\u001b[?25l  Downloading https://files.pythonhosted.org/packages/dc/2c/20800032089a9271757921f3adc1f2c7ec2d294ec9fa07b3115fab9d27c2/tf_sentencepiece-0.1.83-py2.py3-none-manylinux1_x86_64.whl (2.7MB)\n",
            "\u001b[K     |████████████████████████████████| 2.7MB 3.5MB/s \n",
            "\u001b[?25hInstalling collected packages: tf-sentencepiece\n",
            "Successfully installed tf-sentencepiece-0.1.83\n"
          ],
          "name": "stdout"
        }
      ]
    },
    {
      "cell_type": "code",
      "metadata": {
        "id": "GYHRGS6iGKm_",
        "colab_type": "code",
        "outputId": "071a9f1f-cbcd-452a-900a-91b82d73f94d",
        "colab": {
          "base_uri": "https://localhost:8080/",
          "height": 870
        }
      },
      "source": [
        "!pip install fastai==1.0.52\n",
        "from fastai import *\n",
        "from fastai.text import *\n",
        "\n",
        "import re\n",
        "import sentencepiece as spm"
      ],
      "execution_count": 2,
      "outputs": [
        {
          "output_type": "stream",
          "text": [
            "Collecting fastai==1.0.52\n",
            "\u001b[?25l  Downloading https://files.pythonhosted.org/packages/de/07/7203179ba2f211bfbda364f883f645aea4d09ccfd48ce5dbb00a894722bf/fastai-1.0.52-py3-none-any.whl (219kB)\n",
            "\u001b[K     |████████████████████████████████| 225kB 3.5MB/s \n",
            "\u001b[?25hRequirement already satisfied: dataclasses; python_version < \"3.7\" in /usr/local/lib/python3.6/dist-packages (from fastai==1.0.52) (0.6)\n",
            "Requirement already satisfied: Pillow in /usr/local/lib/python3.6/dist-packages (from fastai==1.0.52) (4.3.0)\n",
            "Requirement already satisfied: nvidia-ml-py3 in /usr/local/lib/python3.6/dist-packages (from fastai==1.0.52) (7.352.0)\n",
            "Requirement already satisfied: torch>=1.0.0 in /usr/local/lib/python3.6/dist-packages (from fastai==1.0.52) (1.1.0)\n",
            "Requirement already satisfied: numpy>=1.15 in /usr/local/lib/python3.6/dist-packages (from fastai==1.0.52) (1.16.4)\n",
            "Requirement already satisfied: matplotlib in /usr/local/lib/python3.6/dist-packages (from fastai==1.0.52) (3.0.3)\n",
            "Requirement already satisfied: pyyaml in /usr/local/lib/python3.6/dist-packages (from fastai==1.0.52) (3.13)\n",
            "Requirement already satisfied: beautifulsoup4 in /usr/local/lib/python3.6/dist-packages (from fastai==1.0.52) (4.6.3)\n",
            "Requirement already satisfied: requests in /usr/local/lib/python3.6/dist-packages (from fastai==1.0.52) (2.21.0)\n",
            "Requirement already satisfied: fastprogress>=0.1.19 in /usr/local/lib/python3.6/dist-packages (from fastai==1.0.52) (0.1.21)\n",
            "Requirement already satisfied: bottleneck in /usr/local/lib/python3.6/dist-packages (from fastai==1.0.52) (1.2.1)\n",
            "Requirement already satisfied: packaging in /usr/local/lib/python3.6/dist-packages (from fastai==1.0.52) (19.1)\n",
            "Requirement already satisfied: scipy in /usr/local/lib/python3.6/dist-packages (from fastai==1.0.52) (1.3.1)\n",
            "Requirement already satisfied: torchvision in /usr/local/lib/python3.6/dist-packages (from fastai==1.0.52) (0.3.0)\n",
            "Requirement already satisfied: numexpr in /usr/local/lib/python3.6/dist-packages (from fastai==1.0.52) (2.7.0)\n",
            "Requirement already satisfied: pandas in /usr/local/lib/python3.6/dist-packages (from fastai==1.0.52) (0.24.2)\n",
            "Requirement already satisfied: spacy>=2.0.18 in /usr/local/lib/python3.6/dist-packages (from fastai==1.0.52) (2.1.8)\n",
            "Requirement already satisfied: typing in /usr/local/lib/python3.6/dist-packages (from fastai==1.0.52) (3.7.4.1)\n",
            "Requirement already satisfied: olefile in /usr/local/lib/python3.6/dist-packages (from Pillow->fastai==1.0.52) (0.46)\n",
            "Requirement already satisfied: cycler>=0.10 in /usr/local/lib/python3.6/dist-packages (from matplotlib->fastai==1.0.52) (0.10.0)\n",
            "Requirement already satisfied: pyparsing!=2.0.4,!=2.1.2,!=2.1.6,>=2.0.1 in /usr/local/lib/python3.6/dist-packages (from matplotlib->fastai==1.0.52) (2.4.2)\n",
            "Requirement already satisfied: python-dateutil>=2.1 in /usr/local/lib/python3.6/dist-packages (from matplotlib->fastai==1.0.52) (2.5.3)\n",
            "Requirement already satisfied: kiwisolver>=1.0.1 in /usr/local/lib/python3.6/dist-packages (from matplotlib->fastai==1.0.52) (1.1.0)\n",
            "Requirement already satisfied: idna<2.9,>=2.5 in /usr/local/lib/python3.6/dist-packages (from requests->fastai==1.0.52) (2.8)\n",
            "Requirement already satisfied: chardet<3.1.0,>=3.0.2 in /usr/local/lib/python3.6/dist-packages (from requests->fastai==1.0.52) (3.0.4)\n",
            "Requirement already satisfied: urllib3<1.25,>=1.21.1 in /usr/local/lib/python3.6/dist-packages (from requests->fastai==1.0.52) (1.24.3)\n",
            "Requirement already satisfied: certifi>=2017.4.17 in /usr/local/lib/python3.6/dist-packages (from requests->fastai==1.0.52) (2019.6.16)\n",
            "Requirement already satisfied: attrs in /usr/local/lib/python3.6/dist-packages (from packaging->fastai==1.0.52) (19.1.0)\n",
            "Requirement already satisfied: six in /usr/local/lib/python3.6/dist-packages (from packaging->fastai==1.0.52) (1.12.0)\n",
            "Requirement already satisfied: pytz>=2011k in /usr/local/lib/python3.6/dist-packages (from pandas->fastai==1.0.52) (2018.9)\n",
            "Requirement already satisfied: thinc<7.1.0,>=7.0.8 in /usr/local/lib/python3.6/dist-packages (from spacy>=2.0.18->fastai==1.0.52) (7.0.8)\n",
            "Requirement already satisfied: srsly<1.1.0,>=0.0.6 in /usr/local/lib/python3.6/dist-packages (from spacy>=2.0.18->fastai==1.0.52) (0.1.0)\n",
            "Requirement already satisfied: preshed<2.1.0,>=2.0.1 in /usr/local/lib/python3.6/dist-packages (from spacy>=2.0.18->fastai==1.0.52) (2.0.1)\n",
            "Requirement already satisfied: wasabi<1.1.0,>=0.2.0 in /usr/local/lib/python3.6/dist-packages (from spacy>=2.0.18->fastai==1.0.52) (0.2.2)\n",
            "Requirement already satisfied: plac<1.0.0,>=0.9.6 in /usr/local/lib/python3.6/dist-packages (from spacy>=2.0.18->fastai==1.0.52) (0.9.6)\n",
            "Requirement already satisfied: blis<0.3.0,>=0.2.2 in /usr/local/lib/python3.6/dist-packages (from spacy>=2.0.18->fastai==1.0.52) (0.2.4)\n",
            "Requirement already satisfied: murmurhash<1.1.0,>=0.28.0 in /usr/local/lib/python3.6/dist-packages (from spacy>=2.0.18->fastai==1.0.52) (1.0.2)\n",
            "Requirement already satisfied: cymem<2.1.0,>=2.0.2 in /usr/local/lib/python3.6/dist-packages (from spacy>=2.0.18->fastai==1.0.52) (2.0.2)\n",
            "Requirement already satisfied: setuptools in /usr/local/lib/python3.6/dist-packages (from kiwisolver>=1.0.1->matplotlib->fastai==1.0.52) (41.2.0)\n",
            "Requirement already satisfied: tqdm<5.0.0,>=4.10.0 in /usr/local/lib/python3.6/dist-packages (from thinc<7.1.0,>=7.0.8->spacy>=2.0.18->fastai==1.0.52) (4.28.1)\n",
            "Installing collected packages: fastai\n",
            "  Found existing installation: fastai 1.0.57\n",
            "    Uninstalling fastai-1.0.57:\n",
            "      Successfully uninstalled fastai-1.0.57\n",
            "Successfully installed fastai-1.0.52\n"
          ],
          "name": "stdout"
        }
      ]
    },
    {
      "cell_type": "code",
      "metadata": {
        "id": "wXPpaCSPWQtN",
        "colab_type": "code",
        "outputId": "cba2ca3c-f426-4838-fadb-21ead5201524",
        "colab": {
          "base_uri": "https://localhost:8080/",
          "height": 125
        }
      },
      "source": [
        "from google.colab import drive\n",
        "drive.mount('/content/gdrive')"
      ],
      "execution_count": 3,
      "outputs": [
        {
          "output_type": "stream",
          "text": [
            "Go to this URL in a browser: https://accounts.google.com/o/oauth2/auth?client_id=947318989803-6bn6qk8qdgf4n4g3pfee6491hc0brc4i.apps.googleusercontent.com&redirect_uri=urn%3Aietf%3Awg%3Aoauth%3A2.0%3Aoob&scope=email%20https%3A%2F%2Fwww.googleapis.com%2Fauth%2Fdocs.test%20https%3A%2F%2Fwww.googleapis.com%2Fauth%2Fdrive%20https%3A%2F%2Fwww.googleapis.com%2Fauth%2Fdrive.photos.readonly%20https%3A%2F%2Fwww.googleapis.com%2Fauth%2Fpeopleapi.readonly&response_type=code\n",
            "\n",
            "Enter your authorization code:\n",
            "··········\n",
            "Mounted at /content/gdrive\n"
          ],
          "name": "stdout"
        }
      ]
    },
    {
      "cell_type": "code",
      "metadata": {
        "id": "x8ANn5M3Xc9C",
        "colab_type": "code",
        "colab": {}
      },
      "source": [
        "import os\n",
        "path = Path(os.getcwd())\n",
        "path = path/'gdrive'/'My Drive'\n",
        "news=path/'Thesis Data'/'full doc csv'\n",
        "aa=path/'Thesis Data'/'Our dataset'\n",
        "aa2=path/'Thesis Data'/'AA dataset'\n",
        "wiki=path/'Thesis Data'/'wiki_data'/'Wiki'"
      ],
      "execution_count": 0,
      "outputs": []
    },
    {
      "cell_type": "markdown",
      "metadata": {
        "id": "TV1DGq8h-fq_",
        "colab_type": "text"
      },
      "source": [
        "## Training"
      ]
    },
    {
      "cell_type": "code",
      "metadata": {
        "id": "1hvRe6oT-fBH",
        "colab_type": "code",
        "colab": {}
      },
      "source": [
        "vocab_size = 30000\n",
        "model_prefix = 'sp_wiki'"
      ],
      "execution_count": 0,
      "outputs": []
    },
    {
      "cell_type": "code",
      "metadata": {
        "id": "t-VTowpvBDya",
        "colab_type": "code",
        "outputId": "4c4514a5-5382-48ea-d16d-12a54844c06b",
        "colab": {
          "base_uri": "https://localhost:8080/",
          "height": 34
        }
      },
      "source": [
        "## load up the Processor\n",
        "sp = spm.SentencePieceProcessor()\n",
        "sp.load(f'{model_prefix}.model')"
      ],
      "execution_count": 6,
      "outputs": [
        {
          "output_type": "execute_result",
          "data": {
            "text/plain": [
              "True"
            ]
          },
          "metadata": {
            "tags": []
          },
          "execution_count": 6
        }
      ]
    },
    {
      "cell_type": "code",
      "metadata": {
        "id": "7f25k7nxP1oS",
        "colab_type": "code",
        "colab": {}
      },
      "source": [
        "itos = [] #{}\n",
        "with open(f'{model_prefix}.vocab','r') as f:\n",
        "    for line_num,line in enumerate(f):\n",
        "        itos.append(line.split(\"\\t\")[0])"
      ],
      "execution_count": 0,
      "outputs": []
    },
    {
      "cell_type": "code",
      "metadata": {
        "id": "cJg3UrwIJxLQ",
        "colab_type": "code",
        "outputId": "ee2229fb-30d2-4306-ef80-d911df8ae769",
        "colab": {
          "base_uri": "https://localhost:8080/",
          "height": 34
        }
      },
      "source": [
        "len(itos)"
      ],
      "execution_count": 8,
      "outputs": [
        {
          "output_type": "execute_result",
          "data": {
            "text/plain": [
              "30000"
            ]
          },
          "metadata": {
            "tags": []
          },
          "execution_count": 8
        }
      ]
    },
    {
      "cell_type": "code",
      "metadata": {
        "id": "MPoVAW2EJzyG",
        "colab_type": "code",
        "outputId": "e1d18a89-9107-4a4f-f02c-9a86da93764d",
        "colab": {
          "base_uri": "https://localhost:8080/",
          "height": 52
        }
      },
      "source": [
        "itos[:5], itos[-5:]"
      ],
      "execution_count": 9,
      "outputs": [
        {
          "output_type": "execute_result",
          "data": {
            "text/plain": [
              "(['<unk>', '<s>', '</s>', '▁', '।'],\n",
              " ['এইচএসপিএ', '▁ইকরিমা', '▁উস্কানি', '▁বাদানুবাদ', '/'])"
            ]
          },
          "metadata": {
            "tags": []
          },
          "execution_count": 9
        }
      ]
    },
    {
      "cell_type": "code",
      "metadata": {
        "id": "9pw4ZtL4blcM",
        "colab_type": "code",
        "colab": {}
      },
      "source": [
        "class SPTokenizer(BaseTokenizer):\n",
        "    \"Wrapper around a SentncePiece tokenizer to make it a `BaseTokenizer`.\"\n",
        "    def __init__(self, model_prefix:str):\n",
        "        self.tok = spm.SentencePieceProcessor()\n",
        "        self.tok.load(f'{model_prefix}.model')\n",
        "\n",
        "    def tokenizer(self, t:str) -> List[str]:\n",
        "        return self.tok.EncodeAsPieces(t)\n",
        "    \n",
        "class CustomTokenizer():\n",
        "    '''Wrapper for SentencePiece toeknizer to fit into Fast.ai V1'''\n",
        "    def __init__(self,tok_func:Callable,model_prefix:str, pre_rules:ListRules=None):\n",
        "        self.tok_func,self.model_prefix = tok_func,model_prefix\n",
        "        self.pre_rules  = ifnone(pre_rules,  defaults.text_pre_rules )\n",
        "        \n",
        "    def __repr__(self) -> str:\n",
        "        res = f'Tokenizer {self.tok_func.__name__} using `{self.model_prefix}` model with the following rules:\\n'\n",
        "        for rule in self.pre_rules: res += f' - {rule.__name__}\\n'\n",
        "        return res        \n",
        "\n",
        "    def process_text(self, t:str,tok:BaseTokenizer) -> List[str]:\n",
        "        \"Processe one text `t` with tokenizer `tok`.\"\n",
        "        for rule in self.pre_rules: t = rule(t)  \n",
        "        toks = tok.tokenizer(t)\n",
        "        #post rules?\n",
        "        return toks \n",
        "    \n",
        "    def _process_all_1(self,texts:Collection[str]) -> List[List[str]]:\n",
        "        'Process a list of `texts` in one process'\n",
        "        tok = self.tok_func(self.model_prefix)\n",
        "        return [self.process_text(t,tok) for t in texts]\n",
        "                                                                     \n",
        "    def process_all(self, texts:Collection[str]) -> List[List[str]]: \n",
        "        \"Process a list of `texts`.\"                                 \n",
        "        return self._process_all_1(texts)"
      ],
      "execution_count": 0,
      "outputs": []
    },
    {
      "cell_type": "code",
      "metadata": {
        "id": "dmAYJI8mBZwa",
        "colab_type": "code",
        "colab": {}
      },
      "source": [
        "#setup Vocab object for use in LM\n",
        "sp_vocab = Vocab(itos)"
      ],
      "execution_count": 0,
      "outputs": []
    },
    {
      "cell_type": "code",
      "metadata": {
        "id": "VPhGAOe8AMCV",
        "colab_type": "code",
        "colab": {}
      },
      "source": [
        "mycust_tok = CustomTokenizer(SPTokenizer,model_prefix)"
      ],
      "execution_count": 0,
      "outputs": []
    },
    {
      "cell_type": "code",
      "metadata": {
        "id": "Bdf_f-e1P9fk",
        "colab_type": "code",
        "colab": {}
      },
      "source": [
        "bs = 32\n",
        "bptt = 70"
      ],
      "execution_count": 0,
      "outputs": []
    },
    {
      "cell_type": "markdown",
      "metadata": {
        "colab_type": "text",
        "id": "v_WJw_0nYz-6"
      },
      "source": [
        "## Our AA"
      ]
    },
    {
      "cell_type": "markdown",
      "metadata": {
        "colab_type": "text",
        "id": "g51hlTadYz-_"
      },
      "source": [
        "#### Our AA (LM)"
      ]
    },
    {
      "cell_type": "code",
      "metadata": {
        "colab_type": "code",
        "id": "xRhXdKAYYz_B",
        "colab": {}
      },
      "source": [
        "data_lm_AA = TextLMDataBunch.from_csv(aa , 'OurDataset_train.csv', bs=bs , bptt=bptt,tokenizer=mycust_tok, vocab=sp_vocab)\n",
        "data_lm_AA.save('train_AA_subword_wiki_lm.pkl')"
      ],
      "execution_count": 0,
      "outputs": []
    },
    {
      "cell_type": "code",
      "metadata": {
        "colab_type": "code",
        "id": "kTppXX4pYz_G",
        "colab": {}
      },
      "source": [
        "data_lm_AA = load_data(aa, 'train_AA_subword_wiki_lm.pkl',bs=bs)"
      ],
      "execution_count": 0,
      "outputs": []
    },
    {
      "cell_type": "code",
      "metadata": {
        "colab_type": "code",
        "id": "L5qWBPk4Yz_K",
        "outputId": "6907c2be-d919-46b7-b5ee-dc1ba9a28832",
        "colab": {
          "base_uri": "https://localhost:8080/",
          "height": 281
        }
      },
      "source": [
        "data_lm_AA.show_batch()"
      ],
      "execution_count": 0,
      "outputs": [
        {
          "output_type": "display_data",
          "data": {
            "text/html": [
              "<table border=\"1\" class=\"dataframe\">\n",
              "  <thead>\n",
              "    <tr style=\"text-align: right;\">\n",
              "      <th>idx</th>\n",
              "      <th>text</th>\n",
              "    </tr>\n",
              "  </thead>\n",
              "  <tbody>\n",
              "    <tr>\n",
              "      <td>0</td>\n",
              "      <td>াম ▁এখন ▁ফুটবল ▁খেলে ▁ফিরে ▁আস ছি । ▁রাজাকার গুলি ▁আমাদের ▁মনে ▁রেখেছে ▁কি ▁না ▁ কে ▁জানে — ▁রাখলে ▁ক্ষতি ▁নেই ▁দেখে ▁কোন ▁সন্দেহ ▁করবে ▁না । ▁প্রথমবার ▁অা মালে ঞ্চ ▁ফে ক্স কম ▁ভয় ▁ভয় ▁ লাগ ছিল ▁এবার ে ▁সেরকম ▁ভয় ও ▁লাগল ▁না । ▁আমি ▁একটা ▁রাজাকার কে ▁জিজ্ঞেস ও ▁করলাম ▁কয় টা ▁বাজে । ▁রাজাকার টা ▁অব ি শ্য ি ▁আমার ▁প্রশ্নের ▁উত্তর ▁দিল ▁না</td>\n",
              "    </tr>\n",
              "    <tr>\n",
              "      <td>1</td>\n",
              "      <td>▁মুখ ▁করে ▁বলে , ▁তা ▁হলে ▁সেই ▁কথা ই । ▁আমাকে ও ▁বলেছে , ▁আপনাকে ও ▁বলেছে । ▁ দীপ নাথ ▁মাথা ▁নে ড়ে ▁বলে , ▁হয়তো ▁সেই ▁উদ্দেশ্যে ই ▁আজ ▁উনি ▁আমাকে ▁এখানে ▁নিয়ে ▁এসেছেন । ▁মণি দীপ ার ▁মা জা ▁রং ও ▁ রাঙা ▁হল ▁এ ▁কথায় । ▁সে ▁বলল , ▁ ছি ঃ ▁ ছি ঃ । ▁ও ▁কোথায় ▁গেল ? ▁বাথ রুম ে । – দীপ</td>\n",
              "    </tr>\n",
              "    <tr>\n",
              "      <td>2</td>\n",
              "      <td>▁এক ▁ ভ ৃত ্য ▁এলো ▁তার ▁হাতে ▁জল ▁ঢেলে ▁দিতে । ▁হাত ▁মুখ ▁প্র ক্ষা লন ▁করে ▁নবীন কুমার ▁বল লো , ▁গোপাল কে ▁একবার ▁দে কেই ▁আমি ▁চলে ▁যা বো । ▁বি ম্ব বতী ▁বললেন , ▁থাক ▁না , ▁এ খুন । ▁আর ▁যা স নি ! ▁– কেন ? ▁— এ খুন ▁ও র ▁কাচ ে ▁যেতে ▁নেই ! ▁ঠিক ▁তখনই ▁এ ▁বাড়ির ▁এক ▁আশ্রিত ▁যুবক ▁এসে</td>\n",
              "    </tr>\n",
              "    <tr>\n",
              "      <td>3</td>\n",
              "      <td>ভ দ্দ র লোক ের ▁ছেলে ▁তো দের ▁ কে ▁বলল ? ▁আমরা ▁বি ল্লি ▁কাট ▁দিয়া ▁মানুষ । ▁আমাদের কে ▁বি ল্লি ▁কেটে ▁দিয়েছে । ▁বজলু র ▁কথা ▁শেষ ▁হবার ▁আগেই ▁জহির ▁এবং ▁মোবারক ▁হাস তে ▁শুরু ▁করল । ▁বোতল ▁খোলার ▁আগেই ▁তিনজন ▁চলে ▁যাচ্ছে ▁ভাবে র ▁জগতে । ▁আজকে র ▁ভাব ▁হবে ▁জটিল ▁ভাব । ▁রাত টা ▁বড় ই ▁আনন্দ ে ▁কাট বে । ▁ বুড়ো ▁ বুড়ি</td>\n",
              "    </tr>\n",
              "    <tr>\n",
              "      <td>4</td>\n",
              "      <td>আমি ▁তো ▁চল লাম ! ▁তো রা ▁কি ▁থাকি বি , ▁না ▁আমার ▁সঙ্গে ▁যা বি ? ▁থাক ব ▁কী ! ▁বললেন ▁লালমোহন বাবু । ▁এর ▁পরে ▁কি ▁আর ▁থাকা ▁যায় ? ▁চল ুন ▁বেরিয়ে ▁পড় ি । ▁আমরা ▁তিনজন ▁যখন ▁ নয়ন পুর ▁ভিলা ▁ পী ছ লাম , ▁তখন ▁সোয়া ▁ছ টা । ▁ চারি দিক ▁অন্ধকার ▁হয়ে ▁গেছে , ▁আকাশে ▁মেঘ , ▁ টিপ ▁ টিপ ▁করে</td>\n",
              "    </tr>\n",
              "  </tbody>\n",
              "</table>"
            ],
            "text/plain": [
              "<IPython.core.display.HTML object>"
            ]
          },
          "metadata": {
            "tags": []
          }
        }
      ]
    },
    {
      "cell_type": "code",
      "metadata": {
        "colab_type": "code",
        "id": "pINGlgjFYz_R",
        "colab": {}
      },
      "source": [
        "learn = language_model_learner(data_lm_AA, AWD_LSTM, pretrained=False, drop_mult=0.5)"
      ],
      "execution_count": 0,
      "outputs": []
    },
    {
      "cell_type": "code",
      "metadata": {
        "colab_type": "code",
        "id": "dpMAK_BCYz_V",
        "colab": {}
      },
      "source": [
        "learn.load(wiki/'models'/'wiki_subword_lm_30');"
      ],
      "execution_count": 0,
      "outputs": []
    },
    {
      "cell_type": "code",
      "metadata": {
        "colab_type": "code",
        "id": "UqUMP0-WYz_Z",
        "outputId": "5517e86f-d3df-41f8-bbf9-fb1ce99ff9ba",
        "colab": {
          "base_uri": "https://localhost:8080/",
          "height": 300
        }
      },
      "source": [
        "learn.lr_find();\n",
        "learn.recorder.plot();"
      ],
      "execution_count": 0,
      "outputs": [
        {
          "output_type": "display_data",
          "data": {
            "text/html": [
              ""
            ],
            "text/plain": [
              "<IPython.core.display.HTML object>"
            ]
          },
          "metadata": {
            "tags": []
          }
        },
        {
          "output_type": "stream",
          "text": [
            "LR Finder is complete, type {learner_name}.recorder.plot() to see the graph.\n"
          ],
          "name": "stdout"
        },
        {
          "output_type": "display_data",
          "data": {
            "image/png": "[encoded data removed]",
            "text/plain": [
              "<Figure size 432x288 with 1 Axes>"
            ]
          },
          "metadata": {
            "tags": []
          }
        }
      ]
    },
    {
      "cell_type": "code",
      "metadata": {
        "colab_type": "code",
        "id": "emklK48gYz_j",
        "outputId": "e43ec85a-35b5-4c83-99c0-3909075542ff",
        "colab": {
          "base_uri": "https://localhost:8080/",
          "height": 282
        }
      },
      "source": [
        "learn.recorder.plot(skip_end=20);"
      ],
      "execution_count": 0,
      "outputs": [
        {
          "output_type": "display_data",
          "data": {
            "image/png": "[encoded data removed]",
            "text/plain": [
              "<Figure size 432x288 with 1 Axes>"
            ]
          },
          "metadata": {
            "tags": []
          }
        }
      ]
    },
    {
      "cell_type": "code",
      "metadata": {
        "colab_type": "code",
        "id": "puy9YWhYYz_o",
        "outputId": "cf6165f3-cff6-4c7a-c619-ad7c80858885",
        "colab": {
          "base_uri": "https://localhost:8080/",
          "height": 107
        }
      },
      "source": [
        "learn.freeze()\n",
        "learn.fit_one_cycle(2, 1e-2)\n",
        "learn.save('AA_wiki_subword_lm_head');"
      ],
      "execution_count": 0,
      "outputs": [
        {
          "output_type": "display_data",
          "data": {
            "text/html": [
              "<table border=\"1\" class=\"dataframe\">\n",
              "  <thead>\n",
              "    <tr style=\"text-align: left;\">\n",
              "      <th>epoch</th>\n",
              "      <th>train_loss</th>\n",
              "      <th>valid_loss</th>\n",
              "      <th>accuracy</th>\n",
              "      <th>time</th>\n",
              "    </tr>\n",
              "  </thead>\n",
              "  <tbody>\n",
              "    <tr>\n",
              "      <td>0</td>\n",
              "      <td>5.269609</td>\n",
              "      <td>5.108425</td>\n",
              "      <td>0.201604</td>\n",
              "      <td>20:26</td>\n",
              "    </tr>\n",
              "    <tr>\n",
              "      <td>1</td>\n",
              "      <td>4.996903</td>\n",
              "      <td>4.833389</td>\n",
              "      <td>0.225040</td>\n",
              "      <td>20:26</td>\n",
              "    </tr>\n",
              "  </tbody>\n",
              "</table>"
            ],
            "text/plain": [
              "<IPython.core.display.HTML object>"
            ]
          },
          "metadata": {
            "tags": []
          }
        }
      ]
    },
    {
      "cell_type": "code",
      "metadata": {
        "colab_type": "code",
        "id": "R6rWEIoZYz_v",
        "outputId": "f73bca16-b0b9-4e98-a7be-f475444f479d",
        "colab": {
          "base_uri": "https://localhost:8080/",
          "height": 107
        }
      },
      "source": [
        "learn.freeze_to(-2)\n",
        "learn.fit_one_cycle(2, 1e-2)\n",
        "learn.save('AA_wiki_subword_lm_body_1');"
      ],
      "execution_count": 0,
      "outputs": [
        {
          "output_type": "display_data",
          "data": {
            "text/html": [
              "<table border=\"1\" class=\"dataframe\">\n",
              "  <thead>\n",
              "    <tr style=\"text-align: left;\">\n",
              "      <th>epoch</th>\n",
              "      <th>train_loss</th>\n",
              "      <th>valid_loss</th>\n",
              "      <th>accuracy</th>\n",
              "      <th>time</th>\n",
              "    </tr>\n",
              "  </thead>\n",
              "  <tbody>\n",
              "    <tr>\n",
              "      <td>0</td>\n",
              "      <td>4.906767</td>\n",
              "      <td>4.831881</td>\n",
              "      <td>0.229587</td>\n",
              "      <td>20:54</td>\n",
              "    </tr>\n",
              "    <tr>\n",
              "      <td>1</td>\n",
              "      <td>4.615565</td>\n",
              "      <td>4.535242</td>\n",
              "      <td>0.258548</td>\n",
              "      <td>20:53</td>\n",
              "    </tr>\n",
              "  </tbody>\n",
              "</table>"
            ],
            "text/plain": [
              "<IPython.core.display.HTML object>"
            ]
          },
          "metadata": {
            "tags": []
          }
        }
      ]
    },
    {
      "cell_type": "code",
      "metadata": {
        "colab_type": "code",
        "id": "u07pgB8-Yz_0",
        "outputId": "89412835-92bc-4519-e566-83812c33d665",
        "colab": {
          "base_uri": "https://localhost:8080/",
          "height": 107
        }
      },
      "source": [
        "learn.freeze_to(-3)\n",
        "learn.fit_one_cycle(2, 1e-2)\n",
        "learn.save('AA_wiki_subword_lm_body_2');"
      ],
      "execution_count": 0,
      "outputs": [
        {
          "output_type": "display_data",
          "data": {
            "text/html": [
              "<table border=\"1\" class=\"dataframe\">\n",
              "  <thead>\n",
              "    <tr style=\"text-align: left;\">\n",
              "      <th>epoch</th>\n",
              "      <th>train_loss</th>\n",
              "      <th>valid_loss</th>\n",
              "      <th>accuracy</th>\n",
              "      <th>time</th>\n",
              "    </tr>\n",
              "  </thead>\n",
              "  <tbody>\n",
              "    <tr>\n",
              "      <td>0</td>\n",
              "      <td>4.754187</td>\n",
              "      <td>4.706779</td>\n",
              "      <td>0.243564</td>\n",
              "      <td>22:37</td>\n",
              "    </tr>\n",
              "    <tr>\n",
              "      <td>1</td>\n",
              "      <td>4.462883</td>\n",
              "      <td>4.365650</td>\n",
              "      <td>0.278231</td>\n",
              "      <td>22:36</td>\n",
              "    </tr>\n",
              "  </tbody>\n",
              "</table>"
            ],
            "text/plain": [
              "<IPython.core.display.HTML object>"
            ]
          },
          "metadata": {
            "tags": []
          }
        }
      ]
    },
    {
      "cell_type": "code",
      "metadata": {
        "id": "S_XyXVzOlpDI",
        "colab_type": "code",
        "outputId": "35a0dc91-bbe8-46ed-898a-123f65127a3f",
        "colab": {
          "base_uri": "https://localhost:8080/",
          "height": 107
        }
      },
      "source": [
        "learn.unfreeze()\n",
        "learn.fit_one_cycle(2, 1e-2)\n",
        "learn.save('AA_wiki_subword_lm_body_3');"
      ],
      "execution_count": 0,
      "outputs": [
        {
          "output_type": "display_data",
          "data": {
            "text/html": [
              "<table border=\"1\" class=\"dataframe\">\n",
              "  <thead>\n",
              "    <tr style=\"text-align: left;\">\n",
              "      <th>epoch</th>\n",
              "      <th>train_loss</th>\n",
              "      <th>valid_loss</th>\n",
              "      <th>accuracy</th>\n",
              "      <th>time</th>\n",
              "    </tr>\n",
              "  </thead>\n",
              "  <tbody>\n",
              "    <tr>\n",
              "      <td>0</td>\n",
              "      <td>4.731855</td>\n",
              "      <td>4.620867</td>\n",
              "      <td>0.250138</td>\n",
              "      <td>23:29</td>\n",
              "    </tr>\n",
              "    <tr>\n",
              "      <td>1</td>\n",
              "      <td>4.353949</td>\n",
              "      <td>4.292725</td>\n",
              "      <td>0.284804</td>\n",
              "      <td>23:25</td>\n",
              "    </tr>\n",
              "  </tbody>\n",
              "</table>"
            ],
            "text/plain": [
              "<IPython.core.display.HTML object>"
            ]
          },
          "metadata": {
            "tags": []
          }
        }
      ]
    },
    {
      "cell_type": "code",
      "metadata": {
        "colab_type": "code",
        "id": "HJfXVfuwYz_8",
        "outputId": "a03dce91-524a-4ab7-871c-67ea0f251e9b",
        "colab": {
          "base_uri": "https://localhost:8080/",
          "height": 107
        }
      },
      "source": [
        "learn.fit_one_cycle(2, 1e-2)\n",
        "learn.save('AA_wiki_subword_lm_body_4')"
      ],
      "execution_count": 0,
      "outputs": [
        {
          "output_type": "display_data",
          "data": {
            "text/html": [
              "<table border=\"1\" class=\"dataframe\">\n",
              "  <thead>\n",
              "    <tr style=\"text-align: left;\">\n",
              "      <th>epoch</th>\n",
              "      <th>train_loss</th>\n",
              "      <th>valid_loss</th>\n",
              "      <th>accuracy</th>\n",
              "      <th>time</th>\n",
              "    </tr>\n",
              "  </thead>\n",
              "  <tbody>\n",
              "    <tr>\n",
              "      <td>0</td>\n",
              "      <td>4.605798</td>\n",
              "      <td>4.532569</td>\n",
              "      <td>0.258661</td>\n",
              "      <td>23:27</td>\n",
              "    </tr>\n",
              "    <tr>\n",
              "      <td>1</td>\n",
              "      <td>4.262324</td>\n",
              "      <td>4.232949</td>\n",
              "      <td>0.290902</td>\n",
              "      <td>23:24</td>\n",
              "    </tr>\n",
              "  </tbody>\n",
              "</table>"
            ],
            "text/plain": [
              "<IPython.core.display.HTML object>"
            ]
          },
          "metadata": {
            "tags": []
          }
        }
      ]
    },
    {
      "cell_type": "code",
      "metadata": {
        "id": "uQc5zc17_lBp",
        "colab_type": "code",
        "outputId": "ad341786-a406-4540-be2c-758ff7cafd86",
        "colab": {
          "base_uri": "https://localhost:8080/",
          "height": 107
        }
      },
      "source": [
        "learn.fit_one_cycle(2, 1e-2)\n",
        "learn.save('AA_wiki_subword_lm_body_5')"
      ],
      "execution_count": 0,
      "outputs": [
        {
          "output_type": "display_data",
          "data": {
            "text/html": [
              "<table border=\"1\" class=\"dataframe\">\n",
              "  <thead>\n",
              "    <tr style=\"text-align: left;\">\n",
              "      <th>epoch</th>\n",
              "      <th>train_loss</th>\n",
              "      <th>valid_loss</th>\n",
              "      <th>accuracy</th>\n",
              "      <th>time</th>\n",
              "    </tr>\n",
              "  </thead>\n",
              "  <tbody>\n",
              "    <tr>\n",
              "      <td>0</td>\n",
              "      <td>4.550877</td>\n",
              "      <td>4.487486</td>\n",
              "      <td>0.263349</td>\n",
              "      <td>23:28</td>\n",
              "    </tr>\n",
              "    <tr>\n",
              "      <td>1</td>\n",
              "      <td>4.259408</td>\n",
              "      <td>4.201203</td>\n",
              "      <td>0.293905</td>\n",
              "      <td>23:27</td>\n",
              "    </tr>\n",
              "  </tbody>\n",
              "</table>"
            ],
            "text/plain": [
              "<IPython.core.display.HTML object>"
            ]
          },
          "metadata": {
            "tags": []
          }
        }
      ]
    },
    {
      "cell_type": "code",
      "metadata": {
        "id": "7uCupSMV_k_J",
        "colab_type": "code",
        "outputId": "c80cb619-39b7-483d-cb69-7733fa4ee5bf",
        "colab": {
          "base_uri": "https://localhost:8080/",
          "height": 107
        }
      },
      "source": [
        "learn.fit_one_cycle(2, 1e-2)\n",
        "learn.save('AA_wiki_subword_lm_body_6')"
      ],
      "execution_count": 0,
      "outputs": [
        {
          "output_type": "display_data",
          "data": {
            "text/html": [
              "<table border=\"1\" class=\"dataframe\">\n",
              "  <thead>\n",
              "    <tr style=\"text-align: left;\">\n",
              "      <th>epoch</th>\n",
              "      <th>train_loss</th>\n",
              "      <th>valid_loss</th>\n",
              "      <th>accuracy</th>\n",
              "      <th>time</th>\n",
              "    </tr>\n",
              "  </thead>\n",
              "  <tbody>\n",
              "    <tr>\n",
              "      <td>0</td>\n",
              "      <td>4.520964</td>\n",
              "      <td>4.460174</td>\n",
              "      <td>0.265634</td>\n",
              "      <td>23:28</td>\n",
              "    </tr>\n",
              "    <tr>\n",
              "      <td>1</td>\n",
              "      <td>4.249434</td>\n",
              "      <td>4.180352</td>\n",
              "      <td>0.296148</td>\n",
              "      <td>23:28</td>\n",
              "    </tr>\n",
              "  </tbody>\n",
              "</table>"
            ],
            "text/plain": [
              "<IPython.core.display.HTML object>"
            ]
          },
          "metadata": {
            "tags": []
          }
        }
      ]
    },
    {
      "cell_type": "code",
      "metadata": {
        "id": "qRFTK3pU_k6f",
        "colab_type": "code",
        "outputId": "a84007a9-c859-484f-a05d-b0fce515498c",
        "colab": {
          "base_uri": "https://localhost:8080/",
          "height": 107
        }
      },
      "source": [
        "learn.fit_one_cycle(2, 1e-3) #because the loss is oscillating\n",
        "learn.save('AA_wiki_subword_lm_body_7')"
      ],
      "execution_count": 0,
      "outputs": [
        {
          "output_type": "display_data",
          "data": {
            "text/html": [
              "<table border=\"1\" class=\"dataframe\">\n",
              "  <thead>\n",
              "    <tr style=\"text-align: left;\">\n",
              "      <th>epoch</th>\n",
              "      <th>train_loss</th>\n",
              "      <th>valid_loss</th>\n",
              "      <th>accuracy</th>\n",
              "      <th>time</th>\n",
              "    </tr>\n",
              "  </thead>\n",
              "  <tbody>\n",
              "    <tr>\n",
              "      <td>0</td>\n",
              "      <td>4.135206</td>\n",
              "      <td>4.145817</td>\n",
              "      <td>0.299253</td>\n",
              "      <td>23:27</td>\n",
              "    </tr>\n",
              "    <tr>\n",
              "      <td>1</td>\n",
              "      <td>4.042067</td>\n",
              "      <td>4.120842</td>\n",
              "      <td>0.302177</td>\n",
              "      <td>23:25</td>\n",
              "    </tr>\n",
              "  </tbody>\n",
              "</table>"
            ],
            "text/plain": [
              "<IPython.core.display.HTML object>"
            ]
          },
          "metadata": {
            "tags": []
          }
        }
      ]
    },
    {
      "cell_type": "code",
      "metadata": {
        "id": "OR54p84MEuNm",
        "colab_type": "code",
        "outputId": "5114beb5-71e2-423b-bc5a-de1bbde79ba6",
        "colab": {
          "base_uri": "https://localhost:8080/",
          "height": 107
        }
      },
      "source": [
        "learn.fit_one_cycle(2, 1e-3)\n",
        "learn.save('AA_wiki_subword_lm_body_8')"
      ],
      "execution_count": 0,
      "outputs": [
        {
          "output_type": "display_data",
          "data": {
            "text/html": [
              "<table border=\"1\" class=\"dataframe\">\n",
              "  <thead>\n",
              "    <tr style=\"text-align: left;\">\n",
              "      <th>epoch</th>\n",
              "      <th>train_loss</th>\n",
              "      <th>valid_loss</th>\n",
              "      <th>accuracy</th>\n",
              "      <th>time</th>\n",
              "    </tr>\n",
              "  </thead>\n",
              "  <tbody>\n",
              "    <tr>\n",
              "      <td>0</td>\n",
              "      <td>4.110393</td>\n",
              "      <td>4.118984</td>\n",
              "      <td>0.302080</td>\n",
              "      <td>23:26</td>\n",
              "    </tr>\n",
              "    <tr>\n",
              "      <td>1</td>\n",
              "      <td>3.968954</td>\n",
              "      <td>4.097110</td>\n",
              "      <td>0.304925</td>\n",
              "      <td>23:23</td>\n",
              "    </tr>\n",
              "  </tbody>\n",
              "</table>"
            ],
            "text/plain": [
              "<IPython.core.display.HTML object>"
            ]
          },
          "metadata": {
            "tags": []
          }
        }
      ]
    },
    {
      "cell_type": "code",
      "metadata": {
        "id": "tlQit_89EuJh",
        "colab_type": "code",
        "outputId": "c8b74c18-49a8-4e37-e27e-46ac049f6cac",
        "colab": {
          "base_uri": "https://localhost:8080/",
          "height": 107
        }
      },
      "source": [
        "learn.fit_one_cycle(2, 1e-3)\n",
        "learn.save('AA_wiki_subword_lm_body_9')"
      ],
      "execution_count": 0,
      "outputs": [
        {
          "output_type": "display_data",
          "data": {
            "text/html": [
              "<table border=\"1\" class=\"dataframe\">\n",
              "  <thead>\n",
              "    <tr style=\"text-align: left;\">\n",
              "      <th>epoch</th>\n",
              "      <th>train_loss</th>\n",
              "      <th>valid_loss</th>\n",
              "      <th>accuracy</th>\n",
              "      <th>time</th>\n",
              "    </tr>\n",
              "  </thead>\n",
              "  <tbody>\n",
              "    <tr>\n",
              "      <td>0</td>\n",
              "      <td>4.040770</td>\n",
              "      <td>4.101536</td>\n",
              "      <td>0.303871</td>\n",
              "      <td>23:28</td>\n",
              "    </tr>\n",
              "    <tr>\n",
              "      <td>1</td>\n",
              "      <td>4.052423</td>\n",
              "      <td>4.080987</td>\n",
              "      <td>0.306699</td>\n",
              "      <td>23:27</td>\n",
              "    </tr>\n",
              "  </tbody>\n",
              "</table>"
            ],
            "text/plain": [
              "<IPython.core.display.HTML object>"
            ]
          },
          "metadata": {
            "tags": []
          }
        }
      ]
    },
    {
      "cell_type": "code",
      "metadata": {
        "id": "QLOXAGfFgE-7",
        "colab_type": "code",
        "outputId": "e06375e4-7a21-401e-a8fb-36964c4551c3",
        "colab": {
          "base_uri": "https://localhost:8080/",
          "height": 107
        }
      },
      "source": [
        "learn.fit_one_cycle(2, 1e-3)\n",
        "learn.save('AA_wiki_subword_lm_body_10')"
      ],
      "execution_count": 0,
      "outputs": [
        {
          "output_type": "display_data",
          "data": {
            "text/html": [
              "<table border=\"1\" class=\"dataframe\">\n",
              "  <thead>\n",
              "    <tr style=\"text-align: left;\">\n",
              "      <th>epoch</th>\n",
              "      <th>train_loss</th>\n",
              "      <th>valid_loss</th>\n",
              "      <th>accuracy</th>\n",
              "      <th>time</th>\n",
              "    </tr>\n",
              "  </thead>\n",
              "  <tbody>\n",
              "    <tr>\n",
              "      <td>0</td>\n",
              "      <td>4.028419</td>\n",
              "      <td>4.089589</td>\n",
              "      <td>0.305448</td>\n",
              "      <td>23:26</td>\n",
              "    </tr>\n",
              "    <tr>\n",
              "      <td>1</td>\n",
              "      <td>3.991813</td>\n",
              "      <td>4.068210</td>\n",
              "      <td>0.308125</td>\n",
              "      <td>23:27</td>\n",
              "    </tr>\n",
              "  </tbody>\n",
              "</table>"
            ],
            "text/plain": [
              "<IPython.core.display.HTML object>"
            ]
          },
          "metadata": {
            "tags": []
          }
        }
      ]
    },
    {
      "cell_type": "code",
      "metadata": {
        "id": "Dbrn4yX4gE6_",
        "colab_type": "code",
        "outputId": "28b60dd7-220e-41e7-ed7e-9893603a99a1",
        "colab": {
          "base_uri": "https://localhost:8080/",
          "height": 107
        }
      },
      "source": [
        "learn.fit_one_cycle(2, 1e-3)\n",
        "learn.save('AA_wiki_subword_lm_body_11')"
      ],
      "execution_count": 0,
      "outputs": [
        {
          "output_type": "display_data",
          "data": {
            "text/html": [
              "<table border=\"1\" class=\"dataframe\">\n",
              "  <thead>\n",
              "    <tr style=\"text-align: left;\">\n",
              "      <th>epoch</th>\n",
              "      <th>train_loss</th>\n",
              "      <th>valid_loss</th>\n",
              "      <th>accuracy</th>\n",
              "      <th>time</th>\n",
              "    </tr>\n",
              "  </thead>\n",
              "  <tbody>\n",
              "    <tr>\n",
              "      <td>0</td>\n",
              "      <td>4.048450</td>\n",
              "      <td>4.081283</td>\n",
              "      <td>0.306322</td>\n",
              "      <td>23:26</td>\n",
              "    </tr>\n",
              "    <tr>\n",
              "      <td>1</td>\n",
              "      <td>3.966646</td>\n",
              "      <td>4.057884</td>\n",
              "      <td>0.309220</td>\n",
              "      <td>23:27</td>\n",
              "    </tr>\n",
              "  </tbody>\n",
              "</table>"
            ],
            "text/plain": [
              "<IPython.core.display.HTML object>"
            ]
          },
          "metadata": {
            "tags": []
          }
        }
      ]
    },
    {
      "cell_type": "code",
      "metadata": {
        "id": "B4ux6QoaI7k6",
        "colab_type": "code",
        "colab": {}
      },
      "source": [
        "learn.load('AA_wiki_subword_lm_body_11')\n",
        "learn.save_encoder('AA_subword_lm_enc')"
      ],
      "execution_count": 0,
      "outputs": []
    },
    {
      "cell_type": "markdown",
      "metadata": {
        "colab_type": "text",
        "id": "wj99JFQ3Y0AD"
      },
      "source": [
        "#### Classifier (our AA)"
      ]
    },
    {
      "cell_type": "code",
      "metadata": {
        "colab_type": "code",
        "id": "lTjcjxuEY0AJ",
        "colab": {}
      },
      "source": [
        "data_clas = load_data(aa, 'AA_subword_wiki_clas.pkl',bs=bs)\n",
        "learn_cls = text_classifier_learner(data_clas, AWD_LSTM, drop_mult=0.5, pretrained=False)\n",
        "learn_cls.load_encoder('AA_wiki_subword_lm_enc')"
      ],
      "execution_count": 0,
      "outputs": []
    },
    {
      "cell_type": "code",
      "metadata": {
        "colab_type": "code",
        "id": "mLmTZU6gY0AN",
        "colab": {
          "base_uri": "https://localhost:8080/",
          "height": 281
        },
        "outputId": "7d30e3a2-a755-45fa-c517-b17d1e73f0e0"
      },
      "source": [
        "data_clas.show_batch()"
      ],
      "execution_count": 19,
      "outputs": [
        {
          "output_type": "display_data",
          "data": {
            "text/html": [
              "<table border=\"1\" class=\"dataframe\">\n",
              "  <thead>\n",
              "    <tr style=\"text-align: right;\">\n",
              "      <th>text</th>\n",
              "      <th>target</th>\n",
              "    </tr>\n",
              "  </thead>\n",
              "  <tbody>\n",
              "    <tr>\n",
              "      <td>▁xx bo s ▁নির্ বি ঘ্ন ে ▁নিষ্ ক্রান্ত ▁হই লেন । ▁বিমলা ▁ফটক ▁হইতে ▁কি য় দ্ দূর ▁গমন ▁করিয়া ▁দেখি লেন ▁যে , ▁একজন ▁পুরুষ ▁এক ▁বৃক্ষ তলে ▁দাঁড় াইয়া ▁আছেন । ▁দৃষ্টি মাত্র ▁বিমলা ▁ তাঁ হা কে ▁অভি রাম ▁স্বামী ▁বল িয়া ▁চিনি তে ▁পারি লেন । ▁বিমলা ▁তাঁহার ▁নিকট ▁যাই বা মাত্র ▁অভি রাম ▁স্বামী ▁ ক হি লেন , ▁“ আমি ▁বড় ই ▁উদ্বিগ্ন</td>\n",
              "      <td>bongkim</td>\n",
              "    </tr>\n",
              "    <tr>\n",
              "      <td>▁xx bo s ▁বিশাল া ক্ষি ▁ভক্ত ানা মার্ ত্তি নাশ িনি ▁ । ▁ ন মা মি ▁শির সা ▁দেবী ং ▁বন্ধ নো হ স্তু ▁বি ম োচিত ঃ ▁ । । 14 ▁xx rep ▁6 ▁— ▁– ▁14 ▁আর্য ্যা স্তো ত্র ▁দেখ ▁দ্বাদশ ▁সংখ্যা - একটি ▁গীত ▁“ শো ন্ ▁ প্রসন্ন , ▁তো কে ▁একটি ▁গীত ▁শু নাই ব । ” ▁ প্রসন্ন ▁গোয়াল িনী ▁বলি</td>\n",
              "      <td>bongkim</td>\n",
              "    </tr>\n",
              "    <tr>\n",
              "      <td>▁xx bo s ▁সম্রাটের া ▁যে রূপ ▁পারি ষ দ মণ্ডলী ▁মধ্যে ▁আমোদ - পরায়ণ ▁থাকি তেন , ▁কত লু ▁খাঁর ▁সে রূপ ▁ছিল ▁না । ▁কত লু ▁খাঁর ▁ চিত্ত ▁একান্ত ▁আত্ম সুখ রত , ▁ইন্দ্রিয় তৃপ্তি র ▁অভি লা ষী । ▁অ দ্য ▁রাত্রে ▁তিনি ▁একাকী ▁নিজ ▁ বিলাস - গৃহ নি বাসিনী গণ ে ▁পরিবেষ্টিত ▁হইয়া ▁তাহা দি গের ▁নৃত্য গীত ▁কৌতুক ে ▁ মত্ত ▁ছিলেন ।</td>\n",
              "      <td>bongkim</td>\n",
              "    </tr>\n",
              "    <tr>\n",
              "      <td>▁xx bo s ▁তান - লয় ের ▁পরিবর্তন ▁দেখা ইল । ▁তারপর ▁সহ সা ▁বাঁশি ▁ স্ত ব্ধ ▁হইল । ▁“ বাঁশ ি ▁কি ▁বলি ল ? ” ▁সোম দ ত্তা ▁যেন ▁ ত ন্দ্রা র ▁ঘোর ▁হইতে ▁জা গিয়া ▁উ ঠি ল । ▁অতি ▁দীর্ঘ ▁এক ▁নি শ্বাস ▁ত্যাগ ▁করিয়া ▁ ক হিল , ▁“ তুমি ▁যা হা ▁চাও ▁পাই বে । ▁ চন্দ ্ৰ বর্ মা ▁তো মা</td>\n",
              "      <td>shordindu</td>\n",
              "    </tr>\n",
              "    <tr>\n",
              "      <td>▁xx bo s ▁দেখি তে ▁আ সিল । ▁সুন্দরী ▁শৈব লি নীর ▁মৃত্যু সম্ বাদ ▁শু নিয়া ▁নিতান্ত ▁দুঃখ িতা ▁হইল , ▁কিন্তু ▁বলি ল , ▁“ যা হা ▁হই বার ▁তাহা ▁হইয়া ছে । ▁কিন্তু ▁শৈব লিন ী ▁এখন ▁সুখী ▁হইল । ▁তাহার ▁বাঁচা ▁অপেক্ষা ▁মরা ই ▁যে ▁সুখ ের , ▁তা ▁আর ▁কোন্ ▁মুখে ▁না ▁বলি ব ? ” ▁প্রতাপ , ▁রূপ সী ▁ও ▁সুন্দরী র ▁সাক্ষাতের ▁পর</td>\n",
              "      <td>bongkim</td>\n",
              "    </tr>\n",
              "  </tbody>\n",
              "</table>"
            ],
            "text/plain": [
              "<IPython.core.display.HTML object>"
            ]
          },
          "metadata": {
            "tags": []
          }
        }
      ]
    },
    {
      "cell_type": "code",
      "metadata": {
        "id": "kTkXdROKzWJw",
        "colab_type": "code",
        "colab": {
          "base_uri": "https://localhost:8080/",
          "height": 34
        },
        "outputId": "36b9e850-9134-4a3d-f223-e0103b6aa3a2"
      },
      "source": [
        "len(data_clas.y.classes)"
      ],
      "execution_count": 20,
      "outputs": [
        {
          "output_type": "execute_result",
          "data": {
            "text/plain": [
              "16"
            ]
          },
          "metadata": {
            "tags": []
          },
          "execution_count": 20
        }
      ]
    },
    {
      "cell_type": "code",
      "metadata": {
        "colab_type": "code",
        "id": "3G72h0tfY0AQ",
        "colab": {
          "base_uri": "https://localhost:8080/",
          "height": 300
        },
        "outputId": "9b551fe6-622e-44c2-d3a0-b3c33df28325"
      },
      "source": [
        "learn_cls.freeze()\n",
        "learn_cls.lr_find()\n",
        "learn_cls.recorder.plot()"
      ],
      "execution_count": 18,
      "outputs": [
        {
          "output_type": "display_data",
          "data": {
            "text/html": [
              ""
            ],
            "text/plain": [
              "<IPython.core.display.HTML object>"
            ]
          },
          "metadata": {
            "tags": []
          }
        },
        {
          "output_type": "stream",
          "text": [
            "LR Finder is complete, type {learner_name}.recorder.plot() to see the graph.\n"
          ],
          "name": "stdout"
        },
        {
          "output_type": "display_data",
          "data": {
            "image/png": "[encoded data removed]",
            "text/plain": [
              "<Figure size 432x288 with 1 Axes>"
            ]
          },
          "metadata": {
            "tags": []
          }
        }
      ]
    },
    {
      "cell_type": "code",
      "metadata": {
        "colab_type": "code",
        "id": "gGe314jnY0AT",
        "colab": {
          "base_uri": "https://localhost:8080/",
          "height": 107
        },
        "outputId": "84bc240b-24b2-47af-d066-74c843814ad7"
      },
      "source": [
        "learn_cls.fit_one_cycle(2, 1e-2, moms=(0.8,0.7))\n",
        "learn_cls.save('wiki_subword_cls_1')"
      ],
      "execution_count": 22,
      "outputs": [
        {
          "output_type": "display_data",
          "data": {
            "text/html": [
              "<table border=\"1\" class=\"dataframe\">\n",
              "  <thead>\n",
              "    <tr style=\"text-align: left;\">\n",
              "      <th>epoch</th>\n",
              "      <th>train_loss</th>\n",
              "      <th>valid_loss</th>\n",
              "      <th>accuracy</th>\n",
              "      <th>time</th>\n",
              "    </tr>\n",
              "  </thead>\n",
              "  <tbody>\n",
              "    <tr>\n",
              "      <td>0</td>\n",
              "      <td>0.091270</td>\n",
              "      <td>0.029695</td>\n",
              "      <td>0.990609</td>\n",
              "      <td>13:55</td>\n",
              "    </tr>\n",
              "    <tr>\n",
              "      <td>1</td>\n",
              "      <td>0.045557</td>\n",
              "      <td>0.018312</td>\n",
              "      <td>0.996522</td>\n",
              "      <td>13:55</td>\n",
              "    </tr>\n",
              "  </tbody>\n",
              "</table>"
            ],
            "text/plain": [
              "<IPython.core.display.HTML object>"
            ]
          },
          "metadata": {
            "tags": []
          }
        }
      ]
    },
    {
      "cell_type": "code",
      "metadata": {
        "colab_type": "code",
        "id": "eXwXu5piY0AY",
        "colab": {
          "base_uri": "https://localhost:8080/",
          "height": 107
        },
        "outputId": "e6c3f024-4bf3-4c8e-9af9-45ff8c14c37b"
      },
      "source": [
        "learn_cls.load('wiki_subword_cls_1')\n",
        "learn_cls.freeze_to(-2)\n",
        "learn_cls.fit_one_cycle(2 , slice(1e-2/(2.6**4),1e-2), moms=(0.8,0.7))\n",
        "learn_cls.save('wiki_subword_cls_2')"
      ],
      "execution_count": 23,
      "outputs": [
        {
          "output_type": "display_data",
          "data": {
            "text/html": [
              "<table border=\"1\" class=\"dataframe\">\n",
              "  <thead>\n",
              "    <tr style=\"text-align: left;\">\n",
              "      <th>epoch</th>\n",
              "      <th>train_loss</th>\n",
              "      <th>valid_loss</th>\n",
              "      <th>accuracy</th>\n",
              "      <th>time</th>\n",
              "    </tr>\n",
              "  </thead>\n",
              "  <tbody>\n",
              "    <tr>\n",
              "      <td>0</td>\n",
              "      <td>0.060987</td>\n",
              "      <td>0.019579</td>\n",
              "      <td>0.995130</td>\n",
              "      <td>15:50</td>\n",
              "    </tr>\n",
              "    <tr>\n",
              "      <td>1</td>\n",
              "      <td>0.019999</td>\n",
              "      <td>0.014673</td>\n",
              "      <td>0.996522</td>\n",
              "      <td>15:52</td>\n",
              "    </tr>\n",
              "  </tbody>\n",
              "</table>"
            ],
            "text/plain": [
              "<IPython.core.display.HTML object>"
            ]
          },
          "metadata": {
            "tags": []
          }
        }
      ]
    },
    {
      "cell_type": "code",
      "metadata": {
        "colab_type": "code",
        "id": "k4dgTk_2Y0Ad",
        "colab": {
          "base_uri": "https://localhost:8080/",
          "height": 107
        },
        "outputId": "36b6f50e-3770-457f-9d5c-3208df6fb934"
      },
      "source": [
        "learn_cls.load('wiki_subword_cls_2')\n",
        "learn_cls.freeze_to(-3)\n",
        "learn_cls.fit_one_cycle(2, slice(5e-3/(2.6**4),5e-3), moms=(0.8,0.7))\n",
        "learn_cls.save('wiki_subword_cls_3')"
      ],
      "execution_count": 24,
      "outputs": [
        {
          "output_type": "display_data",
          "data": {
            "text/html": [
              "<table border=\"1\" class=\"dataframe\">\n",
              "  <thead>\n",
              "    <tr style=\"text-align: left;\">\n",
              "      <th>epoch</th>\n",
              "      <th>train_loss</th>\n",
              "      <th>valid_loss</th>\n",
              "      <th>accuracy</th>\n",
              "      <th>time</th>\n",
              "    </tr>\n",
              "  </thead>\n",
              "  <tbody>\n",
              "    <tr>\n",
              "      <td>0</td>\n",
              "      <td>0.020911</td>\n",
              "      <td>0.015503</td>\n",
              "      <td>0.996870</td>\n",
              "      <td>24:01</td>\n",
              "    </tr>\n",
              "    <tr>\n",
              "      <td>1</td>\n",
              "      <td>0.007645</td>\n",
              "      <td>0.013167</td>\n",
              "      <td>0.997565</td>\n",
              "      <td>23:32</td>\n",
              "    </tr>\n",
              "  </tbody>\n",
              "</table>"
            ],
            "text/plain": [
              "<IPython.core.display.HTML object>"
            ]
          },
          "metadata": {
            "tags": []
          }
        }
      ]
    },
    {
      "cell_type": "code",
      "metadata": {
        "colab_type": "code",
        "id": "VQrxOaODY0Ag",
        "colab": {
          "base_uri": "https://localhost:8080/",
          "height": 107
        },
        "outputId": "d69e4128-eb3d-4b47-98e8-3728c157b8f9"
      },
      "source": [
        "learn_cls.load('wiki_subword_cls_3')\n",
        "learn_cls.unfreeze()\n",
        "learn_cls.fit_one_cycle(2, slice(1e-3/(2.6**4),1e-3), moms=(0.8,0.7))\n",
        "learn_cls.save('wiki_subword_cls_4')"
      ],
      "execution_count": 25,
      "outputs": [
        {
          "output_type": "display_data",
          "data": {
            "text/html": [
              "<table border=\"1\" class=\"dataframe\">\n",
              "  <thead>\n",
              "    <tr style=\"text-align: left;\">\n",
              "      <th>epoch</th>\n",
              "      <th>train_loss</th>\n",
              "      <th>valid_loss</th>\n",
              "      <th>accuracy</th>\n",
              "      <th>time</th>\n",
              "    </tr>\n",
              "  </thead>\n",
              "  <tbody>\n",
              "    <tr>\n",
              "      <td>0</td>\n",
              "      <td>0.007565</td>\n",
              "      <td>0.013097</td>\n",
              "      <td>0.997565</td>\n",
              "      <td>30:09</td>\n",
              "    </tr>\n",
              "    <tr>\n",
              "      <td>1</td>\n",
              "      <td>0.004535</td>\n",
              "      <td>0.014359</td>\n",
              "      <td>0.997217</td>\n",
              "      <td>30:25</td>\n",
              "    </tr>\n",
              "  </tbody>\n",
              "</table>"
            ],
            "text/plain": [
              "<IPython.core.display.HTML object>"
            ]
          },
          "metadata": {
            "tags": []
          }
        }
      ]
    },
    {
      "cell_type": "code",
      "metadata": {
        "colab_type": "code",
        "id": "1Om_FMUhY0An",
        "colab": {
          "base_uri": "https://localhost:8080/",
          "height": 107
        },
        "outputId": "469ffe70-8e9a-4b17-ba66-689eacd0fb9e"
      },
      "source": [
        "learn_cls.load('wiki_subword_cls_4')\n",
        "learn_cls.unfreeze()\n",
        "learn_cls.fit_one_cycle(2, slice(1e-3/(2.6**4),1e-3), moms=(0.8,0.7))\n",
        "learn_cls.save('wiki_subword_cls_5')"
      ],
      "execution_count": 26,
      "outputs": [
        {
          "output_type": "display_data",
          "data": {
            "text/html": [
              "<table border=\"1\" class=\"dataframe\">\n",
              "  <thead>\n",
              "    <tr style=\"text-align: left;\">\n",
              "      <th>epoch</th>\n",
              "      <th>train_loss</th>\n",
              "      <th>valid_loss</th>\n",
              "      <th>accuracy</th>\n",
              "      <th>time</th>\n",
              "    </tr>\n",
              "  </thead>\n",
              "  <tbody>\n",
              "    <tr>\n",
              "      <td>0</td>\n",
              "      <td>0.007769</td>\n",
              "      <td>0.012623</td>\n",
              "      <td>0.997565</td>\n",
              "      <td>30:16</td>\n",
              "    </tr>\n",
              "    <tr>\n",
              "      <td>1</td>\n",
              "      <td>0.002741</td>\n",
              "      <td>0.012767</td>\n",
              "      <td>0.997913</td>\n",
              "      <td>30:41</td>\n",
              "    </tr>\n",
              "  </tbody>\n",
              "</table>"
            ],
            "text/plain": [
              "<IPython.core.display.HTML object>"
            ]
          },
          "metadata": {
            "tags": []
          }
        }
      ]
    },
    {
      "cell_type": "code",
      "metadata": {
        "id": "7UGd1NFfdkpV",
        "colab_type": "code",
        "colab": {
          "base_uri": "https://localhost:8080/",
          "height": 107
        },
        "outputId": "c233c0c2-368a-4da2-a580-476f3831f567"
      },
      "source": [
        "learn_cls.fit_one_cycle(2, slice(1e-3/(2.6**4),1e-3), moms=(0.8,0.7))\n",
        "learn_cls.save('wiki_subword_cls_6') ##loss increased, so cant use"
      ],
      "execution_count": 27,
      "outputs": [
        {
          "output_type": "display_data",
          "data": {
            "text/html": [
              "<table border=\"1\" class=\"dataframe\">\n",
              "  <thead>\n",
              "    <tr style=\"text-align: left;\">\n",
              "      <th>epoch</th>\n",
              "      <th>train_loss</th>\n",
              "      <th>valid_loss</th>\n",
              "      <th>accuracy</th>\n",
              "      <th>time</th>\n",
              "    </tr>\n",
              "  </thead>\n",
              "  <tbody>\n",
              "    <tr>\n",
              "      <td>0</td>\n",
              "      <td>0.002520</td>\n",
              "      <td>0.014938</td>\n",
              "      <td>0.997217</td>\n",
              "      <td>30:31</td>\n",
              "    </tr>\n",
              "    <tr>\n",
              "      <td>1</td>\n",
              "      <td>0.003455</td>\n",
              "      <td>0.013572</td>\n",
              "      <td>0.998261</td>\n",
              "      <td>30:29</td>\n",
              "    </tr>\n",
              "  </tbody>\n",
              "</table>"
            ],
            "text/plain": [
              "<IPython.core.display.HTML object>"
            ]
          },
          "metadata": {
            "tags": []
          }
        }
      ]
    },
    {
      "cell_type": "code",
      "metadata": {
        "id": "RgF1UjYK2D0A",
        "colab_type": "code",
        "colab": {}
      },
      "source": [
        "learn_cls.load('wiki_subword_cls_5');"
      ],
      "execution_count": 0,
      "outputs": []
    },
    {
      "cell_type": "code",
      "metadata": {
        "colab_type": "code",
        "id": "b_cRYtoAY0At",
        "colab": {}
      },
      "source": [
        "def testing(dts):\n",
        "  df = pd.read_csv(dts) \n",
        "  text_array = df[\"text\"].tolist()\n",
        "  print(len(text_array))\n",
        "\n",
        "  final_preds = []\n",
        "\n",
        "  for text in text_array:\n",
        "      preds = learn_cls.predict(text)\n",
        "      final_preds.append(str(preds[0]))\n",
        "\n",
        "  targets = df[\"label\"].tolist()\n",
        "\n",
        "  err=[]\n",
        "  count =0;\n",
        "  tst = len(text_array)\n",
        "\n",
        "  for i in range(tst):\n",
        "      if(targets[i]==final_preds[i]):\n",
        "          count = count+1\n",
        "      else:\n",
        "  #         print(targets[i] + \", \" + final_preds[i] + ';')\n",
        "          err.append((targets[i],final_preds[i]))\n",
        "  print(\"Accuracy: \")\n",
        "  print(count/tst)\n",
        "  print(err)\n",
        "  return final_preds, targets"
      ],
      "execution_count": 0,
      "outputs": []
    },
    {
      "cell_type": "code",
      "metadata": {
        "colab_type": "code",
        "id": "2-_wPq4dDYL3",
        "colab": {
          "base_uri": "https://localhost:8080/",
          "height": 107
        },
        "outputId": "9d94072c-9834-462f-80ed-896167dac4e1"
      },
      "source": [
        "pred,targ = testing(aa/'OurDataset_test.csv')"
      ],
      "execution_count": 33,
      "outputs": [
        {
          "output_type": "stream",
          "text": [
            "3592\n",
            "Accuracy: \n",
            "0.9972160356347439\n",
            "[('robindronath', 'bongkim'), ('shordindu', 'shirshendu'), ('shordindu', 'bongkim'), ('shottojit_roy', 'shunil_gongopaddhay'), ('manik_bandhopaddhay', 'shirshendu'), ('humayun_ahmed', 'MZI'), ('manik_bandhopaddhay', 'shunil_gongopaddhay'), ('shordindu', 'bongkim'), ('humayun_ahmed', 'MZI'), ('shirshendu', 'humayun_ahmed')]\n"
          ],
          "name": "stdout"
        }
      ]
    },
    {
      "cell_type": "code",
      "metadata": {
        "colab_type": "code",
        "id": "46WXP8CIDYL_",
        "colab": {
          "base_uri": "https://localhost:8080/",
          "height": 34
        },
        "outputId": "283ed8ab-1a4c-4e0b-8da6-62e388769ba2"
      },
      "source": [
        "from sklearn.metrics import f1_score\n",
        "out  = f1_score(targ, pred, average='weighted')\n",
        "out"
      ],
      "execution_count": 34,
      "outputs": [
        {
          "output_type": "execute_result",
          "data": {
            "text/plain": [
              "0.9972169971121483"
            ]
          },
          "metadata": {
            "tags": []
          },
          "execution_count": 34
        }
      ]
    },
    {
      "cell_type": "code",
      "metadata": {
        "id": "4k2PVU_x-QER",
        "colab_type": "code",
        "outputId": "868c7fc6-b451-4353-c65f-514260ca7898",
        "colab": {
          "base_uri": "https://localhost:8080/",
          "height": 176
        }
      },
      "source": [
        "from sklearn.metrics import confusion_matrix\n",
        "cm=confusion_matrix(targ, pred)\n",
        "print(cm)"
      ],
      "execution_count": 35,
      "outputs": [
        {
          "output_type": "stream",
          "text": [
            "[[220   0   0   0 ...   0   0   0   0]\n",
            " [  0 112   0   0 ...   0   0   0   0]\n",
            " [  2   0 904   0 ...   0   0   0   0]\n",
            " [  0   0   0  91 ...   1   0   0   0]\n",
            " ...\n",
            " [  0   0   0   0 ... 393   0   0   0]\n",
            " [  0   0   0   0 ...   0 155   0   0]\n",
            " [  0   0   0   0 ...   0   0 186   0]\n",
            " [  0   0   0   0 ...   0   0   0  37]]\n"
          ],
          "name": "stdout"
        }
      ]
    },
    {
      "cell_type": "code",
      "metadata": {
        "id": "GHu7TInI-Fkq",
        "colab_type": "code",
        "outputId": "ee2c4197-a073-4d2b-fa21-83ab216cb092",
        "colab": {
          "base_uri": "https://localhost:8080/",
          "height": 442
        }
      },
      "source": [
        "import seaborn as sn\n",
        "\n",
        "df_cm = pd.DataFrame(cm, range(16),range(16))\n",
        "plt.figure(figsize = (10,7))\n",
        "sn.set(font_scale=1.4)#for label size\n",
        "sn.heatmap(df_cm, annot=True,annot_kws={\"size\": 16},fmt='g',cmap=\"YlGnBu\")# font size\n",
        "\n",
        "import matplotlib.pyplot as plt\n",
        "plt.savefig('wiki_subword_AA.eps')"
      ],
      "execution_count": 36,
      "outputs": [
        {
          "output_type": "display_data",
          "data": {
            "image/png": "[encoded data removed]",
            "text/plain": [
              "<Figure size 720x504 with 2 Axes>"
            ]
          },
          "metadata": {
            "tags": []
          }
        }
      ]
    },
    {
      "cell_type": "code",
      "metadata": {
        "id": "N-l4qoB02Xuz",
        "colab_type": "code",
        "colab": {}
      },
      "source": [
        "from google.colab import files\n",
        "files.download('wiki_subword_AA.eps')"
      ],
      "execution_count": 0,
      "outputs": []
    },
    {
      "cell_type": "code",
      "metadata": {
        "id": "O0PYe-Rh3er4",
        "colab_type": "code",
        "colab": {}
      },
      "source": [
        ""
      ],
      "execution_count": 0,
      "outputs": []
    }
  ]
}