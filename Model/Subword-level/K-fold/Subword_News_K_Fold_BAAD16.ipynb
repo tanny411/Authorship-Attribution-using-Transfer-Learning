{
  "cells": [
    {
      "cell_type": "markdown",
      "metadata": {
        "id": "cyIXs5lqo7J5"
      },
      "source": [
        "## Install and import"
      ]
    },
    {
      "cell_type": "code",
      "execution_count": null,
      "metadata": {
        "id": "ht3mOv6BWiqJ"
      },
      "outputs": [],
      "source": [
        "!pip install sentencepiece\n",
        "!pip install tf_sentencepiece\n",
        "!pip install fastai==1.0.52"
      ]
    },
    {
      "cell_type": "code",
      "execution_count": null,
      "metadata": {
        "id": "j-inF_79Wxe9"
      },
      "outputs": [],
      "source": [
        "from fastai import *\n",
        "from fastai.text import *\n",
        "import re\n",
        "import sentencepiece as spm\n",
        "from sklearn.metrics import confusion_matrix\n",
        "import seaborn as sn\n",
        "import matplotlib.pyplot as plt\n",
        "from google.colab import files\n",
        "from google.colab import drive\n",
        "import os\n",
        "from sklearn.model_selection import StratifiedKFold\n",
        "from sklearn.model_selection import train_test_split\n",
        "from sklearn.metrics import f1_score"
      ]
    },
    {
      "cell_type": "code",
      "execution_count": null,
      "metadata": {
        "colab": {
          "base_uri": "https://localhost:8080/"
        },
        "id": "wXPpaCSPWQtN",
        "outputId": "35306d3f-a545-4bc1-f28e-2369eb50c056"
      },
      "outputs": [
        {
          "output_type": "stream",
          "name": "stdout",
          "text": [
            "Mounted at /content/gdrive\n"
          ]
        }
      ],
      "source": [
        "drive._mount('/content/gdrive')"
      ]
    },
    {
      "cell_type": "code",
      "execution_count": null,
      "metadata": {
        "id": "x8ANn5M3Xc9C"
      },
      "outputs": [],
      "source": [
        "path = Path(os.getcwd())\n",
        "path = path/'gdrive'/'My Drive'\n",
        "news=path/'Thesis Data'/'full doc csv'\n",
        "aa=path/'Thesis Data'/'Our dataset'\n",
        "aa2=path/'Thesis Data'/'AA dataset'\n",
        "kfold16 = path/'Thesis Data'/'kfold'/'baad16'\n",
        "kfold6 = path/'Thesis Data'/'kfold'/'baad6'"
      ]
    },
    {
      "cell_type": "markdown",
      "metadata": {
        "id": "vSd6hQmPrwNP"
      },
      "source": [
        "### BAAD16"
      ]
    },
    {
      "cell_type": "code",
      "execution_count": null,
      "metadata": {
        "colab": {
          "base_uri": "https://localhost:8080/"
        },
        "id": "CaquQQI1piuK",
        "outputId": "805753aa-8c15-4088-9d07-46e9320ea56c"
      },
      "outputs": [
        {
          "output_type": "execute_result",
          "data": {
            "text/plain": [
              "(14374, 3592, 19.993320716909718)"
            ]
          },
          "metadata": {},
          "execution_count": 5
        }
      ],
      "source": [
        "baad16_train = pd.read_csv(aa/'OurDataset_train.csv')\n",
        "baad16_test = pd.read_csv(aa/'OurDataset_test.csv')\n",
        "len(baad16_train), len(baad16_test), len(baad16_test)*100/(len(baad16_train)+len(baad16_test)) ## each author is divided into splits"
      ]
    },
    {
      "cell_type": "code",
      "execution_count": null,
      "metadata": {
        "colab": {
          "base_uri": "https://localhost:8080/"
        },
        "id": "Vw4TVAtNSvMP",
        "outputId": "6fa88ec6-62f5-4dcf-8e15-f91eb29075bf"
      },
      "outputs": [
        {
          "output_type": "execute_result",
          "data": {
            "text/html": [
              "\n",
              "  <div id=\"df-894cb09f-05a8-42bd-b59a-c58ceecade15\">\n",
              "    <div class=\"colab-df-container\">\n",
              "      <div>\n",
              "<style scoped>\n",
              "    .dataframe tbody tr th:only-of-type {\n",
              "        vertical-align: middle;\n",
              "    }\n",
              "\n",
              "    .dataframe tbody tr th {\n",
              "        vertical-align: top;\n",
              "    }\n",
              "\n",
              "    .dataframe thead th {\n",
              "        text-align: right;\n",
              "    }\n",
              "</style>\n",
              "<table border=\"1\" class=\"dataframe\">\n",
              "  <thead>\n",
              "    <tr style=\"text-align: right;\">\n",
              "      <th></th>\n",
              "      <th>label</th>\n",
              "      <th>test</th>\n",
              "      <th>percent</th>\n",
              "    </tr>\n",
              "  </thead>\n",
              "  <tbody>\n",
              "    <tr>\n",
              "      <th>humayun_ahmed</th>\n",
              "      <td>3612</td>\n",
              "      <td>906</td>\n",
              "      <td>20.053</td>\n",
              "    </tr>\n",
              "    <tr>\n",
              "      <th>shunil_gongopaddhay</th>\n",
              "      <td>1570</td>\n",
              "      <td>393</td>\n",
              "      <td>20.020</td>\n",
              "    </tr>\n",
              "    <tr>\n",
              "      <th>shomresh</th>\n",
              "      <td>1126</td>\n",
              "      <td>282</td>\n",
              "      <td>20.028</td>\n",
              "    </tr>\n",
              "    <tr>\n",
              "      <th>shorotchandra</th>\n",
              "      <td>1051</td>\n",
              "      <td>261</td>\n",
              "      <td>19.893</td>\n",
              "    </tr>\n",
              "    <tr>\n",
              "      <th>robindronath</th>\n",
              "      <td>1007</td>\n",
              "      <td>252</td>\n",
              "      <td>20.016</td>\n",
              "    </tr>\n",
              "    <tr>\n",
              "      <th>MZI</th>\n",
              "      <td>880</td>\n",
              "      <td>220</td>\n",
              "      <td>20.000</td>\n",
              "    </tr>\n",
              "    <tr>\n",
              "      <th>shirshendu</th>\n",
              "      <td>838</td>\n",
              "      <td>210</td>\n",
              "      <td>20.038</td>\n",
              "    </tr>\n",
              "    <tr>\n",
              "      <th>toslima_nasrin</th>\n",
              "      <td>745</td>\n",
              "      <td>186</td>\n",
              "      <td>19.979</td>\n",
              "    </tr>\n",
              "    <tr>\n",
              "      <th>shordindu</th>\n",
              "      <td>711</td>\n",
              "      <td>177</td>\n",
              "      <td>19.932</td>\n",
              "    </tr>\n",
              "    <tr>\n",
              "      <th>shottojit_roy</th>\n",
              "      <td>680</td>\n",
              "      <td>169</td>\n",
              "      <td>19.906</td>\n",
              "    </tr>\n",
              "    <tr>\n",
              "      <th>tarashonkor</th>\n",
              "      <td>620</td>\n",
              "      <td>155</td>\n",
              "      <td>20.000</td>\n",
              "    </tr>\n",
              "    <tr>\n",
              "      <th>bongkim</th>\n",
              "      <td>450</td>\n",
              "      <td>112</td>\n",
              "      <td>19.929</td>\n",
              "    </tr>\n",
              "    <tr>\n",
              "      <th>nihar_ronjon_gupta</th>\n",
              "      <td>381</td>\n",
              "      <td>95</td>\n",
              "      <td>19.958</td>\n",
              "    </tr>\n",
              "    <tr>\n",
              "      <th>manik_bandhopaddhay</th>\n",
              "      <td>376</td>\n",
              "      <td>93</td>\n",
              "      <td>19.829</td>\n",
              "    </tr>\n",
              "    <tr>\n",
              "      <th>nazrul</th>\n",
              "      <td>179</td>\n",
              "      <td>44</td>\n",
              "      <td>19.731</td>\n",
              "    </tr>\n",
              "    <tr>\n",
              "      <th>zahir_rayhan</th>\n",
              "      <td>148</td>\n",
              "      <td>37</td>\n",
              "      <td>20.000</td>\n",
              "    </tr>\n",
              "  </tbody>\n",
              "</table>\n",
              "</div>\n",
              "      <button class=\"colab-df-convert\" onclick=\"convertToInteractive('df-894cb09f-05a8-42bd-b59a-c58ceecade15')\"\n",
              "              title=\"Convert this dataframe to an interactive table.\"\n",
              "              style=\"display:none;\">\n",
              "        \n",
              "  <svg xmlns=\"http://www.w3.org/2000/svg\" height=\"24px\"viewBox=\"0 0 24 24\"\n",
              "       width=\"24px\">\n",
              "    <path d=\"M0 0h24v24H0V0z\" fill=\"none\"/>\n",
              "    <path d=\"M18.56 5.44l.94 2.06.94-2.06 2.06-.94-2.06-.94-.94-2.06-.94 2.06-2.06.94zm-11 1L8.5 8.5l.94-2.06 2.06-.94-2.06-.94L8.5 2.5l-.94 2.06-2.06.94zm10 10l.94 2.06.94-2.06 2.06-.94-2.06-.94-.94-2.06-.94 2.06-2.06.94z\"/><path d=\"M17.41 7.96l-1.37-1.37c-.4-.4-.92-.59-1.43-.59-.52 0-1.04.2-1.43.59L10.3 9.45l-7.72 7.72c-.78.78-.78 2.05 0 2.83L4 21.41c.39.39.9.59 1.41.59.51 0 1.02-.2 1.41-.59l7.78-7.78 2.81-2.81c.8-.78.8-2.07 0-2.86zM5.41 20L4 18.59l7.72-7.72 1.47 1.35L5.41 20z\"/>\n",
              "  </svg>\n",
              "      </button>\n",
              "      \n",
              "  <style>\n",
              "    .colab-df-container {\n",
              "      display:flex;\n",
              "      flex-wrap:wrap;\n",
              "      gap: 12px;\n",
              "    }\n",
              "\n",
              "    .colab-df-convert {\n",
              "      background-color: #E8F0FE;\n",
              "      border: none;\n",
              "      border-radius: 50%;\n",
              "      cursor: pointer;\n",
              "      display: none;\n",
              "      fill: #1967D2;\n",
              "      height: 32px;\n",
              "      padding: 0 0 0 0;\n",
              "      width: 32px;\n",
              "    }\n",
              "\n",
              "    .colab-df-convert:hover {\n",
              "      background-color: #E2EBFA;\n",
              "      box-shadow: 0px 1px 2px rgba(60, 64, 67, 0.3), 0px 1px 3px 1px rgba(60, 64, 67, 0.15);\n",
              "      fill: #174EA6;\n",
              "    }\n",
              "\n",
              "    [theme=dark] .colab-df-convert {\n",
              "      background-color: #3B4455;\n",
              "      fill: #D2E3FC;\n",
              "    }\n",
              "\n",
              "    [theme=dark] .colab-df-convert:hover {\n",
              "      background-color: #434B5C;\n",
              "      box-shadow: 0px 1px 3px 1px rgba(0, 0, 0, 0.15);\n",
              "      filter: drop-shadow(0px 1px 2px rgba(0, 0, 0, 0.3));\n",
              "      fill: #FFFFFF;\n",
              "    }\n",
              "  </style>\n",
              "\n",
              "      <script>\n",
              "        const buttonEl =\n",
              "          document.querySelector('#df-894cb09f-05a8-42bd-b59a-c58ceecade15 button.colab-df-convert');\n",
              "        buttonEl.style.display =\n",
              "          google.colab.kernel.accessAllowed ? 'block' : 'none';\n",
              "\n",
              "        async function convertToInteractive(key) {\n",
              "          const element = document.querySelector('#df-894cb09f-05a8-42bd-b59a-c58ceecade15');\n",
              "          const dataTable =\n",
              "            await google.colab.kernel.invokeFunction('convertToInteractive',\n",
              "                                                     [key], {});\n",
              "          if (!dataTable) return;\n",
              "\n",
              "          const docLinkHtml = 'Like what you see? Visit the ' +\n",
              "            '<a target=\"_blank\" href=https://colab.research.google.com/notebooks/data_table.ipynb>data table notebook</a>'\n",
              "            + ' to learn more about interactive tables.';\n",
              "          element.innerHTML = '';\n",
              "          dataTable['output_type'] = 'display_data';\n",
              "          await google.colab.output.renderOutput(dataTable, element);\n",
              "          const docLink = document.createElement('div');\n",
              "          docLink.innerHTML = docLinkHtml;\n",
              "          element.appendChild(docLink);\n",
              "        }\n",
              "      </script>\n",
              "    </div>\n",
              "  </div>\n",
              "  "
            ],
            "text/plain": [
              "                     label  test  percent\n",
              "humayun_ahmed         3612   906   20.053\n",
              "shunil_gongopaddhay   1570   393   20.020\n",
              "shomresh              1126   282   20.028\n",
              "shorotchandra         1051   261   19.893\n",
              "robindronath          1007   252   20.016\n",
              "MZI                    880   220   20.000\n",
              "shirshendu             838   210   20.038\n",
              "toslima_nasrin         745   186   19.979\n",
              "shordindu              711   177   19.932\n",
              "shottojit_roy          680   169   19.906\n",
              "tarashonkor            620   155   20.000\n",
              "bongkim                450   112   19.929\n",
              "nihar_ronjon_gupta     381    95   19.958\n",
              "manik_bandhopaddhay    376    93   19.829\n",
              "nazrul                 179    44   19.731\n",
              "zahir_rayhan           148    37   20.000"
            ]
          },
          "metadata": {},
          "execution_count": 6
        }
      ],
      "source": [
        "df_counts = pd.DataFrame(baad16_train.label.value_counts())\n",
        "df_counts['test'] = pd.DataFrame(baad16_test.label.value_counts()).label\n",
        "df_counts['percent'] = (df_counts['test']*100/(df_counts['label']+df_counts['test'])).round(3)\n",
        "df_counts"
      ]
    },
    {
      "cell_type": "code",
      "execution_count": null,
      "metadata": {
        "colab": {
          "base_uri": "https://localhost:8080/"
        },
        "id": "pU0fLd0KquUm",
        "outputId": "53b78a71-4e65-4894-e0c5-a9908a1a2475"
      },
      "outputs": [
        {
          "output_type": "execute_result",
          "data": {
            "text/plain": [
              "17966"
            ]
          },
          "metadata": {},
          "execution_count": 7
        }
      ],
      "source": [
        "baad16 = pd.read_csv(aa/'full.csv')\n",
        "len(baad16)"
      ]
    },
    {
      "cell_type": "code",
      "execution_count": null,
      "metadata": {
        "colab": {
          "base_uri": "https://localhost:8080/"
        },
        "id": "4vJowU8fq0-O",
        "outputId": "f30c70b6-aa8d-4051-e9c7-b6a2e18e852a"
      },
      "outputs": [
        {
          "output_type": "execute_result",
          "data": {
            "text/plain": [
              "16"
            ]
          },
          "metadata": {},
          "execution_count": 8
        }
      ],
      "source": [
        "baad16.label.nunique()"
      ]
    },
    {
      "cell_type": "code",
      "execution_count": null,
      "metadata": {
        "colab": {
          "base_uri": "https://localhost:8080/"
        },
        "id": "7_DqZSzDq07G",
        "outputId": "4980d3fe-8aa7-4f0f-c228-e9067e534e0a"
      },
      "outputs": [
        {
          "output_type": "execute_result",
          "data": {
            "text/plain": [
              "humayun_ahmed          4518\n",
              "shunil_gongopaddhay    1963\n",
              "shomresh               1408\n",
              "shorotchandra          1312\n",
              "robindronath           1259\n",
              "MZI                    1100\n",
              "shirshendu             1048\n",
              "toslima_nasrin          931\n",
              "shordindu               888\n",
              "shottojit_roy           849\n",
              "tarashonkor             775\n",
              "bongkim                 562\n",
              "nihar_ronjon_gupta      476\n",
              "manik_bandhopaddhay     469\n",
              "nazrul                  223\n",
              "zahir_rayhan            185\n",
              "Name: label, dtype: int64"
            ]
          },
          "metadata": {},
          "execution_count": 9
        }
      ],
      "source": [
        "baad16.label.value_counts()"
      ]
    },
    {
      "cell_type": "markdown",
      "metadata": {
        "id": "uRKq5Yu2uQL4"
      },
      "source": [
        "## Load sentence piece"
      ]
    },
    {
      "cell_type": "code",
      "execution_count": null,
      "metadata": {
        "id": "1hvRe6oT-fBH"
      },
      "outputs": [],
      "source": [
        "vocab_size = 30000\n",
        "model_prefix = news/'sp'"
      ]
    },
    {
      "cell_type": "code",
      "execution_count": null,
      "metadata": {
        "id": "9pw4ZtL4blcM"
      },
      "outputs": [],
      "source": [
        "class SPTokenizer(BaseTokenizer):\n",
        "    \"Wrapper around a SentncePiece tokenizer to make it a `BaseTokenizer`.\"\n",
        "    def __init__(self, model_prefix:str):\n",
        "        self.tok = spm.SentencePieceProcessor()\n",
        "        self.tok.load(f'{model_prefix}.model')\n",
        "\n",
        "    def tokenizer(self, t:str) -> List[str]:\n",
        "        return self.tok.EncodeAsPieces(t)\n",
        "    \n",
        "class CustomTokenizer():\n",
        "    '''Wrapper for SentencePiece toeknizer to fit into Fast.ai V1'''\n",
        "    def __init__(self,tok_func:Callable,model_prefix:str, pre_rules:ListRules=None):\n",
        "        self.tok_func,self.model_prefix = tok_func,model_prefix\n",
        "        self.pre_rules  = ifnone(pre_rules,  defaults.text_pre_rules )\n",
        "        \n",
        "    def __repr__(self) -> str:\n",
        "        res = f'Tokenizer {self.tok_func.__name__} using `{self.model_prefix}` model with the following rules:\\n'\n",
        "        for rule in self.pre_rules: res += f' - {rule.__name__}\\n'\n",
        "        return res        \n",
        "\n",
        "    def process_text(self, t:str,tok:BaseTokenizer) -> List[str]:\n",
        "        \"Processe one text `t` with tokenizer `tok`.\"\n",
        "        for rule in self.pre_rules: t = rule(t)  \n",
        "        toks = tok.tokenizer(t)\n",
        "        #post rules?\n",
        "        return toks \n",
        "    \n",
        "    def _process_all_1(self,texts:Collection[str]) -> List[List[str]]:\n",
        "        'Process a list of `texts` in one process'\n",
        "        tok = self.tok_func(self.model_prefix)\n",
        "        return [self.process_text(t,tok) for t in texts]\n",
        "                                                                     \n",
        "    def process_all(self, texts:Collection[str]) -> List[List[str]]: \n",
        "        \"Process a list of `texts`.\"                                 \n",
        "        return self._process_all_1(texts)"
      ]
    },
    {
      "cell_type": "code",
      "execution_count": null,
      "metadata": {
        "id": "VPhGAOe8AMCV"
      },
      "outputs": [],
      "source": [
        "mycust_tok = CustomTokenizer(SPTokenizer,model_prefix)"
      ]
    },
    {
      "cell_type": "code",
      "execution_count": null,
      "metadata": {
        "colab": {
          "base_uri": "https://localhost:8080/"
        },
        "id": "HkXAsSVzWilW",
        "outputId": "a9bb7c92-4bc6-4d2b-9115-7cfe362dc2e4"
      },
      "outputs": [
        {
          "output_type": "execute_result",
          "data": {
            "text/plain": [
              "30000"
            ]
          },
          "metadata": {},
          "execution_count": 13
        }
      ],
      "source": [
        "## load up the Processor\n",
        "sp = spm.SentencePieceProcessor()\n",
        "sp.load(f'{model_prefix}.model')\n",
        "itos = [] #{}\n",
        "with open(f'{model_prefix}.vocab','r') as f:\n",
        "    for line_num,line in enumerate(f):\n",
        "        itos.append(line.split(\"\\t\")[0])\n",
        "sp_vocab = Vocab(itos)\n",
        "len(itos)"
      ]
    },
    {
      "cell_type": "markdown",
      "source": [
        "## Utils"
      ],
      "metadata": {
        "id": "6P0plwZfiAy2"
      }
    },
    {
      "cell_type": "code",
      "source": [
        "def testing(df, classifier):\n",
        "  # df = pd.read_csv(dts) \n",
        "  text_array = df[\"text\"].tolist()\n",
        "  print(len(text_array))\n",
        "\n",
        "  final_preds = []\n",
        "\n",
        "  for text in text_array:\n",
        "      preds = classifier.predict(text)\n",
        "      final_preds.append(str(preds[0]))\n",
        "\n",
        "  targets = df[\"label\"].tolist()\n",
        "\n",
        "  err=[]\n",
        "  count =0;\n",
        "  tst = len(text_array)\n",
        "\n",
        "  for i in range(tst):\n",
        "      if(targets[i]==final_preds[i]):\n",
        "          count = count+1\n",
        "      else:\n",
        "  #         print(targets[i] + \", \" + final_preds[i] + ';')\n",
        "          err.append((targets[i],final_preds[i]))\n",
        "  acc = count/tst\n",
        "  print(\"Accuracy: \")\n",
        "  print(acc)\n",
        "  print(err)\n",
        "  return final_preds, targets, err, acc"
      ],
      "metadata": {
        "id": "4LAUkPLfiDQ-"
      },
      "execution_count": null,
      "outputs": []
    },
    {
      "cell_type": "code",
      "source": [
        "bs = 32\n",
        "bptt = 70\n",
        "moms = (0.8,0.7)"
      ],
      "metadata": {
        "id": "P8UnHNfOkkkQ"
      },
      "execution_count": null,
      "outputs": []
    },
    {
      "cell_type": "markdown",
      "metadata": {
        "id": "6_tkU_qffTo4"
      },
      "source": [
        "## BAAD16 K-fold"
      ]
    },
    {
      "cell_type": "code",
      "source": [
        "import warnings\n",
        "warnings.filterwarnings('ignore')"
      ],
      "metadata": {
        "id": "wq8xPZNrE_kH"
      },
      "execution_count": null,
      "outputs": []
    },
    {
      "cell_type": "code",
      "source": [
        "accuracies = []\n",
        "f1_scores = []\n",
        "predictions = []\n",
        "targets = []\n",
        "errors = []\n",
        "\n",
        "skf = StratifiedKFold(n_splits=5, shuffle=True, random_state=666)\n",
        "splits = skf.split(baad16[['text']], baad16[['label']])"
      ],
      "metadata": {
        "id": "YNO_taeXFUdL"
      },
      "execution_count": null,
      "outputs": []
    },
    {
      "cell_type": "code",
      "execution_count": null,
      "metadata": {
        "id": "CEMg9rX2Qg3-"
      },
      "outputs": [],
      "source": [
        "def train_one_split(train_index, test_index, skip_start=False):\n",
        "  X_train, X_test = baad16[['text']].loc[train_index], baad16[['text']].loc[test_index]\n",
        "  y_train, y_test = baad16[['label']].loc[train_index], baad16[['label']].loc[test_index]\n",
        "  train_df = pd.concat([X_train,y_train], axis=1)\n",
        "  test_df = pd.concat([X_test,y_test], axis=1)\n",
        "\n",
        "  train_df, valid_df = train_test_split(train_df, test_size=0.25, stratify=train_df['label'], random_state=666)\n",
        "  ln_train = len(train_df)\n",
        "  ln_valid = len(valid_df)\n",
        "  ln_test = len(test_df)\n",
        "  ln_total = ln_train + ln_valid + ln_test\n",
        "  print(\"TRAIN len:\", ln_train, \"VALID len:\", ln_valid, \"TEST len:\", ln_test, \n",
        "        \"VALID percent:\", np.round(ln_valid*100/ln_total,3),\n",
        "        \"TEST percent:\", np.round(ln_test*100/ln_total,3))\n",
        "  \n",
        "  ## SET UP DATA\n",
        "  data_clas = TextClasDataBunch.from_df(path=kfold16, train_df=train_df,valid_df=valid_df,\n",
        "                                        tokenizer=mycust_tok,vocab=sp_vocab,bs=bs,text_cols='text',label_cols='label')\n",
        "  learn_cls = text_classifier_learner(data_clas, AWD_LSTM, drop_mult=0.5, pretrained=False)\n",
        "  \n",
        "  ## TRAIN CLASSIFIER 10 EPOCHS\n",
        "  if not skip_start:\n",
        "    learn_cls.load_encoder(aa/'models'/'AA_subword_lm_enc') ## model pre-trained on news dataset, then finetuned on AA dataset\n",
        "    learn_cls.freeze()\n",
        "    learn_cls.lr_find()\n",
        "    learn_cls.recorder.plot(suggestion=True)\n",
        "    min_grad_lr = learn_cls.recorder.min_grad_lr\n",
        "    # min_grad_lr = 4.79E-02\n",
        "    learn_cls.fit_one_cycle(2, min_grad_lr, moms=moms) # learn_cls.save('')\n",
        "\n",
        "    learn_cls.freeze_to(-2)\n",
        "    learn_cls.fit_one_cycle(2 , slice(min_grad_lr/(2.6**4),min_grad_lr), moms=moms)\n",
        "\n",
        "    learn_cls.freeze_to(-3)\n",
        "    learn_cls.fit_one_cycle(2 , slice(min_grad_lr/(2.6**4),min_grad_lr), moms=moms)\n",
        "    learn_cls.save(kfold16/'kfold_baad16_6_epochs_no_callbacks')\n",
        "    \n",
        "  learn_cls.load(kfold16/'kfold_baad16_6_epochs_no_callbacks')\n",
        "  learn_cls.unfreeze()\n",
        "  try:\n",
        "    # learn_cls.lr_find()\n",
        "    # learn_cls.recorder.plot(suggestion=True)\n",
        "    # min_grad_lr = learn_cls.recorder.min_grad_lr\n",
        "    min_grad_lr = 1.58E-06\n",
        "  except:\n",
        "    pass\n",
        "  learn_cls.fit_one_cycle(4, slice(min_grad_lr/(2.6**4),min_grad_lr), moms=moms)\n",
        "\n",
        "  ## TESTING\n",
        "  preds, targs, err, acc = testing(test_df, learn_cls)\n",
        "  f1 = f1_score(targs, preds, average='weighted')\n",
        "\n",
        "  ## SAVING RESULTS\n",
        "  accuracies.append(acc)\n",
        "  f1_scores.append(f1)\n",
        "  predictions.append(preds)\n",
        "  targets.append(targs)\n",
        "  errors.append(err)\n",
        "\n",
        "  print(acc, f1)"
      ]
    },
    {
      "cell_type": "code",
      "source": [
        "## 1\n",
        "train_index, test_index = next(splits)\n",
        "train_one_split(train_index, test_index)"
      ],
      "metadata": {
        "id": "g20N_9kak1Bv",
        "colab": {
          "base_uri": "https://localhost:8080/",
          "height": 1000
        },
        "outputId": "79b686be-459a-49c4-9dd8-9749008694f3"
      },
      "execution_count": null,
      "outputs": [
        {
          "output_type": "stream",
          "name": "stdout",
          "text": [
            "TRAIN len: 10779 VALID len: 3593 TEST len: 3594 VALID percent: 19.999 TEST percent: 20.004\n"
          ]
        },
        {
          "output_type": "display_data",
          "data": {
            "text/html": [
              ""
            ],
            "text/plain": [
              "<IPython.core.display.HTML object>"
            ]
          },
          "metadata": {}
        },
        {
          "output_type": "display_data",
          "data": {
            "text/html": [
              ""
            ],
            "text/plain": [
              "<IPython.core.display.HTML object>"
            ]
          },
          "metadata": {}
        },
        {
          "output_type": "display_data",
          "data": {
            "text/html": [
              "\n",
              "    <div>\n",
              "        <style>\n",
              "            /* Turns off some styling */\n",
              "            progress {\n",
              "                /* gets rid of default border in Firefox and Opera. */\n",
              "                border: none;\n",
              "                /* Needs to be in here for Safari polyfill so background images work as expected. */\n",
              "                background-size: auto;\n",
              "            }\n",
              "            .progress-bar-interrupted, .progress-bar-interrupted::-webkit-progress-bar {\n",
              "                background: #F44336;\n",
              "            }\n",
              "        </style>\n",
              "      <progress value='0' class='' max='1' style='width:300px; height:20px; vertical-align: middle;'></progress>\n",
              "      0.00% [0/1 00:00<00:00]\n",
              "    </div>\n",
              "    \n",
              "<table border=\"1\" class=\"dataframe\">\n",
              "  <thead>\n",
              "    <tr style=\"text-align: left;\">\n",
              "      <th>epoch</th>\n",
              "      <th>train_loss</th>\n",
              "      <th>valid_loss</th>\n",
              "      <th>accuracy</th>\n",
              "      <th>time</th>\n",
              "    </tr>\n",
              "  </thead>\n",
              "  <tbody>\n",
              "  </tbody>\n",
              "</table><p>\n",
              "\n",
              "    <div>\n",
              "        <style>\n",
              "            /* Turns off some styling */\n",
              "            progress {\n",
              "                /* gets rid of default border in Firefox and Opera. */\n",
              "                border: none;\n",
              "                /* Needs to be in here for Safari polyfill so background images work as expected. */\n",
              "                background-size: auto;\n",
              "            }\n",
              "            .progress-bar-interrupted, .progress-bar-interrupted::-webkit-progress-bar {\n",
              "                background: #F44336;\n",
              "            }\n",
              "        </style>\n",
              "      <progress value='94' class='' max='336' style='width:300px; height:20px; vertical-align: middle;'></progress>\n",
              "      27.98% [94/336 02:53<07:26 4.9525]\n",
              "    </div>\n",
              "    "
            ],
            "text/plain": [
              "<IPython.core.display.HTML object>"
            ]
          },
          "metadata": {}
        },
        {
          "output_type": "stream",
          "name": "stdout",
          "text": [
            "LR Finder is complete, type {learner_name}.recorder.plot() to see the graph.\n",
            "Min numerical gradient: 2.75E-02\n"
          ]
        },
        {
          "output_type": "display_data",
          "data": {
            "text/html": [
              "<table border=\"1\" class=\"dataframe\">\n",
              "  <thead>\n",
              "    <tr style=\"text-align: left;\">\n",
              "      <th>epoch</th>\n",
              "      <th>train_loss</th>\n",
              "      <th>valid_loss</th>\n",
              "      <th>accuracy</th>\n",
              "      <th>time</th>\n",
              "    </tr>\n",
              "  </thead>\n",
              "  <tbody>\n",
              "    <tr>\n",
              "      <td>0</td>\n",
              "      <td>0.153322</td>\n",
              "      <td>0.049113</td>\n",
              "      <td>0.987197</td>\n",
              "      <td>13:40</td>\n",
              "    </tr>\n",
              "    <tr>\n",
              "      <td>1</td>\n",
              "      <td>0.063275</td>\n",
              "      <td>0.031401</td>\n",
              "      <td>0.992764</td>\n",
              "      <td>13:19</td>\n",
              "    </tr>\n",
              "  </tbody>\n",
              "</table>"
            ],
            "text/plain": [
              "<IPython.core.display.HTML object>"
            ]
          },
          "metadata": {}
        },
        {
          "output_type": "display_data",
          "data": {
            "text/html": [
              "<table border=\"1\" class=\"dataframe\">\n",
              "  <thead>\n",
              "    <tr style=\"text-align: left;\">\n",
              "      <th>epoch</th>\n",
              "      <th>train_loss</th>\n",
              "      <th>valid_loss</th>\n",
              "      <th>accuracy</th>\n",
              "      <th>time</th>\n",
              "    </tr>\n",
              "  </thead>\n",
              "  <tbody>\n",
              "    <tr>\n",
              "      <td>0</td>\n",
              "      <td>0.142419</td>\n",
              "      <td>0.077656</td>\n",
              "      <td>0.981074</td>\n",
              "      <td>15:46</td>\n",
              "    </tr>\n",
              "    <tr>\n",
              "      <td>1</td>\n",
              "      <td>0.038318</td>\n",
              "      <td>0.027641</td>\n",
              "      <td>0.993599</td>\n",
              "      <td>15:54</td>\n",
              "    </tr>\n",
              "  </tbody>\n",
              "</table>"
            ],
            "text/plain": [
              "<IPython.core.display.HTML object>"
            ]
          },
          "metadata": {}
        },
        {
          "output_type": "display_data",
          "data": {
            "text/html": [
              "<table border=\"1\" class=\"dataframe\">\n",
              "  <thead>\n",
              "    <tr style=\"text-align: left;\">\n",
              "      <th>epoch</th>\n",
              "      <th>train_loss</th>\n",
              "      <th>valid_loss</th>\n",
              "      <th>accuracy</th>\n",
              "      <th>time</th>\n",
              "    </tr>\n",
              "  </thead>\n",
              "  <tbody>\n",
              "    <tr>\n",
              "      <td>0</td>\n",
              "      <td>0.168995</td>\n",
              "      <td>0.420064</td>\n",
              "      <td>0.936265</td>\n",
              "      <td>22:50</td>\n",
              "    </tr>\n",
              "    <tr>\n",
              "      <td>1</td>\n",
              "      <td>0.028783</td>\n",
              "      <td>0.018684</td>\n",
              "      <td>0.994990</td>\n",
              "      <td>23:08</td>\n",
              "    </tr>\n",
              "  </tbody>\n",
              "</table>"
            ],
            "text/plain": [
              "<IPython.core.display.HTML object>"
            ]
          },
          "metadata": {}
        },
        {
          "output_type": "display_data",
          "data": {
            "text/html": [
              "\n",
              "    <div>\n",
              "        <style>\n",
              "            /* Turns off some styling */\n",
              "            progress {\n",
              "                /* gets rid of default border in Firefox and Opera. */\n",
              "                border: none;\n",
              "                /* Needs to be in here for Safari polyfill so background images work as expected. */\n",
              "                background-size: auto;\n",
              "            }\n",
              "            .progress-bar-interrupted, .progress-bar-interrupted::-webkit-progress-bar {\n",
              "                background: #F44336;\n",
              "            }\n",
              "        </style>\n",
              "      <progress value='0' class='' max='1' style='width:300px; height:20px; vertical-align: middle;'></progress>\n",
              "      0.00% [0/1 00:00<00:00]\n",
              "    </div>\n",
              "    \n",
              "<table border=\"1\" class=\"dataframe\">\n",
              "  <thead>\n",
              "    <tr style=\"text-align: left;\">\n",
              "      <th>epoch</th>\n",
              "      <th>train_loss</th>\n",
              "      <th>valid_loss</th>\n",
              "      <th>accuracy</th>\n",
              "      <th>time</th>\n",
              "    </tr>\n",
              "  </thead>\n",
              "  <tbody>\n",
              "  </tbody>\n",
              "</table><p>\n",
              "\n",
              "    <div>\n",
              "        <style>\n",
              "            /* Turns off some styling */\n",
              "            progress {\n",
              "                /* gets rid of default border in Firefox and Opera. */\n",
              "                border: none;\n",
              "                /* Needs to be in here for Safari polyfill so background images work as expected. */\n",
              "                background-size: auto;\n",
              "            }\n",
              "            .progress-bar-interrupted, .progress-bar-interrupted::-webkit-progress-bar {\n",
              "                background: #F44336;\n",
              "            }\n",
              "        </style>\n",
              "      <progress value='68' class='' max='336' style='width:300px; height:20px; vertical-align: middle;'></progress>\n",
              "      20.24% [68/336 05:07<20:11 0.1167]\n",
              "    </div>\n",
              "    "
            ],
            "text/plain": [
              "<IPython.core.display.HTML object>"
            ]
          },
          "metadata": {}
        },
        {
          "output_type": "stream",
          "name": "stdout",
          "text": [
            "LR Finder is complete, type {learner_name}.recorder.plot() to see the graph.\n",
            "Min numerical gradient: 6.31E-07\n"
          ]
        },
        {
          "output_type": "display_data",
          "data": {
            "text/html": [
              "<table border=\"1\" class=\"dataframe\">\n",
              "  <thead>\n",
              "    <tr style=\"text-align: left;\">\n",
              "      <th>epoch</th>\n",
              "      <th>train_loss</th>\n",
              "      <th>valid_loss</th>\n",
              "      <th>accuracy</th>\n",
              "      <th>time</th>\n",
              "    </tr>\n",
              "  </thead>\n",
              "  <tbody>\n",
              "    <tr>\n",
              "      <td>0</td>\n",
              "      <td>0.015961</td>\n",
              "      <td>0.019005</td>\n",
              "      <td>0.994990</td>\n",
              "      <td>28:44</td>\n",
              "    </tr>\n",
              "    <tr>\n",
              "      <td>1</td>\n",
              "      <td>0.020388</td>\n",
              "      <td>0.019555</td>\n",
              "      <td>0.994990</td>\n",
              "      <td>29:22</td>\n",
              "    </tr>\n",
              "    <tr>\n",
              "      <td>2</td>\n",
              "      <td>0.023615</td>\n",
              "      <td>0.018873</td>\n",
              "      <td>0.994990</td>\n",
              "      <td>28:53</td>\n",
              "    </tr>\n",
              "    <tr>\n",
              "      <td>3</td>\n",
              "      <td>0.015104</td>\n",
              "      <td>0.019833</td>\n",
              "      <td>0.994434</td>\n",
              "      <td>29:14</td>\n",
              "    </tr>\n",
              "  </tbody>\n",
              "</table>"
            ],
            "text/plain": [
              "<IPython.core.display.HTML object>"
            ]
          },
          "metadata": {}
        },
        {
          "output_type": "stream",
          "name": "stdout",
          "text": [
            "3594\n",
            "Accuracy: \n",
            "0.9927657206455203\n",
            "[('manik_bandhopaddhay', 'tarashonkor'), ('manik_bandhopaddhay', 'tarashonkor'), ('shordindu', 'humayun_ahmed'), ('nazrul', 'shomresh'), ('humayun_ahmed', 'MZI'), ('humayun_ahmed', 'MZI'), ('humayun_ahmed', 'shirshendu'), ('humayun_ahmed', 'shirshendu'), ('humayun_ahmed', 'shirshendu'), ('humayun_ahmed', 'shirshendu'), ('humayun_ahmed', 'shirshendu'), ('humayun_ahmed', 'tarashonkor'), ('humayun_ahmed', 'shirshendu'), ('humayun_ahmed', 'tarashonkor'), ('humayun_ahmed', 'tarashonkor'), ('humayun_ahmed', 'nihar_ronjon_gupta'), ('humayun_ahmed', 'tarashonkor'), ('humayun_ahmed', 'shunil_gongopaddhay'), ('humayun_ahmed', 'tarashonkor'), ('humayun_ahmed', 'zahir_rayhan'), ('humayun_ahmed', 'shomresh'), ('humayun_ahmed', 'MZI'), ('shirshendu', 'shomresh'), ('shunil_gongopaddhay', 'tarashonkor'), ('toslima_nasrin', 'humayun_ahmed'), ('tarashonkor', 'manik_bandhopaddhay')]\n",
            "0.9927657206455203 0.9927830579714404\n"
          ]
        },
        {
          "output_type": "display_data",
          "data": {
            "image/png": "[encoded data removed]",
            "text/plain": [
              "<Figure size 432x288 with 1 Axes>"
            ]
          },
          "metadata": {
            "needs_background": "light"
          }
        },
        {
          "output_type": "display_data",
          "data": {
            "image/png": "[encoded data removed]",
            "text/plain": [
              "<Figure size 432x288 with 1 Axes>"
            ]
          },
          "metadata": {
            "needs_background": "light"
          }
        }
      ]
    },
    {
      "cell_type": "code",
      "source": [
        "## 2\n",
        "train_index, test_index = next(splits)\n",
        "train_one_split(train_index, test_index)"
      ],
      "metadata": {
        "id": "SBirTTwLk1Ei",
        "colab": {
          "base_uri": "https://localhost:8080/",
          "height": 1000
        },
        "outputId": "4f0cebb3-b9ab-4443-a60e-a8008b231697"
      },
      "execution_count": null,
      "outputs": [
        {
          "output_type": "stream",
          "name": "stdout",
          "text": [
            "TRAIN len: 10779 VALID len: 3594 TEST len: 3593 VALID percent: 20.004 TEST percent: 19.999\n"
          ]
        },
        {
          "output_type": "display_data",
          "data": {
            "text/html": [
              ""
            ],
            "text/plain": [
              "<IPython.core.display.HTML object>"
            ]
          },
          "metadata": {}
        },
        {
          "output_type": "display_data",
          "data": {
            "text/html": [
              ""
            ],
            "text/plain": [
              "<IPython.core.display.HTML object>"
            ]
          },
          "metadata": {}
        },
        {
          "output_type": "display_data",
          "data": {
            "text/html": [
              "\n",
              "    <div>\n",
              "        <style>\n",
              "            /* Turns off some styling */\n",
              "            progress {\n",
              "                /* gets rid of default border in Firefox and Opera. */\n",
              "                border: none;\n",
              "                /* Needs to be in here for Safari polyfill so background images work as expected. */\n",
              "                background-size: auto;\n",
              "            }\n",
              "            .progress-bar-interrupted, .progress-bar-interrupted::-webkit-progress-bar {\n",
              "                background: #F44336;\n",
              "            }\n",
              "        </style>\n",
              "      <progress value='0' class='' max='1' style='width:300px; height:20px; vertical-align: middle;'></progress>\n",
              "      0.00% [0/1 00:00<00:00]\n",
              "    </div>\n",
              "    \n",
              "<table border=\"1\" class=\"dataframe\">\n",
              "  <thead>\n",
              "    <tr style=\"text-align: left;\">\n",
              "      <th>epoch</th>\n",
              "      <th>train_loss</th>\n",
              "      <th>valid_loss</th>\n",
              "      <th>accuracy</th>\n",
              "      <th>time</th>\n",
              "    </tr>\n",
              "  </thead>\n",
              "  <tbody>\n",
              "  </tbody>\n",
              "</table><p>\n",
              "\n",
              "    <div>\n",
              "        <style>\n",
              "            /* Turns off some styling */\n",
              "            progress {\n",
              "                /* gets rid of default border in Firefox and Opera. */\n",
              "                border: none;\n",
              "                /* Needs to be in here for Safari polyfill so background images work as expected. */\n",
              "                background-size: auto;\n",
              "            }\n",
              "            .progress-bar-interrupted, .progress-bar-interrupted::-webkit-progress-bar {\n",
              "                background: #F44336;\n",
              "            }\n",
              "        </style>\n",
              "      <progress value='95' class='' max='336' style='width:300px; height:20px; vertical-align: middle;'></progress>\n",
              "      28.27% [95/336 02:57<07:29 5.7632]\n",
              "    </div>\n",
              "    "
            ],
            "text/plain": [
              "<IPython.core.display.HTML object>"
            ]
          },
          "metadata": {}
        },
        {
          "output_type": "stream",
          "name": "stdout",
          "text": [
            "LR Finder is complete, type {learner_name}.recorder.plot() to see the graph.\n",
            "Min numerical gradient: 2.75E-02\n"
          ]
        },
        {
          "output_type": "display_data",
          "data": {
            "text/html": [
              "<table border=\"1\" class=\"dataframe\">\n",
              "  <thead>\n",
              "    <tr style=\"text-align: left;\">\n",
              "      <th>epoch</th>\n",
              "      <th>train_loss</th>\n",
              "      <th>valid_loss</th>\n",
              "      <th>accuracy</th>\n",
              "      <th>time</th>\n",
              "    </tr>\n",
              "  </thead>\n",
              "  <tbody>\n",
              "    <tr>\n",
              "      <td>0</td>\n",
              "      <td>0.137521</td>\n",
              "      <td>0.043220</td>\n",
              "      <td>0.986644</td>\n",
              "      <td>13:50</td>\n",
              "    </tr>\n",
              "    <tr>\n",
              "      <td>1</td>\n",
              "      <td>0.071252</td>\n",
              "      <td>0.026330</td>\n",
              "      <td>0.993600</td>\n",
              "      <td>13:57</td>\n",
              "    </tr>\n",
              "  </tbody>\n",
              "</table>"
            ],
            "text/plain": [
              "<IPython.core.display.HTML object>"
            ]
          },
          "metadata": {}
        },
        {
          "output_type": "display_data",
          "data": {
            "text/html": [
              "<table border=\"1\" class=\"dataframe\">\n",
              "  <thead>\n",
              "    <tr style=\"text-align: left;\">\n",
              "      <th>epoch</th>\n",
              "      <th>train_loss</th>\n",
              "      <th>valid_loss</th>\n",
              "      <th>accuracy</th>\n",
              "      <th>time</th>\n",
              "    </tr>\n",
              "  </thead>\n",
              "  <tbody>\n",
              "    <tr>\n",
              "      <td>0</td>\n",
              "      <td>0.143815</td>\n",
              "      <td>0.027827</td>\n",
              "      <td>0.992209</td>\n",
              "      <td>15:51</td>\n",
              "    </tr>\n",
              "    <tr>\n",
              "      <td>1</td>\n",
              "      <td>0.028539</td>\n",
              "      <td>0.020539</td>\n",
              "      <td>0.995270</td>\n",
              "      <td>15:54</td>\n",
              "    </tr>\n",
              "  </tbody>\n",
              "</table>"
            ],
            "text/plain": [
              "<IPython.core.display.HTML object>"
            ]
          },
          "metadata": {}
        },
        {
          "output_type": "display_data",
          "data": {
            "text/html": [
              "<table border=\"1\" class=\"dataframe\">\n",
              "  <thead>\n",
              "    <tr style=\"text-align: left;\">\n",
              "      <th>epoch</th>\n",
              "      <th>train_loss</th>\n",
              "      <th>valid_loss</th>\n",
              "      <th>accuracy</th>\n",
              "      <th>time</th>\n",
              "    </tr>\n",
              "  </thead>\n",
              "  <tbody>\n",
              "    <tr>\n",
              "      <td>0</td>\n",
              "      <td>0.128542</td>\n",
              "      <td>0.313182</td>\n",
              "      <td>0.945465</td>\n",
              "      <td>23:37</td>\n",
              "    </tr>\n",
              "    <tr>\n",
              "      <td>1</td>\n",
              "      <td>0.030615</td>\n",
              "      <td>0.013808</td>\n",
              "      <td>0.995826</td>\n",
              "      <td>23:06</td>\n",
              "    </tr>\n",
              "  </tbody>\n",
              "</table>"
            ],
            "text/plain": [
              "<IPython.core.display.HTML object>"
            ]
          },
          "metadata": {}
        },
        {
          "output_type": "display_data",
          "data": {
            "text/html": [
              "\n",
              "    <div>\n",
              "        <style>\n",
              "            /* Turns off some styling */\n",
              "            progress {\n",
              "                /* gets rid of default border in Firefox and Opera. */\n",
              "                border: none;\n",
              "                /* Needs to be in here for Safari polyfill so background images work as expected. */\n",
              "                background-size: auto;\n",
              "            }\n",
              "            .progress-bar-interrupted, .progress-bar-interrupted::-webkit-progress-bar {\n",
              "                background: #F44336;\n",
              "            }\n",
              "        </style>\n",
              "      <progress value='0' class='' max='1' style='width:300px; height:20px; vertical-align: middle;'></progress>\n",
              "      0.00% [0/1 00:00<00:00]\n",
              "    </div>\n",
              "    \n",
              "<table border=\"1\" class=\"dataframe\">\n",
              "  <thead>\n",
              "    <tr style=\"text-align: left;\">\n",
              "      <th>epoch</th>\n",
              "      <th>train_loss</th>\n",
              "      <th>valid_loss</th>\n",
              "      <th>accuracy</th>\n",
              "      <th>time</th>\n",
              "    </tr>\n",
              "  </thead>\n",
              "  <tbody>\n",
              "  </tbody>\n",
              "</table><p>\n",
              "\n",
              "    <div>\n",
              "        <style>\n",
              "            /* Turns off some styling */\n",
              "            progress {\n",
              "                /* gets rid of default border in Firefox and Opera. */\n",
              "                border: none;\n",
              "                /* Needs to be in here for Safari polyfill so background images work as expected. */\n",
              "                background-size: auto;\n",
              "            }\n",
              "            .progress-bar-interrupted, .progress-bar-interrupted::-webkit-progress-bar {\n",
              "                background: #F44336;\n",
              "            }\n",
              "        </style>\n",
              "      <progress value='64' class='' max='336' style='width:300px; height:20px; vertical-align: middle;'></progress>\n",
              "      19.05% [64/336 04:53<20:45 0.0273]\n",
              "    </div>\n",
              "    "
            ],
            "text/plain": [
              "<IPython.core.display.HTML object>"
            ]
          },
          "metadata": {}
        },
        {
          "output_type": "stream",
          "name": "stdout",
          "text": [
            "LR Finder is complete, type {learner_name}.recorder.plot() to see the graph.\n",
            "Min numerical gradient: 7.59E-07\n"
          ]
        },
        {
          "output_type": "display_data",
          "data": {
            "text/html": [
              "<table border=\"1\" class=\"dataframe\">\n",
              "  <thead>\n",
              "    <tr style=\"text-align: left;\">\n",
              "      <th>epoch</th>\n",
              "      <th>train_loss</th>\n",
              "      <th>valid_loss</th>\n",
              "      <th>accuracy</th>\n",
              "      <th>time</th>\n",
              "    </tr>\n",
              "  </thead>\n",
              "  <tbody>\n",
              "    <tr>\n",
              "      <td>0</td>\n",
              "      <td>0.017549</td>\n",
              "      <td>0.012641</td>\n",
              "      <td>0.996383</td>\n",
              "      <td>30:15</td>\n",
              "    </tr>\n",
              "    <tr>\n",
              "      <td>1</td>\n",
              "      <td>0.019997</td>\n",
              "      <td>0.011295</td>\n",
              "      <td>0.997218</td>\n",
              "      <td>28:58</td>\n",
              "    </tr>\n",
              "    <tr>\n",
              "      <td>2</td>\n",
              "      <td>0.018015</td>\n",
              "      <td>0.011810</td>\n",
              "      <td>0.996661</td>\n",
              "      <td>29:31</td>\n",
              "    </tr>\n",
              "    <tr>\n",
              "      <td>3</td>\n",
              "      <td>0.017960</td>\n",
              "      <td>0.013544</td>\n",
              "      <td>0.995826</td>\n",
              "      <td>29:37</td>\n",
              "    </tr>\n",
              "  </tbody>\n",
              "</table>"
            ],
            "text/plain": [
              "<IPython.core.display.HTML object>"
            ]
          },
          "metadata": {}
        },
        {
          "output_type": "stream",
          "name": "stdout",
          "text": [
            "3593\n",
            "Accuracy: \n",
            "0.9924853882549401\n",
            "[('shottojit_roy', 'shordindu'), ('robindronath', 'nazrul'), ('robindronath', 'shunil_gongopaddhay'), ('robindronath', 'shottojit_roy'), ('robindronath', 'shordindu'), ('humayun_ahmed', 'tarashonkor'), ('humayun_ahmed', 'tarashonkor'), ('humayun_ahmed', 'shorotchandra'), ('humayun_ahmed', 'tarashonkor'), ('humayun_ahmed', 'tarashonkor'), ('humayun_ahmed', 'tarashonkor'), ('humayun_ahmed', 'shunil_gongopaddhay'), ('nihar_ronjon_gupta', 'tarashonkor'), ('nihar_ronjon_gupta', 'shomresh'), ('nihar_ronjon_gupta', 'shomresh'), ('shirshendu', 'shunil_gongopaddhay'), ('shirshendu', 'shunil_gongopaddhay'), ('shirshendu', 'manik_bandhopaddhay'), ('shirshendu', 'MZI'), ('shirshendu', 'MZI'), ('shomresh', 'shunil_gongopaddhay'), ('shomresh', 'humayun_ahmed'), ('toslima_nasrin', 'humayun_ahmed'), ('tarashonkor', 'shorotchandra'), ('tarashonkor', 'shorotchandra'), ('tarashonkor', 'shorotchandra'), ('tarashonkor', 'nihar_ronjon_gupta')]\n",
            "0.9924853882549401 0.9924854047529802\n"
          ]
        },
        {
          "output_type": "display_data",
          "data": {
            "image/png": "[encoded data removed]",
            "text/plain": [
              "<Figure size 432x288 with 1 Axes>"
            ]
          },
          "metadata": {
            "needs_background": "light"
          }
        },
        {
          "output_type": "display_data",
          "data": {
            "image/png": "[encoded data removed]",
            "text/plain": [
              "<Figure size 432x288 with 1 Axes>"
            ]
          },
          "metadata": {
            "needs_background": "light"
          }
        }
      ]
    },
    {
      "cell_type": "code",
      "source": [
        "## 3\n",
        "train_index, test_index = next(splits)\n",
        "train_one_split(train_index, test_index)"
      ],
      "metadata": {
        "id": "wUr-1UEJk1HQ",
        "colab": {
          "base_uri": "https://localhost:8080/",
          "height": 1000
        },
        "outputId": "21b01844-b2fa-46c8-ddd8-566cb44ff5cb"
      },
      "execution_count": null,
      "outputs": [
        {
          "metadata": {
            "tags": null
          },
          "name": "stdout",
          "output_type": "stream",
          "text": [
            "TRAIN len: 10779 VALID len: 3594 TEST len: 3593 VALID percent: 20.004 TEST percent: 19.999\n"
          ]
        },
        {
          "data": {
            "text/html": [
              ""
            ],
            "text/plain": [
              "<IPython.core.display.HTML object>"
            ]
          },
          "metadata": {},
          "output_type": "display_data"
        },
        {
          "data": {
            "text/html": [
              ""
            ],
            "text/plain": [
              "<IPython.core.display.HTML object>"
            ]
          },
          "metadata": {},
          "output_type": "display_data"
        },
        {
          "data": {
            "text/html": [
              "\n",
              "    <div>\n",
              "        <style>\n",
              "            /* Turns off some styling */\n",
              "            progress {\n",
              "                /* gets rid of default border in Firefox and Opera. */\n",
              "                border: none;\n",
              "                /* Needs to be in here for Safari polyfill so background images work as expected. */\n",
              "                background-size: auto;\n",
              "            }\n",
              "            .progress-bar-interrupted, .progress-bar-interrupted::-webkit-progress-bar {\n",
              "                background: #F44336;\n",
              "            }\n",
              "        </style>\n",
              "      <progress value='0' class='' max='1' style='width:300px; height:20px; vertical-align: middle;'></progress>\n",
              "      0.00% [0/1 00:00<00:00]\n",
              "    </div>\n",
              "    \n",
              "<table border=\"1\" class=\"dataframe\">\n",
              "  <thead>\n",
              "    <tr style=\"text-align: left;\">\n",
              "      <th>epoch</th>\n",
              "      <th>train_loss</th>\n",
              "      <th>valid_loss</th>\n",
              "      <th>accuracy</th>\n",
              "      <th>time</th>\n",
              "    </tr>\n",
              "  </thead>\n",
              "  <tbody>\n",
              "  </tbody>\n",
              "</table><p>\n",
              "\n",
              "    <div>\n",
              "        <style>\n",
              "            /* Turns off some styling */\n",
              "            progress {\n",
              "                /* gets rid of default border in Firefox and Opera. */\n",
              "                border: none;\n",
              "                /* Needs to be in here for Safari polyfill so background images work as expected. */\n",
              "                background-size: auto;\n",
              "            }\n",
              "            .progress-bar-interrupted, .progress-bar-interrupted::-webkit-progress-bar {\n",
              "                background: #F44336;\n",
              "            }\n",
              "        </style>\n",
              "      <progress value='95' class='' max='336' style='width:300px; height:20px; vertical-align: middle;'></progress>\n",
              "      28.27% [95/336 04:03<10:16 6.2511]\n",
              "    </div>\n",
              "    "
            ],
            "text/plain": [
              "<IPython.core.display.HTML object>"
            ]
          },
          "metadata": {},
          "output_type": "display_data"
        },
        {
          "metadata": {
            "tags": null
          },
          "name": "stdout",
          "output_type": "stream",
          "text": [
            "LR Finder is complete, type {learner_name}.recorder.plot() to see the graph.\n",
            "Min numerical gradient: 9.12E-03\n"
          ]
        },
        {
          "data": {
            "text/html": [
              "<table border=\"1\" class=\"dataframe\">\n",
              "  <thead>\n",
              "    <tr style=\"text-align: left;\">\n",
              "      <th>epoch</th>\n",
              "      <th>train_loss</th>\n",
              "      <th>valid_loss</th>\n",
              "      <th>accuracy</th>\n",
              "      <th>time</th>\n",
              "    </tr>\n",
              "  </thead>\n",
              "  <tbody>\n",
              "    <tr>\n",
              "      <td>0</td>\n",
              "      <td>0.146044</td>\n",
              "      <td>0.034622</td>\n",
              "      <td>0.991653</td>\n",
              "      <td>19:04</td>\n",
              "    </tr>\n",
              "    <tr>\n",
              "      <td>1</td>\n",
              "      <td>0.050261</td>\n",
              "      <td>0.028711</td>\n",
              "      <td>0.993044</td>\n",
              "      <td>19:27</td>\n",
              "    </tr>\n",
              "  </tbody>\n",
              "</table>"
            ],
            "text/plain": [
              "<IPython.core.display.HTML object>"
            ]
          },
          "metadata": {},
          "output_type": "display_data"
        },
        {
          "data": {
            "text/html": [
              "<table border=\"1\" class=\"dataframe\">\n",
              "  <thead>\n",
              "    <tr style=\"text-align: left;\">\n",
              "      <th>epoch</th>\n",
              "      <th>train_loss</th>\n",
              "      <th>valid_loss</th>\n",
              "      <th>accuracy</th>\n",
              "      <th>time</th>\n",
              "    </tr>\n",
              "  </thead>\n",
              "  <tbody>\n",
              "    <tr>\n",
              "      <td>0</td>\n",
              "      <td>0.086670</td>\n",
              "      <td>0.039789</td>\n",
              "      <td>0.991374</td>\n",
              "      <td>22:11</td>\n",
              "    </tr>\n",
              "    <tr>\n",
              "      <td>1</td>\n",
              "      <td>0.040963</td>\n",
              "      <td>0.024703</td>\n",
              "      <td>0.994435</td>\n",
              "      <td>21:47</td>\n",
              "    </tr>\n",
              "  </tbody>\n",
              "</table>"
            ],
            "text/plain": [
              "<IPython.core.display.HTML object>"
            ]
          },
          "metadata": {},
          "output_type": "display_data"
        },
        {
          "data": {
            "text/html": [
              "<table border=\"1\" class=\"dataframe\">\n",
              "  <thead>\n",
              "    <tr style=\"text-align: left;\">\n",
              "      <th>epoch</th>\n",
              "      <th>train_loss</th>\n",
              "      <th>valid_loss</th>\n",
              "      <th>accuracy</th>\n",
              "      <th>time</th>\n",
              "    </tr>\n",
              "  </thead>\n",
              "  <tbody>\n",
              "    <tr>\n",
              "      <td>0</td>\n",
              "      <td>0.099573</td>\n",
              "      <td>0.026820</td>\n",
              "      <td>0.991374</td>\n",
              "      <td>31:44</td>\n",
              "    </tr>\n",
              "    <tr>\n",
              "      <td>1</td>\n",
              "      <td>0.029504</td>\n",
              "      <td>0.029120</td>\n",
              "      <td>0.992766</td>\n",
              "      <td>31:48</td>\n",
              "    </tr>\n",
              "  </tbody>\n",
              "</table>"
            ],
            "text/plain": [
              "<IPython.core.display.HTML object>"
            ]
          },
          "metadata": {},
          "output_type": "display_data"
        },
        {
          "data": {
            "text/html": [
              "\n",
              "    <div>\n",
              "        <style>\n",
              "            /* Turns off some styling */\n",
              "            progress {\n",
              "                /* gets rid of default border in Firefox and Opera. */\n",
              "                border: none;\n",
              "                /* Needs to be in here for Safari polyfill so background images work as expected. */\n",
              "                background-size: auto;\n",
              "            }\n",
              "            .progress-bar-interrupted, .progress-bar-interrupted::-webkit-progress-bar {\n",
              "                background: #F44336;\n",
              "            }\n",
              "        </style>\n",
              "      <progress value='0' class='' max='1' style='width:300px; height:20px; vertical-align: middle;'></progress>\n",
              "      0.00% [0/1 00:00<00:00]\n",
              "    </div>\n",
              "    \n",
              "<table border=\"1\" class=\"dataframe\">\n",
              "  <thead>\n",
              "    <tr style=\"text-align: left;\">\n",
              "      <th>epoch</th>\n",
              "      <th>train_loss</th>\n",
              "      <th>valid_loss</th>\n",
              "      <th>accuracy</th>\n",
              "      <th>time</th>\n",
              "    </tr>\n",
              "  </thead>\n",
              "  <tbody>\n",
              "  </tbody>\n",
              "</table><p>\n",
              "\n",
              "    <div>\n",
              "        <style>\n",
              "            /* Turns off some styling */\n",
              "            progress {\n",
              "                /* gets rid of default border in Firefox and Opera. */\n",
              "                border: none;\n",
              "                /* Needs to be in here for Safari polyfill so background images work as expected. */\n",
              "                background-size: auto;\n",
              "            }\n",
              "            .progress-bar-interrupted, .progress-bar-interrupted::-webkit-progress-bar {\n",
              "                background: #F44336;\n",
              "            }\n",
              "        </style>\n",
              "      <progress value='68' class='' max='336' style='width:300px; height:20px; vertical-align: middle;'></progress>\n",
              "      20.24% [68/336 07:11<28:18 0.0291]\n",
              "    </div>\n",
              "    "
            ],
            "text/plain": [
              "<IPython.core.display.HTML object>"
            ]
          },
          "metadata": {},
          "output_type": "display_data"
        },
        {
          "metadata": {
            "tags": null
          },
          "name": "stdout",
          "output_type": "stream",
          "text": [
            "LR Finder is complete, type {learner_name}.recorder.plot() to see the graph.\n",
            "Min numerical gradient: 1.10E-06\n"
          ]
        },
        {
          "data": {
            "text/html": [
              "\n",
              "    <div>\n",
              "        <style>\n",
              "            /* Turns off some styling */\n",
              "            progress {\n",
              "                /* gets rid of default border in Firefox and Opera. */\n",
              "                border: none;\n",
              "                /* Needs to be in here for Safari polyfill so background images work as expected. */\n",
              "                background-size: auto;\n",
              "            }\n",
              "            .progress-bar-interrupted, .progress-bar-interrupted::-webkit-progress-bar {\n",
              "                background: #F44336;\n",
              "            }\n",
              "        </style>\n",
              "      <progress value='1' class='' max='4' style='width:300px; height:20px; vertical-align: middle;'></progress>\n",
              "      25.00% [1/4 39:45<1:59:17]\n",
              "    </div>\n",
              "    \n",
              "<table border=\"1\" class=\"dataframe\">\n",
              "  <thead>\n",
              "    <tr style=\"text-align: left;\">\n",
              "      <th>epoch</th>\n",
              "      <th>train_loss</th>\n",
              "      <th>valid_loss</th>\n",
              "      <th>accuracy</th>\n",
              "      <th>time</th>\n",
              "    </tr>\n",
              "  </thead>\n",
              "  <tbody>\n",
              "    <tr>\n",
              "      <td>0</td>\n",
              "      <td>0.014109</td>\n",
              "      <td>0.027704</td>\n",
              "      <td>0.993044</td>\n",
              "      <td>39:45</td>\n",
              "    </tr>\n",
              "  </tbody>\n",
              "</table><p>\n",
              "\n",
              "    <div>\n",
              "        <style>\n",
              "            /* Turns off some styling */\n",
              "            progress {\n",
              "                /* gets rid of default border in Firefox and Opera. */\n",
              "                border: none;\n",
              "                /* Needs to be in here for Safari polyfill so background images work as expected. */\n",
              "                background-size: auto;\n",
              "            }\n",
              "            .progress-bar-interrupted, .progress-bar-interrupted::-webkit-progress-bar {\n",
              "                background: #F44336;\n",
              "            }\n",
              "        </style>\n",
              "      <progress value='57' class='' max='336' style='width:300px; height:20px; vertical-align: middle;'></progress>\n",
              "      16.96% [57/336 05:53<28:48 0.0253]\n",
              "    </div>\n",
              "    "
            ],
            "text/plain": [
              "<IPython.core.display.HTML object>"
            ]
          },
          "metadata": {},
          "output_type": "display_data"
        },
        {
          "output_type": "display_data",
          "data": {
            "text/html": [
              "<table border=\"1\" class=\"dataframe\">\n",
              "  <thead>\n",
              "    <tr style=\"text-align: left;\">\n",
              "      <th>epoch</th>\n",
              "      <th>train_loss</th>\n",
              "      <th>valid_loss</th>\n",
              "      <th>accuracy</th>\n",
              "      <th>time</th>\n",
              "    </tr>\n",
              "  </thead>\n",
              "  <tbody>\n",
              "    <tr>\n",
              "      <td>0</td>\n",
              "      <td>0.014109</td>\n",
              "      <td>0.027704</td>\n",
              "      <td>0.993044</td>\n",
              "      <td>39:45</td>\n",
              "    </tr>\n",
              "    <tr>\n",
              "      <td>1</td>\n",
              "      <td>0.028390</td>\n",
              "      <td>0.027052</td>\n",
              "      <td>0.993600</td>\n",
              "      <td>40:03</td>\n",
              "    </tr>\n",
              "    <tr>\n",
              "      <td>2</td>\n",
              "      <td>0.014898</td>\n",
              "      <td>0.028602</td>\n",
              "      <td>0.992766</td>\n",
              "      <td>39:14</td>\n",
              "    </tr>\n",
              "    <tr>\n",
              "      <td>3</td>\n",
              "      <td>0.038602</td>\n",
              "      <td>0.022882</td>\n",
              "      <td>0.993879</td>\n",
              "      <td>38:51</td>\n",
              "    </tr>\n",
              "  </tbody>\n",
              "</table>"
            ],
            "text/plain": [
              "<IPython.core.display.HTML object>"
            ]
          },
          "metadata": {}
        },
        {
          "output_type": "stream",
          "name": "stdout",
          "text": [
            "3593\n",
            "Accuracy: \n",
            "0.9871973281380462\n",
            "[('manik_bandhopaddhay', 'shirshendu'), ('manik_bandhopaddhay', 'shirshendu'), ('manik_bandhopaddhay', 'shirshendu'), ('manik_bandhopaddhay', 'tarashonkor'), ('manik_bandhopaddhay', 'shirshendu'), ('manik_bandhopaddhay', 'zahir_rayhan'), ('MZI', 'humayun_ahmed'), ('shordindu', 'robindronath'), ('shordindu', 'robindronath'), ('shordindu', 'robindronath'), ('shordindu', 'robindronath'), ('shordindu', 'robindronath'), ('shordindu', 'robindronath'), ('shordindu', 'robindronath'), ('shordindu', 'robindronath'), ('shordindu', 'robindronath'), ('shordindu', 'robindronath'), ('shordindu', 'robindronath'), ('shordindu', 'robindronath'), ('shordindu', 'robindronath'), ('shordindu', 'shorotchandra'), ('shordindu', 'shorotchandra'), ('shordindu', 'shorotchandra'), ('shordindu', 'shorotchandra'), ('shordindu', 'bongkim'), ('shordindu', 'bongkim'), ('shordindu', 'bongkim'), ('shordindu', 'bongkim'), ('shordindu', 'bongkim'), ('shordindu', 'shorotchandra'), ('shordindu', 'shorotchandra'), ('shordindu', 'shunil_gongopaddhay'), ('shordindu', 'shunil_gongopaddhay'), ('shordindu', 'shorotchandra'), ('shordindu', 'shorotchandra'), ('zahir_rayhan', 'tarashonkor'), ('zahir_rayhan', 'shirshendu'), ('robindronath', 'bongkim'), ('robindronath', 'bongkim'), ('robindronath', 'bongkim'), ('robindronath', 'shorotchandra'), ('robindronath', 'bongkim'), ('robindronath', 'shorotchandra'), ('robindronath', 'bongkim'), ('humayun_ahmed', 'shunil_gongopaddhay'), ('shirshendu', 'tarashonkor')]\n",
            "0.9871973281380462 0.9869630088413186\n"
          ]
        },
        {
          "output_type": "display_data",
          "data": {
            "image/png": "[encoded data removed]",
            "text/plain": [
              "<Figure size 432x288 with 1 Axes>"
            ]
          },
          "metadata": {
            "needs_background": "light"
          }
        },
        {
          "output_type": "display_data",
          "data": {
            "image/png": "[encoded data removed]",
            "text/plain": [
              "<Figure size 432x288 with 1 Axes>"
            ]
          },
          "metadata": {
            "needs_background": "light"
          }
        }
      ]
    },
    {
      "cell_type": "code",
      "source": [
        "## 4\n",
        "train_index, test_index = next(splits)\n",
        "train_one_split(train_index, test_index)"
      ],
      "metadata": {
        "id": "6K5rgzyAk1Kq",
        "colab": {
          "base_uri": "https://localhost:8080/",
          "height": 1000
        },
        "outputId": "8b8aa313-3880-4e6e-8235-dd5af25c4e08"
      },
      "execution_count": null,
      "outputs": [
        {
          "output_type": "stream",
          "name": "stdout",
          "text": [
            "TRAIN len: 10779 VALID len: 3594 TEST len: 3593 VALID percent: 20.004 TEST percent: 19.999\n"
          ]
        },
        {
          "output_type": "display_data",
          "data": {
            "text/html": [
              ""
            ],
            "text/plain": [
              "<IPython.core.display.HTML object>"
            ]
          },
          "metadata": {}
        },
        {
          "output_type": "display_data",
          "data": {
            "text/html": [
              ""
            ],
            "text/plain": [
              "<IPython.core.display.HTML object>"
            ]
          },
          "metadata": {}
        },
        {
          "output_type": "display_data",
          "data": {
            "text/html": [
              "\n",
              "    <div>\n",
              "        <style>\n",
              "            /* Turns off some styling */\n",
              "            progress {\n",
              "                /* gets rid of default border in Firefox and Opera. */\n",
              "                border: none;\n",
              "                /* Needs to be in here for Safari polyfill so background images work as expected. */\n",
              "                background-size: auto;\n",
              "            }\n",
              "            .progress-bar-interrupted, .progress-bar-interrupted::-webkit-progress-bar {\n",
              "                background: #F44336;\n",
              "            }\n",
              "        </style>\n",
              "      <progress value='0' class='' max='1' style='width:300px; height:20px; vertical-align: middle;'></progress>\n",
              "      0.00% [0/1 00:00<00:00]\n",
              "    </div>\n",
              "    \n",
              "<table border=\"1\" class=\"dataframe\">\n",
              "  <thead>\n",
              "    <tr style=\"text-align: left;\">\n",
              "      <th>epoch</th>\n",
              "      <th>train_loss</th>\n",
              "      <th>valid_loss</th>\n",
              "      <th>accuracy</th>\n",
              "      <th>time</th>\n",
              "    </tr>\n",
              "  </thead>\n",
              "  <tbody>\n",
              "  </tbody>\n",
              "</table><p>\n",
              "\n",
              "    <div>\n",
              "        <style>\n",
              "            /* Turns off some styling */\n",
              "            progress {\n",
              "                /* gets rid of default border in Firefox and Opera. */\n",
              "                border: none;\n",
              "                /* Needs to be in here for Safari polyfill so background images work as expected. */\n",
              "                background-size: auto;\n",
              "            }\n",
              "            .progress-bar-interrupted, .progress-bar-interrupted::-webkit-progress-bar {\n",
              "                background: #F44336;\n",
              "            }\n",
              "        </style>\n",
              "      <progress value='94' class='' max='336' style='width:300px; height:20px; vertical-align: middle;'></progress>\n",
              "      27.98% [94/336 04:05<10:32 5.6580]\n",
              "    </div>\n",
              "    "
            ],
            "text/plain": [
              "<IPython.core.display.HTML object>"
            ]
          },
          "metadata": {}
        },
        {
          "output_type": "stream",
          "name": "stdout",
          "text": [
            "LR Finder is complete, type {learner_name}.recorder.plot() to see the graph.\n",
            "Min numerical gradient: 1.20E-01\n"
          ]
        },
        {
          "output_type": "display_data",
          "data": {
            "text/html": [
              "<table border=\"1\" class=\"dataframe\">\n",
              "  <thead>\n",
              "    <tr style=\"text-align: left;\">\n",
              "      <th>epoch</th>\n",
              "      <th>train_loss</th>\n",
              "      <th>valid_loss</th>\n",
              "      <th>accuracy</th>\n",
              "      <th>time</th>\n",
              "    </tr>\n",
              "  </thead>\n",
              "  <tbody>\n",
              "    <tr>\n",
              "      <td>0</td>\n",
              "      <td>0.348293</td>\n",
              "      <td>0.067501</td>\n",
              "      <td>0.987201</td>\n",
              "      <td>19:20</td>\n",
              "    </tr>\n",
              "    <tr>\n",
              "      <td>1</td>\n",
              "      <td>0.058144</td>\n",
              "      <td>0.044749</td>\n",
              "      <td>0.994157</td>\n",
              "      <td>19:04</td>\n",
              "    </tr>\n",
              "  </tbody>\n",
              "</table>"
            ],
            "text/plain": [
              "<IPython.core.display.HTML object>"
            ]
          },
          "metadata": {}
        },
        {
          "output_type": "display_data",
          "data": {
            "text/html": [
              "<table border=\"1\" class=\"dataframe\">\n",
              "  <thead>\n",
              "    <tr style=\"text-align: left;\">\n",
              "      <th>epoch</th>\n",
              "      <th>train_loss</th>\n",
              "      <th>valid_loss</th>\n",
              "      <th>accuracy</th>\n",
              "      <th>time</th>\n",
              "    </tr>\n",
              "  </thead>\n",
              "  <tbody>\n",
              "    <tr>\n",
              "      <td>0</td>\n",
              "      <td>0.424435</td>\n",
              "      <td>0.112690</td>\n",
              "      <td>0.972176</td>\n",
              "      <td>22:03</td>\n",
              "    </tr>\n",
              "    <tr>\n",
              "      <td>1</td>\n",
              "      <td>0.074492</td>\n",
              "      <td>0.071110</td>\n",
              "      <td>0.992766</td>\n",
              "      <td>22:06</td>\n",
              "    </tr>\n",
              "  </tbody>\n",
              "</table>"
            ],
            "text/plain": [
              "<IPython.core.display.HTML object>"
            ]
          },
          "metadata": {}
        },
        {
          "output_type": "display_data",
          "data": {
            "text/html": [
              "<table border=\"1\" class=\"dataframe\">\n",
              "  <thead>\n",
              "    <tr style=\"text-align: left;\">\n",
              "      <th>epoch</th>\n",
              "      <th>train_loss</th>\n",
              "      <th>valid_loss</th>\n",
              "      <th>accuracy</th>\n",
              "      <th>time</th>\n",
              "    </tr>\n",
              "  </thead>\n",
              "  <tbody>\n",
              "    <tr>\n",
              "      <td>0</td>\n",
              "      <td>0.809421</td>\n",
              "      <td>0.909161</td>\n",
              "      <td>0.748470</td>\n",
              "      <td>30:46</td>\n",
              "    </tr>\n",
              "    <tr>\n",
              "      <td>1</td>\n",
              "      <td>0.142902</td>\n",
              "      <td>0.849873</td>\n",
              "      <td>0.983306</td>\n",
              "      <td>30:44</td>\n",
              "    </tr>\n",
              "  </tbody>\n",
              "</table>"
            ],
            "text/plain": [
              "<IPython.core.display.HTML object>"
            ]
          },
          "metadata": {}
        },
        {
          "output_type": "display_data",
          "data": {
            "text/html": [
              "\n",
              "    <div>\n",
              "        <style>\n",
              "            /* Turns off some styling */\n",
              "            progress {\n",
              "                /* gets rid of default border in Firefox and Opera. */\n",
              "                border: none;\n",
              "                /* Needs to be in here for Safari polyfill so background images work as expected. */\n",
              "                background-size: auto;\n",
              "            }\n",
              "            .progress-bar-interrupted, .progress-bar-interrupted::-webkit-progress-bar {\n",
              "                background: #F44336;\n",
              "            }\n",
              "        </style>\n",
              "      <progress value='0' class='' max='1' style='width:300px; height:20px; vertical-align: middle;'></progress>\n",
              "      0.00% [0/1 00:00<00:00]\n",
              "    </div>\n",
              "    \n",
              "<table border=\"1\" class=\"dataframe\">\n",
              "  <thead>\n",
              "    <tr style=\"text-align: left;\">\n",
              "      <th>epoch</th>\n",
              "      <th>train_loss</th>\n",
              "      <th>valid_loss</th>\n",
              "      <th>accuracy</th>\n",
              "      <th>time</th>\n",
              "    </tr>\n",
              "  </thead>\n",
              "  <tbody>\n",
              "  </tbody>\n",
              "</table><p>\n",
              "\n",
              "    <div>\n",
              "        <style>\n",
              "            /* Turns off some styling */\n",
              "            progress {\n",
              "                /* gets rid of default border in Firefox and Opera. */\n",
              "                border: none;\n",
              "                /* Needs to be in here for Safari polyfill so background images work as expected. */\n",
              "                background-size: auto;\n",
              "            }\n",
              "            .progress-bar-interrupted, .progress-bar-interrupted::-webkit-progress-bar {\n",
              "                background: #F44336;\n",
              "            }\n",
              "        </style>\n",
              "      <progress value='71' class='' max='336' style='width:300px; height:20px; vertical-align: middle;'></progress>\n",
              "      21.13% [71/336 07:17<27:12 0.3578]\n",
              "    </div>\n",
              "    "
            ],
            "text/plain": [
              "<IPython.core.display.HTML object>"
            ]
          },
          "metadata": {}
        },
        {
          "output_type": "stream",
          "name": "stdout",
          "text": [
            "LR Finder is complete, type {learner_name}.recorder.plot() to see the graph.\n",
            "Min numerical gradient: 1.32E-06\n"
          ]
        },
        {
          "output_type": "display_data",
          "data": {
            "text/html": [
              "<table border=\"1\" class=\"dataframe\">\n",
              "  <thead>\n",
              "    <tr style=\"text-align: left;\">\n",
              "      <th>epoch</th>\n",
              "      <th>train_loss</th>\n",
              "      <th>valid_loss</th>\n",
              "      <th>accuracy</th>\n",
              "      <th>time</th>\n",
              "    </tr>\n",
              "  </thead>\n",
              "  <tbody>\n",
              "    <tr>\n",
              "      <td>0</td>\n",
              "      <td>0.108719</td>\n",
              "      <td>5.856205</td>\n",
              "      <td>0.980523</td>\n",
              "      <td>39:47</td>\n",
              "    </tr>\n",
              "    <tr>\n",
              "      <td>1</td>\n",
              "      <td>0.115173</td>\n",
              "      <td>3.913756</td>\n",
              "      <td>0.981636</td>\n",
              "      <td>39:18</td>\n",
              "    </tr>\n",
              "    <tr>\n",
              "      <td>2</td>\n",
              "      <td>0.102716</td>\n",
              "      <td>4.209075</td>\n",
              "      <td>0.982193</td>\n",
              "      <td>38:48</td>\n",
              "    </tr>\n",
              "    <tr>\n",
              "      <td>3</td>\n",
              "      <td>0.097650</td>\n",
              "      <td>0.601075</td>\n",
              "      <td>0.982193</td>\n",
              "      <td>39:52</td>\n",
              "    </tr>\n",
              "  </tbody>\n",
              "</table>"
            ],
            "text/plain": [
              "<IPython.core.display.HTML object>"
            ]
          },
          "metadata": {}
        },
        {
          "output_type": "stream",
          "name": "stdout",
          "text": [
            "3593\n",
            "Accuracy: \n",
            "0.9679933203451155\n",
            "[('manik_bandhopaddhay', 'robindronath'), ('manik_bandhopaddhay', 'MZI'), ('manik_bandhopaddhay', 'MZI'), ('manik_bandhopaddhay', 'shirshendu'), ('manik_bandhopaddhay', 'humayun_ahmed'), ('manik_bandhopaddhay', 'shirshendu'), ('manik_bandhopaddhay', 'shirshendu'), ('manik_bandhopaddhay', 'humayun_ahmed'), ('bongkim', 'toslima_nasrin'), ('bongkim', 'toslima_nasrin'), ('bongkim', 'shunil_gongopaddhay'), ('bongkim', 'robindronath'), ('bongkim', 'toslima_nasrin'), ('bongkim', 'robindronath'), ('MZI', 'humayun_ahmed'), ('MZI', 'humayun_ahmed'), ('MZI', 'shottojit_roy'), ('MZI', 'shottojit_roy'), ('MZI', 'humayun_ahmed'), ('MZI', 'shirshendu'), ('MZI', 'tarashonkor'), ('MZI', 'shottojit_roy'), ('MZI', 'robindronath'), ('MZI', 'robindronath'), ('MZI', 'robindronath'), ('shordindu', 'robindronath'), ('shordindu', 'shomresh'), ('shordindu', 'shorotchandra'), ('shordindu', 'shorotchandra'), ('shordindu', 'robindronath'), ('shordindu', 'robindronath'), ('shordindu', 'nazrul'), ('shordindu', 'manik_bandhopaddhay'), ('shordindu', 'manik_bandhopaddhay'), ('shordindu', 'robindronath'), ('shordindu', 'robindronath'), ('shordindu', 'toslima_nasrin'), ('shordindu', 'tarashonkor'), ('shordindu', 'shunil_gongopaddhay'), ('shordindu', 'humayun_ahmed'), ('shordindu', 'shunil_gongopaddhay'), ('shordindu', 'robindronath'), ('zahir_rayhan', 'humayun_ahmed'), ('zahir_rayhan', 'toslima_nasrin'), ('zahir_rayhan', 'toslima_nasrin'), ('zahir_rayhan', 'humayun_ahmed'), ('zahir_rayhan', 'humayun_ahmed'), ('zahir_rayhan', 'humayun_ahmed'), ('zahir_rayhan', 'shirshendu'), ('robindronath', 'shorotchandra'), ('robindronath', 'humayun_ahmed'), ('robindronath', 'shomresh'), ('humayun_ahmed', 'shirshendu'), ('humayun_ahmed', 'shunil_gongopaddhay'), ('humayun_ahmed', 'shirshendu'), ('humayun_ahmed', 'shomresh'), ('humayun_ahmed', 'shomresh'), ('humayun_ahmed', 'shomresh'), ('humayun_ahmed', 'shirshendu'), ('humayun_ahmed', 'shomresh'), ('nihar_ronjon_gupta', 'shottojit_roy'), ('nihar_ronjon_gupta', 'tarashonkor'), ('nihar_ronjon_gupta', 'tarashonkor'), ('nihar_ronjon_gupta', 'shomresh'), ('nihar_ronjon_gupta', 'robindronath'), ('nihar_ronjon_gupta', 'shunil_gongopaddhay'), ('nihar_ronjon_gupta', 'shunil_gongopaddhay'), ('nihar_ronjon_gupta', 'shomresh'), ('shirshendu', 'humayun_ahmed'), ('shirshendu', 'humayun_ahmed'), ('shirshendu', 'robindronath'), ('shirshendu', 'robindronath'), ('shirshendu', 'robindronath'), ('shirshendu', 'robindronath'), ('shirshendu', 'robindronath'), ('shirshendu', 'robindronath'), ('shirshendu', 'robindronath'), ('shomresh', 'shirshendu'), ('shomresh', 'humayun_ahmed'), ('shomresh', 'shirshendu'), ('shomresh', 'robindronath'), ('shomresh', 'humayun_ahmed'), ('shomresh', 'humayun_ahmed'), ('shomresh', 'shordindu'), ('shomresh', 'shordindu'), ('shomresh', 'shordindu'), ('shomresh', 'shirshendu'), ('shomresh', 'robindronath'), ('shomresh', 'robindronath'), ('shomresh', 'shirshendu'), ('shunil_gongopaddhay', 'tarashonkor'), ('shunil_gongopaddhay', 'nihar_ronjon_gupta'), ('shunil_gongopaddhay', 'nazrul'), ('shunil_gongopaddhay', 'nazrul'), ('shunil_gongopaddhay', 'MZI'), ('shunil_gongopaddhay', 'robindronath'), ('shunil_gongopaddhay', 'shirshendu'), ('toslima_nasrin', 'shirshendu'), ('toslima_nasrin', 'shunil_gongopaddhay'), ('tarashonkor', 'toslima_nasrin'), ('tarashonkor', 'shorotchandra'), ('tarashonkor', 'shorotchandra'), ('tarashonkor', 'shorotchandra'), ('tarashonkor', 'shorotchandra'), ('tarashonkor', 'toslima_nasrin'), ('tarashonkor', 'toslima_nasrin'), ('tarashonkor', 'shorotchandra'), ('tarashonkor', 'toslima_nasrin'), ('tarashonkor', 'toslima_nasrin'), ('tarashonkor', 'toslima_nasrin'), ('tarashonkor', 'toslima_nasrin'), ('tarashonkor', 'toslima_nasrin'), ('tarashonkor', 'toslima_nasrin'), ('tarashonkor', 'manik_bandhopaddhay'), ('tarashonkor', 'nihar_ronjon_gupta')]\n",
            "0.9679933203451155 0.9678171032362762\n"
          ]
        },
        {
          "output_type": "display_data",
          "data": {
            "image/png": "[encoded data removed]",
            "text/plain": [
              "<Figure size 432x288 with 1 Axes>"
            ]
          },
          "metadata": {
            "needs_background": "light"
          }
        },
        {
          "output_type": "display_data",
          "data": {
            "image/png": "[encoded data removed]",
            "text/plain": [
              "<Figure size 432x288 with 1 Axes>"
            ]
          },
          "metadata": {
            "needs_background": "light"
          }
        }
      ]
    },
    {
      "cell_type": "code",
      "source": [
        "## 5\n",
        "train_index, test_index = next(splits)\n",
        "train_one_split(train_index, test_index)"
      ],
      "metadata": {
        "id": "eWX4TnKak1Nl",
        "colab": {
          "base_uri": "https://localhost:8080/",
          "height": 398
        },
        "outputId": "d1f1a669-194e-4952-a0e3-5a121a9a5de6"
      },
      "execution_count": null,
      "outputs": [
        {
          "output_type": "stream",
          "name": "stdout",
          "text": [
            "TRAIN len: 10779 VALID len: 3594 TEST len: 3593 VALID percent: 20.004 TEST percent: 19.999\n"
          ]
        },
        {
          "output_type": "display_data",
          "data": {
            "text/html": [
              ""
            ],
            "text/plain": [
              "<IPython.core.display.HTML object>"
            ]
          },
          "metadata": {}
        },
        {
          "output_type": "display_data",
          "data": {
            "text/html": [
              ""
            ],
            "text/plain": [
              "<IPython.core.display.HTML object>"
            ]
          },
          "metadata": {}
        },
        {
          "output_type": "display_data",
          "data": {
            "text/html": [
              "<table border=\"1\" class=\"dataframe\">\n",
              "  <thead>\n",
              "    <tr style=\"text-align: left;\">\n",
              "      <th>epoch</th>\n",
              "      <th>train_loss</th>\n",
              "      <th>valid_loss</th>\n",
              "      <th>accuracy</th>\n",
              "      <th>time</th>\n",
              "    </tr>\n",
              "  </thead>\n",
              "  <tbody>\n",
              "    <tr>\n",
              "      <td>0</td>\n",
              "      <td>0.168669</td>\n",
              "      <td>0.066512</td>\n",
              "      <td>0.984418</td>\n",
              "      <td>14:25</td>\n",
              "    </tr>\n",
              "    <tr>\n",
              "      <td>1</td>\n",
              "      <td>0.055119</td>\n",
              "      <td>0.037400</td>\n",
              "      <td>0.991653</td>\n",
              "      <td>14:35</td>\n",
              "    </tr>\n",
              "  </tbody>\n",
              "</table>"
            ],
            "text/plain": [
              "<IPython.core.display.HTML object>"
            ]
          },
          "metadata": {}
        },
        {
          "output_type": "display_data",
          "data": {
            "text/html": [
              "<table border=\"1\" class=\"dataframe\">\n",
              "  <thead>\n",
              "    <tr style=\"text-align: left;\">\n",
              "      <th>epoch</th>\n",
              "      <th>train_loss</th>\n",
              "      <th>valid_loss</th>\n",
              "      <th>accuracy</th>\n",
              "      <th>time</th>\n",
              "    </tr>\n",
              "  </thead>\n",
              "  <tbody>\n",
              "    <tr>\n",
              "      <td>0</td>\n",
              "      <td>0.188419</td>\n",
              "      <td>0.108746</td>\n",
              "      <td>0.975515</td>\n",
              "      <td>17:16</td>\n",
              "    </tr>\n",
              "    <tr>\n",
              "      <td>1</td>\n",
              "      <td>0.037040</td>\n",
              "      <td>0.034639</td>\n",
              "      <td>0.993879</td>\n",
              "      <td>16:37</td>\n",
              "    </tr>\n",
              "  </tbody>\n",
              "</table>"
            ],
            "text/plain": [
              "<IPython.core.display.HTML object>"
            ]
          },
          "metadata": {}
        },
        {
          "output_type": "display_data",
          "data": {
            "text/html": [
              "<table border=\"1\" class=\"dataframe\">\n",
              "  <thead>\n",
              "    <tr style=\"text-align: left;\">\n",
              "      <th>epoch</th>\n",
              "      <th>train_loss</th>\n",
              "      <th>valid_loss</th>\n",
              "      <th>accuracy</th>\n",
              "      <th>time</th>\n",
              "    </tr>\n",
              "  </thead>\n",
              "  <tbody>\n",
              "    <tr>\n",
              "      <td>0</td>\n",
              "      <td>0.234920</td>\n",
              "      <td>0.383777</td>\n",
              "      <td>0.902059</td>\n",
              "      <td>23:38</td>\n",
              "    </tr>\n",
              "    <tr>\n",
              "      <td>1</td>\n",
              "      <td>0.032390</td>\n",
              "      <td>2.236619</td>\n",
              "      <td>0.983027</td>\n",
              "      <td>24:24</td>\n",
              "    </tr>\n",
              "  </tbody>\n",
              "</table>"
            ],
            "text/plain": [
              "<IPython.core.display.HTML object>"
            ]
          },
          "metadata": {}
        },
        {
          "output_type": "display_data",
          "data": {
            "text/html": [
              "\n",
              "    <div>\n",
              "        <style>\n",
              "            /* Turns off some styling */\n",
              "            progress {\n",
              "                /* gets rid of default border in Firefox and Opera. */\n",
              "                border: none;\n",
              "                /* Needs to be in here for Safari polyfill so background images work as expected. */\n",
              "                background-size: auto;\n",
              "            }\n",
              "            .progress-bar-interrupted, .progress-bar-interrupted::-webkit-progress-bar {\n",
              "                background: #F44336;\n",
              "            }\n",
              "        </style>\n",
              "      <progress value='0' class='' max='4' style='width:300px; height:20px; vertical-align: middle;'></progress>\n",
              "      0.00% [0/4 00:00<00:00]\n",
              "    </div>\n",
              "    \n",
              "<table border=\"1\" class=\"dataframe\">\n",
              "  <thead>\n",
              "    <tr style=\"text-align: left;\">\n",
              "      <th>epoch</th>\n",
              "      <th>train_loss</th>\n",
              "      <th>valid_loss</th>\n",
              "      <th>accuracy</th>\n",
              "      <th>time</th>\n",
              "    </tr>\n",
              "  </thead>\n",
              "  <tbody>\n",
              "  </tbody>\n",
              "</table><p>\n",
              "\n",
              "    <div>\n",
              "        <style>\n",
              "            /* Turns off some styling */\n",
              "            progress {\n",
              "                /* gets rid of default border in Firefox and Opera. */\n",
              "                border: none;\n",
              "                /* Needs to be in here for Safari polyfill so background images work as expected. */\n",
              "                background-size: auto;\n",
              "            }\n",
              "            .progress-bar-interrupted, .progress-bar-interrupted::-webkit-progress-bar {\n",
              "                background: #F44336;\n",
              "            }\n",
              "        </style>\n",
              "      <progress value='13' class='' max='336' style='width:300px; height:20px; vertical-align: middle;'></progress>\n",
              "      3.87% [13/336 01:08<28:09 0.0256]\n",
              "    </div>\n",
              "    "
            ],
            "text/plain": [
              "<IPython.core.display.HTML object>"
            ]
          },
          "metadata": {}
        }
      ]
    },
    {
      "cell_type": "code",
      "source": [
        "train_one_split(train_index, test_index, skip_start=True)"
      ],
      "metadata": {
        "id": "Sg38xAFpDOif",
        "colab": {
          "base_uri": "https://localhost:8080/",
          "height": 299
        },
        "outputId": "710e514e-a342-481f-9556-18e4d6f700e9"
      },
      "execution_count": null,
      "outputs": [
        {
          "metadata": {
            "tags": null
          },
          "name": "stdout",
          "output_type": "stream",
          "text": [
            "TRAIN len: 10779 VALID len: 3594 TEST len: 3593 VALID percent: 20.004 TEST percent: 19.999\n"
          ]
        },
        {
          "data": {
            "text/html": [
              ""
            ],
            "text/plain": [
              "<IPython.core.display.HTML object>"
            ]
          },
          "metadata": {},
          "output_type": "display_data"
        },
        {
          "data": {
            "text/html": [
              ""
            ],
            "text/plain": [
              "<IPython.core.display.HTML object>"
            ]
          },
          "metadata": {},
          "output_type": "display_data"
        },
        {
          "data": {
            "text/html": [
              "<table border=\"1\" class=\"dataframe\">\n",
              "  <thead>\n",
              "    <tr style=\"text-align: left;\">\n",
              "      <th>epoch</th>\n",
              "      <th>train_loss</th>\n",
              "      <th>valid_loss</th>\n",
              "      <th>accuracy</th>\n",
              "      <th>time</th>\n",
              "    </tr>\n",
              "  </thead>\n",
              "  <tbody>\n",
              "    <tr>\n",
              "      <td>0</td>\n",
              "      <td>0.018828</td>\n",
              "      <td>0.184758</td>\n",
              "      <td>0.990818</td>\n",
              "      <td>29:48</td>\n",
              "    </tr>\n",
              "    <tr>\n",
              "      <td>1</td>\n",
              "      <td>0.016769</td>\n",
              "      <td>1.600692</td>\n",
              "      <td>0.990262</td>\n",
              "      <td>29:34</td>\n",
              "    </tr>\n",
              "    <tr>\n",
              "      <td>2</td>\n",
              "      <td>0.019496</td>\n",
              "      <td>0.760913</td>\n",
              "      <td>0.989149</td>\n",
              "      <td>30:22</td>\n",
              "    </tr>\n",
              "    <tr>\n",
              "      <td>3</td>\n",
              "      <td>0.018946</td>\n",
              "      <td>0.156053</td>\n",
              "      <td>0.992487</td>\n",
              "      <td>30:05</td>\n",
              "    </tr>\n",
              "  </tbody>\n",
              "</table>"
            ],
            "text/plain": [
              "<IPython.core.display.HTML object>"
            ]
          },
          "metadata": {},
          "output_type": "display_data"
        },
        {
          "output_type": "stream",
          "name": "stdout",
          "text": [
            "3593\n",
            "Accuracy: \n",
            "0.9941553019760646\n",
            "[('manik_bandhopaddhay', 'robindronath'), ('manik_bandhopaddhay', 'bongkim'), ('bongkim', 'robindronath'), ('MZI', 'humayun_ahmed'), ('MZI', 'nazrul'), ('zahir_rayhan', 'bongkim'), ('zahir_rayhan', 'MZI'), ('shorotchandra', 'bongkim'), ('robindronath', 'bongkim'), ('humayun_ahmed', 'MZI'), ('humayun_ahmed', 'shorotchandra'), ('humayun_ahmed', 'MZI'), ('shirshendu', 'tarashonkor'), ('shomresh', 'shunil_gongopaddhay'), ('shomresh', 'robindronath'), ('shunil_gongopaddhay', 'tarashonkor'), ('toslima_nasrin', 'shottojit_roy'), ('toslima_nasrin', 'shottojit_roy'), ('toslima_nasrin', 'shirshendu'), ('tarashonkor', 'nihar_ronjon_gupta'), ('tarashonkor', 'shirshendu')]\n",
            "0.9941553019760646 0.9941573539730338\n"
          ]
        }
      ]
    },
    {
      "cell_type": "code",
      "source": [
        "accuracies = [0.9927657206455203, 0.9924853882549401, 0.9871973281380462, 0.9679933203451155, 0.9941553019760646]\n",
        "f1_scores = [0.9927830579714404, 0.9924854047529802, 0.9869630088413186, 0.9678171032362762, 0.9941573539730338]"
      ],
      "metadata": {
        "id": "pafgnkVn_hLN"
      },
      "execution_count": 1,
      "outputs": []
    },
    {
      "cell_type": "code",
      "source": [
        "from statistics import mean\n",
        "\n",
        "mean(accuracies), mean(f1_scores)"
      ],
      "metadata": {
        "id": "BO7IOqmqHj3f",
        "colab": {
          "base_uri": "https://localhost:8080/"
        },
        "outputId": "dfce5fce-242b-4135-cc99-d0d4dd8c3e0a"
      },
      "execution_count": 4,
      "outputs": [
        {
          "output_type": "execute_result",
          "data": {
            "text/plain": [
              "(0.9869194118719373, 0.9868411857550099)"
            ]
          },
          "metadata": {},
          "execution_count": 4
        }
      ]
    },
    {
      "cell_type": "code",
      "source": [
        ""
      ],
      "metadata": {
        "id": "mW2oEuhJ8Bg6"
      },
      "execution_count": null,
      "outputs": []
    }
  ],
  "metadata": {
    "accelerator": "GPU",
    "colab": {
      "collapsed_sections": [
        "vSd6hQmPrwNP",
        "uRKq5Yu2uQL4",
        "6P0plwZfiAy2"
      ],
      "name": "Copy of Subword News K Fold BAAD16.ipynb",
      "provenance": []
    },
    "kernelspec": {
      "display_name": "Python 3",
      "name": "python3"
    }
  },
  "nbformat": 4,
  "nbformat_minor": 0
}