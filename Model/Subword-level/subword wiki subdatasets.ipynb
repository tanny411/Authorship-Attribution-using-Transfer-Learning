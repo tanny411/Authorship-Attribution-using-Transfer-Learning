{
  "nbformat": 4,
  "nbformat_minor": 0,
  "metadata": {
    "colab": {
      "name": "All_Auth_SP-ULMFiT(Wiki).ipynb",
      "version": "0.3.2",
      "provenance": [],
      "collapsed_sections": [
        "Fpm1OeIdfwn9",
        "bnT8JAN_TsO0",
        "q7aUaAtW68tQ",
        "cVLgfmqED0Ki",
        "5LvJUB25D0Kk",
        "wOwcYQqxD0Lp",
        "WJHS04S06JTp",
        "yMLMnuE-6JTr",
        "edwHetwj6JUa",
        "0K1FpwcfJ-tT",
        "Hki_gEqiJ-tj",
        "za8cqGqgJ-vB",
        "NCyFb_iM8261"
      ]
    },
    "kernelspec": {
      "name": "python3",
      "display_name": "Python 3"
    },
    "accelerator": "GPU"
  },
  "cells": [
    {
      "cell_type": "markdown",
      "metadata": {
        "id": "drMEaYOtIOe4",
        "colab_type": "text"
      },
      "source": [
        "Wiki crawled at night of 10/june/2019"
      ]
    },
    {
      "cell_type": "code",
      "metadata": {
        "id": "ht3mOv6BWiqJ",
        "colab_type": "code",
        "outputId": "f653e275-78a5-4282-988b-8b83f071a068",
        "colab": {
          "base_uri": "https://localhost:8080/",
          "height": 221
        }
      },
      "source": [
        "!pip install sentencepiece\n",
        "!pip install tf_sentencepiece"
      ],
      "execution_count": 0,
      "outputs": [
        {
          "output_type": "stream",
          "text": [
            "Collecting sentencepiece\n",
            "\u001b[?25l  Downloading https://files.pythonhosted.org/packages/00/95/7f357995d5eb1131aa2092096dca14a6fc1b1d2860bd99c22a612e1d1019/sentencepiece-0.1.82-cp36-cp36m-manylinux1_x86_64.whl (1.0MB)\n",
            "\u001b[K     |████████████████████████████████| 1.0MB 3.4MB/s \n",
            "\u001b[?25hInstalling collected packages: sentencepiece\n",
            "Successfully installed sentencepiece-0.1.82\n",
            "Collecting tf_sentencepiece\n",
            "\u001b[?25l  Downloading https://files.pythonhosted.org/packages/72/fe/363d78d29c556d0da642ffe285c2c7573b6a83239a9b0d08d83376c9fbac/tf_sentencepiece-0.1.82.1-py2.py3-none-manylinux1_x86_64.whl (2.8MB)\n",
            "\u001b[K     |████████████████████████████████| 2.8MB 3.4MB/s \n",
            "\u001b[?25hInstalling collected packages: tf-sentencepiece\n",
            "Successfully installed tf-sentencepiece-0.1.82.1\n"
          ],
          "name": "stdout"
        }
      ]
    },
    {
      "cell_type": "code",
      "metadata": {
        "id": "GYHRGS6iGKm_",
        "colab_type": "code",
        "outputId": "7bcf7bd3-e9b3-49d9-9296-ea240f34ad7d",
        "colab": {
          "base_uri": "https://localhost:8080/",
          "height": 919
        }
      },
      "source": [
        "!pip install fastai==1.0.52\n",
        "from fastai import *\n",
        "from fastai.text import *\n",
        "\n",
        "import re\n",
        "import sentencepiece as spm"
      ],
      "execution_count": 0,
      "outputs": [
        {
          "output_type": "stream",
          "text": [
            "Collecting fastai==1.0.52\n",
            "\u001b[?25l  Downloading https://files.pythonhosted.org/packages/de/07/7203179ba2f211bfbda364f883f645aea4d09ccfd48ce5dbb00a894722bf/fastai-1.0.52-py3-none-any.whl (219kB)\n",
            "\u001b[K     |████████████████████████████████| 225kB 3.4MB/s \n",
            "\u001b[?25hRequirement already satisfied: numexpr in /usr/local/lib/python3.6/dist-packages (from fastai==1.0.52) (2.6.9)\n",
            "Requirement already satisfied: packaging in /usr/local/lib/python3.6/dist-packages (from fastai==1.0.52) (19.0)\n",
            "Requirement already satisfied: torch>=1.0.0 in /usr/local/lib/python3.6/dist-packages (from fastai==1.0.52) (1.1.0)\n",
            "Requirement already satisfied: scipy in /usr/local/lib/python3.6/dist-packages (from fastai==1.0.52) (1.3.0)\n",
            "Requirement already satisfied: requests in /usr/local/lib/python3.6/dist-packages (from fastai==1.0.52) (2.21.0)\n",
            "Requirement already satisfied: dataclasses; python_version < \"3.7\" in /usr/local/lib/python3.6/dist-packages (from fastai==1.0.52) (0.6)\n",
            "Requirement already satisfied: matplotlib in /usr/local/lib/python3.6/dist-packages (from fastai==1.0.52) (3.0.3)\n",
            "Requirement already satisfied: beautifulsoup4 in /usr/local/lib/python3.6/dist-packages (from fastai==1.0.52) (4.6.3)\n",
            "Requirement already satisfied: pandas in /usr/local/lib/python3.6/dist-packages (from fastai==1.0.52) (0.24.2)\n",
            "Requirement already satisfied: Pillow in /usr/local/lib/python3.6/dist-packages (from fastai==1.0.52) (4.3.0)\n",
            "Requirement already satisfied: torchvision in /usr/local/lib/python3.6/dist-packages (from fastai==1.0.52) (0.3.0)\n",
            "Requirement already satisfied: pyyaml in /usr/local/lib/python3.6/dist-packages (from fastai==1.0.52) (3.13)\n",
            "Requirement already satisfied: fastprogress>=0.1.19 in /usr/local/lib/python3.6/dist-packages (from fastai==1.0.52) (0.1.21)\n",
            "Requirement already satisfied: bottleneck in /usr/local/lib/python3.6/dist-packages (from fastai==1.0.52) (1.2.1)\n",
            "Requirement already satisfied: numpy>=1.15 in /usr/local/lib/python3.6/dist-packages (from fastai==1.0.52) (1.16.4)\n",
            "Requirement already satisfied: typing in /usr/local/lib/python3.6/dist-packages (from fastai==1.0.52) (3.7.4)\n",
            "Requirement already satisfied: spacy>=2.0.18 in /usr/local/lib/python3.6/dist-packages (from fastai==1.0.52) (2.1.4)\n",
            "Requirement already satisfied: nvidia-ml-py3 in /usr/local/lib/python3.6/dist-packages (from fastai==1.0.52) (7.352.0)\n",
            "Requirement already satisfied: six in /usr/local/lib/python3.6/dist-packages (from packaging->fastai==1.0.52) (1.12.0)\n",
            "Requirement already satisfied: pyparsing>=2.0.2 in /usr/local/lib/python3.6/dist-packages (from packaging->fastai==1.0.52) (2.4.0)\n",
            "Requirement already satisfied: chardet<3.1.0,>=3.0.2 in /usr/local/lib/python3.6/dist-packages (from requests->fastai==1.0.52) (3.0.4)\n",
            "Requirement already satisfied: certifi>=2017.4.17 in /usr/local/lib/python3.6/dist-packages (from requests->fastai==1.0.52) (2019.6.16)\n",
            "Requirement already satisfied: idna<2.9,>=2.5 in /usr/local/lib/python3.6/dist-packages (from requests->fastai==1.0.52) (2.8)\n",
            "Requirement already satisfied: urllib3<1.25,>=1.21.1 in /usr/local/lib/python3.6/dist-packages (from requests->fastai==1.0.52) (1.24.3)\n",
            "Requirement already satisfied: kiwisolver>=1.0.1 in /usr/local/lib/python3.6/dist-packages (from matplotlib->fastai==1.0.52) (1.1.0)\n",
            "Requirement already satisfied: python-dateutil>=2.1 in /usr/local/lib/python3.6/dist-packages (from matplotlib->fastai==1.0.52) (2.5.3)\n",
            "Requirement already satisfied: cycler>=0.10 in /usr/local/lib/python3.6/dist-packages (from matplotlib->fastai==1.0.52) (0.10.0)\n",
            "Requirement already satisfied: pytz>=2011k in /usr/local/lib/python3.6/dist-packages (from pandas->fastai==1.0.52) (2018.9)\n",
            "Requirement already satisfied: olefile in /usr/local/lib/python3.6/dist-packages (from Pillow->fastai==1.0.52) (0.46)\n",
            "Requirement already satisfied: wasabi<1.1.0,>=0.2.0 in /usr/local/lib/python3.6/dist-packages (from spacy>=2.0.18->fastai==1.0.52) (0.2.2)\n",
            "Requirement already satisfied: thinc<7.1.0,>=7.0.2 in /usr/local/lib/python3.6/dist-packages (from spacy>=2.0.18->fastai==1.0.52) (7.0.4)\n",
            "Requirement already satisfied: jsonschema<3.1.0,>=2.6.0 in /usr/local/lib/python3.6/dist-packages (from spacy>=2.0.18->fastai==1.0.52) (2.6.0)\n",
            "Requirement already satisfied: murmurhash<1.1.0,>=0.28.0 in /usr/local/lib/python3.6/dist-packages (from spacy>=2.0.18->fastai==1.0.52) (1.0.2)\n",
            "Requirement already satisfied: preshed<2.1.0,>=2.0.1 in /usr/local/lib/python3.6/dist-packages (from spacy>=2.0.18->fastai==1.0.52) (2.0.1)\n",
            "Requirement already satisfied: cymem<2.1.0,>=2.0.2 in /usr/local/lib/python3.6/dist-packages (from spacy>=2.0.18->fastai==1.0.52) (2.0.2)\n",
            "Requirement already satisfied: srsly<1.1.0,>=0.0.5 in /usr/local/lib/python3.6/dist-packages (from spacy>=2.0.18->fastai==1.0.52) (0.0.7)\n",
            "Requirement already satisfied: plac<1.0.0,>=0.9.6 in /usr/local/lib/python3.6/dist-packages (from spacy>=2.0.18->fastai==1.0.52) (0.9.6)\n",
            "Requirement already satisfied: blis<0.3.0,>=0.2.2 in /usr/local/lib/python3.6/dist-packages (from spacy>=2.0.18->fastai==1.0.52) (0.2.4)\n",
            "Requirement already satisfied: setuptools in /usr/local/lib/python3.6/dist-packages (from kiwisolver>=1.0.1->matplotlib->fastai==1.0.52) (41.0.1)\n",
            "Requirement already satisfied: tqdm<5.0.0,>=4.10.0 in /usr/local/lib/python3.6/dist-packages (from thinc<7.1.0,>=7.0.2->spacy>=2.0.18->fastai==1.0.52) (4.28.1)\n",
            "Installing collected packages: fastai\n",
            "  Found existing installation: fastai 1.0.54\n",
            "    Uninstalling fastai-1.0.54:\n",
            "      Successfully uninstalled fastai-1.0.54\n",
            "Successfully installed fastai-1.0.52\n"
          ],
          "name": "stdout"
        }
      ]
    },
    {
      "cell_type": "code",
      "metadata": {
        "id": "wXPpaCSPWQtN",
        "colab_type": "code",
        "outputId": "fdba61f9-c080-4b25-fe54-040805af083d",
        "colab": {
          "base_uri": "https://localhost:8080/",
          "height": 129
        }
      },
      "source": [
        "from google.colab import drive\n",
        "drive.mount('/content/gdrive')"
      ],
      "execution_count": 0,
      "outputs": [
        {
          "output_type": "stream",
          "text": [
            "Go to this URL in a browser: https://accounts.google.com/o/oauth2/auth?client_id=947318989803-6bn6qk8qdgf4n4g3pfee6491hc0brc4i.apps.googleusercontent.com&redirect_uri=urn%3Aietf%3Awg%3Aoauth%3A2.0%3Aoob&scope=email%20https%3A%2F%2Fwww.googleapis.com%2Fauth%2Fdocs.test%20https%3A%2F%2Fwww.googleapis.com%2Fauth%2Fdrive%20https%3A%2F%2Fwww.googleapis.com%2Fauth%2Fdrive.photos.readonly%20https%3A%2F%2Fwww.googleapis.com%2Fauth%2Fpeopleapi.readonly&response_type=code\n",
            "\n",
            "Enter your authorization code:\n",
            "··········\n",
            "Mounted at /content/gdrive\n"
          ],
          "name": "stdout"
        }
      ]
    },
    {
      "cell_type": "code",
      "metadata": {
        "id": "x8ANn5M3Xc9C",
        "colab_type": "code",
        "colab": {}
      },
      "source": [
        "import os\n",
        "path = Path(os.getcwd())\n",
        "path = path/'gdrive'/'My Drive'\n",
        "news=path/'Thesis Data'/'full doc csv'\n",
        "aa=path/'Thesis Data'/'Our dataset'\n",
        "aa2=path/'Thesis Data'/'AA dataset'\n",
        "wiki=path/'Thesis Data'/'wiki_data'/'Wiki'\n",
        "subsets = aa/'subsets'"
      ],
      "execution_count": 0,
      "outputs": []
    },
    {
      "cell_type": "code",
      "metadata": {
        "id": "O_jiB3-D3ojh",
        "colab_type": "code",
        "colab": {}
      },
      "source": [
        "subsets.ls()"
      ],
      "execution_count": 0,
      "outputs": []
    },
    {
      "cell_type": "markdown",
      "metadata": {
        "id": "TV1DGq8h-fq_",
        "colab_type": "text"
      },
      "source": [
        "## Load SP"
      ]
    },
    {
      "cell_type": "code",
      "metadata": {
        "id": "1hvRe6oT-fBH",
        "colab_type": "code",
        "colab": {}
      },
      "source": [
        "vocab_size = 30000\n",
        "model_prefix = 'sp_wiki'"
      ],
      "execution_count": 0,
      "outputs": []
    },
    {
      "cell_type": "code",
      "metadata": {
        "id": "t-VTowpvBDya",
        "colab_type": "code",
        "outputId": "20f062f5-f374-4f1e-c365-fec29314f96d",
        "colab": {
          "base_uri": "https://localhost:8080/",
          "height": 35
        }
      },
      "source": [
        "## load up the Processor\n",
        "sp = spm.SentencePieceProcessor()\n",
        "sp.load(f'{model_prefix}.model')"
      ],
      "execution_count": 0,
      "outputs": [
        {
          "output_type": "execute_result",
          "data": {
            "text/plain": [
              "True"
            ]
          },
          "metadata": {
            "tags": []
          },
          "execution_count": 6
        }
      ]
    },
    {
      "cell_type": "code",
      "metadata": {
        "id": "7f25k7nxP1oS",
        "colab_type": "code",
        "colab": {}
      },
      "source": [
        "itos = [] #{}\n",
        "with open(f'{model_prefix}.vocab','r') as f:\n",
        "    for line_num,line in enumerate(f):\n",
        "        itos.append(line.split(\"\\t\")[0])"
      ],
      "execution_count": 0,
      "outputs": []
    },
    {
      "cell_type": "code",
      "metadata": {
        "id": "cJg3UrwIJxLQ",
        "colab_type": "code",
        "outputId": "f92ad361-42a0-414d-f4fe-f685fcf437a0",
        "colab": {
          "base_uri": "https://localhost:8080/",
          "height": 35
        }
      },
      "source": [
        "len(itos)"
      ],
      "execution_count": 0,
      "outputs": [
        {
          "output_type": "execute_result",
          "data": {
            "text/plain": [
              "30000"
            ]
          },
          "metadata": {
            "tags": []
          },
          "execution_count": 8
        }
      ]
    },
    {
      "cell_type": "code",
      "metadata": {
        "id": "MPoVAW2EJzyG",
        "colab_type": "code",
        "outputId": "174d46fa-257d-4883-f25c-5477386d27d8",
        "colab": {
          "base_uri": "https://localhost:8080/",
          "height": 54
        }
      },
      "source": [
        "itos[:5], itos[-5:]"
      ],
      "execution_count": 0,
      "outputs": [
        {
          "output_type": "execute_result",
          "data": {
            "text/plain": [
              "(['<unk>', '<s>', '</s>', '▁', '।'],\n",
              " ['এইচএসপিএ', '▁ইকরিমা', '▁উস্কানি', '▁বাদানুবাদ', '/'])"
            ]
          },
          "metadata": {
            "tags": []
          },
          "execution_count": 9
        }
      ]
    },
    {
      "cell_type": "code",
      "metadata": {
        "id": "9pw4ZtL4blcM",
        "colab_type": "code",
        "colab": {}
      },
      "source": [
        "class SPTokenizer(BaseTokenizer):\n",
        "    \"Wrapper around a SentncePiece tokenizer to make it a `BaseTokenizer`.\"\n",
        "    def __init__(self, model_prefix:str):\n",
        "        self.tok = spm.SentencePieceProcessor()\n",
        "        self.tok.load(f'{model_prefix}.model')\n",
        "\n",
        "    def tokenizer(self, t:str) -> List[str]:\n",
        "        return self.tok.EncodeAsPieces(t)\n",
        "    \n",
        "class CustomTokenizer():\n",
        "    '''Wrapper for SentencePiece toeknizer to fit into Fast.ai V1'''\n",
        "    def __init__(self,tok_func:Callable,model_prefix:str, pre_rules:ListRules=None):\n",
        "        self.tok_func,self.model_prefix = tok_func,model_prefix\n",
        "        self.pre_rules  = ifnone(pre_rules,  defaults.text_pre_rules )\n",
        "        \n",
        "    def __repr__(self) -> str:\n",
        "        res = f'Tokenizer {self.tok_func.__name__} using `{self.model_prefix}` model with the following rules:\\n'\n",
        "        for rule in self.pre_rules: res += f' - {rule.__name__}\\n'\n",
        "        return res        \n",
        "\n",
        "    def process_text(self, t:str,tok:BaseTokenizer) -> List[str]:\n",
        "        \"Processe one text `t` with tokenizer `tok`.\"\n",
        "        for rule in self.pre_rules: t = rule(t)  \n",
        "        toks = tok.tokenizer(t)\n",
        "        #post rules?\n",
        "        return toks \n",
        "    \n",
        "    def _process_all_1(self,texts:Collection[str]) -> List[List[str]]:\n",
        "        'Process a list of `texts` in one process'\n",
        "        tok = self.tok_func(self.model_prefix)\n",
        "        return [self.process_text(t,tok) for t in texts]\n",
        "                                                                     \n",
        "    def process_all(self, texts:Collection[str]) -> List[List[str]]: \n",
        "        \"Process a list of `texts`.\"                                 \n",
        "        return self._process_all_1(texts)"
      ],
      "execution_count": 0,
      "outputs": []
    },
    {
      "cell_type": "code",
      "metadata": {
        "id": "dmAYJI8mBZwa",
        "colab_type": "code",
        "colab": {}
      },
      "source": [
        "#setup Vocab object for use in LM\n",
        "sp_vocab = Vocab(itos)"
      ],
      "execution_count": 0,
      "outputs": []
    },
    {
      "cell_type": "code",
      "metadata": {
        "id": "VPhGAOe8AMCV",
        "colab_type": "code",
        "colab": {}
      },
      "source": [
        "mycust_tok = CustomTokenizer(SPTokenizer,model_prefix)"
      ],
      "execution_count": 0,
      "outputs": []
    },
    {
      "cell_type": "code",
      "metadata": {
        "id": "Bdf_f-e1P9fk",
        "colab_type": "code",
        "colab": {}
      },
      "source": [
        "bs = 32\n",
        "bptt = 70"
      ],
      "execution_count": 0,
      "outputs": []
    },
    {
      "cell_type": "markdown",
      "metadata": {
        "id": "Fpm1OeIdfwn9",
        "colab_type": "text"
      },
      "source": [
        "## 6 Authors"
      ]
    },
    {
      "cell_type": "markdown",
      "metadata": {
        "id": "bnT8JAN_TsO0",
        "colab_type": "text"
      },
      "source": [
        "### LM"
      ]
    },
    {
      "cell_type": "code",
      "metadata": {
        "id": "7fkRp0PGZ509",
        "colab_type": "code",
        "colab": {}
      },
      "source": [
        "data_lm_AA = TextLMDataBunch.from_csv(subsets , '6train.csv', bs=bs , bptt=bptt,tokenizer=mycust_tok, vocab=sp_vocab)\n",
        "data_lm_AA.save('6train_subword_wiki_lm.pkl')"
      ],
      "execution_count": 0,
      "outputs": []
    },
    {
      "cell_type": "code",
      "metadata": {
        "id": "hrm024Q-aXNK",
        "colab_type": "code",
        "colab": {}
      },
      "source": [
        "data_lm_AA = load_data(subsets, '6train_subword_wiki_lm.pkl',bs=bs)"
      ],
      "execution_count": 0,
      "outputs": []
    },
    {
      "cell_type": "code",
      "metadata": {
        "id": "sNELRZ4cUt9A",
        "colab_type": "code",
        "outputId": "7fbf38ba-c123-4908-9dbc-13383bbb8990",
        "colab": {
          "base_uri": "https://localhost:8080/",
          "height": 306
        }
      },
      "source": [
        "data_lm_AA.show_batch()"
      ],
      "execution_count": 0,
      "outputs": [
        {
          "output_type": "display_data",
          "data": {
            "text/html": [
              "<table border=\"1\" class=\"dataframe\">\n",
              "  <thead>\n",
              "    <tr style=\"text-align: right;\">\n",
              "      <th>idx</th>\n",
              "      <th>text</th>\n",
              "    </tr>\n",
              "  </thead>\n",
              "  <tbody>\n",
              "    <tr>\n",
              "      <td>0</td>\n",
              "      <td>▁আজ ▁আমার ▁নিজের ▁শরীর ও ▁ভাল ▁নয় । ▁মনে ▁করছি , ▁তাঁর ▁ঘরে ▁খাবার ▁ঢাকা ▁দিয়ে ▁রেখে ▁একটু ▁শো ব । ▁ও ঠো , ▁তো মা কে ▁খাইয়ে ▁দি ই ▁গে , ▁বল িয়া ▁সে ▁কাছে ▁ আসিয়া ▁বই খানা ▁দিবা কর ের ▁ মুখের ▁উপর ▁হইতে ▁তুল িয়া ▁ ল ইল । ▁অদূরে ▁দিবা কর ের ▁লোহার ▁ তোর ঙ্গ টা ▁ছিল । ▁কিরণ ময়ী ▁ফি রিয়া ▁ আসিয়া</td>\n",
              "    </tr>\n",
              "    <tr>\n",
              "      <td>1</td>\n",
              "      <td>▁অনেক ▁বেশী । ▁হরি শ ▁মুখ ুজ ্যের ▁চরিত্রে ▁আরও ▁অনেক ▁রকম ▁বৈপরীত্য ▁আছে । ▁দেশের ▁সাধারণ ▁মানুষের ▁দুঃখ ▁দূর ▁করার ▁জন্য ▁তিনি ▁তাঁর ▁লেখনী কে ▁তরবারি ▁করে ▁তুল ছেন ▁দিন ▁দিন । ▁ব্ৰ া হ্ম ▁ধর্ম ▁প্রচারের ▁জন্য ▁তিনি ▁দৃঢ়ভাবে ▁নিয়ম নিষ্ঠ । ▁সপ্তাহে ▁অন্তত ▁দু দিন ▁তিনি ▁ র সা পা গলা ▁অঞ্চল ▁ সন্নিহিত ▁ভবানীপুর ে ▁ব্রাহ্ম ▁মন্দিরে ▁উপাসনার ▁পূর্বে ▁বক্তৃতা ▁করেন । ▁হিন্দু ▁পেট্রিয়ট ের ▁পৃষ্ঠা</td>\n",
              "    </tr>\n",
              "    <tr>\n",
              "      <td>2</td>\n",
              "      <td>টা ▁মেজ দার । ▁একটু ▁ হাঁ কা হাঁ কির ▁পর ▁বাবার ▁কথা ▁শোনা ▁গেল , ▁সে ▁নেই । ▁নেই ▁মানে ? ▁মা ▁কোথায় ▁গেল ? ▁ তোর ▁দাদার ▁সঙ্গে ▁তার কে শ্বর ে ▁গিয়েছে । ▁সাবা স ! ▁তোমার ▁বাড়ির ▁হাল চাল ▁কি রকম ! ▁বা ▁বা ▁কোন ▁জবাব ▁দিল ▁না । ▁মেজ দা ▁এবার ▁তার ▁বউ কে ▁ডাক তে ▁ডাক তে ▁ঘরে ▁ঢু কল । ▁একটা ▁প্রাণবন্ত ▁মানুষ</td>\n",
              "    </tr>\n",
              "    <tr>\n",
              "      <td>3</td>\n",
              "      <td>▁তাদেরকে ▁অ পদস্থ ▁করবার ▁চেষ্টায় ▁ টল ম লে ▁ব্যাবসা কে ▁ কাত ▁করে ▁ফেলা ▁হয় । ▁সেই রকম ▁চেষ্টা ▁চলবে ▁মধুসূদন ▁তা ▁বুঝে ছিল । ▁মাদ্রাজ - ব ্যাঙ্ক ের ▁বিপর্যয় ে ▁ঘোষাল - কোম্পানি র ▁লোক সান ের ▁পরিমাণ ▁যে ▁কতটা ▁দাঁড়াবে ▁এখনো ▁তা ▁নিশ্চিত ▁জান বার ▁সময় ▁হয় ▁নি , ▁কিন্তু ▁মধুসূদন ের ▁প্রতিপত্তি ▁নষ্ট ▁করবার ▁আয়োজনে ▁এও ▁যে ▁একটা ▁মসলা ▁ জোগ াবে ▁তাতে ▁সন্দেহ ▁ছিল</td>\n",
              "    </tr>\n",
              "    <tr>\n",
              "      <td>4</td>\n",
              "      <td>▁করল , ▁কারণ ▁এ ▁ছাড়া ▁আর ▁কিছু ▁করার ▁ছিল ▁না । ▁এক ▁সপ্তাহ ▁সময় ▁শেষ ▁হয়ে ▁গেছে । ▁আর ▁ঘন্টা খানেক ▁পরে ▁জাহিদ ের ▁ হাক শী কে ▁সবকিছু ▁ঠিক ▁করে ▁বুঝিয়ে ▁দেয়ার ▁কথা । ▁এই ▁একটি ▁সপ্তাহ ▁জাহিদ ▁আর ▁কামাল ▁প্রায় ▁জন ▁ত্রিশ েক ▁টেক নি শিয়ান কে ▁নিয়ে ▁কাজ ▁করেছে । ▁যদিও ▁রি - অ ্যাক্ট র ের ▁ত্রুটি টি ▁ছিল ▁সাধারণ , ▁কিন্তু ▁কামাল ▁টেক নি শিয়ান</td>\n",
              "    </tr>\n",
              "  </tbody>\n",
              "</table>"
            ],
            "text/plain": [
              "<IPython.core.display.HTML object>"
            ]
          },
          "metadata": {
            "tags": []
          }
        }
      ]
    },
    {
      "cell_type": "code",
      "metadata": {
        "id": "IwWpgtFVUxGE",
        "colab_type": "code",
        "colab": {}
      },
      "source": [
        "learn = language_model_learner(data_lm_AA, AWD_LSTM, pretrained=False, drop_mult=0.5)"
      ],
      "execution_count": 0,
      "outputs": []
    },
    {
      "cell_type": "code",
      "metadata": {
        "id": "R38kMPyjU1yS",
        "colab_type": "code",
        "colab": {}
      },
      "source": [
        "learn.load(wiki/'models'/'wiki_subword_lm_30');"
      ],
      "execution_count": 0,
      "outputs": []
    },
    {
      "cell_type": "code",
      "metadata": {
        "id": "8DdhLzfLVLQ4",
        "colab_type": "code",
        "outputId": "f0455992-1cff-41ee-9b36-da0d7d135a7d",
        "colab": {
          "base_uri": "https://localhost:8080/",
          "height": 300
        }
      },
      "source": [
        "learn.freeze()\n",
        "learn.lr_find();\n",
        "learn.recorder.plot();"
      ],
      "execution_count": 0,
      "outputs": [
        {
          "output_type": "display_data",
          "data": {
            "text/html": [
              ""
            ],
            "text/plain": [
              "<IPython.core.display.HTML object>"
            ]
          },
          "metadata": {
            "tags": []
          }
        },
        {
          "output_type": "stream",
          "text": [
            "LR Finder is complete, type {learner_name}.recorder.plot() to see the graph.\n"
          ],
          "name": "stdout"
        },
        {
          "output_type": "display_data",
          "data": {
            "image/png": "[encoded data removed]",
            "text/plain": [
              "<Figure size 432x288 with 1 Axes>"
            ]
          },
          "metadata": {
            "tags": []
          }
        }
      ]
    },
    {
      "cell_type": "code",
      "metadata": {
        "id": "Qpn7gRt3VQhk",
        "colab_type": "code",
        "outputId": "15d18046-2813-4a69-c739-80b5e96196cf",
        "colab": {
          "base_uri": "https://localhost:8080/",
          "height": 283
        }
      },
      "source": [
        "learn.recorder.plot(skip_end=10);"
      ],
      "execution_count": 0,
      "outputs": [
        {
          "output_type": "display_data",
          "data": {
            "image/png": "[encoded data removed]",
            "text/plain": [
              "<Figure size 432x288 with 1 Axes>"
            ]
          },
          "metadata": {
            "tags": []
          }
        }
      ]
    },
    {
      "cell_type": "code",
      "metadata": {
        "id": "u9xWoM7n57VC",
        "colab_type": "code",
        "outputId": "b13b6409-b455-439f-b325-15a041444b95",
        "colab": {
          "base_uri": "https://localhost:8080/",
          "height": 810
        }
      },
      "source": [
        "learn.freeze()\n",
        "learn.fit_one_cycle(2, 1e-2)\n",
        "learn.save('6train_wiki_subword_lm_head');\n",
        "learn.freeze_to(-2)\n",
        "learn.fit_one_cycle(2, 1e-2)\n",
        "learn.save('6train_wiki_subword_lm_body_1');\n",
        "learn.freeze_to(-3)\n",
        "learn.fit_one_cycle(2, 1e-2)\n",
        "learn.save('6train_wiki_subword_lm_body_2');\n",
        "learn.unfreeze()\n",
        "learn.fit_one_cycle(10, 1e-2)\n",
        "learn.save('6train_wiki_subword_lm_body_3');"
      ],
      "execution_count": 0,
      "outputs": [
        {
          "output_type": "display_data",
          "data": {
            "text/html": [
              "<table border=\"1\" class=\"dataframe\">\n",
              "  <thead>\n",
              "    <tr style=\"text-align: left;\">\n",
              "      <th>epoch</th>\n",
              "      <th>train_loss</th>\n",
              "      <th>valid_loss</th>\n",
              "      <th>accuracy</th>\n",
              "      <th>time</th>\n",
              "    </tr>\n",
              "  </thead>\n",
              "  <tbody>\n",
              "    <tr>\n",
              "      <td>0</td>\n",
              "      <td>5.241946</td>\n",
              "      <td>5.119304</td>\n",
              "      <td>0.204207</td>\n",
              "      <td>07:12</td>\n",
              "    </tr>\n",
              "    <tr>\n",
              "      <td>1</td>\n",
              "      <td>4.980522</td>\n",
              "      <td>4.847491</td>\n",
              "      <td>0.226773</td>\n",
              "      <td>07:13</td>\n",
              "    </tr>\n",
              "  </tbody>\n",
              "</table>"
            ],
            "text/plain": [
              "<IPython.core.display.HTML object>"
            ]
          },
          "metadata": {
            "tags": []
          }
        },
        {
          "output_type": "display_data",
          "data": {
            "text/html": [
              "<table border=\"1\" class=\"dataframe\">\n",
              "  <thead>\n",
              "    <tr style=\"text-align: left;\">\n",
              "      <th>epoch</th>\n",
              "      <th>train_loss</th>\n",
              "      <th>valid_loss</th>\n",
              "      <th>accuracy</th>\n",
              "      <th>time</th>\n",
              "    </tr>\n",
              "  </thead>\n",
              "  <tbody>\n",
              "    <tr>\n",
              "      <td>0</td>\n",
              "      <td>4.938299</td>\n",
              "      <td>4.786325</td>\n",
              "      <td>0.234194</td>\n",
              "      <td>07:24</td>\n",
              "    </tr>\n",
              "    <tr>\n",
              "      <td>1</td>\n",
              "      <td>4.615206</td>\n",
              "      <td>4.529509</td>\n",
              "      <td>0.260692</td>\n",
              "      <td>07:24</td>\n",
              "    </tr>\n",
              "  </tbody>\n",
              "</table>"
            ],
            "text/plain": [
              "<IPython.core.display.HTML object>"
            ]
          },
          "metadata": {
            "tags": []
          }
        },
        {
          "output_type": "display_data",
          "data": {
            "text/html": [
              "<table border=\"1\" class=\"dataframe\">\n",
              "  <thead>\n",
              "    <tr style=\"text-align: left;\">\n",
              "      <th>epoch</th>\n",
              "      <th>train_loss</th>\n",
              "      <th>valid_loss</th>\n",
              "      <th>accuracy</th>\n",
              "      <th>time</th>\n",
              "    </tr>\n",
              "  </thead>\n",
              "  <tbody>\n",
              "    <tr>\n",
              "      <td>0</td>\n",
              "      <td>4.751803</td>\n",
              "      <td>4.645832</td>\n",
              "      <td>0.248779</td>\n",
              "      <td>07:59</td>\n",
              "    </tr>\n",
              "    <tr>\n",
              "      <td>1</td>\n",
              "      <td>4.367792</td>\n",
              "      <td>4.362436</td>\n",
              "      <td>0.279900</td>\n",
              "      <td>07:59</td>\n",
              "    </tr>\n",
              "  </tbody>\n",
              "</table>"
            ],
            "text/plain": [
              "<IPython.core.display.HTML object>"
            ]
          },
          "metadata": {
            "tags": []
          }
        },
        {
          "output_type": "display_data",
          "data": {
            "text/html": [
              "\n",
              "    <div>\n",
              "        <style>\n",
              "            /* Turns off some styling */\n",
              "            progress {\n",
              "                /* gets rid of default border in Firefox and Opera. */\n",
              "                border: none;\n",
              "                /* Needs to be in here for Safari polyfill so background images work as expected. */\n",
              "                background-size: auto;\n",
              "            }\n",
              "            .progress-bar-interrupted, .progress-bar-interrupted::-webkit-progress-bar {\n",
              "                background: #F44336;\n",
              "            }\n",
              "        </style>\n",
              "      <progress value='3' class='' max='10', style='width:300px; height:20px; vertical-align: middle;'></progress>\n",
              "      30.00% [3/10 25:02<58:25]\n",
              "    </div>\n",
              "    \n",
              "<table border=\"1\" class=\"dataframe\">\n",
              "  <thead>\n",
              "    <tr style=\"text-align: left;\">\n",
              "      <th>epoch</th>\n",
              "      <th>train_loss</th>\n",
              "      <th>valid_loss</th>\n",
              "      <th>accuracy</th>\n",
              "      <th>time</th>\n",
              "    </tr>\n",
              "  </thead>\n",
              "  <tbody>\n",
              "    <tr>\n",
              "      <td>0</td>\n",
              "      <td>4.293935</td>\n",
              "      <td>4.354998</td>\n",
              "      <td>0.278879</td>\n",
              "      <td>08:20</td>\n",
              "    </tr>\n",
              "    <tr>\n",
              "      <td>1</td>\n",
              "      <td>4.515825</td>\n",
              "      <td>4.501368</td>\n",
              "      <td>0.261239</td>\n",
              "      <td>08:20</td>\n",
              "    </tr>\n",
              "    <tr>\n",
              "      <td>2</td>\n",
              "      <td>4.563277</td>\n",
              "      <td>4.543374</td>\n",
              "      <td>0.257256</td>\n",
              "      <td>08:20</td>\n",
              "    </tr>\n",
              "  </tbody>\n",
              "</table><p>\n",
              "\n",
              "    <div>\n",
              "        <style>\n",
              "            /* Turns off some styling */\n",
              "            progress {\n",
              "                /* gets rid of default border in Firefox and Opera. */\n",
              "                border: none;\n",
              "                /* Needs to be in here for Safari polyfill so background images work as expected. */\n",
              "                background-size: auto;\n",
              "            }\n",
              "            .progress-bar-interrupted, .progress-bar-interrupted::-webkit-progress-bar {\n",
              "                background: #F44336;\n",
              "            }\n",
              "        </style>\n",
              "      <progress value='0' class='progress-bar-interrupted' max='2230', style='width:300px; height:20px; vertical-align: middle;'></progress>\n",
              "      Interrupted\n",
              "    </div>\n",
              "    "
            ],
            "text/plain": [
              "<IPython.core.display.HTML object>"
            ]
          },
          "metadata": {
            "tags": []
          }
        },
        {
          "output_type": "error",
          "ename": "KeyboardInterrupt",
          "evalue": "ignored",
          "traceback": [
            "\u001b[0;31m---------------------------------------------------------------------------\u001b[0m",
            "\u001b[0;31mKeyboardInterrupt\u001b[0m                         Traceback (most recent call last)",
            "\u001b[0;32m<ipython-input-26-7c036cef5e54>\u001b[0m in \u001b[0;36m<module>\u001b[0;34m()\u001b[0m\n\u001b[1;32m      9\u001b[0m \u001b[0mlearn\u001b[0m\u001b[0;34m.\u001b[0m\u001b[0msave\u001b[0m\u001b[0;34m(\u001b[0m\u001b[0;34m'6train_wiki_subword_lm_body_2'\u001b[0m\u001b[0;34m)\u001b[0m\u001b[0;34m;\u001b[0m\u001b[0;34m\u001b[0m\u001b[0;34m\u001b[0m\u001b[0m\n\u001b[1;32m     10\u001b[0m \u001b[0mlearn\u001b[0m\u001b[0;34m.\u001b[0m\u001b[0munfreeze\u001b[0m\u001b[0;34m(\u001b[0m\u001b[0;34m)\u001b[0m\u001b[0;34m\u001b[0m\u001b[0;34m\u001b[0m\u001b[0m\n\u001b[0;32m---> 11\u001b[0;31m \u001b[0mlearn\u001b[0m\u001b[0;34m.\u001b[0m\u001b[0mfit_one_cycle\u001b[0m\u001b[0;34m(\u001b[0m\u001b[0;36m10\u001b[0m\u001b[0;34m,\u001b[0m \u001b[0;36m1e-2\u001b[0m\u001b[0;34m)\u001b[0m\u001b[0;34m\u001b[0m\u001b[0;34m\u001b[0m\u001b[0m\n\u001b[0m\u001b[1;32m     12\u001b[0m \u001b[0mlearn\u001b[0m\u001b[0;34m.\u001b[0m\u001b[0msave\u001b[0m\u001b[0;34m(\u001b[0m\u001b[0;34m'6train_wiki_subword_lm_body_3'\u001b[0m\u001b[0;34m)\u001b[0m\u001b[0;34m;\u001b[0m\u001b[0;34m\u001b[0m\u001b[0;34m\u001b[0m\u001b[0m\n",
            "\u001b[0;32m/usr/local/lib/python3.6/dist-packages/fastai/train.py\u001b[0m in \u001b[0;36mfit_one_cycle\u001b[0;34m(learn, cyc_len, max_lr, moms, div_factor, pct_start, final_div, wd, callbacks, tot_epochs, start_epoch)\u001b[0m\n\u001b[1;32m     20\u001b[0m     callbacks.append(OneCycleScheduler(learn, max_lr, moms=moms, div_factor=div_factor, pct_start=pct_start,\n\u001b[1;32m     21\u001b[0m                                        final_div=final_div, tot_epochs=tot_epochs, start_epoch=start_epoch))\n\u001b[0;32m---> 22\u001b[0;31m     \u001b[0mlearn\u001b[0m\u001b[0;34m.\u001b[0m\u001b[0mfit\u001b[0m\u001b[0;34m(\u001b[0m\u001b[0mcyc_len\u001b[0m\u001b[0;34m,\u001b[0m \u001b[0mmax_lr\u001b[0m\u001b[0;34m,\u001b[0m \u001b[0mwd\u001b[0m\u001b[0;34m=\u001b[0m\u001b[0mwd\u001b[0m\u001b[0;34m,\u001b[0m \u001b[0mcallbacks\u001b[0m\u001b[0;34m=\u001b[0m\u001b[0mcallbacks\u001b[0m\u001b[0;34m)\u001b[0m\u001b[0;34m\u001b[0m\u001b[0;34m\u001b[0m\u001b[0m\n\u001b[0m\u001b[1;32m     23\u001b[0m \u001b[0;34m\u001b[0m\u001b[0m\n\u001b[1;32m     24\u001b[0m \u001b[0;32mdef\u001b[0m \u001b[0mlr_find\u001b[0m\u001b[0;34m(\u001b[0m\u001b[0mlearn\u001b[0m\u001b[0;34m:\u001b[0m\u001b[0mLearner\u001b[0m\u001b[0;34m,\u001b[0m \u001b[0mstart_lr\u001b[0m\u001b[0;34m:\u001b[0m\u001b[0mFloats\u001b[0m\u001b[0;34m=\u001b[0m\u001b[0;36m1e-7\u001b[0m\u001b[0;34m,\u001b[0m \u001b[0mend_lr\u001b[0m\u001b[0;34m:\u001b[0m\u001b[0mFloats\u001b[0m\u001b[0;34m=\u001b[0m\u001b[0;36m10\u001b[0m\u001b[0;34m,\u001b[0m \u001b[0mnum_it\u001b[0m\u001b[0;34m:\u001b[0m\u001b[0mint\u001b[0m\u001b[0;34m=\u001b[0m\u001b[0;36m100\u001b[0m\u001b[0;34m,\u001b[0m \u001b[0mstop_div\u001b[0m\u001b[0;34m:\u001b[0m\u001b[0mbool\u001b[0m\u001b[0;34m=\u001b[0m\u001b[0;32mTrue\u001b[0m\u001b[0;34m,\u001b[0m \u001b[0mwd\u001b[0m\u001b[0;34m:\u001b[0m\u001b[0mfloat\u001b[0m\u001b[0;34m=\u001b[0m\u001b[0;32mNone\u001b[0m\u001b[0;34m)\u001b[0m\u001b[0;34m:\u001b[0m\u001b[0;34m\u001b[0m\u001b[0;34m\u001b[0m\u001b[0m\n",
            "\u001b[0;32m/usr/local/lib/python3.6/dist-packages/fastai/basic_train.py\u001b[0m in \u001b[0;36mfit\u001b[0;34m(self, epochs, lr, wd, callbacks)\u001b[0m\n\u001b[1;32m    197\u001b[0m         \u001b[0mcallbacks\u001b[0m \u001b[0;34m=\u001b[0m \u001b[0;34m[\u001b[0m\u001b[0mcb\u001b[0m\u001b[0;34m(\u001b[0m\u001b[0mself\u001b[0m\u001b[0;34m)\u001b[0m \u001b[0;32mfor\u001b[0m \u001b[0mcb\u001b[0m \u001b[0;32min\u001b[0m \u001b[0mself\u001b[0m\u001b[0;34m.\u001b[0m\u001b[0mcallback_fns\u001b[0m \u001b[0;34m+\u001b[0m \u001b[0mlistify\u001b[0m\u001b[0;34m(\u001b[0m\u001b[0mdefaults\u001b[0m\u001b[0;34m.\u001b[0m\u001b[0mextra_callback_fns\u001b[0m\u001b[0;34m)\u001b[0m\u001b[0;34m]\u001b[0m \u001b[0;34m+\u001b[0m \u001b[0mlistify\u001b[0m\u001b[0;34m(\u001b[0m\u001b[0mcallbacks\u001b[0m\u001b[0;34m)\u001b[0m\u001b[0;34m\u001b[0m\u001b[0;34m\u001b[0m\u001b[0m\n\u001b[1;32m    198\u001b[0m         \u001b[0;32mif\u001b[0m \u001b[0mdefaults\u001b[0m\u001b[0;34m.\u001b[0m\u001b[0mextra_callbacks\u001b[0m \u001b[0;32mis\u001b[0m \u001b[0;32mnot\u001b[0m \u001b[0;32mNone\u001b[0m\u001b[0;34m:\u001b[0m \u001b[0mcallbacks\u001b[0m \u001b[0;34m+=\u001b[0m \u001b[0mdefaults\u001b[0m\u001b[0;34m.\u001b[0m\u001b[0mextra_callbacks\u001b[0m\u001b[0;34m\u001b[0m\u001b[0;34m\u001b[0m\u001b[0m\n\u001b[0;32m--> 199\u001b[0;31m         \u001b[0mfit\u001b[0m\u001b[0;34m(\u001b[0m\u001b[0mepochs\u001b[0m\u001b[0;34m,\u001b[0m \u001b[0mself\u001b[0m\u001b[0;34m,\u001b[0m \u001b[0mmetrics\u001b[0m\u001b[0;34m=\u001b[0m\u001b[0mself\u001b[0m\u001b[0;34m.\u001b[0m\u001b[0mmetrics\u001b[0m\u001b[0;34m,\u001b[0m \u001b[0mcallbacks\u001b[0m\u001b[0;34m=\u001b[0m\u001b[0mself\u001b[0m\u001b[0;34m.\u001b[0m\u001b[0mcallbacks\u001b[0m\u001b[0;34m+\u001b[0m\u001b[0mcallbacks\u001b[0m\u001b[0;34m)\u001b[0m\u001b[0;34m\u001b[0m\u001b[0;34m\u001b[0m\u001b[0m\n\u001b[0m\u001b[1;32m    200\u001b[0m \u001b[0;34m\u001b[0m\u001b[0m\n\u001b[1;32m    201\u001b[0m     \u001b[0;32mdef\u001b[0m \u001b[0mcreate_opt\u001b[0m\u001b[0;34m(\u001b[0m\u001b[0mself\u001b[0m\u001b[0;34m,\u001b[0m \u001b[0mlr\u001b[0m\u001b[0;34m:\u001b[0m\u001b[0mFloats\u001b[0m\u001b[0;34m,\u001b[0m \u001b[0mwd\u001b[0m\u001b[0;34m:\u001b[0m\u001b[0mFloats\u001b[0m\u001b[0;34m=\u001b[0m\u001b[0;36m0.\u001b[0m\u001b[0;34m)\u001b[0m\u001b[0;34m->\u001b[0m\u001b[0;32mNone\u001b[0m\u001b[0;34m:\u001b[0m\u001b[0;34m\u001b[0m\u001b[0;34m\u001b[0m\u001b[0m\n",
            "\u001b[0;32m/usr/local/lib/python3.6/dist-packages/fastai/basic_train.py\u001b[0m in \u001b[0;36mfit\u001b[0;34m(epochs, learn, callbacks, metrics)\u001b[0m\n\u001b[1;32m     99\u001b[0m             \u001b[0;32mfor\u001b[0m \u001b[0mxb\u001b[0m\u001b[0;34m,\u001b[0m\u001b[0myb\u001b[0m \u001b[0;32min\u001b[0m \u001b[0mprogress_bar\u001b[0m\u001b[0;34m(\u001b[0m\u001b[0mlearn\u001b[0m\u001b[0;34m.\u001b[0m\u001b[0mdata\u001b[0m\u001b[0;34m.\u001b[0m\u001b[0mtrain_dl\u001b[0m\u001b[0;34m,\u001b[0m \u001b[0mparent\u001b[0m\u001b[0;34m=\u001b[0m\u001b[0mpbar\u001b[0m\u001b[0;34m)\u001b[0m\u001b[0;34m:\u001b[0m\u001b[0;34m\u001b[0m\u001b[0;34m\u001b[0m\u001b[0m\n\u001b[1;32m    100\u001b[0m                 \u001b[0mxb\u001b[0m\u001b[0;34m,\u001b[0m \u001b[0myb\u001b[0m \u001b[0;34m=\u001b[0m \u001b[0mcb_handler\u001b[0m\u001b[0;34m.\u001b[0m\u001b[0mon_batch_begin\u001b[0m\u001b[0;34m(\u001b[0m\u001b[0mxb\u001b[0m\u001b[0;34m,\u001b[0m \u001b[0myb\u001b[0m\u001b[0;34m)\u001b[0m\u001b[0;34m\u001b[0m\u001b[0;34m\u001b[0m\u001b[0m\n\u001b[0;32m--> 101\u001b[0;31m                 \u001b[0mloss\u001b[0m \u001b[0;34m=\u001b[0m \u001b[0mloss_batch\u001b[0m\u001b[0;34m(\u001b[0m\u001b[0mlearn\u001b[0m\u001b[0;34m.\u001b[0m\u001b[0mmodel\u001b[0m\u001b[0;34m,\u001b[0m \u001b[0mxb\u001b[0m\u001b[0;34m,\u001b[0m \u001b[0myb\u001b[0m\u001b[0;34m,\u001b[0m \u001b[0mlearn\u001b[0m\u001b[0;34m.\u001b[0m\u001b[0mloss_func\u001b[0m\u001b[0;34m,\u001b[0m \u001b[0mlearn\u001b[0m\u001b[0;34m.\u001b[0m\u001b[0mopt\u001b[0m\u001b[0;34m,\u001b[0m \u001b[0mcb_handler\u001b[0m\u001b[0;34m)\u001b[0m\u001b[0;34m\u001b[0m\u001b[0;34m\u001b[0m\u001b[0m\n\u001b[0m\u001b[1;32m    102\u001b[0m                 \u001b[0;32mif\u001b[0m \u001b[0mcb_handler\u001b[0m\u001b[0;34m.\u001b[0m\u001b[0mon_batch_end\u001b[0m\u001b[0;34m(\u001b[0m\u001b[0mloss\u001b[0m\u001b[0;34m)\u001b[0m\u001b[0;34m:\u001b[0m \u001b[0;32mbreak\u001b[0m\u001b[0;34m\u001b[0m\u001b[0;34m\u001b[0m\u001b[0m\n\u001b[1;32m    103\u001b[0m \u001b[0;34m\u001b[0m\u001b[0m\n",
            "\u001b[0;32m/usr/local/lib/python3.6/dist-packages/fastai/basic_train.py\u001b[0m in \u001b[0;36mloss_batch\u001b[0;34m(model, xb, yb, loss_func, opt, cb_handler)\u001b[0m\n\u001b[1;32m     32\u001b[0m     \u001b[0;32mif\u001b[0m \u001b[0mopt\u001b[0m \u001b[0;32mis\u001b[0m \u001b[0;32mnot\u001b[0m \u001b[0;32mNone\u001b[0m\u001b[0;34m:\u001b[0m\u001b[0;34m\u001b[0m\u001b[0;34m\u001b[0m\u001b[0m\n\u001b[1;32m     33\u001b[0m         \u001b[0mloss\u001b[0m\u001b[0;34m,\u001b[0m\u001b[0mskip_bwd\u001b[0m \u001b[0;34m=\u001b[0m \u001b[0mcb_handler\u001b[0m\u001b[0;34m.\u001b[0m\u001b[0mon_backward_begin\u001b[0m\u001b[0;34m(\u001b[0m\u001b[0mloss\u001b[0m\u001b[0;34m)\u001b[0m\u001b[0;34m\u001b[0m\u001b[0;34m\u001b[0m\u001b[0m\n\u001b[0;32m---> 34\u001b[0;31m         \u001b[0;32mif\u001b[0m \u001b[0;32mnot\u001b[0m \u001b[0mskip_bwd\u001b[0m\u001b[0;34m:\u001b[0m                     \u001b[0mloss\u001b[0m\u001b[0;34m.\u001b[0m\u001b[0mbackward\u001b[0m\u001b[0;34m(\u001b[0m\u001b[0;34m)\u001b[0m\u001b[0;34m\u001b[0m\u001b[0;34m\u001b[0m\u001b[0m\n\u001b[0m\u001b[1;32m     35\u001b[0m         \u001b[0;32mif\u001b[0m \u001b[0;32mnot\u001b[0m \u001b[0mcb_handler\u001b[0m\u001b[0;34m.\u001b[0m\u001b[0mon_backward_end\u001b[0m\u001b[0;34m(\u001b[0m\u001b[0;34m)\u001b[0m\u001b[0;34m:\u001b[0m \u001b[0mopt\u001b[0m\u001b[0;34m.\u001b[0m\u001b[0mstep\u001b[0m\u001b[0;34m(\u001b[0m\u001b[0;34m)\u001b[0m\u001b[0;34m\u001b[0m\u001b[0;34m\u001b[0m\u001b[0m\n\u001b[1;32m     36\u001b[0m         \u001b[0;32mif\u001b[0m \u001b[0;32mnot\u001b[0m \u001b[0mcb_handler\u001b[0m\u001b[0;34m.\u001b[0m\u001b[0mon_step_end\u001b[0m\u001b[0;34m(\u001b[0m\u001b[0;34m)\u001b[0m\u001b[0;34m:\u001b[0m     \u001b[0mopt\u001b[0m\u001b[0;34m.\u001b[0m\u001b[0mzero_grad\u001b[0m\u001b[0;34m(\u001b[0m\u001b[0;34m)\u001b[0m\u001b[0;34m\u001b[0m\u001b[0;34m\u001b[0m\u001b[0m\n",
            "\u001b[0;32m/usr/local/lib/python3.6/dist-packages/torch/tensor.py\u001b[0m in \u001b[0;36mbackward\u001b[0;34m(self, gradient, retain_graph, create_graph)\u001b[0m\n\u001b[1;32m    105\u001b[0m                 \u001b[0mproducts\u001b[0m\u001b[0;34m.\u001b[0m \u001b[0mDefaults\u001b[0m \u001b[0mto\u001b[0m\u001b[0;31m \u001b[0m\u001b[0;31m`\u001b[0m\u001b[0;31m`\u001b[0m\u001b[0;32mFalse\u001b[0m\u001b[0;31m`\u001b[0m\u001b[0;31m`\u001b[0m\u001b[0;34m.\u001b[0m\u001b[0;34m\u001b[0m\u001b[0;34m\u001b[0m\u001b[0m\n\u001b[1;32m    106\u001b[0m         \"\"\"\n\u001b[0;32m--> 107\u001b[0;31m         \u001b[0mtorch\u001b[0m\u001b[0;34m.\u001b[0m\u001b[0mautograd\u001b[0m\u001b[0;34m.\u001b[0m\u001b[0mbackward\u001b[0m\u001b[0;34m(\u001b[0m\u001b[0mself\u001b[0m\u001b[0;34m,\u001b[0m \u001b[0mgradient\u001b[0m\u001b[0;34m,\u001b[0m \u001b[0mretain_graph\u001b[0m\u001b[0;34m,\u001b[0m \u001b[0mcreate_graph\u001b[0m\u001b[0;34m)\u001b[0m\u001b[0;34m\u001b[0m\u001b[0;34m\u001b[0m\u001b[0m\n\u001b[0m\u001b[1;32m    108\u001b[0m \u001b[0;34m\u001b[0m\u001b[0m\n\u001b[1;32m    109\u001b[0m     \u001b[0;32mdef\u001b[0m \u001b[0mregister_hook\u001b[0m\u001b[0;34m(\u001b[0m\u001b[0mself\u001b[0m\u001b[0;34m,\u001b[0m \u001b[0mhook\u001b[0m\u001b[0;34m)\u001b[0m\u001b[0;34m:\u001b[0m\u001b[0;34m\u001b[0m\u001b[0;34m\u001b[0m\u001b[0m\n",
            "\u001b[0;32m/usr/local/lib/python3.6/dist-packages/torch/autograd/__init__.py\u001b[0m in \u001b[0;36mbackward\u001b[0;34m(tensors, grad_tensors, retain_graph, create_graph, grad_variables)\u001b[0m\n\u001b[1;32m     91\u001b[0m     Variable._execution_engine.run_backward(\n\u001b[1;32m     92\u001b[0m         \u001b[0mtensors\u001b[0m\u001b[0;34m,\u001b[0m \u001b[0mgrad_tensors\u001b[0m\u001b[0;34m,\u001b[0m \u001b[0mretain_graph\u001b[0m\u001b[0;34m,\u001b[0m \u001b[0mcreate_graph\u001b[0m\u001b[0;34m,\u001b[0m\u001b[0;34m\u001b[0m\u001b[0;34m\u001b[0m\u001b[0m\n\u001b[0;32m---> 93\u001b[0;31m         allow_unreachable=True)  # allow_unreachable flag\n\u001b[0m\u001b[1;32m     94\u001b[0m \u001b[0;34m\u001b[0m\u001b[0m\n\u001b[1;32m     95\u001b[0m \u001b[0;34m\u001b[0m\u001b[0m\n",
            "\u001b[0;31mKeyboardInterrupt\u001b[0m: "
          ]
        }
      ]
    },
    {
      "cell_type": "code",
      "metadata": {
        "id": "znlDoe40KXa-",
        "colab_type": "code",
        "outputId": "e3e308d6-505e-40dc-b3b7-1fb79c290414",
        "colab": {
          "base_uri": "https://localhost:8080/",
          "height": 359
        }
      },
      "source": [
        "learn.load('6train_wiki_subword_lm_body_2');\n",
        "learn.unfreeze()\n",
        "learn.fit_one_cycle(10, 1e-3)\n",
        "learn.save('6train_wiki_subword_lm_body_3');"
      ],
      "execution_count": 0,
      "outputs": [
        {
          "output_type": "display_data",
          "data": {
            "text/html": [
              "<table border=\"1\" class=\"dataframe\">\n",
              "  <thead>\n",
              "    <tr style=\"text-align: left;\">\n",
              "      <th>epoch</th>\n",
              "      <th>train_loss</th>\n",
              "      <th>valid_loss</th>\n",
              "      <th>accuracy</th>\n",
              "      <th>time</th>\n",
              "    </tr>\n",
              "  </thead>\n",
              "  <tbody>\n",
              "    <tr>\n",
              "      <td>0</td>\n",
              "      <td>4.186925</td>\n",
              "      <td>4.342703</td>\n",
              "      <td>0.282287</td>\n",
              "      <td>08:21</td>\n",
              "    </tr>\n",
              "    <tr>\n",
              "      <td>1</td>\n",
              "      <td>4.257757</td>\n",
              "      <td>4.307171</td>\n",
              "      <td>0.285517</td>\n",
              "      <td>08:20</td>\n",
              "    </tr>\n",
              "    <tr>\n",
              "      <td>2</td>\n",
              "      <td>4.156099</td>\n",
              "      <td>4.270999</td>\n",
              "      <td>0.288811</td>\n",
              "      <td>08:20</td>\n",
              "    </tr>\n",
              "    <tr>\n",
              "      <td>3</td>\n",
              "      <td>4.077569</td>\n",
              "      <td>4.237844</td>\n",
              "      <td>0.292275</td>\n",
              "      <td>08:20</td>\n",
              "    </tr>\n",
              "    <tr>\n",
              "      <td>4</td>\n",
              "      <td>4.049616</td>\n",
              "      <td>4.210957</td>\n",
              "      <td>0.295468</td>\n",
              "      <td>08:20</td>\n",
              "    </tr>\n",
              "    <tr>\n",
              "      <td>5</td>\n",
              "      <td>4.002124</td>\n",
              "      <td>4.192326</td>\n",
              "      <td>0.297832</td>\n",
              "      <td>08:20</td>\n",
              "    </tr>\n",
              "    <tr>\n",
              "      <td>6</td>\n",
              "      <td>3.883562</td>\n",
              "      <td>4.178176</td>\n",
              "      <td>0.299730</td>\n",
              "      <td>08:20</td>\n",
              "    </tr>\n",
              "    <tr>\n",
              "      <td>7</td>\n",
              "      <td>3.827266</td>\n",
              "      <td>4.174410</td>\n",
              "      <td>0.300626</td>\n",
              "      <td>08:20</td>\n",
              "    </tr>\n",
              "    <tr>\n",
              "      <td>8</td>\n",
              "      <td>3.785978</td>\n",
              "      <td>4.173587</td>\n",
              "      <td>0.300924</td>\n",
              "      <td>08:20</td>\n",
              "    </tr>\n",
              "    <tr>\n",
              "      <td>9</td>\n",
              "      <td>3.803638</td>\n",
              "      <td>4.174279</td>\n",
              "      <td>0.300909</td>\n",
              "      <td>08:20</td>\n",
              "    </tr>\n",
              "  </tbody>\n",
              "</table>"
            ],
            "text/plain": [
              "<IPython.core.display.HTML object>"
            ]
          },
          "metadata": {
            "tags": []
          }
        }
      ]
    },
    {
      "cell_type": "code",
      "metadata": {
        "id": "tZrYxJjD6NTd",
        "colab_type": "code",
        "colab": {}
      },
      "source": [
        "learn.load('6train_wiki_subword_lm_body_3');\n",
        "learn.save_encoder('6train_wiki_subword_lm_enc')"
      ],
      "execution_count": 0,
      "outputs": []
    },
    {
      "cell_type": "markdown",
      "metadata": {
        "colab_type": "text",
        "id": "q7aUaAtW68tQ"
      },
      "source": [
        "### Classifier"
      ]
    },
    {
      "cell_type": "code",
      "metadata": {
        "colab_type": "code",
        "id": "_fm_mT6Q68tA",
        "colab": {}
      },
      "source": [
        "data_clas = TextClasDataBunch.from_csv(subsets , '6train.csv', tokenizer=mycust_tok, vocab=sp_vocab, bs=bs)\n",
        "data_clas.save('6train_subword_wiki_clas.pkl')"
      ],
      "execution_count": 0,
      "outputs": []
    },
    {
      "cell_type": "code",
      "metadata": {
        "colab_type": "code",
        "outputId": "9a1b5056-e5e0-4420-83df-dee4ddfe26a5",
        "id": "ozTNBRzn68si",
        "colab": {
          "base_uri": "https://localhost:8080/",
          "height": 289
        }
      },
      "source": [
        "data_clas.show_batch()"
      ],
      "execution_count": 0,
      "outputs": [
        {
          "output_type": "display_data",
          "data": {
            "text/html": [
              "<table border=\"1\" class=\"dataframe\">\n",
              "  <thead>\n",
              "    <tr style=\"text-align: right;\">\n",
              "      <th>text</th>\n",
              "      <th>target</th>\n",
              "    </tr>\n",
              "  </thead>\n",
              "  <tbody>\n",
              "    <tr>\n",
              "      <td>▁xx bo s ▁হত ! ▁আমার ▁সঙ্গে ▁তাঁর ▁তুলনা ! ▁নৃ প বালা । ▁আ চ্ছা ▁মুখ ুজ ্যে ম শায় , ▁এত ক্ষণ ▁তুমি ▁এখানে ▁বসে ▁বসে ▁কী ▁করছিল ে ? ▁অক্ষয় । ▁তো দের ▁গ য় লা বাড়ির ▁দুধ ের ▁হিসেব ▁লিখ ছিল ুম । ▁ নীর বালা । ▁( ডে স্ক ের ▁উপর ▁হইতে ▁অসম া প্ত ▁চিঠি ▁তুল িয়া ▁লইয়া ) ▁এই ▁তোমার ▁গ য় লা</td>\n",
              "      <td>robindronath</td>\n",
              "    </tr>\n",
              "    <tr>\n",
              "      <td>▁xx bo s ▁ কে হ ▁বিশ্বাস ▁করিয়া ছে , ▁ কে হ ▁করে ▁নাই । ▁প্রাঙ্গণে ▁মোটর ▁দাঁড় াইয়া । ▁কাছে , ▁দূরে ▁ বাটী র ▁সকলেই ▁উপস্থিত । ▁মেয়েরা ▁দ্বিতল ের ▁বারান্দা য় ▁দাঁড় াইয়া ▁চোখ ▁মু ছি তে ছে , ▁বি প্র দাস ▁উ ঠি তে ▁ গিয়া ▁জিজ্ঞাসা ▁করি লেন , ▁দ্বি জু কে ▁দে খ চি ▁নে ▁কেন ? ▁ কে ▁একজন ▁বলি ল ,</td>\n",
              "      <td>shorotchandra</td>\n",
              "    </tr>\n",
              "    <tr>\n",
              "      <td>▁xx bo s ▁শু নিল ▁না , ▁দ্রুত পদে ▁ও ডিক লোন ▁বরফ জল ে ▁মিশা ইয়া ▁উপস্থিত ▁করি ল । ▁আশা র ▁হাতে ▁ভি জা ▁রুম াল ▁দিয়া ▁ ক হিল , ▁“ মহ েন্দ্র বাবুর ▁মাথায় ▁বাঁধ িয়া ▁দাও । ” ▁মহেন্দ্র ▁বারবার ▁বলি তে ▁লা গিল , ▁“ থা ক্ ▁ - না । ” ▁বিহারী ▁অবরুদ্ধ হাস ্যে ▁নীরব ে ▁অভিনয় ▁দেখি তে ▁লা গিল ।</td>\n",
              "      <td>robindronath</td>\n",
              "    </tr>\n",
              "    <tr>\n",
              "      <td>▁xx bo s ▁নিয়ম ▁চল ি বে ▁নাকি ?” ▁সকলেই ▁ভাব িল , ▁অবনতি র ▁লক্ষণ ▁ইহা ▁হইতে ▁আর ▁কী ▁হইতে ▁পারে ! ▁মগ ে ▁হিন্দু তে ▁ ত ফাত ▁ র হিল ▁কী ! ▁ভুবনেশ্বর ী - দেবী - মন্দির ের ▁ ভ ৃত ্য ▁জয় সিংহ ▁জাতি তে ▁রাজপুত , ▁ক্ষত্রিয় । ▁তাঁহার ▁বা প ▁সু চে ত সিংহ ▁ত্রিপুরা য় ▁রাজ বাটী র ▁একজন ▁পুরাতন ▁ ভ</td>\n",
              "      <td>robindronath</td>\n",
              "    </tr>\n",
              "    <tr>\n",
              "      <td>▁xx bo s ▁“ অ ভাব ▁কী । ▁আমার ই ▁তো ▁ভা সুর ের ▁এক ▁মেয়ে ▁আছে , ▁যেমন ▁সুন্দরী ▁তেমনি ▁লক্ষ্মী । ▁ মেয়েটির ▁বয়স ▁হইল , ▁কেবল ▁উপযুক্ত ▁বর ের ▁প্রত্যাশা য় ▁অপেক্ষা ▁করিয়া ▁আছে ; ▁তোমার ▁মতো ▁কুল ীন ▁পাইল ে ▁এখন ি ▁বিবাহ ▁দিয়া ▁দেয় । ” ▁স্বামী ▁চক িত ▁হইয়া ▁ ক হি লেন , ▁“ বিবাহের ▁কথা ▁ কে ▁বলি তে ছে । ”</td>\n",
              "      <td>robindronath</td>\n",
              "    </tr>\n",
              "  </tbody>\n",
              "</table>"
            ],
            "text/plain": [
              "<IPython.core.display.HTML object>"
            ]
          },
          "metadata": {
            "tags": []
          }
        }
      ]
    },
    {
      "cell_type": "code",
      "metadata": {
        "colab_type": "code",
        "id": "PkVgPR_q68sP",
        "colab": {}
      },
      "source": [
        "data_clas = load_data(subsets, '6train_subword_wiki_clas.pkl',bs=bs)\n",
        "learn_cls = text_classifier_learner(data_clas, AWD_LSTM, drop_mult=0.5, pretrained=False)\n",
        "learn_cls.load_encoder('6train_wiki_subword_lm_enc')"
      ],
      "execution_count": 0,
      "outputs": []
    },
    {
      "cell_type": "code",
      "metadata": {
        "colab_type": "code",
        "outputId": "7cf26471-5632-4877-b110-08e647f40c6a",
        "id": "0IviBpwg68r1",
        "colab": {
          "base_uri": "https://localhost:8080/",
          "height": 300
        }
      },
      "source": [
        "learn_cls.freeze()\n",
        "learn_cls.lr_find()\n",
        "learn_cls.recorder.plot()"
      ],
      "execution_count": 0,
      "outputs": [
        {
          "output_type": "display_data",
          "data": {
            "text/html": [
              ""
            ],
            "text/plain": [
              "<IPython.core.display.HTML object>"
            ]
          },
          "metadata": {
            "tags": []
          }
        },
        {
          "output_type": "stream",
          "text": [
            "LR Finder is complete, type {learner_name}.recorder.plot() to see the graph.\n"
          ],
          "name": "stdout"
        },
        {
          "output_type": "display_data",
          "data": {
            "image/png": "[encoded data removed]",
            "text/plain": [
              "<Figure size 432x288 with 1 Axes>"
            ]
          },
          "metadata": {
            "tags": []
          }
        }
      ]
    },
    {
      "cell_type": "code",
      "metadata": {
        "id": "K77R9kfs7L3x",
        "colab_type": "code",
        "outputId": "5cd5d12d-a0a1-49f7-818c-98d0378cd3d9",
        "colab": {
          "base_uri": "https://localhost:8080/",
          "height": 455
        }
      },
      "source": [
        "learn_cls.fit_one_cycle(2, 1e-2, moms=(0.8,0.7))\n",
        "learn_cls.save('6train_wiki_subword_cls_1')\n",
        "learn_cls.freeze_to(-2)\n",
        "learn_cls.fit_one_cycle(2 , slice(1e-2/(2.6**4),1e-2), moms=(0.8,0.7))\n",
        "learn_cls.save('6train_wiki_subword_cls_2')\n",
        "learn_cls.freeze_to(-3)\n",
        "learn_cls.fit_one_cycle(2, slice(5e-3/(2.6**4),5e-3), moms=(0.8,0.7))\n",
        "learn_cls.save('6train_wiki_subword_cls_3')\n",
        "learn_cls.unfreeze()\n",
        "learn_cls.fit_one_cycle(4, slice(1e-3/(2.6**4),1e-3), moms=(0.8,0.7))\n",
        "learn_cls.save('6train_wiki_subword_cls_4')"
      ],
      "execution_count": 0,
      "outputs": [
        {
          "output_type": "display_data",
          "data": {
            "text/html": [
              "<table border=\"1\" class=\"dataframe\">\n",
              "  <thead>\n",
              "    <tr style=\"text-align: left;\">\n",
              "      <th>epoch</th>\n",
              "      <th>train_loss</th>\n",
              "      <th>valid_loss</th>\n",
              "      <th>accuracy</th>\n",
              "      <th>time</th>\n",
              "    </tr>\n",
              "  </thead>\n",
              "  <tbody>\n",
              "    <tr>\n",
              "      <td>0</td>\n",
              "      <td>0.218127</td>\n",
              "      <td>0.020512</td>\n",
              "      <td>0.994324</td>\n",
              "      <td>05:04</td>\n",
              "    </tr>\n",
              "    <tr>\n",
              "      <td>1</td>\n",
              "      <td>0.087994</td>\n",
              "      <td>0.004193</td>\n",
              "      <td>1.000000</td>\n",
              "      <td>05:02</td>\n",
              "    </tr>\n",
              "  </tbody>\n",
              "</table>"
            ],
            "text/plain": [
              "<IPython.core.display.HTML object>"
            ]
          },
          "metadata": {
            "tags": []
          }
        },
        {
          "output_type": "display_data",
          "data": {
            "text/html": [
              "<table border=\"1\" class=\"dataframe\">\n",
              "  <thead>\n",
              "    <tr style=\"text-align: left;\">\n",
              "      <th>epoch</th>\n",
              "      <th>train_loss</th>\n",
              "      <th>valid_loss</th>\n",
              "      <th>accuracy</th>\n",
              "      <th>time</th>\n",
              "    </tr>\n",
              "  </thead>\n",
              "  <tbody>\n",
              "    <tr>\n",
              "      <td>0</td>\n",
              "      <td>0.061809</td>\n",
              "      <td>0.001463</td>\n",
              "      <td>0.999054</td>\n",
              "      <td>05:51</td>\n",
              "    </tr>\n",
              "    <tr>\n",
              "      <td>1</td>\n",
              "      <td>0.021825</td>\n",
              "      <td>0.002620</td>\n",
              "      <td>0.999054</td>\n",
              "      <td>05:57</td>\n",
              "    </tr>\n",
              "  </tbody>\n",
              "</table>"
            ],
            "text/plain": [
              "<IPython.core.display.HTML object>"
            ]
          },
          "metadata": {
            "tags": []
          }
        },
        {
          "output_type": "display_data",
          "data": {
            "text/html": [
              "<table border=\"1\" class=\"dataframe\">\n",
              "  <thead>\n",
              "    <tr style=\"text-align: left;\">\n",
              "      <th>epoch</th>\n",
              "      <th>train_loss</th>\n",
              "      <th>valid_loss</th>\n",
              "      <th>accuracy</th>\n",
              "      <th>time</th>\n",
              "    </tr>\n",
              "  </thead>\n",
              "  <tbody>\n",
              "    <tr>\n",
              "      <td>0</td>\n",
              "      <td>0.021776</td>\n",
              "      <td>0.002078</td>\n",
              "      <td>0.999054</td>\n",
              "      <td>08:47</td>\n",
              "    </tr>\n",
              "    <tr>\n",
              "      <td>1</td>\n",
              "      <td>0.017780</td>\n",
              "      <td>0.001020</td>\n",
              "      <td>0.999054</td>\n",
              "      <td>08:52</td>\n",
              "    </tr>\n",
              "  </tbody>\n",
              "</table>"
            ],
            "text/plain": [
              "<IPython.core.display.HTML object>"
            ]
          },
          "metadata": {
            "tags": []
          }
        },
        {
          "output_type": "display_data",
          "data": {
            "text/html": [
              "<table border=\"1\" class=\"dataframe\">\n",
              "  <thead>\n",
              "    <tr style=\"text-align: left;\">\n",
              "      <th>epoch</th>\n",
              "      <th>train_loss</th>\n",
              "      <th>valid_loss</th>\n",
              "      <th>accuracy</th>\n",
              "      <th>time</th>\n",
              "    </tr>\n",
              "  </thead>\n",
              "  <tbody>\n",
              "    <tr>\n",
              "      <td>0</td>\n",
              "      <td>0.010451</td>\n",
              "      <td>0.001137</td>\n",
              "      <td>1.000000</td>\n",
              "      <td>11:24</td>\n",
              "    </tr>\n",
              "    <tr>\n",
              "      <td>1</td>\n",
              "      <td>0.006800</td>\n",
              "      <td>0.001352</td>\n",
              "      <td>0.999054</td>\n",
              "      <td>11:16</td>\n",
              "    </tr>\n",
              "    <tr>\n",
              "      <td>2</td>\n",
              "      <td>0.010079</td>\n",
              "      <td>0.000688</td>\n",
              "      <td>1.000000</td>\n",
              "      <td>11:10</td>\n",
              "    </tr>\n",
              "    <tr>\n",
              "      <td>3</td>\n",
              "      <td>0.011641</td>\n",
              "      <td>0.000553</td>\n",
              "      <td>1.000000</td>\n",
              "      <td>11:25</td>\n",
              "    </tr>\n",
              "  </tbody>\n",
              "</table>"
            ],
            "text/plain": [
              "<IPython.core.display.HTML object>"
            ]
          },
          "metadata": {
            "tags": []
          }
        }
      ]
    },
    {
      "cell_type": "code",
      "metadata": {
        "id": "95-SpwCX7TuF",
        "colab_type": "code",
        "colab": {}
      },
      "source": [
        "def testing(dts):\n",
        "  df = pd.read_csv(dts) \n",
        "  text_array = df[\"text\"].tolist()\n",
        "  print(len(text_array))\n",
        "\n",
        "  final_preds = []\n",
        "\n",
        "  for text in text_array:\n",
        "      preds = learn_cls.predict(text)\n",
        "      final_preds.append(str(preds[0]))\n",
        "\n",
        "  targets = df[\"label\"].tolist()\n",
        "\n",
        "  err=[]\n",
        "  count =0;\n",
        "  tst = len(text_array)\n",
        "\n",
        "  for i in range(tst):\n",
        "      if(targets[i]==final_preds[i]):\n",
        "          count = count+1\n",
        "      else:\n",
        "  #         print(targets[i] + \", \" + final_preds[i] + ';')\n",
        "          err.append((targets[i],final_preds[i]))\n",
        "  print(\"Accuracy: \")\n",
        "  print(count/tst)\n",
        "  print(err)\n",
        "  \n",
        "  return final_preds,targets"
      ],
      "execution_count": 0,
      "outputs": []
    },
    {
      "cell_type": "code",
      "metadata": {
        "id": "330YQ_UJ7YFN",
        "colab_type": "code",
        "outputId": "d0bc5f6b-4edc-4c94-c3ac-b85354a96737",
        "colab": {
          "base_uri": "https://localhost:8080/",
          "height": 105
        }
      },
      "source": [
        "pred,targ = testing(subsets/'6test.csv')"
      ],
      "execution_count": 0,
      "outputs": [
        {
          "output_type": "stream",
          "text": [
            "1320\n",
            "Accuracy: \n",
            "0.9962121212121212\n",
            "[('robindronath', 'shunil_gongopaddhay'), ('robindronath', 'shorotchandra'), ('humayun_ahmed', 'shorotchandra'), ('humayun_ahmed', 'MZI'), ('shunil_gongopaddhay', 'robindronath')]\n"
          ],
          "name": "stdout"
        }
      ]
    },
    {
      "cell_type": "code",
      "metadata": {
        "id": "2Am0yhwQ7YC0",
        "colab_type": "code",
        "outputId": "8d1b9b48-6555-4205-9c95-15d27828636d",
        "colab": {
          "base_uri": "https://localhost:8080/",
          "height": 51
        }
      },
      "source": [
        "from sklearn.metrics import f1_score\n",
        "out  = f1_score(targ, pred, average=None) #'macro' , also == weighted cuz dataset is balanced\n",
        "out , out.mean()"
      ],
      "execution_count": 0,
      "outputs": [
        {
          "output_type": "execute_result",
          "data": {
            "text/plain": [
              "(array([0.997732, 0.995434, 0.993166, 1.      , 0.995475, 0.995455]),\n",
              " 0.9962103603084759)"
            ]
          },
          "metadata": {
            "tags": []
          },
          "execution_count": 28
        }
      ]
    },
    {
      "cell_type": "code",
      "metadata": {
        "id": "EBETymXz7X3i",
        "colab_type": "code",
        "colab": {}
      },
      "source": [
        ""
      ],
      "execution_count": 0,
      "outputs": []
    },
    {
      "cell_type": "markdown",
      "metadata": {
        "colab_type": "text",
        "id": "cVLgfmqED0Ki"
      },
      "source": [
        "## 8 Authors"
      ]
    },
    {
      "cell_type": "markdown",
      "metadata": {
        "colab_type": "text",
        "id": "5LvJUB25D0Kk"
      },
      "source": [
        "### LM"
      ]
    },
    {
      "cell_type": "code",
      "metadata": {
        "colab_type": "code",
        "id": "Pov-8--WD0Km",
        "colab": {}
      },
      "source": [
        "data_lm_AA = TextLMDataBunch.from_csv(subsets , '8train.csv', bs=bs , bptt=bptt,tokenizer=mycust_tok, vocab=sp_vocab)\n",
        "data_lm_AA.save('8train_subword_wiki_lm.pkl')"
      ],
      "execution_count": 0,
      "outputs": []
    },
    {
      "cell_type": "code",
      "metadata": {
        "colab_type": "code",
        "id": "wPtocIGND0Kr",
        "colab": {}
      },
      "source": [
        "data_lm_AA = load_data(subsets, '8train_subword_wiki_lm.pkl',bs=bs)"
      ],
      "execution_count": 0,
      "outputs": []
    },
    {
      "cell_type": "code",
      "metadata": {
        "colab_type": "code",
        "outputId": "f36f8b98-02fe-4fb7-8210-c48deb7eb8d1",
        "id": "tx7nDYBaD0K1",
        "colab": {
          "base_uri": "https://localhost:8080/",
          "height": 289
        }
      },
      "source": [
        "data_lm_AA.show_batch()"
      ],
      "execution_count": 0,
      "outputs": [
        {
          "output_type": "display_data",
          "data": {
            "text/html": [
              "<table border=\"1\" class=\"dataframe\">\n",
              "  <thead>\n",
              "    <tr style=\"text-align: right;\">\n",
              "      <th>idx</th>\n",
              "      <th>text</th>\n",
              "    </tr>\n",
              "  </thead>\n",
              "  <tbody>\n",
              "    <tr>\n",
              "      <td>0</td>\n",
              "      <td>▁কেউ - না - কে উ ▁গ্রন্থের ▁পাঠোদ্ধার ▁করতে ▁পারবে । ▁দুই ▁ও ঁড় ের ▁ হস্তী শা বক ▁দেখে ও ▁তিনি ▁উত্তেজিত । ▁প্রকৃতির ▁বিশেষ ▁খেয়াল ে ▁এরকম ▁একটি ▁ হস্তী শা বক ের ▁জন্ম ▁হয়েছে , ▁নাকি ▁এটি ▁বিশেষ ▁কোনো ▁প্ৰ জাতি র ? ▁বিষয়টি ▁নিয়ে ▁ব্যাপক ▁অনুসন্ধান ▁হওয়া ▁প্রয়োজন । ▁হরি মতি ▁এখন ▁আছে ▁আক িকা ▁বেগম ের ▁তত্ত্বাবধানে । ▁আক িকা । ▁বেগম ▁এবং ▁তার ▁বান্ধবী</td>\n",
              "    </tr>\n",
              "    <tr>\n",
              "      <td>1</td>\n",
              "      <td>স্তি ▁নয় ▁ভাই , ▁তোমার ▁মুক্তি ▁হইবে । ▁যতদিন ▁তুমি ▁তোমার ▁স্বামীর ▁কাছে ▁আপনাকে ▁গোপন ▁করিয়া ▁রাখি তে ছ ▁ততদিন ▁তুমি ▁আপনাকে ▁একটা ▁মিথ্যা র ▁বন্ধনে ▁জড়িত ▁করিতে ছ - তা হা ▁তেজ ের ▁সহিত ▁ ছি ঁ ড়িয়া ▁ফেলো , ▁ঈশ্বর ▁তোমার ▁মঙ্গল ▁করি বেন ই । ” ▁কমলা ▁ ক হিল , ▁“ আবার ▁পা ছে ▁সব ▁হার াই ▁এই ▁ভয় ▁যখন ▁মনে ▁আসে ▁তখন ▁সব ▁বল ▁চল</td>\n",
              "    </tr>\n",
              "    <tr>\n",
              "      <td>2</td>\n",
              "      <td>গুলো ▁খুঁজতে ▁ও কে ▁এখন ▁হাত ড়া তে ▁হচ্ছে । ▁অনি মেষ ▁আবিষ্কার ▁করল , ▁ও র ▁সঙ্গে ▁রে তিয়া র ▁এই ▁মুহূর্তে ▁কোনো ▁পার্থক্য ▁নেই - দু জন েই ▁এই ▁মুহূর্তে ▁অন্ধ । ▁ছোট মা ▁বোধ হয় ▁আগে ▁থেকেই ▁বিছানা পত্র ▁ঠিক ▁করে ▁রেখেছিলেন । ▁মহী তোষ ের ▁একটা ▁পুরনো ▁হো ন্ডল ▁ছিল , ▁সেটাই ▁পরিস্কার ▁করে ▁বিছানা পত্র ▁ঢুকিয়ে ▁বেঁধে ▁দেওয়া ▁হল । ▁ ঝাড় িকা কু ▁সেটা</td>\n",
              "    </tr>\n",
              "    <tr>\n",
              "      <td>3</td>\n",
              "      <td>ছে , ▁গায়ে র ▁রং ▁তামাটে ▁মেরে ▁এল — এ ▁তো ▁ভাল ▁লক্ষণ ▁নয় । ▁কিছু ▁একটা ▁হয়েছে ▁আপনার , ▁মুখে ▁বলছেন ▁না । ▁তা ▁তো ▁হয়েছে ই । ▁কী ▁মনে ▁হচ্ছে ▁ জানো ? ▁এই ▁দুনিয়া য় ▁জন্মে ▁এত কাল ▁দুনিয়া টাকে ▁চিন বার ▁চেষ্টা ই ▁করি নি , ▁দুনিয়া টার ▁ভাল - মন্দ ▁নিয়ে ▁ভাব িও নি ▁কিছু , ▁এত ▁যে ▁মানুষজন ▁তাদের ▁সঙ্গে ▁সম্পর্ক ও ▁তৈরি ▁করি</td>\n",
              "    </tr>\n",
              "    <tr>\n",
              "      <td>4</td>\n",
              "      <td>bo s ▁সর্ব নাশ ের ▁বিশাল তা ▁দেখে ▁ কে ▁অতীত - ভবিষ্যৎ ▁ভুলে ▁যায় । ▁বড় ▁বিপদের ও ▁এক ▁প্রচণ্ড ▁সম্ মোহন শক্তি ▁আছে । ▁জলের ▁ পিণ্ড ▁এগিয়ে ▁এল ▁আরও ▁কাছে । ▁শ্রী নাথ ▁ভেবে ছিল ▁খুব ▁কাছেই ▁কোথাও ▁পড়বে । ▁তা ▁পড়ল ▁না । ▁যতক্ষণ ▁ধরে ▁শূন্য ▁পে রো চ্ছিল ▁ততক্ষণ ে ▁আহ্নিক ▁গতির ▁বশ ে ▁পৃথিবী ▁একটু ▁ঘুরে ▁গেছে । ▁তবু , ▁খুব ▁দূরে ▁নয় ,</td>\n",
              "    </tr>\n",
              "  </tbody>\n",
              "</table>"
            ],
            "text/plain": [
              "<IPython.core.display.HTML object>"
            ]
          },
          "metadata": {
            "tags": []
          }
        }
      ]
    },
    {
      "cell_type": "code",
      "metadata": {
        "colab_type": "code",
        "id": "JAnVE8mUD0K_",
        "colab": {}
      },
      "source": [
        "learn = language_model_learner(data_lm_AA, AWD_LSTM, pretrained=False, drop_mult=0.5)"
      ],
      "execution_count": 0,
      "outputs": []
    },
    {
      "cell_type": "code",
      "metadata": {
        "colab_type": "code",
        "id": "MT4iEEPaD0LD",
        "colab": {}
      },
      "source": [
        "learn.load(wiki/'models'/'wiki_subword_lm_30');"
      ],
      "execution_count": 0,
      "outputs": []
    },
    {
      "cell_type": "code",
      "metadata": {
        "colab_type": "code",
        "outputId": "5064197d-6e94-4cef-bd69-a1db226b57fe",
        "id": "zFTeS5J6D0LG",
        "colab": {
          "base_uri": "https://localhost:8080/",
          "height": 300
        }
      },
      "source": [
        "learn.freeze()\n",
        "learn.lr_find();\n",
        "learn.recorder.plot();"
      ],
      "execution_count": 0,
      "outputs": [
        {
          "output_type": "display_data",
          "data": {
            "text/html": [
              ""
            ],
            "text/plain": [
              "<IPython.core.display.HTML object>"
            ]
          },
          "metadata": {
            "tags": []
          }
        },
        {
          "output_type": "stream",
          "text": [
            "LR Finder is complete, type {learner_name}.recorder.plot() to see the graph.\n"
          ],
          "name": "stdout"
        },
        {
          "output_type": "display_data",
          "data": {
            "image/png": "[encoded data removed]",
            "text/plain": [
              "<Figure size 432x288 with 1 Axes>"
            ]
          },
          "metadata": {
            "tags": []
          }
        }
      ]
    },
    {
      "cell_type": "code",
      "metadata": {
        "colab_type": "code",
        "outputId": "40a30685-2fc4-4654-bdcc-d037d686ad8e",
        "id": "M7JE3Q26D0LK",
        "colab": {
          "base_uri": "https://localhost:8080/",
          "height": 283
        }
      },
      "source": [
        "learn.recorder.plot(skip_end=10);"
      ],
      "execution_count": 0,
      "outputs": [
        {
          "output_type": "display_data",
          "data": {
            "image/png": "[encoded data removed]",
            "text/plain": [
              "<Figure size 432x288 with 1 Axes>"
            ]
          },
          "metadata": {
            "tags": []
          }
        }
      ]
    },
    {
      "cell_type": "code",
      "metadata": {
        "colab_type": "code",
        "outputId": "0581463a-5d7f-4f56-9fe6-52dbf67cb9af",
        "id": "nLbGtgP6D0LW",
        "colab": {
          "base_uri": "https://localhost:8080/",
          "height": 299
        }
      },
      "source": [
        "learn.freeze()\n",
        "learn.fit_one_cycle(2, 1e-2)\n",
        "learn.save('8train_wiki_subword_lm_head');\n",
        "learn.freeze_to(-2)\n",
        "learn.fit_one_cycle(2, 1e-2)\n",
        "learn.save('8train_wiki_subword_lm_body_1');\n",
        "learn.freeze_to(-3)\n",
        "learn.fit_one_cycle(2, 1e-2)\n",
        "learn.save('8train_wiki_subword_lm_body_2');"
      ],
      "execution_count": 0,
      "outputs": [
        {
          "output_type": "display_data",
          "data": {
            "text/html": [
              "<table border=\"1\" class=\"dataframe\">\n",
              "  <thead>\n",
              "    <tr style=\"text-align: left;\">\n",
              "      <th>epoch</th>\n",
              "      <th>train_loss</th>\n",
              "      <th>valid_loss</th>\n",
              "      <th>accuracy</th>\n",
              "      <th>time</th>\n",
              "    </tr>\n",
              "  </thead>\n",
              "  <tbody>\n",
              "    <tr>\n",
              "      <td>0</td>\n",
              "      <td>5.384848</td>\n",
              "      <td>5.263005</td>\n",
              "      <td>0.190835</td>\n",
              "      <td>15:39</td>\n",
              "    </tr>\n",
              "    <tr>\n",
              "      <td>1</td>\n",
              "      <td>5.109797</td>\n",
              "      <td>4.992914</td>\n",
              "      <td>0.213728</td>\n",
              "      <td>15:40</td>\n",
              "    </tr>\n",
              "  </tbody>\n",
              "</table>"
            ],
            "text/plain": [
              "<IPython.core.display.HTML object>"
            ]
          },
          "metadata": {
            "tags": []
          }
        },
        {
          "output_type": "display_data",
          "data": {
            "text/html": [
              "<table border=\"1\" class=\"dataframe\">\n",
              "  <thead>\n",
              "    <tr style=\"text-align: left;\">\n",
              "      <th>epoch</th>\n",
              "      <th>train_loss</th>\n",
              "      <th>valid_loss</th>\n",
              "      <th>accuracy</th>\n",
              "      <th>time</th>\n",
              "    </tr>\n",
              "  </thead>\n",
              "  <tbody>\n",
              "    <tr>\n",
              "      <td>0</td>\n",
              "      <td>5.052078</td>\n",
              "      <td>4.937386</td>\n",
              "      <td>0.219858</td>\n",
              "      <td>16:00</td>\n",
              "    </tr>\n",
              "    <tr>\n",
              "      <td>1</td>\n",
              "      <td>4.749715</td>\n",
              "      <td>4.684236</td>\n",
              "      <td>0.244610</td>\n",
              "      <td>16:09</td>\n",
              "    </tr>\n",
              "  </tbody>\n",
              "</table>"
            ],
            "text/plain": [
              "<IPython.core.display.HTML object>"
            ]
          },
          "metadata": {
            "tags": []
          }
        },
        {
          "output_type": "display_data",
          "data": {
            "text/html": [
              "<table border=\"1\" class=\"dataframe\">\n",
              "  <thead>\n",
              "    <tr style=\"text-align: left;\">\n",
              "      <th>epoch</th>\n",
              "      <th>train_loss</th>\n",
              "      <th>valid_loss</th>\n",
              "      <th>accuracy</th>\n",
              "      <th>time</th>\n",
              "    </tr>\n",
              "  </thead>\n",
              "  <tbody>\n",
              "    <tr>\n",
              "      <td>0</td>\n",
              "      <td>4.796930</td>\n",
              "      <td>4.804179</td>\n",
              "      <td>0.233232</td>\n",
              "      <td>17:22</td>\n",
              "    </tr>\n",
              "    <tr>\n",
              "      <td>1</td>\n",
              "      <td>4.497572</td>\n",
              "      <td>4.521537</td>\n",
              "      <td>0.262414</td>\n",
              "      <td>17:22</td>\n",
              "    </tr>\n",
              "  </tbody>\n",
              "</table>"
            ],
            "text/plain": [
              "<IPython.core.display.HTML object>"
            ]
          },
          "metadata": {
            "tags": []
          }
        }
      ]
    },
    {
      "cell_type": "code",
      "metadata": {
        "colab_type": "code",
        "outputId": "789a51b4-4b94-48a5-e2e4-20f8c165551b",
        "id": "SzobVR6ID0Lh",
        "colab": {
          "base_uri": "https://localhost:8080/",
          "height": 267
        }
      },
      "source": [
        "learn.unfreeze()\n",
        "learn.fit_one_cycle(6, 1e-3)\n",
        "learn.save('8train_wiki_subword_lm_body_3');"
      ],
      "execution_count": 0,
      "outputs": [
        {
          "output_type": "display_data",
          "data": {
            "text/html": [
              "\n",
              "    <div>\n",
              "        <style>\n",
              "            /* Turns off some styling */\n",
              "            progress {\n",
              "                /* gets rid of default border in Firefox and Opera. */\n",
              "                border: none;\n",
              "                /* Needs to be in here for Safari polyfill so background images work as expected. */\n",
              "                background-size: auto;\n",
              "            }\n",
              "            .progress-bar-interrupted, .progress-bar-interrupted::-webkit-progress-bar {\n",
              "                background: #F44336;\n",
              "            }\n",
              "        </style>\n",
              "      <progress value='5' class='' max='6', style='width:300px; height:20px; vertical-align: middle;'></progress>\n",
              "      83.33% [5/6 1:31:17<18:15]\n",
              "    </div>\n",
              "    \n",
              "<table border=\"1\" class=\"dataframe\">\n",
              "  <thead>\n",
              "    <tr style=\"text-align: left;\">\n",
              "      <th>epoch</th>\n",
              "      <th>train_loss</th>\n",
              "      <th>valid_loss</th>\n",
              "      <th>accuracy</th>\n",
              "      <th>time</th>\n",
              "    </tr>\n",
              "  </thead>\n",
              "  <tbody>\n",
              "    <tr>\n",
              "      <td>0</td>\n",
              "      <td>4.376826</td>\n",
              "      <td>4.493676</td>\n",
              "      <td>0.265231</td>\n",
              "      <td>18:15</td>\n",
              "    </tr>\n",
              "    <tr>\n",
              "      <td>1</td>\n",
              "      <td>4.310618</td>\n",
              "      <td>4.446989</td>\n",
              "      <td>0.269500</td>\n",
              "      <td>18:15</td>\n",
              "    </tr>\n",
              "    <tr>\n",
              "      <td>2</td>\n",
              "      <td>4.268217</td>\n",
              "      <td>4.403807</td>\n",
              "      <td>0.273829</td>\n",
              "      <td>18:15</td>\n",
              "    </tr>\n",
              "    <tr>\n",
              "      <td>3</td>\n",
              "      <td>4.143509</td>\n",
              "      <td>4.374350</td>\n",
              "      <td>0.277910</td>\n",
              "      <td>18:15</td>\n",
              "    </tr>\n",
              "    <tr>\n",
              "      <td>4</td>\n",
              "      <td>4.134327</td>\n",
              "      <td>4.361048</td>\n",
              "      <td>0.279715</td>\n",
              "      <td>18:16</td>\n",
              "    </tr>\n",
              "  </tbody>\n",
              "</table><p>\n",
              "\n",
              "    <div>\n",
              "        <style>\n",
              "            /* Turns off some styling */\n",
              "            progress {\n",
              "                /* gets rid of default border in Firefox and Opera. */\n",
              "                border: none;\n",
              "                /* Needs to be in here for Safari polyfill so background images work as expected. */\n",
              "                background-size: auto;\n",
              "            }\n",
              "            .progress-bar-interrupted, .progress-bar-interrupted::-webkit-progress-bar {\n",
              "                background: #F44336;\n",
              "            }\n",
              "        </style>\n",
              "      <progress value='116' class='' max='626', style='width:300px; height:20px; vertical-align: middle;'></progress>\n",
              "      18.53% [116/626 00:16<01:14]\n",
              "    </div>\n",
              "    "
            ],
            "text/plain": [
              "<IPython.core.display.HTML object>"
            ]
          },
          "metadata": {
            "tags": []
          }
        },
        {
          "output_type": "stream",
          "text": [
            "Buffered data was truncated after reaching the output size limit."
          ],
          "name": "stdout"
        }
      ]
    },
    {
      "cell_type": "code",
      "metadata": {
        "id": "P8lkdd95EikL",
        "colab_type": "code",
        "outputId": "41fa687f-fa90-471d-99d4-0b5a2de3f63a",
        "colab": {
          "base_uri": "https://localhost:8080/",
          "height": 173
        }
      },
      "source": [
        "learn.unfreeze()\n",
        "learn.fit_one_cycle(4, 1e-3)\n",
        "learn.save('8train_wiki_subword_lm_body_4');"
      ],
      "execution_count": 0,
      "outputs": [
        {
          "output_type": "display_data",
          "data": {
            "text/html": [
              "<table border=\"1\" class=\"dataframe\">\n",
              "  <thead>\n",
              "    <tr style=\"text-align: left;\">\n",
              "      <th>epoch</th>\n",
              "      <th>train_loss</th>\n",
              "      <th>valid_loss</th>\n",
              "      <th>accuracy</th>\n",
              "      <th>time</th>\n",
              "    </tr>\n",
              "  </thead>\n",
              "  <tbody>\n",
              "    <tr>\n",
              "      <td>0</td>\n",
              "      <td>4.130495</td>\n",
              "      <td>4.366357</td>\n",
              "      <td>0.278420</td>\n",
              "      <td>18:15</td>\n",
              "    </tr>\n",
              "    <tr>\n",
              "      <td>1</td>\n",
              "      <td>4.111199</td>\n",
              "      <td>4.346968</td>\n",
              "      <td>0.280725</td>\n",
              "      <td>18:14</td>\n",
              "    </tr>\n",
              "    <tr>\n",
              "      <td>2</td>\n",
              "      <td>4.010805</td>\n",
              "      <td>4.327387</td>\n",
              "      <td>0.283665</td>\n",
              "      <td>18:14</td>\n",
              "    </tr>\n",
              "    <tr>\n",
              "      <td>3</td>\n",
              "      <td>3.921455</td>\n",
              "      <td>4.325974</td>\n",
              "      <td>0.284113</td>\n",
              "      <td>18:16</td>\n",
              "    </tr>\n",
              "  </tbody>\n",
              "</table>"
            ],
            "text/plain": [
              "<IPython.core.display.HTML object>"
            ]
          },
          "metadata": {
            "tags": []
          }
        }
      ]
    },
    {
      "cell_type": "code",
      "metadata": {
        "colab_type": "code",
        "id": "M1ceJ76XD0Lm",
        "colab": {}
      },
      "source": [
        "learn.save_encoder('8train_wiki_subword_lm_enc')"
      ],
      "execution_count": 0,
      "outputs": []
    },
    {
      "cell_type": "markdown",
      "metadata": {
        "colab_type": "text",
        "id": "wOwcYQqxD0Lp"
      },
      "source": [
        "### Classifier"
      ]
    },
    {
      "cell_type": "code",
      "metadata": {
        "colab_type": "code",
        "id": "MzKjGVlaD0Lr",
        "colab": {}
      },
      "source": [
        "data_clas = TextClasDataBunch.from_csv(subsets , '8train.csv', tokenizer=mycust_tok, vocab=sp_vocab, bs=bs)\n",
        "data_clas.save('8train_subword_wiki_clas.pkl')"
      ],
      "execution_count": 0,
      "outputs": []
    },
    {
      "cell_type": "code",
      "metadata": {
        "colab_type": "code",
        "outputId": "7570b0e3-a279-4cfa-87e1-7f71f2282518",
        "id": "HiWPFkFcD0Lu",
        "colab": {
          "base_uri": "https://localhost:8080/",
          "height": 289
        }
      },
      "source": [
        "data_clas.show_batch()"
      ],
      "execution_count": 0,
      "outputs": [
        {
          "output_type": "display_data",
          "data": {
            "text/html": [
              "<table border=\"1\" class=\"dataframe\">\n",
              "  <thead>\n",
              "    <tr style=\"text-align: right;\">\n",
              "      <th>text</th>\n",
              "      <th>target</th>\n",
              "    </tr>\n",
              "  </thead>\n",
              "  <tbody>\n",
              "    <tr>\n",
              "      <td>▁xx bo s ▁ কে হ ▁বিশ্বাস ▁করিয়া ছে , ▁ কে হ ▁করে ▁নাই । ▁প্রাঙ্গণে ▁মোটর ▁দাঁড় াইয়া । ▁কাছে , ▁দূরে ▁ বাটী র ▁সকলেই ▁উপস্থিত । ▁মেয়েরা ▁দ্বিতল ের ▁বারান্দা য় ▁দাঁড় াইয়া ▁চোখ ▁মু ছি তে ছে , ▁বি প্র দাস ▁উ ঠি তে ▁ গিয়া ▁জিজ্ঞাসা ▁করি লেন , ▁দ্বি জু কে ▁দে খ চি ▁নে ▁কেন ? ▁ কে ▁একজন ▁বলি ল ,</td>\n",
              "      <td>shorotchandra</td>\n",
              "    </tr>\n",
              "    <tr>\n",
              "      <td>▁xx bo s ▁মাকে । ▁তাকে ▁বলে ▁যা চ্চি ▁কি ▁হয়ে চে । ▁এই ▁বল িয়া ▁নাতি নী কে ▁দেখা ইয়া ▁ ক হি লেন , ▁এই ▁যে ▁মেয়ে টা ▁মঙ্গলবার ের ▁বার বেলা য় ▁ছাগল দ ড়ি ▁ডি ঙ িয়ে ▁ফেললে , ▁ওই ▁যে ▁দু লে ▁ছু ড়ী ▁আঁচ ল ▁ঘুরিয়ে ▁বা ছা কে ▁ছুঁয়ে ▁দিলে — ▁সন্ধ্যা ▁দু লে ▁মেয়ে টাকে ▁জিজ্ঞাসা ▁করি ল , ▁তু ই ▁ছুঁয়ে</td>\n",
              "      <td>shorotchandra</td>\n",
              "    </tr>\n",
              "    <tr>\n",
              "      <td>▁xx bo s ▁টান িয়া ▁কোলা কুলি ▁করি ল । ▁রাজ লক্ষ্মী ▁ ক হি লেন , ▁“ মহ িন , ▁আমি ▁তো কে ▁এই ▁আর্ শী র্ বাদ ▁করি – শিশু কাল ▁হইতে ▁বিহারী ▁ তোর ▁যেমন ▁বন্ধু ▁ছিল , ▁চিরকাল ▁তেমনি ▁বন্ধু ▁থাক ্ ▁ - ই হার ▁চেয়ে ▁ তোর ▁সৌভাগ্য ▁আর - কিছু ▁হইতে ▁পারে ▁না । ” ▁এই ▁বল িয়া ▁রাজ লক্ষ্মী ▁অত্যন্ত ▁ক্লান্ত ▁হইয়া</td>\n",
              "      <td>robindronath</td>\n",
              "    </tr>\n",
              "    <tr>\n",
              "      <td>▁xx bo s ▁মাথায় ▁হাঁড়ি ▁নাই , ▁হাঁড়ি টা ▁মুহূর্তে র ▁মধ্যে ▁হাতে ▁হাতে ▁কত দূর ▁চল িয়া ▁ গিয়া ছে ▁তাহার ▁ঠিকানা ▁নাই — ▁দই ওয়ালা ▁খান িক ক্ষণ ▁ হাঁ ▁করিয়া ▁চা হিয়া ▁ র হিল । ▁একজন ▁বলি ল , ▁‘ ভাই , ▁তুমি ▁দই য়ের ▁বদলে ▁ ঘো ল ▁খা ইয়া ▁গেলে , ▁ কিঞ্চিৎ ▁লোক সান ▁হইল ▁বৈ ▁তো ▁নয় ! ’ ▁দই ওয়ালা ▁পরম</td>\n",
              "      <td>robindronath</td>\n",
              "    </tr>\n",
              "    <tr>\n",
              "      <td>▁xx bo s ▁বুকের ▁কাছে ▁মাঝে ▁মাঝে ▁একটা ▁ব্যথা ▁টের ▁পাই । ▁চন্দ্র নাথ ▁বলি ল , ▁আর ▁ঐ ▁ মূর্ ছা টা ? ▁সর য ূ ▁হাসি ল , ▁ও টা ▁কিছুই ▁নয় । ▁চন্দ্র নাথ ▁মনে ▁মনে ▁বলি ল , ▁যা ▁হই বার ▁হইয়া ছে , ▁এখন ▁ সর্বস্ব ান্ত ▁হইয়া ও ▁তো মা কে ▁আরোগ্য ▁করি ব । ▁সর য ূ ▁ ক হিল , ▁তোমার ▁কাছে</td>\n",
              "      <td>shorotchandra</td>\n",
              "    </tr>\n",
              "  </tbody>\n",
              "</table>"
            ],
            "text/plain": [
              "<IPython.core.display.HTML object>"
            ]
          },
          "metadata": {
            "tags": []
          }
        }
      ]
    },
    {
      "cell_type": "code",
      "metadata": {
        "colab_type": "code",
        "id": "4_nMKf4lD0L0",
        "colab": {}
      },
      "source": [
        "data_clas = load_data(subsets, '8train_subword_wiki_clas.pkl',bs=bs)\n",
        "learn_cls = text_classifier_learner(data_clas, AWD_LSTM, drop_mult=0.5, pretrained=False)\n",
        "learn_cls.load_encoder('8train_wiki_subword_lm_enc')"
      ],
      "execution_count": 0,
      "outputs": []
    },
    {
      "cell_type": "code",
      "metadata": {
        "colab_type": "code",
        "outputId": "9fd07b0a-a701-4ccc-c839-feebcab8b9b9",
        "id": "CxudDk_MD0L5",
        "colab": {
          "base_uri": "https://localhost:8080/",
          "height": 300
        }
      },
      "source": [
        "learn_cls.freeze()\n",
        "learn_cls.lr_find()\n",
        "learn_cls.recorder.plot()"
      ],
      "execution_count": 0,
      "outputs": [
        {
          "output_type": "display_data",
          "data": {
            "text/html": [
              ""
            ],
            "text/plain": [
              "<IPython.core.display.HTML object>"
            ]
          },
          "metadata": {
            "tags": []
          }
        },
        {
          "output_type": "stream",
          "text": [
            "LR Finder is complete, type {learner_name}.recorder.plot() to see the graph.\n"
          ],
          "name": "stdout"
        },
        {
          "output_type": "display_data",
          "data": {
            "image/png": "[encoded data removed]",
            "text/plain": [
              "<Figure size 432x288 with 1 Axes>"
            ]
          },
          "metadata": {
            "tags": []
          }
        }
      ]
    },
    {
      "cell_type": "code",
      "metadata": {
        "colab_type": "code",
        "outputId": "3ce012c3-a3d8-4a5c-cda4-47af2e1b263a",
        "id": "oBJZE5b5D0MC",
        "colab": {
          "base_uri": "https://localhost:8080/",
          "height": 455
        }
      },
      "source": [
        "learn_cls.fit_one_cycle(2, 1e-2, moms=(0.8,0.7))\n",
        "learn_cls.save('8train_wiki_subword_cls_1')\n",
        "learn_cls.freeze_to(-2)\n",
        "learn_cls.fit_one_cycle(2 , slice(1e-2/(2.8**4),1e-2), moms=(0.8,0.7))\n",
        "learn_cls.save('8train_wiki_subword_cls_2')\n",
        "learn_cls.freeze_to(-3)\n",
        "learn_cls.fit_one_cycle(2, slice(5e-3/(2.8**4),5e-3), moms=(0.8,0.7))\n",
        "learn_cls.save('8train_wiki_subword_cls_3')\n",
        "learn_cls.unfreeze()\n",
        "learn_cls.fit_one_cycle(4, slice(1e-3/(2.8**4),1e-3), moms=(0.8,0.7))\n",
        "learn_cls.save('8train_wiki_subword_cls_4')"
      ],
      "execution_count": 0,
      "outputs": [
        {
          "output_type": "display_data",
          "data": {
            "text/html": [
              "<table border=\"1\" class=\"dataframe\">\n",
              "  <thead>\n",
              "    <tr style=\"text-align: left;\">\n",
              "      <th>epoch</th>\n",
              "      <th>train_loss</th>\n",
              "      <th>valid_loss</th>\n",
              "      <th>accuracy</th>\n",
              "      <th>time</th>\n",
              "    </tr>\n",
              "  </thead>\n",
              "  <tbody>\n",
              "    <tr>\n",
              "      <td>0</td>\n",
              "      <td>0.168106</td>\n",
              "      <td>0.005710</td>\n",
              "      <td>0.999160</td>\n",
              "      <td>05:40</td>\n",
              "    </tr>\n",
              "    <tr>\n",
              "      <td>1</td>\n",
              "      <td>0.059853</td>\n",
              "      <td>0.003431</td>\n",
              "      <td>1.000000</td>\n",
              "      <td>05:44</td>\n",
              "    </tr>\n",
              "  </tbody>\n",
              "</table>"
            ],
            "text/plain": [
              "<IPython.core.display.HTML object>"
            ]
          },
          "metadata": {
            "tags": []
          }
        },
        {
          "output_type": "display_data",
          "data": {
            "text/html": [
              "<table border=\"1\" class=\"dataframe\">\n",
              "  <thead>\n",
              "    <tr style=\"text-align: left;\">\n",
              "      <th>epoch</th>\n",
              "      <th>train_loss</th>\n",
              "      <th>valid_loss</th>\n",
              "      <th>accuracy</th>\n",
              "      <th>time</th>\n",
              "    </tr>\n",
              "  </thead>\n",
              "  <tbody>\n",
              "    <tr>\n",
              "      <td>0</td>\n",
              "      <td>0.090093</td>\n",
              "      <td>0.003922</td>\n",
              "      <td>0.999160</td>\n",
              "      <td>06:33</td>\n",
              "    </tr>\n",
              "    <tr>\n",
              "      <td>1</td>\n",
              "      <td>0.031359</td>\n",
              "      <td>0.001195</td>\n",
              "      <td>1.000000</td>\n",
              "      <td>06:36</td>\n",
              "    </tr>\n",
              "  </tbody>\n",
              "</table>"
            ],
            "text/plain": [
              "<IPython.core.display.HTML object>"
            ]
          },
          "metadata": {
            "tags": []
          }
        },
        {
          "output_type": "display_data",
          "data": {
            "text/html": [
              "<table border=\"1\" class=\"dataframe\">\n",
              "  <thead>\n",
              "    <tr style=\"text-align: left;\">\n",
              "      <th>epoch</th>\n",
              "      <th>train_loss</th>\n",
              "      <th>valid_loss</th>\n",
              "      <th>accuracy</th>\n",
              "      <th>time</th>\n",
              "    </tr>\n",
              "  </thead>\n",
              "  <tbody>\n",
              "    <tr>\n",
              "      <td>0</td>\n",
              "      <td>0.019961</td>\n",
              "      <td>0.001271</td>\n",
              "      <td>0.999160</td>\n",
              "      <td>09:55</td>\n",
              "    </tr>\n",
              "    <tr>\n",
              "      <td>1</td>\n",
              "      <td>0.014047</td>\n",
              "      <td>0.000491</td>\n",
              "      <td>1.000000</td>\n",
              "      <td>09:58</td>\n",
              "    </tr>\n",
              "  </tbody>\n",
              "</table>"
            ],
            "text/plain": [
              "<IPython.core.display.HTML object>"
            ]
          },
          "metadata": {
            "tags": []
          }
        },
        {
          "output_type": "display_data",
          "data": {
            "text/html": [
              "<table border=\"1\" class=\"dataframe\">\n",
              "  <thead>\n",
              "    <tr style=\"text-align: left;\">\n",
              "      <th>epoch</th>\n",
              "      <th>train_loss</th>\n",
              "      <th>valid_loss</th>\n",
              "      <th>accuracy</th>\n",
              "      <th>time</th>\n",
              "    </tr>\n",
              "  </thead>\n",
              "  <tbody>\n",
              "    <tr>\n",
              "      <td>0</td>\n",
              "      <td>0.011813</td>\n",
              "      <td>0.000092</td>\n",
              "      <td>1.000000</td>\n",
              "      <td>12:48</td>\n",
              "    </tr>\n",
              "    <tr>\n",
              "      <td>1</td>\n",
              "      <td>0.009357</td>\n",
              "      <td>0.000112</td>\n",
              "      <td>1.000000</td>\n",
              "      <td>12:39</td>\n",
              "    </tr>\n",
              "    <tr>\n",
              "      <td>2</td>\n",
              "      <td>0.011731</td>\n",
              "      <td>0.000118</td>\n",
              "      <td>1.000000</td>\n",
              "      <td>12:48</td>\n",
              "    </tr>\n",
              "    <tr>\n",
              "      <td>3</td>\n",
              "      <td>0.003889</td>\n",
              "      <td>0.000141</td>\n",
              "      <td>1.000000</td>\n",
              "      <td>12:54</td>\n",
              "    </tr>\n",
              "  </tbody>\n",
              "</table>"
            ],
            "text/plain": [
              "<IPython.core.display.HTML object>"
            ]
          },
          "metadata": {
            "tags": []
          }
        }
      ]
    },
    {
      "cell_type": "code",
      "metadata": {
        "colab_type": "code",
        "id": "Z6S2KqIKD0MH",
        "colab": {}
      },
      "source": [
        "def testing(dts):\n",
        "  df = pd.read_csv(dts) \n",
        "  text_array = df[\"text\"].tolist()\n",
        "  print(len(text_array))\n",
        "\n",
        "  final_preds = []\n",
        "\n",
        "  for text in text_array:\n",
        "      preds = learn_cls.predict(text)\n",
        "      final_preds.append(str(preds[0]))\n",
        "\n",
        "  targets = df[\"label\"].tolist()\n",
        "\n",
        "  err=[]\n",
        "  count =0;\n",
        "  tst = len(text_array)\n",
        "\n",
        "  for i in range(tst):\n",
        "      if(targets[i]==final_preds[i]):\n",
        "          count = count+1\n",
        "      else:\n",
        "  #         print(targets[i] + \", \" + final_preds[i] + ';')\n",
        "          err.append((targets[i],final_preds[i]))\n",
        "  print(\"Accuracy: \")\n",
        "  print(count/tst)\n",
        "  print(err)\n",
        "  \n",
        "  return final_preds,targets"
      ],
      "execution_count": 0,
      "outputs": []
    },
    {
      "cell_type": "code",
      "metadata": {
        "colab_type": "code",
        "id": "wU9SH8oSD0MJ",
        "outputId": "cfe9e536-b64a-496a-c5d7-57f442a116bc",
        "colab": {
          "base_uri": "https://localhost:8080/",
          "height": 105
        }
      },
      "source": [
        "pred,targ = testing(subsets/'8test.csv')"
      ],
      "execution_count": 0,
      "outputs": [
        {
          "output_type": "stream",
          "text": [
            "1496\n",
            "Accuracy: \n",
            "0.9966577540106952\n",
            "[('shirshendu', 'shunil_gongopaddhay'), ('MZI', 'humayun_ahmed'), ('humayun_ahmed', 'MZI'), ('humayun_ahmed', 'shorotchandra'), ('humayun_ahmed', 'shomresh')]\n"
          ],
          "name": "stdout"
        }
      ]
    },
    {
      "cell_type": "code",
      "metadata": {
        "colab_type": "code",
        "id": "tfrmfPJGD0MT",
        "outputId": "4f29612f-4ae0-410a-8184-a86dbaa3baa9",
        "colab": {
          "base_uri": "https://localhost:8080/",
          "height": 51
        }
      },
      "source": [
        "from sklearn.metrics import f1_score\n",
        "out  = f1_score(targ, pred, average=None) #'macro' , also == weighted cuz dataset is balanced\n",
        "out , out.mean()"
      ],
      "execution_count": 0,
      "outputs": [
        {
          "output_type": "execute_result",
          "data": {
            "text/plain": [
              "(array([0.994652, 0.989247, 1.      , 0.997319, 0.997333, 0.997333, 0.997333, 1.      ]),\n",
              " 0.996652344137202)"
            ]
          },
          "metadata": {
            "tags": []
          },
          "execution_count": 47
        }
      ]
    },
    {
      "cell_type": "code",
      "metadata": {
        "colab_type": "code",
        "id": "IDF_rISED0Ml",
        "colab": {}
      },
      "source": [
        ""
      ],
      "execution_count": 0,
      "outputs": []
    },
    {
      "cell_type": "markdown",
      "metadata": {
        "colab_type": "text",
        "id": "WJHS04S06JTp"
      },
      "source": [
        "## 10 Authors"
      ]
    },
    {
      "cell_type": "markdown",
      "metadata": {
        "colab_type": "text",
        "id": "yMLMnuE-6JTr"
      },
      "source": [
        "### LM"
      ]
    },
    {
      "cell_type": "code",
      "metadata": {
        "colab_type": "code",
        "id": "kCYXpezq6JTs",
        "colab": {}
      },
      "source": [
        "data_lm_AA = TextLMDataBunch.from_csv(subsets , '10train.csv', bs=bs , bptt=bptt,tokenizer=mycust_tok, vocab=sp_vocab)\n",
        "data_lm_AA.save('10train_subword_wiki_lm.pkl')"
      ],
      "execution_count": 0,
      "outputs": []
    },
    {
      "cell_type": "code",
      "metadata": {
        "colab_type": "code",
        "id": "ukuABbr46JTx",
        "colab": {}
      },
      "source": [
        "data_lm_AA = load_data(subsets, '10train_subword_wiki_lm.pkl',bs=bs)"
      ],
      "execution_count": 0,
      "outputs": []
    },
    {
      "cell_type": "code",
      "metadata": {
        "colab_type": "code",
        "outputId": "af6a1833-4e18-4a58-e027-4cb79dd220fe",
        "id": "ajxOEbOH6JT1",
        "colab": {
          "base_uri": "https://localhost:8080/",
          "height": 289
        }
      },
      "source": [
        "data_lm_AA.show_batch()"
      ],
      "execution_count": 0,
      "outputs": [
        {
          "output_type": "display_data",
          "data": {
            "text/html": [
              "<table border=\"1\" class=\"dataframe\">\n",
              "  <thead>\n",
              "    <tr style=\"text-align: right;\">\n",
              "      <th>idx</th>\n",
              "      <th>text</th>\n",
              "    </tr>\n",
              "  </thead>\n",
              "  <tbody>\n",
              "    <tr>\n",
              "      <td>0</td>\n",
              "      <td>▁উপর ▁বস িয়া ছেন , ▁সম্মুখে ▁উন্মুক্ত ▁পুঁথি । ▁তিনি ▁একবার ▁প্রশান্ত ▁ চ ক্ষে ▁সভার ▁চারিদিকে ▁দৃষ্টি ▁নিক্ষেপ ▁করি লেন , ▁তারপর ▁ ম ন্দ্র কণ্ঠ ে ▁পাঠ ▁আরম্ভ ▁করি লেন — ▁অস্ত ্য ত্তর স ্যাং ▁দি শি ▁দেবতা ত্ মা ▁হিমালয় ো ▁নাম ▁ ন গা ধি রাজ ঃ । ▁মহিলা মঞ্চ ের ▁মধ্যস্থলে ▁ কুন্তল কুমারী ▁নির্ নির্ ম ষ ▁নে ত্রে ▁নিম্নে ▁কালিদাসের ▁পান ে</td>\n",
              "    </tr>\n",
              "    <tr>\n",
              "      <td>1</td>\n",
              "      <td>▁কাঁদ িতে ▁লা গিল , ▁ভালো ▁বুঝি ল ▁না । ▁হত া শ্বাস ▁রামমোহন ▁ আসিয়া ▁ম্লান মুখে ▁ ক হিল , ▁“ মা , ▁তবে ▁চল ি লাম । ▁মহারাজ কে ▁ গিয়া ▁কী ▁বলি ব । ” ▁বি ভা ▁কিছু ▁বলি তে ▁পারি ল ▁না , ▁অনেক ক্ষণ ▁নি রু ত্তর ▁হইয়া ▁ র হিল । ▁রামমোহন ▁ ক হিল , ▁“ তবে ▁বিদায় ▁হই ▁মা । ”</td>\n",
              "    </tr>\n",
              "    <tr>\n",
              "      <td>2</td>\n",
              "      <td>। ▁হাত ▁তুল িয়া ▁সঙ্কেত ▁করি লেন । ▁তিনটি ▁মাথা ▁কিছুক্ষণ ▁শয্যা র ▁উপর ▁একত্র ▁হইয়া ▁ র হিল । ▁শেষে ▁বীর শ্রী ▁বলি লেন — দি দি , ▁বাইরে ▁বড় ▁অন্ধকার , ▁কোথায় ▁যাচ্ছি ▁বুঝতে ▁পার ছি ▁না । ▁ভয় ▁হচ্ছে , ▁যদি ▁ধরা ▁পড়ে ▁যাই । ▁ঠাকুর ানী ▁বলি লেন — এক ▁কাজ ▁কর । ▁আমার ▁শিবির ের ▁প্রদীপ ▁দ্বার ের ▁বাইরে ▁নিয়ে ▁গিয়ে ▁রাখ । ▁তবু ▁খানিকটা</td>\n",
              "    </tr>\n",
              "    <tr>\n",
              "      <td>3</td>\n",
              "      <td>ে না । ▁প্রতিটি ▁সংসার ের ▁নিজস্ব ▁কিছু ▁সমস্যা ▁থাকে । ▁বাইরে ▁থেকে ▁দেখলে ▁সেসব ▁সমস্যা ▁আঁচ ▁করা ▁যায় ▁না । ▁ছোট ছেলে কে ▁বিয়ের ▁পর ▁আলাদা ▁সংসার ▁করার ▁অনুমতি ▁দিতে ▁চাননি ▁পর শে চন্দ্র । ▁স্ত্রীর ▁জে দে ▁রাজী ▁হয়েছিলেন । ▁স্ত্রী ▁তাঁকে ▁বুঝিয়ে ছিলেন ▁এতে ▁সম্পর্ক ▁ভাল ▁থাকবে । ▁এবং ▁আছে । ▁বড় ▁ছেলে ▁এখনও ▁বা প - মায়ের ▁অনুরক্ত । ▁কিন্তু ▁তার ▁স্ত্রীর ▁সঙ্গে ▁পরে শ গিন</td>\n",
              "    </tr>\n",
              "    <tr>\n",
              "      <td>4</td>\n",
              "      <td>▁চতুর্ গুণ ▁ দগ্ধ ▁করিতে ▁লা গিল । ▁বিশ্ব ম্ভ র ▁বি ধু ভূষণ ▁অথবা ▁বাংলাদেশের ▁অধিবাসী দি গ কে ▁এই ▁অপরাধের ▁জন্য ▁দায় িক ▁করিতে ▁পারি লেন ▁না ▁– ▁সমস্ত ই ▁এক লা ▁নিজের ▁ স্কন্ধ ে ▁তুল িয়া ▁ ল ই তে ▁হইল , ▁কেবল ▁যে - মেয়ে রা ▁জন্ম িয়া ছে ▁এবং ▁জন্ম ি বে ▁তাহা দি গ কেও ▁ কিঞ্চিৎ ▁ কিঞ্চিৎ ▁অংশ ▁দিলেন । ▁অ</td>\n",
              "    </tr>\n",
              "  </tbody>\n",
              "</table>"
            ],
            "text/plain": [
              "<IPython.core.display.HTML object>"
            ]
          },
          "metadata": {
            "tags": []
          }
        }
      ]
    },
    {
      "cell_type": "code",
      "metadata": {
        "colab_type": "code",
        "id": "K8dErEoh6JT5",
        "colab": {}
      },
      "source": [
        "learn = language_model_learner(data_lm_AA, AWD_LSTM, pretrained=False, drop_mult=0.5)"
      ],
      "execution_count": 0,
      "outputs": []
    },
    {
      "cell_type": "code",
      "metadata": {
        "colab_type": "code",
        "id": "oJWFuc3q6JT8",
        "colab": {}
      },
      "source": [
        "learn.load(wiki/'models'/'wiki_subword_lm_30');"
      ],
      "execution_count": 0,
      "outputs": []
    },
    {
      "cell_type": "code",
      "metadata": {
        "colab_type": "code",
        "outputId": "1c9bad3c-3981-4545-a64d-9d95f01fc04f",
        "id": "Tlt_yBEy6JT_",
        "colab": {
          "base_uri": "https://localhost:8080/",
          "height": 300
        }
      },
      "source": [
        "learn.freeze()\n",
        "learn.lr_find();\n",
        "learn.recorder.plot();"
      ],
      "execution_count": 0,
      "outputs": [
        {
          "output_type": "display_data",
          "data": {
            "text/html": [
              ""
            ],
            "text/plain": [
              "<IPython.core.display.HTML object>"
            ]
          },
          "metadata": {
            "tags": []
          }
        },
        {
          "output_type": "stream",
          "text": [
            "LR Finder is complete, type {learner_name}.recorder.plot() to see the graph.\n"
          ],
          "name": "stdout"
        },
        {
          "output_type": "display_data",
          "data": {
            "image/png": "[encoded data removed]",
            "text/plain": [
              "<Figure size 432x288 with 1 Axes>"
            ]
          },
          "metadata": {
            "tags": []
          }
        }
      ]
    },
    {
      "cell_type": "code",
      "metadata": {
        "colab_type": "code",
        "outputId": "412bffa1-2e17-428d-f7cc-9a17fa7f410f",
        "id": "FGgfxVF56JUE",
        "colab": {
          "base_uri": "https://localhost:8080/",
          "height": 283
        }
      },
      "source": [
        "learn.recorder.plot(skip_end=10);"
      ],
      "execution_count": 0,
      "outputs": [
        {
          "output_type": "display_data",
          "data": {
            "image/png": "[encoded data removed]",
            "text/plain": [
              "<Figure size 432x288 with 1 Axes>"
            ]
          },
          "metadata": {
            "tags": []
          }
        }
      ]
    },
    {
      "cell_type": "code",
      "metadata": {
        "colab_type": "code",
        "outputId": "8d11f0d9-a6c9-4f50-a333-fb697d2137e9",
        "id": "uByV0Fox6JUK",
        "colab": {
          "base_uri": "https://localhost:8080/",
          "height": 299
        }
      },
      "source": [
        "learn.freeze()\n",
        "learn.fit_one_cycle(2, 1e-2)\n",
        "learn.save('10train_wiki_subword_lm_head');\n",
        "learn.freeze_to(-2)\n",
        "learn.fit_one_cycle(2, 1e-2)\n",
        "learn.save('10train_wiki_subword_lm_body_1');\n",
        "learn.freeze_to(-3)\n",
        "learn.fit_one_cycle(2, 1e-2)\n",
        "learn.save('10train_wiki_subword_lm_body_2');"
      ],
      "execution_count": 0,
      "outputs": [
        {
          "output_type": "display_data",
          "data": {
            "text/html": [
              "<table border=\"1\" class=\"dataframe\">\n",
              "  <thead>\n",
              "    <tr style=\"text-align: left;\">\n",
              "      <th>epoch</th>\n",
              "      <th>train_loss</th>\n",
              "      <th>valid_loss</th>\n",
              "      <th>accuracy</th>\n",
              "      <th>time</th>\n",
              "    </tr>\n",
              "  </thead>\n",
              "  <tbody>\n",
              "    <tr>\n",
              "      <td>0</td>\n",
              "      <td>5.403599</td>\n",
              "      <td>5.221075</td>\n",
              "      <td>0.194153</td>\n",
              "      <td>09:03</td>\n",
              "    </tr>\n",
              "    <tr>\n",
              "      <td>1</td>\n",
              "      <td>5.129747</td>\n",
              "      <td>4.938441</td>\n",
              "      <td>0.218514</td>\n",
              "      <td>09:14</td>\n",
              "    </tr>\n",
              "  </tbody>\n",
              "</table>"
            ],
            "text/plain": [
              "<IPython.core.display.HTML object>"
            ]
          },
          "metadata": {
            "tags": []
          }
        },
        {
          "output_type": "display_data",
          "data": {
            "text/html": [
              "<table border=\"1\" class=\"dataframe\">\n",
              "  <thead>\n",
              "    <tr style=\"text-align: left;\">\n",
              "      <th>epoch</th>\n",
              "      <th>train_loss</th>\n",
              "      <th>valid_loss</th>\n",
              "      <th>accuracy</th>\n",
              "      <th>time</th>\n",
              "    </tr>\n",
              "  </thead>\n",
              "  <tbody>\n",
              "    <tr>\n",
              "      <td>0</td>\n",
              "      <td>5.061222</td>\n",
              "      <td>4.897356</td>\n",
              "      <td>0.224461</td>\n",
              "      <td>09:26</td>\n",
              "    </tr>\n",
              "    <tr>\n",
              "      <td>1</td>\n",
              "      <td>4.739140</td>\n",
              "      <td>4.625825</td>\n",
              "      <td>0.251482</td>\n",
              "      <td>09:26</td>\n",
              "    </tr>\n",
              "  </tbody>\n",
              "</table>"
            ],
            "text/plain": [
              "<IPython.core.display.HTML object>"
            ]
          },
          "metadata": {
            "tags": []
          }
        },
        {
          "output_type": "display_data",
          "data": {
            "text/html": [
              "<table border=\"1\" class=\"dataframe\">\n",
              "  <thead>\n",
              "    <tr style=\"text-align: left;\">\n",
              "      <th>epoch</th>\n",
              "      <th>train_loss</th>\n",
              "      <th>valid_loss</th>\n",
              "      <th>accuracy</th>\n",
              "      <th>time</th>\n",
              "    </tr>\n",
              "  </thead>\n",
              "  <tbody>\n",
              "    <tr>\n",
              "      <td>0</td>\n",
              "      <td>4.854241</td>\n",
              "      <td>4.762018</td>\n",
              "      <td>0.237924</td>\n",
              "      <td>10:11</td>\n",
              "    </tr>\n",
              "    <tr>\n",
              "      <td>1</td>\n",
              "      <td>4.529462</td>\n",
              "      <td>4.459123</td>\n",
              "      <td>0.269985</td>\n",
              "      <td>10:11</td>\n",
              "    </tr>\n",
              "  </tbody>\n",
              "</table>"
            ],
            "text/plain": [
              "<IPython.core.display.HTML object>"
            ]
          },
          "metadata": {
            "tags": []
          }
        }
      ]
    },
    {
      "cell_type": "code",
      "metadata": {
        "colab_type": "code",
        "outputId": "814c3224-62fd-4f3b-f9a1-441b40b0cd2a",
        "id": "6C6nxXz66JUO",
        "colab": {
          "base_uri": "https://localhost:8080/",
          "height": 173
        }
      },
      "source": [
        "learn.unfreeze()\n",
        "learn.fit_one_cycle(4, 1e-3)\n",
        "learn.save('10train_wiki_subword_lm_body_3');"
      ],
      "execution_count": 0,
      "outputs": [
        {
          "output_type": "display_data",
          "data": {
            "text/html": [
              "<table border=\"1\" class=\"dataframe\">\n",
              "  <thead>\n",
              "    <tr style=\"text-align: left;\">\n",
              "      <th>epoch</th>\n",
              "      <th>train_loss</th>\n",
              "      <th>valid_loss</th>\n",
              "      <th>accuracy</th>\n",
              "      <th>time</th>\n",
              "    </tr>\n",
              "  </thead>\n",
              "  <tbody>\n",
              "    <tr>\n",
              "      <td>0</td>\n",
              "      <td>4.365697</td>\n",
              "      <td>4.422238</td>\n",
              "      <td>0.273833</td>\n",
              "      <td>10:45</td>\n",
              "    </tr>\n",
              "    <tr>\n",
              "      <td>1</td>\n",
              "      <td>4.312780</td>\n",
              "      <td>4.361843</td>\n",
              "      <td>0.279688</td>\n",
              "      <td>10:47</td>\n",
              "    </tr>\n",
              "    <tr>\n",
              "      <td>2</td>\n",
              "      <td>4.202605</td>\n",
              "      <td>4.322558</td>\n",
              "      <td>0.284392</td>\n",
              "      <td>10:46</td>\n",
              "    </tr>\n",
              "    <tr>\n",
              "      <td>3</td>\n",
              "      <td>4.177186</td>\n",
              "      <td>4.315805</td>\n",
              "      <td>0.285415</td>\n",
              "      <td>10:46</td>\n",
              "    </tr>\n",
              "  </tbody>\n",
              "</table>"
            ],
            "text/plain": [
              "<IPython.core.display.HTML object>"
            ]
          },
          "metadata": {
            "tags": []
          }
        }
      ]
    },
    {
      "cell_type": "code",
      "metadata": {
        "colab_type": "code",
        "outputId": "53fafe20-d6f4-43eb-d282-47e8ccdc95d3",
        "id": "zAyU7wmX6JUT",
        "colab": {
          "base_uri": "https://localhost:8080/",
          "height": 173
        }
      },
      "source": [
        "learn.unfreeze()\n",
        "learn.fit_one_cycle(4, 1e-3)\n",
        "learn.save('10train_wiki_subword_lm_body_4');"
      ],
      "execution_count": 0,
      "outputs": [
        {
          "output_type": "display_data",
          "data": {
            "text/html": [
              "<table border=\"1\" class=\"dataframe\">\n",
              "  <thead>\n",
              "    <tr style=\"text-align: left;\">\n",
              "      <th>epoch</th>\n",
              "      <th>train_loss</th>\n",
              "      <th>valid_loss</th>\n",
              "      <th>accuracy</th>\n",
              "      <th>time</th>\n",
              "    </tr>\n",
              "  </thead>\n",
              "  <tbody>\n",
              "    <tr>\n",
              "      <td>0</td>\n",
              "      <td>4.192080</td>\n",
              "      <td>4.320293</td>\n",
              "      <td>0.284387</td>\n",
              "      <td>10:46</td>\n",
              "    </tr>\n",
              "    <tr>\n",
              "      <td>1</td>\n",
              "      <td>4.106658</td>\n",
              "      <td>4.291904</td>\n",
              "      <td>0.287026</td>\n",
              "      <td>10:47</td>\n",
              "    </tr>\n",
              "    <tr>\n",
              "      <td>2</td>\n",
              "      <td>4.109240</td>\n",
              "      <td>4.263958</td>\n",
              "      <td>0.290645</td>\n",
              "      <td>10:47</td>\n",
              "    </tr>\n",
              "    <tr>\n",
              "      <td>3</td>\n",
              "      <td>3.986934</td>\n",
              "      <td>4.260317</td>\n",
              "      <td>0.291493</td>\n",
              "      <td>10:46</td>\n",
              "    </tr>\n",
              "  </tbody>\n",
              "</table>"
            ],
            "text/plain": [
              "<IPython.core.display.HTML object>"
            ]
          },
          "metadata": {
            "tags": []
          }
        }
      ]
    },
    {
      "cell_type": "code",
      "metadata": {
        "id": "vVf0gzMd62uY",
        "colab_type": "code",
        "outputId": "54e6a597-621d-4b20-9767-2276d02ec9a5",
        "colab": {
          "base_uri": "https://localhost:8080/",
          "height": 111
        }
      },
      "source": [
        "learn.unfreeze()\n",
        "learn.fit_one_cycle(2, 1e-3)\n",
        "learn.save('10train_wiki_subword_lm_body_4');"
      ],
      "execution_count": 0,
      "outputs": [
        {
          "output_type": "display_data",
          "data": {
            "text/html": [
              "<table border=\"1\" class=\"dataframe\">\n",
              "  <thead>\n",
              "    <tr style=\"text-align: left;\">\n",
              "      <th>epoch</th>\n",
              "      <th>train_loss</th>\n",
              "      <th>valid_loss</th>\n",
              "      <th>accuracy</th>\n",
              "      <th>time</th>\n",
              "    </tr>\n",
              "  </thead>\n",
              "  <tbody>\n",
              "    <tr>\n",
              "      <td>0</td>\n",
              "      <td>4.081054</td>\n",
              "      <td>4.266046</td>\n",
              "      <td>0.290117</td>\n",
              "      <td>10:47</td>\n",
              "    </tr>\n",
              "    <tr>\n",
              "      <td>1</td>\n",
              "      <td>4.039527</td>\n",
              "      <td>4.244548</td>\n",
              "      <td>0.293338</td>\n",
              "      <td>10:46</td>\n",
              "    </tr>\n",
              "  </tbody>\n",
              "</table>"
            ],
            "text/plain": [
              "<IPython.core.display.HTML object>"
            ]
          },
          "metadata": {
            "tags": []
          }
        }
      ]
    },
    {
      "cell_type": "code",
      "metadata": {
        "colab_type": "code",
        "id": "0t25bG_U6JUX",
        "colab": {}
      },
      "source": [
        "learn.save_encoder('10train_wiki_subword_lm_enc')"
      ],
      "execution_count": 0,
      "outputs": []
    },
    {
      "cell_type": "markdown",
      "metadata": {
        "colab_type": "text",
        "id": "edwHetwj6JUa"
      },
      "source": [
        "### Classifier"
      ]
    },
    {
      "cell_type": "code",
      "metadata": {
        "colab_type": "code",
        "id": "w7trT4aw6JUb",
        "colab": {}
      },
      "source": [
        "data_clas = TextClasDataBunch.from_csv(subsets , '10train.csv', tokenizer=mycust_tok, vocab=sp_vocab, bs=bs)\n",
        "data_clas.save('10train_subword_wiki_clas.pkl')"
      ],
      "execution_count": 0,
      "outputs": []
    },
    {
      "cell_type": "code",
      "metadata": {
        "colab_type": "code",
        "outputId": "ad627e00-f54a-44d1-f48a-67c941a24fca",
        "id": "caiHliMZ6JUe",
        "colab": {
          "base_uri": "https://localhost:8080/",
          "height": 289
        }
      },
      "source": [
        "data_clas.show_batch()"
      ],
      "execution_count": 0,
      "outputs": [
        {
          "output_type": "display_data",
          "data": {
            "text/html": [
              "<table border=\"1\" class=\"dataframe\">\n",
              "  <thead>\n",
              "    <tr style=\"text-align: right;\">\n",
              "      <th>text</th>\n",
              "      <th>target</th>\n",
              "    </tr>\n",
              "  </thead>\n",
              "  <tbody>\n",
              "    <tr>\n",
              "      <td>▁xx bo s ▁করিতে ছে । ▁আমার ▁অসি - ফলক ▁অঙ্গ ার ▁হইতে ▁বাহির ▁করিয়া ▁রসায়ন - মি শ্র ▁জলে ▁ ড়ু বাই তে ছে , ▁সন্ত র্প ণে ▁ফলক ের ▁ধার ▁পরীক্ষা ▁করিতে ছে , ▁আবার ▁তাহা ▁অঙ্গ ার মধ্যে ▁প্রোথিত ▁করিতে ছে । ▁তাহার ▁মুখে ▁কথা ▁নাই , ▁কখনও ▁সে ▁সর্প চক্ষু ▁আমার ▁দিকে ▁ ফির াইয়া ▁অতর্কিত ে ▁আমাকে ▁দেখি য়া ▁ ল ই তে ছে ,</td>\n",
              "      <td>shordindu</td>\n",
              "    </tr>\n",
              "    <tr>\n",
              "      <td>▁xx bo s ▁করিয়া ছে । ▁ভিক্ষু ▁কক্ষে ▁প্রবেশ ▁করিয়া ▁সোম দত্ত াকে ▁আ শী বাদ ▁করি লেন ▁এবং ▁আসন ▁পরি গ্রহ ▁করিয়া ▁জি জ্ঞা সু ▁ নো ত্রে ▁তাহার ▁ মুখের ▁প্রতি ▁চা হিয়া ▁ র হি লেন । ▁সংঘ স্থ বির ের ▁বয়স ▁হইয়া ছে , ▁মস্তক ▁ও ▁মুখ ▁ মুণ্ড িত , ▁পরিধান ে ▁পীত বস্ত ্ৰ , ▁শান্ত ▁সৌ ম্য ▁মূর্তি । ▁ কৃ চ্ছ সাধন</td>\n",
              "      <td>shordindu</td>\n",
              "    </tr>\n",
              "    <tr>\n",
              "      <td>▁xx bo s ▁ট্রেনে ই ▁তিনি ▁আসছেন । ▁হো - হে । ’ ▁বল িয়া ▁ ভ্র ূ ▁না চাই লেন । ▁ ব্যোমকেশ ▁একটু ▁বিস্মিত ম্বর ে ▁বলি ল ▁ , ▁‘ কে ▁তিনি ? ’ ▁সুখ ময় বাবু ▁বলি লেন ▁ , ▁‘ তাঁর ▁নাম ▁ ন ফর ▁কুণ্ডু । ▁তাঁর ▁কয়েক ▁ ব স্তা ▁চাল ▁রেল ে ▁চালান ▁যাচ্ছিল ▁ , ▁একটা ▁ ব স্তা ▁ট্রেনের ▁ঝ</td>\n",
              "      <td>shordindu</td>\n",
              "    </tr>\n",
              "    <tr>\n",
              "      <td>▁xx bo s ▁ছা র খার ে ▁দি লি । ” ▁সোম দ ত্তা ▁স্থির ভাবে ▁বলি ল , ▁“ স্ব ী কার ▁করি লাম । ▁কিন্তু ▁আর ▁বিলম্ব ▁করি লে ▁কুমার কে ▁বাঁচা ই তে ▁পারি ব ▁না । ▁ঐ ▁দেখুন , ▁অগ্নি ▁প্রসাদ ▁বেষ্টন ▁করিয়া ছি । ” ▁এই ▁সময় ▁অর্ধ চন্দ্ৰ াকৃতি ▁বা তায় ন পথে ▁অগ্নি র ▁আর ক্ত ▁ লো ল রিস না ▁ও ▁</td>\n",
              "      <td>shordindu</td>\n",
              "    </tr>\n",
              "    <tr>\n",
              "      <td>▁xx bo s ▁ চিত্তে ▁নাড়াচাড়া ▁করিতে ছে , ▁আমি ▁ ই ত্য বস রে ▁টেবিলের ▁উপর ▁হইতে ▁খাতা ▁লইয়া ▁চোখ ▁বু লাই লাম । ▁কবিতার ▁খাতা ▁ , ▁তাহা তে ▁চতুষ্পদ ী ▁জাতীয় ▁কয়েকটি ▁ক্ষুদ্র ▁কবিতা ▁লেখা ▁ র হিয়া ছে । ▁সবগুলি ই ▁অনুরাগ ের ▁কবিতা ▁ , ▁তার ▁মধ্যে ▁একটি ▁মন্দ ▁লা গিল ▁না – ▁গোলাপ ▁ , ▁তোমার ে ▁ধর ি নু ▁বুকের ▁মাঝে ▁বিনিময়ে ▁তুমি</td>\n",
              "      <td>shordindu</td>\n",
              "    </tr>\n",
              "  </tbody>\n",
              "</table>"
            ],
            "text/plain": [
              "<IPython.core.display.HTML object>"
            ]
          },
          "metadata": {
            "tags": []
          }
        }
      ]
    },
    {
      "cell_type": "code",
      "metadata": {
        "colab_type": "code",
        "id": "2_lDI_8G6JUi",
        "colab": {}
      },
      "source": [
        "data_clas = load_data(subsets, '10train_subword_wiki_clas.pkl',bs=bs)\n",
        "learn_cls = text_classifier_learner(data_clas, AWD_LSTM, drop_mult=0.5, pretrained=False)\n",
        "learn_cls.load_encoder('10train_wiki_subword_lm_enc')"
      ],
      "execution_count": 0,
      "outputs": []
    },
    {
      "cell_type": "code",
      "metadata": {
        "colab_type": "code",
        "outputId": "aef43ae1-febb-4232-edb7-4374d8a3009f",
        "id": "jVK5chl36JUk",
        "colab": {
          "base_uri": "https://localhost:8080/",
          "height": 300
        }
      },
      "source": [
        "learn_cls.freeze()\n",
        "learn_cls.lr_find()\n",
        "learn_cls.recorder.plot()"
      ],
      "execution_count": 0,
      "outputs": [
        {
          "output_type": "display_data",
          "data": {
            "text/html": [
              ""
            ],
            "text/plain": [
              "<IPython.core.display.HTML object>"
            ]
          },
          "metadata": {
            "tags": []
          }
        },
        {
          "output_type": "stream",
          "text": [
            "LR Finder is complete, type {learner_name}.recorder.plot() to see the graph.\n"
          ],
          "name": "stdout"
        },
        {
          "output_type": "display_data",
          "data": {
            "image/png": "[encoded data removed]",
            "text/plain": [
              "<Figure size 432x288 with 1 Axes>"
            ]
          },
          "metadata": {
            "tags": []
          }
        }
      ]
    },
    {
      "cell_type": "code",
      "metadata": {
        "colab_type": "code",
        "outputId": "080a1362-7f9b-44d5-a159-e8c47ea050da",
        "id": "CL6yJgDl6JUs",
        "colab": {
          "base_uri": "https://localhost:8080/",
          "height": 455
        }
      },
      "source": [
        "learn_cls.fit_one_cycle(2, 1e-2, moms=(0.8,0.7))\n",
        "learn_cls.save('10train_wiki_subword_cls_1')\n",
        "learn_cls.freeze_to(-2)\n",
        "learn_cls.fit_one_cycle(2 , slice(1e-2/(2.8**4),1e-2), moms=(0.8,0.7))\n",
        "learn_cls.save('10train_wiki_subword_cls_2')\n",
        "learn_cls.freeze_to(-3)\n",
        "learn_cls.fit_one_cycle(2, slice(5e-3/(2.8**4),5e-3), moms=(0.8,0.7))\n",
        "learn_cls.save('10train_wiki_subword_cls_3')\n",
        "learn_cls.unfreeze()\n",
        "learn_cls.fit_one_cycle(4, slice(1e-3/(2.8**4),1e-3), moms=(0.8,0.7))\n",
        "learn_cls.save('10train_wiki_subword_cls_4')"
      ],
      "execution_count": 0,
      "outputs": [
        {
          "output_type": "display_data",
          "data": {
            "text/html": [
              "<table border=\"1\" class=\"dataframe\">\n",
              "  <thead>\n",
              "    <tr style=\"text-align: left;\">\n",
              "      <th>epoch</th>\n",
              "      <th>train_loss</th>\n",
              "      <th>valid_loss</th>\n",
              "      <th>accuracy</th>\n",
              "      <th>time</th>\n",
              "    </tr>\n",
              "  </thead>\n",
              "  <tbody>\n",
              "    <tr>\n",
              "      <td>0</td>\n",
              "      <td>0.221031</td>\n",
              "      <td>0.028584</td>\n",
              "      <td>0.993378</td>\n",
              "      <td>03:37</td>\n",
              "    </tr>\n",
              "    <tr>\n",
              "      <td>1</td>\n",
              "      <td>0.054487</td>\n",
              "      <td>0.012009</td>\n",
              "      <td>0.996321</td>\n",
              "      <td>03:41</td>\n",
              "    </tr>\n",
              "  </tbody>\n",
              "</table>"
            ],
            "text/plain": [
              "<IPython.core.display.HTML object>"
            ]
          },
          "metadata": {
            "tags": []
          }
        },
        {
          "output_type": "display_data",
          "data": {
            "text/html": [
              "<table border=\"1\" class=\"dataframe\">\n",
              "  <thead>\n",
              "    <tr style=\"text-align: left;\">\n",
              "      <th>epoch</th>\n",
              "      <th>train_loss</th>\n",
              "      <th>valid_loss</th>\n",
              "      <th>accuracy</th>\n",
              "      <th>time</th>\n",
              "    </tr>\n",
              "  </thead>\n",
              "  <tbody>\n",
              "    <tr>\n",
              "      <td>0</td>\n",
              "      <td>0.091726</td>\n",
              "      <td>0.012617</td>\n",
              "      <td>0.997057</td>\n",
              "      <td>04:04</td>\n",
              "    </tr>\n",
              "    <tr>\n",
              "      <td>1</td>\n",
              "      <td>0.032043</td>\n",
              "      <td>0.012164</td>\n",
              "      <td>0.997057</td>\n",
              "      <td>04:10</td>\n",
              "    </tr>\n",
              "  </tbody>\n",
              "</table>"
            ],
            "text/plain": [
              "<IPython.core.display.HTML object>"
            ]
          },
          "metadata": {
            "tags": []
          }
        },
        {
          "output_type": "display_data",
          "data": {
            "text/html": [
              "<table border=\"1\" class=\"dataframe\">\n",
              "  <thead>\n",
              "    <tr style=\"text-align: left;\">\n",
              "      <th>epoch</th>\n",
              "      <th>train_loss</th>\n",
              "      <th>valid_loss</th>\n",
              "      <th>accuracy</th>\n",
              "      <th>time</th>\n",
              "    </tr>\n",
              "  </thead>\n",
              "  <tbody>\n",
              "    <tr>\n",
              "      <td>0</td>\n",
              "      <td>0.035716</td>\n",
              "      <td>0.007044</td>\n",
              "      <td>0.997792</td>\n",
              "      <td>05:47</td>\n",
              "    </tr>\n",
              "    <tr>\n",
              "      <td>1</td>\n",
              "      <td>0.012601</td>\n",
              "      <td>0.007675</td>\n",
              "      <td>0.997792</td>\n",
              "      <td>05:50</td>\n",
              "    </tr>\n",
              "  </tbody>\n",
              "</table>"
            ],
            "text/plain": [
              "<IPython.core.display.HTML object>"
            ]
          },
          "metadata": {
            "tags": []
          }
        },
        {
          "output_type": "display_data",
          "data": {
            "text/html": [
              "<table border=\"1\" class=\"dataframe\">\n",
              "  <thead>\n",
              "    <tr style=\"text-align: left;\">\n",
              "      <th>epoch</th>\n",
              "      <th>train_loss</th>\n",
              "      <th>valid_loss</th>\n",
              "      <th>accuracy</th>\n",
              "      <th>time</th>\n",
              "    </tr>\n",
              "  </thead>\n",
              "  <tbody>\n",
              "    <tr>\n",
              "      <td>0</td>\n",
              "      <td>0.010965</td>\n",
              "      <td>0.005958</td>\n",
              "      <td>0.997792</td>\n",
              "      <td>07:15</td>\n",
              "    </tr>\n",
              "    <tr>\n",
              "      <td>1</td>\n",
              "      <td>0.009940</td>\n",
              "      <td>0.006591</td>\n",
              "      <td>0.997792</td>\n",
              "      <td>07:17</td>\n",
              "    </tr>\n",
              "    <tr>\n",
              "      <td>2</td>\n",
              "      <td>0.010165</td>\n",
              "      <td>0.005657</td>\n",
              "      <td>0.997792</td>\n",
              "      <td>07:14</td>\n",
              "    </tr>\n",
              "    <tr>\n",
              "      <td>3</td>\n",
              "      <td>0.011313</td>\n",
              "      <td>0.006619</td>\n",
              "      <td>0.997792</td>\n",
              "      <td>07:07</td>\n",
              "    </tr>\n",
              "  </tbody>\n",
              "</table>"
            ],
            "text/plain": [
              "<IPython.core.display.HTML object>"
            ]
          },
          "metadata": {
            "tags": []
          }
        }
      ]
    },
    {
      "cell_type": "code",
      "metadata": {
        "colab_type": "code",
        "id": "kmPmzY516JUx",
        "colab": {}
      },
      "source": [
        "def testing(dts):\n",
        "  df = pd.read_csv(dts) \n",
        "  text_array = df[\"text\"].tolist()\n",
        "  print(len(text_array))\n",
        "\n",
        "  final_preds = []\n",
        "\n",
        "  for text in text_array:\n",
        "      preds = learn_cls.predict(text)\n",
        "      final_preds.append(str(preds[0]))\n",
        "\n",
        "  targets = df[\"label\"].tolist()\n",
        "\n",
        "  err=[]\n",
        "  count =0;\n",
        "  tst = len(text_array)\n",
        "\n",
        "  for i in range(tst):\n",
        "      if(targets[i]==final_preds[i]):\n",
        "          count = count+1\n",
        "      else:\n",
        "  #         print(targets[i] + \", \" + final_preds[i] + ';')\n",
        "          err.append((targets[i],final_preds[i]))\n",
        "  print(\"Accuracy: \")\n",
        "  print(count/tst)\n",
        "  print(err)\n",
        "  \n",
        "  return final_preds,targets"
      ],
      "execution_count": 0,
      "outputs": []
    },
    {
      "cell_type": "code",
      "metadata": {
        "colab_type": "code",
        "outputId": "f64b3cb8-ac0e-4353-eca6-2fcffac61f2e",
        "id": "ebD_6t9z6JU2",
        "colab": {
          "base_uri": "https://localhost:8080/",
          "height": 105
        }
      },
      "source": [
        "pred,targ = testing(subsets/'10test.csv')"
      ],
      "execution_count": 0,
      "outputs": [
        {
          "output_type": "stream",
          "text": [
            "1700\n",
            "Accuracy: \n",
            "0.9941176470588236\n",
            "[('shordindu', 'shunil_gongopaddhay'), ('shottojit_roy', 'MZI'), ('shirshendu', 'shordindu'), ('shirshendu', 'shordindu'), ('shirshendu', 'shordindu'), ('MZI', 'humayun_ahmed'), ('humayun_ahmed', 'MZI'), ('humayun_ahmed', 'MZI'), ('shunil_gongopaddhay', 'robindronath'), ('shunil_gongopaddhay', 'shordindu')]\n"
          ],
          "name": "stdout"
        }
      ]
    },
    {
      "cell_type": "code",
      "metadata": {
        "colab_type": "code",
        "outputId": "0f8cc9a1-4708-4523-9ffb-9a2365c93d35",
        "id": "_NNDJTR76JU7",
        "colab": {
          "base_uri": "https://localhost:8080/",
          "height": 51
        }
      },
      "source": [
        "from sklearn.metrics import f1_score\n",
        "out  = f1_score(targ, pred, average=None) #'macro' , also == weighted cuz dataset is balanced\n",
        "out , out.mean()"
      ],
      "execution_count": 0,
      "outputs": [
        {
          "output_type": "execute_result",
          "data": {
            "text/plain": [
              "(array([0.988304, 0.99115 , 0.997067, 0.991098, 1.      , 0.985423, 1.      , 0.99705 , 0.99115 , 1.      ]),\n",
              " 0.9941243238069427)"
            ]
          },
          "metadata": {
            "tags": []
          },
          "execution_count": 30
        }
      ]
    },
    {
      "cell_type": "markdown",
      "metadata": {
        "colab_type": "text",
        "id": "0K1FpwcfJ-tT"
      },
      "source": [
        "## 12 Authors"
      ]
    },
    {
      "cell_type": "markdown",
      "metadata": {
        "colab_type": "text",
        "id": "Hki_gEqiJ-tj"
      },
      "source": [
        "### LM"
      ]
    },
    {
      "cell_type": "code",
      "metadata": {
        "colab_type": "code",
        "id": "pG44DL8LJ-tl",
        "colab": {}
      },
      "source": [
        "data_lm_AA = TextLMDataBunch.from_csv(subsets , '12train.csv', bs=bs , bptt=bptt,tokenizer=mycust_tok, vocab=sp_vocab)\n",
        "data_lm_AA.save('12train_subword_wiki_lm.pkl')"
      ],
      "execution_count": 0,
      "outputs": []
    },
    {
      "cell_type": "code",
      "metadata": {
        "colab_type": "code",
        "id": "U9bFQcvaJ-tw",
        "colab": {}
      },
      "source": [
        "data_lm_AA = load_data(subsets, '12train_subword_wiki_lm.pkl',bs=bs)"
      ],
      "execution_count": 0,
      "outputs": []
    },
    {
      "cell_type": "code",
      "metadata": {
        "colab_type": "code",
        "outputId": "06dbe719-112d-42eb-ced2-98c4b9ec242d",
        "id": "KRBApTDhJ-ty",
        "colab": {
          "base_uri": "https://localhost:8080/",
          "height": 289
        }
      },
      "source": [
        "data_lm_AA.show_batch()"
      ],
      "execution_count": 0,
      "outputs": [
        {
          "output_type": "display_data",
          "data": {
            "text/html": [
              "<table border=\"1\" class=\"dataframe\">\n",
              "  <thead>\n",
              "    <tr style=\"text-align: right;\">\n",
              "      <th>idx</th>\n",
              "      <th>text</th>\n",
              "    </tr>\n",
              "  </thead>\n",
              "  <tbody>\n",
              "    <tr>\n",
              "      <td>0</td>\n",
              "      <td>▁আসছে । ▁বাঘা ▁এমন ▁নিরস্ত্র ▁নিরীহ ▁শিকারের ▁সুযোগ ▁কিছু তে ▁পরিত্যাগ ▁করতে ▁পারছে ▁না । ▁নই লে ▁সে ▁পালা ত । ▁পালা ত ▁দক্ষিণ ▁মুখে , ▁যে দিকে ▁ওই ▁চাষী রা ▁চাষ ▁করছে , ▁ঘোষের া ▁গরু ▁ মহিষের ▁বা থান ▁দিয়ে ▁বসে ▁আছে । ▁ মহিষের ▁শিঙ ে , ▁ঘোষ দের ▁লাঠি তে , ▁দাও য়ের ▁কোপ ে ▁বাঘা ▁মর ত । ▁সর স ▁কৌতুক ে ▁উজ্জ্বল ▁হয়ে ▁উঠল</td>\n",
              "    </tr>\n",
              "    <tr>\n",
              "      <td>1</td>\n",
              "      <td>▁কেন ? ▁ও দের ▁তো ▁গলা ▁সাধা র ▁কোনও ▁দায় ▁নেই । ▁অন্ধকারে ▁পাশের ▁ঘুম ন্ত ▁বিছানা ▁থেকে ▁জনের ▁গলা ▁ভেসে ▁এল , ▁তুমি ▁কি ▁শেয়াল ের ▁ভাষা ▁বুঝতে ▁পারো ? ▁না । ▁অর্জুন ▁হাস ল । ▁তা ▁হলে ▁ চলো , ▁বাইরে ▁বেরিয়ে ▁দেখা ▁যাক । ▁কৌ ত ূ হল ▁যে ▁হচ্ছিল ▁না ▁তা ▁নয় , ▁কিন্তু ▁শীত ের ▁কথা ▁ভেবে ▁উদ্যোগ ▁নেয়নি ▁অর্জুন । ▁এবার ▁স্লিপিং ▁ব্যাগ ▁থেকে</td>\n",
              "    </tr>\n",
              "    <tr>\n",
              "      <td>2</td>\n",
              "      <td>▁করে । ▁মানুষ ▁খুন ও ▁করে । ▁ভু ড়ু ▁বলল , ▁সেসব ▁আমি ▁কী ▁জানি ! ▁আমি ▁নিজের ▁হাতে ▁গাছ ও ▁ কাটি ▁না , ▁মানুষ ও ▁খুন ▁করি ▁না । ▁আমার ▁কোনও ▁দায় ▁নেই । ▁বা ঃ , ▁বেশ ▁কথা । ▁কিন্তু ▁যখন ▁এরা ▁পুলিশের ▁হাতে ▁ধরা ▁পড়বে , ▁তখন ▁এদের ▁দলের ▁লোক ▁হিসেবে ▁তুমি ও ▁শাস্তি ▁পাবে । ▁এরা ▁কখনও ▁ধরা ▁পড়বে ▁না । ▁কিছু ▁পুলিশ কে ▁টাকা</td>\n",
              "    </tr>\n",
              "    <tr>\n",
              "      <td>3</td>\n",
              "      <td>▁বুঝতে ▁পার ছি ▁না । ▁কী ▁বুঝতে ▁পার ছ ▁না ? ▁সৌরজগত ে ▁আমরা ▁ঢুকে ▁গে ছি , ▁মঙ্গল ▁গ্রহের ▁পাশে ▁দিয়ে ▁ছুটে ▁যাচ্ছি ▁কিন্তু ▁তবুও ▁হিসেব ▁মিল ছে ▁না । ▁কী ▁হিসেব ▁মিল ছে ▁না ? ▁গ্রহ গুলো ▁যেখানে ▁থাকার ▁কথা ▁সেখানে ▁নেই । ▁কোথায় ▁আছে ? ▁অন্য ▁জায়গায় । ▁ ঝা ▁শুকনো ▁মুখে ▁বলল , ▁তার ▁মানে ▁কী ? ▁মনে ▁হচ্ছে ▁সময় ▁নিয়ে ▁গোল মাল ▁হয়ে ▁গেছে ।</td>\n",
              "    </tr>\n",
              "    <tr>\n",
              "      <td>4</td>\n",
              "      <td>▁এসেছিল । ▁হঠাৎ ▁চে ঁচ িয়ে ▁উঠল , ▁চুপ র ও ▁বে য়াদ ব , ▁বা প - মা কে ▁খাওয়া ই ▁নিজের ▁পয়সা য় , ▁তোমার ▁বা পের ▁পয়সা য় ▁নয় । ▁বেশি ▁কথা ▁কই লে ▁মুখ ▁ভেঙে ▁দেব ো । ▁মাও ▁ছাড় বার ▁ পাত্রী ▁নয় । ▁বলল , ▁মুখ ▁ভাঙ বে ! ▁ইস ▁কত ▁মু রোদ , ▁বট তলা র ▁গু ণ্ডা রা ▁তো ▁কান ▁ধরে ▁ও</td>\n",
              "    </tr>\n",
              "  </tbody>\n",
              "</table>"
            ],
            "text/plain": [
              "<IPython.core.display.HTML object>"
            ]
          },
          "metadata": {
            "tags": []
          }
        }
      ]
    },
    {
      "cell_type": "code",
      "metadata": {
        "colab_type": "code",
        "id": "A62O-RaAJ-t6",
        "colab": {}
      },
      "source": [
        "learn = language_model_learner(data_lm_AA, AWD_LSTM, pretrained=False, drop_mult=0.5)"
      ],
      "execution_count": 0,
      "outputs": []
    },
    {
      "cell_type": "code",
      "metadata": {
        "colab_type": "code",
        "id": "gcPydkZnJ-t9",
        "colab": {}
      },
      "source": [
        "learn.load(wiki/'models'/'wiki_subword_lm_30');"
      ],
      "execution_count": 0,
      "outputs": []
    },
    {
      "cell_type": "code",
      "metadata": {
        "colab_type": "code",
        "outputId": "b9687f1f-cf37-4c8e-8dfa-2c93f3907742",
        "id": "prVYYlogJ-uE",
        "colab": {
          "base_uri": "https://localhost:8080/",
          "height": 300
        }
      },
      "source": [
        "learn.freeze()\n",
        "learn.lr_find();\n",
        "learn.recorder.plot();"
      ],
      "execution_count": 0,
      "outputs": [
        {
          "output_type": "display_data",
          "data": {
            "text/html": [
              ""
            ],
            "text/plain": [
              "<IPython.core.display.HTML object>"
            ]
          },
          "metadata": {
            "tags": []
          }
        },
        {
          "output_type": "stream",
          "text": [
            "LR Finder is complete, type {learner_name}.recorder.plot() to see the graph.\n"
          ],
          "name": "stdout"
        },
        {
          "output_type": "display_data",
          "data": {
            "image/png": "[encoded data removed]",
            "text/plain": [
              "<Figure size 432x288 with 1 Axes>"
            ]
          },
          "metadata": {
            "tags": []
          }
        }
      ]
    },
    {
      "cell_type": "code",
      "metadata": {
        "colab_type": "code",
        "outputId": "0d9db8af-fba1-4d83-9347-56a19f60a5e3",
        "id": "gna9kfbQJ-uO",
        "colab": {
          "base_uri": "https://localhost:8080/",
          "height": 283
        }
      },
      "source": [
        "learn.recorder.plot(skip_end=10);"
      ],
      "execution_count": 0,
      "outputs": [
        {
          "output_type": "display_data",
          "data": {
            "image/png": "[encoded data removed]",
            "text/plain": [
              "<Figure size 432x288 with 1 Axes>"
            ]
          },
          "metadata": {
            "tags": []
          }
        }
      ]
    },
    {
      "cell_type": "code",
      "metadata": {
        "colab_type": "code",
        "outputId": "38a24c0b-c07c-46a0-9d54-3b950fba6875",
        "id": "eRtfcH_yJ-uU",
        "colab": {
          "base_uri": "https://localhost:8080/",
          "height": 299
        }
      },
      "source": [
        "learn.freeze()\n",
        "learn.fit_one_cycle(2, 1e-2)\n",
        "learn.save('12train_wiki_subword_lm_head');\n",
        "learn.freeze_to(-2)\n",
        "learn.fit_one_cycle(2, 1e-2)\n",
        "learn.save('12train_wiki_subword_lm_body_1');\n",
        "learn.freeze_to(-3)\n",
        "learn.fit_one_cycle(2, 1e-2)\n",
        "learn.save('12train_wiki_subword_lm_body_2');"
      ],
      "execution_count": 0,
      "outputs": [
        {
          "output_type": "display_data",
          "data": {
            "text/html": [
              "<table border=\"1\" class=\"dataframe\">\n",
              "  <thead>\n",
              "    <tr style=\"text-align: left;\">\n",
              "      <th>epoch</th>\n",
              "      <th>train_loss</th>\n",
              "      <th>valid_loss</th>\n",
              "      <th>accuracy</th>\n",
              "      <th>time</th>\n",
              "    </tr>\n",
              "  </thead>\n",
              "  <tbody>\n",
              "    <tr>\n",
              "      <td>0</td>\n",
              "      <td>5.458150</td>\n",
              "      <td>5.326368</td>\n",
              "      <td>0.186960</td>\n",
              "      <td>07:29</td>\n",
              "    </tr>\n",
              "    <tr>\n",
              "      <td>1</td>\n",
              "      <td>5.151121</td>\n",
              "      <td>5.039741</td>\n",
              "      <td>0.210416</td>\n",
              "      <td>07:32</td>\n",
              "    </tr>\n",
              "  </tbody>\n",
              "</table>"
            ],
            "text/plain": [
              "<IPython.core.display.HTML object>"
            ]
          },
          "metadata": {
            "tags": []
          }
        },
        {
          "output_type": "display_data",
          "data": {
            "text/html": [
              "<table border=\"1\" class=\"dataframe\">\n",
              "  <thead>\n",
              "    <tr style=\"text-align: left;\">\n",
              "      <th>epoch</th>\n",
              "      <th>train_loss</th>\n",
              "      <th>valid_loss</th>\n",
              "      <th>accuracy</th>\n",
              "      <th>time</th>\n",
              "    </tr>\n",
              "  </thead>\n",
              "  <tbody>\n",
              "    <tr>\n",
              "      <td>0</td>\n",
              "      <td>5.002031</td>\n",
              "      <td>4.987146</td>\n",
              "      <td>0.216256</td>\n",
              "      <td>07:42</td>\n",
              "    </tr>\n",
              "    <tr>\n",
              "      <td>1</td>\n",
              "      <td>4.848481</td>\n",
              "      <td>4.722371</td>\n",
              "      <td>0.242696</td>\n",
              "      <td>07:43</td>\n",
              "    </tr>\n",
              "  </tbody>\n",
              "</table>"
            ],
            "text/plain": [
              "<IPython.core.display.HTML object>"
            ]
          },
          "metadata": {
            "tags": []
          }
        },
        {
          "output_type": "display_data",
          "data": {
            "text/html": [
              "<table border=\"1\" class=\"dataframe\">\n",
              "  <thead>\n",
              "    <tr style=\"text-align: left;\">\n",
              "      <th>epoch</th>\n",
              "      <th>train_loss</th>\n",
              "      <th>valid_loss</th>\n",
              "      <th>accuracy</th>\n",
              "      <th>time</th>\n",
              "    </tr>\n",
              "  </thead>\n",
              "  <tbody>\n",
              "    <tr>\n",
              "      <td>0</td>\n",
              "      <td>4.858437</td>\n",
              "      <td>4.844409</td>\n",
              "      <td>0.231306</td>\n",
              "      <td>08:18</td>\n",
              "    </tr>\n",
              "    <tr>\n",
              "      <td>1</td>\n",
              "      <td>4.600290</td>\n",
              "      <td>4.552289</td>\n",
              "      <td>0.262153</td>\n",
              "      <td>08:18</td>\n",
              "    </tr>\n",
              "  </tbody>\n",
              "</table>"
            ],
            "text/plain": [
              "<IPython.core.display.HTML object>"
            ]
          },
          "metadata": {
            "tags": []
          }
        }
      ]
    },
    {
      "cell_type": "code",
      "metadata": {
        "colab_type": "code",
        "outputId": "4b9dbf42-067e-41d5-ac8e-8b41e33d1736",
        "id": "FYWI66K7J-ud",
        "colab": {
          "base_uri": "https://localhost:8080/",
          "height": 173
        }
      },
      "source": [
        "learn.unfreeze()\n",
        "learn.fit_one_cycle(4, 1e-3)\n",
        "learn.save('12train_wiki_subword_lm_body_3');"
      ],
      "execution_count": 0,
      "outputs": [
        {
          "output_type": "display_data",
          "data": {
            "text/html": [
              "<table border=\"1\" class=\"dataframe\">\n",
              "  <thead>\n",
              "    <tr style=\"text-align: left;\">\n",
              "      <th>epoch</th>\n",
              "      <th>train_loss</th>\n",
              "      <th>valid_loss</th>\n",
              "      <th>accuracy</th>\n",
              "      <th>time</th>\n",
              "    </tr>\n",
              "  </thead>\n",
              "  <tbody>\n",
              "    <tr>\n",
              "      <td>0</td>\n",
              "      <td>4.412549</td>\n",
              "      <td>4.516192</td>\n",
              "      <td>0.265476</td>\n",
              "      <td>08:46</td>\n",
              "    </tr>\n",
              "    <tr>\n",
              "      <td>1</td>\n",
              "      <td>4.324831</td>\n",
              "      <td>4.460499</td>\n",
              "      <td>0.270647</td>\n",
              "      <td>08:45</td>\n",
              "    </tr>\n",
              "    <tr>\n",
              "      <td>2</td>\n",
              "      <td>4.274143</td>\n",
              "      <td>4.422407</td>\n",
              "      <td>0.275443</td>\n",
              "      <td>08:46</td>\n",
              "    </tr>\n",
              "    <tr>\n",
              "      <td>3</td>\n",
              "      <td>4.159180</td>\n",
              "      <td>4.417930</td>\n",
              "      <td>0.276177</td>\n",
              "      <td>08:47</td>\n",
              "    </tr>\n",
              "  </tbody>\n",
              "</table>"
            ],
            "text/plain": [
              "<IPython.core.display.HTML object>"
            ]
          },
          "metadata": {
            "tags": []
          }
        }
      ]
    },
    {
      "cell_type": "code",
      "metadata": {
        "colab_type": "code",
        "outputId": "90199d60-28ac-457e-ff83-d13f2df7db92",
        "id": "GjgFLFzZJ-un",
        "colab": {
          "base_uri": "https://localhost:8080/",
          "height": 173
        }
      },
      "source": [
        "learn.unfreeze()\n",
        "learn.fit_one_cycle(4, 1e-3)\n",
        "learn.save('12train_wiki_subword_lm_body_4');"
      ],
      "execution_count": 0,
      "outputs": [
        {
          "output_type": "display_data",
          "data": {
            "text/html": [
              "<table border=\"1\" class=\"dataframe\">\n",
              "  <thead>\n",
              "    <tr style=\"text-align: left;\">\n",
              "      <th>epoch</th>\n",
              "      <th>train_loss</th>\n",
              "      <th>valid_loss</th>\n",
              "      <th>accuracy</th>\n",
              "      <th>time</th>\n",
              "    </tr>\n",
              "  </thead>\n",
              "  <tbody>\n",
              "    <tr>\n",
              "      <td>0</td>\n",
              "      <td>4.221442</td>\n",
              "      <td>4.421705</td>\n",
              "      <td>0.275466</td>\n",
              "      <td>08:48</td>\n",
              "    </tr>\n",
              "    <tr>\n",
              "      <td>1</td>\n",
              "      <td>4.190004</td>\n",
              "      <td>4.394650</td>\n",
              "      <td>0.278114</td>\n",
              "      <td>08:48</td>\n",
              "    </tr>\n",
              "    <tr>\n",
              "      <td>2</td>\n",
              "      <td>4.134545</td>\n",
              "      <td>4.368842</td>\n",
              "      <td>0.281299</td>\n",
              "      <td>08:51</td>\n",
              "    </tr>\n",
              "    <tr>\n",
              "      <td>3</td>\n",
              "      <td>4.045060</td>\n",
              "      <td>4.368447</td>\n",
              "      <td>0.281861</td>\n",
              "      <td>08:52</td>\n",
              "    </tr>\n",
              "  </tbody>\n",
              "</table>"
            ],
            "text/plain": [
              "<IPython.core.display.HTML object>"
            ]
          },
          "metadata": {
            "tags": []
          }
        }
      ]
    },
    {
      "cell_type": "code",
      "metadata": {
        "colab_type": "code",
        "outputId": "df45d12b-6422-44e2-8515-337c9723e05b",
        "id": "xmLy9Ss4J-uw",
        "colab": {
          "base_uri": "https://localhost:8080/",
          "height": 111
        }
      },
      "source": [
        "learn.unfreeze()\n",
        "learn.fit_one_cycle(2, 1e-3)\n",
        "learn.save('12train_wiki_subword_lm_body_4');"
      ],
      "execution_count": 0,
      "outputs": [
        {
          "output_type": "display_data",
          "data": {
            "text/html": [
              "<table border=\"1\" class=\"dataframe\">\n",
              "  <thead>\n",
              "    <tr style=\"text-align: left;\">\n",
              "      <th>epoch</th>\n",
              "      <th>train_loss</th>\n",
              "      <th>valid_loss</th>\n",
              "      <th>accuracy</th>\n",
              "      <th>time</th>\n",
              "    </tr>\n",
              "  </thead>\n",
              "  <tbody>\n",
              "    <tr>\n",
              "      <td>0</td>\n",
              "      <td>4.091321</td>\n",
              "      <td>4.373766</td>\n",
              "      <td>0.280795</td>\n",
              "      <td>08:49</td>\n",
              "    </tr>\n",
              "    <tr>\n",
              "      <td>1</td>\n",
              "      <td>4.039201</td>\n",
              "      <td>4.355313</td>\n",
              "      <td>0.283222</td>\n",
              "      <td>08:49</td>\n",
              "    </tr>\n",
              "  </tbody>\n",
              "</table>"
            ],
            "text/plain": [
              "<IPython.core.display.HTML object>"
            ]
          },
          "metadata": {
            "tags": []
          }
        }
      ]
    },
    {
      "cell_type": "code",
      "metadata": {
        "colab_type": "code",
        "id": "2iQ6TYXUJ-u6",
        "colab": {}
      },
      "source": [
        "learn.save_encoder('12train_wiki_subword_lm_enc')"
      ],
      "execution_count": 0,
      "outputs": []
    },
    {
      "cell_type": "markdown",
      "metadata": {
        "colab_type": "text",
        "id": "za8cqGqgJ-vB"
      },
      "source": [
        "### Classifier"
      ]
    },
    {
      "cell_type": "code",
      "metadata": {
        "colab_type": "code",
        "id": "L3vuo083J-vC",
        "colab": {}
      },
      "source": [
        "data_clas = TextClasDataBunch.from_csv(subsets , '12train.csv', tokenizer=mycust_tok, vocab=sp_vocab, bs=bs)\n",
        "data_clas.save('12train_subword_wiki_clas.pkl')"
      ],
      "execution_count": 0,
      "outputs": []
    },
    {
      "cell_type": "code",
      "metadata": {
        "colab_type": "code",
        "outputId": "c7764bde-1bf4-4da0-e7a0-c194cd0802b2",
        "id": "GMc3lJfCJ-vG",
        "colab": {
          "base_uri": "https://localhost:8080/",
          "height": 289
        }
      },
      "source": [
        "data_clas.show_batch()"
      ],
      "execution_count": 0,
      "outputs": [
        {
          "output_type": "display_data",
          "data": {
            "text/html": [
              "<table border=\"1\" class=\"dataframe\">\n",
              "  <thead>\n",
              "    <tr style=\"text-align: right;\">\n",
              "      <th>text</th>\n",
              "      <th>target</th>\n",
              "    </tr>\n",
              "  </thead>\n",
              "  <tbody>\n",
              "    <tr>\n",
              "      <td>▁xx bo s ▁বাজার ▁বেড়া ই বার ▁সাধ ▁ র হিল ▁না - তবে ▁ প্রসন্ন ের ▁উপর ▁রাগ ▁ছিল ▁বল িয়া ▁একবার ▁দই য়ে হাটা ▁দেখি তে ▁লা গি লাম - গিয়া ▁প্রথমেই ▁দেখি লাম ▁যে , ▁সেখানে ▁খো দ ▁কমলা কান্ত ▁চক্র বর্ত্তী ▁নামে ▁গোয়াল া - দপ্তর রূপ ▁পচা ▁ ঘো লের ▁হাঁড়ি ▁লইয়া ▁বস িয়া ▁আছে - আপনি ▁ ঘো ল ▁ খাই তে ছে ,</td>\n",
              "      <td>bongkim</td>\n",
              "    </tr>\n",
              "    <tr>\n",
              "      <td>▁xx bo s ▁কালা দীঘি র ▁ডাকা ই তির ▁পর ▁আমার ▁অ দৃষ্ট ে ▁যা হা ▁ঘট িয়া ছিল , ▁স্বামী ▁মহাশয় ▁এ ক্ষণে ▁আমার ▁কাছে ▁সব ▁শু নি লেন । ▁ র ম ণ ▁বাবু ▁ও ▁সুভাষ িণী ▁যে রূপ ▁ষড় ▁যন্ত্র ▁করিয়া ▁ তাঁ হা কে ▁কলিকাতা য় ▁লইয়া ▁ গিয়া ছিল , ▁তাহা ও ▁শু নি লেন । ▁একটু ▁রাগ ও ▁করি লেন । ▁বলি লেন ,</td>\n",
              "      <td>bongkim</td>\n",
              "    </tr>\n",
              "    <tr>\n",
              "      <td>▁xx bo s ▁কক্ষের ▁ভিতর ▁ গিয়া ▁দেখি ল , ▁ জেব - উ ন্নি সা ▁হাসি তে ▁হাসি তে ▁ফুলের ▁একটা ▁কুকুর ▁গড় িতে ছেন , - ম বার কে র ▁মত ▁তার ▁মুখ টা ▁হইয়া ছে – আর ▁বাদশাহ দি গের ▁ সের পে ঁচ ▁কল গার ▁মত ▁তার ▁লেজ টা ▁হইয়া ছে । ▁ জেব - উ ন্নি সা ▁ প্রহর িণী কে ▁দেখি য়া ▁বলি ল</td>\n",
              "      <td>bongkim</td>\n",
              "    </tr>\n",
              "    <tr>\n",
              "      <td>▁xx bo s ▁পারি লাম ▁না । ▁এ ▁সকল ▁এই ▁অঙ্গ ের ই ▁উপযুক্ত ▁– ▁এই ▁জন্য ▁পরা ই লাম । ▁আপনি ও ▁কখন ▁কখন ▁পর াইয়া ▁মুখ রা ▁বিদেশি নী কে ▁মনে ▁করি বেন । ” ▁নব কুমার ▁ চ ম ৎ কৃত ▁হইয়া ▁ ক হি লেন , ▁“ সে ▁কি ! ▁এ ▁যে ▁বহু মূল্য ▁অলঙ্কার । ▁আমি ▁এ ▁সব ▁ ল ই ব ▁কেন ?” ▁</td>\n",
              "      <td>bongkim</td>\n",
              "    </tr>\n",
              "    <tr>\n",
              "      <td>▁xx bo s ▁আপনি ▁সহজেই ▁আমা দি গ কে ▁বহিষ্কৃত ▁করিয়া ▁দিবেন । ▁ প । ▁আর ▁যদি ▁আপনারা ▁অল্প ▁সেনা ▁লইয়া ▁না ▁আই সেন ? ▁ ম । ▁তবে ▁যুদ্ধ ▁করি বেন । ▁এই ▁বল িয়া ▁মহম্মদ ▁আলি ▁বিদায় ▁হইল । ▁সপ্তম ▁পরিচ্ছেদ ▁ : ▁চৌ রো দ্ধ র ণিক ▁মহম্মদ ▁আলি ▁বাহির ▁হইয়া ▁দৃষ্টি পথ াতীত ▁হইল ে , ▁অন্য ▁এক ▁জন ▁গুপ্ত দ্বার - নিক টে ▁</td>\n",
              "      <td>bongkim</td>\n",
              "    </tr>\n",
              "  </tbody>\n",
              "</table>"
            ],
            "text/plain": [
              "<IPython.core.display.HTML object>"
            ]
          },
          "metadata": {
            "tags": []
          }
        }
      ]
    },
    {
      "cell_type": "code",
      "metadata": {
        "colab_type": "code",
        "id": "8QWHdVCjJ-vT",
        "colab": {}
      },
      "source": [
        "data_clas = load_data(subsets, '12train_subword_wiki_clas.pkl',bs=bs)\n",
        "learn_cls = text_classifier_learner(data_clas, AWD_LSTM, drop_mult=0.5, pretrained=False)\n",
        "learn_cls.load_encoder('12train_wiki_subword_lm_enc')"
      ],
      "execution_count": 0,
      "outputs": []
    },
    {
      "cell_type": "code",
      "metadata": {
        "colab_type": "code",
        "outputId": "cae12f28-a189-47e4-9120-9079fa324f30",
        "id": "CJiXPS60J-vY",
        "colab": {
          "base_uri": "https://localhost:8080/",
          "height": 300
        }
      },
      "source": [
        "learn_cls.freeze()\n",
        "learn_cls.lr_find()\n",
        "learn_cls.recorder.plot()"
      ],
      "execution_count": 0,
      "outputs": [
        {
          "output_type": "display_data",
          "data": {
            "text/html": [
              ""
            ],
            "text/plain": [
              "<IPython.core.display.HTML object>"
            ]
          },
          "metadata": {
            "tags": []
          }
        },
        {
          "output_type": "stream",
          "text": [
            "LR Finder is complete, type {learner_name}.recorder.plot() to see the graph.\n"
          ],
          "name": "stdout"
        },
        {
          "output_type": "display_data",
          "data": {
            "image/png": "[encoded data removed]",
            "text/plain": [
              "<Figure size 432x288 with 1 Axes>"
            ]
          },
          "metadata": {
            "tags": []
          }
        }
      ]
    },
    {
      "cell_type": "code",
      "metadata": {
        "colab_type": "code",
        "outputId": "45e96af0-553c-4a2f-869f-267e138dbfb7",
        "id": "KVuJV05aJ-ve",
        "colab": {
          "base_uri": "https://localhost:8080/",
          "height": 455
        }
      },
      "source": [
        "learn_cls.fit_one_cycle(2, 1e-2, moms=(0.8,0.7))\n",
        "learn_cls.save('12train_wiki_subword_cls_1')\n",
        "learn_cls.freeze_to(-2)\n",
        "learn_cls.fit_one_cycle(2 , slice(1e-2/(2.8**4),1e-2), moms=(0.8,0.7))\n",
        "learn_cls.save('12train_wiki_subword_cls_2')\n",
        "learn_cls.freeze_to(-3)\n",
        "learn_cls.fit_one_cycle(2, slice(5e-3/(2.8**4),5e-3), moms=(0.8,0.7))\n",
        "learn_cls.save('12train_wiki_subword_cls_3')\n",
        "learn_cls.unfreeze()\n",
        "learn_cls.fit_one_cycle(4, slice(1e-3/(2.8**4),1e-3), moms=(0.8,0.7))\n",
        "learn_cls.save('12train_wiki_subword_cls_4')"
      ],
      "execution_count": 0,
      "outputs": [
        {
          "output_type": "display_data",
          "data": {
            "text/html": [
              "<table border=\"1\" class=\"dataframe\">\n",
              "  <thead>\n",
              "    <tr style=\"text-align: left;\">\n",
              "      <th>epoch</th>\n",
              "      <th>train_loss</th>\n",
              "      <th>valid_loss</th>\n",
              "      <th>accuracy</th>\n",
              "      <th>time</th>\n",
              "    </tr>\n",
              "  </thead>\n",
              "  <tbody>\n",
              "    <tr>\n",
              "      <td>0</td>\n",
              "      <td>0.351537</td>\n",
              "      <td>0.086077</td>\n",
              "      <td>0.976809</td>\n",
              "      <td>02:53</td>\n",
              "    </tr>\n",
              "    <tr>\n",
              "      <td>1</td>\n",
              "      <td>0.082959</td>\n",
              "      <td>0.023208</td>\n",
              "      <td>0.994434</td>\n",
              "      <td>02:56</td>\n",
              "    </tr>\n",
              "  </tbody>\n",
              "</table>"
            ],
            "text/plain": [
              "<IPython.core.display.HTML object>"
            ]
          },
          "metadata": {
            "tags": []
          }
        },
        {
          "output_type": "display_data",
          "data": {
            "text/html": [
              "<table border=\"1\" class=\"dataframe\">\n",
              "  <thead>\n",
              "    <tr style=\"text-align: left;\">\n",
              "      <th>epoch</th>\n",
              "      <th>train_loss</th>\n",
              "      <th>valid_loss</th>\n",
              "      <th>accuracy</th>\n",
              "      <th>time</th>\n",
              "    </tr>\n",
              "  </thead>\n",
              "  <tbody>\n",
              "    <tr>\n",
              "      <td>0</td>\n",
              "      <td>0.089966</td>\n",
              "      <td>0.028949</td>\n",
              "      <td>0.991651</td>\n",
              "      <td>03:20</td>\n",
              "    </tr>\n",
              "    <tr>\n",
              "      <td>1</td>\n",
              "      <td>0.036542</td>\n",
              "      <td>0.019714</td>\n",
              "      <td>0.992579</td>\n",
              "      <td>03:19</td>\n",
              "    </tr>\n",
              "  </tbody>\n",
              "</table>"
            ],
            "text/plain": [
              "<IPython.core.display.HTML object>"
            ]
          },
          "metadata": {
            "tags": []
          }
        },
        {
          "output_type": "display_data",
          "data": {
            "text/html": [
              "<table border=\"1\" class=\"dataframe\">\n",
              "  <thead>\n",
              "    <tr style=\"text-align: left;\">\n",
              "      <th>epoch</th>\n",
              "      <th>train_loss</th>\n",
              "      <th>valid_loss</th>\n",
              "      <th>accuracy</th>\n",
              "      <th>time</th>\n",
              "    </tr>\n",
              "  </thead>\n",
              "  <tbody>\n",
              "    <tr>\n",
              "      <td>0</td>\n",
              "      <td>0.038169</td>\n",
              "      <td>0.014809</td>\n",
              "      <td>0.995362</td>\n",
              "      <td>04:45</td>\n",
              "    </tr>\n",
              "    <tr>\n",
              "      <td>1</td>\n",
              "      <td>0.023987</td>\n",
              "      <td>0.016808</td>\n",
              "      <td>0.996289</td>\n",
              "      <td>04:37</td>\n",
              "    </tr>\n",
              "  </tbody>\n",
              "</table>"
            ],
            "text/plain": [
              "<IPython.core.display.HTML object>"
            ]
          },
          "metadata": {
            "tags": []
          }
        },
        {
          "output_type": "display_data",
          "data": {
            "text/html": [
              "<table border=\"1\" class=\"dataframe\">\n",
              "  <thead>\n",
              "    <tr style=\"text-align: left;\">\n",
              "      <th>epoch</th>\n",
              "      <th>train_loss</th>\n",
              "      <th>valid_loss</th>\n",
              "      <th>accuracy</th>\n",
              "      <th>time</th>\n",
              "    </tr>\n",
              "  </thead>\n",
              "  <tbody>\n",
              "    <tr>\n",
              "      <td>0</td>\n",
              "      <td>0.014811</td>\n",
              "      <td>0.017131</td>\n",
              "      <td>0.993506</td>\n",
              "      <td>05:51</td>\n",
              "    </tr>\n",
              "    <tr>\n",
              "      <td>1</td>\n",
              "      <td>0.009879</td>\n",
              "      <td>0.019783</td>\n",
              "      <td>0.993506</td>\n",
              "      <td>05:54</td>\n",
              "    </tr>\n",
              "    <tr>\n",
              "      <td>2</td>\n",
              "      <td>0.008994</td>\n",
              "      <td>0.015679</td>\n",
              "      <td>0.994434</td>\n",
              "      <td>05:48</td>\n",
              "    </tr>\n",
              "    <tr>\n",
              "      <td>3</td>\n",
              "      <td>0.005071</td>\n",
              "      <td>0.016633</td>\n",
              "      <td>0.994434</td>\n",
              "      <td>05:58</td>\n",
              "    </tr>\n",
              "  </tbody>\n",
              "</table>"
            ],
            "text/plain": [
              "<IPython.core.display.HTML object>"
            ]
          },
          "metadata": {
            "tags": []
          }
        }
      ]
    },
    {
      "cell_type": "code",
      "metadata": {
        "colab_type": "code",
        "id": "IQOXfhaZJ-vi",
        "colab": {}
      },
      "source": [
        "def testing(dts):\n",
        "  df = pd.read_csv(dts) \n",
        "  text_array = df[\"text\"].tolist()\n",
        "  print(len(text_array))\n",
        "\n",
        "  final_preds = []\n",
        "\n",
        "  for text in text_array:\n",
        "      preds = learn_cls.predict(text)\n",
        "      final_preds.append(str(preds[0]))\n",
        "\n",
        "  targets = df[\"label\"].tolist()\n",
        "\n",
        "  err=[]\n",
        "  count =0;\n",
        "  tst = len(text_array)\n",
        "\n",
        "  for i in range(tst):\n",
        "      if(targets[i]==final_preds[i]):\n",
        "          count = count+1\n",
        "      else:\n",
        "  #         print(targets[i] + \", \" + final_preds[i] + ';')\n",
        "          err.append((targets[i],final_preds[i]))\n",
        "  print(\"Accuracy: \")\n",
        "  print(count/tst)\n",
        "  print(err)\n",
        "  \n",
        "  return final_preds,targets"
      ],
      "execution_count": 0,
      "outputs": []
    },
    {
      "cell_type": "code",
      "metadata": {
        "colab_type": "code",
        "outputId": "9d17ddc7-6fea-4083-e6bb-e87b2032f57e",
        "id": "YVC4-WlhJ-vk",
        "colab": {
          "base_uri": "https://localhost:8080/",
          "height": 105
        }
      },
      "source": [
        "pred,targ = testing(subsets/'12test.csv')"
      ],
      "execution_count": 0,
      "outputs": [
        {
          "output_type": "stream",
          "text": [
            "1356\n",
            "Accuracy: \n",
            "0.9963126843657817\n",
            "[('MZI', 'humayun_ahmed'), ('MZI', 'humayun_ahmed'), ('robindronath', 'tarashonkor'), ('robindronath', 'tarashonkor'), ('robindronath', 'shottojit_roy')]\n"
          ],
          "name": "stdout"
        }
      ]
    },
    {
      "cell_type": "code",
      "metadata": {
        "colab_type": "code",
        "id": "T-fpIH9uJ-vo",
        "outputId": "971a9f75-55bd-481f-8b29-90b40a80675a",
        "colab": {
          "base_uri": "https://localhost:8080/",
          "height": 51
        }
      },
      "source": [
        "from sklearn.metrics import f1_score\n",
        "out  = f1_score(targ, pred, average=None) #'macro' , also == weighted cuz dataset is balanced\n",
        "out , out.mean()"
      ],
      "execution_count": 0,
      "outputs": [
        {
          "output_type": "execute_result",
          "data": {
            "text/plain": [
              "(array([0.991071, 1.      , 0.991228, 0.986547, 1.      , 1.      , 1.      , 1.      , 0.995595, 1.      , 0.991228,\n",
              "        1.      ]), 0.9963057806483739)"
            ]
          },
          "metadata": {
            "tags": []
          },
          "execution_count": 50
        }
      ]
    },
    {
      "cell_type": "code",
      "metadata": {
        "id": "EfBxZc1UlCMo",
        "colab_type": "code",
        "colab": {}
      },
      "source": [
        ""
      ],
      "execution_count": 0,
      "outputs": []
    },
    {
      "cell_type": "markdown",
      "metadata": {
        "colab_type": "text",
        "id": "d-Ga-3io826z"
      },
      "source": [
        "## 14 Authors"
      ]
    },
    {
      "cell_type": "markdown",
      "metadata": {
        "colab_type": "text",
        "id": "NCyFb_iM8261"
      },
      "source": [
        "### LM"
      ]
    },
    {
      "cell_type": "code",
      "metadata": {
        "colab_type": "code",
        "id": "zlH9g5i98262",
        "colab": {}
      },
      "source": [
        "data_lm_AA = TextLMDataBunch.from_csv(subsets , '14train.csv', bs=bs , bptt=bptt,tokenizer=mycust_tok, vocab=sp_vocab)\n",
        "data_lm_AA.save('14train_subword_wiki_lm.pkl')"
      ],
      "execution_count": 0,
      "outputs": []
    },
    {
      "cell_type": "code",
      "metadata": {
        "colab_type": "code",
        "id": "2nRUsF2j8269",
        "colab": {}
      },
      "source": [
        "data_lm_AA = load_data(subsets, '14train_subword_wiki_lm.pkl',bs=bs)"
      ],
      "execution_count": 0,
      "outputs": []
    },
    {
      "cell_type": "code",
      "metadata": {
        "colab_type": "code",
        "outputId": "983ca0bb-5cda-4448-954b-b28fd87eabae",
        "id": "xtdYe0RC827C",
        "colab": {
          "base_uri": "https://localhost:8080/",
          "height": 306
        }
      },
      "source": [
        "data_lm_AA.show_batch()"
      ],
      "execution_count": 0,
      "outputs": [
        {
          "output_type": "display_data",
          "data": {
            "text/html": [
              "<table border=\"1\" class=\"dataframe\">\n",
              "  <thead>\n",
              "    <tr style=\"text-align: right;\">\n",
              "      <th>idx</th>\n",
              "      <th>text</th>\n",
              "    </tr>\n",
              "  </thead>\n",
              "  <tbody>\n",
              "    <tr>\n",
              "      <td>0</td>\n",
              "      <td>▁রকম ▁খারাপ ▁হয়ে ▁পড়েছে । ▁সংখ্যায় ▁তারা ▁চির দিন ই ▁কা হার দের ▁চেয়ে ▁কম , ▁তার ▁উপর ▁লাঠি ▁ধরার ▁কাজ ▁করে ▁কুল ীন ▁হওয়ার ▁অ হ ঙ্কার ে ▁আজও ▁পর্যন্ত ▁তারা ▁গো ফে ▁তা ▁দিয়ে ▁আর ▁মুখে ▁হু ঙ্কার ▁দিয়ে ▁কাল ▁কাটিয়ে ▁এসেছে । ▁চাষ ▁করলেও ▁আট পৌর েরা ▁কোনো ▁কালে ই ▁চাষের ▁কাজ ▁ভাল ▁করে ▁না । ▁এতে ▁তাদের ▁মন ই ▁নাই । ▁চুরি - ডাক াতি তে</td>\n",
              "    </tr>\n",
              "    <tr>\n",
              "      <td>1</td>\n",
              "      <td>▁হয়েছে । ▁আপনার ▁মেয়ের ▁কোনো ▁ছবি ▁কি ▁আছে ? ▁তাকে ▁দেখতে ▁ইচ্ছা ▁করছে । ▁আমার ▁ ক ইল জার ▁ ম ই ধ্য ে ▁ছবি ▁আছে ▁আর ▁কোনো খানে ▁নাই । ▁রুস্তম ▁ভাই ! ▁আমি ▁সকালে ▁চলে ▁যা ব । ▁আপনার ▁জন্যে ▁পাগল ের ▁তেলের ▁ব্যবস্থা ▁করব । ▁এই ▁বিষয়ে ▁নিশ্চিন্ত ▁থাকেন । ▁আপনার ▁কোনো ▁শত্রু ▁থাকলে ▁নাম ঠি কানা ▁বলেন , ▁শেষ ▁করে ▁দিয়ে ▁যা ব , ▁তার ▁জন্যে</td>\n",
              "    </tr>\n",
              "    <tr>\n",
              "      <td>2</td>\n",
              "      <td>▁ছাত্র ▁জানতে ▁পারল ▁কিছু ▁মানুষের ▁চরিত্র ▁হন ন ▁করার ▁জন্যে ▁সে ▁ইচ্ছা ▁করলে ই ▁একটা ▁পত্রিকায় ▁মিথ্যা ▁সংবাদ ▁ছাপা তে ▁পারে ▁এবং ▁সেই ▁পত্রিকা ▁তাকে ▁রক্ষা ▁করবে । ▁আমাদের ▁দেশে ▁একটা ▁পত্রিকা ▁অনেক ▁সময় ▁রাজনৈতিক ▁দল , ▁পুলিশ , ▁ র ▁ ্যাব ▁এমনকি , ▁সরকার ▁থেকেও ▁বেশী ▁ক্ষমতাশালী । ▁এই ▁ঘটনাটি ▁আমার ▁চোখ ▁খুলে ▁দিয়েছে , ▁দেশের ▁একটা ▁খুব ▁গুরুত্বপূর্ণ ▁পত্রিকায় ▁( আমার ▁ব্যক্তিগত ▁যোগাযোগের ▁পরও ) ▁যদি ▁এরকম</td>\n",
              "    </tr>\n",
              "    <tr>\n",
              "      <td>3</td>\n",
              "      <td>— ন য়ান ▁ওরফে ▁নন াইয়ের ▁দল । ▁সে ▁প্রশ্ন ▁করি ল — কি ? ▁এখানে ▁কি ? ▁— মে য়েট ▁ তোর ▁বাসায় ▁এসে ▁ঢুকে ছে । ▁— এস ে ছে ▁তা ’ — তোমরা ▁দাঁড়িয়ে ▁কেন ে ? ▁দলকে ▁দল ▁অ ট্ট হা সি ▁হা সিয়া ▁উ ঠি ল । ▁নি তাই ▁বলি ল — যা ও ▁তোমরা ▁এখান ▁থেকে । ▁নই লে ▁ হাঙ্গামা ▁হবে । ▁আমি</td>\n",
              "    </tr>\n",
              "    <tr>\n",
              "      <td>4</td>\n",
              "      <td>▁ফি ফ টি ▁পার সেন্ট ের ▁বেশি ▁বই ▁পড়ে চে ? ▁অব ি শ্য ি ▁সবাই ▁যে ▁কিনে ▁পড়ে চে ▁তা ▁নয় ; ▁সিক্স টি ▁ ফাইভ ▁পার সেন্ট ▁ইস্ কুলের ▁লাইব্রেরি ▁থেকে ▁নিয়ে ▁পড়ে চে । ▁যারা ▁কি নো চে ▁তারা ▁এসে ▁বইয়ে ▁সই ▁নিয়ে ▁গেল । ▁তুল সী বাবু ▁ফেলুদা কে ▁বললেন , ▁আপনার ▁অপেক্ষা তেই ▁বসে ▁আছি । ▁একবার ▁আত্মা রামের ▁দর্শন টা ▁করে ▁ নিন ।</td>\n",
              "    </tr>\n",
              "  </tbody>\n",
              "</table>"
            ],
            "text/plain": [
              "<IPython.core.display.HTML object>"
            ]
          },
          "metadata": {
            "tags": []
          }
        }
      ]
    },
    {
      "cell_type": "code",
      "metadata": {
        "colab_type": "code",
        "id": "oKO4LU8S827I",
        "colab": {}
      },
      "source": [
        "learn = language_model_learner(data_lm_AA, AWD_LSTM, pretrained=False, drop_mult=0.5)"
      ],
      "execution_count": 0,
      "outputs": []
    },
    {
      "cell_type": "code",
      "metadata": {
        "colab_type": "code",
        "id": "ZXg6CZH0827K",
        "colab": {}
      },
      "source": [
        "learn.load(wiki/'models'/'wiki_subword_lm_30');"
      ],
      "execution_count": 0,
      "outputs": []
    },
    {
      "cell_type": "code",
      "metadata": {
        "colab_type": "code",
        "outputId": "4947e05a-c55b-4e3a-b2f0-2c5591175a71",
        "id": "w0RcOTIG827M",
        "colab": {
          "base_uri": "https://localhost:8080/",
          "height": 300
        }
      },
      "source": [
        "learn.freeze()\n",
        "learn.lr_find();\n",
        "learn.recorder.plot();"
      ],
      "execution_count": 0,
      "outputs": [
        {
          "output_type": "display_data",
          "data": {
            "text/html": [
              ""
            ],
            "text/plain": [
              "<IPython.core.display.HTML object>"
            ]
          },
          "metadata": {
            "tags": []
          }
        },
        {
          "output_type": "stream",
          "text": [
            "LR Finder is complete, type {learner_name}.recorder.plot() to see the graph.\n"
          ],
          "name": "stdout"
        },
        {
          "output_type": "display_data",
          "data": {
            "image/png": "[encoded data removed]",
            "text/plain": [
              "<Figure size 432x288 with 1 Axes>"
            ]
          },
          "metadata": {
            "tags": []
          }
        }
      ]
    },
    {
      "cell_type": "code",
      "metadata": {
        "colab_type": "code",
        "outputId": "e312dd26-c702-4b76-f329-e27f5efb86c6",
        "id": "74qt4wLX827U",
        "colab": {
          "base_uri": "https://localhost:8080/",
          "height": 283
        }
      },
      "source": [
        "learn.recorder.plot(skip_end=10);"
      ],
      "execution_count": 0,
      "outputs": [
        {
          "output_type": "display_data",
          "data": {
            "image/png": "[encoded data removed]",
            "text/plain": [
              "<Figure size 432x288 with 1 Axes>"
            ]
          },
          "metadata": {
            "tags": []
          }
        }
      ]
    },
    {
      "cell_type": "markdown",
      "metadata": {
        "id": "PuMvuiIQ-X3_",
        "colab_type": "text"
      },
      "source": [
        "okay this is running"
      ]
    },
    {
      "cell_type": "code",
      "metadata": {
        "colab_type": "code",
        "outputId": "7580c035-0c34-4511-f80b-fbd6c91467df",
        "id": "AbeSxqDY827b",
        "colab": {
          "base_uri": "https://localhost:8080/",
          "height": 299
        }
      },
      "source": [
        "learn.freeze()\n",
        "learn.fit_one_cycle(2, 1e-2)\n",
        "learn.save('14train_wiki_subword_lm_head');\n",
        "learn.freeze_to(-2)\n",
        "learn.fit_one_cycle(2, 1e-2)\n",
        "learn.save('14train_wiki_subword_lm_body_1');\n",
        "learn.freeze_to(-3)\n",
        "learn.fit_one_cycle(2, 1e-2)\n",
        "learn.save('14train_wiki_subword_lm_body_2');"
      ],
      "execution_count": 0,
      "outputs": [
        {
          "output_type": "display_data",
          "data": {
            "text/html": [
              "<table border=\"1\" class=\"dataframe\">\n",
              "  <thead>\n",
              "    <tr style=\"text-align: left;\">\n",
              "      <th>epoch</th>\n",
              "      <th>train_loss</th>\n",
              "      <th>valid_loss</th>\n",
              "      <th>accuracy</th>\n",
              "      <th>time</th>\n",
              "    </tr>\n",
              "  </thead>\n",
              "  <tbody>\n",
              "    <tr>\n",
              "      <td>0</td>\n",
              "      <td>5.418075</td>\n",
              "      <td>5.380866</td>\n",
              "      <td>0.181160</td>\n",
              "      <td>07:22</td>\n",
              "    </tr>\n",
              "    <tr>\n",
              "      <td>1</td>\n",
              "      <td>5.139005</td>\n",
              "      <td>5.100408</td>\n",
              "      <td>0.203087</td>\n",
              "      <td>07:22</td>\n",
              "    </tr>\n",
              "  </tbody>\n",
              "</table>"
            ],
            "text/plain": [
              "<IPython.core.display.HTML object>"
            ]
          },
          "metadata": {
            "tags": []
          }
        },
        {
          "output_type": "display_data",
          "data": {
            "text/html": [
              "<table border=\"1\" class=\"dataframe\">\n",
              "  <thead>\n",
              "    <tr style=\"text-align: left;\">\n",
              "      <th>epoch</th>\n",
              "      <th>train_loss</th>\n",
              "      <th>valid_loss</th>\n",
              "      <th>accuracy</th>\n",
              "      <th>time</th>\n",
              "    </tr>\n",
              "  </thead>\n",
              "  <tbody>\n",
              "    <tr>\n",
              "      <td>0</td>\n",
              "      <td>5.130114</td>\n",
              "      <td>5.043695</td>\n",
              "      <td>0.210517</td>\n",
              "      <td>07:30</td>\n",
              "    </tr>\n",
              "    <tr>\n",
              "      <td>1</td>\n",
              "      <td>4.863564</td>\n",
              "      <td>4.787333</td>\n",
              "      <td>0.235474</td>\n",
              "      <td>07:28</td>\n",
              "    </tr>\n",
              "  </tbody>\n",
              "</table>"
            ],
            "text/plain": [
              "<IPython.core.display.HTML object>"
            ]
          },
          "metadata": {
            "tags": []
          }
        },
        {
          "output_type": "display_data",
          "data": {
            "text/html": [
              "<table border=\"1\" class=\"dataframe\">\n",
              "  <thead>\n",
              "    <tr style=\"text-align: left;\">\n",
              "      <th>epoch</th>\n",
              "      <th>train_loss</th>\n",
              "      <th>valid_loss</th>\n",
              "      <th>accuracy</th>\n",
              "      <th>time</th>\n",
              "    </tr>\n",
              "  </thead>\n",
              "  <tbody>\n",
              "    <tr>\n",
              "      <td>0</td>\n",
              "      <td>4.805257</td>\n",
              "      <td>4.906806</td>\n",
              "      <td>0.224133</td>\n",
              "      <td>08:02</td>\n",
              "    </tr>\n",
              "    <tr>\n",
              "      <td>1</td>\n",
              "      <td>4.562790</td>\n",
              "      <td>4.610963</td>\n",
              "      <td>0.254506</td>\n",
              "      <td>08:03</td>\n",
              "    </tr>\n",
              "  </tbody>\n",
              "</table>"
            ],
            "text/plain": [
              "<IPython.core.display.HTML object>"
            ]
          },
          "metadata": {
            "tags": []
          }
        }
      ]
    },
    {
      "cell_type": "code",
      "metadata": {
        "colab_type": "code",
        "outputId": "a4d9da0c-1bc7-4203-81b4-8ca5e78eec5e",
        "id": "nhoIbX9D827j",
        "colab": {
          "base_uri": "https://localhost:8080/",
          "height": 173
        }
      },
      "source": [
        "learn.unfreeze()\n",
        "learn.fit_one_cycle(4, 1e-3)\n",
        "learn.save('14train_wiki_subword_lm_body_3');"
      ],
      "execution_count": 0,
      "outputs": [
        {
          "output_type": "display_data",
          "data": {
            "text/html": [
              "<table border=\"1\" class=\"dataframe\">\n",
              "  <thead>\n",
              "    <tr style=\"text-align: left;\">\n",
              "      <th>epoch</th>\n",
              "      <th>train_loss</th>\n",
              "      <th>valid_loss</th>\n",
              "      <th>accuracy</th>\n",
              "      <th>time</th>\n",
              "    </tr>\n",
              "  </thead>\n",
              "  <tbody>\n",
              "    <tr>\n",
              "      <td>0</td>\n",
              "      <td>4.488839</td>\n",
              "      <td>4.577379</td>\n",
              "      <td>0.257633</td>\n",
              "      <td>08:30</td>\n",
              "    </tr>\n",
              "    <tr>\n",
              "      <td>1</td>\n",
              "      <td>4.374043</td>\n",
              "      <td>4.519673</td>\n",
              "      <td>0.263232</td>\n",
              "      <td>08:30</td>\n",
              "    </tr>\n",
              "    <tr>\n",
              "      <td>2</td>\n",
              "      <td>4.252129</td>\n",
              "      <td>4.482963</td>\n",
              "      <td>0.267640</td>\n",
              "      <td>08:31</td>\n",
              "    </tr>\n",
              "    <tr>\n",
              "      <td>3</td>\n",
              "      <td>4.195413</td>\n",
              "      <td>4.478135</td>\n",
              "      <td>0.268445</td>\n",
              "      <td>08:32</td>\n",
              "    </tr>\n",
              "  </tbody>\n",
              "</table>"
            ],
            "text/plain": [
              "<IPython.core.display.HTML object>"
            ]
          },
          "metadata": {
            "tags": []
          }
        }
      ]
    },
    {
      "cell_type": "code",
      "metadata": {
        "colab_type": "code",
        "outputId": "8a63e48a-2160-4755-d40c-ae17d126c02d",
        "id": "5bYMxYeH827q",
        "colab": {
          "base_uri": "https://localhost:8080/"
        }
      },
      "source": [
        "learn.unfreeze()\n",
        "learn.fit_one_cycle(4, 1e-3)\n",
        "learn.save('14train_wiki_subword_lm_body_4');"
      ],
      "execution_count": 0,
      "outputs": [
        {
          "output_type": "display_data",
          "data": {
            "text/html": [
              "<table border=\"1\" class=\"dataframe\">\n",
              "  <thead>\n",
              "    <tr style=\"text-align: left;\">\n",
              "      <th>epoch</th>\n",
              "      <th>train_loss</th>\n",
              "      <th>valid_loss</th>\n",
              "      <th>accuracy</th>\n",
              "      <th>time</th>\n",
              "    </tr>\n",
              "  </thead>\n",
              "  <tbody>\n",
              "    <tr>\n",
              "      <td>0</td>\n",
              "      <td>4.192709</td>\n",
              "      <td>4.480588</td>\n",
              "      <td>0.267912</td>\n",
              "      <td>08:34</td>\n",
              "    </tr>\n",
              "    <tr>\n",
              "      <td>1</td>\n",
              "      <td>4.243721</td>\n",
              "      <td>4.452481</td>\n",
              "      <td>0.270235</td>\n",
              "      <td>08:34</td>\n",
              "    </tr>\n",
              "    <tr>\n",
              "      <td>2</td>\n",
              "      <td>4.152262</td>\n",
              "      <td>4.428723</td>\n",
              "      <td>0.273757</td>\n",
              "      <td>08:31</td>\n",
              "    </tr>\n",
              "    <tr>\n",
              "      <td>3</td>\n",
              "      <td>4.104909</td>\n",
              "      <td>4.428574</td>\n",
              "      <td>0.274226</td>\n",
              "      <td>08:33</td>\n",
              "    </tr>\n",
              "  </tbody>\n",
              "</table>"
            ],
            "text/plain": [
              "<IPython.core.display.HTML object>"
            ]
          },
          "metadata": {
            "tags": []
          }
        }
      ]
    },
    {
      "cell_type": "code",
      "metadata": {
        "colab_type": "code",
        "outputId": "d1c394ee-ee1c-41a1-e9f7-0b262563e614",
        "id": "OJEo4XTK827t",
        "colab": {
          "base_uri": "https://localhost:8080/"
        }
      },
      "source": [
        "learn.unfreeze()\n",
        "learn.fit_one_cycle(2, 1e-3)\n",
        "learn.save('14train_wiki_subword_lm_body_4');"
      ],
      "execution_count": 0,
      "outputs": [
        {
          "output_type": "display_data",
          "data": {
            "text/html": [
              "<table border=\"1\" class=\"dataframe\">\n",
              "  <thead>\n",
              "    <tr style=\"text-align: left;\">\n",
              "      <th>epoch</th>\n",
              "      <th>train_loss</th>\n",
              "      <th>valid_loss</th>\n",
              "      <th>accuracy</th>\n",
              "      <th>time</th>\n",
              "    </tr>\n",
              "  </thead>\n",
              "  <tbody>\n",
              "    <tr>\n",
              "      <td>0</td>\n",
              "      <td>4.131775</td>\n",
              "      <td>4.433440</td>\n",
              "      <td>0.272903</td>\n",
              "      <td>08:32</td>\n",
              "    </tr>\n",
              "    <tr>\n",
              "      <td>1</td>\n",
              "      <td>4.053920</td>\n",
              "      <td>4.415045</td>\n",
              "      <td>0.275777</td>\n",
              "      <td>08:30</td>\n",
              "    </tr>\n",
              "  </tbody>\n",
              "</table>"
            ],
            "text/plain": [
              "<IPython.core.display.HTML object>"
            ]
          },
          "metadata": {
            "tags": []
          }
        }
      ]
    },
    {
      "cell_type": "code",
      "metadata": {
        "colab_type": "code",
        "id": "HJ7xKm6_8272",
        "colab": {}
      },
      "source": [
        "learn.save_encoder('14train_wiki_subword_lm_enc')"
      ],
      "execution_count": 0,
      "outputs": []
    },
    {
      "cell_type": "markdown",
      "metadata": {
        "colab_type": "text",
        "id": "fOJUNTzh8275"
      },
      "source": [
        "### Classifier"
      ]
    },
    {
      "cell_type": "code",
      "metadata": {
        "colab_type": "code",
        "id": "UyaP8xLm8275",
        "colab": {}
      },
      "source": [
        "data_clas = TextClasDataBunch.from_csv(subsets , '14train.csv', tokenizer=mycust_tok, vocab=sp_vocab, bs=bs)\n",
        "data_clas.save('14train_subword_wiki_clas.pkl')"
      ],
      "execution_count": 0,
      "outputs": []
    },
    {
      "cell_type": "code",
      "metadata": {
        "id": "DZZacOnm-9qR",
        "colab_type": "code",
        "colab": {}
      },
      "source": [
        "data_clas = load_data(subsets,'14train_subword_wiki_clas.pkl',bs=bs)"
      ],
      "execution_count": 0,
      "outputs": []
    },
    {
      "cell_type": "code",
      "metadata": {
        "colab_type": "code",
        "outputId": "eac713ef-c9a9-4a27-837d-831dacfc8ac8",
        "id": "RlgAdtsc828N",
        "colab": {
          "base_uri": "https://localhost:8080/"
        }
      },
      "source": [
        "data_clas.show_batch()"
      ],
      "execution_count": 0,
      "outputs": [
        {
          "output_type": "display_data",
          "data": {
            "text/html": [
              "<table border=\"1\" class=\"dataframe\">\n",
              "  <thead>\n",
              "    <tr style=\"text-align: right;\">\n",
              "      <th>text</th>\n",
              "      <th>target</th>\n",
              "    </tr>\n",
              "  </thead>\n",
              "  <tbody>\n",
              "    <tr>\n",
              "      <td>▁xx bo s ▁ : ▁গৃহ াভি মুখে ▁“ ▁– ▁ ” ▁ ক পাল কুণ্ডল া ▁ধীরে ▁ধীরে ▁গৃহ াভি মুখে ▁চল ি লেন । ▁অতি ▁ধীরে ▁মৃদু ▁মৃদু ▁চল ি লেন । ▁তাহার ▁কারণ , ▁ ত নি ▁অতি ▁গভীর ▁চিন্তা ম গ্ন ▁হইয়া ▁যাই তে ছিলেন । ▁লুৎফ - উ ন্নি সার ▁সংবাদ ে ▁ ক পাল কুণ্ডল ার ▁একেবারে ▁ চিত্ত ভাব ▁ পরিবর্ত ্ত িত</td>\n",
              "      <td>bongkim</td>\n",
              "    </tr>\n",
              "    <tr>\n",
              "      <td>▁xx bo s ▁কক্ষের ▁ভিতর ▁ গিয়া ▁দেখি ল , ▁ জেব - উ ন্নি সা ▁হাসি তে ▁হাসি তে ▁ফুলের ▁একটা ▁কুকুর ▁গড় িতে ছেন , - ম বার কে র ▁মত ▁তার ▁মুখ টা ▁হইয়া ছে – আর ▁বাদশাহ দি গের ▁ সের পে ঁচ ▁কল গার ▁মত ▁তার ▁লেজ টা ▁হইয়া ছে । ▁ জেব - উ ন্নি সা ▁ প্রহর িণী কে ▁দেখি য়া ▁বলি ল</td>\n",
              "      <td>bongkim</td>\n",
              "    </tr>\n",
              "    <tr>\n",
              "      <td>▁xx bo s ▁ কাঁ হা ▁রূপ নগর ▁গড় , ▁ কাঁ হা ▁ও ঁ হা কা ▁রাজকুমারী ন্ ▁কি ▁দে মাগ – ইয়ে ▁বা ত্ ▁আপ ্ ▁কা ▁বোল নাই ▁ কিয়া ▁ জ রু র – হামা রা ▁শু ন নাই ▁ কিয়া ▁ জ রু র ? ▁মা । ▁স্ রে ফ ▁দে মাগ ▁বা প জান ! ▁ ল ৌ ণ্ড ী নে ▁বাদশাহ ে ▁আল</td>\n",
              "      <td>bongkim</td>\n",
              "    </tr>\n",
              "    <tr>\n",
              "      <td>▁xx bo s ▁বিশাল া ক্ষি ▁ভক্ত ানা মার্ ত্তি নাশ িনি ▁ । ▁ ন মা মি ▁ শির সা ▁দেবী ং ▁বন্ধ নো হ স্তু ▁বি ম োচিত ঃ ▁ । । 14 ▁xx rep ▁6 ▁— ▁– ▁14 ▁আর্য ্যা স্তো ত্র ▁দে খ ▁দ্বাদশ ▁সংখ্যা - একটি ▁গীত ▁“ শো ন্ ▁ প্রসন্ন , ▁তো কে ▁একটি ▁গীত ▁শু নাই ব । ” ▁ প্রসন্ন ▁গোয়াল</td>\n",
              "      <td>bongkim</td>\n",
              "    </tr>\n",
              "    <tr>\n",
              "      <td>▁xx bo s ▁হইতে ▁আদ লি ▁জাতীয় ▁একটি ▁লোক ▁ঘরে ▁প্রবেশ ▁করি ল । ▁মাথায় ▁গান্ধী - টু পি ▁ , ▁পরিধান ে ▁ খন্দ র ের ▁চাপ কন ▁ও ▁পায় জা মা ; ▁তাই ▁হঠাৎ ▁তাহা কে ▁চিনি তে ▁পারি ▁নাই । ▁সে ▁মাথার ▁টুপি ▁খু লিয়া ▁মে ঝো য় ▁আ ছাড় ▁মারি ল । ▁তারপর ▁বলিষ্ঠ ▁কণ্ঠে ▁বলি ল ▁ , ▁‘ শালা দের ▁ধরে ছি ▁স্যার ।</td>\n",
              "      <td>shordindu</td>\n",
              "    </tr>\n",
              "  </tbody>\n",
              "</table>"
            ],
            "text/plain": [
              "<IPython.core.display.HTML object>"
            ]
          },
          "metadata": {
            "tags": []
          }
        }
      ]
    },
    {
      "cell_type": "code",
      "metadata": {
        "colab_type": "code",
        "id": "4FR0kQvo828S",
        "colab": {}
      },
      "source": [
        "data_clas = load_data(subsets, '14train_subword_wiki_clas.pkl',bs=bs)\n",
        "learn_cls = text_classifier_learner(data_clas, AWD_LSTM, drop_mult=0.5, pretrained=False)\n",
        "learn_cls.load_encoder('14train_wiki_subword_lm_enc')"
      ],
      "execution_count": 0,
      "outputs": []
    },
    {
      "cell_type": "code",
      "metadata": {
        "colab_type": "code",
        "outputId": "fe004c09-8873-4f35-e536-bd7166f73c61",
        "id": "G6tJQW3y828V",
        "colab": {
          "base_uri": "https://localhost:8080/"
        }
      },
      "source": [
        "learn_cls.freeze()\n",
        "learn_cls.lr_find()\n",
        "learn_cls.recorder.plot()"
      ],
      "execution_count": 0,
      "outputs": [
        {
          "output_type": "display_data",
          "data": {
            "text/html": [
              ""
            ],
            "text/plain": [
              "<IPython.core.display.HTML object>"
            ]
          },
          "metadata": {
            "tags": []
          }
        },
        {
          "output_type": "stream",
          "text": [
            "LR Finder is complete, type {learner_name}.recorder.plot() to see the graph.\n"
          ],
          "name": "stdout"
        },
        {
          "output_type": "display_data",
          "data": {
            "image/png": "[encoded data removed]",
            "text/plain": [
              "<Figure size 432x288 with 1 Axes>"
            ]
          },
          "metadata": {
            "tags": []
          }
        }
      ]
    },
    {
      "cell_type": "code",
      "metadata": {
        "colab_type": "code",
        "outputId": "65061767-4d13-47b8-ab4e-db8b363950be",
        "id": "lXCxR2nM828a",
        "colab": {
          "base_uri": "https://localhost:8080/",
          "height": 412
        }
      },
      "source": [
        "learn_cls.fit_one_cycle(2, 1e-2, moms=(0.8,0.7))\n",
        "learn_cls.save('14train_wiki_subword_cls_1')\n",
        "learn_cls.freeze_to(-2)\n",
        "learn_cls.fit_one_cycle(2 , slice(1e-2/(2.8**4),1e-2), moms=(0.8,0.7))\n",
        "learn_cls.save('14train_wiki_subword_cls_2')\n",
        "learn_cls.freeze_to(-3)\n",
        "learn_cls.fit_one_cycle(2, slice(5e-3/(2.8**4),5e-3), moms=(0.8,0.7))\n",
        "learn_cls.save('14train_wiki_subword_cls_3')\n",
        "learn_cls.unfreeze()\n",
        "learn_cls.fit_one_cycle(4, slice(1e-3/(2.8**4),1e-3), moms=(0.8,0.7))\n",
        "learn_cls.save('14train_wiki_subword_cls_4')"
      ],
      "execution_count": 0,
      "outputs": [
        {
          "output_type": "display_data",
          "data": {
            "text/html": [
              "<table border=\"1\" class=\"dataframe\">\n",
              "  <thead>\n",
              "    <tr style=\"text-align: left;\">\n",
              "      <th>epoch</th>\n",
              "      <th>train_loss</th>\n",
              "      <th>valid_loss</th>\n",
              "      <th>accuracy</th>\n",
              "      <th>time</th>\n",
              "    </tr>\n",
              "  </thead>\n",
              "  <tbody>\n",
              "    <tr>\n",
              "      <td>0</td>\n",
              "      <td>0.388567</td>\n",
              "      <td>0.068111</td>\n",
              "      <td>0.982873</td>\n",
              "      <td>04:59</td>\n",
              "    </tr>\n",
              "    <tr>\n",
              "      <td>1</td>\n",
              "      <td>0.106034</td>\n",
              "      <td>0.048400</td>\n",
              "      <td>0.986679</td>\n",
              "      <td>05:01</td>\n",
              "    </tr>\n",
              "  </tbody>\n",
              "</table>"
            ],
            "text/plain": [
              "<IPython.core.display.HTML object>"
            ]
          },
          "metadata": {
            "tags": []
          }
        },
        {
          "output_type": "display_data",
          "data": {
            "text/html": [
              "<table border=\"1\" class=\"dataframe\">\n",
              "  <thead>\n",
              "    <tr style=\"text-align: left;\">\n",
              "      <th>epoch</th>\n",
              "      <th>train_loss</th>\n",
              "      <th>valid_loss</th>\n",
              "      <th>accuracy</th>\n",
              "      <th>time</th>\n",
              "    </tr>\n",
              "  </thead>\n",
              "  <tbody>\n",
              "    <tr>\n",
              "      <td>0</td>\n",
              "      <td>0.144111</td>\n",
              "      <td>0.051393</td>\n",
              "      <td>0.985728</td>\n",
              "      <td>05:41</td>\n",
              "    </tr>\n",
              "    <tr>\n",
              "      <td>1</td>\n",
              "      <td>0.044341</td>\n",
              "      <td>0.041162</td>\n",
              "      <td>0.987631</td>\n",
              "      <td>05:49</td>\n",
              "    </tr>\n",
              "  </tbody>\n",
              "</table>"
            ],
            "text/plain": [
              "<IPython.core.display.HTML object>"
            ]
          },
          "metadata": {
            "tags": []
          }
        },
        {
          "output_type": "display_data",
          "data": {
            "text/html": [
              "<table border=\"1\" class=\"dataframe\">\n",
              "  <thead>\n",
              "    <tr style=\"text-align: left;\">\n",
              "      <th>epoch</th>\n",
              "      <th>train_loss</th>\n",
              "      <th>valid_loss</th>\n",
              "      <th>accuracy</th>\n",
              "      <th>time</th>\n",
              "    </tr>\n",
              "  </thead>\n",
              "  <tbody>\n",
              "    <tr>\n",
              "      <td>0</td>\n",
              "      <td>0.044280</td>\n",
              "      <td>0.052460</td>\n",
              "      <td>0.988582</td>\n",
              "      <td>08:36</td>\n",
              "    </tr>\n",
              "    <tr>\n",
              "      <td>1</td>\n",
              "      <td>0.028928</td>\n",
              "      <td>0.038491</td>\n",
              "      <td>0.992388</td>\n",
              "      <td>08:33</td>\n",
              "    </tr>\n",
              "  </tbody>\n",
              "</table>"
            ],
            "text/plain": [
              "<IPython.core.display.HTML object>"
            ]
          },
          "metadata": {
            "tags": []
          }
        },
        {
          "output_type": "display_data",
          "data": {
            "text/html": [
              "\n",
              "    <div>\n",
              "        <style>\n",
              "            /* Turns off some styling */\n",
              "            progress {\n",
              "                /* gets rid of default border in Firefox and Opera. */\n",
              "                border: none;\n",
              "                /* Needs to be in here for Safari polyfill so background images work as expected. */\n",
              "                background-size: auto;\n",
              "            }\n",
              "            .progress-bar-interrupted, .progress-bar-interrupted::-webkit-progress-bar {\n",
              "                background: #F44336;\n",
              "            }\n",
              "        </style>\n",
              "      <progress value='1' class='' max='4', style='width:300px; height:20px; vertical-align: middle;'></progress>\n",
              "      25.00% [1/4 10:57<32:51]\n",
              "    </div>\n",
              "    \n",
              "<table border=\"1\" class=\"dataframe\">\n",
              "  <thead>\n",
              "    <tr style=\"text-align: left;\">\n",
              "      <th>epoch</th>\n",
              "      <th>train_loss</th>\n",
              "      <th>valid_loss</th>\n",
              "      <th>accuracy</th>\n",
              "      <th>time</th>\n",
              "    </tr>\n",
              "  </thead>\n",
              "  <tbody>\n",
              "    <tr>\n",
              "      <td>0</td>\n",
              "      <td>0.011207</td>\n",
              "      <td>0.033277</td>\n",
              "      <td>0.993340</td>\n",
              "      <td>10:57</td>\n",
              "    </tr>\n",
              "  </tbody>\n",
              "</table><p>\n",
              "\n",
              "    <div>\n",
              "        <style>\n",
              "            /* Turns off some styling */\n",
              "            progress {\n",
              "                /* gets rid of default border in Firefox and Opera. */\n",
              "                border: none;\n",
              "                /* Needs to be in here for Safari polyfill so background images work as expected. */\n",
              "                background-size: auto;\n",
              "            }\n",
              "            .progress-bar-interrupted, .progress-bar-interrupted::-webkit-progress-bar {\n",
              "                background: #F44336;\n",
              "            }\n",
              "        </style>\n",
              "      <progress value='7' class='' max='33', style='width:300px; height:20px; vertical-align: middle;'></progress>\n",
              "      21.21% [7/33 00:14<00:53]\n",
              "    </div>\n",
              "    "
            ],
            "text/plain": [
              "<IPython.core.display.HTML object>"
            ]
          },
          "metadata": {
            "tags": []
          }
        }
      ]
    },
    {
      "cell_type": "code",
      "metadata": {
        "id": "qSxteZi6jFcM",
        "colab_type": "code",
        "outputId": "f54a8674-335f-49b4-8771-5fbea4bdc0bb",
        "colab": {
          "base_uri": "https://localhost:8080/",
          "height": 175
        }
      },
      "source": [
        "learn_cls.load('14train_wiki_subword_cls_3')\n",
        "learn_cls.unfreeze()\n",
        "learn_cls.fit_one_cycle(4, slice(1e-3/(2.8**4),1e-3), moms=(0.8,0.7))\n",
        "learn_cls.save('14train_wiki_subword_cls_4')"
      ],
      "execution_count": 0,
      "outputs": [
        {
          "output_type": "display_data",
          "data": {
            "text/html": [
              "<table border=\"1\" class=\"dataframe\">\n",
              "  <thead>\n",
              "    <tr style=\"text-align: left;\">\n",
              "      <th>epoch</th>\n",
              "      <th>train_loss</th>\n",
              "      <th>valid_loss</th>\n",
              "      <th>accuracy</th>\n",
              "      <th>time</th>\n",
              "    </tr>\n",
              "  </thead>\n",
              "  <tbody>\n",
              "    <tr>\n",
              "      <td>0</td>\n",
              "      <td>0.014715</td>\n",
              "      <td>0.041817</td>\n",
              "      <td>0.991437</td>\n",
              "      <td>05:44</td>\n",
              "    </tr>\n",
              "    <tr>\n",
              "      <td>1</td>\n",
              "      <td>0.026728</td>\n",
              "      <td>0.037899</td>\n",
              "      <td>0.992388</td>\n",
              "      <td>05:43</td>\n",
              "    </tr>\n",
              "    <tr>\n",
              "      <td>2</td>\n",
              "      <td>0.012316</td>\n",
              "      <td>0.034183</td>\n",
              "      <td>0.993340</td>\n",
              "      <td>05:48</td>\n",
              "    </tr>\n",
              "    <tr>\n",
              "      <td>3</td>\n",
              "      <td>0.006736</td>\n",
              "      <td>0.035690</td>\n",
              "      <td>0.993340</td>\n",
              "      <td>05:43</td>\n",
              "    </tr>\n",
              "  </tbody>\n",
              "</table>"
            ],
            "text/plain": [
              "<IPython.core.display.HTML object>"
            ]
          },
          "metadata": {
            "tags": []
          }
        }
      ]
    },
    {
      "cell_type": "code",
      "metadata": {
        "colab_type": "code",
        "id": "r1s_v3OV828e",
        "colab": {}
      },
      "source": [
        "def testing(dts):\n",
        "  df = pd.read_csv(dts) \n",
        "  text_array = df[\"text\"].tolist()\n",
        "  print(len(text_array))\n",
        "\n",
        "  final_preds = []\n",
        "\n",
        "  for text in text_array:\n",
        "      preds = learn_cls.predict(text)\n",
        "      final_preds.append(str(preds[0]))\n",
        "\n",
        "  targets = df[\"label\"].tolist()\n",
        "\n",
        "  err=[]\n",
        "  count =0;\n",
        "  tst = len(text_array)\n",
        "\n",
        "  for i in range(tst):\n",
        "      if(targets[i]==final_preds[i]):\n",
        "          count = count+1\n",
        "      else:\n",
        "  #         print(targets[i] + \", \" + final_preds[i] + ';')\n",
        "          err.append((targets[i],final_preds[i]))\n",
        "  print(\"Accuracy: \")\n",
        "  print(count/tst)\n",
        "  print(err)\n",
        "  \n",
        "  return final_preds,targets"
      ],
      "execution_count": 0,
      "outputs": []
    },
    {
      "cell_type": "code",
      "metadata": {
        "colab_type": "code",
        "id": "kxyaN04u828g",
        "outputId": "c07cba93-3116-401c-c022-834899d87d3c",
        "colab": {
          "base_uri": "https://localhost:8080/",
          "height": 110
        }
      },
      "source": [
        "pred,targ = testing(subsets/'14test.csv')"
      ],
      "execution_count": 0,
      "outputs": [
        {
          "output_type": "stream",
          "text": [
            "1316\n",
            "Accuracy: \n",
            "0.9954407294832827\n",
            "[('manik_bandhopaddhay', 'shirshendu'), ('shirshendu', 'humayun_ahmed'), ('robindronath', 'tarashonkor'), ('shomresh', 'humayun_ahmed'), ('shunil_gongopaddhay', 'tarashonkor'), ('shunil_gongopaddhay', 'nihar_ronjon_gupta')]\n"
          ],
          "name": "stdout"
        }
      ]
    },
    {
      "cell_type": "code",
      "metadata": {
        "colab_type": "code",
        "id": "7aRKizvV828k",
        "outputId": "93584b21-fdb8-4b32-8f90-89b356809518",
        "colab": {
          "base_uri": "https://localhost:8080/",
          "height": 54
        }
      },
      "source": [
        "from sklearn.metrics import f1_score\n",
        "out  = f1_score(targ, pred, average=None) #'macro' , also == weighted cuz dataset is balanced\n",
        "out , out.mean()"
      ],
      "execution_count": 0,
      "outputs": [
        {
          "output_type": "execute_result",
          "data": {
            "text/plain": [
              "(array([1.      , 1.      , 0.989474, 0.994652, 0.994709, 0.994652, 0.989362, 0.994652, 1.      , 1.      , 1.      ,\n",
              "        0.989247, 0.989474, 1.      ]), 0.9954444711669286)"
            ]
          },
          "metadata": {
            "tags": []
          },
          "execution_count": 19
        }
      ]
    },
    {
      "cell_type": "code",
      "metadata": {
        "colab_type": "code",
        "id": "J23tz3ty828p",
        "colab": {}
      },
      "source": [
        ""
      ],
      "execution_count": 0,
      "outputs": []
    }
  ]
}