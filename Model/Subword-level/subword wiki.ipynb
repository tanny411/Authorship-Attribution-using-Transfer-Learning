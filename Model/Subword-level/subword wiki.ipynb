{
  "nbformat": 4,
  "nbformat_minor": 0,
  "metadata": {
    "colab": {
      "name": "SP-ULMFiT(Wiki).ipynb",
      "version": "0.3.2",
      "provenance": [],
      "collapsed_sections": [
        "Q8m3k1lITZCM",
        "UnZ6KC-VTeo-",
        "bnT8JAN_TsO0",
        "l7yWrTAEb3cW"
      ]
    },
    "kernelspec": {
      "name": "python3",
      "display_name": "Python 3"
    },
    "accelerator": "GPU"
  },
  "cells": [
    {
      "cell_type": "markdown",
      "metadata": {
        "id": "drMEaYOtIOe4",
        "colab_type": "text"
      },
      "source": [
        "Wiki crawled at night of 10/june/2019"
      ]
    },
    {
      "cell_type": "code",
      "metadata": {
        "id": "ht3mOv6BWiqJ",
        "colab_type": "code",
        "outputId": "c95c7dc2-cd60-470a-bbc0-a2cc7e226888",
        "colab": {
          "base_uri": "https://localhost:8080/",
          "height": 207
        }
      },
      "source": [
        "!pip install sentencepiece\n",
        "!pip install tf_sentencepiece"
      ],
      "execution_count": 2,
      "outputs": [
        {
          "output_type": "stream",
          "text": [
            "Collecting sentencepiece\n",
            "\u001b[?25l  Downloading https://files.pythonhosted.org/packages/00/95/7f357995d5eb1131aa2092096dca14a6fc1b1d2860bd99c22a612e1d1019/sentencepiece-0.1.82-cp36-cp36m-manylinux1_x86_64.whl (1.0MB)\n",
            "\u001b[K     |████████████████████████████████| 1.0MB 2.8MB/s \n",
            "\u001b[?25hInstalling collected packages: sentencepiece\n",
            "Successfully installed sentencepiece-0.1.82\n",
            "Collecting tf_sentencepiece\n",
            "\u001b[?25l  Downloading https://files.pythonhosted.org/packages/72/fe/363d78d29c556d0da642ffe285c2c7573b6a83239a9b0d08d83376c9fbac/tf_sentencepiece-0.1.82.1-py2.py3-none-manylinux1_x86_64.whl (2.8MB)\n",
            "\u001b[K     |████████████████████████████████| 2.8MB 2.8MB/s \n",
            "\u001b[?25hInstalling collected packages: tf-sentencepiece\n",
            "Successfully installed tf-sentencepiece-0.1.82.1\n"
          ],
          "name": "stdout"
        }
      ]
    },
    {
      "cell_type": "code",
      "metadata": {
        "id": "GYHRGS6iGKm_",
        "colab_type": "code",
        "outputId": "07332213-5155-47c4-b28c-b6e1459f2e84",
        "colab": {
          "base_uri": "https://localhost:8080/",
          "height": 734
        }
      },
      "source": [
        "!pip install fastai==1.0.52\n",
        "from fastai import *\n",
        "from fastai.text import *\n",
        "\n",
        "import re\n",
        "import sentencepiece as spm"
      ],
      "execution_count": 3,
      "outputs": [
        {
          "output_type": "stream",
          "text": [
            "Requirement already satisfied: fastai==1.0.52 in /usr/local/lib/python3.6/dist-packages (1.0.52)\n",
            "Requirement already satisfied: scipy in /usr/local/lib/python3.6/dist-packages (from fastai==1.0.52) (1.3.0)\n",
            "Requirement already satisfied: nvidia-ml-py3 in /usr/local/lib/python3.6/dist-packages (from fastai==1.0.52) (7.352.0)\n",
            "Requirement already satisfied: Pillow in /usr/local/lib/python3.6/dist-packages (from fastai==1.0.52) (4.3.0)\n",
            "Requirement already satisfied: numpy>=1.15 in /usr/local/lib/python3.6/dist-packages (from fastai==1.0.52) (1.16.4)\n",
            "Requirement already satisfied: pyyaml in /usr/local/lib/python3.6/dist-packages (from fastai==1.0.52) (3.13)\n",
            "Requirement already satisfied: pandas in /usr/local/lib/python3.6/dist-packages (from fastai==1.0.52) (0.24.2)\n",
            "Requirement already satisfied: bottleneck in /usr/local/lib/python3.6/dist-packages (from fastai==1.0.52) (1.2.1)\n",
            "Requirement already satisfied: spacy>=2.0.18 in /usr/local/lib/python3.6/dist-packages (from fastai==1.0.52) (2.1.4)\n",
            "Requirement already satisfied: requests in /usr/local/lib/python3.6/dist-packages (from fastai==1.0.52) (2.21.0)\n",
            "Requirement already satisfied: dataclasses; python_version < \"3.7\" in /usr/local/lib/python3.6/dist-packages (from fastai==1.0.52) (0.6)\n",
            "Requirement already satisfied: fastprogress>=0.1.19 in /usr/local/lib/python3.6/dist-packages (from fastai==1.0.52) (0.1.21)\n",
            "Requirement already satisfied: beautifulsoup4 in /usr/local/lib/python3.6/dist-packages (from fastai==1.0.52) (4.6.3)\n",
            "Requirement already satisfied: matplotlib in /usr/local/lib/python3.6/dist-packages (from fastai==1.0.52) (3.0.3)\n",
            "Requirement already satisfied: torchvision in /usr/local/lib/python3.6/dist-packages (from fastai==1.0.52) (0.3.0)\n",
            "Requirement already satisfied: torch>=1.0.0 in /usr/local/lib/python3.6/dist-packages (from fastai==1.0.52) (1.1.0)\n",
            "Requirement already satisfied: typing in /usr/local/lib/python3.6/dist-packages (from fastai==1.0.52) (3.7.4)\n",
            "Requirement already satisfied: packaging in /usr/local/lib/python3.6/dist-packages (from fastai==1.0.52) (19.0)\n",
            "Requirement already satisfied: numexpr in /usr/local/lib/python3.6/dist-packages (from fastai==1.0.52) (2.6.9)\n",
            "Requirement already satisfied: olefile in /usr/local/lib/python3.6/dist-packages (from Pillow->fastai==1.0.52) (0.46)\n",
            "Requirement already satisfied: python-dateutil>=2.5.0 in /usr/local/lib/python3.6/dist-packages (from pandas->fastai==1.0.52) (2.5.3)\n",
            "Requirement already satisfied: pytz>=2011k in /usr/local/lib/python3.6/dist-packages (from pandas->fastai==1.0.52) (2018.9)\n",
            "Requirement already satisfied: murmurhash<1.1.0,>=0.28.0 in /usr/local/lib/python3.6/dist-packages (from spacy>=2.0.18->fastai==1.0.52) (1.0.2)\n",
            "Requirement already satisfied: wasabi<1.1.0,>=0.2.0 in /usr/local/lib/python3.6/dist-packages (from spacy>=2.0.18->fastai==1.0.52) (0.2.2)\n",
            "Requirement already satisfied: jsonschema<3.1.0,>=2.6.0 in /usr/local/lib/python3.6/dist-packages (from spacy>=2.0.18->fastai==1.0.52) (2.6.0)\n",
            "Requirement already satisfied: srsly<1.1.0,>=0.0.5 in /usr/local/lib/python3.6/dist-packages (from spacy>=2.0.18->fastai==1.0.52) (0.0.7)\n",
            "Requirement already satisfied: preshed<2.1.0,>=2.0.1 in /usr/local/lib/python3.6/dist-packages (from spacy>=2.0.18->fastai==1.0.52) (2.0.1)\n",
            "Requirement already satisfied: plac<1.0.0,>=0.9.6 in /usr/local/lib/python3.6/dist-packages (from spacy>=2.0.18->fastai==1.0.52) (0.9.6)\n",
            "Requirement already satisfied: thinc<7.1.0,>=7.0.2 in /usr/local/lib/python3.6/dist-packages (from spacy>=2.0.18->fastai==1.0.52) (7.0.4)\n",
            "Requirement already satisfied: cymem<2.1.0,>=2.0.2 in /usr/local/lib/python3.6/dist-packages (from spacy>=2.0.18->fastai==1.0.52) (2.0.2)\n",
            "Requirement already satisfied: blis<0.3.0,>=0.2.2 in /usr/local/lib/python3.6/dist-packages (from spacy>=2.0.18->fastai==1.0.52) (0.2.4)\n",
            "Requirement already satisfied: certifi>=2017.4.17 in /usr/local/lib/python3.6/dist-packages (from requests->fastai==1.0.52) (2019.6.16)\n",
            "Requirement already satisfied: urllib3<1.25,>=1.21.1 in /usr/local/lib/python3.6/dist-packages (from requests->fastai==1.0.52) (1.24.3)\n",
            "Requirement already satisfied: idna<2.9,>=2.5 in /usr/local/lib/python3.6/dist-packages (from requests->fastai==1.0.52) (2.8)\n",
            "Requirement already satisfied: chardet<3.1.0,>=3.0.2 in /usr/local/lib/python3.6/dist-packages (from requests->fastai==1.0.52) (3.0.4)\n",
            "Requirement already satisfied: cycler>=0.10 in /usr/local/lib/python3.6/dist-packages (from matplotlib->fastai==1.0.52) (0.10.0)\n",
            "Requirement already satisfied: pyparsing!=2.0.4,!=2.1.2,!=2.1.6,>=2.0.1 in /usr/local/lib/python3.6/dist-packages (from matplotlib->fastai==1.0.52) (2.4.0)\n",
            "Requirement already satisfied: kiwisolver>=1.0.1 in /usr/local/lib/python3.6/dist-packages (from matplotlib->fastai==1.0.52) (1.1.0)\n",
            "Requirement already satisfied: six in /usr/local/lib/python3.6/dist-packages (from torchvision->fastai==1.0.52) (1.12.0)\n",
            "Requirement already satisfied: tqdm<5.0.0,>=4.10.0 in /usr/local/lib/python3.6/dist-packages (from thinc<7.1.0,>=7.0.2->spacy>=2.0.18->fastai==1.0.52) (4.28.1)\n",
            "Requirement already satisfied: setuptools in /usr/local/lib/python3.6/dist-packages (from kiwisolver>=1.0.1->matplotlib->fastai==1.0.52) (41.0.1)\n"
          ],
          "name": "stdout"
        }
      ]
    },
    {
      "cell_type": "code",
      "metadata": {
        "id": "wXPpaCSPWQtN",
        "colab_type": "code",
        "outputId": "e9c46345-3695-4dea-d602-e73dc0685629",
        "colab": {
          "base_uri": "https://localhost:8080/",
          "height": 122
        }
      },
      "source": [
        "from google.colab import drive\n",
        "drive.mount('/content/gdrive')"
      ],
      "execution_count": 4,
      "outputs": [
        {
          "output_type": "stream",
          "text": [
            "Go to this URL in a browser: https://accounts.google.com/o/oauth2/auth?client_id=947318989803-6bn6qk8qdgf4n4g3pfee6491hc0brc4i.apps.googleusercontent.com&redirect_uri=urn%3Aietf%3Awg%3Aoauth%3A2.0%3Aoob&scope=email%20https%3A%2F%2Fwww.googleapis.com%2Fauth%2Fdocs.test%20https%3A%2F%2Fwww.googleapis.com%2Fauth%2Fdrive%20https%3A%2F%2Fwww.googleapis.com%2Fauth%2Fdrive.photos.readonly%20https%3A%2F%2Fwww.googleapis.com%2Fauth%2Fpeopleapi.readonly&response_type=code\n",
            "\n",
            "Enter your authorization code:\n",
            "··········\n",
            "Mounted at /content/gdrive\n"
          ],
          "name": "stdout"
        }
      ]
    },
    {
      "cell_type": "code",
      "metadata": {
        "id": "x8ANn5M3Xc9C",
        "colab_type": "code",
        "colab": {}
      },
      "source": [
        "import os\n",
        "path = Path(os.getcwd())\n",
        "path = path/'gdrive'/'My Drive'\n",
        "news=path/'Thesis Data'/'full doc csv'\n",
        "aa=path/'Thesis Data'/'Our dataset'\n",
        "aa2=path/'Thesis Data'/'AA dataset'\n",
        "wiki=path/'Thesis Data'/'wiki_data'/'Wiki'"
      ],
      "execution_count": 0,
      "outputs": []
    },
    {
      "cell_type": "markdown",
      "metadata": {
        "id": "Q8m3k1lITZCM",
        "colab_type": "text"
      },
      "source": [
        "### Set Data(no rerun)"
      ]
    },
    {
      "cell_type": "code",
      "metadata": {
        "id": "aqe9I9tz4ndJ",
        "colab_type": "code",
        "colab": {}
      },
      "source": [
        "df = pd.read_csv(wiki/'wiki.csv')"
      ],
      "execution_count": 0,
      "outputs": []
    },
    {
      "cell_type": "code",
      "metadata": {
        "id": "YEz1Wjtf4ucW",
        "colab_type": "code",
        "outputId": "9f2a039f-d4c7-4e83-9060-9334f814bea8",
        "colab": {
          "base_uri": "https://localhost:8080/",
          "height": 34
        }
      },
      "source": [
        "len(df)"
      ],
      "execution_count": 0,
      "outputs": [
        {
          "output_type": "execute_result",
          "data": {
            "text/plain": [
              "70623"
            ]
          },
          "metadata": {
            "tags": []
          },
          "execution_count": 6
        }
      ]
    },
    {
      "cell_type": "code",
      "metadata": {
        "id": "ONjPx-Tt41BT",
        "colab_type": "code",
        "outputId": "18c2367e-064b-4e0d-be89-eb595724f565",
        "colab": {
          "base_uri": "https://localhost:8080/",
          "height": 206
        }
      },
      "source": [
        "df.head()"
      ],
      "execution_count": 0,
      "outputs": [
        {
          "output_type": "execute_result",
          "data": {
            "text/html": [
              "<div>\n",
              "<style scoped>\n",
              "    .dataframe tbody tr th:only-of-type {\n",
              "        vertical-align: middle;\n",
              "    }\n",
              "\n",
              "    .dataframe tbody tr th {\n",
              "        vertical-align: top;\n",
              "    }\n",
              "\n",
              "    .dataframe thead th {\n",
              "        text-align: right;\n",
              "    }\n",
              "</style>\n",
              "<table border=\"1\" class=\"dataframe\">\n",
              "  <thead>\n",
              "    <tr style=\"text-align: right;\">\n",
              "      <th></th>\n",
              "      <th>id</th>\n",
              "      <th>text</th>\n",
              "      <th>title</th>\n",
              "      <th>url</th>\n",
              "    </tr>\n",
              "  </thead>\n",
              "  <tbody>\n",
              "    <tr>\n",
              "      <th>0</th>\n",
              "      <td>2341</td>\n",
              "      <td>বংশী বাংলাদেশের একটি ক্ষুদ্রতম উপজাতি। এরা টাঙ...</td>\n",
              "      <td>বংশী</td>\n",
              "      <td>https://bn.wikipedia.org/wiki?curid=2341</td>\n",
              "    </tr>\n",
              "    <tr>\n",
              "      <th>1</th>\n",
              "      <td>107282</td>\n",
              "      <td>আবহাওয়াবিদ্যা (বা আবহবিদ্যা) মানে এককথায় আবহ...</td>\n",
              "      <td>আবহাওয়াবিদ্যা</td>\n",
              "      <td>https://bn.wikipedia.org/wiki?curid=107282</td>\n",
              "    </tr>\n",
              "    <tr>\n",
              "      <th>2</th>\n",
              "      <td>107838</td>\n",
              "      <td>কোরিয়ার ওয়ার্কার্স পার্টি হল গণতান্ত্রিক গণপ...</td>\n",
              "      <td>কোরিয়ার ওয়ার্কার্স পার্টি</td>\n",
              "      <td>https://bn.wikipedia.org/wiki?curid=107838</td>\n",
              "    </tr>\n",
              "    <tr>\n",
              "      <th>3</th>\n",
              "      <td>4542</td>\n",
              "      <td>মোহাম্মদ মোস্তফা কামাল (১৬ ডিসেম্বর ১৯৪৭ - এপ্...</td>\n",
              "      <td>মোস্তফা কামাল (বীরশ্রেষ্ঠ)</td>\n",
              "      <td>https://bn.wikipedia.org/wiki?curid=4542</td>\n",
              "    </tr>\n",
              "    <tr>\n",
              "      <th>4</th>\n",
              "      <td>4626</td>\n",
              "      <td>মণিপুরী সংস্কৃতির উজ্জ্বলতম দিক হলো মণিপুরী নৃ...</td>\n",
              "      <td>মণিপুরী (নৃত্য)</td>\n",
              "      <td>https://bn.wikipedia.org/wiki?curid=4626</td>\n",
              "    </tr>\n",
              "  </tbody>\n",
              "</table>\n",
              "</div>"
            ],
            "text/plain": [
              "       id  ...                                         url\n",
              "0    2341  ...    https://bn.wikipedia.org/wiki?curid=2341\n",
              "1  107282  ...  https://bn.wikipedia.org/wiki?curid=107282\n",
              "2  107838  ...  https://bn.wikipedia.org/wiki?curid=107838\n",
              "3    4542  ...    https://bn.wikipedia.org/wiki?curid=4542\n",
              "4    4626  ...    https://bn.wikipedia.org/wiki?curid=4626\n",
              "\n",
              "[5 rows x 4 columns]"
            ]
          },
          "metadata": {
            "tags": []
          },
          "execution_count": 7
        }
      ]
    },
    {
      "cell_type": "code",
      "metadata": {
        "id": "0LibDKefMZ3N",
        "colab_type": "code",
        "colab": {}
      },
      "source": [
        "df['label']=0\n",
        "df = df[['label','text']]"
      ],
      "execution_count": 0,
      "outputs": []
    },
    {
      "cell_type": "code",
      "metadata": {
        "id": "N7n2ZsptMZyj",
        "colab_type": "code",
        "outputId": "16b8b531-3908-4379-b8ce-81c085679252",
        "colab": {
          "base_uri": "https://localhost:8080/",
          "height": 206
        }
      },
      "source": [
        "df.head()"
      ],
      "execution_count": 0,
      "outputs": [
        {
          "output_type": "execute_result",
          "data": {
            "text/html": [
              "<div>\n",
              "<style scoped>\n",
              "    .dataframe tbody tr th:only-of-type {\n",
              "        vertical-align: middle;\n",
              "    }\n",
              "\n",
              "    .dataframe tbody tr th {\n",
              "        vertical-align: top;\n",
              "    }\n",
              "\n",
              "    .dataframe thead th {\n",
              "        text-align: right;\n",
              "    }\n",
              "</style>\n",
              "<table border=\"1\" class=\"dataframe\">\n",
              "  <thead>\n",
              "    <tr style=\"text-align: right;\">\n",
              "      <th></th>\n",
              "      <th>label</th>\n",
              "      <th>text</th>\n",
              "    </tr>\n",
              "  </thead>\n",
              "  <tbody>\n",
              "    <tr>\n",
              "      <th>0</th>\n",
              "      <td>0</td>\n",
              "      <td>বংশী বাংলাদেশের একটি ক্ষুদ্রতম উপজাতি। এরা টাঙ...</td>\n",
              "    </tr>\n",
              "    <tr>\n",
              "      <th>1</th>\n",
              "      <td>0</td>\n",
              "      <td>আবহাওয়াবিদ্যা (বা আবহবিদ্যা) মানে এককথায় আবহ...</td>\n",
              "    </tr>\n",
              "    <tr>\n",
              "      <th>2</th>\n",
              "      <td>0</td>\n",
              "      <td>কোরিয়ার ওয়ার্কার্স পার্টি হল গণতান্ত্রিক গণপ...</td>\n",
              "    </tr>\n",
              "    <tr>\n",
              "      <th>3</th>\n",
              "      <td>0</td>\n",
              "      <td>মোহাম্মদ মোস্তফা কামাল (১৬ ডিসেম্বর ১৯৪৭ - এপ্...</td>\n",
              "    </tr>\n",
              "    <tr>\n",
              "      <th>4</th>\n",
              "      <td>0</td>\n",
              "      <td>মণিপুরী সংস্কৃতির উজ্জ্বলতম দিক হলো মণিপুরী নৃ...</td>\n",
              "    </tr>\n",
              "  </tbody>\n",
              "</table>\n",
              "</div>"
            ],
            "text/plain": [
              "   label                                               text\n",
              "0      0  বংশী বাংলাদেশের একটি ক্ষুদ্রতম উপজাতি। এরা টাঙ...\n",
              "1      0  আবহাওয়াবিদ্যা (বা আবহবিদ্যা) মানে এককথায় আবহ...\n",
              "2      0  কোরিয়ার ওয়ার্কার্স পার্টি হল গণতান্ত্রিক গণপ...\n",
              "3      0  মোহাম্মদ মোস্তফা কামাল (১৬ ডিসেম্বর ১৯৪৭ - এপ্...\n",
              "4      0  মণিপুরী সংস্কৃতির উজ্জ্বলতম দিক হলো মণিপুরী নৃ..."
            ]
          },
          "metadata": {
            "tags": []
          },
          "execution_count": 9
        }
      ]
    },
    {
      "cell_type": "code",
      "metadata": {
        "id": "DFh-NAsBM9ur",
        "colab_type": "code",
        "outputId": "6b2d2940-8364-44ac-f37b-1e1ba8f7d51e",
        "colab": {
          "base_uri": "https://localhost:8080/",
          "height": 52
        }
      },
      "source": [
        "print(df.iloc[:1]['text'][0])"
      ],
      "execution_count": 0,
      "outputs": [
        {
          "output_type": "stream",
          "text": [
            "বংশী বাংলাদেশের একটি ক্ষুদ্রতম উপজাতি। এরা টাঙ্গাইল জেলার \"মহানান্দপুর\" এবং \"দন্দোনিয়া\" নামে পাশাপাশি দুইটি গ্রামের বসবাস করে। তারা নিজেদেরকে \"সূর্য-বংশী\" বলে থাকে।\n",
            "\n"
          ],
          "name": "stdout"
        }
      ]
    },
    {
      "cell_type": "code",
      "metadata": {
        "id": "6VByS5cLOEAJ",
        "colab_type": "code",
        "colab": {}
      },
      "source": [
        "df.to_csv(wiki/'wiki_lm.csv',index=False)"
      ],
      "execution_count": 0,
      "outputs": []
    },
    {
      "cell_type": "code",
      "metadata": {
        "id": "3etW29hUOeNk",
        "colab_type": "code",
        "outputId": "29bbb141-bc25-41eb-ffff-9bbf1b9e7ae6",
        "colab": {
          "base_uri": "https://localhost:8080/",
          "height": 206
        }
      },
      "source": [
        "df = pd.read_csv(wiki/'wiki_lm.csv')\n",
        "df.head()"
      ],
      "execution_count": 0,
      "outputs": [
        {
          "output_type": "execute_result",
          "data": {
            "text/html": [
              "<div>\n",
              "<style scoped>\n",
              "    .dataframe tbody tr th:only-of-type {\n",
              "        vertical-align: middle;\n",
              "    }\n",
              "\n",
              "    .dataframe tbody tr th {\n",
              "        vertical-align: top;\n",
              "    }\n",
              "\n",
              "    .dataframe thead th {\n",
              "        text-align: right;\n",
              "    }\n",
              "</style>\n",
              "<table border=\"1\" class=\"dataframe\">\n",
              "  <thead>\n",
              "    <tr style=\"text-align: right;\">\n",
              "      <th></th>\n",
              "      <th>label</th>\n",
              "      <th>text</th>\n",
              "    </tr>\n",
              "  </thead>\n",
              "  <tbody>\n",
              "    <tr>\n",
              "      <th>0</th>\n",
              "      <td>0</td>\n",
              "      <td>বংশী বাংলাদেশের একটি ক্ষুদ্রতম উপজাতি। এরা টাঙ...</td>\n",
              "    </tr>\n",
              "    <tr>\n",
              "      <th>1</th>\n",
              "      <td>0</td>\n",
              "      <td>আবহাওয়াবিদ্যা (বা আবহবিদ্যা) মানে এককথায় আবহ...</td>\n",
              "    </tr>\n",
              "    <tr>\n",
              "      <th>2</th>\n",
              "      <td>0</td>\n",
              "      <td>কোরিয়ার ওয়ার্কার্স পার্টি হল গণতান্ত্রিক গণপ...</td>\n",
              "    </tr>\n",
              "    <tr>\n",
              "      <th>3</th>\n",
              "      <td>0</td>\n",
              "      <td>মোহাম্মদ মোস্তফা কামাল (১৬ ডিসেম্বর ১৯৪৭ - এপ্...</td>\n",
              "    </tr>\n",
              "    <tr>\n",
              "      <th>4</th>\n",
              "      <td>0</td>\n",
              "      <td>মণিপুরী সংস্কৃতির উজ্জ্বলতম দিক হলো মণিপুরী নৃ...</td>\n",
              "    </tr>\n",
              "  </tbody>\n",
              "</table>\n",
              "</div>"
            ],
            "text/plain": [
              "   label                                               text\n",
              "0      0  বংশী বাংলাদেশের একটি ক্ষুদ্রতম উপজাতি। এরা টাঙ...\n",
              "1      0  আবহাওয়াবিদ্যা (বা আবহবিদ্যা) মানে এককথায় আবহ...\n",
              "2      0  কোরিয়ার ওয়ার্কার্স পার্টি হল গণতান্ত্রিক গণপ...\n",
              "3      0  মোহাম্মদ মোস্তফা কামাল (১৬ ডিসেম্বর ১৯৪৭ - এপ্...\n",
              "4      0  মণিপুরী সংস্কৃতির উজ্জ্বলতম দিক হলো মণিপুরী নৃ..."
            ]
          },
          "metadata": {
            "tags": []
          },
          "execution_count": 15
        }
      ]
    },
    {
      "cell_type": "code",
      "metadata": {
        "id": "zuOzhvLeOC22",
        "colab_type": "code",
        "outputId": "6775a412-9bfe-4edf-c6de-3872a1d0dcfd",
        "colab": {
          "base_uri": "https://localhost:8080/",
          "height": 34
        }
      },
      "source": [
        "df['text'].apply(lambda x: len(str(x).split())).sum() #total words"
      ],
      "execution_count": 0,
      "outputs": [
        {
          "output_type": "execute_result",
          "data": {
            "text/plain": [
              "18229727"
            ]
          },
          "metadata": {
            "tags": []
          },
          "execution_count": 16
        }
      ]
    },
    {
      "cell_type": "code",
      "metadata": {
        "id": "sGCEmwavPsIN",
        "colab_type": "code",
        "outputId": "49464008-e946-437f-daf4-601443976942",
        "colab": {
          "base_uri": "https://localhost:8080/",
          "height": 34
        }
      },
      "source": [
        "len(set(' '.join(str(y) for y in df['text'].values).split())) #unique words"
      ],
      "execution_count": 0,
      "outputs": [
        {
          "output_type": "execute_result",
          "data": {
            "text/plain": [
              "1289249"
            ]
          },
          "metadata": {
            "tags": []
          },
          "execution_count": 17
        }
      ]
    },
    {
      "cell_type": "markdown",
      "metadata": {
        "id": "_zbOxiFTSH7G",
        "colab_type": "text"
      },
      "source": [
        "#### Sentence separation (for sentence piece)"
      ]
    },
    {
      "cell_type": "code",
      "metadata": {
        "id": "g2bW1Bu75e-4",
        "colab_type": "code",
        "colab": {}
      },
      "source": [
        "def sent(s):\n",
        "  global ls\n",
        "  s = str(s).split('।')\n",
        "  s = [ss+'।' for ss in s]\n",
        "  ls = ls + s"
      ],
      "execution_count": 0,
      "outputs": []
    },
    {
      "cell_type": "code",
      "metadata": {
        "id": "jWZx10JY5Kfc",
        "colab_type": "code",
        "colab": {}
      },
      "source": [
        "ls =[]\n",
        "df['text'].apply(sent); # Quite long time!"
      ],
      "execution_count": 0,
      "outputs": []
    },
    {
      "cell_type": "code",
      "metadata": {
        "id": "0XFcjgZBEInl",
        "colab_type": "code",
        "outputId": "e7f958b4-d3e7-466b-8f47-0dfe3b008b4a",
        "colab": {
          "base_uri": "https://localhost:8080/",
          "height": 34
        }
      },
      "source": [
        "len(ls)"
      ],
      "execution_count": 0,
      "outputs": [
        {
          "output_type": "execute_result",
          "data": {
            "text/plain": [
              "1308076"
            ]
          },
          "metadata": {
            "tags": []
          },
          "execution_count": 20
        }
      ]
    },
    {
      "cell_type": "code",
      "metadata": {
        "id": "PB5fqm1F8UVd",
        "colab_type": "code",
        "outputId": "94109f42-4c29-40cf-b643-e64287cb5ef9",
        "colab": {
          "base_uri": "https://localhost:8080/",
          "height": 104
        }
      },
      "source": [
        "ls[:5]"
      ],
      "execution_count": 0,
      "outputs": [
        {
          "output_type": "execute_result",
          "data": {
            "text/plain": [
              "['বংশী বাংলাদেশের একটি ক্ষুদ্রতম উপজাতি।',\n",
              " ' এরা টাঙ্গাইল জেলার \"মহানান্দপুর\" এবং \"দন্দোনিয়া\" নামে পাশাপাশি দুইটি গ্রামের বসবাস করে।',\n",
              " ' তারা নিজেদেরকে \"সূর্য-বংশী\" বলে থাকে।',\n",
              " '\\n।',\n",
              " 'আবহাওয়াবিদ্যা (বা আবহবিদ্যা) মানে এককথায় আবহাওয়া সম্পর্কিত বিজ্ঞানকে আবহাওয়াবিদ্যা বলে।']"
            ]
          },
          "metadata": {
            "tags": []
          },
          "execution_count": 21
        }
      ]
    },
    {
      "cell_type": "code",
      "metadata": {
        "id": "gwuk48wYClge",
        "colab_type": "code",
        "colab": {}
      },
      "source": [
        "sv = pd.DataFrame({'text':ls})\n",
        "sv.to_csv(wiki/'wiki_sents.csv',index=False)"
      ],
      "execution_count": 0,
      "outputs": []
    },
    {
      "cell_type": "code",
      "metadata": {
        "id": "iLorxmLYCa36",
        "colab_type": "code",
        "outputId": "38693403-2a66-4eb6-a5bf-5402e3f4c590",
        "colab": {
          "base_uri": "https://localhost:8080/",
          "height": 206
        }
      },
      "source": [
        "sv = pd.read_csv(wiki/'wiki_sents.csv')\n",
        "sv.head()"
      ],
      "execution_count": 0,
      "outputs": [
        {
          "output_type": "execute_result",
          "data": {
            "text/html": [
              "<div>\n",
              "<style scoped>\n",
              "    .dataframe tbody tr th:only-of-type {\n",
              "        vertical-align: middle;\n",
              "    }\n",
              "\n",
              "    .dataframe tbody tr th {\n",
              "        vertical-align: top;\n",
              "    }\n",
              "\n",
              "    .dataframe thead th {\n",
              "        text-align: right;\n",
              "    }\n",
              "</style>\n",
              "<table border=\"1\" class=\"dataframe\">\n",
              "  <thead>\n",
              "    <tr style=\"text-align: right;\">\n",
              "      <th></th>\n",
              "      <th>text</th>\n",
              "    </tr>\n",
              "  </thead>\n",
              "  <tbody>\n",
              "    <tr>\n",
              "      <th>0</th>\n",
              "      <td>বংশী বাংলাদেশের একটি ক্ষুদ্রতম উপজাতি।</td>\n",
              "    </tr>\n",
              "    <tr>\n",
              "      <th>1</th>\n",
              "      <td>এরা টাঙ্গাইল জেলার \"মহানান্দপুর\" এবং \"দন্দোনি...</td>\n",
              "    </tr>\n",
              "    <tr>\n",
              "      <th>2</th>\n",
              "      <td>তারা নিজেদেরকে \"সূর্য-বংশী\" বলে থাকে।</td>\n",
              "    </tr>\n",
              "    <tr>\n",
              "      <th>3</th>\n",
              "      <td>\\n।</td>\n",
              "    </tr>\n",
              "    <tr>\n",
              "      <th>4</th>\n",
              "      <td>আবহাওয়াবিদ্যা (বা আবহবিদ্যা) মানে এককথায় আবহ...</td>\n",
              "    </tr>\n",
              "  </tbody>\n",
              "</table>\n",
              "</div>"
            ],
            "text/plain": [
              "                                                text\n",
              "0             বংশী বাংলাদেশের একটি ক্ষুদ্রতম উপজাতি।\n",
              "1   এরা টাঙ্গাইল জেলার \"মহানান্দপুর\" এবং \"দন্দোনি...\n",
              "2              তারা নিজেদেরকে \"সূর্য-বংশী\" বলে থাকে।\n",
              "3                                                \\n।\n",
              "4  আবহাওয়াবিদ্যা (বা আবহবিদ্যা) মানে এককথায় আবহ..."
            ]
          },
          "metadata": {
            "tags": []
          },
          "execution_count": 36
        }
      ]
    },
    {
      "cell_type": "code",
      "metadata": {
        "id": "0MURWXKLCmHg",
        "colab_type": "code",
        "outputId": "fd0bf53e-f968-4bf6-aa2c-375f21895262",
        "colab": {
          "base_uri": "https://localhost:8080/",
          "height": 34
        }
      },
      "source": [
        "len(sv)"
      ],
      "execution_count": 0,
      "outputs": [
        {
          "output_type": "execute_result",
          "data": {
            "text/plain": [
              "1308076"
            ]
          },
          "metadata": {
            "tags": []
          },
          "execution_count": 24
        }
      ]
    },
    {
      "cell_type": "code",
      "metadata": {
        "id": "490QLxku8gE6",
        "colab_type": "code",
        "outputId": "966eefb5-2372-404d-cd1e-c529af9368b2",
        "colab": {
          "base_uri": "https://localhost:8080/",
          "height": 104
        }
      },
      "source": [
        "defaults.text_pre_rules"
      ],
      "execution_count": 0,
      "outputs": [
        {
          "output_type": "execute_result",
          "data": {
            "text/plain": [
              "[<function fastai.text.transform.fix_html>,\n",
              " <function fastai.text.transform.replace_rep>,\n",
              " <function fastai.text.transform.replace_wrep>,\n",
              " <function fastai.text.transform.spec_add_spaces>,\n",
              " <function fastai.text.transform.rm_useless_spaces>]"
            ]
          },
          "metadata": {
            "tags": []
          },
          "execution_count": 25
        }
      ]
    },
    {
      "cell_type": "code",
      "metadata": {
        "id": "wHDKwsI69Oeo",
        "colab_type": "code",
        "colab": {}
      },
      "source": [
        "for rule in defaults.text_pre_rules:\n",
        "    sv['text']=sv['text'].apply(lambda x: rule(str(x)))"
      ],
      "execution_count": 0,
      "outputs": []
    },
    {
      "cell_type": "code",
      "metadata": {
        "id": "WyplD-9ZJ9eG",
        "colab_type": "code",
        "colab": {}
      },
      "source": [
        "sv['text'] = sv['text'].apply(lambda x: '<s>'+x+'</s>');"
      ],
      "execution_count": 0,
      "outputs": []
    },
    {
      "cell_type": "code",
      "metadata": {
        "id": "Y2kj2D8B9rxw",
        "colab_type": "code",
        "outputId": "1a76b9d4-fef6-45af-a5c4-5034d8c9e1f2",
        "colab": {
          "base_uri": "https://localhost:8080/",
          "height": 34
        }
      },
      "source": [
        "sv.head(1)['text'][0]"
      ],
      "execution_count": 0,
      "outputs": [
        {
          "output_type": "execute_result",
          "data": {
            "text/plain": [
              "'<s>বংশী বাংলাদেশের একটি ক্ষুদ্রতম উপজাতি।</s>'"
            ]
          },
          "metadata": {
            "tags": []
          },
          "execution_count": 28
        }
      ]
    },
    {
      "cell_type": "code",
      "metadata": {
        "id": "V2Jr0Cgo_Zgd",
        "colab_type": "code",
        "colab": {}
      },
      "source": [
        "file = 'formatted_wiki_sents.csv'"
      ],
      "execution_count": 0,
      "outputs": []
    },
    {
      "cell_type": "code",
      "metadata": {
        "id": "CBIWoI_O9ssn",
        "colab_type": "code",
        "colab": {}
      },
      "source": [
        "## Saving the file\n",
        "sv.to_csv(wiki/file,index=False)"
      ],
      "execution_count": 0,
      "outputs": []
    },
    {
      "cell_type": "code",
      "metadata": {
        "id": "r8fUxF0WR7Hz",
        "colab_type": "code",
        "outputId": "4216ac9a-f9e5-4223-8cc3-70ee4c847d19",
        "colab": {
          "base_uri": "https://localhost:8080/",
          "height": 206
        }
      },
      "source": [
        "sv = pd.read_csv(wiki/file)\n",
        "sv.head()"
      ],
      "execution_count": 0,
      "outputs": [
        {
          "output_type": "execute_result",
          "data": {
            "text/html": [
              "<div>\n",
              "<style scoped>\n",
              "    .dataframe tbody tr th:only-of-type {\n",
              "        vertical-align: middle;\n",
              "    }\n",
              "\n",
              "    .dataframe tbody tr th {\n",
              "        vertical-align: top;\n",
              "    }\n",
              "\n",
              "    .dataframe thead th {\n",
              "        text-align: right;\n",
              "    }\n",
              "</style>\n",
              "<table border=\"1\" class=\"dataframe\">\n",
              "  <thead>\n",
              "    <tr style=\"text-align: right;\">\n",
              "      <th></th>\n",
              "      <th>text</th>\n",
              "    </tr>\n",
              "  </thead>\n",
              "  <tbody>\n",
              "    <tr>\n",
              "      <th>0</th>\n",
              "      <td>&lt;s&gt;বংশী বাংলাদেশের একটি ক্ষুদ্রতম উপজাতি।&lt;/s&gt;</td>\n",
              "    </tr>\n",
              "    <tr>\n",
              "      <th>1</th>\n",
              "      <td>&lt;s&gt; এরা টাঙ্গাইল জেলার \"মহানান্দপুর\" এবং \"দন্দ...</td>\n",
              "    </tr>\n",
              "    <tr>\n",
              "      <th>2</th>\n",
              "      <td>&lt;s&gt; তারা নিজেদেরকে \"সূর্য-বংশী\" বলে থাকে।&lt;/s&gt;</td>\n",
              "    </tr>\n",
              "    <tr>\n",
              "      <th>3</th>\n",
              "      <td>&lt;s&gt; \\n ।&lt;/s&gt;</td>\n",
              "    </tr>\n",
              "    <tr>\n",
              "      <th>4</th>\n",
              "      <td>&lt;s&gt;আবহাওয়াবিদ্যা (বা আবহবিদ্যা) মানে এককথায় ...</td>\n",
              "    </tr>\n",
              "  </tbody>\n",
              "</table>\n",
              "</div>"
            ],
            "text/plain": [
              "                                                text\n",
              "0      <s>বংশী বাংলাদেশের একটি ক্ষুদ্রতম উপজাতি।</s>\n",
              "1  <s> এরা টাঙ্গাইল জেলার \"মহানান্দপুর\" এবং \"দন্দ...\n",
              "2      <s> তারা নিজেদেরকে \"সূর্য-বংশী\" বলে থাকে।</s>\n",
              "3                                       <s> \\n ।</s>\n",
              "4  <s>আবহাওয়াবিদ্যা (বা আবহবিদ্যা) মানে এককথায় ..."
            ]
          },
          "metadata": {
            "tags": []
          },
          "execution_count": 31
        }
      ]
    },
    {
      "cell_type": "code",
      "metadata": {
        "id": "PjzMZIgxYyv6",
        "colab_type": "code",
        "outputId": "3aa77481-44ae-4dc1-91b0-76e3d2111094",
        "colab": {
          "base_uri": "https://localhost:8080/",
          "height": 52
        }
      },
      "source": [
        "df=pd.read_csv(wiki/'wiki_lm.csv')\n",
        "print(len(df))\n",
        "df=df.dropna()\n",
        "print(len(df))"
      ],
      "execution_count": 0,
      "outputs": [
        {
          "output_type": "stream",
          "text": [
            "70623\n",
            "70377\n"
          ],
          "name": "stdout"
        }
      ]
    },
    {
      "cell_type": "code",
      "metadata": {
        "id": "AZyCGUX7ZN4B",
        "colab_type": "code",
        "colab": {}
      },
      "source": [
        "df.to_csv(wiki/'wiki_lm.csv',index=False)"
      ],
      "execution_count": 0,
      "outputs": []
    },
    {
      "cell_type": "markdown",
      "metadata": {
        "id": "UnZ6KC-VTeo-",
        "colab_type": "text"
      },
      "source": [
        "### load and save to current dir(no rerun-for sp)"
      ]
    },
    {
      "cell_type": "code",
      "metadata": {
        "id": "Fqs7DF47GwKT",
        "colab_type": "code",
        "colab": {}
      },
      "source": [
        "file = 'formatted_wiki_sents.csv'\n",
        "sv = pd.read_csv(wiki/file);\n",
        "sv.to_csv(file,index=False) # to save in current directory"
      ],
      "execution_count": 0,
      "outputs": []
    },
    {
      "cell_type": "markdown",
      "metadata": {
        "id": "TV1DGq8h-fq_",
        "colab_type": "text"
      },
      "source": [
        "## Training"
      ]
    },
    {
      "cell_type": "code",
      "metadata": {
        "id": "1hvRe6oT-fBH",
        "colab_type": "code",
        "colab": {}
      },
      "source": [
        "vocab_size = 30000\n",
        "model_prefix = 'sp_wiki'"
      ],
      "execution_count": 0,
      "outputs": []
    },
    {
      "cell_type": "code",
      "metadata": {
        "id": "burEPtGP-jyR",
        "colab_type": "code",
        "outputId": "e594b237-5611-4919-b33e-fcf4345e9c1d",
        "colab": {
          "base_uri": "https://localhost:8080/",
          "height": 34
        }
      },
      "source": [
        "spm.SentencePieceTrainer.Train(f'--input={file}'\\\n",
        "                               f' --model_prefix={model_prefix}'\\\n",
        "                               f' --vocab_size={vocab_size}')\n",
        "#                               f'--unk_piece={UNK} --bos_piece={BOS} --eos_id=-1 --pad_piece={PAD}')"
      ],
      "execution_count": 0,
      "outputs": [
        {
          "output_type": "execute_result",
          "data": {
            "text/plain": [
              "True"
            ]
          },
          "metadata": {
            "tags": []
          },
          "execution_count": 38
        }
      ]
    },
    {
      "cell_type": "code",
      "metadata": {
        "id": "J-MFdg_j_iXz",
        "colab_type": "code",
        "outputId": "34eb7f10-5ad9-4cb6-cac8-5b8bea1bb8f3",
        "colab": {
          "base_uri": "https://localhost:8080/",
          "height": 187
        }
      },
      "source": [
        "#Head of the Vocab file: Line nums indicate index of vocab\n",
        "!head -n10 {model_prefix}.vocab | nl"
      ],
      "execution_count": 0,
      "outputs": [
        {
          "output_type": "stream",
          "text": [
            "     1\t<unk>\t0\n",
            "     2\t<s>\t0\n",
            "     3\t</s>\t0\n",
            "     4\t▁\t-1.90557\n",
            "     5\t।\t-3.15283\n",
            "     6\t\"\t-3.81331\n",
            "     7\t,\t-3.96524\n",
            "     8\t▁\"\t-4.22165\n",
            "     9\tের\t-4.61577\n",
            "    10\tর\t-4.77473\n"
          ],
          "name": "stdout"
        }
      ]
    },
    {
      "cell_type": "code",
      "metadata": {
        "id": "t-VTowpvBDya",
        "colab_type": "code",
        "outputId": "59ac59a4-2dec-4cc5-a406-0dba17f5163d",
        "colab": {
          "base_uri": "https://localhost:8080/",
          "height": 34
        }
      },
      "source": [
        "## load up the Processor\n",
        "sp = spm.SentencePieceProcessor()\n",
        "sp.load(f'{model_prefix}.model')"
      ],
      "execution_count": 9,
      "outputs": [
        {
          "output_type": "execute_result",
          "data": {
            "text/plain": [
              "True"
            ]
          },
          "metadata": {
            "tags": []
          },
          "execution_count": 9
        }
      ]
    },
    {
      "cell_type": "code",
      "metadata": {
        "id": "7f25k7nxP1oS",
        "colab_type": "code",
        "colab": {}
      },
      "source": [
        "itos = [] #{}\n",
        "with open(f'{model_prefix}.vocab','r') as f:\n",
        "    for line_num,line in enumerate(f):\n",
        "        itos.append(line.split(\"\\t\")[0])"
      ],
      "execution_count": 0,
      "outputs": []
    },
    {
      "cell_type": "code",
      "metadata": {
        "id": "cJg3UrwIJxLQ",
        "colab_type": "code",
        "outputId": "ba675f26-45ae-43c8-b782-25987a945b2a",
        "colab": {
          "base_uri": "https://localhost:8080/",
          "height": 34
        }
      },
      "source": [
        "len(itos)"
      ],
      "execution_count": 11,
      "outputs": [
        {
          "output_type": "execute_result",
          "data": {
            "text/plain": [
              "30000"
            ]
          },
          "metadata": {
            "tags": []
          },
          "execution_count": 11
        }
      ]
    },
    {
      "cell_type": "code",
      "metadata": {
        "id": "MPoVAW2EJzyG",
        "colab_type": "code",
        "outputId": "1564e009-0895-4f42-c594-0869fc297182",
        "colab": {
          "base_uri": "https://localhost:8080/",
          "height": 51
        }
      },
      "source": [
        "itos[:5], itos[-5:]"
      ],
      "execution_count": 12,
      "outputs": [
        {
          "output_type": "execute_result",
          "data": {
            "text/plain": [
              "(['<unk>', '<s>', '</s>', '▁', '।'],\n",
              " ['এইচএসপিএ', '▁ইকরিমা', '▁উস্কানি', '▁বাদানুবাদ', '/'])"
            ]
          },
          "metadata": {
            "tags": []
          },
          "execution_count": 12
        }
      ]
    },
    {
      "cell_type": "code",
      "metadata": {
        "id": "9pw4ZtL4blcM",
        "colab_type": "code",
        "colab": {}
      },
      "source": [
        "class SPTokenizer(BaseTokenizer):\n",
        "    \"Wrapper around a SentncePiece tokenizer to make it a `BaseTokenizer`.\"\n",
        "    def __init__(self, model_prefix:str):\n",
        "        self.tok = spm.SentencePieceProcessor()\n",
        "        self.tok.load(f'{model_prefix}.model')\n",
        "\n",
        "    def tokenizer(self, t:str) -> List[str]:\n",
        "        return self.tok.EncodeAsPieces(t)\n",
        "    \n",
        "class CustomTokenizer():\n",
        "    '''Wrapper for SentencePiece toeknizer to fit into Fast.ai V1'''\n",
        "    def __init__(self,tok_func:Callable,model_prefix:str, pre_rules:ListRules=None):\n",
        "        self.tok_func,self.model_prefix = tok_func,model_prefix\n",
        "        self.pre_rules  = ifnone(pre_rules,  defaults.text_pre_rules )\n",
        "        \n",
        "    def __repr__(self) -> str:\n",
        "        res = f'Tokenizer {self.tok_func.__name__} using `{self.model_prefix}` model with the following rules:\\n'\n",
        "        for rule in self.pre_rules: res += f' - {rule.__name__}\\n'\n",
        "        return res        \n",
        "\n",
        "    def process_text(self, t:str,tok:BaseTokenizer) -> List[str]:\n",
        "        \"Processe one text `t` with tokenizer `tok`.\"\n",
        "        for rule in self.pre_rules: t = rule(t)  \n",
        "        toks = tok.tokenizer(t)\n",
        "        #post rules?\n",
        "        return toks \n",
        "    \n",
        "    def _process_all_1(self,texts:Collection[str]) -> List[List[str]]:\n",
        "        'Process a list of `texts` in one process'\n",
        "        tok = self.tok_func(self.model_prefix)\n",
        "        return [self.process_text(t,tok) for t in texts]\n",
        "                                                                     \n",
        "    def process_all(self, texts:Collection[str]) -> List[List[str]]: \n",
        "        \"Process a list of `texts`.\"                                 \n",
        "        return self._process_all_1(texts)"
      ],
      "execution_count": 0,
      "outputs": []
    },
    {
      "cell_type": "code",
      "metadata": {
        "id": "dmAYJI8mBZwa",
        "colab_type": "code",
        "colab": {}
      },
      "source": [
        "#setup Vocab object for use in LM\n",
        "sp_vocab = Vocab(itos)"
      ],
      "execution_count": 0,
      "outputs": []
    },
    {
      "cell_type": "code",
      "metadata": {
        "id": "VPhGAOe8AMCV",
        "colab_type": "code",
        "colab": {}
      },
      "source": [
        "mycust_tok = CustomTokenizer(SPTokenizer,model_prefix)"
      ],
      "execution_count": 0,
      "outputs": []
    },
    {
      "cell_type": "code",
      "metadata": {
        "id": "Bdf_f-e1P9fk",
        "colab_type": "code",
        "colab": {}
      },
      "source": [
        "bs = 32\n",
        "bptt = 70"
      ],
      "execution_count": 0,
      "outputs": []
    },
    {
      "cell_type": "markdown",
      "metadata": {
        "id": "56qSVYLETsLJ",
        "colab_type": "text"
      },
      "source": [
        "### Wiki LM (ULM)"
      ]
    },
    {
      "cell_type": "code",
      "metadata": {
        "id": "1DtNJ75fQCBf",
        "colab_type": "code",
        "colab": {}
      },
      "source": [
        "data_lm = TextLMDataBunch.from_csv(wiki , 'wiki_lm.csv', bs=bs , bptt=bptt,tokenizer=mycust_tok, vocab=sp_vocab)\n",
        "data_lm.save('wiki_subword.pkl')"
      ],
      "execution_count": 0,
      "outputs": []
    },
    {
      "cell_type": "code",
      "metadata": {
        "id": "f6ImvEsQ7B9M",
        "colab_type": "code",
        "colab": {}
      },
      "source": [
        "data_lm = load_data(wiki, 'wiki_subword.pkl',bs=bs)"
      ],
      "execution_count": 0,
      "outputs": []
    },
    {
      "cell_type": "code",
      "metadata": {
        "id": "m_EZ6jdsE_bW",
        "colab_type": "code",
        "outputId": "d4ef3da7-0e5a-4330-d354-657bf702e04c",
        "colab": {
          "base_uri": "https://localhost:8080/",
          "height": 34
        }
      },
      "source": [
        "len(data_lm.train_dl.vocab.itos)"
      ],
      "execution_count": 0,
      "outputs": [
        {
          "output_type": "execute_result",
          "data": {
            "text/plain": [
              "30000"
            ]
          },
          "metadata": {
            "tags": []
          },
          "execution_count": 30
        }
      ]
    },
    {
      "cell_type": "code",
      "metadata": {
        "id": "7I6JBz7VBfUa",
        "colab_type": "code",
        "outputId": "7545f570-7117-4f91-ddcc-5f3aa0c54f72",
        "colab": {
          "base_uri": "https://localhost:8080/",
          "height": 328
        }
      },
      "source": [
        "data_lm.show_batch()"
      ],
      "execution_count": 0,
      "outputs": [
        {
          "output_type": "display_data",
          "data": {
            "text/html": [
              "<table border=\"1\" class=\"dataframe\">\n",
              "  <thead>\n",
              "    <tr style=\"text-align: right;\">\n",
              "      <th>idx</th>\n",
              "      <th>text</th>\n",
              "    </tr>\n",
              "  </thead>\n",
              "  <tbody>\n",
              "    <tr>\n",
              "      <td>0</td>\n",
              "      <td>▁অভয়ারণ্য ের ▁দুরত্ব ▁এক ▁কিলোমিটার । ▁১৯৭৮ ▁সালে ▁এই ▁অভয়ারণ্য ে ▁চিত্রা ▁হরিণ ▁এবং ▁মায়া ▁হরিণ ▁ছাড়া ▁হয় । ▁১৯৮৮ ▁সালের ▁হিসাবে ▁সেখানে ▁২৭ টি ▁চিত্রা ▁হরিণ , ▁৮টি ▁মায়া ▁হরিণ ▁এবং ▁১টি ▁কৃষ্ণ সার ▁ছিলো । ▁xx bo s ▁আবদুর ▁রো উ ফ ▁সরকার ▁( জন্ম : ▁১৩ ▁ফেব্রুয়ারি ▁১৯৪৬ , ▁মৃত্যু : ▁২৪ ▁এপ্রিল ▁২০১১ ) ▁একজন ▁বাংলাদেশের ▁অন্যতম ▁শ্রেষ্ঠ ▁প্রচ্ছদ শিল্পী ▁ছিলেন । ▁পেশায় ▁তিনি ▁জাতীয় ▁গ্রন্থ</td>\n",
              "    </tr>\n",
              "    <tr>\n",
              "      <td>1</td>\n",
              "      <td>▁জয় ▁করতে ▁সক্ষম ▁হন । ▁দামেস্ক ের ▁পতনের ▁সংবাদ ▁পাওয়ার ▁পর ▁হেরাক্লিয়াস ▁এম ে সা ▁থেকে ▁এন্টিওক ের ▁উদ্দেশ্যে ▁যাত্রা ▁করেন । ▁বার্ষিক ▁করে র ▁বিনিময়ে ▁নাগরিকদের ▁শান্তি তে ▁বসবাসের ▁সুযোগ ▁দেওয়া ▁হয় । ▁দূরে ▁চলে ▁যাওয়ার ▁জন্য ▁বাইজেন্টাইন ▁সেনাবাহিনীকে ▁দেওয়া ▁হয় ▁তিন ▁দিনের ▁সুযোগ । ▁এই ▁সময়সীমা ▁শেষ ▁হওয়ার ▁পর ▁খালিদ ের ▁নেতৃত্বে ▁দামেস্ক ের ▁১৯ ০ ▁মাইল ▁উত্তরে ▁বাইজেন্টাইনদের ▁সাথে ▁মার জ ▁আল ▁দিবা জের ▁যুদ্ধ ▁সংঘটিত ▁হয়</td>\n",
              "    </tr>\n",
              "    <tr>\n",
              "      <td>2</td>\n",
              "      <td>▁সম্যক ▁বা ▁ চেতন গুরু ▁হিসেবে ▁অভিহিত ▁করেন , ▁হযরত ▁বাবা জান সহ ▁তাজ উদ্দিন ▁বাবা , ▁নারায়ণ ▁মহারাজ , ▁শির ডি র ▁সাঁ ই ▁বাবা ▁এবং ▁উপ া স্ নি ▁মহারাজ ▁উল্লেখযোগ্য । P ur dom ▁(19 64 ) ▁p . ▁27 0 ▁উপ া স্ নি ▁মহারাজ , ▁তার ▁ভাষ্য ▁মতে , ▁আ ধ্যা ত্ব িক ▁অনুভব কে ▁স্বাভাবিক ▁জীবনের ▁সাথে ▁একত্রিত ▁করার ▁ক্ষেত্রে ▁তাকে ▁সাহায্য ▁করেন ▁যা</td>\n",
              "    </tr>\n",
              "    <tr>\n",
              "      <td>3</td>\n",
              "      <td>▁ফরাসী ▁উদ্ভিদ বিদ ▁এবং ▁ভূ তত্ত্ববিদ ▁পি য়ের ▁বই ট ার্ড ের ▁' প্যারিস ▁অ্যা ভো ঁ ▁লে সো ম্ব ' ▁রচনা টিতে ▁কাহিনীর ▁মূল ▁চরিত্রের ▁প্রাগৈতিহাসিক ▁প্যারিস ▁নগর ▁ভ্রমণের ▁এক ▁সুন্দর ▁বর্ণনা ▁ফুটে ▁উঠেছে । ▁এ ▁ছাড়াও ▁চার্লস ▁ ডিকেন্স ের ▁' আ ▁ক্রিসমাস ▁ক্যারল ' , ' নিউ ▁ মান্ থলি ▁ম্যাগাজিন ' ▁এ ▁প্রকাশিত ▁স্বনামধন্য ▁মার্কিন ▁লেখক ▁এডওয়ার্ড ▁হেল ের ▁' হ্যান্ড স ▁অফ ' ▁এবং ▁আরও</td>\n",
              "    </tr>\n",
              "    <tr>\n",
              "      <td>4</td>\n",
              "      <td>বদ্ধ ▁হয়ে ▁আগ্রা য় ▁প্রেরিত ▁হন । ▁পথে ▁বারাণসী তে ▁মত ্যু । ▁বয়স ▁৫০ ▁বছর । ▁* ▁করিম পুর : ▁যশোর ের ▁রাজা ▁প্রতাপাদিত্য ের ▁দেওয়ান ▁বাড়ির ▁দুর্গা পু জো কে ▁ঘিরে ▁আজও ▁মে তে ▁ওঠেন ▁এলাকার ▁মানুষ । ▁১৫ ৭৬ ▁সাল , ▁ দিল্লির ▁ ম সন দে ▁মোঘল ▁সম্রাট ▁আকবর । ▁রাজ্য ▁বিস্তারের ▁জন্য ▁তাঁর ▁মোঘল ▁সেনারা ▁দিকে ▁দিকে ▁ছুটে ▁বেড়া চ্ছে । ▁ছোট ▁ছোট ▁রাজারা ▁বশ্যতা</td>\n",
              "    </tr>\n",
              "  </tbody>\n",
              "</table>"
            ],
            "text/plain": [
              "<IPython.core.display.HTML object>"
            ]
          },
          "metadata": {
            "tags": []
          }
        }
      ]
    },
    {
      "cell_type": "code",
      "metadata": {
        "id": "LKtOIOHz69hn",
        "colab_type": "code",
        "colab": {}
      },
      "source": [
        "learn = language_model_learner(data_lm, AWD_LSTM, pretrained=False, drop_mult=0.5)"
      ],
      "execution_count": 0,
      "outputs": []
    },
    {
      "cell_type": "code",
      "metadata": {
        "id": "XTxoBCAiEX57",
        "colab_type": "code",
        "outputId": "82fff5d0-2f2b-41c7-aac9-a53c8074b18f",
        "colab": {
          "base_uri": "https://localhost:8080/",
          "height": 300
        }
      },
      "source": [
        "learn.lr_find();\n",
        "learn.recorder.plot();"
      ],
      "execution_count": 0,
      "outputs": [
        {
          "output_type": "display_data",
          "data": {
            "text/html": [
              ""
            ],
            "text/plain": [
              "<IPython.core.display.HTML object>"
            ]
          },
          "metadata": {
            "tags": []
          }
        },
        {
          "output_type": "stream",
          "text": [
            "LR Finder is complete, type {learner_name}.recorder.plot() to see the graph.\n"
          ],
          "name": "stdout"
        },
        {
          "output_type": "display_data",
          "data": {
            "image/png": "[encoded data removed]",
            "text/plain": [
              "<Figure size 432x288 with 1 Axes>"
            ]
          },
          "metadata": {
            "tags": []
          }
        }
      ]
    },
    {
      "cell_type": "code",
      "metadata": {
        "id": "SOm8FlbtZJ_A",
        "colab_type": "code",
        "outputId": "fc6a937c-4832-4f88-f2bf-915b4f4ae14f",
        "colab": {
          "base_uri": "https://localhost:8080/",
          "height": 283
        }
      },
      "source": [
        "learn.recorder.plot(skip_end=10)"
      ],
      "execution_count": 0,
      "outputs": [
        {
          "output_type": "display_data",
          "data": {
            "image/png": "[encoded data removed]",
            "text/plain": [
              "<Figure size 432x288 with 1 Axes>"
            ]
          },
          "metadata": {
            "tags": []
          }
        }
      ]
    },
    {
      "cell_type": "markdown",
      "metadata": {
        "id": "LPaU82IuMJRa",
        "colab_type": "text"
      },
      "source": [
        "#### epochs"
      ]
    },
    {
      "cell_type": "code",
      "metadata": {
        "id": "umsoRNxtTMpO",
        "colab_type": "code",
        "colab": {}
      },
      "source": [
        "learn.unfreeze()\n",
        "learn.load('wiki_subword_lm');"
      ],
      "execution_count": 0,
      "outputs": []
    },
    {
      "cell_type": "code",
      "metadata": {
        "id": "1vQy8XpsGtBR",
        "colab_type": "code",
        "outputId": "0e0bd1fd-adb1-4196-9d9b-8723c157ed34",
        "colab": {
          "base_uri": "https://localhost:8080/",
          "height": 332
        }
      },
      "source": [
        "learn.unfreeze()\n",
        "learn.fit_one_cycle(1, 1e-3)\n",
        "learn.save('wiki_subword_lm') #1"
      ],
      "execution_count": 0,
      "outputs": [
        {
          "output_type": "display_data",
          "data": {
            "text/html": [
              "<table border=\"1\" class=\"dataframe\">\n",
              "  <thead>\n",
              "    <tr style=\"text-align: left;\">\n",
              "      <th>epoch</th>\n",
              "      <th>train_loss</th>\n",
              "      <th>valid_loss</th>\n",
              "      <th>accuracy</th>\n",
              "      <th>time</th>\n",
              "    </tr>\n",
              "  </thead>\n",
              "  <tbody>\n",
              "    <tr>\n",
              "      <td>0</td>\n",
              "      <td>5.422485</td>\n",
              "      <td>5.266928</td>\n",
              "      <td>0.226813</td>\n",
              "      <td>36:55</td>\n",
              "    </tr>\n",
              "  </tbody>\n",
              "</table>"
            ],
            "text/plain": [
              "<IPython.core.display.HTML object>"
            ]
          },
          "metadata": {
            "tags": []
          }
        },
        {
          "output_type": "display_data",
          "data": {
            "image/png": "[encoded data removed]",
            "text/plain": [
              "<Figure size 432x288 with 1 Axes>"
            ]
          },
          "metadata": {
            "tags": []
          }
        }
      ]
    },
    {
      "cell_type": "code",
      "metadata": {
        "id": "w4tkvx32p8bc",
        "colab_type": "code",
        "outputId": "1b8694d8-00c0-42d7-8700-7a41941ee7a4",
        "colab": {
          "base_uri": "https://localhost:8080/",
          "height": 332
        }
      },
      "source": [
        "learn.fit_one_cycle(1, 1e-3)\n",
        "learn.save('wiki_subword_lm') #2"
      ],
      "execution_count": 0,
      "outputs": [
        {
          "output_type": "display_data",
          "data": {
            "text/html": [
              "<table border=\"1\" class=\"dataframe\">\n",
              "  <thead>\n",
              "    <tr style=\"text-align: left;\">\n",
              "      <th>epoch</th>\n",
              "      <th>train_loss</th>\n",
              "      <th>valid_loss</th>\n",
              "      <th>accuracy</th>\n",
              "      <th>time</th>\n",
              "    </tr>\n",
              "  </thead>\n",
              "  <tbody>\n",
              "    <tr>\n",
              "      <td>0</td>\n",
              "      <td>5.009469</td>\n",
              "      <td>4.958648</td>\n",
              "      <td>0.247136</td>\n",
              "      <td>36:55</td>\n",
              "    </tr>\n",
              "  </tbody>\n",
              "</table>"
            ],
            "text/plain": [
              "<IPython.core.display.HTML object>"
            ]
          },
          "metadata": {
            "tags": []
          }
        },
        {
          "output_type": "display_data",
          "data": {
            "image/png": "[encoded data removed]",
            "text/plain": [
              "<Figure size 432x288 with 1 Axes>"
            ]
          },
          "metadata": {
            "tags": []
          }
        }
      ]
    },
    {
      "cell_type": "code",
      "metadata": {
        "id": "BSe8nHk1p8Yb",
        "colab_type": "code",
        "outputId": "1d03ef7c-df72-40a8-d1e4-2f92cc17d31f",
        "colab": {
          "base_uri": "https://localhost:8080/",
          "height": 332
        }
      },
      "source": [
        "learn.fit_one_cycle(1, 1e-3)\n",
        "learn.save('wiki_subword_lm') #3"
      ],
      "execution_count": 0,
      "outputs": [
        {
          "output_type": "display_data",
          "data": {
            "text/html": [
              "<table border=\"1\" class=\"dataframe\">\n",
              "  <thead>\n",
              "    <tr style=\"text-align: left;\">\n",
              "      <th>epoch</th>\n",
              "      <th>train_loss</th>\n",
              "      <th>valid_loss</th>\n",
              "      <th>accuracy</th>\n",
              "      <th>time</th>\n",
              "    </tr>\n",
              "  </thead>\n",
              "  <tbody>\n",
              "    <tr>\n",
              "      <td>0</td>\n",
              "      <td>4.797198</td>\n",
              "      <td>4.808185</td>\n",
              "      <td>0.258401</td>\n",
              "      <td>36:54</td>\n",
              "    </tr>\n",
              "  </tbody>\n",
              "</table>"
            ],
            "text/plain": [
              "<IPython.core.display.HTML object>"
            ]
          },
          "metadata": {
            "tags": []
          }
        },
        {
          "output_type": "display_data",
          "data": {
            "image/png": "[encoded data removed]",
            "text/plain": [
              "<Figure size 432x288 with 1 Axes>"
            ]
          },
          "metadata": {
            "tags": []
          }
        }
      ]
    },
    {
      "cell_type": "code",
      "metadata": {
        "id": "nyTk_NOXp8Vz",
        "colab_type": "code",
        "outputId": "a1d13e4b-468f-4309-cb66-073198cd0459",
        "colab": {
          "base_uri": "https://localhost:8080/",
          "height": 332
        }
      },
      "source": [
        "learn.fit_one_cycle(1, 1e-3)\n",
        "learn.save('wiki_subword_lm') #4"
      ],
      "execution_count": 0,
      "outputs": [
        {
          "output_type": "display_data",
          "data": {
            "text/html": [
              "<table border=\"1\" class=\"dataframe\">\n",
              "  <thead>\n",
              "    <tr style=\"text-align: left;\">\n",
              "      <th>epoch</th>\n",
              "      <th>train_loss</th>\n",
              "      <th>valid_loss</th>\n",
              "      <th>accuracy</th>\n",
              "      <th>time</th>\n",
              "    </tr>\n",
              "  </thead>\n",
              "  <tbody>\n",
              "    <tr>\n",
              "      <td>0</td>\n",
              "      <td>4.718044</td>\n",
              "      <td>4.713139</td>\n",
              "      <td>0.266196</td>\n",
              "      <td>36:54</td>\n",
              "    </tr>\n",
              "  </tbody>\n",
              "</table>"
            ],
            "text/plain": [
              "<IPython.core.display.HTML object>"
            ]
          },
          "metadata": {
            "tags": []
          }
        },
        {
          "output_type": "display_data",
          "data": {
            "image/png": "[encoded data removed]",
            "text/plain": [
              "<Figure size 432x288 with 1 Axes>"
            ]
          },
          "metadata": {
            "tags": []
          }
        }
      ]
    },
    {
      "cell_type": "code",
      "metadata": {
        "id": "S6wuGNfup8TV",
        "colab_type": "code",
        "outputId": "4293f2a6-dbae-431b-8732-0abcc547ca55",
        "colab": {
          "base_uri": "https://localhost:8080/",
          "height": 332
        }
      },
      "source": [
        "learn.fit_one_cycle(1, 1e-3)\n",
        "learn.save('wiki_subword_lm') #5"
      ],
      "execution_count": 0,
      "outputs": [
        {
          "output_type": "display_data",
          "data": {
            "text/html": [
              "<table border=\"1\" class=\"dataframe\">\n",
              "  <thead>\n",
              "    <tr style=\"text-align: left;\">\n",
              "      <th>epoch</th>\n",
              "      <th>train_loss</th>\n",
              "      <th>valid_loss</th>\n",
              "      <th>accuracy</th>\n",
              "      <th>time</th>\n",
              "    </tr>\n",
              "  </thead>\n",
              "  <tbody>\n",
              "    <tr>\n",
              "      <td>0</td>\n",
              "      <td>4.755295</td>\n",
              "      <td>4.646197</td>\n",
              "      <td>0.272124</td>\n",
              "      <td>36:57</td>\n",
              "    </tr>\n",
              "  </tbody>\n",
              "</table>"
            ],
            "text/plain": [
              "<IPython.core.display.HTML object>"
            ]
          },
          "metadata": {
            "tags": []
          }
        },
        {
          "output_type": "display_data",
          "data": {
            "image/png": "[encoded data removed]",
            "text/plain": [
              "<Figure size 432x288 with 1 Axes>"
            ]
          },
          "metadata": {
            "tags": []
          }
        }
      ]
    },
    {
      "cell_type": "code",
      "metadata": {
        "id": "oyMGwlvEp8Qv",
        "colab_type": "code",
        "outputId": "696a24ce-0c63-49a5-f237-afb172075a91",
        "colab": {
          "base_uri": "https://localhost:8080/",
          "height": 332
        }
      },
      "source": [
        "learn.fit_one_cycle(1, 1e-3)\n",
        "learn.save('wiki_subword_lm') #6"
      ],
      "execution_count": 0,
      "outputs": [
        {
          "output_type": "display_data",
          "data": {
            "text/html": [
              "<table border=\"1\" class=\"dataframe\">\n",
              "  <thead>\n",
              "    <tr style=\"text-align: left;\">\n",
              "      <th>epoch</th>\n",
              "      <th>train_loss</th>\n",
              "      <th>valid_loss</th>\n",
              "      <th>accuracy</th>\n",
              "      <th>time</th>\n",
              "    </tr>\n",
              "  </thead>\n",
              "  <tbody>\n",
              "    <tr>\n",
              "      <td>0</td>\n",
              "      <td>4.573012</td>\n",
              "      <td>4.594108</td>\n",
              "      <td>0.276887</td>\n",
              "      <td>36:56</td>\n",
              "    </tr>\n",
              "  </tbody>\n",
              "</table>"
            ],
            "text/plain": [
              "<IPython.core.display.HTML object>"
            ]
          },
          "metadata": {
            "tags": []
          }
        },
        {
          "output_type": "display_data",
          "data": {
            "image/png": "[encoded data removed]",
            "text/plain": [
              "<Figure size 432x288 with 1 Axes>"
            ]
          },
          "metadata": {
            "tags": []
          }
        }
      ]
    },
    {
      "cell_type": "code",
      "metadata": {
        "id": "yfHifuwIp8OS",
        "colab_type": "code",
        "outputId": "a4a4b598-aacd-4e36-a809-e51d81d8ce53",
        "colab": {
          "base_uri": "https://localhost:8080/",
          "height": 333
        }
      },
      "source": [
        "learn.load('wiki_subword_lm')\n",
        "learn.fit_one_cycle(1, 1e-3)\n",
        "learn.save('wiki_subword_lm') #7"
      ],
      "execution_count": 0,
      "outputs": [
        {
          "output_type": "display_data",
          "data": {
            "text/html": [
              "<table border=\"1\" class=\"dataframe\">\n",
              "  <thead>\n",
              "    <tr style=\"text-align: left;\">\n",
              "      <th>epoch</th>\n",
              "      <th>train_loss</th>\n",
              "      <th>valid_loss</th>\n",
              "      <th>accuracy</th>\n",
              "      <th>time</th>\n",
              "    </tr>\n",
              "  </thead>\n",
              "  <tbody>\n",
              "    <tr>\n",
              "      <td>0</td>\n",
              "      <td>4.372497</td>\n",
              "      <td>4.491876</td>\n",
              "      <td>0.286046</td>\n",
              "      <td>1:12:29</td>\n",
              "    </tr>\n",
              "  </tbody>\n",
              "</table>"
            ],
            "text/plain": [
              "<IPython.core.display.HTML object>"
            ]
          },
          "metadata": {
            "tags": []
          }
        },
        {
          "output_type": "display_data",
          "data": {
            "image/png": "[encoded data removed]",
            "text/plain": [
              "<Figure size 432x288 with 1 Axes>"
            ]
          },
          "metadata": {
            "tags": []
          }
        }
      ]
    },
    {
      "cell_type": "code",
      "metadata": {
        "id": "P4ISwcEEp8LQ",
        "colab_type": "code",
        "outputId": "0c50d965-59c6-4d74-8c98-777e184b7c03",
        "colab": {
          "base_uri": "https://localhost:8080/",
          "height": 333
        }
      },
      "source": [
        "learn.fit_one_cycle(1, 1e-3)\n",
        "learn.save('wiki_subword_lm') #8"
      ],
      "execution_count": 0,
      "outputs": [
        {
          "output_type": "display_data",
          "data": {
            "text/html": [
              "<table border=\"1\" class=\"dataframe\">\n",
              "  <thead>\n",
              "    <tr style=\"text-align: left;\">\n",
              "      <th>epoch</th>\n",
              "      <th>train_loss</th>\n",
              "      <th>valid_loss</th>\n",
              "      <th>accuracy</th>\n",
              "      <th>time</th>\n",
              "    </tr>\n",
              "  </thead>\n",
              "  <tbody>\n",
              "    <tr>\n",
              "      <td>0</td>\n",
              "      <td>4.412295</td>\n",
              "      <td>4.469542</td>\n",
              "      <td>0.288070</td>\n",
              "      <td>1:12:30</td>\n",
              "    </tr>\n",
              "  </tbody>\n",
              "</table>"
            ],
            "text/plain": [
              "<IPython.core.display.HTML object>"
            ]
          },
          "metadata": {
            "tags": []
          }
        },
        {
          "output_type": "display_data",
          "data": {
            "image/png": "[encoded data removed]",
            "text/plain": [
              "<Figure size 432x288 with 1 Axes>"
            ]
          },
          "metadata": {
            "tags": []
          }
        }
      ]
    },
    {
      "cell_type": "code",
      "metadata": {
        "id": "lkdJUEmVp_8e",
        "colab_type": "code",
        "outputId": "e13e66ae-8f2c-4ddf-c20f-e7ceb61cd8a1",
        "colab": {
          "base_uri": "https://localhost:8080/",
          "height": 332
        }
      },
      "source": [
        "learn.fit_one_cycle(1, 1e-3)\n",
        "learn.save('wiki_subword_lm') #9"
      ],
      "execution_count": 0,
      "outputs": [
        {
          "output_type": "display_data",
          "data": {
            "text/html": [
              "<table border=\"1\" class=\"dataframe\">\n",
              "  <thead>\n",
              "    <tr style=\"text-align: left;\">\n",
              "      <th>epoch</th>\n",
              "      <th>train_loss</th>\n",
              "      <th>valid_loss</th>\n",
              "      <th>accuracy</th>\n",
              "      <th>time</th>\n",
              "    </tr>\n",
              "  </thead>\n",
              "  <tbody>\n",
              "    <tr>\n",
              "      <td>0</td>\n",
              "      <td>4.345984</td>\n",
              "      <td>4.453971</td>\n",
              "      <td>0.289828</td>\n",
              "      <td>1:13:13</td>\n",
              "    </tr>\n",
              "  </tbody>\n",
              "</table>"
            ],
            "text/plain": [
              "<IPython.core.display.HTML object>"
            ]
          },
          "metadata": {
            "tags": []
          }
        },
        {
          "output_type": "display_data",
          "data": {
            "image/png": "[encoded data removed]",
            "text/plain": [
              "<Figure size 432x288 with 1 Axes>"
            ]
          },
          "metadata": {
            "tags": []
          }
        }
      ]
    },
    {
      "cell_type": "code",
      "metadata": {
        "id": "wRhf4-ghp_5M",
        "colab_type": "code",
        "outputId": "7bd36116-6a99-480b-abc5-e37cae9364f4",
        "colab": {
          "base_uri": "https://localhost:8080/",
          "height": 332
        }
      },
      "source": [
        "learn.fit_one_cycle(1, 1e-3)\n",
        "learn.save('wiki_subword_lm') #10"
      ],
      "execution_count": 0,
      "outputs": [
        {
          "output_type": "display_data",
          "data": {
            "text/html": [
              "<table border=\"1\" class=\"dataframe\">\n",
              "  <thead>\n",
              "    <tr style=\"text-align: left;\">\n",
              "      <th>epoch</th>\n",
              "      <th>train_loss</th>\n",
              "      <th>valid_loss</th>\n",
              "      <th>accuracy</th>\n",
              "      <th>time</th>\n",
              "    </tr>\n",
              "  </thead>\n",
              "  <tbody>\n",
              "    <tr>\n",
              "      <td>0</td>\n",
              "      <td>4.344831</td>\n",
              "      <td>4.437490</td>\n",
              "      <td>0.291395</td>\n",
              "      <td>1:13:14</td>\n",
              "    </tr>\n",
              "  </tbody>\n",
              "</table>"
            ],
            "text/plain": [
              "<IPython.core.display.HTML object>"
            ]
          },
          "metadata": {
            "tags": []
          }
        },
        {
          "output_type": "display_data",
          "data": {
            "image/png": "[encoded data removed]",
            "text/plain": [
              "<Figure size 432x288 with 1 Axes>"
            ]
          },
          "metadata": {
            "tags": []
          }
        }
      ]
    },
    {
      "cell_type": "code",
      "metadata": {
        "id": "zJvD9m89IcJQ",
        "colab_type": "code",
        "outputId": "a8fbe46d-9c97-450e-e76b-cd8e52f08a7b",
        "colab": {
          "base_uri": "https://localhost:8080/",
          "height": 80
        }
      },
      "source": [
        "learn.fit_one_cycle(1, 1e-3)\n",
        "learn.save('wiki_subword_lm_11') #11"
      ],
      "execution_count": 0,
      "outputs": [
        {
          "output_type": "display_data",
          "data": {
            "text/html": [
              "<table border=\"1\" class=\"dataframe\">\n",
              "  <thead>\n",
              "    <tr style=\"text-align: left;\">\n",
              "      <th>epoch</th>\n",
              "      <th>train_loss</th>\n",
              "      <th>valid_loss</th>\n",
              "      <th>accuracy</th>\n",
              "      <th>time</th>\n",
              "    </tr>\n",
              "  </thead>\n",
              "  <tbody>\n",
              "    <tr>\n",
              "      <td>0</td>\n",
              "      <td>4.360184</td>\n",
              "      <td>4.421721</td>\n",
              "      <td>0.292712</td>\n",
              "      <td>37:31</td>\n",
              "    </tr>\n",
              "  </tbody>\n",
              "</table>"
            ],
            "text/plain": [
              "<IPython.core.display.HTML object>"
            ]
          },
          "metadata": {
            "tags": []
          }
        }
      ]
    },
    {
      "cell_type": "code",
      "metadata": {
        "id": "eFUhCJJgIcEe",
        "colab_type": "code",
        "outputId": "7299c0b5-ce24-4fcb-d054-c379856d5edf",
        "colab": {
          "base_uri": "https://localhost:8080/",
          "height": 80
        }
      },
      "source": [
        "learn.fit_one_cycle(1, 1e-3)\n",
        "learn.save('wiki_subword_lm_12') #12"
      ],
      "execution_count": 0,
      "outputs": [
        {
          "output_type": "display_data",
          "data": {
            "text/html": [
              "<table border=\"1\" class=\"dataframe\">\n",
              "  <thead>\n",
              "    <tr style=\"text-align: left;\">\n",
              "      <th>epoch</th>\n",
              "      <th>train_loss</th>\n",
              "      <th>valid_loss</th>\n",
              "      <th>accuracy</th>\n",
              "      <th>time</th>\n",
              "    </tr>\n",
              "  </thead>\n",
              "  <tbody>\n",
              "    <tr>\n",
              "      <td>0</td>\n",
              "      <td>4.351522</td>\n",
              "      <td>4.409990</td>\n",
              "      <td>0.293829</td>\n",
              "      <td>37:39</td>\n",
              "    </tr>\n",
              "  </tbody>\n",
              "</table>"
            ],
            "text/plain": [
              "<IPython.core.display.HTML object>"
            ]
          },
          "metadata": {
            "tags": []
          }
        }
      ]
    },
    {
      "cell_type": "code",
      "metadata": {
        "id": "vuxuBqj2Ib79",
        "colab_type": "code",
        "outputId": "0535ed8b-9df9-4e33-876e-6e54895994fe",
        "colab": {
          "base_uri": "https://localhost:8080/",
          "height": 80
        }
      },
      "source": [
        "learn.fit_one_cycle(1, 1e-3)\n",
        "learn.save('wiki_subword_lm_13') #13"
      ],
      "execution_count": 0,
      "outputs": [
        {
          "output_type": "display_data",
          "data": {
            "text/html": [
              "<table border=\"1\" class=\"dataframe\">\n",
              "  <thead>\n",
              "    <tr style=\"text-align: left;\">\n",
              "      <th>epoch</th>\n",
              "      <th>train_loss</th>\n",
              "      <th>valid_loss</th>\n",
              "      <th>accuracy</th>\n",
              "      <th>time</th>\n",
              "    </tr>\n",
              "  </thead>\n",
              "  <tbody>\n",
              "    <tr>\n",
              "      <td>0</td>\n",
              "      <td>4.285140</td>\n",
              "      <td>4.399959</td>\n",
              "      <td>0.294825</td>\n",
              "      <td>37:34</td>\n",
              "    </tr>\n",
              "  </tbody>\n",
              "</table>"
            ],
            "text/plain": [
              "<IPython.core.display.HTML object>"
            ]
          },
          "metadata": {
            "tags": []
          }
        }
      ]
    },
    {
      "cell_type": "code",
      "metadata": {
        "id": "gRVaiJGmIb1n",
        "colab_type": "code",
        "outputId": "5215aeae-61a3-43a5-d741-b7fb9df600b5",
        "colab": {
          "base_uri": "https://localhost:8080/",
          "height": 80
        }
      },
      "source": [
        "learn.fit_one_cycle(1, 1e-3)\n",
        "learn.save('wiki_subword_lm_14') #14"
      ],
      "execution_count": 0,
      "outputs": [
        {
          "output_type": "display_data",
          "data": {
            "text/html": [
              "<table border=\"1\" class=\"dataframe\">\n",
              "  <thead>\n",
              "    <tr style=\"text-align: left;\">\n",
              "      <th>epoch</th>\n",
              "      <th>train_loss</th>\n",
              "      <th>valid_loss</th>\n",
              "      <th>accuracy</th>\n",
              "      <th>time</th>\n",
              "    </tr>\n",
              "  </thead>\n",
              "  <tbody>\n",
              "    <tr>\n",
              "      <td>0</td>\n",
              "      <td>4.371293</td>\n",
              "      <td>4.390086</td>\n",
              "      <td>0.295618</td>\n",
              "      <td>37:41</td>\n",
              "    </tr>\n",
              "  </tbody>\n",
              "</table>"
            ],
            "text/plain": [
              "<IPython.core.display.HTML object>"
            ]
          },
          "metadata": {
            "tags": []
          }
        }
      ]
    },
    {
      "cell_type": "code",
      "metadata": {
        "id": "mbS39-6wIbx1",
        "colab_type": "code",
        "outputId": "11f4d6bb-e3d2-49c9-acab-25b82106dccd",
        "colab": {
          "base_uri": "https://localhost:8080/",
          "height": 80
        }
      },
      "source": [
        "learn.fit_one_cycle(1, 1e-3)\n",
        "learn.save('wiki_subword_lm_15') #15"
      ],
      "execution_count": 0,
      "outputs": [
        {
          "output_type": "display_data",
          "data": {
            "text/html": [
              "<table border=\"1\" class=\"dataframe\">\n",
              "  <thead>\n",
              "    <tr style=\"text-align: left;\">\n",
              "      <th>epoch</th>\n",
              "      <th>train_loss</th>\n",
              "      <th>valid_loss</th>\n",
              "      <th>accuracy</th>\n",
              "      <th>time</th>\n",
              "    </tr>\n",
              "  </thead>\n",
              "  <tbody>\n",
              "    <tr>\n",
              "      <td>0</td>\n",
              "      <td>4.279755</td>\n",
              "      <td>4.381203</td>\n",
              "      <td>0.296514</td>\n",
              "      <td>37:35</td>\n",
              "    </tr>\n",
              "  </tbody>\n",
              "</table>"
            ],
            "text/plain": [
              "<IPython.core.display.HTML object>"
            ]
          },
          "metadata": {
            "tags": []
          }
        }
      ]
    },
    {
      "cell_type": "code",
      "metadata": {
        "id": "mTjsdBPJIbs-",
        "colab_type": "code",
        "outputId": "133cadce-3538-448c-e6ea-95dd8edc96ed",
        "colab": {
          "base_uri": "https://localhost:8080/",
          "height": 80
        }
      },
      "source": [
        "learn.fit_one_cycle(1, 1e-3)\n",
        "learn.save('wiki_subword_lm_16') #16"
      ],
      "execution_count": 0,
      "outputs": [
        {
          "output_type": "display_data",
          "data": {
            "text/html": [
              "<table border=\"1\" class=\"dataframe\">\n",
              "  <thead>\n",
              "    <tr style=\"text-align: left;\">\n",
              "      <th>epoch</th>\n",
              "      <th>train_loss</th>\n",
              "      <th>valid_loss</th>\n",
              "      <th>accuracy</th>\n",
              "      <th>time</th>\n",
              "    </tr>\n",
              "  </thead>\n",
              "  <tbody>\n",
              "    <tr>\n",
              "      <td>0</td>\n",
              "      <td>4.349733</td>\n",
              "      <td>4.373093</td>\n",
              "      <td>0.297426</td>\n",
              "      <td>37:40</td>\n",
              "    </tr>\n",
              "  </tbody>\n",
              "</table>"
            ],
            "text/plain": [
              "<IPython.core.display.HTML object>"
            ]
          },
          "metadata": {
            "tags": []
          }
        }
      ]
    },
    {
      "cell_type": "code",
      "metadata": {
        "id": "JMiKzWA2Ibp2",
        "colab_type": "code",
        "outputId": "e227795f-0d52-45c8-e90d-2148186247a8",
        "colab": {
          "base_uri": "https://localhost:8080/",
          "height": 80
        }
      },
      "source": [
        "learn.fit_one_cycle(1, 1e-3)\n",
        "learn.save('wiki_subword_lm_17') #17"
      ],
      "execution_count": 0,
      "outputs": [
        {
          "output_type": "display_data",
          "data": {
            "text/html": [
              "<table border=\"1\" class=\"dataframe\">\n",
              "  <thead>\n",
              "    <tr style=\"text-align: left;\">\n",
              "      <th>epoch</th>\n",
              "      <th>train_loss</th>\n",
              "      <th>valid_loss</th>\n",
              "      <th>accuracy</th>\n",
              "      <th>time</th>\n",
              "    </tr>\n",
              "  </thead>\n",
              "  <tbody>\n",
              "    <tr>\n",
              "      <td>0</td>\n",
              "      <td>4.255338</td>\n",
              "      <td>4.364986</td>\n",
              "      <td>0.298260</td>\n",
              "      <td>37:34</td>\n",
              "    </tr>\n",
              "  </tbody>\n",
              "</table>"
            ],
            "text/plain": [
              "<IPython.core.display.HTML object>"
            ]
          },
          "metadata": {
            "tags": []
          }
        }
      ]
    },
    {
      "cell_type": "code",
      "metadata": {
        "id": "d5ucVwqnIbl2",
        "colab_type": "code",
        "outputId": "9019cbe3-1e5a-4caf-b8f2-f290427f2a22",
        "colab": {
          "base_uri": "https://localhost:8080/",
          "height": 80
        }
      },
      "source": [
        "learn.fit_one_cycle(1, 1e-3)\n",
        "learn.save('wiki_subword_lm_18') #18"
      ],
      "execution_count": 0,
      "outputs": [
        {
          "output_type": "display_data",
          "data": {
            "text/html": [
              "<table border=\"1\" class=\"dataframe\">\n",
              "  <thead>\n",
              "    <tr style=\"text-align: left;\">\n",
              "      <th>epoch</th>\n",
              "      <th>train_loss</th>\n",
              "      <th>valid_loss</th>\n",
              "      <th>accuracy</th>\n",
              "      <th>time</th>\n",
              "    </tr>\n",
              "  </thead>\n",
              "  <tbody>\n",
              "    <tr>\n",
              "      <td>0</td>\n",
              "      <td>4.304943</td>\n",
              "      <td>4.359513</td>\n",
              "      <td>0.298878</td>\n",
              "      <td>37:31</td>\n",
              "    </tr>\n",
              "  </tbody>\n",
              "</table>"
            ],
            "text/plain": [
              "<IPython.core.display.HTML object>"
            ]
          },
          "metadata": {
            "tags": []
          }
        }
      ]
    },
    {
      "cell_type": "code",
      "metadata": {
        "id": "0RcX6aksEE4i",
        "colab_type": "code",
        "outputId": "f7f70bc7-2623-4ec1-be88-4a9dea353f0e",
        "colab": {
          "base_uri": "https://localhost:8080/",
          "height": 80
        }
      },
      "source": [
        "learn.fit_one_cycle(1, 1e-3)\n",
        "learn.save('wiki_subword_lm_19') #19"
      ],
      "execution_count": 0,
      "outputs": [
        {
          "output_type": "display_data",
          "data": {
            "text/html": [
              "<table border=\"1\" class=\"dataframe\">\n",
              "  <thead>\n",
              "    <tr style=\"text-align: left;\">\n",
              "      <th>epoch</th>\n",
              "      <th>train_loss</th>\n",
              "      <th>valid_loss</th>\n",
              "      <th>accuracy</th>\n",
              "      <th>time</th>\n",
              "    </tr>\n",
              "  </thead>\n",
              "  <tbody>\n",
              "    <tr>\n",
              "      <td>0</td>\n",
              "      <td>4.240803</td>\n",
              "      <td>4.353324</td>\n",
              "      <td>0.299451</td>\n",
              "      <td>37:31</td>\n",
              "    </tr>\n",
              "  </tbody>\n",
              "</table>"
            ],
            "text/plain": [
              "<IPython.core.display.HTML object>"
            ]
          },
          "metadata": {
            "tags": []
          }
        }
      ]
    },
    {
      "cell_type": "code",
      "metadata": {
        "id": "8VvEqJ0HEEwc",
        "colab_type": "code",
        "outputId": "89bfb93f-ae79-41d4-95ea-e23ab1a4f233",
        "colab": {
          "base_uri": "https://localhost:8080/",
          "height": 80
        }
      },
      "source": [
        "learn.fit_one_cycle(1, 1e-3)\n",
        "learn.save('wiki_subword_lm_20') #20"
      ],
      "execution_count": 0,
      "outputs": [
        {
          "output_type": "display_data",
          "data": {
            "text/html": [
              "<table border=\"1\" class=\"dataframe\">\n",
              "  <thead>\n",
              "    <tr style=\"text-align: left;\">\n",
              "      <th>epoch</th>\n",
              "      <th>train_loss</th>\n",
              "      <th>valid_loss</th>\n",
              "      <th>accuracy</th>\n",
              "      <th>time</th>\n",
              "    </tr>\n",
              "  </thead>\n",
              "  <tbody>\n",
              "    <tr>\n",
              "      <td>0</td>\n",
              "      <td>4.150599</td>\n",
              "      <td>4.348448</td>\n",
              "      <td>0.299891</td>\n",
              "      <td>37:31</td>\n",
              "    </tr>\n",
              "  </tbody>\n",
              "</table>"
            ],
            "text/plain": [
              "<IPython.core.display.HTML object>"
            ]
          },
          "metadata": {
            "tags": []
          }
        }
      ]
    },
    {
      "cell_type": "code",
      "metadata": {
        "id": "WRjfhHJzEEl1",
        "colab_type": "code",
        "outputId": "f2c44e54-49e4-4b73-db28-15e5072fb884",
        "colab": {
          "base_uri": "https://localhost:8080/",
          "height": 80
        }
      },
      "source": [
        "learn.fit_one_cycle(1, 1e-3)\n",
        "learn.save('wiki_subword_lm_21') #21"
      ],
      "execution_count": 0,
      "outputs": [
        {
          "output_type": "display_data",
          "data": {
            "text/html": [
              "<table border=\"1\" class=\"dataframe\">\n",
              "  <thead>\n",
              "    <tr style=\"text-align: left;\">\n",
              "      <th>epoch</th>\n",
              "      <th>train_loss</th>\n",
              "      <th>valid_loss</th>\n",
              "      <th>accuracy</th>\n",
              "      <th>time</th>\n",
              "    </tr>\n",
              "  </thead>\n",
              "  <tbody>\n",
              "    <tr>\n",
              "      <td>0</td>\n",
              "      <td>4.250115</td>\n",
              "      <td>4.343157</td>\n",
              "      <td>0.300354</td>\n",
              "      <td>37:30</td>\n",
              "    </tr>\n",
              "  </tbody>\n",
              "</table>"
            ],
            "text/plain": [
              "<IPython.core.display.HTML object>"
            ]
          },
          "metadata": {
            "tags": []
          }
        }
      ]
    },
    {
      "cell_type": "code",
      "metadata": {
        "id": "Pf693g1zg4iO",
        "colab_type": "code",
        "outputId": "8d1179d1-3e6b-4966-f512-28a311fcea73",
        "colab": {
          "base_uri": "https://localhost:8080/",
          "height": 80
        }
      },
      "source": [
        "learn.fit_one_cycle(1, 1e-3)\n",
        "learn.save('wiki_subword_lm_22') #22"
      ],
      "execution_count": 0,
      "outputs": [
        {
          "output_type": "display_data",
          "data": {
            "text/html": [
              "<table border=\"1\" class=\"dataframe\">\n",
              "  <thead>\n",
              "    <tr style=\"text-align: left;\">\n",
              "      <th>epoch</th>\n",
              "      <th>train_loss</th>\n",
              "      <th>valid_loss</th>\n",
              "      <th>accuracy</th>\n",
              "      <th>time</th>\n",
              "    </tr>\n",
              "  </thead>\n",
              "  <tbody>\n",
              "    <tr>\n",
              "      <td>0</td>\n",
              "      <td>4.190729</td>\n",
              "      <td>4.338458</td>\n",
              "      <td>0.300808</td>\n",
              "      <td>37:40</td>\n",
              "    </tr>\n",
              "  </tbody>\n",
              "</table>"
            ],
            "text/plain": [
              "<IPython.core.display.HTML object>"
            ]
          },
          "metadata": {
            "tags": []
          }
        }
      ]
    },
    {
      "cell_type": "code",
      "metadata": {
        "id": "5uhOSWOlg4Zl",
        "colab_type": "code",
        "outputId": "3adf1145-34f6-4421-a5b2-3a0edbf40209",
        "colab": {
          "base_uri": "https://localhost:8080/",
          "height": 80
        }
      },
      "source": [
        "learn.fit_one_cycle(1, 1e-3)\n",
        "learn.save('wiki_subword_lm_23') #23"
      ],
      "execution_count": 0,
      "outputs": [
        {
          "output_type": "display_data",
          "data": {
            "text/html": [
              "<table border=\"1\" class=\"dataframe\">\n",
              "  <thead>\n",
              "    <tr style=\"text-align: left;\">\n",
              "      <th>epoch</th>\n",
              "      <th>train_loss</th>\n",
              "      <th>valid_loss</th>\n",
              "      <th>accuracy</th>\n",
              "      <th>time</th>\n",
              "    </tr>\n",
              "  </thead>\n",
              "  <tbody>\n",
              "    <tr>\n",
              "      <td>0</td>\n",
              "      <td>4.157098</td>\n",
              "      <td>4.333094</td>\n",
              "      <td>0.301408</td>\n",
              "      <td>37:31</td>\n",
              "    </tr>\n",
              "  </tbody>\n",
              "</table>"
            ],
            "text/plain": [
              "<IPython.core.display.HTML object>"
            ]
          },
          "metadata": {
            "tags": []
          }
        }
      ]
    },
    {
      "cell_type": "code",
      "metadata": {
        "id": "dJriO03Ug4Od",
        "colab_type": "code",
        "outputId": "0b31f614-7a42-4266-8fa0-c1f142bb6d23",
        "colab": {
          "base_uri": "https://localhost:8080/",
          "height": 80
        }
      },
      "source": [
        "learn.fit_one_cycle(1, 1e-3)\n",
        "learn.save('wiki_subword_lm_24') #24"
      ],
      "execution_count": 0,
      "outputs": [
        {
          "output_type": "display_data",
          "data": {
            "text/html": [
              "<table border=\"1\" class=\"dataframe\">\n",
              "  <thead>\n",
              "    <tr style=\"text-align: left;\">\n",
              "      <th>epoch</th>\n",
              "      <th>train_loss</th>\n",
              "      <th>valid_loss</th>\n",
              "      <th>accuracy</th>\n",
              "      <th>time</th>\n",
              "    </tr>\n",
              "  </thead>\n",
              "  <tbody>\n",
              "    <tr>\n",
              "      <td>0</td>\n",
              "      <td>4.199016</td>\n",
              "      <td>4.328155</td>\n",
              "      <td>0.301671</td>\n",
              "      <td>37:31</td>\n",
              "    </tr>\n",
              "  </tbody>\n",
              "</table>"
            ],
            "text/plain": [
              "<IPython.core.display.HTML object>"
            ]
          },
          "metadata": {
            "tags": []
          }
        }
      ]
    },
    {
      "cell_type": "code",
      "metadata": {
        "id": "EHstg8up_F4h",
        "colab_type": "code",
        "outputId": "f7cc78db-c034-4153-c76d-56b0bb8541d5",
        "colab": {
          "base_uri": "https://localhost:8080/",
          "height": 80
        }
      },
      "source": [
        "learn.fit_one_cycle(1, 1e-3)\n",
        "learn.save('wiki_subword_lm_25') #25"
      ],
      "execution_count": 0,
      "outputs": [
        {
          "output_type": "display_data",
          "data": {
            "text/html": [
              "<table border=\"1\" class=\"dataframe\">\n",
              "  <thead>\n",
              "    <tr style=\"text-align: left;\">\n",
              "      <th>epoch</th>\n",
              "      <th>train_loss</th>\n",
              "      <th>valid_loss</th>\n",
              "      <th>accuracy</th>\n",
              "      <th>time</th>\n",
              "    </tr>\n",
              "  </thead>\n",
              "  <tbody>\n",
              "    <tr>\n",
              "      <td>0</td>\n",
              "      <td>4.290332</td>\n",
              "      <td>4.323856</td>\n",
              "      <td>0.302022</td>\n",
              "      <td>37:31</td>\n",
              "    </tr>\n",
              "  </tbody>\n",
              "</table>"
            ],
            "text/plain": [
              "<IPython.core.display.HTML object>"
            ]
          },
          "metadata": {
            "tags": []
          }
        }
      ]
    },
    {
      "cell_type": "code",
      "metadata": {
        "id": "aqQOJIBD_Fui",
        "colab_type": "code",
        "outputId": "442f384f-b4a7-4fb1-9dd3-b18020c5b04d",
        "colab": {
          "base_uri": "https://localhost:8080/",
          "height": 80
        }
      },
      "source": [
        "learn.fit_one_cycle(1, 1e-3)\n",
        "learn.save('wiki_subword_lm_26') #26"
      ],
      "execution_count": 0,
      "outputs": [
        {
          "output_type": "display_data",
          "data": {
            "text/html": [
              "<table border=\"1\" class=\"dataframe\">\n",
              "  <thead>\n",
              "    <tr style=\"text-align: left;\">\n",
              "      <th>epoch</th>\n",
              "      <th>train_loss</th>\n",
              "      <th>valid_loss</th>\n",
              "      <th>accuracy</th>\n",
              "      <th>time</th>\n",
              "    </tr>\n",
              "  </thead>\n",
              "  <tbody>\n",
              "    <tr>\n",
              "      <td>0</td>\n",
              "      <td>4.213830</td>\n",
              "      <td>4.321335</td>\n",
              "      <td>0.302423</td>\n",
              "      <td>37:36</td>\n",
              "    </tr>\n",
              "  </tbody>\n",
              "</table>"
            ],
            "text/plain": [
              "<IPython.core.display.HTML object>"
            ]
          },
          "metadata": {
            "tags": []
          }
        }
      ]
    },
    {
      "cell_type": "code",
      "metadata": {
        "id": "5Bz5CDFy_Fhm",
        "colab_type": "code",
        "outputId": "4c44e692-327a-457a-af41-239f69d258e9",
        "colab": {
          "base_uri": "https://localhost:8080/",
          "height": 80
        }
      },
      "source": [
        "learn.fit_one_cycle(1, 1e-3)\n",
        "learn.save('wiki_subword_lm_27') #27"
      ],
      "execution_count": 0,
      "outputs": [
        {
          "output_type": "display_data",
          "data": {
            "text/html": [
              "<table border=\"1\" class=\"dataframe\">\n",
              "  <thead>\n",
              "    <tr style=\"text-align: left;\">\n",
              "      <th>epoch</th>\n",
              "      <th>train_loss</th>\n",
              "      <th>valid_loss</th>\n",
              "      <th>accuracy</th>\n",
              "      <th>time</th>\n",
              "    </tr>\n",
              "  </thead>\n",
              "  <tbody>\n",
              "    <tr>\n",
              "      <td>0</td>\n",
              "      <td>4.237769</td>\n",
              "      <td>4.317090</td>\n",
              "      <td>0.302791</td>\n",
              "      <td>37:29</td>\n",
              "    </tr>\n",
              "  </tbody>\n",
              "</table>"
            ],
            "text/plain": [
              "<IPython.core.display.HTML object>"
            ]
          },
          "metadata": {
            "tags": []
          }
        }
      ]
    },
    {
      "cell_type": "code",
      "metadata": {
        "id": "etIn3P3RLrb3",
        "colab_type": "code",
        "outputId": "cf807e39-0851-4851-f32e-359879204fdb",
        "colab": {
          "base_uri": "https://localhost:8080/",
          "height": 80
        }
      },
      "source": [
        "learn.load('wiki_subword_lm_27') #27\n",
        "learn.fit_one_cycle(1, 1e-3)\n",
        "learn.save('wiki_subword_lm_28') #28"
      ],
      "execution_count": 19,
      "outputs": [
        {
          "output_type": "display_data",
          "data": {
            "text/html": [
              "<table border=\"1\" class=\"dataframe\">\n",
              "  <thead>\n",
              "    <tr style=\"text-align: left;\">\n",
              "      <th>epoch</th>\n",
              "      <th>train_loss</th>\n",
              "      <th>valid_loss</th>\n",
              "      <th>accuracy</th>\n",
              "      <th>time</th>\n",
              "    </tr>\n",
              "  </thead>\n",
              "  <tbody>\n",
              "    <tr>\n",
              "      <td>0</td>\n",
              "      <td>4.175380</td>\n",
              "      <td>4.314404</td>\n",
              "      <td>0.302945</td>\n",
              "      <td>37:55</td>\n",
              "    </tr>\n",
              "  </tbody>\n",
              "</table>"
            ],
            "text/plain": [
              "<IPython.core.display.HTML object>"
            ]
          },
          "metadata": {
            "tags": []
          }
        }
      ]
    },
    {
      "cell_type": "code",
      "metadata": {
        "id": "OMENppT7LrQn",
        "colab_type": "code",
        "colab": {
          "base_uri": "https://localhost:8080/",
          "height": 80
        },
        "outputId": "df205b0c-4983-4532-db81-f2bc5616775a"
      },
      "source": [
        "learn.fit_one_cycle(1, 1e-3)\n",
        "learn.save('wiki_subword_lm_29') #29"
      ],
      "execution_count": 20,
      "outputs": [
        {
          "output_type": "display_data",
          "data": {
            "text/html": [
              "<table border=\"1\" class=\"dataframe\">\n",
              "  <thead>\n",
              "    <tr style=\"text-align: left;\">\n",
              "      <th>epoch</th>\n",
              "      <th>train_loss</th>\n",
              "      <th>valid_loss</th>\n",
              "      <th>accuracy</th>\n",
              "      <th>time</th>\n",
              "    </tr>\n",
              "  </thead>\n",
              "  <tbody>\n",
              "    <tr>\n",
              "      <td>0</td>\n",
              "      <td>4.183342</td>\n",
              "      <td>4.312265</td>\n",
              "      <td>0.303178</td>\n",
              "      <td>37:59</td>\n",
              "    </tr>\n",
              "  </tbody>\n",
              "</table>"
            ],
            "text/plain": [
              "<IPython.core.display.HTML object>"
            ]
          },
          "metadata": {
            "tags": []
          }
        }
      ]
    },
    {
      "cell_type": "code",
      "metadata": {
        "id": "ZmYuVbCtUgsU",
        "colab_type": "code",
        "colab": {
          "base_uri": "https://localhost:8080/",
          "height": 80
        },
        "outputId": "09a89f21-b61d-4760-de0b-dcd1c59a9982"
      },
      "source": [
        "learn.fit_one_cycle(1, 1e-3)\n",
        "learn.save('wiki_subword_lm_30') #30"
      ],
      "execution_count": 21,
      "outputs": [
        {
          "output_type": "display_data",
          "data": {
            "text/html": [
              "<table border=\"1\" class=\"dataframe\">\n",
              "  <thead>\n",
              "    <tr style=\"text-align: left;\">\n",
              "      <th>epoch</th>\n",
              "      <th>train_loss</th>\n",
              "      <th>valid_loss</th>\n",
              "      <th>accuracy</th>\n",
              "      <th>time</th>\n",
              "    </tr>\n",
              "  </thead>\n",
              "  <tbody>\n",
              "    <tr>\n",
              "      <td>0</td>\n",
              "      <td>4.075247</td>\n",
              "      <td>4.306763</td>\n",
              "      <td>0.303554</td>\n",
              "      <td>37:58</td>\n",
              "    </tr>\n",
              "  </tbody>\n",
              "</table>"
            ],
            "text/plain": [
              "<IPython.core.display.HTML object>"
            ]
          },
          "metadata": {
            "tags": []
          }
        }
      ]
    },
    {
      "cell_type": "markdown",
      "metadata": {
        "id": "VbYzWr0LMRzd",
        "colab_type": "text"
      },
      "source": [
        "#### test"
      ]
    },
    {
      "cell_type": "code",
      "metadata": {
        "id": "92p2cCZOZQKb",
        "colab_type": "code",
        "outputId": "0a8ca10f-0561-45e8-f23e-550caf03b1e3",
        "colab": {
          "base_uri": "https://localhost:8080/",
          "height": 102
        }
      },
      "source": [
        "TEXT ='তিনি' #তিনি মারা গেছেন মাস তিনেক\n",
        "N_WORDS = 100\n",
        "N_SENTENCES = 5\n",
        "for _ in range(N_SENTENCES):\n",
        "  s = learn.predict(TEXT, N_WORDS, temperature=0.75)\n",
        "  ret = TEXT\n",
        "  for i in range(len(TEXT)+1,len(s)):\n",
        "    if(s[i-1]==' '):\n",
        "      ret += s[i]\n",
        "  print(ret)"
      ],
      "execution_count": 0,
      "outputs": [
        {
          "output_type": "stream",
          "text": [
            "তিনি▁নরীা▁▁।▁▁▁▁▁।▁▁▁▁মডপ\"▁\"T▁Ge\")▁▁▁।▁▁▁রক-এ\"▁▁আজ\"-এ▁▁▁▁▁▁▁,▁▁▁ে▁▁▁▁▁।▁▁▁▁জ▁▁▁ধ▁।▁▁আশ\"▁\"Ad\")-এ▁▁▁।▁▁বSa\n",
            "তিনি,▁▁▁▁▁▁▁▁▁▁▁,▁,▁,▁,▁,▁▁▁▁▁▁▁।▁▁,▁,▁,▁,▁▁▁▁▁▁▁।▁▁▁▁▁▁▁।▁bs▁ভবস▁▁▁▁▁র▁▁▁▁▁▁▁।▁▁.▁▁▁▁▁▁▁।▁▁▁▁▁▁▁▁৪▁▁৮৩▁\n",
            "তিনি▁▁▁▁।▁▁▁▁,▁,▁,▁▁,▁,▁,▁,▁,▁▁daju▁ক▁4▁ত\",▁Yim\",▁সল\",▁kt\"▁▁b\"▁▁▁▁ে▁▁▁।▁▁▁▁▁▁▁লগ▁▁▁,▁▁▁,এ▁u(ক)▁▁▁▁▁।▁▁mক\n",
            "তিনি▁▁▁▁▁।▁bs▁র▁্ক▁▁▁▁-পি▁টপনর▁▁▁ী▁।▁▁nm▁▁,▁,▁,▁▁মলড▁▁।▁র▁্ল▁▁▁দ▁▁রক▁শ▁▁মস▁▁।▁থরদ▁গ▁▁স,▁টগ,▁লিবল▁▁▁টন।▁ল\n",
            "তিনি▁▁▁▁▁▁ত।▁▁▁▁▁▁▁▁▁▁▁র▁▁▁▁।▁▁▁দ▁ট\"▁▁▁▁▁▁।▁▁▁দ▁কট▁ক\"▁▁দ▁\"▁▁▁।▁-এ▁▁▁দ▁ভভ\",▁দ▁ল▁▁▁\"▁▁দ▁ন▁▁▁\"▁▁▁।▁▁▁▁▁▁।▁া\n"
          ],
          "name": "stdout"
        }
      ]
    },
    {
      "cell_type": "markdown",
      "metadata": {
        "id": "4gUQtsY8VCub",
        "colab_type": "text"
      },
      "source": [
        "**https://forums.fast.ai/t/adding-sentencepiecetokenizer-to-fastai-text-data/29864/12?u=tanny411**"
      ]
    },
    {
      "cell_type": "markdown",
      "metadata": {
        "id": "Fpm1OeIdfwn9",
        "colab_type": "text"
      },
      "source": [
        "## Our AA"
      ]
    },
    {
      "cell_type": "markdown",
      "metadata": {
        "id": "bnT8JAN_TsO0",
        "colab_type": "text"
      },
      "source": [
        "### Our AA (LM)"
      ]
    },
    {
      "cell_type": "code",
      "metadata": {
        "id": "7fkRp0PGZ509",
        "colab_type": "code",
        "colab": {}
      },
      "source": [
        "data_lm_AA = TextLMDataBunch.from_csv(aa , 'full.csv', bs=bs , bptt=bptt,tokenizer=mycust_tok, vocab=sp_vocab)\n",
        "data_lm_AA.save('full_AA_subword_wiki_lm.pkl')"
      ],
      "execution_count": 0,
      "outputs": []
    },
    {
      "cell_type": "code",
      "metadata": {
        "id": "hrm024Q-aXNK",
        "colab_type": "code",
        "colab": {}
      },
      "source": [
        "data_lm_AA = load_data(aa, 'full_AA_subword_wiki_lm.pkl',bs=bs)"
      ],
      "execution_count": 0,
      "outputs": []
    },
    {
      "cell_type": "code",
      "metadata": {
        "id": "sNELRZ4cUt9A",
        "colab_type": "code",
        "outputId": "080340c1-e06b-4ae1-a2bd-6983328c4180",
        "colab": {
          "base_uri": "https://localhost:8080/",
          "height": 289
        }
      },
      "source": [
        "data_lm_AA.show_batch()"
      ],
      "execution_count": 0,
      "outputs": [
        {
          "output_type": "display_data",
          "data": {
            "text/html": [
              "<table border=\"1\" class=\"dataframe\">\n",
              "  <thead>\n",
              "    <tr style=\"text-align: right;\">\n",
              "      <th>idx</th>\n",
              "      <th>text</th>\n",
              "    </tr>\n",
              "  </thead>\n",
              "  <tbody>\n",
              "    <tr>\n",
              "      <td>0</td>\n",
              "      <td>▁হক ▁শুনে ▁আলো ▁নি ভিয়ে ▁দিয়েছে । ▁— আমা কে ▁খবর ▁ দিস ▁নাই ▁কেন ? ▁দেব ু ▁বলি ল — দেব ার ▁ব্যবস্থা ▁হচ্ছিল । ▁তুমি ▁নিজে ▁এসে ▁পড়লে । ▁— কে ? ▁দেব ু ▁খু ড়ো ? ▁– হ্যাঁ । ▁– হু ঁ । ▁কারা , ▁কিছু ▁বুঝতে ▁পারলে ? ▁— কি ▁করে ▁বুঝ ব ? ▁তবে ▁মশা লের ▁আলো ▁দেখে ▁ভূ পাল ▁বল ছিল ▁ ভ ল্লা</td>\n",
              "    </tr>\n",
              "    <tr>\n",
              "      <td>1</td>\n",
              "      <td>▁রাজ্য কালে ▁তিনি ▁সুবিধা ▁করিতে ▁পারেন ▁নাই ; ▁কিন্তু ▁এখন ▁অগ্নি বর্ মা কে ▁পাই য়া ▁আশা ▁হইয়া ছে ▁শীঘ্রই ▁তাঁহার ▁চক্রান্ত ▁ফল বান ▁হই বে । ▁সমস্ত ই ▁প্রস্তুত , ▁কেবল ▁একটি ▁বাধা ; ▁অগ্নি বর্ মার ▁পরিবর্তে ▁সিংহাসনে ▁বস িতে ▁পারে ▁এমন ▁যোগ্য ▁ব্যক্তি ▁পাওয়া ▁যাই তে ছে ▁না । ▁কো দণ্ড ▁মিশ্র ের ▁বয়স ▁এখন ▁সত্তর । ▁অস্থি চর্ম সার ▁ব্রাহ্মণ ; ▁তাঁহার ▁জীবনে ▁আর ▁কোনও ▁কাম</td>\n",
              "    </tr>\n",
              "    <tr>\n",
              "      <td>2</td>\n",
              "      <td>▁একটু ▁ব্যস্ত ▁হইয়া ই ▁বল িয়া ▁উ ঠি ল , ▁ দয়াল বাবু ▁ নিশ্চয় ▁কাছ ারি তে ▁ঢুকে ছেন , ▁ডেকে ▁পাঠা ই — ব লিয়া ▁বে হারা র ▁সন্ধানে ▁পা ▁ বাড়া ই বার ▁উদ্যোগ ▁করিতে ই ▁ নলিনী ▁বাধা ▁ দিয়া ▁বলি ল , ▁তিনি ▁ ত ▁এখন ▁বাড়ি ▁যাবেন ▁না , ▁একেবারে ▁সন্ধ্যা বেলা য় ▁ফির বেন । ▁বিজয়া ▁ ল জ্জ িত ▁হইয়া ▁বলি ল</td>\n",
              "    </tr>\n",
              "    <tr>\n",
              "      <td>3</td>\n",
              "      <td>▁যাচাই ▁করতে ▁গিয়ে ▁যদি ▁আমি ▁কোনও ▁ধন - সম্পদ ের ▁সন্ধান ▁পাই , ▁তা ▁হলে ▁তুমি ▁তার ▁অর্ধেক ▁আল ▁মামুন কে ▁দেবে ! ▁তুমি ▁আরব ▁যোদ্ধা , ▁তোমার ▁কথা র ▁দাম ▁আছে । ▁তুমি ▁কথা ▁দিলে ▁নিশ্চয়ই ▁তা ▁রাখবে । ▁অসম্ভব ! ▁অসম্ভব ! ▁অসম্ভব ! ▁মুফতি ▁মহম্মদ ▁বিপ্লবী ▁নেতা ▁ছিলেন । ▁বিপ্লবী ▁দলের ▁জন্যই ▁তিনি ▁টাকা প য় সা ▁সং গ্ৰ হ ▁করেছিলেন । ▁তাঁর ▁সেই সব ▁জিনিস ▁এখানকার</td>\n",
              "    </tr>\n",
              "    <tr>\n",
              "      <td>4</td>\n",
              "      <td>বাই ▁না ▁করে ▁চলে ▁যায় । ▁মাকে ▁বলা ই ▁যায় ▁না , ▁বাবা ▁বাবা ▁করে ▁অজ্ঞান । ▁ফা রি হা ▁বলল , ▁তুমি ▁এখন ▁শাহরিয়ার কে ▁কী ▁করতে ▁চাও ▁বল । ▁এই ▁লোক টার ▁খোঁজ ▁খবর ▁নিয়ে ▁আমাদের কে ▁দেয়া । ▁মাকে ▁বোঝা ব - দর কার ▁হলে ▁পুলিশ ে ▁খবর ▁দেব । ▁ছোট া চ্চু ▁দু শ্চি ন্ত িত ▁মুখে ▁মাথা ▁চুল কালো । ▁বলল , ▁হুম । ▁ফা</td>\n",
              "    </tr>\n",
              "  </tbody>\n",
              "</table>"
            ],
            "text/plain": [
              "<IPython.core.display.HTML object>"
            ]
          },
          "metadata": {
            "tags": []
          }
        }
      ]
    },
    {
      "cell_type": "code",
      "metadata": {
        "id": "IwWpgtFVUxGE",
        "colab_type": "code",
        "colab": {}
      },
      "source": [
        "learn = language_model_learner(data_lm_AA, AWD_LSTM, pretrained=False, drop_mult=0.5, callback_fns=ShowGraph)"
      ],
      "execution_count": 0,
      "outputs": []
    },
    {
      "cell_type": "code",
      "metadata": {
        "id": "R38kMPyjU1yS",
        "colab_type": "code",
        "colab": {}
      },
      "source": [
        "learn.load(wiki/'models'/'wiki_subword_lm');"
      ],
      "execution_count": 0,
      "outputs": []
    },
    {
      "cell_type": "code",
      "metadata": {
        "id": "8DdhLzfLVLQ4",
        "colab_type": "code",
        "outputId": "4d64d462-93bf-4b73-a0bf-f68e1248f31c",
        "colab": {
          "base_uri": "https://localhost:8080/",
          "height": 300
        }
      },
      "source": [
        "learn.freeze()\n",
        "learn.lr_find();\n",
        "learn.recorder.plot();"
      ],
      "execution_count": 0,
      "outputs": [
        {
          "output_type": "display_data",
          "data": {
            "text/html": [
              ""
            ],
            "text/plain": [
              "<IPython.core.display.HTML object>"
            ]
          },
          "metadata": {
            "tags": []
          }
        },
        {
          "output_type": "stream",
          "text": [
            "LR Finder is complete, type {learner_name}.recorder.plot() to see the graph.\n"
          ],
          "name": "stdout"
        },
        {
          "output_type": "display_data",
          "data": {
            "image/png": "[encoded data removed]",
            "text/plain": [
              "<Figure size 432x288 with 1 Axes>"
            ]
          },
          "metadata": {
            "tags": []
          }
        }
      ]
    },
    {
      "cell_type": "code",
      "metadata": {
        "id": "Qpn7gRt3VQhk",
        "colab_type": "code",
        "outputId": "9889cf05-f8ab-45a5-ccec-fcdd65dcf2c1",
        "colab": {
          "base_uri": "https://localhost:8080/",
          "height": 283
        }
      },
      "source": [
        "learn.recorder.plot(skip_end=20);"
      ],
      "execution_count": 0,
      "outputs": [
        {
          "output_type": "display_data",
          "data": {
            "image/png": "[encoded data removed]",
            "text/plain": [
              "<Figure size 432x288 with 1 Axes>"
            ]
          },
          "metadata": {
            "tags": []
          }
        }
      ]
    },
    {
      "cell_type": "code",
      "metadata": {
        "id": "Uy_1Ne4sldOH",
        "colab_type": "code",
        "outputId": "2792231b-e42e-4bc8-fda6-4bf478976e1f",
        "colab": {
          "base_uri": "https://localhost:8080/",
          "height": 363
        }
      },
      "source": [
        "learn.fit_one_cycle(2, 1e-2)\n",
        "learn.save('AA_wiki_subword_lm_head');"
      ],
      "execution_count": 0,
      "outputs": [
        {
          "output_type": "display_data",
          "data": {
            "text/html": [
              "<table border=\"1\" class=\"dataframe\">\n",
              "  <thead>\n",
              "    <tr style=\"text-align: left;\">\n",
              "      <th>epoch</th>\n",
              "      <th>train_loss</th>\n",
              "      <th>valid_loss</th>\n",
              "      <th>accuracy</th>\n",
              "      <th>time</th>\n",
              "    </tr>\n",
              "  </thead>\n",
              "  <tbody>\n",
              "    <tr>\n",
              "      <td>0</td>\n",
              "      <td>5.028482</td>\n",
              "      <td>4.906687</td>\n",
              "      <td>0.214180</td>\n",
              "      <td>49:35</td>\n",
              "    </tr>\n",
              "    <tr>\n",
              "      <td>1</td>\n",
              "      <td>4.831709</td>\n",
              "      <td>4.662738</td>\n",
              "      <td>0.236464</td>\n",
              "      <td>50:03</td>\n",
              "    </tr>\n",
              "  </tbody>\n",
              "</table>"
            ],
            "text/plain": [
              "<IPython.core.display.HTML object>"
            ]
          },
          "metadata": {
            "tags": []
          }
        },
        {
          "output_type": "display_data",
          "data": {
            "image/png": "[encoded data removed]",
            "text/plain": [
              "<Figure size 432x288 with 1 Axes>"
            ]
          },
          "metadata": {
            "tags": []
          }
        }
      ]
    },
    {
      "cell_type": "code",
      "metadata": {
        "id": "B7nqaHSWhBOv",
        "colab_type": "code",
        "colab": {}
      },
      "source": [
        "learn.load('AA_wiki_subword_lm_head');"
      ],
      "execution_count": 0,
      "outputs": []
    },
    {
      "cell_type": "code",
      "metadata": {
        "id": "BDKi2SkQlpYo",
        "colab_type": "code",
        "outputId": "8589443e-3f76-4ad4-d2fe-fbe23d9c340a",
        "colab": {
          "base_uri": "https://localhost:8080/",
          "height": 363
        }
      },
      "source": [
        "learn.freeze_to(-2)\n",
        "learn.fit_one_cycle(2, 1e-2)\n",
        "learn.save('AA_wiki_subword_lm_body_1');"
      ],
      "execution_count": 0,
      "outputs": [
        {
          "output_type": "display_data",
          "data": {
            "text/html": [
              "<table border=\"1\" class=\"dataframe\">\n",
              "  <thead>\n",
              "    <tr style=\"text-align: left;\">\n",
              "      <th>epoch</th>\n",
              "      <th>train_loss</th>\n",
              "      <th>valid_loss</th>\n",
              "      <th>accuracy</th>\n",
              "      <th>time</th>\n",
              "    </tr>\n",
              "  </thead>\n",
              "  <tbody>\n",
              "    <tr>\n",
              "      <td>0</td>\n",
              "      <td>4.863812</td>\n",
              "      <td>4.727807</td>\n",
              "      <td>0.236812</td>\n",
              "      <td>25:53</td>\n",
              "    </tr>\n",
              "    <tr>\n",
              "      <td>1</td>\n",
              "      <td>4.581941</td>\n",
              "      <td>4.426581</td>\n",
              "      <td>0.267015</td>\n",
              "      <td>25:53</td>\n",
              "    </tr>\n",
              "  </tbody>\n",
              "</table>"
            ],
            "text/plain": [
              "<IPython.core.display.HTML object>"
            ]
          },
          "metadata": {
            "tags": []
          }
        },
        {
          "output_type": "display_data",
          "data": {
            "image/png": "[encoded data removed]",
            "text/plain": [
              "<Figure size 432x288 with 1 Axes>"
            ]
          },
          "metadata": {
            "tags": []
          }
        }
      ]
    },
    {
      "cell_type": "code",
      "metadata": {
        "id": "JjbM3yxDlpSc",
        "colab_type": "code",
        "outputId": "c6689c72-9c48-4116-8a36-4a9c83449bcf",
        "colab": {
          "base_uri": "https://localhost:8080/",
          "height": 363
        }
      },
      "source": [
        "learn.freeze_to(-3)\n",
        "learn.fit_one_cycle(2, 1e-2)\n",
        "learn.save('AA_wiki_subword_lm_body_2');"
      ],
      "execution_count": 0,
      "outputs": [
        {
          "output_type": "display_data",
          "data": {
            "text/html": [
              "<table border=\"1\" class=\"dataframe\">\n",
              "  <thead>\n",
              "    <tr style=\"text-align: left;\">\n",
              "      <th>epoch</th>\n",
              "      <th>train_loss</th>\n",
              "      <th>valid_loss</th>\n",
              "      <th>accuracy</th>\n",
              "      <th>time</th>\n",
              "    </tr>\n",
              "  </thead>\n",
              "  <tbody>\n",
              "    <tr>\n",
              "      <td>0</td>\n",
              "      <td>4.711003</td>\n",
              "      <td>4.636530</td>\n",
              "      <td>0.248534</td>\n",
              "      <td>27:50</td>\n",
              "    </tr>\n",
              "    <tr>\n",
              "      <td>1</td>\n",
              "      <td>4.409188</td>\n",
              "      <td>4.281990</td>\n",
              "      <td>0.285259</td>\n",
              "      <td>27:49</td>\n",
              "    </tr>\n",
              "  </tbody>\n",
              "</table>"
            ],
            "text/plain": [
              "<IPython.core.display.HTML object>"
            ]
          },
          "metadata": {
            "tags": []
          }
        },
        {
          "output_type": "display_data",
          "data": {
            "image/png": "[encoded data removed]",
            "text/plain": [
              "<Figure size 432x288 with 1 Axes>"
            ]
          },
          "metadata": {
            "tags": []
          }
        }
      ]
    },
    {
      "cell_type": "code",
      "metadata": {
        "id": "RO69NJ7Xlwdr",
        "colab_type": "code",
        "outputId": "9bf58cb9-0789-4ee8-a05b-2792bd7c2636",
        "colab": {
          "base_uri": "https://localhost:8080/",
          "height": 426
        }
      },
      "source": [
        "learn.unfreeze()\n",
        "learn.fit_one_cycle(4, 1e-2)\n",
        "learn.save('AA_wiki_subword_lm_body_3')\n",
        "learn.save_encoder('AA_wiki_subword_lm_enc')"
      ],
      "execution_count": 0,
      "outputs": [
        {
          "output_type": "display_data",
          "data": {
            "text/html": [
              "\n",
              "    <div>\n",
              "        <style>\n",
              "            /* Turns off some styling */\n",
              "            progress {\n",
              "                /* gets rid of default border in Firefox and Opera. */\n",
              "                border: none;\n",
              "                /* Needs to be in here for Safari polyfill so background images work as expected. */\n",
              "                background-size: auto;\n",
              "            }\n",
              "            .progress-bar-interrupted, .progress-bar-interrupted::-webkit-progress-bar {\n",
              "                background: #F44336;\n",
              "            }\n",
              "        </style>\n",
              "      <progress value='2' class='' max='4', style='width:300px; height:20px; vertical-align: middle;'></progress>\n",
              "      50.00% [2/4 58:14<58:14]\n",
              "    </div>\n",
              "    \n",
              "<table border=\"1\" class=\"dataframe\">\n",
              "  <thead>\n",
              "    <tr style=\"text-align: left;\">\n",
              "      <th>epoch</th>\n",
              "      <th>train_loss</th>\n",
              "      <th>valid_loss</th>\n",
              "      <th>accuracy</th>\n",
              "      <th>time</th>\n",
              "    </tr>\n",
              "  </thead>\n",
              "  <tbody>\n",
              "    <tr>\n",
              "      <td>0</td>\n",
              "      <td>4.605037</td>\n",
              "      <td>4.599614</td>\n",
              "      <td>0.251124</td>\n",
              "      <td>29:06</td>\n",
              "    </tr>\n",
              "    <tr>\n",
              "      <td>1</td>\n",
              "      <td>4.517938</td>\n",
              "      <td>4.475451</td>\n",
              "      <td>0.263632</td>\n",
              "      <td>29:07</td>\n",
              "    </tr>\n",
              "  </tbody>\n",
              "</table><p>\n",
              "\n",
              "    <div>\n",
              "        <style>\n",
              "            /* Turns off some styling */\n",
              "            progress {\n",
              "                /* gets rid of default border in Firefox and Opera. */\n",
              "                border: none;\n",
              "                /* Needs to be in here for Safari polyfill so background images work as expected. */\n",
              "                background-size: auto;\n",
              "            }\n",
              "            .progress-bar-interrupted, .progress-bar-interrupted::-webkit-progress-bar {\n",
              "                background: #F44336;\n",
              "            }\n",
              "        </style>\n",
              "      <progress value='2479' class='' max='7782', style='width:300px; height:20px; vertical-align: middle;'></progress>\n",
              "      31.86% [2479/7782 08:26<18:02 4.5231]\n",
              "    </div>\n",
              "    "
            ],
            "text/plain": [
              "<IPython.core.display.HTML object>"
            ]
          },
          "metadata": {
            "tags": []
          }
        },
        {
          "output_type": "display_data",
          "data": {
            "image/png": "[encoded data removed]",
            "text/plain": [
              "<Figure size 432x288 with 1 Axes>"
            ]
          },
          "metadata": {
            "tags": []
          }
        },
        {
          "output_type": "stream",
          "text": [
            "Buffered data was truncated after reaching the output size limit."
          ],
          "name": "stdout"
        }
      ]
    },
    {
      "cell_type": "markdown",
      "metadata": {
        "id": "YhBh5KznvB3C",
        "colab_type": "text"
      },
      "source": [
        "Even when RAM | GPU | DISK on colab is free, this error still comes because there is a limited memory for displaying output on colab. Assuming the memory limit is around 2Mb to 5Mb when we run long epoch training, it tends to fil that memory a lot and hence the output is truncated. However, the machine keeps running in the background and the output is processed but it is not displayed because of the buffered limit. You will still get your desired output."
      ]
    },
    {
      "cell_type": "markdown",
      "metadata": {
        "id": "xcAfo_kgJIfu",
        "colab_type": "text"
      },
      "source": [
        "https://forums.fast.ai/t/metric-printed-during-training-does-not-equal-a-calculation-of-the-same-metric-after-loading-the-model-saved-with-best-save-name/24857/11"
      ]
    },
    {
      "cell_type": "code",
      "metadata": {
        "id": "CgJJtlBg1ARo",
        "colab_type": "code",
        "colab": {}
      },
      "source": [
        ""
      ],
      "execution_count": 0,
      "outputs": []
    },
    {
      "cell_type": "code",
      "metadata": {
        "id": "L8nS8M96lwT6",
        "colab_type": "code",
        "outputId": "851d9432-4ce0-4fa8-8508-7801fbf32678",
        "colab": {
          "base_uri": "https://localhost:8080/",
          "height": 102
        }
      },
      "source": [
        "TEXT ='তিনি' #তিনি মারা গেছেন মাস তিনেক\n",
        "N_WORDS = 100\n",
        "N_SENTENCES = 5\n",
        "for _ in range(N_SENTENCES):\n",
        "  s = learn.predict(TEXT, N_WORDS, temperature=0.75)\n",
        "  ret = TEXT\n",
        "  for i in range(len(TEXT)+1,len(s)):\n",
        "    if(s[i-1]==' '):\n",
        "      ret += s[i]\n",
        "  print(ret)"
      ],
      "execution_count": 0,
      "outputs": [
        {
          "output_type": "stream",
          "text": [
            "তিনি▁সভে▁ভচচট▁▁▁,▁গ,▁চ!▁▁▁ত▁▁▁▁।▁▁নট▁▁▁▁ই▁▁মস▁-ব▁।▁▁ক▁▁,▁ট▁▁।▁▁ে▁গ▁▁,▁▁▁▁।▁ক▁▁,▁▁▁▁▁▁▁▁▁▁।▁▁কদ▁▁-স▁▁ই▁▁▁\n",
            "তিনিও▁▁▁?▁হ,▁▁।▁▁▁চ▁▁ছ।▁কই,▁,▁▁?▁গক।▁▁▁ে▁জোৎসট▁▁▁।▁ঁ▁▁▁▁।▁চ,▁▁?▁ই▁ছ।▁▁▁▁▁▁ছ?▁।▁▁▁▁▁▁।▁▁▁▁,▁▁▁▁▁▁ব।▁▁▁ল▁,\n",
            "তিনি▁,▁▁মশক▁▁▁ই।▁▁ল,▁▁▁,▁▁▁দই▁▁▁।▁▁▁,▁▁ব▁।▁▁ও।▁▁▁,▁▁▁।▁▁ও▁▁▁।▁▁,▁চ▁ও!▁▁▁▁▁▁টচ▁ছ।▁▁ছ,▁▁ও।▁▁▁ন।▁▁▁খছ।▁▁ত▁।\n",
            "তিনি▁ির▁▁ন,▁▁চ▁?▁▁▁▁।▁ির▁▁▁ক▁▁▁ছ।▁▁▁▁।▁▁▁ছ▁।▁▁ল?▁ছ।▁▁▁▁ছ।▁▁▁টই▁ছ।▁ি▁চটপ▁ট▁▁▁▁,▁▁▁?▁▁ত▁ট▁▁▁।▁দ▁,▁ই▁▁ল▁ি?▁\n",
            "তিনি▁▁▁▁,▁▁▁▁,▁▁▁▁▁,▁▁ব▁।▁নইল▁রতর▁ত▁▁▁।▁রতরব▁▁য▁▁▁▁য▁▁ল।▁রবযক▁ই▁▁▁▁▁ক।▁▁▁▁্▁ছ।▁▁▁▁▁ই▁রফ▁,▁▁▁?▁া▁▁?▁রফ▁,▁\n"
          ],
          "name": "stdout"
        }
      ]
    },
    {
      "cell_type": "markdown",
      "metadata": {
        "id": "34spzswbXJxZ",
        "colab_type": "text"
      },
      "source": [
        "### Classifier (our AA)"
      ]
    },
    {
      "cell_type": "code",
      "metadata": {
        "id": "gHKTorbiJ6C1",
        "colab_type": "code",
        "colab": {}
      },
      "source": [
        "data_clas = TextClasDataBunch.from_csv(aa , 'OurDataset_train.csv', tokenizer=mycust_tok, vocab=sp_vocab, bs=bs)\n",
        "data_clas.save('AA_subword_wiki_clas.pkl')"
      ],
      "execution_count": 0,
      "outputs": []
    },
    {
      "cell_type": "code",
      "metadata": {
        "id": "GuB4eElWXhdP",
        "colab_type": "code",
        "outputId": "ca5c6c81-686a-47ad-cdad-d7b857d5ae16",
        "colab": {
          "base_uri": "https://localhost:8080/",
          "height": 289
        }
      },
      "source": [
        "data_clas.show_batch()"
      ],
      "execution_count": 0,
      "outputs": [
        {
          "output_type": "display_data",
          "data": {
            "text/html": [
              "<table border=\"1\" class=\"dataframe\">\n",
              "  <thead>\n",
              "    <tr style=\"text-align: right;\">\n",
              "      <th>text</th>\n",
              "      <th>target</th>\n",
              "    </tr>\n",
              "  </thead>\n",
              "  <tbody>\n",
              "    <tr>\n",
              "      <td>▁xx bo s ▁নির্ বি ঘ্ন ে ▁নিষ্ ক্রান্ত ▁হই লেন । ▁বিমলা ▁ফটক ▁হইতে ▁কি য় দ্ দূর ▁গমন ▁করিয়া ▁দেখি লেন ▁যে , ▁একজন ▁পুরুষ ▁এক ▁বৃক্ষ তলে ▁দাঁড় াইয়া ▁আছেন । ▁দৃষ্টি মাত্র ▁বিমলা ▁ তাঁ হা কে ▁অভি রাম ▁স্বামী ▁বল িয়া ▁চিনি তে ▁পারি লেন । ▁বিমলা ▁তাঁহার ▁নিকট ▁যাই বা মাত্র ▁অভি রাম ▁স্বামী ▁ ক হি লেন , ▁“ আমি ▁বড় ই ▁উদ্বিগ্ন</td>\n",
              "      <td>bongkim</td>\n",
              "    </tr>\n",
              "    <tr>\n",
              "      <td>▁xx bo s ▁কক্ষের ▁ভিতর ▁ গিয়া ▁দেখি ল , ▁ জেব - উ ন্নি সা ▁হাসি তে ▁হাসি তে ▁ফুলের ▁একটা ▁কুকুর ▁গড় িতে ছেন , - ম বার কে র ▁মত ▁তার ▁মুখ টা ▁হইয়া ছে – আর ▁বাদশাহ দি গের ▁ সের পে ঁচ ▁কল গার ▁মত ▁তার ▁লেজ টা ▁হইয়া ছে । ▁ জেব - উ ন্নি সা ▁ প্রহর িণী কে ▁দেখ িয়া ▁বলি ল</td>\n",
              "      <td>bongkim</td>\n",
              "    </tr>\n",
              "    <tr>\n",
              "      <td>▁xx bo s ▁স্থাপিত ▁হইল । ▁শৈব লিন ী ▁তাহা ▁পরিধান ▁করিয়া , ▁পূর্ব বস্ত্র ▁পরিত্যাগ ▁করিয়া ▁জিজ্ঞাসা ▁করি ল , ▁“ আর ▁কি ▁করি ব ? ” ▁উত্তর — তোমার ▁শ্বশুর ালয় ▁কোথায় ? ▁ শৈ । ▁বেদ গ্রাম । ▁সেখানে ▁কি ▁যাই তে ▁হই বে ? ▁উত্তর — হাঁ — গিয়া ▁গ্রাম প্রান্তে ▁ পর্ণ কুট ীর ▁নির্মাণ ▁করি বে । ▁ শৈ । ▁আর ? ▁উত্তর —</td>\n",
              "      <td>bongkim</td>\n",
              "    </tr>\n",
              "    <tr>\n",
              "      <td>▁xx bo s ▁দেখি তে ▁আ সিল । ▁সুন্দরী ▁শৈব লি নীর ▁মৃত্যু সম্ বাদ ▁শু নিয়া ▁নিতান্ত ▁দুঃখ িতা ▁হইল , ▁কিন্তু ▁বলি ল , ▁“ যা হা ▁হই বার ▁তাহা ▁হইয়া ছে । ▁কিন্তু ▁শৈব লিন ী ▁এখন ▁সুখী ▁হইল । ▁তাহার ▁বাঁচা ▁অপেক্ষা ▁মরা ই ▁যে ▁সুখ ের , ▁তা ▁আর ▁কোন্ ▁মুখে ▁না ▁বলি ব ? ” ▁প্রতাপ , ▁রূপ সী ▁ও ▁সুন্দরী র ▁সাক্ষাতের ▁পর</td>\n",
              "      <td>bongkim</td>\n",
              "    </tr>\n",
              "    <tr>\n",
              "      <td>▁xx bo s ▁তখন ▁অন্য ▁প্রশ্ন ▁করি লাম , – ’ সুন য় না - উ পাখ ্যান ের ▁সঙ্গে ▁নিশানা থ বাবুর ▁মৃত্যুর ▁যোগাযোগ ▁আছে ▁নাকি ? ’ ▁ ব্যোমকেশ ▁বলি ল ▁ , ▁‘ থা ক লেও ▁কিছু ▁দেখতে ▁পা চ্ছি ▁না । ▁মুর ারি ▁দত্ত কে ▁মেরে ছিল ▁সু নয়ন া ▁নিকোটিন ▁বিষ ▁খাইয়ে । ▁নিশানা থ বাবু কে ▁মেরে ছে ▁পুরুষ । ’ ▁‘ পুরুষ ?</td>\n",
              "      <td>shordindu</td>\n",
              "    </tr>\n",
              "  </tbody>\n",
              "</table>"
            ],
            "text/plain": [
              "<IPython.core.display.HTML object>"
            ]
          },
          "metadata": {
            "tags": []
          }
        }
      ]
    },
    {
      "cell_type": "code",
      "metadata": {
        "id": "Q24kDVQeXkR2",
        "colab_type": "code",
        "colab": {}
      },
      "source": [
        "data_clas = load_data(aa, 'AA_subword_wiki_clas.pkl',bs=bs)\n",
        "learn_cls = text_classifier_learner(data_clas, AWD_LSTM, drop_mult=0.5, pretrained=False)\n",
        "learn_cls.load_encoder('AA_wiki_subword_lm_enc')"
      ],
      "execution_count": 0,
      "outputs": []
    },
    {
      "cell_type": "code",
      "metadata": {
        "id": "u-cnT0EbXkOj",
        "colab_type": "code",
        "outputId": "7394daf5-500e-4fe0-871d-20b4dadfaa5b",
        "colab": {
          "base_uri": "https://localhost:8080/",
          "height": 300
        }
      },
      "source": [
        "learn_cls.freeze()\n",
        "learn_cls.lr_find()\n",
        "learn_cls.recorder.plot()"
      ],
      "execution_count": 0,
      "outputs": [
        {
          "output_type": "display_data",
          "data": {
            "text/html": [
              ""
            ],
            "text/plain": [
              "<IPython.core.display.HTML object>"
            ]
          },
          "metadata": {
            "tags": []
          }
        },
        {
          "output_type": "stream",
          "text": [
            "LR Finder is complete, type {learner_name}.recorder.plot() to see the graph.\n"
          ],
          "name": "stdout"
        },
        {
          "output_type": "display_data",
          "data": {
            "image/png": "[encoded data removed]",
            "text/plain": [
              "<Figure size 432x288 with 1 Axes>"
            ]
          },
          "metadata": {
            "tags": []
          }
        }
      ]
    },
    {
      "cell_type": "code",
      "metadata": {
        "id": "uQkxLqY7XkK2",
        "colab_type": "code",
        "outputId": "cb66f1ae-004e-4199-b565-4313ff611eec",
        "colab": {
          "base_uri": "https://localhost:8080/",
          "height": 111
        }
      },
      "source": [
        "learn_cls.fit_one_cycle(2, 1e-2, moms=(0.8,0.7))\n",
        "learn_cls.save('wiki_subword_cls_1')"
      ],
      "execution_count": 0,
      "outputs": [
        {
          "output_type": "display_data",
          "data": {
            "text/html": [
              "<table border=\"1\" class=\"dataframe\">\n",
              "  <thead>\n",
              "    <tr style=\"text-align: left;\">\n",
              "      <th>epoch</th>\n",
              "      <th>train_loss</th>\n",
              "      <th>valid_loss</th>\n",
              "      <th>accuracy</th>\n",
              "      <th>time</th>\n",
              "    </tr>\n",
              "  </thead>\n",
              "  <tbody>\n",
              "    <tr>\n",
              "      <td>0</td>\n",
              "      <td>0.089659</td>\n",
              "      <td>0.027896</td>\n",
              "      <td>0.993043</td>\n",
              "      <td>08:00</td>\n",
              "    </tr>\n",
              "    <tr>\n",
              "      <td>1</td>\n",
              "      <td>0.040291</td>\n",
              "      <td>0.018739</td>\n",
              "      <td>0.995478</td>\n",
              "      <td>08:01</td>\n",
              "    </tr>\n",
              "  </tbody>\n",
              "</table>"
            ],
            "text/plain": [
              "<IPython.core.display.HTML object>"
            ]
          },
          "metadata": {
            "tags": []
          }
        }
      ]
    },
    {
      "cell_type": "code",
      "metadata": {
        "id": "Xgb6IbvTXkH1",
        "colab_type": "code",
        "outputId": "af53ebc1-0b86-4dae-dbe6-27bca3e13797",
        "colab": {
          "base_uri": "https://localhost:8080/",
          "height": 111
        }
      },
      "source": [
        "learn_cls.load('wiki_subword_cls_1')\n",
        "learn_cls.freeze_to(-2)\n",
        "learn_cls.fit_one_cycle(2 , slice(1e-2/(2.6**4),1e-2), moms=(0.8,0.7))\n",
        "learn_cls.save('wiki_subword_cls_2')"
      ],
      "execution_count": 0,
      "outputs": [
        {
          "output_type": "display_data",
          "data": {
            "text/html": [
              "<table border=\"1\" class=\"dataframe\">\n",
              "  <thead>\n",
              "    <tr style=\"text-align: left;\">\n",
              "      <th>epoch</th>\n",
              "      <th>train_loss</th>\n",
              "      <th>valid_loss</th>\n",
              "      <th>accuracy</th>\n",
              "      <th>time</th>\n",
              "    </tr>\n",
              "  </thead>\n",
              "  <tbody>\n",
              "    <tr>\n",
              "      <td>0</td>\n",
              "      <td>0.085166</td>\n",
              "      <td>0.031355</td>\n",
              "      <td>0.992348</td>\n",
              "      <td>09:06</td>\n",
              "    </tr>\n",
              "    <tr>\n",
              "      <td>1</td>\n",
              "      <td>0.019175</td>\n",
              "      <td>0.015066</td>\n",
              "      <td>0.996870</td>\n",
              "      <td>08:51</td>\n",
              "    </tr>\n",
              "  </tbody>\n",
              "</table>"
            ],
            "text/plain": [
              "<IPython.core.display.HTML object>"
            ]
          },
          "metadata": {
            "tags": []
          }
        }
      ]
    },
    {
      "cell_type": "code",
      "metadata": {
        "id": "4Kvf-xJuXkDV",
        "colab_type": "code",
        "outputId": "6769990e-5264-4ded-ec01-80ada25b462b",
        "colab": {
          "base_uri": "https://localhost:8080/",
          "height": 111
        }
      },
      "source": [
        "learn_cls.load('wiki_subword_cls_2')\n",
        "learn_cls.freeze_to(-3)\n",
        "learn_cls.fit_one_cycle(2, slice(5e-3/(2.6**4),5e-3), moms=(0.8,0.7))\n",
        "learn_cls.save('wiki_subword_cls_3')"
      ],
      "execution_count": 0,
      "outputs": [
        {
          "output_type": "display_data",
          "data": {
            "text/html": [
              "<table border=\"1\" class=\"dataframe\">\n",
              "  <thead>\n",
              "    <tr style=\"text-align: left;\">\n",
              "      <th>epoch</th>\n",
              "      <th>train_loss</th>\n",
              "      <th>valid_loss</th>\n",
              "      <th>accuracy</th>\n",
              "      <th>time</th>\n",
              "    </tr>\n",
              "  </thead>\n",
              "  <tbody>\n",
              "    <tr>\n",
              "      <td>0</td>\n",
              "      <td>0.022769</td>\n",
              "      <td>0.018054</td>\n",
              "      <td>0.995826</td>\n",
              "      <td>12:41</td>\n",
              "    </tr>\n",
              "    <tr>\n",
              "      <td>1</td>\n",
              "      <td>0.014355</td>\n",
              "      <td>0.010960</td>\n",
              "      <td>0.997565</td>\n",
              "      <td>12:39</td>\n",
              "    </tr>\n",
              "  </tbody>\n",
              "</table>"
            ],
            "text/plain": [
              "<IPython.core.display.HTML object>"
            ]
          },
          "metadata": {
            "tags": []
          }
        }
      ]
    },
    {
      "cell_type": "code",
      "metadata": {
        "id": "qXdoSwL2XkAN",
        "colab_type": "code",
        "outputId": "7a6ef2c9-6cb6-44a2-8648-0e5acbe2dbc7",
        "colab": {
          "base_uri": "https://localhost:8080/",
          "height": 111
        }
      },
      "source": [
        "learn_cls.load('wiki_subword_cls_3')\n",
        "learn_cls.unfreeze()\n",
        "learn_cls.fit_one_cycle(2, slice(1e-3/(2.6**4),1e-3), moms=(0.8,0.7))\n",
        "learn_cls.save('wiki_subword_cls_4')"
      ],
      "execution_count": 0,
      "outputs": [
        {
          "output_type": "display_data",
          "data": {
            "text/html": [
              "<table border=\"1\" class=\"dataframe\">\n",
              "  <thead>\n",
              "    <tr style=\"text-align: left;\">\n",
              "      <th>epoch</th>\n",
              "      <th>train_loss</th>\n",
              "      <th>valid_loss</th>\n",
              "      <th>accuracy</th>\n",
              "      <th>time</th>\n",
              "    </tr>\n",
              "  </thead>\n",
              "  <tbody>\n",
              "    <tr>\n",
              "      <td>0</td>\n",
              "      <td>0.009594</td>\n",
              "      <td>0.009965</td>\n",
              "      <td>0.997913</td>\n",
              "      <td>15:31</td>\n",
              "    </tr>\n",
              "    <tr>\n",
              "      <td>1</td>\n",
              "      <td>0.007231</td>\n",
              "      <td>0.011677</td>\n",
              "      <td>0.997913</td>\n",
              "      <td>15:50</td>\n",
              "    </tr>\n",
              "  </tbody>\n",
              "</table>"
            ],
            "text/plain": [
              "<IPython.core.display.HTML object>"
            ]
          },
          "metadata": {
            "tags": []
          }
        }
      ]
    },
    {
      "cell_type": "code",
      "metadata": {
        "id": "Y-xbJ5gtX_8Z",
        "colab_type": "code",
        "outputId": "49d71d8b-1356-41fd-8c41-236a8f561814",
        "colab": {
          "base_uri": "https://localhost:8080/",
          "height": 111
        }
      },
      "source": [
        "learn_cls.load('wiki_subword_cls_4')\n",
        "learn_cls.unfreeze()\n",
        "learn_cls.fit_one_cycle(2, slice(1e-3/(2.6**4),1e-3), moms=(0.8,0.7))\n",
        "learn_cls.save('wiki_subword_cls_5')"
      ],
      "execution_count": 0,
      "outputs": [
        {
          "output_type": "display_data",
          "data": {
            "text/html": [
              "<table border=\"1\" class=\"dataframe\">\n",
              "  <thead>\n",
              "    <tr style=\"text-align: left;\">\n",
              "      <th>epoch</th>\n",
              "      <th>train_loss</th>\n",
              "      <th>valid_loss</th>\n",
              "      <th>accuracy</th>\n",
              "      <th>time</th>\n",
              "    </tr>\n",
              "  </thead>\n",
              "  <tbody>\n",
              "    <tr>\n",
              "      <td>0</td>\n",
              "      <td>0.005245</td>\n",
              "      <td>0.010140</td>\n",
              "      <td>0.997913</td>\n",
              "      <td>16:02</td>\n",
              "    </tr>\n",
              "    <tr>\n",
              "      <td>1</td>\n",
              "      <td>0.003870</td>\n",
              "      <td>0.011453</td>\n",
              "      <td>0.997565</td>\n",
              "      <td>15:44</td>\n",
              "    </tr>\n",
              "  </tbody>\n",
              "</table>"
            ],
            "text/plain": [
              "<IPython.core.display.HTML object>"
            ]
          },
          "metadata": {
            "tags": []
          }
        }
      ]
    },
    {
      "cell_type": "code",
      "metadata": {
        "id": "IO0vnAMuX4aF",
        "colab_type": "code",
        "colab": {}
      },
      "source": [
        "def testing(dts):\n",
        "  df = pd.read_csv(dts) \n",
        "  text_array = df[\"text\"].tolist()\n",
        "  print(len(text_array))\n",
        "\n",
        "  final_preds = []\n",
        "\n",
        "  for text in text_array:\n",
        "      preds = learn_cls.predict(text)\n",
        "      final_preds.append(str(preds[0]))\n",
        "\n",
        "  targets = df[\"label\"].tolist()\n",
        "\n",
        "  err=[]\n",
        "  count =0;\n",
        "  tst = len(text_array)\n",
        "\n",
        "  for i in range(tst):\n",
        "      if(targets[i]==final_preds[i]):\n",
        "          count = count+1\n",
        "      else:\n",
        "  #         print(targets[i] + \", \" + final_preds[i] + ';')\n",
        "          err.append((targets[i],final_preds[i]))\n",
        "  print(\"Accuracy: \")\n",
        "  print(count/tst)\n",
        "  print(err)\n",
        "  \n",
        "  return final_preds,targets"
      ],
      "execution_count": 0,
      "outputs": []
    },
    {
      "cell_type": "code",
      "metadata": {
        "id": "eqJOtUP-X4Vy",
        "colab_type": "code",
        "outputId": "28821113-92f3-41fb-911f-bd0ab0035bc2",
        "colab": {
          "base_uri": "https://localhost:8080/",
          "height": 105
        }
      },
      "source": [
        "testing(aa/\"OurDataset_test.csv\")"
      ],
      "execution_count": 0,
      "outputs": [
        {
          "output_type": "stream",
          "text": [
            "3592\n",
            "Accuracy: \n",
            "0.9977728285077951\n",
            "[('tarashonkor', 'shirshendu'), ('robindronath', 'bongkim'), ('shordindu', 'shirshendu'), ('shunil_gongopaddhay', 'shomresh'), ('tarashonkor', 'manik_bandhopaddhay'), ('manik_bandhopaddhay', 'shirshendu'), ('shordindu', 'bongkim'), ('shirshendu', 'humayun_ahmed')]\n"
          ],
          "name": "stdout"
        }
      ]
    },
    {
      "cell_type": "markdown",
      "metadata": {
        "id": "6_tkU_qffTo4",
        "colab_type": "text"
      },
      "source": [
        "## Bhai Dataset"
      ]
    },
    {
      "cell_type": "markdown",
      "metadata": {
        "id": "tj4EgeYUfWAO",
        "colab_type": "text"
      },
      "source": [
        "### LM Tuning"
      ]
    },
    {
      "cell_type": "code",
      "metadata": {
        "id": "C89PTtp5gFP9",
        "colab_type": "code",
        "colab": {}
      },
      "source": [
        "data_lm_AA = TextLMDataBunch.from_csv(aa2, 'ulm_train.csv', bs=bs , bptt=bptt,tokenizer=mycust_tok, vocab=sp_vocab)\n",
        "data_lm_AA.save('bhai_AA_subword_wiki_lm.pkl')"
      ],
      "execution_count": 0,
      "outputs": []
    },
    {
      "cell_type": "code",
      "metadata": {
        "id": "rq_VTjMGgFNm",
        "colab_type": "code",
        "outputId": "a2b5eb9b-4321-4163-bdbe-74828f0d2b87",
        "colab": {
          "base_uri": "https://localhost:8080/",
          "height": 340
        }
      },
      "source": [
        "data_lm_AA.show_batch()"
      ],
      "execution_count": 23,
      "outputs": [
        {
          "output_type": "display_data",
          "data": {
            "text/html": [
              "<table border=\"1\" class=\"dataframe\">\n",
              "  <thead>\n",
              "    <tr style=\"text-align: right;\">\n",
              "      <th>idx</th>\n",
              "      <th>text</th>\n",
              "    </tr>\n",
              "  </thead>\n",
              "  <tbody>\n",
              "    <tr>\n",
              "      <td>0</td>\n",
              "      <td>▁ গত ▁একবছর ▁ধরে ▁কোনো ▁এক ▁দিন ▁পালন ▁করতে ▁পারতো । ▁নির্বাচন ের ▁পরপরই ▁এটা ▁হওয়া ▁উচিত ▁ছিল । ▁কিন্তু ▁তারা তো ▁তখন ▁আন্দোলন ▁করেনি । ▁দেশে ▁বিদেশে ▁যখন ▁সরকারের ▁সাফল্য ▁চরম ে , ▁কূটনৈতিক ভাবে ▁সরকার ▁সফল , ▁ঠিক ▁তখনই ▁বিএনপি ▁জামাত ▁অস্থিরতা ▁তৈরির ▁ফাঁদ ▁পাত ল । ▁সাধারণ ▁মানুষকে ▁জিম্মি ▁করে ▁সরকারের ▁চাপ ▁দেওয়ার ▁মতো ▁একটি ▁ভুল ▁কৌশলে ▁পা ▁দিল । ▁ গত ▁এক ▁বছর ▁ধরেই ▁বিভিন্ন ▁পত্র</td>\n",
              "    </tr>\n",
              "    <tr>\n",
              "      <td>1</td>\n",
              "      <td>▁কিছু ▁গুপ্ত ঘ ন্টি ▁বাজানোর ▁ব্যবস্থা ▁রয়েছে । ▁অদৃশ্য ▁রশ্মি তে ▁পা ▁বাঁধ লেই ▁সেই ▁পাগলা ▁ঘন ্টি ▁বেজ ে ▁উঠবে , ▁আর ▁দান ো টা ▁টেলি ভী ষণ ▁দেখা ▁ফেলে ▁উঠে ▁এসে ▁আলু র ▁বদলে ▁তাকেই ▁পুড়িয়ে ▁জল যোগ ▁করবে । ▁তিনি ▁পকেট ▁থেকে ▁একটা ▁প্যাকেট ▁বের ▁করে ▁মাসুদ ্রা নার ▁মশলা ▁বার ▁করে ▁বাতাসে ▁ছড়িয়ে ▁দিলেন । ▁এই ▁মশলা য় ▁কোনো ▁গন্ধ ▁নেই , ▁শুধু ▁বাতাসে ▁ছড়িয়ে ▁দিলে</td>\n",
              "    </tr>\n",
              "    <tr>\n",
              "      <td>2</td>\n",
              "      <td>▁হয়েছেন ▁বহু ▁লোক । ▁আজ ▁বাংলাদেশ ▁সময় ▁দুপুর ▁১২ টা ▁১১ ▁মিনিট ▁২৭ ▁সেকেন্ডে ▁এ ▁ভূমিকম্প ▁অনুভূত ▁হয় । ▁ভূমিকম্পের ▁উৎপত্তিস্থল ▁ঢাকা ▁থেকে ▁৭৪ ৫ ▁কিলোমিটার ▁দূরে , ▁নেপালের ▁রাজধানী ▁কাঠমান্ডু ▁ও ▁ পো খার ার ▁মাঝখানে ▁ লাম জু ং ▁এলাকায় ▁ছিল ▁ ভুমি কম্প টির ▁উৎপত্তিস্থল , ▁এবং ▁রিখটার ▁স্কেলে ▁এর ▁মাত্রা ▁ছিল ▁৭ . ৯ । ▁নেপাল ▁ছাড়াও ▁সমগ্র ▁উত্তর ▁ভারত , ▁পাকিস্তান ▁ও ▁বাংলাদেশ ▁জুড়ে ▁এই</td>\n",
              "    </tr>\n",
              "    <tr>\n",
              "      <td>3</td>\n",
              "      <td>' জন ▁লোক ▁আগে ▁ভাগে ▁টের ▁পায় । ▁তারা ▁কারা ? ▁আত িফ ▁ব্যাচেলর । ▁থাকেন ▁এক ▁ছাদ ের ▁চিল ে কোঠা য় । ▁সঙ্গে ▁থাকে ▁একমাত্র ▁প্রায় াত ▁বোনের ▁নয় ▁দশ ▁বছরের ▁শিশু ▁কন্যা ▁রূপকথা । ▁যার ▁বাবা ও ▁খুন ▁হয় ▁এক ▁রহস্যময় ▁নৌকা ▁ ডুবি তে । ▁রূপকথা ▁যাকে ▁কিনা ▁তার ▁মামা ▁আত িফ ▁ আরমান ▁ওরফে ▁ভাড়াটে ▁খুনি ▁কথা ▁নামে ▁ডাকে , ▁সে ▁ওই টুকু ▁পি চ্চি</td>\n",
              "    </tr>\n",
              "    <tr>\n",
              "      <td>4</td>\n",
              "      <td>▁দুধ ▁ কুড়া তে ▁গিয়ে ▁সে ▁ভগবান ▁শিবের ▁সেই ▁ছদ্ম বেশী ▁ মৃগ ের ▁সিং ▁খুঁজে ▁পায় । ▁তখন ▁থেকেই ▁এখানে ▁গ্রামবাসী ▁মিলে ▁ভগবান ▁পশু পতি নাথের ▁নামে ▁এখানে ▁একটি ▁মন্দির ▁প্রতিষ্ঠা ▁করেন । আরেকটি ▁জনপ্রিয় ▁জনশ্রুতি ▁হল , ▁ভগবান ▁শিব ▁আর ▁দেবী ▁প্রভাতী ▁কাঠ মুন্ড ু ▁ ভ্যাল ীতে ▁বেড়াতে ▁এসেছিলেন । ▁তারা ▁বাগ মতী ▁নদীতে ▁স্নান ▁করার ▁সময় ▁ওপারে র ▁জঙ্গল ের ▁সৌন্দর্য ▁দেখে ▁ভগবান ▁শিব ▁আ প্লুত</td>\n",
              "    </tr>\n",
              "  </tbody>\n",
              "</table>"
            ],
            "text/plain": [
              "<IPython.core.display.HTML object>"
            ]
          },
          "metadata": {
            "tags": []
          }
        }
      ]
    },
    {
      "cell_type": "code",
      "metadata": {
        "id": "sojwbilRgFEI",
        "colab_type": "code",
        "colab": {}
      },
      "source": [
        "data_lm_AA=load_data(aa2,'bhai_AA_subword_wiki_lm.pkl',bs=bs)"
      ],
      "execution_count": 0,
      "outputs": []
    },
    {
      "cell_type": "code",
      "metadata": {
        "id": "-g-0QtWZgFAT",
        "colab_type": "code",
        "colab": {}
      },
      "source": [
        "learn = language_model_learner(data_lm_AA, AWD_LSTM, pretrained=False, drop_mult=0.5)"
      ],
      "execution_count": 0,
      "outputs": []
    },
    {
      "cell_type": "code",
      "metadata": {
        "id": "qoY4GjFBgE8B",
        "colab_type": "code",
        "colab": {}
      },
      "source": [
        "learn.load(wiki/'models'/'wiki_subword_lm_30');"
      ],
      "execution_count": 0,
      "outputs": []
    },
    {
      "cell_type": "code",
      "metadata": {
        "id": "kwMw-4r6X4Ri",
        "colab_type": "code",
        "outputId": "64d26817-0a7e-41f7-ad69-ac755a6ad2ae",
        "colab": {
          "base_uri": "https://localhost:8080/",
          "height": 300
        }
      },
      "source": [
        "learn.freeze()\n",
        "learn.lr_find()\n",
        "learn.recorder.plot()"
      ],
      "execution_count": 28,
      "outputs": [
        {
          "output_type": "display_data",
          "data": {
            "text/html": [
              ""
            ],
            "text/plain": [
              "<IPython.core.display.HTML object>"
            ]
          },
          "metadata": {
            "tags": []
          }
        },
        {
          "output_type": "stream",
          "text": [
            "LR Finder is complete, type {learner_name}.recorder.plot() to see the graph.\n"
          ],
          "name": "stdout"
        },
        {
          "output_type": "display_data",
          "data": {
            "image/png": "[encoded data removed]",
            "text/plain": [
              "<Figure size 432x288 with 1 Axes>"
            ]
          },
          "metadata": {
            "tags": []
          }
        }
      ]
    },
    {
      "cell_type": "code",
      "metadata": {
        "id": "8kK2DdKn6aTw",
        "colab_type": "code",
        "outputId": "290ec7f9-fcac-4caa-964e-624c9532669d",
        "colab": {
          "base_uri": "https://localhost:8080/",
          "height": 283
        }
      },
      "source": [
        "learn.recorder.plot(skip_end=15)"
      ],
      "execution_count": 29,
      "outputs": [
        {
          "output_type": "display_data",
          "data": {
            "image/png": "[encoded data removed]",
            "text/plain": [
              "<Figure size 432x288 with 1 Axes>"
            ]
          },
          "metadata": {
            "tags": []
          }
        }
      ]
    },
    {
      "cell_type": "code",
      "metadata": {
        "id": "zjN_2U6RgUWB",
        "colab_type": "code",
        "outputId": "357cecbd-070a-4930-c742-631a2d48546f",
        "colab": {
          "base_uri": "https://localhost:8080/",
          "height": 111
        }
      },
      "source": [
        "learn.fit_one_cycle(2, 2e-2)\n",
        "learn.save('bhai_AA_lm_wiki_subword_head');"
      ],
      "execution_count": 30,
      "outputs": [
        {
          "output_type": "display_data",
          "data": {
            "text/html": [
              "<table border=\"1\" class=\"dataframe\">\n",
              "  <thead>\n",
              "    <tr style=\"text-align: left;\">\n",
              "      <th>epoch</th>\n",
              "      <th>train_loss</th>\n",
              "      <th>valid_loss</th>\n",
              "      <th>accuracy</th>\n",
              "      <th>time</th>\n",
              "    </tr>\n",
              "  </thead>\n",
              "  <tbody>\n",
              "    <tr>\n",
              "      <td>0</td>\n",
              "      <td>6.377289</td>\n",
              "      <td>6.438696</td>\n",
              "      <td>0.130913</td>\n",
              "      <td>03:35</td>\n",
              "    </tr>\n",
              "    <tr>\n",
              "      <td>1</td>\n",
              "      <td>5.735713</td>\n",
              "      <td>5.930586</td>\n",
              "      <td>0.163125</td>\n",
              "      <td>03:35</td>\n",
              "    </tr>\n",
              "  </tbody>\n",
              "</table>"
            ],
            "text/plain": [
              "<IPython.core.display.HTML object>"
            ]
          },
          "metadata": {
            "tags": []
          }
        }
      ]
    },
    {
      "cell_type": "code",
      "metadata": {
        "id": "l3ujWTwSgUSY",
        "colab_type": "code",
        "outputId": "ff988da3-b3ff-4fbf-8764-8672583950c3",
        "colab": {
          "base_uri": "https://localhost:8080/",
          "height": 361
        }
      },
      "source": [
        "learn.freeze_to(-2)\n",
        "learn.fit_one_cycle(2, 2e-2)\n",
        "learn.freeze_to(-3)\n",
        "learn.fit_one_cycle(2, 2e-2)\n",
        "learn.unfreeze()\n",
        "learn.fit_one_cycle(4, 2e-2)\n",
        "learn.save('bhai_AA_lm_wiki_subword_body')"
      ],
      "execution_count": 32,
      "outputs": [
        {
          "output_type": "display_data",
          "data": {
            "text/html": [
              "<table border=\"1\" class=\"dataframe\">\n",
              "  <thead>\n",
              "    <tr style=\"text-align: left;\">\n",
              "      <th>epoch</th>\n",
              "      <th>train_loss</th>\n",
              "      <th>valid_loss</th>\n",
              "      <th>accuracy</th>\n",
              "      <th>time</th>\n",
              "    </tr>\n",
              "  </thead>\n",
              "  <tbody>\n",
              "    <tr>\n",
              "      <td>0</td>\n",
              "      <td>5.905792</td>\n",
              "      <td>6.079459</td>\n",
              "      <td>0.150694</td>\n",
              "      <td>03:40</td>\n",
              "    </tr>\n",
              "    <tr>\n",
              "      <td>1</td>\n",
              "      <td>5.516206</td>\n",
              "      <td>5.727907</td>\n",
              "      <td>0.177403</td>\n",
              "      <td>03:39</td>\n",
              "    </tr>\n",
              "  </tbody>\n",
              "</table>"
            ],
            "text/plain": [
              "<IPython.core.display.HTML object>"
            ]
          },
          "metadata": {
            "tags": []
          }
        },
        {
          "output_type": "display_data",
          "data": {
            "text/html": [
              "<table border=\"1\" class=\"dataframe\">\n",
              "  <thead>\n",
              "    <tr style=\"text-align: left;\">\n",
              "      <th>epoch</th>\n",
              "      <th>train_loss</th>\n",
              "      <th>valid_loss</th>\n",
              "      <th>accuracy</th>\n",
              "      <th>time</th>\n",
              "    </tr>\n",
              "  </thead>\n",
              "  <tbody>\n",
              "    <tr>\n",
              "      <td>0</td>\n",
              "      <td>5.901317</td>\n",
              "      <td>6.067568</td>\n",
              "      <td>0.150988</td>\n",
              "      <td>03:57</td>\n",
              "    </tr>\n",
              "    <tr>\n",
              "      <td>1</td>\n",
              "      <td>5.510177</td>\n",
              "      <td>5.706888</td>\n",
              "      <td>0.179256</td>\n",
              "      <td>03:57</td>\n",
              "    </tr>\n",
              "  </tbody>\n",
              "</table>"
            ],
            "text/plain": [
              "<IPython.core.display.HTML object>"
            ]
          },
          "metadata": {
            "tags": []
          }
        },
        {
          "output_type": "display_data",
          "data": {
            "text/html": [
              "<table border=\"1\" class=\"dataframe\">\n",
              "  <thead>\n",
              "    <tr style=\"text-align: left;\">\n",
              "      <th>epoch</th>\n",
              "      <th>train_loss</th>\n",
              "      <th>valid_loss</th>\n",
              "      <th>accuracy</th>\n",
              "      <th>time</th>\n",
              "    </tr>\n",
              "  </thead>\n",
              "  <tbody>\n",
              "    <tr>\n",
              "      <td>0</td>\n",
              "      <td>5.661733</td>\n",
              "      <td>6.057470</td>\n",
              "      <td>0.149062</td>\n",
              "      <td>04:06</td>\n",
              "    </tr>\n",
              "    <tr>\n",
              "      <td>1</td>\n",
              "      <td>5.738271</td>\n",
              "      <td>5.946236</td>\n",
              "      <td>0.156972</td>\n",
              "      <td>04:06</td>\n",
              "    </tr>\n",
              "    <tr>\n",
              "      <td>2</td>\n",
              "      <td>5.408672</td>\n",
              "      <td>5.665642</td>\n",
              "      <td>0.177932</td>\n",
              "      <td>04:06</td>\n",
              "    </tr>\n",
              "    <tr>\n",
              "      <td>3</td>\n",
              "      <td>4.937543</td>\n",
              "      <td>5.564147</td>\n",
              "      <td>0.189668</td>\n",
              "      <td>04:06</td>\n",
              "    </tr>\n",
              "  </tbody>\n",
              "</table>"
            ],
            "text/plain": [
              "<IPython.core.display.HTML object>"
            ]
          },
          "metadata": {
            "tags": []
          }
        }
      ]
    },
    {
      "cell_type": "code",
      "metadata": {
        "id": "ya6CdV_sgUOj",
        "colab_type": "code",
        "colab": {}
      },
      "source": [
        "learn.save_encoder('bhai_AA_lm_wiki_subword_enc')"
      ],
      "execution_count": 0,
      "outputs": []
    },
    {
      "cell_type": "markdown",
      "metadata": {
        "id": "A3crYFs8gisO",
        "colab_type": "text"
      },
      "source": [
        "### Classifier"
      ]
    },
    {
      "cell_type": "code",
      "metadata": {
        "id": "cUen5_EDgFK-",
        "colab_type": "code",
        "colab": {}
      },
      "source": [
        "data_clas = TextClasDataBunch.from_csv(aa2, 'ulm_train.csv',tokenizer=mycust_tok, vocab=sp_vocab, bs=bs)\n",
        "data_clas.save('bhai_AA_subword_wiki_clas.pkl')"
      ],
      "execution_count": 0,
      "outputs": []
    },
    {
      "cell_type": "code",
      "metadata": {
        "id": "LwVhNvXkgFH3",
        "colab_type": "code",
        "outputId": "a4315df8-0f0e-4970-d75b-13fe02f84d9f",
        "colab": {
          "base_uri": "https://localhost:8080/",
          "height": 323
        }
      },
      "source": [
        "data_clas.show_batch()"
      ],
      "execution_count": 35,
      "outputs": [
        {
          "output_type": "display_data",
          "data": {
            "text/html": [
              "<table border=\"1\" class=\"dataframe\">\n",
              "  <thead>\n",
              "    <tr style=\"text-align: right;\">\n",
              "      <th>text</th>\n",
              "      <th>target</th>\n",
              "    </tr>\n",
              "  </thead>\n",
              "  <tbody>\n",
              "    <tr>\n",
              "      <td>▁xx bo s ▁দেখি তে ▁ গিয়া ছি ▁পর্বতমালা ▁একটু ▁বড় ▁... ▁লেখা টা ▁২০০৪ ▁সালের ▁অক্টোবরে ▁লেখা । ▁বছর দু য়ে ক ▁আগে ▁একাধিকবার ▁অনলাইনে ▁প্রকাশিত । ▁এই ▁লেখা টা ▁একাধিক ▁কারণে ▁আমার ▁প্রিয় । ▁প্রথমত , ▁লেখা টা ▁প্রায় ▁এক ▁আসনে ▁লেখা , ▁মাঝখানে ▁শুধু ▁ঘুমিয়ে ছিলাম ▁একটু । ▁দ্বিতীয়ত , ▁এখন ▁পর্যন্ত ▁এটাই ▁আমার ▁ম্যাগ নাম ▁ও পাস ▁( আয়তন ের ▁দিক ▁থেকে ) । ▁তৃতীয় ত</td>\n",
              "      <td>hm</td>\n",
              "    </tr>\n",
              "    <tr>\n",
              "      <td>▁xx bo s ▁দেখি তে ▁ গিয়া ছি ▁পর্বতমালা ▁একটু ▁বড় ▁... ▁লেখা টা ▁২০০৪ ▁সালের ▁অক্টোবরে ▁লেখা । ▁বছর দু য়ে ক ▁আগে ▁একাধিকবার ▁অনলাইনে ▁প্রকাশিত । ▁এই ▁লেখা টা ▁একাধিক ▁কারণে ▁আমার ▁প্রিয় । ▁প্রথমত , ▁লেখা টা ▁প্রায় ▁এক ▁আসনে ▁লেখা , ▁মাঝখানে ▁শুধু ▁ঘুমিয়ে ছিলাম ▁একটু । ▁দ্বিতীয়ত , ▁এখন ▁পর্যন্ত ▁এটাই ▁আমার ▁ম্যাগ নাম ▁ও পাস ▁( আয়তন ের ▁দিক ▁থেকে ) । ▁তৃতীয় ত</td>\n",
              "      <td>hm</td>\n",
              "    </tr>\n",
              "    <tr>\n",
              "      <td>▁xx bo s ▁চাহিদা পত্র ▁১ . ▁ মক বুল ▁স্ক্রিন ▁থেকে ▁চোখ ▁সরিয়ে ▁পর্যবেক্ষণ ▁ডেস্ক ▁থেকে ▁উঠে ▁পড়ল ো । ▁তার ▁মাথা ▁ টিপ টিপ ▁করে ▁ ব ▁ ্য থা ▁করছে , ▁শরীরের ▁কোষগুলো ▁একটু ▁পর ▁পর ▁যেন ▁ বিড় বিড় ▁করে ▁বলছে , ▁এক ▁কাপ ▁কফি ▁খাওয়া ▁দরকার । ▁নভো তরী ▁\" টি ম্বা ক টু \" ▁একটা ▁ছোটো ▁স্কাউট শিপ , ▁সর্বোচ্চ ▁চারজন ▁নভো না বিক</td>\n",
              "      <td>hm</td>\n",
              "    </tr>\n",
              "    <tr>\n",
              "      <td>▁xx bo s ▁আ বাহন ▁১ . ▁\" উনি ▁একজন ▁বু জ রুক ▁ছিলেন । \" ▁শামীম ের ▁কণ্ঠস্বর ে ▁তা চ্ছিল ্যের ▁কোনো ▁কম তি ▁ র ই লো ▁না । ▁সোমা ▁একটু ▁শাসন ▁করার ▁চেষ্টা ▁করলো ▁স্বামী কে , ▁\" নিজ ের ▁দাদা কে ▁কেউ ▁বু জ রুক ▁বলে ▁এভাবে ? \" ▁শামীম ▁বারান্দা র ▁কাঠের ▁রেল ি ঙে ▁পা ▁তুলে ▁দিয়ে ▁আয় েশ ▁করে ▁ চায়ের ▁কাপে</td>\n",
              "      <td>hm</td>\n",
              "    </tr>\n",
              "    <tr>\n",
              "      <td>▁xx bo s ▁গোয়েন্দা ▁ ঝা কানা কা ▁ও ▁অজ্ঞান ▁পার্টি ▁রহস্য ▁এক ▁গোয়েন্দা ▁ ঝা কানা কা ▁চোখ ▁গরম ▁করে ▁বললেন , ▁\" এ বার ও ▁কি ▁সেবার ের ▁মতো ▁দুই ▁ লম্ব রি ▁কেস ▁নিয়ে ▁হাজির ▁হলেন ▁নাকি ? \" ▁পুলিশের ▁গোয়েন্দা ▁বিভাগের ▁ডাক সাইট ে ▁দারোগা ▁কিং ক র্ত ব্য বি মূ ঢ় ▁চৌ ধার ি ▁আধ ▁হাত ▁জি ভ ▁কেটে ▁বললেন , ▁\" আর ▁লজ্জা ▁দেবেন</td>\n",
              "      <td>hm</td>\n",
              "    </tr>\n",
              "  </tbody>\n",
              "</table>"
            ],
            "text/plain": [
              "<IPython.core.display.HTML object>"
            ]
          },
          "metadata": {
            "tags": []
          }
        }
      ]
    },
    {
      "cell_type": "code",
      "metadata": {
        "id": "_EJUfcu4gkq4",
        "colab_type": "code",
        "colab": {}
      },
      "source": [
        "data_clas=load_data(aa2,'bhai_AA_subword_wiki_clas.pkl',bs=bs)"
      ],
      "execution_count": 0,
      "outputs": []
    },
    {
      "cell_type": "code",
      "metadata": {
        "id": "eFD8O6D5gknN",
        "colab_type": "code",
        "colab": {}
      },
      "source": [
        "learn_cls = text_classifier_learner(data_clas, AWD_LSTM, drop_mult=0.5, pretrained=False)\n",
        "learn_cls.load_encoder('bhai_AA_lm_wiki_subword_enc')"
      ],
      "execution_count": 0,
      "outputs": []
    },
    {
      "cell_type": "code",
      "metadata": {
        "id": "ojzOog-zjNR4",
        "colab_type": "code",
        "outputId": "44a6ead4-92d1-465d-99f2-e8ab92848bb4",
        "colab": {
          "base_uri": "https://localhost:8080/",
          "height": 300
        }
      },
      "source": [
        "learn_cls.freeze()\n",
        "learn_cls.lr_find()\n",
        "learn_cls.recorder.plot()"
      ],
      "execution_count": 38,
      "outputs": [
        {
          "output_type": "display_data",
          "data": {
            "text/html": [
              ""
            ],
            "text/plain": [
              "<IPython.core.display.HTML object>"
            ]
          },
          "metadata": {
            "tags": []
          }
        },
        {
          "output_type": "stream",
          "text": [
            "LR Finder is complete, type {learner_name}.recorder.plot() to see the graph.\n"
          ],
          "name": "stdout"
        },
        {
          "output_type": "display_data",
          "data": {
            "image/png": "[encoded data removed]",
            "text/plain": [
              "<Figure size 432x288 with 1 Axes>"
            ]
          },
          "metadata": {
            "tags": []
          }
        }
      ]
    },
    {
      "cell_type": "code",
      "metadata": {
        "id": "N9ZIUr2yKrDB",
        "colab_type": "code",
        "outputId": "5309701d-51ba-4cd3-8d1d-aba274a9adb0",
        "colab": {
          "base_uri": "https://localhost:8080/",
          "height": 283
        }
      },
      "source": [
        "learn_cls.recorder.plot(skip_end=10)"
      ],
      "execution_count": 39,
      "outputs": [
        {
          "output_type": "display_data",
          "data": {
            "image/png": "[encoded data removed]",
            "text/plain": [
              "<Figure size 432x288 with 1 Axes>"
            ]
          },
          "metadata": {
            "tags": []
          }
        }
      ]
    },
    {
      "cell_type": "code",
      "metadata": {
        "id": "jTJ1YHGCgkjp",
        "colab_type": "code",
        "outputId": "72b5a663-b236-4cb8-91b5-290dfde28121",
        "colab": {
          "base_uri": "https://localhost:8080/",
          "height": 455
        }
      },
      "source": [
        "learn_cls.fit_one_cycle(2, 1e-2, moms=(0.8,0.7))\n",
        "learn_cls.save('bhai_wiki_subword_cls')\n",
        "learn_cls.freeze_to(-2)\n",
        "learn_cls.fit_one_cycle(2 , slice(1e-2/(2.6**4),1e-2), moms=(0.8,0.7))\n",
        "learn_cls.save('bhai_wiki_subword_cls_2')\n",
        "learn_cls.freeze_to(-3)\n",
        "learn_cls.fit_one_cycle(2 , slice(1e-2/(2.6**4),1e-2), moms=(0.8,0.7))\n",
        "learn_cls.save('bhai_wiki_subword_cls_3')\n",
        "learn_cls.unfreeze()\n",
        "learn_cls.fit_one_cycle(4, slice(1e-3/(2.6**4),1e-3), moms=(0.8,0.7))\n",
        "learn_cls.save('bhai_wiki_subword_cls_4') "
      ],
      "execution_count": 40,
      "outputs": [
        {
          "output_type": "display_data",
          "data": {
            "text/html": [
              "<table border=\"1\" class=\"dataframe\">\n",
              "  <thead>\n",
              "    <tr style=\"text-align: left;\">\n",
              "      <th>epoch</th>\n",
              "      <th>train_loss</th>\n",
              "      <th>valid_loss</th>\n",
              "      <th>accuracy</th>\n",
              "      <th>time</th>\n",
              "    </tr>\n",
              "  </thead>\n",
              "  <tbody>\n",
              "    <tr>\n",
              "      <td>0</td>\n",
              "      <td>0.770532</td>\n",
              "      <td>0.345203</td>\n",
              "      <td>0.927978</td>\n",
              "      <td>01:52</td>\n",
              "    </tr>\n",
              "    <tr>\n",
              "      <td>1</td>\n",
              "      <td>0.446829</td>\n",
              "      <td>0.167504</td>\n",
              "      <td>0.952909</td>\n",
              "      <td>01:52</td>\n",
              "    </tr>\n",
              "  </tbody>\n",
              "</table>"
            ],
            "text/plain": [
              "<IPython.core.display.HTML object>"
            ]
          },
          "metadata": {
            "tags": []
          }
        },
        {
          "output_type": "display_data",
          "data": {
            "text/html": [
              "<table border=\"1\" class=\"dataframe\">\n",
              "  <thead>\n",
              "    <tr style=\"text-align: left;\">\n",
              "      <th>epoch</th>\n",
              "      <th>train_loss</th>\n",
              "      <th>valid_loss</th>\n",
              "      <th>accuracy</th>\n",
              "      <th>time</th>\n",
              "    </tr>\n",
              "  </thead>\n",
              "  <tbody>\n",
              "    <tr>\n",
              "      <td>0</td>\n",
              "      <td>0.319471</td>\n",
              "      <td>0.228133</td>\n",
              "      <td>0.936288</td>\n",
              "      <td>01:57</td>\n",
              "    </tr>\n",
              "    <tr>\n",
              "      <td>1</td>\n",
              "      <td>0.226566</td>\n",
              "      <td>0.156615</td>\n",
              "      <td>0.950139</td>\n",
              "      <td>02:08</td>\n",
              "    </tr>\n",
              "  </tbody>\n",
              "</table>"
            ],
            "text/plain": [
              "<IPython.core.display.HTML object>"
            ]
          },
          "metadata": {
            "tags": []
          }
        },
        {
          "output_type": "display_data",
          "data": {
            "text/html": [
              "<table border=\"1\" class=\"dataframe\">\n",
              "  <thead>\n",
              "    <tr style=\"text-align: left;\">\n",
              "      <th>epoch</th>\n",
              "      <th>train_loss</th>\n",
              "      <th>valid_loss</th>\n",
              "      <th>accuracy</th>\n",
              "      <th>time</th>\n",
              "    </tr>\n",
              "  </thead>\n",
              "  <tbody>\n",
              "    <tr>\n",
              "      <td>0</td>\n",
              "      <td>0.171769</td>\n",
              "      <td>0.170715</td>\n",
              "      <td>0.955679</td>\n",
              "      <td>02:32</td>\n",
              "    </tr>\n",
              "    <tr>\n",
              "      <td>1</td>\n",
              "      <td>0.142452</td>\n",
              "      <td>0.171551</td>\n",
              "      <td>0.958449</td>\n",
              "      <td>02:30</td>\n",
              "    </tr>\n",
              "  </tbody>\n",
              "</table>"
            ],
            "text/plain": [
              "<IPython.core.display.HTML object>"
            ]
          },
          "metadata": {
            "tags": []
          }
        },
        {
          "output_type": "display_data",
          "data": {
            "text/html": [
              "<table border=\"1\" class=\"dataframe\">\n",
              "  <thead>\n",
              "    <tr style=\"text-align: left;\">\n",
              "      <th>epoch</th>\n",
              "      <th>train_loss</th>\n",
              "      <th>valid_loss</th>\n",
              "      <th>accuracy</th>\n",
              "      <th>time</th>\n",
              "    </tr>\n",
              "  </thead>\n",
              "  <tbody>\n",
              "    <tr>\n",
              "      <td>0</td>\n",
              "      <td>0.092083</td>\n",
              "      <td>0.170938</td>\n",
              "      <td>0.958449</td>\n",
              "      <td>02:55</td>\n",
              "    </tr>\n",
              "    <tr>\n",
              "      <td>1</td>\n",
              "      <td>0.082727</td>\n",
              "      <td>0.159665</td>\n",
              "      <td>0.955679</td>\n",
              "      <td>03:04</td>\n",
              "    </tr>\n",
              "    <tr>\n",
              "      <td>2</td>\n",
              "      <td>0.073273</td>\n",
              "      <td>0.160354</td>\n",
              "      <td>0.950139</td>\n",
              "      <td>03:03</td>\n",
              "    </tr>\n",
              "    <tr>\n",
              "      <td>3</td>\n",
              "      <td>0.064865</td>\n",
              "      <td>0.159213</td>\n",
              "      <td>0.952909</td>\n",
              "      <td>02:51</td>\n",
              "    </tr>\n",
              "  </tbody>\n",
              "</table>"
            ],
            "text/plain": [
              "<IPython.core.display.HTML object>"
            ]
          },
          "metadata": {
            "tags": []
          }
        }
      ]
    },
    {
      "cell_type": "code",
      "metadata": {
        "id": "GnDf1GG_gUJ2",
        "colab_type": "code",
        "outputId": "3b608ba0-077a-49bf-b09a-5bbb7f6f6749",
        "colab": {
          "base_uri": "https://localhost:8080/",
          "height": 105
        }
      },
      "source": [
        "preds,targ = testing(aa2/'ulm_test.csv')"
      ],
      "execution_count": 43,
      "outputs": [
        {
          "output_type": "stream",
          "text": [
            "300\n",
            "Accuracy: \n",
            "0.9466666666666667\n",
            "[('rg', 'mk'), ('mk', 'rg'), ('ij', 'rn'), ('rn', 'mk'), ('rn', 'mk'), ('rn', 'mk'), ('mk', 'rn'), ('rg', 'mk'), ('rg', 'ij'), ('hm', 'mk'), ('fe', 'mk'), ('fe', 'mk'), ('fe', 'rn'), ('rn', 'mk'), ('rn', 'mk'), ('rg', 'rn')]\n"
          ],
          "name": "stdout"
        }
      ]
    },
    {
      "cell_type": "code",
      "metadata": {
        "id": "3rdm4LeQB2xv",
        "colab_type": "code",
        "colab": {
          "base_uri": "https://localhost:8080/",
          "height": 34
        },
        "outputId": "2f0a2ef1-d5da-49d2-c13a-8d0ca42954f8"
      },
      "source": [
        "from sklearn.metrics import f1_score\n",
        "out  = f1_score(targ, preds, average='macro') #'macro' , also == weighted cuz dataset is balanced\n",
        "out"
      ],
      "execution_count": 44,
      "outputs": [
        {
          "output_type": "execute_result",
          "data": {
            "text/plain": [
              "0.9475674268457773"
            ]
          },
          "metadata": {
            "tags": []
          },
          "execution_count": 44
        }
      ]
    },
    {
      "cell_type": "markdown",
      "metadata": {
        "id": "l7yWrTAEb3cW",
        "colab_type": "text"
      },
      "source": [
        "## News Dataset"
      ]
    },
    {
      "cell_type": "code",
      "metadata": {
        "id": "nNaKSrgBK9dm",
        "colab_type": "code",
        "colab": {}
      },
      "source": [
        ""
      ],
      "execution_count": 0,
      "outputs": []
    },
    {
      "cell_type": "code",
      "metadata": {
        "id": "1498OIsvb2OX",
        "colab_type": "code",
        "colab": {}
      },
      "source": [
        ""
      ],
      "execution_count": 0,
      "outputs": []
    }
  ]
}