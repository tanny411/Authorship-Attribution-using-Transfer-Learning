{
  "nbformat": 4,
  "nbformat_minor": 0,
  "metadata": {
    "colab": {
      "name": "All Auth Wiki Character ULMFiT.ipynb",
      "version": "0.3.2",
      "provenance": [],
      "collapsed_sections": [
        "3HRaFzcwhCl-",
        "IHsrNa0Wb33T",
        "lDCtMxqVb33b",
        "lWsQw_0Hb34t",
        "haI4JY6bJJJ5",
        "QsqTKv4RjXIO"
      ]
    },
    "kernelspec": {
      "name": "python3",
      "display_name": "Python 3"
    },
    "accelerator": "GPU"
  },
  "cells": [
    {
      "cell_type": "code",
      "metadata": {
        "id": "awjDboOLxjbL",
        "colab_type": "code",
        "outputId": "87d110a6-39b1-4ed4-be24-67ea9d2a6e02",
        "colab": {
          "base_uri": "https://localhost:8080/",
          "height": 853
        }
      },
      "source": [
        "!pip install fastai==1.0.52\n",
        "from fastai.text import *"
      ],
      "execution_count": 1,
      "outputs": [
        {
          "output_type": "stream",
          "text": [
            "Collecting fastai==1.0.52\n",
            "\u001b[?25l  Downloading https://files.pythonhosted.org/packages/de/07/7203179ba2f211bfbda364f883f645aea4d09ccfd48ce5dbb00a894722bf/fastai-1.0.52-py3-none-any.whl (219kB)\n",
            "\u001b[K     |████████████████████████████████| 225kB 6.8MB/s \n",
            "\u001b[?25hRequirement already satisfied: packaging in /usr/local/lib/python3.6/dist-packages (from fastai==1.0.52) (19.1)\n",
            "Requirement already satisfied: typing in /usr/local/lib/python3.6/dist-packages (from fastai==1.0.52) (3.7.4)\n",
            "Requirement already satisfied: spacy>=2.0.18 in /usr/local/lib/python3.6/dist-packages (from fastai==1.0.52) (2.1.7)\n",
            "Requirement already satisfied: pandas in /usr/local/lib/python3.6/dist-packages (from fastai==1.0.52) (0.24.2)\n",
            "Requirement already satisfied: numexpr in /usr/local/lib/python3.6/dist-packages (from fastai==1.0.52) (2.6.9)\n",
            "Requirement already satisfied: beautifulsoup4 in /usr/local/lib/python3.6/dist-packages (from fastai==1.0.52) (4.6.3)\n",
            "Requirement already satisfied: nvidia-ml-py3 in /usr/local/lib/python3.6/dist-packages (from fastai==1.0.52) (7.352.0)\n",
            "Requirement already satisfied: Pillow in /usr/local/lib/python3.6/dist-packages (from fastai==1.0.52) (4.3.0)\n",
            "Requirement already satisfied: requests in /usr/local/lib/python3.6/dist-packages (from fastai==1.0.52) (2.21.0)\n",
            "Requirement already satisfied: bottleneck in /usr/local/lib/python3.6/dist-packages (from fastai==1.0.52) (1.2.1)\n",
            "Requirement already satisfied: scipy in /usr/local/lib/python3.6/dist-packages (from fastai==1.0.52) (1.3.0)\n",
            "Requirement already satisfied: numpy>=1.15 in /usr/local/lib/python3.6/dist-packages (from fastai==1.0.52) (1.16.4)\n",
            "Requirement already satisfied: torchvision in /usr/local/lib/python3.6/dist-packages (from fastai==1.0.52) (0.3.0)\n",
            "Requirement already satisfied: dataclasses; python_version < \"3.7\" in /usr/local/lib/python3.6/dist-packages (from fastai==1.0.52) (0.6)\n",
            "Requirement already satisfied: matplotlib in /usr/local/lib/python3.6/dist-packages (from fastai==1.0.52) (3.0.3)\n",
            "Requirement already satisfied: torch>=1.0.0 in /usr/local/lib/python3.6/dist-packages (from fastai==1.0.52) (1.1.0)\n",
            "Requirement already satisfied: pyyaml in /usr/local/lib/python3.6/dist-packages (from fastai==1.0.52) (3.13)\n",
            "Requirement already satisfied: fastprogress>=0.1.19 in /usr/local/lib/python3.6/dist-packages (from fastai==1.0.52) (0.1.21)\n",
            "Requirement already satisfied: attrs in /usr/local/lib/python3.6/dist-packages (from packaging->fastai==1.0.52) (19.1.0)\n",
            "Requirement already satisfied: pyparsing>=2.0.2 in /usr/local/lib/python3.6/dist-packages (from packaging->fastai==1.0.52) (2.4.2)\n",
            "Requirement already satisfied: six in /usr/local/lib/python3.6/dist-packages (from packaging->fastai==1.0.52) (1.12.0)\n",
            "Requirement already satisfied: murmurhash<1.1.0,>=0.28.0 in /usr/local/lib/python3.6/dist-packages (from spacy>=2.0.18->fastai==1.0.52) (1.0.2)\n",
            "Requirement already satisfied: thinc<7.1.0,>=7.0.8 in /usr/local/lib/python3.6/dist-packages (from spacy>=2.0.18->fastai==1.0.52) (7.0.8)\n",
            "Requirement already satisfied: cymem<2.1.0,>=2.0.2 in /usr/local/lib/python3.6/dist-packages (from spacy>=2.0.18->fastai==1.0.52) (2.0.2)\n",
            "Requirement already satisfied: preshed<2.1.0,>=2.0.1 in /usr/local/lib/python3.6/dist-packages (from spacy>=2.0.18->fastai==1.0.52) (2.0.1)\n",
            "Requirement already satisfied: blis<0.3.0,>=0.2.2 in /usr/local/lib/python3.6/dist-packages (from spacy>=2.0.18->fastai==1.0.52) (0.2.4)\n",
            "Requirement already satisfied: wasabi<1.1.0,>=0.2.0 in /usr/local/lib/python3.6/dist-packages (from spacy>=2.0.18->fastai==1.0.52) (0.2.2)\n",
            "Requirement already satisfied: srsly<1.1.0,>=0.0.6 in /usr/local/lib/python3.6/dist-packages (from spacy>=2.0.18->fastai==1.0.52) (0.0.7)\n",
            "Requirement already satisfied: plac<1.0.0,>=0.9.6 in /usr/local/lib/python3.6/dist-packages (from spacy>=2.0.18->fastai==1.0.52) (0.9.6)\n",
            "Requirement already satisfied: pytz>=2011k in /usr/local/lib/python3.6/dist-packages (from pandas->fastai==1.0.52) (2018.9)\n",
            "Requirement already satisfied: python-dateutil>=2.5.0 in /usr/local/lib/python3.6/dist-packages (from pandas->fastai==1.0.52) (2.5.3)\n",
            "Requirement already satisfied: olefile in /usr/local/lib/python3.6/dist-packages (from Pillow->fastai==1.0.52) (0.46)\n",
            "Requirement already satisfied: certifi>=2017.4.17 in /usr/local/lib/python3.6/dist-packages (from requests->fastai==1.0.52) (2019.6.16)\n",
            "Requirement already satisfied: idna<2.9,>=2.5 in /usr/local/lib/python3.6/dist-packages (from requests->fastai==1.0.52) (2.8)\n",
            "Requirement already satisfied: urllib3<1.25,>=1.21.1 in /usr/local/lib/python3.6/dist-packages (from requests->fastai==1.0.52) (1.24.3)\n",
            "Requirement already satisfied: chardet<3.1.0,>=3.0.2 in /usr/local/lib/python3.6/dist-packages (from requests->fastai==1.0.52) (3.0.4)\n",
            "Requirement already satisfied: cycler>=0.10 in /usr/local/lib/python3.6/dist-packages (from matplotlib->fastai==1.0.52) (0.10.0)\n",
            "Requirement already satisfied: kiwisolver>=1.0.1 in /usr/local/lib/python3.6/dist-packages (from matplotlib->fastai==1.0.52) (1.1.0)\n",
            "Requirement already satisfied: tqdm<5.0.0,>=4.10.0 in /usr/local/lib/python3.6/dist-packages (from thinc<7.1.0,>=7.0.8->spacy>=2.0.18->fastai==1.0.52) (4.28.1)\n",
            "Requirement already satisfied: setuptools in /usr/local/lib/python3.6/dist-packages (from kiwisolver>=1.0.1->matplotlib->fastai==1.0.52) (41.0.1)\n",
            "Installing collected packages: fastai\n",
            "  Found existing installation: fastai 1.0.55\n",
            "    Uninstalling fastai-1.0.55:\n",
            "      Successfully uninstalled fastai-1.0.55\n",
            "Successfully installed fastai-1.0.52\n"
          ],
          "name": "stdout"
        }
      ]
    },
    {
      "cell_type": "code",
      "metadata": {
        "id": "PoGx0I-iyi4b",
        "colab_type": "code",
        "outputId": "bc4ca3b3-5307-44ad-ccec-b508b60ebca6",
        "colab": {
          "base_uri": "https://localhost:8080/",
          "height": 122
        }
      },
      "source": [
        "from google.colab import drive\n",
        "drive.mount('/content/gdrive')"
      ],
      "execution_count": 2,
      "outputs": [
        {
          "output_type": "stream",
          "text": [
            "Go to this URL in a browser: https://accounts.google.com/o/oauth2/auth?client_id=947318989803-6bn6qk8qdgf4n4g3pfee6491hc0brc4i.apps.googleusercontent.com&redirect_uri=urn%3Aietf%3Awg%3Aoauth%3A2.0%3Aoob&scope=email%20https%3A%2F%2Fwww.googleapis.com%2Fauth%2Fdocs.test%20https%3A%2F%2Fwww.googleapis.com%2Fauth%2Fdrive%20https%3A%2F%2Fwww.googleapis.com%2Fauth%2Fdrive.photos.readonly%20https%3A%2F%2Fwww.googleapis.com%2Fauth%2Fpeopleapi.readonly&response_type=code\n",
            "\n",
            "Enter your authorization code:\n",
            "··········\n",
            "Mounted at /content/gdrive\n"
          ],
          "name": "stdout"
        }
      ]
    },
    {
      "cell_type": "code",
      "metadata": {
        "id": "Vx8ecL3hylAz",
        "colab_type": "code",
        "colab": {}
      },
      "source": [
        "import os\n",
        "path = Path(os.getcwd())\n",
        "path = path/'gdrive'/'My Drive'\n",
        "news=path/'Thesis Data'/'full doc csv'\n",
        "aa=path/'Thesis Data'/'Our dataset'\n",
        "aa2=path/'Thesis Data'/'AA dataset'\n",
        "char=path/'Thesis Data'/'char-ulm'\n",
        "subsets=aa/'subsets'\n",
        "wiki=path/'Thesis Data'/'wiki_data'/'Wiki'"
      ],
      "execution_count": 0,
      "outputs": []
    },
    {
      "cell_type": "code",
      "metadata": {
        "id": "YQLBhFLsRVqW",
        "colab_type": "code",
        "colab": {}
      },
      "source": [
        "def testing(dts):\n",
        "  df = pd.read_csv(dts) \n",
        "  text_array = df[\"text\"].tolist()\n",
        "  print(len(text_array))\n",
        "\n",
        "  final_preds = []\n",
        "\n",
        "  for text in text_array:\n",
        "      preds = learn_cls.predict(text)\n",
        "      final_preds.append(str(preds[0]))\n",
        "\n",
        "  targets = df[\"label\"].tolist()\n",
        "\n",
        "  err=[]\n",
        "  count =0;\n",
        "  tst = len(text_array)\n",
        "\n",
        "  for i in range(tst):\n",
        "      if(targets[i]==final_preds[i]):\n",
        "          count = count+1\n",
        "      else:\n",
        "  #         print(targets[i] + \", \" + final_preds[i] + ';')\n",
        "          err.append((targets[i],final_preds[i]))\n",
        "  print(\"Accuracy: \")\n",
        "  print(count/tst)\n",
        "  print(err)\n",
        "  \n",
        "  return final_preds,targets"
      ],
      "execution_count": 0,
      "outputs": []
    },
    {
      "cell_type": "markdown",
      "metadata": {
        "id": "DIGhnxGVz-zu",
        "colab_type": "text"
      },
      "source": [
        "### LM"
      ]
    },
    {
      "cell_type": "code",
      "metadata": {
        "id": "jMZqYUDmzzzk",
        "colab_type": "code",
        "colab": {}
      },
      "source": [
        "bs = 32\n",
        "bptt = 70\n",
        "vocab = \" !\\\"#$%&'()*+,-./0123456789:;=<>?@ABCDEFGHIJKLMNOPQRSTUVWXYZ[]^_`abcdefghijklmnopqrstuvwxyz{|}~¥§©±ঃঅআইঈউঊঋএঐওঔকখগঘঙচছজঝঞটঠডঢণতথদধনপফবভমযরলশষসহ়ািীুূৃেৈোৌ্ৎৗড়ঢ়য়০১২৩৪৫৬৭৮৯৷‘’‚“”‪™−√∝∞\""
      ],
      "execution_count": 0,
      "outputs": []
    },
    {
      "cell_type": "code",
      "metadata": {
        "id": "6Vh5WbYHf49A",
        "colab_type": "code",
        "colab": {}
      },
      "source": [
        "class NewTokenizer(BaseTokenizer):\n",
        "    def tokenizer(self,t):\n",
        "      return [BOS]+[i for i in t]"
      ],
      "execution_count": 0,
      "outputs": []
    },
    {
      "cell_type": "code",
      "metadata": {
        "id": "ap0pyCjI9QPs",
        "colab_type": "code",
        "colab": {}
      },
      "source": [
        "itos = [UNK, PAD, BOS, EOS, FLD, TK_REP, TK_WREP] + [i for i in vocab]"
      ],
      "execution_count": 0,
      "outputs": []
    },
    {
      "cell_type": "code",
      "metadata": {
        "id": "dx2I-aG4gc93",
        "colab_type": "code",
        "outputId": "2836d892-c852-4388-e457-3ef77faf8758",
        "colab": {
          "base_uri": "https://localhost:8080/",
          "height": 34
        }
      },
      "source": [
        "len(itos) ##188"
      ],
      "execution_count": 8,
      "outputs": [
        {
          "output_type": "execute_result",
          "data": {
            "text/plain": [
              "188"
            ]
          },
          "metadata": {
            "tags": []
          },
          "execution_count": 8
        }
      ]
    },
    {
      "cell_type": "code",
      "metadata": {
        "id": "lAPdTDL_9cZc",
        "colab_type": "code",
        "colab": {}
      },
      "source": [
        "vocab=Vocab(itos)\n",
        "tokenizer=Tokenizer(NewTokenizer, pre_rules=[], post_rules=[])"
      ],
      "execution_count": 0,
      "outputs": []
    },
    {
      "cell_type": "markdown",
      "metadata": {
        "id": "XnY8W-SZsrrn",
        "colab_type": "text"
      },
      "source": [
        "## 6 Authors"
      ]
    },
    {
      "cell_type": "markdown",
      "metadata": {
        "id": "3HRaFzcwhCl-",
        "colab_type": "text"
      },
      "source": [
        "### FineTune LM"
      ]
    },
    {
      "cell_type": "code",
      "metadata": {
        "id": "j4QMAaMQhEHH",
        "colab_type": "code",
        "colab": {}
      },
      "source": [
        "bs = 128\n",
        "data_lm=load_data(subsets,'6train_char_lm.pkl',bs=bs)"
      ],
      "execution_count": 0,
      "outputs": []
    },
    {
      "cell_type": "code",
      "metadata": {
        "id": "tObM7hpbh_Tx",
        "colab_type": "code",
        "outputId": "2c20362c-829a-4610-9b20-3b2485a533a2",
        "colab": {
          "base_uri": "https://localhost:8080/",
          "height": 204
        }
      },
      "source": [
        "data_lm.show_batch()"
      ],
      "execution_count": 0,
      "outputs": [
        {
          "output_type": "display_data",
          "data": {
            "text/html": [
              "<table border=\"1\" class=\"dataframe\">\n",
              "  <thead>\n",
              "    <tr style=\"text-align: right;\">\n",
              "      <th>idx</th>\n",
              "      <th>text</th>\n",
              "    </tr>\n",
              "  </thead>\n",
              "  <tbody>\n",
              "    <tr>\n",
              "      <td>0</td>\n",
              "      <td>্ র ে   দ ে খ ি ত ে ছ ে   স ে   স ম ্ ব ন ্ ধ ে   ত া হ া র   ন ি জ ে র   য দ ি   চ ে ত ন া   থ া ক ি ত   ত ব ে   স ে</td>\n",
              "    </tr>\n",
              "    <tr>\n",
              "      <td>1</td>\n",
              "      <td>ি ন ে ই   ত া xxunk হ া ক ে   এ ক ে ব া র ে   শ য ্ য া শ া য় ি ন ী   ক র ি য় া   দ ি ল xxunk   ন ী ল ক ণ ্ ঠ   ম ু খ ু য ্ য ে ম শ া</td>\n",
              "    </tr>\n",
              "    <tr>\n",
              "      <td>2</td>\n",
              "      <td>় ে ক   স প ্ ত া হ   য খ ন   ত া ক ে   অ চ ে ত ন   ক র ে   ঘ ু ম   প া ড ় ি য ় ে   র া খ া   হ ল ো   ত খ ন ো   এ ই</td>\n",
              "    </tr>\n",
              "    <tr>\n",
              "      <td>3</td>\n",
              "      <td>চ ে   আ ছ ি xxunk   এ ব xxunk   প ্ র ত ি ম ু হ ূ র ্ ত ে   আ ল ্ ল া হ র   ক া ছ ে   প ্ র া র ্ থ ন া   ক র ছ ি   য ে ন   আ ম া</td>\n",
              "    </tr>\n",
              "    <tr>\n",
              "      <td>4</td>\n",
              "      <td>ে   স ঙ ্ গ ে   ন ি য় ে   স ে   ফ ি র ে ছ ি ল xxunk   উ ৎ স ু ক   ত ি র ি   হ য় ত ো   শ ম ি ত ে র   শ র ী র ে র   অ ব স ্ থ</td>\n",
              "    </tr>\n",
              "  </tbody>\n",
              "</table>"
            ],
            "text/plain": [
              "<IPython.core.display.HTML object>"
            ]
          },
          "metadata": {
            "tags": []
          }
        }
      ]
    },
    {
      "cell_type": "code",
      "metadata": {
        "id": "_8uL8qmAItBu",
        "colab_type": "code",
        "colab": {}
      },
      "source": [
        "learn = language_model_learner(data_lm, AWD_LSTM, pretrained=False, drop_mult=0.5)"
      ],
      "execution_count": 0,
      "outputs": []
    },
    {
      "cell_type": "code",
      "metadata": {
        "id": "FsREVIuHlI9b",
        "colab_type": "code",
        "outputId": "01671fe5-2141-4988-c92a-94fdcd2dbc3d",
        "colab": {
          "base_uri": "https://localhost:8080/",
          "height": 300
        }
      },
      "source": [
        "learn.load(wiki/'models'/'wiki_char_15');\n",
        "learn.lr_find()\n",
        "learn.recorder.plot()"
      ],
      "execution_count": 0,
      "outputs": [
        {
          "output_type": "display_data",
          "data": {
            "text/html": [
              ""
            ],
            "text/plain": [
              "<IPython.core.display.HTML object>"
            ]
          },
          "metadata": {
            "tags": []
          }
        },
        {
          "output_type": "stream",
          "text": [
            "LR Finder is complete, type {learner_name}.recorder.plot() to see the graph.\n"
          ],
          "name": "stdout"
        },
        {
          "output_type": "display_data",
          "data": {
            "image/png": "[encoded data removed]",
            "text/plain": [
              "<Figure size 432x288 with 1 Axes>"
            ]
          },
          "metadata": {
            "tags": []
          }
        }
      ]
    },
    {
      "cell_type": "code",
      "metadata": {
        "id": "oHqbg349iBBn",
        "colab_type": "code",
        "outputId": "9fe07f5f-30ba-43f6-b2e6-7053821f16e1",
        "colab": {
          "base_uri": "https://localhost:8080/",
          "height": 283
        }
      },
      "source": [
        "learn.recorder.plot(skip_end=15)"
      ],
      "execution_count": 0,
      "outputs": [
        {
          "output_type": "display_data",
          "data": {
            "image/png": "[encoded data removed]",
            "text/plain": [
              "<Figure size 432x288 with 1 Axes>"
            ]
          },
          "metadata": {
            "tags": []
          }
        }
      ]
    },
    {
      "cell_type": "code",
      "metadata": {
        "id": "4ODd8P6YnQxD",
        "colab_type": "code",
        "outputId": "c74ec5b6-9287-4bcd-f4a6-173a195aacf1",
        "colab": {
          "base_uri": "https://localhost:8080/",
          "height": 111
        }
      },
      "source": [
        "learn.freeze()\n",
        "learn.fit_one_cycle(2, 1e-2)\n",
        "learn.save('6train_wiki_char_lm_head');"
      ],
      "execution_count": 0,
      "outputs": [
        {
          "output_type": "display_data",
          "data": {
            "text/html": [
              "<table border=\"1\" class=\"dataframe\">\n",
              "  <thead>\n",
              "    <tr style=\"text-align: left;\">\n",
              "      <th>epoch</th>\n",
              "      <th>train_loss</th>\n",
              "      <th>valid_loss</th>\n",
              "      <th>accuracy</th>\n",
              "      <th>time</th>\n",
              "    </tr>\n",
              "  </thead>\n",
              "  <tbody>\n",
              "    <tr>\n",
              "      <td>0</td>\n",
              "      <td>1.638759</td>\n",
              "      <td>1.572219</td>\n",
              "      <td>0.540217</td>\n",
              "      <td>17:48</td>\n",
              "    </tr>\n",
              "    <tr>\n",
              "      <td>1</td>\n",
              "      <td>1.627931</td>\n",
              "      <td>1.566530</td>\n",
              "      <td>0.541704</td>\n",
              "      <td>17:58</td>\n",
              "    </tr>\n",
              "  </tbody>\n",
              "</table>"
            ],
            "text/plain": [
              "<IPython.core.display.HTML object>"
            ]
          },
          "metadata": {
            "tags": []
          }
        }
      ]
    },
    {
      "cell_type": "code",
      "metadata": {
        "id": "jTYNQv-2nzwz",
        "colab_type": "code",
        "outputId": "160b0231-26bd-4998-8db8-17fb0f54ae61",
        "colab": {
          "base_uri": "https://localhost:8080/",
          "height": 111
        }
      },
      "source": [
        "learn.freeze_to(-2)\n",
        "learn.fit_one_cycle(2, 1e-2)\n",
        "learn.save('6train_wiki_char_lm_body_1');"
      ],
      "execution_count": 0,
      "outputs": [
        {
          "output_type": "display_data",
          "data": {
            "text/html": [
              "<table border=\"1\" class=\"dataframe\">\n",
              "  <thead>\n",
              "    <tr style=\"text-align: left;\">\n",
              "      <th>epoch</th>\n",
              "      <th>train_loss</th>\n",
              "      <th>valid_loss</th>\n",
              "      <th>accuracy</th>\n",
              "      <th>time</th>\n",
              "    </tr>\n",
              "  </thead>\n",
              "  <tbody>\n",
              "    <tr>\n",
              "      <td>0</td>\n",
              "      <td>1.370182</td>\n",
              "      <td>1.323461</td>\n",
              "      <td>0.607999</td>\n",
              "      <td>18:39</td>\n",
              "    </tr>\n",
              "    <tr>\n",
              "      <td>1</td>\n",
              "      <td>1.331366</td>\n",
              "      <td>1.272717</td>\n",
              "      <td>0.621565</td>\n",
              "      <td>18:33</td>\n",
              "    </tr>\n",
              "  </tbody>\n",
              "</table>"
            ],
            "text/plain": [
              "<IPython.core.display.HTML object>"
            ]
          },
          "metadata": {
            "tags": []
          }
        }
      ]
    },
    {
      "cell_type": "code",
      "metadata": {
        "id": "NDqlqcrmohSH",
        "colab_type": "code",
        "outputId": "04a5f001-3c00-4cdf-a4a0-ec768577d2fb",
        "colab": {
          "base_uri": "https://localhost:8080/",
          "height": 111
        }
      },
      "source": [
        "learn.freeze_to(-3)\n",
        "learn.fit_one_cycle(2, 1e-2)\n",
        "learn.save('6train_wiki_char_lm_body_2');"
      ],
      "execution_count": 0,
      "outputs": [
        {
          "output_type": "display_data",
          "data": {
            "text/html": [
              "<table border=\"1\" class=\"dataframe\">\n",
              "  <thead>\n",
              "    <tr style=\"text-align: left;\">\n",
              "      <th>epoch</th>\n",
              "      <th>train_loss</th>\n",
              "      <th>valid_loss</th>\n",
              "      <th>accuracy</th>\n",
              "      <th>time</th>\n",
              "    </tr>\n",
              "  </thead>\n",
              "  <tbody>\n",
              "    <tr>\n",
              "      <td>0</td>\n",
              "      <td>1.299388</td>\n",
              "      <td>1.254299</td>\n",
              "      <td>0.627072</td>\n",
              "      <td>21:24</td>\n",
              "    </tr>\n",
              "    <tr>\n",
              "      <td>1</td>\n",
              "      <td>1.226215</td>\n",
              "      <td>1.196567</td>\n",
              "      <td>0.642620</td>\n",
              "      <td>21:29</td>\n",
              "    </tr>\n",
              "  </tbody>\n",
              "</table>"
            ],
            "text/plain": [
              "<IPython.core.display.HTML object>"
            ]
          },
          "metadata": {
            "tags": []
          }
        }
      ]
    },
    {
      "cell_type": "code",
      "metadata": {
        "id": "uDuiRMoAom1a",
        "colab_type": "code",
        "outputId": "53502559-9d65-4bda-ec28-4fcd4f95ee46",
        "colab": {
          "base_uri": "https://localhost:8080/",
          "height": 173
        }
      },
      "source": [
        "learn.load('6train_wiki_char_lm_body_2');\n",
        "learn.unfreeze()\n",
        "learn.fit_one_cycle(4, 1e-2)\n",
        "learn.save('6train_wiki_char_lm_body_3');"
      ],
      "execution_count": 0,
      "outputs": [
        {
          "output_type": "display_data",
          "data": {
            "text/html": [
              "<table border=\"1\" class=\"dataframe\">\n",
              "  <thead>\n",
              "    <tr style=\"text-align: left;\">\n",
              "      <th>epoch</th>\n",
              "      <th>train_loss</th>\n",
              "      <th>valid_loss</th>\n",
              "      <th>accuracy</th>\n",
              "      <th>time</th>\n",
              "    </tr>\n",
              "  </thead>\n",
              "  <tbody>\n",
              "    <tr>\n",
              "      <td>0</td>\n",
              "      <td>1.257231</td>\n",
              "      <td>1.232323</td>\n",
              "      <td>0.632917</td>\n",
              "      <td>23:39</td>\n",
              "    </tr>\n",
              "    <tr>\n",
              "      <td>1</td>\n",
              "      <td>1.246346</td>\n",
              "      <td>1.215253</td>\n",
              "      <td>0.637848</td>\n",
              "      <td>23:38</td>\n",
              "    </tr>\n",
              "    <tr>\n",
              "      <td>2</td>\n",
              "      <td>1.197213</td>\n",
              "      <td>1.170835</td>\n",
              "      <td>0.649604</td>\n",
              "      <td>23:38</td>\n",
              "    </tr>\n",
              "    <tr>\n",
              "      <td>3</td>\n",
              "      <td>1.151159</td>\n",
              "      <td>1.152620</td>\n",
              "      <td>0.655028</td>\n",
              "      <td>23:39</td>\n",
              "    </tr>\n",
              "  </tbody>\n",
              "</table>"
            ],
            "text/plain": [
              "<IPython.core.display.HTML object>"
            ]
          },
          "metadata": {
            "tags": []
          }
        }
      ]
    },
    {
      "cell_type": "code",
      "metadata": {
        "id": "FzzWRmZPMcIQ",
        "colab_type": "code",
        "outputId": "eded204c-f154-42eb-d696-1f3b3fb69d9d",
        "colab": {
          "base_uri": "https://localhost:8080/",
          "height": 173
        }
      },
      "source": [
        "learn.unfreeze()\n",
        "learn.fit_one_cycle(4, 1e-2)\n",
        "learn.save('6train_wiki_char_lm_body_4');"
      ],
      "execution_count": 0,
      "outputs": [
        {
          "output_type": "display_data",
          "data": {
            "text/html": [
              "<table border=\"1\" class=\"dataframe\">\n",
              "  <thead>\n",
              "    <tr style=\"text-align: left;\">\n",
              "      <th>epoch</th>\n",
              "      <th>train_loss</th>\n",
              "      <th>valid_loss</th>\n",
              "      <th>accuracy</th>\n",
              "      <th>time</th>\n",
              "    </tr>\n",
              "  </thead>\n",
              "  <tbody>\n",
              "    <tr>\n",
              "      <td>0</td>\n",
              "      <td>1.219271</td>\n",
              "      <td>1.201828</td>\n",
              "      <td>0.641745</td>\n",
              "      <td>23:33</td>\n",
              "    </tr>\n",
              "    <tr>\n",
              "      <td>1</td>\n",
              "      <td>1.217246</td>\n",
              "      <td>1.197109</td>\n",
              "      <td>0.642730</td>\n",
              "      <td>23:29</td>\n",
              "    </tr>\n",
              "    <tr>\n",
              "      <td>2</td>\n",
              "      <td>1.177233</td>\n",
              "      <td>1.155826</td>\n",
              "      <td>0.654127</td>\n",
              "      <td>23:20</td>\n",
              "    </tr>\n",
              "    <tr>\n",
              "      <td>3</td>\n",
              "      <td>1.142093</td>\n",
              "      <td>1.139255</td>\n",
              "      <td>0.659146</td>\n",
              "      <td>23:18</td>\n",
              "    </tr>\n",
              "  </tbody>\n",
              "</table>"
            ],
            "text/plain": [
              "<IPython.core.display.HTML object>"
            ]
          },
          "metadata": {
            "tags": []
          }
        }
      ]
    },
    {
      "cell_type": "code",
      "metadata": {
        "id": "fVZfahwVopiX",
        "colab_type": "code",
        "colab": {}
      },
      "source": [
        "learn.save_encoder('6train_wiki_char_lm_enc')"
      ],
      "execution_count": 0,
      "outputs": []
    },
    {
      "cell_type": "markdown",
      "metadata": {
        "id": "_3rhmN7cZD9J",
        "colab_type": "text"
      },
      "source": [
        "### Classification (OUR AA)"
      ]
    },
    {
      "cell_type": "code",
      "metadata": {
        "id": "zJ02--VH4PIl",
        "colab_type": "code",
        "colab": {}
      },
      "source": [
        "data_clas=load_data(subsets,'6train_char_clas.pkl',bs=32)"
      ],
      "execution_count": 0,
      "outputs": []
    },
    {
      "cell_type": "code",
      "metadata": {
        "id": "884395Mgyu6w",
        "colab_type": "code",
        "colab": {}
      },
      "source": [
        "learn_cls = text_classifier_learner(data_clas, AWD_LSTM, drop_mult=0.5, pretrained=False)\n",
        "learn_cls.load_encoder('6train_wiki_char_lm_enc')"
      ],
      "execution_count": 0,
      "outputs": []
    },
    {
      "cell_type": "code",
      "metadata": {
        "id": "eF09AQY3h97W",
        "colab_type": "code",
        "outputId": "4e2351f6-3637-4d64-e8a2-04db26247065",
        "colab": {
          "base_uri": "https://localhost:8080/",
          "height": 300
        }
      },
      "source": [
        "learn_cls.freeze()\n",
        "learn_cls.lr_find()\n",
        "learn_cls.recorder.plot()"
      ],
      "execution_count": 0,
      "outputs": [
        {
          "output_type": "display_data",
          "data": {
            "text/html": [
              ""
            ],
            "text/plain": [
              "<IPython.core.display.HTML object>"
            ]
          },
          "metadata": {
            "tags": []
          }
        },
        {
          "output_type": "stream",
          "text": [
            "LR Finder is complete, type {learner_name}.recorder.plot() to see the graph.\n"
          ],
          "name": "stdout"
        },
        {
          "output_type": "display_data",
          "data": {
            "image/png": "[encoded data removed]",
            "text/plain": [
              "<Figure size 432x288 with 1 Axes>"
            ]
          },
          "metadata": {
            "tags": []
          }
        }
      ]
    },
    {
      "cell_type": "code",
      "metadata": {
        "id": "g5TNW3FGZCsL",
        "colab_type": "code",
        "outputId": "1f09ccc1-24a4-45e4-dc0c-4129ef382de7",
        "colab": {
          "base_uri": "https://localhost:8080/",
          "height": 111
        }
      },
      "source": [
        "learn_cls.fit_one_cycle(2, 1e-2, moms=(0.8,0.7))\n",
        "learn_cls.save('6train_wiki_char_cls_1')"
      ],
      "execution_count": 0,
      "outputs": [
        {
          "output_type": "display_data",
          "data": {
            "text/html": [
              "<table border=\"1\" class=\"dataframe\">\n",
              "  <thead>\n",
              "    <tr style=\"text-align: left;\">\n",
              "      <th>epoch</th>\n",
              "      <th>train_loss</th>\n",
              "      <th>valid_loss</th>\n",
              "      <th>accuracy</th>\n",
              "      <th>time</th>\n",
              "    </tr>\n",
              "  </thead>\n",
              "  <tbody>\n",
              "    <tr>\n",
              "      <td>0</td>\n",
              "      <td>0.272784</td>\n",
              "      <td>0.105967</td>\n",
              "      <td>0.967834</td>\n",
              "      <td>17:21</td>\n",
              "    </tr>\n",
              "    <tr>\n",
              "      <td>1</td>\n",
              "      <td>0.121405</td>\n",
              "      <td>0.046677</td>\n",
              "      <td>0.985809</td>\n",
              "      <td>17:45</td>\n",
              "    </tr>\n",
              "  </tbody>\n",
              "</table>"
            ],
            "text/plain": [
              "<IPython.core.display.HTML object>"
            ]
          },
          "metadata": {
            "tags": []
          }
        }
      ]
    },
    {
      "cell_type": "code",
      "metadata": {
        "id": "pKg1ci9xfKtP",
        "colab_type": "code",
        "outputId": "bbab3dce-1b1a-4876-a564-1d21597812c5",
        "colab": {
          "base_uri": "https://localhost:8080/",
          "height": 111
        }
      },
      "source": [
        "learn_cls.load('6train_wiki_char_cls_1')\n",
        "learn_cls.freeze_to(-2)\n",
        "learn_cls.fit_one_cycle(2 , slice(1e-2/(2.6**4),1e-2), moms=(0.8,0.7))\n",
        "learn_cls.save('6train_wiki_char_cls_2')"
      ],
      "execution_count": 0,
      "outputs": [
        {
          "output_type": "display_data",
          "data": {
            "text/html": [
              "<table border=\"1\" class=\"dataframe\">\n",
              "  <thead>\n",
              "    <tr style=\"text-align: left;\">\n",
              "      <th>epoch</th>\n",
              "      <th>train_loss</th>\n",
              "      <th>valid_loss</th>\n",
              "      <th>accuracy</th>\n",
              "      <th>time</th>\n",
              "    </tr>\n",
              "  </thead>\n",
              "  <tbody>\n",
              "    <tr>\n",
              "      <td>0</td>\n",
              "      <td>0.085634</td>\n",
              "      <td>0.092793</td>\n",
              "      <td>0.980132</td>\n",
              "      <td>18:44</td>\n",
              "    </tr>\n",
              "    <tr>\n",
              "      <td>1</td>\n",
              "      <td>0.075684</td>\n",
              "      <td>0.028112</td>\n",
              "      <td>0.991485</td>\n",
              "      <td>18:32</td>\n",
              "    </tr>\n",
              "  </tbody>\n",
              "</table>"
            ],
            "text/plain": [
              "<IPython.core.display.HTML object>"
            ]
          },
          "metadata": {
            "tags": []
          }
        }
      ]
    },
    {
      "cell_type": "code",
      "metadata": {
        "id": "ekAKfCOadAug",
        "colab_type": "code",
        "outputId": "538884f2-8b3a-41b0-f76d-b86428b891a3",
        "colab": {
          "base_uri": "https://localhost:8080/",
          "height": 111
        }
      },
      "source": [
        "learn_cls.load('6train_wiki_char_cls_2')\n",
        "learn_cls.freeze_to(-3)\n",
        "learn_cls.fit_one_cycle(2, slice(5e-3/(2.6**4),5e-3), moms=(0.8,0.7))\n",
        "learn_cls.save('6train_wiki_char_cls_3')"
      ],
      "execution_count": 0,
      "outputs": [
        {
          "output_type": "display_data",
          "data": {
            "text/html": [
              "<table border=\"1\" class=\"dataframe\">\n",
              "  <thead>\n",
              "    <tr style=\"text-align: left;\">\n",
              "      <th>epoch</th>\n",
              "      <th>train_loss</th>\n",
              "      <th>valid_loss</th>\n",
              "      <th>accuracy</th>\n",
              "      <th>time</th>\n",
              "    </tr>\n",
              "  </thead>\n",
              "  <tbody>\n",
              "    <tr>\n",
              "      <td>0</td>\n",
              "      <td>0.057728</td>\n",
              "      <td>0.027442</td>\n",
              "      <td>0.990539</td>\n",
              "      <td>21:30</td>\n",
              "    </tr>\n",
              "    <tr>\n",
              "      <td>1</td>\n",
              "      <td>0.037639</td>\n",
              "      <td>0.023097</td>\n",
              "      <td>0.991485</td>\n",
              "      <td>21:40</td>\n",
              "    </tr>\n",
              "  </tbody>\n",
              "</table>"
            ],
            "text/plain": [
              "<IPython.core.display.HTML object>"
            ]
          },
          "metadata": {
            "tags": []
          }
        }
      ]
    },
    {
      "cell_type": "code",
      "metadata": {
        "id": "Hy1HMZ1rfPOt",
        "colab_type": "code",
        "outputId": "b8829b24-71f3-4d33-9eeb-ff5ee31f9e65",
        "colab": {
          "base_uri": "https://localhost:8080/",
          "height": 173
        }
      },
      "source": [
        "learn_cls.load('6train_wiki_char_cls_3')\n",
        "learn_cls.unfreeze()\n",
        "learn_cls.fit_one_cycle(4, slice(1e-3/(2.6**4),1e-3), moms=(0.8,0.7))\n",
        "learn_cls.save('6train_wiki_char_cls_4')"
      ],
      "execution_count": 0,
      "outputs": [
        {
          "output_type": "display_data",
          "data": {
            "text/html": [
              "<table border=\"1\" class=\"dataframe\">\n",
              "  <thead>\n",
              "    <tr style=\"text-align: left;\">\n",
              "      <th>epoch</th>\n",
              "      <th>train_loss</th>\n",
              "      <th>valid_loss</th>\n",
              "      <th>accuracy</th>\n",
              "      <th>time</th>\n",
              "    </tr>\n",
              "  </thead>\n",
              "  <tbody>\n",
              "    <tr>\n",
              "      <td>0</td>\n",
              "      <td>0.021985</td>\n",
              "      <td>0.018940</td>\n",
              "      <td>0.993378</td>\n",
              "      <td>25:37</td>\n",
              "    </tr>\n",
              "    <tr>\n",
              "      <td>1</td>\n",
              "      <td>0.026685</td>\n",
              "      <td>0.020304</td>\n",
              "      <td>0.991485</td>\n",
              "      <td>25:38</td>\n",
              "    </tr>\n",
              "    <tr>\n",
              "      <td>2</td>\n",
              "      <td>0.027961</td>\n",
              "      <td>0.023919</td>\n",
              "      <td>0.992431</td>\n",
              "      <td>25:44</td>\n",
              "    </tr>\n",
              "    <tr>\n",
              "      <td>3</td>\n",
              "      <td>0.025652</td>\n",
              "      <td>0.028301</td>\n",
              "      <td>0.991485</td>\n",
              "      <td>25:28</td>\n",
              "    </tr>\n",
              "  </tbody>\n",
              "</table>"
            ],
            "text/plain": [
              "<IPython.core.display.HTML object>"
            ]
          },
          "metadata": {
            "tags": []
          }
        }
      ]
    },
    {
      "cell_type": "code",
      "metadata": {
        "id": "Y0qTOWM4zv5_",
        "colab_type": "code",
        "outputId": "0854275c-7bc6-4988-ceea-61f1e7b7e101",
        "colab": {
          "base_uri": "https://localhost:8080/",
          "height": 105
        }
      },
      "source": [
        "preds,targ = testing(subsets/'6test.csv')"
      ],
      "execution_count": 0,
      "outputs": [
        {
          "output_type": "stream",
          "text": [
            "1320\n",
            "Accuracy: \n",
            "0.9878787878787879\n",
            "[('MZI', 'humayun_ahmed'), ('MZI', 'humayun_ahmed'), ('shorotchandra', 'robindronath'), ('robindronath', 'shorotchandra'), ('robindronath', 'shorotchandra'), ('robindronath', 'shorotchandra'), ('robindronath', 'shorotchandra'), ('robindronath', 'shorotchandra'), ('robindronath', 'shorotchandra'), ('humayun_ahmed', 'MZI'), ('humayun_ahmed', 'shorotchandra'), ('humayun_ahmed', 'MZI'), ('shomresh', 'robindronath'), ('shunil_gongopaddhay', 'shorotchandra'), ('shunil_gongopaddhay', 'shomresh'), ('shunil_gongopaddhay', 'humayun_ahmed')]\n"
          ],
          "name": "stdout"
        }
      ]
    },
    {
      "cell_type": "code",
      "metadata": {
        "id": "tRAwoTpUiM4x",
        "colab_type": "code",
        "outputId": "f67f92d8-9fd9-4817-fbfe-35666da6334e",
        "colab": {
          "base_uri": "https://localhost:8080/",
          "height": 34
        }
      },
      "source": [
        "from sklearn.metrics import f1_score\n",
        "out  = f1_score(targ, preds, average='macro') #'macro' , also == weighted cuz dataset is balanced\n",
        "out"
      ],
      "execution_count": 0,
      "outputs": [
        {
          "output_type": "execute_result",
          "data": {
            "text/plain": [
              "0.9878965720212983"
            ]
          },
          "metadata": {
            "tags": []
          },
          "execution_count": 15
        }
      ]
    },
    {
      "cell_type": "markdown",
      "metadata": {
        "colab_type": "text",
        "id": "50IkFYNvWB14"
      },
      "source": [
        "## 8 Authors"
      ]
    },
    {
      "cell_type": "markdown",
      "metadata": {
        "colab_type": "text",
        "id": "xIXUVdDoWB17"
      },
      "source": [
        "### FineTune LM"
      ]
    },
    {
      "cell_type": "code",
      "metadata": {
        "colab_type": "code",
        "id": "uCsBRyD4WB19",
        "colab": {}
      },
      "source": [
        "bs = 128\n",
        "data_lm=load_data(subsets,'8train_char_lm.pkl',bs=bs)"
      ],
      "execution_count": 0,
      "outputs": []
    },
    {
      "cell_type": "code",
      "metadata": {
        "colab_type": "code",
        "outputId": "c97100f4-1e47-436b-a0ce-3952c6672d66",
        "id": "giK3U16MWB2C",
        "colab": {
          "base_uri": "https://localhost:8080/",
          "height": 204
        }
      },
      "source": [
        "data_lm.show_batch()"
      ],
      "execution_count": 0,
      "outputs": [
        {
          "output_type": "display_data",
          "data": {
            "text/html": [
              "<table border=\"1\" class=\"dataframe\">\n",
              "  <thead>\n",
              "    <tr style=\"text-align: right;\">\n",
              "      <th>idx</th>\n",
              "      <th>text</th>\n",
              "    </tr>\n",
              "  </thead>\n",
              "  <tbody>\n",
              "    <tr>\n",
              "      <td>0</td>\n",
              "      <td>স ্ ব া ম ী   ব ল ল ে ন ,   আ ম ি   দ ে ব ত া ক ে   ম া ন ি ,   স ে ই জ ন ্ য ে ই   অ ন ্ ত র ে র   ম ধ ্ য ে   ন ি শ ্</td>\n",
              "    </tr>\n",
              "    <tr>\n",
              "      <td>1</td>\n",
              "      <td>( ) - র   ব দ ল ে   এ খ ন   স ি ঙ ্ গ ু ল া র   দ ে   ( )   ব ্ য ব হ া র   ক র া র   চ ল   শ ু র ু   হ য় ে ছ ে xxunk</td>\n",
              "    </tr>\n",
              "    <tr>\n",
              "      <td>2</td>\n",
              "      <td>া   য া য়   ন া xxunk   য ে   খ ে ল ে ,   স ে - ও   খ ে ল ো য় া ড়   ন য় xxunk   য ে   গ া ন   গ া য় ,   স ে ই   ক ি   গ া</td>\n",
              "    </tr>\n",
              "    <tr>\n",
              "      <td>3</td>\n",
              "      <td>ে ন ে   ফ ি র ে   য া ও য় া র   ক ো ন ও   ম া ন ে   হ য়   ন া xxunk   স ে   দ র জ া   প ে র ি য় ে   ভ ে ত র ে   ঢ ু ক ল !</td>\n",
              "    </tr>\n",
              "    <tr>\n",
              "      <td>4</td>\n",
              "      <td>ব স ্ থ া য়   ফ ি র ে   আ স ত ে   প ে র ে ছ ে xxunk   ক ী   ক র ছ ?   ব ি র ক ্ ত   ক ো র ো   ন া xxunk   ক প ট   গ া ম ্ ভ ী র</td>\n",
              "    </tr>\n",
              "  </tbody>\n",
              "</table>"
            ],
            "text/plain": [
              "<IPython.core.display.HTML object>"
            ]
          },
          "metadata": {
            "tags": []
          }
        }
      ]
    },
    {
      "cell_type": "code",
      "metadata": {
        "colab_type": "code",
        "id": "gpzbhCzLWB2I",
        "colab": {}
      },
      "source": [
        "learn = language_model_learner(data_lm, AWD_LSTM, pretrained=False, drop_mult=0.5)"
      ],
      "execution_count": 0,
      "outputs": []
    },
    {
      "cell_type": "code",
      "metadata": {
        "colab_type": "code",
        "outputId": "eaa33a02-2dee-4bca-bf39-1f52af9095f3",
        "id": "x2mM6XCNWB2L",
        "colab": {
          "base_uri": "https://localhost:8080/",
          "height": 300
        }
      },
      "source": [
        "learn.load(wiki/'models'/'wiki_char_15');\n",
        "learn.lr_find()\n",
        "learn.recorder.plot()"
      ],
      "execution_count": 0,
      "outputs": [
        {
          "output_type": "display_data",
          "data": {
            "text/html": [
              ""
            ],
            "text/plain": [
              "<IPython.core.display.HTML object>"
            ]
          },
          "metadata": {
            "tags": []
          }
        },
        {
          "output_type": "stream",
          "text": [
            "LR Finder is complete, type {learner_name}.recorder.plot() to see the graph.\n"
          ],
          "name": "stdout"
        },
        {
          "output_type": "display_data",
          "data": {
            "image/png": "[encoded data removed]",
            "text/plain": [
              "<Figure size 432x288 with 1 Axes>"
            ]
          },
          "metadata": {
            "tags": []
          }
        }
      ]
    },
    {
      "cell_type": "code",
      "metadata": {
        "colab_type": "code",
        "outputId": "0da8bc5e-39c2-498a-a607-daa912334454",
        "id": "I_YTwYaYWB2O",
        "colab": {
          "base_uri": "https://localhost:8080/",
          "height": 283
        }
      },
      "source": [
        "learn.recorder.plot(skip_end=15)"
      ],
      "execution_count": 0,
      "outputs": [
        {
          "output_type": "display_data",
          "data": {
            "image/png": "[encoded data removed]",
            "text/plain": [
              "<Figure size 432x288 with 1 Axes>"
            ]
          },
          "metadata": {
            "tags": []
          }
        }
      ]
    },
    {
      "cell_type": "code",
      "metadata": {
        "colab_type": "code",
        "outputId": "7a11c931-361d-4ba5-9749-ef0c1ab56cc8",
        "id": "VJg1wogiWB2T",
        "colab": {
          "base_uri": "https://localhost:8080/",
          "height": 111
        }
      },
      "source": [
        "learn.freeze()\n",
        "learn.fit_one_cycle(2, 1e-2)\n",
        "learn.save('8train_wiki_char_lm_head');"
      ],
      "execution_count": 0,
      "outputs": [
        {
          "output_type": "display_data",
          "data": {
            "text/html": [
              "<table border=\"1\" class=\"dataframe\">\n",
              "  <thead>\n",
              "    <tr style=\"text-align: left;\">\n",
              "      <th>epoch</th>\n",
              "      <th>train_loss</th>\n",
              "      <th>valid_loss</th>\n",
              "      <th>accuracy</th>\n",
              "      <th>time</th>\n",
              "    </tr>\n",
              "  </thead>\n",
              "  <tbody>\n",
              "    <tr>\n",
              "      <td>0</td>\n",
              "      <td>1.651353</td>\n",
              "      <td>1.585122</td>\n",
              "      <td>0.536832</td>\n",
              "      <td>21:00</td>\n",
              "    </tr>\n",
              "    <tr>\n",
              "      <td>1</td>\n",
              "      <td>1.664516</td>\n",
              "      <td>1.580213</td>\n",
              "      <td>0.538172</td>\n",
              "      <td>20:54</td>\n",
              "    </tr>\n",
              "  </tbody>\n",
              "</table>"
            ],
            "text/plain": [
              "<IPython.core.display.HTML object>"
            ]
          },
          "metadata": {
            "tags": []
          }
        }
      ]
    },
    {
      "cell_type": "code",
      "metadata": {
        "colab_type": "code",
        "outputId": "5f72e019-1be1-4f66-ed51-f8ccc3cc01c6",
        "id": "xB_8ekjvWB2W",
        "colab": {
          "base_uri": "https://localhost:8080/",
          "height": 111
        }
      },
      "source": [
        "learn.freeze_to(-2)\n",
        "learn.fit_one_cycle(2, 1e-2)\n",
        "learn.save('8train_wiki_char_lm_body_1');"
      ],
      "execution_count": 0,
      "outputs": [
        {
          "output_type": "display_data",
          "data": {
            "text/html": [
              "<table border=\"1\" class=\"dataframe\">\n",
              "  <thead>\n",
              "    <tr style=\"text-align: left;\">\n",
              "      <th>epoch</th>\n",
              "      <th>train_loss</th>\n",
              "      <th>valid_loss</th>\n",
              "      <th>accuracy</th>\n",
              "      <th>time</th>\n",
              "    </tr>\n",
              "  </thead>\n",
              "  <tbody>\n",
              "    <tr>\n",
              "      <td>0</td>\n",
              "      <td>1.415106</td>\n",
              "      <td>1.354406</td>\n",
              "      <td>0.599051</td>\n",
              "      <td>21:39</td>\n",
              "    </tr>\n",
              "    <tr>\n",
              "      <td>1</td>\n",
              "      <td>1.357143</td>\n",
              "      <td>1.301274</td>\n",
              "      <td>0.613361</td>\n",
              "      <td>21:39</td>\n",
              "    </tr>\n",
              "  </tbody>\n",
              "</table>"
            ],
            "text/plain": [
              "<IPython.core.display.HTML object>"
            ]
          },
          "metadata": {
            "tags": []
          }
        }
      ]
    },
    {
      "cell_type": "code",
      "metadata": {
        "colab_type": "code",
        "outputId": "7f49d77f-62a7-43ab-9218-1d267ba01789",
        "id": "K-roxZwVWB2e",
        "colab": {
          "base_uri": "https://localhost:8080/",
          "height": 111
        }
      },
      "source": [
        "learn.freeze_to(-3)\n",
        "learn.fit_one_cycle(2, 1e-2)\n",
        "learn.save('8train_wiki_char_lm_body_2');"
      ],
      "execution_count": 0,
      "outputs": [
        {
          "output_type": "display_data",
          "data": {
            "text/html": [
              "<table border=\"1\" class=\"dataframe\">\n",
              "  <thead>\n",
              "    <tr style=\"text-align: left;\">\n",
              "      <th>epoch</th>\n",
              "      <th>train_loss</th>\n",
              "      <th>valid_loss</th>\n",
              "      <th>accuracy</th>\n",
              "      <th>time</th>\n",
              "    </tr>\n",
              "  </thead>\n",
              "  <tbody>\n",
              "    <tr>\n",
              "      <td>0</td>\n",
              "      <td>1.334442</td>\n",
              "      <td>1.290312</td>\n",
              "      <td>0.616575</td>\n",
              "      <td>25:10</td>\n",
              "    </tr>\n",
              "    <tr>\n",
              "      <td>1</td>\n",
              "      <td>1.272312</td>\n",
              "      <td>1.223988</td>\n",
              "      <td>0.634645</td>\n",
              "      <td>25:11</td>\n",
              "    </tr>\n",
              "  </tbody>\n",
              "</table>"
            ],
            "text/plain": [
              "<IPython.core.display.HTML object>"
            ]
          },
          "metadata": {
            "tags": []
          }
        }
      ]
    },
    {
      "cell_type": "code",
      "metadata": {
        "colab_type": "code",
        "outputId": "0b2b3128-5d9e-4127-8e4f-5258439a6794",
        "id": "KLBgkz6zWB2i",
        "colab": {
          "base_uri": "https://localhost:8080/",
          "height": 173
        }
      },
      "source": [
        "learn.unfreeze()\n",
        "learn.fit_one_cycle(4, 1e-2)\n",
        "learn.save('8train_wiki_char_lm_body_3');"
      ],
      "execution_count": 0,
      "outputs": [
        {
          "output_type": "display_data",
          "data": {
            "text/html": [
              "<table border=\"1\" class=\"dataframe\">\n",
              "  <thead>\n",
              "    <tr style=\"text-align: left;\">\n",
              "      <th>epoch</th>\n",
              "      <th>train_loss</th>\n",
              "      <th>valid_loss</th>\n",
              "      <th>accuracy</th>\n",
              "      <th>time</th>\n",
              "    </tr>\n",
              "  </thead>\n",
              "  <tbody>\n",
              "    <tr>\n",
              "      <td>0</td>\n",
              "      <td>1.299943</td>\n",
              "      <td>1.262082</td>\n",
              "      <td>0.624059</td>\n",
              "      <td>27:46</td>\n",
              "    </tr>\n",
              "    <tr>\n",
              "      <td>1</td>\n",
              "      <td>1.278679</td>\n",
              "      <td>1.246743</td>\n",
              "      <td>0.628265</td>\n",
              "      <td>27:46</td>\n",
              "    </tr>\n",
              "    <tr>\n",
              "      <td>2</td>\n",
              "      <td>1.228846</td>\n",
              "      <td>1.199525</td>\n",
              "      <td>0.641626</td>\n",
              "      <td>27:47</td>\n",
              "    </tr>\n",
              "    <tr>\n",
              "      <td>3</td>\n",
              "      <td>1.202186</td>\n",
              "      <td>1.180660</td>\n",
              "      <td>0.646914</td>\n",
              "      <td>27:48</td>\n",
              "    </tr>\n",
              "  </tbody>\n",
              "</table>"
            ],
            "text/plain": [
              "<IPython.core.display.HTML object>"
            ]
          },
          "metadata": {
            "tags": []
          }
        }
      ]
    },
    {
      "cell_type": "code",
      "metadata": {
        "colab_type": "code",
        "id": "SsP5IbqGWB2l",
        "outputId": "5c49ad4e-dd15-45c1-8410-33cd3098d9a6",
        "colab": {
          "base_uri": "https://localhost:8080/",
          "height": 173
        }
      },
      "source": [
        "learn.load('8train_wiki_char_lm_body_3');\n",
        "learn.unfreeze()\n",
        "learn.fit_one_cycle(4, 1e-2)\n",
        "learn.save('8train_wiki_char_lm_body_4');"
      ],
      "execution_count": 12,
      "outputs": [
        {
          "output_type": "display_data",
          "data": {
            "text/html": [
              "<table border=\"1\" class=\"dataframe\">\n",
              "  <thead>\n",
              "    <tr style=\"text-align: left;\">\n",
              "      <th>epoch</th>\n",
              "      <th>train_loss</th>\n",
              "      <th>valid_loss</th>\n",
              "      <th>accuracy</th>\n",
              "      <th>time</th>\n",
              "    </tr>\n",
              "  </thead>\n",
              "  <tbody>\n",
              "    <tr>\n",
              "      <td>0</td>\n",
              "      <td>1.258004</td>\n",
              "      <td>1.233102</td>\n",
              "      <td>0.632495</td>\n",
              "      <td>24:26</td>\n",
              "    </tr>\n",
              "    <tr>\n",
              "      <td>1</td>\n",
              "      <td>1.259896</td>\n",
              "      <td>1.227281</td>\n",
              "      <td>0.634018</td>\n",
              "      <td>24:25</td>\n",
              "    </tr>\n",
              "    <tr>\n",
              "      <td>2</td>\n",
              "      <td>1.212309</td>\n",
              "      <td>1.185657</td>\n",
              "      <td>0.645535</td>\n",
              "      <td>24:27</td>\n",
              "    </tr>\n",
              "    <tr>\n",
              "      <td>3</td>\n",
              "      <td>1.173470</td>\n",
              "      <td>1.167343</td>\n",
              "      <td>0.650827</td>\n",
              "      <td>24:26</td>\n",
              "    </tr>\n",
              "  </tbody>\n",
              "</table>"
            ],
            "text/plain": [
              "<IPython.core.display.HTML object>"
            ]
          },
          "metadata": {
            "tags": []
          }
        }
      ]
    },
    {
      "cell_type": "code",
      "metadata": {
        "colab_type": "code",
        "id": "_9v_oZ2HWB2t",
        "colab": {}
      },
      "source": [
        "learn.save_encoder('8train_wiki_char_lm_enc')"
      ],
      "execution_count": 0,
      "outputs": []
    },
    {
      "cell_type": "markdown",
      "metadata": {
        "colab_type": "text",
        "id": "-aEgv95dWB22"
      },
      "source": [
        "### Classification (OUR AA)"
      ]
    },
    {
      "cell_type": "code",
      "metadata": {
        "colab_type": "code",
        "id": "qarev4_wWB3B",
        "colab": {}
      },
      "source": [
        "data_clas = load_data(subsets, '8train_char_clas.pkl',bs=32)\n",
        "learn_cls = text_classifier_learner(data_clas, AWD_LSTM, drop_mult=0.5, pretrained=False)\n",
        "learn_cls.load_encoder('8train_wiki_char_lm_enc')"
      ],
      "execution_count": 0,
      "outputs": []
    },
    {
      "cell_type": "code",
      "metadata": {
        "colab_type": "code",
        "id": "2jfoJa5_WB29",
        "colab": {
          "base_uri": "https://localhost:8080/",
          "height": 204
        },
        "outputId": "53d10758-ea10-48ce-c14f-de26a1060c9a"
      },
      "source": [
        "data_clas.show_batch()"
      ],
      "execution_count": 15,
      "outputs": [
        {
          "output_type": "display_data",
          "data": {
            "text/html": [
              "<table border=\"1\" class=\"dataframe\">\n",
              "  <thead>\n",
              "    <tr style=\"text-align: right;\">\n",
              "      <th>text</th>\n",
              "      <th>target</th>\n",
              "    </tr>\n",
              "  </thead>\n",
              "  <tbody>\n",
              "    <tr>\n",
              "      <td>xxbos x x b o s   ক ী র ্ ত ি ত ে   ত া হ া দ ে র   ম ন ে   গ র ্ ব ে র   স ী ম া   র হ ি ল   ন া xxunk   ব ি ন ্ ধ ্ য ব া স ি ন ী</td>\n",
              "      <td>robindronath</td>\n",
              "    </tr>\n",
              "    <tr>\n",
              "      <td>xxbos x x b o s   শ ু ন ি য় া   হ র ক ু ম া র   প ্ র থ ম ট া   ভ ী ত   হ ই য় া   উ ঠ ি ল ে ন ;   শ শ ি ভ ূ ষ ণ   ক ি ছ ু ত ে ই</td>\n",
              "      <td>robindronath</td>\n",
              "    </tr>\n",
              "    <tr>\n",
              "      <td>xxbos x x b o s   গ ্ র া ম ে - গ ঞ ্ জ ে ও   এ খ ন   ড ি স ্ ক ো   চ ল ে ,   চ ল ে   ম ি স   স ু ন ্ দ র ী   প ্ র ত ি য ো গ ি</td>\n",
              "      <td>toslima_nasrin</td>\n",
              "    </tr>\n",
              "    <tr>\n",
              "      <td>xxbos x x b o s   ত া ই   ‘ য দ ি   স ্ ব া ম ী   স ্ ত ্ র ী ক ে   আ দ ে শ   ক র ে ,   ত ব ে   স ে   জ র দ   প র ্ ব ত</td>\n",
              "      <td>toslima_nasrin</td>\n",
              "    </tr>\n",
              "    <tr>\n",
              "      <td>xxbos x x b o s   উ দ ্ দ ে শ ্ য xxunk   ক ি ন ্ ত ু   স ে দ ি ন   এ ই   ব ি ভ া গ ট ি ত ে   ক ো ন   এ ক ট ি   স ু র া র   ব ্ য</td>\n",
              "      <td>toslima_nasrin</td>\n",
              "    </tr>\n",
              "  </tbody>\n",
              "</table>"
            ],
            "text/plain": [
              "<IPython.core.display.HTML object>"
            ]
          },
          "metadata": {
            "tags": []
          }
        }
      ]
    },
    {
      "cell_type": "code",
      "metadata": {
        "colab_type": "code",
        "id": "QoFIQ2iIWB3G",
        "colab": {
          "base_uri": "https://localhost:8080/",
          "height": 300
        },
        "outputId": "d28227a8-edba-4318-f975-d943edc0c6a7"
      },
      "source": [
        "learn_cls.freeze()\n",
        "learn_cls.lr_find()\n",
        "learn_cls.recorder.plot()"
      ],
      "execution_count": 16,
      "outputs": [
        {
          "output_type": "display_data",
          "data": {
            "text/html": [
              ""
            ],
            "text/plain": [
              "<IPython.core.display.HTML object>"
            ]
          },
          "metadata": {
            "tags": []
          }
        },
        {
          "output_type": "stream",
          "text": [
            "LR Finder is complete, type {learner_name}.recorder.plot() to see the graph.\n"
          ],
          "name": "stdout"
        },
        {
          "output_type": "display_data",
          "data": {
            "image/png": "[encoded data removed]",
            "text/plain": [
              "<Figure size 432x288 with 1 Axes>"
            ]
          },
          "metadata": {
            "tags": []
          }
        }
      ]
    },
    {
      "cell_type": "code",
      "metadata": {
        "colab_type": "code",
        "id": "gOMB0oVFWB3N",
        "colab": {
          "base_uri": "https://localhost:8080/",
          "height": 111
        },
        "outputId": "91e5dd74-18d3-47f0-c23e-287f226285a7"
      },
      "source": [
        "learn_cls.freeze()\n",
        "learn_cls.fit_one_cycle(2, 1e-2, moms=(0.8,0.7))\n",
        "learn_cls.save('8train_wiki_char_cls_1')"
      ],
      "execution_count": 17,
      "outputs": [
        {
          "output_type": "display_data",
          "data": {
            "text/html": [
              "<table border=\"1\" class=\"dataframe\">\n",
              "  <thead>\n",
              "    <tr style=\"text-align: left;\">\n",
              "      <th>epoch</th>\n",
              "      <th>train_loss</th>\n",
              "      <th>valid_loss</th>\n",
              "      <th>accuracy</th>\n",
              "      <th>time</th>\n",
              "    </tr>\n",
              "  </thead>\n",
              "  <tbody>\n",
              "    <tr>\n",
              "      <td>0</td>\n",
              "      <td>0.313710</td>\n",
              "      <td>0.101752</td>\n",
              "      <td>0.970613</td>\n",
              "      <td>18:55</td>\n",
              "    </tr>\n",
              "    <tr>\n",
              "      <td>1</td>\n",
              "      <td>0.146920</td>\n",
              "      <td>0.074675</td>\n",
              "      <td>0.976490</td>\n",
              "      <td>18:46</td>\n",
              "    </tr>\n",
              "  </tbody>\n",
              "</table>"
            ],
            "text/plain": [
              "<IPython.core.display.HTML object>"
            ]
          },
          "metadata": {
            "tags": []
          }
        }
      ]
    },
    {
      "cell_type": "code",
      "metadata": {
        "colab_type": "code",
        "id": "_e1MoNmpWB3Y",
        "colab": {
          "base_uri": "https://localhost:8080/",
          "height": 111
        },
        "outputId": "422de3a9-e250-4bee-9ede-9301dabc39e1"
      },
      "source": [
        "learn_cls.load('8train_wiki_char_cls_1')\n",
        "learn_cls.freeze_to(-2)\n",
        "learn_cls.fit_one_cycle(2 , slice(1e-2/(2.6**4),1e-2), moms=(0.8,0.7))\n",
        "learn_cls.save('8train_wiki_char_cls_2')"
      ],
      "execution_count": 18,
      "outputs": [
        {
          "output_type": "display_data",
          "data": {
            "text/html": [
              "<table border=\"1\" class=\"dataframe\">\n",
              "  <thead>\n",
              "    <tr style=\"text-align: left;\">\n",
              "      <th>epoch</th>\n",
              "      <th>train_loss</th>\n",
              "      <th>valid_loss</th>\n",
              "      <th>accuracy</th>\n",
              "      <th>time</th>\n",
              "    </tr>\n",
              "  </thead>\n",
              "  <tbody>\n",
              "    <tr>\n",
              "      <td>0</td>\n",
              "      <td>0.143984</td>\n",
              "      <td>0.058069</td>\n",
              "      <td>0.983207</td>\n",
              "      <td>19:36</td>\n",
              "    </tr>\n",
              "    <tr>\n",
              "      <td>1</td>\n",
              "      <td>0.083310</td>\n",
              "      <td>0.046827</td>\n",
              "      <td>0.985726</td>\n",
              "      <td>19:25</td>\n",
              "    </tr>\n",
              "  </tbody>\n",
              "</table>"
            ],
            "text/plain": [
              "<IPython.core.display.HTML object>"
            ]
          },
          "metadata": {
            "tags": []
          }
        }
      ]
    },
    {
      "cell_type": "code",
      "metadata": {
        "colab_type": "code",
        "id": "y5CoFXSpWB3c",
        "colab": {
          "base_uri": "https://localhost:8080/",
          "height": 111
        },
        "outputId": "e1113067-6a8b-4357-facb-cd915e78bf00"
      },
      "source": [
        "learn_cls.load('8train_wiki_char_cls_2')\n",
        "learn_cls.freeze_to(-3)\n",
        "learn_cls.fit_one_cycle(2, slice(5e-3/(2.6**4),5e-3), moms=(0.8,0.7))\n",
        "learn_cls.save('8train_wiki_char_cls_3')"
      ],
      "execution_count": 19,
      "outputs": [
        {
          "output_type": "display_data",
          "data": {
            "text/html": [
              "<table border=\"1\" class=\"dataframe\">\n",
              "  <thead>\n",
              "    <tr style=\"text-align: left;\">\n",
              "      <th>epoch</th>\n",
              "      <th>train_loss</th>\n",
              "      <th>valid_loss</th>\n",
              "      <th>accuracy</th>\n",
              "      <th>time</th>\n",
              "    </tr>\n",
              "  </thead>\n",
              "  <tbody>\n",
              "    <tr>\n",
              "      <td>0</td>\n",
              "      <td>0.062881</td>\n",
              "      <td>0.037048</td>\n",
              "      <td>0.989924</td>\n",
              "      <td>23:00</td>\n",
              "    </tr>\n",
              "    <tr>\n",
              "      <td>1</td>\n",
              "      <td>0.048011</td>\n",
              "      <td>0.038641</td>\n",
              "      <td>0.990764</td>\n",
              "      <td>22:47</td>\n",
              "    </tr>\n",
              "  </tbody>\n",
              "</table>"
            ],
            "text/plain": [
              "<IPython.core.display.HTML object>"
            ]
          },
          "metadata": {
            "tags": []
          }
        }
      ]
    },
    {
      "cell_type": "code",
      "metadata": {
        "colab_type": "code",
        "id": "ezRJ8nyFWB3j",
        "colab": {
          "base_uri": "https://localhost:8080/",
          "height": 173
        },
        "outputId": "282686c7-caab-4d62-cfb0-3d7268a1e907"
      },
      "source": [
        "learn_cls.load('8train_wiki_char_cls_3')\n",
        "learn_cls.unfreeze()\n",
        "learn_cls.fit_one_cycle(4, slice(1e-3/(2.6**4),1e-3), moms=(0.8,0.7))\n",
        "learn_cls.save('8train_wiki_char_cls_4')"
      ],
      "execution_count": 20,
      "outputs": [
        {
          "output_type": "display_data",
          "data": {
            "text/html": [
              "<table border=\"1\" class=\"dataframe\">\n",
              "  <thead>\n",
              "    <tr style=\"text-align: left;\">\n",
              "      <th>epoch</th>\n",
              "      <th>train_loss</th>\n",
              "      <th>valid_loss</th>\n",
              "      <th>accuracy</th>\n",
              "      <th>time</th>\n",
              "    </tr>\n",
              "  </thead>\n",
              "  <tbody>\n",
              "    <tr>\n",
              "      <td>0</td>\n",
              "      <td>0.021179</td>\n",
              "      <td>0.035014</td>\n",
              "      <td>0.990764</td>\n",
              "      <td>25:44</td>\n",
              "    </tr>\n",
              "    <tr>\n",
              "      <td>1</td>\n",
              "      <td>0.027770</td>\n",
              "      <td>0.035379</td>\n",
              "      <td>0.991604</td>\n",
              "      <td>25:35</td>\n",
              "    </tr>\n",
              "    <tr>\n",
              "      <td>2</td>\n",
              "      <td>0.027454</td>\n",
              "      <td>0.029624</td>\n",
              "      <td>0.991604</td>\n",
              "      <td>25:34</td>\n",
              "    </tr>\n",
              "    <tr>\n",
              "      <td>3</td>\n",
              "      <td>0.024530</td>\n",
              "      <td>0.028755</td>\n",
              "      <td>0.992443</td>\n",
              "      <td>25:33</td>\n",
              "    </tr>\n",
              "  </tbody>\n",
              "</table>"
            ],
            "text/plain": [
              "<IPython.core.display.HTML object>"
            ]
          },
          "metadata": {
            "tags": []
          }
        }
      ]
    },
    {
      "cell_type": "code",
      "metadata": {
        "colab_type": "code",
        "id": "w_VyuSv9WB3m",
        "colab": {
          "base_uri": "https://localhost:8080/",
          "height": 105
        },
        "outputId": "89b51413-2aa7-4808-dd66-23d211714bfb"
      },
      "source": [
        "preds,targ = testing(subsets/'8test.csv')"
      ],
      "execution_count": 21,
      "outputs": [
        {
          "output_type": "stream",
          "text": [
            "1496\n",
            "Accuracy: \n",
            "0.9866310160427807\n",
            "[('shirshendu', 'shomresh'), ('shirshendu', 'shomresh'), ('shirshendu', 'shunil_gongopaddhay'), ('shirshendu', 'shomresh'), ('shirshendu', 'shorotchandra'), ('shirshendu', 'robindronath'), ('toslima_nasrin', 'humayun_ahmed'), ('MZI', 'humayun_ahmed'), ('MZI', 'toslima_nasrin'), ('MZI', 'humayun_ahmed'), ('robindronath', 'toslima_nasrin'), ('humayun_ahmed', 'MZI'), ('humayun_ahmed', 'shorotchandra'), ('humayun_ahmed', 'MZI'), ('humayun_ahmed', 'MZI'), ('humayun_ahmed', 'MZI'), ('shomresh', 'shunil_gongopaddhay'), ('shunil_gongopaddhay', 'toslima_nasrin'), ('shunil_gongopaddhay', 'shirshendu'), ('shunil_gongopaddhay', 'robindronath')]\n"
          ],
          "name": "stdout"
        }
      ]
    },
    {
      "cell_type": "code",
      "metadata": {
        "colab_type": "code",
        "id": "Ad6Bfda6WB3q",
        "colab": {
          "base_uri": "https://localhost:8080/",
          "height": 34
        },
        "outputId": "7febaa05-5647-4053-c560-d7b830ef5e7b"
      },
      "source": [
        "from sklearn.metrics import f1_score\n",
        "out  = f1_score(targ, preds, average='macro') #'macro' , also == weighted cuz dataset is balanced\n",
        "out"
      ],
      "execution_count": 22,
      "outputs": [
        {
          "output_type": "execute_result",
          "data": {
            "text/plain": [
              "0.9866071496086541"
            ]
          },
          "metadata": {
            "tags": []
          },
          "execution_count": 22
        }
      ]
    },
    {
      "cell_type": "markdown",
      "metadata": {
        "colab_type": "text",
        "id": "IHsrNa0Wb33T"
      },
      "source": [
        "## 10 Authors"
      ]
    },
    {
      "cell_type": "markdown",
      "metadata": {
        "colab_type": "text",
        "id": "lDCtMxqVb33b"
      },
      "source": [
        "### FineTune LM"
      ]
    },
    {
      "cell_type": "code",
      "metadata": {
        "colab_type": "code",
        "id": "xmakh7z2b33d",
        "colab": {}
      },
      "source": [
        "bs = 128\n",
        "data_lm=load_data(subsets,'10train_char_lm.pkl',bs=bs)"
      ],
      "execution_count": 0,
      "outputs": []
    },
    {
      "cell_type": "code",
      "metadata": {
        "colab_type": "code",
        "outputId": "5865214a-f05e-4a0e-80cd-7f20dd4e6b56",
        "id": "DB-_SHPNb33j",
        "colab": {
          "base_uri": "https://localhost:8080/",
          "height": 204
        }
      },
      "source": [
        "data_lm.show_batch()"
      ],
      "execution_count": 0,
      "outputs": [
        {
          "output_type": "display_data",
          "data": {
            "text/html": [
              "<table border=\"1\" class=\"dataframe\">\n",
              "  <thead>\n",
              "    <tr style=\"text-align: right;\">\n",
              "      <th>idx</th>\n",
              "      <th>text</th>\n",
              "    </tr>\n",
              "  </thead>\n",
              "  <tbody>\n",
              "    <tr>\n",
              "      <td>0</td>\n",
              "      <td>র   এ ক ট া   ফ ু ল গ া ছ ে র   ন া ম   ব া xxunk দ র ল া ঠ ি !   দ ো ক া ন দ া র ট ি   ব ল ল ,   এ খ া ন   থ ে ক ে   য া ও</td>\n",
              "    </tr>\n",
              "    <tr>\n",
              "      <td>1</td>\n",
              "      <td>হ ি ল xxunk   ল া গ ছ ে ;   ব ু ঝ ত ে   প া র ছ ি xxunk   অ ন ্ ধ ক া র ে   ব ন ব া দ া ড় ে   ঘ ো র া ট া   স হ জ   ক া জ   ন য় xxunk</td>\n",
              "    </tr>\n",
              "    <tr>\n",
              "      <td>2</td>\n",
              "      <td>ট ্ র া ঙ ্ ক ে   ঠ া ক ু র দ া র   চ ি ঠ ি প ত ্ র   ছ ি ল xxunk   ফ ি ত ো য ়   ব া xxunk ধ া   চ ি ঠ ি র   ত া ড় া র   ত ল া</td>\n",
              "    </tr>\n",
              "    <tr>\n",
              "      <td>3</td>\n",
              "      <td>ে   ব ল ে   দ া ও   আ ম া ক ে   স ঙ ্ গ ে   ন ি য় ে   য ে ত ে xxunk   খ া ন ি ক ট া   ই ত স ্ ত ু ত   ক র ে   প া ল দ ে ম</td>\n",
              "    </tr>\n",
              "    <tr>\n",
              "      <td>4</td>\n",
              "      <td>ল ে   ত ো   ত ো র   জ য় ে ন ্ ট   অ ্ য া ক া উ ন ্ ট   ক র ে   র া খ া   উ চ ি ত xxunk   জ য় ে ন ্ ট   অ ্ য া ক া উ ন ্ ট</td>\n",
              "    </tr>\n",
              "  </tbody>\n",
              "</table>"
            ],
            "text/plain": [
              "<IPython.core.display.HTML object>"
            ]
          },
          "metadata": {
            "tags": []
          }
        }
      ]
    },
    {
      "cell_type": "code",
      "metadata": {
        "colab_type": "code",
        "id": "xpEnaeyFb33q",
        "colab": {}
      },
      "source": [
        "learn = language_model_learner(data_lm, AWD_LSTM, pretrained=False, drop_mult=0.5)"
      ],
      "execution_count": 0,
      "outputs": []
    },
    {
      "cell_type": "code",
      "metadata": {
        "id": "GuUcpuept0a-",
        "colab_type": "code",
        "colab": {}
      },
      "source": [
        "learn.load(wiki/'models'/'wiki_char_15');"
      ],
      "execution_count": 0,
      "outputs": []
    },
    {
      "cell_type": "code",
      "metadata": {
        "colab_type": "code",
        "outputId": "70c2b1cc-a91b-477c-b2b4-a9bc41075880",
        "id": "FF5ul_Ykb33y",
        "colab": {
          "base_uri": "https://localhost:8080/",
          "height": 300
        }
      },
      "source": [
        "learn.lr_find()\n",
        "learn.recorder.plot()"
      ],
      "execution_count": 0,
      "outputs": [
        {
          "output_type": "display_data",
          "data": {
            "text/html": [
              ""
            ],
            "text/plain": [
              "<IPython.core.display.HTML object>"
            ]
          },
          "metadata": {
            "tags": []
          }
        },
        {
          "output_type": "stream",
          "text": [
            "LR Finder is complete, type {learner_name}.recorder.plot() to see the graph.\n"
          ],
          "name": "stdout"
        },
        {
          "output_type": "display_data",
          "data": {
            "image/png": "[encoded data removed]",
            "text/plain": [
              "<Figure size 432x288 with 1 Axes>"
            ]
          },
          "metadata": {
            "tags": []
          }
        }
      ]
    },
    {
      "cell_type": "code",
      "metadata": {
        "colab_type": "code",
        "outputId": "86b09a92-f33e-45b2-cf50-179c6b353586",
        "id": "TJqBm2YRb33_",
        "colab": {
          "base_uri": "https://localhost:8080/",
          "height": 283
        }
      },
      "source": [
        "learn.recorder.plot(skip_end=15)"
      ],
      "execution_count": 0,
      "outputs": [
        {
          "output_type": "display_data",
          "data": {
            "image/png": "[encoded data removed]",
            "text/plain": [
              "<Figure size 432x288 with 1 Axes>"
            ]
          },
          "metadata": {
            "tags": []
          }
        }
      ]
    },
    {
      "cell_type": "code",
      "metadata": {
        "colab_type": "code",
        "outputId": "e22575b8-f9da-41cc-84a7-c399dc920f4b",
        "id": "n7OigBomb34I",
        "colab": {
          "base_uri": "https://localhost:8080/",
          "height": 111
        }
      },
      "source": [
        "learn.freeze()\n",
        "learn.fit_one_cycle(2, 1e-2)\n",
        "learn.save('10train_wiki_char_lm_head');"
      ],
      "execution_count": 0,
      "outputs": [
        {
          "output_type": "display_data",
          "data": {
            "text/html": [
              "<table border=\"1\" class=\"dataframe\">\n",
              "  <thead>\n",
              "    <tr style=\"text-align: left;\">\n",
              "      <th>epoch</th>\n",
              "      <th>train_loss</th>\n",
              "      <th>valid_loss</th>\n",
              "      <th>accuracy</th>\n",
              "      <th>time</th>\n",
              "    </tr>\n",
              "  </thead>\n",
              "  <tbody>\n",
              "    <tr>\n",
              "      <td>0</td>\n",
              "      <td>1.664490</td>\n",
              "      <td>1.598050</td>\n",
              "      <td>0.534553</td>\n",
              "      <td>22:14</td>\n",
              "    </tr>\n",
              "    <tr>\n",
              "      <td>1</td>\n",
              "      <td>1.651965</td>\n",
              "      <td>1.593444</td>\n",
              "      <td>0.535443</td>\n",
              "      <td>22:21</td>\n",
              "    </tr>\n",
              "  </tbody>\n",
              "</table>"
            ],
            "text/plain": [
              "<IPython.core.display.HTML object>"
            ]
          },
          "metadata": {
            "tags": []
          }
        }
      ]
    },
    {
      "cell_type": "code",
      "metadata": {
        "colab_type": "code",
        "outputId": "704eadbe-4779-4c8e-b133-184e6dee7142",
        "id": "_beDIMJtb34N",
        "colab": {
          "base_uri": "https://localhost:8080/",
          "height": 111
        }
      },
      "source": [
        "learn.freeze_to(-2)\n",
        "learn.fit_one_cycle(2, 1e-2)\n",
        "learn.save('10train_wiki_char_lm_body_1');"
      ],
      "execution_count": 0,
      "outputs": [
        {
          "output_type": "display_data",
          "data": {
            "text/html": [
              "<table border=\"1\" class=\"dataframe\">\n",
              "  <thead>\n",
              "    <tr style=\"text-align: left;\">\n",
              "      <th>epoch</th>\n",
              "      <th>train_loss</th>\n",
              "      <th>valid_loss</th>\n",
              "      <th>accuracy</th>\n",
              "      <th>time</th>\n",
              "    </tr>\n",
              "  </thead>\n",
              "  <tbody>\n",
              "    <tr>\n",
              "      <td>0</td>\n",
              "      <td>1.411064</td>\n",
              "      <td>1.359388</td>\n",
              "      <td>0.598433</td>\n",
              "      <td>23:15</td>\n",
              "    </tr>\n",
              "    <tr>\n",
              "      <td>1</td>\n",
              "      <td>1.364615</td>\n",
              "      <td>1.309998</td>\n",
              "      <td>0.611976</td>\n",
              "      <td>23:17</td>\n",
              "    </tr>\n",
              "  </tbody>\n",
              "</table>"
            ],
            "text/plain": [
              "<IPython.core.display.HTML object>"
            ]
          },
          "metadata": {
            "tags": []
          }
        }
      ]
    },
    {
      "cell_type": "code",
      "metadata": {
        "colab_type": "code",
        "outputId": "f25b2c27-fc09-452c-eed7-d73bda60be38",
        "id": "fuQy_ESCb34R",
        "colab": {
          "base_uri": "https://localhost:8080/",
          "height": 111
        }
      },
      "source": [
        "learn.freeze_to(-3)\n",
        "learn.fit_one_cycle(2, 1e-2)\n",
        "learn.save('10train_wiki_char_lm_body_2');"
      ],
      "execution_count": 0,
      "outputs": [
        {
          "output_type": "display_data",
          "data": {
            "text/html": [
              "<table border=\"1\" class=\"dataframe\">\n",
              "  <thead>\n",
              "    <tr style=\"text-align: left;\">\n",
              "      <th>epoch</th>\n",
              "      <th>train_loss</th>\n",
              "      <th>valid_loss</th>\n",
              "      <th>accuracy</th>\n",
              "      <th>time</th>\n",
              "    </tr>\n",
              "  </thead>\n",
              "  <tbody>\n",
              "    <tr>\n",
              "      <td>0</td>\n",
              "      <td>1.418355</td>\n",
              "      <td>1.352912</td>\n",
              "      <td>0.601810</td>\n",
              "      <td>26:56</td>\n",
              "    </tr>\n",
              "    <tr>\n",
              "      <td>1</td>\n",
              "      <td>1.342425</td>\n",
              "      <td>1.297745</td>\n",
              "      <td>0.615911</td>\n",
              "      <td>27:03</td>\n",
              "    </tr>\n",
              "  </tbody>\n",
              "</table>"
            ],
            "text/plain": [
              "<IPython.core.display.HTML object>"
            ]
          },
          "metadata": {
            "tags": []
          }
        }
      ]
    },
    {
      "cell_type": "code",
      "metadata": {
        "colab_type": "code",
        "outputId": "ef9d8fab-b4fe-4de9-edff-2028c085ddfe",
        "id": "FLeEj6TAb34X",
        "colab": {
          "base_uri": "https://localhost:8080/",
          "height": 173
        }
      },
      "source": [
        "learn.unfreeze()\n",
        "learn.fit_one_cycle(4, 1e-2)\n",
        "learn.save('10train_wiki_char_lm_body_3');"
      ],
      "execution_count": 0,
      "outputs": [
        {
          "output_type": "display_data",
          "data": {
            "text/html": [
              "<table border=\"1\" class=\"dataframe\">\n",
              "  <thead>\n",
              "    <tr style=\"text-align: left;\">\n",
              "      <th>epoch</th>\n",
              "      <th>train_loss</th>\n",
              "      <th>valid_loss</th>\n",
              "      <th>accuracy</th>\n",
              "      <th>time</th>\n",
              "    </tr>\n",
              "  </thead>\n",
              "  <tbody>\n",
              "    <tr>\n",
              "      <td>0</td>\n",
              "      <td>1.318732</td>\n",
              "      <td>1.289895</td>\n",
              "      <td>0.617975</td>\n",
              "      <td>29:38</td>\n",
              "    </tr>\n",
              "    <tr>\n",
              "      <td>1</td>\n",
              "      <td>1.296305</td>\n",
              "      <td>1.255059</td>\n",
              "      <td>0.627371</td>\n",
              "      <td>29:33</td>\n",
              "    </tr>\n",
              "    <tr>\n",
              "      <td>2</td>\n",
              "      <td>1.248149</td>\n",
              "      <td>1.211005</td>\n",
              "      <td>0.639266</td>\n",
              "      <td>29:35</td>\n",
              "    </tr>\n",
              "    <tr>\n",
              "      <td>3</td>\n",
              "      <td>1.205674</td>\n",
              "      <td>1.188828</td>\n",
              "      <td>0.645788</td>\n",
              "      <td>29:36</td>\n",
              "    </tr>\n",
              "  </tbody>\n",
              "</table>"
            ],
            "text/plain": [
              "<IPython.core.display.HTML object>"
            ]
          },
          "metadata": {
            "tags": []
          }
        }
      ]
    },
    {
      "cell_type": "code",
      "metadata": {
        "colab_type": "code",
        "outputId": "4035a66d-814f-4080-e115-45c5a4cb9032",
        "id": "mQkDd6W9b34m",
        "colab": {
          "base_uri": "https://localhost:8080/",
          "height": 173
        }
      },
      "source": [
        "learn.unfreeze()\n",
        "learn.fit_one_cycle(4, 1e-2)\n",
        "learn.save('10train_wiki_char_lm_body_4');"
      ],
      "execution_count": 0,
      "outputs": [
        {
          "output_type": "display_data",
          "data": {
            "text/html": [
              "<table border=\"1\" class=\"dataframe\">\n",
              "  <thead>\n",
              "    <tr style=\"text-align: left;\">\n",
              "      <th>epoch</th>\n",
              "      <th>train_loss</th>\n",
              "      <th>valid_loss</th>\n",
              "      <th>accuracy</th>\n",
              "      <th>time</th>\n",
              "    </tr>\n",
              "  </thead>\n",
              "  <tbody>\n",
              "    <tr>\n",
              "      <td>0</td>\n",
              "      <td>1.270261</td>\n",
              "      <td>1.244880</td>\n",
              "      <td>0.630382</td>\n",
              "      <td>29:40</td>\n",
              "    </tr>\n",
              "    <tr>\n",
              "      <td>1</td>\n",
              "      <td>1.269940</td>\n",
              "      <td>1.237337</td>\n",
              "      <td>0.632479</td>\n",
              "      <td>29:34</td>\n",
              "    </tr>\n",
              "    <tr>\n",
              "      <td>2</td>\n",
              "      <td>1.215266</td>\n",
              "      <td>1.191427</td>\n",
              "      <td>0.645083</td>\n",
              "      <td>29:38</td>\n",
              "    </tr>\n",
              "    <tr>\n",
              "      <td>3</td>\n",
              "      <td>1.187250</td>\n",
              "      <td>1.172085</td>\n",
              "      <td>0.650751</td>\n",
              "      <td>29:37</td>\n",
              "    </tr>\n",
              "  </tbody>\n",
              "</table>"
            ],
            "text/plain": [
              "<IPython.core.display.HTML object>"
            ]
          },
          "metadata": {
            "tags": []
          }
        }
      ]
    },
    {
      "cell_type": "code",
      "metadata": {
        "colab_type": "code",
        "id": "9b2b8xUHb34p",
        "colab": {}
      },
      "source": [
        "learn.save_encoder('10train_wiki_char_lm_enc')"
      ],
      "execution_count": 0,
      "outputs": []
    },
    {
      "cell_type": "markdown",
      "metadata": {
        "colab_type": "text",
        "id": "lWsQw_0Hb34t"
      },
      "source": [
        "### Classification (OUR AA)"
      ]
    },
    {
      "cell_type": "code",
      "metadata": {
        "colab_type": "code",
        "id": "1XFkbPWZb344",
        "colab": {}
      },
      "source": [
        "data_clas = load_data(subsets, '10train_char_clas.pkl',bs=32)\n",
        "learn_cls = text_classifier_learner(data_clas, AWD_LSTM, drop_mult=0.5, pretrained=False)\n",
        "learn_cls.load_encoder('10train_wiki_char_lm_enc')"
      ],
      "execution_count": 0,
      "outputs": []
    },
    {
      "cell_type": "code",
      "metadata": {
        "colab_type": "code",
        "outputId": "a423510c-b4b3-4503-8507-ece1c6c3eb72",
        "id": "arsbUyK5b34y",
        "colab": {
          "base_uri": "https://localhost:8080/",
          "height": 204
        }
      },
      "source": [
        "data_clas.show_batch()"
      ],
      "execution_count": 0,
      "outputs": [
        {
          "output_type": "display_data",
          "data": {
            "text/html": [
              "<table border=\"1\" class=\"dataframe\">\n",
              "  <thead>\n",
              "    <tr style=\"text-align: right;\">\n",
              "      <th>text</th>\n",
              "      <th>target</th>\n",
              "    </tr>\n",
              "  </thead>\n",
              "  <tbody>\n",
              "    <tr>\n",
              "      <td>xxbos x x b o s   গ xxunk ্ হ ি ত   ক া র ্ য   ছ ি ল   ন া xxunk   এ ক া ধ ি ক   প ত ্ ন ী   ও   উ প প ত ্ ন ী   স ক ল   র া জ - অ</td>\n",
              "      <td>shordindu</td>\n",
              "    </tr>\n",
              "    <tr>\n",
              "      <td>xxbos x x b o s   ব ল ি ল ে ন xxunk এ ব া র   দ ্ ব ি ত ী য়   প ্ র শ ্ ন xxunk দ ্ ব ন ্ দ ্ ব   হ য়   ক া দ ে র   ম ধ ্ য ে ?   প ্ র শ</td>\n",
              "      <td>shordindu</td>\n",
              "    </tr>\n",
              "    <tr>\n",
              "      <td>xxbos x x b o s   হ া ত ে   ল ই য় া   র া জ ক ু ম া র ী ক ে   ঘ ি র ি য় া   ঘ ি র ি য় া   ন ৃ ত ্ য   ক র ি ত ে ছ ে   এ ব xxunk</td>\n",
              "      <td>shordindu</td>\n",
              "    </tr>\n",
              "    <tr>\n",
              "      <td>xxbos x x b o s   প দ   প ড় ি য় া   গ ি য় া ছ ে ,   স ে ক া ল   ম ি ল ন ো ৎ ক ণ ্ ঠ ি ত   ন ব য ৌ ব ন া   ন া গ র ী   য খ ন</td>\n",
              "      <td>shordindu</td>\n",
              "    </tr>\n",
              "    <tr>\n",
              "      <td>xxbos x x b o s   ম ণ ্ ড প   হ ই ত ে   অ ন ্ য   র া জ া র   ম ণ ্ ড প ে র   দ ি ক ে   য ৌ ব ন শ ্ র ী ক ে   ল ই য় া   চ ল ি</td>\n",
              "      <td>shordindu</td>\n",
              "    </tr>\n",
              "  </tbody>\n",
              "</table>"
            ],
            "text/plain": [
              "<IPython.core.display.HTML object>"
            ]
          },
          "metadata": {
            "tags": []
          }
        }
      ]
    },
    {
      "cell_type": "code",
      "metadata": {
        "colab_type": "code",
        "outputId": "1d428eb0-60f9-4be4-b1c7-7a2e17c86359",
        "id": "LO3m6yWlb34-",
        "colab": {
          "base_uri": "https://localhost:8080/",
          "height": 300
        }
      },
      "source": [
        "learn_cls.freeze()\n",
        "learn_cls.lr_find()\n",
        "learn_cls.recorder.plot()"
      ],
      "execution_count": 0,
      "outputs": [
        {
          "output_type": "display_data",
          "data": {
            "text/html": [
              ""
            ],
            "text/plain": [
              "<IPython.core.display.HTML object>"
            ]
          },
          "metadata": {
            "tags": []
          }
        },
        {
          "output_type": "stream",
          "text": [
            "LR Finder is complete, type {learner_name}.recorder.plot() to see the graph.\n"
          ],
          "name": "stdout"
        },
        {
          "output_type": "display_data",
          "data": {
            "image/png": "[encoded data removed]",
            "text/plain": [
              "<Figure size 432x288 with 1 Axes>"
            ]
          },
          "metadata": {
            "tags": []
          }
        }
      ]
    },
    {
      "cell_type": "code",
      "metadata": {
        "colab_type": "code",
        "outputId": "11e19d03-9bf5-4229-d3f0-6ab60fba6a98",
        "id": "XI2Fjhdsb35B",
        "colab": {
          "base_uri": "https://localhost:8080/",
          "height": 111
        }
      },
      "source": [
        "learn_cls.fit_one_cycle(2, 1e-2, moms=(0.8,0.7))\n",
        "learn_cls.save('10train_wiki_char_cls_1')"
      ],
      "execution_count": 0,
      "outputs": [
        {
          "output_type": "display_data",
          "data": {
            "text/html": [
              "<table border=\"1\" class=\"dataframe\">\n",
              "  <thead>\n",
              "    <tr style=\"text-align: left;\">\n",
              "      <th>epoch</th>\n",
              "      <th>train_loss</th>\n",
              "      <th>valid_loss</th>\n",
              "      <th>accuracy</th>\n",
              "      <th>time</th>\n",
              "    </tr>\n",
              "  </thead>\n",
              "  <tbody>\n",
              "    <tr>\n",
              "      <td>0</td>\n",
              "      <td>0.428067</td>\n",
              "      <td>0.158454</td>\n",
              "      <td>0.951435</td>\n",
              "      <td>22:21</td>\n",
              "    </tr>\n",
              "    <tr>\n",
              "      <td>1</td>\n",
              "      <td>0.209186</td>\n",
              "      <td>0.131553</td>\n",
              "      <td>0.957322</td>\n",
              "      <td>22:37</td>\n",
              "    </tr>\n",
              "  </tbody>\n",
              "</table>"
            ],
            "text/plain": [
              "<IPython.core.display.HTML object>"
            ]
          },
          "metadata": {
            "tags": []
          }
        }
      ]
    },
    {
      "cell_type": "code",
      "metadata": {
        "colab_type": "code",
        "outputId": "0fba010a-3908-45d6-87b0-450d3e97c084",
        "id": "RUCS3A1yb35F",
        "colab": {
          "base_uri": "https://localhost:8080/",
          "height": 111
        }
      },
      "source": [
        "learn_cls.load('10train_wiki_char_cls_1')\n",
        "learn_cls.freeze_to(-2)\n",
        "learn_cls.fit_one_cycle(2 , slice(1e-2/(2.6**4),1e-2), moms=(0.8,0.7))\n",
        "learn_cls.save('10train_wiki_char_cls_2')"
      ],
      "execution_count": 0,
      "outputs": [
        {
          "output_type": "display_data",
          "data": {
            "text/html": [
              "<table border=\"1\" class=\"dataframe\">\n",
              "  <thead>\n",
              "    <tr style=\"text-align: left;\">\n",
              "      <th>epoch</th>\n",
              "      <th>train_loss</th>\n",
              "      <th>valid_loss</th>\n",
              "      <th>accuracy</th>\n",
              "      <th>time</th>\n",
              "    </tr>\n",
              "  </thead>\n",
              "  <tbody>\n",
              "    <tr>\n",
              "      <td>0</td>\n",
              "      <td>0.261412</td>\n",
              "      <td>0.128277</td>\n",
              "      <td>0.959529</td>\n",
              "      <td>23:26</td>\n",
              "    </tr>\n",
              "    <tr>\n",
              "      <td>1</td>\n",
              "      <td>0.105056</td>\n",
              "      <td>0.086605</td>\n",
              "      <td>0.977189</td>\n",
              "      <td>23:21</td>\n",
              "    </tr>\n",
              "  </tbody>\n",
              "</table>"
            ],
            "text/plain": [
              "<IPython.core.display.HTML object>"
            ]
          },
          "metadata": {
            "tags": []
          }
        }
      ]
    },
    {
      "cell_type": "code",
      "metadata": {
        "colab_type": "code",
        "outputId": "7e980137-d10e-4f93-fad6-fede650e8776",
        "id": "EUL9zx7mb35J",
        "colab": {
          "base_uri": "https://localhost:8080/",
          "height": 111
        }
      },
      "source": [
        "learn_cls.load('10train_wiki_char_cls_2')\n",
        "learn_cls.freeze_to(-3)\n",
        "learn_cls.fit_one_cycle(2, slice(5e-3/(2.6**4),5e-3), moms=(0.8,0.7))\n",
        "learn_cls.save('10train_wiki_char_cls_3')"
      ],
      "execution_count": 0,
      "outputs": [
        {
          "output_type": "display_data",
          "data": {
            "text/html": [
              "<table border=\"1\" class=\"dataframe\">\n",
              "  <thead>\n",
              "    <tr style=\"text-align: left;\">\n",
              "      <th>epoch</th>\n",
              "      <th>train_loss</th>\n",
              "      <th>valid_loss</th>\n",
              "      <th>accuracy</th>\n",
              "      <th>time</th>\n",
              "    </tr>\n",
              "  </thead>\n",
              "  <tbody>\n",
              "    <tr>\n",
              "      <td>0</td>\n",
              "      <td>0.097550</td>\n",
              "      <td>0.075663</td>\n",
              "      <td>0.982340</td>\n",
              "      <td>27:41</td>\n",
              "    </tr>\n",
              "    <tr>\n",
              "      <td>1</td>\n",
              "      <td>0.065237</td>\n",
              "      <td>0.068933</td>\n",
              "      <td>0.982340</td>\n",
              "      <td>27:33</td>\n",
              "    </tr>\n",
              "  </tbody>\n",
              "</table>"
            ],
            "text/plain": [
              "<IPython.core.display.HTML object>"
            ]
          },
          "metadata": {
            "tags": []
          }
        }
      ]
    },
    {
      "cell_type": "code",
      "metadata": {
        "colab_type": "code",
        "outputId": "929d6b02-005c-4273-e8d0-5b038f7e6e7d",
        "id": "ki3-QY1Pb35O",
        "colab": {
          "base_uri": "https://localhost:8080/",
          "height": 173
        }
      },
      "source": [
        "learn_cls.load('10train_wiki_char_cls_3')\n",
        "learn_cls.unfreeze()\n",
        "learn_cls.fit_one_cycle(4, slice(1e-3/(2.6**4),1e-3), moms=(0.8,0.7))\n",
        "learn_cls.save('10train_wiki_char_cls_4')"
      ],
      "execution_count": 0,
      "outputs": [
        {
          "output_type": "display_data",
          "data": {
            "text/html": [
              "<table border=\"1\" class=\"dataframe\">\n",
              "  <thead>\n",
              "    <tr style=\"text-align: left;\">\n",
              "      <th>epoch</th>\n",
              "      <th>train_loss</th>\n",
              "      <th>valid_loss</th>\n",
              "      <th>accuracy</th>\n",
              "      <th>time</th>\n",
              "    </tr>\n",
              "  </thead>\n",
              "  <tbody>\n",
              "    <tr>\n",
              "      <td>0</td>\n",
              "      <td>0.047410</td>\n",
              "      <td>0.063220</td>\n",
              "      <td>0.983076</td>\n",
              "      <td>30:49</td>\n",
              "    </tr>\n",
              "    <tr>\n",
              "      <td>1</td>\n",
              "      <td>0.041408</td>\n",
              "      <td>0.060616</td>\n",
              "      <td>0.983076</td>\n",
              "      <td>31:06</td>\n",
              "    </tr>\n",
              "    <tr>\n",
              "      <td>2</td>\n",
              "      <td>0.031586</td>\n",
              "      <td>0.058860</td>\n",
              "      <td>0.984547</td>\n",
              "      <td>31:00</td>\n",
              "    </tr>\n",
              "    <tr>\n",
              "      <td>3</td>\n",
              "      <td>0.029813</td>\n",
              "      <td>0.059680</td>\n",
              "      <td>0.983812</td>\n",
              "      <td>31:05</td>\n",
              "    </tr>\n",
              "  </tbody>\n",
              "</table>"
            ],
            "text/plain": [
              "<IPython.core.display.HTML object>"
            ]
          },
          "metadata": {
            "tags": []
          }
        }
      ]
    },
    {
      "cell_type": "code",
      "metadata": {
        "id": "yqVbAjXCTWS-",
        "colab_type": "code",
        "colab": {}
      },
      "source": [
        "learn_cls.load('10train_wiki_char_cls_4');"
      ],
      "execution_count": 0,
      "outputs": []
    },
    {
      "cell_type": "code",
      "metadata": {
        "colab_type": "code",
        "outputId": "d7c76f35-ccd1-4442-dc81-0e4e1a9972ba",
        "id": "tR8zFHlXb35U",
        "colab": {
          "base_uri": "https://localhost:8080/",
          "height": 105
        }
      },
      "source": [
        "preds,targ = testing(subsets/'10test.csv')"
      ],
      "execution_count": 0,
      "outputs": [
        {
          "output_type": "stream",
          "text": [
            "1700\n",
            "Accuracy: \n",
            "0.981764705882353\n",
            "[('shordindu', 'shunil_gongopaddhay'), ('shordindu', 'robindronath'), ('shordindu', 'robindronath'), ('shordindu', 'shorotchandra'), ('shordindu', 'robindronath'), ('shottojit_roy', 'shomresh'), ('shirshendu', 'robindronath'), ('shirshendu', 'shorotchandra'), ('shirshendu', 'shorotchandra'), ('shirshendu', 'shorotchandra'), ('shirshendu', 'shordindu'), ('shirshendu', 'shorotchandra'), ('toslima_nasrin', 'shirshendu'), ('MZI', 'humayun_ahmed'), ('MZI', 'humayun_ahmed'), ('shorotchandra', 'shunil_gongopaddhay'), ('robindronath', 'shorotchandra'), ('robindronath', 'shorotchandra'), ('humayun_ahmed', 'MZI'), ('humayun_ahmed', 'MZI'), ('humayun_ahmed', 'toslima_nasrin'), ('humayun_ahmed', 'toslima_nasrin'), ('humayun_ahmed', 'shunil_gongopaddhay'), ('shomresh', 'shirshendu'), ('shomresh', 'shordindu'), ('shomresh', 'shunil_gongopaddhay'), ('shunil_gongopaddhay', 'shomresh'), ('shunil_gongopaddhay', 'shomresh'), ('shunil_gongopaddhay', 'humayun_ahmed'), ('shunil_gongopaddhay', 'MZI'), ('shunil_gongopaddhay', 'shorotchandra')]\n"
          ],
          "name": "stdout"
        }
      ]
    },
    {
      "cell_type": "code",
      "metadata": {
        "colab_type": "code",
        "outputId": "e6de65ce-1fda-4519-bea9-0ee3fe297f72",
        "id": "tFRHdCStb35Z",
        "colab": {
          "base_uri": "https://localhost:8080/",
          "height": 34
        }
      },
      "source": [
        "from sklearn.metrics import f1_score\n",
        "out  = f1_score(targ, preds, average='macro') #'macro' , also == weighted cuz dataset is balanced\n",
        "out"
      ],
      "execution_count": 0,
      "outputs": [
        {
          "output_type": "execute_result",
          "data": {
            "text/plain": [
              "0.981766387025689"
            ]
          },
          "metadata": {
            "tags": []
          },
          "execution_count": 14
        }
      ]
    },
    {
      "cell_type": "code",
      "metadata": {
        "id": "5Hf3F6X6WBYV",
        "colab_type": "code",
        "colab": {}
      },
      "source": [
        ""
      ],
      "execution_count": 0,
      "outputs": []
    },
    {
      "cell_type": "markdown",
      "metadata": {
        "colab_type": "text",
        "id": "haI4JY6bJJJ5"
      },
      "source": [
        "## 12 Authors"
      ]
    },
    {
      "cell_type": "markdown",
      "metadata": {
        "colab_type": "text",
        "id": "6u9_HdHGJJJ-"
      },
      "source": [
        "### FineTune LM"
      ]
    },
    {
      "cell_type": "code",
      "metadata": {
        "colab_type": "code",
        "id": "QH6-KRawJJKB",
        "colab": {}
      },
      "source": [
        "bs = 128\n",
        "data_lm=load_data(subsets,'12train_char_lm.pkl',bs=bs)"
      ],
      "execution_count": 0,
      "outputs": []
    },
    {
      "cell_type": "code",
      "metadata": {
        "colab_type": "code",
        "outputId": "649f7d4c-f0b1-4c70-d489-a1c4e63c5cf0",
        "id": "hkQi4QRVJJKH",
        "colab": {
          "base_uri": "https://localhost:8080/",
          "height": 204
        }
      },
      "source": [
        "data_lm.show_batch()"
      ],
      "execution_count": 0,
      "outputs": [
        {
          "output_type": "display_data",
          "data": {
            "text/html": [
              "<table border=\"1\" class=\"dataframe\">\n",
              "  <thead>\n",
              "    <tr style=\"text-align: right;\">\n",
              "      <th>idx</th>\n",
              "      <th>text</th>\n",
              "    </tr>\n",
              "  </thead>\n",
              "  <tbody>\n",
              "    <tr>\n",
              "      <td>0</td>\n",
              "      <td>ন ে   স ত ্ য ে র   এ ই   প ্ র ত ্ য ক ্ ষ   প ্ র ক া শ   দ ে খ ত ে   আ ম া র   ভ া র ি   চ ম ৎ ক া র   ল া গ ছ ে xxunk</td>\n",
              "    </tr>\n",
              "    <tr>\n",
              "      <td>1</td>\n",
              "      <td>ে ম ি ত ে   প ৌ xxunk ছ ে   দ ি ত ে   প া র ল ে   অ ন ে ক   ক ি ছ ু   জ া ন া   য া ব ে xxunk   ক ্ য া প ্ ট ে ন   ব xxunk ্ ক ে ন</td>\n",
              "    </tr>\n",
              "    <tr>\n",
              "      <td>2</td>\n",
              "      <td>ম ু ক ু ল ি ত   য ে   দ ি ন   প া xxunk ড় ে   গ ো ষ ্ ঠ ী   প া ক া   ব া xxunk শ ে র   ল া ঠ ি   হ া ত ে   ক র ি য় া   দ ে ব ে</td>\n",
              "    </tr>\n",
              "    <tr>\n",
              "      <td>3</td>\n",
              "      <td>ত া হ া র   ম দ গ xxunk ্ ব ্ ব   ল া ঘ ব   ক র ি ত ে   হ ই ব ে ;   এ   ব ন ে র   অ ধ ী শ ্ ব র   ক ে   ত া হ া   জ া ন া ই</td>\n",
              "    </tr>\n",
              "    <tr>\n",
              "      <td>4</td>\n",
              "      <td>. ব ই ল া   ক ি   ট া ন ট া   দ ি ছ ে   দ ে খ xxunk   ক ম ল   দ া শ গ ু প ্ ত   য ে দ ি ন   ম া র া   গ ে ল ,   ত া র   ক</td>\n",
              "    </tr>\n",
              "  </tbody>\n",
              "</table>"
            ],
            "text/plain": [
              "<IPython.core.display.HTML object>"
            ]
          },
          "metadata": {
            "tags": []
          }
        }
      ]
    },
    {
      "cell_type": "code",
      "metadata": {
        "colab_type": "code",
        "id": "I2cN3CGVJJKP",
        "colab": {}
      },
      "source": [
        "learn = language_model_learner(data_lm, AWD_LSTM, pretrained=False, drop_mult=0.5)\n",
        "learn.load(wiki/'models'/'wiki_char_15');"
      ],
      "execution_count": 0,
      "outputs": []
    },
    {
      "cell_type": "code",
      "metadata": {
        "colab_type": "code",
        "outputId": "7cb33a40-44dd-4cb2-84c0-71911c1149cc",
        "id": "0fIRBboZJJKU",
        "colab": {
          "base_uri": "https://localhost:8080/",
          "height": 300
        }
      },
      "source": [
        "learn.lr_find()\n",
        "learn.recorder.plot()"
      ],
      "execution_count": 0,
      "outputs": [
        {
          "output_type": "display_data",
          "data": {
            "text/html": [
              ""
            ],
            "text/plain": [
              "<IPython.core.display.HTML object>"
            ]
          },
          "metadata": {
            "tags": []
          }
        },
        {
          "output_type": "stream",
          "text": [
            "LR Finder is complete, type {learner_name}.recorder.plot() to see the graph.\n"
          ],
          "name": "stdout"
        },
        {
          "output_type": "display_data",
          "data": {
            "image/png": "[encoded data removed]",
            "text/plain": [
              "<Figure size 432x288 with 1 Axes>"
            ]
          },
          "metadata": {
            "tags": []
          }
        }
      ]
    },
    {
      "cell_type": "code",
      "metadata": {
        "colab_type": "code",
        "outputId": "72f06dbe-adeb-4c02-f948-cbf14953f2f8",
        "id": "8Y11xhMJJJKZ",
        "colab": {
          "base_uri": "https://localhost:8080/",
          "height": 283
        }
      },
      "source": [
        "learn.recorder.plot(skip_end=15)"
      ],
      "execution_count": 0,
      "outputs": [
        {
          "output_type": "display_data",
          "data": {
            "image/png": "[encoded data removed]",
            "text/plain": [
              "<Figure size 432x288 with 1 Axes>"
            ]
          },
          "metadata": {
            "tags": []
          }
        }
      ]
    },
    {
      "cell_type": "code",
      "metadata": {
        "colab_type": "code",
        "outputId": "3daa1cab-dcef-4576-9627-62167cfe1a63",
        "id": "No0Q9JnlJJKg",
        "colab": {
          "base_uri": "https://localhost:8080/",
          "height": 111
        }
      },
      "source": [
        "learn.freeze()\n",
        "learn.fit_one_cycle(2, 1e-2)\n",
        "learn.save('12train_wiki_char_lm_head');"
      ],
      "execution_count": 0,
      "outputs": [
        {
          "output_type": "display_data",
          "data": {
            "text/html": [
              "<table border=\"1\" class=\"dataframe\">\n",
              "  <thead>\n",
              "    <tr style=\"text-align: left;\">\n",
              "      <th>epoch</th>\n",
              "      <th>train_loss</th>\n",
              "      <th>valid_loss</th>\n",
              "      <th>accuracy</th>\n",
              "      <th>time</th>\n",
              "    </tr>\n",
              "  </thead>\n",
              "  <tbody>\n",
              "    <tr>\n",
              "      <td>0</td>\n",
              "      <td>1.685606</td>\n",
              "      <td>1.636618</td>\n",
              "      <td>0.525005</td>\n",
              "      <td>17:23</td>\n",
              "    </tr>\n",
              "    <tr>\n",
              "      <td>1</td>\n",
              "      <td>1.688103</td>\n",
              "      <td>1.629727</td>\n",
              "      <td>0.526762</td>\n",
              "      <td>17:24</td>\n",
              "    </tr>\n",
              "  </tbody>\n",
              "</table>"
            ],
            "text/plain": [
              "<IPython.core.display.HTML object>"
            ]
          },
          "metadata": {
            "tags": []
          }
        }
      ]
    },
    {
      "cell_type": "code",
      "metadata": {
        "colab_type": "code",
        "outputId": "e60674fb-d293-4f30-fc96-8c940637a338",
        "id": "sf2KHbI0JJKo",
        "colab": {
          "base_uri": "https://localhost:8080/",
          "height": 111
        }
      },
      "source": [
        "learn.freeze_to(-2)\n",
        "learn.fit_one_cycle(2, 1e-2)\n",
        "learn.save('12train_wiki_char_lm_body_1');"
      ],
      "execution_count": 0,
      "outputs": [
        {
          "output_type": "display_data",
          "data": {
            "text/html": [
              "<table border=\"1\" class=\"dataframe\">\n",
              "  <thead>\n",
              "    <tr style=\"text-align: left;\">\n",
              "      <th>epoch</th>\n",
              "      <th>train_loss</th>\n",
              "      <th>valid_loss</th>\n",
              "      <th>accuracy</th>\n",
              "      <th>time</th>\n",
              "    </tr>\n",
              "  </thead>\n",
              "  <tbody>\n",
              "    <tr>\n",
              "      <td>0</td>\n",
              "      <td>1.439363</td>\n",
              "      <td>1.401545</td>\n",
              "      <td>0.587983</td>\n",
              "      <td>18:19</td>\n",
              "    </tr>\n",
              "    <tr>\n",
              "      <td>1</td>\n",
              "      <td>1.396781</td>\n",
              "      <td>1.351138</td>\n",
              "      <td>0.601340</td>\n",
              "      <td>18:13</td>\n",
              "    </tr>\n",
              "  </tbody>\n",
              "</table>"
            ],
            "text/plain": [
              "<IPython.core.display.HTML object>"
            ]
          },
          "metadata": {
            "tags": []
          }
        }
      ]
    },
    {
      "cell_type": "code",
      "metadata": {
        "colab_type": "code",
        "outputId": "830be419-a920-45a7-f70a-6711e4a7591e",
        "id": "vLS0Mk9EJJKw",
        "colab": {
          "base_uri": "https://localhost:8080/",
          "height": 111
        }
      },
      "source": [
        "learn.freeze_to(-3)\n",
        "learn.fit_one_cycle(2, 1e-2)\n",
        "learn.save('12train_wiki_char_lm_body_2');"
      ],
      "execution_count": 0,
      "outputs": [
        {
          "output_type": "display_data",
          "data": {
            "text/html": [
              "<table border=\"1\" class=\"dataframe\">\n",
              "  <thead>\n",
              "    <tr style=\"text-align: left;\">\n",
              "      <th>epoch</th>\n",
              "      <th>train_loss</th>\n",
              "      <th>valid_loss</th>\n",
              "      <th>accuracy</th>\n",
              "      <th>time</th>\n",
              "    </tr>\n",
              "  </thead>\n",
              "  <tbody>\n",
              "    <tr>\n",
              "      <td>0</td>\n",
              "      <td>1.393661</td>\n",
              "      <td>1.352099</td>\n",
              "      <td>0.601683</td>\n",
              "      <td>21:04</td>\n",
              "    </tr>\n",
              "    <tr>\n",
              "      <td>1</td>\n",
              "      <td>1.324733</td>\n",
              "      <td>1.283531</td>\n",
              "      <td>0.619742</td>\n",
              "      <td>21:06</td>\n",
              "    </tr>\n",
              "  </tbody>\n",
              "</table>"
            ],
            "text/plain": [
              "<IPython.core.display.HTML object>"
            ]
          },
          "metadata": {
            "tags": []
          }
        }
      ]
    },
    {
      "cell_type": "code",
      "metadata": {
        "colab_type": "code",
        "outputId": "2e73a869-5211-477c-ec33-735d9a157b75",
        "id": "kSs0KcyZJJK0",
        "colab": {
          "base_uri": "https://localhost:8080/",
          "height": 173
        }
      },
      "source": [
        "learn.unfreeze()\n",
        "learn.fit_one_cycle(4, 1e-2)\n",
        "learn.save('12train_wiki_char_lm_body_3');"
      ],
      "execution_count": 0,
      "outputs": [
        {
          "output_type": "display_data",
          "data": {
            "text/html": [
              "<table border=\"1\" class=\"dataframe\">\n",
              "  <thead>\n",
              "    <tr style=\"text-align: left;\">\n",
              "      <th>epoch</th>\n",
              "      <th>train_loss</th>\n",
              "      <th>valid_loss</th>\n",
              "      <th>accuracy</th>\n",
              "      <th>time</th>\n",
              "    </tr>\n",
              "  </thead>\n",
              "  <tbody>\n",
              "    <tr>\n",
              "      <td>0</td>\n",
              "      <td>1.342953</td>\n",
              "      <td>1.324380</td>\n",
              "      <td>0.608815</td>\n",
              "      <td>23:10</td>\n",
              "    </tr>\n",
              "    <tr>\n",
              "      <td>1</td>\n",
              "      <td>1.351271</td>\n",
              "      <td>1.297441</td>\n",
              "      <td>0.616355</td>\n",
              "      <td>23:06</td>\n",
              "    </tr>\n",
              "    <tr>\n",
              "      <td>2</td>\n",
              "      <td>1.290909</td>\n",
              "      <td>1.258543</td>\n",
              "      <td>0.626739</td>\n",
              "      <td>23:08</td>\n",
              "    </tr>\n",
              "    <tr>\n",
              "      <td>3</td>\n",
              "      <td>1.249805</td>\n",
              "      <td>1.236201</td>\n",
              "      <td>0.633263</td>\n",
              "      <td>23:10</td>\n",
              "    </tr>\n",
              "  </tbody>\n",
              "</table>"
            ],
            "text/plain": [
              "<IPython.core.display.HTML object>"
            ]
          },
          "metadata": {
            "tags": []
          }
        }
      ]
    },
    {
      "cell_type": "code",
      "metadata": {
        "colab_type": "code",
        "outputId": "793cc0fc-a72d-40f5-8ec5-a4aea6eb8478",
        "id": "I511JsQDJJK4",
        "colab": {
          "base_uri": "https://localhost:8080/",
          "height": 173
        }
      },
      "source": [
        "learn.unfreeze()\n",
        "learn.fit_one_cycle(4, 1e-2)\n",
        "learn.save('12train_wiki_char_lm_body_4');"
      ],
      "execution_count": 0,
      "outputs": [
        {
          "output_type": "display_data",
          "data": {
            "text/html": [
              "<table border=\"1\" class=\"dataframe\">\n",
              "  <thead>\n",
              "    <tr style=\"text-align: left;\">\n",
              "      <th>epoch</th>\n",
              "      <th>train_loss</th>\n",
              "      <th>valid_loss</th>\n",
              "      <th>accuracy</th>\n",
              "      <th>time</th>\n",
              "    </tr>\n",
              "  </thead>\n",
              "  <tbody>\n",
              "    <tr>\n",
              "      <td>0</td>\n",
              "      <td>1.312294</td>\n",
              "      <td>1.292552</td>\n",
              "      <td>0.617875</td>\n",
              "      <td>23:11</td>\n",
              "    </tr>\n",
              "    <tr>\n",
              "      <td>1</td>\n",
              "      <td>1.306026</td>\n",
              "      <td>1.282812</td>\n",
              "      <td>0.620403</td>\n",
              "      <td>23:11</td>\n",
              "    </tr>\n",
              "    <tr>\n",
              "      <td>2</td>\n",
              "      <td>1.253826</td>\n",
              "      <td>1.238188</td>\n",
              "      <td>0.632648</td>\n",
              "      <td>23:11</td>\n",
              "    </tr>\n",
              "    <tr>\n",
              "      <td>3</td>\n",
              "      <td>1.216095</td>\n",
              "      <td>1.218671</td>\n",
              "      <td>0.638495</td>\n",
              "      <td>23:11</td>\n",
              "    </tr>\n",
              "  </tbody>\n",
              "</table>"
            ],
            "text/plain": [
              "<IPython.core.display.HTML object>"
            ]
          },
          "metadata": {
            "tags": []
          }
        }
      ]
    },
    {
      "cell_type": "code",
      "metadata": {
        "colab_type": "code",
        "id": "AGgDMlfBJJK7",
        "colab": {}
      },
      "source": [
        "learn.save_encoder('12train_wiki_char_lm_enc')"
      ],
      "execution_count": 0,
      "outputs": []
    },
    {
      "cell_type": "markdown",
      "metadata": {
        "colab_type": "text",
        "id": "YZfvYU4sJJLC"
      },
      "source": [
        "### Classification (OUR AA)"
      ]
    },
    {
      "cell_type": "code",
      "metadata": {
        "colab_type": "code",
        "id": "PpzrYclLJJLD",
        "colab": {}
      },
      "source": [
        "data_clas=load_data(subsets,'12train_char_clas.pkl',bs=32)"
      ],
      "execution_count": 0,
      "outputs": []
    },
    {
      "cell_type": "code",
      "metadata": {
        "colab_type": "code",
        "outputId": "9726e808-dfb7-4274-ca24-566ab71fa0e8",
        "id": "1tEW8h89JJLJ",
        "colab": {
          "base_uri": "https://localhost:8080/",
          "height": 204
        }
      },
      "source": [
        "data_clas.show_batch()"
      ],
      "execution_count": 0,
      "outputs": [
        {
          "output_type": "display_data",
          "data": {
            "text/html": [
              "<table border=\"1\" class=\"dataframe\">\n",
              "  <thead>\n",
              "    <tr style=\"text-align: right;\">\n",
              "      <th>text</th>\n",
              "      <th>target</th>\n",
              "    </tr>\n",
              "  </thead>\n",
              "  <tbody>\n",
              "    <tr>\n",
              "      <td>xxbos x x b o s   এ ক   ন া প ি ত া ন ী   আ স ি ল xxunk   ন া প ি ত া ন ী   স ধ ব া ,   খ া ট ো   র া ঙ ্ গ া প ে ড় ে   স া ড় ী প র</td>\n",
              "      <td>bongkim</td>\n",
              "    </tr>\n",
              "    <tr>\n",
              "      <td>xxbos x x b o s   :   গ ৃ হ া ভ ি ম ু খ ে   “   xxunk   ”   ক প া ল ক ু ণ ্ ড ল া   ধ ী র ে   ধ ী র ে   গ ৃ হ া ভ ি ম ু খ ে   চ</td>\n",
              "      <td>bongkim</td>\n",
              "    </tr>\n",
              "    <tr>\n",
              "      <td>xxbos x x b o s   ক র ি ত ে ছ ে xxunk   আ ম া র   অ স ি - ফ ল ক   অ ঙ ্ গ া র   হ ই ত ে   ব া হ ি র   ক র ি য় া   র স া য় ন - ম ি শ</td>\n",
              "      <td>shordindu</td>\n",
              "    </tr>\n",
              "    <tr>\n",
              "      <td>xxbos x x b o s   ন ি র ্ ব ি ঘ ্ ন ে   ন ি ষ ্ ক ্ র া ন ্ ত   হ ই ল ে ন xxunk   ব ি ম ল া   ফ ট ক   হ ই ত ে   ক ি য় দ ্ দ ূ র   গ</td>\n",
              "      <td>bongkim</td>\n",
              "    </tr>\n",
              "    <tr>\n",
              "      <td>xxbos x x b o s   ক র ি ল ে ন xxunk   ক থ ি ত   ব া ল ু ক া স ্ ত ূ প শ ্ র ে ণ ী   প ্ র স ্ থ ে   অ ত ি   অ ল ্ প ,   অ ত এ ব   ন</td>\n",
              "      <td>bongkim</td>\n",
              "    </tr>\n",
              "  </tbody>\n",
              "</table>"
            ],
            "text/plain": [
              "<IPython.core.display.HTML object>"
            ]
          },
          "metadata": {
            "tags": []
          }
        }
      ]
    },
    {
      "cell_type": "code",
      "metadata": {
        "colab_type": "code",
        "id": "Lwipl5M3JJLM",
        "colab": {}
      },
      "source": [
        "learn_cls = text_classifier_learner(data_clas, AWD_LSTM, drop_mult=0.5, pretrained=False)\n",
        "learn_cls.load_encoder('12train_wiki_char_lm_enc')"
      ],
      "execution_count": 0,
      "outputs": []
    },
    {
      "cell_type": "code",
      "metadata": {
        "colab_type": "code",
        "outputId": "4bbccbbe-c7be-490f-be28-a0fbdff50638",
        "id": "Yo2TbTI9JJLS",
        "colab": {
          "base_uri": "https://localhost:8080/",
          "height": 300
        }
      },
      "source": [
        "learn_cls.freeze()\n",
        "learn_cls.lr_find()\n",
        "learn_cls.recorder.plot()"
      ],
      "execution_count": 0,
      "outputs": [
        {
          "output_type": "display_data",
          "data": {
            "text/html": [
              ""
            ],
            "text/plain": [
              "<IPython.core.display.HTML object>"
            ]
          },
          "metadata": {
            "tags": []
          }
        },
        {
          "output_type": "stream",
          "text": [
            "LR Finder is complete, type {learner_name}.recorder.plot() to see the graph.\n"
          ],
          "name": "stdout"
        },
        {
          "output_type": "display_data",
          "data": {
            "image/png": "[encoded data removed]",
            "text/plain": [
              "<Figure size 432x288 with 1 Axes>"
            ]
          },
          "metadata": {
            "tags": []
          }
        }
      ]
    },
    {
      "cell_type": "code",
      "metadata": {
        "colab_type": "code",
        "outputId": "f02c8958-2604-4559-d4f3-0d438776c177",
        "id": "wUVTOK4dJJLZ",
        "colab": {
          "base_uri": "https://localhost:8080/",
          "height": 111
        }
      },
      "source": [
        "learn_cls.fit_one_cycle(2, 1e-2, moms=(0.8,0.7))\n",
        "learn_cls.save('12train_wiki_char_cls_1')"
      ],
      "execution_count": 0,
      "outputs": [
        {
          "output_type": "display_data",
          "data": {
            "text/html": [
              "<table border=\"1\" class=\"dataframe\">\n",
              "  <thead>\n",
              "    <tr style=\"text-align: left;\">\n",
              "      <th>epoch</th>\n",
              "      <th>train_loss</th>\n",
              "      <th>valid_loss</th>\n",
              "      <th>accuracy</th>\n",
              "      <th>time</th>\n",
              "    </tr>\n",
              "  </thead>\n",
              "  <tbody>\n",
              "    <tr>\n",
              "      <td>0</td>\n",
              "      <td>0.716062</td>\n",
              "      <td>0.288703</td>\n",
              "      <td>0.914657</td>\n",
              "      <td>17:50</td>\n",
              "    </tr>\n",
              "    <tr>\n",
              "      <td>1</td>\n",
              "      <td>0.392272</td>\n",
              "      <td>0.231807</td>\n",
              "      <td>0.916512</td>\n",
              "      <td>17:44</td>\n",
              "    </tr>\n",
              "  </tbody>\n",
              "</table>"
            ],
            "text/plain": [
              "<IPython.core.display.HTML object>"
            ]
          },
          "metadata": {
            "tags": []
          }
        }
      ]
    },
    {
      "cell_type": "code",
      "metadata": {
        "colab_type": "code",
        "outputId": "26364959-c1a1-44e7-fbba-237bbb5fe249",
        "id": "1fzeFa_wJJLc",
        "colab": {
          "base_uri": "https://localhost:8080/",
          "height": 111
        }
      },
      "source": [
        "learn_cls.load('12train_wiki_char_cls_1')\n",
        "learn_cls.freeze_to(-2)\n",
        "learn_cls.fit_one_cycle(2 , slice(1e-2/(2.6**4),1e-2), moms=(0.8,0.7))\n",
        "learn_cls.save('12train_wiki_char_cls_2')"
      ],
      "execution_count": 0,
      "outputs": [
        {
          "output_type": "display_data",
          "data": {
            "text/html": [
              "<table border=\"1\" class=\"dataframe\">\n",
              "  <thead>\n",
              "    <tr style=\"text-align: left;\">\n",
              "      <th>epoch</th>\n",
              "      <th>train_loss</th>\n",
              "      <th>valid_loss</th>\n",
              "      <th>accuracy</th>\n",
              "      <th>time</th>\n",
              "    </tr>\n",
              "  </thead>\n",
              "  <tbody>\n",
              "    <tr>\n",
              "      <td>0</td>\n",
              "      <td>0.399210</td>\n",
              "      <td>0.235063</td>\n",
              "      <td>0.927644</td>\n",
              "      <td>18:21</td>\n",
              "    </tr>\n",
              "    <tr>\n",
              "      <td>1</td>\n",
              "      <td>0.225588</td>\n",
              "      <td>0.141789</td>\n",
              "      <td>0.949907</td>\n",
              "      <td>18:42</td>\n",
              "    </tr>\n",
              "  </tbody>\n",
              "</table>"
            ],
            "text/plain": [
              "<IPython.core.display.HTML object>"
            ]
          },
          "metadata": {
            "tags": []
          }
        }
      ]
    },
    {
      "cell_type": "code",
      "metadata": {
        "colab_type": "code",
        "outputId": "44fd0c77-ceb3-4b14-9cc3-4e089c4035da",
        "id": "H8x8iRCkJJLg",
        "colab": {
          "base_uri": "https://localhost:8080/",
          "height": 111
        }
      },
      "source": [
        "learn_cls.load('12train_wiki_char_cls_2')\n",
        "learn_cls.freeze_to(-3)\n",
        "learn_cls.fit_one_cycle(2, slice(5e-3/(2.6**4),5e-3), moms=(0.8,0.7))\n",
        "learn_cls.save('12train_wiki_char_cls_3')"
      ],
      "execution_count": 0,
      "outputs": [
        {
          "output_type": "display_data",
          "data": {
            "text/html": [
              "<table border=\"1\" class=\"dataframe\">\n",
              "  <thead>\n",
              "    <tr style=\"text-align: left;\">\n",
              "      <th>epoch</th>\n",
              "      <th>train_loss</th>\n",
              "      <th>valid_loss</th>\n",
              "      <th>accuracy</th>\n",
              "      <th>time</th>\n",
              "    </tr>\n",
              "  </thead>\n",
              "  <tbody>\n",
              "    <tr>\n",
              "      <td>0</td>\n",
              "      <td>0.165076</td>\n",
              "      <td>0.139261</td>\n",
              "      <td>0.954545</td>\n",
              "      <td>21:26</td>\n",
              "    </tr>\n",
              "    <tr>\n",
              "      <td>1</td>\n",
              "      <td>0.100987</td>\n",
              "      <td>0.085420</td>\n",
              "      <td>0.970315</td>\n",
              "      <td>21:42</td>\n",
              "    </tr>\n",
              "  </tbody>\n",
              "</table>"
            ],
            "text/plain": [
              "<IPython.core.display.HTML object>"
            ]
          },
          "metadata": {
            "tags": []
          }
        }
      ]
    },
    {
      "cell_type": "code",
      "metadata": {
        "colab_type": "code",
        "outputId": "049e24ad-6496-4794-dba0-e934ff578560",
        "id": "s_Jl7U6lJJLl",
        "colab": {
          "base_uri": "https://localhost:8080/",
          "height": 173
        }
      },
      "source": [
        "learn_cls.load('12train_wiki_char_cls_3')\n",
        "learn_cls.unfreeze()\n",
        "learn_cls.fit_one_cycle(4, slice(1e-3/(2.6**4),1e-3), moms=(0.8,0.7))\n",
        "learn_cls.save('12train_wiki_char_cls_4')"
      ],
      "execution_count": 0,
      "outputs": [
        {
          "output_type": "display_data",
          "data": {
            "text/html": [
              "<table border=\"1\" class=\"dataframe\">\n",
              "  <thead>\n",
              "    <tr style=\"text-align: left;\">\n",
              "      <th>epoch</th>\n",
              "      <th>train_loss</th>\n",
              "      <th>valid_loss</th>\n",
              "      <th>accuracy</th>\n",
              "      <th>time</th>\n",
              "    </tr>\n",
              "  </thead>\n",
              "  <tbody>\n",
              "    <tr>\n",
              "      <td>0</td>\n",
              "      <td>0.077222</td>\n",
              "      <td>0.093411</td>\n",
              "      <td>0.962894</td>\n",
              "      <td>24:19</td>\n",
              "    </tr>\n",
              "    <tr>\n",
              "      <td>1</td>\n",
              "      <td>0.068773</td>\n",
              "      <td>0.088996</td>\n",
              "      <td>0.968460</td>\n",
              "      <td>24:11</td>\n",
              "    </tr>\n",
              "    <tr>\n",
              "      <td>2</td>\n",
              "      <td>0.064181</td>\n",
              "      <td>0.084821</td>\n",
              "      <td>0.966605</td>\n",
              "      <td>24:22</td>\n",
              "    </tr>\n",
              "    <tr>\n",
              "      <td>3</td>\n",
              "      <td>0.052268</td>\n",
              "      <td>0.083612</td>\n",
              "      <td>0.969388</td>\n",
              "      <td>24:28</td>\n",
              "    </tr>\n",
              "  </tbody>\n",
              "</table>"
            ],
            "text/plain": [
              "<IPython.core.display.HTML object>"
            ]
          },
          "metadata": {
            "tags": []
          }
        }
      ]
    },
    {
      "cell_type": "code",
      "metadata": {
        "colab_type": "code",
        "outputId": "59631d65-2c38-4370-c918-58d604b67580",
        "id": "BUgncrmkJJLo",
        "colab": {
          "base_uri": "https://localhost:8080/",
          "height": 105
        }
      },
      "source": [
        "preds,targ = testing(subsets/'12test.csv')"
      ],
      "execution_count": 0,
      "outputs": [
        {
          "output_type": "stream",
          "text": [
            "1356\n",
            "Accuracy: \n",
            "0.9778761061946902\n",
            "[('tarashonkor', 'shottojit_roy'), ('shordindu', 'bongkim'), ('shordindu', 'robindronath'), ('shordindu', 'robindronath'), ('shordindu', 'robindronath'), ('shordindu', 'robindronath'), ('shirshendu', 'shomresh'), ('shirshendu', 'shottojit_roy'), ('toslima_nasrin', 'shunil_gongopaddhay'), ('shorotchandra', 'robindronath'), ('shorotchandra', 'robindronath'), ('shorotchandra', 'tarashonkor'), ('shorotchandra', 'robindronath'), ('shorotchandra', 'robindronath'), ('robindronath', 'shorotchandra'), ('robindronath', 'humayun_ahmed'), ('robindronath', 'tarashonkor'), ('robindronath', 'shomresh'), ('robindronath', 'shunil_gongopaddhay'), ('robindronath', 'tarashonkor'), ('robindronath', 'shunil_gongopaddhay'), ('robindronath', 'bongkim'), ('robindronath', 'shordindu'), ('robindronath', 'tarashonkor'), ('humayun_ahmed', 'MZI'), ('humayun_ahmed', 'shirshendu'), ('humayun_ahmed', 'toslima_nasrin'), ('shunil_gongopaddhay', 'robindronath'), ('shunil_gongopaddhay', 'toslima_nasrin'), ('shunil_gongopaddhay', 'shomresh')]\n"
          ],
          "name": "stdout"
        }
      ]
    },
    {
      "cell_type": "code",
      "metadata": {
        "colab_type": "code",
        "outputId": "53bf0f3b-afda-46ea-d1b4-ad6ec9eb93a8",
        "id": "jjSAN3s9JJLw",
        "colab": {
          "base_uri": "https://localhost:8080/",
          "height": 34
        }
      },
      "source": [
        "from sklearn.metrics import f1_score\n",
        "out  = f1_score(targ, preds, average='macro')\n",
        "out"
      ],
      "execution_count": 0,
      "outputs": [
        {
          "output_type": "execute_result",
          "data": {
            "text/plain": [
              "0.9778052374920407"
            ]
          },
          "metadata": {
            "tags": []
          },
          "execution_count": 38
        }
      ]
    },
    {
      "cell_type": "code",
      "metadata": {
        "id": "ADH3f0H4vSpG",
        "colab_type": "code",
        "colab": {}
      },
      "source": [
        ""
      ],
      "execution_count": 0,
      "outputs": []
    },
    {
      "cell_type": "markdown",
      "metadata": {
        "colab_type": "text",
        "id": "QsqTKv4RjXIO"
      },
      "source": [
        "## 14 Authors"
      ]
    },
    {
      "cell_type": "markdown",
      "metadata": {
        "colab_type": "text",
        "id": "gDdmAw0UjXIR"
      },
      "source": [
        "### FineTune LM"
      ]
    },
    {
      "cell_type": "code",
      "metadata": {
        "colab_type": "code",
        "id": "FEPKA-q3jXIT",
        "colab": {}
      },
      "source": [
        "bs = 128\n",
        "data_lm=load_data(subsets,'14train_char_lm.pkl',bs=bs)"
      ],
      "execution_count": 0,
      "outputs": []
    },
    {
      "cell_type": "code",
      "metadata": {
        "colab_type": "code",
        "outputId": "f9d6d991-481f-4787-c102-712d24ec126a",
        "id": "rMqq61lhjXIY",
        "colab": {
          "base_uri": "https://localhost:8080/",
          "height": 204
        }
      },
      "source": [
        "data_lm.show_batch()"
      ],
      "execution_count": 0,
      "outputs": [
        {
          "output_type": "display_data",
          "data": {
            "text/html": [
              "<table border=\"1\" class=\"dataframe\">\n",
              "  <thead>\n",
              "    <tr style=\"text-align: right;\">\n",
              "      <th>idx</th>\n",
              "      <th>text</th>\n",
              "    </tr>\n",
              "  </thead>\n",
              "  <tbody>\n",
              "    <tr>\n",
              "      <td>0</td>\n",
              "      <td>ঠ ে   ব স া র   প র   ভ ি ড় ট া   প া ত ল া   হ চ ্ ছ ে xxunk   ক ে   এ ক জ ন   ত া র   হ া ত ে র   ও প র ে র   দ ি ক ট া</td>\n",
              "    </tr>\n",
              "    <tr>\n",
              "      <td>1</td>\n",
              "      <td>ছ ি ল xxunk   অ ফ ি স   থ ে ক ে   ব ে র ু ন ো র   স ম য়   স ে   চ ল ে   এ স ে ছ ি ল   ফ া ই ল প ত ্ র   ত ু ল ে   র া খ ত ে</td>\n",
              "    </tr>\n",
              "    <tr>\n",
              "      <td>2</td>\n",
              "      <td>ত া   ক ি ছ ু ই   ন য় xxunk   আ র   এ ট ু ক ু   প া চ ্ ছ ে ন   ব ল ে   ক ো ন ম ত ে   চ ল ে   য া চ ্ ছ ে xxunk   আ দ া য ় ী ক</td>\n",
              "    </tr>\n",
              "    <tr>\n",
              "      <td>3</td>\n",
              "      <td>হ ব ে xxunk   ক ে উ   ল জ ্ জ া য়   ভ য় ে   ঘ র   থ ে ক ে   ব ে র ো ত ে   প া র ছ ে   ন া xxunk   ত ো ম া র   ব ো ন ে র</td>\n",
              "    </tr>\n",
              "    <tr>\n",
              "      <td>4</td>\n",
              "      <td>ে ছ ি ল   xxunk   স ে ই   অ গ ্ ন ি র   দ ী প ্ ত ি   ল ক ্ ষ ্ য   ক র ি য় া   ন ব ক ু ম া র   স ে   স ্ থ ল ে   আ স ি ত ে</td>\n",
              "    </tr>\n",
              "  </tbody>\n",
              "</table>"
            ],
            "text/plain": [
              "<IPython.core.display.HTML object>"
            ]
          },
          "metadata": {
            "tags": []
          }
        }
      ]
    },
    {
      "cell_type": "code",
      "metadata": {
        "colab_type": "code",
        "id": "Oevjsq6_jXId",
        "colab": {}
      },
      "source": [
        "learn = language_model_learner(data_lm, AWD_LSTM, pretrained=False, drop_mult=0.5)\n",
        "learn.load(char/'models'/'news_char_3less_15');"
      ],
      "execution_count": 0,
      "outputs": []
    },
    {
      "cell_type": "code",
      "metadata": {
        "colab_type": "code",
        "outputId": "e32b25d5-9801-49e4-e454-421823041dc4",
        "id": "AKg8OxAljXIh",
        "colab": {
          "base_uri": "https://localhost:8080/",
          "height": 300
        }
      },
      "source": [
        "learn.lr_find()\n",
        "learn.recorder.plot()"
      ],
      "execution_count": 0,
      "outputs": [
        {
          "output_type": "display_data",
          "data": {
            "text/html": [
              ""
            ],
            "text/plain": [
              "<IPython.core.display.HTML object>"
            ]
          },
          "metadata": {
            "tags": []
          }
        },
        {
          "output_type": "stream",
          "text": [
            "LR Finder is complete, type {learner_name}.recorder.plot() to see the graph.\n"
          ],
          "name": "stdout"
        },
        {
          "output_type": "display_data",
          "data": {
            "image/png": "[encoded data removed]",
            "text/plain": [
              "<Figure size 432x288 with 1 Axes>"
            ]
          },
          "metadata": {
            "tags": []
          }
        }
      ]
    },
    {
      "cell_type": "code",
      "metadata": {
        "colab_type": "code",
        "outputId": "51cdd10f-38fd-4783-bcc3-49dc2f01d00b",
        "id": "IoC3tTe4jXIm",
        "colab": {
          "base_uri": "https://localhost:8080/",
          "height": 283
        }
      },
      "source": [
        "learn.recorder.plot(skip_end=15)"
      ],
      "execution_count": 0,
      "outputs": [
        {
          "output_type": "display_data",
          "data": {
            "image/png": "[encoded data removed]",
            "text/plain": [
              "<Figure size 432x288 with 1 Axes>"
            ]
          },
          "metadata": {
            "tags": []
          }
        }
      ]
    },
    {
      "cell_type": "code",
      "metadata": {
        "colab_type": "code",
        "outputId": "84bfc5cb-4690-4491-aff5-e4a215d31865",
        "id": "Ifv9p4qkjXIq",
        "colab": {
          "base_uri": "https://localhost:8080/",
          "height": 111
        }
      },
      "source": [
        "learn.freeze()\n",
        "learn.fit_one_cycle(2, 1e-2)\n",
        "learn.save('14train_wiki_char_lm_head');"
      ],
      "execution_count": 0,
      "outputs": [
        {
          "output_type": "display_data",
          "data": {
            "text/html": [
              "<table border=\"1\" class=\"dataframe\">\n",
              "  <thead>\n",
              "    <tr style=\"text-align: left;\">\n",
              "      <th>epoch</th>\n",
              "      <th>train_loss</th>\n",
              "      <th>valid_loss</th>\n",
              "      <th>accuracy</th>\n",
              "      <th>time</th>\n",
              "    </tr>\n",
              "  </thead>\n",
              "  <tbody>\n",
              "    <tr>\n",
              "      <td>0</td>\n",
              "      <td>1.657691</td>\n",
              "      <td>1.593166</td>\n",
              "      <td>0.537391</td>\n",
              "      <td>17:05</td>\n",
              "    </tr>\n",
              "    <tr>\n",
              "      <td>1</td>\n",
              "      <td>1.637628</td>\n",
              "      <td>1.589576</td>\n",
              "      <td>0.538047</td>\n",
              "      <td>17:15</td>\n",
              "    </tr>\n",
              "  </tbody>\n",
              "</table>"
            ],
            "text/plain": [
              "<IPython.core.display.HTML object>"
            ]
          },
          "metadata": {
            "tags": []
          }
        }
      ]
    },
    {
      "cell_type": "code",
      "metadata": {
        "colab_type": "code",
        "outputId": "4bb96b17-9fee-45b7-e0d7-daf8ed7b5bf5",
        "id": "vAr_5bDujXIw",
        "colab": {
          "base_uri": "https://localhost:8080/",
          "height": 111
        }
      },
      "source": [
        "learn.freeze_to(-2)\n",
        "learn.fit_one_cycle(2, 1e-2)\n",
        "learn.save('14train_wiki_char_lm_body_1');"
      ],
      "execution_count": 0,
      "outputs": [
        {
          "output_type": "display_data",
          "data": {
            "text/html": [
              "<table border=\"1\" class=\"dataframe\">\n",
              "  <thead>\n",
              "    <tr style=\"text-align: left;\">\n",
              "      <th>epoch</th>\n",
              "      <th>train_loss</th>\n",
              "      <th>valid_loss</th>\n",
              "      <th>accuracy</th>\n",
              "      <th>time</th>\n",
              "    </tr>\n",
              "  </thead>\n",
              "  <tbody>\n",
              "    <tr>\n",
              "      <td>0</td>\n",
              "      <td>1.434024</td>\n",
              "      <td>1.394284</td>\n",
              "      <td>0.589516</td>\n",
              "      <td>17:52</td>\n",
              "    </tr>\n",
              "    <tr>\n",
              "      <td>1</td>\n",
              "      <td>1.393928</td>\n",
              "      <td>1.344717</td>\n",
              "      <td>0.602779</td>\n",
              "      <td>17:52</td>\n",
              "    </tr>\n",
              "  </tbody>\n",
              "</table>"
            ],
            "text/plain": [
              "<IPython.core.display.HTML object>"
            ]
          },
          "metadata": {
            "tags": []
          }
        }
      ]
    },
    {
      "cell_type": "code",
      "metadata": {
        "colab_type": "code",
        "outputId": "1d0a2841-8916-411d-8310-a0eb69e04581",
        "id": "eVNbMrfIjXI2",
        "colab": {
          "base_uri": "https://localhost:8080/",
          "height": 111
        }
      },
      "source": [
        "learn.freeze_to(-3)\n",
        "learn.fit_one_cycle(2, 1e-2)\n",
        "learn.save('14train_wiki_char_lm_body_2');"
      ],
      "execution_count": 0,
      "outputs": [
        {
          "output_type": "display_data",
          "data": {
            "text/html": [
              "<table border=\"1\" class=\"dataframe\">\n",
              "  <thead>\n",
              "    <tr style=\"text-align: left;\">\n",
              "      <th>epoch</th>\n",
              "      <th>train_loss</th>\n",
              "      <th>valid_loss</th>\n",
              "      <th>accuracy</th>\n",
              "      <th>time</th>\n",
              "    </tr>\n",
              "  </thead>\n",
              "  <tbody>\n",
              "    <tr>\n",
              "      <td>0</td>\n",
              "      <td>1.382952</td>\n",
              "      <td>1.353202</td>\n",
              "      <td>0.600079</td>\n",
              "      <td>20:35</td>\n",
              "    </tr>\n",
              "    <tr>\n",
              "      <td>1</td>\n",
              "      <td>1.321820</td>\n",
              "      <td>1.289063</td>\n",
              "      <td>0.617887</td>\n",
              "      <td>20:37</td>\n",
              "    </tr>\n",
              "  </tbody>\n",
              "</table>"
            ],
            "text/plain": [
              "<IPython.core.display.HTML object>"
            ]
          },
          "metadata": {
            "tags": []
          }
        }
      ]
    },
    {
      "cell_type": "code",
      "metadata": {
        "colab_type": "code",
        "outputId": "3ef0eb67-dc78-42cc-96e8-a755d8262150",
        "id": "VX1fTYeojXI6",
        "colab": {
          "base_uri": "https://localhost:8080/",
          "height": 173
        }
      },
      "source": [
        "learn.unfreeze()\n",
        "learn.fit_one_cycle(4, 1e-2)\n",
        "learn.save('14train_wiki_char_lm_body_3');"
      ],
      "execution_count": 0,
      "outputs": [
        {
          "output_type": "display_data",
          "data": {
            "text/html": [
              "<table border=\"1\" class=\"dataframe\">\n",
              "  <thead>\n",
              "    <tr style=\"text-align: left;\">\n",
              "      <th>epoch</th>\n",
              "      <th>train_loss</th>\n",
              "      <th>valid_loss</th>\n",
              "      <th>accuracy</th>\n",
              "      <th>time</th>\n",
              "    </tr>\n",
              "  </thead>\n",
              "  <tbody>\n",
              "    <tr>\n",
              "      <td>0</td>\n",
              "      <td>1.343819</td>\n",
              "      <td>1.329256</td>\n",
              "      <td>0.607220</td>\n",
              "      <td>22:40</td>\n",
              "    </tr>\n",
              "    <tr>\n",
              "      <td>1</td>\n",
              "      <td>1.334969</td>\n",
              "      <td>1.315945</td>\n",
              "      <td>0.610692</td>\n",
              "      <td>22:38</td>\n",
              "    </tr>\n",
              "    <tr>\n",
              "      <td>2</td>\n",
              "      <td>1.300583</td>\n",
              "      <td>1.269911</td>\n",
              "      <td>0.623351</td>\n",
              "      <td>22:43</td>\n",
              "    </tr>\n",
              "    <tr>\n",
              "      <td>3</td>\n",
              "      <td>1.247003</td>\n",
              "      <td>1.251128</td>\n",
              "      <td>0.628738</td>\n",
              "      <td>22:46</td>\n",
              "    </tr>\n",
              "  </tbody>\n",
              "</table>"
            ],
            "text/plain": [
              "<IPython.core.display.HTML object>"
            ]
          },
          "metadata": {
            "tags": []
          }
        }
      ]
    },
    {
      "cell_type": "code",
      "metadata": {
        "colab_type": "code",
        "outputId": "4cb98f41-165a-4fe7-fc95-be1d912bacd8",
        "id": "tsLs5cA9jXJA",
        "colab": {
          "base_uri": "https://localhost:8080/",
          "height": 173
        }
      },
      "source": [
        "learn.unfreeze()\n",
        "learn.fit_one_cycle(4, 1e-2)\n",
        "learn.save('14train_wiki_char_lm_body_4');"
      ],
      "execution_count": 0,
      "outputs": [
        {
          "output_type": "display_data",
          "data": {
            "text/html": [
              "<table border=\"1\" class=\"dataframe\">\n",
              "  <thead>\n",
              "    <tr style=\"text-align: left;\">\n",
              "      <th>epoch</th>\n",
              "      <th>train_loss</th>\n",
              "      <th>valid_loss</th>\n",
              "      <th>accuracy</th>\n",
              "      <th>time</th>\n",
              "    </tr>\n",
              "  </thead>\n",
              "  <tbody>\n",
              "    <tr>\n",
              "      <td>0</td>\n",
              "      <td>1.324841</td>\n",
              "      <td>1.304234</td>\n",
              "      <td>0.614210</td>\n",
              "      <td>22:46</td>\n",
              "    </tr>\n",
              "    <tr>\n",
              "      <td>1</td>\n",
              "      <td>1.319135</td>\n",
              "      <td>1.292068</td>\n",
              "      <td>0.617512</td>\n",
              "      <td>22:43</td>\n",
              "    </tr>\n",
              "    <tr>\n",
              "      <td>2</td>\n",
              "      <td>1.281757</td>\n",
              "      <td>1.256792</td>\n",
              "      <td>0.627115</td>\n",
              "      <td>22:43</td>\n",
              "    </tr>\n",
              "    <tr>\n",
              "      <td>3</td>\n",
              "      <td>1.242562</td>\n",
              "      <td>1.238823</td>\n",
              "      <td>0.632469</td>\n",
              "      <td>22:44</td>\n",
              "    </tr>\n",
              "  </tbody>\n",
              "</table>"
            ],
            "text/plain": [
              "<IPython.core.display.HTML object>"
            ]
          },
          "metadata": {
            "tags": []
          }
        }
      ]
    },
    {
      "cell_type": "code",
      "metadata": {
        "colab_type": "code",
        "id": "Rbgc2ttJjXJG",
        "colab": {}
      },
      "source": [
        "learn.save_encoder('14train_wiki_char_lm_enc')"
      ],
      "execution_count": 0,
      "outputs": []
    },
    {
      "cell_type": "markdown",
      "metadata": {
        "colab_type": "text",
        "id": "W4bxTZ1KjXJL"
      },
      "source": [
        "### Classification (OUR AA)"
      ]
    },
    {
      "cell_type": "code",
      "metadata": {
        "colab_type": "code",
        "id": "HKuUfQuijXJZ",
        "colab": {}
      },
      "source": [
        "data_clas = load_data(subsets, '14train_char_clas.pkl',bs=32)\n",
        "learn_cls = text_classifier_learner(data_clas, AWD_LSTM, drop_mult=0.5, pretrained=False)\n",
        "learn_cls.load_encoder('14train_wiki_char_lm_enc')"
      ],
      "execution_count": 0,
      "outputs": []
    },
    {
      "cell_type": "code",
      "metadata": {
        "colab_type": "code",
        "outputId": "f78fed71-da09-42ed-ad87-c3831f82b22f",
        "id": "229bdaLRjXJT",
        "colab": {
          "base_uri": "https://localhost:8080/",
          "height": 204
        }
      },
      "source": [
        "data_clas.show_batch()"
      ],
      "execution_count": 0,
      "outputs": [
        {
          "output_type": "display_data",
          "data": {
            "text/html": [
              "<table border=\"1\" class=\"dataframe\">\n",
              "  <thead>\n",
              "    <tr style=\"text-align: right;\">\n",
              "      <th>text</th>\n",
              "      <th>target</th>\n",
              "    </tr>\n",
              "  </thead>\n",
              "  <tbody>\n",
              "    <tr>\n",
              "      <td>xxbos x x b o s   শ ো ব ে ন ? ”   শ ্ র ী শ চ ন ্ দ ্ র   ব ল ি ল ে ন ,   “ এ স ো ,   আ ম র া   স ব   প র ি ষ ্ ক া র   ক র ি</td>\n",
              "      <td>bongkim</td>\n",
              "    </tr>\n",
              "    <tr>\n",
              "      <td>xxbos x x b o s   স ্ থ া প ি ত   হ ই ল xxunk   শ ৈ ব ল ি ন ী   ত া হ া   প র ি ধ া ন   ক র ি য় া ,   প ূ র ্ ব ব স ্ ত ্ র   প র ি</td>\n",
              "      <td>bongkim</td>\n",
              "    </tr>\n",
              "    <tr>\n",
              "      <td>xxbos x x b o s   ক র ি ল ে ন xxunk   ক থ ি ত   ব া ল ু ক া স ্ ত ূ প শ ্ র ে ণ ী   প ্ র স ্ থ ে   অ ত ি   অ ল ্ প ,   অ ত এ ব   ন</td>\n",
              "      <td>bongkim</td>\n",
              "    </tr>\n",
              "    <tr>\n",
              "      <td>xxbos x x b o s   প ্ র য ু ক ্ ত ই   হ উ ক ,   ব ি ম ল া   ব হ ি র ্ গ ম ন ক া ল ে   জ া ল র ন ্ ধ ্ র প থ   প ূ র ্ ব ব ৎ   অ ব</td>\n",
              "      <td>bongkim</td>\n",
              "    </tr>\n",
              "    <tr>\n",
              "      <td>xxbos x x b o s   প া র ি ল া ম   ন া xxunk   এ   স ক ল   এ ই   অ ঙ ্ গ ে র ই   উ প য ু ক ্ ত   xxunk   এ ই   জ ন ্ য   প র া ই ল</td>\n",
              "      <td>bongkim</td>\n",
              "    </tr>\n",
              "  </tbody>\n",
              "</table>"
            ],
            "text/plain": [
              "<IPython.core.display.HTML object>"
            ]
          },
          "metadata": {
            "tags": []
          }
        }
      ]
    },
    {
      "cell_type": "code",
      "metadata": {
        "colab_type": "code",
        "outputId": "4a46093e-8a06-4bbb-da57-44eb74dab475",
        "id": "vySJw_66jXJf",
        "colab": {
          "base_uri": "https://localhost:8080/",
          "height": 300
        }
      },
      "source": [
        "learn_cls.freeze()\n",
        "learn_cls.lr_find()\n",
        "learn_cls.recorder.plot()"
      ],
      "execution_count": 0,
      "outputs": [
        {
          "output_type": "display_data",
          "data": {
            "text/html": [
              ""
            ],
            "text/plain": [
              "<IPython.core.display.HTML object>"
            ]
          },
          "metadata": {
            "tags": []
          }
        },
        {
          "output_type": "stream",
          "text": [
            "LR Finder is complete, type {learner_name}.recorder.plot() to see the graph.\n"
          ],
          "name": "stdout"
        },
        {
          "output_type": "display_data",
          "data": {
            "image/png": "[encoded data removed]",
            "text/plain": [
              "<Figure size 432x288 with 1 Axes>"
            ]
          },
          "metadata": {
            "tags": []
          }
        }
      ]
    },
    {
      "cell_type": "code",
      "metadata": {
        "colab_type": "code",
        "outputId": "e610cdfd-5a0a-408e-d304-f83b5e8bfaf0",
        "id": "-ALVUYQDjXJl",
        "colab": {
          "base_uri": "https://localhost:8080/",
          "height": 111
        }
      },
      "source": [
        "learn_cls.fit_one_cycle(2, 1e-2, moms=(0.8,0.7))\n",
        "learn_cls.save('14train_wiki_char_cls_1')"
      ],
      "execution_count": 0,
      "outputs": [
        {
          "output_type": "display_data",
          "data": {
            "text/html": [
              "<table border=\"1\" class=\"dataframe\">\n",
              "  <thead>\n",
              "    <tr style=\"text-align: left;\">\n",
              "      <th>epoch</th>\n",
              "      <th>train_loss</th>\n",
              "      <th>valid_loss</th>\n",
              "      <th>accuracy</th>\n",
              "      <th>time</th>\n",
              "    </tr>\n",
              "  </thead>\n",
              "  <tbody>\n",
              "    <tr>\n",
              "      <td>0</td>\n",
              "      <td>1.021297</td>\n",
              "      <td>0.431828</td>\n",
              "      <td>0.882017</td>\n",
              "      <td>17:23</td>\n",
              "    </tr>\n",
              "    <tr>\n",
              "      <td>1</td>\n",
              "      <td>0.576011</td>\n",
              "      <td>0.269914</td>\n",
              "      <td>0.929591</td>\n",
              "      <td>17:19</td>\n",
              "    </tr>\n",
              "  </tbody>\n",
              "</table>"
            ],
            "text/plain": [
              "<IPython.core.display.HTML object>"
            ]
          },
          "metadata": {
            "tags": []
          }
        }
      ]
    },
    {
      "cell_type": "code",
      "metadata": {
        "colab_type": "code",
        "outputId": "f0542805-ea1f-4927-d8c6-225697cee8f7",
        "id": "wUJkscI0jXJp",
        "colab": {
          "base_uri": "https://localhost:8080/",
          "height": 111
        }
      },
      "source": [
        "learn_cls.load('14train_wiki_char_cls_1')\n",
        "learn_cls.freeze_to(-2)\n",
        "learn_cls.fit_one_cycle(2 , slice(1e-2/(2.6**4),1e-2), moms=(0.8,0.7))\n",
        "learn_cls.save('14train_wiki_char_cls_2')"
      ],
      "execution_count": 0,
      "outputs": [
        {
          "output_type": "display_data",
          "data": {
            "text/html": [
              "<table border=\"1\" class=\"dataframe\">\n",
              "  <thead>\n",
              "    <tr style=\"text-align: left;\">\n",
              "      <th>epoch</th>\n",
              "      <th>train_loss</th>\n",
              "      <th>valid_loss</th>\n",
              "      <th>accuracy</th>\n",
              "      <th>time</th>\n",
              "    </tr>\n",
              "  </thead>\n",
              "  <tbody>\n",
              "    <tr>\n",
              "      <td>0</td>\n",
              "      <td>0.515230</td>\n",
              "      <td>0.252446</td>\n",
              "      <td>0.916270</td>\n",
              "      <td>18:21</td>\n",
              "    </tr>\n",
              "    <tr>\n",
              "      <td>1</td>\n",
              "      <td>0.278787</td>\n",
              "      <td>0.164087</td>\n",
              "      <td>0.960990</td>\n",
              "      <td>17:56</td>\n",
              "    </tr>\n",
              "  </tbody>\n",
              "</table>"
            ],
            "text/plain": [
              "<IPython.core.display.HTML object>"
            ]
          },
          "metadata": {
            "tags": []
          }
        }
      ]
    },
    {
      "cell_type": "code",
      "metadata": {
        "colab_type": "code",
        "outputId": "125ab8f2-0da5-4a9b-dfd0-fffbc9578880",
        "id": "XBFa4KSPjXJt",
        "colab": {
          "base_uri": "https://localhost:8080/",
          "height": 111
        }
      },
      "source": [
        "learn_cls.load('14train_wiki_char_cls_2')\n",
        "learn_cls.freeze_to(-3)\n",
        "learn_cls.fit_one_cycle(2, slice(5e-3/(2.6**4),5e-3), moms=(0.8,0.7))\n",
        "learn_cls.save('14train_wiki_char_cls_3')"
      ],
      "execution_count": 0,
      "outputs": [
        {
          "output_type": "display_data",
          "data": {
            "text/html": [
              "<table border=\"1\" class=\"dataframe\">\n",
              "  <thead>\n",
              "    <tr style=\"text-align: left;\">\n",
              "      <th>epoch</th>\n",
              "      <th>train_loss</th>\n",
              "      <th>valid_loss</th>\n",
              "      <th>accuracy</th>\n",
              "      <th>time</th>\n",
              "    </tr>\n",
              "  </thead>\n",
              "  <tbody>\n",
              "    <tr>\n",
              "      <td>0</td>\n",
              "      <td>0.233999</td>\n",
              "      <td>0.138100</td>\n",
              "      <td>0.959087</td>\n",
              "      <td>20:58</td>\n",
              "    </tr>\n",
              "    <tr>\n",
              "      <td>1</td>\n",
              "      <td>0.129134</td>\n",
              "      <td>0.104641</td>\n",
              "      <td>0.972407</td>\n",
              "      <td>21:20</td>\n",
              "    </tr>\n",
              "  </tbody>\n",
              "</table>"
            ],
            "text/plain": [
              "<IPython.core.display.HTML object>"
            ]
          },
          "metadata": {
            "tags": []
          }
        }
      ]
    },
    {
      "cell_type": "code",
      "metadata": {
        "colab_type": "code",
        "outputId": "6d9dbf85-15cc-4387-c5ef-ce29437b65b1",
        "id": "BZub3UcdjXJw",
        "colab": {
          "base_uri": "https://localhost:8080/",
          "height": 173
        }
      },
      "source": [
        "learn_cls.load('14train_wiki_char_cls_3')\n",
        "learn_cls.unfreeze()\n",
        "learn_cls.fit_one_cycle(4, slice(1e-3/(2.6**4),1e-3), moms=(0.8,0.7))\n",
        "learn_cls.save('14train_wiki_char_cls_4')"
      ],
      "execution_count": 0,
      "outputs": [
        {
          "output_type": "display_data",
          "data": {
            "text/html": [
              "<table border=\"1\" class=\"dataframe\">\n",
              "  <thead>\n",
              "    <tr style=\"text-align: left;\">\n",
              "      <th>epoch</th>\n",
              "      <th>train_loss</th>\n",
              "      <th>valid_loss</th>\n",
              "      <th>accuracy</th>\n",
              "      <th>time</th>\n",
              "    </tr>\n",
              "  </thead>\n",
              "  <tbody>\n",
              "    <tr>\n",
              "      <td>0</td>\n",
              "      <td>0.115740</td>\n",
              "      <td>0.104923</td>\n",
              "      <td>0.971456</td>\n",
              "      <td>23:32</td>\n",
              "    </tr>\n",
              "    <tr>\n",
              "      <td>1</td>\n",
              "      <td>0.092901</td>\n",
              "      <td>0.099471</td>\n",
              "      <td>0.975262</td>\n",
              "      <td>23:45</td>\n",
              "    </tr>\n",
              "    <tr>\n",
              "      <td>2</td>\n",
              "      <td>0.085901</td>\n",
              "      <td>0.097677</td>\n",
              "      <td>0.974310</td>\n",
              "      <td>23:32</td>\n",
              "    </tr>\n",
              "    <tr>\n",
              "      <td>3</td>\n",
              "      <td>0.068543</td>\n",
              "      <td>0.100042</td>\n",
              "      <td>0.972407</td>\n",
              "      <td>23:43</td>\n",
              "    </tr>\n",
              "  </tbody>\n",
              "</table>"
            ],
            "text/plain": [
              "<IPython.core.display.HTML object>"
            ]
          },
          "metadata": {
            "tags": []
          }
        }
      ]
    },
    {
      "cell_type": "code",
      "metadata": {
        "colab_type": "code",
        "outputId": "774316eb-5257-4a46-e890-f64624cebe64",
        "id": "q6XRIwwqjXJ0",
        "colab": {
          "base_uri": "https://localhost:8080/",
          "height": 105
        }
      },
      "source": [
        "preds,targ = testing(subsets/'14test.csv')"
      ],
      "execution_count": 0,
      "outputs": [
        {
          "output_type": "stream",
          "text": [
            "1316\n",
            "Accuracy: \n",
            "0.9711246200607903\n",
            "[('manik_bandhopaddhay', 'shirshendu'), ('manik_bandhopaddhay', 'toslima_nasrin'), ('manik_bandhopaddhay', 'shirshendu'), ('nihar_ronjon_gupta', 'shunil_gongopaddhay'), ('tarashonkor', 'shirshendu'), ('tarashonkor', 'shorotchandra'), ('tarashonkor', 'nihar_ronjon_gupta'), ('tarashonkor', 'nihar_ronjon_gupta'), ('tarashonkor', 'shunil_gongopaddhay'), ('shordindu', 'bongkim'), ('shottojit_roy', 'humayun_ahmed'), ('shottojit_roy', 'nihar_ronjon_gupta'), ('shirshendu', 'robindronath'), ('shirshendu', 'tarashonkor'), ('shirshendu', 'humayun_ahmed'), ('shirshendu', 'shorotchandra'), ('toslima_nasrin', 'shottojit_roy'), ('toslima_nasrin', 'humayun_ahmed'), ('toslima_nasrin', 'humayun_ahmed'), ('toslima_nasrin', 'humayun_ahmed'), ('toslima_nasrin', 'manik_bandhopaddhay'), ('toslima_nasrin', 'shirshendu'), ('toslima_nasrin', 'shomresh'), ('toslima_nasrin', 'manik_bandhopaddhay'), ('shorotchandra', 'bongkim'), ('shorotchandra', 'tarashonkor'), ('robindronath', 'shordindu'), ('robindronath', 'shorotchandra'), ('robindronath', 'shorotchandra'), ('robindronath', 'tarashonkor'), ('humayun_ahmed', 'MZI'), ('humayun_ahmed', 'MZI'), ('humayun_ahmed', 'MZI'), ('shomresh', 'shottojit_roy'), ('shomresh', 'tarashonkor'), ('shunil_gongopaddhay', 'bongkim'), ('shunil_gongopaddhay', 'toslima_nasrin'), ('shunil_gongopaddhay', 'toslima_nasrin')]\n"
          ],
          "name": "stdout"
        }
      ]
    },
    {
      "cell_type": "code",
      "metadata": {
        "colab_type": "code",
        "outputId": "f6c6e61e-d13a-47ee-dd40-f6d0a0e87ff9",
        "id": "uQ0i8VTnjXJ3",
        "colab": {
          "base_uri": "https://localhost:8080/",
          "height": 34
        }
      },
      "source": [
        "from sklearn.metrics import f1_score\n",
        "out  = f1_score(targ, preds, average='macro') #'macro' , also == weighted cuz dataset is balanced\n",
        "out"
      ],
      "execution_count": 0,
      "outputs": [
        {
          "output_type": "execute_result",
          "data": {
            "text/plain": [
              "0.9710427203396331"
            ]
          },
          "metadata": {
            "tags": []
          },
          "execution_count": 31
        }
      ]
    }
  ]
}