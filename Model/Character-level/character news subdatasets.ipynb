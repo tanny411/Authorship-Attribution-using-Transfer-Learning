{
  "nbformat": 4,
  "nbformat_minor": 0,
  "metadata": {
    "colab": {
      "name": "All Auth News Character ULMFiT.ipynb",
      "version": "0.3.2",
      "provenance": [],
      "collapsed_sections": [
        "DIGhnxGVz-zu",
        "XnY8W-SZsrrn",
        "3HRaFzcwhCl-",
        "xIXUVdDoWB17",
        "IHsrNa0Wb33T",
        "lDCtMxqVb33b",
        "lWsQw_0Hb34t",
        "haI4JY6bJJJ5",
        "QsqTKv4RjXIO"
      ]
    },
    "kernelspec": {
      "name": "python3",
      "display_name": "Python 3"
    },
    "accelerator": "GPU"
  },
  "cells": [
    {
      "cell_type": "code",
      "metadata": {
        "id": "awjDboOLxjbL",
        "colab_type": "code",
        "colab": {}
      },
      "source": [
        "!pip install fastai==1.0.52\n",
        "from fastai.text import *"
      ],
      "execution_count": 0,
      "outputs": []
    },
    {
      "cell_type": "code",
      "metadata": {
        "id": "PoGx0I-iyi4b",
        "colab_type": "code",
        "colab": {}
      },
      "source": [
        "from google.colab import drive\n",
        "drive.mount('/content/gdrive')"
      ],
      "execution_count": 0,
      "outputs": []
    },
    {
      "cell_type": "code",
      "metadata": {
        "id": "Vx8ecL3hylAz",
        "colab_type": "code",
        "colab": {}
      },
      "source": [
        "import os\n",
        "path = Path(os.getcwd())\n",
        "path = path/'gdrive'/'My Drive'\n",
        "news=path/'Thesis Data'/'full doc csv'\n",
        "aa=path/'Thesis Data'/'Our dataset'\n",
        "aa2=path/'Thesis Data'/'AA dataset'\n",
        "char=path/'Thesis Data'/'char-ulm'\n",
        "subsets=aa/'subsets'"
      ],
      "execution_count": 0,
      "outputs": []
    },
    {
      "cell_type": "code",
      "metadata": {
        "id": "YQLBhFLsRVqW",
        "colab_type": "code",
        "colab": {}
      },
      "source": [
        "def testing(dts):\n",
        "  df = pd.read_csv(dts) \n",
        "  text_array = df[\"text\"].tolist()\n",
        "  print(len(text_array))\n",
        "\n",
        "  final_preds = []\n",
        "\n",
        "  for text in text_array:\n",
        "      preds = learn_cls.predict(text)\n",
        "      final_preds.append(str(preds[0]))\n",
        "\n",
        "  targets = df[\"label\"].tolist()\n",
        "\n",
        "  err=[]\n",
        "  count =0;\n",
        "  tst = len(text_array)\n",
        "\n",
        "  for i in range(tst):\n",
        "      if(targets[i]==final_preds[i]):\n",
        "          count = count+1\n",
        "      else:\n",
        "  #         print(targets[i] + \", \" + final_preds[i] + ';')\n",
        "          err.append((targets[i],final_preds[i]))\n",
        "  print(\"Accuracy: \")\n",
        "  print(count/tst)\n",
        "  print(err)\n",
        "  \n",
        "  return final_preds,targets"
      ],
      "execution_count": 0,
      "outputs": []
    },
    {
      "cell_type": "markdown",
      "metadata": {
        "id": "DIGhnxGVz-zu",
        "colab_type": "text"
      },
      "source": [
        "### LM"
      ]
    },
    {
      "cell_type": "code",
      "metadata": {
        "id": "jMZqYUDmzzzk",
        "colab_type": "code",
        "colab": {}
      },
      "source": [
        "bs = 32\n",
        "bptt = 70\n",
        "vocab = \" !\\\"#$%&'()*+,-./0123456789:;=<>?@ABCDEFGHIJKLMNOPQRSTUVWXYZ[]^_`abcdefghijklmnopqrstuvwxyz{|}~¥§©±ঃঅআইঈউঊঋএঐওঔকখগঘঙচছজঝঞটঠডঢণতথদধনপফবভমযরলশষসহ়ািীুূৃেৈোৌ্ৎৗড়ঢ়য়০১২৩৪৫৬৭৮৯৷‘’‚“”‪™−√∝∞\""
      ],
      "execution_count": 0,
      "outputs": []
    },
    {
      "cell_type": "code",
      "metadata": {
        "id": "6Vh5WbYHf49A",
        "colab_type": "code",
        "colab": {}
      },
      "source": [
        "class NewTokenizer(BaseTokenizer):\n",
        "    def tokenizer(self,t):\n",
        "      return [BOS]+[i for i in t]"
      ],
      "execution_count": 0,
      "outputs": []
    },
    {
      "cell_type": "code",
      "metadata": {
        "id": "ap0pyCjI9QPs",
        "colab_type": "code",
        "colab": {}
      },
      "source": [
        "itos = [UNK, PAD, BOS, EOS, FLD, TK_REP, TK_WREP] + [i for i in vocab]"
      ],
      "execution_count": 0,
      "outputs": []
    },
    {
      "cell_type": "code",
      "metadata": {
        "id": "dx2I-aG4gc93",
        "colab_type": "code",
        "outputId": "b5ebe2a1-88b2-4aa1-f937-c8fd7fa39491",
        "colab": {
          "base_uri": "https://localhost:8080/",
          "height": 34
        }
      },
      "source": [
        "len(itos) ##188"
      ],
      "execution_count": 8,
      "outputs": [
        {
          "output_type": "execute_result",
          "data": {
            "text/plain": [
              "188"
            ]
          },
          "metadata": {
            "tags": []
          },
          "execution_count": 8
        }
      ]
    },
    {
      "cell_type": "code",
      "metadata": {
        "id": "lAPdTDL_9cZc",
        "colab_type": "code",
        "colab": {}
      },
      "source": [
        "vocab=Vocab(itos)\n",
        "tokenizer=Tokenizer(NewTokenizer, pre_rules=[], post_rules=[])"
      ],
      "execution_count": 0,
      "outputs": []
    },
    {
      "cell_type": "markdown",
      "metadata": {
        "id": "XnY8W-SZsrrn",
        "colab_type": "text"
      },
      "source": [
        "## 6 Authors"
      ]
    },
    {
      "cell_type": "markdown",
      "metadata": {
        "id": "3HRaFzcwhCl-",
        "colab_type": "text"
      },
      "source": [
        "### FineTune LM"
      ]
    },
    {
      "cell_type": "code",
      "metadata": {
        "id": "j4QMAaMQhEHH",
        "colab_type": "code",
        "colab": {}
      },
      "source": [
        "bs = 128\n",
        "data_lm = TextLMDataBunch.from_csv(subsets , '6train.csv', bs=bs , bptt=bptt,tokenizer=tokenizer, vocab=vocab)\n",
        "data_lm.save('6train_char_lm.pkl')"
      ],
      "execution_count": 0,
      "outputs": []
    },
    {
      "cell_type": "code",
      "metadata": {
        "id": "tObM7hpbh_Tx",
        "colab_type": "code",
        "outputId": "2f0b8bee-6501-4278-a814-cc37e5603af5",
        "colab": {
          "base_uri": "https://localhost:8080/",
          "height": 204
        }
      },
      "source": [
        "data_lm.show_batch()"
      ],
      "execution_count": 0,
      "outputs": [
        {
          "output_type": "display_data",
          "data": {
            "text/html": [
              "<table border=\"1\" class=\"dataframe\">\n",
              "  <thead>\n",
              "    <tr style=\"text-align: right;\">\n",
              "      <th>idx</th>\n",
              "      <th>text</th>\n",
              "    </tr>\n",
              "  </thead>\n",
              "  <tbody>\n",
              "    <tr>\n",
              "      <td>0</td>\n",
              "      <td>্ র ে   দ ে খ ি ত ে ছ ে   স ে   স ম ্ ব ন ্ ধ ে   ত া হ া র   ন ি জ ে র   য দ ি   চ ে ত ন া   থ া ক ি ত   ত ব ে   স ে</td>\n",
              "    </tr>\n",
              "    <tr>\n",
              "      <td>1</td>\n",
              "      <td>ি ন ে ই   ত া xxunk হ া ক ে   এ ক ে ব া র ে   শ য ্ য া শ া য় ি ন ী   ক র ি য় া   দ ি ল xxunk   ন ী ল ক ণ ্ ঠ   ম ু খ ু য ্ য ে ম শ া</td>\n",
              "    </tr>\n",
              "    <tr>\n",
              "      <td>2</td>\n",
              "      <td>় ে ক   স প ্ ত া হ   য খ ন   ত া ক ে   অ চ ে ত ন   ক র ে   ঘ ু ম   প া ড ় ি য ় ে   র া খ া   হ ল ো   ত খ ন ো   এ ই</td>\n",
              "    </tr>\n",
              "    <tr>\n",
              "      <td>3</td>\n",
              "      <td>চ ে   আ ছ ি xxunk   এ ব xxunk   প ্ র ত ি ম ু হ ূ র ্ ত ে   আ ল ্ ল া হ র   ক া ছ ে   প ্ র া র ্ থ ন া   ক র ছ ি   য ে ন   আ ম া</td>\n",
              "    </tr>\n",
              "    <tr>\n",
              "      <td>4</td>\n",
              "      <td>ে   স ঙ ্ গ ে   ন ি য় ে   স ে   ফ ি র ে ছ ি ল xxunk   উ ৎ স ু ক   ত ি র ি   হ য় ত ো   শ ম ি ত ে র   শ র ী র ে র   অ ব স ্ থ</td>\n",
              "    </tr>\n",
              "  </tbody>\n",
              "</table>"
            ],
            "text/plain": [
              "<IPython.core.display.HTML object>"
            ]
          },
          "metadata": {
            "tags": []
          }
        }
      ]
    },
    {
      "cell_type": "code",
      "metadata": {
        "id": "_8uL8qmAItBu",
        "colab_type": "code",
        "colab": {}
      },
      "source": [
        "learn = language_model_learner(data_lm, AWD_LSTM, pretrained=False, drop_mult=0.5)"
      ],
      "execution_count": 0,
      "outputs": []
    },
    {
      "cell_type": "code",
      "metadata": {
        "id": "FsREVIuHlI9b",
        "colab_type": "code",
        "outputId": "133c7d17-8bd7-4270-f641-62172e1870b1",
        "colab": {
          "base_uri": "https://localhost:8080/",
          "height": 300
        }
      },
      "source": [
        "learn.load(char/'models'/'news_char_3less_15');\n",
        "learn.lr_find()\n",
        "learn.recorder.plot()"
      ],
      "execution_count": 0,
      "outputs": [
        {
          "output_type": "display_data",
          "data": {
            "text/html": [
              ""
            ],
            "text/plain": [
              "<IPython.core.display.HTML object>"
            ]
          },
          "metadata": {
            "tags": []
          }
        },
        {
          "output_type": "stream",
          "text": [
            "LR Finder is complete, type {learner_name}.recorder.plot() to see the graph.\n"
          ],
          "name": "stdout"
        },
        {
          "output_type": "display_data",
          "data": {
            "image/png": "[encoded data removed]",
            "text/plain": [
              "<Figure size 432x288 with 1 Axes>"
            ]
          },
          "metadata": {
            "tags": []
          }
        }
      ]
    },
    {
      "cell_type": "code",
      "metadata": {
        "id": "oHqbg349iBBn",
        "colab_type": "code",
        "outputId": "739fbbc0-24c0-4d1c-9bd2-85b26a81d990",
        "colab": {
          "base_uri": "https://localhost:8080/",
          "height": 283
        }
      },
      "source": [
        "learn.recorder.plot(skip_end=15)"
      ],
      "execution_count": 0,
      "outputs": [
        {
          "output_type": "display_data",
          "data": {
            "image/png": "[encoded data removed]",
            "text/plain": [
              "<Figure size 432x288 with 1 Axes>"
            ]
          },
          "metadata": {
            "tags": []
          }
        }
      ]
    },
    {
      "cell_type": "code",
      "metadata": {
        "id": "4ODd8P6YnQxD",
        "colab_type": "code",
        "outputId": "d499cd0d-8854-4987-82ad-f13f158ef346",
        "colab": {
          "base_uri": "https://localhost:8080/",
          "height": 111
        }
      },
      "source": [
        "learn.freeze()\n",
        "learn.fit_one_cycle(2, 1e-2)\n",
        "learn.save('6train_char_lm_head');"
      ],
      "execution_count": 0,
      "outputs": [
        {
          "output_type": "display_data",
          "data": {
            "text/html": [
              "<table border=\"1\" class=\"dataframe\">\n",
              "  <thead>\n",
              "    <tr style=\"text-align: left;\">\n",
              "      <th>epoch</th>\n",
              "      <th>train_loss</th>\n",
              "      <th>valid_loss</th>\n",
              "      <th>accuracy</th>\n",
              "      <th>time</th>\n",
              "    </tr>\n",
              "  </thead>\n",
              "  <tbody>\n",
              "    <tr>\n",
              "      <td>0</td>\n",
              "      <td>1.579480</td>\n",
              "      <td>1.521043</td>\n",
              "      <td>0.555600</td>\n",
              "      <td>18:56</td>\n",
              "    </tr>\n",
              "    <tr>\n",
              "      <td>1</td>\n",
              "      <td>1.571057</td>\n",
              "      <td>1.516921</td>\n",
              "      <td>0.556475</td>\n",
              "      <td>19:01</td>\n",
              "    </tr>\n",
              "  </tbody>\n",
              "</table>"
            ],
            "text/plain": [
              "<IPython.core.display.HTML object>"
            ]
          },
          "metadata": {
            "tags": []
          }
        }
      ]
    },
    {
      "cell_type": "code",
      "metadata": {
        "id": "jTYNQv-2nzwz",
        "colab_type": "code",
        "outputId": "846b337e-e160-4277-8d77-72353c92c7b0",
        "colab": {
          "base_uri": "https://localhost:8080/",
          "height": 111
        }
      },
      "source": [
        "learn.freeze_to(-2)\n",
        "learn.fit_one_cycle(2, 1e-2)\n",
        "learn.save('6train_char_lm_body_1');"
      ],
      "execution_count": 0,
      "outputs": [
        {
          "output_type": "display_data",
          "data": {
            "text/html": [
              "<table border=\"1\" class=\"dataframe\">\n",
              "  <thead>\n",
              "    <tr style=\"text-align: left;\">\n",
              "      <th>epoch</th>\n",
              "      <th>train_loss</th>\n",
              "      <th>valid_loss</th>\n",
              "      <th>accuracy</th>\n",
              "      <th>time</th>\n",
              "    </tr>\n",
              "  </thead>\n",
              "  <tbody>\n",
              "    <tr>\n",
              "      <td>0</td>\n",
              "      <td>1.355492</td>\n",
              "      <td>1.309676</td>\n",
              "      <td>0.612025</td>\n",
              "      <td>19:44</td>\n",
              "    </tr>\n",
              "    <tr>\n",
              "      <td>1</td>\n",
              "      <td>1.313838</td>\n",
              "      <td>1.258636</td>\n",
              "      <td>0.625655</td>\n",
              "      <td>19:43</td>\n",
              "    </tr>\n",
              "  </tbody>\n",
              "</table>"
            ],
            "text/plain": [
              "<IPython.core.display.HTML object>"
            ]
          },
          "metadata": {
            "tags": []
          }
        }
      ]
    },
    {
      "cell_type": "code",
      "metadata": {
        "id": "NDqlqcrmohSH",
        "colab_type": "code",
        "outputId": "e4e8d9c8-114e-4dea-e611-4c727de88a6d",
        "colab": {
          "base_uri": "https://localhost:8080/",
          "height": 111
        }
      },
      "source": [
        "learn.freeze_to(-3)\n",
        "learn.fit_one_cycle(2, 1e-2)\n",
        "learn.save('6train_char_lm_body_2');"
      ],
      "execution_count": 0,
      "outputs": [
        {
          "output_type": "display_data",
          "data": {
            "text/html": [
              "<table border=\"1\" class=\"dataframe\">\n",
              "  <thead>\n",
              "    <tr style=\"text-align: left;\">\n",
              "      <th>epoch</th>\n",
              "      <th>train_loss</th>\n",
              "      <th>valid_loss</th>\n",
              "      <th>accuracy</th>\n",
              "      <th>time</th>\n",
              "    </tr>\n",
              "  </thead>\n",
              "  <tbody>\n",
              "    <tr>\n",
              "      <td>0</td>\n",
              "      <td>1.295792</td>\n",
              "      <td>1.266039</td>\n",
              "      <td>0.624124</td>\n",
              "      <td>22:50</td>\n",
              "    </tr>\n",
              "    <tr>\n",
              "      <td>1</td>\n",
              "      <td>1.237550</td>\n",
              "      <td>1.205964</td>\n",
              "      <td>0.640259</td>\n",
              "      <td>22:55</td>\n",
              "    </tr>\n",
              "  </tbody>\n",
              "</table>"
            ],
            "text/plain": [
              "<IPython.core.display.HTML object>"
            ]
          },
          "metadata": {
            "tags": []
          }
        }
      ]
    },
    {
      "cell_type": "code",
      "metadata": {
        "id": "uDuiRMoAom1a",
        "colab_type": "code",
        "outputId": "06a808fe-0a29-4aba-d4c1-52b3c9b950cf",
        "colab": {
          "base_uri": "https://localhost:8080/",
          "height": 173
        }
      },
      "source": [
        "learn.unfreeze()\n",
        "learn.fit_one_cycle(4, 1e-2)\n",
        "learn.save('6train_char_lm_body_3');"
      ],
      "execution_count": 0,
      "outputs": [
        {
          "output_type": "display_data",
          "data": {
            "text/html": [
              "<table border=\"1\" class=\"dataframe\">\n",
              "  <thead>\n",
              "    <tr style=\"text-align: left;\">\n",
              "      <th>epoch</th>\n",
              "      <th>train_loss</th>\n",
              "      <th>valid_loss</th>\n",
              "      <th>accuracy</th>\n",
              "      <th>time</th>\n",
              "    </tr>\n",
              "  </thead>\n",
              "  <tbody>\n",
              "    <tr>\n",
              "      <td>0</td>\n",
              "      <td>1.260877</td>\n",
              "      <td>1.246537</td>\n",
              "      <td>0.629139</td>\n",
              "      <td>23:36</td>\n",
              "    </tr>\n",
              "    <tr>\n",
              "      <td>1</td>\n",
              "      <td>1.265165</td>\n",
              "      <td>1.232002</td>\n",
              "      <td>0.633306</td>\n",
              "      <td>23:22</td>\n",
              "    </tr>\n",
              "    <tr>\n",
              "      <td>2</td>\n",
              "      <td>1.207565</td>\n",
              "      <td>1.187382</td>\n",
              "      <td>0.645579</td>\n",
              "      <td>23:17</td>\n",
              "    </tr>\n",
              "    <tr>\n",
              "      <td>3</td>\n",
              "      <td>1.179831</td>\n",
              "      <td>1.169500</td>\n",
              "      <td>0.650827</td>\n",
              "      <td>23:19</td>\n",
              "    </tr>\n",
              "  </tbody>\n",
              "</table>"
            ],
            "text/plain": [
              "<IPython.core.display.HTML object>"
            ]
          },
          "metadata": {
            "tags": []
          }
        }
      ]
    },
    {
      "cell_type": "code",
      "metadata": {
        "id": "FzzWRmZPMcIQ",
        "colab_type": "code",
        "outputId": "c6caeaeb-d513-4f91-9b35-0be9243478c6",
        "colab": {
          "base_uri": "https://localhost:8080/",
          "height": 173
        }
      },
      "source": [
        "learn.unfreeze()\n",
        "learn.fit_one_cycle(4, 1e-2)\n",
        "learn.save('6train_char_lm_body_5');"
      ],
      "execution_count": 0,
      "outputs": [
        {
          "output_type": "display_data",
          "data": {
            "text/html": [
              "<table border=\"1\" class=\"dataframe\">\n",
              "  <thead>\n",
              "    <tr style=\"text-align: left;\">\n",
              "      <th>epoch</th>\n",
              "      <th>train_loss</th>\n",
              "      <th>valid_loss</th>\n",
              "      <th>accuracy</th>\n",
              "      <th>time</th>\n",
              "    </tr>\n",
              "  </thead>\n",
              "  <tbody>\n",
              "    <tr>\n",
              "      <td>0</td>\n",
              "      <td>1.236593</td>\n",
              "      <td>1.219615</td>\n",
              "      <td>0.636830</td>\n",
              "      <td>23:17</td>\n",
              "    </tr>\n",
              "    <tr>\n",
              "      <td>1</td>\n",
              "      <td>1.234851</td>\n",
              "      <td>1.213475</td>\n",
              "      <td>0.638404</td>\n",
              "      <td>23:15</td>\n",
              "    </tr>\n",
              "    <tr>\n",
              "      <td>2</td>\n",
              "      <td>1.191900</td>\n",
              "      <td>1.172733</td>\n",
              "      <td>0.649811</td>\n",
              "      <td>23:19</td>\n",
              "    </tr>\n",
              "    <tr>\n",
              "      <td>3</td>\n",
              "      <td>1.167190</td>\n",
              "      <td>1.156419</td>\n",
              "      <td>0.654686</td>\n",
              "      <td>23:21</td>\n",
              "    </tr>\n",
              "  </tbody>\n",
              "</table>"
            ],
            "text/plain": [
              "<IPython.core.display.HTML object>"
            ]
          },
          "metadata": {
            "tags": []
          }
        }
      ]
    },
    {
      "cell_type": "code",
      "metadata": {
        "id": "fVZfahwVopiX",
        "colab_type": "code",
        "colab": {}
      },
      "source": [
        "learn.save_encoder('6train_char_lm_enc')"
      ],
      "execution_count": 0,
      "outputs": []
    },
    {
      "cell_type": "markdown",
      "metadata": {
        "id": "_3rhmN7cZD9J",
        "colab_type": "text"
      },
      "source": [
        "### Classification (OUR AA)"
      ]
    },
    {
      "cell_type": "code",
      "metadata": {
        "id": "zJ02--VH4PIl",
        "colab_type": "code",
        "colab": {}
      },
      "source": [
        "data_clas = TextClasDataBunch.from_csv(subsets , '6train.csv', vocab=vocab, bs=bs, tokenizer=tokenizer)\n",
        "data_clas.save('6train_char_clas.pkl')"
      ],
      "execution_count": 0,
      "outputs": []
    },
    {
      "cell_type": "code",
      "metadata": {
        "id": "yAjZNeUKdieD",
        "colab_type": "code",
        "colab": {
          "base_uri": "https://localhost:8080/",
          "height": 204
        },
        "outputId": "ab3c8fac-8e51-4409-8d23-6b4aea92f98f"
      },
      "source": [
        "data_clas.show_batch()"
      ],
      "execution_count": 11,
      "outputs": [
        {
          "output_type": "display_data",
          "data": {
            "text/html": [
              "<table border=\"1\" class=\"dataframe\">\n",
              "  <thead>\n",
              "    <tr style=\"text-align: right;\">\n",
              "      <th>text</th>\n",
              "      <th>target</th>\n",
              "    </tr>\n",
              "  </thead>\n",
              "  <tbody>\n",
              "    <tr>\n",
              "      <td>xxbos x x b o s   ক ী র ্ ত ি ত ে   ত া হ া দ ে র   ম ন ে   গ র ্ ব ে র   স ী ম া   র হ ি ল   ন া xxunk   ব ি ন ্ ধ ্ য ব া স ি ন ী</td>\n",
              "      <td>robindronath</td>\n",
              "    </tr>\n",
              "    <tr>\n",
              "      <td>xxbos x x b o s   ছ ি ল   ন া xxunk   ব ি ধ া ত া   আ ম া র   ম ন ে   ব ো ধ ক র ি   স ্ ব া ভ া ব ি ক   ধ র ্ ম প ি প া স া   দ ি</td>\n",
              "      <td>robindronath</td>\n",
              "    </tr>\n",
              "    <tr>\n",
              "      <td>xxbos x x b o s   ও   ক ্ র ি স ্ xxunk ম া স ে র   স ম য়   ত া হ া দ ি গ ক ে   ধ র ্ ম গ ্ র ন ্ থ   উ প হ া র   প া ঠ া ই ত ে ন xxunk</td>\n",
              "      <td>robindronath</td>\n",
              "    </tr>\n",
              "    <tr>\n",
              "      <td>xxbos x x b o s   স ন ্ ন ্ য া স ি ন ী ব ে শ ে   দ া র ্ জ ি ল ি ঙ ে   ক ্ য া ল ্ ক া ট া   র ো ড ে র   ধ া র ে   ব স ি য় া   ক</td>\n",
              "      <td>robindronath</td>\n",
              "    </tr>\n",
              "    <tr>\n",
              "      <td>xxbos x x b o s   “ ই হ া ত ে   আ র   ত ু ম ি   হ া ত   দ ি ত ে   প া র ি ব ে   ন া xxunk ”   অ ম ্ ব ি ক া চ র ণ   ব ড় ো   ই ত</td>\n",
              "      <td>robindronath</td>\n",
              "    </tr>\n",
              "  </tbody>\n",
              "</table>"
            ],
            "text/plain": [
              "<IPython.core.display.HTML object>"
            ]
          },
          "metadata": {
            "tags": []
          }
        }
      ]
    },
    {
      "cell_type": "code",
      "metadata": {
        "id": "884395Mgyu6w",
        "colab_type": "code",
        "colab": {}
      },
      "source": [
        "data_clas = load_data(subsets, '6train_char_clas.pkl',bs=32)\n",
        "learn_cls = text_classifier_learner(data_clas, AWD_LSTM, drop_mult=0.5, pretrained=False)\n",
        "learn_cls.load_encoder('6train_char_lm_enc')"
      ],
      "execution_count": 0,
      "outputs": []
    },
    {
      "cell_type": "code",
      "metadata": {
        "id": "eF09AQY3h97W",
        "colab_type": "code",
        "colab": {}
      },
      "source": [
        "learn_cls.freeze()\n",
        "learn_cls.lr_find()\n",
        "learn_cls.recorder.plot()"
      ],
      "execution_count": 0,
      "outputs": []
    },
    {
      "cell_type": "code",
      "metadata": {
        "id": "g5TNW3FGZCsL",
        "colab_type": "code",
        "colab": {
          "base_uri": "https://localhost:8080/",
          "height": 111
        },
        "outputId": "9a218eaf-866b-48ff-b582-28a285d8e76b"
      },
      "source": [
        "learn_cls.fit_one_cycle(2, 1e-2, moms=(0.8,0.7))\n",
        "learn_cls.save('6train_char_cls_1')"
      ],
      "execution_count": 14,
      "outputs": [
        {
          "output_type": "display_data",
          "data": {
            "text/html": [
              "<table border=\"1\" class=\"dataframe\">\n",
              "  <thead>\n",
              "    <tr style=\"text-align: left;\">\n",
              "      <th>epoch</th>\n",
              "      <th>train_loss</th>\n",
              "      <th>valid_loss</th>\n",
              "      <th>accuracy</th>\n",
              "      <th>time</th>\n",
              "    </tr>\n",
              "  </thead>\n",
              "  <tbody>\n",
              "    <tr>\n",
              "      <td>0</td>\n",
              "      <td>1.436896</td>\n",
              "      <td>0.444306</td>\n",
              "      <td>0.914853</td>\n",
              "      <td>18:19</td>\n",
              "    </tr>\n",
              "    <tr>\n",
              "      <td>1</td>\n",
              "      <td>0.503333</td>\n",
              "      <td>0.192624</td>\n",
              "      <td>0.947966</td>\n",
              "      <td>18:25</td>\n",
              "    </tr>\n",
              "  </tbody>\n",
              "</table>"
            ],
            "text/plain": [
              "<IPython.core.display.HTML object>"
            ]
          },
          "metadata": {
            "tags": []
          }
        }
      ]
    },
    {
      "cell_type": "code",
      "metadata": {
        "id": "pKg1ci9xfKtP",
        "colab_type": "code",
        "colab": {
          "base_uri": "https://localhost:8080/",
          "height": 111
        },
        "outputId": "b3ff8994-9fe9-475f-84bb-2f65bbf7a867"
      },
      "source": [
        "learn_cls.load('6train_char_cls_1')\n",
        "learn_cls.freeze_to(-2)\n",
        "learn_cls.fit_one_cycle(2 , slice(1e-2/(2.6**4),1e-2), moms=(0.8,0.7))\n",
        "learn_cls.save('6train_char_cls_2')"
      ],
      "execution_count": 15,
      "outputs": [
        {
          "output_type": "display_data",
          "data": {
            "text/html": [
              "<table border=\"1\" class=\"dataframe\">\n",
              "  <thead>\n",
              "    <tr style=\"text-align: left;\">\n",
              "      <th>epoch</th>\n",
              "      <th>train_loss</th>\n",
              "      <th>valid_loss</th>\n",
              "      <th>accuracy</th>\n",
              "      <th>time</th>\n",
              "    </tr>\n",
              "  </thead>\n",
              "  <tbody>\n",
              "    <tr>\n",
              "      <td>0</td>\n",
              "      <td>0.466172</td>\n",
              "      <td>0.137093</td>\n",
              "      <td>0.963103</td>\n",
              "      <td>18:56</td>\n",
              "    </tr>\n",
              "    <tr>\n",
              "      <td>1</td>\n",
              "      <td>0.207943</td>\n",
              "      <td>0.086481</td>\n",
              "      <td>0.980132</td>\n",
              "      <td>19:07</td>\n",
              "    </tr>\n",
              "  </tbody>\n",
              "</table>"
            ],
            "text/plain": [
              "<IPython.core.display.HTML object>"
            ]
          },
          "metadata": {
            "tags": []
          }
        }
      ]
    },
    {
      "cell_type": "code",
      "metadata": {
        "id": "ekAKfCOadAug",
        "colab_type": "code",
        "colab": {
          "base_uri": "https://localhost:8080/",
          "height": 111
        },
        "outputId": "aa0f9e2c-e7e2-4636-d3c5-52b3ba184567"
      },
      "source": [
        "learn_cls.load('6train_char_cls_2')\n",
        "learn_cls.freeze_to(-3)\n",
        "learn_cls.fit_one_cycle(2, slice(5e-3/(2.6**4),5e-3), moms=(0.8,0.7))\n",
        "learn_cls.save('6train_char_cls_3')"
      ],
      "execution_count": 16,
      "outputs": [
        {
          "output_type": "display_data",
          "data": {
            "text/html": [
              "<table border=\"1\" class=\"dataframe\">\n",
              "  <thead>\n",
              "    <tr style=\"text-align: left;\">\n",
              "      <th>epoch</th>\n",
              "      <th>train_loss</th>\n",
              "      <th>valid_loss</th>\n",
              "      <th>accuracy</th>\n",
              "      <th>time</th>\n",
              "    </tr>\n",
              "  </thead>\n",
              "  <tbody>\n",
              "    <tr>\n",
              "      <td>0</td>\n",
              "      <td>0.175654</td>\n",
              "      <td>0.120859</td>\n",
              "      <td>0.969726</td>\n",
              "      <td>22:12</td>\n",
              "    </tr>\n",
              "    <tr>\n",
              "      <td>1</td>\n",
              "      <td>0.087679</td>\n",
              "      <td>0.073611</td>\n",
              "      <td>0.978240</td>\n",
              "      <td>22:24</td>\n",
              "    </tr>\n",
              "  </tbody>\n",
              "</table>"
            ],
            "text/plain": [
              "<IPython.core.display.HTML object>"
            ]
          },
          "metadata": {
            "tags": []
          }
        }
      ]
    },
    {
      "cell_type": "code",
      "metadata": {
        "id": "Hy1HMZ1rfPOt",
        "colab_type": "code",
        "colab": {
          "base_uri": "https://localhost:8080/",
          "height": 173
        },
        "outputId": "a92f4a58-332c-44d3-d84d-ae01dbf57f53"
      },
      "source": [
        "learn_cls.load('6train_char_cls_3')\n",
        "learn_cls.unfreeze()\n",
        "learn_cls.fit_one_cycle(4, slice(1e-3/(2.6**4),1e-3), moms=(0.8,0.7))\n",
        "learn_cls.save('6train_char_cls_4')"
      ],
      "execution_count": 17,
      "outputs": [
        {
          "output_type": "display_data",
          "data": {
            "text/html": [
              "<table border=\"1\" class=\"dataframe\">\n",
              "  <thead>\n",
              "    <tr style=\"text-align: left;\">\n",
              "      <th>epoch</th>\n",
              "      <th>train_loss</th>\n",
              "      <th>valid_loss</th>\n",
              "      <th>accuracy</th>\n",
              "      <th>time</th>\n",
              "    </tr>\n",
              "  </thead>\n",
              "  <tbody>\n",
              "    <tr>\n",
              "      <td>0</td>\n",
              "      <td>0.074935</td>\n",
              "      <td>0.056017</td>\n",
              "      <td>0.983917</td>\n",
              "      <td>25:05</td>\n",
              "    </tr>\n",
              "    <tr>\n",
              "      <td>1</td>\n",
              "      <td>0.051616</td>\n",
              "      <td>0.061680</td>\n",
              "      <td>0.982025</td>\n",
              "      <td>25:13</td>\n",
              "    </tr>\n",
              "    <tr>\n",
              "      <td>2</td>\n",
              "      <td>0.050097</td>\n",
              "      <td>0.050636</td>\n",
              "      <td>0.985809</td>\n",
              "      <td>25:08</td>\n",
              "    </tr>\n",
              "    <tr>\n",
              "      <td>3</td>\n",
              "      <td>0.054459</td>\n",
              "      <td>0.052694</td>\n",
              "      <td>0.985809</td>\n",
              "      <td>25:02</td>\n",
              "    </tr>\n",
              "  </tbody>\n",
              "</table>"
            ],
            "text/plain": [
              "<IPython.core.display.HTML object>"
            ]
          },
          "metadata": {
            "tags": []
          }
        }
      ]
    },
    {
      "cell_type": "code",
      "metadata": {
        "id": "Y0qTOWM4zv5_",
        "colab_type": "code",
        "colab": {
          "base_uri": "https://localhost:8080/",
          "height": 105
        },
        "outputId": "c4e02529-b9dc-49e7-9d3f-d1399ba1a4e6"
      },
      "source": [
        "preds,targ = testing(subsets/'6test.csv')"
      ],
      "execution_count": 18,
      "outputs": [
        {
          "output_type": "stream",
          "text": [
            "1320\n",
            "Accuracy: \n",
            "0.9878787878787879\n",
            "[('MZI', 'humayun_ahmed'), ('MZI', 'humayun_ahmed'), ('MZI', 'humayun_ahmed'), ('shorotchandra', 'robindronath'), ('robindronath', 'shorotchandra'), ('humayun_ahmed', 'shomresh'), ('humayun_ahmed', 'MZI'), ('humayun_ahmed', 'shorotchandra'), ('humayun_ahmed', 'MZI'), ('humayun_ahmed', 'shomresh'), ('shomresh', 'humayun_ahmed'), ('shunil_gongopaddhay', 'shomresh'), ('shunil_gongopaddhay', 'MZI'), ('shunil_gongopaddhay', 'shomresh'), ('shunil_gongopaddhay', 'shomresh'), ('shunil_gongopaddhay', 'shomresh')]\n"
          ],
          "name": "stdout"
        }
      ]
    },
    {
      "cell_type": "code",
      "metadata": {
        "id": "tRAwoTpUiM4x",
        "colab_type": "code",
        "colab": {
          "base_uri": "https://localhost:8080/",
          "height": 34
        },
        "outputId": "e36f51b5-4a46-4158-f778-9711905d9769"
      },
      "source": [
        "from sklearn.metrics import f1_score\n",
        "out  = f1_score(targ, preds, average='macro') #'macro' , also == weighted cuz dataset is balanced\n",
        "out"
      ],
      "execution_count": 19,
      "outputs": [
        {
          "output_type": "execute_result",
          "data": {
            "text/plain": [
              "0.9878816219708947"
            ]
          },
          "metadata": {
            "tags": []
          },
          "execution_count": 19
        }
      ]
    },
    {
      "cell_type": "markdown",
      "metadata": {
        "colab_type": "text",
        "id": "50IkFYNvWB14"
      },
      "source": [
        "## 8 Authors"
      ]
    },
    {
      "cell_type": "markdown",
      "metadata": {
        "colab_type": "text",
        "id": "xIXUVdDoWB17"
      },
      "source": [
        "### FineTune LM"
      ]
    },
    {
      "cell_type": "code",
      "metadata": {
        "colab_type": "code",
        "id": "uCsBRyD4WB19",
        "colab": {}
      },
      "source": [
        "bs = 128\n",
        "data_lm = TextLMDataBunch.from_csv(subsets , '8train.csv', bs=bs , bptt=bptt,tokenizer=tokenizer, vocab=vocab)\n",
        "data_lm.save('8train_char_lm.pkl')"
      ],
      "execution_count": 0,
      "outputs": []
    },
    {
      "cell_type": "code",
      "metadata": {
        "colab_type": "code",
        "outputId": "3380a932-d102-4f54-ceac-6edabdbeb830",
        "id": "giK3U16MWB2C",
        "colab": {
          "base_uri": "https://localhost:8080/",
          "height": 204
        }
      },
      "source": [
        "data_lm.show_batch()"
      ],
      "execution_count": 0,
      "outputs": [
        {
          "output_type": "display_data",
          "data": {
            "text/html": [
              "<table border=\"1\" class=\"dataframe\">\n",
              "  <thead>\n",
              "    <tr style=\"text-align: right;\">\n",
              "      <th>idx</th>\n",
              "      <th>text</th>\n",
              "    </tr>\n",
              "  </thead>\n",
              "  <tbody>\n",
              "    <tr>\n",
              "      <td>0</td>\n",
              "      <td>স ্ ব া ম ী   ব ল ল ে ন ,   আ ম ি   দ ে ব ত া ক ে   ম া ন ি ,   স ে ই জ ন ্ য ে ই   অ ন ্ ত র ে র   ম ধ ্ য ে   ন ি শ ্</td>\n",
              "    </tr>\n",
              "    <tr>\n",
              "      <td>1</td>\n",
              "      <td>( ) - র   ব দ ল ে   এ খ ন   স ি ঙ ্ গ ু ল া র   দ ে   ( )   ব ্ য ব হ া র   ক র া র   চ ল   শ ু র ু   হ য় ে ছ ে xxunk</td>\n",
              "    </tr>\n",
              "    <tr>\n",
              "      <td>2</td>\n",
              "      <td>া   য া য়   ন া xxunk   য ে   খ ে ল ে ,   স ে - ও   খ ে ল ো য় া ড়   ন য় xxunk   য ে   গ া ন   গ া য় ,   স ে ই   ক ি   গ া</td>\n",
              "    </tr>\n",
              "    <tr>\n",
              "      <td>3</td>\n",
              "      <td>ে ন ে   ফ ি র ে   য া ও য় া র   ক ো ন ও   ম া ন ে   হ য়   ন া xxunk   স ে   দ র জ া   প ে র ি য় ে   ভ ে ত র ে   ঢ ু ক ল !</td>\n",
              "    </tr>\n",
              "    <tr>\n",
              "      <td>4</td>\n",
              "      <td>ব স ্ থ া য়   ফ ি র ে   আ স ত ে   প ে র ে ছ ে xxunk   ক ী   ক র ছ ?   ব ি র ক ্ ত   ক ো র ো   ন া xxunk   ক প ট   গ া ম ্ ভ ী র</td>\n",
              "    </tr>\n",
              "  </tbody>\n",
              "</table>"
            ],
            "text/plain": [
              "<IPython.core.display.HTML object>"
            ]
          },
          "metadata": {
            "tags": []
          }
        }
      ]
    },
    {
      "cell_type": "code",
      "metadata": {
        "colab_type": "code",
        "id": "gpzbhCzLWB2I",
        "colab": {}
      },
      "source": [
        "learn = language_model_learner(data_lm, AWD_LSTM, pretrained=False, drop_mult=0.5)"
      ],
      "execution_count": 0,
      "outputs": []
    },
    {
      "cell_type": "code",
      "metadata": {
        "colab_type": "code",
        "outputId": "a405966a-879f-45d6-b363-917a00eaf46f",
        "id": "x2mM6XCNWB2L",
        "colab": {
          "base_uri": "https://localhost:8080/",
          "height": 300
        }
      },
      "source": [
        "learn.load(char/'models'/'news_char_3less_15');\n",
        "learn.lr_find()\n",
        "learn.recorder.plot()"
      ],
      "execution_count": 0,
      "outputs": [
        {
          "output_type": "display_data",
          "data": {
            "text/html": [
              ""
            ],
            "text/plain": [
              "<IPython.core.display.HTML object>"
            ]
          },
          "metadata": {
            "tags": []
          }
        },
        {
          "output_type": "stream",
          "text": [
            "LR Finder is complete, type {learner_name}.recorder.plot() to see the graph.\n"
          ],
          "name": "stdout"
        },
        {
          "output_type": "display_data",
          "data": {
            "image/png": "[encoded data removed]",
            "text/plain": [
              "<Figure size 432x288 with 1 Axes>"
            ]
          },
          "metadata": {
            "tags": []
          }
        }
      ]
    },
    {
      "cell_type": "code",
      "metadata": {
        "colab_type": "code",
        "outputId": "7b73f451-f906-4e21-8e23-40752dd7658c",
        "id": "I_YTwYaYWB2O",
        "colab": {
          "base_uri": "https://localhost:8080/",
          "height": 283
        }
      },
      "source": [
        "learn.recorder.plot(skip_end=15)"
      ],
      "execution_count": 0,
      "outputs": [
        {
          "output_type": "display_data",
          "data": {
            "image/png": "[encoded data removed]",
            "text/plain": [
              "<Figure size 432x288 with 1 Axes>"
            ]
          },
          "metadata": {
            "tags": []
          }
        }
      ]
    },
    {
      "cell_type": "code",
      "metadata": {
        "colab_type": "code",
        "outputId": "5d5044cf-917a-4874-ee02-99b933cf4945",
        "id": "VJg1wogiWB2T",
        "colab": {
          "base_uri": "https://localhost:8080/",
          "height": 111
        }
      },
      "source": [
        "learn.freeze()\n",
        "learn.fit_one_cycle(2, 1e-2)\n",
        "learn.save('8train_char_lm_head');"
      ],
      "execution_count": 0,
      "outputs": [
        {
          "output_type": "display_data",
          "data": {
            "text/html": [
              "<table border=\"1\" class=\"dataframe\">\n",
              "  <thead>\n",
              "    <tr style=\"text-align: left;\">\n",
              "      <th>epoch</th>\n",
              "      <th>train_loss</th>\n",
              "      <th>valid_loss</th>\n",
              "      <th>accuracy</th>\n",
              "      <th>time</th>\n",
              "    </tr>\n",
              "  </thead>\n",
              "  <tbody>\n",
              "    <tr>\n",
              "      <td>0</td>\n",
              "      <td>1.584643</td>\n",
              "      <td>1.526579</td>\n",
              "      <td>0.553824</td>\n",
              "      <td>20:49</td>\n",
              "    </tr>\n",
              "    <tr>\n",
              "      <td>1</td>\n",
              "      <td>1.572671</td>\n",
              "      <td>1.522365</td>\n",
              "      <td>0.554951</td>\n",
              "      <td>20:52</td>\n",
              "    </tr>\n",
              "  </tbody>\n",
              "</table>"
            ],
            "text/plain": [
              "<IPython.core.display.HTML object>"
            ]
          },
          "metadata": {
            "tags": []
          }
        }
      ]
    },
    {
      "cell_type": "code",
      "metadata": {
        "colab_type": "code",
        "outputId": "f25944bf-9821-41be-ab0a-8abbb4be0ba8",
        "id": "xB_8ekjvWB2W",
        "colab": {
          "base_uri": "https://localhost:8080/",
          "height": 111
        }
      },
      "source": [
        "learn.freeze_to(-2)\n",
        "learn.fit_one_cycle(2, 1e-2)\n",
        "learn.save('8train_char_lm_body_1');"
      ],
      "execution_count": 0,
      "outputs": [
        {
          "output_type": "display_data",
          "data": {
            "text/html": [
              "<table border=\"1\" class=\"dataframe\">\n",
              "  <thead>\n",
              "    <tr style=\"text-align: left;\">\n",
              "      <th>epoch</th>\n",
              "      <th>train_loss</th>\n",
              "      <th>valid_loss</th>\n",
              "      <th>accuracy</th>\n",
              "      <th>time</th>\n",
              "    </tr>\n",
              "  </thead>\n",
              "  <tbody>\n",
              "    <tr>\n",
              "      <td>0</td>\n",
              "      <td>1.377223</td>\n",
              "      <td>1.339055</td>\n",
              "      <td>0.603489</td>\n",
              "      <td>21:38</td>\n",
              "    </tr>\n",
              "    <tr>\n",
              "      <td>1</td>\n",
              "      <td>1.343492</td>\n",
              "      <td>1.288688</td>\n",
              "      <td>0.616900</td>\n",
              "      <td>21:39</td>\n",
              "    </tr>\n",
              "  </tbody>\n",
              "</table>"
            ],
            "text/plain": [
              "<IPython.core.display.HTML object>"
            ]
          },
          "metadata": {
            "tags": []
          }
        }
      ]
    },
    {
      "cell_type": "code",
      "metadata": {
        "colab_type": "code",
        "outputId": "98a5dbc6-a4be-4294-f487-055d854b509b",
        "id": "K-roxZwVWB2e",
        "colab": {
          "base_uri": "https://localhost:8080/",
          "height": 111
        }
      },
      "source": [
        "learn.freeze_to(-3)\n",
        "learn.fit_one_cycle(2, 1e-2)\n",
        "learn.save('8train_char_lm_body_2');"
      ],
      "execution_count": 0,
      "outputs": [
        {
          "output_type": "display_data",
          "data": {
            "text/html": [
              "<table border=\"1\" class=\"dataframe\">\n",
              "  <thead>\n",
              "    <tr style=\"text-align: left;\">\n",
              "      <th>epoch</th>\n",
              "      <th>train_loss</th>\n",
              "      <th>valid_loss</th>\n",
              "      <th>accuracy</th>\n",
              "      <th>time</th>\n",
              "    </tr>\n",
              "  </thead>\n",
              "  <tbody>\n",
              "    <tr>\n",
              "      <td>0</td>\n",
              "      <td>1.336299</td>\n",
              "      <td>1.299368</td>\n",
              "      <td>0.614207</td>\n",
              "      <td>25:11</td>\n",
              "    </tr>\n",
              "    <tr>\n",
              "      <td>1</td>\n",
              "      <td>1.279843</td>\n",
              "      <td>1.237128</td>\n",
              "      <td>0.631279</td>\n",
              "      <td>25:11</td>\n",
              "    </tr>\n",
              "  </tbody>\n",
              "</table>"
            ],
            "text/plain": [
              "<IPython.core.display.HTML object>"
            ]
          },
          "metadata": {
            "tags": []
          }
        }
      ]
    },
    {
      "cell_type": "code",
      "metadata": {
        "colab_type": "code",
        "outputId": "eb29b9a0-a4dd-4c32-fcdc-36a3f6dac777",
        "id": "KLBgkz6zWB2i",
        "colab": {
          "base_uri": "https://localhost:8080/",
          "height": 173
        }
      },
      "source": [
        "learn.unfreeze()\n",
        "learn.fit_one_cycle(4, 1e-2)\n",
        "learn.save('8train_char_lm_body_3');"
      ],
      "execution_count": 0,
      "outputs": [
        {
          "output_type": "display_data",
          "data": {
            "text/html": [
              "<table border=\"1\" class=\"dataframe\">\n",
              "  <thead>\n",
              "    <tr style=\"text-align: left;\">\n",
              "      <th>epoch</th>\n",
              "      <th>train_loss</th>\n",
              "      <th>valid_loss</th>\n",
              "      <th>accuracy</th>\n",
              "      <th>time</th>\n",
              "    </tr>\n",
              "  </thead>\n",
              "  <tbody>\n",
              "    <tr>\n",
              "      <td>0</td>\n",
              "      <td>1.302312</td>\n",
              "      <td>1.278315</td>\n",
              "      <td>0.620049</td>\n",
              "      <td>27:44</td>\n",
              "    </tr>\n",
              "    <tr>\n",
              "      <td>1</td>\n",
              "      <td>1.302188</td>\n",
              "      <td>1.265261</td>\n",
              "      <td>0.623871</td>\n",
              "      <td>27:37</td>\n",
              "    </tr>\n",
              "    <tr>\n",
              "      <td>2</td>\n",
              "      <td>1.251817</td>\n",
              "      <td>1.219634</td>\n",
              "      <td>0.636405</td>\n",
              "      <td>27:37</td>\n",
              "    </tr>\n",
              "    <tr>\n",
              "      <td>3</td>\n",
              "      <td>1.220126</td>\n",
              "      <td>1.200378</td>\n",
              "      <td>0.641941</td>\n",
              "      <td>27:41</td>\n",
              "    </tr>\n",
              "  </tbody>\n",
              "</table>"
            ],
            "text/plain": [
              "<IPython.core.display.HTML object>"
            ]
          },
          "metadata": {
            "tags": []
          }
        }
      ]
    },
    {
      "cell_type": "code",
      "metadata": {
        "colab_type": "code",
        "id": "SsP5IbqGWB2l",
        "outputId": "d0db16f6-6db1-4e1b-9b34-c0476832f521",
        "colab": {
          "base_uri": "https://localhost:8080/",
          "height": 173
        }
      },
      "source": [
        "learn.load('8train_char_lm_body_3');\n",
        "learn.unfreeze()\n",
        "learn.fit_one_cycle(4, 1e-2)\n",
        "learn.save('8train_char_lm_body_4');"
      ],
      "execution_count": 0,
      "outputs": [
        {
          "output_type": "display_data",
          "data": {
            "text/html": [
              "<table border=\"1\" class=\"dataframe\">\n",
              "  <thead>\n",
              "    <tr style=\"text-align: left;\">\n",
              "      <th>epoch</th>\n",
              "      <th>train_loss</th>\n",
              "      <th>valid_loss</th>\n",
              "      <th>accuracy</th>\n",
              "      <th>time</th>\n",
              "    </tr>\n",
              "  </thead>\n",
              "  <tbody>\n",
              "    <tr>\n",
              "      <td>0</td>\n",
              "      <td>1.276706</td>\n",
              "      <td>1.252979</td>\n",
              "      <td>0.627102</td>\n",
              "      <td>27:37</td>\n",
              "    </tr>\n",
              "    <tr>\n",
              "      <td>1</td>\n",
              "      <td>1.280062</td>\n",
              "      <td>1.248267</td>\n",
              "      <td>0.628742</td>\n",
              "      <td>27:35</td>\n",
              "    </tr>\n",
              "    <tr>\n",
              "      <td>2</td>\n",
              "      <td>1.243750</td>\n",
              "      <td>1.204562</td>\n",
              "      <td>0.640701</td>\n",
              "      <td>27:34</td>\n",
              "    </tr>\n",
              "    <tr>\n",
              "      <td>3</td>\n",
              "      <td>1.205242</td>\n",
              "      <td>1.187352</td>\n",
              "      <td>0.645779</td>\n",
              "      <td>27:36</td>\n",
              "    </tr>\n",
              "  </tbody>\n",
              "</table>"
            ],
            "text/plain": [
              "<IPython.core.display.HTML object>"
            ]
          },
          "metadata": {
            "tags": []
          }
        }
      ]
    },
    {
      "cell_type": "code",
      "metadata": {
        "colab_type": "code",
        "id": "_9v_oZ2HWB2t",
        "colab": {}
      },
      "source": [
        "learn.save_encoder('8train_char_lm_enc')"
      ],
      "execution_count": 0,
      "outputs": []
    },
    {
      "cell_type": "markdown",
      "metadata": {
        "colab_type": "text",
        "id": "-aEgv95dWB22"
      },
      "source": [
        "### Classification (OUR AA)"
      ]
    },
    {
      "cell_type": "code",
      "metadata": {
        "colab_type": "code",
        "id": "0YqriNenWB24",
        "colab": {}
      },
      "source": [
        "data_clas = TextClasDataBunch.from_csv(subsets , '8train.csv', vocab=vocab, bs=bs, tokenizer=tokenizer)\n",
        "data_clas.save('8train_char_clas.pkl')"
      ],
      "execution_count": 0,
      "outputs": []
    },
    {
      "cell_type": "code",
      "metadata": {
        "colab_type": "code",
        "id": "2jfoJa5_WB29",
        "outputId": "43d4ba07-2649-4121-e533-2693aa41d911",
        "colab": {
          "base_uri": "https://localhost:8080/",
          "height": 204
        }
      },
      "source": [
        "data_clas.show_batch()"
      ],
      "execution_count": 21,
      "outputs": [
        {
          "output_type": "display_data",
          "data": {
            "text/html": [
              "<table border=\"1\" class=\"dataframe\">\n",
              "  <thead>\n",
              "    <tr style=\"text-align: right;\">\n",
              "      <th>text</th>\n",
              "      <th>target</th>\n",
              "    </tr>\n",
              "  </thead>\n",
              "  <tbody>\n",
              "    <tr>\n",
              "      <td>xxbos x x b o s   ক ী র ্ ত ি ত ে   ত া হ া দ ে র   ম ন ে   গ র ্ ব ে র   স ী ম া   র হ ি ল   ন া xxunk   ব ি ন ্ ধ ্ য ব া স ি ন ী</td>\n",
              "      <td>robindronath</td>\n",
              "    </tr>\n",
              "    <tr>\n",
              "      <td>xxbos x x b o s   ম া ঝ ে   ম া ঝ ে   স ে ই স ব   প ্ র স ্ ত র ম ূ র ্ ত ি র   প ূ র ্ ব ত ন   খ ড় - ম া ট ি র   প া   দ ে খ ি</td>\n",
              "      <td>shunil_gongopaddhay</td>\n",
              "    </tr>\n",
              "    <tr>\n",
              "      <td>xxbos x x b o s   শ ু ন ি য় া   হ র ক ু ম া র   প ্ র থ ম ট া   ভ ী ত   হ ই য় া   উ ঠ ি ল ে ন ;   শ শ ি ভ ূ ষ ণ   ক ি ছ ু ত ে ই</td>\n",
              "      <td>robindronath</td>\n",
              "    </tr>\n",
              "    <tr>\n",
              "      <td>xxbos x x b o s   চ া প ি য় া   ধ র ি য় া   ব ি দ ্ য ু দ ্ ব ে গ ে   ছ ু ট ি য় া   ন ি ক ট ব র ্ ত ী   ক ূ প ে র   ম ধ ্ য ে</td>\n",
              "      <td>robindronath</td>\n",
              "    </tr>\n",
              "    <tr>\n",
              "      <td>xxbos x x b o s   গ ্ র া ম ে - গ ঞ ্ জ ে ও   এ খ ন   ড ি স ্ ক ো   চ ল ে ,   চ ল ে   ম ি স   স ু ন ্ দ র ী   প ্ র ত ি য ো গ ি</td>\n",
              "      <td>toslima_nasrin</td>\n",
              "    </tr>\n",
              "  </tbody>\n",
              "</table>"
            ],
            "text/plain": [
              "<IPython.core.display.HTML object>"
            ]
          },
          "metadata": {
            "tags": []
          }
        }
      ]
    },
    {
      "cell_type": "code",
      "metadata": {
        "colab_type": "code",
        "id": "qarev4_wWB3B",
        "colab": {}
      },
      "source": [
        "data_clas = load_data(subsets, '8train_char_clas.pkl',bs=32)\n",
        "learn_cls = text_classifier_learner(data_clas, AWD_LSTM, drop_mult=0.5, pretrained=False)\n",
        "learn_cls.load_encoder('8train_char_lm_enc')"
      ],
      "execution_count": 0,
      "outputs": []
    },
    {
      "cell_type": "code",
      "metadata": {
        "colab_type": "code",
        "id": "QoFIQ2iIWB3G",
        "outputId": "4845788f-39f5-40c8-edfb-7bac73da0bc5",
        "colab": {
          "base_uri": "https://localhost:8080/",
          "height": 300
        }
      },
      "source": [
        "learn_cls.freeze()\n",
        "learn_cls.lr_find()\n",
        "learn_cls.recorder.plot()"
      ],
      "execution_count": 0,
      "outputs": [
        {
          "output_type": "display_data",
          "data": {
            "text/html": [
              ""
            ],
            "text/plain": [
              "<IPython.core.display.HTML object>"
            ]
          },
          "metadata": {
            "tags": []
          }
        },
        {
          "output_type": "stream",
          "text": [
            "LR Finder is complete, type {learner_name}.recorder.plot() to see the graph.\n"
          ],
          "name": "stdout"
        },
        {
          "output_type": "display_data",
          "data": {
            "image/png": "[encoded data removed]",
            "text/plain": [
              "<Figure size 432x288 with 1 Axes>"
            ]
          },
          "metadata": {
            "tags": []
          }
        }
      ]
    },
    {
      "cell_type": "code",
      "metadata": {
        "colab_type": "code",
        "id": "gOMB0oVFWB3N",
        "outputId": "f8aa04f2-433b-464d-c24f-b140632ab687",
        "colab": {
          "base_uri": "https://localhost:8080/",
          "height": 111
        }
      },
      "source": [
        "learn_cls.freeze()\n",
        "learn_cls.fit_one_cycle(2, 1e-2, moms=(0.8,0.7))\n",
        "learn_cls.save('8train_char_cls_1')"
      ],
      "execution_count": 22,
      "outputs": [
        {
          "output_type": "display_data",
          "data": {
            "text/html": [
              "<table border=\"1\" class=\"dataframe\">\n",
              "  <thead>\n",
              "    <tr style=\"text-align: left;\">\n",
              "      <th>epoch</th>\n",
              "      <th>train_loss</th>\n",
              "      <th>valid_loss</th>\n",
              "      <th>accuracy</th>\n",
              "      <th>time</th>\n",
              "    </tr>\n",
              "  </thead>\n",
              "  <tbody>\n",
              "    <tr>\n",
              "      <td>0</td>\n",
              "      <td>0.415742</td>\n",
              "      <td>0.171982</td>\n",
              "      <td>0.938707</td>\n",
              "      <td>20:08</td>\n",
              "    </tr>\n",
              "    <tr>\n",
              "      <td>1</td>\n",
              "      <td>0.191131</td>\n",
              "      <td>0.109328</td>\n",
              "      <td>0.963056</td>\n",
              "      <td>20:01</td>\n",
              "    </tr>\n",
              "  </tbody>\n",
              "</table>"
            ],
            "text/plain": [
              "<IPython.core.display.HTML object>"
            ]
          },
          "metadata": {
            "tags": []
          }
        }
      ]
    },
    {
      "cell_type": "code",
      "metadata": {
        "colab_type": "code",
        "id": "_e1MoNmpWB3Y",
        "colab": {
          "base_uri": "https://localhost:8080/",
          "height": 111
        },
        "outputId": "13e9c4bd-1e2b-4c87-9914-5df41c647a84"
      },
      "source": [
        "learn_cls.load('8train_char_cls_1')\n",
        "learn_cls.freeze_to(-2)\n",
        "learn_cls.fit_one_cycle(2 , slice(1e-2/(2.6**4),1e-2), moms=(0.8,0.7))\n",
        "learn_cls.save('8train_char_cls_2')"
      ],
      "execution_count": 24,
      "outputs": [
        {
          "output_type": "display_data",
          "data": {
            "text/html": [
              "<table border=\"1\" class=\"dataframe\">\n",
              "  <thead>\n",
              "    <tr style=\"text-align: left;\">\n",
              "      <th>epoch</th>\n",
              "      <th>train_loss</th>\n",
              "      <th>valid_loss</th>\n",
              "      <th>accuracy</th>\n",
              "      <th>time</th>\n",
              "    </tr>\n",
              "  </thead>\n",
              "  <tbody>\n",
              "    <tr>\n",
              "      <td>0</td>\n",
              "      <td>0.214239</td>\n",
              "      <td>0.099385</td>\n",
              "      <td>0.964736</td>\n",
              "      <td>21:40</td>\n",
              "    </tr>\n",
              "    <tr>\n",
              "      <td>1</td>\n",
              "      <td>0.103544</td>\n",
              "      <td>0.066062</td>\n",
              "      <td>0.979009</td>\n",
              "      <td>21:23</td>\n",
              "    </tr>\n",
              "  </tbody>\n",
              "</table>"
            ],
            "text/plain": [
              "<IPython.core.display.HTML object>"
            ]
          },
          "metadata": {
            "tags": []
          }
        }
      ]
    },
    {
      "cell_type": "code",
      "metadata": {
        "colab_type": "code",
        "id": "y5CoFXSpWB3c",
        "colab": {
          "base_uri": "https://localhost:8080/",
          "height": 111
        },
        "outputId": "84ee4e0b-09a2-47fa-fcb1-194c77c89c53"
      },
      "source": [
        "learn_cls.load('8train_char_cls_2')\n",
        "learn_cls.freeze_to(-3)\n",
        "learn_cls.fit_one_cycle(2, slice(5e-3/(2.6**4),5e-3), moms=(0.8,0.7))\n",
        "learn_cls.save('8train_char_cls_3')"
      ],
      "execution_count": 25,
      "outputs": [
        {
          "output_type": "display_data",
          "data": {
            "text/html": [
              "<table border=\"1\" class=\"dataframe\">\n",
              "  <thead>\n",
              "    <tr style=\"text-align: left;\">\n",
              "      <th>epoch</th>\n",
              "      <th>train_loss</th>\n",
              "      <th>valid_loss</th>\n",
              "      <th>accuracy</th>\n",
              "      <th>time</th>\n",
              "    </tr>\n",
              "  </thead>\n",
              "  <tbody>\n",
              "    <tr>\n",
              "      <td>0</td>\n",
              "      <td>0.088566</td>\n",
              "      <td>0.062748</td>\n",
              "      <td>0.977330</td>\n",
              "      <td>25:15</td>\n",
              "    </tr>\n",
              "    <tr>\n",
              "      <td>1</td>\n",
              "      <td>0.050322</td>\n",
              "      <td>0.049472</td>\n",
              "      <td>0.982368</td>\n",
              "      <td>25:20</td>\n",
              "    </tr>\n",
              "  </tbody>\n",
              "</table>"
            ],
            "text/plain": [
              "<IPython.core.display.HTML object>"
            ]
          },
          "metadata": {
            "tags": []
          }
        }
      ]
    },
    {
      "cell_type": "code",
      "metadata": {
        "colab_type": "code",
        "id": "ezRJ8nyFWB3j",
        "colab": {
          "base_uri": "https://localhost:8080/",
          "height": 173
        },
        "outputId": "64db52c4-fa8d-4587-a1e4-fde7f63a04b5"
      },
      "source": [
        "learn_cls.load('8train_char_cls_3')\n",
        "learn_cls.unfreeze()\n",
        "learn_cls.fit_one_cycle(4, slice(1e-3/(2.6**4),1e-3), moms=(0.8,0.7))\n",
        "learn_cls.save('8train_char_cls_4')"
      ],
      "execution_count": 26,
      "outputs": [
        {
          "output_type": "display_data",
          "data": {
            "text/html": [
              "<table border=\"1\" class=\"dataframe\">\n",
              "  <thead>\n",
              "    <tr style=\"text-align: left;\">\n",
              "      <th>epoch</th>\n",
              "      <th>train_loss</th>\n",
              "      <th>valid_loss</th>\n",
              "      <th>accuracy</th>\n",
              "      <th>time</th>\n",
              "    </tr>\n",
              "  </thead>\n",
              "  <tbody>\n",
              "    <tr>\n",
              "      <td>0</td>\n",
              "      <td>0.042691</td>\n",
              "      <td>0.040905</td>\n",
              "      <td>0.985726</td>\n",
              "      <td>28:09</td>\n",
              "    </tr>\n",
              "    <tr>\n",
              "      <td>1</td>\n",
              "      <td>0.037617</td>\n",
              "      <td>0.047656</td>\n",
              "      <td>0.985726</td>\n",
              "      <td>28:17</td>\n",
              "    </tr>\n",
              "    <tr>\n",
              "      <td>2</td>\n",
              "      <td>0.029253</td>\n",
              "      <td>0.044412</td>\n",
              "      <td>0.985726</td>\n",
              "      <td>28:20</td>\n",
              "    </tr>\n",
              "    <tr>\n",
              "      <td>3</td>\n",
              "      <td>0.025790</td>\n",
              "      <td>0.042111</td>\n",
              "      <td>0.984047</td>\n",
              "      <td>28:35</td>\n",
              "    </tr>\n",
              "  </tbody>\n",
              "</table>"
            ],
            "text/plain": [
              "<IPython.core.display.HTML object>"
            ]
          },
          "metadata": {
            "tags": []
          }
        }
      ]
    },
    {
      "cell_type": "code",
      "metadata": {
        "colab_type": "code",
        "id": "w_VyuSv9WB3m",
        "colab": {
          "base_uri": "https://localhost:8080/",
          "height": 105
        },
        "outputId": "83d483d4-a134-43e9-e140-f81cabc6ea7c"
      },
      "source": [
        "preds,targ = testing(subsets/'8test.csv')"
      ],
      "execution_count": 27,
      "outputs": [
        {
          "output_type": "stream",
          "text": [
            "1496\n",
            "Accuracy: \n",
            "0.9859625668449198\n",
            "[('shirshendu', 'shomresh'), ('shirshendu', 'robindronath'), ('shirshendu', 'shorotchandra'), ('shirshendu', 'shorotchandra'), ('toslima_nasrin', 'shirshendu'), ('MZI', 'humayun_ahmed'), ('shorotchandra', 'robindronath'), ('humayun_ahmed', 'toslima_nasrin'), ('humayun_ahmed', 'MZI'), ('humayun_ahmed', 'shorotchandra'), ('humayun_ahmed', 'MZI'), ('humayun_ahmed', 'MZI'), ('humayun_ahmed', 'MZI'), ('humayun_ahmed', 'MZI'), ('humayun_ahmed', 'MZI'), ('shomresh', 'shunil_gongopaddhay'), ('shomresh', 'humayun_ahmed'), ('shomresh', 'toslima_nasrin'), ('shomresh', 'shunil_gongopaddhay'), ('shomresh', 'shunil_gongopaddhay'), ('shunil_gongopaddhay', 'robindronath')]\n"
          ],
          "name": "stdout"
        }
      ]
    },
    {
      "cell_type": "code",
      "metadata": {
        "colab_type": "code",
        "id": "Ad6Bfda6WB3q",
        "colab": {
          "base_uri": "https://localhost:8080/",
          "height": 34
        },
        "outputId": "8c093456-8cc3-449c-b335-390c455483cd"
      },
      "source": [
        "from sklearn.metrics import f1_score\n",
        "out  = f1_score(targ, preds, average='macro') #'macro' , also == weighted cuz dataset is balanced\n",
        "out"
      ],
      "execution_count": 28,
      "outputs": [
        {
          "output_type": "execute_result",
          "data": {
            "text/plain": [
              "0.9859286211716318"
            ]
          },
          "metadata": {
            "tags": []
          },
          "execution_count": 28
        }
      ]
    },
    {
      "cell_type": "markdown",
      "metadata": {
        "colab_type": "text",
        "id": "IHsrNa0Wb33T"
      },
      "source": [
        "## 10 Authors"
      ]
    },
    {
      "cell_type": "markdown",
      "metadata": {
        "colab_type": "text",
        "id": "lDCtMxqVb33b"
      },
      "source": [
        "### FineTune LM"
      ]
    },
    {
      "cell_type": "code",
      "metadata": {
        "colab_type": "code",
        "id": "xmakh7z2b33d",
        "colab": {}
      },
      "source": [
        "bs = 128\n",
        "data_lm = TextLMDataBunch.from_csv(subsets , '10train.csv', bs=bs , bptt=bptt,tokenizer=tokenizer, vocab=vocab)\n",
        "data_lm.save('10train_char_lm.pkl')"
      ],
      "execution_count": 0,
      "outputs": []
    },
    {
      "cell_type": "code",
      "metadata": {
        "colab_type": "code",
        "outputId": "4fdc5c8f-3e31-4779-ef61-5a00a6884790",
        "id": "DB-_SHPNb33j",
        "colab": {
          "base_uri": "https://localhost:8080/",
          "height": 204
        }
      },
      "source": [
        "data_lm.show_batch()"
      ],
      "execution_count": 0,
      "outputs": [
        {
          "output_type": "display_data",
          "data": {
            "text/html": [
              "<table border=\"1\" class=\"dataframe\">\n",
              "  <thead>\n",
              "    <tr style=\"text-align: right;\">\n",
              "      <th>idx</th>\n",
              "      <th>text</th>\n",
              "    </tr>\n",
              "  </thead>\n",
              "  <tbody>\n",
              "    <tr>\n",
              "      <td>0</td>\n",
              "      <td>র   এ ক ট া   ফ ু ল গ া ছ ে র   ন া ম   ব া xxunk দ র ল া ঠ ি !   দ ো ক া ন দ া র ট ি   ব ল ল ,   এ খ া ন   থ ে ক ে   য া ও</td>\n",
              "    </tr>\n",
              "    <tr>\n",
              "      <td>1</td>\n",
              "      <td>হ ি ল xxunk   ল া গ ছ ে ;   ব ু ঝ ত ে   প া র ছ ি xxunk   অ ন ্ ধ ক া র ে   ব ন ব া দ া ড় ে   ঘ ো র া ট া   স হ জ   ক া জ   ন য় xxunk</td>\n",
              "    </tr>\n",
              "    <tr>\n",
              "      <td>2</td>\n",
              "      <td>ট ্ র া ঙ ্ ক ে   ঠ া ক ু র দ া র   চ ি ঠ ি প ত ্ র   ছ ি ল xxunk   ফ ি ত ো য ়   ব া xxunk ধ া   চ ি ঠ ি র   ত া ড় া র   ত ল া</td>\n",
              "    </tr>\n",
              "    <tr>\n",
              "      <td>3</td>\n",
              "      <td>ে   ব ল ে   দ া ও   আ ম া ক ে   স ঙ ্ গ ে   ন ি য় ে   য ে ত ে xxunk   খ া ন ি ক ট া   ই ত স ্ ত ু ত   ক র ে   প া ল দ ে ম</td>\n",
              "    </tr>\n",
              "    <tr>\n",
              "      <td>4</td>\n",
              "      <td>ল ে   ত ো   ত ো র   জ য় ে ন ্ ট   অ ্ য া ক া উ ন ্ ট   ক র ে   র া খ া   উ চ ি ত xxunk   জ য় ে ন ্ ট   অ ্ য া ক া উ ন ্ ট</td>\n",
              "    </tr>\n",
              "  </tbody>\n",
              "</table>"
            ],
            "text/plain": [
              "<IPython.core.display.HTML object>"
            ]
          },
          "metadata": {
            "tags": []
          }
        }
      ]
    },
    {
      "cell_type": "code",
      "metadata": {
        "colab_type": "code",
        "id": "xpEnaeyFb33q",
        "colab": {}
      },
      "source": [
        "learn = language_model_learner(data_lm, AWD_LSTM, pretrained=False, drop_mult=0.5)"
      ],
      "execution_count": 0,
      "outputs": []
    },
    {
      "cell_type": "code",
      "metadata": {
        "colab_type": "code",
        "outputId": "e6290948-88a0-4767-91a7-f7c75dfd2509",
        "id": "FF5ul_Ykb33y",
        "colab": {
          "base_uri": "https://localhost:8080/",
          "height": 300
        }
      },
      "source": [
        "learn.load(char/'models'/'news_char_3less_15');\n",
        "learn.lr_find()\n",
        "learn.recorder.plot()"
      ],
      "execution_count": 0,
      "outputs": [
        {
          "output_type": "display_data",
          "data": {
            "text/html": [
              ""
            ],
            "text/plain": [
              "<IPython.core.display.HTML object>"
            ]
          },
          "metadata": {
            "tags": []
          }
        },
        {
          "output_type": "stream",
          "text": [
            "LR Finder is complete, type {learner_name}.recorder.plot() to see the graph.\n"
          ],
          "name": "stdout"
        },
        {
          "output_type": "display_data",
          "data": {
            "image/png": "[encoded data removed]",
            "text/plain": [
              "<Figure size 432x288 with 1 Axes>"
            ]
          },
          "metadata": {
            "tags": []
          }
        }
      ]
    },
    {
      "cell_type": "code",
      "metadata": {
        "colab_type": "code",
        "outputId": "c2465880-8dfd-4789-f8cf-cbf7eed34a49",
        "id": "TJqBm2YRb33_",
        "colab": {
          "base_uri": "https://localhost:8080/",
          "height": 283
        }
      },
      "source": [
        "learn.recorder.plot(skip_end=15)"
      ],
      "execution_count": 0,
      "outputs": [
        {
          "output_type": "display_data",
          "data": {
            "image/png": "[encoded data removed]",
            "text/plain": [
              "<Figure size 432x288 with 1 Axes>"
            ]
          },
          "metadata": {
            "tags": []
          }
        }
      ]
    },
    {
      "cell_type": "code",
      "metadata": {
        "colab_type": "code",
        "outputId": "6c5dcc29-d864-48b2-fbfa-925884ccc503",
        "id": "n7OigBomb34I",
        "colab": {
          "base_uri": "https://localhost:8080/",
          "height": 111
        }
      },
      "source": [
        "learn.freeze()\n",
        "learn.fit_one_cycle(2, 1e-2)\n",
        "learn.save('10train_char_lm_head');"
      ],
      "execution_count": 0,
      "outputs": [
        {
          "output_type": "display_data",
          "data": {
            "text/html": [
              "<table border=\"1\" class=\"dataframe\">\n",
              "  <thead>\n",
              "    <tr style=\"text-align: left;\">\n",
              "      <th>epoch</th>\n",
              "      <th>train_loss</th>\n",
              "      <th>valid_loss</th>\n",
              "      <th>accuracy</th>\n",
              "      <th>time</th>\n",
              "    </tr>\n",
              "  </thead>\n",
              "  <tbody>\n",
              "    <tr>\n",
              "      <td>0</td>\n",
              "      <td>1.603913</td>\n",
              "      <td>1.548761</td>\n",
              "      <td>0.549122</td>\n",
              "      <td>23:06</td>\n",
              "    </tr>\n",
              "    <tr>\n",
              "      <td>1</td>\n",
              "      <td>1.594097</td>\n",
              "      <td>1.544894</td>\n",
              "      <td>0.550174</td>\n",
              "      <td>22:47</td>\n",
              "    </tr>\n",
              "  </tbody>\n",
              "</table>"
            ],
            "text/plain": [
              "<IPython.core.display.HTML object>"
            ]
          },
          "metadata": {
            "tags": []
          }
        }
      ]
    },
    {
      "cell_type": "code",
      "metadata": {
        "colab_type": "code",
        "outputId": "04c375b4-f6af-478d-a030-0e341ff114d2",
        "id": "_beDIMJtb34N",
        "colab": {
          "base_uri": "https://localhost:8080/",
          "height": 111
        }
      },
      "source": [
        "learn.freeze_to(-2)\n",
        "learn.fit_one_cycle(2, 1e-2)\n",
        "learn.save('10train_char_lm_body_1');"
      ],
      "execution_count": 0,
      "outputs": [
        {
          "output_type": "display_data",
          "data": {
            "text/html": [
              "<table border=\"1\" class=\"dataframe\">\n",
              "  <thead>\n",
              "    <tr style=\"text-align: left;\">\n",
              "      <th>epoch</th>\n",
              "      <th>train_loss</th>\n",
              "      <th>valid_loss</th>\n",
              "      <th>accuracy</th>\n",
              "      <th>time</th>\n",
              "    </tr>\n",
              "  </thead>\n",
              "  <tbody>\n",
              "    <tr>\n",
              "      <td>0</td>\n",
              "      <td>1.398780</td>\n",
              "      <td>1.345207</td>\n",
              "      <td>0.602682</td>\n",
              "      <td>23:49</td>\n",
              "    </tr>\n",
              "    <tr>\n",
              "      <td>1</td>\n",
              "      <td>1.352566</td>\n",
              "      <td>1.295175</td>\n",
              "      <td>0.616312</td>\n",
              "      <td>23:58</td>\n",
              "    </tr>\n",
              "  </tbody>\n",
              "</table>"
            ],
            "text/plain": [
              "<IPython.core.display.HTML object>"
            ]
          },
          "metadata": {
            "tags": []
          }
        }
      ]
    },
    {
      "cell_type": "code",
      "metadata": {
        "colab_type": "code",
        "outputId": "7172d4c4-b6a2-462d-d287-8efd37fd8f04",
        "id": "fuQy_ESCb34R",
        "colab": {
          "base_uri": "https://localhost:8080/",
          "height": 111
        }
      },
      "source": [
        "learn.freeze_to(-3)\n",
        "learn.fit_one_cycle(2, 1e-2)\n",
        "learn.save('10train_char_lm_body_2');"
      ],
      "execution_count": 0,
      "outputs": [
        {
          "output_type": "display_data",
          "data": {
            "text/html": [
              "<table border=\"1\" class=\"dataframe\">\n",
              "  <thead>\n",
              "    <tr style=\"text-align: left;\">\n",
              "      <th>epoch</th>\n",
              "      <th>train_loss</th>\n",
              "      <th>valid_loss</th>\n",
              "      <th>accuracy</th>\n",
              "      <th>time</th>\n",
              "    </tr>\n",
              "  </thead>\n",
              "  <tbody>\n",
              "    <tr>\n",
              "      <td>0</td>\n",
              "      <td>1.335339</td>\n",
              "      <td>1.306775</td>\n",
              "      <td>0.613044</td>\n",
              "      <td>27:22</td>\n",
              "    </tr>\n",
              "    <tr>\n",
              "      <td>1</td>\n",
              "      <td>1.273478</td>\n",
              "      <td>1.241633</td>\n",
              "      <td>0.631145</td>\n",
              "      <td>27:29</td>\n",
              "    </tr>\n",
              "  </tbody>\n",
              "</table>"
            ],
            "text/plain": [
              "<IPython.core.display.HTML object>"
            ]
          },
          "metadata": {
            "tags": []
          }
        }
      ]
    },
    {
      "cell_type": "code",
      "metadata": {
        "colab_type": "code",
        "outputId": "0fb0aee0-1813-49c7-c350-212f9aa4c1d8",
        "id": "FLeEj6TAb34X",
        "colab": {
          "base_uri": "https://localhost:8080/",
          "height": 173
        }
      },
      "source": [
        "learn.unfreeze()\n",
        "learn.fit_one_cycle(4, 1e-2)\n",
        "learn.save('10train_char_lm_body_3');"
      ],
      "execution_count": 0,
      "outputs": [
        {
          "output_type": "display_data",
          "data": {
            "text/html": [
              "<table border=\"1\" class=\"dataframe\">\n",
              "  <thead>\n",
              "    <tr style=\"text-align: left;\">\n",
              "      <th>epoch</th>\n",
              "      <th>train_loss</th>\n",
              "      <th>valid_loss</th>\n",
              "      <th>accuracy</th>\n",
              "      <th>time</th>\n",
              "    </tr>\n",
              "  </thead>\n",
              "  <tbody>\n",
              "    <tr>\n",
              "      <td>0</td>\n",
              "      <td>1.310617</td>\n",
              "      <td>1.285645</td>\n",
              "      <td>0.618898</td>\n",
              "      <td>30:17</td>\n",
              "    </tr>\n",
              "    <tr>\n",
              "      <td>1</td>\n",
              "      <td>1.308997</td>\n",
              "      <td>1.270066</td>\n",
              "      <td>0.623486</td>\n",
              "      <td>30:14</td>\n",
              "    </tr>\n",
              "    <tr>\n",
              "      <td>2</td>\n",
              "      <td>1.259622</td>\n",
              "      <td>1.223897</td>\n",
              "      <td>0.636051</td>\n",
              "      <td>30:03</td>\n",
              "    </tr>\n",
              "    <tr>\n",
              "      <td>3</td>\n",
              "      <td>1.217422</td>\n",
              "      <td>1.203559</td>\n",
              "      <td>0.641937</td>\n",
              "      <td>30:19</td>\n",
              "    </tr>\n",
              "  </tbody>\n",
              "</table>"
            ],
            "text/plain": [
              "<IPython.core.display.HTML object>"
            ]
          },
          "metadata": {
            "tags": []
          }
        }
      ]
    },
    {
      "cell_type": "code",
      "metadata": {
        "colab_type": "code",
        "outputId": "eb434323-dae7-4dbd-b434-00d316ab3496",
        "id": "mQkDd6W9b34m",
        "colab": {
          "base_uri": "https://localhost:8080/",
          "height": 173
        }
      },
      "source": [
        "learn.unfreeze()\n",
        "learn.fit_one_cycle(4, 1e-2)\n",
        "learn.save('10train_char_lm_body_4');"
      ],
      "execution_count": 0,
      "outputs": [
        {
          "output_type": "display_data",
          "data": {
            "text/html": [
              "<table border=\"1\" class=\"dataframe\">\n",
              "  <thead>\n",
              "    <tr style=\"text-align: left;\">\n",
              "      <th>epoch</th>\n",
              "      <th>train_loss</th>\n",
              "      <th>valid_loss</th>\n",
              "      <th>accuracy</th>\n",
              "      <th>time</th>\n",
              "    </tr>\n",
              "  </thead>\n",
              "  <tbody>\n",
              "    <tr>\n",
              "      <td>0</td>\n",
              "      <td>1.272681</td>\n",
              "      <td>1.262008</td>\n",
              "      <td>0.626419</td>\n",
              "      <td>30:25</td>\n",
              "    </tr>\n",
              "    <tr>\n",
              "      <td>1</td>\n",
              "      <td>1.282466</td>\n",
              "      <td>1.253778</td>\n",
              "      <td>0.628170</td>\n",
              "      <td>30:24</td>\n",
              "    </tr>\n",
              "    <tr>\n",
              "      <td>2</td>\n",
              "      <td>1.246912</td>\n",
              "      <td>1.208541</td>\n",
              "      <td>0.640370</td>\n",
              "      <td>30:22</td>\n",
              "    </tr>\n",
              "    <tr>\n",
              "      <td>3</td>\n",
              "      <td>1.192356</td>\n",
              "      <td>1.190017</td>\n",
              "      <td>0.645862</td>\n",
              "      <td>30:32</td>\n",
              "    </tr>\n",
              "  </tbody>\n",
              "</table>"
            ],
            "text/plain": [
              "<IPython.core.display.HTML object>"
            ]
          },
          "metadata": {
            "tags": []
          }
        }
      ]
    },
    {
      "cell_type": "code",
      "metadata": {
        "colab_type": "code",
        "id": "9b2b8xUHb34p",
        "colab": {}
      },
      "source": [
        "learn.save_encoder('10train_char_lm_enc')"
      ],
      "execution_count": 0,
      "outputs": []
    },
    {
      "cell_type": "markdown",
      "metadata": {
        "colab_type": "text",
        "id": "lWsQw_0Hb34t"
      },
      "source": [
        "### Classification (OUR AA)"
      ]
    },
    {
      "cell_type": "code",
      "metadata": {
        "colab_type": "code",
        "id": "zdcKoBuub34u",
        "colab": {}
      },
      "source": [
        "data_clas = TextClasDataBunch.from_csv(subsets , '10train.csv', vocab=vocab, bs=bs, tokenizer=tokenizer)\n",
        "data_clas.save('10train_char_clas.pkl')"
      ],
      "execution_count": 0,
      "outputs": []
    },
    {
      "cell_type": "code",
      "metadata": {
        "colab_type": "code",
        "outputId": "02bf04aa-3bbf-4bbe-f9fd-e917a7255052",
        "id": "arsbUyK5b34y",
        "colab": {
          "base_uri": "https://localhost:8080/",
          "height": 204
        }
      },
      "source": [
        "data_clas.show_batch()"
      ],
      "execution_count": 0,
      "outputs": [
        {
          "output_type": "display_data",
          "data": {
            "text/html": [
              "<table border=\"1\" class=\"dataframe\">\n",
              "  <thead>\n",
              "    <tr style=\"text-align: right;\">\n",
              "      <th>text</th>\n",
              "      <th>target</th>\n",
              "    </tr>\n",
              "  </thead>\n",
              "  <tbody>\n",
              "    <tr>\n",
              "      <td>xxbos x x b o s   গ xxunk ্ হ ি ত   ক া র ্ য   ছ ি ল   ন া xxunk   এ ক া ধ ি ক   প ত ্ ন ী   ও   উ প প ত ্ ন ী   স ক ল   র া জ - অ</td>\n",
              "      <td>shordindu</td>\n",
              "    </tr>\n",
              "    <tr>\n",
              "      <td>xxbos x x b o s   ক র ি ত ে ছ ে xxunk   আ ম া র   অ স ি - ফ ল ক   অ ঙ ্ গ া র   হ ই ত ে   ব া হ ি র   ক র ি য় া   র স া য় ন - ম ি শ</td>\n",
              "      <td>shordindu</td>\n",
              "    </tr>\n",
              "    <tr>\n",
              "      <td>xxbos x x b o s   ক র ি ল ে ন   ন া ,   ব া হ ি র   হ ই ত ে   ব দ ্ ধ া ঞ ্ জ ল ি   হ ই য ় া   ই ষ ্ ট দ ে ব ত া ক ে   ভ ক ্ ত</td>\n",
              "      <td>shordindu</td>\n",
              "    </tr>\n",
              "    <tr>\n",
              "      <td>xxbos x x b o s   হ া ত ে   ল ই য় া   র া জ ক ু ম া র ী ক ে   ঘ ি র ি য় া   ঘ ি র ি য় া   ন ৃ ত ্ য   ক র ি ত ে ছ ে   এ ব xxunk</td>\n",
              "      <td>shordindu</td>\n",
              "    </tr>\n",
              "    <tr>\n",
              "      <td>xxbos x x b o s   দ ু ই   প া শ   হ ই ত ে   উ চ ্ চ   প া ষ া ণ - প ্ র া ক া র   ন ি র ্ গ ত   হ ই য় া   অ ন ্ ত র ্ ভ ু ক ্ ত</td>\n",
              "      <td>shordindu</td>\n",
              "    </tr>\n",
              "  </tbody>\n",
              "</table>"
            ],
            "text/plain": [
              "<IPython.core.display.HTML object>"
            ]
          },
          "metadata": {
            "tags": []
          }
        }
      ]
    },
    {
      "cell_type": "code",
      "metadata": {
        "colab_type": "code",
        "id": "1XFkbPWZb344",
        "colab": {}
      },
      "source": [
        "data_clas = load_data(subsets, '10train_char_clas.pkl',bs=32)\n",
        "learn_cls = text_classifier_learner(data_clas, AWD_LSTM, drop_mult=0.5, pretrained=False)\n",
        "learn_cls.load_encoder('10train_char_lm_enc')"
      ],
      "execution_count": 0,
      "outputs": []
    },
    {
      "cell_type": "code",
      "metadata": {
        "colab_type": "code",
        "outputId": "e197cc1b-515d-404c-f193-4dbc62b12c75",
        "id": "LO3m6yWlb34-",
        "colab": {
          "base_uri": "https://localhost:8080/",
          "height": 300
        }
      },
      "source": [
        "learn_cls.freeze()\n",
        "learn_cls.lr_find()\n",
        "learn_cls.recorder.plot()"
      ],
      "execution_count": 0,
      "outputs": [
        {
          "output_type": "display_data",
          "data": {
            "text/html": [
              ""
            ],
            "text/plain": [
              "<IPython.core.display.HTML object>"
            ]
          },
          "metadata": {
            "tags": []
          }
        },
        {
          "output_type": "stream",
          "text": [
            "LR Finder is complete, type {learner_name}.recorder.plot() to see the graph.\n"
          ],
          "name": "stdout"
        },
        {
          "output_type": "display_data",
          "data": {
            "image/png": "[encoded data removed]",
            "text/plain": [
              "<Figure size 432x288 with 1 Axes>"
            ]
          },
          "metadata": {
            "tags": []
          }
        }
      ]
    },
    {
      "cell_type": "code",
      "metadata": {
        "colab_type": "code",
        "outputId": "e5d99fec-5340-4095-82da-6966e1716a5e",
        "id": "XI2Fjhdsb35B",
        "colab": {
          "base_uri": "https://localhost:8080/",
          "height": 111
        }
      },
      "source": [
        "learn_cls.fit_one_cycle(2, 1e-2, moms=(0.8,0.7))\n",
        "learn_cls.save('10train_char_cls_1')"
      ],
      "execution_count": 0,
      "outputs": [
        {
          "output_type": "display_data",
          "data": {
            "text/html": [
              "<table border=\"1\" class=\"dataframe\">\n",
              "  <thead>\n",
              "    <tr style=\"text-align: left;\">\n",
              "      <th>epoch</th>\n",
              "      <th>train_loss</th>\n",
              "      <th>valid_loss</th>\n",
              "      <th>accuracy</th>\n",
              "      <th>time</th>\n",
              "    </tr>\n",
              "  </thead>\n",
              "  <tbody>\n",
              "    <tr>\n",
              "      <td>0</td>\n",
              "      <td>0.502936</td>\n",
              "      <td>0.160436</td>\n",
              "      <td>0.947020</td>\n",
              "      <td>22:36</td>\n",
              "    </tr>\n",
              "    <tr>\n",
              "      <td>1</td>\n",
              "      <td>0.290456</td>\n",
              "      <td>0.124808</td>\n",
              "      <td>0.960265</td>\n",
              "      <td>22:30</td>\n",
              "    </tr>\n",
              "  </tbody>\n",
              "</table>"
            ],
            "text/plain": [
              "<IPython.core.display.HTML object>"
            ]
          },
          "metadata": {
            "tags": []
          }
        }
      ]
    },
    {
      "cell_type": "code",
      "metadata": {
        "colab_type": "code",
        "outputId": "477cae97-7833-4ced-9113-aeef16024169",
        "id": "RUCS3A1yb35F",
        "colab": {
          "base_uri": "https://localhost:8080/",
          "height": 111
        }
      },
      "source": [
        "learn_cls.load('10train_char_cls_1')\n",
        "learn_cls.freeze_to(-2)\n",
        "learn_cls.fit_one_cycle(2 , slice(1e-2/(2.6**4),1e-2), moms=(0.8,0.7))\n",
        "learn_cls.save('10train_char_cls_2')"
      ],
      "execution_count": 0,
      "outputs": [
        {
          "output_type": "display_data",
          "data": {
            "text/html": [
              "<table border=\"1\" class=\"dataframe\">\n",
              "  <thead>\n",
              "    <tr style=\"text-align: left;\">\n",
              "      <th>epoch</th>\n",
              "      <th>train_loss</th>\n",
              "      <th>valid_loss</th>\n",
              "      <th>accuracy</th>\n",
              "      <th>time</th>\n",
              "    </tr>\n",
              "  </thead>\n",
              "  <tbody>\n",
              "    <tr>\n",
              "      <td>0</td>\n",
              "      <td>0.224496</td>\n",
              "      <td>0.097840</td>\n",
              "      <td>0.969831</td>\n",
              "      <td>23:37</td>\n",
              "    </tr>\n",
              "    <tr>\n",
              "      <td>1</td>\n",
              "      <td>0.160911</td>\n",
              "      <td>0.073415</td>\n",
              "      <td>0.980868</td>\n",
              "      <td>23:22</td>\n",
              "    </tr>\n",
              "  </tbody>\n",
              "</table>"
            ],
            "text/plain": [
              "<IPython.core.display.HTML object>"
            ]
          },
          "metadata": {
            "tags": []
          }
        }
      ]
    },
    {
      "cell_type": "code",
      "metadata": {
        "colab_type": "code",
        "outputId": "a4b479f3-d5fa-4efc-bcd7-9f749c917fd1",
        "id": "EUL9zx7mb35J",
        "colab": {
          "base_uri": "https://localhost:8080/",
          "height": 111
        }
      },
      "source": [
        "learn_cls.load('10train_char_cls_2')\n",
        "learn_cls.freeze_to(-3)\n",
        "learn_cls.fit_one_cycle(2, slice(5e-3/(2.6**4),5e-3), moms=(0.8,0.7))\n",
        "learn_cls.save('10train_char_cls_3')"
      ],
      "execution_count": 0,
      "outputs": [
        {
          "output_type": "display_data",
          "data": {
            "text/html": [
              "<table border=\"1\" class=\"dataframe\">\n",
              "  <thead>\n",
              "    <tr style=\"text-align: left;\">\n",
              "      <th>epoch</th>\n",
              "      <th>train_loss</th>\n",
              "      <th>valid_loss</th>\n",
              "      <th>accuracy</th>\n",
              "      <th>time</th>\n",
              "    </tr>\n",
              "  </thead>\n",
              "  <tbody>\n",
              "    <tr>\n",
              "      <td>0</td>\n",
              "      <td>0.101315</td>\n",
              "      <td>0.058229</td>\n",
              "      <td>0.981604</td>\n",
              "      <td>27:21</td>\n",
              "    </tr>\n",
              "    <tr>\n",
              "      <td>1</td>\n",
              "      <td>0.064108</td>\n",
              "      <td>0.056246</td>\n",
              "      <td>0.985283</td>\n",
              "      <td>27:44</td>\n",
              "    </tr>\n",
              "  </tbody>\n",
              "</table>"
            ],
            "text/plain": [
              "<IPython.core.display.HTML object>"
            ]
          },
          "metadata": {
            "tags": []
          }
        }
      ]
    },
    {
      "cell_type": "code",
      "metadata": {
        "colab_type": "code",
        "outputId": "33e690df-c594-41d1-f945-13bc9c0ea624",
        "id": "ki3-QY1Pb35O",
        "colab": {
          "base_uri": "https://localhost:8080/",
          "height": 173
        }
      },
      "source": [
        "learn_cls.load('10train_char_cls_3')\n",
        "learn_cls.unfreeze()\n",
        "learn_cls.fit_one_cycle(4, slice(1e-3/(2.6**4),1e-3), moms=(0.8,0.7))\n",
        "learn_cls.save('10train_char_cls_4')"
      ],
      "execution_count": 0,
      "outputs": [
        {
          "output_type": "display_data",
          "data": {
            "text/html": [
              "<table border=\"1\" class=\"dataframe\">\n",
              "  <thead>\n",
              "    <tr style=\"text-align: left;\">\n",
              "      <th>epoch</th>\n",
              "      <th>train_loss</th>\n",
              "      <th>valid_loss</th>\n",
              "      <th>accuracy</th>\n",
              "      <th>time</th>\n",
              "    </tr>\n",
              "  </thead>\n",
              "  <tbody>\n",
              "    <tr>\n",
              "      <td>0</td>\n",
              "      <td>0.058292</td>\n",
              "      <td>0.061653</td>\n",
              "      <td>0.984547</td>\n",
              "      <td>30:59</td>\n",
              "    </tr>\n",
              "    <tr>\n",
              "      <td>1</td>\n",
              "      <td>0.067886</td>\n",
              "      <td>0.061452</td>\n",
              "      <td>0.981604</td>\n",
              "      <td>30:50</td>\n",
              "    </tr>\n",
              "    <tr>\n",
              "      <td>2</td>\n",
              "      <td>0.046657</td>\n",
              "      <td>0.056042</td>\n",
              "      <td>0.981604</td>\n",
              "      <td>30:39</td>\n",
              "    </tr>\n",
              "    <tr>\n",
              "      <td>3</td>\n",
              "      <td>0.042963</td>\n",
              "      <td>0.050267</td>\n",
              "      <td>0.986755</td>\n",
              "      <td>31:05</td>\n",
              "    </tr>\n",
              "  </tbody>\n",
              "</table>"
            ],
            "text/plain": [
              "<IPython.core.display.HTML object>"
            ]
          },
          "metadata": {
            "tags": []
          }
        }
      ]
    },
    {
      "cell_type": "code",
      "metadata": {
        "colab_type": "code",
        "outputId": "acfd3692-e62c-42e8-b5fe-d842f4682569",
        "id": "tR8zFHlXb35U",
        "colab": {
          "base_uri": "https://localhost:8080/",
          "height": 105
        }
      },
      "source": [
        "preds,targ = testing(subsets/'10test.csv')"
      ],
      "execution_count": 0,
      "outputs": [
        {
          "output_type": "stream",
          "text": [
            "1700\n",
            "Accuracy: \n",
            "0.98\n",
            "[('shordindu', 'robindronath'), ('shordindu', 'robindronath'), ('shordindu', 'robindronath'), ('shordindu', 'robindronath'), ('shordindu', 'shunil_gongopaddhay'), ('shordindu', 'robindronath'), ('shordindu', 'shorotchandra'), ('shordindu', 'shorotchandra'), ('shordindu', 'robindronath'), ('shordindu', 'robindronath'), ('shottojit_roy', 'MZI'), ('shirshendu', 'robindronath'), ('shirshendu', 'shordindu'), ('shirshendu', 'robindronath'), ('toslima_nasrin', 'shunil_gongopaddhay'), ('MZI', 'humayun_ahmed'), ('MZI', 'humayun_ahmed'), ('MZI', 'humayun_ahmed'), ('shorotchandra', 'robindronath'), ('shorotchandra', 'shunil_gongopaddhay'), ('robindronath', 'shunil_gongopaddhay'), ('robindronath', 'shorotchandra'), ('robindronath', 'shorotchandra'), ('robindronath', 'shirshendu'), ('humayun_ahmed', 'MZI'), ('humayun_ahmed', 'MZI'), ('humayun_ahmed', 'MZI'), ('shomresh', 'shunil_gongopaddhay'), ('shunil_gongopaddhay', 'MZI'), ('shunil_gongopaddhay', 'shomresh'), ('shunil_gongopaddhay', 'shordindu'), ('shunil_gongopaddhay', 'humayun_ahmed'), ('shunil_gongopaddhay', 'shomresh'), ('shunil_gongopaddhay', 'shordindu')]\n"
          ],
          "name": "stdout"
        }
      ]
    },
    {
      "cell_type": "code",
      "metadata": {
        "colab_type": "code",
        "outputId": "7679f49b-317e-44d8-e5fc-6cc1ce89516c",
        "id": "tFRHdCStb35Z",
        "colab": {
          "base_uri": "https://localhost:8080/",
          "height": 34
        }
      },
      "source": [
        "from sklearn.metrics import f1_score\n",
        "out  = f1_score(targ, preds, average='macro') #'macro' , also == weighted cuz dataset is balanced\n",
        "out"
      ],
      "execution_count": 0,
      "outputs": [
        {
          "output_type": "execute_result",
          "data": {
            "text/plain": [
              "0.9800054945381698"
            ]
          },
          "metadata": {
            "tags": []
          },
          "execution_count": 19
        }
      ]
    },
    {
      "cell_type": "code",
      "metadata": {
        "id": "5Hf3F6X6WBYV",
        "colab_type": "code",
        "colab": {}
      },
      "source": [
        ""
      ],
      "execution_count": 0,
      "outputs": []
    },
    {
      "cell_type": "markdown",
      "metadata": {
        "colab_type": "text",
        "id": "haI4JY6bJJJ5"
      },
      "source": [
        "## 12 Authors"
      ]
    },
    {
      "cell_type": "markdown",
      "metadata": {
        "colab_type": "text",
        "id": "6u9_HdHGJJJ-"
      },
      "source": [
        "### FineTune LM"
      ]
    },
    {
      "cell_type": "code",
      "metadata": {
        "colab_type": "code",
        "id": "QH6-KRawJJKB",
        "colab": {}
      },
      "source": [
        "bs = 128\n",
        "data_lm = TextLMDataBunch.from_csv(subsets , '12train.csv', bs=bs , bptt=bptt,tokenizer=tokenizer, vocab=vocab)\n",
        "data_lm.save('12train_char_lm.pkl')"
      ],
      "execution_count": 0,
      "outputs": []
    },
    {
      "cell_type": "code",
      "metadata": {
        "colab_type": "code",
        "outputId": "51b08981-e881-4468-aba2-f3d3a70ff79e",
        "id": "hkQi4QRVJJKH",
        "colab": {
          "base_uri": "https://localhost:8080/",
          "height": 204
        }
      },
      "source": [
        "data_lm.show_batch()"
      ],
      "execution_count": 0,
      "outputs": [
        {
          "output_type": "display_data",
          "data": {
            "text/html": [
              "<table border=\"1\" class=\"dataframe\">\n",
              "  <thead>\n",
              "    <tr style=\"text-align: right;\">\n",
              "      <th>idx</th>\n",
              "      <th>text</th>\n",
              "    </tr>\n",
              "  </thead>\n",
              "  <tbody>\n",
              "    <tr>\n",
              "      <td>0</td>\n",
              "      <td>ন ে   স ত ্ য ে র   এ ই   প ্ র ত ্ য ক ্ ষ   প ্ র ক া শ   দ ে খ ত ে   আ ম া র   ভ া র ি   চ ম ৎ ক া র   ল া গ ছ ে xxunk</td>\n",
              "    </tr>\n",
              "    <tr>\n",
              "      <td>1</td>\n",
              "      <td>ে ম ি ত ে   প ৌ xxunk ছ ে   দ ি ত ে   প া র ল ে   অ ন ে ক   ক ি ছ ু   জ া ন া   য া ব ে xxunk   ক ্ য া প ্ ট ে ন   ব xxunk ্ ক ে ন</td>\n",
              "    </tr>\n",
              "    <tr>\n",
              "      <td>2</td>\n",
              "      <td>ম ু ক ু ল ি ত   য ে   দ ি ন   প া xxunk ড় ে   গ ো ষ ্ ঠ ী   প া ক া   ব া xxunk শ ে র   ল া ঠ ি   হ া ত ে   ক র ি য় া   দ ে ব ে</td>\n",
              "    </tr>\n",
              "    <tr>\n",
              "      <td>3</td>\n",
              "      <td>ত া হ া র   ম দ গ xxunk ্ ব ্ ব   ল া ঘ ব   ক র ি ত ে   হ ই ব ে ;   এ   ব ন ে র   অ ধ ী শ ্ ব র   ক ে   ত া হ া   জ া ন া ই</td>\n",
              "    </tr>\n",
              "    <tr>\n",
              "      <td>4</td>\n",
              "      <td>. ব ই ল া   ক ি   ট া ন ট া   দ ি ছ ে   দ ে খ xxunk   ক ম ল   দ া শ গ ু প ্ ত   য ে দ ি ন   ম া র া   গ ে ল ,   ত া র   ক</td>\n",
              "    </tr>\n",
              "  </tbody>\n",
              "</table>"
            ],
            "text/plain": [
              "<IPython.core.display.HTML object>"
            ]
          },
          "metadata": {
            "tags": []
          }
        }
      ]
    },
    {
      "cell_type": "code",
      "metadata": {
        "colab_type": "code",
        "id": "I2cN3CGVJJKP",
        "colab": {}
      },
      "source": [
        "learn = language_model_learner(data_lm, AWD_LSTM, pretrained=False, drop_mult=0.5)"
      ],
      "execution_count": 0,
      "outputs": []
    },
    {
      "cell_type": "code",
      "metadata": {
        "colab_type": "code",
        "outputId": "3a377128-0968-4fd4-c7bc-493134c0177a",
        "id": "0fIRBboZJJKU",
        "colab": {
          "base_uri": "https://localhost:8080/",
          "height": 300
        }
      },
      "source": [
        "learn.load(char/'models'/'news_char_3less_15');\n",
        "learn.lr_find()\n",
        "learn.recorder.plot()"
      ],
      "execution_count": 0,
      "outputs": [
        {
          "output_type": "display_data",
          "data": {
            "text/html": [
              ""
            ],
            "text/plain": [
              "<IPython.core.display.HTML object>"
            ]
          },
          "metadata": {
            "tags": []
          }
        },
        {
          "output_type": "stream",
          "text": [
            "LR Finder is complete, type {learner_name}.recorder.plot() to see the graph.\n"
          ],
          "name": "stdout"
        },
        {
          "output_type": "display_data",
          "data": {
            "image/png": "[encoded data removed]",
            "text/plain": [
              "<Figure size 432x288 with 1 Axes>"
            ]
          },
          "metadata": {
            "tags": []
          }
        }
      ]
    },
    {
      "cell_type": "code",
      "metadata": {
        "colab_type": "code",
        "outputId": "c6b74da1-9367-4034-f3e9-b4667c70d754",
        "id": "8Y11xhMJJJKZ",
        "colab": {
          "base_uri": "https://localhost:8080/",
          "height": 283
        }
      },
      "source": [
        "learn.recorder.plot(skip_end=15)"
      ],
      "execution_count": 0,
      "outputs": [
        {
          "output_type": "display_data",
          "data": {
            "image/png": "[encoded data removed]",
            "text/plain": [
              "<Figure size 432x288 with 1 Axes>"
            ]
          },
          "metadata": {
            "tags": []
          }
        }
      ]
    },
    {
      "cell_type": "code",
      "metadata": {
        "colab_type": "code",
        "outputId": "80b0f714-293b-4438-a69a-c84fd146ae5e",
        "id": "No0Q9JnlJJKg",
        "colab": {
          "base_uri": "https://localhost:8080/",
          "height": 111
        }
      },
      "source": [
        "learn.freeze()\n",
        "learn.fit_one_cycle(2, 1e-2)\n",
        "learn.save('12train_char_lm_head');"
      ],
      "execution_count": 0,
      "outputs": [
        {
          "output_type": "display_data",
          "data": {
            "text/html": [
              "<table border=\"1\" class=\"dataframe\">\n",
              "  <thead>\n",
              "    <tr style=\"text-align: left;\">\n",
              "      <th>epoch</th>\n",
              "      <th>train_loss</th>\n",
              "      <th>valid_loss</th>\n",
              "      <th>accuracy</th>\n",
              "      <th>time</th>\n",
              "    </tr>\n",
              "  </thead>\n",
              "  <tbody>\n",
              "    <tr>\n",
              "      <td>0</td>\n",
              "      <td>1.635156</td>\n",
              "      <td>1.595235</td>\n",
              "      <td>0.537414</td>\n",
              "      <td>18:51</td>\n",
              "    </tr>\n",
              "    <tr>\n",
              "      <td>1</td>\n",
              "      <td>1.649739</td>\n",
              "      <td>1.591151</td>\n",
              "      <td>0.538565</td>\n",
              "      <td>18:59</td>\n",
              "    </tr>\n",
              "  </tbody>\n",
              "</table>"
            ],
            "text/plain": [
              "<IPython.core.display.HTML object>"
            ]
          },
          "metadata": {
            "tags": []
          }
        }
      ]
    },
    {
      "cell_type": "code",
      "metadata": {
        "colab_type": "code",
        "outputId": "77d5f308-5830-4f4c-eb7a-980a236cfe73",
        "id": "sf2KHbI0JJKo",
        "colab": {
          "base_uri": "https://localhost:8080/",
          "height": 111
        }
      },
      "source": [
        "learn.freeze_to(-2)\n",
        "learn.fit_one_cycle(2, 1e-2)\n",
        "learn.save('12train_char_lm_body_1');"
      ],
      "execution_count": 0,
      "outputs": [
        {
          "output_type": "display_data",
          "data": {
            "text/html": [
              "<table border=\"1\" class=\"dataframe\">\n",
              "  <thead>\n",
              "    <tr style=\"text-align: left;\">\n",
              "      <th>epoch</th>\n",
              "      <th>train_loss</th>\n",
              "      <th>valid_loss</th>\n",
              "      <th>accuracy</th>\n",
              "      <th>time</th>\n",
              "    </tr>\n",
              "  </thead>\n",
              "  <tbody>\n",
              "    <tr>\n",
              "      <td>0</td>\n",
              "      <td>1.438243</td>\n",
              "      <td>1.392960</td>\n",
              "      <td>0.590414</td>\n",
              "      <td>19:46</td>\n",
              "    </tr>\n",
              "    <tr>\n",
              "      <td>1</td>\n",
              "      <td>1.386053</td>\n",
              "      <td>1.341903</td>\n",
              "      <td>0.604206</td>\n",
              "      <td>19:46</td>\n",
              "    </tr>\n",
              "  </tbody>\n",
              "</table>"
            ],
            "text/plain": [
              "<IPython.core.display.HTML object>"
            ]
          },
          "metadata": {
            "tags": []
          }
        }
      ]
    },
    {
      "cell_type": "code",
      "metadata": {
        "colab_type": "code",
        "outputId": "05e56b15-5d92-4ad2-f8ff-1027e88c6b60",
        "id": "vLS0Mk9EJJKw",
        "colab": {
          "base_uri": "https://localhost:8080/",
          "height": 111
        }
      },
      "source": [
        "learn.freeze_to(-3)\n",
        "learn.fit_one_cycle(2, 1e-2)\n",
        "learn.save('12train_char_lm_body_2');"
      ],
      "execution_count": 0,
      "outputs": [
        {
          "output_type": "display_data",
          "data": {
            "text/html": [
              "<table border=\"1\" class=\"dataframe\">\n",
              "  <thead>\n",
              "    <tr style=\"text-align: left;\">\n",
              "      <th>epoch</th>\n",
              "      <th>train_loss</th>\n",
              "      <th>valid_loss</th>\n",
              "      <th>accuracy</th>\n",
              "      <th>time</th>\n",
              "    </tr>\n",
              "  </thead>\n",
              "  <tbody>\n",
              "    <tr>\n",
              "      <td>0</td>\n",
              "      <td>1.381732</td>\n",
              "      <td>1.347448</td>\n",
              "      <td>0.602773</td>\n",
              "      <td>22:51</td>\n",
              "    </tr>\n",
              "    <tr>\n",
              "      <td>1</td>\n",
              "      <td>1.319099</td>\n",
              "      <td>1.285076</td>\n",
              "      <td>0.619810</td>\n",
              "      <td>22:50</td>\n",
              "    </tr>\n",
              "  </tbody>\n",
              "</table>"
            ],
            "text/plain": [
              "<IPython.core.display.HTML object>"
            ]
          },
          "metadata": {
            "tags": []
          }
        }
      ]
    },
    {
      "cell_type": "code",
      "metadata": {
        "colab_type": "code",
        "outputId": "66c79100-335f-4318-f1c8-2d25b622aa51",
        "id": "kSs0KcyZJJK0",
        "colab": {
          "base_uri": "https://localhost:8080/",
          "height": 173
        }
      },
      "source": [
        "learn.unfreeze()\n",
        "learn.fit_one_cycle(4, 1e-2)\n",
        "learn.save('12train_char_lm_body_3');"
      ],
      "execution_count": 0,
      "outputs": [
        {
          "output_type": "display_data",
          "data": {
            "text/html": [
              "<table border=\"1\" class=\"dataframe\">\n",
              "  <thead>\n",
              "    <tr style=\"text-align: left;\">\n",
              "      <th>epoch</th>\n",
              "      <th>train_loss</th>\n",
              "      <th>valid_loss</th>\n",
              "      <th>accuracy</th>\n",
              "      <th>time</th>\n",
              "    </tr>\n",
              "  </thead>\n",
              "  <tbody>\n",
              "    <tr>\n",
              "      <td>0</td>\n",
              "      <td>1.334381</td>\n",
              "      <td>1.320832</td>\n",
              "      <td>0.609920</td>\n",
              "      <td>25:11</td>\n",
              "    </tr>\n",
              "    <tr>\n",
              "      <td>1</td>\n",
              "      <td>1.338290</td>\n",
              "      <td>1.317780</td>\n",
              "      <td>0.610912</td>\n",
              "      <td>25:09</td>\n",
              "    </tr>\n",
              "    <tr>\n",
              "      <td>2</td>\n",
              "      <td>1.287565</td>\n",
              "      <td>1.268038</td>\n",
              "      <td>0.624613</td>\n",
              "      <td>25:12</td>\n",
              "    </tr>\n",
              "    <tr>\n",
              "      <td>3</td>\n",
              "      <td>1.245148</td>\n",
              "      <td>1.248339</td>\n",
              "      <td>0.630464</td>\n",
              "      <td>25:14</td>\n",
              "    </tr>\n",
              "  </tbody>\n",
              "</table>"
            ],
            "text/plain": [
              "<IPython.core.display.HTML object>"
            ]
          },
          "metadata": {
            "tags": []
          }
        }
      ]
    },
    {
      "cell_type": "code",
      "metadata": {
        "colab_type": "code",
        "outputId": "a366b77f-9332-4d36-ce28-48a9279d06d7",
        "id": "I511JsQDJJK4",
        "colab": {
          "base_uri": "https://localhost:8080/",
          "height": 173
        }
      },
      "source": [
        "learn.unfreeze()\n",
        "learn.fit_one_cycle(4, 1e-2)\n",
        "learn.save('12train_char_lm_body_4');"
      ],
      "execution_count": 0,
      "outputs": [
        {
          "output_type": "display_data",
          "data": {
            "text/html": [
              "<table border=\"1\" class=\"dataframe\">\n",
              "  <thead>\n",
              "    <tr style=\"text-align: left;\">\n",
              "      <th>epoch</th>\n",
              "      <th>train_loss</th>\n",
              "      <th>valid_loss</th>\n",
              "      <th>accuracy</th>\n",
              "      <th>time</th>\n",
              "    </tr>\n",
              "  </thead>\n",
              "  <tbody>\n",
              "    <tr>\n",
              "      <td>0</td>\n",
              "      <td>1.319310</td>\n",
              "      <td>1.302982</td>\n",
              "      <td>0.615525</td>\n",
              "      <td>25:17</td>\n",
              "    </tr>\n",
              "    <tr>\n",
              "      <td>1</td>\n",
              "      <td>1.324578</td>\n",
              "      <td>1.295786</td>\n",
              "      <td>0.617171</td>\n",
              "      <td>25:20</td>\n",
              "    </tr>\n",
              "    <tr>\n",
              "      <td>2</td>\n",
              "      <td>1.268480</td>\n",
              "      <td>1.252059</td>\n",
              "      <td>0.629230</td>\n",
              "      <td>25:13</td>\n",
              "    </tr>\n",
              "    <tr>\n",
              "      <td>3</td>\n",
              "      <td>1.216818</td>\n",
              "      <td>1.234498</td>\n",
              "      <td>0.634511</td>\n",
              "      <td>25:19</td>\n",
              "    </tr>\n",
              "  </tbody>\n",
              "</table>"
            ],
            "text/plain": [
              "<IPython.core.display.HTML object>"
            ]
          },
          "metadata": {
            "tags": []
          }
        }
      ]
    },
    {
      "cell_type": "code",
      "metadata": {
        "colab_type": "code",
        "id": "AGgDMlfBJJK7",
        "colab": {}
      },
      "source": [
        "learn.save_encoder('12train_char_lm_enc')"
      ],
      "execution_count": 0,
      "outputs": []
    },
    {
      "cell_type": "markdown",
      "metadata": {
        "colab_type": "text",
        "id": "YZfvYU4sJJLC"
      },
      "source": [
        "### Classification (OUR AA)"
      ]
    },
    {
      "cell_type": "code",
      "metadata": {
        "colab_type": "code",
        "id": "PpzrYclLJJLD",
        "colab": {}
      },
      "source": [
        "data_clas = TextClasDataBunch.from_csv(subsets , '12train.csv', vocab=vocab, bs=bs, tokenizer=tokenizer)\n",
        "data_clas.save('12train_char_clas.pkl')"
      ],
      "execution_count": 0,
      "outputs": []
    },
    {
      "cell_type": "code",
      "metadata": {
        "colab_type": "code",
        "outputId": "11a0cac5-51b2-49cc-907d-0b8367c8e302",
        "id": "1tEW8h89JJLJ",
        "colab": {
          "base_uri": "https://localhost:8080/",
          "height": 204
        }
      },
      "source": [
        "data_clas.show_batch()"
      ],
      "execution_count": 0,
      "outputs": [
        {
          "output_type": "display_data",
          "data": {
            "text/html": [
              "<table border=\"1\" class=\"dataframe\">\n",
              "  <thead>\n",
              "    <tr style=\"text-align: right;\">\n",
              "      <th>text</th>\n",
              "      <th>target</th>\n",
              "    </tr>\n",
              "  </thead>\n",
              "  <tbody>\n",
              "    <tr>\n",
              "      <td>xxbos x x b o s   এ ক   ন া প ি ত া ন ী   আ স ি ল xxunk   ন া প ি ত া ন ী   স ধ ব া ,   খ া ট ো   র া ঙ ্ গ া প ে ড় ে   স া ড় ী প র</td>\n",
              "      <td>bongkim</td>\n",
              "    </tr>\n",
              "    <tr>\n",
              "      <td>xxbos x x b o s   অ ঙ ্ গ ে   | | ”   ম ৃ ণ া ল ি ন ী   ক হ ি ল ে ন ,   “ গ ি র ি জ া য় া ,   এ   ক ো ন   অ প ্ র ে ম ি ক ে র</td>\n",
              "      <td>bongkim</td>\n",
              "    </tr>\n",
              "    <tr>\n",
              "      <td>xxbos x x b o s   গ ৃ হ ম ধ ্ য স ্ থ   এ ক   ব ্ য ক ্ ত ি   ব া হ ি র ে   আ স ি ল ে ন ,   এ ব xxunk   আ স ি য় া ই   ক প া ল ক ু ণ</td>\n",
              "      <td>bongkim</td>\n",
              "    </tr>\n",
              "    <tr>\n",
              "      <td>xxbos x x b o s   স প ্ ত ম   র া ত ্ র ে   ম ন ে   ক র ি ল ,   হ ৃ দ য় ম ধ ্ য ে   প দ ্ ম ফ ু ল   ফ ু ট ি য় া ছ ে xxunk ত া হ া ত ে</td>\n",
              "      <td>bongkim</td>\n",
              "    </tr>\n",
              "    <tr>\n",
              "      <td>xxbos x x b o s   চ া ই ,   য ে ন   ম ৃ ত ্ য ু ক া ল ে   স ্ ব া ম ী র   ম ু খ   দ ে খ ি য় া   ম র ি   | ”   ক ি ন ্ ত ু</td>\n",
              "      <td>bongkim</td>\n",
              "    </tr>\n",
              "  </tbody>\n",
              "</table>"
            ],
            "text/plain": [
              "<IPython.core.display.HTML object>"
            ]
          },
          "metadata": {
            "tags": []
          }
        }
      ]
    },
    {
      "cell_type": "code",
      "metadata": {
        "colab_type": "code",
        "id": "Lwipl5M3JJLM",
        "colab": {}
      },
      "source": [
        "data_clas = load_data(subsets, '12train_char_clas.pkl',bs=32)\n",
        "learn_cls = text_classifier_learner(data_clas, AWD_LSTM, drop_mult=0.5, pretrained=False)\n",
        "learn_cls.load_encoder('12train_char_lm_enc')"
      ],
      "execution_count": 0,
      "outputs": []
    },
    {
      "cell_type": "code",
      "metadata": {
        "colab_type": "code",
        "outputId": "969878e3-7c1f-4ad7-aef6-7c1bc718a6fe",
        "id": "Yo2TbTI9JJLS",
        "colab": {
          "base_uri": "https://localhost:8080/",
          "height": 300
        }
      },
      "source": [
        "learn_cls.freeze()\n",
        "learn_cls.lr_find()\n",
        "learn_cls.recorder.plot()"
      ],
      "execution_count": 0,
      "outputs": [
        {
          "output_type": "display_data",
          "data": {
            "text/html": [
              ""
            ],
            "text/plain": [
              "<IPython.core.display.HTML object>"
            ]
          },
          "metadata": {
            "tags": []
          }
        },
        {
          "output_type": "stream",
          "text": [
            "LR Finder is complete, type {learner_name}.recorder.plot() to see the graph.\n"
          ],
          "name": "stdout"
        },
        {
          "output_type": "display_data",
          "data": {
            "image/png": "[encoded data removed]",
            "text/plain": [
              "<Figure size 432x288 with 1 Axes>"
            ]
          },
          "metadata": {
            "tags": []
          }
        }
      ]
    },
    {
      "cell_type": "code",
      "metadata": {
        "colab_type": "code",
        "outputId": "50dd0a24-9375-430c-8fdd-cc2f82154221",
        "id": "wUVTOK4dJJLZ",
        "colab": {
          "base_uri": "https://localhost:8080/",
          "height": 111
        }
      },
      "source": [
        "learn_cls.fit_one_cycle(2, 1e-2, moms=(0.8,0.7))\n",
        "learn_cls.save('12train_char_cls_1')"
      ],
      "execution_count": 0,
      "outputs": [
        {
          "output_type": "display_data",
          "data": {
            "text/html": [
              "<table border=\"1\" class=\"dataframe\">\n",
              "  <thead>\n",
              "    <tr style=\"text-align: left;\">\n",
              "      <th>epoch</th>\n",
              "      <th>train_loss</th>\n",
              "      <th>valid_loss</th>\n",
              "      <th>accuracy</th>\n",
              "      <th>time</th>\n",
              "    </tr>\n",
              "  </thead>\n",
              "  <tbody>\n",
              "    <tr>\n",
              "      <td>0</td>\n",
              "      <td>0.817914</td>\n",
              "      <td>0.391729</td>\n",
              "      <td>0.854360</td>\n",
              "      <td>19:01</td>\n",
              "    </tr>\n",
              "    <tr>\n",
              "      <td>1</td>\n",
              "      <td>0.457052</td>\n",
              "      <td>0.187850</td>\n",
              "      <td>0.938776</td>\n",
              "      <td>18:51</td>\n",
              "    </tr>\n",
              "  </tbody>\n",
              "</table>"
            ],
            "text/plain": [
              "<IPython.core.display.HTML object>"
            ]
          },
          "metadata": {
            "tags": []
          }
        }
      ]
    },
    {
      "cell_type": "code",
      "metadata": {
        "colab_type": "code",
        "outputId": "2645a5ec-7e4c-4f0e-a45b-4444005d30b5",
        "id": "1fzeFa_wJJLc",
        "colab": {
          "base_uri": "https://localhost:8080/",
          "height": 111
        }
      },
      "source": [
        "learn_cls.load('12train_char_cls_1')\n",
        "learn_cls.freeze_to(-2)\n",
        "learn_cls.fit_one_cycle(2 , slice(1e-2/(2.6**4),1e-2), moms=(0.8,0.7))\n",
        "learn_cls.save('12train_char_cls_2')"
      ],
      "execution_count": 0,
      "outputs": [
        {
          "output_type": "display_data",
          "data": {
            "text/html": [
              "<table border=\"1\" class=\"dataframe\">\n",
              "  <thead>\n",
              "    <tr style=\"text-align: left;\">\n",
              "      <th>epoch</th>\n",
              "      <th>train_loss</th>\n",
              "      <th>valid_loss</th>\n",
              "      <th>accuracy</th>\n",
              "      <th>time</th>\n",
              "    </tr>\n",
              "  </thead>\n",
              "  <tbody>\n",
              "    <tr>\n",
              "      <td>0</td>\n",
              "      <td>0.422328</td>\n",
              "      <td>0.141211</td>\n",
              "      <td>0.944341</td>\n",
              "      <td>10:51</td>\n",
              "    </tr>\n",
              "    <tr>\n",
              "      <td>1</td>\n",
              "      <td>0.233633</td>\n",
              "      <td>0.095403</td>\n",
              "      <td>0.973098</td>\n",
              "      <td>11:18</td>\n",
              "    </tr>\n",
              "  </tbody>\n",
              "</table>"
            ],
            "text/plain": [
              "<IPython.core.display.HTML object>"
            ]
          },
          "metadata": {
            "tags": []
          }
        }
      ]
    },
    {
      "cell_type": "code",
      "metadata": {
        "colab_type": "code",
        "outputId": "806a1199-9eac-406c-a755-127ffdea94ab",
        "id": "H8x8iRCkJJLg",
        "colab": {
          "base_uri": "https://localhost:8080/",
          "height": 145
        }
      },
      "source": [
        "learn_cls.load('12train_char_cls_2')\n",
        "learn_cls.freeze_to(-3)\n",
        "learn_cls.fit_one_cycle(2, slice(5e-3/(2.6**4),5e-3), moms=(0.8,0.7))\n",
        "learn_cls.save('12train_char_cls_3')"
      ],
      "execution_count": 0,
      "outputs": [
        {
          "output_type": "stream",
          "text": [
            "/usr/local/lib/python3.6/dist-packages/fastai/basic_train.py:327: UserWarning: Wasn't able to properly load the optimizer state again.\n",
            "  except: warn(\"Wasn't able to properly load the optimizer state again.\")\n"
          ],
          "name": "stderr"
        },
        {
          "output_type": "display_data",
          "data": {
            "text/html": [
              "<table border=\"1\" class=\"dataframe\">\n",
              "  <thead>\n",
              "    <tr style=\"text-align: left;\">\n",
              "      <th>epoch</th>\n",
              "      <th>train_loss</th>\n",
              "      <th>valid_loss</th>\n",
              "      <th>accuracy</th>\n",
              "      <th>time</th>\n",
              "    </tr>\n",
              "  </thead>\n",
              "  <tbody>\n",
              "    <tr>\n",
              "      <td>0</td>\n",
              "      <td>0.186106</td>\n",
              "      <td>0.112630</td>\n",
              "      <td>0.964750</td>\n",
              "      <td>12:36</td>\n",
              "    </tr>\n",
              "    <tr>\n",
              "      <td>1</td>\n",
              "      <td>0.114736</td>\n",
              "      <td>0.070514</td>\n",
              "      <td>0.977737</td>\n",
              "      <td>12:42</td>\n",
              "    </tr>\n",
              "  </tbody>\n",
              "</table>"
            ],
            "text/plain": [
              "<IPython.core.display.HTML object>"
            ]
          },
          "metadata": {
            "tags": []
          }
        }
      ]
    },
    {
      "cell_type": "code",
      "metadata": {
        "colab_type": "code",
        "outputId": "f0b5d196-a4b3-4c58-ea77-4bf61a89ff72",
        "id": "s_Jl7U6lJJLl",
        "colab": {
          "base_uri": "https://localhost:8080/",
          "height": 173
        }
      },
      "source": [
        "learn_cls.load('12train_char_cls_3')\n",
        "learn_cls.unfreeze()\n",
        "learn_cls.fit_one_cycle(4, slice(1e-3/(2.6**4),1e-3), moms=(0.8,0.7))\n",
        "learn_cls.save('12train_char_cls_4')"
      ],
      "execution_count": 0,
      "outputs": [
        {
          "output_type": "display_data",
          "data": {
            "text/html": [
              "<table border=\"1\" class=\"dataframe\">\n",
              "  <thead>\n",
              "    <tr style=\"text-align: left;\">\n",
              "      <th>epoch</th>\n",
              "      <th>train_loss</th>\n",
              "      <th>valid_loss</th>\n",
              "      <th>accuracy</th>\n",
              "      <th>time</th>\n",
              "    </tr>\n",
              "  </thead>\n",
              "  <tbody>\n",
              "    <tr>\n",
              "      <td>0</td>\n",
              "      <td>0.089495</td>\n",
              "      <td>0.067024</td>\n",
              "      <td>0.974954</td>\n",
              "      <td>13:50</td>\n",
              "    </tr>\n",
              "    <tr>\n",
              "      <td>1</td>\n",
              "      <td>0.079154</td>\n",
              "      <td>0.057700</td>\n",
              "      <td>0.977737</td>\n",
              "      <td>13:49</td>\n",
              "    </tr>\n",
              "    <tr>\n",
              "      <td>2</td>\n",
              "      <td>0.083994</td>\n",
              "      <td>0.062330</td>\n",
              "      <td>0.976809</td>\n",
              "      <td>13:47</td>\n",
              "    </tr>\n",
              "    <tr>\n",
              "      <td>3</td>\n",
              "      <td>0.060479</td>\n",
              "      <td>0.055596</td>\n",
              "      <td>0.979592</td>\n",
              "      <td>13:46</td>\n",
              "    </tr>\n",
              "  </tbody>\n",
              "</table>"
            ],
            "text/plain": [
              "<IPython.core.display.HTML object>"
            ]
          },
          "metadata": {
            "tags": []
          }
        }
      ]
    },
    {
      "cell_type": "code",
      "metadata": {
        "colab_type": "code",
        "outputId": "1e3b46f2-3eef-4eae-c0d0-c3b79b8dbb35",
        "id": "BUgncrmkJJLo",
        "colab": {
          "base_uri": "https://localhost:8080/",
          "height": 105
        }
      },
      "source": [
        "preds,targ = testing(subsets/'12test.csv')"
      ],
      "execution_count": 0,
      "outputs": [
        {
          "output_type": "stream",
          "text": [
            "1356\n",
            "Accuracy: \n",
            "0.9837758112094396\n",
            "[('bongkim', 'shorotchandra'), ('tarashonkor', 'shorotchandra'), ('tarashonkor', 'shorotchandra'), ('tarashonkor', 'shorotchandra'), ('tarashonkor', 'toslima_nasrin'), ('tarashonkor', 'shorotchandra'), ('shordindu', 'bongkim'), ('shordindu', 'robindronath'), ('shordindu', 'robindronath'), ('shordindu', 'bongkim'), ('shottojit_roy', 'shordindu'), ('shirshendu', 'shomresh'), ('shirshendu', 'shordindu'), ('shirshendu', 'tarashonkor'), ('MZI', 'humayun_ahmed'), ('shorotchandra', 'bongkim'), ('shorotchandra', 'robindronath'), ('robindronath', 'shordindu'), ('robindronath', 'shunil_gongopaddhay'), ('humayun_ahmed', 'MZI'), ('shomresh', 'toslima_nasrin'), ('shunil_gongopaddhay', 'shomresh')]\n"
          ],
          "name": "stdout"
        }
      ]
    },
    {
      "cell_type": "code",
      "metadata": {
        "colab_type": "code",
        "outputId": "5fe4b41e-17f6-413c-965c-9626f788b3f6",
        "id": "jjSAN3s9JJLw",
        "colab": {
          "base_uri": "https://localhost:8080/",
          "height": 34
        }
      },
      "source": [
        "from sklearn.metrics import f1_score\n",
        "out  = f1_score(targ, preds, average='macro') #'macro' , also == weighted cuz dataset is balanced\n",
        "out"
      ],
      "execution_count": 0,
      "outputs": [
        {
          "output_type": "execute_result",
          "data": {
            "text/plain": [
              "0.9837741720200613"
            ]
          },
          "metadata": {
            "tags": []
          },
          "execution_count": 15
        }
      ]
    },
    {
      "cell_type": "markdown",
      "metadata": {
        "colab_type": "text",
        "id": "QsqTKv4RjXIO"
      },
      "source": [
        "## 14 Authors"
      ]
    },
    {
      "cell_type": "markdown",
      "metadata": {
        "colab_type": "text",
        "id": "gDdmAw0UjXIR"
      },
      "source": [
        "### FineTune LM"
      ]
    },
    {
      "cell_type": "code",
      "metadata": {
        "colab_type": "code",
        "id": "FEPKA-q3jXIT",
        "colab": {}
      },
      "source": [
        "bs = 128\n",
        "data_lm = TextLMDataBunch.from_csv(subsets , '14train.csv', bs=bs , bptt=bptt,tokenizer=tokenizer, vocab=vocab)\n",
        "data_lm.save('14train_char_lm.pkl')"
      ],
      "execution_count": 0,
      "outputs": []
    },
    {
      "cell_type": "code",
      "metadata": {
        "colab_type": "code",
        "outputId": "c555f46a-a09f-4bc6-8d53-df1fa7d474a6",
        "id": "rMqq61lhjXIY",
        "colab": {
          "base_uri": "https://localhost:8080/",
          "height": 204
        }
      },
      "source": [
        "data_lm.show_batch()"
      ],
      "execution_count": 0,
      "outputs": [
        {
          "output_type": "display_data",
          "data": {
            "text/html": [
              "<table border=\"1\" class=\"dataframe\">\n",
              "  <thead>\n",
              "    <tr style=\"text-align: right;\">\n",
              "      <th>idx</th>\n",
              "      <th>text</th>\n",
              "    </tr>\n",
              "  </thead>\n",
              "  <tbody>\n",
              "    <tr>\n",
              "      <td>0</td>\n",
              "      <td>ঠ ে   ব স া র   প র   ভ ি ড় ট া   প া ত ল া   হ চ ্ ছ ে xxunk   ক ে   এ ক জ ন   ত া র   হ া ত ে র   ও প র ে র   দ ি ক ট া</td>\n",
              "    </tr>\n",
              "    <tr>\n",
              "      <td>1</td>\n",
              "      <td>ছ ি ল xxunk   অ ফ ি স   থ ে ক ে   ব ে র ু ন ো র   স ম য়   স ে   চ ল ে   এ স ে ছ ি ল   ফ া ই ল প ত ্ র   ত ু ল ে   র া খ ত ে</td>\n",
              "    </tr>\n",
              "    <tr>\n",
              "      <td>2</td>\n",
              "      <td>ত া   ক ি ছ ু ই   ন য় xxunk   আ র   এ ট ু ক ু   প া চ ্ ছ ে ন   ব ল ে   ক ো ন ম ত ে   চ ল ে   য া চ ্ ছ ে xxunk   আ দ া য ় ী ক</td>\n",
              "    </tr>\n",
              "    <tr>\n",
              "      <td>3</td>\n",
              "      <td>হ ব ে xxunk   ক ে উ   ল জ ্ জ া য়   ভ য় ে   ঘ র   থ ে ক ে   ব ে র ো ত ে   প া র ছ ে   ন া xxunk   ত ো ম া র   ব ো ন ে র</td>\n",
              "    </tr>\n",
              "    <tr>\n",
              "      <td>4</td>\n",
              "      <td>ে ছ ি ল   xxunk   স ে ই   অ গ ্ ন ি র   দ ী প ্ ত ি   ল ক ্ ষ ্ য   ক র ি য় া   ন ব ক ু ম া র   স ে   স ্ থ ল ে   আ স ি ত ে</td>\n",
              "    </tr>\n",
              "  </tbody>\n",
              "</table>"
            ],
            "text/plain": [
              "<IPython.core.display.HTML object>"
            ]
          },
          "metadata": {
            "tags": []
          }
        }
      ]
    },
    {
      "cell_type": "code",
      "metadata": {
        "colab_type": "code",
        "id": "Oevjsq6_jXId",
        "colab": {}
      },
      "source": [
        "learn = language_model_learner(data_lm, AWD_LSTM, pretrained=False, drop_mult=0.5)"
      ],
      "execution_count": 0,
      "outputs": []
    },
    {
      "cell_type": "code",
      "metadata": {
        "colab_type": "code",
        "outputId": "e9f0e2b0-356d-4130-b38c-2d16362acb45",
        "id": "AKg8OxAljXIh",
        "colab": {
          "base_uri": "https://localhost:8080/",
          "height": 300
        }
      },
      "source": [
        "learn.load(char/'models'/'news_char_3less_15');\n",
        "learn.lr_find()\n",
        "learn.recorder.plot()"
      ],
      "execution_count": 0,
      "outputs": [
        {
          "output_type": "display_data",
          "data": {
            "text/html": [
              ""
            ],
            "text/plain": [
              "<IPython.core.display.HTML object>"
            ]
          },
          "metadata": {
            "tags": []
          }
        },
        {
          "output_type": "stream",
          "text": [
            "LR Finder is complete, type {learner_name}.recorder.plot() to see the graph.\n"
          ],
          "name": "stdout"
        },
        {
          "output_type": "display_data",
          "data": {
            "image/png": "[encoded data removed]",
            "text/plain": [
              "<Figure size 432x288 with 1 Axes>"
            ]
          },
          "metadata": {
            "tags": []
          }
        }
      ]
    },
    {
      "cell_type": "code",
      "metadata": {
        "colab_type": "code",
        "outputId": "adbb6538-0935-46f4-cc1f-aa22f703b0c2",
        "id": "IoC3tTe4jXIm",
        "colab": {
          "base_uri": "https://localhost:8080/",
          "height": 283
        }
      },
      "source": [
        "learn.recorder.plot(skip_end=15)"
      ],
      "execution_count": 0,
      "outputs": [
        {
          "output_type": "display_data",
          "data": {
            "image/png": "[encoded data removed]",
            "text/plain": [
              "<Figure size 432x288 with 1 Axes>"
            ]
          },
          "metadata": {
            "tags": []
          }
        }
      ]
    },
    {
      "cell_type": "code",
      "metadata": {
        "colab_type": "code",
        "outputId": "bf6070a1-b3d3-4739-e44f-f77cba22acf8",
        "id": "Ifv9p4qkjXIq",
        "colab": {
          "base_uri": "https://localhost:8080/",
          "height": 111
        }
      },
      "source": [
        "learn.freeze()\n",
        "learn.fit_one_cycle(2, 1e-2)\n",
        "learn.save('14train_char_lm_head');"
      ],
      "execution_count": 0,
      "outputs": [
        {
          "output_type": "display_data",
          "data": {
            "text/html": [
              "<table border=\"1\" class=\"dataframe\">\n",
              "  <thead>\n",
              "    <tr style=\"text-align: left;\">\n",
              "      <th>epoch</th>\n",
              "      <th>train_loss</th>\n",
              "      <th>valid_loss</th>\n",
              "      <th>accuracy</th>\n",
              "      <th>time</th>\n",
              "    </tr>\n",
              "  </thead>\n",
              "  <tbody>\n",
              "    <tr>\n",
              "      <td>0</td>\n",
              "      <td>1.649123</td>\n",
              "      <td>1.594492</td>\n",
              "      <td>0.536595</td>\n",
              "      <td>11:20</td>\n",
              "    </tr>\n",
              "    <tr>\n",
              "      <td>1</td>\n",
              "      <td>1.649455</td>\n",
              "      <td>1.589668</td>\n",
              "      <td>0.538085</td>\n",
              "      <td>11:19</td>\n",
              "    </tr>\n",
              "  </tbody>\n",
              "</table>"
            ],
            "text/plain": [
              "<IPython.core.display.HTML object>"
            ]
          },
          "metadata": {
            "tags": []
          }
        }
      ]
    },
    {
      "cell_type": "code",
      "metadata": {
        "colab_type": "code",
        "outputId": "7dc3d9cf-54a2-4e49-cd14-e41ca6976e56",
        "id": "vAr_5bDujXIw",
        "colab": {
          "base_uri": "https://localhost:8080/",
          "height": 111
        }
      },
      "source": [
        "learn.freeze_to(-2)\n",
        "learn.fit_one_cycle(2, 1e-2)\n",
        "learn.save('14train_char_lm_body_1');"
      ],
      "execution_count": 0,
      "outputs": [
        {
          "output_type": "display_data",
          "data": {
            "text/html": [
              "<table border=\"1\" class=\"dataframe\">\n",
              "  <thead>\n",
              "    <tr style=\"text-align: left;\">\n",
              "      <th>epoch</th>\n",
              "      <th>train_loss</th>\n",
              "      <th>valid_loss</th>\n",
              "      <th>accuracy</th>\n",
              "      <th>time</th>\n",
              "    </tr>\n",
              "  </thead>\n",
              "  <tbody>\n",
              "    <tr>\n",
              "      <td>0</td>\n",
              "      <td>1.435215</td>\n",
              "      <td>1.391187</td>\n",
              "      <td>0.590262</td>\n",
              "      <td>11:49</td>\n",
              "    </tr>\n",
              "    <tr>\n",
              "      <td>1</td>\n",
              "      <td>1.388128</td>\n",
              "      <td>1.340853</td>\n",
              "      <td>0.603799</td>\n",
              "      <td>11:50</td>\n",
              "    </tr>\n",
              "  </tbody>\n",
              "</table>"
            ],
            "text/plain": [
              "<IPython.core.display.HTML object>"
            ]
          },
          "metadata": {
            "tags": []
          }
        }
      ]
    },
    {
      "cell_type": "code",
      "metadata": {
        "colab_type": "code",
        "outputId": "4848344d-2dd9-4db7-e7c7-070e70ef6f90",
        "id": "eVNbMrfIjXI2",
        "colab": {
          "base_uri": "https://localhost:8080/",
          "height": 111
        }
      },
      "source": [
        "learn.freeze_to(-3)\n",
        "learn.fit_one_cycle(2, 1e-2)\n",
        "learn.save('14train_char_lm_body_2');"
      ],
      "execution_count": 0,
      "outputs": [
        {
          "output_type": "display_data",
          "data": {
            "text/html": [
              "<table border=\"1\" class=\"dataframe\">\n",
              "  <thead>\n",
              "    <tr style=\"text-align: left;\">\n",
              "      <th>epoch</th>\n",
              "      <th>train_loss</th>\n",
              "      <th>valid_loss</th>\n",
              "      <th>accuracy</th>\n",
              "      <th>time</th>\n",
              "    </tr>\n",
              "  </thead>\n",
              "  <tbody>\n",
              "    <tr>\n",
              "      <td>0</td>\n",
              "      <td>1.385299</td>\n",
              "      <td>1.349626</td>\n",
              "      <td>0.601543</td>\n",
              "      <td>13:31</td>\n",
              "    </tr>\n",
              "    <tr>\n",
              "      <td>1</td>\n",
              "      <td>1.313440</td>\n",
              "      <td>1.288924</td>\n",
              "      <td>0.617694</td>\n",
              "      <td>13:30</td>\n",
              "    </tr>\n",
              "  </tbody>\n",
              "</table>"
            ],
            "text/plain": [
              "<IPython.core.display.HTML object>"
            ]
          },
          "metadata": {
            "tags": []
          }
        }
      ]
    },
    {
      "cell_type": "code",
      "metadata": {
        "colab_type": "code",
        "outputId": "d9669222-7495-4937-ba05-beabba8cc3e7",
        "id": "VX1fTYeojXI6",
        "colab": {
          "base_uri": "https://localhost:8080/",
          "height": 173
        }
      },
      "source": [
        "learn.unfreeze()\n",
        "learn.fit_one_cycle(4, 1e-2)\n",
        "learn.save('14train_char_lm_body_3');"
      ],
      "execution_count": 0,
      "outputs": [
        {
          "output_type": "display_data",
          "data": {
            "text/html": [
              "<table border=\"1\" class=\"dataframe\">\n",
              "  <thead>\n",
              "    <tr style=\"text-align: left;\">\n",
              "      <th>epoch</th>\n",
              "      <th>train_loss</th>\n",
              "      <th>valid_loss</th>\n",
              "      <th>accuracy</th>\n",
              "      <th>time</th>\n",
              "    </tr>\n",
              "  </thead>\n",
              "  <tbody>\n",
              "    <tr>\n",
              "      <td>0</td>\n",
              "      <td>1.341819</td>\n",
              "      <td>1.330962</td>\n",
              "      <td>0.607174</td>\n",
              "      <td>14:46</td>\n",
              "    </tr>\n",
              "    <tr>\n",
              "      <td>1</td>\n",
              "      <td>1.346650</td>\n",
              "      <td>1.313944</td>\n",
              "      <td>0.611397</td>\n",
              "      <td>14:47</td>\n",
              "    </tr>\n",
              "    <tr>\n",
              "      <td>2</td>\n",
              "      <td>1.293897</td>\n",
              "      <td>1.269812</td>\n",
              "      <td>0.623438</td>\n",
              "      <td>14:45</td>\n",
              "    </tr>\n",
              "    <tr>\n",
              "      <td>3</td>\n",
              "      <td>1.257827</td>\n",
              "      <td>1.251193</td>\n",
              "      <td>0.628886</td>\n",
              "      <td>14:47</td>\n",
              "    </tr>\n",
              "  </tbody>\n",
              "</table>"
            ],
            "text/plain": [
              "<IPython.core.display.HTML object>"
            ]
          },
          "metadata": {
            "tags": []
          }
        }
      ]
    },
    {
      "cell_type": "code",
      "metadata": {
        "colab_type": "code",
        "outputId": "6ff9477a-8be3-4af3-ceb9-c86c594e8a92",
        "id": "tsLs5cA9jXJA",
        "colab": {
          "base_uri": "https://localhost:8080/",
          "height": 173
        }
      },
      "source": [
        "learn.unfreeze()\n",
        "learn.fit_one_cycle(4, 1e-2)\n",
        "learn.save('14train_char_lm_body_4');"
      ],
      "execution_count": 0,
      "outputs": [
        {
          "output_type": "display_data",
          "data": {
            "text/html": [
              "<table border=\"1\" class=\"dataframe\">\n",
              "  <thead>\n",
              "    <tr style=\"text-align: left;\">\n",
              "      <th>epoch</th>\n",
              "      <th>train_loss</th>\n",
              "      <th>valid_loss</th>\n",
              "      <th>accuracy</th>\n",
              "      <th>time</th>\n",
              "    </tr>\n",
              "  </thead>\n",
              "  <tbody>\n",
              "    <tr>\n",
              "      <td>0</td>\n",
              "      <td>1.310223</td>\n",
              "      <td>1.302918</td>\n",
              "      <td>0.615060</td>\n",
              "      <td>14:44</td>\n",
              "    </tr>\n",
              "    <tr>\n",
              "      <td>1</td>\n",
              "      <td>1.323492</td>\n",
              "      <td>1.299476</td>\n",
              "      <td>0.615460</td>\n",
              "      <td>14:46</td>\n",
              "    </tr>\n",
              "    <tr>\n",
              "      <td>2</td>\n",
              "      <td>1.281457</td>\n",
              "      <td>1.255930</td>\n",
              "      <td>0.627644</td>\n",
              "      <td>14:46</td>\n",
              "    </tr>\n",
              "    <tr>\n",
              "      <td>3</td>\n",
              "      <td>1.229305</td>\n",
              "      <td>1.238178</td>\n",
              "      <td>0.632738</td>\n",
              "      <td>14:47</td>\n",
              "    </tr>\n",
              "  </tbody>\n",
              "</table>"
            ],
            "text/plain": [
              "<IPython.core.display.HTML object>"
            ]
          },
          "metadata": {
            "tags": []
          }
        }
      ]
    },
    {
      "cell_type": "code",
      "metadata": {
        "colab_type": "code",
        "id": "Rbgc2ttJjXJG",
        "colab": {}
      },
      "source": [
        "learn.save_encoder('14train_char_lm_enc')"
      ],
      "execution_count": 0,
      "outputs": []
    },
    {
      "cell_type": "markdown",
      "metadata": {
        "colab_type": "text",
        "id": "W4bxTZ1KjXJL"
      },
      "source": [
        "### Classification (OUR AA)"
      ]
    },
    {
      "cell_type": "code",
      "metadata": {
        "colab_type": "code",
        "id": "1cK7wCccjXJP",
        "colab": {}
      },
      "source": [
        "data_clas = TextClasDataBunch.from_csv(subsets , '14train.csv', vocab=vocab, bs=bs, tokenizer=tokenizer)\n",
        "data_clas.save('14train_char_clas.pkl')"
      ],
      "execution_count": 0,
      "outputs": []
    },
    {
      "cell_type": "code",
      "metadata": {
        "colab_type": "code",
        "outputId": "77d78e61-9973-44e1-c6e6-d63fe1db2f2a",
        "id": "229bdaLRjXJT",
        "colab": {
          "base_uri": "https://localhost:8080/",
          "height": 204
        }
      },
      "source": [
        "data_clas.show_batch()"
      ],
      "execution_count": 0,
      "outputs": [
        {
          "output_type": "display_data",
          "data": {
            "text/html": [
              "<table border=\"1\" class=\"dataframe\">\n",
              "  <thead>\n",
              "    <tr style=\"text-align: right;\">\n",
              "      <th>text</th>\n",
              "      <th>target</th>\n",
              "    </tr>\n",
              "  </thead>\n",
              "  <tbody>\n",
              "    <tr>\n",
              "      <td>xxbos x x b o s   শ ো ব ে ন ? ”   শ ্ র ী শ চ ন ্ দ ্ র   ব ল ি ল ে ন ,   “ এ স ো ,   আ ম র া   স ব   প র ি ষ ্ ক া র   ক র ি</td>\n",
              "      <td>bongkim</td>\n",
              "    </tr>\n",
              "    <tr>\n",
              "      <td>xxbos x x b o s   গ ৃ হ ম ধ ্ য স ্ থ   এ ক   ব ্ য ক ্ ত ি   ব া হ ি র ে   আ স ি ল ে ন ,   এ ব xxunk   আ স ি য় া ই   ক প া ল ক ু ণ</td>\n",
              "      <td>bongkim</td>\n",
              "    </tr>\n",
              "    <tr>\n",
              "      <td>xxbos x x b o s   স ে ই   স ম য় ে   হ ই ব ে   | ”   ত খ ন   ন ি র ্ xxunk ম ল   ঔ র ঙ ্ গ জ ে ব ক ে   ত া হ া র   ক প ো ত   দ ে</td>\n",
              "      <td>bongkim</td>\n",
              "    </tr>\n",
              "    <tr>\n",
              "      <td>xxbos x x b o s   অ র ণ ্ য ম ধ ্ য ে   য ে   স হ চ র   প া ই য় া ছ ি ল ে ন ,   ত া হ া র   ভ ী ম ক া ন ্ ত ম য়   র ূ প ;   স ক</td>\n",
              "      <td>bongkim</td>\n",
              "    </tr>\n",
              "    <tr>\n",
              "      <td>xxbos x x b o s   স ্ থ া প ি ত   হ ই ল xxunk   শ ৈ ব ল ি ন ী   ত া হ া   প র ি ধ া ন   ক র ি য় া ,   প ূ র ্ ব ব স ্ ত ্ র   প র ি</td>\n",
              "      <td>bongkim</td>\n",
              "    </tr>\n",
              "  </tbody>\n",
              "</table>"
            ],
            "text/plain": [
              "<IPython.core.display.HTML object>"
            ]
          },
          "metadata": {
            "tags": []
          }
        }
      ]
    },
    {
      "cell_type": "code",
      "metadata": {
        "colab_type": "code",
        "id": "HKuUfQuijXJZ",
        "colab": {}
      },
      "source": [
        "data_clas = load_data(subsets, '14train_char_clas.pkl',bs=32)\n",
        "learn_cls = text_classifier_learner(data_clas, AWD_LSTM, drop_mult=0.5, pretrained=False)\n",
        "learn_cls.load_encoder('14train_char_lm_enc')"
      ],
      "execution_count": 0,
      "outputs": []
    },
    {
      "cell_type": "code",
      "metadata": {
        "colab_type": "code",
        "outputId": "522b93ec-6222-46be-de9f-973a6f3b8a2b",
        "id": "vySJw_66jXJf",
        "colab": {
          "base_uri": "https://localhost:8080/",
          "height": 300
        }
      },
      "source": [
        "learn_cls.freeze()\n",
        "learn_cls.lr_find()\n",
        "learn_cls.recorder.plot()"
      ],
      "execution_count": 0,
      "outputs": [
        {
          "output_type": "display_data",
          "data": {
            "text/html": [
              ""
            ],
            "text/plain": [
              "<IPython.core.display.HTML object>"
            ]
          },
          "metadata": {
            "tags": []
          }
        },
        {
          "output_type": "stream",
          "text": [
            "LR Finder is complete, type {learner_name}.recorder.plot() to see the graph.\n"
          ],
          "name": "stdout"
        },
        {
          "output_type": "display_data",
          "data": {
            "image/png": "[encoded data removed]",
            "text/plain": [
              "<Figure size 432x288 with 1 Axes>"
            ]
          },
          "metadata": {
            "tags": []
          }
        }
      ]
    },
    {
      "cell_type": "code",
      "metadata": {
        "colab_type": "code",
        "outputId": "8520095d-c79c-4459-fa66-daf7d3a9dde8",
        "id": "-ALVUYQDjXJl",
        "colab": {
          "base_uri": "https://localhost:8080/",
          "height": 111
        }
      },
      "source": [
        "learn_cls.fit_one_cycle(2, 1e-2, moms=(0.8,0.7))\n",
        "learn_cls.save('14train_char_cls_1')"
      ],
      "execution_count": 0,
      "outputs": [
        {
          "output_type": "display_data",
          "data": {
            "text/html": [
              "<table border=\"1\" class=\"dataframe\">\n",
              "  <thead>\n",
              "    <tr style=\"text-align: left;\">\n",
              "      <th>epoch</th>\n",
              "      <th>train_loss</th>\n",
              "      <th>valid_loss</th>\n",
              "      <th>accuracy</th>\n",
              "      <th>time</th>\n",
              "    </tr>\n",
              "  </thead>\n",
              "  <tbody>\n",
              "    <tr>\n",
              "      <td>0</td>\n",
              "      <td>0.990414</td>\n",
              "      <td>0.418464</td>\n",
              "      <td>0.870599</td>\n",
              "      <td>10:19</td>\n",
              "    </tr>\n",
              "    <tr>\n",
              "      <td>1</td>\n",
              "      <td>0.520574</td>\n",
              "      <td>0.293458</td>\n",
              "      <td>0.917222</td>\n",
              "      <td>10:20</td>\n",
              "    </tr>\n",
              "  </tbody>\n",
              "</table>"
            ],
            "text/plain": [
              "<IPython.core.display.HTML object>"
            ]
          },
          "metadata": {
            "tags": []
          }
        }
      ]
    },
    {
      "cell_type": "code",
      "metadata": {
        "colab_type": "code",
        "outputId": "f2b12cb0-5db5-4086-de9e-719153e81b6e",
        "id": "wUJkscI0jXJp",
        "colab": {
          "base_uri": "https://localhost:8080/",
          "height": 111
        }
      },
      "source": [
        "learn_cls.load('14train_char_cls_1')\n",
        "learn_cls.freeze_to(-2)\n",
        "learn_cls.fit_one_cycle(2 , slice(1e-2/(2.6**4),1e-2), moms=(0.8,0.7))\n",
        "learn_cls.save('14train_char_cls_2')"
      ],
      "execution_count": 0,
      "outputs": [
        {
          "output_type": "display_data",
          "data": {
            "text/html": [
              "<table border=\"1\" class=\"dataframe\">\n",
              "  <thead>\n",
              "    <tr style=\"text-align: left;\">\n",
              "      <th>epoch</th>\n",
              "      <th>train_loss</th>\n",
              "      <th>valid_loss</th>\n",
              "      <th>accuracy</th>\n",
              "      <th>time</th>\n",
              "    </tr>\n",
              "  </thead>\n",
              "  <tbody>\n",
              "    <tr>\n",
              "      <td>0</td>\n",
              "      <td>0.439532</td>\n",
              "      <td>0.214763</td>\n",
              "      <td>0.940057</td>\n",
              "      <td>10:41</td>\n",
              "    </tr>\n",
              "    <tr>\n",
              "      <td>1</td>\n",
              "      <td>0.231254</td>\n",
              "      <td>0.135720</td>\n",
              "      <td>0.966698</td>\n",
              "      <td>10:54</td>\n",
              "    </tr>\n",
              "  </tbody>\n",
              "</table>"
            ],
            "text/plain": [
              "<IPython.core.display.HTML object>"
            ]
          },
          "metadata": {
            "tags": []
          }
        }
      ]
    },
    {
      "cell_type": "code",
      "metadata": {
        "colab_type": "code",
        "outputId": "4fb23b9f-ad63-455a-c802-9f3c221f0d59",
        "id": "XBFa4KSPjXJt",
        "colab": {
          "base_uri": "https://localhost:8080/",
          "height": 111
        }
      },
      "source": [
        "learn_cls.load('14train_char_cls_2')\n",
        "learn_cls.freeze_to(-3)\n",
        "learn_cls.fit_one_cycle(2, slice(5e-3/(2.6**4),5e-3), moms=(0.8,0.7))\n",
        "learn_cls.save('14train_char_cls_3')"
      ],
      "execution_count": 0,
      "outputs": [
        {
          "output_type": "display_data",
          "data": {
            "text/html": [
              "<table border=\"1\" class=\"dataframe\">\n",
              "  <thead>\n",
              "    <tr style=\"text-align: left;\">\n",
              "      <th>epoch</th>\n",
              "      <th>train_loss</th>\n",
              "      <th>valid_loss</th>\n",
              "      <th>accuracy</th>\n",
              "      <th>time</th>\n",
              "    </tr>\n",
              "  </thead>\n",
              "  <tbody>\n",
              "    <tr>\n",
              "      <td>0</td>\n",
              "      <td>0.189440</td>\n",
              "      <td>0.159846</td>\n",
              "      <td>0.957184</td>\n",
              "      <td>12:20</td>\n",
              "    </tr>\n",
              "    <tr>\n",
              "      <td>1</td>\n",
              "      <td>0.117692</td>\n",
              "      <td>0.101852</td>\n",
              "      <td>0.968601</td>\n",
              "      <td>12:17</td>\n",
              "    </tr>\n",
              "  </tbody>\n",
              "</table>"
            ],
            "text/plain": [
              "<IPython.core.display.HTML object>"
            ]
          },
          "metadata": {
            "tags": []
          }
        }
      ]
    },
    {
      "cell_type": "code",
      "metadata": {
        "colab_type": "code",
        "outputId": "c62c8a69-5c69-41de-bf36-00762e5420d6",
        "id": "BZub3UcdjXJw",
        "colab": {
          "base_uri": "https://localhost:8080/",
          "height": 173
        }
      },
      "source": [
        "learn_cls.load('14train_char_cls_3')\n",
        "learn_cls.unfreeze()\n",
        "learn_cls.fit_one_cycle(4, slice(1e-3/(2.6**4),1e-3), moms=(0.8,0.7))\n",
        "learn_cls.save('14train_char_cls_4')"
      ],
      "execution_count": 0,
      "outputs": [
        {
          "output_type": "display_data",
          "data": {
            "text/html": [
              "<table border=\"1\" class=\"dataframe\">\n",
              "  <thead>\n",
              "    <tr style=\"text-align: left;\">\n",
              "      <th>epoch</th>\n",
              "      <th>train_loss</th>\n",
              "      <th>valid_loss</th>\n",
              "      <th>accuracy</th>\n",
              "      <th>time</th>\n",
              "    </tr>\n",
              "  </thead>\n",
              "  <tbody>\n",
              "    <tr>\n",
              "      <td>0</td>\n",
              "      <td>0.079050</td>\n",
              "      <td>0.103458</td>\n",
              "      <td>0.969553</td>\n",
              "      <td>13:36</td>\n",
              "    </tr>\n",
              "    <tr>\n",
              "      <td>1</td>\n",
              "      <td>0.079740</td>\n",
              "      <td>0.099765</td>\n",
              "      <td>0.969553</td>\n",
              "      <td>13:32</td>\n",
              "    </tr>\n",
              "    <tr>\n",
              "      <td>2</td>\n",
              "      <td>0.079955</td>\n",
              "      <td>0.097069</td>\n",
              "      <td>0.972407</td>\n",
              "      <td>13:25</td>\n",
              "    </tr>\n",
              "    <tr>\n",
              "      <td>3</td>\n",
              "      <td>0.070009</td>\n",
              "      <td>0.098586</td>\n",
              "      <td>0.976213</td>\n",
              "      <td>13:32</td>\n",
              "    </tr>\n",
              "  </tbody>\n",
              "</table>"
            ],
            "text/plain": [
              "<IPython.core.display.HTML object>"
            ]
          },
          "metadata": {
            "tags": []
          }
        }
      ]
    },
    {
      "cell_type": "code",
      "metadata": {
        "colab_type": "code",
        "outputId": "6467edbc-0165-489e-8913-e512feba9a6f",
        "id": "q6XRIwwqjXJ0",
        "colab": {
          "base_uri": "https://localhost:8080/",
          "height": 105
        }
      },
      "source": [
        "preds,targ = testing(subsets/'14test.csv')"
      ],
      "execution_count": 0,
      "outputs": [
        {
          "output_type": "stream",
          "text": [
            "1316\n",
            "Accuracy: \n",
            "0.9726443768996961\n",
            "[('manik_bandhopaddhay', 'shunil_gongopaddhay'), ('manik_bandhopaddhay', 'tarashonkor'), ('manik_bandhopaddhay', 'tarashonkor'), ('manik_bandhopaddhay', 'shorotchandra'), ('nihar_ronjon_gupta', 'shunil_gongopaddhay'), ('tarashonkor', 'shorotchandra'), ('tarashonkor', 'shorotchandra'), ('tarashonkor', 'shorotchandra'), ('tarashonkor', 'shunil_gongopaddhay'), ('tarashonkor', 'shottojit_roy'), ('tarashonkor', 'shorotchandra'), ('shordindu', 'bongkim'), ('shordindu', 'bongkim'), ('shordindu', 'bongkim'), ('shirshendu', 'shordindu'), ('shirshendu', 'shomresh'), ('shirshendu', 'shomresh'), ('shirshendu', 'tarashonkor'), ('shirshendu', 'shomresh'), ('shirshendu', 'shomresh'), ('shirshendu', 'MZI'), ('shirshendu', 'shunil_gongopaddhay'), ('shirshendu', 'nihar_ronjon_gupta'), ('shirshendu', 'shomresh'), ('shirshendu', 'shordindu'), ('toslima_nasrin', 'shirshendu'), ('shorotchandra', 'bongkim'), ('shorotchandra', 'tarashonkor'), ('shorotchandra', 'robindronath'), ('robindronath', 'shorotchandra'), ('robindronath', 'shunil_gongopaddhay'), ('shomresh', 'shottojit_roy'), ('shunil_gongopaddhay', 'robindronath'), ('shunil_gongopaddhay', 'tarashonkor'), ('shunil_gongopaddhay', 'toslima_nasrin'), ('shunil_gongopaddhay', 'toslima_nasrin')]\n"
          ],
          "name": "stdout"
        }
      ]
    },
    {
      "cell_type": "code",
      "metadata": {
        "colab_type": "code",
        "outputId": "4132557f-74dd-4844-d24a-fc2d0e7f0aea",
        "id": "uQ0i8VTnjXJ3",
        "colab": {
          "base_uri": "https://localhost:8080/",
          "height": 34
        }
      },
      "source": [
        "from sklearn.metrics import f1_score\n",
        "out  = f1_score(targ, preds, average='macro') #'macro' , also == weighted cuz dataset is balanced\n",
        "out"
      ],
      "execution_count": 0,
      "outputs": [
        {
          "output_type": "execute_result",
          "data": {
            "text/plain": [
              "0.9724896865379193"
            ]
          },
          "metadata": {
            "tags": []
          },
          "execution_count": 36
        }
      ]
    },
    {
      "cell_type": "code",
      "metadata": {
        "id": "kvYfaz6V8rm5",
        "colab_type": "code",
        "colab": {}
      },
      "source": [
        ""
      ],
      "execution_count": 0,
      "outputs": []
    }
  ]
}