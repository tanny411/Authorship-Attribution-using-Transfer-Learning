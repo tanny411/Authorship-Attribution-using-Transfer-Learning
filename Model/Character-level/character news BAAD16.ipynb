{
 "cells": [
  {
   "cell_type": "code",
   "execution_count": 1,
   "metadata": {
    "colab": {
     "base_uri": "https://localhost:8080/",
     "height": 125
    },
    "colab_type": "code",
    "id": "PoGx0I-iyi4b",
    "outputId": "8c65ab93-f51a-4351-d687-b6da8fd859eb"
   },
   "outputs": [
    {
     "name": "stdout",
     "output_type": "stream",
     "text": [
      "Go to this URL in a browser: https://accounts.google.com/o/oauth2/auth?client_id=947318989803-6bn6qk8qdgf4n4g3pfee6491hc0brc4i.apps.googleusercontent.com&redirect_uri=urn%3Aietf%3Awg%3Aoauth%3A2.0%3Aoob&scope=email%20https%3A%2F%2Fwww.googleapis.com%2Fauth%2Fdocs.test%20https%3A%2F%2Fwww.googleapis.com%2Fauth%2Fdrive%20https%3A%2F%2Fwww.googleapis.com%2Fauth%2Fdrive.photos.readonly%20https%3A%2F%2Fwww.googleapis.com%2Fauth%2Fpeopleapi.readonly&response_type=code\n",
      "\n",
      "Enter your authorization code:\n",
      "··········\n",
      "Mounted at /content/gdrive\n"
     ]
    }
   ],
   "source": [
    "from google.colab import drive\n",
    "drive.mount('/content/gdrive')"
   ]
  },
  {
   "cell_type": "code",
   "execution_count": null,
   "metadata": {
    "colab": {
     "base_uri": "https://localhost:8080/",
     "height": 870
    },
    "colab_type": "code",
    "id": "awjDboOLxjbL",
    "outputId": "8c3eed9b-a394-401e-9d3e-9a0710cf5215"
   },
   "outputs": [],
   "source": [
    "!pip install fastai==1.0.52\n",
    "from fastai.text import *"
   ]
  },
  {
   "cell_type": "code",
   "execution_count": 0,
   "metadata": {
    "colab": {},
    "colab_type": "code",
    "id": "Vx8ecL3hylAz"
   },
   "outputs": [],
   "source": [
    "import os\n",
    "path = Path(os.getcwd())\n",
    "path = path/'gdrive'/'My Drive'\n",
    "news=path/'Thesis Data'/'full doc csv'\n",
    "aa=path/'Thesis Data'/'Our dataset'\n",
    "aa2=path/'Thesis Data'/'AA dataset'\n",
    "char=path/'Thesis Data'/'char-ulm'"
   ]
  },
  {
   "cell_type": "markdown",
   "metadata": {
    "colab_type": "text",
    "id": "DIGhnxGVz-zu"
   },
   "source": [
    "### LM"
   ]
  },
  {
   "cell_type": "code",
   "execution_count": 0,
   "metadata": {
    "colab": {},
    "colab_type": "code",
    "id": "jMZqYUDmzzzk"
   },
   "outputs": [],
   "source": [
    "bs = 32\n",
    "bptt = 70\n",
    "vocab = \" !\\\"#$%&'()*+,-./0123456789:;=<>?@ABCDEFGHIJKLMNOPQRSTUVWXYZ[]^_`abcdefghijklmnopqrstuvwxyz{|}~¥§©±ঃঅআইঈউঊঋএঐওঔকখগঘঙচছজঝঞটঠডঢণতথদধনপফবভমযরলশষসহ়ািীুূৃেৈোৌ্ৎৗড়ঢ়য়০১২৩৪৫৬৭৮৯৷‘’‚“”‪™−√∝∞\""
   ]
  },
  {
   "cell_type": "code",
   "execution_count": 0,
   "metadata": {
    "colab": {},
    "colab_type": "code",
    "id": "6Vh5WbYHf49A"
   },
   "outputs": [],
   "source": [
    "class NewTokenizer(BaseTokenizer):\n",
    "    def tokenizer(self,t):\n",
    "      return [BOS]+[i for i in t]"
   ]
  },
  {
   "cell_type": "code",
   "execution_count": 0,
   "metadata": {
    "colab": {},
    "colab_type": "code",
    "id": "ap0pyCjI9QPs"
   },
   "outputs": [],
   "source": [
    "itos = [UNK, PAD, BOS, EOS, FLD, TK_REP, TK_WREP] + [i for i in vocab]"
   ]
  },
  {
   "cell_type": "code",
   "execution_count": 7,
   "metadata": {
    "colab": {
     "base_uri": "https://localhost:8080/",
     "height": 34
    },
    "colab_type": "code",
    "id": "dx2I-aG4gc93",
    "outputId": "f909ad06-90ec-4b8f-8854-6546ad03f70c"
   },
   "outputs": [
    {
     "data": {
      "text/plain": [
       "188"
      ]
     },
     "execution_count": 7,
     "metadata": {
      "tags": []
     },
     "output_type": "execute_result"
    }
   ],
   "source": [
    "len(itos)"
   ]
  },
  {
   "cell_type": "code",
   "execution_count": 0,
   "metadata": {
    "colab": {},
    "colab_type": "code",
    "id": "lAPdTDL_9cZc"
   },
   "outputs": [],
   "source": [
    "vocab=Vocab(itos)\n",
    "tokenizer=Tokenizer(NewTokenizer, pre_rules=[], post_rules=[])"
   ]
  },
  {
   "cell_type": "markdown",
   "metadata": {
    "colab_type": "text",
    "id": "Fpm1OeIdfwn9"
   },
   "source": [
    "## BAAD16"
   ]
  },
  {
   "cell_type": "markdown",
   "metadata": {
    "colab_type": "text",
    "id": "bnT8JAN_TsO0"
   },
   "source": [
    "### LM fine tuning"
   ]
  },
  {
   "cell_type": "code",
   "execution_count": 0,
   "metadata": {
    "colab": {},
    "colab_type": "code",
    "id": "7fkRp0PGZ509"
   },
   "outputs": [],
   "source": [
    "data_lm_AA = TextLMDataBunch.from_csv(aa , 'OurDataset_train.csv', vocab=vocab, bs=bs, tokenizer=tokenizer)\n",
    "data_lm_AA.save('train_AA_char_lm.pkl')"
   ]
  },
  {
   "cell_type": "code",
   "execution_count": 0,
   "metadata": {
    "colab": {},
    "colab_type": "code",
    "id": "hrm024Q-aXNK"
   },
   "outputs": [],
   "source": [
    "data_lm_AA = load_data(aa, 'train_AA_char_lm.pkl',bs=bs)"
   ]
  },
  {
   "cell_type": "code",
   "execution_count": 0,
   "metadata": {
    "colab": {
     "base_uri": "https://localhost:8080/",
     "height": 197
    },
    "colab_type": "code",
    "id": "sNELRZ4cUt9A",
    "outputId": "2cc24211-a181-48e0-eb4e-08801eac0003"
   },
   "outputs": [
    {
     "data": {
      "text/html": [
       "<table border=\"1\" class=\"dataframe\">\n",
       "  <thead>\n",
       "    <tr style=\"text-align: right;\">\n",
       "      <th>idx</th>\n",
       "      <th>text</th>\n",
       "    </tr>\n",
       "  </thead>\n",
       "  <tbody>\n",
       "    <tr>\n",
       "      <td>0</td>\n",
       "      <td>চ া   খ া ব ি ?   শ া ম া   ব ল ল ,   হ ্ য া xxunk xxunk   আ য়   ত ো র   ব া ব া র   স ঙ ্ গ ে   চ া   খ া xxunk   ত ো র   ব া</td>\n",
       "    </tr>\n",
       "    <tr>\n",
       "      <td>1</td>\n",
       "      <td>য় xxunk   ন দ ী র   ঘ া ট   থ ে ক ে ও xxunk   ত ু ম ি   য া ও xxunk   আ ম ি   ব ল ি ল া ম ,   ত ো ম া ক ে   ন ি য় ে ই   য া ব xxunk</td>\n",
       "    </tr>\n",
       "    <tr>\n",
       "      <td>2</td>\n",
       "      <td>ব ি দ ঘ ু ট ে   চ ে হ া র া ,   ক ি ন ্ ত ু   ক ী xxunk ব া হ া র ে র   স া জ   প র ি য ় ে ছ ে   ত া দ ে র xxunk   হ া ত ি র   প ি</td>\n",
       "    </tr>\n",
       "    <tr>\n",
       "      <td>3</td>\n",
       "      <td>ক ি   আ জ ও   ব ু ঝ ত ে   প া র ন ি !   দ ে ব দ া স   দ ে য় া ল ে র   দ ি ক ে   চ া হ ি য় া   ছ ি ল xxunk   স ে ই   দ ি</td>\n",
       "    </tr>\n",
       "    <tr>\n",
       "      <td>4</td>\n",
       "      <td>আ ম া র   ভ া ড় া   ন া ক ি   ম া ফ xxunk   অ ন ্ য   এ ক   ক ্ র ু দ ্ ধ   য া ত ্ র ী   ব ল ল ,   হ া র া ম জ া দ া র ে</td>\n",
       "    </tr>\n",
       "  </tbody>\n",
       "</table>"
      ],
      "text/plain": [
       "<IPython.core.display.HTML object>"
      ]
     },
     "metadata": {
      "tags": []
     },
     "output_type": "display_data"
    }
   ],
   "source": [
    "data_lm_AA.show_batch()"
   ]
  },
  {
   "cell_type": "code",
   "execution_count": 0,
   "metadata": {
    "colab": {},
    "colab_type": "code",
    "id": "IwWpgtFVUxGE"
   },
   "outputs": [],
   "source": [
    "learn = language_model_learner(data_lm_AA, AWD_LSTM, pretrained=False, drop_mult=0.5)"
   ]
  },
  {
   "cell_type": "code",
   "execution_count": 0,
   "metadata": {
    "colab": {
     "base_uri": "https://localhost:8080/",
     "height": 300
    },
    "colab_type": "code",
    "id": "1u91sdvlF3Xa",
    "outputId": "74fa2f47-e160-4094-b755-b03588f5aeae"
   },
   "outputs": [
    {
     "data": {
      "text/html": [],
      "text/plain": [
       "<IPython.core.display.HTML object>"
      ]
     },
     "metadata": {
      "tags": []
     },
     "output_type": "display_data"
    },
    {
     "name": "stdout",
     "output_type": "stream",
     "text": [
      "LR Finder is complete, type {learner_name}.recorder.plot() to see the graph.\n"
     ]
    },
    {
     "data": {
      "image/png": "[encoded data removed]",
      "text/plain": [
       "<Figure size 432x288 with 1 Axes>"
      ]
     },
     "metadata": {
      "tags": []
     },
     "output_type": "display_data"
    }
   ],
   "source": [
    "learn.lr_find();\n",
    "learn.recorder.plot();\n",
    "plt.savefig('clr_char.eps')"
   ]
  },
  {
   "cell_type": "code",
   "execution_count": 0,
   "metadata": {
    "colab": {
     "base_uri": "https://localhost:8080/",
     "height": 282
    },
    "colab_type": "code",
    "id": "d8qFL4-HF7C-",
    "outputId": "ee188421-d89b-4773-d7b7-4c80a77f5ee1"
   },
   "outputs": [
    {
     "data": {
      "image/png": "[encoded data removed]",
      "text/plain": [
       "<Figure size 432x288 with 1 Axes>"
      ]
     },
     "metadata": {
      "tags": []
     },
     "output_type": "display_data"
    }
   ],
   "source": [
    "learn.recorder.plot(skip_end=10);\n",
    "plt.savefig('clr_char_skipend.eps')"
   ]
  },
  {
   "cell_type": "code",
   "execution_count": 0,
   "metadata": {
    "colab": {},
    "colab_type": "code",
    "id": "R38kMPyjU1yS"
   },
   "outputs": [],
   "source": [
    "learn.load(char/'models'/'news_char_3less_15');"
   ]
  },
  {
   "cell_type": "code",
   "execution_count": 0,
   "metadata": {
    "colab": {
     "base_uri": "https://localhost:8080/",
     "height": 301
    },
    "colab_type": "code",
    "id": "8DdhLzfLVLQ4",
    "outputId": "1c2650a5-ff31-4ed9-c784-879d03e9207e"
   },
   "outputs": [
    {
     "data": {
      "text/html": [],
      "text/plain": [
       "<IPython.core.display.HTML object>"
      ]
     },
     "metadata": {
      "tags": []
     },
     "output_type": "display_data"
    },
    {
     "name": "stdout",
     "output_type": "stream",
     "text": [
      "LR Finder is complete, type {learner_name}.recorder.plot() to see the graph.\n"
     ]
    },
    {
     "data": {
      "image/png": "[encoded data removed]",
      "text/plain": [
       "<Figure size 432x288 with 1 Axes>"
      ]
     },
     "metadata": {
      "tags": []
     },
     "output_type": "display_data"
    }
   ],
   "source": [
    "learn.lr_find();\n",
    "learn.recorder.plot();\n",
    "plt.savefig('clr_char_lmAA.eps')"
   ]
  },
  {
   "cell_type": "code",
   "execution_count": 0,
   "metadata": {
    "colab": {
     "base_uri": "https://localhost:8080/",
     "height": 282
    },
    "colab_type": "code",
    "id": "Qpn7gRt3VQhk",
    "outputId": "bce3f439-c783-47f2-d30b-0bd5988dbcfe"
   },
   "outputs": [
    {
     "data": {
      "image/png": "[encoded data removed]",
      "text/plain": [
       "<Figure size 432x288 with 1 Axes>"
      ]
     },
     "metadata": {
      "tags": []
     },
     "output_type": "display_data"
    }
   ],
   "source": [
    "learn.recorder.plot(skip_end=10);\n",
    "plt.savefig('clr_char_lmAA_skipend.eps')"
   ]
  },
  {
   "cell_type": "code",
   "execution_count": 0,
   "metadata": {
    "colab": {
     "base_uri": "https://localhost:8080/",
     "height": 107
    },
    "colab_type": "code",
    "id": "Uy_1Ne4sldOH",
    "outputId": "1aa9f73f-85d1-4e87-d3b5-5d89a54c8f4c"
   },
   "outputs": [
    {
     "data": {
      "text/html": [
       "<table border=\"1\" class=\"dataframe\">\n",
       "  <thead>\n",
       "    <tr style=\"text-align: left;\">\n",
       "      <th>epoch</th>\n",
       "      <th>train_loss</th>\n",
       "      <th>valid_loss</th>\n",
       "      <th>accuracy</th>\n",
       "      <th>time</th>\n",
       "    </tr>\n",
       "  </thead>\n",
       "  <tbody>\n",
       "    <tr>\n",
       "      <td>0</td>\n",
       "      <td>1.598837</td>\n",
       "      <td>1.568035</td>\n",
       "      <td>0.544921</td>\n",
       "      <td>1:30:35</td>\n",
       "    </tr>\n",
       "    <tr>\n",
       "      <td>1</td>\n",
       "      <td>1.599282</td>\n",
       "      <td>1.560101</td>\n",
       "      <td>0.546612</td>\n",
       "      <td>1:30:43</td>\n",
       "    </tr>\n",
       "  </tbody>\n",
       "</table>"
      ],
      "text/plain": [
       "<IPython.core.display.HTML object>"
      ]
     },
     "metadata": {
      "tags": []
     },
     "output_type": "display_data"
    }
   ],
   "source": [
    "learn.freeze()\n",
    "learn.fit_one_cycle(2, 1e-2)\n",
    "learn.save('AA_char_lm_head');"
   ]
  },
  {
   "cell_type": "code",
   "execution_count": 0,
   "metadata": {
    "colab": {
     "base_uri": "https://localhost:8080/",
     "height": 77
    },
    "colab_type": "code",
    "id": "BDKi2SkQlpYo",
    "outputId": "a4e5831e-5071-462a-a811-086477d74360"
   },
   "outputs": [
    {
     "data": {
      "text/html": [
       "<table border=\"1\" class=\"dataframe\">\n",
       "  <thead>\n",
       "    <tr style=\"text-align: left;\">\n",
       "      <th>epoch</th>\n",
       "      <th>train_loss</th>\n",
       "      <th>valid_loss</th>\n",
       "      <th>accuracy</th>\n",
       "      <th>time</th>\n",
       "    </tr>\n",
       "  </thead>\n",
       "  <tbody>\n",
       "    <tr>\n",
       "      <td>0</td>\n",
       "      <td>1.379611</td>\n",
       "      <td>1.313879</td>\n",
       "      <td>0.611549</td>\n",
       "      <td>1:35:13</td>\n",
       "    </tr>\n",
       "  </tbody>\n",
       "</table>"
      ],
      "text/plain": [
       "<IPython.core.display.HTML object>"
      ]
     },
     "metadata": {
      "tags": []
     },
     "output_type": "display_data"
    }
   ],
   "source": [
    "learn.load('AA_char_lm_head');\n",
    "learn.freeze_to(-2)\n",
    "learn.fit_one_cycle(1, 1e-2)\n",
    "learn.save('AA_char_lm_body_1');"
   ]
  },
  {
   "cell_type": "code",
   "execution_count": 0,
   "metadata": {
    "colab": {
     "base_uri": "https://localhost:8080/",
     "height": 80
    },
    "colab_type": "code",
    "id": "BXC10xApLo7f",
    "outputId": "b108faf8-4daf-452f-a5b2-78683cee3694"
   },
   "outputs": [
    {
     "data": {
      "text/html": [
       "<table border=\"1\" class=\"dataframe\">\n",
       "  <thead>\n",
       "    <tr style=\"text-align: left;\">\n",
       "      <th>epoch</th>\n",
       "      <th>train_loss</th>\n",
       "      <th>valid_loss</th>\n",
       "      <th>accuracy</th>\n",
       "      <th>time</th>\n",
       "    </tr>\n",
       "  </thead>\n",
       "  <tbody>\n",
       "    <tr>\n",
       "      <td>0</td>\n",
       "      <td>1.365400</td>\n",
       "      <td>1.304870</td>\n",
       "      <td>0.614134</td>\n",
       "      <td>48:49</td>\n",
       "    </tr>\n",
       "  </tbody>\n",
       "</table>"
      ],
      "text/plain": [
       "<IPython.core.display.HTML object>"
      ]
     },
     "metadata": {
      "tags": []
     },
     "output_type": "display_data"
    }
   ],
   "source": [
    "learn.freeze_to(-2)\n",
    "learn.load('AA_char_lm_body_1');\n",
    "learn.fit_one_cycle(1, 1e-2)\n",
    "learn.save('AA_char_lm_body_2');"
   ]
  },
  {
   "cell_type": "code",
   "execution_count": 0,
   "metadata": {
    "colab": {
     "base_uri": "https://localhost:8080/",
     "height": 80
    },
    "colab_type": "code",
    "id": "JjbM3yxDlpSc",
    "outputId": "741ddfe8-c664-4687-ee99-5cc5132e5e04"
   },
   "outputs": [
    {
     "data": {
      "text/html": [
       "<table border=\"1\" class=\"dataframe\">\n",
       "  <thead>\n",
       "    <tr style=\"text-align: left;\">\n",
       "      <th>epoch</th>\n",
       "      <th>train_loss</th>\n",
       "      <th>valid_loss</th>\n",
       "      <th>accuracy</th>\n",
       "      <th>time</th>\n",
       "    </tr>\n",
       "  </thead>\n",
       "  <tbody>\n",
       "    <tr>\n",
       "      <td>0</td>\n",
       "      <td>1.320679</td>\n",
       "      <td>1.265346</td>\n",
       "      <td>0.624954</td>\n",
       "      <td>54:42</td>\n",
       "    </tr>\n",
       "  </tbody>\n",
       "</table>"
      ],
      "text/plain": [
       "<IPython.core.display.HTML object>"
      ]
     },
     "metadata": {
      "tags": []
     },
     "output_type": "display_data"
    }
   ],
   "source": [
    "learn.freeze_to(-3)\n",
    "learn.fit_one_cycle(1, 1e-2)\n",
    "learn.save('AA_char_lm_body_3');"
   ]
  },
  {
   "cell_type": "code",
   "execution_count": 0,
   "metadata": {
    "colab": {
     "base_uri": "https://localhost:8080/",
     "height": 80
    },
    "colab_type": "code",
    "id": "-UIzGQrVLsKA",
    "outputId": "caab718f-1d93-4dc5-9c20-01151ccdfd33"
   },
   "outputs": [
    {
     "data": {
      "text/html": [
       "<table border=\"1\" class=\"dataframe\">\n",
       "  <thead>\n",
       "    <tr style=\"text-align: left;\">\n",
       "      <th>epoch</th>\n",
       "      <th>train_loss</th>\n",
       "      <th>valid_loss</th>\n",
       "      <th>accuracy</th>\n",
       "      <th>time</th>\n",
       "    </tr>\n",
       "  </thead>\n",
       "  <tbody>\n",
       "    <tr>\n",
       "      <td>0</td>\n",
       "      <td>1.309118</td>\n",
       "      <td>1.253054</td>\n",
       "      <td>0.628506</td>\n",
       "      <td>54:48</td>\n",
       "    </tr>\n",
       "  </tbody>\n",
       "</table>"
      ],
      "text/plain": [
       "<IPython.core.display.HTML object>"
      ]
     },
     "metadata": {
      "tags": []
     },
     "output_type": "display_data"
    }
   ],
   "source": [
    "learn.fit_one_cycle(1, 1e-2)\n",
    "learn.save('AA_char_lm_body_4');"
   ]
  },
  {
   "cell_type": "code",
   "execution_count": 0,
   "metadata": {
    "colab": {
     "base_uri": "https://localhost:8080/",
     "height": 77
    },
    "colab_type": "code",
    "id": "S_XyXVzOlpDI",
    "outputId": "f072e758-66e0-469f-a084-ee8ac4478c59"
   },
   "outputs": [
    {
     "data": {
      "text/html": [
       "<table border=\"1\" class=\"dataframe\">\n",
       "  <thead>\n",
       "    <tr style=\"text-align: left;\">\n",
       "      <th>epoch</th>\n",
       "      <th>train_loss</th>\n",
       "      <th>valid_loss</th>\n",
       "      <th>accuracy</th>\n",
       "      <th>time</th>\n",
       "    </tr>\n",
       "  </thead>\n",
       "  <tbody>\n",
       "    <tr>\n",
       "      <td>0</td>\n",
       "      <td>1.288748</td>\n",
       "      <td>1.248521</td>\n",
       "      <td>0.629602</td>\n",
       "      <td>57:10</td>\n",
       "    </tr>\n",
       "  </tbody>\n",
       "</table>"
      ],
      "text/plain": [
       "<IPython.core.display.HTML object>"
      ]
     },
     "metadata": {
      "tags": []
     },
     "output_type": "display_data"
    }
   ],
   "source": [
    "learn.load('AA_char_lm_body_4');\n",
    "learn.unfreeze()\n",
    "learn.fit_one_cycle(1, 1e-2) \n",
    "learn.save('AA_char_lm_body_5');"
   ]
  },
  {
   "cell_type": "code",
   "execution_count": 0,
   "metadata": {
    "colab": {
     "base_uri": "https://localhost:8080/",
     "height": 77
    },
    "colab_type": "code",
    "id": "u_hQzu5qLvoR",
    "outputId": "75274d7f-7215-461f-e90c-f7cd32131caf"
   },
   "outputs": [
    {
     "data": {
      "text/html": [
       "<table border=\"1\" class=\"dataframe\">\n",
       "  <thead>\n",
       "    <tr style=\"text-align: left;\">\n",
       "      <th>epoch</th>\n",
       "      <th>train_loss</th>\n",
       "      <th>valid_loss</th>\n",
       "      <th>accuracy</th>\n",
       "      <th>time</th>\n",
       "    </tr>\n",
       "  </thead>\n",
       "  <tbody>\n",
       "    <tr>\n",
       "      <td>0</td>\n",
       "      <td>1.283839</td>\n",
       "      <td>1.244428</td>\n",
       "      <td>0.630837</td>\n",
       "      <td>56:57</td>\n",
       "    </tr>\n",
       "  </tbody>\n",
       "</table>"
      ],
      "text/plain": [
       "<IPython.core.display.HTML object>"
      ]
     },
     "metadata": {
      "tags": []
     },
     "output_type": "display_data"
    }
   ],
   "source": [
    "learn.fit_one_cycle(1, 1e-2)\n",
    "learn.save('AA_char_lm_body_6')"
   ]
  },
  {
   "cell_type": "code",
   "execution_count": 0,
   "metadata": {
    "colab": {
     "base_uri": "https://localhost:8080/",
     "height": 77
    },
    "colab_type": "code",
    "id": "-LlENpQpm5nR",
    "outputId": "6e66f54a-c294-4fee-a716-f2d6bcc471d8"
   },
   "outputs": [
    {
     "data": {
      "text/html": [
       "<table border=\"1\" class=\"dataframe\">\n",
       "  <thead>\n",
       "    <tr style=\"text-align: left;\">\n",
       "      <th>epoch</th>\n",
       "      <th>train_loss</th>\n",
       "      <th>valid_loss</th>\n",
       "      <th>accuracy</th>\n",
       "      <th>time</th>\n",
       "    </tr>\n",
       "  </thead>\n",
       "  <tbody>\n",
       "    <tr>\n",
       "      <td>0</td>\n",
       "      <td>1.283226</td>\n",
       "      <td>1.240499</td>\n",
       "      <td>0.631907</td>\n",
       "      <td>56:52</td>\n",
       "    </tr>\n",
       "  </tbody>\n",
       "</table>"
      ],
      "text/plain": [
       "<IPython.core.display.HTML object>"
      ]
     },
     "metadata": {
      "tags": []
     },
     "output_type": "display_data"
    }
   ],
   "source": [
    "learn.fit_one_cycle(1, 1e-2)\n",
    "learn.save('AA_char_lm_body_7')"
   ]
  },
  {
   "cell_type": "code",
   "execution_count": 0,
   "metadata": {
    "colab": {
     "base_uri": "https://localhost:8080/",
     "height": 77
    },
    "colab_type": "code",
    "id": "z9wWtGt7qugE",
    "outputId": "e8b8e5df-beb7-410e-ba06-403ecbcc9da5"
   },
   "outputs": [
    {
     "data": {
      "text/html": [
       "<table border=\"1\" class=\"dataframe\">\n",
       "  <thead>\n",
       "    <tr style=\"text-align: left;\">\n",
       "      <th>epoch</th>\n",
       "      <th>train_loss</th>\n",
       "      <th>valid_loss</th>\n",
       "      <th>accuracy</th>\n",
       "      <th>time</th>\n",
       "    </tr>\n",
       "  </thead>\n",
       "  <tbody>\n",
       "    <tr>\n",
       "      <td>0</td>\n",
       "      <td>1.313221</td>\n",
       "      <td>1.237160</td>\n",
       "      <td>0.632947</td>\n",
       "      <td>56:56</td>\n",
       "    </tr>\n",
       "  </tbody>\n",
       "</table>"
      ],
      "text/plain": [
       "<IPython.core.display.HTML object>"
      ]
     },
     "metadata": {
      "tags": []
     },
     "output_type": "display_data"
    }
   ],
   "source": [
    "learn.fit_one_cycle(1, 1e-2)\n",
    "learn.save('AA_char_lm_body_7')"
   ]
  },
  {
   "cell_type": "code",
   "execution_count": 0,
   "metadata": {
    "colab": {
     "base_uri": "https://localhost:8080/",
     "height": 80
    },
    "colab_type": "code",
    "id": "lQT7Qm9pC-EK",
    "outputId": "48138f60-855c-47ae-8cb2-1f061b43248e"
   },
   "outputs": [
    {
     "data": {
      "text/html": [
       "<table border=\"1\" class=\"dataframe\">\n",
       "  <thead>\n",
       "    <tr style=\"text-align: left;\">\n",
       "      <th>epoch</th>\n",
       "      <th>train_loss</th>\n",
       "      <th>valid_loss</th>\n",
       "      <th>accuracy</th>\n",
       "      <th>time</th>\n",
       "    </tr>\n",
       "  </thead>\n",
       "  <tbody>\n",
       "    <tr>\n",
       "      <td>0</td>\n",
       "      <td>1.264964</td>\n",
       "      <td>1.235085</td>\n",
       "      <td>0.633534</td>\n",
       "      <td>58:45</td>\n",
       "    </tr>\n",
       "  </tbody>\n",
       "</table>"
      ],
      "text/plain": [
       "<IPython.core.display.HTML object>"
      ]
     },
     "metadata": {
      "tags": []
     },
     "output_type": "display_data"
    }
   ],
   "source": [
    "learn.load('AA_char_lm_body_7')\n",
    "learn.fit_one_cycle(1, 1e-2)\n",
    "learn.save('AA_char_lm_body_9')"
   ]
  },
  {
   "cell_type": "code",
   "execution_count": 0,
   "metadata": {
    "colab": {
     "base_uri": "https://localhost:8080/",
     "height": 80
    },
    "colab_type": "code",
    "id": "cU7fcfcNIqZK",
    "outputId": "862276cf-6883-418e-d846-c84d3fae8e16"
   },
   "outputs": [
    {
     "data": {
      "text/html": [
       "<table border=\"1\" class=\"dataframe\">\n",
       "  <thead>\n",
       "    <tr style=\"text-align: left;\">\n",
       "      <th>epoch</th>\n",
       "      <th>train_loss</th>\n",
       "      <th>valid_loss</th>\n",
       "      <th>accuracy</th>\n",
       "      <th>time</th>\n",
       "    </tr>\n",
       "  </thead>\n",
       "  <tbody>\n",
       "    <tr>\n",
       "      <td>0</td>\n",
       "      <td>1.271619</td>\n",
       "      <td>1.233565</td>\n",
       "      <td>0.633966</td>\n",
       "      <td>58:36</td>\n",
       "    </tr>\n",
       "  </tbody>\n",
       "</table>"
      ],
      "text/plain": [
       "<IPython.core.display.HTML object>"
      ]
     },
     "metadata": {
      "tags": []
     },
     "output_type": "display_data"
    }
   ],
   "source": [
    "learn.load('AA_char_lm_body_9')\n",
    "learn.fit_one_cycle(1, 1e-2)\n",
    "learn.save('AA_char_lm_body_10')"
   ]
  },
  {
   "cell_type": "code",
   "execution_count": 0,
   "metadata": {
    "colab": {
     "base_uri": "https://localhost:8080/",
     "height": 80
    },
    "colab_type": "code",
    "id": "VeEXvnNSIqWY",
    "outputId": "50e49dd9-cc49-4c52-fca9-0328355e2fed"
   },
   "outputs": [
    {
     "data": {
      "text/html": [
       "<table border=\"1\" class=\"dataframe\">\n",
       "  <thead>\n",
       "    <tr style=\"text-align: left;\">\n",
       "      <th>epoch</th>\n",
       "      <th>train_loss</th>\n",
       "      <th>valid_loss</th>\n",
       "      <th>accuracy</th>\n",
       "      <th>time</th>\n",
       "    </tr>\n",
       "  </thead>\n",
       "  <tbody>\n",
       "    <tr>\n",
       "      <td>0</td>\n",
       "      <td>1.284968</td>\n",
       "      <td>1.234077</td>\n",
       "      <td>0.633790</td>\n",
       "      <td>58:43</td>\n",
       "    </tr>\n",
       "  </tbody>\n",
       "</table>"
      ],
      "text/plain": [
       "<IPython.core.display.HTML object>"
      ]
     },
     "metadata": {
      "tags": []
     },
     "output_type": "display_data"
    }
   ],
   "source": [
    "learn.fit_one_cycle(1, 1e-2)\n",
    "learn.save('AA_char_lm_body_11')"
   ]
  },
  {
   "cell_type": "code",
   "execution_count": 0,
   "metadata": {
    "colab": {
     "base_uri": "https://localhost:8080/",
     "height": 80
    },
    "colab_type": "code",
    "id": "W6VeuOgr0_sx",
    "outputId": "6a8dd395-2bcd-4472-fd9e-839a7e03bdbe"
   },
   "outputs": [
    {
     "data": {
      "text/html": [
       "<table border=\"1\" class=\"dataframe\">\n",
       "  <thead>\n",
       "    <tr style=\"text-align: left;\">\n",
       "      <th>epoch</th>\n",
       "      <th>train_loss</th>\n",
       "      <th>valid_loss</th>\n",
       "      <th>accuracy</th>\n",
       "      <th>time</th>\n",
       "    </tr>\n",
       "  </thead>\n",
       "  <tbody>\n",
       "    <tr>\n",
       "      <td>0</td>\n",
       "      <td>1.274847</td>\n",
       "      <td>1.230384</td>\n",
       "      <td>0.634880</td>\n",
       "      <td>58:43</td>\n",
       "    </tr>\n",
       "  </tbody>\n",
       "</table>"
      ],
      "text/plain": [
       "<IPython.core.display.HTML object>"
      ]
     },
     "metadata": {
      "tags": []
     },
     "output_type": "display_data"
    }
   ],
   "source": [
    "learn.fit_one_cycle(1, 1e-2)\n",
    "learn.save('AA_char_lm_body_12')"
   ]
  },
  {
   "cell_type": "code",
   "execution_count": 0,
   "metadata": {
    "colab": {},
    "colab_type": "code",
    "id": "8II0TvB0Lvlz"
   },
   "outputs": [],
   "source": [
    "learn.save_encoder('AA_char_lm_enc')"
   ]
  },
  {
   "cell_type": "markdown",
   "metadata": {
    "colab_type": "text",
    "id": "34spzswbXJxZ"
   },
   "source": [
    "### Classifier"
   ]
  },
  {
   "cell_type": "code",
   "execution_count": 0,
   "metadata": {
    "colab": {},
    "colab_type": "code",
    "id": "gHKTorbiJ6C1"
   },
   "outputs": [],
   "source": [
    "data_clas = TextClasDataBunch.from_csv(aa , 'OurDataset_train.csv',  vocab=vocab, bs=bs, tokenizer=tokenizer)\n",
    "data_clas.save('AA_char_clas.pkl')"
   ]
  },
  {
   "cell_type": "code",
   "execution_count": 0,
   "metadata": {
    "colab": {},
    "colab_type": "code",
    "id": "Q24kDVQeXkR2"
   },
   "outputs": [],
   "source": [
    "data_clas = load_data(aa, 'AA_char_clas.pkl',bs=bs)\n",
    "learn_cls = text_classifier_learner(data_clas, AWD_LSTM, drop_mult=0.5, pretrained=False)\n",
    "learn_cls.load_encoder('AA_char_lm_enc')"
   ]
  },
  {
   "cell_type": "code",
   "execution_count": 0,
   "metadata": {
    "colab": {
     "base_uri": "https://localhost:8080/",
     "height": 204
    },
    "colab_type": "code",
    "id": "GuB4eElWXhdP",
    "outputId": "1d5e9d8a-d216-4b3c-9df5-1f9cdab9b6ab"
   },
   "outputs": [
    {
     "data": {
      "text/html": [
       "<table border=\"1\" class=\"dataframe\">\n",
       "  <thead>\n",
       "    <tr style=\"text-align: right;\">\n",
       "      <th>text</th>\n",
       "      <th>target</th>\n",
       "    </tr>\n",
       "  </thead>\n",
       "  <tbody>\n",
       "    <tr>\n",
       "      <td>xxbos x x b o s   এ ক   ন া প ি ত া ন ী   আ স ি ল xxunk   ন া প ি ত া ন ী   স ধ ব া ,   খ া ট ো   র া ঙ ্ গ া প ে ড় ে   স া ড় ী প র</td>\n",
       "      <td>bongkim</td>\n",
       "    </tr>\n",
       "    <tr>\n",
       "      <td>xxbos x x b o s   ক া ট ি ল xxunk   ত া র প র   স হ স া   এ ই   ক ু ণ ্ ঠ ি ত   ন ী র ব ত া   ভ ে দ   ক র ি য় া   ম ন ্ ত ্ xxunk গ ৃ</td>\n",
       "      <td>shordindu</td>\n",
       "    </tr>\n",
       "    <tr>\n",
       "      <td>xxbos x x b o s   ও খ া ন ক া র   ব ্ য ব স ্ থ া   ত ি ন ি   ক র ত ে   প া র ব ে ন xxunk   দ ু ই   ম হ া র া জ   ল ক ্ ষ ্ ম ী ক র</td>\n",
       "      <td>shordindu</td>\n",
       "    </tr>\n",
       "    <tr>\n",
       "      <td>xxbos x x b o s   দ ি গ ন ্ ত ে র   ক া ছ ে xxunk   আ ল ো র   আ ভ া   দ ে খ া   গ ি য় া ছ ি ল   স ে খ া ন ে   ক ্ র ো শ ে র   প র</td>\n",
       "      <td>shordindu</td>\n",
       "    </tr>\n",
       "    <tr>\n",
       "      <td>xxbos x x b o s   ব ু ঝ ি ত ে   প া র ি ল ে ন   ন া xxunk   দ ু র ্ গ া দ া স ে র   স ম ভ ি ব ্ য া হ া র ে   গ ঙ ্ গ া ত ী র ে   আ স</td>\n",
       "      <td>bongkim</td>\n",
       "    </tr>\n",
       "  </tbody>\n",
       "</table>"
      ],
      "text/plain": [
       "<IPython.core.display.HTML object>"
      ]
     },
     "metadata": {
      "tags": []
     },
     "output_type": "display_data"
    }
   ],
   "source": [
    "data_clas.show_batch()"
   ]
  },
  {
   "cell_type": "code",
   "execution_count": 0,
   "metadata": {
    "colab": {
     "base_uri": "https://localhost:8080/",
     "height": 300
    },
    "colab_type": "code",
    "id": "u-cnT0EbXkOj",
    "outputId": "b74310a9-43db-47e8-cb98-f1fc3b97a819"
   },
   "outputs": [
    {
     "data": {
      "text/html": [],
      "text/plain": [
       "<IPython.core.display.HTML object>"
      ]
     },
     "metadata": {
      "tags": []
     },
     "output_type": "display_data"
    },
    {
     "name": "stdout",
     "output_type": "stream",
     "text": [
      "LR Finder is complete, type {learner_name}.recorder.plot() to see the graph.\n"
     ]
    },
    {
     "data": {
      "image/png": "[encoded data removed]",
      "text/plain": [
       "<Figure size 432x288 with 1 Axes>"
      ]
     },
     "metadata": {
      "tags": []
     },
     "output_type": "display_data"
    }
   ],
   "source": [
    "learn_cls.freeze()\n",
    "learn_cls.lr_find()\n",
    "learn_cls.recorder.plot()"
   ]
  },
  {
   "cell_type": "code",
   "execution_count": 0,
   "metadata": {
    "colab": {
     "base_uri": "https://localhost:8080/",
     "height": 111
    },
    "colab_type": "code",
    "id": "uQkxLqY7XkK2",
    "outputId": "4ebfa1cf-9ce6-4ee2-e5fa-6ff92bde10c5"
   },
   "outputs": [
    {
     "data": {
      "text/html": [
       "<table border=\"1\" class=\"dataframe\">\n",
       "  <thead>\n",
       "    <tr style=\"text-align: left;\">\n",
       "      <th>epoch</th>\n",
       "      <th>train_loss</th>\n",
       "      <th>valid_loss</th>\n",
       "      <th>accuracy</th>\n",
       "      <th>time</th>\n",
       "    </tr>\n",
       "  </thead>\n",
       "  <tbody>\n",
       "    <tr>\n",
       "      <td>0</td>\n",
       "      <td>0.505097</td>\n",
       "      <td>0.280998</td>\n",
       "      <td>0.910609</td>\n",
       "      <td>27:55</td>\n",
       "    </tr>\n",
       "    <tr>\n",
       "      <td>1</td>\n",
       "      <td>0.301966</td>\n",
       "      <td>0.188242</td>\n",
       "      <td>0.942261</td>\n",
       "      <td>28:09</td>\n",
       "    </tr>\n",
       "  </tbody>\n",
       "</table>"
      ],
      "text/plain": [
       "<IPython.core.display.HTML object>"
      ]
     },
     "metadata": {
      "tags": []
     },
     "output_type": "display_data"
    }
   ],
   "source": [
    "learn_cls.fit_one_cycle(2, 1e-2, moms=(0.8,0.7))\n",
    "learn_cls.save('char_cls_1')"
   ]
  },
  {
   "cell_type": "code",
   "execution_count": 0,
   "metadata": {
    "colab": {
     "base_uri": "https://localhost:8080/",
     "height": 111
    },
    "colab_type": "code",
    "id": "Xgb6IbvTXkH1",
    "outputId": "67ef807f-4d0c-4f41-8e26-03e80604fcce"
   },
   "outputs": [
    {
     "data": {
      "text/html": [
       "<table border=\"1\" class=\"dataframe\">\n",
       "  <thead>\n",
       "    <tr style=\"text-align: left;\">\n",
       "      <th>epoch</th>\n",
       "      <th>train_loss</th>\n",
       "      <th>valid_loss</th>\n",
       "      <th>accuracy</th>\n",
       "      <th>time</th>\n",
       "    </tr>\n",
       "  </thead>\n",
       "  <tbody>\n",
       "    <tr>\n",
       "      <td>0</td>\n",
       "      <td>0.282003</td>\n",
       "      <td>0.140016</td>\n",
       "      <td>0.955826</td>\n",
       "      <td>29:25</td>\n",
       "    </tr>\n",
       "    <tr>\n",
       "      <td>1</td>\n",
       "      <td>0.120881</td>\n",
       "      <td>0.076272</td>\n",
       "      <td>0.978435</td>\n",
       "      <td>29:21</td>\n",
       "    </tr>\n",
       "  </tbody>\n",
       "</table>"
      ],
      "text/plain": [
       "<IPython.core.display.HTML object>"
      ]
     },
     "metadata": {
      "tags": []
     },
     "output_type": "display_data"
    }
   ],
   "source": [
    "learn_cls.load('char_cls_1')\n",
    "learn_cls.freeze_to(-2)\n",
    "learn_cls.fit_one_cycle(2 , slice(1e-2/(2.6**4),1e-2), moms=(0.8,0.7))\n",
    "learn_cls.save('char_cls_2')"
   ]
  },
  {
   "cell_type": "code",
   "execution_count": 0,
   "metadata": {
    "colab": {
     "base_uri": "https://localhost:8080/",
     "height": 107
    },
    "colab_type": "code",
    "id": "4Kvf-xJuXkDV",
    "outputId": "c932d316-ecc9-4134-ea58-1426f6031207"
   },
   "outputs": [
    {
     "data": {
      "text/html": [
       "<table border=\"1\" class=\"dataframe\">\n",
       "  <thead>\n",
       "    <tr style=\"text-align: left;\">\n",
       "      <th>epoch</th>\n",
       "      <th>train_loss</th>\n",
       "      <th>valid_loss</th>\n",
       "      <th>accuracy</th>\n",
       "      <th>time</th>\n",
       "    </tr>\n",
       "  </thead>\n",
       "  <tbody>\n",
       "    <tr>\n",
       "      <td>0</td>\n",
       "      <td>0.104510</td>\n",
       "      <td>0.089910</td>\n",
       "      <td>0.973565</td>\n",
       "      <td>1:00:10</td>\n",
       "    </tr>\n",
       "    <tr>\n",
       "      <td>1</td>\n",
       "      <td>0.062268</td>\n",
       "      <td>0.063222</td>\n",
       "      <td>0.978783</td>\n",
       "      <td>1:00:25</td>\n",
       "    </tr>\n",
       "  </tbody>\n",
       "</table>"
      ],
      "text/plain": [
       "<IPython.core.display.HTML object>"
      ]
     },
     "metadata": {
      "tags": []
     },
     "output_type": "display_data"
    }
   ],
   "source": [
    "learn_cls.load('char_cls_2')\n",
    "learn_cls.freeze_to(-3)\n",
    "learn_cls.fit_one_cycle(2, slice(5e-3/(2.6**4),5e-3), moms=(0.8,0.7))\n",
    "learn_cls.save('char_cls_3')"
   ]
  },
  {
   "cell_type": "code",
   "execution_count": 0,
   "metadata": {
    "colab": {
     "base_uri": "https://localhost:8080/",
     "height": 107
    },
    "colab_type": "code",
    "id": "qXdoSwL2XkAN",
    "outputId": "69fd815e-2367-498c-fd4c-ea9582a80c1c"
   },
   "outputs": [
    {
     "data": {
      "text/html": [
       "<table border=\"1\" class=\"dataframe\">\n",
       "  <thead>\n",
       "    <tr style=\"text-align: left;\">\n",
       "      <th>epoch</th>\n",
       "      <th>train_loss</th>\n",
       "      <th>valid_loss</th>\n",
       "      <th>accuracy</th>\n",
       "      <th>time</th>\n",
       "    </tr>\n",
       "  </thead>\n",
       "  <tbody>\n",
       "    <tr>\n",
       "      <td>0</td>\n",
       "      <td>0.045319</td>\n",
       "      <td>0.051697</td>\n",
       "      <td>0.984696</td>\n",
       "      <td>1:10:14</td>\n",
       "    </tr>\n",
       "    <tr>\n",
       "      <td>1</td>\n",
       "      <td>0.046025</td>\n",
       "      <td>0.053418</td>\n",
       "      <td>0.983304</td>\n",
       "      <td>1:10:15</td>\n",
       "    </tr>\n",
       "  </tbody>\n",
       "</table>"
      ],
      "text/plain": [
       "<IPython.core.display.HTML object>"
      ]
     },
     "metadata": {
      "tags": []
     },
     "output_type": "display_data"
    }
   ],
   "source": [
    "learn_cls.load('char_cls_3')\n",
    "learn_cls.unfreeze()\n",
    "learn_cls.fit_one_cycle(2, slice(1e-3/(2.6**4),1e-3), moms=(0.8,0.7))\n",
    "learn_cls.save('char_cls_4')"
   ]
  },
  {
   "cell_type": "code",
   "execution_count": 10,
   "metadata": {
    "colab": {
     "base_uri": "https://localhost:8080/",
     "height": 107
    },
    "colab_type": "code",
    "id": "Y-xbJ5gtX_8Z",
    "outputId": "184214fb-3419-42b4-9f02-facd172608a9"
   },
   "outputs": [
    {
     "data": {
      "text/html": [
       "<table border=\"1\" class=\"dataframe\">\n",
       "  <thead>\n",
       "    <tr style=\"text-align: left;\">\n",
       "      <th>epoch</th>\n",
       "      <th>train_loss</th>\n",
       "      <th>valid_loss</th>\n",
       "      <th>accuracy</th>\n",
       "      <th>time</th>\n",
       "    </tr>\n",
       "  </thead>\n",
       "  <tbody>\n",
       "    <tr>\n",
       "      <td>0</td>\n",
       "      <td>0.037111</td>\n",
       "      <td>0.048874</td>\n",
       "      <td>0.984348</td>\n",
       "      <td>1:11:10</td>\n",
       "    </tr>\n",
       "    <tr>\n",
       "      <td>1</td>\n",
       "      <td>0.038741</td>\n",
       "      <td>0.049446</td>\n",
       "      <td>0.985739</td>\n",
       "      <td>1:10:58</td>\n",
       "    </tr>\n",
       "  </tbody>\n",
       "</table>"
      ],
      "text/plain": [
       "<IPython.core.display.HTML object>"
      ]
     },
     "metadata": {
      "tags": []
     },
     "output_type": "display_data"
    }
   ],
   "source": [
    "learn_cls.load('char_cls_4')\n",
    "learn_cls.unfreeze()\n",
    "learn_cls.fit_one_cycle(2, slice(1e-3/(2.6**4),1e-3), moms=(0.8,0.7))\n",
    "learn_cls.save('char_cls_5')"
   ]
  },
  {
   "cell_type": "code",
   "execution_count": 0,
   "metadata": {
    "colab": {},
    "colab_type": "code",
    "id": "IO0vnAMuX4aF"
   },
   "outputs": [],
   "source": [
    "def testing(dts):\n",
    "  df = pd.read_csv(dts) \n",
    "  text_array = df[\"text\"].tolist()\n",
    "  print(len(text_array))\n",
    "\n",
    "  final_preds = []\n",
    "\n",
    "  for text in text_array:\n",
    "      preds = learn_cls.predict(text)\n",
    "      final_preds.append(str(preds[0]))\n",
    "\n",
    "  targets = df[\"label\"].tolist()\n",
    "\n",
    "  err=[]\n",
    "  count =0;\n",
    "  tst = len(text_array)\n",
    "\n",
    "  for i in range(tst):\n",
    "      if(targets[i]==final_preds[i]):\n",
    "          count = count+1\n",
    "      else:\n",
    "  #         print(targets[i] + \", \" + final_preds[i] + ';')\n",
    "          err.append((targets[i],final_preds[i]))\n",
    "  print(\"Accuracy: \")\n",
    "  print(count/tst)\n",
    "  print(err)\n",
    "  return final_preds, targets"
   ]
  },
  {
   "cell_type": "code",
   "execution_count": 12,
   "metadata": {
    "colab": {
     "base_uri": "https://localhost:8080/",
     "height": 107
    },
    "colab_type": "code",
    "id": "2-_wPq4dDYL3",
    "outputId": "39386929-6e6d-4c84-e8c1-219d49baca20"
   },
   "outputs": [
    {
     "name": "stdout",
     "output_type": "stream",
     "text": [
      "3592\n",
      "Accuracy: \n",
      "0.9855233853006682\n",
      "[('shunil_gongopaddhay', 'shirshendu'), ('shottojit_roy', 'tarashonkor'), ('manik_bandhopaddhay', 'shordindu'), ('humayun_ahmed', 'toslima_nasrin'), ('shirshendu', 'shordindu'), ('manik_bandhopaddhay', 'MZI'), ('MZI', 'humayun_ahmed'), ('shorotchandra', 'robindronath'), ('tarashonkor', 'shordindu'), ('toslima_nasrin', 'humayun_ahmed'), ('shunil_gongopaddhay', 'shomresh'), ('shunil_gongopaddhay', 'shomresh'), ('bongkim', 'robindronath'), ('MZI', 'humayun_ahmed'), ('nazrul', 'robindronath'), ('shirshendu', 'shorotchandra'), ('shordindu', 'bongkim'), ('nazrul', 'robindronath'), ('nazrul', 'robindronath'), ('humayun_ahmed', 'shordindu'), ('shunil_gongopaddhay', 'bongkim'), ('bongkim', 'robindronath'), ('shorotchandra', 'nihar_ronjon_gupta'), ('MZI', 'humayun_ahmed'), ('manik_bandhopaddhay', 'shunil_gongopaddhay'), ('shunil_gongopaddhay', 'manik_bandhopaddhay'), ('nazrul', 'robindronath'), ('tarashonkor', 'shorotchandra'), ('shorotchandra', 'tarashonkor'), ('manik_bandhopaddhay', 'shirshendu'), ('shirshendu', 'shunil_gongopaddhay'), ('shordindu', 'robindronath'), ('MZI', 'robindronath'), ('shirshendu', 'robindronath'), ('shomresh', 'humayun_ahmed'), ('toslima_nasrin', 'shordindu'), ('shunil_gongopaddhay', 'tarashonkor'), ('shordindu', 'robindronath'), ('shottojit_roy', 'shordindu'), ('humayun_ahmed', 'shunil_gongopaddhay'), ('shomresh', 'shunil_gongopaddhay'), ('shordindu', 'bongkim'), ('humayun_ahmed', 'shottojit_roy'), ('tarashonkor', 'nihar_ronjon_gupta'), ('manik_bandhopaddhay', 'shordindu'), ('nazrul', 'robindronath'), ('robindronath', 'tarashonkor'), ('tarashonkor', 'shordindu'), ('shirshendu', 'toslima_nasrin'), ('nazrul', 'robindronath'), ('humayun_ahmed', 'shordindu'), ('MZI', 'toslima_nasrin')]\n"
     ]
    }
   ],
   "source": [
    "pred,targ = testing(aa/'OurDataset_test.csv')"
   ]
  },
  {
   "cell_type": "code",
   "execution_count": 13,
   "metadata": {
    "colab": {
     "base_uri": "https://localhost:8080/",
     "height": 34
    },
    "colab_type": "code",
    "id": "46WXP8CIDYL_",
    "outputId": "4c749933-a00b-4413-d6c8-ae7e8a6e8bfa"
   },
   "outputs": [
    {
     "data": {
      "text/plain": [
       "0.9855015023602931"
      ]
     },
     "execution_count": 13,
     "metadata": {
      "tags": []
     },
     "output_type": "execute_result"
    }
   ],
   "source": [
    "from sklearn.metrics import f1_score\n",
    "out  = f1_score(targ, pred, average='weighted')\n",
    "out"
   ]
  },
  {
   "cell_type": "code",
   "execution_count": 14,
   "metadata": {
    "colab": {
     "base_uri": "https://localhost:8080/",
     "height": 176
    },
    "colab_type": "code",
    "id": "4k2PVU_x-QER",
    "outputId": "89136db2-71d4-439b-f884-f2d584eab7f2"
   },
   "outputs": [
    {
     "name": "stdout",
     "output_type": "stream",
     "text": [
      "[[215   0   3   0 ...   0   0   1   0]\n",
      " [  0 110   0   0 ...   0   0   0   0]\n",
      " [  0   0 901   0 ...   1   0   1   0]\n",
      " [  1   0   0  88 ...   1   0   0   0]\n",
      " ...\n",
      " [  0   1   0   1 ... 387   1   0   0]\n",
      " [  0   0   0   0 ...   0 151   0   0]\n",
      " [  0   0   1   0 ...   0   0 184   0]\n",
      " [  0   0   0   0 ...   0   0   0  37]]\n"
     ]
    }
   ],
   "source": [
    "from sklearn.metrics import confusion_matrix\n",
    "cm=confusion_matrix(targ, pred)\n",
    "print(cm)"
   ]
  },
  {
   "cell_type": "code",
   "execution_count": 15,
   "metadata": {
    "colab": {
     "base_uri": "https://localhost:8080/",
     "height": 442
    },
    "colab_type": "code",
    "id": "GHu7TInI-Fkq",
    "outputId": "219eaa95-bda4-46df-cfba-17a083d2deab"
   },
   "outputs": [
    {
     "data": {
      "image/png": "[encoded data removed]",
      "text/plain": [
       "<Figure size 720x504 with 2 Axes>"
      ]
     },
     "metadata": {
      "tags": []
     },
     "output_type": "display_data"
    }
   ],
   "source": [
    "import seaborn as sn\n",
    "\n",
    "df_cm = pd.DataFrame(cm, range(16),range(16))\n",
    "plt.figure(figsize = (10,7))\n",
    "sn.set(font_scale=1.4)#for label size\n",
    "sn.heatmap(df_cm, annot=True,annot_kws={\"size\": 16},fmt='g',cmap=\"YlGnBu\")# font size\n",
    "\n",
    "import matplotlib.pyplot as plt\n",
    "plt.savefig('news_character_AA.eps')"
   ]
  },
  {
   "cell_type": "code",
   "execution_count": 0,
   "metadata": {
    "colab": {},
    "colab_type": "code",
    "id": "OntwzdtC3BMH"
   },
   "outputs": [],
   "source": [
    "from google.colab import files\n",
    "files.download('news_character_AA.eps')"
   ]
  },
  {
   "cell_type": "code",
   "execution_count": 0,
   "metadata": {
    "colab": {},
    "colab_type": "code",
    "id": "6AJSR_4czNQI"
   },
   "outputs": [],
   "source": []
  }
 ],
 "metadata": {
  "accelerator": "GPU",
  "colab": {
   "collapsed_sections": [],
   "name": "News_character_fullAA.ipynb",
   "provenance": [],
   "version": "0.3.2"
  },
  "kernelspec": {
   "display_name": "Python 3",
   "language": "python",
   "name": "python3"
  },
  "language_info": {
   "codemirror_mode": {
    "name": "ipython",
    "version": 3
   },
   "file_extension": ".py",
   "mimetype": "text/x-python",
   "name": "python",
   "nbconvert_exporter": "python",
   "pygments_lexer": "ipython3",
   "version": "3.6.8"
  }
 },
 "nbformat": 4,
 "nbformat_minor": 1
}
